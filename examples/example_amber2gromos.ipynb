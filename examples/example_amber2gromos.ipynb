{
 "cells": [
  {
   "cell_type": "code",
   "execution_count": null,
   "metadata": {},
   "outputs": [],
   "source": [
    "from pygromos.files.gromos_system.ff import forcefield_system\n",
    "from pygromos.files.gromos_system import gromos_system\n",
    "from pygromos.files.gromos_system.ff.amber2gromos import amber2gromos\n",
    "from pygromos.gromos.gromosPP import _gromosPPbase"
   ]
  },
  {
   "cell_type": "code",
   "execution_count": null,
   "metadata": {},
   "outputs": [],
   "source": [
    "# note: ambertools is required. you can install it eg with: conda install -c conda-forge ambertools\n",
    "ff = forcefield_system.forcefield_system(name = \"amberff_gaff\")"
   ]
  },
  {
   "cell_type": "code",
   "execution_count": null,
   "metadata": {},
   "outputs": [],
   "source": [
    "molecule = \"example_files/amber2gromos/aniline.mol2\""
   ]
  },
  {
   "cell_type": "code",
   "execution_count": null,
   "metadata": {},
   "outputs": [],
   "source": [
    "gromosPP_bin_dir = \"/home/salome/PhD/build/gromos++/bin\" #ADAPT HERE"
   ]
  },
  {
   "cell_type": "markdown",
   "metadata": {},
   "source": [
    "# create top + cnf for aniline"
   ]
  },
  {
   "cell_type": "code",
   "execution_count": null,
   "metadata": {},
   "outputs": [],
   "source": [
    "system = gromos_system.Gromos_System(work_folder = \"example_files/amber2gromos\",\n",
    "                                     system_name = \"aniline\",\n",
    "                                     Forcefield = ff,\n",
    "                                     auto_convert = True,\n",
    "                                     in_mol2_file = molecule,\n",
    "                                     in_gromosPP_bin_dir = gromosPP_bin_dir)"
   ]
  },
  {
   "cell_type": "markdown",
   "metadata": {},
   "source": [
    "# create top + cnf for aniline, solvated in CHCl3"
   ]
  },
  {
   "cell_type": "code",
   "execution_count": null,
   "metadata": {},
   "outputs": [],
   "source": [
    "amber2gromos.solvate = True\n",
    "amber2gromos.solventbox = \"CHCL3BOX\""
   ]
  },
  {
   "cell_type": "code",
   "execution_count": null,
   "metadata": {},
   "outputs": [],
   "source": [
    "system = gromos_system.Gromos_System(work_folder = \"example_files/ambertools_pipeline\",\n",
    "                                     system_name = \"aniline\",\n",
    "                                     Forcefield = ff,\n",
    "                                     auto_convert = True,\n",
    "                                     in_mol2_file = molecule,\n",
    "                                     in_gromosPP_bin_dir = gromosPP_bin_dir)"
   ]
  },
  {
   "cell_type": "markdown",
   "metadata": {},
   "source": [
    "# create top + cnf for aniline, solvated in TIP3P water"
   ]
  },
  {
   "cell_type": "code",
   "execution_count": null,
   "metadata": {},
   "outputs": [],
   "source": [
    "amber2gromos.solventbox = \"TIP3PBOX\""
   ]
  },
  {
   "cell_type": "code",
   "execution_count": null,
   "metadata": {},
   "outputs": [],
   "source": [
    "system = gromos_system.Gromos_System(work_folder = \"example_files/ambertools_pipeline\",\n",
    "                                     system_name = \"aniline\",\n",
    "                                     Forcefield = ff,\n",
    "                                     auto_convert = True,\n",
    "                                     in_mol2_file = molecule,\n",
    "                                     in_gromosPP_bin_dir = gromosPP_bin_dir)"
   ]
  },
  {
   "cell_type": "code",
   "execution_count": null,
   "metadata": {},
   "outputs": [],
   "source": []
  },
  {
   "cell_type": "code",
   "execution_count": null,
   "metadata": {},
   "outputs": [],
   "source": []
  }
 ],
 "metadata": {
  "language_info": {
   "name": "python"
  }
 },
 "nbformat": 4,
 "nbformat_minor": 4
}
