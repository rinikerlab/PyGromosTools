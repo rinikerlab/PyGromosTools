{
 "cells": [
  {
   "cell_type": "markdown",
   "id": "72f1ce38-58d7-4a3b-9d3a-dce74d35aa63",
   "metadata": {
    "tags": []
   },
   "source": [
    "### Example For Calculation of Self Solvation Free Energy"
   ]
  },
  {
   "cell_type": "markdown",
   "id": "75236443-70b8-4449-80b2-25860d238d7f",
   "metadata": {},
   "source": [
    "#### Do Imports"
   ]
  },
  {
   "cell_type": "code",
   "execution_count": 1,
   "id": "94d48e51-6f17-4dec-ac58-a9fc8e5f43f8",
   "metadata": {},
   "outputs": [
    {
     "name": "stderr",
     "output_type": "stream",
     "text": [
      "Warning: Unable to load toolkit 'OpenEye Toolkit'. The Open Force Field Toolkit does not require the OpenEye Toolkits, and can use RDKit/AmberTools instead. However, if you have a valid license for the OpenEye Toolkits, consider installing them for faster performance and additional file format support: https://docs.eyesopen.com/toolkits/python/quickstart-python/linuxosx.html OpenEye offers free Toolkit licenses for academics: https://www.eyesopen.com/academic-licensing\n"
     ]
    }
   ],
   "source": [
    "from rdkit import Chem\n",
    "from pygromos.files.gromos_system.ff.forcefield_system import forcefield_system\n",
    "from pygromos.simulations.approaches.solvation_free_energy_calculation.solvation_free_energy import Solvation_free_energy_calculation"
   ]
  },
  {
   "cell_type": "markdown",
   "id": "052c5ab1-b4e7-4b35-bff8-7b59ed59208b",
   "metadata": {},
   "source": [
    "#### Choose Molecule to run calculation for"
   ]
  },
  {
   "cell_type": "code",
   "execution_count": 2,
   "id": "5df95e95-01e7-4092-85e3-e3cf1323981b",
   "metadata": {},
   "outputs": [],
   "source": [
    "smiles = \"c1ccccc1\""
   ]
  },
  {
   "cell_type": "markdown",
   "id": "ba09b82b-1c1f-48ef-be77-0b0f91d126ed",
   "metadata": {},
   "source": [
    "#### Calculate or set the number of atoms"
   ]
  },
  {
   "cell_type": "code",
   "execution_count": 3,
   "id": "33111f11-e8c1-4d4d-b069-f3b47f709bed",
   "metadata": {},
   "outputs": [],
   "source": [
    "mol = Chem.MolFromSmiles(smiles)\n",
    "mol = Chem.AddHs(mol)\n",
    "number_of_atoms = mol.GetNumAtoms()"
   ]
  },
  {
   "cell_type": "markdown",
   "id": "b6e2e24b-e946-4e3d-8d26-73a4406ed3b3",
   "metadata": {},
   "source": [
    "#### Create The Solvation free energy calculation system"
   ]
  },
  {
   "cell_type": "code",
   "execution_count": 4,
   "id": "4d40ad51-654a-4594-b4a3-2133a369abe3",
   "metadata": {},
   "outputs": [
    {
     "name": "stdout",
     "output_type": "stream",
     "text": [
      "Found off: /home/kpaul/anaconda3/envs/pygromos/lib/python3.8/site-packages/PyGromos-2.0+114.g29c0d08-py3.8.egg/pygromos/data/ff/SMIRNOFF/openff_unconstrained-2.0.0.offxml\n"
     ]
    },
    {
     "name": "stderr",
     "output_type": "stream",
     "text": [
      "/bin/bash: /home/kpaul/anaconda3/envs/pygromos/lib/libtinfo.so.6: no version information available (required by /bin/bash)\n",
      "/bin/bash: /home/kpaul/anaconda3/envs/pygromos/lib/libtinfo.so.6: no version information available (required by /bin/bash)\n",
      "/bin/bash: /home/kpaul/anaconda3/envs/pygromos/lib/libtinfo.so.6: no version information available (required by /bin/bash)\n",
      "/bin/bash: /home/kpaul/anaconda3/envs/pygromos/lib/libtinfo.so.6: no version information available (required by /bin/bash)\n",
      "/bin/bash: /home/kpaul/anaconda3/envs/pygromos/lib/libtinfo.so.6: no version information available (required by /bin/bash)\n",
      "/bin/bash: /home/kpaul/anaconda3/envs/pygromos/lib/libtinfo.so.6: no version information available (required by /bin/bash)\n"
     ]
    },
    {
     "name": "stdout",
     "output_type": "stream",
     "text": [
      "Found off: /home/kpaul/anaconda3/envs/pygromos/lib/python3.8/site-packages/PyGromos-2.0+114.g29c0d08-py3.8.egg/pygromos/data/ff/SMIRNOFF/openff_unconstrained-2.0.0.offxml\n",
      "File imd is empty , can not be written!\n",
      "File imd is empty , can not be written!\n",
      "Amber Scling is enabled\n"
     ]
    },
    {
     "name": "stderr",
     "output_type": "stream",
     "text": [
      "/bin/bash: /home/kpaul/anaconda3/envs/pygromos/lib/libtinfo.so.6: no version information available (required by /bin/bash)\n",
      "/bin/bash: /home/kpaul/anaconda3/envs/pygromos/lib/libtinfo.so.6: no version information available (required by /bin/bash)\n",
      "/bin/bash: /home/kpaul/anaconda3/envs/pygromos/lib/libtinfo.so.6: no version information available (required by /bin/bash)\n",
      "/bin/bash: /home/kpaul/anaconda3/envs/pygromos/lib/libtinfo.so.6: no version information available (required by /bin/bash)\n",
      "/bin/bash: /home/kpaul/anaconda3/envs/pygromos/lib/libtinfo.so.6: no version information available (required by /bin/bash)\n",
      "/bin/bash: /home/kpaul/anaconda3/envs/pygromos/lib/libtinfo.so.6: no version information available (required by /bin/bash)\n",
      "/home/kpaul/anaconda3/envs/pygromos/lib/python3.8/site-packages/PyGromos-2.0+114.g29c0d08-py3.8.egg/pygromos/files/gromos_system/gromos_system.py:570: UserWarning: Did not change file path as its only promised None\n",
      "  if(self.verbose or True): warnings.warn(\"Did not change file path as its only promised \" + str(file_obj.path))\n",
      "/home/kpaul/anaconda3/envs/pygromos/lib/python3.8/site-packages/PyGromos-2.0+114.g29c0d08-py3.8.egg/pygromos/simulations/approaches/solvation_free_energy_calculation/solvation_free_energy.py:135: UserWarning: Folder does already exist\n",
      "  warnings.warn(\"Folder does already exist\")\n"
     ]
    }
   ],
   "source": [
    "workfolder = \"/home/kpaul/pygromos_new_fork/PyGromosTools/testbench3\"\n",
    "sf = Solvation_free_energy_calculation(input_system=smiles, # Gromos_System, SMILES (str) or rdkit Mol\n",
    "                                       work_folder=workfolder, # Folder to do calculations in\n",
    "                                       system_name=smiles, # Name of the system (does not need to be smiles but convenient)\n",
    "                                       forcefield=forcefield_system(\"openforcefield\"), # Force field to use\n",
    "                                       density=789, # density of the liquid in kg/L\n",
    "                                       num_molecules=512, # number of molecules used for the calculation\n",
    "                                       num_atoms=number_of_atoms, # number of atoms in one molecule\n",
    "                                       nmpi=1, nomp=1, # number of mpi and omp cores\n",
    "                                       subsystem=\"local\", # Subsystem to use for calculation local or lsf\n",
    "                                       amberscaling=True) # Whether to use amberscaling (for openforcefield recommended)"
   ]
  },
  {
   "cell_type": "markdown",
   "id": "b2f60e6e-ddd6-4083-94c7-34b34703e3ab",
   "metadata": {},
   "source": [
    "#### Create Liquid"
   ]
  },
  {
   "cell_type": "code",
   "execution_count": 5,
   "id": "014136a1-8d0b-435c-b7d9-65c53e93d6b6",
   "metadata": {},
   "outputs": [
    {
     "name": "stderr",
     "output_type": "stream",
     "text": [
      "/home/kpaul/anaconda3/envs/pygromos/lib/python3.8/site-packages/PyGromos-2.0+114.g29c0d08-py3.8.egg/pygromos/simulations/approaches/solvation_free_energy_calculation/solvation_free_energy.py:214: UserWarning: Folder does already exist\n",
      "  warnings.warn(\"Folder does already exist\")\n"
     ]
    },
    {
     "name": "stdout",
     "output_type": "stream",
     "text": [
      "File imd is empty , can not be written!\n"
     ]
    }
   ],
   "source": [
    "sf.create_liq()"
   ]
  },
  {
   "cell_type": "markdown",
   "id": "5837a049-0596-46bd-89f6-5b48e32abb0b",
   "metadata": {},
   "source": [
    "#### Minimize Liquid"
   ]
  },
  {
   "cell_type": "code",
   "execution_count": 7,
   "id": "d2e42771-a59f-4cc8-a8fe-cfcd4594bf2a",
   "metadata": {},
   "outputs": [
    {
     "name": "stdout",
     "output_type": "stream",
     "text": [
      "################################################################################\n",
      "\n",
      "c1ccccc1_emin\n",
      "################################################################################\n",
      "\n",
      "============================================================\n",
      "FOUND RESULT: /home/kpaul/pygromos_new_fork/PyGromosTools/testbench3/c1ccccc1_liq/c1ccccc1_emin/analysis/data/c1ccccc1_emin.cnf\n",
      " GOING TO SKIPT THIS SUBMISSION!\n"
     ]
    }
   ],
   "source": [
    "emin_sys, jobID = sf.minimize_liq(in_gromos_simulation_system=sf.groSys_liq,prev_JobID=-1)"
   ]
  },
  {
   "cell_type": "markdown",
   "id": "00828090-cfe4-4a5f-95b8-e95888601c00",
   "metadata": {},
   "source": [
    "#### Change the number of cores for longer runs"
   ]
  },
  {
   "cell_type": "code",
   "execution_count": 8,
   "id": "fa47f5ce-5bcb-4ead-8dfe-1e8daeac6ce7",
   "metadata": {},
   "outputs": [],
   "source": [
    "sf.nmpi = 8"
   ]
  },
  {
   "cell_type": "markdown",
   "id": "8378b895-17f6-4afa-bb4f-4b970d6ee7fe",
   "metadata": {},
   "source": [
    "#### Equilibrate System"
   ]
  },
  {
   "cell_type": "code",
   "execution_count": 9,
   "id": "44e50e70-93fb-4010-bc6f-81cdbce7bbd4",
   "metadata": {},
   "outputs": [
    {
     "name": "stdout",
     "output_type": "stream",
     "text": [
      "################################################################################\n",
      "\n",
      "eqc1ccccc1_eq_1\n",
      "################################################################################\n",
      "\n",
      "============================================================\n",
      "FOUND RESULT: /home/kpaul/pygromos_new_fork/PyGromosTools/testbench3/c1ccccc1_liq/eqc1ccccc1_eq_1/analysis/data/eqc1ccccc1_eq_1.cnf\n",
      " GOING TO SKIPT THIS SUBMISSION!\n",
      "################################################################################\n",
      "\n",
      "eqc1ccccc1_eq_2\n",
      "################################################################################\n",
      "\n",
      "============================================================\n",
      "FOUND RESULT: /home/kpaul/pygromos_new_fork/PyGromosTools/testbench3/c1ccccc1_liq/eqc1ccccc1_eq_2/analysis/data/eqc1ccccc1_eq_2.cnf\n",
      " GOING TO SKIPT THIS SUBMISSION!\n",
      "################################################################################\n",
      "\n",
      "eqc1ccccc1_eq_3\n",
      "################################################################################\n",
      "\n",
      "============================================================\n",
      "FOUND RESULT: /home/kpaul/pygromos_new_fork/PyGromosTools/testbench3/c1ccccc1_liq/eqc1ccccc1_eq_3/analysis/data/eqc1ccccc1_eq_3.cnf\n",
      " GOING TO SKIPT THIS SUBMISSION!\n",
      "################################################################################\n",
      "\n",
      "eqc1ccccc1_eq_4\n",
      "################################################################################\n",
      "\n",
      "============================================================\n",
      "FOUND RESULT: /home/kpaul/pygromos_new_fork/PyGromosTools/testbench3/c1ccccc1_liq/eqc1ccccc1_eq_4/analysis/data/eqc1ccccc1_eq_4.cnf\n",
      " GOING TO SKIPT THIS SUBMISSION!\n",
      "################################################################################\n",
      "\n",
      "eqc1ccccc1_eq_5\n",
      "################################################################################\n",
      "\n",
      "============================================================\n",
      "FOUND RESULT: /home/kpaul/pygromos_new_fork/PyGromosTools/testbench3/c1ccccc1_liq/eqc1ccccc1_eq_5/analysis/data/eqc1ccccc1_eq_5.cnf\n",
      " GOING TO SKIPT THIS SUBMISSION!\n"
     ]
    }
   ],
   "source": [
    "eq_sys, jobID = sf.eq_liq(in_gromos_simulation_system=emin_sys,prev_JobID=jobID)"
   ]
  },
  {
   "cell_type": "markdown",
   "id": "2b48e02f-7e66-4d16-bb7c-05248b4ba7dc",
   "metadata": {},
   "source": [
    "#### Do Ti calculation"
   ]
  },
  {
   "cell_type": "code",
   "execution_count": 10,
   "id": "99c54250-dabe-48fa-a26f-966516569bca",
   "metadata": {},
   "outputs": [
    {
     "name": "stderr",
     "output_type": "stream",
     "text": [
      "/home/kpaul/anaconda3/envs/pygromos/lib/python3.8/site-packages/PyGromos-2.0+114.g29c0d08-py3.8.egg/pygromos/simulations/approaches/solvation_free_energy_calculation/solvation_free_energy.py:415: UserWarning: Folder does already exist\n",
      "  warnings.warn(\"Folder does already exist\")\n"
     ]
    },
    {
     "name": "stdout",
     "output_type": "stream",
     "text": [
      "################################################################################\n",
      "\n",
      "c1ccccc1_L0.0_0\n",
      "################################################################################\n",
      "\n",
      "============================================================\n",
      "FOUND RESULT: /home/kpaul/pygromos_new_fork/PyGromosTools/testbench3/c1ccccc1_liq/ti/c1ccccc1_L0.0_0/c1ccccc1_L0.0_0/analysis/data/c1ccccc1_L0.0_0.cnf\n",
      " GOING TO SKIPT THIS SUBMISSION!\n",
      "################################################################################\n",
      "\n",
      "c1ccccc1_L0.0_1\n",
      "################################################################################\n",
      "\n",
      "============================================================\n",
      "FOUND RESULT: /home/kpaul/pygromos_new_fork/PyGromosTools/testbench3/c1ccccc1_liq/ti/c1ccccc1_L0.0_1/c1ccccc1_L0.0_1/analysis/data/c1ccccc1_L0.0_1.cnf\n",
      " GOING TO SKIPT THIS SUBMISSION!\n",
      "################################################################################\n",
      "\n",
      "c1ccccc1_L0.0_2\n",
      "################################################################################\n",
      "\n",
      "============================================================\n",
      "FOUND RESULT: /home/kpaul/pygromos_new_fork/PyGromosTools/testbench3/c1ccccc1_liq/ti/c1ccccc1_L0.0_2/c1ccccc1_L0.0_2/analysis/data/c1ccccc1_L0.0_2.cnf\n",
      " GOING TO SKIPT THIS SUBMISSION!\n",
      "################################################################################\n",
      "\n",
      "c1ccccc1_L0.25_0\n",
      "################################################################################\n",
      "\n",
      "============================================================\n",
      "FOUND RESULT: /home/kpaul/pygromos_new_fork/PyGromosTools/testbench3/c1ccccc1_liq/ti/c1ccccc1_L0.25_0/c1ccccc1_L0.25_0/analysis/data/c1ccccc1_L0.25_0.cnf\n",
      " GOING TO SKIPT THIS SUBMISSION!\n",
      "################################################################################\n",
      "\n",
      "c1ccccc1_L0.25_1\n",
      "################################################################################\n",
      "\n",
      "============================================================\n",
      "FOUND RESULT: /home/kpaul/pygromos_new_fork/PyGromosTools/testbench3/c1ccccc1_liq/ti/c1ccccc1_L0.25_1/c1ccccc1_L0.25_1/analysis/data/c1ccccc1_L0.25_1.cnf\n",
      " GOING TO SKIPT THIS SUBMISSION!\n",
      "################################################################################\n",
      "\n",
      "c1ccccc1_L0.25_2\n",
      "################################################################################\n",
      "\n",
      "============================================================\n",
      "FOUND RESULT: /home/kpaul/pygromos_new_fork/PyGromosTools/testbench3/c1ccccc1_liq/ti/c1ccccc1_L0.25_2/c1ccccc1_L0.25_2/analysis/data/c1ccccc1_L0.25_2.cnf\n",
      " GOING TO SKIPT THIS SUBMISSION!\n",
      "################################################################################\n",
      "\n",
      "c1ccccc1_L0.5_0\n",
      "################################################################################\n",
      "\n",
      "============================================================\n",
      "FOUND RESULT: /home/kpaul/pygromos_new_fork/PyGromosTools/testbench3/c1ccccc1_liq/ti/c1ccccc1_L0.5_0/c1ccccc1_L0.5_0/analysis/data/c1ccccc1_L0.5_0.cnf\n",
      " GOING TO SKIPT THIS SUBMISSION!\n",
      "################################################################################\n",
      "\n",
      "c1ccccc1_L0.5_1\n",
      "################################################################################\n",
      "\n",
      "============================================================\n",
      "FOUND RESULT: /home/kpaul/pygromos_new_fork/PyGromosTools/testbench3/c1ccccc1_liq/ti/c1ccccc1_L0.5_1/c1ccccc1_L0.5_1/analysis/data/c1ccccc1_L0.5_1.cnf\n",
      " GOING TO SKIPT THIS SUBMISSION!\n",
      "################################################################################\n",
      "\n",
      "c1ccccc1_L0.5_2\n",
      "################################################################################\n",
      "\n",
      "============================================================\n",
      "FOUND RESULT: /home/kpaul/pygromos_new_fork/PyGromosTools/testbench3/c1ccccc1_liq/ti/c1ccccc1_L0.5_2/c1ccccc1_L0.5_2/analysis/data/c1ccccc1_L0.5_2.cnf\n",
      " GOING TO SKIPT THIS SUBMISSION!\n",
      "################################################################################\n",
      "\n",
      "c1ccccc1_L0.75_0\n",
      "################################################################################\n",
      "\n",
      "============================================================\n",
      "FOUND RESULT: /home/kpaul/pygromos_new_fork/PyGromosTools/testbench3/c1ccccc1_liq/ti/c1ccccc1_L0.75_0/c1ccccc1_L0.75_0/analysis/data/c1ccccc1_L0.75_0.cnf\n",
      " GOING TO SKIPT THIS SUBMISSION!\n",
      "################################################################################\n",
      "\n",
      "c1ccccc1_L0.75_1\n",
      "################################################################################\n",
      "\n",
      "============================================================\n",
      "FOUND RESULT: /home/kpaul/pygromos_new_fork/PyGromosTools/testbench3/c1ccccc1_liq/ti/c1ccccc1_L0.75_1/c1ccccc1_L0.75_1/analysis/data/c1ccccc1_L0.75_1.cnf\n",
      " GOING TO SKIPT THIS SUBMISSION!\n",
      "################################################################################\n",
      "\n",
      "c1ccccc1_L0.75_2\n",
      "################################################################################\n",
      "\n",
      "============================================================\n",
      "FOUND RESULT: /home/kpaul/pygromos_new_fork/PyGromosTools/testbench3/c1ccccc1_liq/ti/c1ccccc1_L0.75_2/c1ccccc1_L0.75_2/analysis/data/c1ccccc1_L0.75_2.cnf\n",
      " GOING TO SKIPT THIS SUBMISSION!\n",
      "################################################################################\n",
      "\n",
      "c1ccccc1_L1.0_0\n",
      "################################################################################\n",
      "\n",
      "============================================================\n",
      "FOUND RESULT: /home/kpaul/pygromos_new_fork/PyGromosTools/testbench3/c1ccccc1_liq/ti/c1ccccc1_L1.0_0/c1ccccc1_L1.0_0/analysis/data/c1ccccc1_L1.0_0.cnf\n",
      " GOING TO SKIPT THIS SUBMISSION!\n",
      "################################################################################\n",
      "\n",
      "c1ccccc1_L1.0_1\n",
      "################################################################################\n",
      "\n",
      "============================================================\n",
      "FOUND RESULT: /home/kpaul/pygromos_new_fork/PyGromosTools/testbench3/c1ccccc1_liq/ti/c1ccccc1_L1.0_1/c1ccccc1_L1.0_1/analysis/data/c1ccccc1_L1.0_1.cnf\n",
      " GOING TO SKIPT THIS SUBMISSION!\n",
      "################################################################################\n",
      "\n",
      "c1ccccc1_L1.0_2\n",
      "################################################################################\n",
      "\n",
      "============================================================\n",
      "FOUND RESULT: /home/kpaul/pygromos_new_fork/PyGromosTools/testbench3/c1ccccc1_liq/ti/c1ccccc1_L1.0_2/c1ccccc1_L1.0_2/analysis/data/c1ccccc1_L1.0_2.cnf\n",
      " GOING TO SKIPT THIS SUBMISSION!\n"
     ]
    }
   ],
   "source": [
    "ti_sys, jobID = sf.ti_liq(in_gromos_simulation_system=eq_sys,\n",
    "                          prev_JobID=jobID,\n",
    "                          n_points=5) # Number of Lambda points to calculate (typically 21)"
   ]
  },
  {
   "cell_type": "markdown",
   "id": "ac9fc432-63ff-476a-aeb4-b1fe028873e8",
   "metadata": {},
   "source": [
    "#### Read out results"
   ]
  },
  {
   "cell_type": "code",
   "execution_count": 11,
   "id": "0ae0200b-7c7f-4a74-94e5-b7801f31b6ba",
   "metadata": {},
   "outputs": [
    {
     "name": "stderr",
     "output_type": "stream",
     "text": [
      "/home/kpaul/anaconda3/envs/pygromos/lib/python3.8/site-packages/pandas/core/generic.py:2703: PerformanceWarning: \n",
      "your performance may suffer as PyTables will pickle object types that it cannot\n",
      "map directly to c-types [inferred_type->mixed,key->block2_values] [items->Index(['lambda', 'totals', 'baths', 'bonded', 'nonbonded', 'special', 'eds',\n",
      "       'precalclam'],\n",
      "      dtype='object')]\n",
      "\n",
      "  pytables.to_hdf(\n"
     ]
    },
    {
     "name": "stdout",
     "output_type": "stream",
     "text": [
      "   Lambda        avg       rmsd        ee\n",
      "0    0.00  31.257825   6.455767  0.482510\n",
      "1    0.25 -14.987395  14.602506  0.543161\n",
      "2    0.50  31.861698  24.305928  0.411241\n",
      "3    0.75  55.893268  45.723446  3.582326\n",
      "4    1.00  30.283032  18.442700  1.352284\n",
      "Solvation Free Energy: -24.07397894588648 pm -1.5966018745584094\n"
     ]
    },
    {
     "data": {
      "text/plain": [
       "(-24.07397894588648, -1.5966018745584094)"
      ]
     },
     "execution_count": 11,
     "metadata": {},
     "output_type": "execute_result"
    }
   ],
   "source": [
    "sf.calculate_solvation_free_energy(n_points=5) # Number of Lambda points to use for calculation (typically 21)"
   ]
  }
 ],
 "metadata": {
  "kernelspec": {
   "display_name": "Python 3 (ipykernel)",
   "language": "python",
   "name": "python3"
  },
  "language_info": {
   "codemirror_mode": {
    "name": "ipython",
    "version": 3
   },
   "file_extension": ".py",
   "mimetype": "text/x-python",
   "name": "python",
   "nbconvert_exporter": "python",
   "pygments_lexer": "ipython3",
   "version": "3.8.5"
  }
 },
 "nbformat": 4,
 "nbformat_minor": 5
}
