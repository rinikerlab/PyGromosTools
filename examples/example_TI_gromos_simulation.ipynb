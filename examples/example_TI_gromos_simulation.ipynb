{
 "cells": [
  {
   "cell_type": "markdown",
   "metadata": {
    "pycharm": {
     "name": "#%% md\n"
    }
   },
   "source": [
    "# TI Calculation\n"
   ]
  },
  {
   "cell_type": "markdown",
   "metadata": {},
   "source": [
    "## Imports"
   ]
  },
  {
   "cell_type": "code",
   "execution_count": 1,
   "metadata": {},
   "outputs": [
    {
     "data": {
      "application/vnd.jupyter.widget-view+json": {
       "model_id": "8b08379a7de64bdab89c5d9d40b7b545",
       "version_major": 2,
       "version_minor": 0
      },
      "text/plain": []
     },
     "metadata": {},
     "output_type": "display_data"
    }
   ],
   "source": [
    "#for analysis\n",
    "from matplotlib import pyplot as plt\n",
    "%matplotlib inline\n",
    "\n",
    "import os\n",
    "import numpy as np\n",
    "from pygromos.files.gromos_system import Gromos_System\n",
    "from pygromos.simulations.hpc_queuing.submission_systems.local import LOCAL as subSystem\n",
    "from pygromos.files.blocks.imd_blocks import PERTURBATION, WRITETRAJ, DISTANCERES\n",
    "\n",
    "from pygromos.utils import bash"
   ]
  },
  {
   "cell_type": "markdown",
   "metadata": {
    "pycharm": {
     "name": "#%% md\n"
    }
   },
   "source": [
    "## Input files"
   ]
  },
  {
   "cell_type": "code",
   "execution_count": 2,
   "metadata": {},
   "outputs": [],
   "source": [
    "root_dir = os.path.abspath(\"example_files/TI_Calculation\")\n",
    "root_in_dir = root_dir+\"/TI_input\"\n",
    "cnf_path = root_in_dir+\"/M030_6KET.cnf\"\n",
    "top_path = root_in_dir + \"/M030_6KET.top\"\n",
    "disres_path = root_in_dir+\"/M030_6KET.disres\"\n",
    "\n",
    "\n",
    "sys_name = \"M030_to_6KET\"\n",
    "lam = 0\n",
    "\n",
    "project_dir = bash.make_folder(root_dir+\"/\"+sys_name)\n",
    "input_dir = bash.make_folder(project_dir+\"/input\")"
   ]
  },
  {
   "cell_type": "markdown",
   "metadata": {
    "pycharm": {
     "name": "#%% md\n"
    }
   },
   "source": [
    "## Vacuum Simulation\n",
    "\n",
    "### Direction A->B\n",
    "\n",
    "#### Setup:\n",
    "\n",
    "\n",
    "##### Build pertubation file\n"
   ]
  },
  {
   "cell_type": "code",
   "execution_count": 3,
   "metadata": {},
   "outputs": [
    {
     "data": {
      "text/plain": [
       "TITLE\n",
       "Automatic generated pertubation file. \n",
       "\t>>> Generated with PyGromosTools (riniker group) <<<\n",
       "END\n",
       "PERTATOMPARAM\n",
       "# NJLA  \t NPTB =  \t 2 \t \n",
       " \t 26\n",
       "# state_identifiers\n",
       "#  \t state1 \t state2\n",
       "#    NR   RES  NAME  IAC1mass1   CHARGE1  IAC2mass2   CHARGE2    ALPHLJ     ALPHCRF   \n",
       "    1     1    C9    16 15.035    0.05200    22 15.035    0.00000    1.00000    1.00000\n",
       "    2     1    C6    64 12.011    0.21300    22 12.011    0.00000    1.00000    1.00000\n",
       "    3     1    C2    64 12.011   -0.43400    22 12.011    0.00000    1.00000    1.00000\n",
       "    4     1    H2    20 1.008    0.16900    22 1.008    0.00000    1.00000    1.00000\n",
       "    5     1    C4    64 12.011    0.21300    22 12.011    0.00000    1.00000    1.00000\n",
       "    6     1    C7    16 15.035    0.05200    22 15.035    0.00000    1.00000    1.00000\n",
       "    7     1    C1    64 12.011   -0.43400    22 12.011    0.00000    1.00000    1.00000\n",
       "    8     1    H1    20 1.008    0.16900    22 1.008    0.00000    1.00000    1.00000\n",
       "    9     1    C5    64 12.011    0.21300    22 12.011    0.00000    1.00000    1.00000\n",
       "   10     1    C3    64 12.011   -0.43400    22 12.011    0.00000    1.00000    1.00000\n",
       "   11     1    H3    20 1.008    0.16900    22 1.008    0.00000    1.00000    1.00000\n",
       "   12     1    C8    16 15.035    0.05200    22 15.035    0.00000    1.00000    1.00000\n",
       "   13     2    H8    22 1.008    0.00000    59 1.008    0.45800    1.00000    1.00000\n",
       "   14     2    O1    22 15.9994    0.00000    68 15.9994   -0.62000    1.00000    1.00000\n",
       "   15     2    C5    22 12.011    0.00000    64 12.011    0.48400    1.00000    1.00000\n",
       "   16     2    C2    22 12.011    0.00000    64 12.011   -0.35300    1.00000    1.00000\n",
       "   17     2    H2    22 1.008    0.00000    20 1.008    0.18400    1.00000    1.00000\n",
       "   18     2    C1    22 12.011    0.00000    64 12.011   -0.10700    1.00000    1.00000\n",
       "   19     2    H1    22 1.008    0.00000    20 1.008    0.15200    1.00000    1.00000\n",
       "   20     2    C3    22 12.011    0.00000    64 12.011   -0.29800    1.00000    1.00000\n",
       "   21     2    H3    22 1.008    0.00000    20 1.008    0.14200    1.00000    1.00000\n",
       "   22     2    C6    22 12.011    0.00000    64 12.011    0.40300    1.00000    1.00000\n",
       "   23     2    C4    22 12.011    0.00000    64 12.011   -0.53100    1.00000    1.00000\n",
       "   24     2    H4    22 1.008    0.00000    20 1.008    0.19400    1.00000    1.00000\n",
       "   25     2    O2    22 15.9994    0.00000     4 15.9994   -0.38700    1.00000    1.00000\n",
       "   26     2    C7    22 15.035    0.00000    16 15.035    0.27900    1.00000    1.00000\n",
       "END"
      ]
     },
     "execution_count": 3,
     "metadata": {},
     "output_type": "execute_result"
    }
   ],
   "source": [
    "from pygromos.files.topology.ptp import Pertubation_topology\n",
    "from pygromos.files.blocks.topology_blocks import pertubation_lam_state, atom_lam_pertubation_state, PERTATOMPARAM, TITLE\n",
    "\n",
    "\n",
    "#External imd_changes:\n",
    "grom_system = Gromos_System(in_cnf_path=cnf_path, in_top_path=top_path,\n",
    "                            in_disres_path=disres_path,\n",
    "                            system_name=sys_name, work_folder=input_dir)\n",
    "\n",
    "\n",
    "#Build up lambda - States\n",
    "pert_atoms=[]\n",
    "for atom_line in grom_system.top.SOLUTEATOM:\n",
    "    states = {}\n",
    "    phys_state = pertubation_lam_state(IAC=atom_line.IAC, MASS=atom_line.MASS, CHARGE=atom_line.CG)\n",
    "    states = {atom_line.MRES: phys_state }\n",
    "\n",
    "    pert_atom = atom_lam_pertubation_state(atom_line.ATNM,RES=atom_line.MRES,NAME=atom_line.PANM, STATES=states)\n",
    "    pert_atoms.append(pert_atom)\n",
    "pert_atom_block = PERTATOMPARAM(pert_atoms)\n",
    "\n",
    "# Generate ptp file\n",
    "grom_system.ptp = Pertubation_topology(in_value = None)\n",
    "grom_system.ptp.PERTATOMPARAM = pert_atom_block\n",
    "grom_system.ptp.TITLE = TITLE(\"Automatic generated pertubation file. \")\n",
    "\n",
    "grom_system.ptp"
   ]
  },
  {
   "cell_type": "code",
   "execution_count": 4,
   "metadata": {},
   "outputs": [
    {
     "name": "stdout",
     "output_type": "stream",
     "text": [
      "File imd is empty , can not be written!\n"
     ]
    },
    {
     "name": "stderr",
     "output_type": "stream",
     "text": [
      "/home/bries/projects/PyGromosTools/pygromos/files/gromos_system/gromos_system.py:869: UserWarning: Did not change file path as its only promised None\n",
      "  warnings.warn(\"Did not change file path as its only promised \" + str(file_obj.path))\n"
     ]
    },
    {
     "data": {
      "text/plain": [
       "\n",
       "GROMOS SYSTEM: M030_to_6KET\n",
       "################################################################################\n",
       "WORKDIR: /home/bries/projects/PyGromosTools/examples/example_files/TI_Calculation/M030_to_6KET\n",
       "LAST CHECKPOINT: /home/bries/projects/PyGromosTools/examples/example_files/TI_Calculation/M030_to_6KET/initial_startSys.obj\n",
       "\n",
       "GromosXX_bin: None\n",
       "GromosPP_bin: None\n",
       "FILES: \n",
       "\timd: None\n",
       "\ttop: /home/bries/projects/PyGromosTools/examples/example_files/TI_Calculation/M030_to_6KET/M030_to_6KET.top\n",
       "\tcnf: /home/bries/projects/PyGromosTools/examples/example_files/TI_Calculation/M030_to_6KET/M030_to_6KET.cnf\n",
       "\tdisres: /home/bries/projects/PyGromosTools/examples/example_files/TI_Calculation/M030_to_6KET/M030_to_6KET.disres\n",
       "\tptp: /home/bries/projects/PyGromosTools/examples/example_files/TI_Calculation/M030_to_6KET/M030_to_6KET.ptp\n",
       "FUTURE PROMISE: False\n",
       "SYSTEM: \n",
       "\tSolute:\t['M030', '6KET']  resID: [1, 2]  natoms: 26\n",
       "\tSOLVENT:\t[]  nmolecules: 0  natoms: 0\n",
       "\n"
      ]
     },
     "execution_count": 4,
     "metadata": {},
     "output_type": "execute_result"
    }
   ],
   "source": [
    "##Write out all generated files\n",
    "grom_system.rebase_files()\n",
    "grom_system.work_folder = project_dir\n",
    "\n",
    "##save Input System\n",
    "grom_system.save(project_dir+\"/initial_startSys.obj\")\n",
    "grom_system"
   ]
  },
  {
   "cell_type": "markdown",
   "metadata": {},
   "source": [
    "### RUN Emin"
   ]
  },
  {
   "cell_type": "code",
   "execution_count": 6,
   "metadata": {},
   "outputs": [],
   "source": [
    "# PREPARE EMIN\n",
    "## IMPORT\n",
    "from pygromos.data.simulation_parameters_templates import template_emin_vac\n",
    "from pygromos.simulations.modules.preset_simulation_modules import emin\n",
    "\n",
    "step_name  = \"a_emin\" #also the dir_name, out prefix etc.\n",
    "grom_system = Gromos_System.load(project_dir+\"/initial_startSys.obj\")\n",
    "grom_system.imd = template_emin_vac #read template imd\n",
    "\n",
    "#Pertubation for molecules to sim params\n",
    "pert_block  =  PERTURBATION(NTG=1, NRDGL=0, RLAM=lam, DLAMT=0,\n",
    "                            ALPHC=0.5, ALPHLJ=0.5, NLAM=2, NSCALE=0)\n",
    "grom_system.imd.add_block(block=pert_block)\n",
    "\n",
    "#add Distance Res:\n",
    "disres_block = DISTANCERES(NTDIR=1, TAUDIR=1,)\n",
    "grom_system.imd.add_block(block=disres_block)"
   ]
  },
  {
   "cell_type": "code",
   "execution_count": 7,
   "metadata": {},
   "outputs": [
    {
     "name": "stdout",
     "output_type": "stream",
     "text": [
      "################################################################################\n",
      "\n",
      "a_emin\n",
      "################################################################################\n",
      "\n",
      "Script:  /home/bries/projects/PyGromosTools/pygromos/simulations/hpc_queuing/job_scheduling/schedulers/simulation_scheduler.py\n",
      "\n",
      "################################################################################\n",
      "Simulation Setup:\n",
      "################################################################################\n",
      "\n",
      "steps_per_run:  3000\n",
      "equis:  0\n",
      "simulation runs:  1\n",
      "################################################################################\n",
      "\n",
      " submit final analysis part \n",
      "\n",
      "/home/bries/projects/PyGromosTools/examples/example_files/TI_Calculation/M030_to_6KET/a_emin/ana_out.log\n",
      "/home/bries/projects/PyGromosTools/examples/example_files/TI_Calculation/M030_to_6KET/a_emin/job_analysis.py\n",
      "ANA jobID: 0\n"
     ]
    },
    {
     "data": {
      "text/plain": [
       "\n",
       "GROMOS SYSTEM: a_emin\n",
       "################################################################################\n",
       "WORKDIR: /home/bries/projects/PyGromosTools/examples/example_files/TI_Calculation/M030_to_6KET\n",
       "LAST CHECKPOINT: /home/bries/projects/PyGromosTools/examples/example_files/TI_Calculation/M030_to_6KET/emin_out.obj\n",
       "\n",
       "GromosXX_bin: None\n",
       "GromosPP_bin: None\n",
       "FILES: \n",
       "\timd: /home/bries/projects/PyGromosTools/examples/example_files/TI_Calculation/M030_to_6KET/a_emin/input/a_emin.imd\n",
       "\ttop: /home/bries/projects/PyGromosTools/examples/example_files/TI_Calculation/M030_to_6KET/a_emin/input/a_emin.top\n",
       "\tcnf: /home/bries/projects/PyGromosTools/examples/example_files/TI_Calculation/M030_to_6KET/a_emin/analysis/data/a_emin.cnf\n",
       "\tdisres: /home/bries/projects/PyGromosTools/examples/example_files/TI_Calculation/M030_to_6KET/a_emin/input/a_emin.disres\n",
       "\tptp: /home/bries/projects/PyGromosTools/examples/example_files/TI_Calculation/M030_to_6KET/a_emin/input/a_emin.ptp\n",
       "FUTURE PROMISE: True\n",
       "SYSTEM: \n",
       "\tSolute:\t['M030', '6KET']  resID: [1, 2]  natoms: 26\n",
       "\tSOLVENT:\t[]  nmolecules: 0  natoms: 0\n",
       "\n"
      ]
     },
     "execution_count": 7,
     "metadata": {},
     "output_type": "execute_result"
    }
   ],
   "source": [
    "#EXECUTE EMIN\n",
    "emin_gromos_system = emin(in_gromos_system=grom_system, \n",
    "                          step_name=step_name, submission_system=subSystem())\n",
    "\n",
    "emin_gromos_system.save(project_dir+\"/emin_out.obj\")\n",
    "emin_gromos_system"
   ]
  },
  {
   "cell_type": "markdown",
   "metadata": {},
   "source": [
    "## RUN Test SD EQ"
   ]
  },
  {
   "cell_type": "code",
   "execution_count": 8,
   "metadata": {},
   "outputs": [],
   "source": [
    "from pygromos.data.simulation_parameters_templates import template_sd\n",
    "from pygromos.simulations.modules.preset_simulation_modules import sd\n",
    "\n",
    "step_name  = \"b_vacuum_sd\"\n",
    "grom_system = emin_gromos_system\n",
    "grom_system.system_name = step_name\n",
    "grom_system.imd = template_sd\n",
    "\n",
    "#Pertubation\n",
    "pert_block  =  PERTURBATION(NTG=1, NRDGL=0, RLAM=lam, DLAMT=0,\n",
    "                            ALPHC=0.5, ALPHLJ=0.5, NLAM=2, NSCALE=0)\n",
    "grom_system.imd.add_block(block=pert_block)\n",
    "\n",
    "\n",
    "#add Distance Res:\n",
    "disres_block = DISTANCERES(NTDIR=1, TAUDIR=1,)\n",
    "grom_system.imd.add_block(block=disres_block)\n",
    "\n",
    "\n",
    "#write out trajs:\n",
    "write_traj = WRITETRAJ(NTWX=100, NTWE=100)\n",
    "grom_system.imd.add_block(block=write_traj)\n",
    "\n",
    "#further mods:\n",
    "grom_system.imd.CONSTRAINT.NTC = 3\n",
    "grom_system.imd.FORCE.BONDS = 0\n",
    "\n",
    "grom_system.imd.STEP.NSTLIM = 30000\n"
   ]
  },
  {
   "cell_type": "code",
   "execution_count": 9,
   "metadata": {},
   "outputs": [
    {
     "name": "stdout",
     "output_type": "stream",
     "text": [
      "################################################################################\n",
      "\n",
      "b_vacuum_sd\n",
      "################################################################################\n",
      "\n",
      "Script:  /home/bries/projects/PyGromosTools/pygromos/simulations/hpc_queuing/job_scheduling/schedulers/simulation_scheduler.py\n",
      "\n",
      "################################################################################\n",
      "Simulation Setup:\n",
      "################################################################################\n",
      "\n",
      "steps_per_run:  30000\n",
      "equis:  1\n",
      "simulation runs:  1\n",
      "################################################################################\n",
      "\n",
      " submit final analysis part \n",
      "\n",
      "/home/bries/projects/PyGromosTools/examples/example_files/TI_Calculation/M030_to_6KET/b_vacuum_sd/ana_out.log\n",
      "/home/bries/projects/PyGromosTools/examples/example_files/TI_Calculation/M030_to_6KET/b_vacuum_sd/job_analysis.py\n",
      "ANA jobID: 0\n"
     ]
    },
    {
     "data": {
      "text/plain": [
       "\n",
       "GROMOS SYSTEM: b_vacuum_sd\n",
       "################################################################################\n",
       "WORKDIR: /home/bries/projects/PyGromosTools/examples/example_files/TI_Calculation/M030_to_6KET\n",
       "LAST CHECKPOINT: /home/bries/projects/PyGromosTools/examples/example_files/TI_Calculation/M030_to_6KET/sd_out_system.obj\n",
       "\n",
       "GromosXX_bin: None\n",
       "GromosPP_bin: None\n",
       "FILES: \n",
       "\timd: /home/bries/projects/PyGromosTools/examples/example_files/TI_Calculation/M030_to_6KET/b_vacuum_sd/input/b_vacuum_sd.imd\n",
       "\ttop: /home/bries/projects/PyGromosTools/examples/example_files/TI_Calculation/M030_to_6KET/b_vacuum_sd/input/b_vacuum_sd.top\n",
       "\tcnf: /home/bries/projects/PyGromosTools/examples/example_files/TI_Calculation/M030_to_6KET/b_vacuum_sd/analysis/data/b_vacuum_sd.cnf\n",
       "\tdisres: /home/bries/projects/PyGromosTools/examples/example_files/TI_Calculation/M030_to_6KET/b_vacuum_sd/input/b_vacuum_sd.disres\n",
       "\tptp: /home/bries/projects/PyGromosTools/examples/example_files/TI_Calculation/M030_to_6KET/b_vacuum_sd/input/b_vacuum_sd.ptp\n",
       "FUTURE PROMISE: True\n",
       "SYSTEM: \n",
       "\tSolute:\t['M030', '6KET']  resID: [1, 2]  natoms: 26\n",
       "\tSOLVENT:\t[]  nmolecules: 0  natoms: 0\n",
       "\n"
      ]
     },
     "execution_count": 9,
     "metadata": {},
     "output_type": "execute_result"
    }
   ],
   "source": [
    "sd_gromos_system  = sd(in_gromos_system=grom_system, step_name=step_name,\n",
    "                              submission_system=subSystem(), equilibration_runs=1, simulation_runs=1)\n",
    "sd_gromos_system.save(project_dir+\"/sd_out_system.obj\")\n",
    "sd_gromos_system"
   ]
  },
  {
   "cell_type": "markdown",
   "metadata": {
    "pycharm": {
     "name": "#%% md\n"
    }
   },
   "source": [
    "## Further Analysis:"
   ]
  },
  {
   "cell_type": "code",
   "execution_count": 10,
   "metadata": {},
   "outputs": [],
   "source": [
    "#final analysis dir:\n",
    "from pygromos.utils import bash\n",
    "\n",
    "out_ana = project_dir+\"/c_ana\"\n",
    "if(not os.path.exists(out_ana)):\n",
    "    bash.make_folder(out_ana)"
   ]
  },
  {
   "cell_type": "code",
   "execution_count": 11,
   "metadata": {},
   "outputs": [
    {
     "data": {
      "text/plain": [
       "'/home/bries/projects/PyGromosTools/examples/example_files/TI_Calculation/M030_to_6KET'"
      ]
     },
     "execution_count": 11,
     "metadata": {},
     "output_type": "execute_result"
    }
   ],
   "source": [
    "project_dir"
   ]
  },
  {
   "cell_type": "markdown",
   "metadata": {},
   "source": [
    "### Coordinate analysis"
   ]
  },
  {
   "cell_type": "code",
   "execution_count": 12,
   "metadata": {},
   "outputs": [
    {
     "data": {
      "text/plain": [
       "'/home/bries/projects/PyGromosTools/examples/example_files/TI_Calculation/M030_to_6KET/a_emin/analysis/data/a_emin.pdb'"
      ]
     },
     "execution_count": 12,
     "metadata": {},
     "output_type": "execute_result"
    }
   ],
   "source": [
    "from pygromos.files.coord import Cnf\n",
    "in_path=project_dir+\"/a_emin/analysis/data/a_emin.cnf\"\n",
    "cnf_file = Cnf(in_path)\n",
    "cnf_file.write_pdb(in_path.replace(\"cnf\", \"pdb\"))\n"
   ]
  },
  {
   "cell_type": "code",
   "execution_count": 44,
   "metadata": {},
   "outputs": [
    {
     "data": {
      "application/vnd.jupyter.widget-view+json": {
       "model_id": "ff6fe228fa744a4ba71e9ab6b6e98665",
       "version_major": 2,
       "version_minor": 0
      },
      "text/plain": [
       "NGLWidget(n_components=1, picked={'bond': {'atomIndex1': 2, 'atomIndex2': 16, 'bondOrder': 1}, 'atom1': {'inde…"
      ]
     },
     "metadata": {},
     "output_type": "display_data"
    }
   ],
   "source": [
    "cnf_file.view"
   ]
  },
  {
   "cell_type": "code",
   "execution_count": 14,
   "metadata": {},
   "outputs": [
    {
     "name": "stderr",
     "output_type": "stream",
     "text": [
      "/home/bries/programs/miniconda3/envs/pygromosDev/lib/python3.9/site-packages/mdtraj/core/trajectory.py:438: UserWarning: top= kwargs ignored since this file parser does not support it\n",
      "  warnings.warn('top= kwargs ignored since this file parser does not support it')\n"
     ]
    },
    {
     "data": {
      "text/plain": [
       "<mdtraj.Trajectory with 300 frames, 26 atoms, 2 residues, and unitcells at 0x7f21682c0370>"
      ]
     },
     "execution_count": 14,
     "metadata": {},
     "output_type": "execute_result"
    }
   ],
   "source": [
    "from pygromos.files.trajectory.trc import Trc\n",
    "\n",
    "in_path=project_dir+\"/b_vacuum_sd/analysis/data/b_vacuum_sd.trc.h5\"\n",
    "\n",
    "trc = Trc(traj_path=in_path, in_cnf=cnf_file)\n",
    "trc.write(out_ana+\"/sd_traj.pdb\")#grom_system.cnf.path)\n",
    "trc"
   ]
  },
  {
   "cell_type": "code",
   "execution_count": 34,
   "metadata": {},
   "outputs": [
    {
     "data": {
      "application/vnd.jupyter.widget-view+json": {
       "model_id": "58d5a0f723de4b828806958be4a2f74e",
       "version_major": 2,
       "version_minor": 0
      },
      "text/plain": [
       "NGLWidget(max_frame=299)"
      ]
     },
     "metadata": {},
     "output_type": "display_data"
    }
   ],
   "source": [
    "trc.recreate_view()\n",
    "v = trc.view\n",
    "v"
   ]
  },
  {
   "cell_type": "markdown",
   "metadata": {},
   "source": [
    "### Energy analysis"
   ]
  },
  {
   "cell_type": "code",
   "execution_count": 18,
   "metadata": {},
   "outputs": [
    {
     "data": {
      "text/plain": [
       "Trajectory: \n",
       "\tRead from hdf save \n",
       "\tContains only database\n",
       "\t\n",
       "Type: \n",
       "\tTre\n",
       "Frames: \t300\t Columns:\t13\n"
      ]
     },
     "execution_count": 18,
     "metadata": {},
     "output_type": "execute_result"
    }
   ],
   "source": [
    "from pygromos.files.trajectory.tre import Tre\n",
    "\n",
    "in_path=project_dir+\"/b_vacuum_sd/analysis/data/b_vacuum_sd.tre.h5\"\n",
    "\n",
    "tre = Tre(input_value=in_path)\n",
    "tre\n",
    "\n"
   ]
  },
  {
   "cell_type": "code",
   "execution_count": 48,
   "metadata": {},
   "outputs": [
    {
     "data": {
      "image/png": "[encoded data removed]",
      "text/plain": [
       "<Figure size 432x288 with 1 Axes>"
      ]
     },
     "metadata": {
      "needs_background": "light"
     },
     "output_type": "display_data"
    }
   ],
   "source": [
    "#Plot Potential Energies\n",
    "V_tot = np.array(list(map(lambda x: x[2], tre.database.totals)))\n",
    "step = len(tre.database.time)//10\n",
    "\n",
    "plt.plot(tre.database.time, V_tot)\n",
    "plt.xticks(np.round(list(tre.database.time[::step]),2))\n",
    "plt.xlabel(\"$t~[ps]$\")\n",
    "plt.ylabel(\"$V~[kJ]$\")\n",
    "plt.title(\"V total timeseries\")\n",
    "plt.savefig(out_ana+\"/potential_energy_timeseries.png\")\n",
    "\n"
   ]
  },
  {
   "cell_type": "markdown",
   "metadata": {},
   "source": [
    "## Lambda Sampling\n",
    "\n",
    "### Setup again"
   ]
  },
  {
   "cell_type": "code",
   "execution_count": 50,
   "metadata": {},
   "outputs": [
    {
     "data": {
      "text/plain": [
       "\n",
       "GROMOS SYSTEM: b_vacuum_sd\n",
       "################################################################################\n",
       "WORKDIR: /home/bries/projects/PyGromosTools/examples/example_files/TI_Calculation/M030_to_6KET\n",
       "LAST CHECKPOINT: /home/bries/projects/PyGromosTools/examples/example_files/TI_Calculation/M030_to_6KET/sd_out_system.obj\n",
       "\n",
       "GromosXX_bin: None\n",
       "GromosPP_bin: None\n",
       "FILES: \n",
       "\timd: /home/bries/projects/PyGromosTools/examples/example_files/TI_Calculation/M030_to_6KET/b_vacuum_sd/input/b_vacuum_sd.imd\n",
       "\ttop: /home/bries/projects/PyGromosTools/examples/example_files/TI_Calculation/M030_to_6KET/b_vacuum_sd/input/b_vacuum_sd.top\n",
       "\tcnf: /home/bries/projects/PyGromosTools/examples/example_files/TI_Calculation/M030_to_6KET/b_vacuum_sd/analysis/data/b_vacuum_sd.cnf\n",
       "\tdisres: /home/bries/projects/PyGromosTools/examples/example_files/TI_Calculation/M030_to_6KET/b_vacuum_sd/input/b_vacuum_sd.disres\n",
       "\tptp: /home/bries/projects/PyGromosTools/examples/example_files/TI_Calculation/M030_to_6KET/b_vacuum_sd/input/b_vacuum_sd.ptp\n",
       "FUTURE PROMISE: True\n",
       "SYSTEM: \n",
       "\tSolute:\t['M030', '6KET']  resID: [1, 2]  natoms: 26\n",
       "\tSOLVENT:\t[]  nmolecules: 0  natoms: 0\n",
       "\n"
      ]
     },
     "execution_count": 50,
     "metadata": {},
     "output_type": "execute_result"
    }
   ],
   "source": [
    "import os\n",
    "import numpy as np\n",
    "from pygromos.files.gromos_system import Gromos_System\n",
    "from pygromos.simulations.hpc_queuing.submission_systems.local import LOCAL as subSystem\n",
    "\n",
    "from pygromos.utils import bash\n",
    "sys_name = \"M030_to_6KET\"\n",
    "\n",
    "sd_gromos_system.imd.WRITETRAJ.NTWG =  sd_gromos_system.imd.WRITETRAJ.NTWX = sd_gromos_system.imd.WRITETRAJ.NTWE =10\n",
    "sd_gromos_system.imd.STEP = 100\n",
    "\n",
    "sd_gromos_system"
   ]
  },
  {
   "cell_type": "markdown",
   "metadata": {},
   "source": [
    "## Submission"
   ]
  },
  {
   "cell_type": "code",
   "execution_count": 51,
   "metadata": {},
   "outputs": [
    {
     "name": "stderr",
     "output_type": "stream",
     "text": [
      "/home/bries/projects/PyGromosTools/pygromos/files/gromos_system/gromos_system.py:1173: UserWarning: FOUND ALREADY A FILE! SKIPPING!\n",
      "  warnings.warn(\"FOUND ALREADY A FILE! SKIPPING!\")\n"
     ]
    },
    {
     "name": "stdout",
     "output_type": "stream",
     "text": [
      "################################################################################\n",
      "\n",
      "b_vacuum_sd_l_0.0\n",
      "################################################################################\n",
      "\n",
      "Script:  /home/bries/projects/PyGromosTools/pygromos/simulations/hpc_queuing/job_scheduling/schedulers/simulation_scheduler.py\n",
      "\n",
      "################################################################################\n",
      "Simulation Setup:\n",
      "################################################################################\n",
      "\n",
      "#####################################################################################\n",
      "\t\tERROR in Submission\n",
      "#####################################################################################\n"
     ]
    },
    {
     "name": "stderr",
     "output_type": "stream",
     "text": [
      "Traceback (most recent call last):\n",
      "  File \"/home/bries/projects/PyGromosTools/pygromos/simulations/hpc_queuing/job_scheduling/schedulers/simulation_scheduler.py\", line 155, in do\n",
      "    print(\"steps_per_run: \", in_simSystem.imd.STEP.NSTLIM)\n",
      "AttributeError: 'int' object has no attribute 'NSTLIM'\n",
      "Traceback (most recent call last):\n",
      "  File \"/home/bries/projects/PyGromosTools/pygromos/simulations/hpc_queuing/job_scheduling/schedulers/simulation_scheduler.py\", line 155, in do\n",
      "    print(\"steps_per_run: \", in_simSystem.imd.STEP.NSTLIM)\n",
      "AttributeError: 'int' object has no attribute 'NSTLIM'\n",
      "\n",
      "The above exception was the direct cause of the following exception:\n",
      "\n",
      "Traceback (most recent call last):\n",
      "  File \"/home/bries/projects/PyGromosTools/pygromos/simulations/modules/general_simulation_modules.py\", line 208, in simulation\n",
      "    last_jobID = simulation_scheduler.do(**MD_job_vars)\n",
      "  File \"/home/bries/projects/PyGromosTools/pygromos/simulations/hpc_queuing/job_scheduling/schedulers/simulation_scheduler.py\", line 234, in do\n",
      "    raise IOError(\"ERROR in SUBMISSION!\") from err\n",
      "OSError: ERROR in SUBMISSION!\n"
     ]
    },
    {
     "ename": "Exception",
     "evalue": "Could not submit the commands\n\tERROR in SUBMISSION!",
     "output_type": "error",
     "traceback": [
      "\u001b[0;31m---------------------------------------------------------------------------\u001b[0m",
      "\u001b[0;31mAttributeError\u001b[0m                            Traceback (most recent call last)",
      "File \u001b[0;32m~/projects/PyGromosTools/pygromos/simulations/hpc_queuing/job_scheduling/schedulers/simulation_scheduler.py:155\u001b[0m, in \u001b[0;36mdo\u001b[0;34m(in_simSystem, out_dir_path, simulation_run_num, equilibration_run_num, initialize_first_run, reinitialize_every_run, analysis_script_path, submission_system, previous_job_ID, _no_double_submit_check, _work_dir, verbose, verbose_lvl)\u001b[0m\n\u001b[1;32m    <a href='file:///home/bries/projects/PyGromosTools/pygromos/simulations/hpc_queuing/job_scheduling/schedulers/simulation_scheduler.py?line=153'>154</a>\u001b[0m \u001b[39mif\u001b[39;00m verbose:\n\u001b[0;32m--> <a href='file:///home/bries/projects/PyGromosTools/pygromos/simulations/hpc_queuing/job_scheduling/schedulers/simulation_scheduler.py?line=154'>155</a>\u001b[0m     \u001b[39mprint\u001b[39m(\u001b[39m\"\u001b[39m\u001b[39msteps_per_run: \u001b[39m\u001b[39m\"\u001b[39m, in_simSystem\u001b[39m.\u001b[39;49mimd\u001b[39m.\u001b[39;49mSTEP\u001b[39m.\u001b[39;49mNSTLIM)\n\u001b[1;32m    <a href='file:///home/bries/projects/PyGromosTools/pygromos/simulations/hpc_queuing/job_scheduling/schedulers/simulation_scheduler.py?line=155'>156</a>\u001b[0m \u001b[39mif\u001b[39;00m verbose:\n",
      "\u001b[0;31mAttributeError\u001b[0m: 'int' object has no attribute 'NSTLIM'",
      "\nThe above exception was the direct cause of the following exception:\n",
      "\u001b[0;31mOSError\u001b[0m                                   Traceback (most recent call last)",
      "File \u001b[0;32m~/projects/PyGromosTools/pygromos/simulations/modules/general_simulation_modules.py:208\u001b[0m, in \u001b[0;36msimulation\u001b[0;34m(in_gromos_simulation_system, override_project_dir, step_name, in_imd_path, submission_system, simulation_runs, equilibration_runs, previous_simulation_run, force_simulation, initialize_first_run, reinitialize_every_run, analysis_script, analysis_control_dict, _no_double_submit_check, _work_dir, verbose, verbose_lvl, _template_imd_path)\u001b[0m\n\u001b[1;32m    <a href='file:///home/bries/projects/PyGromosTools/pygromos/simulations/modules/general_simulation_modules.py?line=206'>207</a>\u001b[0m     \u001b[39melse\u001b[39;00m:\n\u001b[0;32m--> <a href='file:///home/bries/projects/PyGromosTools/pygromos/simulations/modules/general_simulation_modules.py?line=207'>208</a>\u001b[0m         last_jobID \u001b[39m=\u001b[39m simulation_scheduler\u001b[39m.\u001b[39;49mdo(\u001b[39m*\u001b[39;49m\u001b[39m*\u001b[39;49mMD_job_vars)\n\u001b[1;32m    <a href='file:///home/bries/projects/PyGromosTools/pygromos/simulations/modules/general_simulation_modules.py?line=208'>209</a>\u001b[0m \u001b[39mexcept\u001b[39;00m \u001b[39mException\u001b[39;00m \u001b[39mas\u001b[39;00m err:\n",
      "File \u001b[0;32m~/projects/PyGromosTools/pygromos/simulations/hpc_queuing/job_scheduling/schedulers/simulation_scheduler.py:234\u001b[0m, in \u001b[0;36mdo\u001b[0;34m(in_simSystem, out_dir_path, simulation_run_num, equilibration_run_num, initialize_first_run, reinitialize_every_run, analysis_script_path, submission_system, previous_job_ID, _no_double_submit_check, _work_dir, verbose, verbose_lvl)\u001b[0m\n\u001b[1;32m    <a href='file:///home/bries/projects/PyGromosTools/pygromos/simulations/hpc_queuing/job_scheduling/schedulers/simulation_scheduler.py?line=232'>233</a>\u001b[0m     traceback\u001b[39m.\u001b[39mprint_exception(\u001b[39m*\u001b[39msys\u001b[39m.\u001b[39mexc_info())\n\u001b[0;32m--> <a href='file:///home/bries/projects/PyGromosTools/pygromos/simulations/hpc_queuing/job_scheduling/schedulers/simulation_scheduler.py?line=233'>234</a>\u001b[0m     \u001b[39mraise\u001b[39;00m \u001b[39mIOError\u001b[39;00m(\u001b[39m\"\u001b[39m\u001b[39mERROR in SUBMISSION!\u001b[39m\u001b[39m\"\u001b[39m) \u001b[39mfrom\u001b[39;00m \u001b[39merr\u001b[39;00m\n\u001b[1;32m    <a href='file:///home/bries/projects/PyGromosTools/pygromos/simulations/hpc_queuing/job_scheduling/schedulers/simulation_scheduler.py?line=235'>236</a>\u001b[0m \u001b[39m# in_simSystem._future_promise = False #reset future promising if necessary\u001b[39;00m\n",
      "\u001b[0;31mOSError\u001b[0m: ERROR in SUBMISSION!",
      "\nDuring handling of the above exception, another exception occurred:\n",
      "\u001b[0;31mException\u001b[0m                                 Traceback (most recent call last)",
      "\u001b[1;32m/home/bries/projects/PyGromosTools/examples/example_TI_gromos_simulation.ipynb Cell 29'\u001b[0m in \u001b[0;36m<cell line: 6>\u001b[0;34m()\u001b[0m\n\u001b[1;32m      <a href='vscode-notebook-cell://wsl%2Bubuntu/home/bries/projects/PyGromosTools/examples/example_TI_gromos_simulation.ipynb#ch0000031vscode-remote?line=0'>1</a>\u001b[0m \u001b[39mfrom\u001b[39;00m \u001b[39mpygromos\u001b[39;00m\u001b[39m.\u001b[39;00m\u001b[39msimulations\u001b[39;00m\u001b[39m.\u001b[39;00m\u001b[39mmodules\u001b[39;00m\u001b[39m.\u001b[39;00m\u001b[39mti_modules\u001b[39;00m \u001b[39mimport\u001b[39;00m TI_sampling\n\u001b[1;32m      <a href='vscode-notebook-cell://wsl%2Bubuntu/home/bries/projects/PyGromosTools/examples/example_TI_gromos_simulation.ipynb#ch0000031vscode-remote?line=2'>3</a>\u001b[0m step_name  \u001b[39m=\u001b[39m \u001b[39m\"\u001b[39m\u001b[39md_lambda_sampling\u001b[39m\u001b[39m\"\u001b[39m\n\u001b[0;32m----> <a href='vscode-notebook-cell://wsl%2Bubuntu/home/bries/projects/PyGromosTools/examples/example_TI_gromos_simulation.ipynb#ch0000031vscode-remote?line=5'>6</a>\u001b[0m TI_sampling(in_gromos_system \u001b[39m=\u001b[39;49m sd_gromos_system, project_dir\u001b[39m=\u001b[39;49mproject_dir, step_name  \u001b[39m=\u001b[39;49m step_name,\n\u001b[1;32m      <a href='vscode-notebook-cell://wsl%2Bubuntu/home/bries/projects/PyGromosTools/examples/example_TI_gromos_simulation.ipynb#ch0000031vscode-remote?line=6'>7</a>\u001b[0m             lambda_values\u001b[39m=\u001b[39;49m np\u001b[39m.\u001b[39;49marange(\u001b[39m0\u001b[39;49m, \u001b[39m1.1\u001b[39;49m, \u001b[39m0.1\u001b[39;49m),\n\u001b[1;32m      <a href='vscode-notebook-cell://wsl%2Bubuntu/home/bries/projects/PyGromosTools/examples/example_TI_gromos_simulation.ipynb#ch0000031vscode-remote?line=7'>8</a>\u001b[0m             subSystem\u001b[39m=\u001b[39;49msubSystem(), n_productions\u001b[39m=\u001b[39;49m\u001b[39m3\u001b[39;49m, n_equilibrations \u001b[39m=\u001b[39;49m \u001b[39m1\u001b[39;49m)\n",
      "File \u001b[0;32m~/projects/PyGromosTools/pygromos/simulations/modules/ti_modules.py:107\u001b[0m, in \u001b[0;36mTI_sampling\u001b[0;34m(in_gromos_system, project_dir, step_name, lambda_values, subSystem, n_productions, n_equilibrations, randomize, dual_cnf, verbose)\u001b[0m\n\u001b[1;32m    <a href='file:///home/bries/projects/PyGromosTools/pygromos/simulations/modules/ti_modules.py?line=103'>104</a>\u001b[0m     lam_system\u001b[39m.\u001b[39mimd\u001b[39m.\u001b[39madd_block(block\u001b[39m=\u001b[39mprecalc_lam_block)\n\u001b[1;32m    <a href='file:///home/bries/projects/PyGromosTools/pygromos/simulations/modules/ti_modules.py?line=105'>106</a>\u001b[0m \u001b[39m# Submit\u001b[39;00m\n\u001b[0;32m--> <a href='file:///home/bries/projects/PyGromosTools/pygromos/simulations/modules/ti_modules.py?line=106'>107</a>\u001b[0m out_gromos_system \u001b[39m=\u001b[39m _TI_lam_step(\n\u001b[1;32m    <a href='file:///home/bries/projects/PyGromosTools/pygromos/simulations/modules/ti_modules.py?line=107'>108</a>\u001b[0m     in_gromos_system\u001b[39m=\u001b[39;49mlam_system,\n\u001b[1;32m    <a href='file:///home/bries/projects/PyGromosTools/pygromos/simulations/modules/ti_modules.py?line=108'>109</a>\u001b[0m     project_dir\u001b[39m=\u001b[39;49mwork_dir,\n\u001b[1;32m    <a href='file:///home/bries/projects/PyGromosTools/pygromos/simulations/modules/ti_modules.py?line=109'>110</a>\u001b[0m     step_name\u001b[39m=\u001b[39;49mlam_system\u001b[39m.\u001b[39;49mname,\n\u001b[1;32m    <a href='file:///home/bries/projects/PyGromosTools/pygromos/simulations/modules/ti_modules.py?line=110'>111</a>\u001b[0m     submission_system\u001b[39m=\u001b[39;49msubSystem,\n\u001b[1;32m    <a href='file:///home/bries/projects/PyGromosTools/pygromos/simulations/modules/ti_modules.py?line=111'>112</a>\u001b[0m     in_imd_path\u001b[39m=\u001b[39;49m\u001b[39mNone\u001b[39;49;00m,\n\u001b[1;32m    <a href='file:///home/bries/projects/PyGromosTools/pygromos/simulations/modules/ti_modules.py?line=112'>113</a>\u001b[0m     simulation_runs\u001b[39m=\u001b[39;49mn_productions,\n\u001b[1;32m    <a href='file:///home/bries/projects/PyGromosTools/pygromos/simulations/modules/ti_modules.py?line=113'>114</a>\u001b[0m     equilibration_runs\u001b[39m=\u001b[39;49mn_equilibrations,\n\u001b[1;32m    <a href='file:///home/bries/projects/PyGromosTools/pygromos/simulations/modules/ti_modules.py?line=114'>115</a>\u001b[0m     verbose\u001b[39m=\u001b[39;49mverbose,\n\u001b[1;32m    <a href='file:///home/bries/projects/PyGromosTools/pygromos/simulations/modules/ti_modules.py?line=115'>116</a>\u001b[0m )\n\u001b[1;32m    <a href='file:///home/bries/projects/PyGromosTools/pygromos/simulations/modules/ti_modules.py?line=117'>118</a>\u001b[0m out_gromos_system\u001b[39m.\u001b[39msave(out_gromos_system\u001b[39m.\u001b[39mwork_folder \u001b[39m+\u001b[39m \u001b[39m\"\u001b[39m\u001b[39m/sd_out_system.obj\u001b[39m\u001b[39m\"\u001b[39m)\n\u001b[1;32m    <a href='file:///home/bries/projects/PyGromosTools/pygromos/simulations/modules/ti_modules.py?line=118'>119</a>\u001b[0m lam_systems\u001b[39m.\u001b[39mappend(out_gromos_system)\n",
      "File \u001b[0;32m~/projects/PyGromosTools/pygromos/simulations/modules/ti_modules.py:153\u001b[0m, in \u001b[0;36m_TI_lam_step\u001b[0;34m(in_gromos_system, project_dir, step_name, in_imd_path, submission_system, simulation_runs, equilibration_runs, previous_simulation_run, analysis_script, verbose)\u001b[0m\n\u001b[1;32m    <a href='file:///home/bries/projects/PyGromosTools/pygromos/simulations/modules/ti_modules.py?line=123'>124</a>\u001b[0m \u001b[39mdef\u001b[39;00m \u001b[39m_TI_lam_step\u001b[39m(\n\u001b[1;32m    <a href='file:///home/bries/projects/PyGromosTools/pygromos/simulations/modules/ti_modules.py?line=124'>125</a>\u001b[0m     in_gromos_system: Gromos_System,\n\u001b[1;32m    <a href='file:///home/bries/projects/PyGromosTools/pygromos/simulations/modules/ti_modules.py?line=125'>126</a>\u001b[0m     project_dir: \u001b[39mstr\u001b[39m,\n\u001b[0;32m   (...)\u001b[0m\n\u001b[1;32m    <a href='file:///home/bries/projects/PyGromosTools/pygromos/simulations/modules/ti_modules.py?line=133'>134</a>\u001b[0m     verbose: \u001b[39mbool\u001b[39m \u001b[39m=\u001b[39m \u001b[39mTrue\u001b[39;00m,\n\u001b[1;32m    <a href='file:///home/bries/projects/PyGromosTools/pygromos/simulations/modules/ti_modules.py?line=134'>135</a>\u001b[0m ) \u001b[39m-\u001b[39m\u001b[39m>\u001b[39m Gromos_System:\n\u001b[1;32m    <a href='file:///home/bries/projects/PyGromosTools/pygromos/simulations/modules/ti_modules.py?line=135'>136</a>\u001b[0m     template_control_dict \u001b[39m=\u001b[39m OrderedDict(\n\u001b[1;32m    <a href='file:///home/bries/projects/PyGromosTools/pygromos/simulations/modules/ti_modules.py?line=136'>137</a>\u001b[0m         {\n\u001b[1;32m    <a href='file:///home/bries/projects/PyGromosTools/pygromos/simulations/modules/ti_modules.py?line=137'>138</a>\u001b[0m             \u001b[39m\"\u001b[39m\u001b[39mconcat\u001b[39m\u001b[39m\"\u001b[39m: {\n\u001b[0;32m   (...)\u001b[0m\n\u001b[1;32m    <a href='file:///home/bries/projects/PyGromosTools/pygromos/simulations/modules/ti_modules.py?line=150'>151</a>\u001b[0m         }\n\u001b[1;32m    <a href='file:///home/bries/projects/PyGromosTools/pygromos/simulations/modules/ti_modules.py?line=151'>152</a>\u001b[0m     )\n\u001b[0;32m--> <a href='file:///home/bries/projects/PyGromosTools/pygromos/simulations/modules/ti_modules.py?line=152'>153</a>\u001b[0m     \u001b[39mreturn\u001b[39;00m simulation(\n\u001b[1;32m    <a href='file:///home/bries/projects/PyGromosTools/pygromos/simulations/modules/ti_modules.py?line=153'>154</a>\u001b[0m         in_gromos_simulation_system\u001b[39m=\u001b[39;49min_gromos_system,\n\u001b[1;32m    <a href='file:///home/bries/projects/PyGromosTools/pygromos/simulations/modules/ti_modules.py?line=154'>155</a>\u001b[0m         override_project_dir\u001b[39m=\u001b[39;49mproject_dir,\n\u001b[1;32m    <a href='file:///home/bries/projects/PyGromosTools/pygromos/simulations/modules/ti_modules.py?line=155'>156</a>\u001b[0m         previous_simulation_run\u001b[39m=\u001b[39;49mprevious_simulation_run,\n\u001b[1;32m    <a href='file:///home/bries/projects/PyGromosTools/pygromos/simulations/modules/ti_modules.py?line=156'>157</a>\u001b[0m         step_name\u001b[39m=\u001b[39;49mstep_name,\n\u001b[1;32m    <a href='file:///home/bries/projects/PyGromosTools/pygromos/simulations/modules/ti_modules.py?line=157'>158</a>\u001b[0m         in_imd_path\u001b[39m=\u001b[39;49min_imd_path,\n\u001b[1;32m    <a href='file:///home/bries/projects/PyGromosTools/pygromos/simulations/modules/ti_modules.py?line=158'>159</a>\u001b[0m         submission_system\u001b[39m=\u001b[39;49msubmission_system,\n\u001b[1;32m    <a href='file:///home/bries/projects/PyGromosTools/pygromos/simulations/modules/ti_modules.py?line=159'>160</a>\u001b[0m         simulation_runs\u001b[39m=\u001b[39;49msimulation_runs,\n\u001b[1;32m    <a href='file:///home/bries/projects/PyGromosTools/pygromos/simulations/modules/ti_modules.py?line=160'>161</a>\u001b[0m         equilibration_runs\u001b[39m=\u001b[39;49mequilibration_runs,\n\u001b[1;32m    <a href='file:///home/bries/projects/PyGromosTools/pygromos/simulations/modules/ti_modules.py?line=161'>162</a>\u001b[0m         analysis_control_dict\u001b[39m=\u001b[39;49mtemplate_control_dict,\n\u001b[1;32m    <a href='file:///home/bries/projects/PyGromosTools/pygromos/simulations/modules/ti_modules.py?line=162'>163</a>\u001b[0m         analysis_script\u001b[39m=\u001b[39;49manalysis_script,\n\u001b[1;32m    <a href='file:///home/bries/projects/PyGromosTools/pygromos/simulations/modules/ti_modules.py?line=163'>164</a>\u001b[0m         verbose\u001b[39m=\u001b[39;49mverbose,\n\u001b[1;32m    <a href='file:///home/bries/projects/PyGromosTools/pygromos/simulations/modules/ti_modules.py?line=164'>165</a>\u001b[0m     )\n",
      "File \u001b[0;32m~/projects/PyGromosTools/pygromos/simulations/modules/general_simulation_modules.py:211\u001b[0m, in \u001b[0;36msimulation\u001b[0;34m(in_gromos_simulation_system, override_project_dir, step_name, in_imd_path, submission_system, simulation_runs, equilibration_runs, previous_simulation_run, force_simulation, initialize_first_run, reinitialize_every_run, analysis_script, analysis_control_dict, _no_double_submit_check, _work_dir, verbose, verbose_lvl, _template_imd_path)\u001b[0m\n\u001b[1;32m    <a href='file:///home/bries/projects/PyGromosTools/pygromos/simulations/modules/general_simulation_modules.py?line=208'>209</a>\u001b[0m \u001b[39mexcept\u001b[39;00m \u001b[39mException\u001b[39;00m \u001b[39mas\u001b[39;00m err:\n\u001b[1;32m    <a href='file:///home/bries/projects/PyGromosTools/pygromos/simulations/modules/general_simulation_modules.py?line=209'>210</a>\u001b[0m     traceback\u001b[39m.\u001b[39mprint_exception(\u001b[39m*\u001b[39msys\u001b[39m.\u001b[39mexc_info())\n\u001b[0;32m--> <a href='file:///home/bries/projects/PyGromosTools/pygromos/simulations/modules/general_simulation_modules.py?line=210'>211</a>\u001b[0m     \u001b[39mraise\u001b[39;00m \u001b[39mException\u001b[39;00m(\u001b[39m\"\u001b[39m\u001b[39mCould not submit the commands\u001b[39m\u001b[39m\\n\u001b[39;00m\u001b[39m\\t\u001b[39;00m\u001b[39m\"\u001b[39m \u001b[39m+\u001b[39m \u001b[39m\"\u001b[39m\u001b[39m\\n\u001b[39;00m\u001b[39m\\t\u001b[39;00m\u001b[39m\"\u001b[39m\u001b[39m.\u001b[39mjoin(\u001b[39mmap\u001b[39m(\u001b[39mstr\u001b[39m, err\u001b[39m.\u001b[39margs)))\n\u001b[1;32m    <a href='file:///home/bries/projects/PyGromosTools/pygromos/simulations/modules/general_simulation_modules.py?line=212'>213</a>\u001b[0m time\u001b[39m.\u001b[39msleep(time_wait_s_for_filesystem)\n\u001b[1;32m    <a href='file:///home/bries/projects/PyGromosTools/pygromos/simulations/modules/general_simulation_modules.py?line=214'>215</a>\u001b[0m \u001b[39m# Return the promise final system\u001b[39;00m\n",
      "\u001b[0;31mException\u001b[0m: Could not submit the commands\n\tERROR in SUBMISSION!"
     ]
    }
   ],
   "source": [
    "from pygromos.simulations.modules.ti_modules import TI_sampling\n",
    "\n",
    "step_name  = \"d_lambda_sampling\"\n",
    "\n",
    "\n",
    "TI_sampling(in_gromos_system = sd_gromos_system, project_dir=project_dir, step_name  = step_name,\n",
    "            lambda_values= np.arange(0, 1.1, 0.1),\n",
    "            subSystem=subSystem(), n_productions=3, n_equilibrations = 1)\n"
   ]
  },
  {
   "cell_type": "code",
   "execution_count": null,
   "metadata": {},
   "outputs": [],
   "source": []
  }
 ],
 "metadata": {
  "interpreter": {
   "hash": "dd72df1003b4b968da7a05a6ba63af3773812ec2262e6b7ecb2dafd4fd33c317"
  },
  "kernelspec": {
   "display_name": "Python 3.9.12 ('pygromosDev')",
   "language": "python",
   "name": "python3"
  },
  "language_info": {
   "codemirror_mode": {
    "name": "ipython",
    "version": 3
   },
   "file_extension": ".py",
   "mimetype": "text/x-python",
   "name": "python",
   "nbconvert_exporter": "python",
   "pygments_lexer": "ipython3",
   "version": "3.9.12"
  }
 },
 "nbformat": 4,
 "nbformat_minor": 4
}
