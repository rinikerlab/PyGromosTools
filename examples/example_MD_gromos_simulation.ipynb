{
 "cells": [
  {
   "cell_type": "markdown",
   "metadata": {
    "collapsed": true,
    "pycharm": {
     "name": "#%% md\n"
    }
   },
   "source": [
    "# MD Simulations with Submission System\n",
    "\n",
    "## Imports"
   ]
  },
  {
   "cell_type": "code",
   "execution_count": 1,
   "outputs": [],
   "source": [
    "import os\n",
    "\n",
    "#Analysis\n",
    "import numpy as np\n",
    "from matplotlib import pyplot as plt\n",
    "\n",
    "import pygromos\n",
    "from pygromos.files.gromos_system import Gromos_System\n",
    "from pygromos.files.blocks import imd_blocks\n",
    "from pygromos.data.simulation_parameters_templates import template_emin"
   ],
   "metadata": {
    "collapsed": false,
    "pycharm": {
     "name": "#%%\n"
    }
   }
  },
  {
   "cell_type": "markdown",
   "source": [
    "## Input files\n"
   ],
   "metadata": {
    "collapsed": false
   }
  },
  {
   "cell_type": "code",
   "execution_count": 2,
   "outputs": [],
   "source": [
    "root_dir = project_dir = os.path.abspath(os.path.dirname(pygromos.__file__)+\"/../examples/example_files/MD_Simulation\")\n",
    "root_in_dir = root_dir+\"/MD_input\"\n",
    "cnf_path = root_in_dir+\"/in_md.cnf\"\n",
    "top_path = root_in_dir + \"/in_md.top\"\n",
    "sys_name = \"md\"\n"
   ],
   "metadata": {
    "collapsed": false,
    "pycharm": {
     "name": "#%%\n"
    }
   }
  },
  {
   "cell_type": "markdown",
   "source": [
    "## RUN Emin"
   ],
   "metadata": {
    "collapsed": false
   }
  },
  {
   "cell_type": "code",
   "execution_count": 27,
   "outputs": [
    {
     "data": {
      "text/plain": "\nGROMOS SYSTEM: md\n################################################################################\nWORKDIR: /home/bschroed/Documents/code/pygromos/examples/example_files/MD_Simulation/MD_input\nLAST CHECKPOINT: None\nFILES: \n\timd: /home/bschroed/Documents/code/pygromos/pygromos/data/simulation_parameters_templates/emin.imd\n\ttop: /home/bschroed/Documents/code/pygromos/examples/example_files/MD_Simulation/MD_input/in_md.top\n\tcnf: /home/bschroed/Documents/code/pygromos/examples/example_files/MD_Simulation/MD_input/in_md.cnf\nFUTURE PROMISE: False\nSYSTEM: \n\tPROTEIN:\tprotein  nresidues: 5 natoms: 71\n\tNon-LIGANDS:\t[]  nmolecules: 0  natoms: 0\n\tSOLVENT:\tSOLV  nmolecules: 930  natoms: 2790\n\n"
     },
     "execution_count": 27,
     "metadata": {},
     "output_type": "execute_result"
    }
   ],
   "source": [
    "from pygromos.hpc_queuing.submission_systems.Submission_Systems import LOCAL as subSystem\n",
    "from pygromos.simulation_runner.simulation_building_blocks import emin\n",
    "step_name  = \"a_emin\"\n",
    "\n",
    "#External imd_changes:\n",
    "grom_system = Gromos_System(in_cnf_path=cnf_path, in_top_path=top_path, in_imd_path=template_emin,\n",
    "                            system_name=sys_name, work_folder=root_in_dir)\n",
    "\n",
    "grom_system"
   ],
   "metadata": {
    "collapsed": false,
    "pycharm": {
     "name": "#%%\n"
    }
   }
  },
  {
   "cell_type": "code",
   "execution_count": 28,
   "outputs": [
    {
     "name": "stdout",
     "output_type": "stream",
     "text": [
      "Cnf\n"
     ]
    }
   ],
   "source": [
    "grom_system.generate_posres(residues=[\"SOLV\"], keep_residues=False)\n"
   ],
   "metadata": {
    "collapsed": false,
    "pycharm": {
     "name": "#%%\n"
    }
   }
  },
  {
   "cell_type": "code",
   "execution_count": 29,
   "outputs": [
    {
     "data": {
      "text/plain": "\nGROMOS SYSTEM: md\n################################################################################\nWORKDIR: /home/bschroed/Documents/code/pygromos/examples/example_files/MD_Simulation/MD_input\nLAST CHECKPOINT: None\nFILES: \n\timd: /home/bschroed/Documents/code/pygromos/examples/example_files/MD_Simulation/MD_input/md.imd\n\ttop: /home/bschroed/Documents/code/pygromos/examples/example_files/MD_Simulation/MD_input/md.top\n\tcnf: /home/bschroed/Documents/code/pygromos/examples/example_files/MD_Simulation/MD_input/md.cnf\n\tposres: /home/bschroed/Documents/code/pygromos/examples/example_files/MD_Simulation/MD_input/md.pos\n\trefpos: /home/bschroed/Documents/code/pygromos/examples/example_files/MD_Simulation/MD_input/md.rpf\nFUTURE PROMISE: False\nSYSTEM: \n\tPROTEIN:\tprotein  nresidues: 5 natoms: 71\n\tNon-LIGANDS:\t[]  nmolecules: 0  natoms: 0\n\tSOLVENT:\tSOLV  nmolecules: 930  natoms: 2790\n\n"
     },
     "execution_count": 29,
     "metadata": {},
     "output_type": "execute_result"
    }
   ],
   "source": [
    "grom_system._update_all_file_paths()\n",
    "grom_system.write_files(posres=True, refpos=True)\n",
    "grom_system"
   ],
   "metadata": {
    "collapsed": false,
    "pycharm": {
     "name": "#%%\n"
    }
   }
  },
  {
   "cell_type": "code",
   "execution_count": 30,
   "outputs": [
    {
     "name": "stdout",
     "output_type": "stream",
     "text": [
      "################################################################################\n",
      "\n",
      "a_emin\n",
      "################################################################################\n",
      "\n",
      "============================================================\n",
      "FOUND RESULT: /home/bschroed/Documents/code/pygromos/examples/example_files/MD_Simulation/a_emin/analysis/data/a_emin.cnf\n",
      " GOING TO SKIPT THIS SUBMISSION!\n"
     ]
    },
    {
     "data": {
      "text/plain": "\nGROMOS SYSTEM: a_emin\n################################################################################\nWORKDIR: /home/bschroed/Documents/code/pygromos/examples/example_files/MD_Simulation/a_emin/input\nLAST CHECKPOINT: None\nFILES: \n\timd: /home/bschroed/Documents/code/pygromos/examples/example_files/MD_Simulation/a_emin/input/a_emin.imd\n\ttop: /home/bschroed/Documents/code/pygromos/examples/example_files/MD_Simulation/a_emin/input/a_emin.top\n\tcnf: /home/bschroed/Documents/code/pygromos/examples/example_files/MD_Simulation/a_emin/analysis/data/a_emin.cnf\n\tposres: /home/bschroed/Documents/code/pygromos/examples/example_files/MD_Simulation/a_emin/input/a_emin.pos\n\trefpos: /home/bschroed/Documents/code/pygromos/examples/example_files/MD_Simulation/a_emin/input/a_emin.rpf\nFUTURE PROMISE: False\nSYSTEM: \n\tPROTEIN:\tprotein  nresidues: 5 natoms: 71\n\tNon-LIGANDS:\t[]  nmolecules: 0  natoms: 0\n\tSOLVENT:\tSOLV  nmolecules: 930  natoms: 2790\n\n"
     },
     "execution_count": 30,
     "metadata": {},
     "output_type": "execute_result"
    }
   ],
   "source": [
    "#Some special adaptation\n",
    "grom_system.imd.WRITETRAJ = imd_blocks.WRITETRAJ()\n",
    "grom_system.imd.WRITETRAJ.NTWX = 100\n",
    "grom_system.imd.WRITETRAJ.NTWE = 100\n",
    "#ADD POSRES HERE\n",
    "\n",
    "\n",
    "\n",
    "from pygromos.hpc_queuing.submission_systems.Submission_Systems import LOCAL as subSystem\n",
    "from pygromos.simulation_runner.simulation_building_blocks import emin\n",
    "step_name  = \"a_emin\"\n",
    "\n",
    "#External imd_changes:\n",
    "grom_system = Gromos_System(in_cnf_path=cnf_path, in_top_path=top_path, in_imd_path=template_emin,\n",
    "                            system_name=sys_name, work_folder=root_in_dir)\n",
    "\n",
    "grom_system\n",
    "emin_gromos_system, jobID = emin(in_gromos_system=grom_system, project_dir=project_dir,\n",
    "                          step_name=step_name, submission_system=subSystem(), in_imd_path=None)\n",
    "emin_gromos_system"
   ],
   "metadata": {
    "collapsed": false,
    "pycharm": {
     "name": "#%%\n"
    }
   }
  },
  {
   "cell_type": "code",
   "execution_count": 31,
   "outputs": [
    {
     "data": {
      "text/plain": "solute_info(names=['CL6', 'CL7'], number=2, positions=[6, 7], number_of_atoms=2)"
     },
     "execution_count": 31,
     "metadata": {},
     "output_type": "execute_result"
    }
   ],
   "source": [
    "emin_gromos_system.solute_info"
   ],
   "metadata": {
    "collapsed": false,
    "pycharm": {
     "name": "#%%\n"
    }
   }
  },
  {
   "cell_type": "markdown",
   "source": [
    "## RUN MD Simulation"
   ],
   "metadata": {
    "collapsed": false,
    "pycharm": {
     "name": "#%% md\n"
    }
   }
  },
  {
   "cell_type": "code",
   "execution_count": 32,
   "outputs": [
    {
     "name": "stdout",
     "output_type": "stream",
     "text": [
      "################################################################################\n",
      "\n",
      "b_md\n",
      "################################################################################\n",
      "\n",
      "============================================================\n",
      "FOUND RESULT: /home/bschroed/Documents/code/pygromos/examples/example_files/MD_Simulation/b_md/analysis/data/b_md.cnf\n",
      " GOING TO SKIPT THIS SUBMISSION!\n"
     ]
    },
    {
     "data": {
      "text/plain": "\nGROMOS SYSTEM: b_md\n################################################################################\nWORKDIR: /home/bschroed/Documents/code/pygromos/examples/example_files/MD_Simulation/b_md/input\nLAST CHECKPOINT: None\nFILES: \n\timd: /home/bschroed/Documents/code/pygromos/examples/example_files/MD_Simulation/b_md/input/b_md.imd\n\ttop: /home/bschroed/Documents/code/pygromos/examples/example_files/MD_Simulation/b_md/input/b_md.top\n\tcnf: /home/bschroed/Documents/code/pygromos/examples/example_files/MD_Simulation/b_md/analysis/data/b_md.cnf\nFUTURE PROMISE: False\nSYSTEM: \n\tPROTEIN:\tprotein  nresidues: 5 natoms: 71\n\tNon-LIGANDS:\t[]  nmolecules: 0  natoms: 0\n\tSOLVENT:\tSOLV  nmolecules: 930  natoms: 2790\n\n"
     },
     "execution_count": 32,
     "metadata": {},
     "output_type": "execute_result"
    }
   ],
   "source": [
    "from pygromos.simulation_runner.simulation_building_blocks import md\n",
    "\n",
    "step_name  = \"b_md\"\n",
    "emin_gromos_system.refpos=None\n",
    "emin_gromos_system.posres = None\n",
    "md_gromos_system, jobID  = md(in_gromos_system=emin_gromos_system, project_dir=project_dir,\n",
    "                              step_name=step_name, submission_system=subSystem(),\n",
    "                      equilibration_runs=1, simulation_runs=3)\n",
    "md_gromos_system\n"
   ],
   "metadata": {
    "collapsed": false,
    "pycharm": {
     "name": "#%%\n"
    }
   }
  },
  {
   "cell_type": "markdown",
   "source": [
    "## Further Analysis:\n",
    "Transform the trc into a pdb traj to check it out with pymol :!)"
   ],
   "metadata": {
    "collapsed": false,
    "pycharm": {
     "name": "#%% md\n"
    }
   }
  },
  {
   "cell_type": "code",
   "execution_count": 4,
   "outputs": [
    {
     "data": {
      "text/plain": "'/home/bschroed/Documents/code/pygromos/examples/example_files/MD_Simulation'"
     },
     "execution_count": 4,
     "metadata": {},
     "output_type": "execute_result"
    }
   ],
   "source": [
    "#final analysis dir:\n",
    "from pygromos.utils import bash\n",
    "\n",
    "out_ana = project_dir+\"/c_ana\"\n",
    "if(not os.path.exists(out_ana)):\n",
    "    bash.make_folder(out_ana)"
   ],
   "metadata": {
    "collapsed": false,
    "pycharm": {
     "name": "#%%\n"
    }
   }
  },
  {
   "cell_type": "code",
   "execution_count": 5,
   "outputs": [
    {
     "name": "stdout",
     "output_type": "stream",
     "text": [
      "/home/bschroed/Documents/code/pygromos/examples/example_files/MD_Simulation/b_md/analysis/data/b_md.trc.h5\n"
     ]
    },
    {
     "data": {
      "text/plain": "Trajectory: \n\tRead from hdf save \n\tContains only database\n\t\nType: \n\tTrc\nFrames: \t63\t Columns:\t2869\n"
     },
     "execution_count": 5,
     "metadata": {},
     "output_type": "execute_result"
    }
   ],
   "source": [
    "from pygromos.files.trajectory.trc import Trc\n",
    "\n",
    "in_path=project_dir+\"/b_md/analysis/data/b_md.trc.h5\"\n",
    "print(in_path)\n",
    "trc = Trc(input_value=in_path)\n",
    "trc.write_pdb(out_ana+\"/md_traj.pdb\", cnf_file=cnf_path)#grom_system.cnf.path)\n",
    "trc"
   ],
   "metadata": {
    "collapsed": false,
    "pycharm": {
     "name": "#%%\n"
    }
   }
  },
  {
   "cell_type": "code",
   "execution_count": 6,
   "outputs": [
    {
     "data": {
      "text/plain": "Trajectory: \n\tRead from hdf save \n\tContains only database\n\t\nType: \n\tTre\nFrames: \t64\t Columns:\t15\n"
     },
     "execution_count": 6,
     "metadata": {},
     "output_type": "execute_result"
    }
   ],
   "source": [
    "from pygromos.files.trajectory.tre import Tre\n",
    "in_path=project_dir+\"/b_md/analysis/data/b_md.tre.h5\"\n",
    "\n",
    "tre = Tre(input_value=in_path)\n",
    "tre"
   ],
   "metadata": {
    "collapsed": false,
    "pycharm": {
     "name": "#%%\n"
    }
   }
  },
  {
   "cell_type": "code",
   "execution_count": 7,
   "outputs": [
    {
     "data": {
      "text/plain": "<Figure size 432x288 with 1 Axes>",
      "image/png": "[encoded data removed]"
     },
     "metadata": {
      "needs_background": "light"
     },
     "output_type": "display_data"
    }
   ],
   "source": [
    "\n",
    "V_tot = np.array(list(map(lambda x: x[2], tre.database.totals)))\n",
    "step = len(tre.database.TIMESTEP_time)//10\n",
    "\n",
    "plt.plot(tre.database.TIMESTEP_time, V_tot)\n",
    "plt.xticks(np.round(list(tre.database.TIMESTEP_time[::step]),2))\n",
    "plt.xlabel(\"$t~[ps]$\")\n",
    "plt.ylabel(\"$V~[kJ]$\")\n",
    "plt.title(\"V total timeseries\")\n",
    "plt.savefig(out_ana+\"/potential_energy_timeseries.png\")"
   ],
   "metadata": {
    "collapsed": false,
    "pycharm": {
     "name": "#%%\n"
    }
   }
  },
  {
   "cell_type": "code",
   "execution_count": 33,
   "outputs": [],
   "source": [],
   "metadata": {
    "collapsed": false,
    "pycharm": {
     "name": "#%%\n"
    }
   }
  }
 ],
 "metadata": {
  "kernelspec": {
   "display_name": "Python 3",
   "language": "python",
   "name": "python3"
  },
  "language_info": {
   "codemirror_mode": {
    "name": "ipython",
    "version": 2
   },
   "file_extension": ".py",
   "mimetype": "text/x-python",
   "name": "python",
   "nbconvert_exporter": "python",
   "pygments_lexer": "ipython2",
   "version": "2.7.6"
  }
 },
 "nbformat": 4,
 "nbformat_minor": 0
}