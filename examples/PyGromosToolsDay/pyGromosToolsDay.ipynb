{
 "cells": [
  {
   "cell_type": "markdown",
   "metadata": {},
   "source": [
    "### Imports and settings for this notebook"
   ]
  },
  {
   "cell_type": "code",
   "execution_count": 1,
   "metadata": {},
   "outputs": [],
   "source": [
    "# general notebook formatting for markdown and plots\n",
    "%matplotlib inline\n",
    "%config InlineBackend.figure_format = 'retina'\n",
    "import warnings\n",
    "\n",
    "import matplotlib.pyplot as plt\n",
    "\n",
    "# level of warning\n",
    "warnings.filterwarnings(\"ignore\", category=FutureWarning)\n",
    "warnings.filterwarnings = lambda *a, **kw: None\n",
    "from IPython.core.display import HTML"
   ]
  },
  {
   "cell_type": "code",
   "execution_count": 2,
   "metadata": {},
   "outputs": [
    {
     "name": "stderr",
     "output_type": "stream",
     "text": [
      "Warning: Unable to load toolkit 'OpenEye Toolkit'. The Open Force Field Toolkit does not require the OpenEye Toolkits, and can use RDKit/AmberTools instead. However, if you have a valid license for the OpenEye Toolkits, consider installing them for faster performance and additional file format support: https://docs.eyesopen.com/toolkits/python/quickstart-python/linuxosx.html OpenEye offers free Toolkit licenses for academics: https://www.eyesopen.com/academic-licensing\n"
     ]
    }
   ],
   "source": [
    "# imports for code examples\n",
    "import os\n",
    "\n",
    "from pygromos.files.gromos_system.gromos_system import Gromos_System\n",
    "from pygromos.files.gromos_system.ff.forcefield_system import forcefield_system\n",
    "from pygromos.files.simulation_parameters.imd import Imd\n",
    "\n",
    "from pygromos.simulations.modules.preset_simulation_modules import sd\n",
    "from pygromos.simulations.modules.preset_simulation_modules import emin\n",
    "from pygromos.data.simulation_parameters_templates import template_sd, template_emin_vac"
   ]
  },
  {
   "cell_type": "markdown",
   "metadata": {},
   "source": [
    "# PyGromosToolsDay"
   ]
  },
  {
   "cell_type": "markdown",
   "metadata": {},
   "source": [
    "## Introduction"
   ]
  },
  {
   "cell_type": "markdown",
   "metadata": {},
   "source": [
    "This notebook is created for the PyGromosToolsDay on 17.02.2022    \n",
    "Author: Marc Thierry Lehner  \n",
    "\n",
    "This notebook is part of the package `PyGromosTools` and can be found under:\n",
    "\n",
    "https://github.com/rinikerlab/PyGromosTools/blob/pygromosDay/examples/PyGromosToolsDay/pyGromosToolsDay.ipynb"
   ]
  },
  {
   "cell_type": "markdown",
   "metadata": {},
   "source": [
    "### Schedule for the day\n",
    "<a id='schedule'></a>"
   ]
  },
  {
   "cell_type": "markdown",
   "metadata": {},
   "source": [
    "1. Introduction (start 09:00)\n",
    "  - Welcoming\n",
    "  - [Schedule for the day](#schedule)\n",
    "2. Overview over current state  \n",
    "  - [PyGromosTools - a Python package for `GROMOS` users](#PyGromosTools-a-Python-package-for-GROMOS-users)  \n",
    "    1. [General File Structure](#file_structure)\n",
    "    2. [Simple Simulation](#simple-simulation)\n",
    "    3. [Simple Analysis](#simple-analysis)\n",
    "    4. [Non-standard blocks and simple modifications](#non-standard-blocks-and-simple-modifications)\n",
    "    5. [New files for new gromos functionality](#new-files-for-new-gromos-functionality)\n",
    "3. Discussion of intended new features and current bugs\n",
    "  - [Release 3](#release-3)\n",
    "    1. [New features](#new-features)\n",
    "    2. [Current bugs](#current-bugs)\n",
    "4. Hackathon (on the discussed topics) (start ~11:00)\n",
    "5. Closing assembly and discussion of progress towards next release (start 16:30)\n"
   ]
  },
  {
   "cell_type": "markdown",
   "metadata": {},
   "source": [
    "## PyGromosTools - a Python package for `GROMOS` users"
   ]
  },
  {
   "cell_type": "markdown",
   "metadata": {},
   "source": [
    "`PyGromosTools` is a Python package for `GROMOS` users. It tries to provide an easy to use and unified interface to `GROMOS` in Python. Users of `PyGromosTools` profit from better readability and reproducibility of code, as well as easier pipelining of `GROMOS` simulations."
   ]
  },
  {
   "cell_type": "markdown",
   "metadata": {},
   "source": [
    "`PyGromosTools` is a naturally grown package, which tries to adhere to the needs of all `GROMOS` users."
   ]
  },
  {
   "cell_type": "markdown",
   "metadata": {},
   "source": [
    "At the current state `PyGromosTools` provides:\n",
    "\n",
    "1. gromosXX wrappers\n",
    "2. gromos++ wrappers\n",
    "3. File handling of all `GROMOS` file types for automated creation, modification, and analysis\n",
    "4. Automation and file management system: the central class `gromos_system`\n",
    "5. Simulation submission and execution\n",
    "6. etc.\n",
    "\n",
    "In the following sections, we will see how to use `PyGromosTools` to automate the creation of typical `GROMOS` simulations and how these tools are intended to be used. We will show simple usecases and provide ways to adjust existing classes to accomodate for more complex simulations or new blocks. Finally, we show how you can contribute to `PyGromosTools`. And how to extend `PyGromosTools` to your own needs."
   ]
  },
  {
   "cell_type": "markdown",
   "metadata": {},
   "source": [
    "### General File Structure\n",
    "<a id='file_structure'></a>"
   ]
  },
  {
   "cell_type": "markdown",
   "metadata": {},
   "source": [
    "Since the second major release (TODO: date???) `PyGromosTools` is focused around a class called `gromos_system`. This class is the main entry point of `PyGromosTools` and is used to create, manage and analyse `GROMOS` simulations.  \n",
    "\n",
    "`gromos_system` stores information of all files regarding a simulation and provides methods to create, modify and analyse these files.\n",
    "\n",
    "\n",
    "<p style=\"text-align:center;\">\n",
    "    <img src=\"./figures/gromos_system_overview.png\" width=900 alt=\"gromos_system_overview\"/>\n",
    "    <div style=\"text-align:center;\">Based on B. Ries Thesis</div>\n",
    "</p> "
   ]
  },
  {
   "cell_type": "markdown",
   "metadata": {},
   "source": [
    "`gromos_system` can be initialized in many different ways. The simplest is from existing files. However, there is also the option to create a `gromos_system` object from only a `SMILES` string and a forcefield. Having said that, it has to be mentioned, that for all `GROMOS`-type forcefields the correct `MTB` name is required as well (for now).  \n",
    "\n",
    "In the following example, we first first a `forcefield_system` object that holds all informations regarding the forcefield used. This `forcefield_system` object is then used to create a `gromos_system` from a `SMILES` string.   \n",
    "\n",
    "If the options `adapt_imd_automatically` and `auto_convert` are activated in `gromos_system`, we will not only automatically create  the system topology but also the coordinate file and an adjusted `IMD` file."
   ]
  },
  {
   "cell_type": "code",
   "execution_count": 3,
   "metadata": {},
   "outputs": [],
   "source": [
    "work_dir = os.path.abspath(\"./example_sys/\")"
   ]
  },
  {
   "cell_type": "code",
   "execution_count": 4,
   "metadata": {},
   "outputs": [],
   "source": [
    "ff = forcefield_system(name=\"2016H66\")\n",
    "ff.mol_name = \"BZN\""
   ]
  },
  {
   "cell_type": "code",
   "execution_count": 5,
   "metadata": {},
   "outputs": [],
   "source": [
    "# create the Gromos_System object\n",
    "# paths to Gromos binaries can be provided\n",
    "groSys = Gromos_System(work_folder=work_dir,\n",
    "                system_name=\"test_system\",\n",
    "                in_smiles=\"c1ccccc1\", \n",
    "                #in_gromosPP_bin_dir=\"/home/fpultar/bin/gromos++/bin\",\n",
    "                #in_gromosXX_bin_dir=\"/home/fpultar/bin/gromosXX/bin\",\n",
    "                Forcefield=ff, \n",
    "                adapt_imd_automatically=True,\n",
    "                in_imd_path=template_emin_vac, \n",
    "                auto_convert=True)"
   ]
  },
  {
   "cell_type": "markdown",
   "metadata": {},
   "source": [
    "This `gromos_system` object called `groSys` now contains topology, coordinate, and input files for benzene, all created automatically! \n",
    "\n",
    "We can access all these files as Python classes by via the `groSys.top`, `groSys.cnf` and `groSys.imd` attributes.  \n",
    "All these classe are instances of the `gromos_file` class and have attributes on their own, which are the associated `GROMOS` blocks (and of course sometimes additional content).  \n",
    "\n",
    "For example, we can check if the new topology has a correct TITLE block by accessing the attribute `groSys.top.TITLE`. And we can see, the title block was automatically generated."
   ]
  },
  {
   "cell_type": "code",
   "execution_count": 6,
   "metadata": {},
   "outputs": [],
   "source": [
    "#help(groSys.top.TITLE)"
   ]
  },
  {
   "cell_type": "code",
   "execution_count": 7,
   "metadata": {},
   "outputs": [
    {
     "data": {
      "text/plain": [
       "TITLE\n",
       "MAKE_TOP topology, using:\n",
       "/home/mlehner/PyGromosTools/pygromos/data/ff/Gromos2016H66/2016H66.mtb\n",
       "/home/mlehner/PyGromosTools/pygromos/data/ff/Gromos2016H66/2016H66_orga.mtb\n",
       "/home/mlehner/PyGromosTools/pygromos/data/ff/Gromos2016H66/2016H66.ifp\n",
       "\n",
       "Force-field code: 2016H66\n",
       "\n",
       "\t>>> Generated with PyGromosTools (riniker group) <<<\n",
       "END"
      ]
     },
     "execution_count": 7,
     "metadata": {},
     "output_type": "execute_result"
    }
   ],
   "source": [
    "groSys.top.TITLE"
   ]
  },
  {
   "cell_type": "markdown",
   "metadata": {},
   "source": [
    "The same is also true for the other files. It's worth to mention that the coordinate file is generated automatically using the `RDKit` conformer generator under the hood."
   ]
  },
  {
   "cell_type": "code",
   "execution_count": 8,
   "metadata": {},
   "outputs": [
    {
     "data": {
      "text/plain": [
       "POSITION\n",
       "# \t \n",
       "    1 BZN   C1         1    0.080600000   -0.114300000    0.001500000\n",
       "    1 BZN   H1         2    0.143435194   -0.203358253    0.002668736\n",
       "    1 BZN   C2         3    0.139300000    0.012700000   -0.000200000\n",
       "    1 BZN   H2         4    0.247852856    0.022561710   -0.000355389\n",
       "    1 BZN   C3         5    0.058700000    0.127000000   -0.001700000\n",
       "    1 BZN   H3         6    0.104422350    0.225937924   -0.003024364\n",
       "    1 BZN   C4         7   -0.080600000    0.114300000   -0.001500000\n",
       "    1 BZN   H4         8   -0.143435194    0.203358253   -0.002668736\n",
       "    1 BZN   C5         9   -0.139300000   -0.012700000    0.000200000\n",
       "    1 BZN   H5        10   -0.247852856   -0.022561710    0.000355389\n",
       "    1 BZN   C6        11   -0.058700000   -0.127000000    0.001700000\n",
       "    1 BZN   H6        12   -0.104422350   -0.225937924    0.003024364\n",
       "END"
      ]
     },
     "execution_count": 8,
     "metadata": {},
     "output_type": "execute_result"
    }
   ],
   "source": [
    "groSys.cnf.POSITION"
   ]
  },
  {
   "cell_type": "markdown",
   "metadata": {},
   "source": [
    "All these blocks contain classes for the specific fields. In the case of the `POSITION` block, we have a list of atoms. For each atom, name, type, and position are stored. This makes it easy to make adjustments, search for specific atoms or do some general scripted modifiactions to the positions.\n",
    "\n",
    "<p style=\"text-align:center;\">\n",
    "    <img src=\"./figures/gromos_file.png\" height=300 alt=\"gromos file structure\"/>\n",
    "    <div style=\"text-align:center;\">Based on B. Ries Thesis</div>\n",
    "</p> \n",
    "\n",
    "All the fields have their own attributes and sometimes functions to modify them. For example the `POSITION` block has an `atomP` attribute that stores all the information."
   ]
  },
  {
   "cell_type": "code",
   "execution_count": 9,
   "metadata": {},
   "outputs": [
    {
     "name": "stdout",
     "output_type": "stream",
     "text": [
      "2 H1 BZN 0.143435194\n"
     ]
    }
   ],
   "source": [
    "atomP = groSys.cnf.POSITION[1]\n",
    "print(atomP.atomID, atomP.atomType, atomP.resName, atomP.xp)"
   ]
  },
  {
   "cell_type": "markdown",
   "metadata": {},
   "source": [
    "All cnf files can be easily converted to differet file types (e.g. `pdb` or `xyz`) and visualized via the handy `visualize` function. The `visualize` function is intended for notebooks and prototyping but can be used for any other purpose. It's a fully interactive 3D view."
   ]
  },
  {
   "cell_type": "code",
   "execution_count": 10,
   "metadata": {},
   "outputs": [
    {
     "data": {
      "application/3dmoljs_load.v0": "<div id=\"3dmolviewer_16452877261575778\"  style=\"position: relative; width: 400px; height: 400px\">\n        <p id=\"3dmolwarning_16452877261575778\" style=\"background-color:#ffcccc;color:black\">You appear to be running in JupyterLab (or JavaScript failed to load for some other reason).  You need to install the 3dmol extension: <br>\n        <tt>jupyter labextension install jupyterlab_3dmol</tt></p>\n        </div>\n<script>\n\nvar loadScriptAsync = function(uri){\n  return new Promise((resolve, reject) => {\n    var tag = document.createElement('script');\n    tag.src = uri;\n    tag.async = true;\n    tag.onload = () => {\n      resolve();\n    };\n  var firstScriptTag = document.getElementsByTagName('script')[0];\n  firstScriptTag.parentNode.insertBefore(tag, firstScriptTag);\n});\n};\n\nif(typeof $3Dmolpromise === 'undefined') {\n$3Dmolpromise = null;\n  $3Dmolpromise = loadScriptAsync('https://3dmol.org/build/3Dmol.js');\n}\n\nvar viewer_16452877261575778 = null;\nvar warn = document.getElementById(\"3dmolwarning_16452877261575778\");\nif(warn) {\n    warn.parentNode.removeChild(warn);\n}\n$3Dmolpromise.then(function() {\nviewer_16452877261575778 = $3Dmol.createViewer($(\"#3dmolviewer_16452877261575778\"),{backgroundColor:\"white\"});\nviewer_16452877261575778.zoomTo();\n\tviewer_16452877261575778.addModel(\"12\\n# gch found 6 hydrogen atoms in /home/mlehner/PyGromosTools/examples/PyGromosToolsDay/example_sys/tmp_in_file.cnf\\n# exported wit PyGromosTools\\nC  \\t 0.806000000   -1.143000000    0.015000000\\nH  \\t 1.434351940   -2.033582530    0.026687360\\nC  \\t 1.393000000    0.127000000   -0.002000000\\nH  \\t 2.478528560    0.225617100   -0.003553890\\nC  \\t 0.587000000    1.270000000   -0.017000000\\nH  \\t 1.044223500    2.259379240   -0.030243640\\nC  \\t-0.806000000    1.143000000   -0.015000000\\nH  \\t-1.434351940    2.033582530   -0.026687360\\nC  \\t-1.393000000   -0.127000000    0.002000000\\nH  \\t-2.478528560   -0.225617100    0.003553890\\nC  \\t-0.587000000   -1.270000000    0.017000000\\nH  \\t-1.044223500   -2.259379240    0.030243640\\n\");\n\tviewer_16452877261575778.setStyle({\"model\": -1},{\"stick\": {}});\n\tviewer_16452877261575778.zoomTo();\nviewer_16452877261575778.render();\n});\n</script>",
      "text/html": [
       "<div id=\"3dmolviewer_16452877261575778\"  style=\"position: relative; width: 400px; height: 400px\">\n",
       "        <p id=\"3dmolwarning_16452877261575778\" style=\"background-color:#ffcccc;color:black\">You appear to be running in JupyterLab (or JavaScript failed to load for some other reason).  You need to install the 3dmol extension: <br>\n",
       "        <tt>jupyter labextension install jupyterlab_3dmol</tt></p>\n",
       "        </div>\n",
       "<script>\n",
       "\n",
       "var loadScriptAsync = function(uri){\n",
       "  return new Promise((resolve, reject) => {\n",
       "    var tag = document.createElement('script');\n",
       "    tag.src = uri;\n",
       "    tag.async = true;\n",
       "    tag.onload = () => {\n",
       "      resolve();\n",
       "    };\n",
       "  var firstScriptTag = document.getElementsByTagName('script')[0];\n",
       "  firstScriptTag.parentNode.insertBefore(tag, firstScriptTag);\n",
       "});\n",
       "};\n",
       "\n",
       "if(typeof $3Dmolpromise === 'undefined') {\n",
       "$3Dmolpromise = null;\n",
       "  $3Dmolpromise = loadScriptAsync('https://3dmol.org/build/3Dmol.js');\n",
       "}\n",
       "\n",
       "var viewer_16452877261575778 = null;\n",
       "var warn = document.getElementById(\"3dmolwarning_16452877261575778\");\n",
       "if(warn) {\n",
       "    warn.parentNode.removeChild(warn);\n",
       "}\n",
       "$3Dmolpromise.then(function() {\n",
       "viewer_16452877261575778 = $3Dmol.createViewer($(\"#3dmolviewer_16452877261575778\"),{backgroundColor:\"white\"});\n",
       "viewer_16452877261575778.zoomTo();\n",
       "\tviewer_16452877261575778.addModel(\"12\\n# gch found 6 hydrogen atoms in /home/mlehner/PyGromosTools/examples/PyGromosToolsDay/example_sys/tmp_in_file.cnf\\n# exported wit PyGromosTools\\nC  \\t 0.806000000   -1.143000000    0.015000000\\nH  \\t 1.434351940   -2.033582530    0.026687360\\nC  \\t 1.393000000    0.127000000   -0.002000000\\nH  \\t 2.478528560    0.225617100   -0.003553890\\nC  \\t 0.587000000    1.270000000   -0.017000000\\nH  \\t 1.044223500    2.259379240   -0.030243640\\nC  \\t-0.806000000    1.143000000   -0.015000000\\nH  \\t-1.434351940    2.033582530   -0.026687360\\nC  \\t-1.393000000   -0.127000000    0.002000000\\nH  \\t-2.478528560   -0.225617100    0.003553890\\nC  \\t-0.587000000   -1.270000000    0.017000000\\nH  \\t-1.044223500   -2.259379240    0.030243640\\n\");\n",
       "\tviewer_16452877261575778.setStyle({\"model\": -1},{\"stick\": {}});\n",
       "\tviewer_16452877261575778.zoomTo();\n",
       "viewer_16452877261575778.render();\n",
       "});\n",
       "</script>"
      ]
     },
     "metadata": {},
     "output_type": "display_data"
    },
    {
     "data": {
      "text/plain": [
       "<py3Dmol.view at 0x7fa346bb8a30>"
      ]
     },
     "execution_count": 10,
     "metadata": {},
     "output_type": "execute_result"
    }
   ],
   "source": [
    "groSys.cnf.visualize()"
   ]
  },
  {
   "cell_type": "markdown",
   "metadata": {},
   "source": [
    "The `gromos_system` class also provides a lot of other useful functionality. It can be used directly with most PyGromosTools wrappers for Gromos++ and it offers many layers of automation for piplines. "
   ]
  },
  {
   "cell_type": "markdown",
   "metadata": {},
   "source": [
    "```python \n",
    "groSys.adapt_imd()  \n",
    "groSys.auto_convert()  \n",
    "...\n",
    "\n",
    "groSys.com_top()  \n",
    "groSys.ran_box()  \n",
    "groSys.add_hydrogens()  \n",
    "groSys.add_ions()  \n",
    "...\n",
    "```"
   ]
  },
  {
   "cell_type": "markdown",
   "metadata": {},
   "source": [
    "### Simple Simulation\n",
    "<a id='simple-simulation'></a>"
   ]
  },
  {
   "cell_type": "markdown",
   "metadata": {},
   "source": [
    "`PyGromosTools` provides a simple way to create a `GROMOS` simulation. This is done by creating a `gromos_system` which is then supplemented with additional files necessary. A simulation is started through selection of one of the preset modules.  \n",
    "\n",
    "`PyGromosTools` offers a wide range of preset simulations. However, these general simulation templates can be easily modified enabling custom setups.  \n",
    "\n",
    "These simulation modules take care of the creation and management of necessary files, execution and scheduling of simulations, and  analysis of results.\n",
    "\n",
    "<p style=\"text-align:center;\">\n",
    "    <img src=\"./figures/simulation_structure.png\" width=600 alt=\"gromos simulation structure\"/>\n",
    "    <div style=\"text-align:center;\">Based on B. Ries Thesis</div>\n",
    "</p> \n",
    "\n",
    "The core of all simulations is a `general_simulation` class. This class is the base class for all simulations and provides methods necessary to support aforementioned features. Simple extensions to this class are classes like `MD`, `SD` and `EMIN`, which mainly provide preset changes in the IMD file. However, `PyGromosTools` also provides a wider range of more complex simulation approaches including `Hvap`, `TI`, etc., which often require multiple lower-level simulations to be run.\n",
    "\n",
    "In all simulation modules, the current date is stored and returned in a `gromos_system` object. This is done to make it easy for users to keeep files clean and analyze the results. All simulation modules furthermore use a so called `submission_system`. These classes store  information about submission of the simulation on a specific plattform (e.g. `Euler`'s LSF or local machines).\n",
    "\n",
    "Successful simulation return a new `Gromos_System` object with an updated set of files. This mechanic makes it easy to chain jobs and build pipelines.\n"
   ]
  },
  {
   "cell_type": "code",
   "execution_count": 11,
   "metadata": {},
   "outputs": [
    {
     "name": "stdout",
     "output_type": "stream",
     "text": [
      "################################################################################\n",
      "\n",
      "emin\n",
      "################################################################################\n",
      "\n",
      "Script:  /home/mlehner/PyGromosTools/pygromos/simulations/hpc_queuing/job_scheduling/schedulers/simulation_scheduler.py\n",
      "\n",
      "################################################################################\n",
      "Simulation Setup:\n",
      "################################################################################\n",
      "\n",
      "steps_per_run:  3000\n",
      "equis:  0\n",
      "simulation runs:  1\n",
      "################################################################################\n",
      "\n",
      " submit final analysis part \n",
      "\n",
      "/home/mlehner/PyGromosTools/examples/PyGromosToolsDay/example_sys/emin/ana_out.log\n",
      "/home/mlehner/PyGromosTools/examples/PyGromosToolsDay/example_sys/emin/job_analysis.py\n",
      "#####################################################################################\n",
      "\t\tERROR in Submission\n",
      "#####################################################################################\n"
     ]
    },
    {
     "name": "stderr",
     "output_type": "stream",
     "text": [
      "Traceback (most recent call last):\n",
      "  File \"/home/mlehner/PyGromosTools/pygromos/simulations/hpc_queuing/submission_systems/local.py\", line 56, in submit_to_queue\n",
      "    process = bash.execute(command=command, catch_STD=True, env=self._enviroment)\n",
      "  File \"/home/mlehner/PyGromosTools/pygromos/utils/bash.py\", line 829, in execute\n",
      "    return execute_subprocess(command=command, verbose=verbose, catch_STD=catch_STD, env=env)\n",
      "  File \"/home/mlehner/PyGromosTools/pygromos/utils/bash.py\", line 752, in execute_subprocess\n",
      "    raise ChildProcessError(msg)\n",
      "ChildProcessError: SubProcess Failed due to returncode: 1\n",
      " COMMAND: \n",
      "\t./job_emin_ana.sh\n",
      "STDOUT:\n",
      "\tb'\\tStart cnfs\\n'\n",
      "\tb\"SEARCH PATTERN: emin + * +['.cnf']\\n\"\n",
      "\tb'walking to in_dir:  simulation found:  0\\n'\n",
      "\tb'walking to in_dir:  emin_1 found:  0\\n'\n",
      "\tb'\\n'\n",
      "\tb'foundFiles:\\n'\n",
      "\tb'\\n'\n",
      "\tb'\\t\\n'\n",
      "\tb'/home/mlehner/PyGromosTools/examples/PyGromosToolsDay/example_sys/emin/simulation/emin/*.cnf\\n'\n",
      "STDERR:\n",
      "\tb\"/home/mlehner/PyGromosTools/pygromos/simulations/hpc_queuing/job_scheduling/workers/analysis_workers/simulation_analysis.py:281: UserWarning: could not find any file with the prefix: emin * ['.cnf'] in folder : \\n\"\n",
      "\tb'/home/mlehner/PyGromosTools/examples/PyGromosToolsDay/example_sys/emin/simulation\\n'\n",
      "\tb'  warnings.warn(\"could not find any file with the prefix: \" + str(filePrefix) + \" * \"+str(fileSuffixes)+\" in folder : \\\\n\" + in_folder)\\n'\n",
      "\tb'Traceback (most recent call last):\\n'\n",
      "\tb'  File \"/home/mlehner/PyGromosTools/examples/PyGromosToolsDay/example_sys/emin/job_analysis.py\", line 38, in <module>\\n'\n",
      "\tb'    do(in_simulation_dir=in_simulation_dir, out_analysis_dir=out_analysis_dir, sim_prefix=sim_prefix, gromosPP_bin_dir=gromosPP_bin_dir, n_processes=n_processes, control_dict=control_dict, verbose=verbose, )\\n'\n",
      "\tb'  File \"/home/mlehner/PyGromosTools/pygromos/simulations/hpc_queuing/job_scheduling/workers/analysis_workers/simulation_analysis.py\", line 73, in do\\n'\n",
      "\tb'    project_concatenation(in_folder=in_simulation_dir, in_prefix = sim_prefix,  out_folder=out_data_dir, control_dict=control_dict[\"concat\"][\"sub\"], verbose=verbose)\\n'\n",
      "\tb'  File \"/home/mlehner/PyGromosTools/pygromos/simulations/hpc_queuing/job_scheduling/workers/analysis_workers/simulation_analysis.py\", line 114, in project_concatenation\\n'\n",
      "\tb'    cnf_path = glob.glob(in_folder+\"/\"+in_prefix+\"*/*.cnf\")[-1]\\n'\n",
      "\tb'IndexError: list index out of range\\n'\n",
      "\n",
      "During handling of the above exception, another exception occurred:\n",
      "\n",
      "Traceback (most recent call last):\n",
      "  File \"/home/mlehner/PyGromosTools/pygromos/simulations/hpc_queuing/job_scheduling/schedulers/simulation_scheduler.py\", line 164, in do\n",
      "    ana_previous_job_ID = submission_system.submit_to_queue(sub_job)\n",
      "  File \"/home/mlehner/PyGromosTools/pygromos/simulations/hpc_queuing/submission_systems/local.py\", line 70, in submit_to_queue\n",
      "    raise ChildProcessError(\"command failed: \\n\" +\n",
      "ChildProcessError: command failed: \n",
      "./job_emin_ana.sh\n",
      "Traceback (most recent call last):\n",
      "  File \"/home/mlehner/PyGromosTools/pygromos/simulations/hpc_queuing/submission_systems/local.py\", line 56, in submit_to_queue\n",
      "    process = bash.execute(command=command, catch_STD=True, env=self._enviroment)\n",
      "  File \"/home/mlehner/PyGromosTools/pygromos/utils/bash.py\", line 829, in execute\n",
      "    return execute_subprocess(command=command, verbose=verbose, catch_STD=catch_STD, env=env)\n",
      "  File \"/home/mlehner/PyGromosTools/pygromos/utils/bash.py\", line 752, in execute_subprocess\n",
      "    raise ChildProcessError(msg)\n",
      "ChildProcessError: SubProcess Failed due to returncode: 1\n",
      " COMMAND: \n",
      "\t./job_emin_ana.sh\n",
      "STDOUT:\n",
      "\tb'\\tStart cnfs\\n'\n",
      "\tb\"SEARCH PATTERN: emin + * +['.cnf']\\n\"\n",
      "\tb'walking to in_dir:  simulation found:  0\\n'\n",
      "\tb'walking to in_dir:  emin_1 found:  0\\n'\n",
      "\tb'\\n'\n",
      "\tb'foundFiles:\\n'\n",
      "\tb'\\n'\n",
      "\tb'\\t\\n'\n",
      "\tb'/home/mlehner/PyGromosTools/examples/PyGromosToolsDay/example_sys/emin/simulation/emin/*.cnf\\n'\n",
      "STDERR:\n",
      "\tb\"/home/mlehner/PyGromosTools/pygromos/simulations/hpc_queuing/job_scheduling/workers/analysis_workers/simulation_analysis.py:281: UserWarning: could not find any file with the prefix: emin * ['.cnf'] in folder : \\n\"\n",
      "\tb'/home/mlehner/PyGromosTools/examples/PyGromosToolsDay/example_sys/emin/simulation\\n'\n",
      "\tb'  warnings.warn(\"could not find any file with the prefix: \" + str(filePrefix) + \" * \"+str(fileSuffixes)+\" in folder : \\\\n\" + in_folder)\\n'\n",
      "\tb'Traceback (most recent call last):\\n'\n",
      "\tb'  File \"/home/mlehner/PyGromosTools/examples/PyGromosToolsDay/example_sys/emin/job_analysis.py\", line 38, in <module>\\n'\n",
      "\tb'    do(in_simulation_dir=in_simulation_dir, out_analysis_dir=out_analysis_dir, sim_prefix=sim_prefix, gromosPP_bin_dir=gromosPP_bin_dir, n_processes=n_processes, control_dict=control_dict, verbose=verbose, )\\n'\n",
      "\tb'  File \"/home/mlehner/PyGromosTools/pygromos/simulations/hpc_queuing/job_scheduling/workers/analysis_workers/simulation_analysis.py\", line 73, in do\\n'\n",
      "\tb'    project_concatenation(in_folder=in_simulation_dir, in_prefix = sim_prefix,  out_folder=out_data_dir, control_dict=control_dict[\"concat\"][\"sub\"], verbose=verbose)\\n'\n",
      "\tb'  File \"/home/mlehner/PyGromosTools/pygromos/simulations/hpc_queuing/job_scheduling/workers/analysis_workers/simulation_analysis.py\", line 114, in project_concatenation\\n'\n",
      "\tb'    cnf_path = glob.glob(in_folder+\"/\"+in_prefix+\"*/*.cnf\")[-1]\\n'\n",
      "\tb'IndexError: list index out of range\\n'\n",
      "\n",
      "During handling of the above exception, another exception occurred:\n",
      "\n",
      "Traceback (most recent call last):\n",
      "  File \"/home/mlehner/PyGromosTools/pygromos/simulations/hpc_queuing/job_scheduling/schedulers/simulation_scheduler.py\", line 164, in do\n",
      "    ana_previous_job_ID = submission_system.submit_to_queue(sub_job)\n",
      "  File \"/home/mlehner/PyGromosTools/pygromos/simulations/hpc_queuing/submission_systems/local.py\", line 70, in submit_to_queue\n",
      "    raise ChildProcessError(\"command failed: \\n\" +\n",
      "ChildProcessError: command failed: \n",
      "./job_emin_ana.sh\n",
      "\n",
      "The above exception was the direct cause of the following exception:\n",
      "\n",
      "Traceback (most recent call last):\n",
      "  File \"/home/mlehner/PyGromosTools/pygromos/simulations/modules/general_simulation_modules.py\", line 170, in simulation\n",
      "    last_jobID = simulation_scheduler.do(in_simSystem=gromos_system, out_dir_path=out_simulation_dir,\n",
      "  File \"/home/mlehner/PyGromosTools/pygromos/simulations/hpc_queuing/job_scheduling/schedulers/simulation_scheduler.py\", line 174, in do\n",
      "    raise IOError(\"ERROR in SUBMISSION!\") from err\n",
      "OSError: ERROR in SUBMISSION!\n"
     ]
    },
    {
     "ename": "Exception",
     "evalue": "Could not submit the commands\n\tERROR in SUBMISSION!",
     "output_type": "error",
     "traceback": [
      "\u001b[0;31m---------------------------------------------------------------------------\u001b[0m",
      "\u001b[0;31mChildProcessError\u001b[0m                         Traceback (most recent call last)",
      "\u001b[0;32m~/PyGromosTools/pygromos/simulations/hpc_queuing/submission_systems/local.py\u001b[0m in \u001b[0;36msubmit_to_queue\u001b[0;34m(self, sub_job)\u001b[0m\n\u001b[1;32m     55\u001b[0m             \u001b[0;32mtry\u001b[0m\u001b[0;34m:\u001b[0m\u001b[0;34m\u001b[0m\u001b[0;34m\u001b[0m\u001b[0m\n\u001b[0;32m---> 56\u001b[0;31m                 \u001b[0mprocess\u001b[0m \u001b[0;34m=\u001b[0m \u001b[0mbash\u001b[0m\u001b[0;34m.\u001b[0m\u001b[0mexecute\u001b[0m\u001b[0;34m(\u001b[0m\u001b[0mcommand\u001b[0m\u001b[0;34m=\u001b[0m\u001b[0mcommand\u001b[0m\u001b[0;34m,\u001b[0m \u001b[0mcatch_STD\u001b[0m\u001b[0;34m=\u001b[0m\u001b[0;32mTrue\u001b[0m\u001b[0;34m,\u001b[0m \u001b[0menv\u001b[0m\u001b[0;34m=\u001b[0m\u001b[0mself\u001b[0m\u001b[0;34m.\u001b[0m\u001b[0m_enviroment\u001b[0m\u001b[0;34m)\u001b[0m\u001b[0;34m\u001b[0m\u001b[0;34m\u001b[0m\u001b[0m\n\u001b[0m\u001b[1;32m     57\u001b[0m                 \u001b[0mstd_out_buff\u001b[0m \u001b[0;34m=\u001b[0m \u001b[0mmap\u001b[0m\u001b[0;34m(\u001b[0m\u001b[0mstr\u001b[0m\u001b[0;34m,\u001b[0m \u001b[0mprocess\u001b[0m\u001b[0;34m.\u001b[0m\u001b[0mstdout\u001b[0m\u001b[0;34m.\u001b[0m\u001b[0mreadlines\u001b[0m\u001b[0;34m(\u001b[0m\u001b[0;34m)\u001b[0m\u001b[0;34m)\u001b[0m\u001b[0;34m\u001b[0m\u001b[0;34m\u001b[0m\u001b[0m\n",
      "\u001b[0;32m~/PyGromosTools/pygromos/utils/bash.py\u001b[0m in \u001b[0;36mexecute\u001b[0;34m(command, verbose, catch_STD, env)\u001b[0m\n\u001b[1;32m    828\u001b[0m \u001b[0;32mdef\u001b[0m \u001b[0mexecute\u001b[0m\u001b[0;34m(\u001b[0m\u001b[0mcommand\u001b[0m\u001b[0;34m:\u001b[0m \u001b[0;34m(\u001b[0m\u001b[0mstr\u001b[0m \u001b[0;32mor\u001b[0m \u001b[0mList\u001b[0m\u001b[0;34m[\u001b[0m\u001b[0mstr\u001b[0m\u001b[0;34m]\u001b[0m\u001b[0;34m)\u001b[0m\u001b[0;34m,\u001b[0m \u001b[0mverbose\u001b[0m\u001b[0;34m:\u001b[0m \u001b[0mbool\u001b[0m \u001b[0;34m=\u001b[0m \u001b[0;32mFalse\u001b[0m\u001b[0;34m,\u001b[0m \u001b[0mcatch_STD\u001b[0m\u001b[0;34m:\u001b[0m\u001b[0mUnion\u001b[0m\u001b[0;34m[\u001b[0m\u001b[0mbool\u001b[0m\u001b[0;34m,\u001b[0m\u001b[0mstr\u001b[0m\u001b[0;34m]\u001b[0m\u001b[0;34m=\u001b[0m\u001b[0;32mFalse\u001b[0m\u001b[0;34m,\u001b[0m \u001b[0menv\u001b[0m\u001b[0;34m:\u001b[0m\u001b[0mdict\u001b[0m\u001b[0;34m=\u001b[0m\u001b[0;32mNone\u001b[0m\u001b[0;34m)\u001b[0m\u001b[0;34m:\u001b[0m\u001b[0;34m\u001b[0m\u001b[0;34m\u001b[0m\u001b[0m\n\u001b[0;32m--> 829\u001b[0;31m     \u001b[0;32mreturn\u001b[0m \u001b[0mexecute_subprocess\u001b[0m\u001b[0;34m(\u001b[0m\u001b[0mcommand\u001b[0m\u001b[0;34m=\u001b[0m\u001b[0mcommand\u001b[0m\u001b[0;34m,\u001b[0m \u001b[0mverbose\u001b[0m\u001b[0;34m=\u001b[0m\u001b[0mverbose\u001b[0m\u001b[0;34m,\u001b[0m \u001b[0mcatch_STD\u001b[0m\u001b[0;34m=\u001b[0m\u001b[0mcatch_STD\u001b[0m\u001b[0;34m,\u001b[0m \u001b[0menv\u001b[0m\u001b[0;34m=\u001b[0m\u001b[0menv\u001b[0m\u001b[0;34m)\u001b[0m\u001b[0;34m\u001b[0m\u001b[0;34m\u001b[0m\u001b[0m\n\u001b[0m",
      "\u001b[0;32m~/PyGromosTools/pygromos/utils/bash.py\u001b[0m in \u001b[0;36mexecute_subprocess\u001b[0;34m(command, catch_STD, env, verbose)\u001b[0m\n\u001b[1;32m    751\u001b[0m         \u001b[0mmsg\u001b[0m \u001b[0;34m+=\u001b[0m \u001b[0;34m\"NONE\"\u001b[0m \u001b[0;32mif\u001b[0m\u001b[0;34m(\u001b[0m\u001b[0mp\u001b[0m\u001b[0;34m.\u001b[0m\u001b[0mstdout\u001b[0m \u001b[0;32mis\u001b[0m \u001b[0;32mNone\u001b[0m\u001b[0;34m)\u001b[0m \u001b[0;32melse\u001b[0m \u001b[0;34m\"\\n\\t\"\u001b[0m\u001b[0;34m.\u001b[0m\u001b[0mjoin\u001b[0m\u001b[0;34m(\u001b[0m\u001b[0mmap\u001b[0m\u001b[0;34m(\u001b[0m\u001b[0mstr\u001b[0m\u001b[0;34m,\u001b[0m \u001b[0mp\u001b[0m\u001b[0;34m.\u001b[0m\u001b[0mstderr\u001b[0m\u001b[0;34m.\u001b[0m\u001b[0mreadlines\u001b[0m\u001b[0;34m(\u001b[0m\u001b[0;34m)\u001b[0m\u001b[0;34m)\u001b[0m\u001b[0;34m)\u001b[0m\u001b[0;34m\u001b[0m\u001b[0;34m\u001b[0m\u001b[0m\n\u001b[0;32m--> 752\u001b[0;31m         \u001b[0;32mraise\u001b[0m \u001b[0mChildProcessError\u001b[0m\u001b[0;34m(\u001b[0m\u001b[0mmsg\u001b[0m\u001b[0;34m)\u001b[0m\u001b[0;34m\u001b[0m\u001b[0;34m\u001b[0m\u001b[0m\n\u001b[0m\u001b[1;32m    753\u001b[0m     \u001b[0;32mif\u001b[0m\u001b[0;34m(\u001b[0m\u001b[0mverbose\u001b[0m\u001b[0;34m)\u001b[0m\u001b[0;34m:\u001b[0m \u001b[0mprint\u001b[0m\u001b[0;34m(\u001b[0m\u001b[0;34m\"RETURN: \"\u001b[0m\u001b[0;34m,\u001b[0m \u001b[0mr\u001b[0m\u001b[0;34m)\u001b[0m\u001b[0;34m\u001b[0m\u001b[0;34m\u001b[0m\u001b[0m\n",
      "\u001b[0;31mChildProcessError\u001b[0m: SubProcess Failed due to returncode: 1\n COMMAND: \n\t./job_emin_ana.sh\nSTDOUT:\n\tb'\\tStart cnfs\\n'\n\tb\"SEARCH PATTERN: emin + * +['.cnf']\\n\"\n\tb'walking to in_dir:  simulation found:  0\\n'\n\tb'walking to in_dir:  emin_1 found:  0\\n'\n\tb'\\n'\n\tb'foundFiles:\\n'\n\tb'\\n'\n\tb'\\t\\n'\n\tb'/home/mlehner/PyGromosTools/examples/PyGromosToolsDay/example_sys/emin/simulation/emin/*.cnf\\n'\nSTDERR:\n\tb\"/home/mlehner/PyGromosTools/pygromos/simulations/hpc_queuing/job_scheduling/workers/analysis_workers/simulation_analysis.py:281: UserWarning: could not find any file with the prefix: emin * ['.cnf'] in folder : \\n\"\n\tb'/home/mlehner/PyGromosTools/examples/PyGromosToolsDay/example_sys/emin/simulation\\n'\n\tb'  warnings.warn(\"could not find any file with the prefix: \" + str(filePrefix) + \" * \"+str(fileSuffixes)+\" in folder : \\\\n\" + in_folder)\\n'\n\tb'Traceback (most recent call last):\\n'\n\tb'  File \"/home/mlehner/PyGromosTools/examples/PyGromosToolsDay/example_sys/emin/job_analysis.py\", line 38, in <module>\\n'\n\tb'    do(in_simulation_dir=in_simulation_dir, out_analysis_dir=out_analysis_dir, sim_prefix=sim_prefix, gromosPP_bin_dir=gromosPP_bin_dir, n_processes=n_processes, control_dict=control_dict, verbose=verbose, )\\n'\n\tb'  File \"/home/mlehner/PyGromosTools/pygromos/simulations/hpc_queuing/job_scheduling/workers/analysis_workers/simulation_analysis.py\", line 73, in do\\n'\n\tb'    project_concatenation(in_folder=in_simulation_dir, in_prefix = sim_prefix,  out_folder=out_data_dir, control_dict=control_dict[\"concat\"][\"sub\"], verbose=verbose)\\n'\n\tb'  File \"/home/mlehner/PyGromosTools/pygromos/simulations/hpc_queuing/job_scheduling/workers/analysis_workers/simulation_analysis.py\", line 114, in project_concatenation\\n'\n\tb'    cnf_path = glob.glob(in_folder+\"/\"+in_prefix+\"*/*.cnf\")[-1]\\n'\n\tb'IndexError: list index out of range\\n'",
      "\nDuring handling of the above exception, another exception occurred:\n",
      "\u001b[0;31mChildProcessError\u001b[0m                         Traceback (most recent call last)",
      "\u001b[0;32m~/PyGromosTools/pygromos/simulations/hpc_queuing/job_scheduling/schedulers/simulation_scheduler.py\u001b[0m in \u001b[0;36mdo\u001b[0;34m(in_simSystem, out_dir_path, simulation_run_num, equilibration_run_num, work_dir, analysis_script_path, submission_system, previous_job_ID, no_double_submit, verbose, verbose_lvl)\u001b[0m\n\u001b[1;32m    163\u001b[0m                                     queue_after_jobID=previous_job_ID)\n\u001b[0;32m--> 164\u001b[0;31m             \u001b[0mana_previous_job_ID\u001b[0m \u001b[0;34m=\u001b[0m \u001b[0msubmission_system\u001b[0m\u001b[0;34m.\u001b[0m\u001b[0msubmit_to_queue\u001b[0m\u001b[0;34m(\u001b[0m\u001b[0msub_job\u001b[0m\u001b[0;34m)\u001b[0m\u001b[0;34m\u001b[0m\u001b[0;34m\u001b[0m\u001b[0m\n\u001b[0m\u001b[1;32m    165\u001b[0m \u001b[0;34m\u001b[0m\u001b[0m\n",
      "\u001b[0;32m~/PyGromosTools/pygromos/simulations/hpc_queuing/submission_systems/local.py\u001b[0m in \u001b[0;36msubmit_to_queue\u001b[0;34m(self, sub_job)\u001b[0m\n\u001b[1;32m     69\u001b[0m                     \u001b[0;32mpass\u001b[0m\u001b[0;34m\u001b[0m\u001b[0;34m\u001b[0m\u001b[0m\n\u001b[0;32m---> 70\u001b[0;31m                 raise ChildProcessError(\"command failed: \\n\" +\n\u001b[0m\u001b[1;32m     71\u001b[0m                                         str(command))\n",
      "\u001b[0;31mChildProcessError\u001b[0m: command failed: \n./job_emin_ana.sh",
      "\nThe above exception was the direct cause of the following exception:\n",
      "\u001b[0;31mOSError\u001b[0m                                   Traceback (most recent call last)",
      "\u001b[0;32m~/PyGromosTools/pygromos/simulations/modules/general_simulation_modules.py\u001b[0m in \u001b[0;36msimulation\u001b[0;34m(in_gromos_simulation_system, override_project_dir, step_name, in_imd_path, submission_system, simulation_runs, equilibration_runs, previous_simulation_run, force_simulation, analysis_script, analysis_control_dict, verbose, verbose_lvl, _template_imd_path)\u001b[0m\n\u001b[1;32m    169\u001b[0m         \u001b[0;32melse\u001b[0m\u001b[0;34m:\u001b[0m\u001b[0;34m\u001b[0m\u001b[0;34m\u001b[0m\u001b[0m\n\u001b[0;32m--> 170\u001b[0;31m             last_jobID = simulation_scheduler.do(in_simSystem=gromos_system, out_dir_path=out_simulation_dir,\n\u001b[0m\u001b[1;32m    171\u001b[0m                                                  \u001b[0msimulation_run_num\u001b[0m\u001b[0;34m=\u001b[0m\u001b[0msimulation_runs\u001b[0m\u001b[0;34m,\u001b[0m \u001b[0mequilibration_run_num\u001b[0m\u001b[0;34m=\u001b[0m\u001b[0mequilibration_runs\u001b[0m\u001b[0;34m,\u001b[0m\u001b[0;34m\u001b[0m\u001b[0;34m\u001b[0m\u001b[0m\n",
      "\u001b[0;32m~/PyGromosTools/pygromos/simulations/hpc_queuing/job_scheduling/schedulers/simulation_scheduler.py\u001b[0m in \u001b[0;36mdo\u001b[0;34m(in_simSystem, out_dir_path, simulation_run_num, equilibration_run_num, work_dir, analysis_script_path, submission_system, previous_job_ID, no_double_submit, verbose, verbose_lvl)\u001b[0m\n\u001b[1;32m    173\u001b[0m         \u001b[0mtraceback\u001b[0m\u001b[0;34m.\u001b[0m\u001b[0mprint_exception\u001b[0m\u001b[0;34m(\u001b[0m\u001b[0;34m*\u001b[0m\u001b[0msys\u001b[0m\u001b[0;34m.\u001b[0m\u001b[0mexc_info\u001b[0m\u001b[0;34m(\u001b[0m\u001b[0;34m)\u001b[0m\u001b[0;34m)\u001b[0m\u001b[0;34m\u001b[0m\u001b[0;34m\u001b[0m\u001b[0m\n\u001b[0;32m--> 174\u001b[0;31m         \u001b[0;32mraise\u001b[0m \u001b[0mIOError\u001b[0m\u001b[0;34m(\u001b[0m\u001b[0;34m\"ERROR in SUBMISSION!\"\u001b[0m\u001b[0;34m)\u001b[0m \u001b[0;32mfrom\u001b[0m \u001b[0merr\u001b[0m\u001b[0;34m\u001b[0m\u001b[0;34m\u001b[0m\u001b[0m\n\u001b[0m\u001b[1;32m    175\u001b[0m \u001b[0;34m\u001b[0m\u001b[0m\n",
      "\u001b[0;31mOSError\u001b[0m: ERROR in SUBMISSION!",
      "\nDuring handling of the above exception, another exception occurred:\n",
      "\u001b[0;31mException\u001b[0m                                 Traceback (most recent call last)",
      "\u001b[0;32m/tmp/ipykernel_9762/2111740828.py\u001b[0m in \u001b[0;36m<module>\u001b[0;34m\u001b[0m\n\u001b[1;32m      1\u001b[0m \u001b[0;31m# run an energy minimization\u001b[0m\u001b[0;34m\u001b[0m\u001b[0;34m\u001b[0m\u001b[0m\n\u001b[0;32m----> 2\u001b[0;31m \u001b[0meminGroSys\u001b[0m \u001b[0;34m=\u001b[0m \u001b[0memin\u001b[0m\u001b[0;34m(\u001b[0m\u001b[0mgroSys\u001b[0m\u001b[0;34m,\u001b[0m \u001b[0min_imd_path\u001b[0m\u001b[0;34m=\u001b[0m\u001b[0mtemplate_emin_vac\u001b[0m\u001b[0;34m)\u001b[0m\u001b[0;34m\u001b[0m\u001b[0;34m\u001b[0m\u001b[0m\n\u001b[0m",
      "\u001b[0;32m~/PyGromosTools/pygromos/simulations/modules/preset_simulation_modules.py\u001b[0m in \u001b[0;36memin\u001b[0;34m(in_gromos_system, step_name, override_project_dir, in_imd_path, submission_system, simulation_runs, equilibration_runs, previous_simulation_run, _template_imd_path, analysis_script)\u001b[0m\n\u001b[1;32m     30\u001b[0m             \u001b[0mtemplate_emin_control_dict\u001b[0m\u001b[0;34m[\u001b[0m\u001b[0;34m'concat'\u001b[0m\u001b[0;34m]\u001b[0m\u001b[0;34m[\u001b[0m\u001b[0;34m'cat_trg'\u001b[0m\u001b[0;34m]\u001b[0m \u001b[0;34m=\u001b[0m \u001b[0;32mFalse\u001b[0m\u001b[0;34m\u001b[0m\u001b[0;34m\u001b[0m\u001b[0m\n\u001b[1;32m     31\u001b[0m \u001b[0;34m\u001b[0m\u001b[0m\n\u001b[0;32m---> 32\u001b[0;31m     return simulation(in_gromos_simulation_system=in_gromos_system, override_project_dir=override_project_dir, previous_simulation_run=previous_simulation_run,\n\u001b[0m\u001b[1;32m     33\u001b[0m                       \u001b[0mstep_name\u001b[0m\u001b[0;34m=\u001b[0m\u001b[0mstep_name\u001b[0m\u001b[0;34m,\u001b[0m \u001b[0min_imd_path\u001b[0m\u001b[0;34m=\u001b[0m\u001b[0min_imd_path\u001b[0m\u001b[0;34m,\u001b[0m \u001b[0msubmission_system\u001b[0m\u001b[0;34m=\u001b[0m\u001b[0msubmission_system\u001b[0m\u001b[0;34m,\u001b[0m\u001b[0;34m\u001b[0m\u001b[0;34m\u001b[0m\u001b[0m\n\u001b[1;32m     34\u001b[0m                       \u001b[0msimulation_runs\u001b[0m\u001b[0;34m=\u001b[0m\u001b[0msimulation_runs\u001b[0m\u001b[0;34m,\u001b[0m \u001b[0mequilibration_runs\u001b[0m\u001b[0;34m=\u001b[0m\u001b[0mequilibration_runs\u001b[0m\u001b[0;34m,\u001b[0m \u001b[0manalysis_control_dict\u001b[0m \u001b[0;34m=\u001b[0m \u001b[0mtemplate_emin_control_dict\u001b[0m\u001b[0;34m,\u001b[0m\u001b[0;34m\u001b[0m\u001b[0;34m\u001b[0m\u001b[0m\n",
      "\u001b[0;32m~/PyGromosTools/pygromos/simulations/modules/general_simulation_modules.py\u001b[0m in \u001b[0;36msimulation\u001b[0;34m(in_gromos_simulation_system, override_project_dir, step_name, in_imd_path, submission_system, simulation_runs, equilibration_runs, previous_simulation_run, force_simulation, analysis_script, analysis_control_dict, verbose, verbose_lvl, _template_imd_path)\u001b[0m\n\u001b[1;32m    174\u001b[0m     \u001b[0;32mexcept\u001b[0m \u001b[0mException\u001b[0m \u001b[0;32mas\u001b[0m \u001b[0merr\u001b[0m\u001b[0;34m:\u001b[0m\u001b[0;34m\u001b[0m\u001b[0;34m\u001b[0m\u001b[0m\n\u001b[1;32m    175\u001b[0m         \u001b[0mtraceback\u001b[0m\u001b[0;34m.\u001b[0m\u001b[0mprint_exception\u001b[0m\u001b[0;34m(\u001b[0m\u001b[0;34m*\u001b[0m\u001b[0msys\u001b[0m\u001b[0;34m.\u001b[0m\u001b[0mexc_info\u001b[0m\u001b[0;34m(\u001b[0m\u001b[0;34m)\u001b[0m\u001b[0;34m)\u001b[0m\u001b[0;34m\u001b[0m\u001b[0;34m\u001b[0m\u001b[0m\n\u001b[0;32m--> 176\u001b[0;31m         \u001b[0;32mraise\u001b[0m \u001b[0mException\u001b[0m\u001b[0;34m(\u001b[0m\u001b[0;34m\"Could not submit the commands\\n\\t\"\u001b[0m\u001b[0;34m+\u001b[0m\u001b[0;34m\"\\n\\t\"\u001b[0m\u001b[0;34m.\u001b[0m\u001b[0mjoin\u001b[0m\u001b[0;34m(\u001b[0m\u001b[0mmap\u001b[0m\u001b[0;34m(\u001b[0m\u001b[0mstr\u001b[0m\u001b[0;34m,\u001b[0m \u001b[0merr\u001b[0m\u001b[0;34m.\u001b[0m\u001b[0margs\u001b[0m\u001b[0;34m)\u001b[0m\u001b[0;34m)\u001b[0m\u001b[0;34m)\u001b[0m\u001b[0;34m\u001b[0m\u001b[0;34m\u001b[0m\u001b[0m\n\u001b[0m\u001b[1;32m    177\u001b[0m \u001b[0;34m\u001b[0m\u001b[0m\n\u001b[1;32m    178\u001b[0m \u001b[0;34m\u001b[0m\u001b[0m\n",
      "\u001b[0;31mException\u001b[0m: Could not submit the commands\n\tERROR in SUBMISSION!"
     ]
    }
   ],
   "source": [
    "# run an energy minimization\n",
    "eminGroSys = emin(groSys, in_imd_path=template_emin_vac)"
   ]
  },
  {
   "cell_type": "code",
   "execution_count": null,
   "metadata": {},
   "outputs": [],
   "source": [
    "# run an SD simulation\n",
    "sdGroSys = sd(eminGroSys, in_imd_path=template_sd)"
   ]
  },
  {
   "cell_type": "markdown",
   "metadata": {},
   "source": [
    "Even trajectories are added automatically to the `gromos_system` object. If files are not automatically attached (for example due to scheduling on a cluster) they can be added via the function `_check_promises()`. This function will go through all files and update them. Some files might only be attached as `future_files` and read in after this function call. `future_files` are files that are not yet available and allow for more flexibility on clusters where jobs might be submitted before the files are available."
   ]
  },
  {
   "cell_type": "code",
   "execution_count": null,
   "metadata": {},
   "outputs": [],
   "source": [
    "sdGroSys._check_promises()"
   ]
  },
  {
   "cell_type": "markdown",
   "metadata": {},
   "source": [
    "### Simple analysis"
   ]
  },
  {
   "cell_type": "markdown",
   "metadata": {},
   "source": [
    "At this stage we successfully ran a `GROMOS` energy minimization followed by a simulation using `PyGromosTools`. However, we still have to analyse the results. Most analysis tasks are performed using trajectories and associated classes offer many helping functions. Trajectories are handled internally as `Pandas` `DataFrame` object, which makes analysis results fast and convenient. Every type of trajectory contains an attribute called `database`, which is of the type `Pandas` `DataFrame`. This `DataFrame` contains all the information of the trajectory and can be handled like any typical `DateFrame`. However, for most common analysis tasks functions are already provided by the respective trajectory class.  \n",
    "\n",
    "For example, if we want to compare the distance of one atom to another one during the simulation we could use the following lines of code:"
   ]
  },
  {
   "cell_type": "code",
   "execution_count": null,
   "metadata": {},
   "outputs": [],
   "source": [
    "sdGroSys.cnf.visualize()"
   ]
  },
  {
   "cell_type": "markdown",
   "metadata": {},
   "source": [
    "The trajectory database contains columns with the atom positions and rows for each time step.."
   ]
  },
  {
   "cell_type": "code",
   "execution_count": null,
   "metadata": {},
   "outputs": [],
   "source": [
    "sdGroSys.trc.database"
   ]
  },
  {
   "cell_type": "markdown",
   "metadata": {},
   "source": [
    "Since all the data is stored in `pandas` `DataFrame` objects, we can easily access the data and modify it with all the tools `pandas` offers. For example we can easily select the distance between two atoms and plot it."
   ]
  },
  {
   "cell_type": "code",
   "execution_count": null,
   "metadata": {},
   "outputs": [],
   "source": [
    "sdGroSys.trc.get_atom_pair_distance_series(2, 8).plot()"
   ]
  },
  {
   "cell_type": "markdown",
   "metadata": {},
   "source": [
    "Similar to cnf files, trc files also provide a `visualize` function. The function will show a 3D video of the trajectory."
   ]
  },
  {
   "cell_type": "code",
   "execution_count": null,
   "metadata": {},
   "outputs": [],
   "source": [
    "# visualize the trajectory\n",
    "sdGroSys.trc.visualize(sdGroSys.cnf)"
   ]
  },
  {
   "cell_type": "markdown",
   "metadata": {},
   "source": [
    "And similar to the trc files, tre files also provide a wide selection of analysis tools out of the box."
   ]
  },
  {
   "cell_type": "code",
   "execution_count": null,
   "metadata": {},
   "outputs": [],
   "source": [
    "sdGroSys.tre.get_totals_total().plot()"
   ]
  },
  {
   "cell_type": "markdown",
   "metadata": {},
   "source": [
    "### Non-standard blocks and simple modifications"
   ]
  },
  {
   "cell_type": "markdown",
   "metadata": {},
   "source": [
    "When devloping with Gromos or experimenting with new features, it can happen that new blocks are defined in `GROMOS`. These blocks are not supported out of the box by `PyGromosTools`. However, `PyGromosTools` is built up highly modular and flexible, which makes it easy to implement extensions. These extensions can be implement at very different levels within the codebase. All classes in `PyGromosTools` that represent files follow a specific structure and offer different implementations to read, write, and, modify the files.  \n",
    "\n",
    "In the following section, we will have a look at a possible modification to a `IMD` file and the structure of `IMD` files."
   ]
  },
  {
   "cell_type": "code",
   "execution_count": null,
   "metadata": {},
   "outputs": [],
   "source": [
    "test_imd = Imd(template_sd)"
   ]
  },
  {
   "cell_type": "markdown",
   "metadata": {},
   "source": [
    "`Imd` inherits from `_general_gromos_file` class. While the `_general_gromos_file` class already has default implementations for reading and writing (`read_file` and `to_string`), these are mostly overwritten by the `Imd` class to suit the special needs of IMD files.  \n",
    "\n",
    "The `Imd` class contains all `IMD` blocks as attributes. These attributes are instances of the `pygromos.files.blocks.imd_blocks` classes. These blocks implement their own read/write functions, which are called from the `Imd` class top down. Every block may have smaller classes for individual fields with their own read/write functions.  \n",
    "\n",
    "If we look at a simple example of a block like the `SYSTEM` block we can achive a deeper understanding of the underlying structure."
   ]
  },
  {
   "cell_type": "code",
   "execution_count": null,
   "metadata": {},
   "outputs": [],
   "source": [
    "from pygromos.files.blocks.imd_blocks import _generic_imd_block\n",
    "class testSYSTEM(_generic_imd_block):\n",
    "    # removed documentation for this example. Original code can be found in pygromos.files.blocks.imd_blocks:145\n",
    "    name: str = \"testSYSTEM\"\n",
    "    # fields\n",
    "    NPM: int  # number of solute molecules\n",
    "    NSM: int  # number of solvent molecules\n",
    "\n",
    "    _order = [[[\"NPM\", \"NSM\"]]]\n",
    "\n",
    "    def __init__(self, NPM:int=0, NSM:int=0, content=None):\n",
    "        super().__init__(used=True, content=content)\n",
    "        if content is None:\n",
    "            self.NPM = int(NPM)\n",
    "            self.NSM = int(NSM)"
   ]
  },
  {
   "cell_type": "markdown",
   "metadata": {},
   "source": [
    "The `testSYSTEM` class inherits from the `_generic_imd_block` class. In this trivial case we can use the default implementation of all block-specific functions like `read_content_from_str` and `block_to_string` provided by `_generic_imd_block`. These functions are set by the `super()` call in the `__init__` function.  \n",
    "\n",
    "All we are doing is telling the super class the keys to expect via the `_order` list and the cast of the attributes to the right types. The `_order` attribute always is a three-dimensional list. The inner two dimensions correspond to lines and fields in the block. For example, we could add another field called \"test\" which we expect to be in the next line by writting:"
   ]
  },
  {
   "cell_type": "code",
   "execution_count": null,
   "metadata": {},
   "outputs": [],
   "source": [
    "_order = [[[\"NPM\", \"NSM\"],[\"test\"]]]"
   ]
  },
  {
   "cell_type": "markdown",
   "metadata": {},
   "source": [
    "As long as the block does not contain matrices (like `PRESSURESCALE`) the default implementation of read/write functions typically suffices. However, with more complex block structures there might be a need to overload these functions."
   ]
  },
  {
   "cell_type": "markdown",
   "metadata": {},
   "source": [
    "Since `_order` is an attribute of the block class, we can easily modify it on the fly. Alternatively, if we are always using a specific order we can simply overwrite the `_order` attribute in the file. This is also a easy way to update `PyGromosTools` to new versions of `GROMOS` blocks."
   ]
  },
  {
   "cell_type": "markdown",
   "metadata": {},
   "source": [
    "### New files for new `GROMOS` functionality"
   ]
  },
  {
   "cell_type": "markdown",
   "metadata": {},
   "source": [
    "Sometimes in the process of developing new functionality, new files are added to `GROMOS`. These files might not be supported out of the box by `PyGromosTools`. However, `PyGromosTools` is built up highly modular and flexible, which makes it easy to implement extensions. These extensions can be implement at very different levels within the codebase. All classes in `PyGromosTools` that represent files follow a specific structure and offer different implementations to read, write, and, modify the files."
   ]
  },
  {
   "cell_type": "markdown",
   "metadata": {},
   "source": [
    "If a new file is needed a close template can be choosen and often default blocks can be reused. An example would be the recently added support for `QMMM` parameter files."
   ]
  },
  {
   "cell_type": "code",
   "execution_count": null,
   "metadata": {},
   "outputs": [],
   "source": [
    "from copy import deepcopy\n",
    "import warnings\n",
    "\n",
    "from pygromos.files._basics import _general_gromos_file, parser\n",
    "from pygromos.files.blocks import qmmm_blocks as blocks\n",
    "\n",
    "\n",
    "\n",
    "class QMMM_test(_general_gromos_file._general_gromos_file):\n",
    "    _gromos_file_ending:str = \"qmmm\"\n",
    "\n",
    "    _orig_file_path:str\n",
    "    path:str\n",
    "    _required_blocks = [\"TITLE\", \"QMZONE\", \"QMUNIT\"]\n",
    "\n",
    "    # POSSIBLE GROMOS BLOCKS\n",
    "    TITLE:  blocks.TITLE\n",
    "    QMZONE: blocks.QMZONE\n",
    "    QMUNIT: blocks.QMUNIT\n",
    "\n",
    "    def __init__(self, in_value:str, _future_file:bool=False):\n",
    "        super().__init__(in_value=in_value, _future_file=_future_file)\n",
    "\n",
    "    def __str__(self):\n",
    "        text = \"\"\n",
    "        if(hasattr(self, \"TITLE\")):\n",
    "            text += self.__getattribute__(\"TITLE\").block_to_string()\n",
    "        for block in sorted(self.get_block_names()):\n",
    "            if(block == \"TITLE\" or isinstance(block, type(None))):\n",
    "                continue\n",
    "            text += str(self.__getattribute__(block))\n",
    "        return text\n",
    "\n",
    "    def read_file(self):\n",
    "        #Read blocks to string\n",
    "        data = parser.read_general_gromos_file(self._orig_file_path)\n",
    "\n",
    "        #translate the string subblocks\n",
    "        blocks = {}\n",
    "        for block_title in data:\n",
    "            self.add_block(blocktitle=block_title, content=data[block_title])\n",
    "            blocks.update({block_title: self.__getattribute__(block_title)})\n",
    "        return blocks"
   ]
  },
  {
   "cell_type": "markdown",
   "metadata": {},
   "source": [
    "In this short example for a new file we can see, that many default functions of the general file class can be reused. The `__init__()` is simply forwarding it, while `__str__()` is slightly modified. And the `read_file()` function is overwritten but still uses the parser from `general.file._basic`."
   ]
  },
  {
   "cell_type": "markdown",
   "metadata": {},
   "source": [
    "This approach has the advantage, that many nice functions and features are inherited from the base classes. For example the ability to access and modify the blocks, but also `copy` functions and the `pickleability` of the class. It makes the design of additional features in gromos simpler and consistent."
   ]
  },
  {
   "cell_type": "markdown",
   "metadata": {},
   "source": [
    "## Release 3"
   ]
  },
  {
   "cell_type": "markdown",
   "metadata": {},
   "source": [
    "### New features"
   ]
  },
  {
   "cell_type": "markdown",
   "metadata": {},
   "source": [
    "Since the last big release (`release3`) many new `PyGromosTools` users have joined the community. And therefore also the needs for new features. And of course new problems and bugs. With some major changes to the core of `PyGromosTools`. This can lead to some incompatibility with older versions but helped us to tackle some bugs. We hope that these kind of redesigns will not have to happen in the future since the package has matured enough. "
   ]
  },
  {
   "cell_type": "markdown",
   "metadata": {},
   "source": [
    "- Big redesigns:\n",
    "  - Copyability and pickleability of all classes\n",
    "  - Restructering of the simulation folder structer to represent the python class hierarchy\n",
    "  - Redesign of the job submission\n",
    "    - `SubmissionSystem` stores more information\n",
    "    - `SubmissionJob` for a single job\n",
    "    - More options and flexibility on `LSF` submissions  \n",
    "  - Faster unit tests\n",
    "\n",
    "- Minor improvements:\n",
    "  - More options for `adapt_imd`\n",
    "  - type correctness for `IMD` class\n",
    "  - additional `TI` features\n",
    "\n",
    "- New Features\n",
    "  - `QMMM` support\n",
    "  - Solvation free energy pipeline\n",
    "  \n"
   ]
  },
  {
   "cell_type": "markdown",
   "metadata": {},
   "source": [
    "### Current bugs"
   ]
  },
  {
   "cell_type": "markdown",
   "metadata": {},
   "source": [
    "Thanks to the growth of the community and the active users, we have also been able to spot more bug and the number of issues is growing rapidly! Of course, that is nice as it means that there are things we can improve on. However, not all issues are clearly bugs but sometimes just calls for missing features or options."
   ]
  },
  {
   "cell_type": "markdown",
   "metadata": {},
   "source": [
    "<p style=\"text-align:center;\">\n",
    "    <img src=\"./figures/PyGromos_Issues.png\" width=700 alt=\"PyGromos Issues\"/>\n",
    "    <div style=\"text-align:center;\">https://github.com/rinikerlab/PyGromosTools/issues</div>\n",
    "</p>"
   ]
  },
  {
   "cell_type": "markdown",
   "metadata": {},
   "source": [
    "Of course, we would like to make `PyGromosTools` as useful to every `Gromos` user as possible. Therefore, we would like to have all possible input. Either via an issue on GitHub (https://github.com/rinikerlab/PyGromosTools/issues) for concrete issues or, for more open problems, via the disscusion page on GitHub (https://github.com/rinikerlab/PyGromosTools/discussions)."
   ]
  },
  {
   "cell_type": "markdown",
   "metadata": {},
   "source": [
    "## Hackathlon"
   ]
  },
  {
   "cell_type": "markdown",
   "metadata": {},
   "source": [
    "Now - 16:30 - we are at the Hackathon!\n",
    "\n",
    "We would like to form small teams to tackle some of the Issues and Discussions."
   ]
  },
  {
   "cell_type": "markdown",
   "metadata": {},
   "source": [
    "## Final Disscussion"
   ]
  },
  {
   "cell_type": "markdown",
   "metadata": {},
   "source": [
    "Starts at 16:30  \n",
    "All team present their progress from the day."
   ]
  },
  {
   "cell_type": "markdown",
   "metadata": {},
   "source": []
  }
 ],
 "metadata": {
  "interpreter": {
   "hash": "b1b7b2ea43b8e767316eee98e01335d045804d2d47db68b6a5827e187ee91a7e"
  },
  "kernelspec": {
   "display_name": "pygro2",
   "language": "python",
   "name": "python3"
  },
  "language_info": {
   "codemirror_mode": {
    "name": "ipython",
    "version": 3
   },
   "file_extension": ".py",
   "mimetype": "text/x-python",
   "name": "python",
   "nbconvert_exporter": "python",
   "pygments_lexer": "ipython3",
   "version": "3.9.7"
  }
 },
 "nbformat": 4,
 "nbformat_minor": 2
}
