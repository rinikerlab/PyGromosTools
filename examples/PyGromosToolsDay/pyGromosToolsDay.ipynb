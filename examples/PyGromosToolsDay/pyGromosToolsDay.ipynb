{
 "cells": [
  {
   "cell_type": "markdown",
   "metadata": {},
   "source": [
    "### Imports and settings for this notebook"
   ]
  },
  {
   "cell_type": "code",
   "execution_count": null,
   "metadata": {},
   "outputs": [],
   "source": [
    "# general notebook formatting for markdown and plots\n",
    "%matplotlib inline\n",
    "%config InlineBackend.figure_format = 'retina'\n",
    "import warnings\n",
    "\n",
    "import matplotlib.pyplot as plt\n",
    "\n",
    "# level of warning\n",
    "warnings.filterwarnings(\"ignore\", category=FutureWarning)\n",
    "warnings.filterwarnings = lambda *a, **kw: None\n",
    "from IPython.core.display import HTML"
   ]
  },
  {
   "cell_type": "code",
   "execution_count": null,
   "metadata": {},
   "outputs": [],
   "source": [
    "# imports for code examples\n",
    "import os\n",
    "\n",
    "from pygromos.files.gromos_system.gromos_system import Gromos_System\n",
    "from pygromos.files.gromos_system.ff.forcefield_system import forcefield_system\n",
    "from pygromos.files.simulation_parameters.imd import Imd\n",
    "\n",
    "from pygromos.simulations.modules.preset_simulation_modules import sd\n",
    "from pygromos.simulations.modules.preset_simulation_modules import emin\n",
    "from pygromos.data.simulation_parameters_templates import template_sd, template_emin_vac"
   ]
  },
  {
   "cell_type": "markdown",
   "metadata": {},
   "source": [
    "# PyGromosToolsDay"
   ]
  },
  {
   "cell_type": "markdown",
   "metadata": {},
   "source": [
    "## Introduction"
   ]
  },
  {
   "cell_type": "markdown",
   "metadata": {},
   "source": [
    "This notebook is created for the PyGromosToolsDay on 17.02.2022    \n",
    "Author: Marc Thierry Lehner  \n",
    "\n",
    "This notebook is part of the package `PyGromosTools` and can be found under:\n",
    "\n",
    "https://github.com/rinikerlab/PyGromosTools/blob/pygromosDay/examples/PyGromosToolsDay/pyGromosToolsDay.ipynb"
   ]
  },
  {
   "cell_type": "markdown",
   "metadata": {},
   "source": [
    "### Schedule for the day\n",
    "<a id='schedule'></a>"
   ]
  },
  {
   "cell_type": "markdown",
   "metadata": {},
   "source": [
    "1. Introduction (start 09:00)\n",
    "  - Welcoming\n",
    "  - [Schedule for the day](#schedule)\n",
    "2. Overview over current state  \n",
    "  - [PyGromosTools - a Python package for `GROMOS` users](#PyGromosTools-a-Python-package-for-GROMOS-users)  \n",
    "    1. [General File Structure](#file_structure)\n",
    "    2. [Simple Simulation](#simple-simulation)\n",
    "    3. [Simple Analysis](#simple-analysis)\n",
    "    4. [Non-standard blocks and simple modifications](#non-standard-blocks-and-simple-modifications)\n",
    "    5. [New files for new gromos functionality](#new-files-for-new-gromos-functionality)\n",
    "3. Discussion of intended new features and current bugs\n",
    "  - [Release 3](#release-3)\n",
    "    1. [New features](#new-features)\n",
    "    2. [Current bugs](#current-bugs)\n",
    "4. Hackathon (on the discussed topics) (start ~11:00)\n",
    "5. Closing assembly and discussion of progress towards next release (start 16:30)\n"
   ]
  },
  {
   "cell_type": "markdown",
   "metadata": {},
   "source": [
    "## PyGromosTools - a Python package for `GROMOS` users"
   ]
  },
  {
   "cell_type": "markdown",
   "metadata": {},
   "source": [
    "`PyGromosTools` is a Python package for `GROMOS` users. It tries to provide an easy to use and unified interface to `GROMOS` in Python. Users of `PyGromosTools` profit from better readability and reproducibility of code, as well as easier pipelining of `GROMOS` simulations."
   ]
  },
  {
   "cell_type": "markdown",
   "metadata": {},
   "source": [
    "`PyGromosTools` is a naturally grown package, which tries to adhere to the needs of all `GROMOS` users."
   ]
  },
  {
   "cell_type": "markdown",
   "metadata": {},
   "source": [
    "At the current state `PyGromosTools` provides:\n",
    "\n",
    "1. gromosXX wrappers\n",
    "2. gromos++ wrappers\n",
    "3. File handling of all `GROMOS` file types for automated creation, modification, and analysis\n",
    "4. Automation and file management system: the central class `gromos_system`\n",
    "5. Simulation submission and execution\n",
    "6. etc.\n",
    "\n",
    "In the following sections, we will see how to use `PyGromosTools` to automate the creation of typical `GROMOS` simulations and how these tools are intended to be used. We will show simple usecases and provide ways to adjust existing classes to accomodate for more complex simulations or new blocks. Finally, we show how you can contribute to `PyGromosTools`. And how to extend `PyGromosTools` to your own needs."
   ]
  },
  {
   "cell_type": "markdown",
   "metadata": {},
   "source": [
    "### General File Structure\n",
    "<a id='file_structure'></a>"
   ]
  },
  {
   "cell_type": "markdown",
   "metadata": {},
   "source": [
    "Since the second major release (TODO: date???) `PyGromosTools` is focused around a class called `gromos_system`. This class is the main entry point of `PyGromosTools` and is used to create, manage and analyse `GROMOS` simulations.  \n",
    "\n",
    "`gromos_system` stores information of all files regarding a simulation and provides methods to create, modify and analyse these files.\n",
    "\n",
    "\n",
    "<p style=\"text-align:center;\">\n",
    "    <img src=\"./figures/gromos_system_overview.png\" width=900 alt=\"gromos_system_overview\"/>\n",
    "    <div style=\"text-align:center;\">Based on B. Ries Thesis</div>\n",
    "</p> "
   ]
  },
  {
   "cell_type": "markdown",
   "metadata": {},
   "source": [
    "`gromos_system` can be initialized in many different ways. The simplest is from existing files. However, there is also the option to create a `gromos_system` object from only a `SMILES` string and a forcefield. Having said that, it has to be mentioned, that for all `GROMOS`-type forcefields the correct `MTB` name is required as well (for now).  \n",
    "\n",
    "In the following example, we first first a `forcefield_system` object that holds all informations regarding the forcefield used. This `forcefield_system` object is then used to create a `gromos_system` from a `SMILES` string.   \n",
    "\n",
    "If the options `adapt_imd_automatically` and `auto_convert` are activated in `gromos_system`, we will not only automatically create  the system topology but also the coordinate file and an adjusted `IMD` file."
   ]
  },
  {
   "cell_type": "code",
   "execution_count": null,
   "metadata": {},
   "outputs": [],
   "source": [
    "work_dir = os.path.abspath(\"./example_sys/\")"
   ]
  },
  {
   "cell_type": "code",
   "execution_count": null,
   "metadata": {},
   "outputs": [],
   "source": [
    "ff = forcefield_system(name=\"2016H66\")\n",
    "ff.mol_name = \"BZN\""
   ]
  },
  {
   "cell_type": "code",
   "execution_count": null,
   "metadata": {},
   "outputs": [],
   "source": [
    "# create the Gromos_System object\n",
    "# paths to Gromos binaries can be provided\n",
    "groSys = Gromos_System(work_folder=work_dir,\n",
    "                system_name=\"test_system\",\n",
    "                in_smiles=\"c1ccccc1\", \n",
    "                #in_gromosPP_bin_dir=\"/home/fpultar/bin/gromos++/bin\",\n",
    "                #in_gromosXX_bin_dir=\"/home/fpultar/bin/gromosXX/bin\",\n",
    "                Forcefield=ff, \n",
    "                adapt_imd_automatically=True,\n",
    "                in_imd_path=template_emin_vac, \n",
    "                auto_convert=True)"
   ]
  },
  {
   "cell_type": "markdown",
   "metadata": {},
   "source": [
    "This `gromos_system` object called `groSys` now contains topology, coordinate, and input files for benzene, all created automatically! \n",
    "\n",
    "We can access all these files as Python classes by via the `groSys.top`, `groSys.cnf` and `groSys.imd` attributes.  \n",
    "All these classe are instances of the `gromos_file` class and have attributes on their own, which are the associated `GROMOS` blocks (and of course sometimes additional content).  \n",
    "\n",
    "For example, we can check if the new topology has a correct TITLE block by accessing the attribute `groSys.top.TITLE`. And we can see, the title block was automatically generated."
   ]
  },
  {
   "cell_type": "code",
   "execution_count": null,
   "metadata": {},
   "outputs": [],
   "source": [
    "#help(groSys.top.TITLE)"
   ]
  },
  {
   "cell_type": "code",
   "execution_count": null,
   "metadata": {},
   "outputs": [],
   "source": [
    "groSys.top.TITLE"
   ]
  },
  {
   "cell_type": "markdown",
   "metadata": {},
   "source": [
    "The same is also true for the other files. It's worth to mention that the coordinate file is generated automatically using the `RDKit` conformer generator under the hood."
   ]
  },
  {
   "cell_type": "code",
   "execution_count": null,
   "metadata": {},
   "outputs": [],
   "source": [
    "groSys.cnf.POSITION"
   ]
  },
  {
   "cell_type": "markdown",
   "metadata": {},
   "source": [
    "All these blocks contain classes for the specific fields. In the case of the `POSITION` block, we have a list of atoms. For each atom, name, type, and position are stored. This makes it easy to make adjustments, search for specific atoms or do some general scripted modifiactions to the positions.\n",
    "\n",
    "<p style=\"text-align:center;\">\n",
    "    <img src=\"./figures/gromos_file.png\" height=300 alt=\"gromos file structure\"/>\n",
    "    <div style=\"text-align:center;\">Based on B. Ries Thesis</div>\n",
    "</p> \n",
    "\n",
    "All the fields have their own attributes and sometimes functions to modify them. For example the `POSITION` block has an `atomP` attribute that stores all the information."
   ]
  },
  {
   "cell_type": "code",
   "execution_count": null,
   "metadata": {},
   "outputs": [],
   "source": [
    "atomP = groSys.cnf.POSITION[1]\n",
    "print(atomP.atomID, atomP.atomType, atomP.resName, atomP.xp)"
   ]
  },
  {
   "cell_type": "markdown",
   "metadata": {},
   "source": [
    "All cnf files can be easily converted to differet file types (e.g. `pdb` or `xyz`) and visualized via the handy `visualize` function. The `visualize` function is intended for notebooks and prototyping but can be used for any other purpose. It's a fully interactive 3D view."
   ]
  },
  {
   "cell_type": "code",
   "execution_count": null,
   "metadata": {},
   "outputs": [],
   "source": [
    "groSys.cnf.visualize()"
   ]
  },
  {
   "cell_type": "markdown",
   "metadata": {},
   "source": [
    "The `gromos_system` class also provides a lot of other useful functionality. It can be used directly with most PyGromosTools wrappers for Gromos++ and it offers many layers of automation for piplines. "
   ]
  },
  {
   "cell_type": "markdown",
   "metadata": {},
   "source": [
    "```python \n",
    "groSys.adapt_imd()  \n",
    "groSys.auto_convert()  \n",
    "...\n",
    "\n",
    "groSys.com_top()  \n",
    "groSys.ran_box()  \n",
    "groSys.add_hydrogens()  \n",
    "groSys.add_ions()  \n",
    "...\n",
    "```"
   ]
  },
  {
   "cell_type": "markdown",
   "metadata": {},
   "source": [
    "### Simple Simulation\n",
    "<a id='simple-simulation'></a>"
   ]
  },
  {
   "cell_type": "markdown",
   "metadata": {},
   "source": [
    "`PyGromosTools` provides a simple way to create a `GROMOS` simulation. This is done by creating a `gromos_system` which is then supplemented with additional files necessary. A simulation is started through selection of one of the preset modules.  \n",
    "\n",
    "`PyGromosTools` offers a wide range of preset simulations. However, these general simulation templates can be easily modified enabling custom setups.  \n",
    "\n",
    "These simulation modules take care of the creation and management of necessary files, execution and scheduling of simulations, and  analysis of results.\n",
    "\n",
    "<p style=\"text-align:center;\">\n",
    "    <img src=\"./figures/simulation_structure.png\" width=600 alt=\"gromos simulation structure\"/>\n",
    "    <div style=\"text-align:center;\">Based on B. Ries Thesis</div>\n",
    "</p> \n",
    "\n",
    "The core of all simulations is a `general_simulation` class. This class is the base class for all simulations and provides methods necessary to support aforementioned features. Simple extensions to this class are classes like `MD`, `SD` and `EMIN`, which mainly provide preset changes in the IMD file. However, `PyGromosTools` also provides a wider range of more complex simulation approaches including `Hvap`, `TI`, etc., which often require multiple lower-level simulations to be run.\n",
    "\n",
    "In all simulation modules, the current date is stored and returned in a `gromos_system` object. This is done to make it easy for users to keeep files clean and analyze the results. All simulation modules furthermore use a so called `submission_system`. These classes store  information about submission of the simulation on a specific plattform (e.g. `Euler`'s LSF or local machines).\n",
    "\n",
    "Successful simulation return a new `Gromos_System` object with an updated set of files. This mechanic makes it easy to chain jobs and build pipelines.\n"
   ]
  },
  {
   "cell_type": "code",
   "execution_count": null,
   "metadata": {},
   "outputs": [],
   "source": [
    "# run an energy minimization\n",
    "eminGroSys = emin(groSys, in_imd_path=template_emin_vac)"
   ]
  },
  {
   "cell_type": "code",
   "execution_count": null,
   "metadata": {},
   "outputs": [],
   "source": [
    "# run an SD simulation\n",
    "sdGroSys = sd(eminGroSys, in_imd_path=template_sd)"
   ]
  },
  {
   "cell_type": "markdown",
   "metadata": {},
   "source": [
    "Even trajectories are added automatically to the `gromos_system` object. If files are not automatically attached (for example due to scheduling on a cluster) they can be added via the function `_check_promises()`. This function will go through all files and update them. Some files might only be attached as `future_files` and read in after this function call. `future_files` are files that are not yet available and allow for more flexibility on clusters where jobs might be submitted before the files are available."
   ]
  },
  {
   "cell_type": "code",
   "execution_count": null,
   "metadata": {},
   "outputs": [],
   "source": [
    "sdGroSys._check_promises()"
   ]
  },
  {
   "cell_type": "markdown",
   "metadata": {},
   "source": [
    "### Simple analysis"
   ]
  },
  {
   "cell_type": "markdown",
   "metadata": {},
   "source": [
    "At this stage we successfully ran a `GROMOS` energy minimization followed by a simulation using `PyGromosTools`. However, we still have to analyse the results. Most analysis tasks are performed using trajectories and associated classes offer many helping functions. Trajectories are handled internally as `Pandas` `DataFrame` object, which makes analysis results fast and convenient. Every type of trajectory contains an attribute called `database`, which is of the type `Pandas` `DataFrame`. This `DataFrame` contains all the information of the trajectory and can be handled like any typical `DateFrame`. However, for most common analysis tasks functions are already provided by the respective trajectory class.  \n",
    "\n",
    "For example, if we want to compare the distance of one atom to another one during the simulation we could use the following lines of code:"
   ]
  },
  {
   "cell_type": "code",
   "execution_count": null,
   "metadata": {},
   "outputs": [],
   "source": [
    "sdGroSys.cnf.visualize()"
   ]
  },
  {
   "cell_type": "markdown",
   "metadata": {},
   "source": [
    "The trajectory database contains columns with the atom positions and rows for each time step.."
   ]
  },
  {
   "cell_type": "code",
   "execution_count": null,
   "metadata": {},
   "outputs": [],
   "source": [
    "sdGroSys.trc.database"
   ]
  },
  {
   "cell_type": "markdown",
   "metadata": {},
   "source": [
    "Since all the data is stored in `pandas` `DataFrame` objects, we can easily access the data and modify it with all the tools `pandas` offers. For example we can easily select the distance between two atoms and plot it."
   ]
  },
  {
   "cell_type": "code",
   "execution_count": null,
   "metadata": {},
   "outputs": [],
   "source": [
    "sdGroSys.trc.get_atom_pair_distance_series(2, 8).plot()"
   ]
  },
  {
   "cell_type": "markdown",
   "metadata": {},
   "source": [
    "Similar to cnf files, trc files also provide a `visualize` function. The function will show a 3D video of the trajectory."
   ]
  },
  {
   "cell_type": "code",
   "execution_count": null,
   "metadata": {},
   "outputs": [],
   "source": [
    "# visualize the trajectory\n",
    "sdGroSys.trc.visualize(sdGroSys.cnf)"
   ]
  },
  {
   "cell_type": "markdown",
   "metadata": {},
   "source": [
    "And similar to the trc files, tre files also provide a wide selection of analysis tools out of the box."
   ]
  },
  {
   "cell_type": "code",
   "execution_count": null,
   "metadata": {},
   "outputs": [],
   "source": [
    "sdGroSys.tre.get_totals_total().plot()"
   ]
  },
  {
   "cell_type": "markdown",
   "metadata": {},
   "source": [
    "### Non-standard blocks and simple modifications"
   ]
  },
  {
   "cell_type": "markdown",
   "metadata": {},
   "source": [
    "When devloping with Gromos or experimenting with new features, it can happen that new blocks are defined in `GROMOS`. These blocks are not supported out of the box by `PyGromosTools`. However, `PyGromosTools` is built up highly modular and flexible, which makes it easy to implement extensions. These extensions can be implement at very different levels within the codebase. All classes in `PyGromosTools` that represent files follow a specific structure and offer different implementations to read, write, and, modify the files.  \n",
    "\n",
    "In the following section, we will have a look at a possible modification to a `IMD` file and the structure of `IMD` files."
   ]
  },
  {
   "cell_type": "code",
   "execution_count": null,
   "metadata": {},
   "outputs": [],
   "source": [
    "test_imd = Imd(template_sd)"
   ]
  },
  {
   "cell_type": "markdown",
   "metadata": {},
   "source": [
    "`Imd` inherits from `_general_gromos_file` class. While the `_general_gromos_file` class already has default implementations for reading and writing (`read_file` and `to_string`), these are mostly overwritten by the `Imd` class to suit the special needs of IMD files.  \n",
    "\n",
    "The `Imd` class contains all `IMD` blocks as attributes. These attributes are instances of the `pygromos.files.blocks.imd_blocks` classes. These blocks implement their own read/write functions, which are called from the `Imd` class top down. Every block may have smaller classes for individual fields with their own read/write functions.  \n",
    "\n",
    "If we look at a simple example of a block like the `SYSTEM` block we can achive a deeper understanding of the underlying structure."
   ]
  },
  {
   "cell_type": "code",
   "execution_count": null,
   "metadata": {},
   "outputs": [],
   "source": [
    "from pygromos.files.blocks.imd_blocks import _generic_imd_block\n",
    "class testSYSTEM(_generic_imd_block):\n",
    "    # removed documentation for this example. Original code can be found in pygromos.files.blocks.imd_blocks:145\n",
    "    name: str = \"testSYSTEM\"\n",
    "    # fields\n",
    "    NPM: int  # number of solute molecules\n",
    "    NSM: int  # number of solvent molecules\n",
    "\n",
    "    _order = [[[\"NPM\", \"NSM\"]]]\n",
    "\n",
    "    def __init__(self, NPM:int=0, NSM:int=0, content=None):\n",
    "        super().__init__(used=True, content=content)\n",
    "        if content is None:\n",
    "            self.NPM = int(NPM)\n",
    "            self.NSM = int(NSM)"
   ]
  },
  {
   "cell_type": "markdown",
   "metadata": {},
   "source": [
    "The `testSYSTEM` class inherits from the `_generic_imd_block` class. In this trivial case we can use the default implementation of all block-specific functions like `read_content_from_str` and `block_to_string` provided by `_generic_imd_block`. These functions are set by the `super()` call in the `__init__` function.  \n",
    "\n",
    "All we are doing is telling the super class the keys to expect via the `_order` list and the cast of the attributes to the right types. The `_order` attribute always is a three-dimensional list. The inner two dimensions correspond to lines and fields in the block. For example, we could add another field called \"test\" which we expect to be in the next line by writting:"
   ]
  },
  {
   "cell_type": "code",
   "execution_count": null,
   "metadata": {},
   "outputs": [],
   "source": [
    "_order = [[[\"NPM\", \"NSM\"],[\"test\"]]]"
   ]
  },
  {
   "cell_type": "markdown",
   "metadata": {},
   "source": [
    "As long as the block does not contain matrices (like `PRESSURESCALE`) the default implementation of read/write functions typically suffices. However, with more complex block structures there might be a need to overload these functions."
   ]
  },
  {
   "cell_type": "markdown",
   "metadata": {},
   "source": [
    "Since `_order` is an attribute of the block class, we can easily modify it on the fly. Alternatively, if we are always using a specific order we can simply overwrite the `_order` attribute in the file. This is also a easy way to update `PyGromosTools` to new versions of `GROMOS` blocks."
   ]
  },
  {
   "cell_type": "markdown",
   "metadata": {},
   "source": [
    "### New files for new `GROMOS` functionality"
   ]
  },
  {
   "cell_type": "markdown",
   "metadata": {},
   "source": [
    "Sometimes in the process of developing new functionality, new files are added to `GROMOS`. These files might not be supported out of the box by `PyGromosTools`. However, `PyGromosTools` is built up highly modular and flexible, which makes it easy to implement extensions. These extensions can be implement at very different levels within the codebase. All classes in `PyGromosTools` that represent files follow a specific structure and offer different implementations to read, write, and, modify the files."
   ]
  },
  {
   "cell_type": "markdown",
   "metadata": {},
   "source": [
    "If a new file is needed a close template can be choosen and often default blocks can be reused. An example would be the recently added support for `QMMM` parameter files."
   ]
  },
  {
   "cell_type": "code",
   "execution_count": null,
   "metadata": {},
   "outputs": [],
   "source": [
    "from copy import deepcopy\n",
    "import warnings\n",
    "\n",
    "from pygromos.files._basics import _general_gromos_file, parser\n",
    "from pygromos.files.blocks import qmmm_blocks as blocks\n",
    "\n",
    "\n",
    "\n",
    "class QMMM_test(_general_gromos_file._general_gromos_file):\n",
    "    _gromos_file_ending:str = \"qmmm\"\n",
    "\n",
    "    _orig_file_path:str\n",
    "    path:str\n",
    "    _required_blocks = [\"TITLE\", \"QMZONE\", \"QMUNIT\"]\n",
    "\n",
    "    # POSSIBLE GROMOS BLOCKS\n",
    "    TITLE:  blocks.TITLE\n",
    "    QMZONE: blocks.QMZONE\n",
    "    QMUNIT: blocks.QMUNIT\n",
    "\n",
    "    def __init__(self, in_value:str, _future_file:bool=False):\n",
    "        super().__init__(in_value=in_value, _future_file=_future_file)\n",
    "\n",
    "    def __str__(self):\n",
    "        text = \"\"\n",
    "        if(hasattr(self, \"TITLE\")):\n",
    "            text += self.__getattribute__(\"TITLE\").block_to_string()\n",
    "        for block in sorted(self.get_block_names()):\n",
    "            if(block == \"TITLE\" or isinstance(block, type(None))):\n",
    "                continue\n",
    "            text += str(self.__getattribute__(block))\n",
    "        return text\n",
    "\n",
    "    def read_file(self):\n",
    "        #Read blocks to string\n",
    "        data = parser.read_general_gromos_file(self._orig_file_path)\n",
    "\n",
    "        #translate the string subblocks\n",
    "        blocks = {}\n",
    "        for block_title in data:\n",
    "            self.add_block(blocktitle=block_title, content=data[block_title])\n",
    "            blocks.update({block_title: self.__getattribute__(block_title)})\n",
    "        return blocks"
   ]
  },
  {
   "cell_type": "markdown",
   "metadata": {},
   "source": [
    "In this short example for a new file we can see, that many default functions of the general file class can be reused. The `__init__()` is simply forwarding it, while `__str__()` is slightly modified. And the `read_file()` function is overwritten but still uses the parser from `general.file._basic`."
   ]
  },
  {
   "cell_type": "markdown",
   "metadata": {},
   "source": [
    "This approach has the advantage, that many nice functions and features are inherited from the base classes. For example the ability to access and modify the blocks, but also `copy` functions and the `pickleability` of the class. It makes the design of additional features in gromos simpler and consistent."
   ]
  },
  {
   "cell_type": "markdown",
   "metadata": {},
   "source": [
    "## Release 3"
   ]
  },
  {
   "cell_type": "markdown",
   "metadata": {},
   "source": [
    "### New features"
   ]
  },
  {
   "cell_type": "markdown",
   "metadata": {},
   "source": [
    "Since the last big release (`release3`) many new `PyGromosTools` users have joined the community. And therefore also the needs for new features. And of course new problems and bugs. With some major changes to the core of `PyGromosTools`. This can lead to some incompatibility with older versions but helped us to tackle some bugs. We hope that these kind of redesigns will not have to happen in the future since the package has matured enough. "
   ]
  },
  {
   "cell_type": "markdown",
   "metadata": {},
   "source": [
    "- Big redesigns:\n",
    "  - Copyability and pickleability of all classes\n",
    "  - Restructering of the simulation folder structer to represent the python class hierarchy\n",
    "  - Redesign of the job submission\n",
    "    - `SubmissionSystem` stores more information\n",
    "    - `SubmissionJob` for a single job\n",
    "    - More options and flexibility on `LSF` submissions  \n",
    "  - Faster unit tests\n",
    "\n",
    "- Minor improvements:\n",
    "  - More options for `adapt_imd`\n",
    "  - type correctness for `IMD` class\n",
    "  - additional `TI` features\n",
    "\n",
    "- New Features\n",
    "  - `QMMM` support\n",
    "  - Solvation free energy pipeline\n",
    "  \n"
   ]
  },
  {
   "cell_type": "markdown",
   "metadata": {},
   "source": [
    "### Current bugs"
   ]
  },
  {
   "cell_type": "markdown",
   "metadata": {},
   "source": [
    "Thanks to the growth of the community and the active users, we have also been able to spot more bug and the number of issues is growing rapidly! Of course, that is nice as it means that there are things we can improve on. However, not all issues are clearly bugs but sometimes just calls for missing features or options."
   ]
  },
  {
   "cell_type": "markdown",
   "metadata": {},
   "source": [
    "<p style=\"text-align:center;\">\n",
    "    <img src=\"./figures/PyGromos_Issues.png\" width=700 alt=\"PyGromos Issues\"/>\n",
    "    <div style=\"text-align:center;\">https://github.com/rinikerlab/PyGromosTools/issues</div>\n",
    "</p>"
   ]
  },
  {
   "cell_type": "markdown",
   "metadata": {},
   "source": [
    "Of course, we would like to make `PyGromosTools` as useful to every `Gromos` user as possible. Therefore, we would like to have all possible input. Either via an issue on GitHub (https://github.com/rinikerlab/PyGromosTools/issues) for concrete issues or, for more open problems, via the disscusion page on GitHub (https://github.com/rinikerlab/PyGromosTools/discussions)."
   ]
  },
  {
   "cell_type": "markdown",
   "metadata": {},
   "source": [
    "## Hackathlon"
   ]
  },
  {
   "cell_type": "markdown",
   "metadata": {},
   "source": [
    "Now - 16:30 - we are at the Hackathon!\n",
    "\n",
    "We would like to form small teams to tackle some of the Issues and Discussions."
   ]
  },
  {
   "cell_type": "markdown",
   "metadata": {},
   "source": [
    "## Final Disscussion"
   ]
  },
  {
   "cell_type": "markdown",
   "metadata": {},
   "source": [
    "Starts at 16:30  \n",
    "All team present their progress from the day."
   ]
  },
  {
   "cell_type": "markdown",
   "metadata": {},
   "source": []
  }
 ],
 "metadata": {
  "language_info": {
   "name": "python"
  }
 },
 "nbformat": 4,
 "nbformat_minor": 2
}
