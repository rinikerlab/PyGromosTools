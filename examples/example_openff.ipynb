{
 "cells": [
  {
   "cell_type": "code",
   "execution_count": 1,
   "metadata": {},
   "outputs": [
    {
     "name": "stderr",
     "output_type": "stream",
     "text": [
      "Warning: Unable to load toolkit 'OpenEye Toolkit'. The Open Force Field Toolkit does not require the OpenEye Toolkits, and can use RDKit/AmberTools instead. However, if you have a valid license for the OpenEye Toolkits, consider installing them for faster performance and additional file format support: https://docs.eyesopen.com/toolkits/python/quickstart-python/linuxosx.html OpenEye offers free Toolkit licenses for academics: https://www.eyesopen.com/academic-licensing\n"
     ]
    }
   ],
   "source": [
    "import os\n",
    "import pygromos\n",
    "from pygromos.files.gromos_system.ff.forcefield_system import forcefield_system\n",
    "from pygromos.files.gromos_system.gromos_system import Gromos_System"
   ]
  },
  {
   "cell_type": "code",
   "execution_count": 2,
   "metadata": {},
   "outputs": [],
   "source": [
    "project_dir = os.path.abspath(os.path.dirname(pygromos.__file__)+\"/../examples/example_files/off_files/\")"
   ]
  },
  {
   "cell_type": "code",
   "execution_count": 3,
   "metadata": {},
   "outputs": [
    {
     "name": "stdout",
     "output_type": "stream",
     "text": [
      "Found off: /home/mlehner/PyGromosTools/pygromos/data/ff/SMIRNOFF/openff_unconstrained-2.0.0.offxml\n"
     ]
    }
   ],
   "source": [
    "ff = forcefield_system(\"off\")"
   ]
  },
  {
   "cell_type": "code",
   "execution_count": 4,
   "metadata": {},
   "outputs": [
    {
     "name": "stdout",
     "output_type": "stream",
     "text": [
      "\n",
      "\n",
      "==================\n",
      "\tCHECK dependencies\n",
      "\n",
      "Check /home/mlehner/PyGromosTools/examples/example_files/off_files\n",
      "Check /home/mlehner/PyGromosTools/examples/example_files/off_files/gas_sd.imd\n",
      "/home/mlehner/PyGromosTools/examples/example_files/off_files\n",
      "/home/mlehner/PyGromosTools/examples/example_files/off_files/gas_sd.imd\n",
      "All dependencies are correct! \n",
      "\n",
      "\n",
      "Parsing File:  imd\n",
      "Generate Empty:  top\n",
      "Generate Empty:  cnf\n",
      "Please make sure to use harmonic forces for simulations with OpenForceField torsions\n"
     ]
    }
   ],
   "source": [
    "gsys = Gromos_System(work_folder=project_dir, \n",
    "                     system_name=\"testOFF\", \n",
    "                     Forcefield=ff, \n",
    "                     in_smiles=\"C1CCCCC1\",\n",
    "                     in_imd_path=project_dir+\"/gas_sd.imd\", \n",
    "                     auto_convert=True, \n",
    "                     adapt_imd_automatically=True)"
   ]
  },
  {
   "cell_type": "code",
   "execution_count": 5,
   "metadata": {},
   "outputs": [],
   "source": [
    "gsys.top.make_ordered()"
   ]
  },
  {
   "cell_type": "code",
   "execution_count": 6,
   "metadata": {},
   "outputs": [
    {
     "data": {
      "text/plain": [
       "SOLUTEATOM\n",
       "#   NRP: number of solute atoms\n",
       " \t 18\n",
       "#  ATNM: atom number\n",
       "#  MRES: residue number\n",
       "#  PANM: atom name of solute atom\n",
       "#   IAC: integer (van der Waals) atom type code\n",
       "#  MASS: mass of solute atom\n",
       "#    CG: charge of solute atom\n",
       "#   CGC: charge group code (0 or 1)\n",
       "#   INE: number of excluded atoms\n",
       "# INE14: number of 1-4 interactions\n",
       "# ATNM MRES PANM IAC     MASS       CG  CGC INE\n",
       "#                                           INE14\n",
       "\t1\t1\tC1\t1\t12.01078\t-0.0764\t0\t10\t2\t3\t5\t6\t7\t8\n",
       "\t\t\t\t\t\t\t\t\t\t\t9\t10\t17\t18\n",
       "\t\t\t\t\t\t\t\t\t\t5\t4\t11\t12\t15\t16\n",
       "\t2\t1\tC2\t1\t12.01078\t-0.0764\t0\t9\t3\t4\t6\t7\t8\t9\n",
       "\t\t\t\t\t\t\t\t\t\t\t10\t11\t12\n",
       "\t\t\t\t\t\t\t\t\t\t5\t5\t13\t14\t17\t18\n",
       "\t3\t1\tC3\t1\t12.01078\t-0.0764\t0\t8\t4\t5\t9\t10\t11\t12\n",
       "\t\t\t\t\t\t\t\t\t\t\t13\t14\n",
       "\t\t\t\t\t\t\t\t\t\t5\t6\t7\t8\t15\t16\n",
       "\t4\t1\tC4\t1\t12.01078\t-0.0764\t0\t8\t5\t6\t11\t12\t13\t14\n",
       "\t\t\t\t\t\t\t\t\t\t\t15\t16\n",
       "\t\t\t\t\t\t\t\t\t\t4\t9\t10\t17\t18\n",
       "\t5\t1\tC5\t1\t12.01078\t-0.0764\t0\t7\t6\t13\t14\t15\t16\t17\n",
       "\t\t\t\t\t\t\t\t\t\t\t18\n",
       "\t\t\t\t\t\t\t\t\t\t4\t7\t8\t11\t12\n",
       "\t6\t1\tC6\t1\t12.01078\t-0.0764\t0\t6\t7\t8\t15\t16\t17\t18\n",
       "\t\t\t\t\t\t\t\t\t\t4\t9\t10\t13\t14\n",
       "\t7\t1\tH1\t2\t1.007947\t0.0382\t0\t1\t8\n",
       "\t\t\t\t\t\t\t\t\t\t4\t9\t10\t17\t18\n",
       "\t8\t1\tH2\t2\t1.007947\t0.0382\t0\t0\n",
       "\t\t\t\t\t\t\t\t\t\t4\t9\t10\t17\t18\n",
       "\t9\t1\tH3\t2\t1.007947\t0.0382\t0\t1\t10\n",
       "\t\t\t\t\t\t\t\t\t\t2\t11\t12\n",
       "\t10\t1\tH4\t2\t1.007947\t0.0382\t0\t0\n",
       "\t\t\t\t\t\t\t\t\t\t2\t11\t12\n",
       "\t11\t1\tH5\t2\t1.007947\t0.0382\t0\t1\t12\n",
       "\t\t\t\t\t\t\t\t\t\t2\t13\t14\n",
       "\t12\t1\tH6\t2\t1.007947\t0.0382\t0\t0\n",
       "\t\t\t\t\t\t\t\t\t\t2\t13\t14\n",
       "\t13\t1\tH7\t2\t1.007947\t0.0382\t0\t1\t14\n",
       "\t\t\t\t\t\t\t\t\t\t2\t15\t16\n",
       "\t14\t1\tH8\t2\t1.007947\t0.0382\t0\t0\n",
       "\t\t\t\t\t\t\t\t\t\t2\t15\t16\n",
       "\t15\t1\tH9\t2\t1.007947\t0.0382\t0\t1\t16\n",
       "\t\t\t\t\t\t\t\t\t\t2\t17\t18\n",
       "\t16\t1\tH10\t2\t1.007947\t0.0382\t0\t0\n",
       "\t\t\t\t\t\t\t\t\t\t2\t17\t18\n",
       "\t17\t1\tH11\t2\t1.007947\t0.0382\t0\t1\t18\n",
       "\t\t\t\t\t\t\t\t\t\t0\n",
       "\t18\t1\tH12\t2\t1.007947\t0.0382\t1\t0\n",
       "\t\t\t\t\t\t\t\t\t\t0\n",
       "END"
      ]
     },
     "execution_count": 6,
     "metadata": {},
     "output_type": "execute_result"
    }
   ],
   "source": [
    "gsys.top.SOLUTEATOM"
   ]
  },
  {
   "cell_type": "code",
   "execution_count": 7,
   "metadata": {},
   "outputs": [],
   "source": [
    "gsys.rebase_files()"
   ]
  },
  {
   "cell_type": "code",
   "execution_count": 8,
   "metadata": {},
   "outputs": [
    {
     "data": {
      "text/plain": [
       "AMBER\n",
       "# \t AMBER \t AMBSCAL\n",
       " \t 1 \t 1.200000 \t \n",
       "END"
      ]
     },
     "execution_count": 8,
     "metadata": {},
     "output_type": "execute_result"
    }
   ],
   "source": [
    "gsys.imd.AMBER"
   ]
  },
  {
   "cell_type": "code",
   "execution_count": 9,
   "metadata": {},
   "outputs": [
    {
     "data": {
      "text/plain": [
       "FORCE\n",
       "# \t BONDS \t ANGLES \t IMPROPER \t DIHEDRAL \t ELECTROSTATIC \t VDW\n",
       " \t 0 \t 1 \t 1 \t 1 \t 1 \t 1 \t \n",
       "# \t NEGR \t NRE\n",
       " \t 1 \t 18 \t \n",
       "END"
      ]
     },
     "execution_count": 9,
     "metadata": {},
     "output_type": "execute_result"
    }
   ],
   "source": [
    "gsys.imd.FORCE"
   ]
  },
  {
   "cell_type": "code",
   "execution_count": 10,
   "metadata": {},
   "outputs": [],
   "source": [
    "atom = gsys.cnf.POSITION[7]"
   ]
  },
  {
   "cell_type": "code",
   "execution_count": 11,
   "metadata": {},
   "outputs": [
    {
     "data": {
      "text/plain": [
       "'H'"
      ]
     },
     "execution_count": 11,
     "metadata": {},
     "output_type": "execute_result"
    }
   ],
   "source": [
    "atom.atomType"
   ]
  }
 ],
 "metadata": {
  "interpreter": {
   "hash": "b1b7b2ea43b8e767316eee98e01335d045804d2d47db68b6a5827e187ee91a7e"
  },
  "kernelspec": {
   "display_name": "Python 3.9.7 64-bit ('pygro2': conda)",
   "name": "python3"
  },
  "language_info": {
   "codemirror_mode": {
    "name": "ipython",
    "version": 3
   },
   "file_extension": ".py",
   "mimetype": "text/x-python",
   "name": "python",
   "nbconvert_exporter": "python",
   "pygments_lexer": "ipython3",
   "version": "3.9.7"
  },
  "orig_nbformat": 4
 },
 "nbformat": 4,
 "nbformat_minor": 2
}
