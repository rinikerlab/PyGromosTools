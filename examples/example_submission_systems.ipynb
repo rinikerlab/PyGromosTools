{
 "cells": [
  {
   "cell_type": "markdown",
   "metadata": {},
   "source": [
    "# Submission Systems \n",
    "Submission system play an important role, if you want to develop your pygromos code. Many times, they are hidden in the Simulation_runner blocks. But maybe you want to develop something, where you need direct access on the submission system? \n",
    "\n",
    "This notebook will give you some examples, how you can use the submission systems.\n",
    "Note that all submission systems are write in the same ways, such you can exchange them quickly."
   ]
  },
  {
   "cell_type": "code",
   "execution_count": 1,
   "metadata": {},
   "outputs": [],
   "source": [
    "from pygromos.simulations.hpc_queuing.submission_systems import local # this executes your code in your local session.\n",
    "from pygromos.simulations.hpc_queuing.submission_systems import lsf # this module can be used to submit to the lsf-queue (e.g. on euler)\n",
    "from pygromos.simulations.hpc_queuing.submission_systems import dummy # this is a dummy system, that only prints the commands"
   ]
  },
  {
   "cell_type": "markdown",
   "metadata": {},
   "source": [
    "## Local Submission\n",
    "\n",
    "This system executes the commands directly in your current session. This allows you to locally test or execute your code. Maybe if your process needs much more time, you want later to switch to a submission system for job-queueing."
   ]
  },
  {
   "cell_type": "code",
   "execution_count": 2,
   "metadata": {},
   "outputs": [],
   "source": [
    "sub_local = local.LOCAL()\n",
    "sub_local.verbose = True"
   ]
  },
  {
   "cell_type": "code",
   "execution_count": 3,
   "metadata": {},
   "outputs": [
    {
     "name": "stdout",
     "output_type": "stream",
     "text": [
      "Submission Command: \t s l e e p   2 ;   e c h o   \" W U H A \" ;   s l e e p   2\n",
      "STDOUT: \n",
      "\t\tb'WUHA\\n'\n",
      "END\n",
      "\n"
     ]
    },
    {
     "data": {
      "text/plain": [
       "0"
      ]
     },
     "execution_count": 3,
     "metadata": {},
     "output_type": "execute_result"
    }
   ],
   "source": [
    "bash_command = \"sleep 2; echo \\\"WUHA\\\"; sleep 2\"\n",
    "\n",
    "job_id = sub_local.submit_to_queue(bash_command)\n",
    "job_id"
   ]
  },
  {
   "cell_type": "code",
   "execution_count": 4,
   "metadata": {},
   "outputs": [
    {
     "name": "stdout",
     "output_type": "stream",
     "text": [
      "Searching ID:  FUN\n"
     ]
    },
    {
     "name": "stderr",
     "output_type": "stream",
     "text": [
      "/cluster/home/bschroed/code/pygromos/pygromos/hpc_queuing/submission_systems/local.py:159: UserWarning: Queue search was called, but no queue present!\n",
      "  warnings.warn(\"Queue search was called, but no queue present!\")\n"
     ]
    },
    {
     "data": {
      "text/plain": [
       "[]"
      ]
     },
     "execution_count": 4,
     "metadata": {},
     "output_type": "execute_result"
    }
   ],
   "source": [
    "#This is a dummy function, to not break the code!\n",
    "sub_local.get_jobs_from_queue(\"FUN\")"
   ]
  },
  {
   "cell_type": "markdown",
   "metadata": {},
   "source": [
    "## LSF Submission\n",
    "\n",
    "The Lsf submission system allows to submit jobs to the IBM LSF-Queueing system.\n",
    "\n",
    "**Careful! This part requires a running LSF-Queueing System on your System**\n",
    "\n",
    "You can submit and kill jobs and arrays to the queue, as well as getting information from the queuing list."
   ]
  },
  {
   "cell_type": "code",
   "execution_count": 5,
   "metadata": {},
   "outputs": [],
   "source": [
    "#Construct system:\n",
    "sub_lsf = lsf.LSF(nmpi=1, job_duration = \"24:00\", max_storage=100)\n",
    "sub_lsf.verbose = True\n",
    "\n",
    "sub_lsf._refresh_job_queue_list_all_s = 0 #you must wait at least 1s to update job_queue list"
   ]
  },
  {
   "cell_type": "markdown",
   "metadata": {},
   "source": [
    "### Queue Checking:"
   ]
  },
  {
   "cell_type": "code",
   "execution_count": 14,
   "metadata": {},
   "outputs": [
    {
     "name": "stdout",
     "output_type": "stream",
     "text": [
      "Skipping refresh of job list, as the last update is 0:00:00.005036s ago\n"
     ]
    },
    {
     "data": {
      "text/html": [
       "<div>\n",
       "<style scoped>\n",
       "    .dataframe tbody tr th:only-of-type {\n",
       "        vertical-align: middle;\n",
       "    }\n",
       "\n",
       "    .dataframe tbody tr th {\n",
       "        vertical-align: top;\n",
       "    }\n",
       "\n",
       "    .dataframe thead th {\n",
       "        text-align: right;\n",
       "    }\n",
       "</style>\n",
       "<table border=\"1\" class=\"dataframe\">\n",
       "  <thead>\n",
       "    <tr style=\"text-align: right;\">\n",
       "      <th></th>\n",
       "      <th>JOBID</th>\n",
       "      <th>USER</th>\n",
       "      <th>STAT</th>\n",
       "      <th>QUEUE</th>\n",
       "      <th>FROM_HOST</th>\n",
       "      <th>EXEC_HOST</th>\n",
       "      <th>JOB_NAME</th>\n",
       "      <th>SUBMIT_TIME</th>\n",
       "    </tr>\n",
       "  </thead>\n",
       "  <tbody>\n",
       "    <tr>\n",
       "      <th>173367408</th>\n",
       "      <td>173367408</td>\n",
       "      <td>bschroed</td>\n",
       "      <td>RUN</td>\n",
       "      <td>normal.24h</td>\n",
       "      <td>eu-g1-033-1</td>\n",
       "      <td>eu-ms-001-21</td>\n",
       "      <td>Test1</td>\n",
       "      <td>2021-05-26 10:15:00</td>\n",
       "    </tr>\n",
       "    <tr>\n",
       "      <th>173367453</th>\n",
       "      <td>173367453</td>\n",
       "      <td>bschroed</td>\n",
       "      <td>PEND</td>\n",
       "      <td>normal.24h</td>\n",
       "      <td>eu-g1-033-1</td>\n",
       "      <td>-</td>\n",
       "      <td>Test0</td>\n",
       "      <td>2021-05-26 10:15:00</td>\n",
       "    </tr>\n",
       "    <tr>\n",
       "      <th>173367455</th>\n",
       "      <td>173367455</td>\n",
       "      <td>bschroed</td>\n",
       "      <td>PEND</td>\n",
       "      <td>normal.24h</td>\n",
       "      <td>eu-g1-033-1</td>\n",
       "      <td>-</td>\n",
       "      <td>Test1</td>\n",
       "      <td>2021-05-26 10:15:00</td>\n",
       "    </tr>\n",
       "    <tr>\n",
       "      <th>173367459</th>\n",
       "      <td>173367459</td>\n",
       "      <td>bschroed</td>\n",
       "      <td>EXIT</td>\n",
       "      <td>normal.24h</td>\n",
       "      <td>eu-g1-033-1</td>\n",
       "      <td>-</td>\n",
       "      <td>Test2</td>\n",
       "      <td>2021-05-26 10:15:00</td>\n",
       "    </tr>\n",
       "  </tbody>\n",
       "</table>\n",
       "</div>"
      ],
      "text/plain": [
       "               JOBID      USER  STAT       QUEUE    FROM_HOST     EXEC_HOST  \\\n",
       "173367408  173367408  bschroed   RUN  normal.24h  eu-g1-033-1  eu-ms-001-21   \n",
       "173367453  173367453  bschroed  PEND  normal.24h  eu-g1-033-1             -   \n",
       "173367455  173367455  bschroed  PEND  normal.24h  eu-g1-033-1             -   \n",
       "173367459  173367459  bschroed  EXIT  normal.24h  eu-g1-033-1             -   \n",
       "\n",
       "          JOB_NAME         SUBMIT_TIME  \n",
       "173367408    Test1 2021-05-26 10:15:00  \n",
       "173367453    Test0 2021-05-26 10:15:00  \n",
       "173367455    Test1 2021-05-26 10:15:00  \n",
       "173367459    Test2 2021-05-26 10:15:00  "
      ]
     },
     "execution_count": 14,
     "metadata": {},
     "output_type": "execute_result"
    }
   ],
   "source": [
    "sub_lsf.get_queued_jobs()\n",
    "sub_lsf.job_queue_list"
   ]
  },
  {
   "cell_type": "markdown",
   "metadata": {},
   "source": [
    "### Submission:\n",
    "here you can submit jobs to the queue as bash commands"
   ]
  },
  {
   "cell_type": "code",
   "execution_count": 7,
   "metadata": {},
   "outputs": [
    {
     "name": "stdout",
     "output_type": "stream",
     "text": [
      "writing tmp-submission-file to:  ./job_Test1.sh\n",
      "Submission Command: \t bsub -JTest1 -W 24:00 -o Test1.out -n 1 -R rusage[mem=100] ./job_Test1.sh\n",
      "process returned id: 173367408\n"
     ]
    }
   ],
   "source": [
    "bash_command = \"sleep 5; echo \\\"WUHA\\\"; sleep 2\"\n",
    "job_name = \"Test1\"\n",
    "\n",
    "job_id = sub_lsf.submit_to_queue(command=bash_command, jobName=job_name)"
   ]
  },
  {
   "cell_type": "code",
   "execution_count": 8,
   "metadata": {},
   "outputs": [
    {
     "data": {
      "text/html": [
       "<div>\n",
       "<style scoped>\n",
       "    .dataframe tbody tr th:only-of-type {\n",
       "        vertical-align: middle;\n",
       "    }\n",
       "\n",
       "    .dataframe tbody tr th {\n",
       "        vertical-align: top;\n",
       "    }\n",
       "\n",
       "    .dataframe thead th {\n",
       "        text-align: right;\n",
       "    }\n",
       "</style>\n",
       "<table border=\"1\" class=\"dataframe\">\n",
       "  <thead>\n",
       "    <tr style=\"text-align: right;\">\n",
       "      <th></th>\n",
       "      <th>JOBID</th>\n",
       "      <th>USER</th>\n",
       "      <th>STAT</th>\n",
       "      <th>QUEUE</th>\n",
       "      <th>FROM_HOST</th>\n",
       "      <th>EXEC_HOST</th>\n",
       "      <th>JOB_NAME</th>\n",
       "      <th>SUBMIT_TIME</th>\n",
       "    </tr>\n",
       "  </thead>\n",
       "  <tbody>\n",
       "    <tr>\n",
       "      <th>173367408</th>\n",
       "      <td>173367408</td>\n",
       "      <td>bschroed</td>\n",
       "      <td>PEND</td>\n",
       "      <td>normal.24h</td>\n",
       "      <td>eu-g1-033-1</td>\n",
       "      <td>-</td>\n",
       "      <td>Test1</td>\n",
       "      <td>2021-05-26 10:15:00</td>\n",
       "    </tr>\n",
       "  </tbody>\n",
       "</table>\n",
       "</div>"
      ],
      "text/plain": [
       "               JOBID      USER  STAT       QUEUE    FROM_HOST EXEC_HOST  \\\n",
       "173367408  173367408  bschroed  PEND  normal.24h  eu-g1-033-1         -   \n",
       "\n",
       "          JOB_NAME         SUBMIT_TIME  \n",
       "173367408    Test1 2021-05-26 10:15:00  "
      ]
     },
     "execution_count": 8,
     "metadata": {},
     "output_type": "execute_result"
    }
   ],
   "source": [
    "#search for the just submitted job in the queue\n",
    "sub_lsf.search_queue_for_jobid(job_id)"
   ]
  },
  {
   "cell_type": "code",
   "execution_count": 9,
   "metadata": {},
   "outputs": [
    {
     "data": {
      "text/html": [
       "<div>\n",
       "<style scoped>\n",
       "    .dataframe tbody tr th:only-of-type {\n",
       "        vertical-align: middle;\n",
       "    }\n",
       "\n",
       "    .dataframe tbody tr th {\n",
       "        vertical-align: top;\n",
       "    }\n",
       "\n",
       "    .dataframe thead th {\n",
       "        text-align: right;\n",
       "    }\n",
       "</style>\n",
       "<table border=\"1\" class=\"dataframe\">\n",
       "  <thead>\n",
       "    <tr style=\"text-align: right;\">\n",
       "      <th></th>\n",
       "      <th>JOBID</th>\n",
       "      <th>USER</th>\n",
       "      <th>STAT</th>\n",
       "      <th>QUEUE</th>\n",
       "      <th>FROM_HOST</th>\n",
       "      <th>EXEC_HOST</th>\n",
       "      <th>JOB_NAME</th>\n",
       "      <th>SUBMIT_TIME</th>\n",
       "    </tr>\n",
       "  </thead>\n",
       "  <tbody>\n",
       "    <tr>\n",
       "      <th>173367408</th>\n",
       "      <td>173367408</td>\n",
       "      <td>bschroed</td>\n",
       "      <td>PEND</td>\n",
       "      <td>normal.24h</td>\n",
       "      <td>eu-g1-033-1</td>\n",
       "      <td>-</td>\n",
       "      <td>Test1</td>\n",
       "      <td>2021-05-26 10:15:00</td>\n",
       "    </tr>\n",
       "  </tbody>\n",
       "</table>\n",
       "</div>"
      ],
      "text/plain": [
       "               JOBID      USER  STAT       QUEUE    FROM_HOST EXEC_HOST  \\\n",
       "173367408  173367408  bschroed  PEND  normal.24h  eu-g1-033-1         -   \n",
       "\n",
       "          JOB_NAME         SUBMIT_TIME  \n",
       "173367408    Test1 2021-05-26 10:15:00  "
      ]
     },
     "execution_count": 9,
     "metadata": {},
     "output_type": "execute_result"
    }
   ],
   "source": [
    "sub_lsf.search_queue_for_jobname(\"Test1\")"
   ]
  },
  {
   "cell_type": "markdown",
   "metadata": {},
   "source": [
    "### Submitting multiple jobs"
   ]
  },
  {
   "cell_type": "code",
   "execution_count": 10,
   "metadata": {},
   "outputs": [
    {
     "name": "stdout",
     "output_type": "stream",
     "text": [
      "writing tmp-submission-file to:  ./job_Test0.sh\n",
      "Submission Command: \t bsub -JTest0 -W 24:00 -o Test0.out -n 1 -R rusage[mem=100] ./job_Test0.sh\n",
      "process returned id: 173367453\n",
      "writing tmp-submission-file to:  ./job_Test1.sh\n",
      "Submission Command: \t bsub -JTest1 -W 24:00 -o Test1.out -n 1 -R rusage[mem=100] ./job_Test1.sh\n",
      "process returned id: 173367455\n",
      "writing tmp-submission-file to:  ./job_Test2.sh\n",
      "Submission Command: \t bsub -JTest2 -W 24:00 -o Test2.out -n 1 -R rusage[mem=100] ./job_Test2.sh\n",
      "process returned id: 173367459\n"
     ]
    }
   ],
   "source": [
    "bash_command = \"sleep 2; echo \\\"WUHA\\\"; sleep 2\"\n",
    "job_ids = []\n",
    "for test in range(3):\n",
    "    job_name = \"Test\"+str(test)\n",
    "\n",
    "    job_id = sub_lsf.submit_to_queue(command=bash_command, jobName=job_name)\n",
    "    job_ids.append(job_id)"
   ]
  },
  {
   "cell_type": "code",
   "execution_count": 11,
   "metadata": {},
   "outputs": [
    {
     "data": {
      "text/html": [
       "<div>\n",
       "<style scoped>\n",
       "    .dataframe tbody tr th:only-of-type {\n",
       "        vertical-align: middle;\n",
       "    }\n",
       "\n",
       "    .dataframe tbody tr th {\n",
       "        vertical-align: top;\n",
       "    }\n",
       "\n",
       "    .dataframe thead th {\n",
       "        text-align: right;\n",
       "    }\n",
       "</style>\n",
       "<table border=\"1\" class=\"dataframe\">\n",
       "  <thead>\n",
       "    <tr style=\"text-align: right;\">\n",
       "      <th></th>\n",
       "      <th>JOBID</th>\n",
       "      <th>USER</th>\n",
       "      <th>STAT</th>\n",
       "      <th>QUEUE</th>\n",
       "      <th>FROM_HOST</th>\n",
       "      <th>EXEC_HOST</th>\n",
       "      <th>JOB_NAME</th>\n",
       "      <th>SUBMIT_TIME</th>\n",
       "    </tr>\n",
       "  </thead>\n",
       "  <tbody>\n",
       "    <tr>\n",
       "      <th>173367408</th>\n",
       "      <td>173367408</td>\n",
       "      <td>bschroed</td>\n",
       "      <td>PEND</td>\n",
       "      <td>normal.24h</td>\n",
       "      <td>eu-g1-033-1</td>\n",
       "      <td>-</td>\n",
       "      <td>Test1</td>\n",
       "      <td>2021-05-26 10:15:00</td>\n",
       "    </tr>\n",
       "    <tr>\n",
       "      <th>173367453</th>\n",
       "      <td>173367453</td>\n",
       "      <td>bschroed</td>\n",
       "      <td>PEND</td>\n",
       "      <td>normal.24h</td>\n",
       "      <td>eu-g1-033-1</td>\n",
       "      <td>-</td>\n",
       "      <td>Test0</td>\n",
       "      <td>2021-05-26 10:15:00</td>\n",
       "    </tr>\n",
       "    <tr>\n",
       "      <th>173367455</th>\n",
       "      <td>173367455</td>\n",
       "      <td>bschroed</td>\n",
       "      <td>PEND</td>\n",
       "      <td>normal.24h</td>\n",
       "      <td>eu-g1-033-1</td>\n",
       "      <td>-</td>\n",
       "      <td>Test1</td>\n",
       "      <td>2021-05-26 10:15:00</td>\n",
       "    </tr>\n",
       "    <tr>\n",
       "      <th>173367459</th>\n",
       "      <td>173367459</td>\n",
       "      <td>bschroed</td>\n",
       "      <td>PEND</td>\n",
       "      <td>normal.24h</td>\n",
       "      <td>eu-g1-033-1</td>\n",
       "      <td>-</td>\n",
       "      <td>Test2</td>\n",
       "      <td>2021-05-26 10:15:00</td>\n",
       "    </tr>\n",
       "  </tbody>\n",
       "</table>\n",
       "</div>"
      ],
      "text/plain": [
       "               JOBID      USER  STAT       QUEUE    FROM_HOST EXEC_HOST  \\\n",
       "173367408  173367408  bschroed  PEND  normal.24h  eu-g1-033-1         -   \n",
       "173367453  173367453  bschroed  PEND  normal.24h  eu-g1-033-1         -   \n",
       "173367455  173367455  bschroed  PEND  normal.24h  eu-g1-033-1         -   \n",
       "173367459  173367459  bschroed  PEND  normal.24h  eu-g1-033-1         -   \n",
       "\n",
       "          JOB_NAME         SUBMIT_TIME  \n",
       "173367408    Test1 2021-05-26 10:15:00  \n",
       "173367453    Test0 2021-05-26 10:15:00  \n",
       "173367455    Test1 2021-05-26 10:15:00  \n",
       "173367459    Test2 2021-05-26 10:15:00  "
      ]
     },
     "execution_count": 11,
     "metadata": {},
     "output_type": "execute_result"
    }
   ],
   "source": [
    "sub_lsf.search_queue_for_jobname(\"Te\", regex=True)"
   ]
  },
  {
   "cell_type": "markdown",
   "metadata": {},
   "source": [
    "### Killing a jobs\n",
    "\n",
    "Remove a job the job queue"
   ]
  },
  {
   "cell_type": "code",
   "execution_count": 12,
   "metadata": {},
   "outputs": [
    {
     "name": "stdout",
     "output_type": "stream",
     "text": [
      "Stopping: 173367459\n"
     ]
    }
   ],
   "source": [
    "sub_lsf.kill_jobs(job_ids=[job_id])"
   ]
  },
  {
   "cell_type": "code",
   "execution_count": 13,
   "metadata": {},
   "outputs": [
    {
     "data": {
      "text/html": [
       "<div>\n",
       "<style scoped>\n",
       "    .dataframe tbody tr th:only-of-type {\n",
       "        vertical-align: middle;\n",
       "    }\n",
       "\n",
       "    .dataframe tbody tr th {\n",
       "        vertical-align: top;\n",
       "    }\n",
       "\n",
       "    .dataframe thead th {\n",
       "        text-align: right;\n",
       "    }\n",
       "</style>\n",
       "<table border=\"1\" class=\"dataframe\">\n",
       "  <thead>\n",
       "    <tr style=\"text-align: right;\">\n",
       "      <th></th>\n",
       "      <th>JOBID</th>\n",
       "      <th>USER</th>\n",
       "      <th>STAT</th>\n",
       "      <th>QUEUE</th>\n",
       "      <th>FROM_HOST</th>\n",
       "      <th>EXEC_HOST</th>\n",
       "      <th>JOB_NAME</th>\n",
       "      <th>SUBMIT_TIME</th>\n",
       "    </tr>\n",
       "  </thead>\n",
       "  <tbody>\n",
       "    <tr>\n",
       "      <th>173367408</th>\n",
       "      <td>173367408</td>\n",
       "      <td>bschroed</td>\n",
       "      <td>RUN</td>\n",
       "      <td>normal.24h</td>\n",
       "      <td>eu-g1-033-1</td>\n",
       "      <td>eu-ms-001-21</td>\n",
       "      <td>Test1</td>\n",
       "      <td>2021-05-26 10:15:00</td>\n",
       "    </tr>\n",
       "    <tr>\n",
       "      <th>173367453</th>\n",
       "      <td>173367453</td>\n",
       "      <td>bschroed</td>\n",
       "      <td>PEND</td>\n",
       "      <td>normal.24h</td>\n",
       "      <td>eu-g1-033-1</td>\n",
       "      <td>-</td>\n",
       "      <td>Test0</td>\n",
       "      <td>2021-05-26 10:15:00</td>\n",
       "    </tr>\n",
       "    <tr>\n",
       "      <th>173367455</th>\n",
       "      <td>173367455</td>\n",
       "      <td>bschroed</td>\n",
       "      <td>PEND</td>\n",
       "      <td>normal.24h</td>\n",
       "      <td>eu-g1-033-1</td>\n",
       "      <td>-</td>\n",
       "      <td>Test1</td>\n",
       "      <td>2021-05-26 10:15:00</td>\n",
       "    </tr>\n",
       "    <tr>\n",
       "      <th>173367459</th>\n",
       "      <td>173367459</td>\n",
       "      <td>bschroed</td>\n",
       "      <td>PEND</td>\n",
       "      <td>normal.24h</td>\n",
       "      <td>eu-g1-033-1</td>\n",
       "      <td>-</td>\n",
       "      <td>Test2</td>\n",
       "      <td>2021-05-26 10:15:00</td>\n",
       "    </tr>\n",
       "  </tbody>\n",
       "</table>\n",
       "</div>"
      ],
      "text/plain": [
       "               JOBID      USER  STAT       QUEUE    FROM_HOST     EXEC_HOST  \\\n",
       "173367408  173367408  bschroed   RUN  normal.24h  eu-g1-033-1  eu-ms-001-21   \n",
       "173367453  173367453  bschroed  PEND  normal.24h  eu-g1-033-1             -   \n",
       "173367455  173367455  bschroed  PEND  normal.24h  eu-g1-033-1             -   \n",
       "173367459  173367459  bschroed  PEND  normal.24h  eu-g1-033-1             -   \n",
       "\n",
       "          JOB_NAME         SUBMIT_TIME  \n",
       "173367408    Test1 2021-05-26 10:15:00  \n",
       "173367453    Test0 2021-05-26 10:15:00  \n",
       "173367455    Test1 2021-05-26 10:15:00  \n",
       "173367459    Test2 2021-05-26 10:15:00  "
      ]
     },
     "execution_count": 13,
     "metadata": {},
     "output_type": "execute_result"
    }
   ],
   "source": [
    "sub_lsf.search_queue_for_jobname(\"Te\", regex=True)"
   ]
  },
  {
   "cell_type": "code",
   "execution_count": null,
   "metadata": {},
   "outputs": [],
   "source": []
  }
 ],
 "metadata": {
  "kernelspec": {
   "display_name": "Python 3 (ipykernel)",
   "language": "python",
   "name": "python3"
  },
  "language_info": {
   "codemirror_mode": {
    "name": "ipython",
    "version": 3
   },
   "file_extension": ".py",
   "mimetype": "text/x-python",
   "name": "python",
   "nbconvert_exporter": "python",
   "pygments_lexer": "ipython3",
   "version": "3.7.11"
  }
 },
 "nbformat": 4,
 "nbformat_minor": 4
}
