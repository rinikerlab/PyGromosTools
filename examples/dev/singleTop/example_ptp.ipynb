{
 "cells": [
  {
   "cell_type": "code",
   "execution_count": null,
   "metadata": {},
   "outputs": [],
   "source": [
    "from pygromos.files.topology import top\n",
    "from pygromos.files.topology import ptp\n",
    "from pygromos.files.coord import cnf\n",
    "\n",
    "import copy\n",
    "import numpy as np\n",
    "\n",
    "from rdkit import Chem\n",
    "from rdkit.Chem import AllChem"
   ]
  },
  {
   "cell_type": "code",
   "execution_count": null,
   "metadata": {},
   "outputs": [],
   "source": [
    "input_dir = \"input\"\n",
    "in_top1_path = input_dir+\"/F313.top\"\n",
    "in_top2_path = input_dir+\"/G078.top\"\n",
    "\n",
    "in_coord2_path = input_dir+\"/G078_unitedatom_optimised_geometry.g96\"\n",
    "in_coord1_path = input_dir+\"/F313_unitedatom_optimised_geometry.g96\"\n",
    "\n",
    "out_ptp_path = \"./out/fun.ptp\"\n",
    "out_top_path = \"./out/fun.top\"\n",
    "out_cnf_path = \"./out/coord.g96\"\n"
   ]
  },
  {
   "cell_type": "markdown",
   "metadata": {},
   "source": [
    "## COORD"
   ]
  },
  {
   "cell_type": "code",
   "execution_count": null,
   "metadata": {},
   "outputs": [],
   "source": [
    "cmol1 = cnf.Cnf(in_coord1_path)\n",
    "cmol2 = cnf.Cnf(in_coord2_path)"
   ]
  },
  {
   "cell_type": "code",
   "execution_count": null,
   "metadata": {},
   "outputs": [],
   "source": [
    "cmol2.POSITION"
   ]
  },
  {
   "cell_type": "code",
   "execution_count": null,
   "metadata": {},
   "outputs": [],
   "source": [
    "cmol2.visualize()"
   ]
  },
  {
   "cell_type": "code",
   "execution_count": null,
   "metadata": {},
   "outputs": [],
   "source": [
    " cmol1.visualize()"
   ]
  },
  {
   "cell_type": "markdown",
   "metadata": {},
   "source": [
    "### Atom Matching"
   ]
  },
  {
   "cell_type": "code",
   "execution_count": null,
   "metadata": {},
   "outputs": [],
   "source": [
    "from rdkit.Chem import rdFMCS\n",
    "\n",
    "def find_atom_mapping(cnfA:cnf.Cnf, cnfB:cnf.Cnf)->(dict,str):\n",
    "    \n",
    "    mol1 = Chem.MolFromPDBBlock(cnfA.get_pdb(rdkit_ready=True), removeHs=False)\n",
    "    mol2 = Chem.MolFromPDBBlock(cnfB.get_pdb(rdkit_ready=True), removeHs=False)\n",
    "\n",
    "\n",
    "    #CompareElements\n",
    "    mcs = rdFMCS.FindMCS([mol1, mol2],\n",
    "                         atomCompare=rdFMCS.AtomCompare.CompareAnyHeavyAtom,\n",
    "                         bondCompare=rdFMCS.BondCompare.CompareOrderExact,\n",
    "                         ringMatchesRingOnly=True, completeRingsOnly=True)\n",
    "    #                    ringCompare=rdFMCS.RingCompare.StrictRingFusion)\n",
    "    smartsString = mcs.smartsString\n",
    "\n",
    "    ##MCS Match\n",
    "    patt = Chem.MolFromSmarts(smartsString)  # smartsString\n",
    "    mol1Match = [i+1 for i in mol1.GetSubstructMatch(patt)]\n",
    "    mol2Match = [i+1 for i in mol2.GetSubstructMatch(patt)]\n",
    "\n",
    "    atom_mappingAB = dict(zip(mol1Match, mol2Match))\n",
    "    return atom_mappingAB, smartsString\n",
    "\n",
    "atom_mappingAB, smart = find_atom_mapping(cnfA=cmol1, cnfB=cmol2)\n",
    "len(atom_mappingAB), atom_mappingAB, smart"
   ]
  },
  {
   "cell_type": "markdown",
   "metadata": {},
   "source": [
    "## COORDINATE Generation\n",
    "### Coord Alignment"
   ]
  },
  {
   "cell_type": "code",
   "execution_count": null,
   "metadata": {},
   "outputs": [],
   "source": [
    "def align_cnfs_with_MCS(cnfA:cnf.Cnf, cnfB:cnf.Cnf, atom_mappingAB:int)->(cnf.Cnf, cnf.Cnf):\n",
    "    \n",
    "    cnfA= copy.deepcopy(cnfA)\n",
    "    cnfB= copy.deepcopy(cnfB)\n",
    "    \n",
    "    mol1 = Chem.MolFromPDBBlock(cnfA.get_pdb(rdkit_ready=True), removeHs=False)\n",
    "    mol2 = Chem.MolFromPDBBlock(cnfB.get_pdb(rdkit_ready=True), removeHs=False)\n",
    "    \n",
    "    atom_mappingAB = {key-1:val-1 for key, val in atom_mappingAB.items()}\n",
    "    AllChem.AlignMol(mol1, mol2, atomMap=list(atom_mappingAB.items()))\n",
    "\n",
    "\n",
    "    conf2 = mol2.GetConformer()\n",
    "    for ind, pos in enumerate(conf2.GetPositions()):\n",
    "        cnfB.POSITION[ind].xp= pos[0]/10\n",
    "        cnfB.POSITION[ind].yp= pos[1]/10\n",
    "        cnfB.POSITION[ind].zp= pos[2]/10\n",
    "\n",
    "    conf1 = mol1.GetConformer()\n",
    "    for ind, pos in enumerate(conf1.GetPositions()):\n",
    "        cnfA.POSITION[ind].xp= pos[0]/10\n",
    "        cnfA.POSITION[ind].yp= pos[1]/10\n",
    "        cnfA.POSITION[ind].zp= pos[2]/10\n",
    "        \n",
    "    return cnfA, cnfB\n",
    "\n",
    "cmol1, cmol2 = align_cnfs_with_MCS(cnfA=cmol1, cnfB=cmol2, atom_mappingAB=atom_mappingAB)\n",
    "\n"
   ]
  },
  {
   "cell_type": "markdown",
   "metadata": {},
   "source": [
    "### State merging"
   ]
  },
  {
   "cell_type": "code",
   "execution_count": null,
   "metadata": {},
   "outputs": [],
   "source": [
    "cmol2.POSITION"
   ]
  },
  {
   "cell_type": "code",
   "execution_count": null,
   "metadata": {},
   "outputs": [],
   "source": [
    "eucldean_dist = lambda x,y: np.sqrt((x.xp-y.xp)**2+(x.yp-y.yp)**2+(x.zp-y.zp)**2)\n",
    "\n",
    "def merge_states(cnfA:cnf.Cnf, cnfB:cnf.Cnf, atomMatchingAB:dict, dist_tresh:float=0.09,_doNotChangeAtomType:bool=False, _doUpdateAtomMapping:bool=True)-> cnf.Cnf:#nm\n",
    "        \n",
    "    natoms_in_a=len(cnfA.POSITION)\n",
    "    match_molA, match_molB = np.array(list(atom_mappingAB.items())).T\n",
    "    atomMatchingAB = copy.deepcopy(atomMatchingAB)\n",
    "    cmol_comb = copy.deepcopy(cnfA)    \n",
    "    \n",
    "    #reduce stateB to required atoms\n",
    "    for pos in cnfB.POSITION:\n",
    "        pos2s = [pos2 for pos2 in cnfA.POSITION  if(eucldean_dist(pos, pos2) < dist_tresh)]\n",
    "        #print(pos.atomID)\n",
    "\n",
    "        if(len(pos2s) > 0 and _doUpdateAtomMapping):#check distance\n",
    "            found = False\n",
    "            for p in pos2s:\n",
    "                if(not(p.atomID in atomMatchingAB.keys() or pos.atomID in atomMatchingAB.values())):\n",
    "                    #print(\"map_Coordinates\", pos.atomID, {pos.atomID: p.atomID})\n",
    "                    atomMatchingAB.update({p.atomID:pos.atomID})\n",
    "                    found = True\n",
    "                    break\n",
    "            if(not (found or pos.atomID in atomMatchingAB.values())):\n",
    "                #print(\"adding_Coordinates\", pos.atomID)\n",
    "                pos = copy.deepcopy(pos)\n",
    "                pos.resID=2\n",
    "                cmol_comb.POSITION.append(pos)      \n",
    "            elif(not found):\n",
    "                #print(\"already found\", pos.atomID, pos.atomID in  atomMatchingAB.values())\n",
    "                pass\n",
    "        else:\n",
    "            #print(\"adding_Coordinates\", pos.atomID)\n",
    "            pos = copy.deepcopy(pos)\n",
    "            pos.resID=2\n",
    "            cmol_comb.POSITION.append(pos)\n",
    "\n",
    "    #print(\"LENE: \", len(atomMatchingAB), len(cmol_comb.POSITION))\n",
    "    #print(cmol_comb.POSITION)\n",
    "    #print(atomMatchingAB)\n",
    "    \n",
    "    #clean cmol_comb\n",
    "    present_atoms={}\n",
    "    ati = []\n",
    "    atomID = 1\n",
    "    for ind, pos in enumerate(cmol_comb.POSITION):\n",
    "        #atoms present in coords, mapped to old initial ones\n",
    "        tID = pos.atomID\n",
    "        first_state = tID if (pos.resID == 1) else -1\n",
    "        #print(\"first\", first_state, pos.resID)\n",
    "        if(first_state != -1):\n",
    "            if(first_state in atomMatchingAB):\n",
    "                #print(\"that if: \", atomMatchingAB[first_state], atomMatchingAB[first_state]+natoms_in_a)\n",
    "                second_state = atomMatchingAB[first_state]+natoms_in_a\n",
    "                ati.append(atomMatchingAB[first_state])\n",
    "            else:\n",
    "                second_state = -1\n",
    "        else:\n",
    "            #print(\"this if: \", pos.atomID, pos.atomID+natoms_in_a)\n",
    "            second_state = pos.atomID+natoms_in_a\n",
    "            ati.append(pos.atomID)\n",
    "\n",
    "        pos.resID=1\n",
    "        pos.atomID = atomID\n",
    "        pos.resName=cmol1.POSITION[0].resName[:2]+cmol2.POSITION[0].resName[2:4]\n",
    "        if(not _doNotChangeAtomType): pos.atomType = \"C\"\n",
    "        present_atoms.update({pos.atomID: (first_state, second_state)})\n",
    "        atomID+=1        \n",
    "        \n",
    "    #print(len(ati), sorted(ati))        \n",
    "    return cmol_comb, present_atoms\n",
    "\n",
    "cmol_comb, present_atoms = merge_states(cnfA=cmol1, cnfB=cmol2, atomMatchingAB=atom_mappingAB, dist_tresh=0.09)\n",
    "#cmol_comb.write(\"fung.g96\")\n",
    "#cmol_comb.visualize()\n",
    "present_atoms"
   ]
  },
  {
   "cell_type": "code",
   "execution_count": null,
   "metadata": {},
   "outputs": [],
   "source": [
    "cmol_comb.visualize()"
   ]
  },
  {
   "cell_type": "markdown",
   "metadata": {},
   "source": [
    "## Topology"
   ]
  },
  {
   "cell_type": "code",
   "execution_count": null,
   "metadata": {},
   "outputs": [],
   "source": [
    "present_atoms"
   ]
  },
  {
   "cell_type": "code",
   "execution_count": null,
   "metadata": {},
   "outputs": [],
   "source": [
    "top1 = top.Top(in_top1_path)\n",
    "top2 = top.Top(in_top2_path)\n"
   ]
  },
  {
   "cell_type": "code",
   "execution_count": null,
   "metadata": {},
   "outputs": [],
   "source": [
    "com_top = top2\n",
    "com_top += top1\n",
    "red_com_top = copy.deepcopy(com_top)"
   ]
  },
  {
   "cell_type": "code",
   "execution_count": null,
   "metadata": {},
   "outputs": [],
   "source": [
    "#BONDS\n",
    "bonds =[]\n",
    "for bond in com_top.BOND:\n",
    "    if(bond.IB in present_atoms and bond.JB in present_atoms):\n",
    "        bonds.append(bond)\n",
    "for bond in com_top.BONDH:\n",
    "    if(bond.IB in present_atoms and bond.JB in present_atoms):\n",
    "        bonds.append(bond)\n",
    "red_com_top.BOND.content = bonds\n",
    "red_com_top.BOND.NBON = len(bonds)\n",
    "\n",
    "del red_com_top.BONDH\n",
    "\n",
    "\n",
    "view = cmol_comb.visualize()\n",
    "\n",
    "colors = ['green', 'blue', 'yellow', 'red', 'purple', 'black']\n",
    "for i, bond in enumerate(red_com_top.BOND):\n",
    "    view.setStyle({\"serial\": [bond.IB,  bond.JB]}, {\"stick\":{'color':colors[i%len(colors)]}})\n",
    "view"
   ]
  },
  {
   "cell_type": "code",
   "execution_count": null,
   "metadata": {},
   "outputs": [],
   "source": [
    "\n",
    "\n",
    "#BondAngles\n",
    "angles =[]\n",
    "for angle in com_top.BONDANGLE:\n",
    "    if(angle.IT in present_atoms and angle.JT in present_atoms and angle.KT in present_atoms):\n",
    "        angles.append(angle)\n",
    "\n",
    "for angleH in com_top.BONDANGLEH:\n",
    "    if(angleH.IT in present_atoms and angleH.JT in present_atoms and angleH.KT in present_atoms):\n",
    "        angles.append(angleH)\n",
    "        \n",
    "red_com_top.BONDANGLE.content = angles\n",
    "red_com_top.BONDANGLE.NTHE = len(angles)\n",
    "\n",
    "if(hasattr(red_com_top, \"BONDANGLEH\")): del red_com_top.BONDANGLEH\n",
    "\n",
    "\n",
    "view = cmol_comb.visualize()\n",
    "\n",
    "colors = ['green', 'blue', 'yellow', 'red', 'purple', 'black']\n",
    "for i, angle in enumerate(red_com_top.BONDANGLE):\n",
    "    view.setStyle({\"serial\": [angle.IT,  angle.JT, angle.KT]}, {\"stick\":{'color':colors[i%len(colors)]}})\n",
    "view"
   ]
  },
  {
   "cell_type": "code",
   "execution_count": null,
   "metadata": {},
   "outputs": [],
   "source": [
    "com_top.DIHEDRALH"
   ]
  },
  {
   "cell_type": "code",
   "execution_count": null,
   "metadata": {},
   "outputs": [],
   "source": [
    "red_com_top.DIHEDRAL"
   ]
  },
  {
   "cell_type": "code",
   "execution_count": null,
   "metadata": {},
   "outputs": [],
   "source": [
    "present_atoms"
   ]
  },
  {
   "cell_type": "code",
   "execution_count": null,
   "metadata": {},
   "outputs": [],
   "source": [
    "#Dihedrals\n",
    "dihedrals =[]\n",
    "for dih in com_top.DIHEDRAL:\n",
    "    if(dih.IP in present_atoms and dih.JP in present_atoms and dih.KP in present_atoms and dih.LP in present_atoms):\n",
    "        dihedrals.append(dih)\n",
    "\n",
    "dih_type = type(dih)\n",
    "for dihh in com_top.DIHEDRALH:\n",
    "    if(dihh.IPH in present_atoms and dihh.JPH in present_atoms and dihh.KPH in present_atoms and dihh.LPH in present_atoms):\n",
    "        dihedrals.append(dih_type(IP=dihh.IPH, JP=dihh.JPH, KP=dihh.KPH, LP=dihh.LPH, ICP=dihh.ICPH))\n",
    "        \n",
    "red_com_top.DIHEDRAL.content = dihedrals\n",
    "red_com_top.DIHEDRAL.NPHI = len(dihedrals)\n",
    "\n",
    "if(hasattr(red_com_top, \"DIHEDRALH\")): del red_com_top.DIHEDRALH\n",
    "\n",
    "    \n",
    "view = cmol_comb.visualize()\n",
    "\n",
    "colors = ['green', 'blue', 'yellow', 'red', 'purple', 'black']\n",
    "for i, tors in enumerate(red_com_top.DIHEDRAL):\n",
    "    view.setStyle({\"serial\": [tors.IP,  tors.JP, tors.KP, tors.LP]}, {\"stick\":{'color':colors[i%len(colors)]}})\n",
    "view"
   ]
  },
  {
   "cell_type": "code",
   "execution_count": null,
   "metadata": {},
   "outputs": [],
   "source": [
    "\n",
    "\n",
    "\n",
    "#Impropers\n",
    "impdihedrals =[]\n",
    "for imp in com_top.IMPDIHEDRAL:\n",
    "    if(imp.IQ in present_atoms and imp.JQ in present_atoms and imp.KQ in present_atoms and imp.LQ in present_atoms):\n",
    "        impdihedrals.append(imp)\n",
    "        \n",
    "imp_type = type(imp)\n",
    "for impH in com_top.IMPDIHEDRALH:\n",
    "    if(impH.IQH in present_atoms and impH.JQH in present_atoms and impH.KQH in present_atoms and impH.LQH in present_atoms):\n",
    "        impdihedrals.append(imp_type(IQ=impH.IQH, JQ=impH.JQH, KQ=impH.KQH, LQ=impH.LQH, ICQ=impH.ICQH))\n",
    "        \n",
    "red_com_top.IMPDIHEDRAL.content = impdihedrals\n",
    "red_com_top.IMPDIHEDRAL.NQHI = len(impdihedrals)\n",
    "\n",
    "if(hasattr(red_com_top, \"IMPDIHEDRALH\")): del red_com_top.IMPDIHEDRALH\n",
    "\n",
    "view = cmol_comb.visualize()\n",
    "\n",
    "colors = ['green', 'blue', 'yellow', 'red', 'purple', 'black']\n",
    "for i, tors in enumerate(red_com_top.IMPDIHEDRAL):\n",
    "    view.setStyle({\"serial\": [tors.IQ,  tors.JQ, tors.KQ, tors.LQ]}, {\"stick\":{'color':colors[i%len(colors)]}})\n",
    "view"
   ]
  },
  {
   "cell_type": "code",
   "execution_count": null,
   "metadata": {},
   "outputs": [],
   "source": [
    "vars(tors)"
   ]
  },
  {
   "cell_type": "code",
   "execution_count": null,
   "metadata": {},
   "outputs": [],
   "source": [
    "\n",
    "#Mass, VDW, Charge\n",
    "sol =[]\n",
    "for atm in com_top.SOLUTEATOM:\n",
    "    if(atm.ATNM in present_atoms):\n",
    "        atm.MRES=1\n",
    "        sol.append(atm)\n",
    "\n",
    "red_com_top.SOLUTEATOM.content = sol \n",
    "red_com_top.SOLUTEATOM.NRP = len(sol)\n",
    "\n",
    "\"\"\"\n",
    "#crossDIHEDRAL\n",
    "crds =[]\n",
    "for crd in com_top.CROSSDIHEDRAL:\n",
    "    print(vars(crd))\n",
    "    if(crd.ATNM in present_atoms):\n",
    "        crds.append(atm)\n",
    "\n",
    "red_com_top.CROSSDIHEDRAL.content = crds \n",
    "\n",
    "#crossDIHEDRALH\n",
    "crdsH =[]\n",
    "for crdH in com_top.CROSSDIHEDRALH:\n",
    "    print(vars(crdH))\n",
    "    if(crdH.ATNM in present_atoms):\n",
    "        crdsH.append(atm)\n",
    "\n",
    "red_com_top.CROSSDIHEDRALH.content = crdsH\n",
    "\"\"\"\n"
   ]
  },
  {
   "cell_type": "code",
   "execution_count": null,
   "metadata": {},
   "outputs": [],
   "source": [
    "#REST\n",
    "##resname meshing\n",
    "molA_Name = com_top.RESNAME.content[1][0]\n",
    "molB_Name = com_top.RESNAME.content[2][0]\n",
    "\n",
    "red_com_top.RESNAME.content = [['1'], [molA_Name[:2]+molB_Name[:2]]]\n",
    "\n",
    "\n",
    "## SOLUTEMOLECULES:\n",
    "from collections import defaultdict\n",
    "resi_atom = defaultdict(int)\n",
    "\n",
    "for atom in red_com_top.SOLUTEATOM:\n",
    "    resi_atom[atom.MRES]+=1\n",
    "\n",
    "groups = [[str(len(resi_atom))], [str(resi_atom[res])+\" \" for res in resi_atom]]\n",
    "red_com_top.SOLUTEMOLECULES.content =groups\n",
    "red_com_top.TEMPERATUREGROUPS.content =groups\n",
    "red_com_top.PRESSUREGROUPS.content =groups\n",
    "\n",
    "pass"
   ]
  },
  {
   "cell_type": "code",
   "execution_count": null,
   "metadata": {},
   "outputs": [],
   "source": []
  },
  {
   "cell_type": "code",
   "execution_count": null,
   "metadata": {},
   "outputs": [],
   "source": []
  },
  {
   "cell_type": "code",
   "execution_count": null,
   "metadata": {},
   "outputs": [],
   "source": []
  },
  {
   "cell_type": "markdown",
   "metadata": {},
   "source": [
    "### Build PTP"
   ]
  },
  {
   "cell_type": "code",
   "execution_count": null,
   "metadata": {},
   "outputs": [],
   "source": [
    "from pygromos.files.blocks.pertubation_blocks import TITLE, PERTBONDSTRETCH, PERTBONDSTRETCHH, atom_lam_pertubation_state_bond\n",
    "from pygromos.files.blocks.topology_blocks import bondstretchtype_type, torsdihedraltype_type, impdihedraltype_type"
   ]
  },
  {
   "cell_type": "markdown",
   "metadata": {},
   "source": [
    "### DummyTypes"
   ]
  },
  {
   "cell_type": "code",
   "execution_count": null,
   "metadata": {},
   "outputs": [],
   "source": [
    "#Dummy Types\n",
    "dummyBond = bondstretchtype_type(CB=0, CHB=0, B0=1)\n",
    "dummyAngle = bondstretchtype_type(CB=0, CHB=0, B0=1)\n",
    "dummyTors = torsdihedraltype_type(CP=0, PD=0, NP=1)\n",
    "dummyImp = impdihedraltype_type(CQ=0, Q0=0)\n",
    "\n",
    "dummyIAC = 21\n",
    "dummyMass = -1\n",
    "dummyCharge = 0.0\n",
    "\n",
    "#Add to top\n",
    "red_com_top.BONDSTRETCHTYPE.append(dummyBond)\n",
    "red_com_top.BONDANGLEBENDTYPE.append(dummyAngle)\n",
    "red_com_top.TORSDIHEDRALTYPE.append(dummyTors)\n",
    "red_com_top.IMPDIHEDRALTYPE.append(dummyImp)\n",
    "\n",
    "\n",
    "dummyBondInd = len(red_com_top.BONDSTRETCHTYPE)\n",
    "dummyAngleInd = len(red_com_top.BONDANGLEBENDTYPE)\n",
    "dummyTorsInd = len(red_com_top.TORSDIHEDRALTYPE)\n",
    "dummyIMPsInd = len(red_com_top.IMPDIHEDRALTYPE)\n",
    "\n",
    "red_com_top.BONDSTRETCHTYPE.NBTY = dummyBondInd\n",
    "red_com_top.BONDANGLEBENDTYPE.NBTY = dummyAngleInd\n",
    "red_com_top.TORSDIHEDRALTYPE.NPTY = dummyTorsInd\n",
    "red_com_top.IMPDIHEDRALTYPE.NQTY = dummyIMPsInd\n"
   ]
  },
  {
   "cell_type": "code",
   "execution_count": null,
   "metadata": {},
   "outputs": [],
   "source": []
  },
  {
   "cell_type": "code",
   "execution_count": null,
   "metadata": {},
   "outputs": [],
   "source": [
    "def reduce_pertubations(pertubations):\n",
    "    #reduce\n",
    "    atom_keys = [k for k in vars(pertubations[0]) if(\"atom\" in k)]\n",
    "    stateAtoms = list(sorted(pertubations, key=lambda x: [vars(x)[k] for k in atom_keys]))\n",
    "    skip = []\n",
    "    reduced_pertubations = []\n",
    "    for i,bond1 in enumerate(stateAtoms):\n",
    "        if(bond1 in skip):\n",
    "            continue\n",
    "        else:\n",
    "            #is there already a bond?\n",
    "            attr = vars(bond1)\n",
    "            for bond2  in stateAtoms[i+1:]:\n",
    "                if(set([attr[k] for k in atom_keys]) == set([vars(bond2)[k] for k in atom_keys])):\n",
    "                    skip.append(bond2)\n",
    "                    replace_keys = [k for k in attr['STATES'] if (attr['STATES'][k] == dummyBondInd)]\n",
    "                    if(len(replace_keys)>0):\n",
    "                        replace_key = replace_keys[0]\n",
    "                        attr['STATES'].update({replace_key: bond2.STATES[replace_key]})\n",
    "                        break\n",
    "                    else:\n",
    "                        continue\n",
    "\n",
    "            #something equal already there?\n",
    "            if(attr['STATES'][0] == attr['STATES'][1] or \n",
    "               set([attr[k] for k in atom_keys]) in [set([vars(x)[k] for k in atom_keys]) for x in reduced_pertubations]):\n",
    "                continue\n",
    "            else:\n",
    "                attr.update({\"NR\":len(reduced_stateAtoms)})\n",
    "                new_pertAtomState = type(bond1)(**attr)\n",
    "                reduced_pertubations.append(new_pertAtomState)\n",
    "    return reduced_pertubations\n",
    "\n",
    "\n",
    "def merge_tops_to_pertubations(tops, pertType, topBlockName, dummystateInd,  ):\n",
    "    pertubations = []\n",
    "    tops = [top1, top2]\n",
    "    toffset = 0\n",
    "    for tind, ttop in enumerate(tops):\n",
    "        rearrange_dict = {val[tind]: key for key,val in present_atoms.items()}\n",
    "        for top_bond in getattribute(ttop, topBlockName):\n",
    "            \n",
    "            tstates = {tind:top_bond.ICB}\n",
    "            tstates.update({i:dummystateInd for i in range(len(tops)) if not i in tstates})\n",
    "            pertubations.append(pertType(NR=len(pertBonds), \n",
    "                                         atomI=rearrange_dict[top_bond.IB+toffset],\n",
    "                                         atomJ=rearrange_dict[top_bond.JB+toffset], \n",
    "                                         STATES=tstates)\n",
    "                                )\n",
    "        toffset = len(ttop.SOLUTEATOM)    \n",
    "    \n",
    "    return pertubations"
   ]
  },
  {
   "cell_type": "code",
   "execution_count": null,
   "metadata": {},
   "outputs": [],
   "source": []
  },
  {
   "cell_type": "markdown",
   "metadata": {},
   "source": [
    "### Bond"
   ]
  },
  {
   "cell_type": "code",
   "execution_count": null,
   "metadata": {},
   "outputs": [],
   "source": [
    "pertbond =PERTBONDSTRETCH()\n",
    "\n",
    "pertBonds = []\n",
    "tops = [top1, top2]\n",
    "toffset = 0\n",
    "for tind, ttop in enumerate(tops):\n",
    "    rearrange_dict = {val[tind]: key for key,val in present_atoms.items()}\n",
    "    for top_bond in ttop.BOND:\n",
    "        tstates = {tind:top_bond.ICB}\n",
    "        tstates.update({i:dummyBondInd for i in range(len(tops)) if not i in tstates})\n",
    "        pertBonds.append(atom_lam_pertubation_state_bond(NR=len(pertBonds), \n",
    "                                                         atomI=rearrange_dict[top_bond.IB+toffset],\n",
    "                                                         atomJ=rearrange_dict[top_bond.JB+toffset], \n",
    "                                                         STATES=tstates)\n",
    "                            )\n",
    "    toffset = len(ttop.SOLUTEATOM)           \n",
    "\n",
    "toffset = 0\n",
    "for tind, ttop in enumerate(tops):\n",
    "    rearrange_dict = {val[tind]: key for key,val in present_atoms.items()}\n",
    "    for top_bond in ttop.BONDH:\n",
    "        tstates = {tind:top_bond.ICB}\n",
    "        tstates.update({i:dummyBondInd for i in range(len(tops)) if not i in tstates})\n",
    "        pertBonds.append(atom_lam_pertubation_state_bond(NR=len(pertBonds), \n",
    "                                                         atomI=rearrange_dict[top_bond.IB+toffset],\n",
    "                                                         atomJ=rearrange_dict[top_bond.JB+toffset], \n",
    "                                                         STATES=tstates)\n",
    "                            )\n",
    "    toffset = len(ttop.SOLUTEATOM)           \n",
    "\n",
    "\n",
    "\n",
    "#reduce\n",
    "reduced_stateAtoms = reduce_pertubations(stateAtoms)\n",
    "        \n",
    "pertbond.STATEATOMS = reduced_stateAtoms\n",
    "pertbond.NPB = len(reduced_stateAtoms)\n",
    "\n",
    "pertbond"
   ]
  },
  {
   "cell_type": "markdown",
   "metadata": {},
   "source": [
    "### Angle"
   ]
  },
  {
   "cell_type": "code",
   "execution_count": null,
   "metadata": {},
   "outputs": [],
   "source": [
    "from pygromos.files.blocks.pertubation_blocks import PERTBONDANGLE, PERTBONDANGLEH, atom_lam_pertubation_state_angle"
   ]
  },
  {
   "cell_type": "code",
   "execution_count": null,
   "metadata": {},
   "outputs": [],
   "source": [
    "pertangle =PERTBONDANGLE()\n",
    "\n",
    "pertAngles = []\n",
    "tops = [top1, top2]\n",
    "\n",
    "toffset = 0\n",
    "for tind, ttop in enumerate(tops):\n",
    "    rearrange_dict = {val[tind]: key for key,val in present_atoms.items()}\n",
    "    for top_angle in ttop.BONDANGLE:\n",
    "        tstates = {tind:top_angle.ICT}\n",
    "        tstates.update({i:dummyAngleInd for i in range(len(tops)) if not i in tstates})\n",
    "        pertAngles.append(atom_lam_pertubation_state_angle(NR=len(pertAngles), \n",
    "                                                         atomI=rearrange_dict[top_angle.IT+toffset],\n",
    "                                                         atomJ=rearrange_dict[top_angle.JT+toffset], \n",
    "                                                         atomK=rearrange_dict[top_angle.KT+toffset], \n",
    "                                                         STATES=tstates)\n",
    "                            )\n",
    "    toffset = len(ttop.SOLUTEATOM)           \n",
    "    \n",
    "toffset = 0\n",
    "for tind, ttop in enumerate(tops):\n",
    "    rearrange_dict = {val[tind]: key for key,val in present_atoms.items()}\n",
    "    for top_angle in ttop.BONDANGLE:\n",
    "        tstates = {tind:top_angle.ICT}\n",
    "        tstates.update({i:dummyAngleInd for i in range(len(tops)) if not i in tstates})\n",
    "        pertAngles.append(atom_lam_pertubation_state_angle(NR=len(pertAngles), \n",
    "                                                         atomI=rearrange_dict[top_angle.IT+toffset],\n",
    "                                                         atomJ=rearrange_dict[top_angle.JT+toffset], \n",
    "                                                         atomK=rearrange_dict[top_angle.KT+toffset], \n",
    "                                                         STATES=tstates)\n",
    "                            )\n",
    "    toffset = len(ttop.SOLUTEATOM)    \n",
    "    \n",
    "    \n",
    "\n",
    "#reduce\n",
    "reduced_pertAngles = reduce_pertubations(pertAngles)\n",
    "            \n",
    "pertangle.STATEATOMS = reduced_pertAngles\n",
    "pertangle.NPA = len(reduced_pertAngles)\n",
    "\n",
    "pertangle"
   ]
  },
  {
   "cell_type": "markdown",
   "metadata": {},
   "source": [
    "### Dihedrals"
   ]
  },
  {
   "cell_type": "code",
   "execution_count": null,
   "metadata": {},
   "outputs": [],
   "source": [
    "from pygromos.files.blocks.pertubation_blocks import PERTPROPERDIH, PERTPROPERDIHH, atom_lam_pertubation_state_dihedral"
   ]
  },
  {
   "cell_type": "code",
   "execution_count": null,
   "metadata": {},
   "outputs": [],
   "source": [
    "pertproperdih =PERTPROPERDIH()\n",
    "\n",
    "pertDihedrals = []\n",
    "tops = [top1, top2]\n",
    "\n",
    "toffset = 0\n",
    "for tind, ttop in enumerate(tops):\n",
    "    rearrange_dict = {val[tind]: key for key,val in present_atoms.items()}\n",
    "    for top_dihedral in ttop.DIHEDRAL:\n",
    "        tstates = {tind:top_dihedral.ICP}\n",
    "        tstates.update({i:dummyTorsInd for i in range(len(tops)) if not i in tstates})\n",
    "        pertDihedrals.append(atom_lam_pertubation_state_dihedral(NR=len(pertDihedrals), \n",
    "                                                             atomI=rearrange_dict[top_dihedral.IP+toffset],\n",
    "                                                             atomJ=rearrange_dict[top_dihedral.JP+toffset], \n",
    "                                                             atomK=rearrange_dict[top_dihedral.KP+toffset],\n",
    "                                                             atomL=rearrange_dict[top_dihedral.LP+toffset], \n",
    "                                                             STATES=tstates)\n",
    "                            )\n",
    "    toffset = len(ttop.SOLUTEATOM)   \n",
    "    \n",
    "toffset = 0\n",
    "for tind, ttop in enumerate(tops):\n",
    "    rearrange_dict = {val[tind]: key for key,val in present_atoms.items()}\n",
    "    for top_dihedral in ttop.DIHEDRALH:\n",
    "        tstates = {tind:top_dihedral.ICPH}\n",
    "        tstates.update({i:dummyTorsInd for i in range(len(tops)) if not i in tstates})\n",
    "        pertDihedrals.append(atom_lam_pertubation_state_dihedral(NR=len(pertDihedrals), \n",
    "                                                             atomI=rearrange_dict[top_dihedral.IPH+toffset],\n",
    "                                                             atomJ=rearrange_dict[top_dihedral.JPH+toffset], \n",
    "                                                             atomK=rearrange_dict[top_dihedral.KPH+toffset],\n",
    "                                                             atomL=rearrange_dict[top_dihedral.LPH+toffset], \n",
    "                                                             STATES=tstates)\n",
    "                            )\n",
    "    toffset = len(ttop.SOLUTEATOM)  \n",
    "\n",
    "#reduce\n",
    "reduced_pertDihedrals = reduce_pertubations(pertDihedrals)\n",
    "\n",
    "    \n",
    "pertproperdih.STATEATOMS = reduced_pertDihedrals\n",
    "pertproperdih.NPD = len(reduced_pertDihedrals)\n",
    "\n",
    "pertproperdih"
   ]
  },
  {
   "cell_type": "markdown",
   "metadata": {},
   "source": [
    "### Improper Dihedrals"
   ]
  },
  {
   "cell_type": "code",
   "execution_count": null,
   "metadata": {},
   "outputs": [],
   "source": [
    "from pygromos.files.blocks.pertubation_blocks import PERTIMROPERDIH, PERTIMROPERDIHH, atom_lam_pertubation_state_dihedral"
   ]
  },
  {
   "cell_type": "code",
   "execution_count": null,
   "metadata": {},
   "outputs": [],
   "source": [
    "pertproperimpdih =PERTIMROPERDIH()\n",
    "\n",
    "pertImpDihedrals = []\n",
    "tops = [top1, top2]\n",
    "\n",
    "toffset = 0\n",
    "for tind, ttop in enumerate(tops):\n",
    "    rearrange_dict = {val[tind]: key for key,val in present_atoms.items()}\n",
    "    for top_imp in ttop.IMPDIHEDRAL:\n",
    "        tstates = {tind:top_imp.ICQ}\n",
    "        tstates.update({i:dummyIMPsInd for i in range(len(tops)) if not i in tstates})\n",
    "        pertImpDihedrals.append(atom_lam_pertubation_state_dihedral(NR=len(pertImpDihedrals), \n",
    "                                                             atomI=rearrange_dict[top_imp.IQ+toffset],\n",
    "                                                             atomJ=rearrange_dict[top_imp.JQ+toffset], \n",
    "                                                             atomK=rearrange_dict[top_imp.KQ+toffset],\n",
    "                                                             atomL=rearrange_dict[top_imp.LQ+toffset], \n",
    "                                                             STATES=tstates)\n",
    "                            )\n",
    "    toffset = len(ttop.SOLUTEATOM)           \n",
    "\n",
    "toffset = 0\n",
    "for tind, ttop in enumerate(tops):\n",
    "    rearrange_dict = {val[tind]: key for key,val in present_atoms.items()}\n",
    "    for top_impH in ttop.IMPDIHEDRALH:\n",
    "        tstates = {tind:top_impH.ICQH}\n",
    "        tstates.update({i:dummyIMPsInd for i in range(len(tops)) if not i in tstates})\n",
    "        pertImpDihedrals.append(atom_lam_pertubation_state_dihedral(NR=len(pertImpDihedrals), \n",
    "                                                             atomI=rearrange_dict[top_impH.IQH+toffset],\n",
    "                                                             atomJ=rearrange_dict[top_impH.JQH+toffset], \n",
    "                                                             atomK=rearrange_dict[top_impH.KQH+toffset],\n",
    "                                                             atomL=rearrange_dict[top_impH.LQH+toffset], \n",
    "                                                             STATES=tstates)\n",
    "                            )\n",
    "    toffset = len(ttop.SOLUTEATOM)        \n",
    "\n",
    "reduced_pertImpDihedrals = reduce_pertubations(pertImpDihedrals)\n",
    "\n",
    "pertproperimpdih.STATEATOMS = reduced_pertImpDihedrals\n",
    "pertproperimpdih.NPD = len(reduced_pertImpDihedrals)\n",
    "\n",
    "pertproperimpdih"
   ]
  },
  {
   "cell_type": "markdown",
   "metadata": {},
   "source": [
    "\n",
    "### NONBONDEDS"
   ]
  },
  {
   "cell_type": "code",
   "execution_count": null,
   "metadata": {},
   "outputs": [],
   "source": [
    "from pygromos.files.blocks.pertubation_blocks import PERTATOMPARAM, atom_lam_pertubation_state, pertubation_lam_state_nonbonded"
   ]
  },
  {
   "cell_type": "code",
   "execution_count": null,
   "metadata": {},
   "outputs": [],
   "source": [
    "nonbonded = PERTATOMPARAM()\n",
    "\n",
    "nonbondeds = []\n",
    "tops = [top1, top2]\n",
    "toffset = 0\n",
    "\n",
    "dummyState =lambda m: pertubation_lam_state_nonbonded(IAC=dummyIAC, MASS=m, CHARGE=dummyCharge)\n",
    "\n",
    "for atom in red_com_top.SOLUTEATOM:\n",
    "    atom_states = present_atoms[atom.ATNM]\n",
    "    tstates = {}\n",
    "    for state, atomNR in enumerate(atom_states):\n",
    "        if(atomNR == -1):\n",
    "            tstates.update({state :dummyState(atom.MASS)})\n",
    "        else:\n",
    "            toffset = sum([len(tops[state].SOLUTEATOM) for i in range(state)])\n",
    "            atom_nb = tops[state].SOLUTEATOM[atomNR-toffset-1]\n",
    "            tstates.update({state:pertubation_lam_state_nonbonded(IAC=atom_nb.IAC, MASS=atom_nb.MASS, CHARGE=atom_nb.CG)})\n",
    "                  \n",
    "\n",
    "    nonbondeds.append(atom_lam_pertubation_state(NR=atom.ATNM,\n",
    "                                                 RES=1,\n",
    "                                                 NAME=atom_nb.PANM,\n",
    "                                                 STATES=tstates)\n",
    "                        )    \n",
    "nonbonded.STATEATOMS = nonbondeds\n",
    "nonbonded.NJLA = len(nonbondeds)\n",
    "nonbonded.STATEIDENTIFIERS = [\"state\"+str(i) for i in range(len(tops))]\n",
    "\n",
    "\n",
    "nonbonded"
   ]
  },
  {
   "cell_type": "markdown",
   "metadata": {},
   "source": [
    "### BUild File"
   ]
  },
  {
   "cell_type": "code",
   "execution_count": null,
   "metadata": {},
   "outputs": [],
   "source": [
    "red_com_top.RESNAME"
   ]
  },
  {
   "cell_type": "code",
   "execution_count": null,
   "metadata": {},
   "outputs": [],
   "source": [
    "ptp_file = ptp.Ptp()\n"
   ]
  },
  {
   "cell_type": "code",
   "execution_count": null,
   "metadata": {},
   "outputs": [],
   "source": [
    "ptp_file.add_block(block=TITLE(\"\\tpertubations for \"+\"\\n \".join(map(lambda x: \"\\t\".join(x), red_com_top.RESNAME.content))))\n",
    "ptp_file.add_block(block=pertbond)\n",
    "ptp_file.add_block(block=pertangle)\n",
    "ptp_file.add_block(block=pertproperdih)\n",
    "ptp_file.add_block(block=pertproperimpdih)\n",
    "\n",
    "ptp_file.add_block(block=nonbonded)"
   ]
  },
  {
   "cell_type": "code",
   "execution_count": null,
   "metadata": {},
   "outputs": [],
   "source": [
    "ptp_file"
   ]
  },
  {
   "cell_type": "markdown",
   "metadata": {},
   "source": [
    "# Check Pertubation top"
   ]
  },
  {
   "cell_type": "code",
   "execution_count": null,
   "metadata": {},
   "outputs": [],
   "source": [
    "#reduce\n",
    "stateAtoms = list(sorted(ptp_file.PERTBONDSTRETCH.STATEATOMS, key=lambda x: (x.atomI, x.atomJ)))\n",
    "skip = []\n",
    "reduced_stateAtoms = []\n",
    "for i,bond1 in enumerate(stateAtoms):\n",
    "    if(bond1 in skip):\n",
    "        print('skip', bond1)\n",
    "        continue\n",
    "    else:\n",
    "        #is there already a bond?\n",
    "        attr = vars(bond1)\n",
    "        for bond2  in stateAtoms[i+1:]:\n",
    "            if(all([vars(bond1)[k]==vars(bond2)[k] for k in vars(bond1) if(\"atom\" in k)])):\n",
    "                print(bond1, bond2)\n",
    "                skip.append(bond2)\n",
    "                \n",
    "                replace_keys = [k for k in attr['STATES'] if (attr['STATES'][k] == dummyBondInd)]\n",
    "                if(len(replace_keys)>0):\n",
    "                    replace_key = replace_keys[0]\n",
    "                    print(attr, replace_key)\n",
    "\n",
    "                    attr['STATES'].update({replace_key: bond2.STATES[replace_key]})\n",
    "                    print(attr)\n",
    "                    break\n",
    "                else:\n",
    "                    continue\n",
    "        print(attr)\n",
    "        if(attr['STATES'][0] == attr['STATES'][1]):\n",
    "            continue\n",
    "        attr.update({\"NR\":len(reduced_stateAtoms)})\n",
    "        new_pertAtomState = type(bond1)(**attr)\n",
    "        reduced_stateAtoms.append(new_pertAtomState)\n",
    "\n",
    "ptp_file.PERTBONDSTRETCH.STATEATOMS =  reduced_stateAtoms             \n",
    "ptp_file.PERTBONDSTRETCH.NPB = len(reduced_stateAtoms)\n",
    "ptp_file.PERTBONDSTRETCH"
   ]
  },
  {
   "cell_type": "code",
   "execution_count": null,
   "metadata": {},
   "outputs": [],
   "source": [
    "#write out all files\n",
    "ptp_file_path = ptp_file.write(out_ptp_path)\n",
    "top_file_path = red_com_top.write(out_top_path)\n",
    "cnf_file_path = cmol_comb.write(out_cnf_path)"
   ]
  },
  {
   "cell_type": "markdown",
   "metadata": {},
   "source": [
    "## Test Emin:\n"
   ]
  },
  {
   "cell_type": "code",
   "execution_count": null,
   "metadata": {},
   "outputs": [],
   "source": [
    "from pygromos.files.gromos_system import Gromos_System\n",
    "from pygromos.data.simulation_parameters_templates import template_emin\n",
    "from pygromos.simulations.modules.preset_simulation_modules import emin\n",
    "from pygromos.hpc_queuing.submission_systems.local import LOCAL as subSystem\n"
   ]
  },
  {
   "cell_type": "code",
   "execution_count": null,
   "metadata": {},
   "outputs": [],
   "source": [
    "root_dir = \"/home/bschroed/Documents/projects/PyGromosTools/examples/dev/singleTop\"\n",
    "template_emin"
   ]
  },
  {
   "cell_type": "code",
   "execution_count": null,
   "metadata": {},
   "outputs": [],
   "source": [
    "sys_name = 'test'\n",
    "grom_system = Gromos_System(in_cnf_path=cnf_file_path, in_top_path=top_file_path, in_imd_path=template_emin,\n",
    "                            in_ptp_path=ptp_file_path,\n",
    "                            system_name=sys_name, \n",
    "                            work_folder=root_dir+\"/out\")"
   ]
  },
  {
   "cell_type": "code",
   "execution_count": null,
   "metadata": {},
   "outputs": [],
   "source": [
    "from pygromos.files.blocks.imd_blocks import PERTURBATION\n",
    "lam =1\n",
    "pert_block  =  PERTURBATION(NTG=1, NRDGL=0, RLAM=lam, DLAMT=0,\n",
    "                            ALPHC=0.5, ALPHLJ=0.5, NLAM=2, NSCALE=0)\n",
    "grom_system.imd.add_block(block=pert_block)"
   ]
  },
  {
   "cell_type": "code",
   "execution_count": null,
   "metadata": {},
   "outputs": [],
   "source": [
    "grom_system.imd.INITIALISE.NTISHK = 0\n",
    "\n",
    "help(grom_system.imd.INITIALISE)"
   ]
  },
  {
   "cell_type": "code",
   "execution_count": null,
   "metadata": {},
   "outputs": [],
   "source": [
    "import os\n",
    "\n",
    "subSys = subSystem(verbose=True)\n",
    "emin_gromos_system, jobID = emin(in_gromos_system=grom_system, project_dir=root_dir, \n",
    "                                 submission_system=subSys, in_imd_path=None)"
   ]
  },
  {
   "cell_type": "code",
   "execution_count": null,
   "metadata": {},
   "outputs": [],
   "source": [
    "emin_cnf = cnf.Cnf(root_dir+\"/emin/simulation/emin_1/emin_1.cnf\")"
   ]
  },
  {
   "cell_type": "code",
   "execution_count": null,
   "metadata": {},
   "outputs": [],
   "source": [
    "emin_cnf.visualize()"
   ]
  },
  {
   "cell_type": "code",
   "execution_count": null,
   "metadata": {},
   "outputs": [],
   "source": []
  },
  {
   "cell_type": "markdown",
   "metadata": {},
   "source": [
    "## DONE"
   ]
  },
  {
   "cell_type": "markdown",
   "metadata": {},
   "source": [
    "#### Dual Topology Approach"
   ]
  },
  {
   "cell_type": "code",
   "execution_count": null,
   "metadata": {},
   "outputs": [],
   "source": [
    "def generate_dual_topology_approach(cnfA, cnfB, topA, topB, eds:bool=False):\n",
    "    ##Atom Mapping\n",
    "    atom_mappingAB, smart = find_atom_mapping(cnfA=cnfA, cnfB=cnfB)\n",
    "    \n",
    "    ##Coordinates\n",
    "    cnfA, cnfB = align_cnfs_with_MCS(cnfA=cnfA, cnfB=cnfB, atom_mappingAB=atom_mappingAB)\n",
    "    cnf_comb = copy.deepcopy(cnfA)\n",
    "    #cnf_comb += cnfB # needs to be implemented\n",
    "    \n",
    "    for pos in cnfB.POSITION:\n",
    "        cnf_comb.POSITION.append(pos)\n",
    "    \n",
    "    cnf_comb.supress_atomPosition_singulrarities()\n",
    "\n",
    "\n",
    "    ##Top\n",
    "    nAtoms_top1 = len(top1.SOLUTEATOM)\n",
    "    top_comb = copy.deepcopy(top1)\n",
    "    top_comb += top2\n",
    "    \n",
    "    ### Pertubation\n",
    "    ptp_comb = ptp.Pertubation_topology()\n",
    "    \n",
    "    if(eds):\n",
    "        from pygromos.files.blocks.pertubation_blocks import MPERTATOM\n",
    "        from pygromos.files.blocks.pertubation_blocks import  atom_eds_pertubation_state, pertubation_eds_state\n",
    "\n",
    "        tops = [topA, topB]\n",
    "        dummyState = pertubation_eds_state(IAC=22, CHARGE=0)\n",
    "\n",
    "        numStates=len(tops)\n",
    "        IND = 1\n",
    "        atom_states = []\n",
    "        for top_ind, top in enumerate(tops):\n",
    "            for atom in top.SOLUTEATOM:        \n",
    "                states = {}\n",
    "                for ctop in range(ntops):\n",
    "                    if(ctop==top_ind):\n",
    "                        states.update({ctop+1:pertubation_eds_state(IAC=atom.IAC, CHARGE=atom.CG)})\n",
    "                    else:\n",
    "                        states.update({ctop+1:dummyState})\n",
    "\n",
    "                atom_ptp = atom_eds_pertubation_state(NR=IND, NAME=atom.PANM, STATES=states)\n",
    "                atom_states.append(atom_ptp)\n",
    "                IND+=1\n",
    "\n",
    "        ptp_comb.add_block(block=MPERTATOM(NJLA=len(atom_states), NPTB=numStates, STATEATOMS=atom_states))\n",
    "\n",
    "    else:\n",
    "        from pygromos.files.blocks.pertubation_blocks import PERTATOMPARAM\n",
    "        from pygromos.files.blocks.pertubation_blocks import  atom_lam_pertubation_state, pertubation_lam_state_nonbonded\n",
    "\n",
    "        tops = [topA, topB]\n",
    "        build_dummyState = lambda m: pertubation_lam_state_nonbonded(IAC=22, CHARGE=0, MASS=m)\n",
    "\n",
    "        numStates=len(tops)\n",
    "        IND = 1\n",
    "        atom_states = []\n",
    "        for top_ind, top in enumerate(tops):\n",
    "            for atom in top.SOLUTEATOM:        \n",
    "                states = {}\n",
    "                for ctop in range(ntops):\n",
    "                    if(ctop==top_ind):\n",
    "                        states.update({ctop+1:pertubation_lam_state_nonbonded(IAC=atom.IAC, CHARGE=atom.CG, MASS=atom.MASS)})\n",
    "                    else:\n",
    "                        states.update({ctop+1:build_dummyState(atom.MASS)})\n",
    "\n",
    "                atom_ptp = atom_lam_pertubation_state(NR=IND, RES=atom.MRES, NAME=atom.PANM, STATES=states,)\n",
    "                atom_states.append(atom_ptp)\n",
    "                IND+=1\n",
    "\n",
    "        ptp_comb.add_block(block=PERTATOMPARAM(NJLA=len(atom_states), STATEATOMS=atom_states))\n",
    "    \n",
    "    return cnf_comb, top_comb, ptp_comb"
   ]
  },
  {
   "cell_type": "code",
   "execution_count": null,
   "metadata": {},
   "outputs": [],
   "source": [
    "cnf_file, top_file, ptp_file = generate_dual_topology_approach(cnfA=cmol1, cnfB=cmol2, topA=top1, topB=top2)"
   ]
  },
  {
   "cell_type": "code",
   "execution_count": null,
   "metadata": {},
   "outputs": [],
   "source": [
    "cnf_file.visualize()"
   ]
  },
  {
   "cell_type": "code",
   "execution_count": null,
   "metadata": {},
   "outputs": [],
   "source": [
    "top_file.SOLUTEATOM"
   ]
  },
  {
   "cell_type": "code",
   "execution_count": null,
   "metadata": {},
   "outputs": [],
   "source": [
    "ptp_file"
   ]
  },
  {
   "cell_type": "markdown",
   "metadata": {},
   "source": [
    "#### Hybrid Topology Approach"
   ]
  },
  {
   "cell_type": "code",
   "execution_count": null,
   "metadata": {},
   "outputs": [],
   "source": [
    "def generate_hybrid_topology_approach(cnfA, cnfB, topA, topB):\n",
    "    ##Atom Mapping\n",
    "    atom_mappingAB, smart = find_atom_mapping(cnfA=cnfA, cnfB=cnfB)\n",
    "    \n",
    "    ##Coordinates\n",
    "    cnfA, cnfB = align_cnfs_with_MCS(cnfA=cnfA, cnfB=cnfB, atom_mappingAB=atom_mappingAB)\n",
    "    cnf_comb, present_atoms = merge_states(cnfA=cmol1, cnfB=cmol2, atomMatchingAB=atom_mappingAB, dist_tresh=0.0, _doNotChangeAtomType=True, _doUpdateAtomMapping=True) #no distance collapsing\n",
    "    \n",
    "    ##Top\n",
    "    \n",
    "    \n",
    "    ### Pertubation\n",
    "    \n",
    "    \n",
    "    return cnf_comb\n",
    "    #return cnf_comb, top_comb, ptp_comb"
   ]
  },
  {
   "cell_type": "code",
   "execution_count": null,
   "metadata": {},
   "outputs": [],
   "source": [
    "cnf_file= generate_hybrid_topology_approach(cnfA=cmol1, cnfB=cmol2, topA=top1, topB=top2)"
   ]
  },
  {
   "cell_type": "code",
   "execution_count": null,
   "metadata": {},
   "outputs": [],
   "source": [
    "cnf_file.visualize()"
   ]
  },
  {
   "cell_type": "code",
   "execution_count": null,
   "metadata": {},
   "outputs": [],
   "source": [
    "cnf_file"
   ]
  },
  {
   "cell_type": "markdown",
   "metadata": {},
   "source": [
    "#### Single Topology Approach"
   ]
  },
  {
   "cell_type": "code",
   "execution_count": null,
   "metadata": {},
   "outputs": [],
   "source": [
    "def generate_single_topology_approach(cnfA, cnfB, topA, topB):\n",
    "    ##Atom Mapping\n",
    "    atom_mappingAB, smart = find_atom_mapping(cnfA=cnfA, cnfB=cnfB)\n",
    "    \n",
    "    ##Coordinates\n",
    "    cnfA, cnfB = align_cnfs_with_MCS(cnfA=cnfA, cnfB=cnfB, atom_mappingAB=atom_mappingAB)\n",
    "    cnf_comb,present_atoms = merge_states(cnfA=cmol1, cnfB=cmol2, atomMatchingAB=atom_mappingAB, dist_tresh=0.09) #no distance collapsing\n",
    "    \n",
    "\n",
    "    return cnf_comb #, top_comb, ptp_comb"
   ]
  },
  {
   "cell_type": "code",
   "execution_count": null,
   "metadata": {},
   "outputs": [],
   "source": [
    "cnf_file= generate_single_topology_approach(cnfA=cmol1, cnfB=cmol2, topA=top1, topB=top2)"
   ]
  },
  {
   "cell_type": "code",
   "execution_count": null,
   "metadata": {},
   "outputs": [],
   "source": [
    "cnf_file.visualize()"
   ]
  },
  {
   "cell_type": "code",
   "execution_count": null,
   "metadata": {},
   "outputs": [],
   "source": [
    "cnf_file"
   ]
  },
  {
   "cell_type": "code",
   "execution_count": null,
   "metadata": {},
   "outputs": [],
   "source": []
  },
  {
   "cell_type": "code",
   "execution_count": null,
   "metadata": {},
   "outputs": [],
   "source": []
  }
 ],
 "metadata": {
  "language_info": {
   "name": "python"
  }
 },
 "nbformat": 4,
 "nbformat_minor": 1
}
