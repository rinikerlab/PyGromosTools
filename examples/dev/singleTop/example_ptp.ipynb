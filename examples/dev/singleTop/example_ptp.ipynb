{
 "cells": [
  {
   "cell_type": "code",
   "execution_count": 1,
   "metadata": {
    "pycharm": {
     "is_executing": true
    }
   },
   "outputs": [],
   "source": [
    "from pygromos.files.topology import top\n",
    "from pygromos.files.topology import ptp\n",
    "from pygromos.files.coord import cnf\n",
    "\n",
    "import copy\n",
    "import numpy as np\n",
    "\n",
    "from rdkit import Chem\n",
    "from rdkit.Chem import AllChem"
   ]
  },
  {
   "cell_type": "code",
   "execution_count": 2,
   "metadata": {
    "pycharm": {
     "is_executing": true,
     "name": "#%%\n"
    }
   },
   "outputs": [],
   "source": [
    "input_dir = \"input\"\n",
    "in_top1_path = input_dir+\"/F313.top\"\n",
    "in_top2_path = input_dir+\"/G078.top\"\n",
    "\n",
    "in_coord2_path = input_dir+\"/G078_unitedatom_optimised_geometry.g96\"\n",
    "in_coord1_path = input_dir+\"/F313_unitedatom_optimised_geometry.g96\"\n",
    "\n",
    "out_ptp_path = \"./out/fun.ptp\"\n",
    "out_top_path = \"./out/fun.top\"\n",
    "out_cnf_path = \"./out/coord.g96\"\n"
   ]
  },
  {
   "cell_type": "markdown",
   "metadata": {},
   "source": [
    "## COORD"
   ]
  },
  {
   "cell_type": "code",
   "execution_count": 3,
   "metadata": {},
   "outputs": [],
   "source": [
    "cmol1 = cnf.Cnf(in_coord1_path)\n",
    "cmol2 = cnf.Cnf(in_coord2_path)"
   ]
  },
  {
   "cell_type": "code",
   "execution_count": 4,
   "metadata": {},
   "outputs": [
    {
     "data": {
      "text/plain": [
       "POSITION\n",
       "# \t \n",
       "    1 G078  C12        1   -0.105294327    0.294456128   -0.000958613\n",
       "    1 G078  C5         2   -0.102027449    0.143424651    0.000075814\n",
       "    1 G078  C4         3   -0.219248048    0.070784658    0.000720005\n",
       "    1 G078  H5         4   -0.314580944    0.123211384    0.000514463\n",
       "    1 G078  C3         5   -0.219247102   -0.070786584    0.000719964\n",
       "    1 G078  H4         6   -0.314578754   -0.123215832    0.000507374\n",
       "    1 G078  C2         7   -0.102025935   -0.143424981    0.000073281\n",
       "    1 G078  C1         8   -0.105292139   -0.294457008   -0.000963503\n",
       "    1 G078  C11        9    0.022455714   -0.071930088    0.000196196\n",
       "    1 G078  C6        10    0.022456011    0.071932015    0.000189775\n",
       "    1 G078  C7        11    0.147542435    0.139715789    0.000206284\n",
       "    1 G078  H6        12    0.148905210    0.248277889    0.000502444\n",
       "    1 G078  C8        13    0.266930052    0.070661361   -0.000029547\n",
       "    1 G078  H7        14    0.361158038    0.124866672    0.000272934\n",
       "    1 G078  C9        15    0.266930569   -0.070661136   -0.000019790\n",
       "    1 G078  H8        16    0.361159446   -0.124864410    0.000286828\n",
       "    1 G078  C10       17    0.147542173   -0.139714060    0.000212901\n",
       "    1 G078  H9        18    0.148901603   -0.248276050    0.000512906\n",
       "END"
      ]
     },
     "execution_count": 4,
     "metadata": {},
     "output_type": "execute_result"
    }
   ],
   "source": [
    "cmol2.POSITION"
   ]
  },
  {
   "cell_type": "code",
   "execution_count": 5,
   "metadata": {
    "scrolled": false
   },
   "outputs": [
    {
     "data": {
      "application/3dmoljs_load.v0": "<div id=\"3dmolviewer_16328348065560462\"  style=\"position: relative; width: 400px; height: 400px\">\n        <p id=\"3dmolwarning_16328348065560462\" style=\"background-color:#ffcccc;color:black\">You appear to be running in JupyterLab (or JavaScript failed to load for some other reason).  You need to install the 3dmol extension: <br>\n        <tt>jupyter labextension install jupyterlab_3dmol</tt></p>\n        </div>\n<script>\n\nvar loadScriptAsync = function(uri){\n  return new Promise((resolve, reject) => {\n    var tag = document.createElement('script');\n    tag.src = uri;\n    tag.async = true;\n    tag.onload = () => {\n      resolve();\n    };\n  var firstScriptTag = document.getElementsByTagName('script')[0];\n  firstScriptTag.parentNode.insertBefore(tag, firstScriptTag);\n});\n};\n\nif(typeof $3Dmolpromise === 'undefined') {\n$3Dmolpromise = null;\n  $3Dmolpromise = loadScriptAsync('https://3dmol.org/build/3Dmol.js');\n}\n\nvar viewer_16328348065560462 = null;\nvar warn = document.getElementById(\"3dmolwarning_16328348065560462\");\nif(warn) {\n    warn.parentNode.removeChild(warn);\n}\n$3Dmolpromise.then(function() {\nviewer_16328348065560462 = $3Dmol.createViewer($(\"#3dmolviewer_16328348065560462\"),{backgroundColor:\"white\"});\nviewer_16328348065560462.zoomTo();\n\tviewer_16328348065560462.addModel(\"18\\n# # exported wit PyGromosTools\\nC  \\t-1.052943270    2.944561280   -0.009586130\\nC  \\t-1.020274490    1.434246510    0.000758140\\nC  \\t-2.192480480    0.707846580    0.007200050\\nH  \\t-3.145809440    1.232113840    0.005144630\\nC  \\t-2.192471020   -0.707865840    0.007199640\\nH  \\t-3.145787540   -1.232158320    0.005073740\\nC  \\t-1.020259350   -1.434249810    0.000732810\\nC  \\t-1.052921390   -2.944570080   -0.009635030\\nC  \\t 0.224557140   -0.719300880    0.001961960\\nC  \\t 0.224560110    0.719320150    0.001897750\\nC  \\t 1.475424350    1.397157890    0.002062840\\nH  \\t 1.489052100    2.482778890    0.005024440\\nC  \\t 2.669300520    0.706613610   -0.000295470\\nH  \\t 3.611580380    1.248666720    0.002729340\\nC  \\t 2.669305690   -0.706611360   -0.000197900\\nH  \\t 3.611594460   -1.248644100    0.002868280\\nC  \\t 1.475421730   -1.397140600    0.002129010\\nH  \\t 1.489016030   -2.482760500    0.005129060\\n\");\n\tviewer_16328348065560462.setStyle({\"model\": -1},{\"stick\": {}});\n\tviewer_16328348065560462.zoomTo();\nviewer_16328348065560462.render();\n});\n</script>",
      "text/html": [
       "<div id=\"3dmolviewer_16328348065560462\"  style=\"position: relative; width: 400px; height: 400px\">\n",
       "        <p id=\"3dmolwarning_16328348065560462\" style=\"background-color:#ffcccc;color:black\">You appear to be running in JupyterLab (or JavaScript failed to load for some other reason).  You need to install the 3dmol extension: <br>\n",
       "        <tt>jupyter labextension install jupyterlab_3dmol</tt></p>\n",
       "        </div>\n",
       "<script>\n",
       "\n",
       "var loadScriptAsync = function(uri){\n",
       "  return new Promise((resolve, reject) => {\n",
       "    var tag = document.createElement('script');\n",
       "    tag.src = uri;\n",
       "    tag.async = true;\n",
       "    tag.onload = () => {\n",
       "      resolve();\n",
       "    };\n",
       "  var firstScriptTag = document.getElementsByTagName('script')[0];\n",
       "  firstScriptTag.parentNode.insertBefore(tag, firstScriptTag);\n",
       "});\n",
       "};\n",
       "\n",
       "if(typeof $3Dmolpromise === 'undefined') {\n",
       "$3Dmolpromise = null;\n",
       "  $3Dmolpromise = loadScriptAsync('https://3dmol.org/build/3Dmol.js');\n",
       "}\n",
       "\n",
       "var viewer_16328348065560462 = null;\n",
       "var warn = document.getElementById(\"3dmolwarning_16328348065560462\");\n",
       "if(warn) {\n",
       "    warn.parentNode.removeChild(warn);\n",
       "}\n",
       "$3Dmolpromise.then(function() {\n",
       "viewer_16328348065560462 = $3Dmol.createViewer($(\"#3dmolviewer_16328348065560462\"),{backgroundColor:\"white\"});\n",
       "viewer_16328348065560462.zoomTo();\n",
       "\tviewer_16328348065560462.addModel(\"18\\n# # exported wit PyGromosTools\\nC  \\t-1.052943270    2.944561280   -0.009586130\\nC  \\t-1.020274490    1.434246510    0.000758140\\nC  \\t-2.192480480    0.707846580    0.007200050\\nH  \\t-3.145809440    1.232113840    0.005144630\\nC  \\t-2.192471020   -0.707865840    0.007199640\\nH  \\t-3.145787540   -1.232158320    0.005073740\\nC  \\t-1.020259350   -1.434249810    0.000732810\\nC  \\t-1.052921390   -2.944570080   -0.009635030\\nC  \\t 0.224557140   -0.719300880    0.001961960\\nC  \\t 0.224560110    0.719320150    0.001897750\\nC  \\t 1.475424350    1.397157890    0.002062840\\nH  \\t 1.489052100    2.482778890    0.005024440\\nC  \\t 2.669300520    0.706613610   -0.000295470\\nH  \\t 3.611580380    1.248666720    0.002729340\\nC  \\t 2.669305690   -0.706611360   -0.000197900\\nH  \\t 3.611594460   -1.248644100    0.002868280\\nC  \\t 1.475421730   -1.397140600    0.002129010\\nH  \\t 1.489016030   -2.482760500    0.005129060\\n\");\n",
       "\tviewer_16328348065560462.setStyle({\"model\": -1},{\"stick\": {}});\n",
       "\tviewer_16328348065560462.zoomTo();\n",
       "viewer_16328348065560462.render();\n",
       "});\n",
       "</script>"
      ]
     },
     "metadata": {},
     "output_type": "display_data"
    },
    {
     "data": {
      "text/plain": [
       "<py3Dmol.view at 0x7f3cf55c69d0>"
      ]
     },
     "execution_count": 5,
     "metadata": {},
     "output_type": "execute_result"
    }
   ],
   "source": [
    "cmol2.visualize()"
   ]
  },
  {
   "cell_type": "code",
   "execution_count": 6,
   "metadata": {
    "scrolled": false
   },
   "outputs": [
    {
     "data": {
      "application/3dmoljs_load.v0": "<div id=\"3dmolviewer_1632834806570475\"  style=\"position: relative; width: 400px; height: 400px\">\n        <p id=\"3dmolwarning_1632834806570475\" style=\"background-color:#ffcccc;color:black\">You appear to be running in JupyterLab (or JavaScript failed to load for some other reason).  You need to install the 3dmol extension: <br>\n        <tt>jupyter labextension install jupyterlab_3dmol</tt></p>\n        </div>\n<script>\n\nvar loadScriptAsync = function(uri){\n  return new Promise((resolve, reject) => {\n    var tag = document.createElement('script');\n    tag.src = uri;\n    tag.async = true;\n    tag.onload = () => {\n      resolve();\n    };\n  var firstScriptTag = document.getElementsByTagName('script')[0];\n  firstScriptTag.parentNode.insertBefore(tag, firstScriptTag);\n});\n};\n\nif(typeof $3Dmolpromise === 'undefined') {\n$3Dmolpromise = null;\n  $3Dmolpromise = loadScriptAsync('https://3dmol.org/build/3Dmol.js');\n}\n\nvar viewer_1632834806570475 = null;\nvar warn = document.getElementById(\"3dmolwarning_1632834806570475\");\nif(warn) {\n    warn.parentNode.removeChild(warn);\n}\n$3Dmolpromise.then(function() {\nviewer_1632834806570475 = $3Dmol.createViewer($(\"#3dmolviewer_1632834806570475\"),{backgroundColor:\"white\"});\nviewer_1632834806570475.zoomTo();\n\tviewer_1632834806570475.addModel(\"15\\n# # exported wit PyGromosTools\\nC  \\t-3.213826700    0.573621610    0.026109160\\nO  \\t-2.309295940   -0.524320090   -0.007744980\\nC  \\t-0.963037660   -0.245675160   -0.015446840\\nC  \\t-0.105232380   -1.354955960   -0.006810080\\nH  \\t-0.538742570   -2.351362120    0.003626380\\nC  \\t 1.274717690   -1.184403330    0.007801720\\nH  \\t 1.922586340   -2.058523960    0.017780170\\nC  \\t 1.845344720    0.102759460    0.009377820\\nN  \\t 3.242373470    0.273014680   -0.049256000\\nH  \\t 3.556713000    1.153364100    0.346839610\\nH  \\t 3.759766180   -0.490093180    0.376209760\\nC  \\t 0.979273630    1.204608670   -0.002417820\\nH  \\t 1.392572850    2.211253610   -0.007942340\\nC  \\t-0.409941710    1.039251950   -0.019354200\\nH  \\t-1.042047540    1.920615250   -0.026750300\\n\");\n\tviewer_1632834806570475.setStyle({\"model\": -1},{\"stick\": {}});\n\tviewer_1632834806570475.zoomTo();\nviewer_1632834806570475.render();\n});\n</script>",
      "text/html": [
       "<div id=\"3dmolviewer_1632834806570475\"  style=\"position: relative; width: 400px; height: 400px\">\n",
       "        <p id=\"3dmolwarning_1632834806570475\" style=\"background-color:#ffcccc;color:black\">You appear to be running in JupyterLab (or JavaScript failed to load for some other reason).  You need to install the 3dmol extension: <br>\n",
       "        <tt>jupyter labextension install jupyterlab_3dmol</tt></p>\n",
       "        </div>\n",
       "<script>\n",
       "\n",
       "var loadScriptAsync = function(uri){\n",
       "  return new Promise((resolve, reject) => {\n",
       "    var tag = document.createElement('script');\n",
       "    tag.src = uri;\n",
       "    tag.async = true;\n",
       "    tag.onload = () => {\n",
       "      resolve();\n",
       "    };\n",
       "  var firstScriptTag = document.getElementsByTagName('script')[0];\n",
       "  firstScriptTag.parentNode.insertBefore(tag, firstScriptTag);\n",
       "});\n",
       "};\n",
       "\n",
       "if(typeof $3Dmolpromise === 'undefined') {\n",
       "$3Dmolpromise = null;\n",
       "  $3Dmolpromise = loadScriptAsync('https://3dmol.org/build/3Dmol.js');\n",
       "}\n",
       "\n",
       "var viewer_1632834806570475 = null;\n",
       "var warn = document.getElementById(\"3dmolwarning_1632834806570475\");\n",
       "if(warn) {\n",
       "    warn.parentNode.removeChild(warn);\n",
       "}\n",
       "$3Dmolpromise.then(function() {\n",
       "viewer_1632834806570475 = $3Dmol.createViewer($(\"#3dmolviewer_1632834806570475\"),{backgroundColor:\"white\"});\n",
       "viewer_1632834806570475.zoomTo();\n",
       "\tviewer_1632834806570475.addModel(\"15\\n# # exported wit PyGromosTools\\nC  \\t-3.213826700    0.573621610    0.026109160\\nO  \\t-2.309295940   -0.524320090   -0.007744980\\nC  \\t-0.963037660   -0.245675160   -0.015446840\\nC  \\t-0.105232380   -1.354955960   -0.006810080\\nH  \\t-0.538742570   -2.351362120    0.003626380\\nC  \\t 1.274717690   -1.184403330    0.007801720\\nH  \\t 1.922586340   -2.058523960    0.017780170\\nC  \\t 1.845344720    0.102759460    0.009377820\\nN  \\t 3.242373470    0.273014680   -0.049256000\\nH  \\t 3.556713000    1.153364100    0.346839610\\nH  \\t 3.759766180   -0.490093180    0.376209760\\nC  \\t 0.979273630    1.204608670   -0.002417820\\nH  \\t 1.392572850    2.211253610   -0.007942340\\nC  \\t-0.409941710    1.039251950   -0.019354200\\nH  \\t-1.042047540    1.920615250   -0.026750300\\n\");\n",
       "\tviewer_1632834806570475.setStyle({\"model\": -1},{\"stick\": {}});\n",
       "\tviewer_1632834806570475.zoomTo();\n",
       "viewer_1632834806570475.render();\n",
       "});\n",
       "</script>"
      ]
     },
     "metadata": {},
     "output_type": "display_data"
    },
    {
     "data": {
      "text/plain": [
       "<py3Dmol.view at 0x7f3cc6664690>"
      ]
     },
     "execution_count": 6,
     "metadata": {},
     "output_type": "execute_result"
    }
   ],
   "source": [
    " cmol1.visualize()"
   ]
  },
  {
   "cell_type": "markdown",
   "metadata": {},
   "source": [
    "### Atom Matching"
   ]
  },
  {
   "cell_type": "code",
   "execution_count": 7,
   "metadata": {},
   "outputs": [
    {
     "data": {
      "text/plain": [
       "(10,\n",
       " {3: 2, 2: 1, 4: 10, 6: 9, 8: 7, 12: 5, 14: 3, 15: 4, 13: 6, 9: 8},\n",
       " '[#6&R]1(-&!@[#8,#6;!R])-&@[#6&R]-&@[#6&R]-&@[#6&R](-&@[#6&R](-&@[#6&R]-&@1-&!@[#1&!R])-&!@[#1&!R])-&!@[#7,#6;!R]')"
      ]
     },
     "execution_count": 7,
     "metadata": {},
     "output_type": "execute_result"
    }
   ],
   "source": [
    "from rdkit.Chem import rdFMCS\n",
    "\n",
    "def find_atom_mapping(cnfA:cnf.Cnf, cnfB:cnf.Cnf)->(dict,str):\n",
    "    \n",
    "    mol1 = Chem.MolFromPDBBlock(cnfA.get_pdb(rdkit_ready=True), removeHs=False)\n",
    "    mol2 = Chem.MolFromPDBBlock(cnfB.get_pdb(rdkit_ready=True), removeHs=False)\n",
    "\n",
    "\n",
    "    #CompareElements\n",
    "    mcs = rdFMCS.FindMCS([mol1, mol2],\n",
    "                         atomCompare=rdFMCS.AtomCompare.CompareAnyHeavyAtom,\n",
    "                         bondCompare=rdFMCS.BondCompare.CompareOrderExact,\n",
    "                         ringMatchesRingOnly=True, completeRingsOnly=True)\n",
    "    #                    ringCompare=rdFMCS.RingCompare.StrictRingFusion)\n",
    "    smartsString = mcs.smartsString\n",
    "\n",
    "    ##MCS Match\n",
    "    patt = Chem.MolFromSmarts(smartsString)  # smartsString\n",
    "    mol1Match = [i+1 for i in mol1.GetSubstructMatch(patt)]\n",
    "    mol2Match = [i+1 for i in mol2.GetSubstructMatch(patt)]\n",
    "\n",
    "    atom_mappingAB = dict(zip(mol1Match, mol2Match))\n",
    "    return atom_mappingAB, smartsString\n",
    "\n",
    "atom_mappingAB, smart = find_atom_mapping(cnfA=cmol1, cnfB=cmol2)\n",
    "len(atom_mappingAB), atom_mappingAB, smart"
   ]
  },
  {
   "cell_type": "markdown",
   "metadata": {},
   "source": [
    "## COORDINATE Generation\n",
    "### Coord Alignment"
   ]
  },
  {
   "cell_type": "code",
   "execution_count": 8,
   "metadata": {},
   "outputs": [],
   "source": [
    "def align_cnfs_with_MCS(cnfA:cnf.Cnf, cnfB:cnf.Cnf, atom_mappingAB:int)->(cnf.Cnf, cnf.Cnf):\n",
    "    \n",
    "    cnfA= copy.deepcopy(cnfA)\n",
    "    cnfB= copy.deepcopy(cnfB)\n",
    "    \n",
    "    mol1 = Chem.MolFromPDBBlock(cnfA.get_pdb(rdkit_ready=True), removeHs=False)\n",
    "    mol2 = Chem.MolFromPDBBlock(cnfB.get_pdb(rdkit_ready=True), removeHs=False)\n",
    "    \n",
    "    atom_mappingAB = {key-1:val-1 for key, val in atom_mappingAB.items()}\n",
    "    AllChem.AlignMol(mol1, mol2, atomMap=list(atom_mappingAB.items()))\n",
    "\n",
    "\n",
    "    conf2 = mol2.GetConformer()\n",
    "    for ind, pos in enumerate(conf2.GetPositions()):\n",
    "        cnfB.POSITION[ind].xp= pos[0]/10\n",
    "        cnfB.POSITION[ind].yp= pos[1]/10\n",
    "        cnfB.POSITION[ind].zp= pos[2]/10\n",
    "\n",
    "    conf1 = mol1.GetConformer()\n",
    "    for ind, pos in enumerate(conf1.GetPositions()):\n",
    "        cnfA.POSITION[ind].xp= pos[0]/10\n",
    "        cnfA.POSITION[ind].yp= pos[1]/10\n",
    "        cnfA.POSITION[ind].zp= pos[2]/10\n",
    "        \n",
    "    return cnfA, cnfB\n",
    "\n",
    "cmol1, cmol2 = align_cnfs_with_MCS(cnfA=cmol1, cnfB=cmol2, atom_mappingAB=atom_mappingAB)\n",
    "\n"
   ]
  },
  {
   "cell_type": "markdown",
   "metadata": {},
   "source": [
    "### State merging"
   ]
  },
  {
   "cell_type": "code",
   "execution_count": 9,
   "metadata": {},
   "outputs": [
    {
     "data": {
      "text/plain": [
       "POSITION\n",
       "# \t \n",
       "    1 G078  C12        1   -0.105300000    0.294500000   -0.001000000\n",
       "    1 G078  C5         2   -0.102000000    0.143400000    0.000100000\n",
       "    1 G078  C4         3   -0.219200000    0.070800000    0.000700000\n",
       "    1 G078  H5         4   -0.314600000    0.123200000    0.000500000\n",
       "    1 G078  C3         5   -0.219200000   -0.070800000    0.000700000\n",
       "    1 G078  H4         6   -0.314600000   -0.123200000    0.000500000\n",
       "    1 G078  C2         7   -0.102000000   -0.143400000    0.000100000\n",
       "    1 G078  C1         8   -0.105300000   -0.294500000   -0.001000000\n",
       "    1 G078  C11        9    0.022500000   -0.071900000    0.000200000\n",
       "    1 G078  C6        10    0.022500000    0.071900000    0.000200000\n",
       "    1 G078  C7        11    0.147500000    0.139700000    0.000200000\n",
       "    1 G078  H6        12    0.148900000    0.248300000    0.000500000\n",
       "    1 G078  C8        13    0.266900000    0.070700000   -0.000000000\n",
       "    1 G078  H7        14    0.361200000    0.124900000    0.000300000\n",
       "    1 G078  C9        15    0.266900000   -0.070700000   -0.000000000\n",
       "    1 G078  H8        16    0.361200000   -0.124900000    0.000300000\n",
       "    1 G078  C10       17    0.147500000   -0.139700000    0.000200000\n",
       "    1 G078  H9        18    0.148900000   -0.248300000    0.000500000\n",
       "END"
      ]
     },
     "execution_count": 9,
     "metadata": {},
     "output_type": "execute_result"
    }
   ],
   "source": [
    "cmol2.POSITION"
   ]
  },
  {
   "cell_type": "code",
   "execution_count": 10,
   "metadata": {
    "scrolled": false
   },
   "outputs": [
    {
     "data": {
      "text/plain": [
       "{1: (1, -1),\n",
       " 2: (2, 16),\n",
       " 3: (3, 17),\n",
       " 4: (4, 25),\n",
       " 5: (5, 26),\n",
       " 6: (6, 24),\n",
       " 7: (7, 32),\n",
       " 8: (8, 22),\n",
       " 9: (9, 23),\n",
       " 10: (10, -1),\n",
       " 11: (11, -1),\n",
       " 12: (12, 20),\n",
       " 13: (13, 21),\n",
       " 14: (14, 18),\n",
       " 15: (15, 19),\n",
       " 16: (-1, 27),\n",
       " 17: (-1, 28),\n",
       " 18: (-1, 29),\n",
       " 19: (-1, 30),\n",
       " 20: (-1, 31),\n",
       " 21: (-1, 33)}"
      ]
     },
     "execution_count": 10,
     "metadata": {},
     "output_type": "execute_result"
    }
   ],
   "source": [
    "eucldean_dist = lambda x,y: np.sqrt((x.xp-y.xp)**2+(x.yp-y.yp)**2+(x.zp-y.zp)**2)\n",
    "\n",
    "def merge_states(cnfA:cnf.Cnf, cnfB:cnf.Cnf, atomMatchingAB:dict, dist_tresh:float=0.09,_doNotChangeAtomType:bool=False, _doUpdateAtomMapping:bool=True)-> cnf.Cnf:#nm\n",
    "        \n",
    "    natoms_in_a=len(cnfA.POSITION)\n",
    "    match_molA, match_molB = np.array(list(atom_mappingAB.items())).T\n",
    "    atomMatchingAB = copy.deepcopy(atomMatchingAB)\n",
    "    cmol_comb = copy.deepcopy(cnfA)    \n",
    "    \n",
    "    #reduce stateB to required atoms\n",
    "    for pos in cnfB.POSITION:\n",
    "        pos2s = [pos2 for pos2 in cnfA.POSITION  if(eucldean_dist(pos, pos2) < dist_tresh)]\n",
    "        #print(pos.atomID)\n",
    "\n",
    "        if(len(pos2s) > 0 and _doUpdateAtomMapping):#check distance\n",
    "            found = False\n",
    "            for p in pos2s:\n",
    "                if(not(p.atomID in atomMatchingAB.keys() or pos.atomID in atomMatchingAB.values())):\n",
    "                    #print(\"map_Coordinates\", pos.atomID, {pos.atomID: p.atomID})\n",
    "                    atomMatchingAB.update({p.atomID:pos.atomID})\n",
    "                    found = True\n",
    "                    break\n",
    "            if(not (found or pos.atomID in atomMatchingAB.values())):\n",
    "                #print(\"adding_Coordinates\", pos.atomID)\n",
    "                pos = copy.deepcopy(pos)\n",
    "                pos.resID=2\n",
    "                cmol_comb.POSITION.append(pos)      \n",
    "            elif(not found):\n",
    "                #print(\"already found\", pos.atomID, pos.atomID in  atomMatchingAB.values())\n",
    "                pass\n",
    "        else:\n",
    "            #print(\"adding_Coordinates\", pos.atomID)\n",
    "            pos = copy.deepcopy(pos)\n",
    "            pos.resID=2\n",
    "            cmol_comb.POSITION.append(pos)\n",
    "\n",
    "    #print(\"LENE: \", len(atomMatchingAB), len(cmol_comb.POSITION))\n",
    "    #print(cmol_comb.POSITION)\n",
    "    #print(atomMatchingAB)\n",
    "    \n",
    "    #clean cmol_comb\n",
    "    present_atoms={}\n",
    "    ati = []\n",
    "    atomID = 1\n",
    "    for ind, pos in enumerate(cmol_comb.POSITION):\n",
    "        #atoms present in coords, mapped to old initial ones\n",
    "        tID = pos.atomID\n",
    "        first_state = tID if (pos.resID == 1) else -1\n",
    "        #print(\"first\", first_state, pos.resID)\n",
    "        if(first_state != -1):\n",
    "            if(first_state in atomMatchingAB):\n",
    "                #print(\"that if: \", atomMatchingAB[first_state], atomMatchingAB[first_state]+natoms_in_a)\n",
    "                second_state = atomMatchingAB[first_state]+natoms_in_a\n",
    "                ati.append(atomMatchingAB[first_state])\n",
    "            else:\n",
    "                second_state = -1\n",
    "        else:\n",
    "            #print(\"this if: \", pos.atomID, pos.atomID+natoms_in_a)\n",
    "            second_state = pos.atomID+natoms_in_a\n",
    "            ati.append(pos.atomID)\n",
    "\n",
    "        pos.resID=1\n",
    "        pos.atomID = atomID\n",
    "        pos.resName=cmol1.POSITION[0].resName[:2]+cmol2.POSITION[0].resName[2:4]\n",
    "        if(not _doNotChangeAtomType): pos.atomType = \"C\"\n",
    "        present_atoms.update({pos.atomID: (first_state, second_state)})\n",
    "        atomID+=1        \n",
    "        \n",
    "    #print(len(ati), sorted(ati))        \n",
    "    return cmol_comb, present_atoms\n",
    "\n",
    "cmol_comb, present_atoms = merge_states(cnfA=cmol1, cnfB=cmol2, atomMatchingAB=atom_mappingAB, dist_tresh=0.09)\n",
    "#cmol_comb.write(\"fung.g96\")\n",
    "#cmol_comb.visualize()\n",
    "present_atoms"
   ]
  },
  {
   "cell_type": "code",
   "execution_count": 11,
   "metadata": {},
   "outputs": [
    {
     "data": {
      "application/3dmoljs_load.v0": "<div id=\"3dmolviewer_16328348066815631\"  style=\"position: relative; width: 400px; height: 400px\">\n        <p id=\"3dmolwarning_16328348066815631\" style=\"background-color:#ffcccc;color:black\">You appear to be running in JupyterLab (or JavaScript failed to load for some other reason).  You need to install the 3dmol extension: <br>\n        <tt>jupyter labextension install jupyterlab_3dmol</tt></p>\n        </div>\n<script>\n\nvar loadScriptAsync = function(uri){\n  return new Promise((resolve, reject) => {\n    var tag = document.createElement('script');\n    tag.src = uri;\n    tag.async = true;\n    tag.onload = () => {\n      resolve();\n    };\n  var firstScriptTag = document.getElementsByTagName('script')[0];\n  firstScriptTag.parentNode.insertBefore(tag, firstScriptTag);\n});\n};\n\nif(typeof $3Dmolpromise === 'undefined') {\n$3Dmolpromise = null;\n  $3Dmolpromise = loadScriptAsync('https://3dmol.org/build/3Dmol.js');\n}\n\nvar viewer_16328348066815631 = null;\nvar warn = document.getElementById(\"3dmolwarning_16328348066815631\");\nif(warn) {\n    warn.parentNode.removeChild(warn);\n}\n$3Dmolpromise.then(function() {\nviewer_16328348066815631 = $3Dmol.createViewer($(\"#3dmolviewer_16328348066815631\"),{backgroundColor:\"white\"});\nviewer_16328348066815631.zoomTo();\n\tviewer_16328348066815631.addModel(\"21\\n# \\t >>> Generated with python lib function_libs utilities. (riniker group)\\t >>> line_seperator: '\\\\n'\\t field_seperator: '\\\\t'\\t comments_char: '#'\\t >>> Generated with python lib function_libs utilities. (riniker group)\\t >>> line_seperator: '\\\\n'\\t field_seperator: '\\\\t'\\t comments_char: '#'# exported wit PyGromosTools\\nC  \\t-2.137274170    3.543358760   -0.032406710\\nC  \\t-0.930191600    2.790017920    0.002439360\\nC  \\t-1.029393050    1.419183800    0.007117250\\nC  \\t 0.182505260    0.713945190    0.000046940\\nC  \\t 1.113049090    1.274755340   -0.008506110\\nC  \\t 0.193873840   -0.676537480   -0.017120130\\nC  \\t 1.146270960   -1.204252920   -0.026347840\\nC  \\t-1.007314520   -1.410294300   -0.021294260\\nC  \\t-0.992849270   -2.817614020    0.034517600\\nC  \\t-1.823305880   -3.244607790   -0.363551670\\nC  \\t-0.167826120   -3.230477360   -0.389744890\\nC  \\t-2.213326780   -0.696212000   -0.011200140\\nC  \\t-3.156397200   -1.238497440   -0.007639040\\nC  \\t-2.230835170    0.702534570    0.007969610\\nC  \\t-3.188071500    1.213473770    0.015162790\\nC  \\t 1.489000000    2.483000000    0.005000000\\nC  \\t 2.669000000    0.707000000   -0.000000000\\nC  \\t 3.612000000    1.249000000    0.003000000\\nC  \\t 2.669000000   -0.707000000   -0.000000000\\nC  \\t 3.612000000   -1.249000000    0.003000000\\nC  \\t 1.489000000   -2.483000000    0.005000000\\n\");\n\tviewer_16328348066815631.setStyle({\"model\": -1},{\"stick\": {}});\n\tviewer_16328348066815631.zoomTo();\nviewer_16328348066815631.render();\n});\n</script>",
      "text/html": [
       "<div id=\"3dmolviewer_16328348066815631\"  style=\"position: relative; width: 400px; height: 400px\">\n",
       "        <p id=\"3dmolwarning_16328348066815631\" style=\"background-color:#ffcccc;color:black\">You appear to be running in JupyterLab (or JavaScript failed to load for some other reason).  You need to install the 3dmol extension: <br>\n",
       "        <tt>jupyter labextension install jupyterlab_3dmol</tt></p>\n",
       "        </div>\n",
       "<script>\n",
       "\n",
       "var loadScriptAsync = function(uri){\n",
       "  return new Promise((resolve, reject) => {\n",
       "    var tag = document.createElement('script');\n",
       "    tag.src = uri;\n",
       "    tag.async = true;\n",
       "    tag.onload = () => {\n",
       "      resolve();\n",
       "    };\n",
       "  var firstScriptTag = document.getElementsByTagName('script')[0];\n",
       "  firstScriptTag.parentNode.insertBefore(tag, firstScriptTag);\n",
       "});\n",
       "};\n",
       "\n",
       "if(typeof $3Dmolpromise === 'undefined') {\n",
       "$3Dmolpromise = null;\n",
       "  $3Dmolpromise = loadScriptAsync('https://3dmol.org/build/3Dmol.js');\n",
       "}\n",
       "\n",
       "var viewer_16328348066815631 = null;\n",
       "var warn = document.getElementById(\"3dmolwarning_16328348066815631\");\n",
       "if(warn) {\n",
       "    warn.parentNode.removeChild(warn);\n",
       "}\n",
       "$3Dmolpromise.then(function() {\n",
       "viewer_16328348066815631 = $3Dmol.createViewer($(\"#3dmolviewer_16328348066815631\"),{backgroundColor:\"white\"});\n",
       "viewer_16328348066815631.zoomTo();\n",
       "\tviewer_16328348066815631.addModel(\"21\\n# \\t >>> Generated with python lib function_libs utilities. (riniker group)\\t >>> line_seperator: '\\\\n'\\t field_seperator: '\\\\t'\\t comments_char: '#'\\t >>> Generated with python lib function_libs utilities. (riniker group)\\t >>> line_seperator: '\\\\n'\\t field_seperator: '\\\\t'\\t comments_char: '#'# exported wit PyGromosTools\\nC  \\t-2.137274170    3.543358760   -0.032406710\\nC  \\t-0.930191600    2.790017920    0.002439360\\nC  \\t-1.029393050    1.419183800    0.007117250\\nC  \\t 0.182505260    0.713945190    0.000046940\\nC  \\t 1.113049090    1.274755340   -0.008506110\\nC  \\t 0.193873840   -0.676537480   -0.017120130\\nC  \\t 1.146270960   -1.204252920   -0.026347840\\nC  \\t-1.007314520   -1.410294300   -0.021294260\\nC  \\t-0.992849270   -2.817614020    0.034517600\\nC  \\t-1.823305880   -3.244607790   -0.363551670\\nC  \\t-0.167826120   -3.230477360   -0.389744890\\nC  \\t-2.213326780   -0.696212000   -0.011200140\\nC  \\t-3.156397200   -1.238497440   -0.007639040\\nC  \\t-2.230835170    0.702534570    0.007969610\\nC  \\t-3.188071500    1.213473770    0.015162790\\nC  \\t 1.489000000    2.483000000    0.005000000\\nC  \\t 2.669000000    0.707000000   -0.000000000\\nC  \\t 3.612000000    1.249000000    0.003000000\\nC  \\t 2.669000000   -0.707000000   -0.000000000\\nC  \\t 3.612000000   -1.249000000    0.003000000\\nC  \\t 1.489000000   -2.483000000    0.005000000\\n\");\n",
       "\tviewer_16328348066815631.setStyle({\"model\": -1},{\"stick\": {}});\n",
       "\tviewer_16328348066815631.zoomTo();\n",
       "viewer_16328348066815631.render();\n",
       "});\n",
       "</script>"
      ]
     },
     "metadata": {},
     "output_type": "display_data"
    },
    {
     "data": {
      "text/plain": [
       "<py3Dmol.view at 0x7f3ccad22e90>"
      ]
     },
     "execution_count": 11,
     "metadata": {},
     "output_type": "execute_result"
    }
   ],
   "source": [
    "cmol_comb.visualize()"
   ]
  },
  {
   "cell_type": "markdown",
   "metadata": {},
   "source": [
    "## Topology"
   ]
  },
  {
   "cell_type": "code",
   "execution_count": 12,
   "metadata": {},
   "outputs": [
    {
     "data": {
      "text/plain": [
       "{1: (1, -1),\n",
       " 2: (2, 16),\n",
       " 3: (3, 17),\n",
       " 4: (4, 25),\n",
       " 5: (5, 26),\n",
       " 6: (6, 24),\n",
       " 7: (7, 32),\n",
       " 8: (8, 22),\n",
       " 9: (9, 23),\n",
       " 10: (10, -1),\n",
       " 11: (11, -1),\n",
       " 12: (12, 20),\n",
       " 13: (13, 21),\n",
       " 14: (14, 18),\n",
       " 15: (15, 19),\n",
       " 16: (-1, 27),\n",
       " 17: (-1, 28),\n",
       " 18: (-1, 29),\n",
       " 19: (-1, 30),\n",
       " 20: (-1, 31),\n",
       " 21: (-1, 33)}"
      ]
     },
     "execution_count": 12,
     "metadata": {},
     "output_type": "execute_result"
    }
   ],
   "source": [
    "present_atoms"
   ]
  },
  {
   "cell_type": "code",
   "execution_count": 13,
   "metadata": {},
   "outputs": [],
   "source": [
    "top1 = top.Top(in_top1_path)\n",
    "top2 = top.Top(in_top2_path)\n"
   ]
  },
  {
   "cell_type": "code",
   "execution_count": 14,
   "metadata": {},
   "outputs": [],
   "source": [
    "com_top = top2\n",
    "com_top += top1\n",
    "red_com_top = copy.deepcopy(com_top)"
   ]
  },
  {
   "cell_type": "code",
   "execution_count": 15,
   "metadata": {
    "scrolled": false
   },
   "outputs": [
    {
     "data": {
      "application/3dmoljs_load.v0": "<div id=\"3dmolviewer_16328348068470497\"  style=\"position: relative; width: 400px; height: 400px\">\n        <p id=\"3dmolwarning_16328348068470497\" style=\"background-color:#ffcccc;color:black\">You appear to be running in JupyterLab (or JavaScript failed to load for some other reason).  You need to install the 3dmol extension: <br>\n        <tt>jupyter labextension install jupyterlab_3dmol</tt></p>\n        </div>\n<script>\n\nvar loadScriptAsync = function(uri){\n  return new Promise((resolve, reject) => {\n    var tag = document.createElement('script');\n    tag.src = uri;\n    tag.async = true;\n    tag.onload = () => {\n      resolve();\n    };\n  var firstScriptTag = document.getElementsByTagName('script')[0];\n  firstScriptTag.parentNode.insertBefore(tag, firstScriptTag);\n});\n};\n\nif(typeof $3Dmolpromise === 'undefined') {\n$3Dmolpromise = null;\n  $3Dmolpromise = loadScriptAsync('https://3dmol.org/build/3Dmol.js');\n}\n\nvar viewer_16328348068470497 = null;\nvar warn = document.getElementById(\"3dmolwarning_16328348068470497\");\nif(warn) {\n    warn.parentNode.removeChild(warn);\n}\n$3Dmolpromise.then(function() {\nviewer_16328348068470497 = $3Dmol.createViewer($(\"#3dmolviewer_16328348068470497\"),{backgroundColor:\"white\"});\nviewer_16328348068470497.zoomTo();\n\tviewer_16328348068470497.addModel(\"21\\n# \\t >>> Generated with python lib function_libs utilities. (riniker group)\\t >>> line_seperator: '\\\\n'\\t field_seperator: '\\\\t'\\t comments_char: '#'\\t >>> Generated with python lib function_libs utilities. (riniker group)\\t >>> line_seperator: '\\\\n'\\t field_seperator: '\\\\t'\\t comments_char: '#'# exported wit PyGromosTools\\nC  \\t-2.137274170    3.543358760   -0.032406710\\nC  \\t-0.930191600    2.790017920    0.002439360\\nC  \\t-1.029393050    1.419183800    0.007117250\\nC  \\t 0.182505260    0.713945190    0.000046940\\nC  \\t 1.113049090    1.274755340   -0.008506110\\nC  \\t 0.193873840   -0.676537480   -0.017120130\\nC  \\t 1.146270960   -1.204252920   -0.026347840\\nC  \\t-1.007314520   -1.410294300   -0.021294260\\nC  \\t-0.992849270   -2.817614020    0.034517600\\nC  \\t-1.823305880   -3.244607790   -0.363551670\\nC  \\t-0.167826120   -3.230477360   -0.389744890\\nC  \\t-2.213326780   -0.696212000   -0.011200140\\nC  \\t-3.156397200   -1.238497440   -0.007639040\\nC  \\t-2.230835170    0.702534570    0.007969610\\nC  \\t-3.188071500    1.213473770    0.015162790\\nC  \\t 1.489000000    2.483000000    0.005000000\\nC  \\t 2.669000000    0.707000000   -0.000000000\\nC  \\t 3.612000000    1.249000000    0.003000000\\nC  \\t 2.669000000   -0.707000000   -0.000000000\\nC  \\t 3.612000000   -1.249000000    0.003000000\\nC  \\t 1.489000000   -2.483000000    0.005000000\\n\");\n\tviewer_16328348068470497.setStyle({\"model\": -1},{\"stick\": {}});\n\tviewer_16328348068470497.zoomTo();\n\tviewer_16328348068470497.setStyle({\"serial\": [1, 2]},{\"stick\": {\"color\": \"green\"}});\n\tviewer_16328348068470497.setStyle({\"serial\": [2, 3]},{\"stick\": {\"color\": \"blue\"}});\n\tviewer_16328348068470497.setStyle({\"serial\": [2, 10]},{\"stick\": {\"color\": \"yellow\"}});\n\tviewer_16328348068470497.setStyle({\"serial\": [3, 5]},{\"stick\": {\"color\": \"red\"}});\n\tviewer_16328348068470497.setStyle({\"serial\": [5, 7]},{\"stick\": {\"color\": \"purple\"}});\n\tviewer_16328348068470497.setStyle({\"serial\": [7, 8]},{\"stick\": {\"color\": \"black\"}});\n\tviewer_16328348068470497.setStyle({\"serial\": [7, 9]},{\"stick\": {\"color\": \"green\"}});\n\tviewer_16328348068470497.setStyle({\"serial\": [9, 10]},{\"stick\": {\"color\": \"blue\"}});\n\tviewer_16328348068470497.setStyle({\"serial\": [9, 17]},{\"stick\": {\"color\": \"yellow\"}});\n\tviewer_16328348068470497.setStyle({\"serial\": [10, 11]},{\"stick\": {\"color\": \"red\"}});\n\tviewer_16328348068470497.setStyle({\"serial\": [11, 13]},{\"stick\": {\"color\": \"purple\"}});\n\tviewer_16328348068470497.setStyle({\"serial\": [13, 15]},{\"stick\": {\"color\": \"black\"}});\n\tviewer_16328348068470497.setStyle({\"serial\": [15, 17]},{\"stick\": {\"color\": \"green\"}});\n\tviewer_16328348068470497.setStyle({\"serial\": [19, 20]},{\"stick\": {\"color\": \"blue\"}});\n\tviewer_16328348068470497.setStyle({\"serial\": [20, 21]},{\"stick\": {\"color\": \"yellow\"}});\n\tviewer_16328348068470497.setStyle({\"serial\": [3, 4]},{\"stick\": {\"color\": \"red\"}});\n\tviewer_16328348068470497.setStyle({\"serial\": [5, 6]},{\"stick\": {\"color\": \"purple\"}});\n\tviewer_16328348068470497.setStyle({\"serial\": [11, 12]},{\"stick\": {\"color\": \"black\"}});\n\tviewer_16328348068470497.setStyle({\"serial\": [13, 14]},{\"stick\": {\"color\": \"green\"}});\n\tviewer_16328348068470497.setStyle({\"serial\": [15, 16]},{\"stick\": {\"color\": \"blue\"}});\n\tviewer_16328348068470497.setStyle({\"serial\": [17, 18]},{\"stick\": {\"color\": \"yellow\"}});\nviewer_16328348068470497.render();\n});\n</script>",
      "text/html": [
       "<div id=\"3dmolviewer_16328348068470497\"  style=\"position: relative; width: 400px; height: 400px\">\n",
       "        <p id=\"3dmolwarning_16328348068470497\" style=\"background-color:#ffcccc;color:black\">You appear to be running in JupyterLab (or JavaScript failed to load for some other reason).  You need to install the 3dmol extension: <br>\n",
       "        <tt>jupyter labextension install jupyterlab_3dmol</tt></p>\n",
       "        </div>\n",
       "<script>\n",
       "\n",
       "var loadScriptAsync = function(uri){\n",
       "  return new Promise((resolve, reject) => {\n",
       "    var tag = document.createElement('script');\n",
       "    tag.src = uri;\n",
       "    tag.async = true;\n",
       "    tag.onload = () => {\n",
       "      resolve();\n",
       "    };\n",
       "  var firstScriptTag = document.getElementsByTagName('script')[0];\n",
       "  firstScriptTag.parentNode.insertBefore(tag, firstScriptTag);\n",
       "});\n",
       "};\n",
       "\n",
       "if(typeof $3Dmolpromise === 'undefined') {\n",
       "$3Dmolpromise = null;\n",
       "  $3Dmolpromise = loadScriptAsync('https://3dmol.org/build/3Dmol.js');\n",
       "}\n",
       "\n",
       "var viewer_16328348068470497 = null;\n",
       "var warn = document.getElementById(\"3dmolwarning_16328348068470497\");\n",
       "if(warn) {\n",
       "    warn.parentNode.removeChild(warn);\n",
       "}\n",
       "$3Dmolpromise.then(function() {\n",
       "viewer_16328348068470497 = $3Dmol.createViewer($(\"#3dmolviewer_16328348068470497\"),{backgroundColor:\"white\"});\n",
       "viewer_16328348068470497.zoomTo();\n",
       "\tviewer_16328348068470497.addModel(\"21\\n# \\t >>> Generated with python lib function_libs utilities. (riniker group)\\t >>> line_seperator: '\\\\n'\\t field_seperator: '\\\\t'\\t comments_char: '#'\\t >>> Generated with python lib function_libs utilities. (riniker group)\\t >>> line_seperator: '\\\\n'\\t field_seperator: '\\\\t'\\t comments_char: '#'# exported wit PyGromosTools\\nC  \\t-2.137274170    3.543358760   -0.032406710\\nC  \\t-0.930191600    2.790017920    0.002439360\\nC  \\t-1.029393050    1.419183800    0.007117250\\nC  \\t 0.182505260    0.713945190    0.000046940\\nC  \\t 1.113049090    1.274755340   -0.008506110\\nC  \\t 0.193873840   -0.676537480   -0.017120130\\nC  \\t 1.146270960   -1.204252920   -0.026347840\\nC  \\t-1.007314520   -1.410294300   -0.021294260\\nC  \\t-0.992849270   -2.817614020    0.034517600\\nC  \\t-1.823305880   -3.244607790   -0.363551670\\nC  \\t-0.167826120   -3.230477360   -0.389744890\\nC  \\t-2.213326780   -0.696212000   -0.011200140\\nC  \\t-3.156397200   -1.238497440   -0.007639040\\nC  \\t-2.230835170    0.702534570    0.007969610\\nC  \\t-3.188071500    1.213473770    0.015162790\\nC  \\t 1.489000000    2.483000000    0.005000000\\nC  \\t 2.669000000    0.707000000   -0.000000000\\nC  \\t 3.612000000    1.249000000    0.003000000\\nC  \\t 2.669000000   -0.707000000   -0.000000000\\nC  \\t 3.612000000   -1.249000000    0.003000000\\nC  \\t 1.489000000   -2.483000000    0.005000000\\n\");\n",
       "\tviewer_16328348068470497.setStyle({\"model\": -1},{\"stick\": {}});\n",
       "\tviewer_16328348068470497.zoomTo();\n",
       "\tviewer_16328348068470497.setStyle({\"serial\": [1, 2]},{\"stick\": {\"color\": \"green\"}});\n",
       "\tviewer_16328348068470497.setStyle({\"serial\": [2, 3]},{\"stick\": {\"color\": \"blue\"}});\n",
       "\tviewer_16328348068470497.setStyle({\"serial\": [2, 10]},{\"stick\": {\"color\": \"yellow\"}});\n",
       "\tviewer_16328348068470497.setStyle({\"serial\": [3, 5]},{\"stick\": {\"color\": \"red\"}});\n",
       "\tviewer_16328348068470497.setStyle({\"serial\": [5, 7]},{\"stick\": {\"color\": \"purple\"}});\n",
       "\tviewer_16328348068470497.setStyle({\"serial\": [7, 8]},{\"stick\": {\"color\": \"black\"}});\n",
       "\tviewer_16328348068470497.setStyle({\"serial\": [7, 9]},{\"stick\": {\"color\": \"green\"}});\n",
       "\tviewer_16328348068470497.setStyle({\"serial\": [9, 10]},{\"stick\": {\"color\": \"blue\"}});\n",
       "\tviewer_16328348068470497.setStyle({\"serial\": [9, 17]},{\"stick\": {\"color\": \"yellow\"}});\n",
       "\tviewer_16328348068470497.setStyle({\"serial\": [10, 11]},{\"stick\": {\"color\": \"red\"}});\n",
       "\tviewer_16328348068470497.setStyle({\"serial\": [11, 13]},{\"stick\": {\"color\": \"purple\"}});\n",
       "\tviewer_16328348068470497.setStyle({\"serial\": [13, 15]},{\"stick\": {\"color\": \"black\"}});\n",
       "\tviewer_16328348068470497.setStyle({\"serial\": [15, 17]},{\"stick\": {\"color\": \"green\"}});\n",
       "\tviewer_16328348068470497.setStyle({\"serial\": [19, 20]},{\"stick\": {\"color\": \"blue\"}});\n",
       "\tviewer_16328348068470497.setStyle({\"serial\": [20, 21]},{\"stick\": {\"color\": \"yellow\"}});\n",
       "\tviewer_16328348068470497.setStyle({\"serial\": [3, 4]},{\"stick\": {\"color\": \"red\"}});\n",
       "\tviewer_16328348068470497.setStyle({\"serial\": [5, 6]},{\"stick\": {\"color\": \"purple\"}});\n",
       "\tviewer_16328348068470497.setStyle({\"serial\": [11, 12]},{\"stick\": {\"color\": \"black\"}});\n",
       "\tviewer_16328348068470497.setStyle({\"serial\": [13, 14]},{\"stick\": {\"color\": \"green\"}});\n",
       "\tviewer_16328348068470497.setStyle({\"serial\": [15, 16]},{\"stick\": {\"color\": \"blue\"}});\n",
       "\tviewer_16328348068470497.setStyle({\"serial\": [17, 18]},{\"stick\": {\"color\": \"yellow\"}});\n",
       "viewer_16328348068470497.render();\n",
       "});\n",
       "</script>"
      ]
     },
     "metadata": {},
     "output_type": "display_data"
    },
    {
     "data": {
      "text/plain": [
       "<py3Dmol.view at 0x7f3cc6263110>"
      ]
     },
     "execution_count": 15,
     "metadata": {},
     "output_type": "execute_result"
    }
   ],
   "source": [
    "#BONDS\n",
    "bonds =[]\n",
    "for bond in com_top.BOND:\n",
    "    if(bond.IB in present_atoms and bond.JB in present_atoms):\n",
    "        bonds.append(bond)\n",
    "for bond in com_top.BONDH:\n",
    "    if(bond.IB in present_atoms and bond.JB in present_atoms):\n",
    "        bonds.append(bond)\n",
    "red_com_top.BOND.content = bonds\n",
    "red_com_top.BOND.NBON = len(bonds)\n",
    "\n",
    "del red_com_top.BONDH\n",
    "\n",
    "\n",
    "view = cmol_comb.visualize()\n",
    "\n",
    "colors = ['green', 'blue', 'yellow', 'red', 'purple', 'black']\n",
    "for i, bond in enumerate(red_com_top.BOND):\n",
    "    view.setStyle({\"serial\": [bond.IB,  bond.JB]}, {\"stick\":{'color':colors[i%len(colors)]}})\n",
    "view"
   ]
  },
  {
   "cell_type": "code",
   "execution_count": 16,
   "metadata": {},
   "outputs": [
    {
     "data": {
      "application/3dmoljs_load.v0": "<div id=\"3dmolviewer_16328348068645592\"  style=\"position: relative; width: 400px; height: 400px\">\n        <p id=\"3dmolwarning_16328348068645592\" style=\"background-color:#ffcccc;color:black\">You appear to be running in JupyterLab (or JavaScript failed to load for some other reason).  You need to install the 3dmol extension: <br>\n        <tt>jupyter labextension install jupyterlab_3dmol</tt></p>\n        </div>\n<script>\n\nvar loadScriptAsync = function(uri){\n  return new Promise((resolve, reject) => {\n    var tag = document.createElement('script');\n    tag.src = uri;\n    tag.async = true;\n    tag.onload = () => {\n      resolve();\n    };\n  var firstScriptTag = document.getElementsByTagName('script')[0];\n  firstScriptTag.parentNode.insertBefore(tag, firstScriptTag);\n});\n};\n\nif(typeof $3Dmolpromise === 'undefined') {\n$3Dmolpromise = null;\n  $3Dmolpromise = loadScriptAsync('https://3dmol.org/build/3Dmol.js');\n}\n\nvar viewer_16328348068645592 = null;\nvar warn = document.getElementById(\"3dmolwarning_16328348068645592\");\nif(warn) {\n    warn.parentNode.removeChild(warn);\n}\n$3Dmolpromise.then(function() {\nviewer_16328348068645592 = $3Dmol.createViewer($(\"#3dmolviewer_16328348068645592\"),{backgroundColor:\"white\"});\nviewer_16328348068645592.zoomTo();\n\tviewer_16328348068645592.addModel(\"21\\n# \\t >>> Generated with python lib function_libs utilities. (riniker group)\\t >>> line_seperator: '\\\\n'\\t field_seperator: '\\\\t'\\t comments_char: '#'\\t >>> Generated with python lib function_libs utilities. (riniker group)\\t >>> line_seperator: '\\\\n'\\t field_seperator: '\\\\t'\\t comments_char: '#'# exported wit PyGromosTools\\nC  \\t-2.137274170    3.543358760   -0.032406710\\nC  \\t-0.930191600    2.790017920    0.002439360\\nC  \\t-1.029393050    1.419183800    0.007117250\\nC  \\t 0.182505260    0.713945190    0.000046940\\nC  \\t 1.113049090    1.274755340   -0.008506110\\nC  \\t 0.193873840   -0.676537480   -0.017120130\\nC  \\t 1.146270960   -1.204252920   -0.026347840\\nC  \\t-1.007314520   -1.410294300   -0.021294260\\nC  \\t-0.992849270   -2.817614020    0.034517600\\nC  \\t-1.823305880   -3.244607790   -0.363551670\\nC  \\t-0.167826120   -3.230477360   -0.389744890\\nC  \\t-2.213326780   -0.696212000   -0.011200140\\nC  \\t-3.156397200   -1.238497440   -0.007639040\\nC  \\t-2.230835170    0.702534570    0.007969610\\nC  \\t-3.188071500    1.213473770    0.015162790\\nC  \\t 1.489000000    2.483000000    0.005000000\\nC  \\t 2.669000000    0.707000000   -0.000000000\\nC  \\t 3.612000000    1.249000000    0.003000000\\nC  \\t 2.669000000   -0.707000000   -0.000000000\\nC  \\t 3.612000000   -1.249000000    0.003000000\\nC  \\t 1.489000000   -2.483000000    0.005000000\\n\");\n\tviewer_16328348068645592.setStyle({\"model\": -1},{\"stick\": {}});\n\tviewer_16328348068645592.zoomTo();\n\tviewer_16328348068645592.setStyle({\"serial\": [1, 2, 3]},{\"stick\": {\"color\": \"green\"}});\n\tviewer_16328348068645592.setStyle({\"serial\": [1, 2, 10]},{\"stick\": {\"color\": \"blue\"}});\n\tviewer_16328348068645592.setStyle({\"serial\": [3, 2, 10]},{\"stick\": {\"color\": \"yellow\"}});\n\tviewer_16328348068645592.setStyle({\"serial\": [2, 3, 5]},{\"stick\": {\"color\": \"red\"}});\n\tviewer_16328348068645592.setStyle({\"serial\": [3, 5, 7]},{\"stick\": {\"color\": \"purple\"}});\n\tviewer_16328348068645592.setStyle({\"serial\": [5, 7, 8]},{\"stick\": {\"color\": \"black\"}});\n\tviewer_16328348068645592.setStyle({\"serial\": [5, 7, 9]},{\"stick\": {\"color\": \"green\"}});\n\tviewer_16328348068645592.setStyle({\"serial\": [8, 7, 9]},{\"stick\": {\"color\": \"blue\"}});\n\tviewer_16328348068645592.setStyle({\"serial\": [7, 9, 10]},{\"stick\": {\"color\": \"yellow\"}});\n\tviewer_16328348068645592.setStyle({\"serial\": [7, 9, 17]},{\"stick\": {\"color\": \"red\"}});\n\tviewer_16328348068645592.setStyle({\"serial\": [10, 9, 17]},{\"stick\": {\"color\": \"purple\"}});\n\tviewer_16328348068645592.setStyle({\"serial\": [2, 10, 9]},{\"stick\": {\"color\": \"black\"}});\n\tviewer_16328348068645592.setStyle({\"serial\": [2, 10, 11]},{\"stick\": {\"color\": \"green\"}});\n\tviewer_16328348068645592.setStyle({\"serial\": [9, 10, 11]},{\"stick\": {\"color\": \"blue\"}});\n\tviewer_16328348068645592.setStyle({\"serial\": [10, 11, 13]},{\"stick\": {\"color\": \"yellow\"}});\n\tviewer_16328348068645592.setStyle({\"serial\": [11, 13, 15]},{\"stick\": {\"color\": \"red\"}});\n\tviewer_16328348068645592.setStyle({\"serial\": [13, 15, 17]},{\"stick\": {\"color\": \"purple\"}});\n\tviewer_16328348068645592.setStyle({\"serial\": [9, 17, 15]},{\"stick\": {\"color\": \"black\"}});\n\tviewer_16328348068645592.setStyle({\"serial\": [19, 20, 21]},{\"stick\": {\"color\": \"green\"}});\n\tviewer_16328348068645592.setStyle({\"serial\": [2, 3, 4]},{\"stick\": {\"color\": \"blue\"}});\n\tviewer_16328348068645592.setStyle({\"serial\": [4, 3, 5]},{\"stick\": {\"color\": \"yellow\"}});\n\tviewer_16328348068645592.setStyle({\"serial\": [3, 5, 6]},{\"stick\": {\"color\": \"red\"}});\n\tviewer_16328348068645592.setStyle({\"serial\": [6, 5, 7]},{\"stick\": {\"color\": \"purple\"}});\n\tviewer_16328348068645592.setStyle({\"serial\": [10, 11, 12]},{\"stick\": {\"color\": \"black\"}});\n\tviewer_16328348068645592.setStyle({\"serial\": [12, 11, 13]},{\"stick\": {\"color\": \"green\"}});\n\tviewer_16328348068645592.setStyle({\"serial\": [11, 13, 14]},{\"stick\": {\"color\": \"blue\"}});\n\tviewer_16328348068645592.setStyle({\"serial\": [14, 13, 15]},{\"stick\": {\"color\": \"yellow\"}});\n\tviewer_16328348068645592.setStyle({\"serial\": [13, 15, 16]},{\"stick\": {\"color\": \"red\"}});\n\tviewer_16328348068645592.setStyle({\"serial\": [16, 15, 17]},{\"stick\": {\"color\": \"purple\"}});\n\tviewer_16328348068645592.setStyle({\"serial\": [9, 17, 18]},{\"stick\": {\"color\": \"black\"}});\n\tviewer_16328348068645592.setStyle({\"serial\": [15, 17, 18]},{\"stick\": {\"color\": \"green\"}});\nviewer_16328348068645592.render();\n});\n</script>",
      "text/html": [
       "<div id=\"3dmolviewer_16328348068645592\"  style=\"position: relative; width: 400px; height: 400px\">\n",
       "        <p id=\"3dmolwarning_16328348068645592\" style=\"background-color:#ffcccc;color:black\">You appear to be running in JupyterLab (or JavaScript failed to load for some other reason).  You need to install the 3dmol extension: <br>\n",
       "        <tt>jupyter labextension install jupyterlab_3dmol</tt></p>\n",
       "        </div>\n",
       "<script>\n",
       "\n",
       "var loadScriptAsync = function(uri){\n",
       "  return new Promise((resolve, reject) => {\n",
       "    var tag = document.createElement('script');\n",
       "    tag.src = uri;\n",
       "    tag.async = true;\n",
       "    tag.onload = () => {\n",
       "      resolve();\n",
       "    };\n",
       "  var firstScriptTag = document.getElementsByTagName('script')[0];\n",
       "  firstScriptTag.parentNode.insertBefore(tag, firstScriptTag);\n",
       "});\n",
       "};\n",
       "\n",
       "if(typeof $3Dmolpromise === 'undefined') {\n",
       "$3Dmolpromise = null;\n",
       "  $3Dmolpromise = loadScriptAsync('https://3dmol.org/build/3Dmol.js');\n",
       "}\n",
       "\n",
       "var viewer_16328348068645592 = null;\n",
       "var warn = document.getElementById(\"3dmolwarning_16328348068645592\");\n",
       "if(warn) {\n",
       "    warn.parentNode.removeChild(warn);\n",
       "}\n",
       "$3Dmolpromise.then(function() {\n",
       "viewer_16328348068645592 = $3Dmol.createViewer($(\"#3dmolviewer_16328348068645592\"),{backgroundColor:\"white\"});\n",
       "viewer_16328348068645592.zoomTo();\n",
       "\tviewer_16328348068645592.addModel(\"21\\n# \\t >>> Generated with python lib function_libs utilities. (riniker group)\\t >>> line_seperator: '\\\\n'\\t field_seperator: '\\\\t'\\t comments_char: '#'\\t >>> Generated with python lib function_libs utilities. (riniker group)\\t >>> line_seperator: '\\\\n'\\t field_seperator: '\\\\t'\\t comments_char: '#'# exported wit PyGromosTools\\nC  \\t-2.137274170    3.543358760   -0.032406710\\nC  \\t-0.930191600    2.790017920    0.002439360\\nC  \\t-1.029393050    1.419183800    0.007117250\\nC  \\t 0.182505260    0.713945190    0.000046940\\nC  \\t 1.113049090    1.274755340   -0.008506110\\nC  \\t 0.193873840   -0.676537480   -0.017120130\\nC  \\t 1.146270960   -1.204252920   -0.026347840\\nC  \\t-1.007314520   -1.410294300   -0.021294260\\nC  \\t-0.992849270   -2.817614020    0.034517600\\nC  \\t-1.823305880   -3.244607790   -0.363551670\\nC  \\t-0.167826120   -3.230477360   -0.389744890\\nC  \\t-2.213326780   -0.696212000   -0.011200140\\nC  \\t-3.156397200   -1.238497440   -0.007639040\\nC  \\t-2.230835170    0.702534570    0.007969610\\nC  \\t-3.188071500    1.213473770    0.015162790\\nC  \\t 1.489000000    2.483000000    0.005000000\\nC  \\t 2.669000000    0.707000000   -0.000000000\\nC  \\t 3.612000000    1.249000000    0.003000000\\nC  \\t 2.669000000   -0.707000000   -0.000000000\\nC  \\t 3.612000000   -1.249000000    0.003000000\\nC  \\t 1.489000000   -2.483000000    0.005000000\\n\");\n",
       "\tviewer_16328348068645592.setStyle({\"model\": -1},{\"stick\": {}});\n",
       "\tviewer_16328348068645592.zoomTo();\n",
       "\tviewer_16328348068645592.setStyle({\"serial\": [1, 2, 3]},{\"stick\": {\"color\": \"green\"}});\n",
       "\tviewer_16328348068645592.setStyle({\"serial\": [1, 2, 10]},{\"stick\": {\"color\": \"blue\"}});\n",
       "\tviewer_16328348068645592.setStyle({\"serial\": [3, 2, 10]},{\"stick\": {\"color\": \"yellow\"}});\n",
       "\tviewer_16328348068645592.setStyle({\"serial\": [2, 3, 5]},{\"stick\": {\"color\": \"red\"}});\n",
       "\tviewer_16328348068645592.setStyle({\"serial\": [3, 5, 7]},{\"stick\": {\"color\": \"purple\"}});\n",
       "\tviewer_16328348068645592.setStyle({\"serial\": [5, 7, 8]},{\"stick\": {\"color\": \"black\"}});\n",
       "\tviewer_16328348068645592.setStyle({\"serial\": [5, 7, 9]},{\"stick\": {\"color\": \"green\"}});\n",
       "\tviewer_16328348068645592.setStyle({\"serial\": [8, 7, 9]},{\"stick\": {\"color\": \"blue\"}});\n",
       "\tviewer_16328348068645592.setStyle({\"serial\": [7, 9, 10]},{\"stick\": {\"color\": \"yellow\"}});\n",
       "\tviewer_16328348068645592.setStyle({\"serial\": [7, 9, 17]},{\"stick\": {\"color\": \"red\"}});\n",
       "\tviewer_16328348068645592.setStyle({\"serial\": [10, 9, 17]},{\"stick\": {\"color\": \"purple\"}});\n",
       "\tviewer_16328348068645592.setStyle({\"serial\": [2, 10, 9]},{\"stick\": {\"color\": \"black\"}});\n",
       "\tviewer_16328348068645592.setStyle({\"serial\": [2, 10, 11]},{\"stick\": {\"color\": \"green\"}});\n",
       "\tviewer_16328348068645592.setStyle({\"serial\": [9, 10, 11]},{\"stick\": {\"color\": \"blue\"}});\n",
       "\tviewer_16328348068645592.setStyle({\"serial\": [10, 11, 13]},{\"stick\": {\"color\": \"yellow\"}});\n",
       "\tviewer_16328348068645592.setStyle({\"serial\": [11, 13, 15]},{\"stick\": {\"color\": \"red\"}});\n",
       "\tviewer_16328348068645592.setStyle({\"serial\": [13, 15, 17]},{\"stick\": {\"color\": \"purple\"}});\n",
       "\tviewer_16328348068645592.setStyle({\"serial\": [9, 17, 15]},{\"stick\": {\"color\": \"black\"}});\n",
       "\tviewer_16328348068645592.setStyle({\"serial\": [19, 20, 21]},{\"stick\": {\"color\": \"green\"}});\n",
       "\tviewer_16328348068645592.setStyle({\"serial\": [2, 3, 4]},{\"stick\": {\"color\": \"blue\"}});\n",
       "\tviewer_16328348068645592.setStyle({\"serial\": [4, 3, 5]},{\"stick\": {\"color\": \"yellow\"}});\n",
       "\tviewer_16328348068645592.setStyle({\"serial\": [3, 5, 6]},{\"stick\": {\"color\": \"red\"}});\n",
       "\tviewer_16328348068645592.setStyle({\"serial\": [6, 5, 7]},{\"stick\": {\"color\": \"purple\"}});\n",
       "\tviewer_16328348068645592.setStyle({\"serial\": [10, 11, 12]},{\"stick\": {\"color\": \"black\"}});\n",
       "\tviewer_16328348068645592.setStyle({\"serial\": [12, 11, 13]},{\"stick\": {\"color\": \"green\"}});\n",
       "\tviewer_16328348068645592.setStyle({\"serial\": [11, 13, 14]},{\"stick\": {\"color\": \"blue\"}});\n",
       "\tviewer_16328348068645592.setStyle({\"serial\": [14, 13, 15]},{\"stick\": {\"color\": \"yellow\"}});\n",
       "\tviewer_16328348068645592.setStyle({\"serial\": [13, 15, 16]},{\"stick\": {\"color\": \"red\"}});\n",
       "\tviewer_16328348068645592.setStyle({\"serial\": [16, 15, 17]},{\"stick\": {\"color\": \"purple\"}});\n",
       "\tviewer_16328348068645592.setStyle({\"serial\": [9, 17, 18]},{\"stick\": {\"color\": \"black\"}});\n",
       "\tviewer_16328348068645592.setStyle({\"serial\": [15, 17, 18]},{\"stick\": {\"color\": \"green\"}});\n",
       "viewer_16328348068645592.render();\n",
       "});\n",
       "</script>"
      ]
     },
     "metadata": {},
     "output_type": "display_data"
    },
    {
     "data": {
      "text/plain": [
       "<py3Dmol.view at 0x7f3cc626c650>"
      ]
     },
     "execution_count": 16,
     "metadata": {},
     "output_type": "execute_result"
    }
   ],
   "source": [
    "\n",
    "\n",
    "#BondAngles\n",
    "angles =[]\n",
    "for angle in com_top.BONDANGLE:\n",
    "    if(angle.IT in present_atoms and angle.JT in present_atoms and angle.KT in present_atoms):\n",
    "        angles.append(angle)\n",
    "\n",
    "for angleH in com_top.BONDANGLEH:\n",
    "    if(angleH.IT in present_atoms and angleH.JT in present_atoms and angleH.KT in present_atoms):\n",
    "        angles.append(angleH)\n",
    "        \n",
    "red_com_top.BONDANGLE.content = angles\n",
    "red_com_top.BONDANGLE.NTHE = len(angles)\n",
    "\n",
    "if(hasattr(red_com_top, \"BONDANGLEH\")): del red_com_top.BONDANGLEH\n",
    "\n",
    "\n",
    "view = cmol_comb.visualize()\n",
    "\n",
    "colors = ['green', 'blue', 'yellow', 'red', 'purple', 'black']\n",
    "for i, angle in enumerate(red_com_top.BONDANGLE):\n",
    "    view.setStyle({\"serial\": [angle.IT,  angle.JT, angle.KT]}, {\"stick\":{'color':colors[i%len(colors)]}})\n",
    "view"
   ]
  },
  {
   "cell_type": "code",
   "execution_count": 17,
   "metadata": {},
   "outputs": [
    {
     "data": {
      "text/plain": [
       "DIHEDRALH\n",
       "# \t NPHIH: number of torsion dihedrals involving H atoms\n",
       " \t 2\n",
       "# \t IPH \t JPH \t KPH \t LPH \t ICPH\n",
       "\t24\t26\t27\t29\t10\n",
       "\t30\t26\t27\t28\t10\n",
       "END"
      ]
     },
     "execution_count": 17,
     "metadata": {},
     "output_type": "execute_result"
    }
   ],
   "source": [
    "com_top.DIHEDRALH"
   ]
  },
  {
   "cell_type": "code",
   "execution_count": 18,
   "metadata": {},
   "outputs": [
    {
     "data": {
      "text/plain": [
       "DIHEDRAL\n",
       "# \t NPHI: number of dihedrals NOT involving H atoms\n",
       " \t 18\n",
       "# \t IP \t JP \t KP \t LP \t ICP\n",
       "\t10\t2\t3\t5\t15\n",
       "\t3\t2\t10\t9\t15\n",
       "\t2\t3\t5\t7\t15\n",
       "\t3\t5\t7\t9\t15\n",
       "\t5\t7\t9\t10\t15\n",
       "\t17\t9\t10\t11\t15\n",
       "\t10\t9\t17\t15\t15\n",
       "\t9\t10\t11\t13\t15\n",
       "\t10\t11\t13\t15\t15\n",
       "\t11\t13\t15\t17\t15\n",
       "\t13\t15\t17\t9\t15\n",
       "\t19\t20\t21\t22\t13\n",
       "\t32\t21\t22\t24\t15\n",
       "\t22\t21\t32\t30\t15\n",
       "\t21\t22\t24\t26\t15\n",
       "\t22\t24\t26\t30\t15\n",
       "\t24\t26\t30\t32\t15\n",
       "\t26\t30\t32\t21\t15\n",
       "END"
      ]
     },
     "execution_count": 18,
     "metadata": {},
     "output_type": "execute_result"
    }
   ],
   "source": [
    "red_com_top.DIHEDRAL"
   ]
  },
  {
   "cell_type": "code",
   "execution_count": 19,
   "metadata": {},
   "outputs": [
    {
     "data": {
      "text/plain": [
       "{1: (1, -1),\n",
       " 2: (2, 16),\n",
       " 3: (3, 17),\n",
       " 4: (4, 25),\n",
       " 5: (5, 26),\n",
       " 6: (6, 24),\n",
       " 7: (7, 32),\n",
       " 8: (8, 22),\n",
       " 9: (9, 23),\n",
       " 10: (10, -1),\n",
       " 11: (11, -1),\n",
       " 12: (12, 20),\n",
       " 13: (13, 21),\n",
       " 14: (14, 18),\n",
       " 15: (15, 19),\n",
       " 16: (-1, 27),\n",
       " 17: (-1, 28),\n",
       " 18: (-1, 29),\n",
       " 19: (-1, 30),\n",
       " 20: (-1, 31),\n",
       " 21: (-1, 33)}"
      ]
     },
     "execution_count": 19,
     "metadata": {},
     "output_type": "execute_result"
    }
   ],
   "source": [
    "present_atoms"
   ]
  },
  {
   "cell_type": "code",
   "execution_count": 20,
   "metadata": {},
   "outputs": [
    {
     "data": {
      "application/3dmoljs_load.v0": "<div id=\"3dmolviewer_16328348069372394\"  style=\"position: relative; width: 400px; height: 400px\">\n        <p id=\"3dmolwarning_16328348069372394\" style=\"background-color:#ffcccc;color:black\">You appear to be running in JupyterLab (or JavaScript failed to load for some other reason).  You need to install the 3dmol extension: <br>\n        <tt>jupyter labextension install jupyterlab_3dmol</tt></p>\n        </div>\n<script>\n\nvar loadScriptAsync = function(uri){\n  return new Promise((resolve, reject) => {\n    var tag = document.createElement('script');\n    tag.src = uri;\n    tag.async = true;\n    tag.onload = () => {\n      resolve();\n    };\n  var firstScriptTag = document.getElementsByTagName('script')[0];\n  firstScriptTag.parentNode.insertBefore(tag, firstScriptTag);\n});\n};\n\nif(typeof $3Dmolpromise === 'undefined') {\n$3Dmolpromise = null;\n  $3Dmolpromise = loadScriptAsync('https://3dmol.org/build/3Dmol.js');\n}\n\nvar viewer_16328348069372394 = null;\nvar warn = document.getElementById(\"3dmolwarning_16328348069372394\");\nif(warn) {\n    warn.parentNode.removeChild(warn);\n}\n$3Dmolpromise.then(function() {\nviewer_16328348069372394 = $3Dmol.createViewer($(\"#3dmolviewer_16328348069372394\"),{backgroundColor:\"white\"});\nviewer_16328348069372394.zoomTo();\n\tviewer_16328348069372394.addModel(\"21\\n# \\t >>> Generated with python lib function_libs utilities. (riniker group)\\t >>> line_seperator: '\\\\n'\\t field_seperator: '\\\\t'\\t comments_char: '#'\\t >>> Generated with python lib function_libs utilities. (riniker group)\\t >>> line_seperator: '\\\\n'\\t field_seperator: '\\\\t'\\t comments_char: '#'# exported wit PyGromosTools\\nC  \\t-2.137274170    3.543358760   -0.032406710\\nC  \\t-0.930191600    2.790017920    0.002439360\\nC  \\t-1.029393050    1.419183800    0.007117250\\nC  \\t 0.182505260    0.713945190    0.000046940\\nC  \\t 1.113049090    1.274755340   -0.008506110\\nC  \\t 0.193873840   -0.676537480   -0.017120130\\nC  \\t 1.146270960   -1.204252920   -0.026347840\\nC  \\t-1.007314520   -1.410294300   -0.021294260\\nC  \\t-0.992849270   -2.817614020    0.034517600\\nC  \\t-1.823305880   -3.244607790   -0.363551670\\nC  \\t-0.167826120   -3.230477360   -0.389744890\\nC  \\t-2.213326780   -0.696212000   -0.011200140\\nC  \\t-3.156397200   -1.238497440   -0.007639040\\nC  \\t-2.230835170    0.702534570    0.007969610\\nC  \\t-3.188071500    1.213473770    0.015162790\\nC  \\t 1.489000000    2.483000000    0.005000000\\nC  \\t 2.669000000    0.707000000   -0.000000000\\nC  \\t 3.612000000    1.249000000    0.003000000\\nC  \\t 2.669000000   -0.707000000   -0.000000000\\nC  \\t 3.612000000   -1.249000000    0.003000000\\nC  \\t 1.489000000   -2.483000000    0.005000000\\n\");\n\tviewer_16328348069372394.setStyle({\"model\": -1},{\"stick\": {}});\n\tviewer_16328348069372394.zoomTo();\n\tviewer_16328348069372394.setStyle({\"serial\": [10, 2, 3, 5]},{\"stick\": {\"color\": \"green\"}});\n\tviewer_16328348069372394.setStyle({\"serial\": [3, 2, 10, 9]},{\"stick\": {\"color\": \"blue\"}});\n\tviewer_16328348069372394.setStyle({\"serial\": [2, 3, 5, 7]},{\"stick\": {\"color\": \"yellow\"}});\n\tviewer_16328348069372394.setStyle({\"serial\": [3, 5, 7, 9]},{\"stick\": {\"color\": \"red\"}});\n\tviewer_16328348069372394.setStyle({\"serial\": [5, 7, 9, 10]},{\"stick\": {\"color\": \"purple\"}});\n\tviewer_16328348069372394.setStyle({\"serial\": [17, 9, 10, 11]},{\"stick\": {\"color\": \"black\"}});\n\tviewer_16328348069372394.setStyle({\"serial\": [10, 9, 17, 15]},{\"stick\": {\"color\": \"green\"}});\n\tviewer_16328348069372394.setStyle({\"serial\": [9, 10, 11, 13]},{\"stick\": {\"color\": \"blue\"}});\n\tviewer_16328348069372394.setStyle({\"serial\": [10, 11, 13, 15]},{\"stick\": {\"color\": \"yellow\"}});\n\tviewer_16328348069372394.setStyle({\"serial\": [11, 13, 15, 17]},{\"stick\": {\"color\": \"red\"}});\n\tviewer_16328348069372394.setStyle({\"serial\": [13, 15, 17, 9]},{\"stick\": {\"color\": \"purple\"}});\nviewer_16328348069372394.render();\n});\n</script>",
      "text/html": [
       "<div id=\"3dmolviewer_16328348069372394\"  style=\"position: relative; width: 400px; height: 400px\">\n",
       "        <p id=\"3dmolwarning_16328348069372394\" style=\"background-color:#ffcccc;color:black\">You appear to be running in JupyterLab (or JavaScript failed to load for some other reason).  You need to install the 3dmol extension: <br>\n",
       "        <tt>jupyter labextension install jupyterlab_3dmol</tt></p>\n",
       "        </div>\n",
       "<script>\n",
       "\n",
       "var loadScriptAsync = function(uri){\n",
       "  return new Promise((resolve, reject) => {\n",
       "    var tag = document.createElement('script');\n",
       "    tag.src = uri;\n",
       "    tag.async = true;\n",
       "    tag.onload = () => {\n",
       "      resolve();\n",
       "    };\n",
       "  var firstScriptTag = document.getElementsByTagName('script')[0];\n",
       "  firstScriptTag.parentNode.insertBefore(tag, firstScriptTag);\n",
       "});\n",
       "};\n",
       "\n",
       "if(typeof $3Dmolpromise === 'undefined') {\n",
       "$3Dmolpromise = null;\n",
       "  $3Dmolpromise = loadScriptAsync('https://3dmol.org/build/3Dmol.js');\n",
       "}\n",
       "\n",
       "var viewer_16328348069372394 = null;\n",
       "var warn = document.getElementById(\"3dmolwarning_16328348069372394\");\n",
       "if(warn) {\n",
       "    warn.parentNode.removeChild(warn);\n",
       "}\n",
       "$3Dmolpromise.then(function() {\n",
       "viewer_16328348069372394 = $3Dmol.createViewer($(\"#3dmolviewer_16328348069372394\"),{backgroundColor:\"white\"});\n",
       "viewer_16328348069372394.zoomTo();\n",
       "\tviewer_16328348069372394.addModel(\"21\\n# \\t >>> Generated with python lib function_libs utilities. (riniker group)\\t >>> line_seperator: '\\\\n'\\t field_seperator: '\\\\t'\\t comments_char: '#'\\t >>> Generated with python lib function_libs utilities. (riniker group)\\t >>> line_seperator: '\\\\n'\\t field_seperator: '\\\\t'\\t comments_char: '#'# exported wit PyGromosTools\\nC  \\t-2.137274170    3.543358760   -0.032406710\\nC  \\t-0.930191600    2.790017920    0.002439360\\nC  \\t-1.029393050    1.419183800    0.007117250\\nC  \\t 0.182505260    0.713945190    0.000046940\\nC  \\t 1.113049090    1.274755340   -0.008506110\\nC  \\t 0.193873840   -0.676537480   -0.017120130\\nC  \\t 1.146270960   -1.204252920   -0.026347840\\nC  \\t-1.007314520   -1.410294300   -0.021294260\\nC  \\t-0.992849270   -2.817614020    0.034517600\\nC  \\t-1.823305880   -3.244607790   -0.363551670\\nC  \\t-0.167826120   -3.230477360   -0.389744890\\nC  \\t-2.213326780   -0.696212000   -0.011200140\\nC  \\t-3.156397200   -1.238497440   -0.007639040\\nC  \\t-2.230835170    0.702534570    0.007969610\\nC  \\t-3.188071500    1.213473770    0.015162790\\nC  \\t 1.489000000    2.483000000    0.005000000\\nC  \\t 2.669000000    0.707000000   -0.000000000\\nC  \\t 3.612000000    1.249000000    0.003000000\\nC  \\t 2.669000000   -0.707000000   -0.000000000\\nC  \\t 3.612000000   -1.249000000    0.003000000\\nC  \\t 1.489000000   -2.483000000    0.005000000\\n\");\n",
       "\tviewer_16328348069372394.setStyle({\"model\": -1},{\"stick\": {}});\n",
       "\tviewer_16328348069372394.zoomTo();\n",
       "\tviewer_16328348069372394.setStyle({\"serial\": [10, 2, 3, 5]},{\"stick\": {\"color\": \"green\"}});\n",
       "\tviewer_16328348069372394.setStyle({\"serial\": [3, 2, 10, 9]},{\"stick\": {\"color\": \"blue\"}});\n",
       "\tviewer_16328348069372394.setStyle({\"serial\": [2, 3, 5, 7]},{\"stick\": {\"color\": \"yellow\"}});\n",
       "\tviewer_16328348069372394.setStyle({\"serial\": [3, 5, 7, 9]},{\"stick\": {\"color\": \"red\"}});\n",
       "\tviewer_16328348069372394.setStyle({\"serial\": [5, 7, 9, 10]},{\"stick\": {\"color\": \"purple\"}});\n",
       "\tviewer_16328348069372394.setStyle({\"serial\": [17, 9, 10, 11]},{\"stick\": {\"color\": \"black\"}});\n",
       "\tviewer_16328348069372394.setStyle({\"serial\": [10, 9, 17, 15]},{\"stick\": {\"color\": \"green\"}});\n",
       "\tviewer_16328348069372394.setStyle({\"serial\": [9, 10, 11, 13]},{\"stick\": {\"color\": \"blue\"}});\n",
       "\tviewer_16328348069372394.setStyle({\"serial\": [10, 11, 13, 15]},{\"stick\": {\"color\": \"yellow\"}});\n",
       "\tviewer_16328348069372394.setStyle({\"serial\": [11, 13, 15, 17]},{\"stick\": {\"color\": \"red\"}});\n",
       "\tviewer_16328348069372394.setStyle({\"serial\": [13, 15, 17, 9]},{\"stick\": {\"color\": \"purple\"}});\n",
       "viewer_16328348069372394.render();\n",
       "});\n",
       "</script>"
      ]
     },
     "metadata": {},
     "output_type": "display_data"
    },
    {
     "data": {
      "text/plain": [
       "<py3Dmol.view at 0x7f3cc6355110>"
      ]
     },
     "execution_count": 20,
     "metadata": {},
     "output_type": "execute_result"
    }
   ],
   "source": [
    "#Dihedrals\n",
    "dihedrals =[]\n",
    "for dih in com_top.DIHEDRAL:\n",
    "    if(dih.IP in present_atoms and dih.JP in present_atoms and dih.KP in present_atoms and dih.LP in present_atoms):\n",
    "        dihedrals.append(dih)\n",
    "\n",
    "dih_type = type(dih)\n",
    "for dihh in com_top.DIHEDRALH:\n",
    "    if(dihh.IPH in present_atoms and dihh.JPH in present_atoms and dihh.KPH in present_atoms and dihh.LPH in present_atoms):\n",
    "        dihedrals.append(dih_type(IP=dihh.IPH, JP=dihh.JPH, KP=dihh.KPH, LP=dihh.LPH, ICP=dihh.ICPH))\n",
    "        \n",
    "red_com_top.DIHEDRAL.content = dihedrals\n",
    "red_com_top.DIHEDRAL.NPHI = len(dihedrals)\n",
    "\n",
    "if(hasattr(red_com_top, \"DIHEDRALH\")): del red_com_top.DIHEDRALH\n",
    "\n",
    "    \n",
    "view = cmol_comb.visualize()\n",
    "\n",
    "colors = ['green', 'blue', 'yellow', 'red', 'purple', 'black']\n",
    "for i, tors in enumerate(red_com_top.DIHEDRAL):\n",
    "    view.setStyle({\"serial\": [tors.IP,  tors.JP, tors.KP, tors.LP]}, {\"stick\":{'color':colors[i%len(colors)]}})\n",
    "view"
   ]
  },
  {
   "cell_type": "code",
   "execution_count": 21,
   "metadata": {},
   "outputs": [
    {
     "data": {
      "application/3dmoljs_load.v0": "<div id=\"3dmolviewer_1632834806954836\"  style=\"position: relative; width: 400px; height: 400px\">\n        <p id=\"3dmolwarning_1632834806954836\" style=\"background-color:#ffcccc;color:black\">You appear to be running in JupyterLab (or JavaScript failed to load for some other reason).  You need to install the 3dmol extension: <br>\n        <tt>jupyter labextension install jupyterlab_3dmol</tt></p>\n        </div>\n<script>\n\nvar loadScriptAsync = function(uri){\n  return new Promise((resolve, reject) => {\n    var tag = document.createElement('script');\n    tag.src = uri;\n    tag.async = true;\n    tag.onload = () => {\n      resolve();\n    };\n  var firstScriptTag = document.getElementsByTagName('script')[0];\n  firstScriptTag.parentNode.insertBefore(tag, firstScriptTag);\n});\n};\n\nif(typeof $3Dmolpromise === 'undefined') {\n$3Dmolpromise = null;\n  $3Dmolpromise = loadScriptAsync('https://3dmol.org/build/3Dmol.js');\n}\n\nvar viewer_1632834806954836 = null;\nvar warn = document.getElementById(\"3dmolwarning_1632834806954836\");\nif(warn) {\n    warn.parentNode.removeChild(warn);\n}\n$3Dmolpromise.then(function() {\nviewer_1632834806954836 = $3Dmol.createViewer($(\"#3dmolviewer_1632834806954836\"),{backgroundColor:\"white\"});\nviewer_1632834806954836.zoomTo();\n\tviewer_1632834806954836.addModel(\"21\\n# \\t >>> Generated with python lib function_libs utilities. (riniker group)\\t >>> line_seperator: '\\\\n'\\t field_seperator: '\\\\t'\\t comments_char: '#'\\t >>> Generated with python lib function_libs utilities. (riniker group)\\t >>> line_seperator: '\\\\n'\\t field_seperator: '\\\\t'\\t comments_char: '#'# exported wit PyGromosTools\\nC  \\t-2.137274170    3.543358760   -0.032406710\\nC  \\t-0.930191600    2.790017920    0.002439360\\nC  \\t-1.029393050    1.419183800    0.007117250\\nC  \\t 0.182505260    0.713945190    0.000046940\\nC  \\t 1.113049090    1.274755340   -0.008506110\\nC  \\t 0.193873840   -0.676537480   -0.017120130\\nC  \\t 1.146270960   -1.204252920   -0.026347840\\nC  \\t-1.007314520   -1.410294300   -0.021294260\\nC  \\t-0.992849270   -2.817614020    0.034517600\\nC  \\t-1.823305880   -3.244607790   -0.363551670\\nC  \\t-0.167826120   -3.230477360   -0.389744890\\nC  \\t-2.213326780   -0.696212000   -0.011200140\\nC  \\t-3.156397200   -1.238497440   -0.007639040\\nC  \\t-2.230835170    0.702534570    0.007969610\\nC  \\t-3.188071500    1.213473770    0.015162790\\nC  \\t 1.489000000    2.483000000    0.005000000\\nC  \\t 2.669000000    0.707000000   -0.000000000\\nC  \\t 3.612000000    1.249000000    0.003000000\\nC  \\t 2.669000000   -0.707000000   -0.000000000\\nC  \\t 3.612000000   -1.249000000    0.003000000\\nC  \\t 1.489000000   -2.483000000    0.005000000\\n\");\n\tviewer_1632834806954836.setStyle({\"model\": -1},{\"stick\": {}});\n\tviewer_1632834806954836.zoomTo();\n\tviewer_1632834806954836.setStyle({\"serial\": [2, 1, 3, 10]},{\"stick\": {\"color\": \"green\"}});\n\tviewer_1632834806954836.setStyle({\"serial\": [7, 5, 8, 9]},{\"stick\": {\"color\": \"blue\"}});\n\tviewer_1632834806954836.setStyle({\"serial\": [9, 7, 10, 17]},{\"stick\": {\"color\": \"yellow\"}});\n\tviewer_1632834806954836.setStyle({\"serial\": [10, 2, 9, 11]},{\"stick\": {\"color\": \"red\"}});\n\tviewer_1632834806954836.setStyle({\"serial\": [3, 2, 4, 5]},{\"stick\": {\"color\": \"purple\"}});\n\tviewer_1632834806954836.setStyle({\"serial\": [5, 3, 6, 7]},{\"stick\": {\"color\": \"black\"}});\n\tviewer_1632834806954836.setStyle({\"serial\": [11, 10, 12, 13]},{\"stick\": {\"color\": \"green\"}});\n\tviewer_1632834806954836.setStyle({\"serial\": [13, 11, 14, 15]},{\"stick\": {\"color\": \"blue\"}});\n\tviewer_1632834806954836.setStyle({\"serial\": [15, 13, 16, 17]},{\"stick\": {\"color\": \"yellow\"}});\n\tviewer_1632834806954836.setStyle({\"serial\": [17, 9, 15, 18]},{\"stick\": {\"color\": \"red\"}});\nviewer_1632834806954836.render();\n});\n</script>",
      "text/html": [
       "<div id=\"3dmolviewer_1632834806954836\"  style=\"position: relative; width: 400px; height: 400px\">\n",
       "        <p id=\"3dmolwarning_1632834806954836\" style=\"background-color:#ffcccc;color:black\">You appear to be running in JupyterLab (or JavaScript failed to load for some other reason).  You need to install the 3dmol extension: <br>\n",
       "        <tt>jupyter labextension install jupyterlab_3dmol</tt></p>\n",
       "        </div>\n",
       "<script>\n",
       "\n",
       "var loadScriptAsync = function(uri){\n",
       "  return new Promise((resolve, reject) => {\n",
       "    var tag = document.createElement('script');\n",
       "    tag.src = uri;\n",
       "    tag.async = true;\n",
       "    tag.onload = () => {\n",
       "      resolve();\n",
       "    };\n",
       "  var firstScriptTag = document.getElementsByTagName('script')[0];\n",
       "  firstScriptTag.parentNode.insertBefore(tag, firstScriptTag);\n",
       "});\n",
       "};\n",
       "\n",
       "if(typeof $3Dmolpromise === 'undefined') {\n",
       "$3Dmolpromise = null;\n",
       "  $3Dmolpromise = loadScriptAsync('https://3dmol.org/build/3Dmol.js');\n",
       "}\n",
       "\n",
       "var viewer_1632834806954836 = null;\n",
       "var warn = document.getElementById(\"3dmolwarning_1632834806954836\");\n",
       "if(warn) {\n",
       "    warn.parentNode.removeChild(warn);\n",
       "}\n",
       "$3Dmolpromise.then(function() {\n",
       "viewer_1632834806954836 = $3Dmol.createViewer($(\"#3dmolviewer_1632834806954836\"),{backgroundColor:\"white\"});\n",
       "viewer_1632834806954836.zoomTo();\n",
       "\tviewer_1632834806954836.addModel(\"21\\n# \\t >>> Generated with python lib function_libs utilities. (riniker group)\\t >>> line_seperator: '\\\\n'\\t field_seperator: '\\\\t'\\t comments_char: '#'\\t >>> Generated with python lib function_libs utilities. (riniker group)\\t >>> line_seperator: '\\\\n'\\t field_seperator: '\\\\t'\\t comments_char: '#'# exported wit PyGromosTools\\nC  \\t-2.137274170    3.543358760   -0.032406710\\nC  \\t-0.930191600    2.790017920    0.002439360\\nC  \\t-1.029393050    1.419183800    0.007117250\\nC  \\t 0.182505260    0.713945190    0.000046940\\nC  \\t 1.113049090    1.274755340   -0.008506110\\nC  \\t 0.193873840   -0.676537480   -0.017120130\\nC  \\t 1.146270960   -1.204252920   -0.026347840\\nC  \\t-1.007314520   -1.410294300   -0.021294260\\nC  \\t-0.992849270   -2.817614020    0.034517600\\nC  \\t-1.823305880   -3.244607790   -0.363551670\\nC  \\t-0.167826120   -3.230477360   -0.389744890\\nC  \\t-2.213326780   -0.696212000   -0.011200140\\nC  \\t-3.156397200   -1.238497440   -0.007639040\\nC  \\t-2.230835170    0.702534570    0.007969610\\nC  \\t-3.188071500    1.213473770    0.015162790\\nC  \\t 1.489000000    2.483000000    0.005000000\\nC  \\t 2.669000000    0.707000000   -0.000000000\\nC  \\t 3.612000000    1.249000000    0.003000000\\nC  \\t 2.669000000   -0.707000000   -0.000000000\\nC  \\t 3.612000000   -1.249000000    0.003000000\\nC  \\t 1.489000000   -2.483000000    0.005000000\\n\");\n",
       "\tviewer_1632834806954836.setStyle({\"model\": -1},{\"stick\": {}});\n",
       "\tviewer_1632834806954836.zoomTo();\n",
       "\tviewer_1632834806954836.setStyle({\"serial\": [2, 1, 3, 10]},{\"stick\": {\"color\": \"green\"}});\n",
       "\tviewer_1632834806954836.setStyle({\"serial\": [7, 5, 8, 9]},{\"stick\": {\"color\": \"blue\"}});\n",
       "\tviewer_1632834806954836.setStyle({\"serial\": [9, 7, 10, 17]},{\"stick\": {\"color\": \"yellow\"}});\n",
       "\tviewer_1632834806954836.setStyle({\"serial\": [10, 2, 9, 11]},{\"stick\": {\"color\": \"red\"}});\n",
       "\tviewer_1632834806954836.setStyle({\"serial\": [3, 2, 4, 5]},{\"stick\": {\"color\": \"purple\"}});\n",
       "\tviewer_1632834806954836.setStyle({\"serial\": [5, 3, 6, 7]},{\"stick\": {\"color\": \"black\"}});\n",
       "\tviewer_1632834806954836.setStyle({\"serial\": [11, 10, 12, 13]},{\"stick\": {\"color\": \"green\"}});\n",
       "\tviewer_1632834806954836.setStyle({\"serial\": [13, 11, 14, 15]},{\"stick\": {\"color\": \"blue\"}});\n",
       "\tviewer_1632834806954836.setStyle({\"serial\": [15, 13, 16, 17]},{\"stick\": {\"color\": \"yellow\"}});\n",
       "\tviewer_1632834806954836.setStyle({\"serial\": [17, 9, 15, 18]},{\"stick\": {\"color\": \"red\"}});\n",
       "viewer_1632834806954836.render();\n",
       "});\n",
       "</script>"
      ]
     },
     "metadata": {},
     "output_type": "display_data"
    },
    {
     "data": {
      "text/plain": [
       "<py3Dmol.view at 0x7f3cc626c550>"
      ]
     },
     "execution_count": 21,
     "metadata": {},
     "output_type": "execute_result"
    }
   ],
   "source": [
    "\n",
    "\n",
    "\n",
    "#Impropers\n",
    "impdihedrals =[]\n",
    "for imp in com_top.IMPDIHEDRAL:\n",
    "    if(imp.IQ in present_atoms and imp.JQ in present_atoms and imp.KQ in present_atoms and imp.LQ in present_atoms):\n",
    "        impdihedrals.append(imp)\n",
    "        \n",
    "imp_type = type(imp)\n",
    "for impH in com_top.IMPDIHEDRALH:\n",
    "    if(impH.IQH in present_atoms and impH.JQH in present_atoms and impH.KQH in present_atoms and impH.LQH in present_atoms):\n",
    "        impdihedrals.append(imp_type(IQ=impH.IQH, JQ=impH.JQH, KQ=impH.KQH, LQ=impH.LQH, ICQ=impH.ICQH))\n",
    "        \n",
    "red_com_top.IMPDIHEDRAL.content = impdihedrals\n",
    "red_com_top.IMPDIHEDRAL.NQHI = len(impdihedrals)\n",
    "\n",
    "if(hasattr(red_com_top, \"IMPDIHEDRALH\")): del red_com_top.IMPDIHEDRALH\n",
    "\n",
    "view = cmol_comb.visualize()\n",
    "\n",
    "colors = ['green', 'blue', 'yellow', 'red', 'purple', 'black']\n",
    "for i, tors in enumerate(red_com_top.IMPDIHEDRAL):\n",
    "    view.setStyle({\"serial\": [tors.IQ,  tors.JQ, tors.KQ, tors.LQ]}, {\"stick\":{'color':colors[i%len(colors)]}})\n",
    "view"
   ]
  },
  {
   "cell_type": "code",
   "execution_count": 22,
   "metadata": {},
   "outputs": [
    {
     "data": {
      "text/plain": [
       "{'IQ': 17, 'JQ': 9, 'KQ': 15, 'LQ': 18, 'ICQ': 1}"
      ]
     },
     "execution_count": 22,
     "metadata": {},
     "output_type": "execute_result"
    }
   ],
   "source": [
    "vars(tors)"
   ]
  },
  {
   "cell_type": "code",
   "execution_count": 23,
   "metadata": {},
   "outputs": [
    {
     "data": {
      "text/plain": [
       "'\\n#crossDIHEDRAL\\ncrds =[]\\nfor crd in com_top.CROSSDIHEDRAL:\\n    print(vars(crd))\\n    if(crd.ATNM in present_atoms):\\n        crds.append(atm)\\n\\nred_com_top.CROSSDIHEDRAL.content = crds \\n\\n#crossDIHEDRALH\\ncrdsH =[]\\nfor crdH in com_top.CROSSDIHEDRALH:\\n    print(vars(crdH))\\n    if(crdH.ATNM in present_atoms):\\n        crdsH.append(atm)\\n\\nred_com_top.CROSSDIHEDRALH.content = crdsH\\n'"
      ]
     },
     "execution_count": 23,
     "metadata": {},
     "output_type": "execute_result"
    }
   ],
   "source": [
    "\n",
    "#Mass, VDW, Charge\n",
    "sol =[]\n",
    "for atm in com_top.SOLUTEATOM:\n",
    "    if(atm.ATNM in present_atoms):\n",
    "        atm.MRES=1\n",
    "        sol.append(atm)\n",
    "\n",
    "red_com_top.SOLUTEATOM.content = sol \n",
    "red_com_top.SOLUTEATOM.NRP = len(sol)\n",
    "\n",
    "\"\"\"\n",
    "#crossDIHEDRAL\n",
    "crds =[]\n",
    "for crd in com_top.CROSSDIHEDRAL:\n",
    "    print(vars(crd))\n",
    "    if(crd.ATNM in present_atoms):\n",
    "        crds.append(atm)\n",
    "\n",
    "red_com_top.CROSSDIHEDRAL.content = crds \n",
    "\n",
    "#crossDIHEDRALH\n",
    "crdsH =[]\n",
    "for crdH in com_top.CROSSDIHEDRALH:\n",
    "    print(vars(crdH))\n",
    "    if(crdH.ATNM in present_atoms):\n",
    "        crdsH.append(atm)\n",
    "\n",
    "red_com_top.CROSSDIHEDRALH.content = crdsH\n",
    "\"\"\"\n"
   ]
  },
  {
   "cell_type": "code",
   "execution_count": 24,
   "metadata": {},
   "outputs": [],
   "source": [
    "#REST\n",
    "##resname meshing\n",
    "molA_Name = com_top.RESNAME.content[1][0]\n",
    "molB_Name = com_top.RESNAME.content[2][0]\n",
    "\n",
    "red_com_top.RESNAME.content = [['1'], [molA_Name[:2]+molB_Name[:2]]]\n",
    "\n",
    "\n",
    "## SOLUTEMOLECULES:\n",
    "from collections import defaultdict\n",
    "resi_atom = defaultdict(int)\n",
    "\n",
    "for atom in red_com_top.SOLUTEATOM:\n",
    "    resi_atom[atom.MRES]+=1\n",
    "\n",
    "groups = [[str(len(resi_atom))], [str(resi_atom[res])+\" \" for res in resi_atom]]\n",
    "red_com_top.SOLUTEMOLECULES.content =groups\n",
    "red_com_top.TEMPERATUREGROUPS.content =groups\n",
    "red_com_top.PRESSUREGROUPS.content =groups\n",
    "\n",
    "pass"
   ]
  },
  {
   "cell_type": "code",
   "execution_count": null,
   "metadata": {},
   "outputs": [],
   "source": []
  },
  {
   "cell_type": "code",
   "execution_count": null,
   "metadata": {},
   "outputs": [],
   "source": []
  },
  {
   "cell_type": "code",
   "execution_count": null,
   "metadata": {},
   "outputs": [],
   "source": []
  },
  {
   "cell_type": "markdown",
   "metadata": {},
   "source": [
    "### Build PTP"
   ]
  },
  {
   "cell_type": "code",
   "execution_count": 25,
   "metadata": {},
   "outputs": [],
   "source": [
    "from pygromos.files.blocks.pertubation_blocks import TITLE, PERTBONDSTRETCH, PERTBONDSTRETCHH, atom_lam_pertubation_state_bond\n",
    "from pygromos.files.blocks.topology_blocks import bondstretchtype_type, torsdihedraltype_type, impdihedraltype_type"
   ]
  },
  {
   "cell_type": "markdown",
   "metadata": {},
   "source": [
    "### DummyTypes"
   ]
  },
  {
   "cell_type": "code",
   "execution_count": 26,
   "metadata": {},
   "outputs": [],
   "source": [
    "#Dummy Types\n",
    "dummyBond = bondstretchtype_type(CB=0, CHB=0, B0=1)\n",
    "dummyAngle = bondstretchtype_type(CB=0, CHB=0, B0=1)\n",
    "dummyTors = torsdihedraltype_type(CP=0, PD=0, NP=1)\n",
    "dummyImp = impdihedraltype_type(CQ=0, Q0=0)\n",
    "\n",
    "dummyIAC = 21\n",
    "dummyMass = -1\n",
    "dummyCharge = 0.0\n",
    "\n",
    "#Add to top\n",
    "red_com_top.BONDSTRETCHTYPE.append(dummyBond)\n",
    "red_com_top.BONDANGLEBENDTYPE.append(dummyAngle)\n",
    "red_com_top.TORSDIHEDRALTYPE.append(dummyTors)\n",
    "red_com_top.IMPDIHEDRALTYPE.append(dummyImp)\n",
    "\n",
    "\n",
    "dummyBondInd = len(red_com_top.BONDSTRETCHTYPE)\n",
    "dummyAngleInd = len(red_com_top.BONDANGLEBENDTYPE)\n",
    "dummyTorsInd = len(red_com_top.TORSDIHEDRALTYPE)\n",
    "dummyIMPsInd = len(red_com_top.IMPDIHEDRALTYPE)\n",
    "\n",
    "red_com_top.BONDSTRETCHTYPE.NBTY = dummyBondInd\n",
    "red_com_top.BONDANGLEBENDTYPE.NBTY = dummyAngleInd\n",
    "red_com_top.TORSDIHEDRALTYPE.NPTY = dummyTorsInd\n",
    "red_com_top.IMPDIHEDRALTYPE.NQTY = dummyIMPsInd\n"
   ]
  },
  {
   "cell_type": "code",
   "execution_count": null,
   "metadata": {},
   "outputs": [],
   "source": []
  },
  {
   "cell_type": "code",
   "execution_count": 78,
   "metadata": {},
   "outputs": [],
   "source": [
    "def reduce_pertubations(pertubations):\n",
    "    #reduce\n",
    "    atom_keys = [k for k in vars(pertubations[0]) if(\"atom\" in k)]\n",
    "    stateAtoms = list(sorted(pertubations, key=lambda x: [vars(x)[k] for k in atom_keys]))\n",
    "    skip = []\n",
    "    reduced_pertubations = []\n",
    "    for i,bond1 in enumerate(stateAtoms):\n",
    "        if(bond1 in skip):\n",
    "            continue\n",
    "        else:\n",
    "            #is there already a bond?\n",
    "            attr = vars(bond1)\n",
    "            for bond2  in stateAtoms[i+1:]:\n",
    "                if(set([attr[k] for k in atom_keys]) == set([vars(bond2)[k] for k in atom_keys])):\n",
    "                    skip.append(bond2)\n",
    "                    replace_keys = [k for k in attr['STATES'] if (attr['STATES'][k] == dummyBondInd)]\n",
    "                    if(len(replace_keys)>0):\n",
    "                        replace_key = replace_keys[0]\n",
    "                        attr['STATES'].update({replace_key: bond2.STATES[replace_key]})\n",
    "                        break\n",
    "                    else:\n",
    "                        continue\n",
    "\n",
    "            #something equal already there?\n",
    "            if(attr['STATES'][0] == attr['STATES'][1] or \n",
    "               set([attr[k] for k in atom_keys]) in [set([vars(x)[k] for k in atom_keys]) for x in reduced_pertubations]):\n",
    "                continue\n",
    "            else:\n",
    "                attr.update({\"NR\":len(reduced_stateAtoms)})\n",
    "                new_pertAtomState = type(bond1)(**attr)\n",
    "                reduced_pertubations.append(new_pertAtomState)\n",
    "    return reduced_pertubations\n",
    "\n",
    "\n",
    "def merge_tops_to_pertubations(tops, pertType, topBlockName, dummystateInd,  ):\n",
    "    pertubations = []\n",
    "    tops = [top1, top2]\n",
    "    toffset = 0\n",
    "    for tind, ttop in enumerate(tops):\n",
    "        rearrange_dict = {val[tind]: key for key,val in present_atoms.items()}\n",
    "        for top_bond in getattribute(ttop, topBlockName):\n",
    "            \n",
    "            tstates = {tind:top_bond.ICB}\n",
    "            tstates.update({i:dummystateInd for i in range(len(tops)) if not i in tstates})\n",
    "            pertubations.append(pertType(NR=len(pertBonds), \n",
    "                                         atomI=rearrange_dict[top_bond.IB+toffset],\n",
    "                                         atomJ=rearrange_dict[top_bond.JB+toffset], \n",
    "                                         STATES=tstates)\n",
    "                                )\n",
    "        toffset = len(ttop.SOLUTEATOM)    \n",
    "    \n",
    "    return pertubations"
   ]
  },
  {
   "cell_type": "code",
   "execution_count": null,
   "metadata": {},
   "outputs": [],
   "source": []
  },
  {
   "cell_type": "markdown",
   "metadata": {},
   "source": [
    "### Bond"
   ]
  },
  {
   "cell_type": "code",
   "execution_count": 57,
   "metadata": {},
   "outputs": [
    {
     "data": {
      "text/plain": [
       "PERTBONDSTRETCH\n",
       "# NPB  \t NPTB =  \t 2 \t \n",
       " \t 19\n",
       "# atomI atomJ type1  type2 \n",
       "    1     2     3    53   156\n",
       "    2     3     4    22   156\n",
       "    2     3    14    22   156\n",
       "    3     4     5   156    27\n",
       "    3     4     6    27   156\n",
       "    3    14    12    27   156\n",
       "    4     3    14    27   156\n",
       "    4     5    17   156    27\n",
       "    4     6     7   156    27\n",
       "    4     6     8    27   156\n",
       "    5    17    19   156    27\n",
       "    6     4     5   156    27\n",
       "    6     7    19   156    27\n",
       "    6     8     9    27   156\n",
       "    6     8    12    27   156\n",
       "    8     6     7   156    27\n",
       "    8    12    14    27   156\n",
       "    9     8    12    27   156\n",
       "   17    19     7   156    27\n",
       "END"
      ]
     },
     "execution_count": 57,
     "metadata": {},
     "output_type": "execute_result"
    }
   ],
   "source": [
    "pertbond =PERTBONDSTRETCH()\n",
    "\n",
    "pertBonds = []\n",
    "tops = [top1, top2]\n",
    "toffset = 0\n",
    "for tind, ttop in enumerate(tops):\n",
    "    rearrange_dict = {val[tind]: key for key,val in present_atoms.items()}\n",
    "    for top_bond in ttop.BOND:\n",
    "        tstates = {tind:top_bond.ICB}\n",
    "        tstates.update({i:dummyBondInd for i in range(len(tops)) if not i in tstates})\n",
    "        pertBonds.append(atom_lam_pertubation_state_bond(NR=len(pertBonds), \n",
    "                                                         atomI=rearrange_dict[top_bond.IB+toffset],\n",
    "                                                         atomJ=rearrange_dict[top_bond.JB+toffset], \n",
    "                                                         STATES=tstates)\n",
    "                            )\n",
    "    toffset = len(ttop.SOLUTEATOM)           \n",
    "\n",
    "toffset = 0\n",
    "for tind, ttop in enumerate(tops):\n",
    "    rearrange_dict = {val[tind]: key for key,val in present_atoms.items()}\n",
    "    for top_bond in ttop.BONDH:\n",
    "        tstates = {tind:top_bond.ICB}\n",
    "        tstates.update({i:dummyBondInd for i in range(len(tops)) if not i in tstates})\n",
    "        pertBonds.append(atom_lam_pertubation_state_bond(NR=len(pertBonds), \n",
    "                                                         atomI=rearrange_dict[top_bond.IB+toffset],\n",
    "                                                         atomJ=rearrange_dict[top_bond.JB+toffset], \n",
    "                                                         STATES=tstates)\n",
    "                            )\n",
    "    toffset = len(ttop.SOLUTEATOM)           \n",
    "\n",
    "\n",
    "\n",
    "#reduce\n",
    "reduced_stateAtoms = reduce_pertubations(stateAtoms)\n",
    "        \n",
    "pertbond.STATEATOMS = reduced_stateAtoms\n",
    "pertbond.NPB = len(reduced_stateAtoms)\n",
    "\n",
    "pertbond"
   ]
  },
  {
   "cell_type": "markdown",
   "metadata": {},
   "source": [
    "### Angle"
   ]
  },
  {
   "cell_type": "code",
   "execution_count": 28,
   "metadata": {},
   "outputs": [],
   "source": [
    "from pygromos.files.blocks.pertubation_blocks import PERTBONDANGLE, PERTBONDANGLEH, atom_lam_pertubation_state_angle"
   ]
  },
  {
   "cell_type": "code",
   "execution_count": 58,
   "metadata": {},
   "outputs": [
    {
     "data": {
      "text/plain": [
       "PERTBONDANGLE\n",
       "# NPA  \t NPTB =  \t 2 \t \n",
       " \t 19\n",
       "# atomI atomJ atomK type1  type2 \n",
       "    1     2     3    53   156\n",
       "    2     3     4    22   156\n",
       "    2     3    14    22   156\n",
       "    3     4     5   156    27\n",
       "    3     4     6    27   156\n",
       "    3    14    12    27   156\n",
       "    4     3    14    27   156\n",
       "    4     5    17   156    27\n",
       "    4     6     7   156    27\n",
       "    4     6     8    27   156\n",
       "    5    17    19   156    27\n",
       "    6     4     5   156    27\n",
       "    6     7    19   156    27\n",
       "    6     8     9    27   156\n",
       "    6     8    12    27   156\n",
       "    8     6     7   156    27\n",
       "    8    12    14    27   156\n",
       "    9     8    12    27   156\n",
       "   17    19     7   156    27\n",
       "END"
      ]
     },
     "execution_count": 58,
     "metadata": {},
     "output_type": "execute_result"
    }
   ],
   "source": [
    "pertangle =PERTBONDANGLE()\n",
    "\n",
    "pertAngles = []\n",
    "tops = [top1, top2]\n",
    "\n",
    "toffset = 0\n",
    "for tind, ttop in enumerate(tops):\n",
    "    rearrange_dict = {val[tind]: key for key,val in present_atoms.items()}\n",
    "    for top_angle in ttop.BONDANGLE:\n",
    "        tstates = {tind:top_angle.ICT}\n",
    "        tstates.update({i:dummyAngleInd for i in range(len(tops)) if not i in tstates})\n",
    "        pertAngles.append(atom_lam_pertubation_state_angle(NR=len(pertAngles), \n",
    "                                                         atomI=rearrange_dict[top_angle.IT+toffset],\n",
    "                                                         atomJ=rearrange_dict[top_angle.JT+toffset], \n",
    "                                                         atomK=rearrange_dict[top_angle.KT+toffset], \n",
    "                                                         STATES=tstates)\n",
    "                            )\n",
    "    toffset = len(ttop.SOLUTEATOM)           \n",
    "    \n",
    "toffset = 0\n",
    "for tind, ttop in enumerate(tops):\n",
    "    rearrange_dict = {val[tind]: key for key,val in present_atoms.items()}\n",
    "    for top_angle in ttop.BONDANGLE:\n",
    "        tstates = {tind:top_angle.ICT}\n",
    "        tstates.update({i:dummyAngleInd for i in range(len(tops)) if not i in tstates})\n",
    "        pertAngles.append(atom_lam_pertubation_state_angle(NR=len(pertAngles), \n",
    "                                                         atomI=rearrange_dict[top_angle.IT+toffset],\n",
    "                                                         atomJ=rearrange_dict[top_angle.JT+toffset], \n",
    "                                                         atomK=rearrange_dict[top_angle.KT+toffset], \n",
    "                                                         STATES=tstates)\n",
    "                            )\n",
    "    toffset = len(ttop.SOLUTEATOM)    \n",
    "    \n",
    "    \n",
    "\n",
    "#reduce\n",
    "reduced_pertAngles = reduce_pertubations(pertAngles)\n",
    "            \n",
    "pertangle.STATEATOMS = reduced_pertAngles\n",
    "pertangle.NPA = len(reduced_pertAngles)\n",
    "\n",
    "pertangle"
   ]
  },
  {
   "cell_type": "markdown",
   "metadata": {},
   "source": [
    "### Dihedrals"
   ]
  },
  {
   "cell_type": "code",
   "execution_count": 54,
   "metadata": {},
   "outputs": [],
   "source": [
    "from pygromos.files.blocks.pertubation_blocks import PERTPROPERDIH, PERTPROPERDIHH, atom_lam_pertubation_state_dihedral"
   ]
  },
  {
   "cell_type": "code",
   "execution_count": 60,
   "metadata": {},
   "outputs": [
    {
     "data": {
      "text/plain": [
       "PERTPROPERDIH\n",
       "# NPD  \t NPTB =  \t 2 \t \n",
       " \t 15\n",
       "# atomI atomJ atomK atomL type1  type2 \n",
       "    1     2     3     4    13    47\n",
       "    3     4     6     8    15    47\n",
       "    3    14    12     8    47    15\n",
       "    4     3    14    12    15    47\n",
       "    4     5    17    19    47    15\n",
       "    4     6     7    19    47    15\n",
       "    4     6     8    12    15    47\n",
       "    5    17    19     7    47    15\n",
       "    6     4     5    17    47    15\n",
       "    6     8     9    11    10    47\n",
       "    6     8    12    14    15    47\n",
       "    7     6     4     5    47    15\n",
       "   12     8     9    10    10    47\n",
       "   14     3     4     6    15    47\n",
       "   17    19     7     6    47    15\n",
       "END"
      ]
     },
     "execution_count": 60,
     "metadata": {},
     "output_type": "execute_result"
    }
   ],
   "source": [
    "pertproperdih =PERTPROPERDIH()\n",
    "\n",
    "pertDihedrals = []\n",
    "tops = [top1, top2]\n",
    "\n",
    "toffset = 0\n",
    "for tind, ttop in enumerate(tops):\n",
    "    rearrange_dict = {val[tind]: key for key,val in present_atoms.items()}\n",
    "    for top_dihedral in ttop.DIHEDRAL:\n",
    "        tstates = {tind:top_dihedral.ICP}\n",
    "        tstates.update({i:dummyTorsInd for i in range(len(tops)) if not i in tstates})\n",
    "        pertDihedrals.append(atom_lam_pertubation_state_dihedral(NR=len(pertDihedrals), \n",
    "                                                             atomI=rearrange_dict[top_dihedral.IP+toffset],\n",
    "                                                             atomJ=rearrange_dict[top_dihedral.JP+toffset], \n",
    "                                                             atomK=rearrange_dict[top_dihedral.KP+toffset],\n",
    "                                                             atomL=rearrange_dict[top_dihedral.LP+toffset], \n",
    "                                                             STATES=tstates)\n",
    "                            )\n",
    "    toffset = len(ttop.SOLUTEATOM)   \n",
    "    \n",
    "toffset = 0\n",
    "for tind, ttop in enumerate(tops):\n",
    "    rearrange_dict = {val[tind]: key for key,val in present_atoms.items()}\n",
    "    for top_dihedral in ttop.DIHEDRALH:\n",
    "        tstates = {tind:top_dihedral.ICPH}\n",
    "        tstates.update({i:dummyTorsInd for i in range(len(tops)) if not i in tstates})\n",
    "        pertDihedrals.append(atom_lam_pertubation_state_dihedral(NR=len(pertDihedrals), \n",
    "                                                             atomI=rearrange_dict[top_dihedral.IPH+toffset],\n",
    "                                                             atomJ=rearrange_dict[top_dihedral.JPH+toffset], \n",
    "                                                             atomK=rearrange_dict[top_dihedral.KPH+toffset],\n",
    "                                                             atomL=rearrange_dict[top_dihedral.LPH+toffset], \n",
    "                                                             STATES=tstates)\n",
    "                            )\n",
    "    toffset = len(ttop.SOLUTEATOM)  \n",
    "\n",
    "#reduce\n",
    "reduced_pertDihedrals = reduce_pertubations(pertDihedrals)\n",
    "\n",
    "    \n",
    "pertproperdih.STATEATOMS = reduced_pertDihedrals\n",
    "pertproperdih.NPD = len(reduced_pertDihedrals)\n",
    "\n",
    "pertproperdih"
   ]
  },
  {
   "cell_type": "markdown",
   "metadata": {},
   "source": [
    "### Improper Dihedrals"
   ]
  },
  {
   "cell_type": "code",
   "execution_count": 32,
   "metadata": {},
   "outputs": [],
   "source": [
    "from pygromos.files.blocks.pertubation_blocks import PERTIMROPERDIH, PERTIMROPERDIHH, atom_lam_pertubation_state_dihedral"
   ]
  },
  {
   "cell_type": "code",
   "execution_count": 62,
   "metadata": {},
   "outputs": [
    {
     "data": {
      "text/plain": [
       "PERTIMROPERDIH\n",
       "# NPD  \t NPTB =  \t 2 \t \n",
       " \t 10\n",
       "# atomI atomJ atomK atomL type1  type2 \n",
       "    3     2     4    14     1     6\n",
       "    4     3     5     6     1     6\n",
       "    5     4    16    17     6     1\n",
       "    6     4     7     8     1     6\n",
       "    7     6    19    21     6     1\n",
       "    8     6     9    12     1     6\n",
       "   12     8    13    14     1     6\n",
       "   14     3    12    15     1     6\n",
       "   17     5    18    19     6     1\n",
       "   19    17    20     7     6     1\n",
       "END"
      ]
     },
     "execution_count": 62,
     "metadata": {},
     "output_type": "execute_result"
    }
   ],
   "source": [
    "pertproperimpdih =PERTIMROPERDIH()\n",
    "\n",
    "pertImpDihedrals = []\n",
    "tops = [top1, top2]\n",
    "\n",
    "toffset = 0\n",
    "for tind, ttop in enumerate(tops):\n",
    "    rearrange_dict = {val[tind]: key for key,val in present_atoms.items()}\n",
    "    for top_imp in ttop.IMPDIHEDRAL:\n",
    "        tstates = {tind:top_imp.ICQ}\n",
    "        tstates.update({i:dummyIMPsInd for i in range(len(tops)) if not i in tstates})\n",
    "        pertImpDihedrals.append(atom_lam_pertubation_state_dihedral(NR=len(pertImpDihedrals), \n",
    "                                                             atomI=rearrange_dict[top_imp.IQ+toffset],\n",
    "                                                             atomJ=rearrange_dict[top_imp.JQ+toffset], \n",
    "                                                             atomK=rearrange_dict[top_imp.KQ+toffset],\n",
    "                                                             atomL=rearrange_dict[top_imp.LQ+toffset], \n",
    "                                                             STATES=tstates)\n",
    "                            )\n",
    "    toffset = len(ttop.SOLUTEATOM)           \n",
    "\n",
    "toffset = 0\n",
    "for tind, ttop in enumerate(tops):\n",
    "    rearrange_dict = {val[tind]: key for key,val in present_atoms.items()}\n",
    "    for top_impH in ttop.IMPDIHEDRALH:\n",
    "        tstates = {tind:top_impH.ICQH}\n",
    "        tstates.update({i:dummyIMPsInd for i in range(len(tops)) if not i in tstates})\n",
    "        pertImpDihedrals.append(atom_lam_pertubation_state_dihedral(NR=len(pertImpDihedrals), \n",
    "                                                             atomI=rearrange_dict[top_impH.IQH+toffset],\n",
    "                                                             atomJ=rearrange_dict[top_impH.JQH+toffset], \n",
    "                                                             atomK=rearrange_dict[top_impH.KQH+toffset],\n",
    "                                                             atomL=rearrange_dict[top_impH.LQH+toffset], \n",
    "                                                             STATES=tstates)\n",
    "                            )\n",
    "    toffset = len(ttop.SOLUTEATOM)        \n",
    "\n",
    "reduced_pertImpDihedrals = reduce_pertubations(pertImpDihedrals)\n",
    "\n",
    "pertproperimpdih.STATEATOMS = reduced_pertImpDihedrals\n",
    "pertproperimpdih.NPD = len(reduced_pertImpDihedrals)\n",
    "\n",
    "pertproperimpdih"
   ]
  },
  {
   "cell_type": "markdown",
   "metadata": {},
   "source": [
    "\n",
    "### NONBONDEDS"
   ]
  },
  {
   "cell_type": "code",
   "execution_count": 63,
   "metadata": {},
   "outputs": [],
   "source": [
    "from pygromos.files.blocks.pertubation_blocks import PERTATOMPARAM, atom_lam_pertubation_state, pertubation_lam_state_nonbonded"
   ]
  },
  {
   "cell_type": "code",
   "execution_count": 64,
   "metadata": {
    "scrolled": false
   },
   "outputs": [
    {
     "data": {
      "text/plain": [
       "PERTATOMPARAM\n",
       "# NJLA  \t NPTB =  \t 2 \t \n",
       " \t 21\n",
       "# state_identifiers\n",
       "#  \t state0 \t state1\n",
       "#    NR   RES  NAME   IAC MASS    CHARGE   IAC MASS    CHARGE    ALPHLJ     ALPHCRF   \n",
       "    1     1    C5    16 15.035    0.27500    21 15.035    0.00000    1.00000    1.00000\n",
       "    2     1    H8     4 15.9994   -0.40000    20 1.008    0.13100    1.00000    1.00000\n",
       "    3     1   C10    64 12.011    0.26900    64 12.011   -0.20100    1.00000    1.00000\n",
       "    4     1    C2    64 12.011   -0.21400    64 12.011   -0.03200    1.00000    1.00000\n",
       "    5     1    C1    20 1.008    0.14400    16 15.035    0.07200    1.00000    1.00000\n",
       "    6     1    H4    64 12.011   -0.33400    20 1.008    0.15900    1.00000    1.00000\n",
       "    7     1    H7    20 1.008    0.18600    20 1.008    0.13100    1.00000    1.00000\n",
       "    8     1    H5    64 12.011    0.46200    20 1.008    0.15900    1.00000    1.00000\n",
       "    9     1    C3    66 14.0067   -0.95000    64 12.011   -0.22200    1.00000    1.00000\n",
       "   10     1    H1    59 1.008    0.39000    21 12.011    0.00000    1.00000    1.00000\n",
       "   11     1    H2    59 1.008    0.39000    21 12.011    0.00000    1.00000    1.00000\n",
       "   12     1    C5    64 12.011   -0.33400    64 12.011   -0.03200    1.00000    1.00000\n",
       "   13     1    C4    20 1.008    0.18600    64 12.011   -0.22200    1.00000    1.00000\n",
       "   14     1    H9    64 12.011   -0.21400    20 1.008    0.14300    1.00000    1.00000\n",
       "   15     1   C12    20 1.008    0.14400    16 15.035    0.07200    1.00000    1.00000\n",
       "   16     1   C11    21 1.008    0.00000    64 12.011    0.08100    1.00000    1.00000\n",
       "   17     1    C6    21 12.011    0.00000    64 12.011    0.08100    1.00000    1.00000\n",
       "   18     1    C7    21 1.008    0.00000    64 12.011   -0.20100    1.00000    1.00000\n",
       "   19     1    H6    21 15.035    0.00000    20 1.008    0.14300    1.00000    1.00000\n",
       "   20     1    C8    21 15.9994    0.00000    64 12.011   -0.13100    1.00000    1.00000\n",
       "   21     1    C9    21 12.011    0.00000    64 12.011   -0.13100    1.00000    1.00000\n",
       "END"
      ]
     },
     "execution_count": 64,
     "metadata": {},
     "output_type": "execute_result"
    }
   ],
   "source": [
    "nonbonded = PERTATOMPARAM()\n",
    "\n",
    "nonbondeds = []\n",
    "tops = [top1, top2]\n",
    "toffset = 0\n",
    "\n",
    "dummyState =lambda m: pertubation_lam_state_nonbonded(IAC=dummyIAC, MASS=m, CHARGE=dummyCharge)\n",
    "\n",
    "for atom in red_com_top.SOLUTEATOM:\n",
    "    atom_states = present_atoms[atom.ATNM]\n",
    "    tstates = {}\n",
    "    for state, atomNR in enumerate(atom_states):\n",
    "        if(atomNR == -1):\n",
    "            tstates.update({state :dummyState(atom.MASS)})\n",
    "        else:\n",
    "            toffset = sum([len(tops[state].SOLUTEATOM) for i in range(state)])\n",
    "            atom_nb = tops[state].SOLUTEATOM[atomNR-toffset-1]\n",
    "            tstates.update({state:pertubation_lam_state_nonbonded(IAC=atom_nb.IAC, MASS=atom_nb.MASS, CHARGE=atom_nb.CG)})\n",
    "                  \n",
    "\n",
    "    nonbondeds.append(atom_lam_pertubation_state(NR=atom.ATNM,\n",
    "                                                 RES=1,\n",
    "                                                 NAME=atom_nb.PANM,\n",
    "                                                 STATES=tstates)\n",
    "                        )    \n",
    "nonbonded.STATEATOMS = nonbondeds\n",
    "nonbonded.NJLA = len(nonbondeds)\n",
    "nonbonded.STATEIDENTIFIERS = [\"state\"+str(i) for i in range(len(tops))]\n",
    "\n",
    "\n",
    "nonbonded"
   ]
  },
  {
   "cell_type": "markdown",
   "metadata": {},
   "source": [
    "### BUild File"
   ]
  },
  {
   "cell_type": "code",
   "execution_count": 65,
   "metadata": {},
   "outputs": [
    {
     "data": {
      "text/plain": [
       "RESNAME\n",
       "1\n",
       "G0F3\n",
       "END"
      ]
     },
     "execution_count": 65,
     "metadata": {},
     "output_type": "execute_result"
    }
   ],
   "source": [
    "red_com_top.RESNAME"
   ]
  },
  {
   "cell_type": "code",
   "execution_count": 66,
   "metadata": {},
   "outputs": [],
   "source": [
    "ptp_file = ptp.Ptp()\n"
   ]
  },
  {
   "cell_type": "code",
   "execution_count": 67,
   "metadata": {},
   "outputs": [],
   "source": [
    "ptp_file.add_block(block=TITLE(\"\\tpertubations for \"+\"\\n \".join(map(lambda x: \"\\t\".join(x), red_com_top.RESNAME.content))))\n",
    "ptp_file.add_block(block=pertbond)\n",
    "ptp_file.add_block(block=pertangle)\n",
    "ptp_file.add_block(block=pertproperdih)\n",
    "ptp_file.add_block(block=pertproperimpdih)\n",
    "\n",
    "ptp_file.add_block(block=nonbonded)"
   ]
  },
  {
   "cell_type": "code",
   "execution_count": 68,
   "metadata": {
    "scrolled": true
   },
   "outputs": [
    {
     "data": {
      "text/plain": [
       "TITLE\n",
       "\tpertubations for 1 G0F3\n",
       "\t >>> Generated with python lib function_libs utilities. (riniker group)\n",
       "\t >>> line_seperator: '\\n'\t field_seperator: '\\t'\t comments_char: '#'\n",
       "END\n",
       "PERTBONDSTRETCH\n",
       "# NPB  \t NPTB =  \t 2 \t \n",
       " \t 19\n",
       "# atomI atomJ type1  type2 \n",
       "    1     2     3    53   156\n",
       "    2     3     4    22   156\n",
       "    2     3    14    22   156\n",
       "    3     4     5   156    27\n",
       "    3     4     6    27   156\n",
       "    3    14    12    27   156\n",
       "    4     3    14    27   156\n",
       "    4     5    17   156    27\n",
       "    4     6     7   156    27\n",
       "    4     6     8    27   156\n",
       "    5    17    19   156    27\n",
       "    6     4     5   156    27\n",
       "    6     7    19   156    27\n",
       "    6     8     9    27   156\n",
       "    6     8    12    27   156\n",
       "    8     6     7   156    27\n",
       "    8    12    14    27   156\n",
       "    9     8    12    27   156\n",
       "   17    19     7   156    27\n",
       "END\n",
       "PERTBONDANGLE\n",
       "# NPA  \t NPTB =  \t 2 \t \n",
       " \t 19\n",
       "# atomI atomJ atomK type1  type2 \n",
       "    1     2     3    53   156\n",
       "    2     3     4    22   156\n",
       "    2     3    14    22   156\n",
       "    3     4     5   156    27\n",
       "    3     4     6    27   156\n",
       "    3    14    12    27   156\n",
       "    4     3    14    27   156\n",
       "    4     5    17   156    27\n",
       "    4     6     7   156    27\n",
       "    4     6     8    27   156\n",
       "    5    17    19   156    27\n",
       "    6     4     5   156    27\n",
       "    6     7    19   156    27\n",
       "    6     8     9    27   156\n",
       "    6     8    12    27   156\n",
       "    8     6     7   156    27\n",
       "    8    12    14    27   156\n",
       "    9     8    12    27   156\n",
       "   17    19     7   156    27\n",
       "END\n",
       "PERTPROPERDIH\n",
       "# NPD  \t NPTB =  \t 2 \t \n",
       " \t 15\n",
       "# atomI atomJ atomK atomL type1  type2 \n",
       "    1     2     3     4    13    47\n",
       "    3     4     6     8    15    47\n",
       "    3    14    12     8    47    15\n",
       "    4     3    14    12    15    47\n",
       "    4     5    17    19    47    15\n",
       "    4     6     7    19    47    15\n",
       "    4     6     8    12    15    47\n",
       "    5    17    19     7    47    15\n",
       "    6     4     5    17    47    15\n",
       "    6     8     9    11    10    47\n",
       "    6     8    12    14    15    47\n",
       "    7     6     4     5    47    15\n",
       "   12     8     9    10    10    47\n",
       "   14     3     4     6    15    47\n",
       "   17    19     7     6    47    15\n",
       "END\n",
       "PERTIMROPERDIH\n",
       "# NPD  \t NPTB =  \t 2 \t \n",
       " \t 10\n",
       "# atomI atomJ atomK atomL type1  type2 \n",
       "    3     2     4    14     1     6\n",
       "    4     3     5     6     1     6\n",
       "    5     4    16    17     6     1\n",
       "    6     4     7     8     1     6\n",
       "    7     6    19    21     6     1\n",
       "    8     6     9    12     1     6\n",
       "   12     8    13    14     1     6\n",
       "   14     3    12    15     1     6\n",
       "   17     5    18    19     6     1\n",
       "   19    17    20     7     6     1\n",
       "END\n",
       "PERTATOMPARAM\n",
       "# NJLA  \t NPTB =  \t 2 \t \n",
       " \t 21\n",
       "# state_identifiers\n",
       "#  \t state0 \t state1\n",
       "#    NR   RES  NAME   IAC MASS    CHARGE   IAC MASS    CHARGE    ALPHLJ     ALPHCRF   \n",
       "    1     1    C5    16 15.035    0.27500    21 15.035    0.00000    1.00000    1.00000\n",
       "    2     1    H8     4 15.9994   -0.40000    20 1.008    0.13100    1.00000    1.00000\n",
       "    3     1   C10    64 12.011    0.26900    64 12.011   -0.20100    1.00000    1.00000\n",
       "    4     1    C2    64 12.011   -0.21400    64 12.011   -0.03200    1.00000    1.00000\n",
       "    5     1    C1    20 1.008    0.14400    16 15.035    0.07200    1.00000    1.00000\n",
       "    6     1    H4    64 12.011   -0.33400    20 1.008    0.15900    1.00000    1.00000\n",
       "    7     1    H7    20 1.008    0.18600    20 1.008    0.13100    1.00000    1.00000\n",
       "    8     1    H5    64 12.011    0.46200    20 1.008    0.15900    1.00000    1.00000\n",
       "    9     1    C3    66 14.0067   -0.95000    64 12.011   -0.22200    1.00000    1.00000\n",
       "   10     1    H1    59 1.008    0.39000    21 12.011    0.00000    1.00000    1.00000\n",
       "   11     1    H2    59 1.008    0.39000    21 12.011    0.00000    1.00000    1.00000\n",
       "   12     1    C5    64 12.011   -0.33400    64 12.011   -0.03200    1.00000    1.00000\n",
       "   13     1    C4    20 1.008    0.18600    64 12.011   -0.22200    1.00000    1.00000\n",
       "   14     1    H9    64 12.011   -0.21400    20 1.008    0.14300    1.00000    1.00000\n",
       "   15     1   C12    20 1.008    0.14400    16 15.035    0.07200    1.00000    1.00000\n",
       "   16     1   C11    21 1.008    0.00000    64 12.011    0.08100    1.00000    1.00000\n",
       "   17     1    C6    21 12.011    0.00000    64 12.011    0.08100    1.00000    1.00000\n",
       "   18     1    C7    21 1.008    0.00000    64 12.011   -0.20100    1.00000    1.00000\n",
       "   19     1    H6    21 15.035    0.00000    20 1.008    0.14300    1.00000    1.00000\n",
       "   20     1    C8    21 15.9994    0.00000    64 12.011   -0.13100    1.00000    1.00000\n",
       "   21     1    C9    21 12.011    0.00000    64 12.011   -0.13100    1.00000    1.00000\n",
       "END"
      ]
     },
     "execution_count": 68,
     "metadata": {},
     "output_type": "execute_result"
    }
   ],
   "source": [
    "ptp_file"
   ]
  },
  {
   "cell_type": "markdown",
   "metadata": {},
   "source": [
    "# Check Pertubation top"
   ]
  },
  {
   "cell_type": "code",
   "execution_count": 69,
   "metadata": {},
   "outputs": [
    {
     "name": "stdout",
     "output_type": "stream",
     "text": [
      "{'NR': 20, 'atomI': 1, 'atomJ': 2, 'atomK': 3, 'STATES': {0: 53, 1: 156}}\n",
      "{'NR': 20, 'atomI': 2, 'atomJ': 3, 'atomK': 4, 'STATES': {0: 22, 1: 156}}\n",
      "{'NR': 20, 'atomI': 2, 'atomJ': 3, 'atomK': 14, 'STATES': {0: 22, 1: 156}}\n",
      "{'NR': 20, 'atomI': 3, 'atomJ': 4, 'atomK': 5, 'STATES': {1: 27, 0: 156}}\n",
      "{'NR': 20, 'atomI': 3, 'atomJ': 4, 'atomK': 6, 'STATES': {0: 27, 1: 156}}\n",
      "{'NR': 20, 'atomI': 3, 'atomJ': 14, 'atomK': 12, 'STATES': {0: 27, 1: 156}}\n",
      "{'NR': 20, 'atomI': 4, 'atomJ': 3, 'atomK': 14, 'STATES': {0: 27, 1: 156}}\n",
      "{'NR': 20, 'atomI': 4, 'atomJ': 5, 'atomK': 17, 'STATES': {1: 27, 0: 156}}\n",
      "{'NR': 20, 'atomI': 4, 'atomJ': 6, 'atomK': 7, 'STATES': {1: 27, 0: 156}}\n",
      "{'NR': 20, 'atomI': 4, 'atomJ': 6, 'atomK': 8, 'STATES': {0: 27, 1: 156}}\n",
      "{'NR': 20, 'atomI': 5, 'atomJ': 17, 'atomK': 19, 'STATES': {1: 27, 0: 156}}\n",
      "{'NR': 20, 'atomI': 6, 'atomJ': 4, 'atomK': 5, 'STATES': {1: 27, 0: 156}}\n",
      "{'NR': 20, 'atomI': 6, 'atomJ': 7, 'atomK': 19, 'STATES': {1: 27, 0: 156}}\n",
      "{'NR': 20, 'atomI': 6, 'atomJ': 8, 'atomK': 9, 'STATES': {0: 27, 1: 156}}\n",
      "{'NR': 20, 'atomI': 6, 'atomJ': 8, 'atomK': 12, 'STATES': {0: 27, 1: 156}}\n",
      "{'NR': 20, 'atomI': 8, 'atomJ': 6, 'atomK': 7, 'STATES': {1: 27, 0: 156}}\n",
      "{'NR': 20, 'atomI': 8, 'atomJ': 12, 'atomK': 14, 'STATES': {0: 27, 1: 156}}\n",
      "{'NR': 20, 'atomI': 9, 'atomJ': 8, 'atomK': 12, 'STATES': {0: 27, 1: 156}}\n",
      "{'NR': 20, 'atomI': 17, 'atomJ': 19, 'atomK': 7, 'STATES': {1: 27, 0: 156}}\n"
     ]
    },
    {
     "data": {
      "text/plain": [
       "PERTBONDSTRETCH\n",
       "# NPB  \t NPTB =  \t 2 \t \n",
       " \t 19\n",
       "# atomI atomJ type1  type2 \n",
       "    1     2     3    53   156\n",
       "    2     3     4    22   156\n",
       "    2     3    14    22   156\n",
       "    3     4     5   156    27\n",
       "    3     4     6    27   156\n",
       "    3    14    12    27   156\n",
       "    4     3    14    27   156\n",
       "    4     5    17   156    27\n",
       "    4     6     7   156    27\n",
       "    4     6     8    27   156\n",
       "    5    17    19   156    27\n",
       "    6     4     5   156    27\n",
       "    6     7    19   156    27\n",
       "    6     8     9    27   156\n",
       "    6     8    12    27   156\n",
       "    8     6     7   156    27\n",
       "    8    12    14    27   156\n",
       "    9     8    12    27   156\n",
       "   17    19     7   156    27\n",
       "END"
      ]
     },
     "execution_count": 69,
     "metadata": {},
     "output_type": "execute_result"
    }
   ],
   "source": [
    "#reduce\n",
    "stateAtoms = list(sorted(ptp_file.PERTBONDSTRETCH.STATEATOMS, key=lambda x: (x.atomI, x.atomJ)))\n",
    "skip = []\n",
    "reduced_stateAtoms = []\n",
    "for i,bond1 in enumerate(stateAtoms):\n",
    "    if(bond1 in skip):\n",
    "        print('skip', bond1)\n",
    "        continue\n",
    "    else:\n",
    "        #is there already a bond?\n",
    "        attr = vars(bond1)\n",
    "        for bond2  in stateAtoms[i+1:]:\n",
    "            if(all([vars(bond1)[k]==vars(bond2)[k] for k in vars(bond1) if(\"atom\" in k)])):\n",
    "                print(bond1, bond2)\n",
    "                skip.append(bond2)\n",
    "                \n",
    "                replace_keys = [k for k in attr['STATES'] if (attr['STATES'][k] == dummyBondInd)]\n",
    "                if(len(replace_keys)>0):\n",
    "                    replace_key = replace_keys[0]\n",
    "                    print(attr, replace_key)\n",
    "\n",
    "                    attr['STATES'].update({replace_key: bond2.STATES[replace_key]})\n",
    "                    print(attr)\n",
    "                    break\n",
    "                else:\n",
    "                    continue\n",
    "        print(attr)\n",
    "        if(attr['STATES'][0] == attr['STATES'][1]):\n",
    "            continue\n",
    "        attr.update({\"NR\":len(reduced_stateAtoms)})\n",
    "        new_pertAtomState = type(bond1)(**attr)\n",
    "        reduced_stateAtoms.append(new_pertAtomState)\n",
    "\n",
    "ptp_file.PERTBONDSTRETCH.STATEATOMS =  reduced_stateAtoms             \n",
    "ptp_file.PERTBONDSTRETCH.NPB = len(reduced_stateAtoms)\n",
    "ptp_file.PERTBONDSTRETCH"
   ]
  },
  {
   "cell_type": "code",
   "execution_count": 71,
   "metadata": {},
   "outputs": [],
   "source": [
    "#write out all files\n",
    "ptp_file_path = ptp_file.write(out_ptp_path)\n",
    "top_file_path = red_com_top.write(out_top_path)\n",
    "cnf_file_path = cmol_comb.write(out_cnf_path)"
   ]
  },
  {
   "cell_type": "markdown",
   "metadata": {},
   "source": [
    "## Test Emin:\n"
   ]
  },
  {
   "cell_type": "code",
   "execution_count": 72,
   "metadata": {},
   "outputs": [],
   "source": [
    "from pygromos.files.gromos_system import Gromos_System\n",
    "from pygromos.data.simulation_parameters_templates import template_emin\n",
    "from pygromos.simulations.modules.preset_simulation_modules import emin\n",
    "from pygromos.hpc_queuing.submission_systems.local import LOCAL as subSystem\n"
   ]
  },
  {
   "cell_type": "code",
   "execution_count": 73,
   "metadata": {},
   "outputs": [
    {
     "data": {
      "text/plain": [
       "'/home/bschroed/Documents/projects/PyGromosTools/pygromos/data/simulation_parameters_templates/emin.imd'"
      ]
     },
     "execution_count": 73,
     "metadata": {},
     "output_type": "execute_result"
    }
   ],
   "source": [
    "root_dir = \"/home/bschroed/Documents/projects/PyGromosTools/examples/dev/singleTop\"\n",
    "template_emin"
   ]
  },
  {
   "cell_type": "code",
   "execution_count": 74,
   "metadata": {
    "scrolled": false
   },
   "outputs": [
    {
     "name": "stdout",
     "output_type": "stream",
     "text": [
      "\n",
      "\n",
      "==================\n",
      "\tCHECK dependencies\n",
      "\n",
      "Check /home/bschroed/Documents/projects/PyGromosTools/examples/dev/singleTop/out\n",
      "Check /home/bschroed/Documents/projects/PyGromosTools/pygromos/data/simulation_parameters_templates/emin.imd\n",
      "Check ./out/fun.top\n",
      "Check ./out/fun.ptp\n",
      "Check ./out/coord.g96\n",
      "/home/bschroed/Documents/projects/PyGromosTools/examples/dev/singleTop/out\n",
      "/home/bschroed/Documents/projects/PyGromosTools/pygromos/data/simulation_parameters_templates/emin.imd\n",
      "./out/fun.top\n",
      "./out/fun.ptp\n",
      "./out/coord.g96\n",
      "All dependencies are correct! \n",
      "\n",
      "\n",
      "Parsing File:  imd\n",
      "Parsing File:  top\n",
      "Parsing File:  ptp\n",
      "Parsing File:  cnf\n"
     ]
    },
    {
     "name": "stderr",
     "output_type": "stream",
     "text": [
      "/home/bschroed/Documents/projects/PyGromosTools/pygromos/files/gromos_system/gromos_system.py:131: UserWarning: No data provided to gromos_system\n",
      "manual work needed\n",
      "  if verbose: warnings.warn(\"No data provided to gromos_system\\nmanual work needed\")\n"
     ]
    }
   ],
   "source": [
    "sys_name = 'test'\n",
    "grom_system = Gromos_System(in_cnf_path=cnf_file_path, in_top_path=top_file_path, in_imd_path=template_emin,\n",
    "                            in_ptp_path=ptp_file_path,\n",
    "                            system_name=sys_name, \n",
    "                            work_folder=root_dir+\"/out\")"
   ]
  },
  {
   "cell_type": "code",
   "execution_count": 75,
   "metadata": {},
   "outputs": [],
   "source": [
    "from pygromos.files.blocks.imd_blocks import PERTURBATION\n",
    "lam =1\n",
    "pert_block  =  PERTURBATION(NTG=1, NRDGL=0, RLAM=lam, DLAMT=0,\n",
    "                            ALPHC=0.5, ALPHLJ=0.5, NLAM=2, NSCALE=0)\n",
    "grom_system.imd.add_block(block=pert_block)"
   ]
  },
  {
   "cell_type": "code",
   "execution_count": 76,
   "metadata": {},
   "outputs": [
    {
     "name": "stdout",
     "output_type": "stream",
     "text": [
      "Help on INITIALISE in module pygromos.files.blocks.imd_blocks object:\n",
      "\n",
      "class INITIALISE(_generic_imd_block)\n",
      " |  INITIALISE(NTIVEL: bool = False, NTISHK: int = 0, NTINHT: bool = False, NTINHB: bool = False, NTISHI: bool = False, NTIRTC: bool = False, NTICOM: int = 0, NTISTI: bool = False, IG: int = 0, TEMPI: float = 0, content=None)\n",
      " |  \n",
      " |  INITIALISE block\n",
      " |  \n",
      " |      This block controls the Initialisation of a simulation.\n",
      " |  \n",
      " |  Attributes\n",
      " |  ----------\n",
      " |  NTIVEL: bool\n",
      " |      0,1 controls generation of initial velocities\n",
      " |      0: read from configuration (default)\n",
      " |      1: generate from Maxell distribution at temperature TEMPI\n",
      " |  NTISHK: int\n",
      " |      0..3 controls shaking of initial configuration\n",
      " |      0: no intial SHAKE (default)\n",
      " |      1: initial SHAKE on coordinates only\n",
      " |      2: initial SHAKE on velocities only\n",
      " |      3: initial SHAKE on coordinates and velocities\n",
      " |  NTINHT: bool\n",
      " |      0,1 controls generation of initial Nose-Hoover chain variables\n",
      " |      0: read from configuration (default)\n",
      " |      1: reset variables to zero.\n",
      " |  NTINHB: bool\n",
      " |      0,1 controls generation of initial Nose-Hoover (chain) barostat variables\n",
      " |      0: read from strartup file (if applicable) (default)\n",
      " |      1: reset variables to zero\n",
      " |  NTISHI: bool\n",
      " |      0,1 controls initial setting for lattice shift vectors\n",
      " |      0: read from configuration (default)\n",
      " |      1: reset shifts to zero.\n",
      " |  NTIRTC: bool\n",
      " |      0,1 controls initial setting of positions and orientations for roto-translational constraints\n",
      " |      0: read from configuration (default)\n",
      " |      1: reset based on initial configuraion of startup file\n",
      " |  NTICOM: int\n",
      " |      0,1,2 controls initial removal of COM motion\n",
      " |      0: no initial system COM motion removal (default)\n",
      " |      1: initial COM translation is removed\n",
      " |      2: initial COM rotation is removed\n",
      " |  NTISTI: bool\n",
      " |      0,1 controls generation of stochastic integrals\n",
      " |      0: read stochastic integrals and IG from configuration (default)\n",
      " |      1: set stochastic integrals to zero and use IG from here.\n",
      " |  IG: int\n",
      " |      random number generator seed\n",
      " |  TEMPI:  float\n",
      " |      initial temperature\n",
      " |  \n",
      " |  Method resolution order:\n",
      " |      INITIALISE\n",
      " |      _generic_imd_block\n",
      " |      pygromos.files.blocks._general_blocks._generic_gromos_block\n",
      " |      builtins.object\n",
      " |  \n",
      " |  Methods defined here:\n",
      " |  \n",
      " |  __init__(self, NTIVEL: bool = False, NTISHK: int = 0, NTINHT: bool = False, NTINHB: bool = False, NTISHI: bool = False, NTIRTC: bool = False, NTICOM: int = 0, NTISTI: bool = False, IG: int = 0, TEMPI: float = 0, content=None)\n",
      " |      Args:\n",
      " |          NTIVEL:\n",
      " |          NTISHK:\n",
      " |          NTINHT:\n",
      " |          NTINHB:\n",
      " |          NTISHI:\n",
      " |          NTIRTC:\n",
      " |          NTICOM:\n",
      " |          NTISTI:\n",
      " |          IG:\n",
      " |          TEMPI:\n",
      " |  \n",
      " |  ----------------------------------------------------------------------\n",
      " |  Data and other attributes defined here:\n",
      " |  \n",
      " |  __annotations__ = {'IG': <class 'int'>, 'NTICOM': <class 'int'>, 'NTIN...\n",
      " |  \n",
      " |  name = 'INITIALISE'\n",
      " |  \n",
      " |  ----------------------------------------------------------------------\n",
      " |  Methods inherited from _generic_imd_block:\n",
      " |  \n",
      " |  block_to_string(self) -> str\n",
      " |  \n",
      " |  read_content_from_str(self, content: List[str])\n",
      " |  \n",
      " |  ----------------------------------------------------------------------\n",
      " |  Methods inherited from pygromos.files.blocks._general_blocks._generic_gromos_block:\n",
      " |  \n",
      " |  __copy__(self)\n",
      " |  \n",
      " |  __deepcopy__(self, memo)\n",
      " |  \n",
      " |  __iter__(self)\n",
      " |  \n",
      " |  __repr__(self)\n",
      " |      Return repr(self).\n",
      " |  \n",
      " |  __str__(self)\n",
      " |      Return str(self).\n",
      " |  \n",
      " |  get_name(self)\n",
      " |  \n",
      " |  ----------------------------------------------------------------------\n",
      " |  Data descriptors inherited from pygromos.files.blocks._general_blocks._generic_gromos_block:\n",
      " |  \n",
      " |  __dict__\n",
      " |      dictionary for instance variables (if defined)\n",
      " |  \n",
      " |  __weakref__\n",
      " |      list of weak references to the object (if defined)\n",
      "\n"
     ]
    }
   ],
   "source": [
    "grom_system.imd.INITIALISE.NTISHK = 0\n",
    "\n",
    "help(grom_system.imd.INITIALISE)"
   ]
  },
  {
   "cell_type": "code",
   "execution_count": null,
   "metadata": {
    "scrolled": true
   },
   "outputs": [
    {
     "name": "stdout",
     "output_type": "stream",
     "text": [
      "\n",
      "\n",
      "==================\n",
      "\tCHECK dependencies\n",
      "\n",
      "Check /home/bschroed/Documents/projects/PyGromosTools/examples/dev/singleTop/out\n",
      "/home/bschroed/Documents/projects/PyGromosTools/examples/dev/singleTop/out\n",
      "All dependencies are correct! \n",
      "\n",
      "\n",
      "Generate Empty:  imd\n",
      "Generate Empty:  top\n",
      "Generate Empty:  cnf\n",
      "################################################################################\n",
      "\n",
      "emin\n",
      "################################################################################\n",
      "\n",
      "Script:  /home/bschroed/Documents/projects/PyGromosTools/pygromos/hpc_queuing/job_scheduling/schedulers/simulation_scheduler.py\n",
      "################################################################################\n",
      "Simulation PREPERATION\n",
      "################################################################################\n",
      "\n",
      "\n",
      "\n",
      "################################################################################\n",
      "Simulation Setup:\n",
      "################################################################################\n",
      "\n",
      "steps_per_run:  3000\n",
      "equis:  0\n",
      "simulation runs:  1\n",
      "Searching job Name:  emin_1\n",
      "Submission Command: \t / h o m e / b s c h r o e d / D o c u m e n t s / p r o j e c t s / P y G r o m o s T o o l s / e x a m p l e s / d e v / s i n g l e T o p / e m i n / s i m u l a t i o n / e m i n _ 1 / j o b _ e m i n _ 1 . s h\n"
     ]
    }
   ],
   "source": [
    "import os\n",
    "\n",
    "subSys = subSystem(verbose=True)\n",
    "emin_gromos_system, jobID = emin(in_gromos_system=grom_system, project_dir=root_dir, \n",
    "                                 submission_system=subSys, in_imd_path=None)"
   ]
  },
  {
   "cell_type": "code",
   "execution_count": null,
   "metadata": {},
   "outputs": [],
   "source": [
    "emin_cnf = cnf.Cnf(root_dir+\"/emin/simulation/emin_1/emin_1.cnf\")"
   ]
  },
  {
   "cell_type": "code",
   "execution_count": null,
   "metadata": {},
   "outputs": [],
   "source": [
    "emin_cnf.visualize()"
   ]
  },
  {
   "cell_type": "code",
   "execution_count": null,
   "metadata": {},
   "outputs": [],
   "source": []
  },
  {
   "cell_type": "markdown",
   "metadata": {},
   "source": [
    "## DONE"
   ]
  },
  {
   "cell_type": "markdown",
   "metadata": {},
   "source": [
    "#### Dual Topology Approach"
   ]
  },
  {
   "cell_type": "code",
   "execution_count": null,
   "metadata": {
    "pycharm": {
     "name": "#%%\n"
    }
   },
   "outputs": [],
   "source": [
    "def generate_dual_topology_approach(cnfA, cnfB, topA, topB, eds:bool=False):\n",
    "    ##Atom Mapping\n",
    "    atom_mappingAB, smart = find_atom_mapping(cnfA=cnfA, cnfB=cnfB)\n",
    "    \n",
    "    ##Coordinates\n",
    "    cnfA, cnfB = align_cnfs_with_MCS(cnfA=cnfA, cnfB=cnfB, atom_mappingAB=atom_mappingAB)\n",
    "    cnf_comb = copy.deepcopy(cnfA)\n",
    "    #cnf_comb += cnfB # needs to be implemented\n",
    "    \n",
    "    for pos in cnfB.POSITION:\n",
    "        cnf_comb.POSITION.append(pos)\n",
    "    \n",
    "    cnf_comb.supress_atomPosition_singulrarities()\n",
    "\n",
    "\n",
    "    ##Top\n",
    "    nAtoms_top1 = len(top1.SOLUTEATOM)\n",
    "    top_comb = copy.deepcopy(top1)\n",
    "    top_comb += top2\n",
    "    \n",
    "    ### Pertubation\n",
    "    ptp_comb = ptp.Pertubation_topology()\n",
    "    \n",
    "    if(eds):\n",
    "        from pygromos.files.blocks.pertubation_blocks import MPERTATOM\n",
    "        from pygromos.files.blocks.pertubation_blocks import  atom_eds_pertubation_state, pertubation_eds_state\n",
    "\n",
    "        tops = [topA, topB]\n",
    "        dummyState = pertubation_eds_state(IAC=22, CHARGE=0)\n",
    "\n",
    "        numStates=len(tops)\n",
    "        IND = 1\n",
    "        atom_states = []\n",
    "        for top_ind, top in enumerate(tops):\n",
    "            for atom in top.SOLUTEATOM:        \n",
    "                states = {}\n",
    "                for ctop in range(ntops):\n",
    "                    if(ctop==top_ind):\n",
    "                        states.update({ctop+1:pertubation_eds_state(IAC=atom.IAC, CHARGE=atom.CG)})\n",
    "                    else:\n",
    "                        states.update({ctop+1:dummyState})\n",
    "\n",
    "                atom_ptp = atom_eds_pertubation_state(NR=IND, NAME=atom.PANM, STATES=states)\n",
    "                atom_states.append(atom_ptp)\n",
    "                IND+=1\n",
    "\n",
    "        ptp_comb.add_block(block=MPERTATOM(NJLA=len(atom_states), NPTB=numStates, STATEATOMS=atom_states))\n",
    "\n",
    "    else:\n",
    "        from pygromos.files.blocks.pertubation_blocks import PERTATOMPARAM\n",
    "        from pygromos.files.blocks.pertubation_blocks import  atom_lam_pertubation_state, pertubation_lam_state_nonbonded\n",
    "\n",
    "        tops = [topA, topB]\n",
    "        build_dummyState = lambda m: pertubation_lam_state_nonbonded(IAC=22, CHARGE=0, MASS=m)\n",
    "\n",
    "        numStates=len(tops)\n",
    "        IND = 1\n",
    "        atom_states = []\n",
    "        for top_ind, top in enumerate(tops):\n",
    "            for atom in top.SOLUTEATOM:        \n",
    "                states = {}\n",
    "                for ctop in range(ntops):\n",
    "                    if(ctop==top_ind):\n",
    "                        states.update({ctop+1:pertubation_lam_state_nonbonded(IAC=atom.IAC, CHARGE=atom.CG, MASS=atom.MASS)})\n",
    "                    else:\n",
    "                        states.update({ctop+1:build_dummyState(atom.MASS)})\n",
    "\n",
    "                atom_ptp = atom_lam_pertubation_state(NR=IND, RES=atom.MRES, NAME=atom.PANM, STATES=states,)\n",
    "                atom_states.append(atom_ptp)\n",
    "                IND+=1\n",
    "\n",
    "        ptp_comb.add_block(block=PERTATOMPARAM(NJLA=len(atom_states), STATEATOMS=atom_states))\n",
    "    \n",
    "    return cnf_comb, top_comb, ptp_comb"
   ]
  },
  {
   "cell_type": "code",
   "execution_count": null,
   "metadata": {},
   "outputs": [],
   "source": [
    "cnf_file, top_file, ptp_file = generate_dual_topology_approach(cnfA=cmol1, cnfB=cmol2, topA=top1, topB=top2)"
   ]
  },
  {
   "cell_type": "code",
   "execution_count": null,
   "metadata": {},
   "outputs": [],
   "source": [
    "cnf_file.visualize()"
   ]
  },
  {
   "cell_type": "code",
   "execution_count": null,
   "metadata": {},
   "outputs": [],
   "source": [
    "top_file.SOLUTEATOM"
   ]
  },
  {
   "cell_type": "code",
   "execution_count": null,
   "metadata": {},
   "outputs": [],
   "source": [
    "ptp_file"
   ]
  },
  {
   "cell_type": "markdown",
   "metadata": {},
   "source": [
    "#### Hybrid Topology Approach"
   ]
  },
  {
   "cell_type": "code",
   "execution_count": null,
   "metadata": {
    "pycharm": {
     "name": "#%%\n"
    }
   },
   "outputs": [],
   "source": [
    "def generate_hybrid_topology_approach(cnfA, cnfB, topA, topB):\n",
    "    ##Atom Mapping\n",
    "    atom_mappingAB, smart = find_atom_mapping(cnfA=cnfA, cnfB=cnfB)\n",
    "    \n",
    "    ##Coordinates\n",
    "    cnfA, cnfB = align_cnfs_with_MCS(cnfA=cnfA, cnfB=cnfB, atom_mappingAB=atom_mappingAB)\n",
    "    cnf_comb, present_atoms = merge_states(cnfA=cmol1, cnfB=cmol2, atomMatchingAB=atom_mappingAB, dist_tresh=0.0, _doNotChangeAtomType=True, _doUpdateAtomMapping=True) #no distance collapsing\n",
    "    \n",
    "    ##Top\n",
    "    \n",
    "    \n",
    "    ### Pertubation\n",
    "    \n",
    "    \n",
    "    return cnf_comb\n",
    "    #return cnf_comb, top_comb, ptp_comb"
   ]
  },
  {
   "cell_type": "code",
   "execution_count": null,
   "metadata": {},
   "outputs": [],
   "source": [
    "cnf_file= generate_hybrid_topology_approach(cnfA=cmol1, cnfB=cmol2, topA=top1, topB=top2)"
   ]
  },
  {
   "cell_type": "code",
   "execution_count": null,
   "metadata": {},
   "outputs": [],
   "source": [
    "cnf_file.visualize()"
   ]
  },
  {
   "cell_type": "code",
   "execution_count": null,
   "metadata": {},
   "outputs": [],
   "source": [
    "cnf_file"
   ]
  },
  {
   "cell_type": "markdown",
   "metadata": {},
   "source": [
    "#### Single Topology Approach"
   ]
  },
  {
   "cell_type": "code",
   "execution_count": null,
   "metadata": {
    "pycharm": {
     "name": "#%%\n"
    }
   },
   "outputs": [],
   "source": [
    "def generate_single_topology_approach(cnfA, cnfB, topA, topB):\n",
    "    ##Atom Mapping\n",
    "    atom_mappingAB, smart = find_atom_mapping(cnfA=cnfA, cnfB=cnfB)\n",
    "    \n",
    "    ##Coordinates\n",
    "    cnfA, cnfB = align_cnfs_with_MCS(cnfA=cnfA, cnfB=cnfB, atom_mappingAB=atom_mappingAB)\n",
    "    cnf_comb,present_atoms = merge_states(cnfA=cmol1, cnfB=cmol2, atomMatchingAB=atom_mappingAB, dist_tresh=0.09) #no distance collapsing\n",
    "    \n",
    "\n",
    "    return cnf_comb #, top_comb, ptp_comb"
   ]
  },
  {
   "cell_type": "code",
   "execution_count": null,
   "metadata": {},
   "outputs": [],
   "source": [
    "cnf_file= generate_single_topology_approach(cnfA=cmol1, cnfB=cmol2, topA=top1, topB=top2)"
   ]
  },
  {
   "cell_type": "code",
   "execution_count": null,
   "metadata": {},
   "outputs": [],
   "source": [
    "cnf_file.visualize()"
   ]
  },
  {
   "cell_type": "code",
   "execution_count": null,
   "metadata": {},
   "outputs": [],
   "source": [
    "cnf_file"
   ]
  },
  {
   "cell_type": "code",
   "execution_count": null,
   "metadata": {},
   "outputs": [],
   "source": []
  },
  {
   "cell_type": "code",
   "execution_count": null,
   "metadata": {},
   "outputs": [],
   "source": []
  }
 ],
 "metadata": {
  "kernelspec": {
   "display_name": "Python 3",
   "language": "python",
   "name": "python3"
  },
  "language_info": {
   "codemirror_mode": {
    "name": "ipython",
    "version": 3
   },
   "file_extension": ".py",
   "mimetype": "text/x-python",
   "name": "python",
   "nbconvert_exporter": "python",
   "pygments_lexer": "ipython3",
   "version": "3.7.11"
  }
 },
 "nbformat": 4,
 "nbformat_minor": 1
}
