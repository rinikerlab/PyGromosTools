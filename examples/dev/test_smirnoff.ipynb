{
 "cells": [
  {
   "cell_type": "code",
   "execution_count": null,
   "metadata": {},
   "outputs": [],
   "source": [
    "import pygromos\n",
    "from pygromos import files\n",
    "from pygromos.files.topology import *\n",
    "from pygromos.files.blocks.topology_blocks import *\n",
    "from rdkit import Chem\n",
    "from rdkit.Chem import AllChem\n",
    "from openforcefield.topology import Molecule, Topology\n",
    "from openforcefield.typing.engines import smirnoff\n",
    "from pygromos import data\n",
    "from pygromos.files.gromos_system import *\n",
    "from simtk.unit import *\n"
   ]
  },
  {
   "cell_type": "code",
   "execution_count": null,
   "metadata": {},
   "outputs": [],
   "source": [
    "ff = data.data_dir + \"/ff/SMIRNOFF/frosst_12-12-18.xml\"\n",
    "forcefield = smirnoff.ForceField(ff)"
   ]
  },
  {
   "cell_type": "code",
   "execution_count": null,
   "metadata": {},
   "outputs": [],
   "source": [
    "rdkmol=Chem.MolFromMolFile(\"/home/mlehner/Documents/dev/molecule_174.sdf\", removeHs = False)"
   ]
  },
  {
   "cell_type": "code",
   "execution_count": null,
   "metadata": {},
   "outputs": [],
   "source": [
    "moleculeFF = Molecule.from_rdkit(rdkmol)\n",
    "topology = Topology.from_molecules(moleculeFF)"
   ]
  },
  {
   "cell_type": "code",
   "execution_count": null,
   "metadata": {},
   "outputs": [],
   "source": [
    "moleculeFF.name"
   ]
  },
  {
   "cell_type": "code",
   "execution_count": null,
   "metadata": {},
   "outputs": [],
   "source": [
    "molecule_force_list = forcefield.label_molecules(topology)"
   ]
  },
  {
   "cell_type": "code",
   "execution_count": null,
   "metadata": {},
   "outputs": [],
   "source": [
    "top = Top(input=data.data_dir+\"/topology_templates/blank_template.top\")"
   ]
  },
  {
   "cell_type": "code",
   "execution_count": null,
   "metadata": {},
   "outputs": [],
   "source": [
    "for molecule in molecule_force_list:\n",
    "    for key in molecule[\"Bonds\"]:\n",
    "        force = molecule[\"Bonds\"][key]\n",
    "        #hQ = topology.atom(force[0]).atomic_number == 1 or topology.atom(force[1]).atomic_number == 1\n",
    "        hQ =  not all([topology.atom(x).atomic_number != 1 for x in key]) \n",
    "        top.add_new_bond(k=force.k.value_in_unit(kilojoule / (mole * nanometer ** 2)), b0=force.length.value_in_unit(nanometer), atomI=key[0]+1, atomJ=key[1]+1, includesH=hQ)"
   ]
  },
  {
   "cell_type": "code",
   "execution_count": null,
   "metadata": {},
   "outputs": [],
   "source": [
    "for molecule in molecule_force_list:\n",
    "    for key in molecule[\"Angles\"]:\n",
    "        force = molecule[\"Angles\"][key]\n",
    "        hQ =  not all([topology.atom(x).atomic_number != 1 for x in key])\n",
    "        top.add_new_angle(k=force.k.value_in_unit(kilojoule / (mole * radian ** 2)), b0=force.angle.value_in_unit(degree), atomI=key[0]+1, atomJ=key[1]+1, atomK=key[2]+1, includesH=hQ)"
   ]
  },
  {
   "cell_type": "code",
   "execution_count": null,
   "metadata": {},
   "outputs": [],
   "source": [
    "for molecule in molecule_force_list:\n",
    "    for key in molecule[\"ProperTorsions\"]:\n",
    "        force = molecule[\"ProperTorsions\"][key]\n",
    "        hQ =  not all([topology.atom(x).atomic_number != 1 for x in key])\n",
    "        atomI=key[0]+1\n",
    "        atomJ=key[1]+1\n",
    "        atomK=key[2]+1\n",
    "        atomL=key[3]+1\n",
    "        k_list = force.k\n",
    "        phase_list = force.phase\n",
    "        per_list = force.periodicity\n",
    "        for t in range(len(k_list)):\n",
    "            CP=k_list[t].value_in_unit(kilojoule/mole)\n",
    "            PD=phase_list[t].value_in_unit(degree)\n",
    "            NP=per_list[t]\n",
    "            top.add_new_torsiondihedral(CP=CP, PD=PD, NP=NP, atomI=atomI, atomJ=atomJ, atomK=atomK, atomL=atomL, includesH=hQ)"
   ]
  },
  {
   "cell_type": "code",
   "execution_count": null,
   "metadata": {},
   "outputs": [],
   "source": [
    "for molecule in molecule_force_list:\n",
    "    for key in molecule[\"ImproperTorsions\"]:\n",
    "        force = molecule[\"ImproperTorsions\"][key]\n",
    "        hQ =  not all([topology.atom(x).atomic_number != 1 for x in key])\n",
    "        atomI=key[0]+1\n",
    "        atomJ=key[1]+1\n",
    "        atomK=key[2]+1\n",
    "        atomL=key[3]+1\n",
    "        k_list = force.k\n",
    "        phase_list = force.phase\n",
    "        per_list = force.periodicity\n",
    "        for t in range(len(k_list)):\n",
    "            CP=k_list[t].value_in_unit(kilojoule/mole)\n",
    "            PD=phase_list[t].value_in_unit(degree)\n",
    "            NP=per_list[t]\n",
    "            top.add_new_torsiondihedral(CP=CP, PD=PD, NP=NP, atomI=atomI, atomJ=atomJ, atomK=atomK, atomL=atomL, includesH=hQ)\n",
    "if not hasattr(top, \"IMPDIHEDRALTYPE\"):\n",
    "    top.add_block(blocktitle=\"IMPDIHEDRALTYPE\", content=[])\n",
    "if not hasattr(top, \"IMPDIHEDRALH\"):\n",
    "    top.add_block(blocktitle=\"IMPDIHEDRALH\", content=[])\n",
    "if not hasattr(top, \"IMPDIHEDRAL\"):\n",
    "    top.add_block(blocktitle=\"IMPDIHEDRAL\", content=[])"
   ]
  },
  {
   "cell_type": "code",
   "execution_count": null,
   "metadata": {},
   "outputs": [],
   "source": [
    "exclusionlist=dict()"
   ]
  },
  {
   "cell_type": "code",
   "execution_count": null,
   "metadata": {},
   "outputs": [],
   "source": [
    "exclusionlist"
   ]
  },
  {
   "cell_type": "code",
   "execution_count": null,
   "metadata": {},
   "outputs": [],
   "source": [
    "exclusionlist=dict()\n",
    "for molecule in molecule_force_list:\n",
    "    for key in molecule[\"Bonds\"]:\n",
    "        if not str(key[0]) in exclusionlist.keys():\n",
    "            exclusionlist[str(key[0])] = {key[1]}\n",
    "        exclusionlist[str(key[0])].add(key[1])\n",
    "    for key in molecule[\"Angles\"]:\n",
    "        if not str(key[0]) in exclusionlist.keys():\n",
    "            exclusionlist[str(key[0])] = {key[1]}\n",
    "        exclusionlist[str(key[0])].add(key[1])\n",
    "        exclusionlist[str(key[0])].add(key[2])\n",
    "    for key in molecule[\"ProperTorsions\"]:\n",
    "        if not str(key[0]) in exclusionlist.keys():\n",
    "            exclusionlist[str(key[0])] = {key[1]}\n",
    "        exclusionlist[str(key[0])].add(key[1])\n",
    "        exclusionlist[str(key[0])].add(key[2])\n",
    "        exclusionlist[str(key[0])].add(key[3])\n",
    "    for key in molecule[\"ImproperTorsions\"]:\n",
    "        if not str(key[0]) in exclusionlist.keys():\n",
    "            exclusionlist[str(key[0])] = {key[1]}\n",
    "        exclusionlist[str(key[0])].add(key[1])\n",
    "        exclusionlist[str(key[0])].add(key[2])\n",
    "        exclusionlist[str(key[0])].add(key[3])"
   ]
  },
  {
   "cell_type": "code",
   "execution_count": null,
   "metadata": {},
   "outputs": [],
   "source": [
    "exclusionlist"
   ]
  },
  {
   "cell_type": "code",
   "execution_count": null,
   "metadata": {},
   "outputs": [],
   "source": [
    "moleculeFF.atoms[0].mass.value_in_unit(dalton)"
   ]
  },
  {
   "cell_type": "code",
   "execution_count": null,
   "metadata": {},
   "outputs": [],
   "source": [
    "moleculeFF.atoms[0].atomic_number"
   ]
  },
  {
   "cell_type": "code",
   "execution_count": null,
   "metadata": {},
   "outputs": [],
   "source": [
    "moleculeItr = 1\n",
    "for molecule in molecule_force_list:\n",
    "    for key in molecule[\"vdW\"]:\n",
    "        force = molecule[\"vdW\"][key]\n",
    "        ATNM = int(key[0]) + 1\n",
    "        MRES = moleculeItr\n",
    "        IAC = 0\n",
    "        MASS = moleculeFF.atoms[int(key[0])].mass.value_in_unit(dalton)\n",
    "        CG = 0\n",
    "        CGC = 0\n",
    "        if str(key[0]) in exclusionlist:\n",
    "            INE = list(exclusionlist[str(key[0])])\n",
    "        else:\n",
    "            INE = list()\n",
    "        INE14 = list()\n",
    "        epsilon = float(force.epsilon.value_in_unit(kilojoule_per_mole))\n",
    "        rmin = 2 * force.rmin_half.value_in_unit(nanometer)\n",
    "        C6 = 2 * epsilon * (rmin**6)\n",
    "        C12 = epsilon * (rmin**12)\n",
    "        IACname = force.id\n",
    "        print(force.smirks)\n",
    "        top.add_new_SOLUTEATOM(ATNM=ATNM, MRES=MRES, IAC=IAC, MASS=MASS, CG=CG, CGC=CGC, INE=INE, INE14=INE14, C6=C6, C12=C12, IACname=IACname)\n",
    "    moleculeItr += 1 "
   ]
  },
  {
   "cell_type": "code",
   "execution_count": null,
   "metadata": {},
   "outputs": [],
   "source": [
    "len(moleculeFF.name)"
   ]
  },
  {
   "cell_type": "code",
   "execution_count": null,
   "metadata": {},
   "outputs": [],
   "source": [
    "if len(moleculeFF.name) >= 1:\n",
    "    top.add_new_resname(moleculeFF.name)\n",
    "else:\n",
    "    top.add_new_resname(moleculeFF.hill_formula)"
   ]
  },
  {
   "cell_type": "code",
   "execution_count": null,
   "metadata": {},
   "outputs": [],
   "source": [
    "top.TEMPERATUREGROUPS.content"
   ]
  },
  {
   "cell_type": "code",
   "execution_count": null,
   "metadata": {},
   "outputs": [],
   "source": [
    "moleculeFF.n_atoms"
   ]
  },
  {
   "cell_type": "code",
   "execution_count": null,
   "metadata": {},
   "outputs": [],
   "source": [
    "top.make_ordered()"
   ]
  },
  {
   "cell_type": "code",
   "execution_count": null,
   "metadata": {},
   "outputs": [],
   "source": [
    "print(top)"
   ]
  },
  {
   "cell_type": "code",
   "execution_count": null,
   "metadata": {},
   "outputs": [],
   "source": [
    "top2 = Top(input=data.data_dir+\"/topology_templates/blank_template.top\")"
   ]
  },
  {
   "cell_type": "code",
   "execution_count": null,
   "metadata": {},
   "outputs": [],
   "source": [
    "top3 = openforcefield2gromos.openforcefield2gromos(moleculeFF, gromosTop=top2, forcefield_name=data.data_dir + \"/ff/SMIRNOFF/frosst_12-12-18.xml\").convert_return()"
   ]
  },
  {
   "cell_type": "code",
   "execution_count": null,
   "metadata": {},
   "outputs": [],
   "source": [
    "top3.make_ordered()"
   ]
  },
  {
   "cell_type": "code",
   "execution_count": null,
   "metadata": {},
   "outputs": [],
   "source": [
    "print(top3)"
   ]
  },
  {
   "cell_type": "code",
   "execution_count": null,
   "metadata": {},
   "outputs": [],
   "source": [
    "from pygromos.gromos import gromosPP, gromosXX"
   ]
  },
  {
   "cell_type": "code",
   "execution_count": null,
   "metadata": {},
   "outputs": [],
   "source": [
    "gromosPP.GromosPP(bin_path=\"/home/mlehner/gromosPlsPls/gromos++/BUILD/programs\")"
   ]
  },
  {
   "cell_type": "code",
   "execution_count": null,
   "metadata": {},
   "outputs": [],
   "source": [
    "top3._orig_file_path = \"/home/mlehner/Documents/dev/temp19/top3.top\""
   ]
  },
  {
   "cell_type": "code",
   "execution_count": null,
   "metadata": {},
   "outputs": [],
   "source": [
    "top3.write(\"/home/mlehner/Documents/dev/temp19/top3.top\")"
   ]
  },
  {
   "cell_type": "code",
   "execution_count": null,
   "metadata": {},
   "outputs": [],
   "source": [
    "top4 = openforcefield2gromos(moleculeFF).convert_return()"
   ]
  },
  {
   "cell_type": "code",
   "execution_count": null,
   "metadata": {},
   "outputs": [],
   "source": [
    "top4.make_ordered()"
   ]
  },
  {
   "cell_type": "code",
   "execution_count": null,
   "metadata": {},
   "outputs": [],
   "source": [
    "print(top4)"
   ]
  },
  {
   "cell_type": "code",
   "execution_count": null,
   "metadata": {},
   "outputs": [],
   "source": [
    "top5 = openforcefield2gromos(moleculeFF, gromosTop=Top(input=None)).convert_return()"
   ]
  },
  {
   "cell_type": "code",
   "execution_count": null,
   "metadata": {},
   "outputs": [],
   "source": [
    "top5.make_ordered()"
   ]
  },
  {
   "cell_type": "code",
   "execution_count": null,
   "metadata": {},
   "outputs": [],
   "source": [
    "print(top5)"
   ]
  },
  {
   "cell_type": "code",
   "execution_count": null,
   "metadata": {},
   "outputs": [],
   "source": [
    "top5.write(\"/home/mlehner/Documents/dev/test2.top\")"
   ]
  },
  {
   "cell_type": "code",
   "execution_count": null,
   "metadata": {},
   "outputs": [],
   "source": [
    "mol2=AllChem.MolFromSmarts(\"[C:1]=C(C)C(=O)OC\")"
   ]
  },
  {
   "cell_type": "code",
   "execution_count": null,
   "metadata": {},
   "outputs": [],
   "source": [
    "mol2"
   ]
  },
  {
   "cell_type": "code",
   "execution_count": null,
   "metadata": {},
   "outputs": [],
   "source": [
    "for a in mol2.GetAtoms():\n",
    "    print(a.GetAtomicNum())\n",
    "    print(a.GetIdx())\n",
    "    print(a.GetTotalNumHs())\n",
    "    print(a.GetAtomMapNum())\n",
    "    print(\"----------------\")"
   ]
  },
  {
   "cell_type": "code",
   "execution_count": null,
   "metadata": {},
   "outputs": [],
   "source": [
    "AllChem.MolFromSmarts(\"[#16][#6]=[#6:1]([#6])[#8][#6]\")"
   ]
  },
  {
   "cell_type": "code",
   "execution_count": null,
   "metadata": {},
   "outputs": [],
   "source": []
  }
 ],
 "metadata": {
  "language_info": {
   "name": "python"
  }
 },
 "nbformat": 4,
 "nbformat_minor": 2
}
