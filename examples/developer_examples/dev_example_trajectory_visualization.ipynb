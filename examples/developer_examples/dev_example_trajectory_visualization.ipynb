{
 "cells": [
  {
   "cell_type": "markdown",
   "id": "8239abda-7611-444e-92cb-05963c470bd7",
   "metadata": {
    "tags": []
   },
   "source": [
    "# PyGromos Visualization Example"
   ]
  },
  {
   "cell_type": "markdown",
   "id": "82900ea0-c687-4563-b0f6-8eac53934556",
   "metadata": {},
   "source": [
    "### Author: Paul Katzberger"
   ]
  },
  {
   "cell_type": "code",
   "execution_count": null,
   "id": "70aa47e8-1233-42ec-a6b2-85fc29197d5a",
   "metadata": {},
   "outputs": [],
   "source": [
    "from pygromos.files.trajectory.trc import Trc\n",
    "import sys"
   ]
  },
  {
   "cell_type": "markdown",
   "id": "369107eb-036d-4e00-8430-a81b7af3c728",
   "metadata": {},
   "source": [
    "## Load Trajectory"
   ]
  },
  {
   "cell_type": "code",
   "execution_count": null,
   "id": "b337c5ad-fe17-48a9-a764-2e7cfe3f8e2d",
   "metadata": {},
   "outputs": [],
   "source": [
    "t = Trc(traj_path='../example_files/Traj_files/b_emin_vacuum_1.trc',\n",
    "          in_cnf='../example_files/Traj_files/b_emin_vacuum.cnf')"
   ]
  },
  {
   "cell_type": "code",
   "execution_count": null,
   "id": "409e958b",
   "metadata": {},
   "outputs": [],
   "source": [
    "from pygromos.files.coord.cnf import Cnf\n",
    "Cnf('../example_files/Traj_files/b_emin_vacuum.cnf').GENBOX"
   ]
  },
  {
   "cell_type": "code",
   "execution_count": null,
   "id": "da5fc3a1",
   "metadata": {},
   "outputs": [],
   "source": [
    "t.to_cnf(base_cnf='../example_files/Traj_files/b_emin_vacuum.cnf')"
   ]
  },
  {
   "cell_type": "code",
   "execution_count": null,
   "id": "132f8441",
   "metadata": {},
   "outputs": [],
   "source": [
    "t.unitcell_lengths[60]"
   ]
  },
  {
   "cell_type": "code",
   "execution_count": null,
   "id": "b6779e4d",
   "metadata": {},
   "outputs": [],
   "source": [
    "t._unitcell_lengths"
   ]
  },
  {
   "cell_type": "markdown",
   "id": "f365f7b1-ca81-42eb-9fdb-f5f1775cc416",
   "metadata": {},
   "source": [
    "## Create Visualization"
   ]
  },
  {
   "cell_type": "code",
   "execution_count": null,
   "id": "b1200a58-b534-41c3-b351-f2927126a28f",
   "metadata": {},
   "outputs": [],
   "source": [
    "t.view"
   ]
  },
  {
   "cell_type": "markdown",
   "id": "ae53eead-5654-435d-804c-5b34297f1ca5",
   "metadata": {},
   "source": [
    "## Do some changes and see how the visualization changes"
   ]
  },
  {
   "cell_type": "markdown",
   "id": "4a339b02-35b4-4063-8920-f6e1de81792b",
   "metadata": {},
   "source": [
    "### press play or select frame directly (i.e. 70)"
   ]
  },
  {
   "cell_type": "code",
   "execution_count": null,
   "id": "bc3169c8-e7f8-4759-a12a-374de9857646",
   "metadata": {},
   "outputs": [],
   "source": [
    "t.view.frame = 70"
   ]
  },
  {
   "cell_type": "markdown",
   "id": "98a13ac6-e07a-4bb3-966c-0b4ef636b612",
   "metadata": {},
   "source": [
    "### show hydrogen Bonds"
   ]
  },
  {
   "cell_type": "code",
   "execution_count": null,
   "id": "8834362f-50f1-42e1-90b1-2f1bf82a1b9a",
   "metadata": {},
   "outputs": [],
   "source": [
    "t.view.add_contact(hydrogenBond=True)"
   ]
  },
  {
   "cell_type": "markdown",
   "id": "4a9ba34d-06a2-4d3e-90d6-ee9f4a7cbfab",
   "metadata": {},
   "source": [
    "### add surface"
   ]
  },
  {
   "cell_type": "code",
   "execution_count": null,
   "id": "9a52832b-851b-4950-b7d4-013baad9074e",
   "metadata": {},
   "outputs": [],
   "source": [
    "t.view.add_surface(color=\"lightgrey\",opacity=0.3)"
   ]
  },
  {
   "cell_type": "markdown",
   "id": "c8814049-8c91-469a-9366-fe06e5d3a4f8",
   "metadata": {},
   "source": [
    "### remove surface"
   ]
  },
  {
   "cell_type": "code",
   "execution_count": null,
   "id": "10b257b9-7f15-4e95-9d3a-7457dbe8bcb4",
   "metadata": {},
   "outputs": [],
   "source": [
    "t.view.remove_surface()"
   ]
  },
  {
   "cell_type": "markdown",
   "id": "3f0fe172-840e-4385-98b3-662458d51662",
   "metadata": {},
   "source": [
    "### add transperent cartoon"
   ]
  },
  {
   "cell_type": "code",
   "execution_count": null,
   "id": "f918bc36-8317-4e29-b5e9-9a3d9bd20c98",
   "metadata": {},
   "outputs": [],
   "source": [
    "t.view.add_representation(\"cartoon\",selection=\"protein\",color='lightblue',opacity=0.3)"
   ]
  },
  {
   "cell_type": "markdown",
   "id": "13c34b80-3eb2-4477-ace9-6996d8671575",
   "metadata": {},
   "source": [
    "### show distance between atom pair"
   ]
  },
  {
   "cell_type": "code",
   "execution_count": null,
   "id": "ab63d665-939d-4e1d-af44-c53e76f0a3b1",
   "metadata": {},
   "outputs": [],
   "source": [
    "t.view.add_distance(atom_pair=[[10,16]], label_color=\"black\",color=\"darkgrey\")"
   ]
  },
  {
   "cell_type": "markdown",
   "id": "056334dd-3af9-4ce6-aec9-9ccbc2e546f7",
   "metadata": {},
   "source": [
    "### once you are happy with the result render and download image"
   ]
  },
  {
   "cell_type": "code",
   "execution_count": null,
   "id": "85c9a824-0b0f-4aeb-970a-5c52e9ecf290",
   "metadata": {},
   "outputs": [],
   "source": [
    "t.view.download_image('first_protein.png')"
   ]
  },
  {
   "cell_type": "markdown",
   "id": "6c7eb674-800a-4416-8377-2ce819a0bc24",
   "metadata": {},
   "source": [
    "### Go crazy and make a movie to show off"
   ]
  },
  {
   "cell_type": "code",
   "execution_count": null,
   "id": "88ae0440-91f0-41de-8d85-e632e537f00d",
   "metadata": {},
   "outputs": [],
   "source": [
    "### uncomment this for fast installation of NOT provided package\n",
    "# import sys\n",
    "# !{sys.executable} -m pip install moviepy\n",
    "\n",
    "import moviepy.editor as mpy\n",
    "from IPython import display\n",
    "from time import sleep\n",
    "import tqdm\n",
    "import os\n",
    "\n",
    "# Setup frames\n",
    "frames = len(t.step)\n",
    "template = '0image{}.png'\n",
    "download_dir = '/localhome/kpaul/Downloads/'\n",
    "imagefiles = [download_dir + template.format(str(i)) for i in range(0, frames, 1)]\n",
    "\n",
    "# render frames\n",
    "for frame in tqdm.tqdm(range(0, frames)):\n",
    "    t.view.frame = frame\n",
    "    sleep(0.2) # depending on the speed of the computer this might need to be increased\n",
    "    t.view.download_image(filename=template.format(frame))\n",
    "    sleep(1) # depending on the speed of the computer this might need to be increased\n",
    "\n",
    "# set frames per second and generate object\n",
    "frame_per_second = 8\n",
    "im = mpy.ImageSequenceClip(imagefiles, fps=frame_per_second)\n",
    "im.write_gif('protein.gif', fps=frame_per_second)\n",
    "\n",
    "# show movie\n",
    "display.HTML(\"<img src='protein.gif'></img>\")"
   ]
  },
  {
   "cell_type": "code",
   "execution_count": null,
   "id": "9ff538c0-74b4-42cb-bc49-6cbf61ad6b44",
   "metadata": {},
   "outputs": [],
   "source": []
  }
 ],
 "metadata": {
  "kernelspec": {
   "display_name": "Python 3 (ipykernel)",
   "language": "python",
   "name": "python3"
  },
  "language_info": {
   "codemirror_mode": {
    "name": "ipython",
    "version": 3
   },
   "file_extension": ".py",
   "mimetype": "text/x-python",
   "name": "python",
   "nbconvert_exporter": "python",
   "pygments_lexer": "ipython3",
   "version": "3.9.7"
  }
 },
 "nbformat": 4,
 "nbformat_minor": 5
}
