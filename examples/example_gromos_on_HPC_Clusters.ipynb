{
 "cells": [
  {
   "cell_type": "markdown",
   "id": "758ed277-d094-45f0-866b-6706487b3820",
   "metadata": {},
   "source": [
    "# Usage of PyGromosTools on HPC-cluster"
   ]
  },
  {
   "cell_type": "markdown",
   "id": "280b945a-7116-4913-9acf-5605f335f4db",
   "metadata": {},
   "source": [
    "\n",
    "Note that you need support for the new `PyGromosTools` submission system shipped with `relase3`.\n",
    "\n",
    "***\n",
    "**Note**:\n",
    "This notebook only works, if you have the LSF submission system on the machine you are unsing it on!\n",
    "***"
   ]
  },
  {
   "cell_type": "code",
   "execution_count": null,
   "id": "cd2a74b5-0e22-47a0-b54b-86d1ff8fa885",
   "metadata": {},
   "outputs": [],
   "source": [
    "# necessary imports are the Gromos_System and convenience functions emin and md\n",
    "from pygromos.simulations.hpc_queuing.submission_systems import lsf\n",
    "from pygromos.files.gromos_system.gromos_system import Gromos_System\n",
    "from pygromos.simulations.modules.preset_simulation_modules import emin, md\n",
    "\n",
    "submission_system = lsf.LSF(nmpi=3) # this is for IBMs job queue!"
   ]
  },
  {
   "cell_type": "markdown",
   "id": "c33c02b9-0973-4caa-9cde-1c62bb0c6d90",
   "metadata": {},
   "source": [
    "## Initialization\n",
    "Set up path to binaries and instantiate an initial `Gromos_System` object"
   ]
  },
  {
   "cell_type": "code",
   "execution_count": null,
   "id": "f9d29e64-73b4-4bda-9b49-c3da8333c906",
   "metadata": {},
   "outputs": [],
   "source": [
    "# binaries\n",
    "gromosPP = None\n",
    "gromosXX = None\n",
    "\n",
    "# folders and title\n",
    "system_name = \"menthol-dmf-example\"\n",
    "work_folder = f\"examples/example_files/{system_name}\"\n",
    "\n",
    "# files\n",
    "in_cnf_path = f\"example_files/submission-system-files/{system_name}-all-atom_54a7.cnf\"\n",
    "in_top_path = f\"example_files/submission-system-files/{system_name}-all-atom_54a7.top\"\n",
    "\n",
    "# system\n",
    "system = Gromos_System(\n",
    "    work_folder, \n",
    "    system_name, \n",
    "    in_top_path=in_top_path, \n",
    "    in_cnf_path=in_cnf_path,\n",
    "    in_gromosPP_bin_dir=gromosPP,\n",
    "    in_gromosXX_bin_dir=gromosXX,\n",
    "    submission_system=submission_system,\n",
    "    verbose=False\n",
    ")"
   ]
  },
  {
   "cell_type": "markdown",
   "id": "9bb9ad9a-435b-4a53-84b5-da72bd428334",
   "metadata": {},
   "source": [
    "## Energy minimization"
   ]
  },
  {
   "cell_type": "markdown",
   "id": "af05360b-478f-4b17-aa9c-42877f83ac6e",
   "metadata": {},
   "source": [
    "Take advantage of the new submission system: convenience functions such as `emin` take in a parametrized `Gromos_System` object, automatically set up the calculation and return a new `Gromos_System` object with updated file paths."
   ]
  },
  {
   "cell_type": "code",
   "execution_count": null,
   "id": "c81d1a74-7d0c-4cfe-8756-71a5b0063a44",
   "metadata": {},
   "outputs": [],
   "source": [
    "# run energy minimization\n",
    "minimized_system = emin(system)"
   ]
  },
  {
   "cell_type": "markdown",
   "id": "43f6192d-1cd5-44c1-83df-cc7553efde85",
   "metadata": {},
   "source": [
    "### Print out the new file paths"
   ]
  },
  {
   "cell_type": "markdown",
   "id": "1aeba268-928b-427d-a635-505573e09933",
   "metadata": {},
   "source": [
    "Note how the new `Gromos_System` object has new file paths associated with it."
   ]
  },
  {
   "cell_type": "code",
   "execution_count": null,
   "id": "8fe3fe44-fa4b-4c47-8a5a-09fa55b350dd",
   "metadata": {},
   "outputs": [],
   "source": [
    "print(minimized_system.imd.path)\n",
    "print(minimized_system.top.path)\n",
    "print(minimized_system.cnf.path)"
   ]
  },
  {
   "cell_type": "markdown",
   "id": "15407d36-688b-459a-a040-5d6fbe1d821f",
   "metadata": {},
   "source": [
    "### Visualize the minimized system"
   ]
  },
  {
   "cell_type": "code",
   "execution_count": null,
   "id": "c7859522-dc5a-4ad9-aa38-a4b8436562f9",
   "metadata": {},
   "outputs": [],
   "source": [
    "minimized_system.cnf.view"
   ]
  },
  {
   "cell_type": "markdown",
   "id": "6cff09ba-912f-444a-bbd6-41257f4bd983",
   "metadata": {},
   "source": [
    "**Note:** The new `Gromos_System` object has an .imd file associated (from the energy minimization). Using the object for a subsequent calculation requires the .imd to be reset (as shown below) or a new `Imd` object to be passed to the function `md`. Otherwise `md` will be based on the previous (emin) input file."
   ]
  },
  {
   "cell_type": "code",
   "execution_count": null,
   "id": "56a74099-4305-40da-a5d9-13614b54b5eb",
   "metadata": {},
   "outputs": [],
   "source": [
    "# Reset the old imd from emin \n",
    "minimized_system.imd = None"
   ]
  },
  {
   "cell_type": "markdown",
   "id": "c7576ef0-30ae-483b-b883-63c83f1f3835",
   "metadata": {},
   "source": [
    "## Equilibration followed by subsequent production runs"
   ]
  },
  {
   "cell_type": "code",
   "execution_count": null,
   "id": "853edff2-bf4e-481c-b1cb-22477eea2839",
   "metadata": {},
   "outputs": [],
   "source": [
    "md_system = md(minimized_system, equilibration_runs=1, simulation_runs=2)"
   ]
  },
  {
   "cell_type": "markdown",
   "id": "81c946c3-761b-44e1-bf36-0aee1745b75c",
   "metadata": {},
   "source": [
    "Again, note how the new `Gromos_System` object has new file paths associated with it."
   ]
  },
  {
   "cell_type": "code",
   "execution_count": null,
   "id": "5cde9523-4592-40cf-b514-2136e5502871",
   "metadata": {},
   "outputs": [],
   "source": [
    "print(md_system.imd.path)\n",
    "print(md_system.top.path)\n",
    "print(md_system.cnf.path)"
   ]
  },
  {
   "cell_type": "markdown",
   "id": "440b8cb0-97d7-4981-9068-edfeb0ca5bfe",
   "metadata": {},
   "source": [
    "### Visualize the last configuration"
   ]
  },
  {
   "cell_type": "code",
   "execution_count": null,
   "id": "4b331168-329f-4f19-9ed1-ed1b8641fefc",
   "metadata": {},
   "outputs": [],
   "source": [
    "md_system.cnf.view"
   ]
  }
 ],
 "metadata": {
  "language_info": {
   "name": "python"
  }
 },
 "nbformat": 4,
 "nbformat_minor": 5
}
