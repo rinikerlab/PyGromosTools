{
 "cells": [
  {
   "source": [
    "# Demonstartion of the PyGromosTools implementation of the Gromos++ program ran_box"
   ],
   "cell_type": "markdown",
   "metadata": {}
  },
  {
   "source": [
    "## Overview\n",
    "The program ran_box can generate liquid conformations from a single molecule topology and coordinate file. In the following notebook we show an example for the ussage of this program."
   ],
   "cell_type": "markdown",
   "metadata": {}
  },
  {
   "cell_type": "code",
   "execution_count": 1,
   "metadata": {
    "collapsed": true
   },
   "outputs": [],
   "source": [
    "\n",
    "import os\n",
    "from pygromos.gromos.pyGromosPP.ran_box import ran_box\n",
    "from pygromos.files.coord.cnf import Cnf"
   ]
  },
  {
   "cell_type": "code",
   "execution_count": 2,
   "outputs": [],
   "source": [
    "# define the paths to the single molecule topology and the single molecule conformation file\n",
    "root_dir = os.getcwd()+\"/example_files/tool_examples\"\n",
    "in_cnf_path = root_dir +\"/ran_box.cnf\"\n",
    "in_top_path = root_dir +\"/ran_box.top\"\n"
   ],
   "metadata": {
    "collapsed": false,
    "pycharm": {
     "name": "#%%\n"
    }
   }
  },
  {
   "cell_type": "code",
   "execution_count": 3,
   "metadata": {},
   "outputs": [],
   "source": [
    "#define some properties for the new liquid conformation\n",
    "nmols=42 #The number of molecules in the liquid box\n",
    "dens=1000 #The density of the liquid"
   ]
  },
  {
   "cell_type": "code",
   "execution_count": 4,
   "outputs": [],
   "source": [
    "#execute ran_box\n",
    "out_cnf = ran_box(in_top_path= in_top_path,\n",
    "        in_cnf_path= in_cnf_path,\n",
    "        out_cnf_path= root_dir+\"/out_ran_\"+str(nmols)+\"mol.cnf\",\n",
    "        nmolecule = nmols,\n",
    "        dens = dens)"
   ],
   "metadata": {
    "collapsed": false,
    "pycharm": {
     "name": "#%%\n"
    }
   }
  },
  {
   "cell_type": "code",
   "execution_count": 5,
   "metadata": {},
   "outputs": [
    {
     "output_type": "execute_result",
     "data": {
      "text/plain": [
       "'/home/mlehner/PyGromosTools/examples/example_files/tool_examples/out_ran_42mol.pdb'"
      ]
     },
     "metadata": {},
     "execution_count": 5
    }
   ],
   "source": [
    "#write the conformation to a pdb file\n",
    "cnfF = Cnf(out_cnf)\n",
    "cnfF.write_pdb(out_cnf.replace(\".cnf\", \".pdb\"))"
   ]
  },
  {
   "cell_type": "code",
   "execution_count": 6,
   "outputs": [
    {
     "output_type": "execute_result",
     "data": {
      "text/plain": [
       "TITLE\n",
       "42 * SOLV\n",
       "\n",
       "\t >>> Generated with python lib function_libs utilities. (riniker group)\n",
       "END\n",
       "POSITION\n",
       "# \t \n",
       "    1 SOLV  OW         1    0.818578841    0.525970602    1.130334600\n",
       "    1 SOLV  HW1        2    0.760397494    0.547159992    1.208870040\n",
       "    1 SOLV  HW2        3    0.773566567    0.556376918    1.046363339\n",
       "    2 SOLV  OW         4    0.302413707    0.545259410    1.029401010\n",
       "    2 SOLV  HW1        5    0.245071988    0.533171482    1.110442258\n",
       "    2 SOLV  HW2        6    0.260595876    0.612937492    0.968797645\n",
       "    3 SOLV  OW         7    0.581492746    0.872048263    1.116787239\n",
       "    3 SOLV  HW1        8    0.627006954    0.793609270    1.158949496\n",
       "    3 SOLV  HW2        9    0.516469179    0.839807161    1.047981217\n",
       "    4 SOLV  OW        10    0.771467870    1.114389235    1.104930323\n",
       "    4 SOLV  HW1       11    0.864830229    1.102188939    1.071218348\n",
       "    4 SOLV  HW2       12    0.750697862    1.043175933    1.172005609\n",
       "    5 SOLV  OW        13    1.344711676    1.136374485    0.607374651\n",
       "    5 SOLV  HW1       14    1.331232356    1.154398889    0.509930803\n",
       "    5 SOLV  HW2       15    1.402593594    1.055596111    0.618615616\n",
       "    6 SOLV  OW        16    0.515660841   -0.083385930    0.599871047\n",
       "    6 SOLV  HW1       17    0.603307072   -0.070891222    0.553353358\n",
       "    6 SOLV  HW2       18    0.472416780    0.005686650    0.613936898\n",
       "    7 SOLV  OW        19    1.595229656    0.600328737    1.034558416\n",
       "    7 SOLV  HW1       20    1.568711504    0.611393339    1.130351093\n",
       "    7 SOLV  HW2       21    1.685141783    0.556808690    1.029696684\n",
       "    8 SOLV  OW        22    0.259969517    1.640469499    0.592161935\n",
       "    8 SOLV  HW1       23    0.205991503    1.556278166    0.592422963\n",
       "    8 SOLV  HW2       24    0.310342967    1.647477555    0.506050239\n",
       "    9 SOLV  OW        25    1.641249182    1.386907916    1.114605842\n",
       "    9 SOLV  HW1       26    1.607946310    1.300060765    1.151353168\n",
       "    9 SOLV  HW2       27    1.703390430    1.369146771    1.038285278\n",
       "   10 SOLV  OW        28    0.007680014    1.114667404   -0.022226567\n",
       "   10 SOLV  HW1       29   -0.016774689    1.062489108   -0.103965588\n",
       "   10 SOLV  HW2       30   -0.075605378    1.145223971    0.023943350\n",
       "   11 SOLV  OW        31    0.776954740    1.371469634    1.309062830\n",
       "   11 SOLV  HW1       32    0.680010943    1.376007748    1.333211959\n",
       "   11 SOLV  HW2       33    0.832032414    1.369797671    1.392522256\n",
       "   12 SOLV  OW        34    0.535264755    0.527031397    0.508607866\n",
       "   12 SOLV  HW1       35    0.540228880    0.607287757    0.449142339\n",
       "   12 SOLV  HW2       36    0.439919481    0.498320938    0.517925046\n",
       "   13 SOLV  OW        37    0.837684721    1.096470456    1.605233636\n",
       "   13 SOLV  HW1       38    0.756129800    1.054123872    1.644698006\n",
       "   13 SOLV  HW2       39    0.914118614    1.087456521    1.669096226\n",
       "   14 SOLV  OW        40    0.497494401    1.622224997    0.232141072\n",
       "   14 SOLV  HW1       41    0.525264872    1.585038919    0.143552860\n",
       "   14 SOLV  HW2       42    0.516115334    1.554998501    0.303804735\n",
       "   15 SOLV  OW        43    0.477168814    1.056236836    1.882477635\n",
       "   15 SOLV  HW1       44    0.571419950    1.038374629    1.854201502\n",
       "   15 SOLV  HW2       45    0.453870078    1.151422397    1.862510176\n",
       "   16 SOLV  OW        46    1.013387637    0.248244979    0.227319863\n",
       "   16 SOLV  HW1       47    1.061126677    0.240826545    0.314885984\n",
       "   16 SOLV  HW2       48    1.058768039    0.316769257    0.170338603\n",
       "   17 SOLV  OW        49    0.778590804    0.332777097    0.579369709\n",
       "   17 SOLV  HW1       50    0.758104331    0.246453633    0.533213033\n",
       "   17 SOLV  HW2       51    0.853342531    0.379097230    0.531741502\n",
       "   18 SOLV  OW        52    0.476567381    0.544847976    0.788449722\n",
       "   18 SOLV  HW1       53    0.451040731    0.637662107    0.815575389\n",
       "   18 SOLV  HW2       54    0.541378314    0.507394839    0.854771868\n",
       "   19 SOLV  OW        55    0.029696617    1.857800767    1.391161930\n",
       "   19 SOLV  HW1       56    0.015272629    1.956406016    1.382745982\n",
       "   19 SOLV  HW2       57   -0.036926094    1.809423092    1.334391900\n",
       "   20 SOLV  OW        58    1.335698188    1.115523258    0.016801111\n",
       "   20 SOLV  HW1       59    1.406398647    1.060583268   -0.027751300\n",
       "   20 SOLV  HW2       60    1.284582479    1.058339163    0.080980431\n",
       "   21 SOLV  OW        61    1.693446548    1.589748866    1.560833385\n",
       "   21 SOLV  HW1       62    1.614696473    1.599890035    1.500026666\n",
       "   21 SOLV  HW2       63    1.662774837    1.593394401    1.655953193\n",
       "   22 SOLV  OW        64    1.622304322    1.391255706    0.864164818\n",
       "   22 SOLV  HW1       65    1.541837824    1.336612831    0.887427959\n",
       "   22 SOLV  HW2       66    1.647183885    1.374938824    0.768683991\n",
       "   23 SOLV  OW        67    1.323689409    0.223807774    0.521566424\n",
       "   23 SOLV  HW1       68    1.256480374    0.229712895    0.447742649\n",
       "   23 SOLV  HW2       69    1.323842562    0.309337847    0.573396963\n",
       "   24 SOLV  OW        70    0.302804412    0.765533736    0.291359982\n",
       "   24 SOLV  HW1       71    0.282928567    0.680814598    0.242070091\n",
       "   24 SOLV  HW2       72    0.232943531    0.833778990    0.269822479\n",
       "   25 SOLV  OW        73    1.385903558   -0.034677170    1.593679263\n",
       "   25 SOLV  HW1       74    1.396894451   -0.076629085    1.683796475\n",
       "   25 SOLV  HW2       75    1.288558892   -0.027667103    1.571845883\n",
       "   26 SOLV  OW        76   -0.036817355    1.338362411    0.808592041\n",
       "   26 SOLV  HW1       77    0.048538134    1.343543852    0.756731961\n",
       "   26 SOLV  HW2       78   -0.016379591    1.318806776    0.904517515\n",
       "   27 SOLV  OW        79    0.318654182    0.237051385    1.339883628\n",
       "   27 SOLV  HW1       80    0.282049071    0.323599069    1.305657336\n",
       "   27 SOLV  HW2       81    0.280223725    0.218033713    1.430234331\n",
       "   28 SOLV  OW        82    1.640936195    0.542383792    1.878765506\n",
       "   28 SOLV  HW1       83    1.640423509    0.594423568    1.793363669\n",
       "   28 SOLV  HW2       84    1.682499530    0.597512967    1.951119392\n",
       "   29 SOLV  OW        85    1.117829839    0.282540347    1.567606470\n",
       "   29 SOLV  HW1       86    1.058850467    0.240223296    1.498812752\n",
       "   29 SOLV  HW2       87    1.111222232    0.231285198    1.653228142\n",
       "   30 SOLV  OW        88    1.271013618    1.358272951    0.285153050\n",
       "   30 SOLV  HW1       89    1.337021570    1.431650582    0.269011544\n",
       "   30 SOLV  HW2       90    1.313690061    1.286621955    0.340349767\n",
       "   31 SOLV  OW        91    0.535614182    1.085908722   -0.072352951\n",
       "   31 SOLV  HW1       92    0.476960659    1.031812599   -0.012059930\n",
       "   31 SOLV  HW2       93    0.612742702    1.122181087   -0.020033466\n",
       "   32 SOLV  OW        94    0.761100726    0.243279283    0.000467970\n",
       "   32 SOLV  HW1       95    0.804900758    0.271918032    0.085692697\n",
       "   32 SOLV  HW2       96    0.758548008    0.320352549   -0.063211044\n",
       "   33 SOLV  OW        97    1.073603231    1.900738935    0.824725823\n",
       "   33 SOLV  HW1       98    1.086066262    1.957775293    0.743526060\n",
       "   33 SOLV  HW2       99    1.095610507    1.953938936    0.906501499\n",
       "   34 SOLV  OW       100    0.007289869    1.585632376    0.833432688\n",
       "   34 SOLV  HW1      101   -0.011926784    1.641858956    0.913876250\n",
       "   34 SOLV  HW2      102   -0.036757734    1.626039915    0.753252510\n",
       "   35 SOLV  OW       103    1.643166303    0.340201029    0.557621212\n",
       "   35 SOLV  HW1      104    1.707170253    0.352696252    0.481797479\n",
       "   35 SOLV  HW2      105    1.646708040    0.245277235    0.588906207\n",
       "   36 SOLV  OW       106    0.493851280    1.046376293    1.270587861\n",
       "   36 SOLV  HW1      107    0.472606396    1.033730874    1.367493088\n",
       "   36 SOLV  HW2      108    0.592775441    1.055520114    1.259089058\n",
       "   37 SOLV  OW       109    0.867359575    1.919886250    1.070476405\n",
       "   37 SOLV  HW1      110    0.897673510    1.841499032    1.124683270\n",
       "   37 SOLV  HW2      111    0.782584219    1.896626914    1.022790308\n",
       "   38 SOLV  OW       112    1.919324238    1.935051229    1.003539879\n",
       "   38 SOLV  HW1      113    1.922356208    1.840628308    1.036357464\n",
       "   38 SOLV  HW2      114    1.903634545    1.996662137    1.080739302\n",
       "   39 SOLV  OW       115    1.060461388    1.353708341    1.890895895\n",
       "   39 SOLV  HW1      116    1.032804712    1.293302838    1.965649880\n",
       "   39 SOLV  HW2      117    1.095578032    1.298859199    1.814999818\n",
       "   40 SOLV  OW       118    1.575035957    1.624976324    1.860243866\n",
       "   40 SOLV  HW1      119    1.540653918    1.717699487    1.875149068\n",
       "   40 SOLV  HW2      120    1.667748335    1.629410045    1.823007075\n",
       "   41 SOLV  OW       121    1.334442358    1.641808378    1.913977239\n",
       "   41 SOLV  HW1      122    1.397851460    1.707061426    1.872465790\n",
       "   41 SOLV  HW2      123    1.361320452    1.624971754    2.008824051\n",
       "   42 SOLV  OW       124    1.293341393    1.629116954    0.866721550\n",
       "   42 SOLV  HW1      125    1.371995759    1.688807666    0.882608157\n",
       "   42 SOLV  HW2      126    1.233661478    1.670278518    0.797831385\n",
       "END\n",
       "GENBOX\n",
       "    1\n",
       "    1.079069102    1.079069102    1.079069102\n",
       "   90.000000000   90.000000000   90.000000000\n",
       "    0.000000000    0.000000000    0.000000000\n",
       "    0.000000000    0.000000000    0.000000000\n",
       "END"
      ]
     },
     "metadata": {},
     "execution_count": 6
    }
   ],
   "source": [
    "# printing the new liquid conformation. The pdb can visualized with software packages like pymol.\n",
    "cnfF"
   ],
   "metadata": {
    "collapsed": false,
    "pycharm": {
     "name": "#%%\n"
    }
   }
  },
  {
   "cell_type": "code",
   "execution_count": null,
   "metadata": {},
   "outputs": [],
   "source": []
  }
 ],
 "metadata": {
  "kernelspec": {
   "name": "python3710jvsc74a57bd0ddb0af3a42f65acf40176f4fb9c9d2afa44c22abdfc190cf6e36121ca9a2c49e",
   "display_name": "Python 3.7.10 64-bit ('pygro': conda)"
  },
  "language_info": {
   "codemirror_mode": {
    "name": "ipython",
    "version": 2
   },
   "file_extension": ".py",
   "mimetype": "text/x-python",
   "name": "python",
   "nbconvert_exporter": "python",
   "pygments_lexer": "ipython2",
   "version": "3.7.10"
  }
 },
 "nbformat": 4,
 "nbformat_minor": 0
}