{
 "cells": [
  {
   "cell_type": "markdown",
   "metadata": {
    "pycharm": {
     "name": "#%% md\n"
    }
   },
   "source": [
    "# Gromos Tutorial\n",
    "This tutorial will provide a quick introduction to how to setup, perform and analyze a MD simulation of a peptide in Gromos.\n",
    "\n",
    "First we will generated the required input files, afterwards the simulation will be prepared with energy minimizations and equilibration.\n",
    "Finally a short MD simulation will be executed and quickly analyzed.\n",
    "\n",
    "But first some minor definitions will be prepared."
   ]
  },
  {
   "cell_type": "code",
   "execution_count": 1,
   "metadata": {
    "execution": {
     "iopub.execute_input": "2022-04-05T06:50:54.187010Z",
     "iopub.status.busy": "2022-04-05T06:50:54.186477Z",
     "iopub.status.idle": "2022-04-05T06:50:54.588507Z",
     "shell.execute_reply": "2022-04-05T06:50:54.587726Z"
    }
   },
   "outputs": [],
   "source": [
    "import os\n",
    "# Check if the path to this pacakge is set, else try to add it.\n",
    "try:\n",
    "    import pygromos\n",
    "except:\n",
    "    import os, sys, copy\n",
    "    root_dir = os.getcwd()\n",
    "    sys.path.append(root_dir+\"/..\")\n",
    "\n",
    "    #if package is not installed and path not set correct - this helps you out :)\n",
    "    import pygromos\n",
    "\n",
    "from pygromos.utils import bash\n"
   ]
  },
  {
   "cell_type": "code",
   "execution_count": 2,
   "metadata": {
    "execution": {
     "iopub.execute_input": "2022-04-05T06:50:54.592204Z",
     "iopub.status.busy": "2022-04-05T06:50:54.591960Z",
     "iopub.status.idle": "2022-04-05T06:50:54.596990Z",
     "shell.execute_reply": "2022-04-05T06:50:54.595699Z"
    }
   },
   "outputs": [],
   "source": [
    "#General path definitions:\n",
    "## Project dir - The project dir will contain  all files and results generated from this notebook. \n",
    "project_dir = os.path.abspath(\"example_files/Tutorial_System\")\n",
    "input_dir = project_dir+\"/input\" # contains prepared files (pdb of the peptide)\n",
    "\n",
    "## Gromos Bin Path\n",
    "gromosXX_bin = None\n",
    "gromosPP_bin = None #None uses the Path variable - can be used . if you require a specific compiled gromos version, add a path here.\n",
    "\n"
   ]
  },
  {
   "cell_type": "markdown",
   "metadata": {
    "pycharm": {
     "name": "#%% md\n"
    }
   },
   "source": [
    "## Build the input files\n",
    "When a simulation study of a particular system or process is to be carried out, a number of choices have to\n",
    "be made with respect to the set-up of the simulation. \n",
    "\n",
    "In PyGromosTools, the central hub to manage all these files is a GromosSystem object. Each file can be stored or generated with this object and it can be used to construct the system, that should be simulated.\n",
    "\n",
    "\n",
    "The essential files of a Simulation are:\n",
    "* a topology file, containing all the topological and force-field information of the molecular system to be studied.\n",
    "* a coordinate file, representing the system of interest.\n",
    "* a simulation parameter file, telling the simulation engine, which simulation technique should be used and which physical parameters should be set.\n",
    "  \n"
   ]
  },
  {
   "cell_type": "code",
   "execution_count": 3,
   "metadata": {
    "execution": {
     "iopub.execute_input": "2022-04-05T06:50:54.601623Z",
     "iopub.status.busy": "2022-04-05T06:50:54.601148Z",
     "iopub.status.idle": "2022-04-05T06:50:57.292852Z",
     "shell.execute_reply": "2022-04-05T06:50:57.292076Z"
    }
   },
   "outputs": [
    {
     "data": {
      "application/vnd.jupyter.widget-view+json": {
       "model_id": "50652ad196874698b4afe20a1ea6ec12",
       "version_major": 2,
       "version_minor": 0
      },
      "text/plain": []
     },
     "metadata": {},
     "output_type": "display_data"
    },
    {
     "name": "stderr",
     "output_type": "stream",
     "text": [
      "mkdir: cannot create directory ‘/home/mlehner/PyGromosTools/docs/sphinx_project/Tutorials/example_files/Tutorial_System’: No such file or directory\n"
     ]
    },
    {
     "ename": "OSError",
     "evalue": "could not make folder:\n /home/mlehner/PyGromosTools/docs/sphinx_project/Tutorials/example_files/Tutorial_System",
     "output_type": "error",
     "traceback": [
      "\u001b[0;31m---------------------------------------------------------------------------\u001b[0m",
      "\u001b[0;31mOSError\u001b[0m                                   Traceback (most recent call last)",
      "\u001b[0;32m/tmp/ipykernel_17840/1053758766.py\u001b[0m in \u001b[0;36m<module>\u001b[0;34m\u001b[0m\n\u001b[1;32m      2\u001b[0m \u001b[0;34m\u001b[0m\u001b[0m\n\u001b[1;32m      3\u001b[0m \u001b[0;31m# Build Gromos System object\u001b[0m\u001b[0;34m\u001b[0m\u001b[0;34m\u001b[0m\u001b[0m\n\u001b[0;32m----> 4\u001b[0;31m \u001b[0mbuild_system\u001b[0m \u001b[0;34m=\u001b[0m \u001b[0mGromos_System\u001b[0m\u001b[0;34m(\u001b[0m\u001b[0mwork_folder\u001b[0m\u001b[0;34m=\u001b[0m\u001b[0mproject_dir\u001b[0m\u001b[0;34m,\u001b[0m \u001b[0msystem_name\u001b[0m\u001b[0;34m=\u001b[0m\u001b[0;34m'peptide'\u001b[0m\u001b[0;34m)\u001b[0m\u001b[0;34m\u001b[0m\u001b[0;34m\u001b[0m\u001b[0m\n\u001b[0m\u001b[1;32m      5\u001b[0m \u001b[0;34m\u001b[0m\u001b[0m\n\u001b[1;32m      6\u001b[0m \u001b[0;31m#set file building folder\u001b[0m\u001b[0;34m\u001b[0m\u001b[0;34m\u001b[0m\u001b[0m\n",
      "\u001b[0;32m~/PyGromosTools/pygromos/files/gromos_system/gromos_system.py\u001b[0m in \u001b[0;36m__init__\u001b[0;34m(self, work_folder, system_name, rdkitMol, in_mol2_file, readIn, forcefield, auto_convert, adapt_imd_automatically, verbose, in_smiles, in_residue_list, in_top_path, in_cnf_path, in_imd_path, in_disres_path, in_ptp_path, in_posres_path, in_refpos_path, in_qmmm_path, in_gromosXX_bin_dir, in_gromosPP_bin_dir)\u001b[0m\n\u001b[1;32m    226\u001b[0m             \u001b[0;34m\"qmmm\"\u001b[0m\u001b[0;34m:\u001b[0m \u001b[0min_qmmm_path\u001b[0m\u001b[0;34m,\u001b[0m\u001b[0;34m\u001b[0m\u001b[0;34m\u001b[0m\u001b[0m\n\u001b[1;32m    227\u001b[0m         }\n\u001b[0;32m--> 228\u001b[0;31m         \u001b[0mself\u001b[0m\u001b[0;34m.\u001b[0m\u001b[0mparse_attribute_files\u001b[0m\u001b[0;34m(\u001b[0m\u001b[0mfile_mapping\u001b[0m\u001b[0;34m,\u001b[0m \u001b[0mreadIn\u001b[0m\u001b[0;34m=\u001b[0m\u001b[0mreadIn\u001b[0m\u001b[0;34m,\u001b[0m \u001b[0mverbose\u001b[0m\u001b[0;34m=\u001b[0m\u001b[0mverbose\u001b[0m\u001b[0;34m)\u001b[0m\u001b[0;34m\u001b[0m\u001b[0;34m\u001b[0m\u001b[0m\n\u001b[0m\u001b[1;32m    229\u001b[0m \u001b[0;34m\u001b[0m\u001b[0m\n\u001b[1;32m    230\u001b[0m         \u001b[0;31m# System Information:\u001b[0m\u001b[0;34m\u001b[0m\u001b[0;34m\u001b[0m\u001b[0m\n",
      "\u001b[0;32m~/PyGromosTools/pygromos/files/gromos_system/gromos_system.py\u001b[0m in \u001b[0;36mparse_attribute_files\u001b[0;34m(self, file_mapping, readIn, verbose)\u001b[0m\n\u001b[1;32m    828\u001b[0m         \u001b[0;31m# Check if system folder is present\u001b[0m\u001b[0;34m\u001b[0m\u001b[0;34m\u001b[0m\u001b[0m\n\u001b[1;32m    829\u001b[0m         \u001b[0;32mif\u001b[0m \u001b[0;32mnot\u001b[0m \u001b[0mos\u001b[0m\u001b[0;34m.\u001b[0m\u001b[0mpath\u001b[0m\u001b[0;34m.\u001b[0m\u001b[0mexists\u001b[0m\u001b[0;34m(\u001b[0m\u001b[0mself\u001b[0m\u001b[0;34m.\u001b[0m\u001b[0m_work_folder\u001b[0m\u001b[0;34m)\u001b[0m\u001b[0;34m:\u001b[0m\u001b[0;34m\u001b[0m\u001b[0;34m\u001b[0m\u001b[0m\n\u001b[0;32m--> 830\u001b[0;31m             \u001b[0mbash\u001b[0m\u001b[0;34m.\u001b[0m\u001b[0mmake_folder\u001b[0m\u001b[0;34m(\u001b[0m\u001b[0mself\u001b[0m\u001b[0;34m.\u001b[0m\u001b[0m_work_folder\u001b[0m\u001b[0;34m)\u001b[0m\u001b[0;34m\u001b[0m\u001b[0;34m\u001b[0m\u001b[0m\n\u001b[0m\u001b[1;32m    831\u001b[0m         \u001b[0mcheck_file_paths\u001b[0m\u001b[0;34m.\u001b[0m\u001b[0mappend\u001b[0m\u001b[0;34m(\u001b[0m\u001b[0mself\u001b[0m\u001b[0;34m.\u001b[0m\u001b[0m_work_folder\u001b[0m\u001b[0;34m)\u001b[0m\u001b[0;34m\u001b[0m\u001b[0;34m\u001b[0m\u001b[0m\n\u001b[1;32m    832\u001b[0m \u001b[0;34m\u001b[0m\u001b[0m\n",
      "\u001b[0;32m~/PyGromosTools/pygromos/utils/bash.py\u001b[0m in \u001b[0;36mmake_folder\u001b[0;34m(in_directory_path, additional_option, verbose)\u001b[0m\n\u001b[1;32m    556\u001b[0m     \u001b[0;32mif\u001b[0m \u001b[0;32mnot\u001b[0m \u001b[0mos\u001b[0m\u001b[0;34m.\u001b[0m\u001b[0mpath\u001b[0m\u001b[0;34m.\u001b[0m\u001b[0misdir\u001b[0m\u001b[0;34m(\u001b[0m\u001b[0min_directory_path\u001b[0m\u001b[0;34m)\u001b[0m\u001b[0;34m:\u001b[0m\u001b[0;34m\u001b[0m\u001b[0;34m\u001b[0m\u001b[0m\n\u001b[1;32m    557\u001b[0m         \u001b[0;32mif\u001b[0m \u001b[0mos\u001b[0m\u001b[0;34m.\u001b[0m\u001b[0msystem\u001b[0m\u001b[0;34m(\u001b[0m\u001b[0mmk_folder\u001b[0m\u001b[0;34m)\u001b[0m\u001b[0;34m:\u001b[0m\u001b[0;34m\u001b[0m\u001b[0;34m\u001b[0m\u001b[0m\n\u001b[0;32m--> 558\u001b[0;31m             \u001b[0;32mraise\u001b[0m \u001b[0mOSError\u001b[0m\u001b[0;34m(\u001b[0m\u001b[0;34m\"could not make folder:\\n \"\u001b[0m \u001b[0;34m+\u001b[0m \u001b[0mstr\u001b[0m\u001b[0;34m(\u001b[0m\u001b[0min_directory_path\u001b[0m\u001b[0;34m)\u001b[0m\u001b[0;34m)\u001b[0m\u001b[0;34m\u001b[0m\u001b[0;34m\u001b[0m\u001b[0m\n\u001b[0m\u001b[1;32m    559\u001b[0m \u001b[0;34m\u001b[0m\u001b[0m\n\u001b[1;32m    560\u001b[0m     \u001b[0;32melif\u001b[0m \u001b[0mverbose\u001b[0m\u001b[0;34m:\u001b[0m\u001b[0;34m\u001b[0m\u001b[0;34m\u001b[0m\u001b[0m\n",
      "\u001b[0;31mOSError\u001b[0m: could not make folder:\n /home/mlehner/PyGromosTools/docs/sphinx_project/Tutorials/example_files/Tutorial_System"
     ]
    }
   ],
   "source": [
    "from pygromos.files.gromos_system import Gromos_System\n",
    "\n",
    "# Build Gromos System object\n",
    "build_system = Gromos_System(work_folder=project_dir, system_name='peptide')\n",
    "\n",
    "#set file building folder\n",
    "build_system.work_folder = bash.make_folder(project_dir+\"/a_build_initial_files\")\n"
   ]
  },
  {
   "cell_type": "markdown",
   "metadata": {},
   "source": [
    "**Expert Tip**:\n",
    "Whenever you wonder about what a class or a function in our package does, you can use the standard help function of Python to get the information of the Docstring of the source code! This often helps understanding the code."
   ]
  },
  {
   "cell_type": "code",
   "execution_count": 4,
   "metadata": {
    "execution": {
     "iopub.execute_input": "2022-04-05T06:50:57.295855Z",
     "iopub.status.busy": "2022-04-05T06:50:57.295608Z",
     "iopub.status.idle": "2022-04-05T06:50:57.304415Z",
     "shell.execute_reply": "2022-04-05T06:50:57.303650Z"
    }
   },
   "outputs": [
    {
     "ename": "NameError",
     "evalue": "name 'build_system' is not defined",
     "output_type": "error",
     "traceback": [
      "\u001b[0;31m---------------------------------------------------------------------------\u001b[0m",
      "\u001b[0;31mNameError\u001b[0m                                 Traceback (most recent call last)",
      "\u001b[0;32m/tmp/ipykernel_17840/3319414443.py\u001b[0m in \u001b[0;36m<module>\u001b[0;34m\u001b[0m\n\u001b[0;32m----> 1\u001b[0;31m \u001b[0mhelp\u001b[0m\u001b[0;34m(\u001b[0m\u001b[0mbuild_system\u001b[0m\u001b[0;34m)\u001b[0m\u001b[0;34m\u001b[0m\u001b[0;34m\u001b[0m\u001b[0m\n\u001b[0m",
      "\u001b[0;31mNameError\u001b[0m: name 'build_system' is not defined"
     ]
    }
   ],
   "source": [
    "help(build_system)"
   ]
  },
  {
   "cell_type": "markdown",
   "metadata": {},
   "source": [
    "### The Topology File\n",
    "The first task is to generate a molecular topology file containing the topological and force-field data concerning the molecular system under consideration. Specifying a complete molecular topology for a large molecule, however, is a tedious task.\n",
    "Therefore, in GROMOS a molecular topology is generated from molecular topology building blocks which carry the topological\n",
    "information of molecules like amino acid residues, nucleotides, etc., see Vol. 3. The molecular topology building blocks can be linked together into a complete molecular topology file using the GROMOS++ program *make_top*.\n",
    "\n",
    "Many molecular topology building blocks are available in the molecular topology building block files (*\\*.mtb*), which are standard data files that come together with the GROMOS package. \n",
    "\n",
    "\n",
    "In case the needed molecular topology building blocks are not part of the standard distribution, they must be constructed. \n",
    "Constructing a new topology building block may require estimation of additional force-field parameters, which have to be added to the interaction function parameter file (*\\*.ifp*).\n",
    " \n",
    "When generating a molecular topology for the system of interest one should also address the protonation state of the molecular groups according to the pH and of the solvent and counter ions that need to be included in the simulation box. \n",
    "In case of a molecular complex, e.g. a DNA-protein complex, the two separately generated molecular topologies for the protein and the DNA can be merged using the GROMOS++ program com top.\n",
    "\n",
    "\n",
    "\n",
    "#### Building the Topology File\n",
    "In this section you should build a molecular topology of a linear charged penta-peptide with water as a solvent, including two Cl− counter ions.\n",
    "\n",
    "**programs: make_top, check_top**\n",
    "\n",
    "##### build topology for single molecule\n",
    "You will build the molecular topology file of the linear charged penta-peptide Val-Tyr-Arg-Lys-Gln by\n",
    "using the GROMOS++ program *make_top*. As input following parameters will be provided:\n",
    "* **in_building_block_lib_path**: the molecular topology building block file is specified. In the code below, you will see, that we gather the forcefield information from the *Gromos54A7* force field, which is directly provided by PyGromosTools\n",
    "* **in_parameter_lib_path**: specifies the interaction function parameter file. Also here we take the parameters directly from the *Gromos54A7* forcefield from PyGromosTools.\n",
    "* **in_solvent**: The string name of the desired solvent.\n",
    "* **in_sequence**: the sequence of the building blocks for the amino acid residues, including the amino and carboxy terminus\n",
    "is specified (*NH3+ VAL TYR ARG LYSH GLN COO-*). (Notice that both termini are charged)"
   ]
  },
  {
   "cell_type": "code",
   "execution_count": 5,
   "metadata": {
    "execution": {
     "iopub.execute_input": "2022-04-05T06:50:57.307404Z",
     "iopub.status.busy": "2022-04-05T06:50:57.307140Z",
     "iopub.status.idle": "2022-04-05T06:50:57.317237Z",
     "shell.execute_reply": "2022-04-05T06:50:57.316241Z"
    }
   },
   "outputs": [
    {
     "ename": "NameError",
     "evalue": "name 'build_system' is not defined",
     "output_type": "error",
     "traceback": [
      "\u001b[0;31m---------------------------------------------------------------------------\u001b[0m",
      "\u001b[0;31mNameError\u001b[0m                                 Traceback (most recent call last)",
      "\u001b[0;32m/tmp/ipykernel_17840/2209151516.py\u001b[0m in \u001b[0;36m<module>\u001b[0;34m\u001b[0m\n\u001b[1;32m      2\u001b[0m \u001b[0;34m\u001b[0m\u001b[0m\n\u001b[1;32m      3\u001b[0m \u001b[0;31m#Generate the topology\u001b[0m\u001b[0;34m\u001b[0m\u001b[0;34m\u001b[0m\u001b[0m\n\u001b[0;32m----> 4\u001b[0;31m build_system.make_top(in_sequence=\"NH3+ VAL TYR ARG LYSH GLN COO-\",\n\u001b[0m\u001b[1;32m      5\u001b[0m                      \u001b[0min_solvent\u001b[0m\u001b[0;34m=\u001b[0m\u001b[0;34m\"H2O\"\u001b[0m\u001b[0;34m,\u001b[0m\u001b[0;34m\u001b[0m\u001b[0;34m\u001b[0m\u001b[0m\n\u001b[1;32m      6\u001b[0m                      \u001b[0min_building_block_lib_path\u001b[0m \u001b[0;34m=\u001b[0m \u001b[0mGromos54A7\u001b[0m\u001b[0;34m.\u001b[0m\u001b[0mmtb\u001b[0m\u001b[0;34m,\u001b[0m\u001b[0;34m\u001b[0m\u001b[0;34m\u001b[0m\u001b[0m\n",
      "\u001b[0;31mNameError\u001b[0m: name 'build_system' is not defined"
     ]
    }
   ],
   "source": [
    "from pygromos.data.ff import Gromos54A7 #Get standard information of the GROMOS54A7 force field.\n",
    "\n",
    "#Generate the topology\n",
    "build_system.make_top(in_sequence=\"NH3+ VAL TYR ARG LYSH GLN COO-\",\n",
    "                     in_solvent=\"H2O\",\n",
    "                     in_building_block_lib_path = Gromos54A7.mtb,\n",
    "                     in_parameter_lib_path= Gromos54A7.ifp)\n",
    "\n",
    "#Here the residues in the topology file will be printed out :)  - this corresponds to the RESNAME Block in the topology file:\n",
    "build_system.top.RESNAME"
   ]
  },
  {
   "cell_type": "markdown",
   "metadata": {},
   "source": [
    "### The Coordinate File\n",
    "Coordinates for biomolecules are often available from X-ray or NMR experiments and can be obtained in\n",
    "*Protein Data Bank* (*PDB*) format, which can be converted to *GROMOS* format using the GROMOS++\n",
    "program *pdb2g96*. However, the conversion is not always straightforward since the naming and numbering\n",
    "of the atoms in the *PDB* format usually do not match the *GROMOS* format. \n",
    "\n",
    "Moreover, the coordinates for hydrogen atoms are not present in the *PDB* files \n",
    "(when the structure was determined using X-ray diffraction data) and have to be generated using the GROMOS++ program *gch*.\n",
    "\n",
    "When the structure is determined using NMR data, the PDB structure often contains more hydrogen atoms than are needed for GROMOS,\n",
    "as in the GROMOS force field only polar and aromatic hydrogens are explicitly represented. Aliphatic\n",
    "hydrogens are non-existing due to the use of so-called united atoms. The aliphatic hydrogen and carbon\n",
    "atoms are merged to form united atoms which have their own parameters. If no atomic coordinates for the\n",
    "solute are available from experimental data, the coordinates have to be generated using molecular modeling\n",
    "software. Often parts of the structure (e.g. flexible loops) are not resolved in the experiment and therefore\n",
    "not available in the PDB and have to be modeled as well. \n",
    "\n",
    "#### Periodic Boxes\n",
    "When a simulation of a solute in solution is to be carried out, a (periodic) box (be it rectangular, triclinic or truncated octahedral) is put around the solute\n",
    "and filled with solvent molecules up to the required density. The solvent coordinates can e.g. be generated using the GROMOS++ program sim box. The generated box should be sufficiently large to allow the use of a reasonable non-bonded interaction cut-off radius. Putting the solute in a box of solvent using the *sim_box* program will result in several high-energy atom-atom contacts at the solute-solvent interface and at the box edges. In order to relax the generated configuration the solvent configuration should be energy minimized while positionally restraining the solute. Counter-ion atomic coordinates can then be generated using the GROMOS++ program *ion*, which can replace a number of solvent molecules by ions.\n",
    "\n",
    "**programs: pdb2g96, gch**\n",
    "\n",
    "\n",
    "#### Building the Coordinate File\n",
    "The initial coordinate *.pdb* file is already provided in the *input* directory as *peptide.pdb*. \n",
    "Open the file *peptide.pdb* and check if the atom names match the names in the molecular topology object **SOLUTEATOM** block.\n",
    "In the pdb file *peptide.pdb* the coordinates for hydrogen atoms are not given and have to be generated.\n",
    "If the atom names are correct, you can continue in the second next cell by converting the *PDB* file *peptide.pdb* into the GROMOS format using the GROMOS++ program *pdb2g96*.\n",
    "The hydrogen atoms will be added to the coordinate file according to the topological requirements.\n",
    "\n",
    "***\n",
    "**Warning**: When converting coordinate files from the Protein Data Bank to GROMOS format many difficulties may emerge. If you encounter problems using the pdb2g96 program, have a look at Sec. 4-7.3. There you can find further documentation on the advanced usage of this program. Especially the use of a library\n",
    "that matches residue and atom names might be useful in many cases. pdb2g96.lib which you can find in the directory is an example of the PDB library file.\n",
    "***\n"
   ]
  },
  {
   "cell_type": "code",
   "execution_count": 6,
   "metadata": {
    "execution": {
     "iopub.execute_input": "2022-04-05T06:50:57.319650Z",
     "iopub.status.busy": "2022-04-05T06:50:57.319465Z",
     "iopub.status.idle": "2022-04-05T06:50:57.327953Z",
     "shell.execute_reply": "2022-04-05T06:50:57.327067Z"
    }
   },
   "outputs": [
    {
     "ename": "NameError",
     "evalue": "name 'build_system' is not defined",
     "output_type": "error",
     "traceback": [
      "\u001b[0;31m---------------------------------------------------------------------------\u001b[0m",
      "\u001b[0;31mNameError\u001b[0m                                 Traceback (most recent call last)",
      "\u001b[0;32m/tmp/ipykernel_17840/1985069931.py\u001b[0m in \u001b[0;36m<module>\u001b[0;34m\u001b[0m\n\u001b[1;32m      1\u001b[0m \u001b[0;31m#Compare the atom names of the pdb file input/peptide.pdb with the printed ones here:\u001b[0m\u001b[0;34m\u001b[0m\u001b[0;34m\u001b[0m\u001b[0m\n\u001b[0;32m----> 2\u001b[0;31m \u001b[0mbuild_system\u001b[0m\u001b[0;34m.\u001b[0m\u001b[0mtop\u001b[0m\u001b[0;34m.\u001b[0m\u001b[0mSOLUTEATOM\u001b[0m\u001b[0;34m\u001b[0m\u001b[0;34m\u001b[0m\u001b[0m\n\u001b[0m",
      "\u001b[0;31mNameError\u001b[0m: name 'build_system' is not defined"
     ]
    }
   ],
   "source": [
    "#Compare the atom names of the pdb file input/peptide.pdb with the printed ones here:\n",
    "build_system.top.SOLUTEATOM"
   ]
  },
  {
   "cell_type": "code",
   "execution_count": 7,
   "metadata": {
    "execution": {
     "iopub.execute_input": "2022-04-05T06:50:57.330842Z",
     "iopub.status.busy": "2022-04-05T06:50:57.330407Z",
     "iopub.status.idle": "2022-04-05T06:50:57.339979Z",
     "shell.execute_reply": "2022-04-05T06:50:57.339147Z"
    }
   },
   "outputs": [
    {
     "ename": "NameError",
     "evalue": "name 'build_system' is not defined",
     "output_type": "error",
     "traceback": [
      "\u001b[0;31m---------------------------------------------------------------------------\u001b[0m",
      "\u001b[0;31mNameError\u001b[0m                                 Traceback (most recent call last)",
      "\u001b[0;32m/tmp/ipykernel_17840/2943075571.py\u001b[0m in \u001b[0;36m<module>\u001b[0;34m\u001b[0m\n\u001b[1;32m      1\u001b[0m \u001b[0;31m# Generate coordinate file:\u001b[0m\u001b[0;34m\u001b[0m\u001b[0;34m\u001b[0m\u001b[0m\n\u001b[0;32m----> 2\u001b[0;31m \u001b[0mbuild_system\u001b[0m\u001b[0;34m.\u001b[0m\u001b[0mpdb2gromos\u001b[0m\u001b[0;34m(\u001b[0m\u001b[0min_pdb_path\u001b[0m\u001b[0;34m=\u001b[0m\u001b[0minput_dir\u001b[0m\u001b[0;34m+\u001b[0m\u001b[0;34m\"/peptide.pdb\"\u001b[0m\u001b[0;34m)\u001b[0m\u001b[0;34m\u001b[0m\u001b[0;34m\u001b[0m\u001b[0m\n\u001b[0m\u001b[1;32m      3\u001b[0m \u001b[0;34m\u001b[0m\u001b[0m\n\u001b[1;32m      4\u001b[0m \u001b[0;31m#show the coordinates that were generated.\u001b[0m\u001b[0;34m\u001b[0m\u001b[0;34m\u001b[0m\u001b[0m\n\u001b[1;32m      5\u001b[0m \u001b[0mbuild_system\u001b[0m\u001b[0;34m.\u001b[0m\u001b[0mcnf\u001b[0m\u001b[0;34m.\u001b[0m\u001b[0mview\u001b[0m\u001b[0;34m\u001b[0m\u001b[0;34m\u001b[0m\u001b[0m\n",
      "\u001b[0;31mNameError\u001b[0m: name 'build_system' is not defined"
     ]
    }
   ],
   "source": [
    "# Generate coordinate file:\n",
    "build_system.pdb2gromos(in_pdb_path=input_dir+\"/peptide.pdb\")\n",
    "\n",
    "#show the coordinates that were generated.\n",
    "build_system.cnf.view"
   ]
  },
  {
   "cell_type": "markdown",
   "metadata": {},
   "source": [
    "##### Initial Write out\n",
    " Next we will write out all generated files, such we have the initial products of our efforts."
   ]
  },
  {
   "cell_type": "code",
   "execution_count": 8,
   "metadata": {
    "execution": {
     "iopub.execute_input": "2022-04-05T06:50:57.342522Z",
     "iopub.status.busy": "2022-04-05T06:50:57.342086Z",
     "iopub.status.idle": "2022-04-05T06:50:57.352108Z",
     "shell.execute_reply": "2022-04-05T06:50:57.351301Z"
    }
   },
   "outputs": [
    {
     "ename": "NameError",
     "evalue": "name 'build_system' is not defined",
     "output_type": "error",
     "traceback": [
      "\u001b[0;31m---------------------------------------------------------------------------\u001b[0m",
      "\u001b[0;31mNameError\u001b[0m                                 Traceback (most recent call last)",
      "\u001b[0;32m/tmp/ipykernel_17840/1312231814.py\u001b[0m in \u001b[0;36m<module>\u001b[0;34m\u001b[0m\n\u001b[1;32m      1\u001b[0m \u001b[0;31m# Now write all files, such that you can check them directly.\u001b[0m\u001b[0;34m\u001b[0m\u001b[0;34m\u001b[0m\u001b[0m\n\u001b[0;32m----> 2\u001b[0;31m \u001b[0mprint\u001b[0m\u001b[0;34m(\u001b[0m\u001b[0;34m\"Path before rebase: \"\u001b[0m\u001b[0;34m+\u001b[0m\u001b[0mstr\u001b[0m\u001b[0;34m(\u001b[0m\u001b[0mbuild_system\u001b[0m\u001b[0;34m.\u001b[0m\u001b[0mcnf\u001b[0m\u001b[0;34m.\u001b[0m\u001b[0mpath\u001b[0m\u001b[0;34m)\u001b[0m\u001b[0;34m)\u001b[0m\u001b[0;34m\u001b[0m\u001b[0;34m\u001b[0m\u001b[0m\n\u001b[0m\u001b[1;32m      3\u001b[0m \u001b[0mbuild_system\u001b[0m\u001b[0;34m.\u001b[0m\u001b[0mrebase_files\u001b[0m\u001b[0;34m(\u001b[0m\u001b[0;34m)\u001b[0m\u001b[0;34m\u001b[0m\u001b[0;34m\u001b[0m\u001b[0m\n\u001b[1;32m      4\u001b[0m \u001b[0;34m\u001b[0m\u001b[0m\n\u001b[1;32m      5\u001b[0m \u001b[0;31m#check this\u001b[0m\u001b[0;34m\u001b[0m\u001b[0;34m\u001b[0m\u001b[0m\n",
      "\u001b[0;31mNameError\u001b[0m: name 'build_system' is not defined"
     ]
    }
   ],
   "source": [
    "# Now write all files, such that you can check them directly.\n",
    "print(\"Path before rebase: \"+str(build_system.cnf.path))\n",
    "build_system.rebase_files()\n",
    "\n",
    "#check this \n",
    "print(\"Path after rebase: \"+build_system.cnf.path)\n",
    "\n",
    "#Check also how the system path and attributes were automatically updated.\n",
    "build_system\n"
   ]
  },
  {
   "cell_type": "markdown",
   "metadata": {
    "pycharm": {
     "name": "#%% md\n"
    }
   },
   "source": [
    "#### add hydrogens\n",
    "Have a look at the cnf coordinates in the GromosSystem (next cell). You will notice that the hydrogen atoms have been added\n",
    "to the coordinate file with the Cartesian coordinates being set to zero. \n"
   ]
  },
  {
   "cell_type": "code",
   "execution_count": 9,
   "metadata": {
    "execution": {
     "iopub.execute_input": "2022-04-05T06:50:57.354532Z",
     "iopub.status.busy": "2022-04-05T06:50:57.354349Z",
     "iopub.status.idle": "2022-04-05T06:50:57.363009Z",
     "shell.execute_reply": "2022-04-05T06:50:57.362113Z"
    }
   },
   "outputs": [
    {
     "ename": "NameError",
     "evalue": "name 'build_system' is not defined",
     "output_type": "error",
     "traceback": [
      "\u001b[0;31m---------------------------------------------------------------------------\u001b[0m",
      "\u001b[0;31mNameError\u001b[0m                                 Traceback (most recent call last)",
      "\u001b[0;32m/tmp/ipykernel_17840/3539411433.py\u001b[0m in \u001b[0;36m<module>\u001b[0;34m\u001b[0m\n\u001b[1;32m      1\u001b[0m \u001b[0;31m#print x lines of the Position Block of valine\u001b[0m\u001b[0;34m\u001b[0m\u001b[0;34m\u001b[0m\u001b[0m\n\u001b[0;32m----> 2\u001b[0;31m \u001b[0mprint\u001b[0m\u001b[0;34m(\u001b[0m\u001b[0;34m\"\"\u001b[0m\u001b[0;34m.\u001b[0m\u001b[0mjoin\u001b[0m\u001b[0;34m(\u001b[0m\u001b[0;34m[\u001b[0m\u001b[0mstr\u001b[0m\u001b[0;34m(\u001b[0m\u001b[0matomP\u001b[0m\u001b[0;34m)\u001b[0m \u001b[0;32mfor\u001b[0m \u001b[0matomP\u001b[0m \u001b[0;32min\u001b[0m \u001b[0mbuild_system\u001b[0m\u001b[0;34m.\u001b[0m\u001b[0mcnf\u001b[0m\u001b[0;34m.\u001b[0m\u001b[0mPOSITION\u001b[0m \u001b[0;32mif\u001b[0m\u001b[0;34m(\u001b[0m\u001b[0;34m\"VAL\"\u001b[0m \u001b[0;34m==\u001b[0m \u001b[0matomP\u001b[0m\u001b[0;34m.\u001b[0m\u001b[0mresName\u001b[0m\u001b[0;34m)\u001b[0m\u001b[0;34m]\u001b[0m\u001b[0;34m)\u001b[0m\u001b[0;34m)\u001b[0m\u001b[0;34m\u001b[0m\u001b[0;34m\u001b[0m\u001b[0m\n\u001b[0m",
      "\u001b[0;31mNameError\u001b[0m: name 'build_system' is not defined"
     ]
    }
   ],
   "source": [
    "#print x lines of the Position Block of valine\n",
    "print(\"\".join([str(atomP) for atomP in build_system.cnf.POSITION if(\"VAL\" == atomP.resName)]))"
   ]
  },
  {
   "cell_type": "markdown",
   "metadata": {},
   "source": [
    "\n",
    "In order to generate meaningful coordinates for the hydrogen atoms run the GROMOS++ program *protonate* (or gch). It will generate the coordinates\n",
    "for hydrogen atoms by geometric means using the information from the molecular topology file.\n",
    "The argument *tolerance* sets the tolerance that is used for keeping the coordinates of hydrogens that are already present in the coordinate file.\n"
   ]
  },
  {
   "cell_type": "code",
   "execution_count": 10,
   "metadata": {
    "execution": {
     "iopub.execute_input": "2022-04-05T06:50:57.366488Z",
     "iopub.status.busy": "2022-04-05T06:50:57.365936Z",
     "iopub.status.idle": "2022-04-05T06:50:57.374318Z",
     "shell.execute_reply": "2022-04-05T06:50:57.373518Z"
    }
   },
   "outputs": [
    {
     "ename": "NameError",
     "evalue": "name 'build_system' is not defined",
     "output_type": "error",
     "traceback": [
      "\u001b[0;31m---------------------------------------------------------------------------\u001b[0m",
      "\u001b[0;31mNameError\u001b[0m                                 Traceback (most recent call last)",
      "\u001b[0;32m/tmp/ipykernel_17840/4161719461.py\u001b[0m in \u001b[0;36m<module>\u001b[0;34m\u001b[0m\n\u001b[1;32m      1\u001b[0m \u001b[0;31m# Add the hydrogen positions\u001b[0m\u001b[0;34m\u001b[0m\u001b[0;34m\u001b[0m\u001b[0m\n\u001b[0;32m----> 2\u001b[0;31m \u001b[0mbuild_system\u001b[0m\u001b[0;34m.\u001b[0m\u001b[0madd_hydrogens\u001b[0m\u001b[0;34m(\u001b[0m\u001b[0;34m)\u001b[0m\u001b[0;34m\u001b[0m\u001b[0;34m\u001b[0m\u001b[0m\n\u001b[0m\u001b[1;32m      3\u001b[0m \u001b[0;34m\u001b[0m\u001b[0m\n\u001b[1;32m      4\u001b[0m \u001b[0;31m#store the current files with a different name:\u001b[0m\u001b[0;34m\u001b[0m\u001b[0;34m\u001b[0m\u001b[0m\n\u001b[1;32m      5\u001b[0m \u001b[0mbuild_system\u001b[0m\u001b[0;34m.\u001b[0m\u001b[0mname\u001b[0m \u001b[0;34m=\u001b[0m \u001b[0;34m\"peptideH\"\u001b[0m\u001b[0;34m\u001b[0m\u001b[0;34m\u001b[0m\u001b[0m\n",
      "\u001b[0;31mNameError\u001b[0m: name 'build_system' is not defined"
     ]
    }
   ],
   "source": [
    "# Add the hydrogen positions\n",
    "build_system.add_hydrogens()\n",
    "\n",
    "#store the current files with a different name:\n",
    "build_system.name = \"peptideH\"\n",
    "build_system.rebase_files()\n",
    "\n",
    "#visualize again the nice structure\n",
    "build_system.cnf.view\n"
   ]
  },
  {
   "cell_type": "markdown",
   "metadata": {},
   "source": [
    "#### Optional: Convert cnf to pdb\n",
    "\n"
   ]
  },
  {
   "cell_type": "code",
   "execution_count": 11,
   "metadata": {
    "execution": {
     "iopub.execute_input": "2022-04-05T06:50:57.376565Z",
     "iopub.status.busy": "2022-04-05T06:50:57.376385Z",
     "iopub.status.idle": "2022-04-05T06:50:57.385732Z",
     "shell.execute_reply": "2022-04-05T06:50:57.384903Z"
    }
   },
   "outputs": [
    {
     "ename": "NameError",
     "evalue": "name 'build_system' is not defined",
     "output_type": "error",
     "traceback": [
      "\u001b[0;31m---------------------------------------------------------------------------\u001b[0m",
      "\u001b[0;31mNameError\u001b[0m                                 Traceback (most recent call last)",
      "\u001b[0;32m/tmp/ipykernel_17840/2565268878.py\u001b[0m in \u001b[0;36m<module>\u001b[0;34m\u001b[0m\n\u001b[0;32m----> 1\u001b[0;31m \u001b[0mpdb_path\u001b[0m \u001b[0;34m=\u001b[0m \u001b[0mbuild_system\u001b[0m\u001b[0;34m.\u001b[0m\u001b[0mcnf\u001b[0m\u001b[0;34m.\u001b[0m\u001b[0mwrite_pdb\u001b[0m\u001b[0;34m(\u001b[0m\u001b[0mbuild_system\u001b[0m\u001b[0;34m.\u001b[0m\u001b[0mwork_folder\u001b[0m\u001b[0;34m+\u001b[0m\u001b[0;34m\"/vacuum_hpeptide.pdb\"\u001b[0m\u001b[0;34m)\u001b[0m\u001b[0;34m\u001b[0m\u001b[0;34m\u001b[0m\u001b[0m\n\u001b[0m\u001b[1;32m      2\u001b[0m \u001b[0mpdb_path\u001b[0m\u001b[0;34m\u001b[0m\u001b[0;34m\u001b[0m\u001b[0m\n",
      "\u001b[0;31mNameError\u001b[0m: name 'build_system' is not defined"
     ]
    }
   ],
   "source": [
    "pdb_path = build_system.cnf.write_pdb(build_system.work_folder+\"/vacuum_hpeptide.pdb\")\n",
    "pdb_path"
   ]
  },
  {
   "cell_type": "markdown",
   "metadata": {},
   "source": [
    "### Energy Minimization - Vacuum\n",
    "\n",
    "Before putting the penta-peptide into a box of solvent, its configuration can be relaxed by energy minimisation.\n",
    "\n",
    "#### Simulation Parameter File\n",
    "The GROMOS simulation parameter file (also called imd) template_emin_vac can be parsed like follows and contains the following blocks:"
   ]
  },
  {
   "cell_type": "code",
   "execution_count": 12,
   "metadata": {
    "execution": {
     "iopub.execute_input": "2022-04-05T06:50:57.387897Z",
     "iopub.status.busy": "2022-04-05T06:50:57.387722Z",
     "iopub.status.idle": "2022-04-05T06:50:57.397610Z",
     "shell.execute_reply": "2022-04-05T06:50:57.396711Z"
    }
   },
   "outputs": [
    {
     "ename": "NameError",
     "evalue": "name 'build_system' is not defined",
     "output_type": "error",
     "traceback": [
      "\u001b[0;31m---------------------------------------------------------------------------\u001b[0m",
      "\u001b[0;31mNameError\u001b[0m                                 Traceback (most recent call last)",
      "\u001b[0;32m/tmp/ipykernel_17840/2621856540.py\u001b[0m in \u001b[0;36m<module>\u001b[0;34m\u001b[0m\n\u001b[1;32m      2\u001b[0m \u001b[0;34m\u001b[0m\u001b[0m\n\u001b[1;32m      3\u001b[0m \u001b[0;31m#load simulation parameter file (Imd) File\u001b[0m\u001b[0;34m\u001b[0m\u001b[0;34m\u001b[0m\u001b[0m\n\u001b[0;32m----> 4\u001b[0;31m \u001b[0mbuild_system\u001b[0m\u001b[0;34m.\u001b[0m\u001b[0mimd\u001b[0m \u001b[0;34m=\u001b[0m \u001b[0mtemplate_emin_vac\u001b[0m\u001b[0;34m\u001b[0m\u001b[0;34m\u001b[0m\u001b[0m\n\u001b[0m\u001b[1;32m      5\u001b[0m \u001b[0;34m\u001b[0m\u001b[0m\n\u001b[1;32m      6\u001b[0m \u001b[0;31m#for nicer code we will store the simulation parameter file in a variable.\u001b[0m\u001b[0;34m\u001b[0m\u001b[0;34m\u001b[0m\u001b[0m\n",
      "\u001b[0;31mNameError\u001b[0m: name 'build_system' is not defined"
     ]
    }
   ],
   "source": [
    "from pygromos.data.simulation_parameters_templates import  template_emin_vac\n",
    "\n",
    "#load simulation parameter file (Imd) File\n",
    "build_system.imd = template_emin_vac\n",
    "\n",
    "#for nicer code we will store the simulation parameter file in a variable.\n",
    "emin_vac_imd_file = build_system.imd\n"
   ]
  },
  {
   "cell_type": "markdown",
   "metadata": {},
   "source": [
    "##### TITLE Block\n",
    "In the TITLE block you specify what is done with following input file, so you know what you did with it later and can easily reuse it."
   ]
  },
  {
   "cell_type": "code",
   "execution_count": 13,
   "metadata": {
    "execution": {
     "iopub.execute_input": "2022-04-05T06:50:57.401301Z",
     "iopub.status.busy": "2022-04-05T06:50:57.401015Z",
     "iopub.status.idle": "2022-04-05T06:50:57.409415Z",
     "shell.execute_reply": "2022-04-05T06:50:57.408674Z"
    }
   },
   "outputs": [
    {
     "ename": "NameError",
     "evalue": "name 'emin_vac_imd_file' is not defined",
     "output_type": "error",
     "traceback": [
      "\u001b[0;31m---------------------------------------------------------------------------\u001b[0m",
      "\u001b[0;31mNameError\u001b[0m                                 Traceback (most recent call last)",
      "\u001b[0;32m/tmp/ipykernel_17840/3241370758.py\u001b[0m in \u001b[0;36m<module>\u001b[0;34m\u001b[0m\n\u001b[0;32m----> 1\u001b[0;31m \u001b[0memin_vac_imd_file\u001b[0m\u001b[0;34m.\u001b[0m\u001b[0mTITLE\u001b[0m\u001b[0;34m\u001b[0m\u001b[0;34m\u001b[0m\u001b[0m\n\u001b[0m",
      "\u001b[0;31mNameError\u001b[0m: name 'emin_vac_imd_file' is not defined"
     ]
    }
   ],
   "source": [
    "emin_vac_imd_file.TITLE"
   ]
  },
  {
   "cell_type": "markdown",
   "metadata": {},
   "source": [
    "##### ENERGYMIN Block\n",
    "\n",
    "The existence of the ENERGYMIN block means that Gromos will perform an energy minimisation\n",
    "(EM) run. The NTEM switch indicates which minimisation algorithm to be used. With NTEM = 1 we indicate\n",
    "that the steepest-descent algorithm (Sec. 2-11.2) is used. NCYC gives the number of steps before resetting of\n",
    "conjugate-gradient search direction in case we would use the conjugate gradient method (NTEM = 2). Using\n",
    "DELE the energy threshold (the difference in energy between two energy minimisation steps) for stopping the\n",
    "minimisation process (convergence) is specified. The initial step size and maximum step size is given in DX0\n",
    "and DXM, respectively. Using FLIM the absolute value of the forces can be limited to a maximum value before\n",
    "the algorithm is applied (see also 4-93)."
   ]
  },
  {
   "cell_type": "code",
   "execution_count": 14,
   "metadata": {
    "execution": {
     "iopub.execute_input": "2022-04-05T06:50:57.411730Z",
     "iopub.status.busy": "2022-04-05T06:50:57.411517Z",
     "iopub.status.idle": "2022-04-05T06:50:57.422930Z",
     "shell.execute_reply": "2022-04-05T06:50:57.422223Z"
    }
   },
   "outputs": [
    {
     "ename": "NameError",
     "evalue": "name 'emin_vac_imd_file' is not defined",
     "output_type": "error",
     "traceback": [
      "\u001b[0;31m---------------------------------------------------------------------------\u001b[0m",
      "\u001b[0;31mNameError\u001b[0m                                 Traceback (most recent call last)",
      "\u001b[0;32m/tmp/ipykernel_17840/2351695152.py\u001b[0m in \u001b[0;36m<module>\u001b[0;34m\u001b[0m\n\u001b[0;32m----> 1\u001b[0;31m \u001b[0mhelp\u001b[0m\u001b[0;34m(\u001b[0m\u001b[0memin_vac_imd_file\u001b[0m\u001b[0;34m.\u001b[0m\u001b[0mENERGYMIN\u001b[0m\u001b[0;34m)\u001b[0m\u001b[0;34m\u001b[0m\u001b[0;34m\u001b[0m\u001b[0m\n\u001b[0m",
      "\u001b[0;31mNameError\u001b[0m: name 'emin_vac_imd_file' is not defined"
     ]
    }
   ],
   "source": [
    "help(emin_vac_imd_file.ENERGYMIN)"
   ]
  },
  {
   "cell_type": "code",
   "execution_count": 15,
   "metadata": {
    "execution": {
     "iopub.execute_input": "2022-04-05T06:50:57.425332Z",
     "iopub.status.busy": "2022-04-05T06:50:57.425074Z",
     "iopub.status.idle": "2022-04-05T06:50:57.434221Z",
     "shell.execute_reply": "2022-04-05T06:50:57.433497Z"
    }
   },
   "outputs": [
    {
     "ename": "NameError",
     "evalue": "name 'emin_vac_imd_file' is not defined",
     "output_type": "error",
     "traceback": [
      "\u001b[0;31m---------------------------------------------------------------------------\u001b[0m",
      "\u001b[0;31mNameError\u001b[0m                                 Traceback (most recent call last)",
      "\u001b[0;32m/tmp/ipykernel_17840/4180182297.py\u001b[0m in \u001b[0;36m<module>\u001b[0;34m\u001b[0m\n\u001b[1;32m      1\u001b[0m \u001b[0;31m# The current ENERGYMIN Block\u001b[0m\u001b[0;34m\u001b[0m\u001b[0;34m\u001b[0m\u001b[0m\n\u001b[0;32m----> 2\u001b[0;31m \u001b[0memin_vac_imd_file\u001b[0m\u001b[0;34m.\u001b[0m\u001b[0mENERGYMIN\u001b[0m\u001b[0;34m\u001b[0m\u001b[0;34m\u001b[0m\u001b[0m\n\u001b[0m",
      "\u001b[0;31mNameError\u001b[0m: name 'emin_vac_imd_file' is not defined"
     ]
    }
   ],
   "source": [
    "# The current ENERGYMIN Block\n",
    "emin_vac_imd_file.ENERGYMIN"
   ]
  },
  {
   "cell_type": "markdown",
   "metadata": {},
   "source": [
    "##### SYSTEM Block\n",
    "In the SYSTEM block you specify the number of solutes (NPM) and solvent (NSM) molecules. You only have\n",
    "one solute NPM = 1 and no solvent molecules NSM = 0 because you still did not add any solvent molecules\n",
    "to the configuration file and the peptide is still in vacuum. Otherwise you would have to tell MD++ how\n",
    "many solvent molecules you are using."
   ]
  },
  {
   "cell_type": "code",
   "execution_count": 16,
   "metadata": {
    "execution": {
     "iopub.execute_input": "2022-04-05T06:50:57.436526Z",
     "iopub.status.busy": "2022-04-05T06:50:57.436319Z",
     "iopub.status.idle": "2022-04-05T06:50:57.444343Z",
     "shell.execute_reply": "2022-04-05T06:50:57.443489Z"
    }
   },
   "outputs": [
    {
     "ename": "NameError",
     "evalue": "name 'emin_vac_imd_file' is not defined",
     "output_type": "error",
     "traceback": [
      "\u001b[0;31m---------------------------------------------------------------------------\u001b[0m",
      "\u001b[0;31mNameError\u001b[0m                                 Traceback (most recent call last)",
      "\u001b[0;32m/tmp/ipykernel_17840/3198920840.py\u001b[0m in \u001b[0;36m<module>\u001b[0;34m\u001b[0m\n\u001b[0;32m----> 1\u001b[0;31m \u001b[0mhelp\u001b[0m\u001b[0;34m(\u001b[0m\u001b[0memin_vac_imd_file\u001b[0m\u001b[0;34m.\u001b[0m\u001b[0mSYSTEM\u001b[0m\u001b[0;34m)\u001b[0m\u001b[0;34m\u001b[0m\u001b[0;34m\u001b[0m\u001b[0m\n\u001b[0m",
      "\u001b[0;31mNameError\u001b[0m: name 'emin_vac_imd_file' is not defined"
     ]
    }
   ],
   "source": [
    "help(emin_vac_imd_file.SYSTEM)"
   ]
  },
  {
   "cell_type": "code",
   "execution_count": 17,
   "metadata": {
    "execution": {
     "iopub.execute_input": "2022-04-05T06:50:57.447088Z",
     "iopub.status.busy": "2022-04-05T06:50:57.446674Z",
     "iopub.status.idle": "2022-04-05T06:50:57.455366Z",
     "shell.execute_reply": "2022-04-05T06:50:57.454538Z"
    }
   },
   "outputs": [
    {
     "ename": "NameError",
     "evalue": "name 'emin_vac_imd_file' is not defined",
     "output_type": "error",
     "traceback": [
      "\u001b[0;31m---------------------------------------------------------------------------\u001b[0m",
      "\u001b[0;31mNameError\u001b[0m                                 Traceback (most recent call last)",
      "\u001b[0;32m/tmp/ipykernel_17840/3713079212.py\u001b[0m in \u001b[0;36m<module>\u001b[0;34m\u001b[0m\n\u001b[0;32m----> 1\u001b[0;31m \u001b[0memin_vac_imd_file\u001b[0m\u001b[0;34m.\u001b[0m\u001b[0mSYSTEM\u001b[0m\u001b[0;34m\u001b[0m\u001b[0;34m\u001b[0m\u001b[0m\n\u001b[0m",
      "\u001b[0;31mNameError\u001b[0m: name 'emin_vac_imd_file' is not defined"
     ]
    }
   ],
   "source": [
    "emin_vac_imd_file.SYSTEM\n"
   ]
  },
  {
   "cell_type": "markdown",
   "metadata": {},
   "source": [
    "##### STEP Block\n",
    "\n",
    "The step block takes core of how long and with "
   ]
  },
  {
   "cell_type": "code",
   "execution_count": 18,
   "metadata": {
    "execution": {
     "iopub.execute_input": "2022-04-05T06:50:57.457702Z",
     "iopub.status.busy": "2022-04-05T06:50:57.457525Z",
     "iopub.status.idle": "2022-04-05T06:50:57.466799Z",
     "shell.execute_reply": "2022-04-05T06:50:57.465777Z"
    }
   },
   "outputs": [
    {
     "ename": "NameError",
     "evalue": "name 'emin_vac_imd_file' is not defined",
     "output_type": "error",
     "traceback": [
      "\u001b[0;31m---------------------------------------------------------------------------\u001b[0m",
      "\u001b[0;31mNameError\u001b[0m                                 Traceback (most recent call last)",
      "\u001b[0;32m/tmp/ipykernel_17840/3713883182.py\u001b[0m in \u001b[0;36m<module>\u001b[0;34m\u001b[0m\n\u001b[0;32m----> 1\u001b[0;31m \u001b[0mhelp\u001b[0m\u001b[0;34m(\u001b[0m\u001b[0memin_vac_imd_file\u001b[0m\u001b[0;34m.\u001b[0m\u001b[0mSTEP\u001b[0m\u001b[0;34m)\u001b[0m\u001b[0;34m\u001b[0m\u001b[0;34m\u001b[0m\u001b[0m\n\u001b[0m",
      "\u001b[0;31mNameError\u001b[0m: name 'emin_vac_imd_file' is not defined"
     ]
    }
   ],
   "source": [
    "help(emin_vac_imd_file.STEP)"
   ]
  },
  {
   "cell_type": "code",
   "execution_count": 19,
   "metadata": {
    "execution": {
     "iopub.execute_input": "2022-04-05T06:50:57.469361Z",
     "iopub.status.busy": "2022-04-05T06:50:57.469164Z",
     "iopub.status.idle": "2022-04-05T06:50:57.477305Z",
     "shell.execute_reply": "2022-04-05T06:50:57.476543Z"
    }
   },
   "outputs": [
    {
     "ename": "NameError",
     "evalue": "name 'emin_vac_imd_file' is not defined",
     "output_type": "error",
     "traceback": [
      "\u001b[0;31m---------------------------------------------------------------------------\u001b[0m",
      "\u001b[0;31mNameError\u001b[0m                                 Traceback (most recent call last)",
      "\u001b[0;32m/tmp/ipykernel_17840/2821732771.py\u001b[0m in \u001b[0;36m<module>\u001b[0;34m\u001b[0m\n\u001b[0;32m----> 1\u001b[0;31m \u001b[0memin_vac_imd_file\u001b[0m\u001b[0;34m.\u001b[0m\u001b[0mSTEP\u001b[0m\u001b[0;34m\u001b[0m\u001b[0;34m\u001b[0m\u001b[0m\n\u001b[0m",
      "\u001b[0;31mNameError\u001b[0m: name 'emin_vac_imd_file' is not defined"
     ]
    }
   ],
   "source": [
    "emin_vac_imd_file.STEP"
   ]
  },
  {
   "cell_type": "markdown",
   "metadata": {},
   "source": [
    "In the BOUNDCOND block you specify which periodic boundary conditions (PBC) you are going to use in the\n",
    "EM procedure. NTB = 0 defines a vacuum simulation: PBC are not applied. To indicate the truncated\n",
    "octahedron (t) PBC, NTB is set to -1, for rectangular (r) PBC NTB is 1, and for the triclinic (c) PBC NTB is\n",
    "2. NDFMIN defines the number of degrees of freedom subtracted from the total number of degrees of freedom\n",
    "for the calculation of the temperature.\n"
   ]
  },
  {
   "cell_type": "code",
   "execution_count": 20,
   "metadata": {
    "execution": {
     "iopub.execute_input": "2022-04-05T06:50:57.479908Z",
     "iopub.status.busy": "2022-04-05T06:50:57.479365Z",
     "iopub.status.idle": "2022-04-05T06:50:57.487852Z",
     "shell.execute_reply": "2022-04-05T06:50:57.487121Z"
    }
   },
   "outputs": [
    {
     "ename": "NameError",
     "evalue": "name 'emin_vac_imd_file' is not defined",
     "output_type": "error",
     "traceback": [
      "\u001b[0;31m---------------------------------------------------------------------------\u001b[0m",
      "\u001b[0;31mNameError\u001b[0m                                 Traceback (most recent call last)",
      "\u001b[0;32m/tmp/ipykernel_17840/2449763588.py\u001b[0m in \u001b[0;36m<module>\u001b[0;34m\u001b[0m\n\u001b[0;32m----> 1\u001b[0;31m \u001b[0mhelp\u001b[0m\u001b[0;34m(\u001b[0m\u001b[0memin_vac_imd_file\u001b[0m\u001b[0;34m.\u001b[0m\u001b[0mBOUNDCOND\u001b[0m\u001b[0;34m)\u001b[0m\u001b[0;34m\u001b[0m\u001b[0;34m\u001b[0m\u001b[0m\n\u001b[0m",
      "\u001b[0;31mNameError\u001b[0m: name 'emin_vac_imd_file' is not defined"
     ]
    }
   ],
   "source": [
    "help(emin_vac_imd_file.BOUNDCOND)"
   ]
  },
  {
   "cell_type": "code",
   "execution_count": 21,
   "metadata": {
    "execution": {
     "iopub.execute_input": "2022-04-05T06:50:57.490130Z",
     "iopub.status.busy": "2022-04-05T06:50:57.489925Z",
     "iopub.status.idle": "2022-04-05T06:50:57.497902Z",
     "shell.execute_reply": "2022-04-05T06:50:57.497054Z"
    }
   },
   "outputs": [
    {
     "ename": "NameError",
     "evalue": "name 'emin_vac_imd_file' is not defined",
     "output_type": "error",
     "traceback": [
      "\u001b[0;31m---------------------------------------------------------------------------\u001b[0m",
      "\u001b[0;31mNameError\u001b[0m                                 Traceback (most recent call last)",
      "\u001b[0;32m/tmp/ipykernel_17840/476242974.py\u001b[0m in \u001b[0;36m<module>\u001b[0;34m\u001b[0m\n\u001b[0;32m----> 1\u001b[0;31m \u001b[0memin_vac_imd_file\u001b[0m\u001b[0;34m.\u001b[0m\u001b[0mBOUNDCOND\u001b[0m\u001b[0;34m\u001b[0m\u001b[0;34m\u001b[0m\u001b[0m\n\u001b[0m",
      "\u001b[0;31mNameError\u001b[0m: name 'emin_vac_imd_file' is not defined"
     ]
    }
   ],
   "source": [
    "emin_vac_imd_file.BOUNDCOND"
   ]
  },
  {
   "cell_type": "markdown",
   "metadata": {},
   "source": [
    "With the PRINTOUT block you can specify how often (every NTPRth step) you are printing out the energies\n",
    "to the output file."
   ]
  },
  {
   "cell_type": "code",
   "execution_count": 22,
   "metadata": {
    "execution": {
     "iopub.execute_input": "2022-04-05T06:50:57.500241Z",
     "iopub.status.busy": "2022-04-05T06:50:57.500043Z",
     "iopub.status.idle": "2022-04-05T06:50:57.508276Z",
     "shell.execute_reply": "2022-04-05T06:50:57.507587Z"
    }
   },
   "outputs": [
    {
     "ename": "NameError",
     "evalue": "name 'emin_vac_imd_file' is not defined",
     "output_type": "error",
     "traceback": [
      "\u001b[0;31m---------------------------------------------------------------------------\u001b[0m",
      "\u001b[0;31mNameError\u001b[0m                                 Traceback (most recent call last)",
      "\u001b[0;32m/tmp/ipykernel_17840/2704265119.py\u001b[0m in \u001b[0;36m<module>\u001b[0;34m\u001b[0m\n\u001b[0;32m----> 1\u001b[0;31m \u001b[0mhelp\u001b[0m\u001b[0;34m(\u001b[0m\u001b[0memin_vac_imd_file\u001b[0m\u001b[0;34m.\u001b[0m\u001b[0mPRINTOUT\u001b[0m\u001b[0;34m)\u001b[0m\u001b[0;34m\u001b[0m\u001b[0;34m\u001b[0m\u001b[0m\n\u001b[0m",
      "\u001b[0;31mNameError\u001b[0m: name 'emin_vac_imd_file' is not defined"
     ]
    }
   ],
   "source": [
    "help(emin_vac_imd_file.PRINTOUT)"
   ]
  },
  {
   "cell_type": "code",
   "execution_count": 23,
   "metadata": {
    "execution": {
     "iopub.execute_input": "2022-04-05T06:50:57.510610Z",
     "iopub.status.busy": "2022-04-05T06:50:57.510350Z",
     "iopub.status.idle": "2022-04-05T06:50:57.519411Z",
     "shell.execute_reply": "2022-04-05T06:50:57.518677Z"
    }
   },
   "outputs": [
    {
     "ename": "NameError",
     "evalue": "name 'emin_vac_imd_file' is not defined",
     "output_type": "error",
     "traceback": [
      "\u001b[0;31m---------------------------------------------------------------------------\u001b[0m",
      "\u001b[0;31mNameError\u001b[0m                                 Traceback (most recent call last)",
      "\u001b[0;32m/tmp/ipykernel_17840/306760349.py\u001b[0m in \u001b[0;36m<module>\u001b[0;34m\u001b[0m\n\u001b[0;32m----> 1\u001b[0;31m \u001b[0memin_vac_imd_file\u001b[0m\u001b[0;34m.\u001b[0m\u001b[0mPRINTOUT\u001b[0m\u001b[0;34m\u001b[0m\u001b[0;34m\u001b[0m\u001b[0m\n\u001b[0m",
      "\u001b[0;31mNameError\u001b[0m: name 'emin_vac_imd_file' is not defined"
     ]
    }
   ],
   "source": [
    "emin_vac_imd_file.PRINTOUT"
   ]
  },
  {
   "cell_type": "markdown",
   "metadata": {},
   "source": [
    "Bonds vibrate at high frequencies (hν ≫ kBT ). Therefore, these vibrations are of quantum-mechanical\n",
    "nature. So constraining the bond lengths is a better approximation than treating them as classical harmonic\n",
    "oscillators. Constraining all bond lengths of the solute and solvent (NTC=3) allows the use of a rather large\n",
    "time step of 2 fs. In this example the constraints are imposed by the SHAKE algorithm for both solute\n",
    "(NTCP=1) and solvent (NTCS=1) with a tolerance of 0.0001. See 4-90 for more information."
   ]
  },
  {
   "cell_type": "code",
   "execution_count": 24,
   "metadata": {
    "execution": {
     "iopub.execute_input": "2022-04-05T06:50:57.522016Z",
     "iopub.status.busy": "2022-04-05T06:50:57.521815Z",
     "iopub.status.idle": "2022-04-05T06:50:57.530059Z",
     "shell.execute_reply": "2022-04-05T06:50:57.529053Z"
    }
   },
   "outputs": [
    {
     "ename": "NameError",
     "evalue": "name 'emin_vac_imd_file' is not defined",
     "output_type": "error",
     "traceback": [
      "\u001b[0;31m---------------------------------------------------------------------------\u001b[0m",
      "\u001b[0;31mNameError\u001b[0m                                 Traceback (most recent call last)",
      "\u001b[0;32m/tmp/ipykernel_17840/3768594874.py\u001b[0m in \u001b[0;36m<module>\u001b[0;34m\u001b[0m\n\u001b[0;32m----> 1\u001b[0;31m \u001b[0mhelp\u001b[0m\u001b[0;34m(\u001b[0m\u001b[0memin_vac_imd_file\u001b[0m\u001b[0;34m.\u001b[0m\u001b[0mCONSTRAINT\u001b[0m\u001b[0;34m)\u001b[0m\u001b[0;34m\u001b[0m\u001b[0;34m\u001b[0m\u001b[0m\n\u001b[0m",
      "\u001b[0;31mNameError\u001b[0m: name 'emin_vac_imd_file' is not defined"
     ]
    }
   ],
   "source": [
    "help(emin_vac_imd_file.CONSTRAINT)"
   ]
  },
  {
   "cell_type": "code",
   "execution_count": 25,
   "metadata": {
    "execution": {
     "iopub.execute_input": "2022-04-05T06:50:57.533313Z",
     "iopub.status.busy": "2022-04-05T06:50:57.532783Z",
     "iopub.status.idle": "2022-04-05T06:50:57.541239Z",
     "shell.execute_reply": "2022-04-05T06:50:57.540518Z"
    }
   },
   "outputs": [
    {
     "ename": "NameError",
     "evalue": "name 'emin_vac_imd_file' is not defined",
     "output_type": "error",
     "traceback": [
      "\u001b[0;31m---------------------------------------------------------------------------\u001b[0m",
      "\u001b[0;31mNameError\u001b[0m                                 Traceback (most recent call last)",
      "\u001b[0;32m/tmp/ipykernel_17840/2988282952.py\u001b[0m in \u001b[0;36m<module>\u001b[0;34m\u001b[0m\n\u001b[0;32m----> 1\u001b[0;31m \u001b[0memin_vac_imd_file\u001b[0m\u001b[0;34m.\u001b[0m\u001b[0mCONSTRAINT\u001b[0m\u001b[0;34m\u001b[0m\u001b[0;34m\u001b[0m\u001b[0m\n\u001b[0m",
      "\u001b[0;31mNameError\u001b[0m: name 'emin_vac_imd_file' is not defined"
     ]
    }
   ],
   "source": [
    "emin_vac_imd_file.CONSTRAINT"
   ]
  },
  {
   "cell_type": "markdown",
   "metadata": {},
   "source": [
    "In the FORCE block you tell MD++ which terms it should use for the energy and force calculation. For bond\n",
    "angles, improper dihedrals, torsional dihedrals and the non-bonded interactions the standard terms of the\n",
    "GROMOS force field are switched on (1). Because we are using bond-length constraints and the SHAKE\n",
    "algorithm, we have to switch off (0) the bond-stretching terms for the bonds involving hydrogen atoms and\n",
    "not involving hydrogen atoms..\n",
    "In the last line of this block, the energy groups are defined. In general, we define one or more energy\n",
    "groups for every molecule, and one comprising all the solvent molecules. The first integer is the number of\n",
    "energy groups we want to use (in the present case we only have one energy group). The following numbers\n",
    "are the atom sequence numbers of the last atom of each energy group. By defining these energy groups we\n",
    "7-9\n",
    "tell MD++ to sum up the energies between the atoms within these groups and calculate the inter-group\n",
    "energies, which can be very useful."
   ]
  },
  {
   "cell_type": "code",
   "execution_count": 26,
   "metadata": {
    "execution": {
     "iopub.execute_input": "2022-04-05T06:50:57.543646Z",
     "iopub.status.busy": "2022-04-05T06:50:57.543426Z",
     "iopub.status.idle": "2022-04-05T06:50:57.552438Z",
     "shell.execute_reply": "2022-04-05T06:50:57.551648Z"
    }
   },
   "outputs": [
    {
     "ename": "NameError",
     "evalue": "name 'emin_vac_imd_file' is not defined",
     "output_type": "error",
     "traceback": [
      "\u001b[0;31m---------------------------------------------------------------------------\u001b[0m",
      "\u001b[0;31mNameError\u001b[0m                                 Traceback (most recent call last)",
      "\u001b[0;32m/tmp/ipykernel_17840/1958359844.py\u001b[0m in \u001b[0;36m<module>\u001b[0;34m\u001b[0m\n\u001b[0;32m----> 1\u001b[0;31m \u001b[0memin_vac_imd_file\u001b[0m\u001b[0;34m.\u001b[0m\u001b[0mFORCE\u001b[0m\u001b[0;34m\u001b[0m\u001b[0;34m\u001b[0m\u001b[0m\n\u001b[0m",
      "\u001b[0;31mNameError\u001b[0m: name 'emin_vac_imd_file' is not defined"
     ]
    }
   ],
   "source": [
    "emin_vac_imd_file.FORCE"
   ]
  },
  {
   "cell_type": "markdown",
   "metadata": {},
   "source": [
    "In the PAIRLIST block you specify which algorithm you will use for the pairlist generation. The cut-off used\n",
    "in the short-range pairlist construction is given by RCUTP and for GROMOS it is usually 0.8 nm. The cut-off\n",
    "used in the long-range interactions is given by RCUTL and for GROMOS it is usually 1.4 nm. The pairlist is\n",
    "generated every 5th (NSNB) step. TYPE specifies the type of the cut-off, whether it is based on the distance\n",
    "between charge-groups (0) or on the distance between atoms (1).\n",
    "\n",
    "***\n",
    "**Warning**: Think very carefully about the definition of energy groups before running the simulation. Energies\n",
    "of energy groups can not be calculated from the trajectories in an efficient way. So, changing an energy-group\n",
    "definition will result in rerunning the simulation.\n",
    "***\n"
   ]
  },
  {
   "cell_type": "code",
   "execution_count": 27,
   "metadata": {
    "execution": {
     "iopub.execute_input": "2022-04-05T06:50:57.554667Z",
     "iopub.status.busy": "2022-04-05T06:50:57.554466Z",
     "iopub.status.idle": "2022-04-05T06:50:57.562077Z",
     "shell.execute_reply": "2022-04-05T06:50:57.561322Z"
    }
   },
   "outputs": [
    {
     "ename": "NameError",
     "evalue": "name 'emin_vac_imd_file' is not defined",
     "output_type": "error",
     "traceback": [
      "\u001b[0;31m---------------------------------------------------------------------------\u001b[0m",
      "\u001b[0;31mNameError\u001b[0m                                 Traceback (most recent call last)",
      "\u001b[0;32m/tmp/ipykernel_17840/2692266924.py\u001b[0m in \u001b[0;36m<module>\u001b[0;34m\u001b[0m\n\u001b[0;32m----> 1\u001b[0;31m \u001b[0mhelp\u001b[0m\u001b[0;34m(\u001b[0m\u001b[0memin_vac_imd_file\u001b[0m\u001b[0;34m.\u001b[0m\u001b[0mPAIRLIST\u001b[0m\u001b[0;34m)\u001b[0m\u001b[0;34m\u001b[0m\u001b[0;34m\u001b[0m\u001b[0m\n\u001b[0m",
      "\u001b[0;31mNameError\u001b[0m: name 'emin_vac_imd_file' is not defined"
     ]
    }
   ],
   "source": [
    "help(emin_vac_imd_file.PAIRLIST)"
   ]
  },
  {
   "cell_type": "code",
   "execution_count": 28,
   "metadata": {
    "execution": {
     "iopub.execute_input": "2022-04-05T06:50:57.566056Z",
     "iopub.status.busy": "2022-04-05T06:50:57.565027Z",
     "iopub.status.idle": "2022-04-05T06:50:57.573208Z",
     "shell.execute_reply": "2022-04-05T06:50:57.572608Z"
    }
   },
   "outputs": [
    {
     "ename": "NameError",
     "evalue": "name 'emin_vac_imd_file' is not defined",
     "output_type": "error",
     "traceback": [
      "\u001b[0;31m---------------------------------------------------------------------------\u001b[0m",
      "\u001b[0;31mNameError\u001b[0m                                 Traceback (most recent call last)",
      "\u001b[0;32m/tmp/ipykernel_17840/3388799403.py\u001b[0m in \u001b[0;36m<module>\u001b[0;34m\u001b[0m\n\u001b[0;32m----> 1\u001b[0;31m \u001b[0memin_vac_imd_file\u001b[0m\u001b[0;34m.\u001b[0m\u001b[0mPAIRLIST\u001b[0m\u001b[0;34m\u001b[0m\u001b[0;34m\u001b[0m\u001b[0m\n\u001b[0m",
      "\u001b[0;31mNameError\u001b[0m: name 'emin_vac_imd_file' is not defined"
     ]
    }
   ],
   "source": [
    "emin_vac_imd_file.PAIRLIST"
   ]
  },
  {
   "cell_type": "markdown",
   "metadata": {},
   "source": [
    "In the NONBONDED block you specify using NLRELE which method for the evaluation of long-range electrostatic\n",
    "interactions is used. Since you will use the reaction-field method, the value of NLRELE should be equal to\n",
    "1. The long-range electrostatic interactions are truncated beyond a certain cutoff (RCUTL in the PAIRLIST\n",
    "block). Beyond the reaction-field cut-off radius (RCRF) the electrostatic interactions are replaced by a static\n",
    "reaction field with a dielectric permittivity of EPSRF. RCRF and RCUTL should be identical. Because we are\n",
    "doing the energy minimisation in vacuo EPSRF is set to 1. With NSLFEXCL equal to 1, you include the\n",
    "contributions of excluded atoms to the electrostatic energy. The ionic strength of the continuum is set to 0\n",
    "(APPAK). All other switches are not used for the reaction-field method. See 4-98 for more information.\n"
   ]
  },
  {
   "cell_type": "code",
   "execution_count": 29,
   "metadata": {
    "execution": {
     "iopub.execute_input": "2022-04-05T06:50:57.575526Z",
     "iopub.status.busy": "2022-04-05T06:50:57.575333Z",
     "iopub.status.idle": "2022-04-05T06:50:57.583634Z",
     "shell.execute_reply": "2022-04-05T06:50:57.582972Z"
    }
   },
   "outputs": [
    {
     "ename": "NameError",
     "evalue": "name 'emin_vac_imd_file' is not defined",
     "output_type": "error",
     "traceback": [
      "\u001b[0;31m---------------------------------------------------------------------------\u001b[0m",
      "\u001b[0;31mNameError\u001b[0m                                 Traceback (most recent call last)",
      "\u001b[0;32m/tmp/ipykernel_17840/4111086784.py\u001b[0m in \u001b[0;36m<module>\u001b[0;34m\u001b[0m\n\u001b[0;32m----> 1\u001b[0;31m \u001b[0mhelp\u001b[0m\u001b[0;34m(\u001b[0m\u001b[0memin_vac_imd_file\u001b[0m\u001b[0;34m.\u001b[0m\u001b[0mNONBONDED\u001b[0m\u001b[0;34m)\u001b[0m\u001b[0;34m\u001b[0m\u001b[0;34m\u001b[0m\u001b[0m\n\u001b[0m",
      "\u001b[0;31mNameError\u001b[0m: name 'emin_vac_imd_file' is not defined"
     ]
    }
   ],
   "source": [
    "help(emin_vac_imd_file.NONBONDED)"
   ]
  },
  {
   "cell_type": "code",
   "execution_count": 30,
   "metadata": {
    "execution": {
     "iopub.execute_input": "2022-04-05T06:50:57.586389Z",
     "iopub.status.busy": "2022-04-05T06:50:57.586057Z",
     "iopub.status.idle": "2022-04-05T06:50:57.593062Z",
     "shell.execute_reply": "2022-04-05T06:50:57.592453Z"
    }
   },
   "outputs": [
    {
     "ename": "NameError",
     "evalue": "name 'emin_vac_imd_file' is not defined",
     "output_type": "error",
     "traceback": [
      "\u001b[0;31m---------------------------------------------------------------------------\u001b[0m",
      "\u001b[0;31mNameError\u001b[0m                                 Traceback (most recent call last)",
      "\u001b[0;32m/tmp/ipykernel_17840/349971298.py\u001b[0m in \u001b[0;36m<module>\u001b[0;34m\u001b[0m\n\u001b[0;32m----> 1\u001b[0;31m \u001b[0memin_vac_imd_file\u001b[0m\u001b[0;34m.\u001b[0m\u001b[0mNONBONDED\u001b[0m\u001b[0;34m\u001b[0m\u001b[0;34m\u001b[0m\u001b[0m\n\u001b[0m",
      "\u001b[0;31mNameError\u001b[0m: name 'emin_vac_imd_file' is not defined"
     ]
    }
   ],
   "source": [
    "emin_vac_imd_file.NONBONDED"
   ]
  },
  {
   "cell_type": "markdown",
   "metadata": {},
   "source": [
    "#### Perform Emin\n",
    "In order to run the MD++ program, a shell script needs to be prepared. Open the shell script em peptide.\n",
    "run and adapt the paths and the names of the files according to your system.\n"
   ]
  },
  {
   "cell_type": "code",
   "execution_count": 31,
   "metadata": {
    "execution": {
     "iopub.execute_input": "2022-04-05T06:50:57.595879Z",
     "iopub.status.busy": "2022-04-05T06:50:57.595253Z",
     "iopub.status.idle": "2022-04-05T06:50:57.611073Z",
     "shell.execute_reply": "2022-04-05T06:50:57.610315Z"
    }
   },
   "outputs": [
    {
     "ename": "NameError",
     "evalue": "name 'build_system' is not defined",
     "output_type": "error",
     "traceback": [
      "\u001b[0;31m---------------------------------------------------------------------------\u001b[0m",
      "\u001b[0;31mNameError\u001b[0m                                 Traceback (most recent call last)",
      "\u001b[0;32m/tmp/ipykernel_17840/327632679.py\u001b[0m in \u001b[0;36m<module>\u001b[0;34m\u001b[0m\n\u001b[1;32m      4\u001b[0m \u001b[0;34m\u001b[0m\u001b[0m\n\u001b[1;32m      5\u001b[0m \u001b[0;31m## Preparing emin gromos system\u001b[0m\u001b[0;34m\u001b[0m\u001b[0;34m\u001b[0m\u001b[0m\n\u001b[0;32m----> 6\u001b[0;31m \u001b[0min_emin_system\u001b[0m \u001b[0;34m=\u001b[0m \u001b[0mbuild_system\u001b[0m\u001b[0;34m.\u001b[0m\u001b[0mcopy\u001b[0m\u001b[0;34m(\u001b[0m\u001b[0;34m)\u001b[0m\u001b[0;34m\u001b[0m\u001b[0;34m\u001b[0m\u001b[0m\n\u001b[0m\u001b[1;32m      7\u001b[0m \u001b[0min_emin_system\u001b[0m\u001b[0;34m.\u001b[0m\u001b[0mwork_folder\u001b[0m \u001b[0;34m=\u001b[0m \u001b[0mproject_dir\u001b[0m\u001b[0;34m\u001b[0m\u001b[0;34m\u001b[0m\u001b[0m\n\u001b[1;32m      8\u001b[0m \u001b[0min_emin_system\u001b[0m\u001b[0;34m.\u001b[0m\u001b[0m_gromosXX_bin_dir\u001b[0m \u001b[0;34m=\u001b[0m \u001b[0mgromosXX_bin\u001b[0m\u001b[0;34m\u001b[0m\u001b[0;34m\u001b[0m\u001b[0m\n",
      "\u001b[0;31mNameError\u001b[0m: name 'build_system' is not defined"
     ]
    }
   ],
   "source": [
    "from pygromos.simulations.modules.preset_simulation_modules import emin\n",
    "\n",
    "out_prefix = \"emin_vacuum\"\n",
    "\n",
    "## Preparing emin gromos system\n",
    "in_emin_system = build_system.copy()\n",
    "in_emin_system.work_folder = project_dir\n",
    "in_emin_system._gromosXX_bin_dir = gromosXX_bin\n",
    "in_emin_system.imd = emin_vac_imd_file # This step is not necessary, as we did this before\n",
    "\n",
    "from pygromos.files.blocks.imd_blocks import WRITETRAJ\n",
    "in_emin_system.imd.add_block(block=WRITETRAJ(NTWE=25, NTWX=25))\n",
    "\n",
    "in_emin_system.prepare_for_simulation()\n",
    "\n",
    "in_emin_system"
   ]
  },
  {
   "cell_type": "code",
   "execution_count": 32,
   "metadata": {
    "execution": {
     "iopub.execute_input": "2022-04-05T06:50:57.614235Z",
     "iopub.status.busy": "2022-04-05T06:50:57.613590Z",
     "iopub.status.idle": "2022-04-05T06:50:57.621778Z",
     "shell.execute_reply": "2022-04-05T06:50:57.621080Z"
    }
   },
   "outputs": [
    {
     "ename": "NameError",
     "evalue": "name 'in_emin_system' is not defined",
     "output_type": "error",
     "traceback": [
      "\u001b[0;31m---------------------------------------------------------------------------\u001b[0m",
      "\u001b[0;31mNameError\u001b[0m                                 Traceback (most recent call last)",
      "\u001b[0;32m/tmp/ipykernel_17840/1356800820.py\u001b[0m in \u001b[0;36m<module>\u001b[0;34m\u001b[0m\n\u001b[0;32m----> 1\u001b[0;31m out_emin_system = emin(in_gromos_system=in_emin_system,\n\u001b[0m\u001b[1;32m      2\u001b[0m                        step_name=\"b_\"+out_prefix)\n",
      "\u001b[0;31mNameError\u001b[0m: name 'in_emin_system' is not defined"
     ]
    }
   ],
   "source": [
    "out_emin_system = emin(in_gromos_system=in_emin_system,\n",
    "                       step_name=\"b_\"+out_prefix)"
   ]
  },
  {
   "cell_type": "markdown",
   "metadata": {},
   "source": [
    "#### Analysis \n",
    "Once the energy minimisation is finished, the file with the minimized coordinates, peptide min.cnf, and the general output file, em peptide.omd, that reports the progress of the minimisation, will be written out.\n",
    "Have a look at both files and check if the minimisation has finished successfully. \n",
    "\n"
   ]
  },
  {
   "cell_type": "code",
   "execution_count": 33,
   "metadata": {
    "execution": {
     "iopub.execute_input": "2022-04-05T06:50:57.624137Z",
     "iopub.status.busy": "2022-04-05T06:50:57.623928Z",
     "iopub.status.idle": "2022-04-05T06:50:57.632793Z",
     "shell.execute_reply": "2022-04-05T06:50:57.632098Z"
    }
   },
   "outputs": [
    {
     "ename": "NameError",
     "evalue": "name 'out_emin_system' is not defined",
     "output_type": "error",
     "traceback": [
      "\u001b[0;31m---------------------------------------------------------------------------\u001b[0m",
      "\u001b[0;31mNameError\u001b[0m                                 Traceback (most recent call last)",
      "\u001b[0;32m/tmp/ipykernel_17840/3999014210.py\u001b[0m in \u001b[0;36m<module>\u001b[0;34m\u001b[0m\n\u001b[0;32m----> 1\u001b[0;31m \u001b[0mout_emin_system\u001b[0m\u001b[0;34m.\u001b[0m\u001b[0mcnf\u001b[0m\u001b[0;34m.\u001b[0m\u001b[0mview\u001b[0m\u001b[0;34m\u001b[0m\u001b[0;34m\u001b[0m\u001b[0m\n\u001b[0m",
      "\u001b[0;31mNameError\u001b[0m: name 'out_emin_system' is not defined"
     ]
    }
   ],
   "source": [
    "out_emin_system.cnf.view"
   ]
  },
  {
   "cell_type": "markdown",
   "metadata": {},
   "source": [
    "This is nice, but how do we actually get to this structure! In the next cell the development of the total Potential  energy over the energyminimization steps is shown. As you can see, the Potential energy of the whole system is decreasing, which indicates a relaxatio of the peptide structure and an optimization of the different forcefield terms. Ergo finding a minimal total potential system energy as possible is desirable in energyminimizations."
   ]
  },
  {
   "cell_type": "code",
   "execution_count": 34,
   "metadata": {
    "execution": {
     "iopub.execute_input": "2022-04-05T06:50:57.635324Z",
     "iopub.status.busy": "2022-04-05T06:50:57.635113Z",
     "iopub.status.idle": "2022-04-05T06:50:57.643668Z",
     "shell.execute_reply": "2022-04-05T06:50:57.642926Z"
    }
   },
   "outputs": [
    {
     "ename": "NameError",
     "evalue": "name 'out_emin_system' is not defined",
     "output_type": "error",
     "traceback": [
      "\u001b[0;31m---------------------------------------------------------------------------\u001b[0m",
      "\u001b[0;31mNameError\u001b[0m                                 Traceback (most recent call last)",
      "\u001b[0;32m/tmp/ipykernel_17840/3301154550.py\u001b[0m in \u001b[0;36m<module>\u001b[0;34m\u001b[0m\n\u001b[0;32m----> 1\u001b[0;31m \u001b[0mout_emin_system\u001b[0m\u001b[0;34m.\u001b[0m\u001b[0mtre\u001b[0m\u001b[0;34m.\u001b[0m\u001b[0mget_totals\u001b[0m\u001b[0;34m(\u001b[0m\u001b[0;34m)\u001b[0m\u001b[0;34m.\u001b[0m\u001b[0mtotene\u001b[0m\u001b[0;34m.\u001b[0m\u001b[0mplot\u001b[0m\u001b[0;34m(\u001b[0m\u001b[0mxlabel\u001b[0m\u001b[0;34m=\u001b[0m\u001b[0;34m\"steps\"\u001b[0m\u001b[0;34m,\u001b[0m \u001b[0mylabel\u001b[0m\u001b[0;34m=\u001b[0m\u001b[0;34m\"$V_{tot}~[kJ/mol]$\"\u001b[0m\u001b[0;34m)\u001b[0m\u001b[0;34m\u001b[0m\u001b[0;34m\u001b[0m\u001b[0m\n\u001b[0m",
      "\u001b[0;31mNameError\u001b[0m: name 'out_emin_system' is not defined"
     ]
    }
   ],
   "source": [
    "out_emin_system.tre.get_totals().totene.plot(xlabel=\"steps\", ylabel=\"$V_{tot}~[kJ/mol]$\")\n"
   ]
  },
  {
   "cell_type": "markdown",
   "metadata": {},
   "source": [
    "The effect seend in the total potential energy can also be observed of course in the peptide molecue coordinats."
   ]
  },
  {
   "cell_type": "code",
   "execution_count": 35,
   "metadata": {
    "execution": {
     "iopub.execute_input": "2022-04-05T06:50:57.646888Z",
     "iopub.status.busy": "2022-04-05T06:50:57.646262Z",
     "iopub.status.idle": "2022-04-05T06:50:57.656074Z",
     "shell.execute_reply": "2022-04-05T06:50:57.655290Z"
    }
   },
   "outputs": [
    {
     "ename": "NameError",
     "evalue": "name 'out_emin_system' is not defined",
     "output_type": "error",
     "traceback": [
      "\u001b[0;31m---------------------------------------------------------------------------\u001b[0m",
      "\u001b[0;31mNameError\u001b[0m                                 Traceback (most recent call last)",
      "\u001b[0;32m/tmp/ipykernel_17840/1080557569.py\u001b[0m in \u001b[0;36m<module>\u001b[0;34m\u001b[0m\n\u001b[0;32m----> 1\u001b[0;31m \u001b[0mview\u001b[0m \u001b[0;34m=\u001b[0m \u001b[0mout_emin_system\u001b[0m\u001b[0;34m.\u001b[0m\u001b[0mtrc\u001b[0m\u001b[0;34m.\u001b[0m\u001b[0mview\u001b[0m\u001b[0;34m\u001b[0m\u001b[0;34m\u001b[0m\u001b[0m\n\u001b[0m\u001b[1;32m      2\u001b[0m \u001b[0mview\u001b[0m\u001b[0;34m\u001b[0m\u001b[0;34m\u001b[0m\u001b[0m\n",
      "\u001b[0;31mNameError\u001b[0m: name 'out_emin_system' is not defined"
     ]
    }
   ],
   "source": [
    "view = out_emin_system.trc.view\n",
    "view"
   ]
  },
  {
   "cell_type": "markdown",
   "metadata": {},
   "source": [
    "Finally we wan to store our energy minimization results as a python pickle obj."
   ]
  },
  {
   "cell_type": "code",
   "execution_count": 36,
   "metadata": {
    "execution": {
     "iopub.execute_input": "2022-04-05T06:50:57.658426Z",
     "iopub.status.busy": "2022-04-05T06:50:57.658228Z",
     "iopub.status.idle": "2022-04-05T06:50:57.669716Z",
     "shell.execute_reply": "2022-04-05T06:50:57.668764Z"
    }
   },
   "outputs": [
    {
     "ename": "NameError",
     "evalue": "name 'out_emin_system' is not defined",
     "output_type": "error",
     "traceback": [
      "\u001b[0;31m---------------------------------------------------------------------------\u001b[0m",
      "\u001b[0;31mNameError\u001b[0m                                 Traceback (most recent call last)",
      "\u001b[0;32m/tmp/ipykernel_17840/3081055068.py\u001b[0m in \u001b[0;36m<module>\u001b[0;34m\u001b[0m\n\u001b[0;32m----> 1\u001b[0;31m \u001b[0mout_emin_system_path\u001b[0m \u001b[0;34m=\u001b[0m \u001b[0mout_emin_system\u001b[0m\u001b[0;34m.\u001b[0m\u001b[0msave\u001b[0m\u001b[0;34m(\u001b[0m\u001b[0mout_emin_system\u001b[0m\u001b[0;34m.\u001b[0m\u001b[0mwork_folder\u001b[0m\u001b[0;34m+\u001b[0m\u001b[0;34m\"/emin_vac_result.obj\"\u001b[0m\u001b[0;34m)\u001b[0m\u001b[0;34m\u001b[0m\u001b[0;34m\u001b[0m\u001b[0m\n\u001b[0m",
      "\u001b[0;31mNameError\u001b[0m: name 'out_emin_system' is not defined"
     ]
    }
   ],
   "source": [
    "out_emin_system_path = out_emin_system.save(out_emin_system.work_folder+\"/emin_vac_result.obj\")\n"
   ]
  },
  {
   "cell_type": "code",
   "execution_count": 37,
   "metadata": {
    "execution": {
     "iopub.execute_input": "2022-04-05T06:50:57.672504Z",
     "iopub.status.busy": "2022-04-05T06:50:57.672300Z",
     "iopub.status.idle": "2022-04-05T06:50:57.675810Z",
     "shell.execute_reply": "2022-04-05T06:50:57.674926Z"
    }
   },
   "outputs": [],
   "source": [
    "#if you want to load the file:\n",
    "#out_emin_system = Gromos_System.load(out_emin_system.work_folder+\"/emin_vac_result.obj\")"
   ]
  },
  {
   "cell_type": "markdown",
   "metadata": {
    "pycharm": {
     "name": "#%% md\n"
    }
   },
   "source": [
    "## Solvatistation and Solvent Energy Minimization\n",
    "\n",
    "Now you can put the energy minimized penta-peptide in a box of solvent to simulate an aequos environment. This can be done with the *sim_box* function of the gromosSyste, which can solvate the solute in a pre-equilibrated box of solvent molecules. As input for the function *sim_box* you have to specify the following input arguments:\n",
    "* **periodic_boundary_condition**: the resulting box shape under the argument (r - rectangular, t - truncated octahedron, c - triclinic)\n",
    "* **in_solvent_cnf_file_path**: the coordinate file of the pre-equilibrated box of solvent molecules under the argument (we are using a template $H_2O$ of the SPC model provided in pygromos.data.solvent_coordinates)\n",
    "* **minwall**: minimum solute-to-wall distance in $nm$\n",
    "* **threshold**: the minimum solute-to-solvent distance ins $nm$\n",
    "* **rotate**: If you are using a rectangular box (@pbc r) it is recommended to use an additional argument. With this additional argument the solute can be rotated (before solvating) such that the largest distance between any two solute atoms is directed along the z-axis, and the largest atom-atom distance in the xy-plane lies in the y-direction. An input file sim box peptide.arg is already prepared. \n"
   ]
  },
  {
   "cell_type": "code",
   "execution_count": 38,
   "metadata": {
    "execution": {
     "iopub.execute_input": "2022-04-05T06:50:57.678252Z",
     "iopub.status.busy": "2022-04-05T06:50:57.678051Z",
     "iopub.status.idle": "2022-04-05T06:50:57.686896Z",
     "shell.execute_reply": "2022-04-05T06:50:57.686161Z"
    }
   },
   "outputs": [
    {
     "ename": "NameError",
     "evalue": "name 'out_emin_system' is not defined",
     "output_type": "error",
     "traceback": [
      "\u001b[0;31m---------------------------------------------------------------------------\u001b[0m",
      "\u001b[0;31mNameError\u001b[0m                                 Traceback (most recent call last)",
      "\u001b[0;32m/tmp/ipykernel_17840/1955939196.py\u001b[0m in \u001b[0;36m<module>\u001b[0;34m\u001b[0m\n\u001b[0;32m----> 1\u001b[0;31m \u001b[0mhelp\u001b[0m\u001b[0;34m(\u001b[0m\u001b[0mout_emin_system\u001b[0m\u001b[0;34m.\u001b[0m\u001b[0msim_box\u001b[0m\u001b[0;34m)\u001b[0m\u001b[0;34m\u001b[0m\u001b[0;34m\u001b[0m\u001b[0m\n\u001b[0m",
      "\u001b[0;31mNameError\u001b[0m: name 'out_emin_system' is not defined"
     ]
    }
   ],
   "source": [
    "help(out_emin_system.sim_box)"
   ]
  },
  {
   "cell_type": "code",
   "execution_count": 39,
   "metadata": {
    "execution": {
     "iopub.execute_input": "2022-04-05T06:50:57.689438Z",
     "iopub.status.busy": "2022-04-05T06:50:57.689025Z",
     "iopub.status.idle": "2022-04-05T06:50:57.697863Z",
     "shell.execute_reply": "2022-04-05T06:50:57.696979Z"
    }
   },
   "outputs": [
    {
     "ename": "NameError",
     "evalue": "name 'out_emin_system' is not defined",
     "output_type": "error",
     "traceback": [
      "\u001b[0;31m---------------------------------------------------------------------------\u001b[0m",
      "\u001b[0;31mNameError\u001b[0m                                 Traceback (most recent call last)",
      "\u001b[0;32m/tmp/ipykernel_17840/838425567.py\u001b[0m in \u001b[0;36m<module>\u001b[0;34m\u001b[0m\n\u001b[0;32m----> 1\u001b[0;31m \u001b[0mvars\u001b[0m\u001b[0;34m(\u001b[0m\u001b[0mout_emin_system\u001b[0m\u001b[0;34m.\u001b[0m\u001b[0mtrc\u001b[0m\u001b[0;34m)\u001b[0m\u001b[0;34m.\u001b[0m\u001b[0mkeys\u001b[0m\u001b[0;34m(\u001b[0m\u001b[0;34m)\u001b[0m\u001b[0;34m\u001b[0m\u001b[0;34m\u001b[0m\u001b[0m\n\u001b[0m",
      "\u001b[0;31mNameError\u001b[0m: name 'out_emin_system' is not defined"
     ]
    }
   ],
   "source": [
    "vars(out_emin_system.trc).keys()"
   ]
  },
  {
   "cell_type": "markdown",
   "metadata": {},
   "source": [
    "### build box system\n",
    "To put the solvent box around the penta-peptide use following commands:\n"
   ]
  },
  {
   "cell_type": "code",
   "execution_count": 40,
   "metadata": {
    "execution": {
     "iopub.execute_input": "2022-04-05T06:50:57.700447Z",
     "iopub.status.busy": "2022-04-05T06:50:57.700249Z",
     "iopub.status.idle": "2022-04-05T06:50:57.710105Z",
     "shell.execute_reply": "2022-04-05T06:50:57.709414Z"
    }
   },
   "outputs": [
    {
     "ename": "NameError",
     "evalue": "name 'out_emin_system' is not defined",
     "output_type": "error",
     "traceback": [
      "\u001b[0;31m---------------------------------------------------------------------------\u001b[0m",
      "\u001b[0;31mNameError\u001b[0m                                 Traceback (most recent call last)",
      "\u001b[0;32m/tmp/ipykernel_17840/2018787445.py\u001b[0m in \u001b[0;36m<module>\u001b[0;34m\u001b[0m\n\u001b[1;32m      2\u001b[0m \u001b[0;34m\u001b[0m\u001b[0m\n\u001b[1;32m      3\u001b[0m \u001b[0;31m#setup a fresh gromos System:\u001b[0m\u001b[0;34m\u001b[0m\u001b[0;34m\u001b[0m\u001b[0m\n\u001b[0;32m----> 4\u001b[0;31m \u001b[0mbox_system\u001b[0m \u001b[0;34m=\u001b[0m \u001b[0mout_emin_system\u001b[0m\u001b[0;34m.\u001b[0m\u001b[0mcopy\u001b[0m\u001b[0;34m(\u001b[0m\u001b[0;34m)\u001b[0m\u001b[0;34m\u001b[0m\u001b[0;34m\u001b[0m\u001b[0m\n\u001b[0m\u001b[1;32m      5\u001b[0m \u001b[0;31m#box_system = gromos_system.Gromos_System.load(out_emin_system_path) #if you do this step after a break, you could also decide to load the serialized obj from before.\u001b[0m\u001b[0;34m\u001b[0m\u001b[0;34m\u001b[0m\u001b[0m\n\u001b[1;32m      6\u001b[0m \u001b[0;34m\u001b[0m\u001b[0m\n",
      "\u001b[0;31mNameError\u001b[0m: name 'out_emin_system' is not defined"
     ]
    }
   ],
   "source": [
    "from pygromos.data.solvent_coordinates import spc\n",
    "\n",
    "#setup a fresh gromos System:\n",
    "box_system = out_emin_system.copy()\n",
    "#box_system = gromos_system.Gromos_System.load(out_emin_system_path) #if you do this step after a break, you could also decide to load the serialized obj from before.\n",
    "\n",
    "box_system.imd = None\n",
    "box_system.name = \"solvate_box\"\n",
    "box_system.work_folder = bash.make_folder(project_dir+\"/c_\"+box_system.name)\n",
    "\n",
    "\n",
    "## set box and solvate the system\n",
    "box_system.cnf.add_empty_box()\n",
    "box_system.sim_box(in_solvent_cnf_file_path=spc,\n",
    "                 periodic_boundary_condition=\"r\",\n",
    "                 minwall=0.8,\n",
    "                 threshold=0.23,\n",
    "                 rotate=False)\n",
    "\n",
    "#box_system.cnf\n",
    "box_system.rebase_files() #write out the files (optional) - so you can check them in the folder\n",
    "box_system.cnf.view #show the results"
   ]
  },
  {
   "cell_type": "markdown",
   "metadata": {
    "pycharm": {
     "name": "#%% md\n"
    }
   },
   "source": [
    "### Add Ions\n",
    "After solvating the system, two $Cl-$ ions shall be added to the box as counter charges for the two positive peptide residues (Arginine and Lysine).\n",
    "\n",
    "To add the ions, we need to know the name of the building block in Gromos54A7. We can checkout the names of the Atomtype names in the topology of our system: "
   ]
  },
  {
   "cell_type": "code",
   "execution_count": 41,
   "metadata": {
    "execution": {
     "iopub.execute_input": "2022-04-05T06:50:57.712470Z",
     "iopub.status.busy": "2022-04-05T06:50:57.712263Z",
     "iopub.status.idle": "2022-04-05T06:50:57.722189Z",
     "shell.execute_reply": "2022-04-05T06:50:57.721214Z"
    }
   },
   "outputs": [
    {
     "ename": "NameError",
     "evalue": "name 'box_system' is not defined",
     "output_type": "error",
     "traceback": [
      "\u001b[0;31m---------------------------------------------------------------------------\u001b[0m",
      "\u001b[0;31mNameError\u001b[0m                                 Traceback (most recent call last)",
      "\u001b[0;32m/tmp/ipykernel_17840/2889188333.py\u001b[0m in \u001b[0;36m<module>\u001b[0;34m\u001b[0m\n\u001b[0;32m----> 1\u001b[0;31m \u001b[0mprint\u001b[0m\u001b[0;34m(\u001b[0m\u001b[0;34m[\u001b[0m \u001b[0ma\u001b[0m \u001b[0;32mfor\u001b[0m \u001b[0ma\u001b[0m \u001b[0;32min\u001b[0m \u001b[0mbox_system\u001b[0m\u001b[0;34m.\u001b[0m\u001b[0mtop\u001b[0m\u001b[0;34m.\u001b[0m\u001b[0mATOMTYPENAME\u001b[0m\u001b[0;34m]\u001b[0m\u001b[0;34m)\u001b[0m\u001b[0;34m\u001b[0m\u001b[0;34m\u001b[0m\u001b[0m\n\u001b[0m",
      "\u001b[0;31mNameError\u001b[0m: name 'box_system' is not defined"
     ]
    }
   ],
   "source": [
    "print([ a for a in box_system.top.ATOMTYPENAME])"
   ]
  },
  {
   "cell_type": "markdown",
   "metadata": {},
   "source": [
    "After finding the atomtype name (hint: 'CL-'), we next can use it to add two of these ions to our system with the ion function."
   ]
  },
  {
   "cell_type": "code",
   "execution_count": 42,
   "metadata": {
    "execution": {
     "iopub.execute_input": "2022-04-05T06:50:57.724841Z",
     "iopub.status.busy": "2022-04-05T06:50:57.724630Z",
     "iopub.status.idle": "2022-04-05T06:50:57.733650Z",
     "shell.execute_reply": "2022-04-05T06:50:57.732427Z"
    }
   },
   "outputs": [
    {
     "ename": "NameError",
     "evalue": "name 'box_system' is not defined",
     "output_type": "error",
     "traceback": [
      "\u001b[0;31m---------------------------------------------------------------------------\u001b[0m",
      "\u001b[0;31mNameError\u001b[0m                                 Traceback (most recent call last)",
      "\u001b[0;32m/tmp/ipykernel_17840/560721524.py\u001b[0m in \u001b[0;36m<module>\u001b[0;34m\u001b[0m\n\u001b[0;32m----> 1\u001b[0;31m \u001b[0mhelp\u001b[0m\u001b[0;34m(\u001b[0m\u001b[0mbox_system\u001b[0m\u001b[0;34m.\u001b[0m\u001b[0mion\u001b[0m\u001b[0;34m)\u001b[0m\u001b[0;34m\u001b[0m\u001b[0;34m\u001b[0m\u001b[0m\n\u001b[0m",
      "\u001b[0;31mNameError\u001b[0m: name 'box_system' is not defined"
     ]
    }
   ],
   "source": [
    "help(box_system.ion)"
   ]
  },
  {
   "cell_type": "code",
   "execution_count": 43,
   "metadata": {
    "execution": {
     "iopub.execute_input": "2022-04-05T06:50:57.736868Z",
     "iopub.status.busy": "2022-04-05T06:50:57.736408Z",
     "iopub.status.idle": "2022-04-05T06:50:57.745353Z",
     "shell.execute_reply": "2022-04-05T06:50:57.744597Z"
    }
   },
   "outputs": [
    {
     "ename": "NameError",
     "evalue": "name 'box_system' is not defined",
     "output_type": "error",
     "traceback": [
      "\u001b[0;31m---------------------------------------------------------------------------\u001b[0m",
      "\u001b[0;31mNameError\u001b[0m                                 Traceback (most recent call last)",
      "\u001b[0;32m/tmp/ipykernel_17840/54869407.py\u001b[0m in \u001b[0;36m<module>\u001b[0;34m\u001b[0m\n\u001b[1;32m      2\u001b[0m \u001b[0;34m\u001b[0m\u001b[0m\n\u001b[1;32m      3\u001b[0m \u001b[0;31m## Build directory and setup a fresh Gromos System\u001b[0m\u001b[0;34m\u001b[0m\u001b[0;34m\u001b[0m\u001b[0m\n\u001b[0;32m----> 4\u001b[0;31m \u001b[0mion_system\u001b[0m \u001b[0;34m=\u001b[0m \u001b[0mbox_system\u001b[0m\u001b[0;34m.\u001b[0m\u001b[0mcopy\u001b[0m\u001b[0;34m(\u001b[0m\u001b[0;34m)\u001b[0m\u001b[0;34m\u001b[0m\u001b[0;34m\u001b[0m\u001b[0m\n\u001b[0m\u001b[1;32m      5\u001b[0m \u001b[0mion_system\u001b[0m\u001b[0;34m.\u001b[0m\u001b[0mname\u001b[0m \u001b[0;34m=\u001b[0m \u001b[0;34m\"ion\"\u001b[0m\u001b[0;34m\u001b[0m\u001b[0;34m\u001b[0m\u001b[0m\n\u001b[1;32m      6\u001b[0m \u001b[0mion_system\u001b[0m\u001b[0;34m.\u001b[0m\u001b[0mwork_folder\u001b[0m \u001b[0;34m=\u001b[0m \u001b[0mbash\u001b[0m\u001b[0;34m.\u001b[0m\u001b[0mmake_folder\u001b[0m\u001b[0;34m(\u001b[0m\u001b[0mproject_dir\u001b[0m\u001b[0;34m+\u001b[0m\u001b[0;34m\"/d_\"\u001b[0m\u001b[0;34m+\u001b[0m\u001b[0mion_system\u001b[0m\u001b[0;34m.\u001b[0m\u001b[0mname\u001b[0m\u001b[0;34m)\u001b[0m\u001b[0;34m\u001b[0m\u001b[0;34m\u001b[0m\u001b[0m\n",
      "\u001b[0;31mNameError\u001b[0m: name 'box_system' is not defined"
     ]
    }
   ],
   "source": [
    "from pygromos.data.solvent_coordinates import spc\n",
    "\n",
    "## Build directory and setup a fresh Gromos System\n",
    "ion_system = box_system.copy() \n",
    "ion_system.name = \"ion\"\n",
    "ion_system.work_folder = bash.make_folder(project_dir+\"/d_\"+ion_system.name)\n",
    "\n",
    "#Add the ions to the System\n",
    "ion_system.ion(negative=[2, \"CL-\"])\n",
    "\n",
    "\n",
    "ion_system.rebase_files()   #write out the files, so you can check them (optional)\n",
    "ion_system.cnf.view  #show the results."
   ]
  },
  {
   "cell_type": "markdown",
   "metadata": {
    "pycharm": {
     "name": "#%% md\n"
    }
   },
   "source": [
    "### Energy Minimization BOX\n",
    "\n",
    "In order to relax the unfavorable atom-atom contacts between the solute and the solvent, energy minimization of the solvent should be performed while keeping the solute positionally restrained (i.e. connecting the atom to a reference position by a spring). In order to do that two additional files, in which the positionally restrained atoms and the reference coordinates are specified, have to be generated from the coordinate file in our gromos system. Afterwards, we are going to run the second energy minimization"
   ]
  },
  {
   "cell_type": "markdown",
   "metadata": {},
   "source": [
    "#### build posistion restraints\n",
    "To apply position restraints to our simulation for the peptide, we first need to generate a selection of residues, that shall not be modified by the energyminimization. This translates to the residues of the peptide. After this the function generate_posres can be used to generate two files.\n",
    "* **position restraints - posres(.por)**\n",
    "    This file defines the selection of atoms, that shall be restrained during the simulation.\n",
    "* **reference position - refpos (.rpf)**\n",
    "    This files defines a reference position for the system. Gromos will restrain the selected atoms in the posres file to the reference position file. So if the atom position during the simulation deviates from the refpos file, the program will restrain the atom, such it moves towards the reference position.\n"
   ]
  },
  {
   "cell_type": "code",
   "execution_count": 44,
   "metadata": {
    "execution": {
     "iopub.execute_input": "2022-04-05T06:50:57.751744Z",
     "iopub.status.busy": "2022-04-05T06:50:57.749673Z",
     "iopub.status.idle": "2022-04-05T06:50:57.763891Z",
     "shell.execute_reply": "2022-04-05T06:50:57.762704Z"
    }
   },
   "outputs": [
    {
     "ename": "NameError",
     "evalue": "name 'ion_system' is not defined",
     "output_type": "error",
     "traceback": [
      "\u001b[0;31m---------------------------------------------------------------------------\u001b[0m",
      "\u001b[0;31mNameError\u001b[0m                                 Traceback (most recent call last)",
      "\u001b[0;32m/tmp/ipykernel_17840/682416482.py\u001b[0m in \u001b[0;36m<module>\u001b[0;34m\u001b[0m\n\u001b[1;32m      3\u001b[0m \u001b[0;34m\u001b[0m\u001b[0m\n\u001b[1;32m      4\u001b[0m \u001b[0;31m# Preparing emin gromos system\u001b[0m\u001b[0;34m\u001b[0m\u001b[0;34m\u001b[0m\u001b[0m\n\u001b[0;32m----> 5\u001b[0;31m \u001b[0min_eminBox_system\u001b[0m \u001b[0;34m=\u001b[0m \u001b[0mion_system\u001b[0m\u001b[0;34m.\u001b[0m\u001b[0mcopy\u001b[0m\u001b[0;34m(\u001b[0m\u001b[0;34m)\u001b[0m\u001b[0;34m\u001b[0m\u001b[0;34m\u001b[0m\u001b[0m\n\u001b[0m\u001b[1;32m      6\u001b[0m \u001b[0min_eminBox_system\u001b[0m\u001b[0;34m.\u001b[0m\u001b[0mname\u001b[0m \u001b[0;34m=\u001b[0m \u001b[0;34m\"emin_solvBox\"\u001b[0m\u001b[0;34m\u001b[0m\u001b[0;34m\u001b[0m\u001b[0m\n\u001b[1;32m      7\u001b[0m \u001b[0min_eminBox_system\u001b[0m\u001b[0;34m.\u001b[0m\u001b[0mwork_folder\u001b[0m \u001b[0;34m=\u001b[0m \u001b[0mproject_dir\u001b[0m\u001b[0;34m\u001b[0m\u001b[0;34m\u001b[0m\u001b[0m\n",
      "\u001b[0;31mNameError\u001b[0m: name 'ion_system' is not defined"
     ]
    }
   ],
   "source": [
    "\n",
    "from pygromos.simulations.modules.preset_simulation_modules import emin\n",
    "from pygromos.data.simulation_parameters_templates import template_emin\n",
    "\n",
    "# Preparing emin gromos system\n",
    "in_eminBox_system = ion_system.copy()\n",
    "in_eminBox_system.name = \"emin_solvBox\"\n",
    "in_eminBox_system.work_folder = project_dir\n",
    "\n",
    "# Build position restraints\n",
    "## Build selection for residues\n",
    "restrain_res = [k for k in in_eminBox_system.cnf.residues if(not k in (\"CL-\", \"SOLV\"))]\n",
    "print(\"Selection of residues: \", restrain_res)\n",
    "## Build the restrain files\n",
    "in_eminBox_system.generate_posres(residues=restrain_res)\n",
    "\n",
    "# Check simulation params\n",
    "in_eminBox_system.imd = template_emin   #Here we use template simulation parameters, The blocks are the same as above in the vacuum case with slight deviations.\n",
    "in_eminBox_system.imd.INITIALISE.NTISHI = 1\n",
    "\n",
    "in_eminBox_system.prepare_for_simulation()\n",
    "\n",
    "in_eminBox_system"
   ]
  },
  {
   "cell_type": "markdown",
   "metadata": {},
   "source": [
    "In the ouptut of the in_eminBox_system two new files appeared the posres and refpos file:\n"
   ]
  },
  {
   "cell_type": "code",
   "execution_count": 45,
   "metadata": {
    "execution": {
     "iopub.execute_input": "2022-04-05T06:50:57.769819Z",
     "iopub.status.busy": "2022-04-05T06:50:57.768365Z",
     "iopub.status.idle": "2022-04-05T06:50:57.778201Z",
     "shell.execute_reply": "2022-04-05T06:50:57.777404Z"
    }
   },
   "outputs": [
    {
     "ename": "NameError",
     "evalue": "name 'in_eminBox_system' is not defined",
     "output_type": "error",
     "traceback": [
      "\u001b[0;31m---------------------------------------------------------------------------\u001b[0m",
      "\u001b[0;31mNameError\u001b[0m                                 Traceback (most recent call last)",
      "\u001b[0;32m/tmp/ipykernel_17840/3933610349.py\u001b[0m in \u001b[0;36m<module>\u001b[0;34m\u001b[0m\n\u001b[0;32m----> 1\u001b[0;31m \u001b[0mprint\u001b[0m\u001b[0;34m(\u001b[0m\u001b[0min_eminBox_system\u001b[0m\u001b[0;34m.\u001b[0m\u001b[0mposres\u001b[0m\u001b[0;34m)\u001b[0m\u001b[0;34m\u001b[0m\u001b[0;34m\u001b[0m\u001b[0m\n\u001b[0m",
      "\u001b[0;31mNameError\u001b[0m: name 'in_eminBox_system' is not defined"
     ]
    }
   ],
   "source": [
    "print(in_eminBox_system.posres)"
   ]
  },
  {
   "cell_type": "code",
   "execution_count": 46,
   "metadata": {
    "execution": {
     "iopub.execute_input": "2022-04-05T06:50:57.783010Z",
     "iopub.status.busy": "2022-04-05T06:50:57.781154Z",
     "iopub.status.idle": "2022-04-05T06:50:57.793676Z",
     "shell.execute_reply": "2022-04-05T06:50:57.792937Z"
    }
   },
   "outputs": [
    {
     "ename": "NameError",
     "evalue": "name 'in_eminBox_system' is not defined",
     "output_type": "error",
     "traceback": [
      "\u001b[0;31m---------------------------------------------------------------------------\u001b[0m",
      "\u001b[0;31mNameError\u001b[0m                                 Traceback (most recent call last)",
      "\u001b[0;32m/tmp/ipykernel_17840/1470707088.py\u001b[0m in \u001b[0;36m<module>\u001b[0;34m\u001b[0m\n\u001b[0;32m----> 1\u001b[0;31m \u001b[0min_eminBox_system\u001b[0m\u001b[0;34m.\u001b[0m\u001b[0mrefpos\u001b[0m\u001b[0;34m\u001b[0m\u001b[0;34m\u001b[0m\u001b[0m\n\u001b[0m",
      "\u001b[0;31mNameError\u001b[0m: name 'in_eminBox_system' is not defined"
     ]
    }
   ],
   "source": [
    "in_eminBox_system.refpos "
   ]
  },
  {
   "cell_type": "markdown",
   "metadata": {},
   "source": [
    "#### Perform Emin\n",
    "Now we will perform the solvent box energy minimization with the restrained peptide."
   ]
  },
  {
   "cell_type": "code",
   "execution_count": 47,
   "metadata": {
    "execution": {
     "iopub.execute_input": "2022-04-05T06:50:57.796078Z",
     "iopub.status.busy": "2022-04-05T06:50:57.795872Z",
     "iopub.status.idle": "2022-04-05T06:50:57.809391Z",
     "shell.execute_reply": "2022-04-05T06:50:57.808581Z"
    }
   },
   "outputs": [
    {
     "ename": "NameError",
     "evalue": "name 'in_eminBox_system' is not defined",
     "output_type": "error",
     "traceback": [
      "\u001b[0;31m---------------------------------------------------------------------------\u001b[0m",
      "\u001b[0;31mNameError\u001b[0m                                 Traceback (most recent call last)",
      "\u001b[0;32m/tmp/ipykernel_17840/1280377867.py\u001b[0m in \u001b[0;36m<module>\u001b[0;34m\u001b[0m\n\u001b[1;32m      1\u001b[0m \u001b[0;31m# run emin\u001b[0m\u001b[0;34m\u001b[0m\u001b[0;34m\u001b[0m\u001b[0m\n\u001b[0;32m----> 2\u001b[0;31m out_eminBox_system = emin(in_gromos_system=in_eminBox_system, \n\u001b[0m\u001b[1;32m      3\u001b[0m                           step_name=\"e_\"+in_eminBox_system.name)\n\u001b[1;32m      4\u001b[0m \u001b[0;34m\u001b[0m\u001b[0m\n",
      "\u001b[0;31mNameError\u001b[0m: name 'in_eminBox_system' is not defined"
     ]
    }
   ],
   "source": [
    "# run emin\n",
    "out_eminBox_system = emin(in_gromos_system=in_eminBox_system, \n",
    "                          step_name=\"e_\"+in_eminBox_system.name)\n",
    "\n"
   ]
  },
  {
   "cell_type": "markdown",
   "metadata": {},
   "source": [
    "Whoops what happened here? What you see is the effect of the periodic box and the  peptide placed directly at the corners of the box. \n",
    "This is absolutely ok and there is nothing to worry about. We can recenter the peptide and then we see the expected same configuration like from the vacuum emin."
   ]
  },
  {
   "cell_type": "code",
   "execution_count": 48,
   "metadata": {
    "execution": {
     "iopub.execute_input": "2022-04-05T06:50:57.812155Z",
     "iopub.status.busy": "2022-04-05T06:50:57.811947Z",
     "iopub.status.idle": "2022-04-05T06:50:57.825704Z",
     "shell.execute_reply": "2022-04-05T06:50:57.824770Z"
    }
   },
   "outputs": [
    {
     "ename": "NameError",
     "evalue": "name 'out_eminBox_system' is not defined",
     "output_type": "error",
     "traceback": [
      "\u001b[0;31m---------------------------------------------------------------------------\u001b[0m",
      "\u001b[0;31mNameError\u001b[0m                                 Traceback (most recent call last)",
      "\u001b[0;32m/tmp/ipykernel_17840/3841672548.py\u001b[0m in \u001b[0;36m<module>\u001b[0;34m\u001b[0m\n\u001b[1;32m      1\u001b[0m \u001b[0;31m#show resulting coordinates\u001b[0m\u001b[0;34m\u001b[0m\u001b[0;34m\u001b[0m\u001b[0m\n\u001b[0;32m----> 2\u001b[0;31m \u001b[0mview\u001b[0m \u001b[0;34m=\u001b[0m \u001b[0mout_eminBox_system\u001b[0m\u001b[0;34m.\u001b[0m\u001b[0mcnf\u001b[0m\u001b[0;34m.\u001b[0m\u001b[0mview\u001b[0m\u001b[0;34m\u001b[0m\u001b[0;34m\u001b[0m\u001b[0m\n\u001b[0m\u001b[1;32m      3\u001b[0m \u001b[0mview\u001b[0m\u001b[0;34m\u001b[0m\u001b[0;34m\u001b[0m\u001b[0m\n",
      "\u001b[0;31mNameError\u001b[0m: name 'out_eminBox_system' is not defined"
     ]
    }
   ],
   "source": [
    "#show resulting coordinates\n",
    "view = out_eminBox_system.cnf.view\n",
    "view"
   ]
  },
  {
   "cell_type": "markdown",
   "metadata": {},
   "source": [
    "Now lets fix that!"
   ]
  },
  {
   "cell_type": "code",
   "execution_count": 49,
   "metadata": {
    "execution": {
     "iopub.execute_input": "2022-04-05T06:50:57.828833Z",
     "iopub.status.busy": "2022-04-05T06:50:57.828307Z",
     "iopub.status.idle": "2022-04-05T06:50:57.841409Z",
     "shell.execute_reply": "2022-04-05T06:50:57.840457Z"
    }
   },
   "outputs": [
    {
     "ename": "NameError",
     "evalue": "name 'out_eminBox_system' is not defined",
     "output_type": "error",
     "traceback": [
      "\u001b[0;31m---------------------------------------------------------------------------\u001b[0m",
      "\u001b[0;31mNameError\u001b[0m                                 Traceback (most recent call last)",
      "\u001b[0;32m/tmp/ipykernel_17840/1370968844.py\u001b[0m in \u001b[0;36m<module>\u001b[0;34m\u001b[0m\n\u001b[1;32m      1\u001b[0m \u001b[0;31m#out_eminBox_system.cnf.recenter_pbc()\u001b[0m\u001b[0;34m\u001b[0m\u001b[0;34m\u001b[0m\u001b[0m\n\u001b[1;32m      2\u001b[0m \u001b[0;34m\u001b[0m\u001b[0m\n\u001b[0;32m----> 3\u001b[0;31m \u001b[0mout_eminBox_system\u001b[0m\u001b[0;34m.\u001b[0m\u001b[0mcnf\u001b[0m\u001b[0;34m.\u001b[0m\u001b[0mrecreate_view\u001b[0m\u001b[0;34m(\u001b[0m\u001b[0;34m)\u001b[0m\u001b[0;34m\u001b[0m\u001b[0;34m\u001b[0m\u001b[0m\n\u001b[0m\u001b[1;32m      4\u001b[0m \u001b[0mrecentered_view\u001b[0m \u001b[0;34m=\u001b[0m \u001b[0mout_eminBox_system\u001b[0m\u001b[0;34m.\u001b[0m\u001b[0mcnf\u001b[0m\u001b[0;34m.\u001b[0m\u001b[0mview\u001b[0m\u001b[0;34m\u001b[0m\u001b[0;34m\u001b[0m\u001b[0m\n\u001b[1;32m      5\u001b[0m \u001b[0mrecentered_view\u001b[0m\u001b[0;34m\u001b[0m\u001b[0;34m\u001b[0m\u001b[0m\n",
      "\u001b[0;31mNameError\u001b[0m: name 'out_eminBox_system' is not defined"
     ]
    }
   ],
   "source": [
    "#out_eminBox_system.cnf.recenter_pbc()\n",
    "\n",
    "out_eminBox_system.cnf.recreate_view()\n",
    "recentered_view = out_eminBox_system.cnf.view\n",
    "recentered_view"
   ]
  },
  {
   "cell_type": "code",
   "execution_count": 50,
   "metadata": {
    "execution": {
     "iopub.execute_input": "2022-04-05T06:50:57.845013Z",
     "iopub.status.busy": "2022-04-05T06:50:57.844697Z",
     "iopub.status.idle": "2022-04-05T06:50:57.858536Z",
     "shell.execute_reply": "2022-04-05T06:50:57.857438Z"
    }
   },
   "outputs": [
    {
     "ename": "NameError",
     "evalue": "name 'out_eminBox_system' is not defined",
     "output_type": "error",
     "traceback": [
      "\u001b[0;31m---------------------------------------------------------------------------\u001b[0m",
      "\u001b[0;31mNameError\u001b[0m                                 Traceback (most recent call last)",
      "\u001b[0;32m/tmp/ipykernel_17840/1182860247.py\u001b[0m in \u001b[0;36m<module>\u001b[0;34m\u001b[0m\n\u001b[0;32m----> 1\u001b[0;31m \u001b[0mout_eminBox_system_path\u001b[0m \u001b[0;34m=\u001b[0m \u001b[0mout_eminBox_system\u001b[0m\u001b[0;34m.\u001b[0m\u001b[0msave\u001b[0m\u001b[0;34m(\u001b[0m\u001b[0mout_eminBox_system\u001b[0m\u001b[0;34m.\u001b[0m\u001b[0mwork_folder\u001b[0m\u001b[0;34m+\u001b[0m\u001b[0;34m\"/emin_box_result.obj\"\u001b[0m\u001b[0;34m)\u001b[0m\u001b[0;34m\u001b[0m\u001b[0;34m\u001b[0m\u001b[0m\n\u001b[0m",
      "\u001b[0;31mNameError\u001b[0m: name 'out_eminBox_system' is not defined"
     ]
    }
   ],
   "source": [
    "out_eminBox_system_path = out_eminBox_system.save(out_eminBox_system.work_folder+\"/emin_box_result.obj\")"
   ]
  },
  {
   "cell_type": "markdown",
   "metadata": {
    "pycharm": {
     "name": "#%% md\n"
    }
   },
   "source": [
    "## Thermalisation and equilibration.\n",
    "\n",
    "In the previous steps you have generated a topology and initial coordinates of your system. At this point,\n",
    "you have to generate initial velocities. In the process of thermalisation and equilibration, initial velocities\n",
    "are sampled from a Maxwell-Boltzmann distribution at a low temperature and the system is slowly heated\n",
    "up to the final production simulation temperature. The atoms of the solute are again positionally restrained and\n",
    "these restraints are loosened while heating up. With the help of these restraints you make sure that the\n",
    "random initial velocities do not disrupt the initial conformation too much.\n",
    "\n",
    "### Simulation Paramters\n",
    "To performe the described equilibration we require additional Simulation Parameter blocks that will be described in the following. First we will load a simulation parameter template for MD simulations."
   ]
  },
  {
   "cell_type": "code",
   "execution_count": 51,
   "metadata": {
    "execution": {
     "iopub.execute_input": "2022-04-05T06:50:57.862624Z",
     "iopub.status.busy": "2022-04-05T06:50:57.861850Z",
     "iopub.status.idle": "2022-04-05T06:50:57.869992Z",
     "shell.execute_reply": "2022-04-05T06:50:57.869185Z"
    }
   },
   "outputs": [],
   "source": [
    "from pygromos.data.simulation_parameters_templates import template_md_tut as template_md\n",
    "from pygromos.files.simulation_parameters import imd\n",
    "\n",
    "\n",
    "md_imd_file = imd.Imd(template_md) #in_eq_system.imd\n"
   ]
  },
  {
   "cell_type": "markdown",
   "metadata": {},
   "source": [
    "#### Initialise Block\n",
    "In the INITIALISE block the NTIVEL tells GROMOS whether it should generate the initial velocities or\n",
    "read them from the configuration file. NTISHK is used to restore bond length constraints (SHAKE). NTINHT\n",
    "and NTINHB are only used for Nose-Hoover thermo- and barostats and can be ignored in our case. Every\n",
    "time an atom is leaving the periodic box and entering it from the opposite site this incident is recorded in\n",
    "the so-called lattice shift vectors. Using NTISHI we want to make sure that these vectors are initialised to\n",
    "zero. As you don’t want to use roto-translational constraints NTIRTC can be ignored. NTICOM is used for\n",
    "initial removal of centre of mass motion. NTISTI is used to reset the stochastic integrals used in stochastic\n",
    "dynamics (SD) simulations. IG is the random number generator seed and TEMPI the initial temperature used\n",
    "to generate the Maxwell-Boltzmann distribution for generation of initial velocities. See also 4-94 for more\n",
    "information."
   ]
  },
  {
   "cell_type": "code",
   "execution_count": 52,
   "metadata": {
    "execution": {
     "iopub.execute_input": "2022-04-05T06:50:57.872515Z",
     "iopub.status.busy": "2022-04-05T06:50:57.872315Z",
     "iopub.status.idle": "2022-04-05T06:50:57.879542Z",
     "shell.execute_reply": "2022-04-05T06:50:57.878747Z"
    }
   },
   "outputs": [
    {
     "name": "stdout",
     "output_type": "stream",
     "text": [
      "Help on INITIALISE in module pygromos.files.blocks.imd_blocks object:\n",
      "\n",
      "class INITIALISE(_generic_imd_block)\n",
      " |  INITIALISE(NTIVEL: bool = False, NTISHK: int = 0, NTINHT: bool = False, NTINHB: bool = False, NTISHI: bool = False, NTIRTC: bool = False, NTICOM: int = 0, NTISTI: bool = False, IG: int = 0, TEMPI: float = 0, content: List[str] = None)\n",
      " |  \n",
      " |  INITIALISE block\n",
      " |  \n",
      " |      This block controls the Initialisation of a simulation.\n",
      " |  \n",
      " |  Attributes\n",
      " |  ----------\n",
      " |  NTIVEL: bool\n",
      " |      0,1 controls generation of initial velocities\n",
      " |      0: read from configuration (default)\n",
      " |      1: generate from Maxell distribution at temperature TEMPI\n",
      " |  NTISHK: int\n",
      " |      0..3 controls shaking of initial configuration\n",
      " |      0: no intial SHAKE (default)\n",
      " |      1: initial SHAKE on coordinates only\n",
      " |      2: initial SHAKE on velocities only\n",
      " |      3: initial SHAKE on coordinates and velocities\n",
      " |  NTINHT: bool\n",
      " |      0,1 controls generation of initial Nose-Hoover chain variables\n",
      " |      0: read from configuration (default)\n",
      " |      1: reset variables to zero.\n",
      " |  NTINHB: bool\n",
      " |      0,1 controls generation of initial Nose-Hoover (chain) barostat variables\n",
      " |      0: read from strartup file (if applicable) (default)\n",
      " |      1: reset variables to zero\n",
      " |  NTISHI: bool\n",
      " |      0,1 controls initial setting for lattice shift vectors\n",
      " |      0: read from configuration (default)\n",
      " |      1: reset shifts to zero.\n",
      " |  NTIRTC: bool\n",
      " |      0,1 controls initial setting of positions and orientations for roto-translational constraints\n",
      " |      0: read from configuration (default)\n",
      " |      1: reset based on initial configuraion of startup file\n",
      " |  NTICOM: int\n",
      " |      0,1,2 controls initial removal of COM motion\n",
      " |      0: no initial system COM motion removal (default)\n",
      " |      1: initial COM translation is removed\n",
      " |      2: initial COM rotation is removed\n",
      " |  NTISTI: bool\n",
      " |      0,1 controls generation of stochastic integrals\n",
      " |      0: read stochastic integrals and IG from configuration (default)\n",
      " |      1: set stochastic integrals to zero and use IG from here.\n",
      " |  IG: int\n",
      " |      random number generator seed\n",
      " |  TEMPI:  float\n",
      " |      initial temperature\n",
      " |  \n",
      " |  Method resolution order:\n",
      " |      INITIALISE\n",
      " |      _generic_imd_block\n",
      " |      pygromos.files.blocks._general_blocks._generic_gromos_block\n",
      " |      builtins.object\n",
      " |  \n",
      " |  Methods defined here:\n",
      " |  \n",
      " |  __init__(self, NTIVEL: bool = False, NTISHK: int = 0, NTINHT: bool = False, NTINHB: bool = False, NTISHI: bool = False, NTIRTC: bool = False, NTICOM: int = 0, NTISTI: bool = False, IG: int = 0, TEMPI: float = 0, content: List[str] = None)\n",
      " |      Args:\n",
      " |          NTIVEL:\n",
      " |          NTISHK:\n",
      " |          NTINHT:\n",
      " |          NTINHB:\n",
      " |          NTISHI:\n",
      " |          NTIRTC:\n",
      " |          NTICOM:\n",
      " |          NTISTI:\n",
      " |          IG:\n",
      " |          TEMPI:\n",
      " |  \n",
      " |  ----------------------------------------------------------------------\n",
      " |  Data and other attributes defined here:\n",
      " |  \n",
      " |  __annotations__ = {'IG': <class 'int'>, 'NTICOM': <class 'int'>, 'NTIN...\n",
      " |  \n",
      " |  name = 'INITIALISE'\n",
      " |  \n",
      " |  ----------------------------------------------------------------------\n",
      " |  Methods inherited from _generic_imd_block:\n",
      " |  \n",
      " |  block_to_string(self) -> str\n",
      " |  \n",
      " |  read_content_from_str(self, content: List[str])\n",
      " |  \n",
      " |  ----------------------------------------------------------------------\n",
      " |  Methods inherited from pygromos.files.blocks._general_blocks._generic_gromos_block:\n",
      " |  \n",
      " |  __copy__(self)\n",
      " |  \n",
      " |  __deepcopy__(self, memo)\n",
      " |  \n",
      " |  __eq__(self, _generic_gromos_block__o: object) -> bool\n",
      " |      Return self==value.\n",
      " |  \n",
      " |  __iter__(self)\n",
      " |  \n",
      " |  __repr__(self)\n",
      " |      Return repr(self).\n",
      " |  \n",
      " |  __str__(self)\n",
      " |      Return str(self).\n",
      " |  \n",
      " |  get_name(self)\n",
      " |  \n",
      " |  ----------------------------------------------------------------------\n",
      " |  Data descriptors inherited from pygromos.files.blocks._general_blocks._generic_gromos_block:\n",
      " |  \n",
      " |  __dict__\n",
      " |      dictionary for instance variables (if defined)\n",
      " |  \n",
      " |  __weakref__\n",
      " |      list of weak references to the object (if defined)\n",
      " |  \n",
      " |  ----------------------------------------------------------------------\n",
      " |  Data and other attributes inherited from pygromos.files.blocks._general_blocks._generic_gromos_block:\n",
      " |  \n",
      " |  __hash__ = None\n",
      "\n"
     ]
    }
   ],
   "source": [
    "help(md_imd_file.INITIALISE)"
   ]
  },
  {
   "cell_type": "markdown",
   "metadata": {},
   "source": [
    "And now we will check the set options in our template:"
   ]
  },
  {
   "cell_type": "code",
   "execution_count": 53,
   "metadata": {
    "execution": {
     "iopub.execute_input": "2022-04-05T06:50:57.882445Z",
     "iopub.status.busy": "2022-04-05T06:50:57.882180Z",
     "iopub.status.idle": "2022-04-05T06:50:57.890751Z",
     "shell.execute_reply": "2022-04-05T06:50:57.889977Z"
    }
   },
   "outputs": [
    {
     "data": {
      "text/plain": [
       "INITIALISE\n",
       "# \t NTIVEL \t NTISHK \t NTINHT \t NTINHB\n",
       " \t 1 \t 0 \t 0 \t 0 \t \n",
       "# \t NTISHI \t NTIRTC \t NTICOM\n",
       " \t 1 \t 0 \t 1 \t \n",
       "# \t NTISTI\n",
       " \t 0 \t \n",
       "# \t IG \t TEMPI\n",
       " \t 12416 \t 300.000000 \t \n",
       "END"
      ]
     },
     "execution_count": 53,
     "metadata": {},
     "output_type": "execute_result"
    }
   ],
   "source": [
    "md_imd_file.INITIALISE"
   ]
  },
  {
   "cell_type": "markdown",
   "metadata": {},
   "source": [
    "### System Block\n",
    "In the SYSTEM block you would need to replace NSM with the number of solvent molecules in your system, but the *prepare_simulation* function takes care of that for you. \n"
   ]
  },
  {
   "cell_type": "code",
   "execution_count": 54,
   "metadata": {
    "execution": {
     "iopub.execute_input": "2022-04-05T06:50:57.893429Z",
     "iopub.status.busy": "2022-04-05T06:50:57.893014Z",
     "iopub.status.idle": "2022-04-05T06:50:57.902708Z",
     "shell.execute_reply": "2022-04-05T06:50:57.901965Z"
    }
   },
   "outputs": [
    {
     "ename": "NameError",
     "evalue": "name 'out_eminBox_system' is not defined",
     "output_type": "error",
     "traceback": [
      "\u001b[0;31m---------------------------------------------------------------------------\u001b[0m",
      "\u001b[0;31mNameError\u001b[0m                                 Traceback (most recent call last)",
      "\u001b[0;32m/tmp/ipykernel_17840/3553747723.py\u001b[0m in \u001b[0;36m<module>\u001b[0;34m\u001b[0m\n\u001b[1;32m      1\u001b[0m \u001b[0;31m#The last SOLV molecule can be found out like this:\u001b[0m\u001b[0;34m\u001b[0m\u001b[0;34m\u001b[0m\u001b[0m\n\u001b[0;32m----> 2\u001b[0;31m \u001b[0mstr\u001b[0m\u001b[0;34m(\u001b[0m\u001b[0mout_eminBox_system\u001b[0m\u001b[0;34m.\u001b[0m\u001b[0mcnf\u001b[0m\u001b[0;34m.\u001b[0m\u001b[0mPOSITION\u001b[0m\u001b[0;34m[\u001b[0m\u001b[0;34m-\u001b[0m\u001b[0;36m1\u001b[0m\u001b[0;34m]\u001b[0m\u001b[0;34m)\u001b[0m\u001b[0;34m\u001b[0m\u001b[0;34m\u001b[0m\u001b[0m\n\u001b[0m",
      "\u001b[0;31mNameError\u001b[0m: name 'out_eminBox_system' is not defined"
     ]
    }
   ],
   "source": [
    "#The last SOLV molecule can be found out like this:\n",
    "str(out_eminBox_system.cnf.POSITION[-1])"
   ]
  },
  {
   "cell_type": "code",
   "execution_count": 55,
   "metadata": {
    "execution": {
     "iopub.execute_input": "2022-04-05T06:50:57.904919Z",
     "iopub.status.busy": "2022-04-05T06:50:57.904650Z",
     "iopub.status.idle": "2022-04-05T06:50:57.909800Z",
     "shell.execute_reply": "2022-04-05T06:50:57.909050Z"
    }
   },
   "outputs": [
    {
     "data": {
      "text/plain": [
       "SYSTEM\n",
       "# \t NPM \t NSM\n",
       " \t 1 \t 5 \t \n",
       "END"
      ]
     },
     "execution_count": 55,
     "metadata": {},
     "output_type": "execute_result"
    }
   ],
   "source": [
    "#the template currently contains these values - note NSM is 1172, which is wrong!\n",
    "md_imd_file.SYSTEM"
   ]
  },
  {
   "cell_type": "markdown",
   "metadata": {},
   "source": [
    "#### STEP Block\n",
    "In the STEP block you specify how many steps you want to simulate (NSTLIM), at what time your simulation\n",
    "starts (T) and how big the integration time step (DT) is. In this case you want to start at time 0 and you\n",
    "want to carry out a 20 ps simulation, because the time unit happens to be ps."
   ]
  },
  {
   "cell_type": "code",
   "execution_count": 56,
   "metadata": {
    "execution": {
     "iopub.execute_input": "2022-04-05T06:50:57.912127Z",
     "iopub.status.busy": "2022-04-05T06:50:57.911943Z",
     "iopub.status.idle": "2022-04-05T06:50:57.920351Z",
     "shell.execute_reply": "2022-04-05T06:50:57.919485Z"
    }
   },
   "outputs": [
    {
     "name": "stdout",
     "output_type": "stream",
     "text": [
      "Help on STEP in module pygromos.files.blocks.imd_blocks object:\n",
      "\n",
      "class STEP(_generic_imd_block)\n",
      " |  STEP(NSTLIM: int = 0, T: float = 0, DT: float = 0, content: List[str] = None)\n",
      " |  \n",
      " |  Step Block\n",
      " |  \n",
      " |      This Block gives the number of simulation steps,\n",
      " |  \n",
      " |  Attributes\n",
      " |  -----------\n",
      " |  NSTLIM: int\n",
      " |      number of simulations Step till terminating.\n",
      " |  T:  float\n",
      " |      Starting Time\n",
      " |  DT: float\n",
      " |      time step [fs]\n",
      " |  \n",
      " |  Method resolution order:\n",
      " |      STEP\n",
      " |      _generic_imd_block\n",
      " |      pygromos.files.blocks._general_blocks._generic_gromos_block\n",
      " |      builtins.object\n",
      " |  \n",
      " |  Methods defined here:\n",
      " |  \n",
      " |  __init__(self, NSTLIM: int = 0, T: float = 0, DT: float = 0, content: List[str] = None)\n",
      " |      Initialize self.  See help(type(self)) for accurate signature.\n",
      " |  \n",
      " |  ----------------------------------------------------------------------\n",
      " |  Data and other attributes defined here:\n",
      " |  \n",
      " |  __annotations__ = {'DT': <class 'float'>, 'NSTLIM': <class 'int'>, 'T'...\n",
      " |  \n",
      " |  name = 'STEP'\n",
      " |  \n",
      " |  ----------------------------------------------------------------------\n",
      " |  Methods inherited from _generic_imd_block:\n",
      " |  \n",
      " |  block_to_string(self) -> str\n",
      " |  \n",
      " |  read_content_from_str(self, content: List[str])\n",
      " |  \n",
      " |  ----------------------------------------------------------------------\n",
      " |  Methods inherited from pygromos.files.blocks._general_blocks._generic_gromos_block:\n",
      " |  \n",
      " |  __copy__(self)\n",
      " |  \n",
      " |  __deepcopy__(self, memo)\n",
      " |  \n",
      " |  __eq__(self, _generic_gromos_block__o: object) -> bool\n",
      " |      Return self==value.\n",
      " |  \n",
      " |  __iter__(self)\n",
      " |  \n",
      " |  __repr__(self)\n",
      " |      Return repr(self).\n",
      " |  \n",
      " |  __str__(self)\n",
      " |      Return str(self).\n",
      " |  \n",
      " |  get_name(self)\n",
      " |  \n",
      " |  ----------------------------------------------------------------------\n",
      " |  Data descriptors inherited from pygromos.files.blocks._general_blocks._generic_gromos_block:\n",
      " |  \n",
      " |  __dict__\n",
      " |      dictionary for instance variables (if defined)\n",
      " |  \n",
      " |  __weakref__\n",
      " |      list of weak references to the object (if defined)\n",
      " |  \n",
      " |  ----------------------------------------------------------------------\n",
      " |  Data and other attributes inherited from pygromos.files.blocks._general_blocks._generic_gromos_block:\n",
      " |  \n",
      " |  __hash__ = None\n",
      "\n"
     ]
    }
   ],
   "source": [
    "help(md_imd_file.STEP)"
   ]
  },
  {
   "cell_type": "code",
   "execution_count": 57,
   "metadata": {
    "execution": {
     "iopub.execute_input": "2022-04-05T06:50:57.922791Z",
     "iopub.status.busy": "2022-04-05T06:50:57.922590Z",
     "iopub.status.idle": "2022-04-05T06:50:57.927603Z",
     "shell.execute_reply": "2022-04-05T06:50:57.926843Z"
    }
   },
   "outputs": [
    {
     "data": {
      "text/plain": [
       "STEP\n",
       "# \t NSTLIM \t T \t DT\n",
       " \t 1000 \t 0.000000 \t 0.002000 \t \n",
       "END"
      ]
     },
     "execution_count": 57,
     "metadata": {},
     "output_type": "execute_result"
    }
   ],
   "source": [
    "md_imd_file.STEP"
   ]
  },
  {
   "cell_type": "markdown",
   "metadata": {},
   "source": [
    "#### BOUNDCOND Block\n",
    "As previously described, with the BOUNDCOND block you specify which PBC you will use. With NTB=1 you\n",
    "specify rectangular PBC."
   ]
  },
  {
   "cell_type": "code",
   "execution_count": 58,
   "metadata": {
    "execution": {
     "iopub.execute_input": "2022-04-05T06:50:57.930408Z",
     "iopub.status.busy": "2022-04-05T06:50:57.929850Z",
     "iopub.status.idle": "2022-04-05T06:50:57.936401Z",
     "shell.execute_reply": "2022-04-05T06:50:57.935631Z"
    }
   },
   "outputs": [
    {
     "name": "stdout",
     "output_type": "stream",
     "text": [
      "Help on BOUNDCOND in module pygromos.files.blocks.imd_blocks object:\n",
      "\n",
      "class BOUNDCOND(_generic_imd_block)\n",
      " |  BOUNDCOND(NTB: int = 0, NDFMIN: int = 0, content: List[str] = None)\n",
      " |  \n",
      " |  Boundary Condition Block\n",
      " |  \n",
      " |      This block describes the boundary condition of the coordinate system.\n",
      " |  \n",
      " |  Attributes\n",
      " |  ----------\n",
      " |      NTB : int, optional\n",
      " |          Boundary conditions, by default 0\n",
      " |          -1 : truncated octahedral\n",
      " |           0 : vacuum\n",
      " |           1 : rectangular\n",
      " |           2 : triclinic\n",
      " |      NDFMIN : int, optional\n",
      " |          number of degrees of freedom subtracted for temperature, by default 0\n",
      " |  \n",
      " |  Method resolution order:\n",
      " |      BOUNDCOND\n",
      " |      _generic_imd_block\n",
      " |      pygromos.files.blocks._general_blocks._generic_gromos_block\n",
      " |      builtins.object\n",
      " |  \n",
      " |  Methods defined here:\n",
      " |  \n",
      " |  __init__(self, NTB: int = 0, NDFMIN: int = 0, content: List[str] = None)\n",
      " |      Initialize self.  See help(type(self)) for accurate signature.\n",
      " |  \n",
      " |  ----------------------------------------------------------------------\n",
      " |  Data and other attributes defined here:\n",
      " |  \n",
      " |  __annotations__ = {'NDFMIN': <class 'int'>, 'NTB': <class 'int'>, 'nam...\n",
      " |  \n",
      " |  name = 'BOUNDCOND'\n",
      " |  \n",
      " |  ----------------------------------------------------------------------\n",
      " |  Methods inherited from _generic_imd_block:\n",
      " |  \n",
      " |  block_to_string(self) -> str\n",
      " |  \n",
      " |  read_content_from_str(self, content: List[str])\n",
      " |  \n",
      " |  ----------------------------------------------------------------------\n",
      " |  Methods inherited from pygromos.files.blocks._general_blocks._generic_gromos_block:\n",
      " |  \n",
      " |  __copy__(self)\n",
      " |  \n",
      " |  __deepcopy__(self, memo)\n",
      " |  \n",
      " |  __eq__(self, _generic_gromos_block__o: object) -> bool\n",
      " |      Return self==value.\n",
      " |  \n",
      " |  __iter__(self)\n",
      " |  \n",
      " |  __repr__(self)\n",
      " |      Return repr(self).\n",
      " |  \n",
      " |  __str__(self)\n",
      " |      Return str(self).\n",
      " |  \n",
      " |  get_name(self)\n",
      " |  \n",
      " |  ----------------------------------------------------------------------\n",
      " |  Data descriptors inherited from pygromos.files.blocks._general_blocks._generic_gromos_block:\n",
      " |  \n",
      " |  __dict__\n",
      " |      dictionary for instance variables (if defined)\n",
      " |  \n",
      " |  __weakref__\n",
      " |      list of weak references to the object (if defined)\n",
      " |  \n",
      " |  ----------------------------------------------------------------------\n",
      " |  Data and other attributes inherited from pygromos.files.blocks._general_blocks._generic_gromos_block:\n",
      " |  \n",
      " |  __hash__ = None\n",
      "\n"
     ]
    }
   ],
   "source": [
    "help(md_imd_file.BOUNDCOND)"
   ]
  },
  {
   "cell_type": "code",
   "execution_count": 59,
   "metadata": {
    "execution": {
     "iopub.execute_input": "2022-04-05T06:50:57.938847Z",
     "iopub.status.busy": "2022-04-05T06:50:57.938651Z",
     "iopub.status.idle": "2022-04-05T06:50:57.943325Z",
     "shell.execute_reply": "2022-04-05T06:50:57.942629Z"
    }
   },
   "outputs": [
    {
     "data": {
      "text/plain": [
       "BOUNDCOND\n",
       "# \t NTB \t NDFMIN\n",
       " \t 1 \t 3 \t \n",
       "END"
      ]
     },
     "execution_count": 59,
     "metadata": {},
     "output_type": "execute_result"
    }
   ],
   "source": [
    "md_imd_file.BOUNDCOND"
   ]
  },
  {
   "cell_type": "markdown",
   "metadata": {},
   "source": [
    "#### MULTIBATH Block\n",
    "\n",
    "In our case we want to run the simulation at constant temperature. For this purpose, we have to add the\n",
    "MULTIBATH input block (see 4-96). First we specify which algorithm we will use. In this case we will use\n",
    "the weak-coupling scheme (ALGORITHM=0). How many temperature baths we want to couple to the system\n",
    "is specified by NBATHS. You can specify the temperature using the TEMP0 parameter. TAUT is the coupling\n",
    "time used in the weak-coupling method for this bath. DOFSET specifies the number of distiguishable sets\n",
    "of degrees of freedom. LAST is pointing to the last atom for the set of degrees of freedom; thus, you put\n",
    "the number of last atom of your system instead of LSTATM. COMBATH is the temperature bath to which we\n",
    "want to couple the centre of mass motion of this set of degrees of freedom IRBATH is the temperature bath\n",
    "to which the internal and rotational degrees of freedom of this set of degrees of freedom are coupled."
   ]
  },
  {
   "cell_type": "code",
   "execution_count": 60,
   "metadata": {
    "execution": {
     "iopub.execute_input": "2022-04-05T06:50:57.945800Z",
     "iopub.status.busy": "2022-04-05T06:50:57.945577Z",
     "iopub.status.idle": "2022-04-05T06:50:57.952619Z",
     "shell.execute_reply": "2022-04-05T06:50:57.951801Z"
    }
   },
   "outputs": [
    {
     "name": "stdout",
     "output_type": "stream",
     "text": [
      "Help on MULTIBATH in module pygromos.files.blocks.imd_blocks object:\n",
      "\n",
      "class MULTIBATH(_generic_imd_block)\n",
      " |  MULTIBATH(ALGORITHM: int = 0, NBATHS: int = 0, TEMP0: List[float] = [], TAU: List[float] = [], DOFSET: int = 0, LAST: List[int] = [], COMBATH: List[int] = [], IRBATH: List[int] = [], NUM: int = None, content: List[str] = None)\n",
      " |  \n",
      " |  MULTIBATH Block\n",
      " |  \n",
      " |      This block controls the Thermostat of a simulation. Multiple temperature baths can be coupled.\n",
      " |  \n",
      " |  Attributes\n",
      " |  ----------\n",
      " |  ALGORITHM:  int\n",
      " |      temperature coupling algorithm\n",
      " |      weak-coupling(0)\n",
      " |      nose-hoover(1)\n",
      " |      nose-hoover-chains(2)   num\n",
      " |      (where num is the number of chains to use)\n",
      " |  NUM: int, optional\n",
      " |      Mumber of chains in Nosé Hoover chains scheme [only specify when needed]\n",
      " |  NBATHS: int\n",
      " |      Number of temperature baths\n",
      " |  TEMP0:  List[float]\n",
      " |      temperature of each bath (list len == NBATHS)\n",
      " |  TAU:    List[float]\n",
      " |          coupling of the temperaturebath to the system  (list len == NBATHS)\n",
      " |  DOFSET: int\n",
      " |      Number of set of Degrees of freedom.\n",
      " |  LAST:   List[int]   (list len == DOFSET)\n",
      " |      Last atoms of each DOFSet\n",
      " |  COMBATH:    List[int]   (list len == DOFSET)\n",
      " |      Index of the temperature baths\n",
      " |  IRBATH: List[int]   (list len == DOFSET)\n",
      " |      IRBAHT?\n",
      " |  \n",
      " |  See Also\n",
      " |  --------\n",
      " |      _generic_imd_block, _generic_gromos_block\n",
      " |  \n",
      " |  Method resolution order:\n",
      " |      MULTIBATH\n",
      " |      _generic_imd_block\n",
      " |      pygromos.files.blocks._general_blocks._generic_gromos_block\n",
      " |      builtins.object\n",
      " |  \n",
      " |  Methods defined here:\n",
      " |  \n",
      " |  __init__(self, ALGORITHM: int = 0, NBATHS: int = 0, TEMP0: List[float] = [], TAU: List[float] = [], DOFSET: int = 0, LAST: List[int] = [], COMBATH: List[int] = [], IRBATH: List[int] = [], NUM: int = None, content: List[str] = None)\n",
      " |      Initialize self.  See help(type(self)) for accurate signature.\n",
      " |  \n",
      " |  adapt_multibath(self, last_atoms_bath: Dict[int, int], algorithm: int = None, num: int = None, T: Union[float, List[float]] = None, TAU: float = None) -> None\n",
      " |      adapt_multibath\n",
      " |              This function is adding each atom set into a single multibath.\n",
      " |              #TODO implementation not correct with com_bath and irbath! Works for super simple cases though\n",
      " |      \n",
      " |      Parameters\n",
      " |      ----------\n",
      " |      last_atoms_bath :   Dict[int,int]\n",
      " |          lastatom:bath\n",
      " |      algorithm : int\n",
      " |          int code for algorihtm\n",
      " |      T : float,List[float], optional\n",
      " |          temperature value\n",
      " |      TAU :   float, optional\n",
      " |          coupling var\n",
      " |      \n",
      " |      Returns\n",
      " |      -------\n",
      " |      None\n",
      " |  \n",
      " |  block_to_string(self) -> str\n",
      " |  \n",
      " |  read_content_from_str(self, content: List[str])\n",
      " |  \n",
      " |  ----------------------------------------------------------------------\n",
      " |  Data and other attributes defined here:\n",
      " |  \n",
      " |  __annotations__ = {'ALGORITHM': <class 'int'>, 'COMBATH': typing.List[...\n",
      " |  \n",
      " |  name = 'MULTIBATH'\n",
      " |  \n",
      " |  ----------------------------------------------------------------------\n",
      " |  Methods inherited from pygromos.files.blocks._general_blocks._generic_gromos_block:\n",
      " |  \n",
      " |  __copy__(self)\n",
      " |  \n",
      " |  __deepcopy__(self, memo)\n",
      " |  \n",
      " |  __eq__(self, _generic_gromos_block__o: object) -> bool\n",
      " |      Return self==value.\n",
      " |  \n",
      " |  __iter__(self)\n",
      " |  \n",
      " |  __repr__(self)\n",
      " |      Return repr(self).\n",
      " |  \n",
      " |  __str__(self)\n",
      " |      Return str(self).\n",
      " |  \n",
      " |  get_name(self)\n",
      " |  \n",
      " |  ----------------------------------------------------------------------\n",
      " |  Data descriptors inherited from pygromos.files.blocks._general_blocks._generic_gromos_block:\n",
      " |  \n",
      " |  __dict__\n",
      " |      dictionary for instance variables (if defined)\n",
      " |  \n",
      " |  __weakref__\n",
      " |      list of weak references to the object (if defined)\n",
      " |  \n",
      " |  ----------------------------------------------------------------------\n",
      " |  Data and other attributes inherited from pygromos.files.blocks._general_blocks._generic_gromos_block:\n",
      " |  \n",
      " |  __hash__ = None\n",
      "\n"
     ]
    }
   ],
   "source": [
    "help(md_imd_file.MULTIBATH)"
   ]
  },
  {
   "cell_type": "code",
   "execution_count": 61,
   "metadata": {
    "execution": {
     "iopub.execute_input": "2022-04-05T06:50:57.955902Z",
     "iopub.status.busy": "2022-04-05T06:50:57.955494Z",
     "iopub.status.idle": "2022-04-05T06:50:57.961355Z",
     "shell.execute_reply": "2022-04-05T06:50:57.960438Z"
    }
   },
   "outputs": [
    {
     "data": {
      "text/plain": [
       "MULTIBATH\n",
       "# ALGORITHM\n",
       "  0\n",
       "# NBATHS\n",
       "  2\n",
       "# TEMP0(1 ... NBATHS) \t TAU(1 ... NBATHS)\n",
       "  300.0 \t 0.1\n",
       "  300.0 \t 0.1\n",
       "# DOFSET\n",
       "  2\n",
       "# LAST(1 ... DOFSET) \t COMBATH(1 ... DOFSET) \t IRBATH(1 ... DOFSET)\n",
       "  73 \t 1 \t 1\n",
       "  2863 \t 2 \t 2\n",
       "END"
      ]
     },
     "execution_count": 61,
     "metadata": {},
     "output_type": "execute_result"
    }
   ],
   "source": [
    "md_imd_file.MULTIBATH"
   ]
  },
  {
   "cell_type": "markdown",
   "metadata": {},
   "source": [
    "### COMTRANSROT Block\n",
    "This block is needed to remove the centre of mass motion (translation and rotation). Without this block it\n",
    "can happen that all the kinetic energy is converted to centre of mass translation (flying ice cube problem).\n",
    "With *NSCM* we specify how often the center-of-mass (COM) motion is removed. If *NSCM* is $< 0$ translation\n",
    "and rotation motion are removed every $|$ *NSCM* $|$ th step. If *NSCM* is $> 0$ only translation motion is removed\n",
    "every *NSCM*th step."
   ]
  },
  {
   "cell_type": "code",
   "execution_count": 62,
   "metadata": {
    "execution": {
     "iopub.execute_input": "2022-04-05T06:50:57.965176Z",
     "iopub.status.busy": "2022-04-05T06:50:57.964421Z",
     "iopub.status.idle": "2022-04-05T06:50:57.970466Z",
     "shell.execute_reply": "2022-04-05T06:50:57.969669Z"
    }
   },
   "outputs": [
    {
     "name": "stdout",
     "output_type": "stream",
     "text": [
      "Help on COMTRANSROT in module pygromos.files.blocks.imd_blocks object:\n",
      "\n",
      "class COMTRANSROT(_generic_imd_block)\n",
      " |  COMTRANSROT(NSCM: int = 0, content: List[str] = None)\n",
      " |  \n",
      " |  COMTRANSROT block\n",
      " |  \n",
      " |  This block controls the center of mass translation and rotation removal. (flying ice cube problem)\n",
      " |  \n",
      " |  Attributes\n",
      " |  ----------\n",
      " |  \n",
      " |  NSCM : int\n",
      " |      controls system centre-of-mass (com) motion removal\n",
      " |      0: no com motion removal (default)\n",
      " |      < 0: com translation and rotation are removed every abs(NSCM) steps.\n",
      " |      > 0: com translation is removed every NSCM steps.\n",
      " |  \n",
      " |  Method resolution order:\n",
      " |      COMTRANSROT\n",
      " |      _generic_imd_block\n",
      " |      pygromos.files.blocks._general_blocks._generic_gromos_block\n",
      " |      builtins.object\n",
      " |  \n",
      " |  Methods defined here:\n",
      " |  \n",
      " |  __init__(self, NSCM: int = 0, content: List[str] = None)\n",
      " |      Initialize self.  See help(type(self)) for accurate signature.\n",
      " |  \n",
      " |  ----------------------------------------------------------------------\n",
      " |  Data and other attributes defined here:\n",
      " |  \n",
      " |  __annotations__ = {'NSCM': <class 'int'>, 'name': <class 'str'>}\n",
      " |  \n",
      " |  name = 'COMTRANSROT'\n",
      " |  \n",
      " |  ----------------------------------------------------------------------\n",
      " |  Methods inherited from _generic_imd_block:\n",
      " |  \n",
      " |  block_to_string(self) -> str\n",
      " |  \n",
      " |  read_content_from_str(self, content: List[str])\n",
      " |  \n",
      " |  ----------------------------------------------------------------------\n",
      " |  Methods inherited from pygromos.files.blocks._general_blocks._generic_gromos_block:\n",
      " |  \n",
      " |  __copy__(self)\n",
      " |  \n",
      " |  __deepcopy__(self, memo)\n",
      " |  \n",
      " |  __eq__(self, _generic_gromos_block__o: object) -> bool\n",
      " |      Return self==value.\n",
      " |  \n",
      " |  __iter__(self)\n",
      " |  \n",
      " |  __repr__(self)\n",
      " |      Return repr(self).\n",
      " |  \n",
      " |  __str__(self)\n",
      " |      Return str(self).\n",
      " |  \n",
      " |  get_name(self)\n",
      " |  \n",
      " |  ----------------------------------------------------------------------\n",
      " |  Data descriptors inherited from pygromos.files.blocks._general_blocks._generic_gromos_block:\n",
      " |  \n",
      " |  __dict__\n",
      " |      dictionary for instance variables (if defined)\n",
      " |  \n",
      " |  __weakref__\n",
      " |      list of weak references to the object (if defined)\n",
      " |  \n",
      " |  ----------------------------------------------------------------------\n",
      " |  Data and other attributes inherited from pygromos.files.blocks._general_blocks._generic_gromos_block:\n",
      " |  \n",
      " |  __hash__ = None\n",
      "\n"
     ]
    }
   ],
   "source": [
    "help(md_imd_file.COMTRANSROT)"
   ]
  },
  {
   "cell_type": "code",
   "execution_count": 63,
   "metadata": {
    "execution": {
     "iopub.execute_input": "2022-04-05T06:50:57.972882Z",
     "iopub.status.busy": "2022-04-05T06:50:57.972525Z",
     "iopub.status.idle": "2022-04-05T06:50:57.977257Z",
     "shell.execute_reply": "2022-04-05T06:50:57.976507Z"
    }
   },
   "outputs": [
    {
     "data": {
      "text/plain": [
       "COMTRANSROT\n",
       "# \t NSCM\n",
       " \t 1000 \t \n",
       "END"
      ]
     },
     "execution_count": 63,
     "metadata": {},
     "output_type": "execute_result"
    }
   ],
   "source": [
    "md_imd_file.COMTRANSROT"
   ]
  },
  {
   "cell_type": "markdown",
   "metadata": {},
   "source": [
    "### COVALENTFORM Block\n",
    "This block is needed to define which functional form we will use for bond-stretching (NTBBH), bond-angle\n",
    "bending (NTBAH) and for torsional dihedral (NTBDN). We just use the default options for all functional forms."
   ]
  },
  {
   "cell_type": "code",
   "execution_count": 64,
   "metadata": {
    "execution": {
     "iopub.execute_input": "2022-04-05T06:50:57.979878Z",
     "iopub.status.busy": "2022-04-05T06:50:57.979348Z",
     "iopub.status.idle": "2022-04-05T06:50:57.985284Z",
     "shell.execute_reply": "2022-04-05T06:50:57.984514Z"
    }
   },
   "outputs": [
    {
     "name": "stdout",
     "output_type": "stream",
     "text": [
      "Help on COVALENTFORM in module pygromos.files.blocks.imd_blocks object:\n",
      "\n",
      "class COVALENTFORM(_generic_imd_block)\n",
      " |  COVALENTFORM(NTBBH: int = 0, NTBAH: int = 0, NTBDN: int = 0, content: List[str] = None)\n",
      " |  \n",
      " |  COVALENTFORM Block\n",
      " |  \n",
      " |      The COVALENTFORM Block manages the functional form of the Bonded contributions to the force field.\n",
      " |      It is optional in an imd file to define the block.\n",
      " |  \n",
      " |  Attributes\n",
      " |  ----------\n",
      " |  NTBBH:  int\n",
      " |      0,1 controls bond-stretching potential\n",
      " |      0: quartic form (default)\n",
      " |      1: harmonic form\n",
      " |  NTBAH:  int\n",
      " |      0,1 controls bond-angle bending potential\n",
      " |      0: cosine-harmonic (default)\n",
      " |      1: harmonic\n",
      " |  NTBDN:  int\n",
      " |      0,1 controls torsional dihedral potential\n",
      " |      0: arbitrary phase shifts (default)\n",
      " |      1: phase shifts limited to 0 and 180 degrees.\n",
      " |  \n",
      " |  Method resolution order:\n",
      " |      COVALENTFORM\n",
      " |      _generic_imd_block\n",
      " |      pygromos.files.blocks._general_blocks._generic_gromos_block\n",
      " |      builtins.object\n",
      " |  \n",
      " |  Methods defined here:\n",
      " |  \n",
      " |  __init__(self, NTBBH: int = 0, NTBAH: int = 0, NTBDN: int = 0, content: List[str] = None)\n",
      " |      Initialize self.  See help(type(self)) for accurate signature.\n",
      " |  \n",
      " |  ----------------------------------------------------------------------\n",
      " |  Data and other attributes defined here:\n",
      " |  \n",
      " |  __annotations__ = {'NTBAH': <class 'int'>, 'NTBBH': <class 'int'>, 'NT...\n",
      " |  \n",
      " |  name = 'COVALENTFORM'\n",
      " |  \n",
      " |  ----------------------------------------------------------------------\n",
      " |  Methods inherited from _generic_imd_block:\n",
      " |  \n",
      " |  block_to_string(self) -> str\n",
      " |  \n",
      " |  read_content_from_str(self, content: List[str])\n",
      " |  \n",
      " |  ----------------------------------------------------------------------\n",
      " |  Methods inherited from pygromos.files.blocks._general_blocks._generic_gromos_block:\n",
      " |  \n",
      " |  __copy__(self)\n",
      " |  \n",
      " |  __deepcopy__(self, memo)\n",
      " |  \n",
      " |  __eq__(self, _generic_gromos_block__o: object) -> bool\n",
      " |      Return self==value.\n",
      " |  \n",
      " |  __iter__(self)\n",
      " |  \n",
      " |  __repr__(self)\n",
      " |      Return repr(self).\n",
      " |  \n",
      " |  __str__(self)\n",
      " |      Return str(self).\n",
      " |  \n",
      " |  get_name(self)\n",
      " |  \n",
      " |  ----------------------------------------------------------------------\n",
      " |  Data descriptors inherited from pygromos.files.blocks._general_blocks._generic_gromos_block:\n",
      " |  \n",
      " |  __dict__\n",
      " |      dictionary for instance variables (if defined)\n",
      " |  \n",
      " |  __weakref__\n",
      " |      list of weak references to the object (if defined)\n",
      " |  \n",
      " |  ----------------------------------------------------------------------\n",
      " |  Data and other attributes inherited from pygromos.files.blocks._general_blocks._generic_gromos_block:\n",
      " |  \n",
      " |  __hash__ = None\n",
      "\n"
     ]
    }
   ],
   "source": [
    "help(md_imd_file.COVALENTFORM)"
   ]
  },
  {
   "cell_type": "code",
   "execution_count": 65,
   "metadata": {
    "execution": {
     "iopub.execute_input": "2022-04-05T06:50:57.987586Z",
     "iopub.status.busy": "2022-04-05T06:50:57.987384Z",
     "iopub.status.idle": "2022-04-05T06:50:57.992723Z",
     "shell.execute_reply": "2022-04-05T06:50:57.991756Z"
    }
   },
   "outputs": [
    {
     "data": {
      "text/plain": [
       "COVALENTFORM\n",
       "# \t NTBBH \t NTBAH \t NTBDN\n",
       " \t 0 \t 0 \t 0 \t \n",
       "END"
      ]
     },
     "execution_count": 65,
     "metadata": {},
     "output_type": "execute_result"
    }
   ],
   "source": [
    "md_imd_file.COVALENTFORM"
   ]
  },
  {
   "cell_type": "markdown",
   "metadata": {},
   "source": [
    "### WRITETRAJ Block\n",
    "Gromos MD simulations produce a massive amount of data and it is impossible to store all the data it produces. The\n",
    "WRITETRAJ block meets this demand: Here you specify how often the coordinate trajectory (*NTWX*), the\n",
    "velocity trajectory (*NTWV*), the force trajectory (*NTWF*), the energy trajectory (*NTWE*), the free energy trajectory\n",
    "(*NTWG*) and the block averaged energy trajectory (*NTWB*) are written out. In the present case, we are only\n",
    "interested in the coordinates (*NTWX*) and energies (*NTWE*) and we write them every 100th step. The second\n",
    "switch (*NTWSE*) defines selection criterion for trajectories: if NTWSE = 0 the normal coordinate trajectory will\n",
    "be written, or if *NTWSE* $> 0$ a minimum energy trajectory will be written.\n",
    "\n",
    "***\n",
    "\n",
    "**Warning**: It makes no sense to write out configurations too often. First, it needs a lot of disk space. Second,\n",
    "the data is highly correlated and so no additional information is gained from it\n",
    "***"
   ]
  },
  {
   "cell_type": "code",
   "execution_count": 66,
   "metadata": {
    "execution": {
     "iopub.execute_input": "2022-04-05T06:50:57.995550Z",
     "iopub.status.busy": "2022-04-05T06:50:57.995346Z",
     "iopub.status.idle": "2022-04-05T06:50:58.002789Z",
     "shell.execute_reply": "2022-04-05T06:50:58.002009Z"
    }
   },
   "outputs": [
    {
     "name": "stdout",
     "output_type": "stream",
     "text": [
      "Help on WRITETRAJ in module pygromos.files.blocks.imd_blocks object:\n",
      "\n",
      "class WRITETRAJ(_generic_imd_block)\n",
      " |  WRITETRAJ(NTWX: int = 0, NTWSE: int = 0, NTWV: int = 0, NTWF: int = 0, NTWE: int = 0, NTWG: int = 0, NTWB: int = 0, content: List[str] = None)\n",
      " |  \n",
      " |  WRITETRAJ\n",
      " |  \n",
      " |      The WRITETRAJ Block manages the output frequency of GROMOS. Here you can determine how often a file should be written.\n",
      " |  \n",
      " |  Attributes\n",
      " |  ----------\n",
      " |  NTWX:   int\n",
      " |      controls writing of coordinate trajectory\n",
      " |      0: no coordinate trajectory is written (default)\n",
      " |      >0: write solute and solvent coordinates every NTWX steps\n",
      " |      <0: write solute coordinates every |NTWX| steps\n",
      " |  NTWSE:   int\n",
      " |      >= 0 selection criteria for coordinate trajectory writing\n",
      " |      0: write normal coordinate trajectory\n",
      " |      >0: write minimum-energy coordinate and energy trajectory (based on the\n",
      " |      energy entry selected by NTWSE and as blocks of length NTWX)\n",
      " |      (see configuration/energy.cc or ene_ana library for indices)\n",
      " |  NTWV:   int\n",
      " |      controls writing of velocity trajectory\n",
      " |      0: no velocity trajectory is written (default)\n",
      " |      >0: write solute and solvent velocities every NTWV steps\n",
      " |      <0: write solute velocities every |NTWV| steps\n",
      " |  NTWF:   int\n",
      " |      controls writing of force trajectory\n",
      " |      0: no force trajectory is written (default)\n",
      " |      >0: write solute and solvent forces every NTWF steps\n",
      " |      <0: write solute forces every |NTWF| steps\n",
      " |  NTWE:   int\n",
      " |      >= 0 controls writing of energy trajectory\n",
      " |      0: no energy trajectory is written (default)\n",
      " |      >0: write energy trajectory every NTWE steps\n",
      " |  NTWG:   int\n",
      " |      >= 0 controls writing of free energy trajectory\n",
      " |      0: no free energy trajectory is written (default)\n",
      " |      >0: write free energy trajectory every NTWG steps\n",
      " |  NTWB:   int\n",
      " |      >= 0 controls writing of block-averaged energy trajectory\n",
      " |      0: no block averaged energy trajectory is written (default)\n",
      " |      >0: write block-averaged energy variables every |NTWB| steps\n",
      " |          (and free energies if NTWG > 0) trajectory\n",
      " |  \n",
      " |  Method resolution order:\n",
      " |      WRITETRAJ\n",
      " |      _generic_imd_block\n",
      " |      pygromos.files.blocks._general_blocks._generic_gromos_block\n",
      " |      builtins.object\n",
      " |  \n",
      " |  Methods defined here:\n",
      " |  \n",
      " |  __init__(self, NTWX: int = 0, NTWSE: int = 0, NTWV: int = 0, NTWF: int = 0, NTWE: int = 0, NTWG: int = 0, NTWB: int = 0, content: List[str] = None)\n",
      " |      Args:\n",
      " |          NTWX:\n",
      " |          NTWSE:\n",
      " |          NTWV:\n",
      " |          NTWF:\n",
      " |          NTWE:\n",
      " |          NTWG:\n",
      " |          NTWB:\n",
      " |  \n",
      " |  ----------------------------------------------------------------------\n",
      " |  Data and other attributes defined here:\n",
      " |  \n",
      " |  __annotations__ = {'NTWB': <class 'int'>, 'NTWE': <class 'int'>, 'NTWF...\n",
      " |  \n",
      " |  name = 'WRITETRAJ'\n",
      " |  \n",
      " |  ----------------------------------------------------------------------\n",
      " |  Methods inherited from _generic_imd_block:\n",
      " |  \n",
      " |  block_to_string(self) -> str\n",
      " |  \n",
      " |  read_content_from_str(self, content: List[str])\n",
      " |  \n",
      " |  ----------------------------------------------------------------------\n",
      " |  Methods inherited from pygromos.files.blocks._general_blocks._generic_gromos_block:\n",
      " |  \n",
      " |  __copy__(self)\n",
      " |  \n",
      " |  __deepcopy__(self, memo)\n",
      " |  \n",
      " |  __eq__(self, _generic_gromos_block__o: object) -> bool\n",
      " |      Return self==value.\n",
      " |  \n",
      " |  __iter__(self)\n",
      " |  \n",
      " |  __repr__(self)\n",
      " |      Return repr(self).\n",
      " |  \n",
      " |  __str__(self)\n",
      " |      Return str(self).\n",
      " |  \n",
      " |  get_name(self)\n",
      " |  \n",
      " |  ----------------------------------------------------------------------\n",
      " |  Data descriptors inherited from pygromos.files.blocks._general_blocks._generic_gromos_block:\n",
      " |  \n",
      " |  __dict__\n",
      " |      dictionary for instance variables (if defined)\n",
      " |  \n",
      " |  __weakref__\n",
      " |      list of weak references to the object (if defined)\n",
      " |  \n",
      " |  ----------------------------------------------------------------------\n",
      " |  Data and other attributes inherited from pygromos.files.blocks._general_blocks._generic_gromos_block:\n",
      " |  \n",
      " |  __hash__ = None\n",
      "\n"
     ]
    }
   ],
   "source": [
    "help(md_imd_file.WRITETRAJ)"
   ]
  },
  {
   "cell_type": "code",
   "execution_count": 67,
   "metadata": {
    "execution": {
     "iopub.execute_input": "2022-04-05T06:50:58.005228Z",
     "iopub.status.busy": "2022-04-05T06:50:58.005039Z",
     "iopub.status.idle": "2022-04-05T06:50:58.009895Z",
     "shell.execute_reply": "2022-04-05T06:50:58.009165Z"
    }
   },
   "outputs": [
    {
     "data": {
      "text/plain": [
       "WRITETRAJ\n",
       "# \t NTWX \t NTWSE \t NTWV \t NTWF \t NTWE \t NTWG \t NTWB\n",
       " \t 10 \t 0 \t 0 \t 0 \t 10 \t 0 \t 0 \t \n",
       "END"
      ]
     },
     "execution_count": 67,
     "metadata": {},
     "output_type": "execute_result"
    }
   ],
   "source": [
    "md_imd_file.WRITETRAJ"
   ]
  },
  {
   "cell_type": "markdown",
   "metadata": {},
   "source": [
    "### PRINTOUT Block\n",
    "This block is very similar to the *WRITETRAJ* block but the information about the energies (*NTPR*) is printed\n",
    "to the output file (.omd). By giving *NTPP*, dihedral angle transitions are written to the special trajectory (.trs).\n"
   ]
  },
  {
   "cell_type": "code",
   "execution_count": 68,
   "metadata": {
    "execution": {
     "iopub.execute_input": "2022-04-05T06:50:58.012449Z",
     "iopub.status.busy": "2022-04-05T06:50:58.011965Z",
     "iopub.status.idle": "2022-04-05T06:50:58.018906Z",
     "shell.execute_reply": "2022-04-05T06:50:58.018093Z"
    }
   },
   "outputs": [
    {
     "name": "stdout",
     "output_type": "stream",
     "text": [
      "Help on PRINTOUT in module pygromos.files.blocks.imd_blocks object:\n",
      "\n",
      "class PRINTOUT(_generic_imd_block)\n",
      " |  PRINTOUT(NTPR: int = 0, NTPP: int = 0, content: List[str] = None)\n",
      " |  \n",
      " |  PRINTOUT block\n",
      " |  \n",
      " |      This Block manages the output frequency into the .omd/std-out file.\n",
      " |  \n",
      " |  Attributes\n",
      " |  ----------\n",
      " |  NTPR: int\n",
      " |      print out energies, etc. every NTPR steps\n",
      " |  NTPP: int\n",
      " |      =1 perform dihedral angle transition monitoring\n",
      " |  \n",
      " |  Method resolution order:\n",
      " |      PRINTOUT\n",
      " |      _generic_imd_block\n",
      " |      pygromos.files.blocks._general_blocks._generic_gromos_block\n",
      " |      builtins.object\n",
      " |  \n",
      " |  Methods defined here:\n",
      " |  \n",
      " |  __init__(self, NTPR: int = 0, NTPP: int = 0, content: List[str] = None)\n",
      " |      Initialize self.  See help(type(self)) for accurate signature.\n",
      " |  \n",
      " |  ----------------------------------------------------------------------\n",
      " |  Data and other attributes defined here:\n",
      " |  \n",
      " |  __annotations__ = {'NTPP': <class 'int'>, 'NTPR': <class 'int'>, 'name...\n",
      " |  \n",
      " |  name = 'PRINTOUT'\n",
      " |  \n",
      " |  ----------------------------------------------------------------------\n",
      " |  Methods inherited from _generic_imd_block:\n",
      " |  \n",
      " |  block_to_string(self) -> str\n",
      " |  \n",
      " |  read_content_from_str(self, content: List[str])\n",
      " |  \n",
      " |  ----------------------------------------------------------------------\n",
      " |  Methods inherited from pygromos.files.blocks._general_blocks._generic_gromos_block:\n",
      " |  \n",
      " |  __copy__(self)\n",
      " |  \n",
      " |  __deepcopy__(self, memo)\n",
      " |  \n",
      " |  __eq__(self, _generic_gromos_block__o: object) -> bool\n",
      " |      Return self==value.\n",
      " |  \n",
      " |  __iter__(self)\n",
      " |  \n",
      " |  __repr__(self)\n",
      " |      Return repr(self).\n",
      " |  \n",
      " |  __str__(self)\n",
      " |      Return str(self).\n",
      " |  \n",
      " |  get_name(self)\n",
      " |  \n",
      " |  ----------------------------------------------------------------------\n",
      " |  Data descriptors inherited from pygromos.files.blocks._general_blocks._generic_gromos_block:\n",
      " |  \n",
      " |  __dict__\n",
      " |      dictionary for instance variables (if defined)\n",
      " |  \n",
      " |  __weakref__\n",
      " |      list of weak references to the object (if defined)\n",
      " |  \n",
      " |  ----------------------------------------------------------------------\n",
      " |  Data and other attributes inherited from pygromos.files.blocks._general_blocks._generic_gromos_block:\n",
      " |  \n",
      " |  __hash__ = None\n",
      "\n"
     ]
    }
   ],
   "source": [
    "help(md_imd_file.PRINTOUT)"
   ]
  },
  {
   "cell_type": "code",
   "execution_count": 69,
   "metadata": {
    "execution": {
     "iopub.execute_input": "2022-04-05T06:50:58.021253Z",
     "iopub.status.busy": "2022-04-05T06:50:58.021053Z",
     "iopub.status.idle": "2022-04-05T06:50:58.025798Z",
     "shell.execute_reply": "2022-04-05T06:50:58.024981Z"
    }
   },
   "outputs": [
    {
     "data": {
      "text/plain": [
       "PRINTOUT\n",
       "# \t NTPR \t NTPP\n",
       " \t 250 \t 0 \t \n",
       "END"
      ]
     },
     "execution_count": 69,
     "metadata": {},
     "output_type": "execute_result"
    }
   ],
   "source": [
    "md_imd_file.PRINTOUT"
   ]
  },
  {
   "cell_type": "markdown",
   "metadata": {},
   "source": [
    "### PAIRLIST Block\n",
    "MD++ knows different algorithms for the generation of the pairlist, a list containing the atoms interacting\n",
    "with each other. Here, we use a grid based pairlist generation: \n",
    "the space is discretized into grid cells and only the neighboring cells are searched for interacting partners. \n",
    "The use of this algorithm results in a\n",
    "The pairlist is generated every 5th (*NSNB*) step. \n",
    "*RCUTP* and *RCUTL* are the cutoffs for the pairlist construction for the short-range and the long-range interactions.\n",
    "The pairlist is generated every 5th (*NSNB*) step. *RCUTP* and *RCUTL* are the cutoffs for the pairlist construction for\n",
    "the short-range and the long-range interactions."
   ]
  },
  {
   "cell_type": "code",
   "execution_count": 70,
   "metadata": {
    "execution": {
     "iopub.execute_input": "2022-04-05T06:50:58.028445Z",
     "iopub.status.busy": "2022-04-05T06:50:58.028022Z",
     "iopub.status.idle": "2022-04-05T06:50:58.034129Z",
     "shell.execute_reply": "2022-04-05T06:50:58.033404Z"
    }
   },
   "outputs": [
    {
     "name": "stdout",
     "output_type": "stream",
     "text": [
      "Help on PAIRLIST in module pygromos.files.blocks.imd_blocks object:\n",
      "\n",
      "class PAIRLIST(_generic_imd_block)\n",
      " |  PAIRLIST(ALGORITHM: int = 0, NSNB: int = 0, RCUTP: float = 0, RCUTL: float = 0, SIZE: Union[str, float] = 0, TYPE: Union[str, bool] = False, content: List[str] = None)\n",
      " |  \n",
      " |  PAIRLIST Block\n",
      " |  \n",
      " |          This block is controlling the pairlist control.\n",
      " |  \n",
      " |  Attributes\n",
      " |  ----------\n",
      " |  ALGORITHM: int\n",
      " |      standard(0) (gromos96 like pairlist)\n",
      " |      grid(1) (md++ grid pairlist)\n",
      " |      grid_cell(2) (creates a mask)\n",
      " |  NSNB:   int\n",
      " |      frequency (number of steps) a pairlist is constructed\n",
      " |  RCUTPL: float\n",
      " |      short-range cut-off in twin-range\n",
      " |  RCUTL:  float\n",
      " |      intermediate-range cut-off in twin-range\n",
      " |  SIZE:   str, float\n",
      " |      grid cell size (or auto = 0.5 * RCUTP)\n",
      " |  TYPE:   str, bool\n",
      " |      chargegoup(0) (chargegroup based cutoff)\n",
      " |      atomic(1)     (atom based cutoff)\n",
      " |  \n",
      " |  Method resolution order:\n",
      " |      PAIRLIST\n",
      " |      _generic_imd_block\n",
      " |      pygromos.files.blocks._general_blocks._generic_gromos_block\n",
      " |      builtins.object\n",
      " |  \n",
      " |  Methods defined here:\n",
      " |  \n",
      " |  __init__(self, ALGORITHM: int = 0, NSNB: int = 0, RCUTP: float = 0, RCUTL: float = 0, SIZE: Union[str, float] = 0, TYPE: Union[str, bool] = False, content: List[str] = None)\n",
      " |      Args:\n",
      " |          ALGORITHM:\n",
      " |          NSNB:\n",
      " |          RCUTP:\n",
      " |          RCUTL:\n",
      " |          SIZE:\n",
      " |          TYPE:\n",
      " |  \n",
      " |  ----------------------------------------------------------------------\n",
      " |  Data and other attributes defined here:\n",
      " |  \n",
      " |  __annotations__ = {'ALGORITHM': <class 'int'>, 'NSNB': <class 'int'>, ...\n",
      " |  \n",
      " |  name = 'PAIRLIST'\n",
      " |  \n",
      " |  ----------------------------------------------------------------------\n",
      " |  Methods inherited from _generic_imd_block:\n",
      " |  \n",
      " |  block_to_string(self) -> str\n",
      " |  \n",
      " |  read_content_from_str(self, content: List[str])\n",
      " |  \n",
      " |  ----------------------------------------------------------------------\n",
      " |  Methods inherited from pygromos.files.blocks._general_blocks._generic_gromos_block:\n",
      " |  \n",
      " |  __copy__(self)\n",
      " |  \n",
      " |  __deepcopy__(self, memo)\n",
      " |  \n",
      " |  __eq__(self, _generic_gromos_block__o: object) -> bool\n",
      " |      Return self==value.\n",
      " |  \n",
      " |  __iter__(self)\n",
      " |  \n",
      " |  __repr__(self)\n",
      " |      Return repr(self).\n",
      " |  \n",
      " |  __str__(self)\n",
      " |      Return str(self).\n",
      " |  \n",
      " |  get_name(self)\n",
      " |  \n",
      " |  ----------------------------------------------------------------------\n",
      " |  Data descriptors inherited from pygromos.files.blocks._general_blocks._generic_gromos_block:\n",
      " |  \n",
      " |  __dict__\n",
      " |      dictionary for instance variables (if defined)\n",
      " |  \n",
      " |  __weakref__\n",
      " |      list of weak references to the object (if defined)\n",
      " |  \n",
      " |  ----------------------------------------------------------------------\n",
      " |  Data and other attributes inherited from pygromos.files.blocks._general_blocks._generic_gromos_block:\n",
      " |  \n",
      " |  __hash__ = None\n",
      "\n"
     ]
    }
   ],
   "source": [
    "help(md_imd_file.PAIRLIST)"
   ]
  },
  {
   "cell_type": "code",
   "execution_count": 71,
   "metadata": {
    "execution": {
     "iopub.execute_input": "2022-04-05T06:50:58.036626Z",
     "iopub.status.busy": "2022-04-05T06:50:58.036361Z",
     "iopub.status.idle": "2022-04-05T06:50:58.041253Z",
     "shell.execute_reply": "2022-04-05T06:50:58.040518Z"
    }
   },
   "outputs": [
    {
     "data": {
      "text/plain": [
       "PAIRLIST\n",
       "# \t ALGORITHM \t NSNB \t RCUTP \t RCUTL \t SIZE \t TYPE\n",
       " \t 1 \t 5 \t 0.800000 \t 1.400000 \t 0.4 \t 0 \t \n",
       "END"
      ]
     },
     "execution_count": 71,
     "metadata": {},
     "output_type": "execute_result"
    }
   ],
   "source": [
    "md_imd_file.PAIRLIST"
   ]
  },
  {
   "cell_type": "markdown",
   "metadata": {},
   "source": [
    "### POSITIONRES Block\n",
    "Finally, we want to restrain the position of our solute. The restraining is achieved by a harmonic special\n",
    "force term with a force constant of *CPOR*."
   ]
  },
  {
   "cell_type": "code",
   "execution_count": 72,
   "metadata": {
    "execution": {
     "iopub.execute_input": "2022-04-05T06:50:58.043916Z",
     "iopub.status.busy": "2022-04-05T06:50:58.043621Z",
     "iopub.status.idle": "2022-04-05T06:50:58.050255Z",
     "shell.execute_reply": "2022-04-05T06:50:58.049450Z"
    }
   },
   "outputs": [
    {
     "name": "stdout",
     "output_type": "stream",
     "text": [
      "Help on class POSITIONRES in module pygromos.files.blocks.imd_blocks:\n",
      "\n",
      "class POSITIONRES(_generic_imd_block)\n",
      " |  POSITIONRES(NTPOR: int = 0, NTPORB: int = 0, NTPORS: int = 0, CPOR: int = 0, content: List[str] = None)\n",
      " |  \n",
      " |  POSITIONRES block\n",
      " |  \n",
      " |      This block allows the managment of the Position Restraints during the Simulation.\n",
      " |  \n",
      " |  Attributes\n",
      " |  ----------\n",
      " |  NTPOR:\n",
      " |      0..3 controls atom positions re(con)straining.\n",
      " |      0: no position re(con)straints (default)\n",
      " |      1: restraining with force constant CPOR\n",
      " |      2: restraining with force constant CPOR weighted by atomic B-factors\n",
      " |      3: constraining\n",
      " |  NTPORB:\n",
      " |      0,1 controls reading of reference positions and B-factors\n",
      " |      0: read reference positions from startup file.\n",
      " |      1: read reference positions and B-factors from special file\n",
      " |  NTPORS:\n",
      " |      0,1 controls scaling of reference positions upon pressure scaling\n",
      " |      0: do not scale reference positions\n",
      " |      1: scale reference positions\n",
      " |  CPOR:\n",
      " |      >= 0 position restraining force constant\n",
      " |  \n",
      " |  Method resolution order:\n",
      " |      POSITIONRES\n",
      " |      _generic_imd_block\n",
      " |      pygromos.files.blocks._general_blocks._generic_gromos_block\n",
      " |      builtins.object\n",
      " |  \n",
      " |  Methods defined here:\n",
      " |  \n",
      " |  __init__(self, NTPOR: int = 0, NTPORB: int = 0, NTPORS: int = 0, CPOR: int = 0, content: List[str] = None)\n",
      " |      Initialize self.  See help(type(self)) for accurate signature.\n",
      " |  \n",
      " |  ----------------------------------------------------------------------\n",
      " |  Data and other attributes defined here:\n",
      " |  \n",
      " |  __annotations__ = {'CPOR': <class 'int'>, 'NTPOR': <class 'int'>, 'NTP...\n",
      " |  \n",
      " |  name = 'POSITIONRES'\n",
      " |  \n",
      " |  ----------------------------------------------------------------------\n",
      " |  Methods inherited from _generic_imd_block:\n",
      " |  \n",
      " |  block_to_string(self) -> str\n",
      " |  \n",
      " |  read_content_from_str(self, content: List[str])\n",
      " |  \n",
      " |  ----------------------------------------------------------------------\n",
      " |  Methods inherited from pygromos.files.blocks._general_blocks._generic_gromos_block:\n",
      " |  \n",
      " |  __copy__(self)\n",
      " |  \n",
      " |  __deepcopy__(self, memo)\n",
      " |  \n",
      " |  __eq__(self, _generic_gromos_block__o: object) -> bool\n",
      " |      Return self==value.\n",
      " |  \n",
      " |  __iter__(self)\n",
      " |  \n",
      " |  __repr__(self)\n",
      " |      Return repr(self).\n",
      " |  \n",
      " |  __str__(self)\n",
      " |      Return str(self).\n",
      " |  \n",
      " |  get_name(self)\n",
      " |  \n",
      " |  ----------------------------------------------------------------------\n",
      " |  Data descriptors inherited from pygromos.files.blocks._general_blocks._generic_gromos_block:\n",
      " |  \n",
      " |  __dict__\n",
      " |      dictionary for instance variables (if defined)\n",
      " |  \n",
      " |  __weakref__\n",
      " |      list of weak references to the object (if defined)\n",
      " |  \n",
      " |  ----------------------------------------------------------------------\n",
      " |  Data and other attributes inherited from pygromos.files.blocks._general_blocks._generic_gromos_block:\n",
      " |  \n",
      " |  __hash__ = None\n",
      "\n"
     ]
    }
   ],
   "source": [
    "from pygromos.files.blocks.imd_blocks import POSITIONRES\n",
    "\n",
    "help(POSITIONRES)"
   ]
  },
  {
   "cell_type": "code",
   "execution_count": 73,
   "metadata": {
    "execution": {
     "iopub.execute_input": "2022-04-05T06:50:58.052668Z",
     "iopub.status.busy": "2022-04-05T06:50:58.052484Z",
     "iopub.status.idle": "2022-04-05T06:50:58.057448Z",
     "shell.execute_reply": "2022-04-05T06:50:58.056657Z"
    }
   },
   "outputs": [
    {
     "data": {
      "text/plain": [
       "POSITIONRES\n",
       "# \t NTPOR \t NTPORB \t NTPORS \t CPOR\n",
       " \t 1 \t 1 \t 0 \t 25000 \t \n",
       "END"
      ]
     },
     "execution_count": 73,
     "metadata": {},
     "output_type": "execute_result"
    }
   ],
   "source": [
    "md_imd_file.add_block(block=POSITIONRES(NTPOR=1, NTPORB=1, CPOR=25000))\n",
    "\n",
    "md_imd_file.POSITIONRES"
   ]
  },
  {
   "cell_type": "markdown",
   "metadata": {},
   "source": [
    "Now you should know the main blocks of the Gromos input files.\n"
   ]
  },
  {
   "cell_type": "markdown",
   "metadata": {
    "tags": []
   },
   "source": [
    "### Perform Thermalisation\n",
    "Next we will run multiple simulations, which will slowly heat up the simulation system. This can easily be done by modifying parameters on the run. First we will setup a gromos system and prepare it. Next we will perform the simulations.\n",
    "\n",
    "***\n",
    "**Warning**: Depending on your system’s speed this will take up to five hours. As we are using the simulation\n",
    "directory as the working directory there will be an error message after every job which can be ignored.\n",
    "***\n",
    "\n",
    "***\n",
    " *Hint* : Have a look at all the output files eq peptide *.omd. If anything goes wrong, a message will be\n",
    "printed to the output file.\n",
    "***"
   ]
  },
  {
   "cell_type": "code",
   "execution_count": 74,
   "metadata": {
    "execution": {
     "iopub.execute_input": "2022-04-05T06:50:58.060102Z",
     "iopub.status.busy": "2022-04-05T06:50:58.059899Z",
     "iopub.status.idle": "2022-04-05T06:50:58.070661Z",
     "shell.execute_reply": "2022-04-05T06:50:58.069884Z"
    }
   },
   "outputs": [
    {
     "ename": "NameError",
     "evalue": "name 'out_eminBox_system' is not defined",
     "output_type": "error",
     "traceback": [
      "\u001b[0;31m---------------------------------------------------------------------------\u001b[0m",
      "\u001b[0;31mNameError\u001b[0m                                 Traceback (most recent call last)",
      "\u001b[0;32m/tmp/ipykernel_17840/464153645.py\u001b[0m in \u001b[0;36m<module>\u001b[0;34m\u001b[0m\n\u001b[1;32m      2\u001b[0m \u001b[0;34m\u001b[0m\u001b[0m\n\u001b[1;32m      3\u001b[0m \u001b[0;31m## Preparing emin gromos system\u001b[0m\u001b[0;34m\u001b[0m\u001b[0;34m\u001b[0m\u001b[0m\n\u001b[0;32m----> 4\u001b[0;31m \u001b[0min_eq_system\u001b[0m \u001b[0;34m=\u001b[0m \u001b[0mout_eminBox_system\u001b[0m\u001b[0;34m.\u001b[0m\u001b[0mcopy\u001b[0m\u001b[0;34m(\u001b[0m\u001b[0;34m)\u001b[0m\u001b[0;34m\u001b[0m\u001b[0;34m\u001b[0m\u001b[0m\n\u001b[0m\u001b[1;32m      5\u001b[0m \u001b[0min_eq_system\u001b[0m\u001b[0;34m.\u001b[0m\u001b[0mname\u001b[0m \u001b[0;34m=\u001b[0m \u001b[0;34m\"eq_thermalisation\"\u001b[0m\u001b[0;34m\u001b[0m\u001b[0;34m\u001b[0m\u001b[0m\n\u001b[1;32m      6\u001b[0m \u001b[0min_eq_system\u001b[0m\u001b[0;34m.\u001b[0m\u001b[0mwork_folder\u001b[0m \u001b[0;34m=\u001b[0m \u001b[0mproject_dir\u001b[0m\u001b[0;34m\u001b[0m\u001b[0;34m\u001b[0m\u001b[0m\n",
      "\u001b[0;31mNameError\u001b[0m: name 'out_eminBox_system' is not defined"
     ]
    }
   ],
   "source": [
    "from pygromos.simulations.modules.preset_simulation_modules import md\n",
    "\n",
    "## Preparing emin gromos system\n",
    "in_eq_system = out_eminBox_system.copy()\n",
    "in_eq_system.name = \"eq_thermalisation\"\n",
    "in_eq_system.work_folder = project_dir\n",
    "\n",
    "### Build position restraints\n",
    "restrain_res = [k for k in in_eq_system.cnf.residues if(not k in (\"CL-\", \"SOLV\"))]\n",
    "in_eq_system.generate_posres(residues=restrain_res)\n",
    "\n",
    "### Check simulation params\n",
    "in_eq_system.imd = md_imd_file\n",
    "\n",
    "### Set simulation lengths: \n",
    "in_eq_system.imd.STEP.NSTLIM = 1000 # each temperature will do 1000 steps, this might take some time!\n",
    "\n",
    "in_eq_system.prepare_for_simulation(not_ligand_residues=[\"CL-\"])\n",
    "sys_same = in_eq_system.name\n",
    "\n",
    "in_eq_system"
   ]
  },
  {
   "cell_type": "markdown",
   "metadata": {},
   "source": [
    "After preparing the system we can now start simulating."
   ]
  },
  {
   "cell_type": "code",
   "execution_count": 75,
   "metadata": {
    "execution": {
     "iopub.execute_input": "2022-04-05T06:50:58.073025Z",
     "iopub.status.busy": "2022-04-05T06:50:58.072852Z",
     "iopub.status.idle": "2022-04-05T06:50:58.084964Z",
     "shell.execute_reply": "2022-04-05T06:50:58.084183Z"
    }
   },
   "outputs": [
    {
     "name": "stdout",
     "output_type": "stream",
     "text": [
      "Heating upt to: \t60\t"
     ]
    },
    {
     "ename": "NameError",
     "evalue": "name 'in_eq_system' is not defined",
     "output_type": "error",
     "traceback": [
      "\u001b[0;31m---------------------------------------------------------------------------\u001b[0m",
      "\u001b[0;31mNameError\u001b[0m                                 Traceback (most recent call last)",
      "\u001b[0;32m/tmp/ipykernel_17840/788546794.py\u001b[0m in \u001b[0;36m<module>\u001b[0;34m\u001b[0m\n\u001b[1;32m      9\u001b[0m \u001b[0;34m\u001b[0m\u001b[0m\n\u001b[1;32m     10\u001b[0m     \u001b[0;31m#adapt temperature\u001b[0m\u001b[0;34m\u001b[0m\u001b[0;34m\u001b[0m\u001b[0m\n\u001b[0;32m---> 11\u001b[0;31m     \u001b[0min_eq_system\u001b[0m\u001b[0;34m.\u001b[0m\u001b[0mimd\u001b[0m\u001b[0;34m.\u001b[0m\u001b[0mMULTIBATH\u001b[0m\u001b[0;34m.\u001b[0m\u001b[0mTEMP0\u001b[0m \u001b[0;34m=\u001b[0m \u001b[0;34m[\u001b[0m\u001b[0mtemperature\u001b[0m \u001b[0;32mfor\u001b[0m \u001b[0mx\u001b[0m \u001b[0;32min\u001b[0m \u001b[0mrange\u001b[0m\u001b[0;34m(\u001b[0m\u001b[0min_eq_system\u001b[0m\u001b[0;34m.\u001b[0m\u001b[0mimd\u001b[0m\u001b[0;34m.\u001b[0m\u001b[0mMULTIBATH\u001b[0m\u001b[0;34m.\u001b[0m\u001b[0mNBATHS\u001b[0m\u001b[0;34m)\u001b[0m\u001b[0;34m]\u001b[0m\u001b[0;34m\u001b[0m\u001b[0;34m\u001b[0m\u001b[0m\n\u001b[0m\u001b[1;32m     12\u001b[0m \u001b[0;34m\u001b[0m\u001b[0m\n\u001b[1;32m     13\u001b[0m     \u001b[0;31m#turn off the posres for the last run.\u001b[0m\u001b[0;34m\u001b[0m\u001b[0;34m\u001b[0m\u001b[0m\n",
      "\u001b[0;31mNameError\u001b[0m: name 'in_eq_system' is not defined"
     ]
    }
   ],
   "source": [
    "## run Thermalisation.\n",
    "from pygromos.simulations.modules.preset_simulation_modules import simulation\n",
    "\n",
    "temperatures = [60, 120, 180, 240, 300] #the temperatures we want to simulate.\n",
    "\n",
    "print(\"Heating upt to: \", end=\"\\t\")\n",
    "for runID, temperature in enumerate(temperatures):\n",
    "    print(temperature, end=\"\\t\")\n",
    "    \n",
    "    #adapt temperature\n",
    "    in_eq_system.imd.MULTIBATH.TEMP0 = [temperature for x in range(in_eq_system.imd.MULTIBATH.NBATHS)]\n",
    "\n",
    "    #turn off the posres for the last run.\n",
    "    if(runID+1 == len(temperatures)): #Last Run\n",
    "        in_eq_system.imd.POSITIONRES.NTPOR = 0\n",
    "        in_eq_system.imd.POSITIONRES.CPOR = 0\n",
    "\n",
    "        out_eq_system = simulation(in_gromos_simulation_system=in_eq_system,\n",
    "                                   step_name=\"f_\"+sys_same,\n",
    "                                   simulation_runs=runID+1)\n",
    "        break\n",
    "    else:\n",
    "        out_eq_system = simulation(in_gromos_simulation_system=in_eq_system,\n",
    "                                   step_name=\"f_\"+sys_same,\n",
    "                                   simulation_runs=runID+1,\n",
    "                                   analysis_script=None,\n",
    "                                   verbose=False)\n",
    "    \n",
    "    in_eq_system = out_eq_system\n",
    "\n",
    "    \n",
    "print(\"done\")"
   ]
  },
  {
   "cell_type": "code",
   "execution_count": 76,
   "metadata": {
    "execution": {
     "iopub.execute_input": "2022-04-05T06:50:58.087500Z",
     "iopub.status.busy": "2022-04-05T06:50:58.087251Z",
     "iopub.status.idle": "2022-04-05T06:50:58.095300Z",
     "shell.execute_reply": "2022-04-05T06:50:58.094504Z"
    }
   },
   "outputs": [
    {
     "ename": "NameError",
     "evalue": "name 'out_eq_system' is not defined",
     "output_type": "error",
     "traceback": [
      "\u001b[0;31m---------------------------------------------------------------------------\u001b[0m",
      "\u001b[0;31mNameError\u001b[0m                                 Traceback (most recent call last)",
      "\u001b[0;32m/tmp/ipykernel_17840/2176658082.py\u001b[0m in \u001b[0;36m<module>\u001b[0;34m\u001b[0m\n\u001b[1;32m      1\u001b[0m \u001b[0;31m#This took some time, so lets store it! So we can use it later again.\u001b[0m\u001b[0;34m\u001b[0m\u001b[0;34m\u001b[0m\u001b[0m\n\u001b[0;32m----> 2\u001b[0;31m \u001b[0mout_eq_therm_system_path\u001b[0m \u001b[0;34m=\u001b[0m \u001b[0mout_eq_system\u001b[0m\u001b[0;34m.\u001b[0m\u001b[0msave\u001b[0m\u001b[0;34m(\u001b[0m\u001b[0mout_eq_system\u001b[0m\u001b[0;34m.\u001b[0m\u001b[0mwork_folder\u001b[0m\u001b[0;34m+\u001b[0m\u001b[0;34m\"/eq_therm_result2.obj\"\u001b[0m\u001b[0;34m)\u001b[0m\u001b[0;34m\u001b[0m\u001b[0;34m\u001b[0m\u001b[0m\n\u001b[0m",
      "\u001b[0;31mNameError\u001b[0m: name 'out_eq_system' is not defined"
     ]
    }
   ],
   "source": [
    "#This took some time, so lets store it! So we can use it later again.\n",
    "out_eq_therm_system_path = out_eq_system.save(out_eq_system.work_folder+\"/eq_therm_result2.obj\")\n"
   ]
  },
  {
   "cell_type": "markdown",
   "metadata": {},
   "source": [
    "### Analysis of Thermalisation:\n",
    "Next we want to check the results of our Thermalisation. We will have a look at the coordinate trajectory and the temperatures of the system."
   ]
  },
  {
   "cell_type": "markdown",
   "metadata": {},
   "source": [
    "#### Check the coordinate traj\n",
    "First we will check the trajectory of the termalisation. Again we first need to shift the coordinates, so we can se the fully connected peptide."
   ]
  },
  {
   "cell_type": "code",
   "execution_count": 77,
   "metadata": {
    "execution": {
     "iopub.execute_input": "2022-04-05T06:50:58.098097Z",
     "iopub.status.busy": "2022-04-05T06:50:58.097863Z",
     "iopub.status.idle": "2022-04-05T06:50:58.106241Z",
     "shell.execute_reply": "2022-04-05T06:50:58.105480Z"
    }
   },
   "outputs": [
    {
     "ename": "NameError",
     "evalue": "name 'out_eq_system' is not defined",
     "output_type": "error",
     "traceback": [
      "\u001b[0;31m---------------------------------------------------------------------------\u001b[0m",
      "\u001b[0;31mNameError\u001b[0m                                 Traceback (most recent call last)",
      "\u001b[0;32m/tmp/ipykernel_17840/673463103.py\u001b[0m in \u001b[0;36m<module>\u001b[0;34m\u001b[0m\n\u001b[0;32m----> 1\u001b[0;31m \u001b[0mcoordinate_traj\u001b[0m \u001b[0;34m=\u001b[0m \u001b[0mout_eq_system\u001b[0m\u001b[0;34m.\u001b[0m\u001b[0mtrc\u001b[0m\u001b[0;34m\u001b[0m\u001b[0;34m\u001b[0m\u001b[0m\n\u001b[0m\u001b[1;32m      2\u001b[0m \u001b[0mcoordinate_traj\u001b[0m\u001b[0;34m.\u001b[0m\u001b[0mimage_molecules\u001b[0m\u001b[0;34m(\u001b[0m\u001b[0;34m)\u001b[0m\u001b[0;34m\u001b[0m\u001b[0;34m\u001b[0m\u001b[0m\n\u001b[1;32m      3\u001b[0m \u001b[0mview\u001b[0m \u001b[0;34m=\u001b[0m \u001b[0mcoordinate_traj\u001b[0m\u001b[0;34m.\u001b[0m\u001b[0mview\u001b[0m\u001b[0;34m\u001b[0m\u001b[0;34m\u001b[0m\u001b[0m\n\u001b[1;32m      4\u001b[0m \u001b[0mview\u001b[0m\u001b[0;34m\u001b[0m\u001b[0;34m\u001b[0m\u001b[0m\n",
      "\u001b[0;31mNameError\u001b[0m: name 'out_eq_system' is not defined"
     ]
    }
   ],
   "source": [
    "coordinate_traj = out_eq_system.trc\n",
    "coordinate_traj.image_molecules()\n",
    "view = coordinate_traj.view\n",
    "view"
   ]
  },
  {
   "cell_type": "markdown",
   "metadata": {},
   "source": [
    "#### Check the temperature\n",
    "After this, we would like to see the temperature development. \n",
    "First lets collect all temperature calculations from the simulation:"
   ]
  },
  {
   "cell_type": "code",
   "execution_count": 78,
   "metadata": {
    "execution": {
     "iopub.execute_input": "2022-04-05T06:50:58.108622Z",
     "iopub.status.busy": "2022-04-05T06:50:58.108428Z",
     "iopub.status.idle": "2022-04-05T06:50:58.116963Z",
     "shell.execute_reply": "2022-04-05T06:50:58.116226Z"
    }
   },
   "outputs": [
    {
     "ename": "NameError",
     "evalue": "name 'out_eq_system' is not defined",
     "output_type": "error",
     "traceback": [
      "\u001b[0;31m---------------------------------------------------------------------------\u001b[0m",
      "\u001b[0;31mNameError\u001b[0m                                 Traceback (most recent call last)",
      "\u001b[0;32m/tmp/ipykernel_17840/965721347.py\u001b[0m in \u001b[0;36m<module>\u001b[0;34m\u001b[0m\n\u001b[0;32m----> 1\u001b[0;31m \u001b[0menergy_traj\u001b[0m \u001b[0;34m=\u001b[0m \u001b[0mout_eq_system\u001b[0m\u001b[0;34m.\u001b[0m\u001b[0mtre\u001b[0m\u001b[0;34m\u001b[0m\u001b[0;34m\u001b[0m\u001b[0m\n\u001b[0m\u001b[1;32m      2\u001b[0m \u001b[0mtemperatures\u001b[0m\u001b[0;34m=\u001b[0m \u001b[0menergy_traj\u001b[0m\u001b[0;34m.\u001b[0m\u001b[0mget_temperature\u001b[0m\u001b[0;34m(\u001b[0m\u001b[0;34m)\u001b[0m\u001b[0;34m\u001b[0m\u001b[0;34m\u001b[0m\u001b[0m\n\u001b[1;32m      3\u001b[0m \u001b[0mtemperatures\u001b[0m\u001b[0;34m\u001b[0m\u001b[0;34m\u001b[0m\u001b[0m\n",
      "\u001b[0;31mNameError\u001b[0m: name 'out_eq_system' is not defined"
     ]
    }
   ],
   "source": [
    "energy_traj = out_eq_system.tre\n",
    "temperatures= energy_traj.get_temperature()\n",
    "temperatures"
   ]
  },
  {
   "cell_type": "markdown",
   "metadata": {},
   "source": [
    "Next we want to visualize the data to get an impresstionof what happened. \n",
    "Can you see how the Temperature was constantly raised per simulation and started to equilibrate forming plateus?"
   ]
  },
  {
   "cell_type": "code",
   "execution_count": 79,
   "metadata": {
    "execution": {
     "iopub.execute_input": "2022-04-05T06:50:58.119499Z",
     "iopub.status.busy": "2022-04-05T06:50:58.119292Z",
     "iopub.status.idle": "2022-04-05T06:50:58.601706Z",
     "shell.execute_reply": "2022-04-05T06:50:58.600840Z"
    }
   },
   "outputs": [
    {
     "ename": "AttributeError",
     "evalue": "'list' object has no attribute 'bath1'",
     "output_type": "error",
     "traceback": [
      "\u001b[0;31m---------------------------------------------------------------------------\u001b[0m",
      "\u001b[0;31mAttributeError\u001b[0m                            Traceback (most recent call last)",
      "\u001b[0;32m/tmp/ipykernel_17840/2602914951.py\u001b[0m in \u001b[0;36m<module>\u001b[0;34m\u001b[0m\n\u001b[1;32m      1\u001b[0m \u001b[0;32mfrom\u001b[0m \u001b[0mmatplotlib\u001b[0m \u001b[0;32mimport\u001b[0m \u001b[0mpyplot\u001b[0m \u001b[0;32mas\u001b[0m \u001b[0mplt\u001b[0m\u001b[0;34m\u001b[0m\u001b[0;34m\u001b[0m\u001b[0m\n\u001b[1;32m      2\u001b[0m \u001b[0;34m\u001b[0m\u001b[0m\n\u001b[0;32m----> 3\u001b[0;31m \u001b[0mplt\u001b[0m\u001b[0;34m.\u001b[0m\u001b[0mplot\u001b[0m\u001b[0;34m(\u001b[0m\u001b[0mtemperatures\u001b[0m\u001b[0;34m.\u001b[0m\u001b[0mbath1\u001b[0m\u001b[0;34m,\u001b[0m \u001b[0mlabel\u001b[0m\u001b[0;34m=\u001b[0m\u001b[0;34m\"TBath1\"\u001b[0m\u001b[0;34m)\u001b[0m\u001b[0;34m\u001b[0m\u001b[0;34m\u001b[0m\u001b[0m\n\u001b[0m\u001b[1;32m      4\u001b[0m \u001b[0mplt\u001b[0m\u001b[0;34m.\u001b[0m\u001b[0mplot\u001b[0m\u001b[0;34m(\u001b[0m\u001b[0mtemperatures\u001b[0m\u001b[0;34m.\u001b[0m\u001b[0mbath2\u001b[0m\u001b[0;34m,\u001b[0m \u001b[0mlabel\u001b[0m\u001b[0;34m=\u001b[0m\u001b[0;34m\"TBath2\"\u001b[0m\u001b[0;34m)\u001b[0m\u001b[0;34m\u001b[0m\u001b[0;34m\u001b[0m\u001b[0m\n\u001b[1;32m      5\u001b[0m \u001b[0;34m\u001b[0m\u001b[0m\n",
      "\u001b[0;31mAttributeError\u001b[0m: 'list' object has no attribute 'bath1'"
     ]
    }
   ],
   "source": [
    "from matplotlib import pyplot as plt\n",
    "\n",
    "plt.plot(temperatures.bath1, label=\"TBath1\")\n",
    "plt.plot(temperatures.bath2, label=\"TBath2\")\n",
    "\n",
    "plt.legend()\n",
    "plt.ylabel(\"$T~[K]$\")\n",
    "plt.xlabel(\"$t~[ps]$\")"
   ]
  },
  {
   "cell_type": "markdown",
   "metadata": {},
   "source": [
    "## Molecular dynamics sampling simulation.\n",
    "The equilibration period already produced a short simulation at constant temperature and volume. At\n",
    "this point we want to elongate the simulation to a nanosecond under constant temperature and pressure.\n",
    "\n",
    "### Simulation Paramters\n",
    "First, we don’t use position restraining anymore and so, the POSITIONRES block in the next step.\n",
    "Next we want to simulate under constant pressure rather than constant volume (NVT-> NPT). For this purpose we have to add\n",
    "an additional block:\n",
    "\n"
   ]
  },
  {
   "cell_type": "code",
   "execution_count": 80,
   "metadata": {
    "execution": {
     "iopub.execute_input": "2022-04-05T06:50:58.604796Z",
     "iopub.status.busy": "2022-04-05T06:50:58.604492Z",
     "iopub.status.idle": "2022-04-05T06:50:58.614540Z",
     "shell.execute_reply": "2022-04-05T06:50:58.613111Z"
    }
   },
   "outputs": [
    {
     "name": "stdout",
     "output_type": "stream",
     "text": [
      "Help on PRESSURESCALE in module pygromos.files.blocks.imd_blocks object:\n",
      "\n",
      "class PRESSURESCALE(_generic_imd_block)\n",
      " |  PRESSURESCALE(COUPLE: int = 0, SCALE: int = 0, COMP: float = 0, TAUP: float = 0, VIRIAL: int = 0, SEMIANISOTROPIC: List[int] = [], PRES0: List[List[float]] = [[0, 0, 0], [0, 0, 0], [0, 0, 0]], content: List[str] = None)\n",
      " |  \n",
      " |  PRESSURESCALE Block\n",
      " |  This block controls the barostat of the simulation\n",
      " |  \n",
      " |  Attributes\n",
      " |  -----------\n",
      " |  COUPLE: int\n",
      " |      off(0), calc(1), scale(2)\n",
      " |  SCALE:  int\n",
      " |      off(0), iso(1), aniso(2), full(3), semianiso(4)\n",
      " |  COMP:   float\n",
      " |      compessibility\n",
      " |  TAUP:   float\n",
      " |      coupling strength\n",
      " |  VIRIAL: int\n",
      " |      none(0), atomic(1), group(2)\n",
      " |  SEMIANISOTROPIC:    List[int]\n",
      " |      (semianisotropic couplings: X, Y, Z)\n",
      " |      e.g. 1 1 2: x and y jointly coupled and z separately coupled\n",
      " |      e.g. 0 0 1: constant area (xy-plane) and z coupled to a bath\n",
      " |  PRES0:  List[List[float]]\n",
      " |      reference pressure\n",
      " |  \n",
      " |  Method resolution order:\n",
      " |      PRESSURESCALE\n",
      " |      _generic_imd_block\n",
      " |      pygromos.files.blocks._general_blocks._generic_gromos_block\n",
      " |      builtins.object\n",
      " |  \n",
      " |  Methods defined here:\n",
      " |  \n",
      " |  __init__(self, COUPLE: int = 0, SCALE: int = 0, COMP: float = 0, TAUP: float = 0, VIRIAL: int = 0, SEMIANISOTROPIC: List[int] = [], PRES0: List[List[float]] = [[0, 0, 0], [0, 0, 0], [0, 0, 0]], content: List[str] = None)\n",
      " |      Initialize self.  See help(type(self)) for accurate signature.\n",
      " |  \n",
      " |  read_content_from_str(self, content: List[str])\n",
      " |  \n",
      " |  ----------------------------------------------------------------------\n",
      " |  Data and other attributes defined here:\n",
      " |  \n",
      " |  __annotations__ = {'COMP': <class 'float'>, 'COUPLE': <class 'int'>, '...\n",
      " |  \n",
      " |  name = 'PRESSURESCALE'\n",
      " |  \n",
      " |  ----------------------------------------------------------------------\n",
      " |  Methods inherited from _generic_imd_block:\n",
      " |  \n",
      " |  block_to_string(self) -> str\n",
      " |  \n",
      " |  ----------------------------------------------------------------------\n",
      " |  Methods inherited from pygromos.files.blocks._general_blocks._generic_gromos_block:\n",
      " |  \n",
      " |  __copy__(self)\n",
      " |  \n",
      " |  __deepcopy__(self, memo)\n",
      " |  \n",
      " |  __eq__(self, _generic_gromos_block__o: object) -> bool\n",
      " |      Return self==value.\n",
      " |  \n",
      " |  __iter__(self)\n",
      " |  \n",
      " |  __repr__(self)\n",
      " |      Return repr(self).\n",
      " |  \n",
      " |  __str__(self)\n",
      " |      Return str(self).\n",
      " |  \n",
      " |  get_name(self)\n",
      " |  \n",
      " |  ----------------------------------------------------------------------\n",
      " |  Data descriptors inherited from pygromos.files.blocks._general_blocks._generic_gromos_block:\n",
      " |  \n",
      " |  __dict__\n",
      " |      dictionary for instance variables (if defined)\n",
      " |  \n",
      " |  __weakref__\n",
      " |      list of weak references to the object (if defined)\n",
      " |  \n",
      " |  ----------------------------------------------------------------------\n",
      " |  Data and other attributes inherited from pygromos.files.blocks._general_blocks._generic_gromos_block:\n",
      " |  \n",
      " |  __hash__ = None\n",
      "\n"
     ]
    }
   ],
   "source": [
    "from pygromos.data.simulation_parameters_templates import template_md_tut as template_md\n",
    "from pygromos.files.simulation_parameters.imd import Imd\n",
    "\n",
    "imd_file = Imd(template_md)\n",
    "\n",
    "help(imd_file.PRESSURESCALE)"
   ]
  },
  {
   "cell_type": "markdown",
   "metadata": {},
   "source": [
    "In the PRESSURESCALE block we tell Gromos to calculate and scale the pressure by setting *COUPLE* to $2$. As\n",
    "the box should be isotropically scaled we set *SCALE* equal to $1$. The weak-coupling method (Sec. 2-12.2.2)\n",
    "uses two additional parameters: *COMP* is the isothermal compressibility and *TAUP* is the coupling time. We\n",
    "are calculating the molecular virial (*VIRIAL* is equal to $2$), so intramolecular forces don’t contribute to the\n",
    "pressure. The next line is only used for semi-anisotropic pressure coupling and can be ignored in our case.\n",
    "Finally, we have to specify the reference pressure in a tensor form\n"
   ]
  },
  {
   "cell_type": "code",
   "execution_count": 81,
   "metadata": {
    "execution": {
     "iopub.execute_input": "2022-04-05T06:50:58.619923Z",
     "iopub.status.busy": "2022-04-05T06:50:58.618661Z",
     "iopub.status.idle": "2022-04-05T06:50:58.627440Z",
     "shell.execute_reply": "2022-04-05T06:50:58.626350Z"
    }
   },
   "outputs": [
    {
     "data": {
      "text/plain": [
       "PRESSURESCALE\n",
       "# \t COUPLE \t SCALE \t COMP \t TAUP \t VIRIAL\n",
       " \t 2 \t 1 \t 0.000458 \t 0.500000 \t 2 \t \n",
       "# \t SEMIANISOTROPIC COUPLINGS(X, Y, Z)\n",
       " \t 1 \t 1 \t 1 \t \n",
       "# \t PRES0(1...3,1...3)\n",
       " \t 0.06102 \t 0.0 \t 0.0\n",
       " \t 0.0 \t 0.06102 \t 0.0\n",
       " \t 0.0 \t 0.0 \t 0.06102 \t \n",
       "END"
      ]
     },
     "execution_count": 81,
     "metadata": {},
     "output_type": "execute_result"
    }
   ],
   "source": [
    "imd_file.PRESSURESCALE"
   ]
  },
  {
   "cell_type": "markdown",
   "metadata": {},
   "source": [
    "### Perform MD - Production\n",
    "In the other blocks only minor things have changed: the temperature was set to 300K and the trajectories\n",
    "are written out less often (every 250th step only). Next we are going to set up the Gromos System. We will remove the position restraints and the old trajectories."
   ]
  },
  {
   "cell_type": "code",
   "execution_count": 82,
   "metadata": {
    "execution": {
     "iopub.execute_input": "2022-04-05T06:50:58.630971Z",
     "iopub.status.busy": "2022-04-05T06:50:58.630378Z",
     "iopub.status.idle": "2022-04-05T06:50:58.640147Z",
     "shell.execute_reply": "2022-04-05T06:50:58.639305Z"
    }
   },
   "outputs": [
    {
     "ename": "NameError",
     "evalue": "name 'out_eq_system' is not defined",
     "output_type": "error",
     "traceback": [
      "\u001b[0;31m---------------------------------------------------------------------------\u001b[0m",
      "\u001b[0;31mNameError\u001b[0m                                 Traceback (most recent call last)",
      "\u001b[0;32m/tmp/ipykernel_17840/3190364862.py\u001b[0m in \u001b[0;36m<module>\u001b[0;34m\u001b[0m\n\u001b[1;32m      1\u001b[0m \u001b[0;32mfrom\u001b[0m \u001b[0mpygromos\u001b[0m\u001b[0;34m.\u001b[0m\u001b[0msimulations\u001b[0m\u001b[0;34m.\u001b[0m\u001b[0mmodules\u001b[0m\u001b[0;34m.\u001b[0m\u001b[0mpreset_simulation_modules\u001b[0m \u001b[0;32mimport\u001b[0m \u001b[0mmd\u001b[0m\u001b[0;34m\u001b[0m\u001b[0;34m\u001b[0m\u001b[0m\n\u001b[1;32m      2\u001b[0m \u001b[0;34m\u001b[0m\u001b[0m\n\u001b[0;32m----> 3\u001b[0;31m \u001b[0min_md_system\u001b[0m \u001b[0;34m=\u001b[0m \u001b[0mout_eq_system\u001b[0m\u001b[0;34m.\u001b[0m\u001b[0mcopy\u001b[0m\u001b[0;34m(\u001b[0m\u001b[0;34m)\u001b[0m\u001b[0;34m\u001b[0m\u001b[0;34m\u001b[0m\u001b[0m\n\u001b[0m\u001b[1;32m      4\u001b[0m \u001b[0;34m\u001b[0m\u001b[0m\n\u001b[1;32m      5\u001b[0m \u001b[0min_md_system\u001b[0m\u001b[0;34m.\u001b[0m\u001b[0mwork_folder\u001b[0m \u001b[0;34m=\u001b[0m \u001b[0mproject_dir\u001b[0m\u001b[0;34m\u001b[0m\u001b[0;34m\u001b[0m\u001b[0m\n",
      "\u001b[0;31mNameError\u001b[0m: name 'out_eq_system' is not defined"
     ]
    }
   ],
   "source": [
    "from pygromos.simulations.modules.preset_simulation_modules import md\n",
    "\n",
    "in_md_system = out_eq_system.copy()\n",
    "\n",
    "in_md_system.work_folder = project_dir\n",
    "in_md_system.name = \"md\"\n",
    "\n",
    "### Check simulation params\n",
    "in_md_system.imd = imd_file \n",
    "\n",
    "## imd parameters\n",
    "in_md_system.imd.STEP.NSTLIM = 1000\n",
    "in_md_system.imd.WRITETRAJ.NTWX = 10\n",
    "in_md_system.imd.WRITETRAJ.NTWE = 10\n",
    "in_md_system.imd.INITIALISE.NTIVEL = 0\n",
    "\n",
    "in_md_system.prepare_for_simulation()\n",
    "\n",
    "in_md_system"
   ]
  },
  {
   "cell_type": "code",
   "execution_count": 83,
   "metadata": {
    "execution": {
     "iopub.execute_input": "2022-04-05T06:50:58.642901Z",
     "iopub.status.busy": "2022-04-05T06:50:58.642647Z",
     "iopub.status.idle": "2022-04-05T06:50:58.655525Z",
     "shell.execute_reply": "2022-04-05T06:50:58.654477Z"
    }
   },
   "outputs": [
    {
     "ename": "NameError",
     "evalue": "name 'in_md_system' is not defined",
     "output_type": "error",
     "traceback": [
      "\u001b[0;31m---------------------------------------------------------------------------\u001b[0m",
      "\u001b[0;31mNameError\u001b[0m                                 Traceback (most recent call last)",
      "\u001b[0;32m/tmp/ipykernel_17840/432426042.py\u001b[0m in \u001b[0;36m<module>\u001b[0;34m\u001b[0m\n\u001b[0;32m----> 1\u001b[0;31m out_md_system = md(in_gromos_system=in_md_system,\n\u001b[0m\u001b[1;32m      2\u001b[0m                    \u001b[0mstep_name\u001b[0m\u001b[0;34m=\u001b[0m\u001b[0;34m\"g_\"\u001b[0m\u001b[0;34m+\u001b[0m\u001b[0min_md_system\u001b[0m\u001b[0;34m.\u001b[0m\u001b[0mname\u001b[0m\u001b[0;34m,\u001b[0m\u001b[0;34m\u001b[0m\u001b[0;34m\u001b[0m\u001b[0m\n\u001b[1;32m      3\u001b[0m                    simulation_runs=3)\n\u001b[1;32m      4\u001b[0m \u001b[0mout_md_system\u001b[0m\u001b[0;34m\u001b[0m\u001b[0;34m\u001b[0m\u001b[0m\n",
      "\u001b[0;31mNameError\u001b[0m: name 'in_md_system' is not defined"
     ]
    }
   ],
   "source": [
    "out_md_system = md(in_gromos_system=in_md_system,\n",
    "                   step_name=\"g_\"+in_md_system.name,\n",
    "                   simulation_runs=3)\n",
    "out_md_system"
   ]
  },
  {
   "cell_type": "code",
   "execution_count": 84,
   "metadata": {
    "execution": {
     "iopub.execute_input": "2022-04-05T06:50:58.659439Z",
     "iopub.status.busy": "2022-04-05T06:50:58.658416Z",
     "iopub.status.idle": "2022-04-05T06:50:58.671344Z",
     "shell.execute_reply": "2022-04-05T06:50:58.670632Z"
    }
   },
   "outputs": [
    {
     "ename": "NameError",
     "evalue": "name 'out_md_system' is not defined",
     "output_type": "error",
     "traceback": [
      "\u001b[0;31m---------------------------------------------------------------------------\u001b[0m",
      "\u001b[0;31mNameError\u001b[0m                                 Traceback (most recent call last)",
      "\u001b[0;32m/tmp/ipykernel_17840/2064924672.py\u001b[0m in \u001b[0;36m<module>\u001b[0;34m\u001b[0m\n\u001b[0;32m----> 1\u001b[0;31m \u001b[0mout_md_system_path\u001b[0m \u001b[0;34m=\u001b[0m \u001b[0mout_md_system\u001b[0m\u001b[0;34m.\u001b[0m\u001b[0msave\u001b[0m\u001b[0;34m(\u001b[0m\u001b[0mout_md_system\u001b[0m\u001b[0;34m.\u001b[0m\u001b[0mwork_folder\u001b[0m\u001b[0;34m+\u001b[0m\u001b[0;34m\"/md_result.obj\"\u001b[0m\u001b[0;34m)\u001b[0m\u001b[0;34m\u001b[0m\u001b[0;34m\u001b[0m\u001b[0m\n\u001b[0m",
      "\u001b[0;31mNameError\u001b[0m: name 'out_md_system' is not defined"
     ]
    }
   ],
   "source": [
    "out_md_system_path = out_md_system.save(out_md_system.work_folder+\"/md_result.obj\")\n"
   ]
  },
  {
   "cell_type": "markdown",
   "metadata": {},
   "source": [
    "After all the jobs are finished, you should start to analyse the trajectories.\n"
   ]
  },
  {
   "cell_type": "markdown",
   "metadata": {},
   "source": [
    "### Analysis\n",
    "\n",
    "#### First Look Analysis\n",
    "Let's first have a look on the final coordinates."
   ]
  },
  {
   "cell_type": "code",
   "execution_count": 85,
   "metadata": {
    "execution": {
     "iopub.execute_input": "2022-04-05T06:50:58.674124Z",
     "iopub.status.busy": "2022-04-05T06:50:58.673932Z",
     "iopub.status.idle": "2022-04-05T06:50:58.683486Z",
     "shell.execute_reply": "2022-04-05T06:50:58.682606Z"
    }
   },
   "outputs": [
    {
     "ename": "NameError",
     "evalue": "name 'out_md_system' is not defined",
     "output_type": "error",
     "traceback": [
      "\u001b[0;31m---------------------------------------------------------------------------\u001b[0m",
      "\u001b[0;31mNameError\u001b[0m                                 Traceback (most recent call last)",
      "\u001b[0;32m/tmp/ipykernel_17840/2399734183.py\u001b[0m in \u001b[0;36m<module>\u001b[0;34m\u001b[0m\n\u001b[0;32m----> 1\u001b[0;31m \u001b[0mout_md_system\u001b[0m\u001b[0;34m.\u001b[0m\u001b[0mcnf\u001b[0m\u001b[0;34m.\u001b[0m\u001b[0mshift_periodic_boundary\u001b[0m\u001b[0;34m(\u001b[0m\u001b[0;34m)\u001b[0m\u001b[0;34m\u001b[0m\u001b[0;34m\u001b[0m\u001b[0m\n\u001b[0m\u001b[1;32m      2\u001b[0m \u001b[0mout_md_system\u001b[0m\u001b[0;34m.\u001b[0m\u001b[0mcnf\u001b[0m\u001b[0;34m.\u001b[0m\u001b[0mrecenter_pbc\u001b[0m\u001b[0;34m(\u001b[0m\u001b[0;34m)\u001b[0m\u001b[0;34m\u001b[0m\u001b[0;34m\u001b[0m\u001b[0m\n\u001b[1;32m      3\u001b[0m \u001b[0mout_md_system\u001b[0m\u001b[0;34m.\u001b[0m\u001b[0mcnf\u001b[0m\u001b[0;34m.\u001b[0m\u001b[0mrecreate_view\u001b[0m\u001b[0;34m(\u001b[0m\u001b[0;34m)\u001b[0m\u001b[0;34m\u001b[0m\u001b[0;34m\u001b[0m\u001b[0m\n\u001b[1;32m      4\u001b[0m \u001b[0mout_md_system\u001b[0m\u001b[0;34m.\u001b[0m\u001b[0mcnf\u001b[0m\u001b[0;34m.\u001b[0m\u001b[0mview\u001b[0m\u001b[0;34m\u001b[0m\u001b[0;34m\u001b[0m\u001b[0m\n",
      "\u001b[0;31mNameError\u001b[0m: name 'out_md_system' is not defined"
     ]
    }
   ],
   "source": [
    "out_md_system.cnf.shift_periodic_boundary()\n",
    "out_md_system.cnf.recenter_pbc()\n",
    "out_md_system.cnf.recreate_view()\n",
    "out_md_system.cnf.view"
   ]
  },
  {
   "cell_type": "code",
   "execution_count": 86,
   "metadata": {
    "execution": {
     "iopub.execute_input": "2022-04-05T06:50:58.686118Z",
     "iopub.status.busy": "2022-04-05T06:50:58.685913Z",
     "iopub.status.idle": "2022-04-05T06:50:58.694699Z",
     "shell.execute_reply": "2022-04-05T06:50:58.693995Z"
    }
   },
   "outputs": [
    {
     "ename": "NameError",
     "evalue": "name 'out_md_system' is not defined",
     "output_type": "error",
     "traceback": [
      "\u001b[0;31m---------------------------------------------------------------------------\u001b[0m",
      "\u001b[0;31mNameError\u001b[0m                                 Traceback (most recent call last)",
      "\u001b[0;32m/tmp/ipykernel_17840/3818948884.py\u001b[0m in \u001b[0;36m<module>\u001b[0;34m\u001b[0m\n\u001b[0;32m----> 1\u001b[0;31m \u001b[0mcoordinate_traj\u001b[0m \u001b[0;34m=\u001b[0m \u001b[0mout_md_system\u001b[0m\u001b[0;34m.\u001b[0m\u001b[0mtrc\u001b[0m\u001b[0;34m\u001b[0m\u001b[0;34m\u001b[0m\u001b[0m\n\u001b[0m\u001b[1;32m      2\u001b[0m \u001b[0;34m\u001b[0m\u001b[0m\n\u001b[1;32m      3\u001b[0m \u001b[0mcoordinate_traj\u001b[0m\u001b[0;34m.\u001b[0m\u001b[0mimage_molecules\u001b[0m\u001b[0;34m(\u001b[0m\u001b[0;34m)\u001b[0m\u001b[0;34m\u001b[0m\u001b[0;34m\u001b[0m\u001b[0m\n\u001b[1;32m      4\u001b[0m \u001b[0mcoordinate_traj\u001b[0m\u001b[0;34m.\u001b[0m\u001b[0mrecreate_view\u001b[0m\u001b[0;34m(\u001b[0m\u001b[0;34m)\u001b[0m\u001b[0;34m\u001b[0m\u001b[0;34m\u001b[0m\u001b[0m\n\u001b[1;32m      5\u001b[0m \u001b[0mview\u001b[0m \u001b[0;34m=\u001b[0m \u001b[0mcoordinate_traj\u001b[0m\u001b[0;34m.\u001b[0m\u001b[0mview\u001b[0m\u001b[0;34m\u001b[0m\u001b[0;34m\u001b[0m\u001b[0m\n",
      "\u001b[0;31mNameError\u001b[0m: name 'out_md_system' is not defined"
     ]
    }
   ],
   "source": [
    "coordinate_traj = out_md_system.trc\n",
    "\n",
    "coordinate_traj.image_molecules()\n",
    "coordinate_traj.recreate_view()\n",
    "view = coordinate_traj.view\n",
    "view"
   ]
  },
  {
   "cell_type": "markdown",
   "metadata": {
    "pycharm": {
     "name": "#%% md\n"
    }
   },
   "source": [
    "\n",
    "#### Energy Analysis\n",
    "The program calculates the average of the specified properties as well as the root-mean-square deviations\n",
    "(rmsd) and a statistical error estimate (error est.). The error estimate is calculated from block averages\n",
    "of growing sizes extrapolating to infinite block size1\n",
    "\n",
    "***\n",
    "**Warning:** Sometimes the error estimates are NaN (not a number), which is due to the fact that we do not\n",
    "have enough values to calculate a meaningful error estimate.\n",
    "***"
   ]
  },
  {
   "cell_type": "code",
   "execution_count": 87,
   "metadata": {
    "execution": {
     "iopub.execute_input": "2022-04-05T06:50:58.698128Z",
     "iopub.status.busy": "2022-04-05T06:50:58.697633Z",
     "iopub.status.idle": "2022-04-05T06:50:58.706007Z",
     "shell.execute_reply": "2022-04-05T06:50:58.705238Z"
    }
   },
   "outputs": [
    {
     "ename": "NameError",
     "evalue": "name 'out_md_system' is not defined",
     "output_type": "error",
     "traceback": [
      "\u001b[0;31m---------------------------------------------------------------------------\u001b[0m",
      "\u001b[0;31mNameError\u001b[0m                                 Traceback (most recent call last)",
      "\u001b[0;32m/tmp/ipykernel_17840/782681520.py\u001b[0m in \u001b[0;36m<module>\u001b[0;34m\u001b[0m\n\u001b[0;32m----> 1\u001b[0;31m \u001b[0menergy_traj\u001b[0m \u001b[0;34m=\u001b[0m \u001b[0mout_md_system\u001b[0m\u001b[0;34m.\u001b[0m\u001b[0mtre\u001b[0m\u001b[0;34m\u001b[0m\u001b[0;34m\u001b[0m\u001b[0m\n\u001b[0m\u001b[1;32m      2\u001b[0m \u001b[0mtotal_energies\u001b[0m \u001b[0;34m=\u001b[0m \u001b[0menergy_traj\u001b[0m\u001b[0;34m.\u001b[0m\u001b[0mget_totals\u001b[0m\u001b[0;34m(\u001b[0m\u001b[0;34m)\u001b[0m\u001b[0;34m\u001b[0m\u001b[0;34m\u001b[0m\u001b[0m\n\u001b[1;32m      3\u001b[0m \u001b[0mtotal_energies\u001b[0m\u001b[0;34m\u001b[0m\u001b[0;34m\u001b[0m\u001b[0m\n",
      "\u001b[0;31mNameError\u001b[0m: name 'out_md_system' is not defined"
     ]
    }
   ],
   "source": [
    "energy_traj = out_md_system.tre\n",
    "total_energies = energy_traj.get_totals()\n",
    "total_energies"
   ]
  },
  {
   "cell_type": "code",
   "execution_count": 88,
   "metadata": {
    "execution": {
     "iopub.execute_input": "2022-04-05T06:50:58.708395Z",
     "iopub.status.busy": "2022-04-05T06:50:58.708217Z",
     "iopub.status.idle": "2022-04-05T06:50:58.718010Z",
     "shell.execute_reply": "2022-04-05T06:50:58.717246Z"
    }
   },
   "outputs": [
    {
     "ename": "NameError",
     "evalue": "name 'energy_traj' is not defined",
     "output_type": "error",
     "traceback": [
      "\u001b[0;31m---------------------------------------------------------------------------\u001b[0m",
      "\u001b[0;31mNameError\u001b[0m                                 Traceback (most recent call last)",
      "\u001b[0;32m/tmp/ipykernel_17840/1783350399.py\u001b[0m in \u001b[0;36m<module>\u001b[0;34m\u001b[0m\n\u001b[1;32m      1\u001b[0m \u001b[0;31m#Next we plot some data of the energies to se their development.\u001b[0m\u001b[0;34m\u001b[0m\u001b[0;34m\u001b[0m\u001b[0m\n\u001b[1;32m      2\u001b[0m \u001b[0;34m\u001b[0m\u001b[0m\n\u001b[0;32m----> 3\u001b[0;31m \u001b[0mtime_axis\u001b[0m \u001b[0;34m=\u001b[0m \u001b[0menergy_traj\u001b[0m\u001b[0;34m.\u001b[0m\u001b[0mtime\u001b[0m\u001b[0;34m\u001b[0m\u001b[0;34m\u001b[0m\u001b[0m\n\u001b[0m\u001b[1;32m      4\u001b[0m \u001b[0mtotal_energies\u001b[0m\u001b[0;34m.\u001b[0m\u001b[0mtotpot\u001b[0m\u001b[0;34m.\u001b[0m\u001b[0mplot\u001b[0m\u001b[0;34m(\u001b[0m\u001b[0mlegend\u001b[0m\u001b[0;34m=\u001b[0m\u001b[0;32mTrue\u001b[0m\u001b[0;34m)\u001b[0m\u001b[0;34m\u001b[0m\u001b[0;34m\u001b[0m\u001b[0m\n\u001b[1;32m      5\u001b[0m \u001b[0mtotal_energies\u001b[0m\u001b[0;34m.\u001b[0m\u001b[0mtotkin\u001b[0m\u001b[0;34m.\u001b[0m\u001b[0mplot\u001b[0m\u001b[0;34m(\u001b[0m\u001b[0mlegend\u001b[0m\u001b[0;34m=\u001b[0m\u001b[0;32mTrue\u001b[0m\u001b[0;34m)\u001b[0m\u001b[0;34m\u001b[0m\u001b[0;34m\u001b[0m\u001b[0m\n",
      "\u001b[0;31mNameError\u001b[0m: name 'energy_traj' is not defined"
     ]
    }
   ],
   "source": [
    "#Next we plot some data of the energies to se their development.\n",
    "\n",
    "time_axis = energy_traj.time\n",
    "total_energies.totpot.plot(legend=True)\n",
    "total_energies.totkin.plot(legend=True)\n",
    "total_energies.totene.plot(xlabel=\"t [ps]\", ylabel=\"V [kJ/mol]\", title=\"Simulation Data\", legend=True)\n"
   ]
  },
  {
   "cell_type": "markdown",
   "metadata": {},
   "source": [
    "In the Following we want to see the different contributions of the molecules with their VdW and Culomb interaxtions.\n",
    " we add up the van der Waals and Coulomb energies of the peptide-peptide interactions.\n",
    "\n",
    "Now we want to look at two variables:\n",
    "* peptide_water_nonbonded\n",
    "* peptide_Cl_nonbonded\n",
    "\n",
    "The information about the nonbondeds can be retrieved from the ForceGroup Nonbonded contributions.\n",
    "If you check the used imd file, you reckognize three Force groups in the FORCEGROUP block. These are limited by the last atom of the group and you can check the group atoms in the topology or coordinate file. \n",
    "They should correspond here to:\n",
    "1. Peptide\n",
    "2. 2 Cl- ions\n",
    "3. Water molecules\n",
    "\n",
    "The interactions of these forcegroups are stored in the following pattern, which can be adapted to any force group number (PseudoCode: for i in range(1+nFroceGroups) for j in range(i, nFroceGroups)):\n",
    "\n",
    "1. ForceGroup - 1. ForceGroup: intra force group nonbondeds (peptide - peptide)\n",
    "1. ForceGroup - 2. ForceGroup: inter force group nonbondeds between force group 1 and 2 (peptide - Cl-)\n",
    "1. ForceGroup - 3. ForceGroup: inter force group nonbondeds between force group 1 and 3 (peptide - Water)\n",
    "2. ForceGroup - 2. ForceGroup: intra force group nonbondeds (Cl- - Cl-)\n",
    "3. ForceGroup - 3. ForceGroup: inter force group nonbondeds between force group 2 and 3 (Cl- - Water)\n",
    "4. ForceGroup - 3. ForceGroup: intra force group nonbondeds (Water - Water)"
   ]
  },
  {
   "cell_type": "code",
   "execution_count": 89,
   "metadata": {
    "execution": {
     "iopub.execute_input": "2022-04-05T06:50:58.720470Z",
     "iopub.status.busy": "2022-04-05T06:50:58.720293Z",
     "iopub.status.idle": "2022-04-05T06:50:58.729445Z",
     "shell.execute_reply": "2022-04-05T06:50:58.728662Z"
    }
   },
   "outputs": [
    {
     "ename": "NameError",
     "evalue": "name 'energy_traj' is not defined",
     "output_type": "error",
     "traceback": [
      "\u001b[0;31m---------------------------------------------------------------------------\u001b[0m",
      "\u001b[0;31mNameError\u001b[0m                                 Traceback (most recent call last)",
      "\u001b[0;32m/tmp/ipykernel_17840/2615102029.py\u001b[0m in \u001b[0;36m<module>\u001b[0;34m\u001b[0m\n\u001b[1;32m      1\u001b[0m \u001b[0;31m#First lets get the Force Group Energy contributions:\u001b[0m\u001b[0;34m\u001b[0m\u001b[0;34m\u001b[0m\u001b[0m\n\u001b[0;32m----> 2\u001b[0;31m \u001b[0mforceGroupNonbondedContributions\u001b[0m \u001b[0;34m=\u001b[0m \u001b[0menergy_traj\u001b[0m\u001b[0;34m.\u001b[0m\u001b[0mget_nonbondedContributions\u001b[0m\u001b[0;34m(\u001b[0m\u001b[0;34m)\u001b[0m\u001b[0;34m\u001b[0m\u001b[0;34m\u001b[0m\u001b[0m\n\u001b[0m\u001b[1;32m      3\u001b[0m \u001b[0;34m\u001b[0m\u001b[0m\n\u001b[1;32m      4\u001b[0m \u001b[0;31m#Here we give each Force Group contribution category nice names:\u001b[0m\u001b[0;34m\u001b[0m\u001b[0;34m\u001b[0m\u001b[0m\n\u001b[1;32m      5\u001b[0m \u001b[0mpeptide_peptide_nonbonded\u001b[0m \u001b[0;34m=\u001b[0m \u001b[0mforceGroupNonbondedContributions\u001b[0m\u001b[0;34m[\u001b[0m\u001b[0;36m1\u001b[0m\u001b[0;34m]\u001b[0m\u001b[0;34m[\u001b[0m\u001b[0;36m1\u001b[0m\u001b[0;34m]\u001b[0m\u001b[0;34m\u001b[0m\u001b[0;34m\u001b[0m\u001b[0m\n",
      "\u001b[0;31mNameError\u001b[0m: name 'energy_traj' is not defined"
     ]
    }
   ],
   "source": [
    "#First lets get the Force Group Energy contributions:\n",
    "forceGroupNonbondedContributions = energy_traj.get_nonbondedContributions()\n",
    "\n",
    "#Here we give each Force Group contribution category nice names:\n",
    "peptide_peptide_nonbonded = forceGroupNonbondedContributions[1][1]\n",
    "peptide_Cl_nonbonded = forceGroupNonbondedContributions[1][2]\n",
    "peptide_water_nonbonded = forceGroupNonbondedContributions[1][3]\n",
    "\n",
    "Cl_Cl_nonbonded = forceGroupNonbondedContributions[2][2]\n",
    "Cl_water_nonbonded = forceGroupNonbondedContributions[2][3]\n",
    "\n",
    "water_water_nonbonded = forceGroupNonbondedContributions[3][3]"
   ]
  },
  {
   "cell_type": "code",
   "execution_count": 90,
   "metadata": {
    "execution": {
     "iopub.execute_input": "2022-04-05T06:50:58.732601Z",
     "iopub.status.busy": "2022-04-05T06:50:58.732369Z",
     "iopub.status.idle": "2022-04-05T06:50:58.741794Z",
     "shell.execute_reply": "2022-04-05T06:50:58.741051Z"
    }
   },
   "outputs": [
    {
     "ename": "NameError",
     "evalue": "name 'peptide_peptide_nonbonded' is not defined",
     "output_type": "error",
     "traceback": [
      "\u001b[0;31m---------------------------------------------------------------------------\u001b[0m",
      "\u001b[0;31mNameError\u001b[0m                                 Traceback (most recent call last)",
      "\u001b[0;32m/tmp/ipykernel_17840/2680003299.py\u001b[0m in \u001b[0;36m<module>\u001b[0;34m\u001b[0m\n\u001b[1;32m      1\u001b[0m \u001b[0;31m#Here we look at the different Nonbonded contributions of each\u001b[0m\u001b[0;34m\u001b[0m\u001b[0;34m\u001b[0m\u001b[0m\n\u001b[0;32m----> 2\u001b[0;31m \u001b[0mpeptide_peptide_nonbonded\u001b[0m\u001b[0;34m.\u001b[0m\u001b[0mplot\u001b[0m\u001b[0;34m(\u001b[0m\u001b[0mtitle\u001b[0m\u001b[0;34m=\u001b[0m\u001b[0;34m\"Peptide_intra_Nonbondeds\"\u001b[0m\u001b[0;34m,\u001b[0m \u001b[0mylabel\u001b[0m\u001b[0;34m=\u001b[0m\u001b[0;34m\"V [kJ/mol]\"\u001b[0m\u001b[0;34m,\u001b[0m \u001b[0mxlabel\u001b[0m\u001b[0;34m=\u001b[0m\u001b[0;34m\"writeOuts\"\u001b[0m\u001b[0;34m,\u001b[0m \u001b[0msubplots\u001b[0m\u001b[0;34m=\u001b[0m\u001b[0;32mTrue\u001b[0m\u001b[0;34m)\u001b[0m\u001b[0;34m\u001b[0m\u001b[0;34m\u001b[0m\u001b[0m\n\u001b[0m\u001b[1;32m      3\u001b[0m \u001b[0mCl_Cl_nonbonded\u001b[0m\u001b[0;34m.\u001b[0m\u001b[0mplot\u001b[0m\u001b[0;34m(\u001b[0m\u001b[0mtitle\u001b[0m\u001b[0;34m=\u001b[0m\u001b[0;34m\"CL_intra_Nonbondeds\"\u001b[0m\u001b[0;34m,\u001b[0m \u001b[0mylabel\u001b[0m\u001b[0;34m=\u001b[0m\u001b[0;34m\"V [kJ/mol]\"\u001b[0m\u001b[0;34m,\u001b[0m \u001b[0mxlabel\u001b[0m\u001b[0;34m=\u001b[0m\u001b[0;34m\"writeOuts\"\u001b[0m\u001b[0;34m,\u001b[0m \u001b[0msubplots\u001b[0m\u001b[0;34m=\u001b[0m\u001b[0;32mTrue\u001b[0m\u001b[0;34m)\u001b[0m\u001b[0;34m\u001b[0m\u001b[0;34m\u001b[0m\u001b[0m\n\u001b[1;32m      4\u001b[0m \u001b[0mwater_water_nonbonded\u001b[0m\u001b[0;34m.\u001b[0m\u001b[0mplot\u001b[0m\u001b[0;34m(\u001b[0m\u001b[0mtitle\u001b[0m\u001b[0;34m=\u001b[0m\u001b[0;34m\"Water_intra_Nonbondeds\"\u001b[0m\u001b[0;34m,\u001b[0m \u001b[0mylabel\u001b[0m\u001b[0;34m=\u001b[0m\u001b[0;34m\"V [kJ/mol]\"\u001b[0m\u001b[0;34m,\u001b[0m \u001b[0mxlabel\u001b[0m\u001b[0;34m=\u001b[0m\u001b[0;34m\"writeOuts\"\u001b[0m\u001b[0;34m,\u001b[0m \u001b[0msubplots\u001b[0m\u001b[0;34m=\u001b[0m\u001b[0;32mTrue\u001b[0m\u001b[0;34m)\u001b[0m\u001b[0;34m\u001b[0m\u001b[0;34m\u001b[0m\u001b[0m\n",
      "\u001b[0;31mNameError\u001b[0m: name 'peptide_peptide_nonbonded' is not defined"
     ]
    }
   ],
   "source": [
    "#Here we look at the different Nonbonded contributions of each \n",
    "peptide_peptide_nonbonded.plot(title=\"Peptide_intra_Nonbondeds\", ylabel=\"V [kJ/mol]\", xlabel=\"writeOuts\", subplots=True)\n",
    "Cl_Cl_nonbonded.plot(title=\"CL_intra_Nonbondeds\", ylabel=\"V [kJ/mol]\", xlabel=\"writeOuts\", subplots=True)\n",
    "water_water_nonbonded.plot(title=\"Water_intra_Nonbondeds\", ylabel=\"V [kJ/mol]\", xlabel=\"writeOuts\", subplots=True)"
   ]
  },
  {
   "cell_type": "code",
   "execution_count": 91,
   "metadata": {
    "execution": {
     "iopub.execute_input": "2022-04-05T06:50:58.744595Z",
     "iopub.status.busy": "2022-04-05T06:50:58.744120Z",
     "iopub.status.idle": "2022-04-05T06:50:58.754830Z",
     "shell.execute_reply": "2022-04-05T06:50:58.754127Z"
    }
   },
   "outputs": [
    {
     "ename": "NameError",
     "evalue": "name 'peptide_peptide_nonbonded' is not defined",
     "output_type": "error",
     "traceback": [
      "\u001b[0;31m---------------------------------------------------------------------------\u001b[0m",
      "\u001b[0;31mNameError\u001b[0m                                 Traceback (most recent call last)",
      "\u001b[0;32m/tmp/ipykernel_17840/3181684095.py\u001b[0m in \u001b[0;36m<module>\u001b[0;34m\u001b[0m\n\u001b[1;32m      1\u001b[0m \u001b[0;31m#Next we calculate the sum of all contributions\u001b[0m\u001b[0;34m\u001b[0m\u001b[0;34m\u001b[0m\u001b[0m\n\u001b[1;32m      2\u001b[0m \u001b[0;31m#The sum over the axis 1 sums up all contribution types for a timestep t.\u001b[0m\u001b[0;34m\u001b[0m\u001b[0;34m\u001b[0m\u001b[0m\n\u001b[0;32m----> 3\u001b[0;31m \u001b[0mpeptide_peptide_nonbonded\u001b[0m\u001b[0;34m.\u001b[0m\u001b[0msum\u001b[0m\u001b[0;34m(\u001b[0m\u001b[0maxis\u001b[0m\u001b[0;34m=\u001b[0m\u001b[0;36m1\u001b[0m\u001b[0;34m)\u001b[0m\u001b[0;34m.\u001b[0m\u001b[0mplot\u001b[0m\u001b[0;34m(\u001b[0m\u001b[0mlabel\u001b[0m\u001b[0;34m=\u001b[0m\u001b[0;34m\"peptide - peptide\"\u001b[0m\u001b[0;34m,\u001b[0m \u001b[0mlegend\u001b[0m\u001b[0;34m=\u001b[0m\u001b[0;32mTrue\u001b[0m\u001b[0;34m)\u001b[0m\u001b[0;34m\u001b[0m\u001b[0;34m\u001b[0m\u001b[0m\n\u001b[0m\u001b[1;32m      4\u001b[0m \u001b[0mpeptide_Cl_nonbonded\u001b[0m\u001b[0;34m.\u001b[0m\u001b[0msum\u001b[0m\u001b[0;34m(\u001b[0m\u001b[0maxis\u001b[0m\u001b[0;34m=\u001b[0m\u001b[0;36m1\u001b[0m\u001b[0;34m)\u001b[0m\u001b[0;34m.\u001b[0m\u001b[0mplot\u001b[0m\u001b[0;34m(\u001b[0m\u001b[0mlabel\u001b[0m\u001b[0;34m=\u001b[0m\u001b[0;34m\"peptide - Cl-\"\u001b[0m\u001b[0;34m,\u001b[0m \u001b[0mlegend\u001b[0m\u001b[0;34m=\u001b[0m\u001b[0;32mTrue\u001b[0m\u001b[0;34m)\u001b[0m\u001b[0;34m\u001b[0m\u001b[0;34m\u001b[0m\u001b[0m\n\u001b[1;32m      5\u001b[0m \u001b[0mpeptide_water_nonbonded\u001b[0m\u001b[0;34m.\u001b[0m\u001b[0msum\u001b[0m\u001b[0;34m(\u001b[0m\u001b[0maxis\u001b[0m\u001b[0;34m=\u001b[0m\u001b[0;36m1\u001b[0m\u001b[0;34m)\u001b[0m\u001b[0;34m.\u001b[0m\u001b[0mplot\u001b[0m\u001b[0;34m(\u001b[0m\u001b[0mlabel\u001b[0m\u001b[0;34m=\u001b[0m\u001b[0;34m\"peptide - Water\"\u001b[0m\u001b[0;34m,\u001b[0m \u001b[0mylabel\u001b[0m\u001b[0;34m=\u001b[0m\u001b[0;34m\"V [kJ/mol]\"\u001b[0m\u001b[0;34m,\u001b[0m \u001b[0mxlabel\u001b[0m\u001b[0;34m=\u001b[0m\u001b[0;34m\"writeOuts\"\u001b[0m\u001b[0;34m,\u001b[0m \u001b[0mtitle\u001b[0m\u001b[0;34m=\u001b[0m\u001b[0;34m\"Peptide Nonbondeds\"\u001b[0m\u001b[0;34m,\u001b[0m \u001b[0mlegend\u001b[0m\u001b[0;34m=\u001b[0m\u001b[0;32mTrue\u001b[0m\u001b[0;34m)\u001b[0m\u001b[0;34m\u001b[0m\u001b[0;34m\u001b[0m\u001b[0m\n",
      "\u001b[0;31mNameError\u001b[0m: name 'peptide_peptide_nonbonded' is not defined"
     ]
    }
   ],
   "source": [
    "#Next we calculate the sum of all contributions\n",
    "#The sum over the axis 1 sums up all contribution types for a timestep t.\n",
    "peptide_peptide_nonbonded.sum(axis=1).plot(label=\"peptide - peptide\", legend=True)\n",
    "peptide_Cl_nonbonded.sum(axis=1).plot(label=\"peptide - Cl-\", legend=True)\n",
    "peptide_water_nonbonded.sum(axis=1).plot(label=\"peptide - Water\", ylabel=\"V [kJ/mol]\", xlabel=\"writeOuts\", title=\"Peptide Nonbondeds\", legend=True)"
   ]
  },
  {
   "cell_type": "code",
   "execution_count": 92,
   "metadata": {
    "execution": {
     "iopub.execute_input": "2022-04-05T06:50:58.757125Z",
     "iopub.status.busy": "2022-04-05T06:50:58.756932Z",
     "iopub.status.idle": "2022-04-05T06:50:58.766539Z",
     "shell.execute_reply": "2022-04-05T06:50:58.765758Z"
    }
   },
   "outputs": [
    {
     "ename": "NameError",
     "evalue": "name 'peptide_peptide_nonbonded' is not defined",
     "output_type": "error",
     "traceback": [
      "\u001b[0;31m---------------------------------------------------------------------------\u001b[0m",
      "\u001b[0;31mNameError\u001b[0m                                 Traceback (most recent call last)",
      "\u001b[0;32m/tmp/ipykernel_17840/3405475826.py\u001b[0m in \u001b[0;36m<module>\u001b[0;34m\u001b[0m\n\u001b[1;32m      1\u001b[0m \u001b[0;31m# Here we look at the total nonbonded Contributions of the peptide\u001b[0m\u001b[0;34m\u001b[0m\u001b[0;34m\u001b[0m\u001b[0m\n\u001b[0;32m----> 2\u001b[0;31m \u001b[0mpeptide_nonbonded\u001b[0m \u001b[0;34m=\u001b[0m \u001b[0mpeptide_peptide_nonbonded\u001b[0m\u001b[0;34m+\u001b[0m\u001b[0mpeptide_Cl_nonbonded\u001b[0m\u001b[0;34m+\u001b[0m\u001b[0mpeptide_water_nonbonded\u001b[0m\u001b[0;34m\u001b[0m\u001b[0;34m\u001b[0m\u001b[0m\n\u001b[0m\u001b[1;32m      3\u001b[0m \u001b[0;31m#The sum over the axis 1 sums up all contribution types for a timestep t.\u001b[0m\u001b[0;34m\u001b[0m\u001b[0;34m\u001b[0m\u001b[0m\n\u001b[1;32m      4\u001b[0m \u001b[0mpeptide_nonbonded\u001b[0m\u001b[0;34m.\u001b[0m\u001b[0msum\u001b[0m\u001b[0;34m(\u001b[0m\u001b[0maxis\u001b[0m\u001b[0;34m=\u001b[0m\u001b[0;36m1\u001b[0m\u001b[0;34m)\u001b[0m\u001b[0;34m.\u001b[0m\u001b[0mplot\u001b[0m\u001b[0;34m(\u001b[0m \u001b[0mlabel\u001b[0m\u001b[0;34m=\u001b[0m\u001b[0;34m\"peptide\"\u001b[0m\u001b[0;34m,\u001b[0m \u001b[0mylabel\u001b[0m\u001b[0;34m=\u001b[0m\u001b[0;34m\"V [kJ/mol]\"\u001b[0m\u001b[0;34m,\u001b[0m \u001b[0mxlabel\u001b[0m\u001b[0;34m=\u001b[0m\u001b[0;34m\"steps\"\u001b[0m\u001b[0;34m,\u001b[0m \u001b[0mtitle\u001b[0m\u001b[0;34m=\u001b[0m\u001b[0;34m\"Total Nonbonded Contributions of peptide\"\u001b[0m\u001b[0;34m,\u001b[0m \u001b[0mlegend\u001b[0m\u001b[0;34m=\u001b[0m\u001b[0;32mTrue\u001b[0m\u001b[0;34m)\u001b[0m\u001b[0;34m\u001b[0m\u001b[0;34m\u001b[0m\u001b[0m\n",
      "\u001b[0;31mNameError\u001b[0m: name 'peptide_peptide_nonbonded' is not defined"
     ]
    }
   ],
   "source": [
    "# Here we look at the total nonbonded Contributions of the peptide \n",
    "peptide_nonbonded = peptide_peptide_nonbonded+peptide_Cl_nonbonded+peptide_water_nonbonded\n",
    "#The sum over the axis 1 sums up all contribution types for a timestep t.\n",
    "peptide_nonbonded.sum(axis=1).plot( label=\"peptide\", ylabel=\"V [kJ/mol]\", xlabel=\"steps\", title=\"Total Nonbonded Contributions of peptide\", legend=True)\n"
   ]
  },
  {
   "cell_type": "markdown",
   "metadata": {
    "pycharm": {
     "name": "#%%\n"
    }
   },
   "source": [
    "#### Coordinate Analysis\n",
    "In the next step, we want to have a look at the coordinates of our simulation.\n",
    "first we will dcalculate the rmsd, second we will analyse the distance of the CL- to the positive charged atoms in the peptide. \n",
    "\n",
    "\n",
    "\n",
    "***\n",
    "**Warning**: Under Development ;)\n",
    "***"
   ]
  },
  {
   "cell_type": "code",
   "execution_count": 93,
   "metadata": {
    "execution": {
     "iopub.execute_input": "2022-04-05T06:50:58.769005Z",
     "iopub.status.busy": "2022-04-05T06:50:58.768806Z",
     "iopub.status.idle": "2022-04-05T06:50:58.776908Z",
     "shell.execute_reply": "2022-04-05T06:50:58.776149Z"
    }
   },
   "outputs": [
    {
     "ename": "NameError",
     "evalue": "name 'out_md_system' is not defined",
     "output_type": "error",
     "traceback": [
      "\u001b[0;31m---------------------------------------------------------------------------\u001b[0m",
      "\u001b[0;31mNameError\u001b[0m                                 Traceback (most recent call last)",
      "\u001b[0;32m/tmp/ipykernel_17840/3848250193.py\u001b[0m in \u001b[0;36m<module>\u001b[0;34m\u001b[0m\n\u001b[0;32m----> 1\u001b[0;31m \u001b[0mfinal_coordinate\u001b[0m \u001b[0;34m=\u001b[0m \u001b[0mout_md_system\u001b[0m\u001b[0;34m.\u001b[0m\u001b[0mcnf\u001b[0m\u001b[0;34m\u001b[0m\u001b[0;34m\u001b[0m\u001b[0m\n\u001b[0m\u001b[1;32m      2\u001b[0m \u001b[0mcoordinate_traj\u001b[0m \u001b[0;34m=\u001b[0m \u001b[0mout_md_system\u001b[0m\u001b[0;34m.\u001b[0m\u001b[0mtrc\u001b[0m\u001b[0;34m\u001b[0m\u001b[0;34m\u001b[0m\u001b[0m\n",
      "\u001b[0;31mNameError\u001b[0m: name 'out_md_system' is not defined"
     ]
    }
   ],
   "source": [
    "final_coordinate = out_md_system.cnf\n",
    "coordinate_traj = out_md_system.trc\n"
   ]
  },
  {
   "cell_type": "code",
   "execution_count": 94,
   "metadata": {
    "execution": {
     "iopub.execute_input": "2022-04-05T06:50:58.779284Z",
     "iopub.status.busy": "2022-04-05T06:50:58.778868Z",
     "iopub.status.idle": "2022-04-05T06:50:58.788043Z",
     "shell.execute_reply": "2022-04-05T06:50:58.787278Z"
    }
   },
   "outputs": [
    {
     "ename": "NameError",
     "evalue": "name 'coordinate_traj' is not defined",
     "output_type": "error",
     "traceback": [
      "\u001b[0;31m---------------------------------------------------------------------------\u001b[0m",
      "\u001b[0;31mNameError\u001b[0m                                 Traceback (most recent call last)",
      "\u001b[0;32m/tmp/ipykernel_17840/1569724467.py\u001b[0m in \u001b[0;36m<module>\u001b[0;34m\u001b[0m\n\u001b[0;32m----> 1\u001b[0;31m \u001b[0mcoordinate_traj\u001b[0m\u001b[0;34m.\u001b[0m\u001b[0mrmsd\u001b[0m\u001b[0;34m(\u001b[0m\u001b[0;36m1\u001b[0m\u001b[0;34m)\u001b[0m\u001b[0;34m.\u001b[0m\u001b[0msum\u001b[0m\u001b[0;34m(\u001b[0m\u001b[0maxis\u001b[0m\u001b[0;34m=\u001b[0m\u001b[0;36m1\u001b[0m\u001b[0;34m)\u001b[0m\u001b[0;34m.\u001b[0m\u001b[0mplot\u001b[0m\u001b[0;34m(\u001b[0m\u001b[0mylabel\u001b[0m\u001b[0;34m=\u001b[0m\u001b[0;34m\"RMSD\"\u001b[0m\u001b[0;34m,\u001b[0m \u001b[0mxlabel\u001b[0m\u001b[0;34m=\u001b[0m\u001b[0;34m\"t [ps]\"\u001b[0m\u001b[0;34m)\u001b[0m\u001b[0;34m\u001b[0m\u001b[0;34m\u001b[0m\u001b[0m\n\u001b[0m",
      "\u001b[0;31mNameError\u001b[0m: name 'coordinate_traj' is not defined"
     ]
    }
   ],
   "source": [
    "coordinate_traj.rmsd(1).sum(axis=1).plot(ylabel=\"RMSD\", xlabel=\"t [ps]\")"
   ]
  },
  {
   "cell_type": "markdown",
   "metadata": {},
   "source": [
    "#### Distance CL- to the peptide"
   ]
  },
  {
   "cell_type": "markdown",
   "metadata": {},
   "source": [
    "#"
   ]
  },
  {
   "cell_type": "code",
   "execution_count": 95,
   "metadata": {
    "execution": {
     "iopub.execute_input": "2022-04-05T06:50:58.790368Z",
     "iopub.status.busy": "2022-04-05T06:50:58.790180Z",
     "iopub.status.idle": "2022-04-05T06:50:58.801326Z",
     "shell.execute_reply": "2022-04-05T06:50:58.800451Z"
    }
   },
   "outputs": [
    {
     "ename": "NameError",
     "evalue": "name 'final_coordinate' is not defined",
     "output_type": "error",
     "traceback": [
      "\u001b[0;31m---------------------------------------------------------------------------\u001b[0m",
      "\u001b[0;31mNameError\u001b[0m                                 Traceback (most recent call last)",
      "\u001b[0;32m/tmp/ipykernel_17840/1045973654.py\u001b[0m in \u001b[0;36m<module>\u001b[0;34m\u001b[0m\n\u001b[0;32m----> 1\u001b[0;31m \u001b[0mprint\u001b[0m\u001b[0;34m(\u001b[0m\u001b[0;34m\"CL- atoms:\"\u001b[0m\u001b[0;34m,\u001b[0m \u001b[0;34m[\u001b[0m\u001b[0;34m(\u001b[0m\u001b[0map\u001b[0m\u001b[0;34m.\u001b[0m\u001b[0matomType\u001b[0m\u001b[0;34m,\u001b[0m \u001b[0map\u001b[0m\u001b[0;34m.\u001b[0m\u001b[0matomID\u001b[0m\u001b[0;34m)\u001b[0m \u001b[0;32mfor\u001b[0m \u001b[0map\u001b[0m \u001b[0;32min\u001b[0m \u001b[0mfinal_coordinate\u001b[0m\u001b[0;34m.\u001b[0m\u001b[0mPOSITION\u001b[0m \u001b[0;32mif\u001b[0m\u001b[0;34m(\u001b[0m\u001b[0map\u001b[0m\u001b[0;34m.\u001b[0m\u001b[0mresName\u001b[0m \u001b[0;34m==\u001b[0m \u001b[0;34m\"CL-\"\u001b[0m\u001b[0;34m)\u001b[0m\u001b[0;34m]\u001b[0m\u001b[0;34m)\u001b[0m\u001b[0;34m\u001b[0m\u001b[0;34m\u001b[0m\u001b[0m\n\u001b[0m\u001b[1;32m      2\u001b[0m \u001b[0mprint\u001b[0m\u001b[0;34m(\u001b[0m\u001b[0;34m\"ARG atoms:\"\u001b[0m\u001b[0;34m,\u001b[0m \u001b[0;34m[\u001b[0m\u001b[0;34m(\u001b[0m\u001b[0map\u001b[0m\u001b[0;34m.\u001b[0m\u001b[0matomType\u001b[0m\u001b[0;34m,\u001b[0m \u001b[0map\u001b[0m\u001b[0;34m.\u001b[0m\u001b[0matomID\u001b[0m\u001b[0;34m)\u001b[0m \u001b[0;32mfor\u001b[0m \u001b[0map\u001b[0m \u001b[0;32min\u001b[0m \u001b[0mfinal_coordinate\u001b[0m\u001b[0;34m.\u001b[0m\u001b[0mPOSITION\u001b[0m \u001b[0;32mif\u001b[0m\u001b[0;34m(\u001b[0m\u001b[0map\u001b[0m\u001b[0;34m.\u001b[0m\u001b[0mresName\u001b[0m \u001b[0;34m==\u001b[0m \u001b[0;34m\"ARG\"\u001b[0m\u001b[0;34m)\u001b[0m\u001b[0;34m]\u001b[0m\u001b[0;34m)\u001b[0m\u001b[0;34m\u001b[0m\u001b[0;34m\u001b[0m\u001b[0m\n\u001b[1;32m      3\u001b[0m \u001b[0mprint\u001b[0m\u001b[0;34m(\u001b[0m\u001b[0;34m\"LYSH atoms:\"\u001b[0m\u001b[0;34m,\u001b[0m \u001b[0;34m[\u001b[0m\u001b[0;34m(\u001b[0m\u001b[0map\u001b[0m\u001b[0;34m.\u001b[0m\u001b[0matomType\u001b[0m\u001b[0;34m,\u001b[0m \u001b[0map\u001b[0m\u001b[0;34m.\u001b[0m\u001b[0matomID\u001b[0m\u001b[0;34m)\u001b[0m \u001b[0;32mfor\u001b[0m \u001b[0map\u001b[0m \u001b[0;32min\u001b[0m \u001b[0mfinal_coordinate\u001b[0m\u001b[0;34m.\u001b[0m\u001b[0mPOSITION\u001b[0m \u001b[0;32mif\u001b[0m\u001b[0;34m(\u001b[0m\u001b[0map\u001b[0m\u001b[0;34m.\u001b[0m\u001b[0mresName\u001b[0m \u001b[0;34m==\u001b[0m \u001b[0;34m\"LYSH\"\u001b[0m\u001b[0;34m)\u001b[0m\u001b[0;34m]\u001b[0m\u001b[0;34m)\u001b[0m\u001b[0;34m\u001b[0m\u001b[0;34m\u001b[0m\u001b[0m\n\u001b[1;32m      4\u001b[0m \u001b[0mprint\u001b[0m\u001b[0;34m(\u001b[0m\u001b[0;34m\"NTERM atoms:\"\u001b[0m\u001b[0;34m,\u001b[0m \u001b[0;34m[\u001b[0m\u001b[0;34m(\u001b[0m\u001b[0map\u001b[0m\u001b[0;34m.\u001b[0m\u001b[0matomType\u001b[0m\u001b[0;34m,\u001b[0m \u001b[0map\u001b[0m\u001b[0;34m.\u001b[0m\u001b[0matomID\u001b[0m\u001b[0;34m)\u001b[0m \u001b[0;32mfor\u001b[0m \u001b[0map\u001b[0m \u001b[0;32min\u001b[0m \u001b[0mfinal_coordinate\u001b[0m\u001b[0;34m.\u001b[0m\u001b[0mPOSITION\u001b[0m \u001b[0;32mif\u001b[0m\u001b[0;34m(\u001b[0m\u001b[0map\u001b[0m\u001b[0;34m.\u001b[0m\u001b[0mresName\u001b[0m \u001b[0;34m==\u001b[0m \u001b[0;34m\"VAL\"\u001b[0m\u001b[0;34m)\u001b[0m\u001b[0;34m]\u001b[0m\u001b[0;34m)\u001b[0m\u001b[0;34m\u001b[0m\u001b[0;34m\u001b[0m\u001b[0m\n",
      "\u001b[0;31mNameError\u001b[0m: name 'final_coordinate' is not defined"
     ]
    }
   ],
   "source": [
    "print(\"CL- atoms:\", [(ap.atomType, ap.atomID) for ap in final_coordinate.POSITION if(ap.resName == \"CL-\")])\n",
    "print(\"ARG atoms:\", [(ap.atomType, ap.atomID) for ap in final_coordinate.POSITION if(ap.resName == \"ARG\")])\n",
    "print(\"LYSH atoms:\", [(ap.atomType, ap.atomID) for ap in final_coordinate.POSITION if(ap.resName == \"LYSH\")])\n",
    "print(\"NTERM atoms:\", [(ap.atomType, ap.atomID) for ap in final_coordinate.POSITION if(ap.resName == \"VAL\")])"
   ]
  },
  {
   "cell_type": "markdown",
   "metadata": {},
   "source": [
    "Calculate the distances now to the different CL- ions."
   ]
  },
  {
   "cell_type": "code",
   "execution_count": 96,
   "metadata": {
    "execution": {
     "iopub.execute_input": "2022-04-05T06:50:58.803732Z",
     "iopub.status.busy": "2022-04-05T06:50:58.803537Z",
     "iopub.status.idle": "2022-04-05T06:50:58.812003Z",
     "shell.execute_reply": "2022-04-05T06:50:58.811300Z"
    }
   },
   "outputs": [
    {
     "ename": "NameError",
     "evalue": "name 'coordinate_traj' is not defined",
     "output_type": "error",
     "traceback": [
      "\u001b[0;31m---------------------------------------------------------------------------\u001b[0m",
      "\u001b[0;31mNameError\u001b[0m                                 Traceback (most recent call last)",
      "\u001b[0;32m/tmp/ipykernel_17840/2849644629.py\u001b[0m in \u001b[0;36m<module>\u001b[0;34m\u001b[0m\n\u001b[0;32m----> 1\u001b[0;31m \u001b[0mcoordinate_traj\u001b[0m\u001b[0;34m.\u001b[0m\u001b[0mdistances\u001b[0m\u001b[0;34m(\u001b[0m\u001b[0matom_pairs\u001b[0m\u001b[0;34m=\u001b[0m\u001b[0;34m[\u001b[0m\u001b[0;34m[\u001b[0m\u001b[0;36m72\u001b[0m\u001b[0;34m,\u001b[0m \u001b[0;36m37\u001b[0m\u001b[0;34m]\u001b[0m\u001b[0;34m,\u001b[0m \u001b[0;34m[\u001b[0m\u001b[0;36m73\u001b[0m\u001b[0;34m,\u001b[0m \u001b[0;36m37\u001b[0m\u001b[0;34m]\u001b[0m\u001b[0;34m]\u001b[0m\u001b[0;34m)\u001b[0m\u001b[0;34m.\u001b[0m\u001b[0mplot\u001b[0m\u001b[0;34m(\u001b[0m\u001b[0mlabel\u001b[0m\u001b[0;34m=\u001b[0m\u001b[0;34m\"CL-1/2 - ARG-CZ\"\u001b[0m\u001b[0;34m,\u001b[0m \u001b[0mlegend\u001b[0m\u001b[0;34m=\u001b[0m\u001b[0;32mTrue\u001b[0m\u001b[0;34m,\u001b[0m \u001b[0mxlabel\u001b[0m\u001b[0;34m=\u001b[0m\u001b[0;34m\"t [ps]\"\u001b[0m\u001b[0;34m,\u001b[0m \u001b[0mylabel\u001b[0m\u001b[0;34m=\u001b[0m\u001b[0;34m\"r [nm]\"\u001b[0m\u001b[0;34m)\u001b[0m\u001b[0;34m\u001b[0m\u001b[0;34m\u001b[0m\u001b[0m\n\u001b[0m",
      "\u001b[0;31mNameError\u001b[0m: name 'coordinate_traj' is not defined"
     ]
    }
   ],
   "source": [
    "coordinate_traj.distances(atom_pairs=[[72, 37], [73, 37]]).plot(label=\"CL-1/2 - ARG-CZ\", legend=True, xlabel=\"t [ps]\", ylabel=\"r [nm]\")"
   ]
  },
  {
   "cell_type": "code",
   "execution_count": 97,
   "metadata": {
    "execution": {
     "iopub.execute_input": "2022-04-05T06:50:58.815021Z",
     "iopub.status.busy": "2022-04-05T06:50:58.814678Z",
     "iopub.status.idle": "2022-04-05T06:50:58.823850Z",
     "shell.execute_reply": "2022-04-05T06:50:58.823141Z"
    }
   },
   "outputs": [
    {
     "ename": "NameError",
     "evalue": "name 'coordinate_traj' is not defined",
     "output_type": "error",
     "traceback": [
      "\u001b[0;31m---------------------------------------------------------------------------\u001b[0m",
      "\u001b[0;31mNameError\u001b[0m                                 Traceback (most recent call last)",
      "\u001b[0;32m/tmp/ipykernel_17840/3432102820.py\u001b[0m in \u001b[0;36m<module>\u001b[0;34m\u001b[0m\n\u001b[0;32m----> 1\u001b[0;31m \u001b[0mcoordinate_traj\u001b[0m\u001b[0;34m.\u001b[0m\u001b[0mdistances\u001b[0m\u001b[0;34m(\u001b[0m\u001b[0matom_pairs\u001b[0m\u001b[0;34m=\u001b[0m\u001b[0;34m[\u001b[0m\u001b[0;34m[\u001b[0m\u001b[0;36m72\u001b[0m\u001b[0;34m,\u001b[0m \u001b[0;36m53\u001b[0m\u001b[0;34m]\u001b[0m\u001b[0;34m,\u001b[0m \u001b[0;34m[\u001b[0m\u001b[0;36m73\u001b[0m\u001b[0;34m,\u001b[0m \u001b[0;36m53\u001b[0m\u001b[0;34m]\u001b[0m\u001b[0;34m]\u001b[0m\u001b[0;34m)\u001b[0m\u001b[0;34m.\u001b[0m\u001b[0mplot\u001b[0m\u001b[0;34m(\u001b[0m\u001b[0mlabel\u001b[0m\u001b[0;34m=\u001b[0m\u001b[0;34m\"CL-1/2 - LYSH-NZ\"\u001b[0m\u001b[0;34m,\u001b[0m \u001b[0mlegend\u001b[0m\u001b[0;34m=\u001b[0m\u001b[0;32mTrue\u001b[0m\u001b[0;34m,\u001b[0m \u001b[0mxlabel\u001b[0m\u001b[0;34m=\u001b[0m\u001b[0;34m\"t [ps]\"\u001b[0m\u001b[0;34m,\u001b[0m \u001b[0mylabel\u001b[0m\u001b[0;34m=\u001b[0m\u001b[0;34m\"r [nm]\"\u001b[0m\u001b[0;34m)\u001b[0m\u001b[0;34m\u001b[0m\u001b[0;34m\u001b[0m\u001b[0m\n\u001b[0m",
      "\u001b[0;31mNameError\u001b[0m: name 'coordinate_traj' is not defined"
     ]
    }
   ],
   "source": [
    "coordinate_traj.distances(atom_pairs=[[72, 53], [73, 53]]).plot(label=\"CL-1/2 - LYSH-NZ\", legend=True, xlabel=\"t [ps]\", ylabel=\"r [nm]\")"
   ]
  },
  {
   "cell_type": "code",
   "execution_count": 98,
   "metadata": {
    "execution": {
     "iopub.execute_input": "2022-04-05T06:50:58.826282Z",
     "iopub.status.busy": "2022-04-05T06:50:58.826077Z",
     "iopub.status.idle": "2022-04-05T06:50:58.835412Z",
     "shell.execute_reply": "2022-04-05T06:50:58.834573Z"
    }
   },
   "outputs": [
    {
     "ename": "NameError",
     "evalue": "name 'coordinate_traj' is not defined",
     "output_type": "error",
     "traceback": [
      "\u001b[0;31m---------------------------------------------------------------------------\u001b[0m",
      "\u001b[0;31mNameError\u001b[0m                                 Traceback (most recent call last)",
      "\u001b[0;32m/tmp/ipykernel_17840/5725001.py\u001b[0m in \u001b[0;36m<module>\u001b[0;34m\u001b[0m\n\u001b[0;32m----> 1\u001b[0;31m \u001b[0mcoordinate_traj\u001b[0m\u001b[0;34m.\u001b[0m\u001b[0mdistances\u001b[0m\u001b[0;34m(\u001b[0m\u001b[0matom_pairs\u001b[0m\u001b[0;34m=\u001b[0m\u001b[0;34m[\u001b[0m\u001b[0;34m[\u001b[0m\u001b[0;36m72\u001b[0m\u001b[0;34m,\u001b[0m \u001b[0;36m3\u001b[0m\u001b[0;34m]\u001b[0m\u001b[0;34m,\u001b[0m \u001b[0;34m[\u001b[0m\u001b[0;36m73\u001b[0m\u001b[0;34m,\u001b[0m \u001b[0;36m3\u001b[0m\u001b[0;34m]\u001b[0m\u001b[0;34m]\u001b[0m\u001b[0;34m)\u001b[0m\u001b[0;34m.\u001b[0m\u001b[0mplot\u001b[0m\u001b[0;34m(\u001b[0m\u001b[0mlabel\u001b[0m\u001b[0;34m=\u001b[0m\u001b[0;34m\"CL-1/2 - N-TERM\"\u001b[0m\u001b[0;34m,\u001b[0m \u001b[0mlegend\u001b[0m\u001b[0;34m=\u001b[0m\u001b[0;32mTrue\u001b[0m\u001b[0;34m,\u001b[0m \u001b[0mxlabel\u001b[0m\u001b[0;34m=\u001b[0m\u001b[0;34m\"t [ps]\"\u001b[0m\u001b[0;34m,\u001b[0m \u001b[0mylabel\u001b[0m\u001b[0;34m=\u001b[0m\u001b[0;34m\"r [nm]\"\u001b[0m\u001b[0;34m)\u001b[0m\u001b[0;34m\u001b[0m\u001b[0;34m\u001b[0m\u001b[0m\n\u001b[0m",
      "\u001b[0;31mNameError\u001b[0m: name 'coordinate_traj' is not defined"
     ]
    }
   ],
   "source": [
    "coordinate_traj.distances(atom_pairs=[[72, 3], [73, 3]]).plot(label=\"CL-1/2 - N-TERM\", legend=True, xlabel=\"t [ps]\", ylabel=\"r [nm]\")"
   ]
  },
  {
   "cell_type": "code",
   "execution_count": null,
   "metadata": {},
   "outputs": [],
   "source": []
  }
 ],
 "metadata": {
  "interpreter": {
   "hash": "e7d5b70120806d05daeaf98b799438b40f063b8cf99696cad03a40d92a237582"
  },
  "kernelspec": {
   "display_name": "Python 3.9.10 ('pygromosDev')",
   "language": "python",
   "name": "python3"
  },
  "language_info": {
   "codemirror_mode": {
    "name": "ipython",
    "version": 3
   },
   "file_extension": ".py",
   "mimetype": "text/x-python",
   "name": "python",
   "nbconvert_exporter": "python",
   "pygments_lexer": "ipython3",
   "version": "3.9.7"
  },
  "widgets": {
   "application/vnd.jupyter.widget-state+json": {
    "state": {
     "50652ad196874698b4afe20a1ea6ec12": {
      "model_module": "nglview-js-widgets",
      "model_module_version": "3.0.1",
      "model_name": "ColormakerRegistryModel",
      "state": {
       "_dom_classes": [],
       "_model_module": "nglview-js-widgets",
       "_model_module_version": "3.0.1",
       "_model_name": "ColormakerRegistryModel",
       "_msg_ar": [],
       "_msg_q": [],
       "_ready": false,
       "_view_count": null,
       "_view_module": "nglview-js-widgets",
       "_view_module_version": "3.0.1",
       "_view_name": "ColormakerRegistryView",
       "layout": "IPY_MODEL_ca1aef6508b949d2a5987f1a3ba19f4a"
      }
     },
     "ca1aef6508b949d2a5987f1a3ba19f4a": {
      "model_module": "@jupyter-widgets/base",
      "model_module_version": "1.2.0",
      "model_name": "LayoutModel",
      "state": {
       "_model_module": "@jupyter-widgets/base",
       "_model_module_version": "1.2.0",
       "_model_name": "LayoutModel",
       "_view_count": null,
       "_view_module": "@jupyter-widgets/base",
       "_view_module_version": "1.2.0",
       "_view_name": "LayoutView",
       "align_content": null,
       "align_items": null,
       "align_self": null,
       "border": null,
       "bottom": null,
       "display": null,
       "flex": null,
       "flex_flow": null,
       "grid_area": null,
       "grid_auto_columns": null,
       "grid_auto_flow": null,
       "grid_auto_rows": null,
       "grid_column": null,
       "grid_gap": null,
       "grid_row": null,
       "grid_template_areas": null,
       "grid_template_columns": null,
       "grid_template_rows": null,
       "height": null,
       "justify_content": null,
       "justify_items": null,
       "left": null,
       "margin": null,
       "max_height": null,
       "max_width": null,
       "min_height": null,
       "min_width": null,
       "object_fit": null,
       "object_position": null,
       "order": null,
       "overflow": null,
       "overflow_x": null,
       "overflow_y": null,
       "padding": null,
       "right": null,
       "top": null,
       "visibility": null,
       "width": null
      }
     }
    },
    "version_major": 2,
    "version_minor": 0
   }
  }
 },
 "nbformat": 4,
 "nbformat_minor": 4
}
