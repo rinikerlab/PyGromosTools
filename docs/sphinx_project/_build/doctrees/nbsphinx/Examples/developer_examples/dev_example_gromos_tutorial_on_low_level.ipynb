{
 "cells": [
  {
   "cell_type": "markdown",
   "metadata": {
    "pycharm": {
     "name": "#%% md\n"
    }
   },
   "source": [
    "\n",
    "# Gromos Tutorial Pipeline - OLD\n",
    "\n",
    "**NOTE** This is the old way on how to do the Tutorial for Gromos! We want to remove this for the future, please checkout the new Tutorial!\n"
   ]
  },
  {
   "cell_type": "code",
   "execution_count": 1,
   "metadata": {
    "execution": {
     "iopub.execute_input": "2022-04-05T06:50:00.481965Z",
     "iopub.status.busy": "2022-04-05T06:50:00.481237Z",
     "iopub.status.idle": "2022-04-05T06:50:03.719265Z",
     "shell.execute_reply": "2022-04-05T06:50:03.718422Z"
    }
   },
   "outputs": [
    {
     "data": {
      "application/vnd.jupyter.widget-view+json": {
       "model_id": "5271a05967d44d85a1732fab3cfebce5",
       "version_major": 2,
       "version_minor": 0
      },
      "text/plain": []
     },
     "metadata": {},
     "output_type": "display_data"
    }
   ],
   "source": [
    "import os, sys\n",
    "from pygromos.utils import bash\n",
    "root_dir = os.getcwd()\n",
    "\n",
    "#if package is not installed and path not set correct - this helps you out :)\n",
    "sys.path.append(root_dir+\"/..\")\n",
    "\n",
    "\n",
    "import pygromos\n",
    "from pygromos.gromos.gromosPP import GromosPP\n",
    "from pygromos.gromos.gromosXX import GromosXX\n",
    "from pygromos.files.coord.cnf import Cnf\n",
    "from pygromos.files.trajectory.trc import Trc\n",
    "\n",
    "gromosPP_bin = None\n",
    "gromosXX_bin = None\n",
    "gromPP = GromosPP(gromosPP_bin)\n",
    "gromXX = GromosXX(gromosXX_bin)\n",
    "\n",
    "project_dir = os.path.abspath(\"../example_files/Tutorial_System\")\n",
    "input_dir = project_dir+\"/input\""
   ]
  },
  {
   "cell_type": "markdown",
   "metadata": {
    "pycharm": {
     "name": "#%% md\n"
    }
   },
   "source": [
    "## Build initial files\n",
    "### generate Topology\n",
    "#### build single topologies"
   ]
  },
  {
   "cell_type": "code",
   "execution_count": 2,
   "metadata": {
    "execution": {
     "iopub.execute_input": "2022-04-05T06:50:03.721934Z",
     "iopub.status.busy": "2022-04-05T06:50:03.721736Z",
     "iopub.status.idle": "2022-04-05T06:50:03.806289Z",
     "shell.execute_reply": "2022-04-05T06:50:03.805451Z"
    }
   },
   "outputs": [
    {
     "name": "stderr",
     "output_type": "stream",
     "text": [
      "mkdir: cannot create directory ‘/home/mlehner/PyGromosTools/docs/sphinx_project/Examples/example_files/Tutorial_System/a_topo’: No such file or directory\n"
     ]
    },
    {
     "ename": "OSError",
     "evalue": "could not make folder:\n /home/mlehner/PyGromosTools/docs/sphinx_project/Examples/example_files/Tutorial_System/a_topo",
     "output_type": "error",
     "traceback": [
      "\u001b[0;31m---------------------------------------------------------------------------\u001b[0m",
      "\u001b[0;31mOSError\u001b[0m                                   Traceback (most recent call last)",
      "\u001b[0;32m/tmp/ipykernel_16122/2242863237.py\u001b[0m in \u001b[0;36m<module>\u001b[0;34m\u001b[0m\n\u001b[1;32m      1\u001b[0m \u001b[0;32mfrom\u001b[0m \u001b[0mpygromos\u001b[0m\u001b[0;34m.\u001b[0m\u001b[0mdata\u001b[0m\u001b[0;34m.\u001b[0m\u001b[0mff\u001b[0m \u001b[0;32mimport\u001b[0m \u001b[0mGromos54A7\u001b[0m\u001b[0;34m\u001b[0m\u001b[0;34m\u001b[0m\u001b[0m\n\u001b[1;32m      2\u001b[0m \u001b[0;34m\u001b[0m\u001b[0m\n\u001b[0;32m----> 3\u001b[0;31m \u001b[0mtopo_dir\u001b[0m \u001b[0;34m=\u001b[0m \u001b[0mbash\u001b[0m\u001b[0;34m.\u001b[0m\u001b[0mmake_folder\u001b[0m\u001b[0;34m(\u001b[0m\u001b[0mproject_dir\u001b[0m\u001b[0;34m+\u001b[0m\u001b[0;34m'/a_topo'\u001b[0m\u001b[0;34m)\u001b[0m\u001b[0;34m\u001b[0m\u001b[0;34m\u001b[0m\u001b[0m\n\u001b[0m\u001b[1;32m      4\u001b[0m \u001b[0;34m\u001b[0m\u001b[0m\n\u001b[1;32m      5\u001b[0m \u001b[0;31m## Make Cl-\u001b[0m\u001b[0;34m\u001b[0m\u001b[0;34m\u001b[0m\u001b[0m\n",
      "\u001b[0;32m~/PyGromosTools/pygromos/utils/bash.py\u001b[0m in \u001b[0;36mmake_folder\u001b[0;34m(in_directory_path, additional_option, verbose)\u001b[0m\n\u001b[1;32m    556\u001b[0m     \u001b[0;32mif\u001b[0m \u001b[0;32mnot\u001b[0m \u001b[0mos\u001b[0m\u001b[0;34m.\u001b[0m\u001b[0mpath\u001b[0m\u001b[0;34m.\u001b[0m\u001b[0misdir\u001b[0m\u001b[0;34m(\u001b[0m\u001b[0min_directory_path\u001b[0m\u001b[0;34m)\u001b[0m\u001b[0;34m:\u001b[0m\u001b[0;34m\u001b[0m\u001b[0;34m\u001b[0m\u001b[0m\n\u001b[1;32m    557\u001b[0m         \u001b[0;32mif\u001b[0m \u001b[0mos\u001b[0m\u001b[0;34m.\u001b[0m\u001b[0msystem\u001b[0m\u001b[0;34m(\u001b[0m\u001b[0mmk_folder\u001b[0m\u001b[0;34m)\u001b[0m\u001b[0;34m:\u001b[0m\u001b[0;34m\u001b[0m\u001b[0;34m\u001b[0m\u001b[0m\n\u001b[0;32m--> 558\u001b[0;31m             \u001b[0;32mraise\u001b[0m \u001b[0mOSError\u001b[0m\u001b[0;34m(\u001b[0m\u001b[0;34m\"could not make folder:\\n \"\u001b[0m \u001b[0;34m+\u001b[0m \u001b[0mstr\u001b[0m\u001b[0;34m(\u001b[0m\u001b[0min_directory_path\u001b[0m\u001b[0;34m)\u001b[0m\u001b[0;34m)\u001b[0m\u001b[0;34m\u001b[0m\u001b[0;34m\u001b[0m\u001b[0m\n\u001b[0m\u001b[1;32m    559\u001b[0m \u001b[0;34m\u001b[0m\u001b[0m\n\u001b[1;32m    560\u001b[0m     \u001b[0;32melif\u001b[0m \u001b[0mverbose\u001b[0m\u001b[0;34m:\u001b[0m\u001b[0;34m\u001b[0m\u001b[0;34m\u001b[0m\u001b[0m\n",
      "\u001b[0;31mOSError\u001b[0m: could not make folder:\n /home/mlehner/PyGromosTools/docs/sphinx_project/Examples/example_files/Tutorial_System/a_topo"
     ]
    }
   ],
   "source": [
    "from pygromos.data.ff import Gromos54A7\n",
    "\n",
    "topo_dir = bash.make_folder(project_dir+'/a_topo')\n",
    "\n",
    "## Make Cl-\n",
    "sequence = \"CL-\"\n",
    "solvent = \"H2O\"\n",
    "top_cl = topo_dir+\"/cl.top\"\n",
    "\n",
    "gromPP.make_top(in_building_block_lib_path=Gromos54A7.mtb,\n",
    "                in_parameter_lib_path=Gromos54A7.ifp,\n",
    "                in_sequence=sequence, in_solvent=solvent,out_top_path=top_cl)\n",
    "\n",
    "## Make Peptide\n",
    "sequence = \"NH3+ VAL TYR ARG LYSH GLN COO-\"\n",
    "solvent = \"H2O\"\n",
    "top_peptide = topo_dir+\"/peptide.top\"\n",
    "\n",
    "gromPP.make_top(in_building_block_lib_path=Gromos54A7.mtb,\n",
    "                in_parameter_lib_path=Gromos54A7.ifp,\n",
    "                in_sequence=sequence,\n",
    "                in_solvent=solvent,out_top_path=top_peptide)\n"
   ]
  },
  {
   "cell_type": "markdown",
   "metadata": {
    "pycharm": {
     "name": "#%% md\n"
    }
   },
   "source": [
    "#### combine topology"
   ]
  },
  {
   "cell_type": "code",
   "execution_count": 3,
   "metadata": {
    "execution": {
     "iopub.execute_input": "2022-04-05T06:50:03.809380Z",
     "iopub.status.busy": "2022-04-05T06:50:03.809122Z",
     "iopub.status.idle": "2022-04-05T06:50:03.819237Z",
     "shell.execute_reply": "2022-04-05T06:50:03.818501Z"
    }
   },
   "outputs": [
    {
     "ename": "NameError",
     "evalue": "name 'topo_dir' is not defined",
     "output_type": "error",
     "traceback": [
      "\u001b[0;31m---------------------------------------------------------------------------\u001b[0m",
      "\u001b[0;31mNameError\u001b[0m                                 Traceback (most recent call last)",
      "\u001b[0;32m/tmp/ipykernel_16122/3710573730.py\u001b[0m in \u001b[0;36m<module>\u001b[0;34m\u001b[0m\n\u001b[0;32m----> 1\u001b[0;31m \u001b[0mtop_system\u001b[0m \u001b[0;34m=\u001b[0m \u001b[0mtopo_dir\u001b[0m\u001b[0;34m+\u001b[0m\u001b[0;34m\"/vac_sys.top\"\u001b[0m\u001b[0;34m\u001b[0m\u001b[0;34m\u001b[0m\u001b[0m\n\u001b[0m\u001b[1;32m      2\u001b[0m \u001b[0mgromPP\u001b[0m\u001b[0;34m.\u001b[0m\u001b[0mcom_top\u001b[0m\u001b[0;34m(\u001b[0m\u001b[0min_topo_paths\u001b[0m\u001b[0;34m=\u001b[0m\u001b[0;34m[\u001b[0m\u001b[0mtop_peptide\u001b[0m\u001b[0;34m,\u001b[0m \u001b[0mtop_cl\u001b[0m\u001b[0;34m]\u001b[0m\u001b[0;34m,\u001b[0m \u001b[0mtopo_multiplier\u001b[0m\u001b[0;34m=\u001b[0m\u001b[0;34m[\u001b[0m\u001b[0;36m1\u001b[0m\u001b[0;34m,\u001b[0m\u001b[0;36m2\u001b[0m\u001b[0;34m]\u001b[0m\u001b[0;34m,\u001b[0m \u001b[0mout_top_path\u001b[0m\u001b[0;34m=\u001b[0m\u001b[0mtop_system\u001b[0m\u001b[0;34m)\u001b[0m\u001b[0;34m\u001b[0m\u001b[0;34m\u001b[0m\u001b[0m\n",
      "\u001b[0;31mNameError\u001b[0m: name 'topo_dir' is not defined"
     ]
    }
   ],
   "source": [
    "top_system = topo_dir+\"/vac_sys.top\"\n",
    "gromPP.com_top(in_topo_paths=[top_peptide, top_cl], topo_multiplier=[1,2], out_top_path=top_system)\n"
   ]
  },
  {
   "cell_type": "markdown",
   "metadata": {},
   "source": [
    "### generate coordinates\n"
   ]
  },
  {
   "cell_type": "code",
   "execution_count": 4,
   "metadata": {
    "execution": {
     "iopub.execute_input": "2022-04-05T06:50:03.821746Z",
     "iopub.status.busy": "2022-04-05T06:50:03.821546Z",
     "iopub.status.idle": "2022-04-05T06:50:03.832973Z",
     "shell.execute_reply": "2022-04-05T06:50:03.832368Z"
    }
   },
   "outputs": [
    {
     "name": "stderr",
     "output_type": "stream",
     "text": [
      "mkdir: cannot create directory ‘/home/mlehner/PyGromosTools/docs/sphinx_project/Examples/example_files/Tutorial_System/b_coord’: No such file or directory\n"
     ]
    },
    {
     "ename": "OSError",
     "evalue": "could not make folder:\n /home/mlehner/PyGromosTools/docs/sphinx_project/Examples/example_files/Tutorial_System/b_coord",
     "output_type": "error",
     "traceback": [
      "\u001b[0;31m---------------------------------------------------------------------------\u001b[0m",
      "\u001b[0;31mOSError\u001b[0m                                   Traceback (most recent call last)",
      "\u001b[0;32m/tmp/ipykernel_16122/4257591329.py\u001b[0m in \u001b[0;36m<module>\u001b[0;34m\u001b[0m\n\u001b[0;32m----> 1\u001b[0;31m \u001b[0mcoord_dir\u001b[0m \u001b[0;34m=\u001b[0m \u001b[0mbash\u001b[0m\u001b[0;34m.\u001b[0m\u001b[0mmake_folder\u001b[0m\u001b[0;34m(\u001b[0m\u001b[0mproject_dir\u001b[0m\u001b[0;34m+\u001b[0m\u001b[0;34m\"/b_coord\"\u001b[0m\u001b[0;34m)\u001b[0m\u001b[0;34m\u001b[0m\u001b[0;34m\u001b[0m\u001b[0m\n\u001b[0m\u001b[1;32m      2\u001b[0m \u001b[0min_pdb\u001b[0m \u001b[0;34m=\u001b[0m \u001b[0minput_dir\u001b[0m\u001b[0;34m+\u001b[0m\u001b[0;34m\"/peptide.pdb\"\u001b[0m\u001b[0;34m\u001b[0m\u001b[0;34m\u001b[0m\u001b[0m\n\u001b[1;32m      3\u001b[0m \u001b[0mcnf_peptide\u001b[0m \u001b[0;34m=\u001b[0m \u001b[0mcoord_dir\u001b[0m\u001b[0;34m+\u001b[0m\u001b[0;34m\"/cnf_vacuum_peptide.cnf\"\u001b[0m\u001b[0;34m\u001b[0m\u001b[0;34m\u001b[0m\u001b[0m\n\u001b[1;32m      4\u001b[0m \u001b[0;34m\u001b[0m\u001b[0m\n\u001b[1;32m      5\u001b[0m \u001b[0mcnf_peptide\u001b[0m \u001b[0;34m=\u001b[0m \u001b[0mgromPP\u001b[0m\u001b[0;34m.\u001b[0m\u001b[0mpdb2gromos\u001b[0m\u001b[0;34m(\u001b[0m\u001b[0min_pdb_path\u001b[0m\u001b[0;34m=\u001b[0m\u001b[0min_pdb\u001b[0m\u001b[0;34m,\u001b[0m \u001b[0min_top_path\u001b[0m\u001b[0;34m=\u001b[0m\u001b[0mtop_peptide\u001b[0m\u001b[0;34m,\u001b[0m \u001b[0mout_cnf_path\u001b[0m\u001b[0;34m=\u001b[0m\u001b[0mcnf_peptide\u001b[0m\u001b[0;34m)\u001b[0m\u001b[0;34m\u001b[0m\u001b[0;34m\u001b[0m\u001b[0m\n",
      "\u001b[0;32m~/PyGromosTools/pygromos/utils/bash.py\u001b[0m in \u001b[0;36mmake_folder\u001b[0;34m(in_directory_path, additional_option, verbose)\u001b[0m\n\u001b[1;32m    556\u001b[0m     \u001b[0;32mif\u001b[0m \u001b[0;32mnot\u001b[0m \u001b[0mos\u001b[0m\u001b[0;34m.\u001b[0m\u001b[0mpath\u001b[0m\u001b[0;34m.\u001b[0m\u001b[0misdir\u001b[0m\u001b[0;34m(\u001b[0m\u001b[0min_directory_path\u001b[0m\u001b[0;34m)\u001b[0m\u001b[0;34m:\u001b[0m\u001b[0;34m\u001b[0m\u001b[0;34m\u001b[0m\u001b[0m\n\u001b[1;32m    557\u001b[0m         \u001b[0;32mif\u001b[0m \u001b[0mos\u001b[0m\u001b[0;34m.\u001b[0m\u001b[0msystem\u001b[0m\u001b[0;34m(\u001b[0m\u001b[0mmk_folder\u001b[0m\u001b[0;34m)\u001b[0m\u001b[0;34m:\u001b[0m\u001b[0;34m\u001b[0m\u001b[0;34m\u001b[0m\u001b[0m\n\u001b[0;32m--> 558\u001b[0;31m             \u001b[0;32mraise\u001b[0m \u001b[0mOSError\u001b[0m\u001b[0;34m(\u001b[0m\u001b[0;34m\"could not make folder:\\n \"\u001b[0m \u001b[0;34m+\u001b[0m \u001b[0mstr\u001b[0m\u001b[0;34m(\u001b[0m\u001b[0min_directory_path\u001b[0m\u001b[0;34m)\u001b[0m\u001b[0;34m)\u001b[0m\u001b[0;34m\u001b[0m\u001b[0;34m\u001b[0m\u001b[0m\n\u001b[0m\u001b[1;32m    559\u001b[0m \u001b[0;34m\u001b[0m\u001b[0m\n\u001b[1;32m    560\u001b[0m     \u001b[0;32melif\u001b[0m \u001b[0mverbose\u001b[0m\u001b[0;34m:\u001b[0m\u001b[0;34m\u001b[0m\u001b[0;34m\u001b[0m\u001b[0m\n",
      "\u001b[0;31mOSError\u001b[0m: could not make folder:\n /home/mlehner/PyGromosTools/docs/sphinx_project/Examples/example_files/Tutorial_System/b_coord"
     ]
    }
   ],
   "source": [
    "coord_dir = bash.make_folder(project_dir+\"/b_coord\")\n",
    "in_pdb = input_dir+\"/peptide.pdb\"\n",
    "cnf_peptide = coord_dir+\"/cnf_vacuum_peptide.cnf\"\n",
    "\n",
    "cnf_peptide = gromPP.pdb2gromos(in_pdb_path=in_pdb, in_top_path=top_peptide, out_cnf_path=cnf_peptide)\n",
    "Cnf(cnf_peptide).visualize()"
   ]
  },
  {
   "cell_type": "markdown",
   "metadata": {
    "pycharm": {
     "name": "#%% md\n"
    }
   },
   "source": [
    "#### add hydrogens"
   ]
  },
  {
   "cell_type": "code",
   "execution_count": 5,
   "metadata": {
    "execution": {
     "iopub.execute_input": "2022-04-05T06:50:03.835621Z",
     "iopub.status.busy": "2022-04-05T06:50:03.835249Z",
     "iopub.status.idle": "2022-04-05T06:50:03.843634Z",
     "shell.execute_reply": "2022-04-05T06:50:03.842604Z"
    }
   },
   "outputs": [
    {
     "ename": "NameError",
     "evalue": "name 'coord_dir' is not defined",
     "output_type": "error",
     "traceback": [
      "\u001b[0;31m---------------------------------------------------------------------------\u001b[0m",
      "\u001b[0;31mNameError\u001b[0m                                 Traceback (most recent call last)",
      "\u001b[0;32m/tmp/ipykernel_16122/3640015462.py\u001b[0m in \u001b[0;36m<module>\u001b[0;34m\u001b[0m\n\u001b[0;32m----> 1\u001b[0;31m \u001b[0mcnf_hpeptide\u001b[0m \u001b[0;34m=\u001b[0m \u001b[0mcoord_dir\u001b[0m\u001b[0;34m+\u001b[0m\u001b[0;34m\"/vacuum_hpeptide.cnf\"\u001b[0m\u001b[0;34m\u001b[0m\u001b[0;34m\u001b[0m\u001b[0m\n\u001b[0m\u001b[1;32m      2\u001b[0m \u001b[0mcnf_hpeptide\u001b[0m \u001b[0;34m=\u001b[0m \u001b[0mgromPP\u001b[0m\u001b[0;34m.\u001b[0m\u001b[0mprotonate\u001b[0m\u001b[0;34m(\u001b[0m\u001b[0min_cnf_path\u001b[0m\u001b[0;34m=\u001b[0m\u001b[0mcnf_peptide\u001b[0m\u001b[0;34m,\u001b[0m \u001b[0min_top_path\u001b[0m\u001b[0;34m=\u001b[0m\u001b[0mtop_peptide\u001b[0m\u001b[0;34m,\u001b[0m \u001b[0mout_cnf_path\u001b[0m\u001b[0;34m=\u001b[0m\u001b[0mcnf_hpeptide\u001b[0m\u001b[0;34m)\u001b[0m\u001b[0;34m\u001b[0m\u001b[0;34m\u001b[0m\u001b[0m\n\u001b[1;32m      3\u001b[0m \u001b[0;34m\u001b[0m\u001b[0m\n\u001b[1;32m      4\u001b[0m \u001b[0mCnf\u001b[0m\u001b[0;34m(\u001b[0m\u001b[0mcnf_hpeptide\u001b[0m\u001b[0;34m)\u001b[0m\u001b[0;34m.\u001b[0m\u001b[0mvisualize\u001b[0m\u001b[0;34m(\u001b[0m\u001b[0;34m)\u001b[0m\u001b[0;34m\u001b[0m\u001b[0;34m\u001b[0m\u001b[0m\n",
      "\u001b[0;31mNameError\u001b[0m: name 'coord_dir' is not defined"
     ]
    }
   ],
   "source": [
    "cnf_hpeptide = coord_dir+\"/vacuum_hpeptide.cnf\"\n",
    "cnf_hpeptide = gromPP.protonate(in_cnf_path=cnf_peptide, in_top_path=top_peptide, out_cnf_path=cnf_hpeptide)\n",
    "\n",
    "Cnf(cnf_hpeptide).visualize()"
   ]
  },
  {
   "cell_type": "markdown",
   "metadata": {},
   "source": [
    "#### cnf to pdb"
   ]
  },
  {
   "cell_type": "code",
   "execution_count": 6,
   "metadata": {
    "execution": {
     "iopub.execute_input": "2022-04-05T06:50:03.847041Z",
     "iopub.status.busy": "2022-04-05T06:50:03.846253Z",
     "iopub.status.idle": "2022-04-05T06:50:03.854405Z",
     "shell.execute_reply": "2022-04-05T06:50:03.853775Z"
    }
   },
   "outputs": [
    {
     "ename": "NameError",
     "evalue": "name 'coord_dir' is not defined",
     "output_type": "error",
     "traceback": [
      "\u001b[0;31m---------------------------------------------------------------------------\u001b[0m",
      "\u001b[0;31mNameError\u001b[0m                                 Traceback (most recent call last)",
      "\u001b[0;32m/tmp/ipykernel_16122/3784546545.py\u001b[0m in \u001b[0;36m<module>\u001b[0;34m\u001b[0m\n\u001b[0;32m----> 1\u001b[0;31m \u001b[0mout_pdb\u001b[0m \u001b[0;34m=\u001b[0m \u001b[0mcoord_dir\u001b[0m\u001b[0;34m+\u001b[0m\u001b[0;34m\"/vacuum_hpeptide.pdb\"\u001b[0m\u001b[0;34m\u001b[0m\u001b[0;34m\u001b[0m\u001b[0m\n\u001b[0m\u001b[1;32m      2\u001b[0m out_pdb = gromPP.frameout(in_coord_path=cnf_hpeptide, in_top_path=top_peptide, out_file_path=out_pdb,\n\u001b[1;32m      3\u001b[0m                                periodic_boundary_condition=\"v\", out_file_format=\"pdb\", time=0)\n",
      "\u001b[0;31mNameError\u001b[0m: name 'coord_dir' is not defined"
     ]
    }
   ],
   "source": [
    "out_pdb = coord_dir+\"/vacuum_hpeptide.pdb\"\n",
    "out_pdb = gromPP.frameout(in_coord_path=cnf_hpeptide, in_top_path=top_peptide, out_file_path=out_pdb,\n",
    "                               periodic_boundary_condition=\"v\", out_file_format=\"pdb\", time=0)"
   ]
  },
  {
   "cell_type": "markdown",
   "metadata": {},
   "source": [
    "### energy minimization - Vacuum"
   ]
  },
  {
   "cell_type": "code",
   "execution_count": 7,
   "metadata": {
    "execution": {
     "iopub.execute_input": "2022-04-05T06:50:03.856645Z",
     "iopub.status.busy": "2022-04-05T06:50:03.856449Z",
     "iopub.status.idle": "2022-04-05T06:50:03.877757Z",
     "shell.execute_reply": "2022-04-05T06:50:03.876796Z"
    }
   },
   "outputs": [
    {
     "name": "stderr",
     "output_type": "stream",
     "text": [
      "mkdir: cannot create directory ‘/home/mlehner/PyGromosTools/docs/sphinx_project/Examples/example_files/Tutorial_System/c_vacuum_emin’: No such file or directory\n"
     ]
    },
    {
     "ename": "OSError",
     "evalue": "could not make folder:\n /home/mlehner/PyGromosTools/docs/sphinx_project/Examples/example_files/Tutorial_System/c_vacuum_emin",
     "output_type": "error",
     "traceback": [
      "\u001b[0;31m---------------------------------------------------------------------------\u001b[0m",
      "\u001b[0;31mOSError\u001b[0m                                   Traceback (most recent call last)",
      "\u001b[0;32m/tmp/ipykernel_16122/189351535.py\u001b[0m in \u001b[0;36m<module>\u001b[0;34m\u001b[0m\n\u001b[1;32m      3\u001b[0m \u001b[0;34m\u001b[0m\u001b[0m\n\u001b[1;32m      4\u001b[0m \u001b[0mout_prefix\u001b[0m \u001b[0;34m=\u001b[0m \u001b[0;34m\"vacuum_emin\"\u001b[0m\u001b[0;34m\u001b[0m\u001b[0;34m\u001b[0m\u001b[0m\n\u001b[0;32m----> 5\u001b[0;31m \u001b[0mvacuum_emin_dir\u001b[0m \u001b[0;34m=\u001b[0m \u001b[0mbash\u001b[0m\u001b[0;34m.\u001b[0m\u001b[0mmake_folder\u001b[0m\u001b[0;34m(\u001b[0m\u001b[0mproject_dir\u001b[0m\u001b[0;34m+\u001b[0m\u001b[0;34m\"/c_\"\u001b[0m\u001b[0;34m+\u001b[0m\u001b[0mout_prefix\u001b[0m\u001b[0;34m)\u001b[0m\u001b[0;34m\u001b[0m\u001b[0;34m\u001b[0m\u001b[0m\n\u001b[0m\u001b[1;32m      6\u001b[0m \u001b[0mos\u001b[0m\u001b[0;34m.\u001b[0m\u001b[0mchdir\u001b[0m\u001b[0;34m(\u001b[0m\u001b[0mvacuum_emin_dir\u001b[0m\u001b[0;34m)\u001b[0m\u001b[0;34m\u001b[0m\u001b[0;34m\u001b[0m\u001b[0m\n\u001b[1;32m      7\u001b[0m \u001b[0;34m\u001b[0m\u001b[0m\n",
      "\u001b[0;32m~/PyGromosTools/pygromos/utils/bash.py\u001b[0m in \u001b[0;36mmake_folder\u001b[0;34m(in_directory_path, additional_option, verbose)\u001b[0m\n\u001b[1;32m    556\u001b[0m     \u001b[0;32mif\u001b[0m \u001b[0;32mnot\u001b[0m \u001b[0mos\u001b[0m\u001b[0;34m.\u001b[0m\u001b[0mpath\u001b[0m\u001b[0;34m.\u001b[0m\u001b[0misdir\u001b[0m\u001b[0;34m(\u001b[0m\u001b[0min_directory_path\u001b[0m\u001b[0;34m)\u001b[0m\u001b[0;34m:\u001b[0m\u001b[0;34m\u001b[0m\u001b[0;34m\u001b[0m\u001b[0m\n\u001b[1;32m    557\u001b[0m         \u001b[0;32mif\u001b[0m \u001b[0mos\u001b[0m\u001b[0;34m.\u001b[0m\u001b[0msystem\u001b[0m\u001b[0;34m(\u001b[0m\u001b[0mmk_folder\u001b[0m\u001b[0;34m)\u001b[0m\u001b[0;34m:\u001b[0m\u001b[0;34m\u001b[0m\u001b[0;34m\u001b[0m\u001b[0m\n\u001b[0;32m--> 558\u001b[0;31m             \u001b[0;32mraise\u001b[0m \u001b[0mOSError\u001b[0m\u001b[0;34m(\u001b[0m\u001b[0;34m\"could not make folder:\\n \"\u001b[0m \u001b[0;34m+\u001b[0m \u001b[0mstr\u001b[0m\u001b[0;34m(\u001b[0m\u001b[0min_directory_path\u001b[0m\u001b[0;34m)\u001b[0m\u001b[0;34m)\u001b[0m\u001b[0;34m\u001b[0m\u001b[0;34m\u001b[0m\u001b[0m\n\u001b[0m\u001b[1;32m    559\u001b[0m \u001b[0;34m\u001b[0m\u001b[0m\n\u001b[1;32m    560\u001b[0m     \u001b[0;32melif\u001b[0m \u001b[0mverbose\u001b[0m\u001b[0;34m:\u001b[0m\u001b[0;34m\u001b[0m\u001b[0;34m\u001b[0m\u001b[0m\n",
      "\u001b[0;31mOSError\u001b[0m: could not make folder:\n /home/mlehner/PyGromosTools/docs/sphinx_project/Examples/example_files/Tutorial_System/c_vacuum_emin"
     ]
    }
   ],
   "source": [
    "from pygromos.data.simulation_parameters_templates import template_emin_vac\n",
    "from pygromos.files.gromos_system import gromos_system\n",
    "\n",
    "out_prefix = \"vacuum_emin\"\n",
    "vacuum_emin_dir = bash.make_folder(project_dir+\"/c_\"+out_prefix)\n",
    "os.chdir(vacuum_emin_dir)\n",
    "\n",
    "grom_system = gromos_system.Gromos_System(work_folder=vacuum_emin_dir,\n",
    "                                          system_name=\"in_\"+out_prefix,\n",
    "                                          in_top_path=top_peptide,\n",
    "                                          in_cnf_path=cnf_hpeptide,\n",
    "                                          in_imd_path=template_emin_vac,\n",
    "                                         verbose=False)\n",
    "\n",
    "grom_system.adapt_imd()\n",
    "#del grom_system.imd.POSITIONRES\n",
    "grom_system.imd.BOUNDCOND.NTB = 0\n",
    "grom_system.write_files()\n",
    "\n",
    "\n",
    "out_emin_vacuum = vacuum_emin_dir + \"/\" + out_prefix\n",
    "gromXX.md_run(in_imd_path=grom_system.imd.path,\n",
    "              in_topo_path=grom_system.top.path,\n",
    "              in_coord_path=grom_system.cnf.path,\n",
    "              out_prefix=out_emin_vacuum, verbose=True)\n",
    "cnf_emin_vacuum = out_emin_vacuum+\".cnf\"\n",
    "cnf_emin_vacuum\n"
   ]
  },
  {
   "cell_type": "code",
   "execution_count": 8,
   "metadata": {
    "execution": {
     "iopub.execute_input": "2022-04-05T06:50:03.881261Z",
     "iopub.status.busy": "2022-04-05T06:50:03.880442Z",
     "iopub.status.idle": "2022-04-05T06:50:03.895720Z",
     "shell.execute_reply": "2022-04-05T06:50:03.894941Z"
    }
   },
   "outputs": [
    {
     "ename": "NameError",
     "evalue": "name 'grom_system' is not defined",
     "output_type": "error",
     "traceback": [
      "\u001b[0;31m---------------------------------------------------------------------------\u001b[0m",
      "\u001b[0;31mNameError\u001b[0m                                 Traceback (most recent call last)",
      "\u001b[0;32m/tmp/ipykernel_16122/1872843602.py\u001b[0m in \u001b[0;36m<module>\u001b[0;34m\u001b[0m\n\u001b[1;32m      1\u001b[0m \u001b[0;32mfrom\u001b[0m \u001b[0mpygromos\u001b[0m\u001b[0;34m.\u001b[0m\u001b[0msimulations\u001b[0m\u001b[0;34m.\u001b[0m\u001b[0mmodules\u001b[0m\u001b[0;34m.\u001b[0m\u001b[0mpreset_simulation_modules\u001b[0m \u001b[0;32mimport\u001b[0m \u001b[0memin\u001b[0m\u001b[0;34m\u001b[0m\u001b[0;34m\u001b[0m\u001b[0m\n\u001b[1;32m      2\u001b[0m \u001b[0;34m\u001b[0m\u001b[0m\n\u001b[0;32m----> 3\u001b[0;31m \u001b[0memin_gromos_system\u001b[0m\u001b[0;34m,\u001b[0m \u001b[0mjobID\u001b[0m \u001b[0;34m=\u001b[0m \u001b[0memin\u001b[0m\u001b[0;34m(\u001b[0m\u001b[0min_gromos_system\u001b[0m\u001b[0;34m=\u001b[0m\u001b[0mgrom_system\u001b[0m\u001b[0;34m,\u001b[0m \u001b[0mproject_dir\u001b[0m\u001b[0;34m=\u001b[0m\u001b[0mproject_dir\u001b[0m\u001b[0;34m)\u001b[0m\u001b[0;34m\u001b[0m\u001b[0;34m\u001b[0m\u001b[0m\n\u001b[0m\u001b[1;32m      4\u001b[0m \u001b[0memin_gromos_system\u001b[0m\u001b[0;34m\u001b[0m\u001b[0;34m\u001b[0m\u001b[0m\n",
      "\u001b[0;31mNameError\u001b[0m: name 'grom_system' is not defined"
     ]
    }
   ],
   "source": [
    "from pygromos.simulations.modules.preset_simulation_modules import emin\n",
    "\n",
    "emin_gromos_system, jobID = emin(in_gromos_system=grom_system, project_dir=project_dir)\n",
    "emin_gromos_system\n"
   ]
  },
  {
   "cell_type": "code",
   "execution_count": 9,
   "metadata": {
    "execution": {
     "iopub.execute_input": "2022-04-05T06:50:03.898742Z",
     "iopub.status.busy": "2022-04-05T06:50:03.898003Z",
     "iopub.status.idle": "2022-04-05T06:50:03.905943Z",
     "shell.execute_reply": "2022-04-05T06:50:03.905204Z"
    }
   },
   "outputs": [
    {
     "ename": "NameError",
     "evalue": "name 'emin_gromos_system' is not defined",
     "output_type": "error",
     "traceback": [
      "\u001b[0;31m---------------------------------------------------------------------------\u001b[0m",
      "\u001b[0;31mNameError\u001b[0m                                 Traceback (most recent call last)",
      "\u001b[0;32m/tmp/ipykernel_16122/448785403.py\u001b[0m in \u001b[0;36m<module>\u001b[0;34m\u001b[0m\n\u001b[0;32m----> 1\u001b[0;31m \u001b[0memin_gromos_system\u001b[0m\u001b[0;34m.\u001b[0m\u001b[0mcnf\u001b[0m\u001b[0;34m.\u001b[0m\u001b[0mvisualize\u001b[0m\u001b[0;34m(\u001b[0m\u001b[0;34m)\u001b[0m\u001b[0;34m\u001b[0m\u001b[0;34m\u001b[0m\u001b[0m\n\u001b[0m",
      "\u001b[0;31mNameError\u001b[0m: name 'emin_gromos_system' is not defined"
     ]
    }
   ],
   "source": [
    "emin_gromos_system.cnf.visualize()"
   ]
  },
  {
   "cell_type": "markdown",
   "metadata": {
    "pycharm": {
     "name": "#%% md\n"
    }
   },
   "source": [
    "## Solvatistation and Solvent Energy Minimization\n",
    "### build box system"
   ]
  },
  {
   "cell_type": "code",
   "execution_count": 10,
   "metadata": {
    "execution": {
     "iopub.execute_input": "2022-04-05T06:50:03.909019Z",
     "iopub.status.busy": "2022-04-05T06:50:03.908034Z",
     "iopub.status.idle": "2022-04-05T06:50:03.924010Z",
     "shell.execute_reply": "2022-04-05T06:50:03.923162Z"
    }
   },
   "outputs": [
    {
     "name": "stderr",
     "output_type": "stream",
     "text": [
      "mkdir: cannot create directory ‘/home/mlehner/PyGromosTools/docs/sphinx_project/Examples/example_files/Tutorial_System/d_box’: No such file or directory\n"
     ]
    },
    {
     "ename": "OSError",
     "evalue": "could not make folder:\n /home/mlehner/PyGromosTools/docs/sphinx_project/Examples/example_files/Tutorial_System/d_box",
     "output_type": "error",
     "traceback": [
      "\u001b[0;31m---------------------------------------------------------------------------\u001b[0m",
      "\u001b[0;31mOSError\u001b[0m                                   Traceback (most recent call last)",
      "\u001b[0;32m/tmp/ipykernel_16122/3965972887.py\u001b[0m in \u001b[0;36m<module>\u001b[0;34m\u001b[0m\n\u001b[1;32m      1\u001b[0m \u001b[0;32mfrom\u001b[0m \u001b[0mpygromos\u001b[0m\u001b[0;34m.\u001b[0m\u001b[0mdata\u001b[0m\u001b[0;34m.\u001b[0m\u001b[0msolvent_coordinates\u001b[0m \u001b[0;32mimport\u001b[0m \u001b[0mspc\u001b[0m\u001b[0;34m\u001b[0m\u001b[0;34m\u001b[0m\u001b[0m\n\u001b[1;32m      2\u001b[0m \u001b[0mout_prefix\u001b[0m \u001b[0;34m=\u001b[0m \u001b[0;34m\"box\"\u001b[0m\u001b[0;34m\u001b[0m\u001b[0;34m\u001b[0m\u001b[0m\n\u001b[0;32m----> 3\u001b[0;31m \u001b[0mbox_dir\u001b[0m \u001b[0;34m=\u001b[0m \u001b[0mbash\u001b[0m\u001b[0;34m.\u001b[0m\u001b[0mmake_folder\u001b[0m\u001b[0;34m(\u001b[0m\u001b[0mproject_dir\u001b[0m\u001b[0;34m+\u001b[0m\u001b[0;34m\"/d_\"\u001b[0m\u001b[0;34m+\u001b[0m\u001b[0mout_prefix\u001b[0m\u001b[0;34m)\u001b[0m\u001b[0;34m\u001b[0m\u001b[0;34m\u001b[0m\u001b[0m\n\u001b[0m\u001b[1;32m      4\u001b[0m \u001b[0;34m\u001b[0m\u001b[0m\n\u001b[1;32m      5\u001b[0m cnf_box = gromPP.sim_box(in_top_path=top_peptide, in_cnf_path=cnf_emin_vacuum,in_solvent_cnf_file_path=spc,\n",
      "\u001b[0;32m~/PyGromosTools/pygromos/utils/bash.py\u001b[0m in \u001b[0;36mmake_folder\u001b[0;34m(in_directory_path, additional_option, verbose)\u001b[0m\n\u001b[1;32m    556\u001b[0m     \u001b[0;32mif\u001b[0m \u001b[0;32mnot\u001b[0m \u001b[0mos\u001b[0m\u001b[0;34m.\u001b[0m\u001b[0mpath\u001b[0m\u001b[0;34m.\u001b[0m\u001b[0misdir\u001b[0m\u001b[0;34m(\u001b[0m\u001b[0min_directory_path\u001b[0m\u001b[0;34m)\u001b[0m\u001b[0;34m:\u001b[0m\u001b[0;34m\u001b[0m\u001b[0;34m\u001b[0m\u001b[0m\n\u001b[1;32m    557\u001b[0m         \u001b[0;32mif\u001b[0m \u001b[0mos\u001b[0m\u001b[0;34m.\u001b[0m\u001b[0msystem\u001b[0m\u001b[0;34m(\u001b[0m\u001b[0mmk_folder\u001b[0m\u001b[0;34m)\u001b[0m\u001b[0;34m:\u001b[0m\u001b[0;34m\u001b[0m\u001b[0;34m\u001b[0m\u001b[0m\n\u001b[0;32m--> 558\u001b[0;31m             \u001b[0;32mraise\u001b[0m \u001b[0mOSError\u001b[0m\u001b[0;34m(\u001b[0m\u001b[0;34m\"could not make folder:\\n \"\u001b[0m \u001b[0;34m+\u001b[0m \u001b[0mstr\u001b[0m\u001b[0;34m(\u001b[0m\u001b[0min_directory_path\u001b[0m\u001b[0;34m)\u001b[0m\u001b[0;34m)\u001b[0m\u001b[0;34m\u001b[0m\u001b[0;34m\u001b[0m\u001b[0m\n\u001b[0m\u001b[1;32m    559\u001b[0m \u001b[0;34m\u001b[0m\u001b[0m\n\u001b[1;32m    560\u001b[0m     \u001b[0;32melif\u001b[0m \u001b[0mverbose\u001b[0m\u001b[0;34m:\u001b[0m\u001b[0;34m\u001b[0m\u001b[0;34m\u001b[0m\u001b[0m\n",
      "\u001b[0;31mOSError\u001b[0m: could not make folder:\n /home/mlehner/PyGromosTools/docs/sphinx_project/Examples/example_files/Tutorial_System/d_box"
     ]
    }
   ],
   "source": [
    "from pygromos.data.solvent_coordinates import spc\n",
    "out_prefix = \"box\"\n",
    "box_dir = bash.make_folder(project_dir+\"/d_\"+out_prefix)\n",
    "\n",
    "cnf_box = gromPP.sim_box(in_top_path=top_peptide, in_cnf_path=cnf_emin_vacuum,in_solvent_cnf_file_path=spc,\n",
    "                          out_cnf_path=box_dir+\"/\"+out_prefix+\".cnf\",\n",
    "                         periodic_boundary_condition=\"r\", minwall=0.8, threshold=0.23, rotate=True)\n",
    "\n",
    "Cnf(cnf_box).visualize()"
   ]
  },
  {
   "cell_type": "markdown",
   "metadata": {},
   "source": [
    "#### to pdb"
   ]
  },
  {
   "cell_type": "code",
   "execution_count": 11,
   "metadata": {
    "execution": {
     "iopub.execute_input": "2022-04-05T06:50:03.927531Z",
     "iopub.status.busy": "2022-04-05T06:50:03.926950Z",
     "iopub.status.idle": "2022-04-05T06:50:03.936689Z",
     "shell.execute_reply": "2022-04-05T06:50:03.935914Z"
    }
   },
   "outputs": [
    {
     "ename": "NameError",
     "evalue": "name 'box_dir' is not defined",
     "output_type": "error",
     "traceback": [
      "\u001b[0;31m---------------------------------------------------------------------------\u001b[0m",
      "\u001b[0;31mNameError\u001b[0m                                 Traceback (most recent call last)",
      "\u001b[0;32m/tmp/ipykernel_16122/2885867994.py\u001b[0m in \u001b[0;36m<module>\u001b[0;34m\u001b[0m\n\u001b[0;32m----> 1\u001b[0;31m \u001b[0mout_pdb\u001b[0m \u001b[0;34m=\u001b[0m \u001b[0mbox_dir\u001b[0m\u001b[0;34m+\u001b[0m\u001b[0;34m\"/\"\u001b[0m\u001b[0;34m+\u001b[0m\u001b[0mout_prefix\u001b[0m\u001b[0;34m+\u001b[0m\u001b[0;34m\".pdb\"\u001b[0m\u001b[0;34m\u001b[0m\u001b[0;34m\u001b[0m\u001b[0m\n\u001b[0m\u001b[1;32m      2\u001b[0m \u001b[0;34m\u001b[0m\u001b[0m\n\u001b[1;32m      3\u001b[0m out_pdb = gromPP.frameout(in_coord_path=cnf_box, in_top_path=top_peptide, out_file_path=out_pdb,\n\u001b[1;32m      4\u001b[0m                                periodic_boundary_condition=\"r\", out_file_format=\"pdb\", include=\"ALL\", time=0)\n",
      "\u001b[0;31mNameError\u001b[0m: name 'box_dir' is not defined"
     ]
    }
   ],
   "source": [
    "out_pdb = box_dir+\"/\"+out_prefix+\".pdb\"\n",
    "\n",
    "out_pdb = gromPP.frameout(in_coord_path=cnf_box, in_top_path=top_peptide, out_file_path=out_pdb,\n",
    "                               periodic_boundary_condition=\"r\", out_file_format=\"pdb\", include=\"ALL\", time=0)"
   ]
  },
  {
   "cell_type": "markdown",
   "metadata": {
    "pycharm": {
     "name": "#%% md\n"
    }
   },
   "source": [
    "### Add Ions"
   ]
  },
  {
   "cell_type": "code",
   "execution_count": 12,
   "metadata": {
    "execution": {
     "iopub.execute_input": "2022-04-05T06:50:03.939137Z",
     "iopub.status.busy": "2022-04-05T06:50:03.938948Z",
     "iopub.status.idle": "2022-04-05T06:50:03.951036Z",
     "shell.execute_reply": "2022-04-05T06:50:03.950185Z"
    }
   },
   "outputs": [
    {
     "ename": "NameError",
     "evalue": "name 'cnf_box' is not defined",
     "output_type": "error",
     "traceback": [
      "\u001b[0;31m---------------------------------------------------------------------------\u001b[0m",
      "\u001b[0;31mNameError\u001b[0m                                 Traceback (most recent call last)",
      "\u001b[0;32m/tmp/ipykernel_16122/3614874038.py\u001b[0m in \u001b[0;36m<module>\u001b[0;34m\u001b[0m\n\u001b[1;32m      1\u001b[0m \u001b[0mout_prefix\u001b[0m \u001b[0;34m=\u001b[0m \u001b[0;34m\"ion\"\u001b[0m\u001b[0;34m\u001b[0m\u001b[0;34m\u001b[0m\u001b[0m\n\u001b[0;32m----> 2\u001b[0;31m cnf_ion = gromPP.ion(in_cnf_path=cnf_box,\n\u001b[0m\u001b[1;32m      3\u001b[0m                      \u001b[0min_top_path\u001b[0m\u001b[0;34m=\u001b[0m\u001b[0mtop_peptide\u001b[0m\u001b[0;34m,\u001b[0m\u001b[0;34m\u001b[0m\u001b[0;34m\u001b[0m\u001b[0m\n\u001b[1;32m      4\u001b[0m                      \u001b[0mout_cnf_path\u001b[0m\u001b[0;34m=\u001b[0m\u001b[0mbox_dir\u001b[0m\u001b[0;34m+\u001b[0m\u001b[0;34m\"/\"\u001b[0m\u001b[0;34m+\u001b[0m\u001b[0mout_prefix\u001b[0m\u001b[0;34m+\u001b[0m\u001b[0;34m\".cnf\"\u001b[0m\u001b[0;34m,\u001b[0m\u001b[0;34m\u001b[0m\u001b[0;34m\u001b[0m\u001b[0m\n\u001b[1;32m      5\u001b[0m                      negative=[2, \"CL-\"],verbose=True           )\n",
      "\u001b[0;31mNameError\u001b[0m: name 'cnf_box' is not defined"
     ]
    }
   ],
   "source": [
    "out_prefix = \"ion\"\n",
    "cnf_ion = gromPP.ion(in_cnf_path=cnf_box,\n",
    "                     in_top_path=top_peptide,\n",
    "                     out_cnf_path=box_dir+\"/\"+out_prefix+\".cnf\",\n",
    "                     negative=[2, \"CL-\"],verbose=True           )\n",
    "\n",
    "Cnf(cnf_ion).visualize()"
   ]
  },
  {
   "cell_type": "markdown",
   "metadata": {
    "pycharm": {
     "name": "#%% md\n"
    }
   },
   "source": [
    "### Energy Minimization BOX"
   ]
  },
  {
   "cell_type": "code",
   "execution_count": 13,
   "metadata": {
    "execution": {
     "iopub.execute_input": "2022-04-05T06:50:03.953651Z",
     "iopub.status.busy": "2022-04-05T06:50:03.953445Z",
     "iopub.status.idle": "2022-04-05T06:50:03.968326Z",
     "shell.execute_reply": "2022-04-05T06:50:03.967407Z"
    }
   },
   "outputs": [
    {
     "name": "stderr",
     "output_type": "stream",
     "text": [
      "mkdir: cannot create directory ‘/home/mlehner/PyGromosTools/docs/sphinx_project/Examples/example_files/Tutorial_System/e_box_emin’: No such file or directory\n"
     ]
    },
    {
     "ename": "OSError",
     "evalue": "could not make folder:\n /home/mlehner/PyGromosTools/docs/sphinx_project/Examples/example_files/Tutorial_System/e_box_emin",
     "output_type": "error",
     "traceback": [
      "\u001b[0;31m---------------------------------------------------------------------------\u001b[0m",
      "\u001b[0;31mOSError\u001b[0m                                   Traceback (most recent call last)",
      "\u001b[0;32m/tmp/ipykernel_16122/2695739971.py\u001b[0m in \u001b[0;36m<module>\u001b[0;34m\u001b[0m\n\u001b[1;32m      3\u001b[0m \u001b[0;34m\u001b[0m\u001b[0m\n\u001b[1;32m      4\u001b[0m \u001b[0mout_prefix\u001b[0m \u001b[0;34m=\u001b[0m \u001b[0;34m\"box_emin\"\u001b[0m\u001b[0;34m\u001b[0m\u001b[0;34m\u001b[0m\u001b[0m\n\u001b[0;32m----> 5\u001b[0;31m \u001b[0mbox_emin_dir\u001b[0m \u001b[0;34m=\u001b[0m \u001b[0mbash\u001b[0m\u001b[0;34m.\u001b[0m\u001b[0mmake_folder\u001b[0m\u001b[0;34m(\u001b[0m\u001b[0mproject_dir\u001b[0m\u001b[0;34m+\u001b[0m\u001b[0;34m\"/e_\"\u001b[0m\u001b[0;34m+\u001b[0m\u001b[0mout_prefix\u001b[0m\u001b[0;34m)\u001b[0m\u001b[0;34m\u001b[0m\u001b[0;34m\u001b[0m\u001b[0m\n\u001b[0m\u001b[1;32m      6\u001b[0m \u001b[0mos\u001b[0m\u001b[0;34m.\u001b[0m\u001b[0mchdir\u001b[0m\u001b[0;34m(\u001b[0m\u001b[0mbox_emin_dir\u001b[0m\u001b[0;34m)\u001b[0m\u001b[0;34m\u001b[0m\u001b[0;34m\u001b[0m\u001b[0m\n\u001b[1;32m      7\u001b[0m \u001b[0;34m\u001b[0m\u001b[0m\n",
      "\u001b[0;32m~/PyGromosTools/pygromos/utils/bash.py\u001b[0m in \u001b[0;36mmake_folder\u001b[0;34m(in_directory_path, additional_option, verbose)\u001b[0m\n\u001b[1;32m    556\u001b[0m     \u001b[0;32mif\u001b[0m \u001b[0;32mnot\u001b[0m \u001b[0mos\u001b[0m\u001b[0;34m.\u001b[0m\u001b[0mpath\u001b[0m\u001b[0;34m.\u001b[0m\u001b[0misdir\u001b[0m\u001b[0;34m(\u001b[0m\u001b[0min_directory_path\u001b[0m\u001b[0;34m)\u001b[0m\u001b[0;34m:\u001b[0m\u001b[0;34m\u001b[0m\u001b[0;34m\u001b[0m\u001b[0m\n\u001b[1;32m    557\u001b[0m         \u001b[0;32mif\u001b[0m \u001b[0mos\u001b[0m\u001b[0;34m.\u001b[0m\u001b[0msystem\u001b[0m\u001b[0;34m(\u001b[0m\u001b[0mmk_folder\u001b[0m\u001b[0;34m)\u001b[0m\u001b[0;34m:\u001b[0m\u001b[0;34m\u001b[0m\u001b[0;34m\u001b[0m\u001b[0m\n\u001b[0;32m--> 558\u001b[0;31m             \u001b[0;32mraise\u001b[0m \u001b[0mOSError\u001b[0m\u001b[0;34m(\u001b[0m\u001b[0;34m\"could not make folder:\\n \"\u001b[0m \u001b[0;34m+\u001b[0m \u001b[0mstr\u001b[0m\u001b[0;34m(\u001b[0m\u001b[0min_directory_path\u001b[0m\u001b[0;34m)\u001b[0m\u001b[0;34m)\u001b[0m\u001b[0;34m\u001b[0m\u001b[0;34m\u001b[0m\u001b[0m\n\u001b[0m\u001b[1;32m    559\u001b[0m \u001b[0;34m\u001b[0m\u001b[0m\n\u001b[1;32m    560\u001b[0m     \u001b[0;32melif\u001b[0m \u001b[0mverbose\u001b[0m\u001b[0;34m:\u001b[0m\u001b[0;34m\u001b[0m\u001b[0;34m\u001b[0m\u001b[0m\n",
      "\u001b[0;31mOSError\u001b[0m: could not make folder:\n /home/mlehner/PyGromosTools/docs/sphinx_project/Examples/example_files/Tutorial_System/e_box_emin"
     ]
    }
   ],
   "source": [
    "from pygromos.data.simulation_parameters_templates import template_emin\n",
    "from pygromos.files.gromos_system import gromos_system\n",
    "\n",
    "out_prefix = \"box_emin\"\n",
    "box_emin_dir = bash.make_folder(project_dir+\"/e_\"+out_prefix)\n",
    "os.chdir(box_emin_dir)\n",
    "\n",
    "grom_system = gromos_system.Gromos_System(work_folder=box_emin_dir,\n",
    "                                          system_name=\"in_\"+out_prefix,\n",
    "                                          in_top_path=top_system,\n",
    "                                          in_cnf_path=cnf_ion,\n",
    "                                          in_imd_path=template_emin)\n",
    "\n",
    "grom_system.adapt_imd()\n",
    "grom_system.imd.STEP.NSTLIM = 3000\n",
    "grom_system.imd.PRINTOUT.NTPR = 300\n",
    "grom_system.write_files()\n",
    "\n",
    "cnf_reference_position = grom_system.cnf.write_refpos(box_emin_dir+\"/\"+out_prefix+\"_refpos.rpf\")\n",
    "cnf_position_restraint = grom_system.cnf.write_possrespec(box_emin_dir+\"/\"+out_prefix+\"_posres.pos\", residues=list(filter(lambda x: x != \"SOLV\", grom_system.cnf.get_residues())))\n",
    "\n",
    "out_emin_box = box_emin_dir + \"/\" + out_prefix\n",
    "gromXX.md_run(in_imd_path=grom_system.imd.path,\n",
    "              in_topo_path=grom_system.top.path,\n",
    "              in_coord_path=grom_system.cnf.path,\n",
    "              in_refpos_path=cnf_reference_position,\n",
    "              in_posresspec_path=cnf_position_restraint,\n",
    "              out_prefix=out_emin_box, verbose=True)\n",
    "\n",
    "cnf_emin_box =out_emin_box+\".cnf\"\n",
    "cnf_emin_box = gromPP.frameout(in_coord_path=cnf_emin_box, in_top_path=top_system, out_file_path=cnf_emin_box,\n",
    "                               periodic_boundary_condition=\"r cog\", out_file_format=\"cnf\", include=\"ALL\", time=0)\n"
   ]
  },
  {
   "cell_type": "code",
   "execution_count": 14,
   "metadata": {
    "execution": {
     "iopub.execute_input": "2022-04-05T06:50:03.971061Z",
     "iopub.status.busy": "2022-04-05T06:50:03.970845Z",
     "iopub.status.idle": "2022-04-05T06:50:03.979128Z",
     "shell.execute_reply": "2022-04-05T06:50:03.978352Z"
    }
   },
   "outputs": [
    {
     "ename": "NameError",
     "evalue": "name 'cnf_emin_box' is not defined",
     "output_type": "error",
     "traceback": [
      "\u001b[0;31m---------------------------------------------------------------------------\u001b[0m",
      "\u001b[0;31mNameError\u001b[0m                                 Traceback (most recent call last)",
      "\u001b[0;32m/tmp/ipykernel_16122/768396752.py\u001b[0m in \u001b[0;36m<module>\u001b[0;34m\u001b[0m\n\u001b[0;32m----> 1\u001b[0;31m \u001b[0mCnf\u001b[0m\u001b[0;34m(\u001b[0m\u001b[0mcnf_emin_box\u001b[0m\u001b[0;34m)\u001b[0m\u001b[0;34m.\u001b[0m\u001b[0mvisualize\u001b[0m\u001b[0;34m(\u001b[0m\u001b[0;34m)\u001b[0m\u001b[0;34m\u001b[0m\u001b[0;34m\u001b[0m\u001b[0m\n\u001b[0m",
      "\u001b[0;31mNameError\u001b[0m: name 'cnf_emin_box' is not defined"
     ]
    }
   ],
   "source": [
    "Cnf(cnf_emin_box).visualize()"
   ]
  },
  {
   "cell_type": "markdown",
   "metadata": {
    "pycharm": {
     "name": "#%% md\n"
    }
   },
   "source": [
    "## Simulation\n",
    "\n",
    "### Equilibration NVP"
   ]
  },
  {
   "cell_type": "code",
   "execution_count": 15,
   "metadata": {
    "execution": {
     "iopub.execute_input": "2022-04-05T06:50:03.981526Z",
     "iopub.status.busy": "2022-04-05T06:50:03.981340Z",
     "iopub.status.idle": "2022-04-05T06:50:03.994712Z",
     "shell.execute_reply": "2022-04-05T06:50:03.993668Z"
    }
   },
   "outputs": [
    {
     "name": "stderr",
     "output_type": "stream",
     "text": [
      "mkdir: cannot create directory ‘/home/mlehner/PyGromosTools/docs/sphinx_project/Examples/example_files/Tutorial_System/f_eq_NVP’: No such file or directory\n"
     ]
    },
    {
     "ename": "OSError",
     "evalue": "could not make folder:\n /home/mlehner/PyGromosTools/docs/sphinx_project/Examples/example_files/Tutorial_System/f_eq_NVP",
     "output_type": "error",
     "traceback": [
      "\u001b[0;31m---------------------------------------------------------------------------\u001b[0m",
      "\u001b[0;31mOSError\u001b[0m                                   Traceback (most recent call last)",
      "\u001b[0;32m/tmp/ipykernel_16122/2228932994.py\u001b[0m in \u001b[0;36m<module>\u001b[0;34m\u001b[0m\n\u001b[1;32m      3\u001b[0m \u001b[0;34m\u001b[0m\u001b[0m\n\u001b[1;32m      4\u001b[0m \u001b[0mout_prefix\u001b[0m \u001b[0;34m=\u001b[0m \u001b[0;34m\"eq_NVP\"\u001b[0m\u001b[0;34m\u001b[0m\u001b[0;34m\u001b[0m\u001b[0m\n\u001b[0;32m----> 5\u001b[0;31m \u001b[0meq_NVP_dir\u001b[0m \u001b[0;34m=\u001b[0m \u001b[0mbash\u001b[0m\u001b[0;34m.\u001b[0m\u001b[0mmake_folder\u001b[0m\u001b[0;34m(\u001b[0m\u001b[0mproject_dir\u001b[0m\u001b[0;34m+\u001b[0m\u001b[0;34m\"/f_\"\u001b[0m\u001b[0;34m+\u001b[0m\u001b[0mout_prefix\u001b[0m\u001b[0;34m)\u001b[0m\u001b[0;34m\u001b[0m\u001b[0;34m\u001b[0m\u001b[0m\n\u001b[0m\u001b[1;32m      6\u001b[0m \u001b[0mos\u001b[0m\u001b[0;34m.\u001b[0m\u001b[0mchdir\u001b[0m\u001b[0;34m(\u001b[0m\u001b[0meq_NVP_dir\u001b[0m\u001b[0;34m)\u001b[0m\u001b[0;34m\u001b[0m\u001b[0;34m\u001b[0m\u001b[0m\n\u001b[1;32m      7\u001b[0m \u001b[0;34m\u001b[0m\u001b[0m\n",
      "\u001b[0;32m~/PyGromosTools/pygromos/utils/bash.py\u001b[0m in \u001b[0;36mmake_folder\u001b[0;34m(in_directory_path, additional_option, verbose)\u001b[0m\n\u001b[1;32m    556\u001b[0m     \u001b[0;32mif\u001b[0m \u001b[0;32mnot\u001b[0m \u001b[0mos\u001b[0m\u001b[0;34m.\u001b[0m\u001b[0mpath\u001b[0m\u001b[0;34m.\u001b[0m\u001b[0misdir\u001b[0m\u001b[0;34m(\u001b[0m\u001b[0min_directory_path\u001b[0m\u001b[0;34m)\u001b[0m\u001b[0;34m:\u001b[0m\u001b[0;34m\u001b[0m\u001b[0;34m\u001b[0m\u001b[0m\n\u001b[1;32m    557\u001b[0m         \u001b[0;32mif\u001b[0m \u001b[0mos\u001b[0m\u001b[0;34m.\u001b[0m\u001b[0msystem\u001b[0m\u001b[0;34m(\u001b[0m\u001b[0mmk_folder\u001b[0m\u001b[0;34m)\u001b[0m\u001b[0;34m:\u001b[0m\u001b[0;34m\u001b[0m\u001b[0;34m\u001b[0m\u001b[0m\n\u001b[0;32m--> 558\u001b[0;31m             \u001b[0;32mraise\u001b[0m \u001b[0mOSError\u001b[0m\u001b[0;34m(\u001b[0m\u001b[0;34m\"could not make folder:\\n \"\u001b[0m \u001b[0;34m+\u001b[0m \u001b[0mstr\u001b[0m\u001b[0;34m(\u001b[0m\u001b[0min_directory_path\u001b[0m\u001b[0;34m)\u001b[0m\u001b[0;34m)\u001b[0m\u001b[0;34m\u001b[0m\u001b[0;34m\u001b[0m\u001b[0m\n\u001b[0m\u001b[1;32m    559\u001b[0m \u001b[0;34m\u001b[0m\u001b[0m\n\u001b[1;32m    560\u001b[0m     \u001b[0;32melif\u001b[0m \u001b[0mverbose\u001b[0m\u001b[0;34m:\u001b[0m\u001b[0;34m\u001b[0m\u001b[0;34m\u001b[0m\u001b[0m\n",
      "\u001b[0;31mOSError\u001b[0m: could not make folder:\n /home/mlehner/PyGromosTools/docs/sphinx_project/Examples/example_files/Tutorial_System/f_eq_NVP"
     ]
    }
   ],
   "source": [
    "from pygromos.data.simulation_parameters_templates import template_md_tut as template_md\n",
    "from pygromos.files.gromos_system import gromos_system\n",
    "\n",
    "out_prefix = \"eq_NVP\"\n",
    "eq_NVP_dir = bash.make_folder(project_dir+\"/f_\"+out_prefix)\n",
    "os.chdir(eq_NVP_dir)\n",
    "\n",
    "grom_system = gromos_system.Gromos_System(work_folder=eq_NVP_dir,\n",
    "                                          system_name=\"in_\"+out_prefix,\n",
    "                                          in_top_path=top_system,\n",
    "                                          in_cnf_path=cnf_emin_box,\n",
    "                                          in_imd_path=template_md)\n",
    "\n",
    "grom_system.adapt_imd(not_ligand_residues=\"CL-\")\n",
    "grom_system.imd.STEP.NSTLIM = 1000\n",
    "grom_system.imd.WRITETRAJ.NTWX = 10\n",
    "grom_system.imd.WRITETRAJ.NTWE = 10\n",
    "grom_system.imd.INITIALISE.NTIVEL = 1\n",
    "grom_system.imd.INITIALISE.NTISHK = 1\n",
    "grom_system.imd.INITIALISE.NTISHI = 1\n",
    "grom_system.imd.INITIALISE.NTIRTC = 1\n",
    "\n",
    "grom_system.imd.randomize_seed()\n",
    "grom_system.rebase_files()\n",
    "grom_system.write_files()\n",
    "\n",
    "out_eq_NVP = eq_NVP_dir + \"/\" + out_prefix\n",
    "gromXX.md_run(in_imd_path=grom_system.imd.path,\n",
    "              in_topo_path=grom_system.top.path,\n",
    "              in_coord_path=grom_system.cnf.path,\n",
    "              out_tre=True, out_trc=True,\n",
    "              out_prefix=out_eq_NVP)\n",
    "\n",
    "cnf_eq_NVP = out_eq_NVP+\".cnf\"\n",
    "cnf_eq_NVP\n"
   ]
  },
  {
   "cell_type": "code",
   "execution_count": 16,
   "metadata": {
    "execution": {
     "iopub.execute_input": "2022-04-05T06:50:03.997834Z",
     "iopub.status.busy": "2022-04-05T06:50:03.997528Z",
     "iopub.status.idle": "2022-04-05T06:50:04.005691Z",
     "shell.execute_reply": "2022-04-05T06:50:04.004987Z"
    }
   },
   "outputs": [
    {
     "ename": "NameError",
     "evalue": "name 'cnf_eq_NVP' is not defined",
     "output_type": "error",
     "traceback": [
      "\u001b[0;31m---------------------------------------------------------------------------\u001b[0m",
      "\u001b[0;31mNameError\u001b[0m                                 Traceback (most recent call last)",
      "\u001b[0;32m/tmp/ipykernel_16122/325201585.py\u001b[0m in \u001b[0;36m<module>\u001b[0;34m\u001b[0m\n\u001b[0;32m----> 1\u001b[0;31m \u001b[0mcnf\u001b[0m \u001b[0;34m=\u001b[0m \u001b[0mCnf\u001b[0m\u001b[0;34m(\u001b[0m\u001b[0mcnf_eq_NVP\u001b[0m\u001b[0;34m)\u001b[0m\u001b[0;34m\u001b[0m\u001b[0;34m\u001b[0m\u001b[0m\n\u001b[0m\u001b[1;32m      2\u001b[0m \u001b[0mtrc\u001b[0m \u001b[0;34m=\u001b[0m \u001b[0mTrc\u001b[0m\u001b[0;34m(\u001b[0m\u001b[0mout_eq_NVP\u001b[0m\u001b[0;34m+\u001b[0m\u001b[0;34m\".trc\"\u001b[0m\u001b[0;34m)\u001b[0m\u001b[0;34m\u001b[0m\u001b[0;34m\u001b[0m\u001b[0m\n\u001b[1;32m      3\u001b[0m \u001b[0mtrc\u001b[0m\u001b[0;34m.\u001b[0m\u001b[0mcog_reframe\u001b[0m\u001b[0;34m(\u001b[0m\u001b[0mcnf\u001b[0m\u001b[0;34m)\u001b[0m\u001b[0;34m\u001b[0m\u001b[0;34m\u001b[0m\u001b[0m\n\u001b[1;32m      4\u001b[0m \u001b[0mtrc\u001b[0m\u001b[0;34m.\u001b[0m\u001b[0mvisualize\u001b[0m\u001b[0;34m(\u001b[0m\u001b[0mcnf\u001b[0m\u001b[0;34m)\u001b[0m\u001b[0;34m\u001b[0m\u001b[0;34m\u001b[0m\u001b[0m\n",
      "\u001b[0;31mNameError\u001b[0m: name 'cnf_eq_NVP' is not defined"
     ]
    }
   ],
   "source": [
    "cnf = Cnf(cnf_eq_NVP)\n",
    "trc = Trc(out_eq_NVP+\".trc\")\n",
    "trc.cog_reframe(cnf)\n",
    "trc.visualize(cnf)"
   ]
  },
  {
   "cell_type": "markdown",
   "metadata": {
    "pycharm": {
     "name": "#%% md\n"
    }
   },
   "source": [
    "### MD NVP"
   ]
  },
  {
   "cell_type": "code",
   "execution_count": 17,
   "metadata": {
    "execution": {
     "iopub.execute_input": "2022-04-05T06:50:04.008151Z",
     "iopub.status.busy": "2022-04-05T06:50:04.007869Z",
     "iopub.status.idle": "2022-04-05T06:50:04.016544Z",
     "shell.execute_reply": "2022-04-05T06:50:04.015804Z"
    }
   },
   "outputs": [
    {
     "ename": "NameError",
     "evalue": "name 'grom_system' is not defined",
     "output_type": "error",
     "traceback": [
      "\u001b[0;31m---------------------------------------------------------------------------\u001b[0m",
      "\u001b[0;31mNameError\u001b[0m                                 Traceback (most recent call last)",
      "\u001b[0;32m/tmp/ipykernel_16122/2711284005.py\u001b[0m in \u001b[0;36m<module>\u001b[0;34m\u001b[0m\n\u001b[0;32m----> 1\u001b[0;31m \u001b[0mgrom_system\u001b[0m\u001b[0;34m\u001b[0m\u001b[0;34m\u001b[0m\u001b[0m\n\u001b[0m",
      "\u001b[0;31mNameError\u001b[0m: name 'grom_system' is not defined"
     ]
    }
   ],
   "source": [
    "grom_system"
   ]
  },
  {
   "cell_type": "code",
   "execution_count": 18,
   "metadata": {
    "execution": {
     "iopub.execute_input": "2022-04-05T06:50:04.018787Z",
     "iopub.status.busy": "2022-04-05T06:50:04.018597Z",
     "iopub.status.idle": "2022-04-05T06:50:04.032700Z",
     "shell.execute_reply": "2022-04-05T06:50:04.031723Z"
    }
   },
   "outputs": [
    {
     "name": "stderr",
     "output_type": "stream",
     "text": [
      "mkdir: cannot create directory ‘/home/mlehner/PyGromosTools/docs/sphinx_project/Examples/example_files/Tutorial_System/g_md’: No such file or directory\n"
     ]
    },
    {
     "ename": "OSError",
     "evalue": "could not make folder:\n /home/mlehner/PyGromosTools/docs/sphinx_project/Examples/example_files/Tutorial_System/g_md",
     "output_type": "error",
     "traceback": [
      "\u001b[0;31m---------------------------------------------------------------------------\u001b[0m",
      "\u001b[0;31mOSError\u001b[0m                                   Traceback (most recent call last)",
      "\u001b[0;32m/tmp/ipykernel_16122/1858083578.py\u001b[0m in \u001b[0;36m<module>\u001b[0;34m\u001b[0m\n\u001b[1;32m      3\u001b[0m \u001b[0;34m\u001b[0m\u001b[0m\n\u001b[1;32m      4\u001b[0m \u001b[0mout_prefix\u001b[0m \u001b[0;34m=\u001b[0m \u001b[0;34m\"md\"\u001b[0m\u001b[0;34m\u001b[0m\u001b[0;34m\u001b[0m\u001b[0m\n\u001b[0;32m----> 5\u001b[0;31m \u001b[0mmd_dir\u001b[0m \u001b[0;34m=\u001b[0m \u001b[0mbash\u001b[0m\u001b[0;34m.\u001b[0m\u001b[0mmake_folder\u001b[0m\u001b[0;34m(\u001b[0m\u001b[0mproject_dir\u001b[0m\u001b[0;34m+\u001b[0m\u001b[0;34m\"/g_\"\u001b[0m\u001b[0;34m+\u001b[0m\u001b[0mout_prefix\u001b[0m\u001b[0;34m)\u001b[0m\u001b[0;34m\u001b[0m\u001b[0;34m\u001b[0m\u001b[0m\n\u001b[0m\u001b[1;32m      6\u001b[0m \u001b[0mos\u001b[0m\u001b[0;34m.\u001b[0m\u001b[0mchdir\u001b[0m\u001b[0;34m(\u001b[0m\u001b[0mmd_dir\u001b[0m\u001b[0;34m)\u001b[0m\u001b[0;34m\u001b[0m\u001b[0;34m\u001b[0m\u001b[0m\n\u001b[1;32m      7\u001b[0m \u001b[0;34m\u001b[0m\u001b[0m\n",
      "\u001b[0;32m~/PyGromosTools/pygromos/utils/bash.py\u001b[0m in \u001b[0;36mmake_folder\u001b[0;34m(in_directory_path, additional_option, verbose)\u001b[0m\n\u001b[1;32m    556\u001b[0m     \u001b[0;32mif\u001b[0m \u001b[0;32mnot\u001b[0m \u001b[0mos\u001b[0m\u001b[0;34m.\u001b[0m\u001b[0mpath\u001b[0m\u001b[0;34m.\u001b[0m\u001b[0misdir\u001b[0m\u001b[0;34m(\u001b[0m\u001b[0min_directory_path\u001b[0m\u001b[0;34m)\u001b[0m\u001b[0;34m:\u001b[0m\u001b[0;34m\u001b[0m\u001b[0;34m\u001b[0m\u001b[0m\n\u001b[1;32m    557\u001b[0m         \u001b[0;32mif\u001b[0m \u001b[0mos\u001b[0m\u001b[0;34m.\u001b[0m\u001b[0msystem\u001b[0m\u001b[0;34m(\u001b[0m\u001b[0mmk_folder\u001b[0m\u001b[0;34m)\u001b[0m\u001b[0;34m:\u001b[0m\u001b[0;34m\u001b[0m\u001b[0;34m\u001b[0m\u001b[0m\n\u001b[0;32m--> 558\u001b[0;31m             \u001b[0;32mraise\u001b[0m \u001b[0mOSError\u001b[0m\u001b[0;34m(\u001b[0m\u001b[0;34m\"could not make folder:\\n \"\u001b[0m \u001b[0;34m+\u001b[0m \u001b[0mstr\u001b[0m\u001b[0;34m(\u001b[0m\u001b[0min_directory_path\u001b[0m\u001b[0;34m)\u001b[0m\u001b[0;34m)\u001b[0m\u001b[0;34m\u001b[0m\u001b[0;34m\u001b[0m\u001b[0m\n\u001b[0m\u001b[1;32m    559\u001b[0m \u001b[0;34m\u001b[0m\u001b[0m\n\u001b[1;32m    560\u001b[0m     \u001b[0;32melif\u001b[0m \u001b[0mverbose\u001b[0m\u001b[0;34m:\u001b[0m\u001b[0;34m\u001b[0m\u001b[0;34m\u001b[0m\u001b[0m\n",
      "\u001b[0;31mOSError\u001b[0m: could not make folder:\n /home/mlehner/PyGromosTools/docs/sphinx_project/Examples/example_files/Tutorial_System/g_md"
     ]
    }
   ],
   "source": [
    "from pygromos.data.simulation_parameters_templates import template_md\n",
    "from pygromos.files.gromos_system import gromos_system\n",
    "\n",
    "out_prefix = \"md\"\n",
    "md_dir = bash.make_folder(project_dir+\"/g_\"+out_prefix)\n",
    "os.chdir(md_dir)\n",
    "\n",
    "grom_system = gromos_system.Gromos_System(work_folder=md_dir,\n",
    "                                          system_name=\"in_\"+out_prefix,\n",
    "                                          in_top_path=top_system,\n",
    "                                          in_cnf_path=cnf_eq_NVP,\n",
    "                                          in_imd_path=template_md)\n",
    "\n",
    "grom_system.adapt_imd(not_ligand_residues=\"CL-\")\n",
    "grom_system.imd.STEP.NSTLIM = 1000\n",
    "grom_system.imd.WRITETRAJ.NTWX = 10\n",
    "grom_system.imd.WRITETRAJ.NTWE = 10\n",
    "grom_system.imd.INITIALISE.NTIVEL = 0\n",
    "\n",
    "grom_system.rebase_files()\n",
    "grom_system.write_files()\n",
    "\n",
    "out_md = md_dir + \"/\" + out_prefix\n",
    "gromXX.md_run(in_imd_path=grom_system.imd.path,\n",
    "              in_topo_path=grom_system.top.path,\n",
    "              in_coord_path=grom_system.cnf.path,\n",
    "              out_tre=True, out_trc=True,\n",
    "              out_prefix=out_md, verbose=True)\n",
    "\n",
    "cnf_md = out_md+\".cnf\"\n",
    "cnf_md"
   ]
  },
  {
   "cell_type": "markdown",
   "metadata": {
    "pycharm": {
     "name": "#%% md\n"
    }
   },
   "source": [
    "## Analysis"
   ]
  },
  {
   "cell_type": "code",
   "execution_count": 19,
   "metadata": {
    "execution": {
     "iopub.execute_input": "2022-04-05T06:50:04.035222Z",
     "iopub.status.busy": "2022-04-05T06:50:04.035015Z",
     "iopub.status.idle": "2022-04-05T06:50:04.043290Z",
     "shell.execute_reply": "2022-04-05T06:50:04.042377Z"
    }
   },
   "outputs": [
    {
     "ename": "NameError",
     "evalue": "name 'cnf_md' is not defined",
     "output_type": "error",
     "traceback": [
      "\u001b[0;31m---------------------------------------------------------------------------\u001b[0m",
      "\u001b[0;31mNameError\u001b[0m                                 Traceback (most recent call last)",
      "\u001b[0;32m/tmp/ipykernel_16122/227614321.py\u001b[0m in \u001b[0;36m<module>\u001b[0;34m\u001b[0m\n\u001b[0;32m----> 1\u001b[0;31m \u001b[0mcnf\u001b[0m \u001b[0;34m=\u001b[0m \u001b[0mCnf\u001b[0m\u001b[0;34m(\u001b[0m\u001b[0mcnf_md\u001b[0m\u001b[0;34m)\u001b[0m\u001b[0;34m\u001b[0m\u001b[0;34m\u001b[0m\u001b[0m\n\u001b[0m\u001b[1;32m      2\u001b[0m \u001b[0mcnf\u001b[0m\u001b[0;34m.\u001b[0m\u001b[0mvisualize\u001b[0m\u001b[0;34m(\u001b[0m\u001b[0;34m)\u001b[0m\u001b[0;34m\u001b[0m\u001b[0;34m\u001b[0m\u001b[0m\n\u001b[1;32m      3\u001b[0m \u001b[0;34m\u001b[0m\u001b[0m\n\u001b[1;32m      4\u001b[0m \u001b[0;31m#shows pbc :)\u001b[0m\u001b[0;34m\u001b[0m\u001b[0;34m\u001b[0m\u001b[0m\n",
      "\u001b[0;31mNameError\u001b[0m: name 'cnf_md' is not defined"
     ]
    }
   ],
   "source": [
    "cnf = Cnf(cnf_md)\n",
    "cnf.visualize()\n",
    "\n",
    "#shows pbc :)"
   ]
  },
  {
   "cell_type": "code",
   "execution_count": 20,
   "metadata": {
    "execution": {
     "iopub.execute_input": "2022-04-05T06:50:04.046576Z",
     "iopub.status.busy": "2022-04-05T06:50:04.046048Z",
     "iopub.status.idle": "2022-04-05T06:50:04.054774Z",
     "shell.execute_reply": "2022-04-05T06:50:04.053961Z"
    }
   },
   "outputs": [
    {
     "ename": "NameError",
     "evalue": "name 'out_md' is not defined",
     "output_type": "error",
     "traceback": [
      "\u001b[0;31m---------------------------------------------------------------------------\u001b[0m",
      "\u001b[0;31mNameError\u001b[0m                                 Traceback (most recent call last)",
      "\u001b[0;32m/tmp/ipykernel_16122/153322794.py\u001b[0m in \u001b[0;36m<module>\u001b[0;34m\u001b[0m\n\u001b[0;32m----> 1\u001b[0;31m \u001b[0mtrc\u001b[0m \u001b[0;34m=\u001b[0m \u001b[0mTrc\u001b[0m\u001b[0;34m(\u001b[0m\u001b[0mout_md\u001b[0m\u001b[0;34m+\u001b[0m\u001b[0;34m\".trc\"\u001b[0m\u001b[0;34m)\u001b[0m\u001b[0;34m\u001b[0m\u001b[0;34m\u001b[0m\u001b[0m\n\u001b[0m\u001b[1;32m      2\u001b[0m \u001b[0mtrc\u001b[0m\u001b[0;34m.\u001b[0m\u001b[0mTITLE\u001b[0m \u001b[0;34m=\u001b[0m \u001b[0;34m\"\\n\"\u001b[0m\u001b[0;34m.\u001b[0m\u001b[0mjoin\u001b[0m\u001b[0;34m(\u001b[0m\u001b[0mtrc\u001b[0m\u001b[0;34m.\u001b[0m\u001b[0mTITLE\u001b[0m\u001b[0;34m)\u001b[0m\u001b[0;34m\u001b[0m\u001b[0;34m\u001b[0m\u001b[0m\n\u001b[1;32m      3\u001b[0m \u001b[0mtrc\u001b[0m\u001b[0;34m.\u001b[0m\u001b[0mcog_reframe\u001b[0m\u001b[0;34m(\u001b[0m\u001b[0mcnf\u001b[0m\u001b[0;34m)\u001b[0m\u001b[0;34m\u001b[0m\u001b[0;34m\u001b[0m\u001b[0m\n\u001b[1;32m      4\u001b[0m \u001b[0mtrc\u001b[0m\u001b[0;34m.\u001b[0m\u001b[0mvisualize\u001b[0m\u001b[0;34m(\u001b[0m\u001b[0mcnf\u001b[0m\u001b[0;34m)\u001b[0m\u001b[0;34m\u001b[0m\u001b[0;34m\u001b[0m\u001b[0m\n",
      "\u001b[0;31mNameError\u001b[0m: name 'out_md' is not defined"
     ]
    }
   ],
   "source": [
    "trc = Trc(out_md+\".trc\")\n",
    "trc.TITLE = \"\\n\".join(trc.TITLE)\n",
    "trc.cog_reframe(cnf)\n",
    "trc.visualize(cnf)"
   ]
  },
  {
   "cell_type": "code",
   "execution_count": 21,
   "metadata": {
    "execution": {
     "iopub.execute_input": "2022-04-05T06:50:04.057034Z",
     "iopub.status.busy": "2022-04-05T06:50:04.056838Z",
     "iopub.status.idle": "2022-04-05T06:50:04.068978Z",
     "shell.execute_reply": "2022-04-05T06:50:04.068260Z"
    }
   },
   "outputs": [
    {
     "name": "stderr",
     "output_type": "stream",
     "text": [
      "mkdir: cannot create directory ‘/home/mlehner/PyGromosTools/docs/sphinx_project/Examples/example_files/Tutorial_System/h_ana’: No such file or directory\n"
     ]
    },
    {
     "ename": "OSError",
     "evalue": "could not make folder:\n /home/mlehner/PyGromosTools/docs/sphinx_project/Examples/example_files/Tutorial_System/h_ana",
     "output_type": "error",
     "traceback": [
      "\u001b[0;31m---------------------------------------------------------------------------\u001b[0m",
      "\u001b[0;31mOSError\u001b[0m                                   Traceback (most recent call last)",
      "\u001b[0;32m/tmp/ipykernel_16122/3341002831.py\u001b[0m in \u001b[0;36m<module>\u001b[0;34m\u001b[0m\n\u001b[1;32m      1\u001b[0m \u001b[0mout_prefix\u001b[0m \u001b[0;34m=\u001b[0m \u001b[0;34m\"ana\"\u001b[0m\u001b[0;34m\u001b[0m\u001b[0;34m\u001b[0m\u001b[0m\n\u001b[0;32m----> 2\u001b[0;31m \u001b[0mmd_dir\u001b[0m \u001b[0;34m=\u001b[0m \u001b[0mbash\u001b[0m\u001b[0;34m.\u001b[0m\u001b[0mmake_folder\u001b[0m\u001b[0;34m(\u001b[0m\u001b[0mproject_dir\u001b[0m\u001b[0;34m+\u001b[0m\u001b[0;34m\"/h_\"\u001b[0m\u001b[0;34m+\u001b[0m\u001b[0mout_prefix\u001b[0m\u001b[0;34m)\u001b[0m\u001b[0;34m\u001b[0m\u001b[0;34m\u001b[0m\u001b[0m\n\u001b[0m\u001b[1;32m      3\u001b[0m \u001b[0mos\u001b[0m\u001b[0;34m.\u001b[0m\u001b[0mchdir\u001b[0m\u001b[0;34m(\u001b[0m\u001b[0mmd_dir\u001b[0m\u001b[0;34m)\u001b[0m\u001b[0;34m\u001b[0m\u001b[0;34m\u001b[0m\u001b[0m\n",
      "\u001b[0;32m~/PyGromosTools/pygromos/utils/bash.py\u001b[0m in \u001b[0;36mmake_folder\u001b[0;34m(in_directory_path, additional_option, verbose)\u001b[0m\n\u001b[1;32m    556\u001b[0m     \u001b[0;32mif\u001b[0m \u001b[0;32mnot\u001b[0m \u001b[0mos\u001b[0m\u001b[0;34m.\u001b[0m\u001b[0mpath\u001b[0m\u001b[0;34m.\u001b[0m\u001b[0misdir\u001b[0m\u001b[0;34m(\u001b[0m\u001b[0min_directory_path\u001b[0m\u001b[0;34m)\u001b[0m\u001b[0;34m:\u001b[0m\u001b[0;34m\u001b[0m\u001b[0;34m\u001b[0m\u001b[0m\n\u001b[1;32m    557\u001b[0m         \u001b[0;32mif\u001b[0m \u001b[0mos\u001b[0m\u001b[0;34m.\u001b[0m\u001b[0msystem\u001b[0m\u001b[0;34m(\u001b[0m\u001b[0mmk_folder\u001b[0m\u001b[0;34m)\u001b[0m\u001b[0;34m:\u001b[0m\u001b[0;34m\u001b[0m\u001b[0;34m\u001b[0m\u001b[0m\n\u001b[0;32m--> 558\u001b[0;31m             \u001b[0;32mraise\u001b[0m \u001b[0mOSError\u001b[0m\u001b[0;34m(\u001b[0m\u001b[0;34m\"could not make folder:\\n \"\u001b[0m \u001b[0;34m+\u001b[0m \u001b[0mstr\u001b[0m\u001b[0;34m(\u001b[0m\u001b[0min_directory_path\u001b[0m\u001b[0;34m)\u001b[0m\u001b[0;34m)\u001b[0m\u001b[0;34m\u001b[0m\u001b[0;34m\u001b[0m\u001b[0m\n\u001b[0m\u001b[1;32m    559\u001b[0m \u001b[0;34m\u001b[0m\u001b[0m\n\u001b[1;32m    560\u001b[0m     \u001b[0;32melif\u001b[0m \u001b[0mverbose\u001b[0m\u001b[0;34m:\u001b[0m\u001b[0;34m\u001b[0m\u001b[0;34m\u001b[0m\u001b[0m\n",
      "\u001b[0;31mOSError\u001b[0m: could not make folder:\n /home/mlehner/PyGromosTools/docs/sphinx_project/Examples/example_files/Tutorial_System/h_ana"
     ]
    }
   ],
   "source": [
    "out_prefix = \"ana\"\n",
    "md_dir = bash.make_folder(project_dir+\"/h_\"+out_prefix)\n",
    "os.chdir(md_dir)"
   ]
  },
  {
   "cell_type": "code",
   "execution_count": null,
   "metadata": {},
   "outputs": [],
   "source": []
  }
 ],
 "metadata": {
  "language_info": {
   "codemirror_mode": {
    "name": "ipython",
    "version": 3
   },
   "file_extension": ".py",
   "mimetype": "text/x-python",
   "name": "python",
   "nbconvert_exporter": "python",
   "pygments_lexer": "ipython3",
   "version": "3.9.7"
  },
  "widgets": {
   "application/vnd.jupyter.widget-state+json": {
    "state": {
     "01201aea587341578abcc76a1770b8eb": {
      "model_module": "@jupyter-widgets/base",
      "model_module_version": "1.2.0",
      "model_name": "LayoutModel",
      "state": {
       "_model_module": "@jupyter-widgets/base",
       "_model_module_version": "1.2.0",
       "_model_name": "LayoutModel",
       "_view_count": null,
       "_view_module": "@jupyter-widgets/base",
       "_view_module_version": "1.2.0",
       "_view_name": "LayoutView",
       "align_content": null,
       "align_items": null,
       "align_self": null,
       "border": null,
       "bottom": null,
       "display": null,
       "flex": null,
       "flex_flow": null,
       "grid_area": null,
       "grid_auto_columns": null,
       "grid_auto_flow": null,
       "grid_auto_rows": null,
       "grid_column": null,
       "grid_gap": null,
       "grid_row": null,
       "grid_template_areas": null,
       "grid_template_columns": null,
       "grid_template_rows": null,
       "height": null,
       "justify_content": null,
       "justify_items": null,
       "left": null,
       "margin": null,
       "max_height": null,
       "max_width": null,
       "min_height": null,
       "min_width": null,
       "object_fit": null,
       "object_position": null,
       "order": null,
       "overflow": null,
       "overflow_x": null,
       "overflow_y": null,
       "padding": null,
       "right": null,
       "top": null,
       "visibility": null,
       "width": null
      }
     },
     "5271a05967d44d85a1732fab3cfebce5": {
      "model_module": "nglview-js-widgets",
      "model_module_version": "3.0.1",
      "model_name": "ColormakerRegistryModel",
      "state": {
       "_dom_classes": [],
       "_model_module": "nglview-js-widgets",
       "_model_module_version": "3.0.1",
       "_model_name": "ColormakerRegistryModel",
       "_msg_ar": [],
       "_msg_q": [],
       "_ready": false,
       "_view_count": null,
       "_view_module": "nglview-js-widgets",
       "_view_module_version": "3.0.1",
       "_view_name": "ColormakerRegistryView",
       "layout": "IPY_MODEL_01201aea587341578abcc76a1770b8eb"
      }
     }
    },
    "version_major": 2,
    "version_minor": 0
   }
  }
 },
 "nbformat": 4,
 "nbformat_minor": 4
}
