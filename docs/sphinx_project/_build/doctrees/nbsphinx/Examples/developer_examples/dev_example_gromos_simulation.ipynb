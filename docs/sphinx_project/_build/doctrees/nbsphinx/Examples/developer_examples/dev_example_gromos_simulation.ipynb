{
 "cells": [
  {
   "cell_type": "markdown",
   "metadata": {
    "pycharm": {
     "name": "#%% md\n"
    }
   },
   "source": [
    "# SD Simulations with Submission System\n"
   ]
  },
  {
   "cell_type": "markdown",
   "metadata": {},
   "source": [
    "## Imports"
   ]
  },
  {
   "cell_type": "code",
   "execution_count": 1,
   "metadata": {
    "execution": {
     "iopub.execute_input": "2022-04-05T11:51:36.867619Z",
     "iopub.status.busy": "2022-04-05T11:51:36.867410Z",
     "iopub.status.idle": "2022-04-05T11:51:38.277482Z",
     "shell.execute_reply": "2022-04-05T11:51:38.276832Z"
    }
   },
   "outputs": [
    {
     "data": {
      "application/vnd.jupyter.widget-view+json": {
       "model_id": "163eeb4f68db48d6bf77ced6851c509a",
       "version_major": 2,
       "version_minor": 0
      },
      "text/plain": []
     },
     "metadata": {},
     "output_type": "display_data"
    }
   ],
   "source": [
    "import os\n",
    "#for analysis\n",
    "import numpy as np\n",
    "from matplotlib import pyplot as plt\n",
    "%matplotlib inline\n",
    "\n",
    "from pygromos.files.gromos_system import Gromos_System\n",
    "from pygromos.files.blocks import imd_blocks\n",
    "from pygromos.data.simulation_parameters_templates import template_emin"
   ]
  },
  {
   "cell_type": "markdown",
   "metadata": {
    "pycharm": {
     "name": "#%% md\n"
    }
   },
   "source": [
    "## Input files"
   ]
  },
  {
   "cell_type": "code",
   "execution_count": 2,
   "metadata": {
    "execution": {
     "iopub.execute_input": "2022-04-05T11:51:38.281002Z",
     "iopub.status.busy": "2022-04-05T11:51:38.280237Z",
     "iopub.status.idle": "2022-04-05T11:51:40.779266Z",
     "shell.execute_reply": "2022-04-05T11:51:40.777152Z"
    }
   },
   "outputs": [],
   "source": [
    "root_dir = project_dir = \"../example_files/SD_Simulation/\"\n",
    "root_in_dir = root_dir+\"/SD_input\"\n",
    "cnf_path = root_in_dir+\"/6J29_unitedatom_optimised_geometry.cnf\"\n",
    "top_path = root_in_dir + \"/6J29.top\"\n",
    "sys_name = \"6J29\"\n",
    "\n",
    "#External imd_changes:\n",
    "grom_system = Gromos_System(in_cnf_path=cnf_path, in_top_path=top_path, in_imd_path=template_emin,\n",
    "                            system_name=sys_name, work_folder=root_in_dir)\n",
    "\n",
    "grom_system.cnf.add_empty_box()\n"
   ]
  },
  {
   "cell_type": "markdown",
   "metadata": {},
   "source": [
    "## RUN Emin"
   ]
  },
  {
   "cell_type": "code",
   "execution_count": 3,
   "metadata": {
    "execution": {
     "iopub.execute_input": "2022-04-05T11:51:40.786811Z",
     "iopub.status.busy": "2022-04-05T11:51:40.786020Z",
     "iopub.status.idle": "2022-04-05T11:51:40.816974Z",
     "shell.execute_reply": "2022-04-05T11:51:40.814759Z"
    }
   },
   "outputs": [],
   "source": [
    "from pygromos.simulations.hpc_queuing.submission_systems.local import LOCAL as subSystem\n",
    "from pygromos.simulations.modules.preset_simulation_modules import emin\n",
    "step_name  = \"a_vacuum_emin\"\n",
    "\n",
    "#Some special adaptation\n",
    "grom_system.imd.BOUNDCOND.NTB =0\n",
    "grom_system.imd.BOUNDCOND.NDFMIN = 0\n",
    "grom_system.imd.WRITETRAJ = imd_blocks.WRITETRAJ()\n",
    "grom_system.imd.WRITETRAJ.NTWX = 100\n",
    "grom_system.imd.WRITETRAJ.NTWE = 100\n",
    "grom_system.prepare_for_simulation()"
   ]
  },
  {
   "cell_type": "code",
   "execution_count": 4,
   "metadata": {
    "execution": {
     "iopub.execute_input": "2022-04-05T11:51:40.823999Z",
     "iopub.status.busy": "2022-04-05T11:51:40.822885Z",
     "iopub.status.idle": "2022-04-05T11:51:40.857909Z",
     "shell.execute_reply": "2022-04-05T11:51:40.856008Z"
    }
   },
   "outputs": [
    {
     "data": {
      "text/plain": [
       "'../example_files/SD_Simulation//test.obj'"
      ]
     },
     "execution_count": 4,
     "metadata": {},
     "output_type": "execute_result"
    }
   ],
   "source": [
    "\n",
    "grom_system.save(root_dir+\"/test.obj\", safe=False)"
   ]
  },
  {
   "cell_type": "code",
   "execution_count": 5,
   "metadata": {
    "execution": {
     "iopub.execute_input": "2022-04-05T11:51:40.864268Z",
     "iopub.status.busy": "2022-04-05T11:51:40.863358Z",
     "iopub.status.idle": "2022-04-05T11:51:44.978802Z",
     "shell.execute_reply": "2022-04-05T11:51:44.977933Z"
    }
   },
   "outputs": [],
   "source": [
    "grom_system = Gromos_System.load(root_dir+\"/test.obj\")"
   ]
  },
  {
   "cell_type": "code",
   "execution_count": 6,
   "metadata": {
    "execution": {
     "iopub.execute_input": "2022-04-05T11:51:44.981786Z",
     "iopub.status.busy": "2022-04-05T11:51:44.981337Z",
     "iopub.status.idle": "2022-04-05T11:51:44.986475Z",
     "shell.execute_reply": "2022-04-05T11:51:44.985711Z"
    }
   },
   "outputs": [
    {
     "data": {
      "text/plain": [
       "{'names': ['6J29'], 'number': 1, 'positions': [1], 'number_of_atoms': 27}"
      ]
     },
     "execution_count": 6,
     "metadata": {},
     "output_type": "execute_result"
    }
   ],
   "source": [
    "grom_system.solute_info._asdict()"
   ]
  },
  {
   "cell_type": "code",
   "execution_count": 7,
   "metadata": {
    "execution": {
     "iopub.execute_input": "2022-04-05T11:51:44.988823Z",
     "iopub.status.busy": "2022-04-05T11:51:44.988631Z",
     "iopub.status.idle": "2022-04-05T11:51:45.082095Z",
     "shell.execute_reply": "2022-04-05T11:51:45.081261Z"
    }
   },
   "outputs": [
    {
     "ename": "AttributeError",
     "evalue": "'Cnf' object has no attribute 'visualize'",
     "output_type": "error",
     "traceback": [
      "\u001b[0;31m---------------------------------------------------------------------------\u001b[0m",
      "\u001b[0;31mAttributeError\u001b[0m                            Traceback (most recent call last)",
      "\u001b[0;32m/tmp/ipykernel_6768/1439388997.py\u001b[0m in \u001b[0;36m<module>\u001b[0;34m\u001b[0m\n\u001b[0;32m----> 1\u001b[0;31m \u001b[0mgrom_system\u001b[0m\u001b[0;34m.\u001b[0m\u001b[0mcnf\u001b[0m\u001b[0;34m.\u001b[0m\u001b[0mvisualize\u001b[0m\u001b[0;34m(\u001b[0m\u001b[0;34m)\u001b[0m\u001b[0;34m\u001b[0m\u001b[0;34m\u001b[0m\u001b[0m\n\u001b[0m",
      "\u001b[0;31mAttributeError\u001b[0m: 'Cnf' object has no attribute 'visualize'"
     ]
    }
   ],
   "source": [
    "grom_system.cnf.visualize()"
   ]
  },
  {
   "cell_type": "code",
   "execution_count": 8,
   "metadata": {
    "execution": {
     "iopub.execute_input": "2022-04-05T11:51:45.085325Z",
     "iopub.status.busy": "2022-04-05T11:51:45.084848Z",
     "iopub.status.idle": "2022-04-05T11:51:50.584558Z",
     "shell.execute_reply": "2022-04-05T11:51:50.583675Z"
    }
   },
   "outputs": [
    {
     "name": "stdout",
     "output_type": "stream",
     "text": [
      "################################################################################\n",
      "\n",
      "a_vacuum_emin\n",
      "################################################################################\n",
      "\n"
     ]
    },
    {
     "name": "stderr",
     "output_type": "stream",
     "text": [
      "Traceback (most recent call last):\n",
      "  File \"/home/mlehner/PyGromosTools/pygromos/simulations/modules/general_simulation_modules.py\", line 130, in simulation\n",
      "    gromos_system.rebase_files()\n",
      "  File \"/home/mlehner/PyGromosTools/pygromos/files/gromos_system/gromos_system.py\", line 880, in rebase_files\n",
      "    self.write_files()\n",
      "  File \"/home/mlehner/PyGromosTools/pygromos/files/gromos_system/gromos_system.py\", line 1120, in write_files\n",
      "    file_obj.write(file_obj.path)\n",
      "  File \"/home/mlehner/PyGromosTools/pygromos/files/_basics/_general_gromos_file.py\", line 306, in write\n",
      "    self._write_to_file(out_path=out_path, content_str=str(self))\n",
      "  File \"/home/mlehner/PyGromosTools/pygromos/files/_basics/_general_gromos_file.py\", line 324, in _write_to_file\n",
      "    raise IOError(\"Could not find directory to write to: \" + str(os.path.dirname(out_path)))\n",
      "OSError: Could not find directory to write to: ../example_files/SD_Simulation//SD_input/a_vacuum_emin/input\n",
      "\n",
      "During handling of the above exception, another exception occurred:\n",
      "\n",
      "Traceback (most recent call last):\n",
      "  File \"/home/mlehner/PyGromosTools/pygromos/simulations/modules/general_simulation_modules.py\", line 136, in simulation\n",
      "    raise Exception(\"Could not prepare the gromos System\\n\\t\" + \"\\n\\t\".join(map(str, err.args)))\n",
      "Exception: Could not prepare the gromos System\n",
      "\tCould not find directory to write to: ../example_files/SD_Simulation//SD_input/a_vacuum_emin/input\n"
     ]
    },
    {
     "ename": "Exception",
     "evalue": "Could not prepare the command block\n\tCould not prepare the gromos System\n\tCould not find directory to write to: ../example_files/SD_Simulation//SD_input/a_vacuum_emin/input",
     "output_type": "error",
     "traceback": [
      "\u001b[0;31m---------------------------------------------------------------------------\u001b[0m",
      "\u001b[0;31mOSError\u001b[0m                                   Traceback (most recent call last)",
      "\u001b[0;32m~/PyGromosTools/pygromos/simulations/modules/general_simulation_modules.py\u001b[0m in \u001b[0;36msimulation\u001b[0;34m(in_gromos_simulation_system, override_project_dir, step_name, in_imd_path, submission_system, simulation_runs, equilibration_runs, previous_simulation_run, force_simulation, initialize_first_run, reinitialize_every_run, analysis_script, analysis_control_dict, _no_double_submit_check, _work_dir, verbose, verbose_lvl, _template_imd_path)\u001b[0m\n\u001b[1;32m    129\u001b[0m             \u001b[0;31m# Write out, all non promised files\u001b[0m\u001b[0;34m\u001b[0m\u001b[0;34m\u001b[0m\u001b[0m\n\u001b[0;32m--> 130\u001b[0;31m             \u001b[0mgromos_system\u001b[0m\u001b[0;34m.\u001b[0m\u001b[0mrebase_files\u001b[0m\u001b[0;34m(\u001b[0m\u001b[0;34m)\u001b[0m\u001b[0;34m\u001b[0m\u001b[0;34m\u001b[0m\u001b[0m\n\u001b[0m\u001b[1;32m    131\u001b[0m \u001b[0;34m\u001b[0m\u001b[0m\n",
      "\u001b[0;32m~/PyGromosTools/pygromos/files/gromos_system/gromos_system.py\u001b[0m in \u001b[0;36mrebase_files\u001b[0;34m(self)\u001b[0m\n\u001b[1;32m    879\u001b[0m         \u001b[0mself\u001b[0m\u001b[0;34m.\u001b[0m\u001b[0m_update_all_file_paths\u001b[0m\u001b[0;34m(\u001b[0m\u001b[0;34m)\u001b[0m\u001b[0;34m\u001b[0m\u001b[0;34m\u001b[0m\u001b[0m\n\u001b[0;32m--> 880\u001b[0;31m         \u001b[0mself\u001b[0m\u001b[0;34m.\u001b[0m\u001b[0mwrite_files\u001b[0m\u001b[0;34m(\u001b[0m\u001b[0;34m)\u001b[0m\u001b[0;34m\u001b[0m\u001b[0;34m\u001b[0m\u001b[0m\n\u001b[0m\u001b[1;32m    881\u001b[0m \u001b[0;34m\u001b[0m\u001b[0m\n",
      "\u001b[0;32m~/PyGromosTools/pygromos/files/gromos_system/gromos_system.py\u001b[0m in \u001b[0;36mwrite_files\u001b[0;34m(self, cnf, imd, top, ptp, disres, posres, refpos, qmmm, mol, all, verbose)\u001b[0m\n\u001b[1;32m   1119\u001b[0m                         \u001b[0mprint\u001b[0m\u001b[0;34m(\u001b[0m\u001b[0;34m\"Write out: \"\u001b[0m \u001b[0;34m+\u001b[0m \u001b[0mstr\u001b[0m\u001b[0;34m(\u001b[0m\u001b[0mfile_name\u001b[0m\u001b[0;34m)\u001b[0m \u001b[0;34m+\u001b[0m \u001b[0;34m\"\\t\"\u001b[0m \u001b[0;34m+\u001b[0m \u001b[0mfile_obj\u001b[0m\u001b[0;34m.\u001b[0m\u001b[0mpath\u001b[0m\u001b[0;34m)\u001b[0m\u001b[0;34m\u001b[0m\u001b[0;34m\u001b[0m\u001b[0m\n\u001b[0;32m-> 1120\u001b[0;31m                     \u001b[0mfile_obj\u001b[0m\u001b[0;34m.\u001b[0m\u001b[0mwrite\u001b[0m\u001b[0;34m(\u001b[0m\u001b[0mfile_obj\u001b[0m\u001b[0;34m.\u001b[0m\u001b[0mpath\u001b[0m\u001b[0;34m)\u001b[0m\u001b[0;34m\u001b[0m\u001b[0;34m\u001b[0m\u001b[0m\n\u001b[0m\u001b[1;32m   1121\u001b[0m             \u001b[0;32melse\u001b[0m\u001b[0;34m:\u001b[0m\u001b[0;34m\u001b[0m\u001b[0;34m\u001b[0m\u001b[0m\n",
      "\u001b[0;32m~/PyGromosTools/pygromos/files/_basics/_general_gromos_file.py\u001b[0m in \u001b[0;36mwrite\u001b[0;34m(self, out_path)\u001b[0m\n\u001b[1;32m    305\u001b[0m         \"\"\"\n\u001b[0;32m--> 306\u001b[0;31m         \u001b[0mself\u001b[0m\u001b[0;34m.\u001b[0m\u001b[0m_write_to_file\u001b[0m\u001b[0;34m(\u001b[0m\u001b[0mout_path\u001b[0m\u001b[0;34m=\u001b[0m\u001b[0mout_path\u001b[0m\u001b[0;34m,\u001b[0m \u001b[0mcontent_str\u001b[0m\u001b[0;34m=\u001b[0m\u001b[0mstr\u001b[0m\u001b[0;34m(\u001b[0m\u001b[0mself\u001b[0m\u001b[0;34m)\u001b[0m\u001b[0;34m)\u001b[0m\u001b[0;34m\u001b[0m\u001b[0;34m\u001b[0m\u001b[0m\n\u001b[0m\u001b[1;32m    307\u001b[0m         \u001b[0mself\u001b[0m\u001b[0;34m.\u001b[0m\u001b[0mpath\u001b[0m \u001b[0;34m=\u001b[0m \u001b[0mos\u001b[0m\u001b[0;34m.\u001b[0m\u001b[0mpath\u001b[0m\u001b[0;34m.\u001b[0m\u001b[0mabspath\u001b[0m\u001b[0;34m(\u001b[0m\u001b[0mout_path\u001b[0m\u001b[0;34m)\u001b[0m\u001b[0;34m\u001b[0m\u001b[0;34m\u001b[0m\u001b[0m\n",
      "\u001b[0;32m~/PyGromosTools/pygromos/files/_basics/_general_gromos_file.py\u001b[0m in \u001b[0;36m_write_to_file\u001b[0;34m(self, out_path, content_str)\u001b[0m\n\u001b[1;32m    323\u001b[0m             \u001b[0;32melse\u001b[0m\u001b[0;34m:\u001b[0m\u001b[0;34m\u001b[0m\u001b[0;34m\u001b[0m\u001b[0m\n\u001b[0;32m--> 324\u001b[0;31m                 \u001b[0;32mraise\u001b[0m \u001b[0mIOError\u001b[0m\u001b[0;34m(\u001b[0m\u001b[0;34m\"Could not find directory to write to: \"\u001b[0m \u001b[0;34m+\u001b[0m \u001b[0mstr\u001b[0m\u001b[0;34m(\u001b[0m\u001b[0mos\u001b[0m\u001b[0;34m.\u001b[0m\u001b[0mpath\u001b[0m\u001b[0;34m.\u001b[0m\u001b[0mdirname\u001b[0m\u001b[0;34m(\u001b[0m\u001b[0mout_path\u001b[0m\u001b[0;34m)\u001b[0m\u001b[0;34m)\u001b[0m\u001b[0;34m)\u001b[0m\u001b[0;34m\u001b[0m\u001b[0;34m\u001b[0m\u001b[0m\n\u001b[0m\u001b[1;32m    325\u001b[0m         \u001b[0;32melse\u001b[0m\u001b[0;34m:\u001b[0m\u001b[0;34m\u001b[0m\u001b[0;34m\u001b[0m\u001b[0m\n",
      "\u001b[0;31mOSError\u001b[0m: Could not find directory to write to: ../example_files/SD_Simulation//SD_input/a_vacuum_emin/input",
      "\nDuring handling of the above exception, another exception occurred:\n",
      "\u001b[0;31mException\u001b[0m                                 Traceback (most recent call last)",
      "\u001b[0;32m~/PyGromosTools/pygromos/simulations/modules/general_simulation_modules.py\u001b[0m in \u001b[0;36msimulation\u001b[0;34m(in_gromos_simulation_system, override_project_dir, step_name, in_imd_path, submission_system, simulation_runs, equilibration_runs, previous_simulation_run, force_simulation, initialize_first_run, reinitialize_every_run, analysis_script, analysis_control_dict, _no_double_submit_check, _work_dir, verbose, verbose_lvl, _template_imd_path)\u001b[0m\n\u001b[1;32m    135\u001b[0m         \u001b[0;32mexcept\u001b[0m \u001b[0mException\u001b[0m \u001b[0;32mas\u001b[0m \u001b[0merr\u001b[0m\u001b[0;34m:\u001b[0m\u001b[0;34m\u001b[0m\u001b[0;34m\u001b[0m\u001b[0m\n\u001b[0;32m--> 136\u001b[0;31m             \u001b[0;32mraise\u001b[0m \u001b[0mException\u001b[0m\u001b[0;34m(\u001b[0m\u001b[0;34m\"Could not prepare the gromos System\\n\\t\"\u001b[0m \u001b[0;34m+\u001b[0m \u001b[0;34m\"\\n\\t\"\u001b[0m\u001b[0;34m.\u001b[0m\u001b[0mjoin\u001b[0m\u001b[0;34m(\u001b[0m\u001b[0mmap\u001b[0m\u001b[0;34m(\u001b[0m\u001b[0mstr\u001b[0m\u001b[0;34m,\u001b[0m \u001b[0merr\u001b[0m\u001b[0;34m.\u001b[0m\u001b[0margs\u001b[0m\u001b[0;34m)\u001b[0m\u001b[0;34m)\u001b[0m\u001b[0;34m)\u001b[0m\u001b[0;34m\u001b[0m\u001b[0;34m\u001b[0m\u001b[0m\n\u001b[0m\u001b[1;32m    137\u001b[0m         \u001b[0;31m# do\u001b[0m\u001b[0;34m\u001b[0m\u001b[0;34m\u001b[0m\u001b[0m\n",
      "\u001b[0;31mException\u001b[0m: Could not prepare the gromos System\n\tCould not find directory to write to: ../example_files/SD_Simulation//SD_input/a_vacuum_emin/input",
      "\nDuring handling of the above exception, another exception occurred:\n",
      "\u001b[0;31mException\u001b[0m                                 Traceback (most recent call last)",
      "\u001b[0;32m/tmp/ipykernel_6768/979529352.py\u001b[0m in \u001b[0;36m<module>\u001b[0;34m\u001b[0m\n\u001b[1;32m      2\u001b[0m \u001b[0;34m\u001b[0m\u001b[0m\n\u001b[1;32m      3\u001b[0m \u001b[0;34m\u001b[0m\u001b[0m\n\u001b[0;32m----> 4\u001b[0;31m emin_gromos_system = emin(in_gromos_system=grom_system, \n\u001b[0m\u001b[1;32m      5\u001b[0m                                  \u001b[0mstep_name\u001b[0m\u001b[0;34m=\u001b[0m\u001b[0mstep_name\u001b[0m\u001b[0;34m,\u001b[0m\u001b[0;34m\u001b[0m\u001b[0;34m\u001b[0m\u001b[0m\n\u001b[1;32m      6\u001b[0m                                  \u001b[0msubmission_system\u001b[0m\u001b[0;34m=\u001b[0m\u001b[0msubSystem\u001b[0m\u001b[0;34m(\u001b[0m\u001b[0;34m)\u001b[0m\u001b[0;34m,\u001b[0m\u001b[0;34m\u001b[0m\u001b[0;34m\u001b[0m\u001b[0m\n",
      "\u001b[0;32m~/PyGromosTools/pygromos/simulations/modules/preset_simulation_modules.py\u001b[0m in \u001b[0;36memin\u001b[0;34m(in_gromos_system, step_name, override_project_dir, in_imd_path, submission_system, simulation_runs, equilibration_runs, previous_simulation_run, _template_imd_path, _no_double_submit_check, initialize_first_run, analysis_script, verbose)\u001b[0m\n\u001b[1;32m     42\u001b[0m             \u001b[0mtemplate_emin_control_dict\u001b[0m\u001b[0;34m[\u001b[0m\u001b[0;34m\"concat\"\u001b[0m\u001b[0;34m]\u001b[0m\u001b[0;34m[\u001b[0m\u001b[0;34m\"cat_trg\"\u001b[0m\u001b[0;34m]\u001b[0m \u001b[0;34m=\u001b[0m \u001b[0;32mFalse\u001b[0m\u001b[0;34m\u001b[0m\u001b[0;34m\u001b[0m\u001b[0m\n\u001b[1;32m     43\u001b[0m \u001b[0;34m\u001b[0m\u001b[0m\n\u001b[0;32m---> 44\u001b[0;31m     return simulation(\n\u001b[0m\u001b[1;32m     45\u001b[0m         \u001b[0min_gromos_simulation_system\u001b[0m\u001b[0;34m=\u001b[0m\u001b[0min_gromos_system\u001b[0m\u001b[0;34m,\u001b[0m\u001b[0;34m\u001b[0m\u001b[0;34m\u001b[0m\u001b[0m\n\u001b[1;32m     46\u001b[0m         \u001b[0moverride_project_dir\u001b[0m\u001b[0;34m=\u001b[0m\u001b[0moverride_project_dir\u001b[0m\u001b[0;34m,\u001b[0m\u001b[0;34m\u001b[0m\u001b[0;34m\u001b[0m\u001b[0m\n",
      "\u001b[0;32m~/PyGromosTools/pygromos/simulations/modules/general_simulation_modules.py\u001b[0m in \u001b[0;36msimulation\u001b[0;34m(in_gromos_simulation_system, override_project_dir, step_name, in_imd_path, submission_system, simulation_runs, equilibration_runs, previous_simulation_run, force_simulation, initialize_first_run, reinitialize_every_run, analysis_script, analysis_control_dict, _no_double_submit_check, _work_dir, verbose, verbose_lvl, _template_imd_path)\u001b[0m\n\u001b[1;32m    196\u001b[0m     \u001b[0;32mexcept\u001b[0m \u001b[0mException\u001b[0m \u001b[0;32mas\u001b[0m \u001b[0merr\u001b[0m\u001b[0;34m:\u001b[0m\u001b[0;34m\u001b[0m\u001b[0;34m\u001b[0m\u001b[0m\n\u001b[1;32m    197\u001b[0m         \u001b[0mtraceback\u001b[0m\u001b[0;34m.\u001b[0m\u001b[0mprint_exception\u001b[0m\u001b[0;34m(\u001b[0m\u001b[0;34m*\u001b[0m\u001b[0msys\u001b[0m\u001b[0;34m.\u001b[0m\u001b[0mexc_info\u001b[0m\u001b[0;34m(\u001b[0m\u001b[0;34m)\u001b[0m\u001b[0;34m)\u001b[0m\u001b[0;34m\u001b[0m\u001b[0;34m\u001b[0m\u001b[0m\n\u001b[0;32m--> 198\u001b[0;31m         \u001b[0;32mraise\u001b[0m \u001b[0mException\u001b[0m\u001b[0;34m(\u001b[0m\u001b[0;34m\"Could not prepare the command block\\n\\t\"\u001b[0m \u001b[0;34m+\u001b[0m \u001b[0;34m\"\\n\\t\"\u001b[0m\u001b[0;34m.\u001b[0m\u001b[0mjoin\u001b[0m\u001b[0;34m(\u001b[0m\u001b[0mmap\u001b[0m\u001b[0;34m(\u001b[0m\u001b[0mstr\u001b[0m\u001b[0;34m,\u001b[0m \u001b[0merr\u001b[0m\u001b[0;34m.\u001b[0m\u001b[0margs\u001b[0m\u001b[0;34m)\u001b[0m\u001b[0;34m)\u001b[0m\u001b[0;34m)\u001b[0m\u001b[0;34m\u001b[0m\u001b[0;34m\u001b[0m\u001b[0m\n\u001b[0m\u001b[1;32m    199\u001b[0m \u001b[0;34m\u001b[0m\u001b[0m\n\u001b[1;32m    200\u001b[0m     \u001b[0;31m# schedule\u001b[0m\u001b[0;34m\u001b[0m\u001b[0;34m\u001b[0m\u001b[0m\n",
      "\u001b[0;31mException\u001b[0m: Could not prepare the command block\n\tCould not prepare the gromos System\n\tCould not find directory to write to: ../example_files/SD_Simulation//SD_input/a_vacuum_emin/input"
     ]
    }
   ],
   "source": [
    "from pygromos.simulations.modules.preset_simulation_modules import emin\n",
    "\n",
    "\n",
    "emin_gromos_system = emin(in_gromos_system=grom_system, \n",
    "                                 step_name=step_name, \n",
    "                                 submission_system=subSystem(), \n",
    "                                 in_imd_path=None)\n",
    "jobID = emin_gromos_system._last_jobID\n",
    "emin_gromos_system\n"
   ]
  },
  {
   "cell_type": "code",
   "execution_count": 9,
   "metadata": {
    "execution": {
     "iopub.execute_input": "2022-04-05T11:51:50.587371Z",
     "iopub.status.busy": "2022-04-05T11:51:50.587134Z",
     "iopub.status.idle": "2022-04-05T11:51:50.595995Z",
     "shell.execute_reply": "2022-04-05T11:51:50.595333Z"
    }
   },
   "outputs": [
    {
     "ename": "NameError",
     "evalue": "name 'emin_gromos_system' is not defined",
     "output_type": "error",
     "traceback": [
      "\u001b[0;31m---------------------------------------------------------------------------\u001b[0m",
      "\u001b[0;31mNameError\u001b[0m                                 Traceback (most recent call last)",
      "\u001b[0;32m/tmp/ipykernel_6768/448785403.py\u001b[0m in \u001b[0;36m<module>\u001b[0;34m\u001b[0m\n\u001b[0;32m----> 1\u001b[0;31m \u001b[0memin_gromos_system\u001b[0m\u001b[0;34m.\u001b[0m\u001b[0mcnf\u001b[0m\u001b[0;34m.\u001b[0m\u001b[0mvisualize\u001b[0m\u001b[0;34m(\u001b[0m\u001b[0;34m)\u001b[0m\u001b[0;34m\u001b[0m\u001b[0;34m\u001b[0m\u001b[0m\n\u001b[0m",
      "\u001b[0;31mNameError\u001b[0m: name 'emin_gromos_system' is not defined"
     ]
    }
   ],
   "source": [
    "emin_gromos_system.cnf.visualize()"
   ]
  },
  {
   "cell_type": "code",
   "execution_count": 10,
   "metadata": {
    "execution": {
     "iopub.execute_input": "2022-04-05T11:51:50.598548Z",
     "iopub.status.busy": "2022-04-05T11:51:50.598320Z",
     "iopub.status.idle": "2022-04-05T11:51:50.608233Z",
     "shell.execute_reply": "2022-04-05T11:51:50.607277Z"
    }
   },
   "outputs": [
    {
     "ename": "NameError",
     "evalue": "name 'emin_gromos_system' is not defined",
     "output_type": "error",
     "traceback": [
      "\u001b[0;31m---------------------------------------------------------------------------\u001b[0m",
      "\u001b[0;31mNameError\u001b[0m                                 Traceback (most recent call last)",
      "\u001b[0;32m/tmp/ipykernel_6768/3125221533.py\u001b[0m in \u001b[0;36m<module>\u001b[0;34m\u001b[0m\n\u001b[0;32m----> 1\u001b[0;31m \u001b[0memin_gromos_system\u001b[0m\u001b[0;34m\u001b[0m\u001b[0;34m\u001b[0m\u001b[0m\n\u001b[0m",
      "\u001b[0;31mNameError\u001b[0m: name 'emin_gromos_system' is not defined"
     ]
    }
   ],
   "source": [
    "emin_gromos_system"
   ]
  },
  {
   "cell_type": "code",
   "execution_count": 11,
   "metadata": {
    "execution": {
     "iopub.execute_input": "2022-04-05T11:51:50.611116Z",
     "iopub.status.busy": "2022-04-05T11:51:50.610683Z",
     "iopub.status.idle": "2022-04-05T11:51:50.619673Z",
     "shell.execute_reply": "2022-04-05T11:51:50.618877Z"
    }
   },
   "outputs": [
    {
     "ename": "NameError",
     "evalue": "name 'emin_gromos_system' is not defined",
     "output_type": "error",
     "traceback": [
      "\u001b[0;31m---------------------------------------------------------------------------\u001b[0m",
      "\u001b[0;31mNameError\u001b[0m                                 Traceback (most recent call last)",
      "\u001b[0;32m/tmp/ipykernel_6768/3990282488.py\u001b[0m in \u001b[0;36m<module>\u001b[0;34m\u001b[0m\n\u001b[0;32m----> 1\u001b[0;31m \u001b[0memin_gromos_system\u001b[0m\u001b[0;34m.\u001b[0m\u001b[0mwork_folder\u001b[0m\u001b[0;34m+\u001b[0m\u001b[0;34m\"/analysis/data\"\u001b[0m\u001b[0;34m\u001b[0m\u001b[0;34m\u001b[0m\u001b[0m\n\u001b[0m",
      "\u001b[0;31mNameError\u001b[0m: name 'emin_gromos_system' is not defined"
     ]
    }
   ],
   "source": [
    "emin_gromos_system.work_folder+\"/analysis/data\""
   ]
  },
  {
   "cell_type": "markdown",
   "metadata": {},
   "source": [
    "## RUN SD Simulation"
   ]
  },
  {
   "cell_type": "code",
   "execution_count": 12,
   "metadata": {
    "execution": {
     "iopub.execute_input": "2022-04-05T11:51:50.622472Z",
     "iopub.status.busy": "2022-04-05T11:51:50.622240Z",
     "iopub.status.idle": "2022-04-05T11:51:50.633840Z",
     "shell.execute_reply": "2022-04-05T11:51:50.632655Z"
    }
   },
   "outputs": [
    {
     "ename": "NameError",
     "evalue": "name 'emin_gromos_system' is not defined",
     "output_type": "error",
     "traceback": [
      "\u001b[0;31m---------------------------------------------------------------------------\u001b[0m",
      "\u001b[0;31mNameError\u001b[0m                                 Traceback (most recent call last)",
      "\u001b[0;32m/tmp/ipykernel_6768/4108162448.py\u001b[0m in \u001b[0;36m<module>\u001b[0;34m\u001b[0m\n\u001b[1;32m      3\u001b[0m \u001b[0mstep_name\u001b[0m  \u001b[0;34m=\u001b[0m \u001b[0;34m\"b_vacuum_sd\"\u001b[0m\u001b[0;34m\u001b[0m\u001b[0;34m\u001b[0m\u001b[0m\n\u001b[1;32m      4\u001b[0m \u001b[0;34m\u001b[0m\u001b[0m\n\u001b[0;32m----> 5\u001b[0;31m sd_gromos_system  = sd(in_gromos_system=emin_gromos_system,\n\u001b[0m\u001b[1;32m      6\u001b[0m                               \u001b[0mstep_name\u001b[0m\u001b[0;34m=\u001b[0m\u001b[0mstep_name\u001b[0m\u001b[0;34m,\u001b[0m\u001b[0;34m\u001b[0m\u001b[0;34m\u001b[0m\u001b[0m\n\u001b[1;32m      7\u001b[0m                        \u001b[0msubmission_system\u001b[0m\u001b[0;34m=\u001b[0m\u001b[0msubSystem\u001b[0m\u001b[0;34m(\u001b[0m\u001b[0mnmpi\u001b[0m\u001b[0;34m=\u001b[0m\u001b[0;36m1\u001b[0m\u001b[0;34m)\u001b[0m\u001b[0;34m,\u001b[0m\u001b[0;34m\u001b[0m\u001b[0;34m\u001b[0m\u001b[0m\n",
      "\u001b[0;31mNameError\u001b[0m: name 'emin_gromos_system' is not defined"
     ]
    }
   ],
   "source": [
    "from pygromos.simulations.modules.preset_simulation_modules import sd\n",
    "\n",
    "step_name  = \"b_vacuum_sd\"\n",
    "\n",
    "sd_gromos_system  = sd(in_gromos_system=emin_gromos_system,\n",
    "                              step_name=step_name, \n",
    "                       submission_system=subSystem(nmpi=1),\n",
    "                      equilibration_runs=1, simulation_runs=3)\n",
    "jobID = sd_gromos_system._last_jobID\n",
    "\n",
    "sd_gromos_system\n",
    "\n",
    "sd_gromos_system.cnf.visualize()"
   ]
  },
  {
   "cell_type": "markdown",
   "metadata": {
    "pycharm": {
     "name": "#%% md\n"
    }
   },
   "source": [
    "## Further Analysis:\n",
    "Transform the trc into a pdb traj to check it out with pymol :!)"
   ]
  },
  {
   "cell_type": "code",
   "execution_count": 13,
   "metadata": {
    "execution": {
     "iopub.execute_input": "2022-04-05T11:51:50.637185Z",
     "iopub.status.busy": "2022-04-05T11:51:50.636964Z",
     "iopub.status.idle": "2022-04-05T11:51:50.651382Z",
     "shell.execute_reply": "2022-04-05T11:51:50.650160Z"
    }
   },
   "outputs": [
    {
     "name": "stderr",
     "output_type": "stream",
     "text": [
      "mkdir: cannot create directory ‘../example_files/SD_Simulation//c_ana’: No such file or directory\n"
     ]
    },
    {
     "ename": "OSError",
     "evalue": "could not make folder:\n ../example_files/SD_Simulation//c_ana",
     "output_type": "error",
     "traceback": [
      "\u001b[0;31m---------------------------------------------------------------------------\u001b[0m",
      "\u001b[0;31mOSError\u001b[0m                                   Traceback (most recent call last)",
      "\u001b[0;32m/tmp/ipykernel_6768/4109605633.py\u001b[0m in \u001b[0;36m<module>\u001b[0;34m\u001b[0m\n\u001b[1;32m      4\u001b[0m \u001b[0mout_ana\u001b[0m \u001b[0;34m=\u001b[0m \u001b[0mproject_dir\u001b[0m\u001b[0;34m+\u001b[0m\u001b[0;34m\"/c_ana\"\u001b[0m\u001b[0;34m\u001b[0m\u001b[0;34m\u001b[0m\u001b[0m\n\u001b[1;32m      5\u001b[0m \u001b[0;32mif\u001b[0m\u001b[0;34m(\u001b[0m\u001b[0;32mnot\u001b[0m \u001b[0mos\u001b[0m\u001b[0;34m.\u001b[0m\u001b[0mpath\u001b[0m\u001b[0;34m.\u001b[0m\u001b[0mexists\u001b[0m\u001b[0;34m(\u001b[0m\u001b[0mout_ana\u001b[0m\u001b[0;34m)\u001b[0m\u001b[0;34m)\u001b[0m\u001b[0;34m:\u001b[0m\u001b[0;34m\u001b[0m\u001b[0;34m\u001b[0m\u001b[0m\n\u001b[0;32m----> 6\u001b[0;31m     \u001b[0mbash\u001b[0m\u001b[0;34m.\u001b[0m\u001b[0mmake_folder\u001b[0m\u001b[0;34m(\u001b[0m\u001b[0mout_ana\u001b[0m\u001b[0;34m)\u001b[0m\u001b[0;34m\u001b[0m\u001b[0;34m\u001b[0m\u001b[0m\n\u001b[0m",
      "\u001b[0;32m~/PyGromosTools/pygromos/utils/bash.py\u001b[0m in \u001b[0;36mmake_folder\u001b[0;34m(in_directory_path, additional_option, verbose)\u001b[0m\n\u001b[1;32m    556\u001b[0m     \u001b[0;32mif\u001b[0m \u001b[0;32mnot\u001b[0m \u001b[0mos\u001b[0m\u001b[0;34m.\u001b[0m\u001b[0mpath\u001b[0m\u001b[0;34m.\u001b[0m\u001b[0misdir\u001b[0m\u001b[0;34m(\u001b[0m\u001b[0min_directory_path\u001b[0m\u001b[0;34m)\u001b[0m\u001b[0;34m:\u001b[0m\u001b[0;34m\u001b[0m\u001b[0;34m\u001b[0m\u001b[0m\n\u001b[1;32m    557\u001b[0m         \u001b[0;32mif\u001b[0m \u001b[0mos\u001b[0m\u001b[0;34m.\u001b[0m\u001b[0msystem\u001b[0m\u001b[0;34m(\u001b[0m\u001b[0mmk_folder\u001b[0m\u001b[0;34m)\u001b[0m\u001b[0;34m:\u001b[0m\u001b[0;34m\u001b[0m\u001b[0;34m\u001b[0m\u001b[0m\n\u001b[0;32m--> 558\u001b[0;31m             \u001b[0;32mraise\u001b[0m \u001b[0mOSError\u001b[0m\u001b[0;34m(\u001b[0m\u001b[0;34m\"could not make folder:\\n \"\u001b[0m \u001b[0;34m+\u001b[0m \u001b[0mstr\u001b[0m\u001b[0;34m(\u001b[0m\u001b[0min_directory_path\u001b[0m\u001b[0;34m)\u001b[0m\u001b[0;34m)\u001b[0m\u001b[0;34m\u001b[0m\u001b[0;34m\u001b[0m\u001b[0m\n\u001b[0m\u001b[1;32m    559\u001b[0m \u001b[0;34m\u001b[0m\u001b[0m\n\u001b[1;32m    560\u001b[0m     \u001b[0;32melif\u001b[0m \u001b[0mverbose\u001b[0m\u001b[0;34m:\u001b[0m\u001b[0;34m\u001b[0m\u001b[0;34m\u001b[0m\u001b[0m\n",
      "\u001b[0;31mOSError\u001b[0m: could not make folder:\n ../example_files/SD_Simulation//c_ana"
     ]
    }
   ],
   "source": [
    "#final analysis dir:\n",
    "from pygromos.utils import bash\n",
    "\n",
    "out_ana = project_dir+\"/c_ana\"\n",
    "if(not os.path.exists(out_ana)):\n",
    "    bash.make_folder(out_ana)"
   ]
  },
  {
   "cell_type": "markdown",
   "metadata": {},
   "source": [
    "### Coordinate Analysis"
   ]
  },
  {
   "cell_type": "code",
   "execution_count": 14,
   "metadata": {
    "execution": {
     "iopub.execute_input": "2022-04-05T11:51:50.656747Z",
     "iopub.status.busy": "2022-04-05T11:51:50.656019Z",
     "iopub.status.idle": "2022-04-05T11:51:50.669552Z",
     "shell.execute_reply": "2022-04-05T11:51:50.668603Z"
    }
   },
   "outputs": [
    {
     "ename": "NameError",
     "evalue": "name 'sd_gromos_system' is not defined",
     "output_type": "error",
     "traceback": [
      "\u001b[0;31m---------------------------------------------------------------------------\u001b[0m",
      "\u001b[0;31mNameError\u001b[0m                                 Traceback (most recent call last)",
      "\u001b[0;32m/tmp/ipykernel_6768/2930333405.py\u001b[0m in \u001b[0;36m<module>\u001b[0;34m\u001b[0m\n\u001b[1;32m      1\u001b[0m \u001b[0;32mfrom\u001b[0m \u001b[0mpygromos\u001b[0m\u001b[0;34m.\u001b[0m\u001b[0mfiles\u001b[0m\u001b[0;34m.\u001b[0m\u001b[0mtrajectory\u001b[0m\u001b[0;34m.\u001b[0m\u001b[0mtrc\u001b[0m \u001b[0;32mimport\u001b[0m \u001b[0mTrc\u001b[0m\u001b[0;34m\u001b[0m\u001b[0;34m\u001b[0m\u001b[0m\n\u001b[1;32m      2\u001b[0m \u001b[0;34m\u001b[0m\u001b[0m\n\u001b[0;32m----> 3\u001b[0;31m \u001b[0mtrc\u001b[0m \u001b[0;34m=\u001b[0m \u001b[0msd_gromos_system\u001b[0m\u001b[0;34m.\u001b[0m\u001b[0mtrc\u001b[0m\u001b[0;34m\u001b[0m\u001b[0;34m\u001b[0m\u001b[0m\n\u001b[0m\u001b[1;32m      4\u001b[0m \u001b[0mtrc\u001b[0m\u001b[0;34m.\u001b[0m\u001b[0mwrite_pdb\u001b[0m\u001b[0;34m(\u001b[0m\u001b[0mout_ana\u001b[0m\u001b[0;34m+\u001b[0m\u001b[0;34m\"/sd_traj.pdb\"\u001b[0m\u001b[0;34m,\u001b[0m \u001b[0mcnf_file\u001b[0m\u001b[0;34m=\u001b[0m\u001b[0mcnf_path\u001b[0m\u001b[0;34m)\u001b[0m\u001b[0;31m#grom_system.cnf.path)\u001b[0m\u001b[0;34m\u001b[0m\u001b[0;34m\u001b[0m\u001b[0m\n\u001b[1;32m      5\u001b[0m \u001b[0mtrc\u001b[0m\u001b[0;34m\u001b[0m\u001b[0;34m\u001b[0m\u001b[0m\n",
      "\u001b[0;31mNameError\u001b[0m: name 'sd_gromos_system' is not defined"
     ]
    }
   ],
   "source": [
    "from pygromos.files.trajectory.trc import Trc\n",
    "\n",
    "trc = sd_gromos_system.trc\n",
    "trc.write_pdb(out_ana+\"/sd_traj.pdb\", cnf_file=cnf_path)#grom_system.cnf.path)\n",
    "trc"
   ]
  },
  {
   "cell_type": "code",
   "execution_count": 15,
   "metadata": {
    "execution": {
     "iopub.execute_input": "2022-04-05T11:51:50.673151Z",
     "iopub.status.busy": "2022-04-05T11:51:50.672561Z",
     "iopub.status.idle": "2022-04-05T11:51:50.684151Z",
     "shell.execute_reply": "2022-04-05T11:51:50.683078Z"
    }
   },
   "outputs": [
    {
     "ename": "NameError",
     "evalue": "name 'trc' is not defined",
     "output_type": "error",
     "traceback": [
      "\u001b[0;31m---------------------------------------------------------------------------\u001b[0m",
      "\u001b[0;31mNameError\u001b[0m                                 Traceback (most recent call last)",
      "\u001b[0;32m/tmp/ipykernel_6768/1162602346.py\u001b[0m in \u001b[0;36m<module>\u001b[0;34m\u001b[0m\n\u001b[0;32m----> 1\u001b[0;31m \u001b[0mtraj\u001b[0m \u001b[0;34m=\u001b[0m \u001b[0mtrc\u001b[0m\u001b[0;34m.\u001b[0m\u001b[0mvisualize\u001b[0m\u001b[0;34m(\u001b[0m\u001b[0mgrom_system\u001b[0m\u001b[0;34m.\u001b[0m\u001b[0mcnf\u001b[0m\u001b[0;34m)\u001b[0m\u001b[0;34m\u001b[0m\u001b[0;34m\u001b[0m\u001b[0m\n\u001b[0m\u001b[1;32m      2\u001b[0m \u001b[0mtraj\u001b[0m\u001b[0;34m\u001b[0m\u001b[0;34m\u001b[0m\u001b[0m\n",
      "\u001b[0;31mNameError\u001b[0m: name 'trc' is not defined"
     ]
    }
   ],
   "source": [
    "traj = trc.visualize(grom_system.cnf)\n",
    "traj"
   ]
  },
  {
   "cell_type": "markdown",
   "metadata": {},
   "source": [
    "### Energy Analysis"
   ]
  },
  {
   "cell_type": "code",
   "execution_count": 16,
   "metadata": {
    "execution": {
     "iopub.execute_input": "2022-04-05T11:51:50.688343Z",
     "iopub.status.busy": "2022-04-05T11:51:50.687251Z",
     "iopub.status.idle": "2022-04-05T11:51:50.699742Z",
     "shell.execute_reply": "2022-04-05T11:51:50.698658Z"
    }
   },
   "outputs": [
    {
     "ename": "NameError",
     "evalue": "name 'sd_gromos_system' is not defined",
     "output_type": "error",
     "traceback": [
      "\u001b[0;31m---------------------------------------------------------------------------\u001b[0m",
      "\u001b[0;31mNameError\u001b[0m                                 Traceback (most recent call last)",
      "\u001b[0;32m/tmp/ipykernel_6768/167254822.py\u001b[0m in \u001b[0;36m<module>\u001b[0;34m\u001b[0m\n\u001b[1;32m      1\u001b[0m \u001b[0;32mfrom\u001b[0m \u001b[0mpygromos\u001b[0m\u001b[0;34m.\u001b[0m\u001b[0mfiles\u001b[0m\u001b[0;34m.\u001b[0m\u001b[0mtrajectory\u001b[0m\u001b[0;34m.\u001b[0m\u001b[0mtre\u001b[0m \u001b[0;32mimport\u001b[0m \u001b[0mTre\u001b[0m\u001b[0;34m\u001b[0m\u001b[0;34m\u001b[0m\u001b[0m\n\u001b[1;32m      2\u001b[0m \u001b[0;34m\u001b[0m\u001b[0m\n\u001b[0;32m----> 3\u001b[0;31m \u001b[0mtre\u001b[0m \u001b[0;34m=\u001b[0m \u001b[0msd_gromos_system\u001b[0m\u001b[0;34m.\u001b[0m\u001b[0mtre\u001b[0m\u001b[0;34m\u001b[0m\u001b[0;34m\u001b[0m\u001b[0m\n\u001b[0m\u001b[1;32m      4\u001b[0m \u001b[0mtre\u001b[0m\u001b[0;34m\u001b[0m\u001b[0;34m\u001b[0m\u001b[0m\n",
      "\u001b[0;31mNameError\u001b[0m: name 'sd_gromos_system' is not defined"
     ]
    }
   ],
   "source": [
    "from pygromos.files.trajectory.tre import Tre\n",
    "\n",
    "tre = sd_gromos_system.tre\n",
    "tre\n"
   ]
  },
  {
   "cell_type": "code",
   "execution_count": 17,
   "metadata": {
    "execution": {
     "iopub.execute_input": "2022-04-05T11:51:50.703674Z",
     "iopub.status.busy": "2022-04-05T11:51:50.703015Z",
     "iopub.status.idle": "2022-04-05T11:51:50.717805Z",
     "shell.execute_reply": "2022-04-05T11:51:50.716641Z"
    }
   },
   "outputs": [
    {
     "ename": "NameError",
     "evalue": "name 'tre' is not defined",
     "output_type": "error",
     "traceback": [
      "\u001b[0;31m---------------------------------------------------------------------------\u001b[0m",
      "\u001b[0;31mNameError\u001b[0m                                 Traceback (most recent call last)",
      "\u001b[0;32m/tmp/ipykernel_6768/2290339397.py\u001b[0m in \u001b[0;36m<module>\u001b[0;34m\u001b[0m\n\u001b[1;32m      1\u001b[0m \u001b[0;31m#Plot Potential Energies\u001b[0m\u001b[0;34m\u001b[0m\u001b[0;34m\u001b[0m\u001b[0m\n\u001b[0;32m----> 2\u001b[0;31m \u001b[0mV_tot\u001b[0m \u001b[0;34m=\u001b[0m \u001b[0mnp\u001b[0m\u001b[0;34m.\u001b[0m\u001b[0marray\u001b[0m\u001b[0;34m(\u001b[0m\u001b[0mlist\u001b[0m\u001b[0;34m(\u001b[0m\u001b[0mmap\u001b[0m\u001b[0;34m(\u001b[0m\u001b[0;32mlambda\u001b[0m \u001b[0mx\u001b[0m\u001b[0;34m:\u001b[0m \u001b[0mx\u001b[0m\u001b[0;34m[\u001b[0m\u001b[0;36m2\u001b[0m\u001b[0;34m]\u001b[0m\u001b[0;34m,\u001b[0m \u001b[0mtre\u001b[0m\u001b[0;34m.\u001b[0m\u001b[0mdatabase\u001b[0m\u001b[0;34m.\u001b[0m\u001b[0mtotals\u001b[0m\u001b[0;34m)\u001b[0m\u001b[0;34m)\u001b[0m\u001b[0;34m)\u001b[0m\u001b[0;34m\u001b[0m\u001b[0;34m\u001b[0m\u001b[0m\n\u001b[0m\u001b[1;32m      3\u001b[0m \u001b[0mstep\u001b[0m \u001b[0;34m=\u001b[0m \u001b[0mlen\u001b[0m\u001b[0;34m(\u001b[0m\u001b[0mtre\u001b[0m\u001b[0;34m.\u001b[0m\u001b[0mdatabase\u001b[0m\u001b[0;34m.\u001b[0m\u001b[0mTIMESTEP_time\u001b[0m\u001b[0;34m)\u001b[0m\u001b[0;34m//\u001b[0m\u001b[0;36m10\u001b[0m\u001b[0;34m\u001b[0m\u001b[0;34m\u001b[0m\u001b[0m\n\u001b[1;32m      4\u001b[0m \u001b[0;34m\u001b[0m\u001b[0m\n\u001b[1;32m      5\u001b[0m \u001b[0mplt\u001b[0m\u001b[0;34m.\u001b[0m\u001b[0mplot\u001b[0m\u001b[0;34m(\u001b[0m\u001b[0mtre\u001b[0m\u001b[0;34m.\u001b[0m\u001b[0mdatabase\u001b[0m\u001b[0;34m.\u001b[0m\u001b[0mTIMESTEP_time\u001b[0m\u001b[0;34m,\u001b[0m \u001b[0mV_tot\u001b[0m\u001b[0;34m)\u001b[0m\u001b[0;34m\u001b[0m\u001b[0;34m\u001b[0m\u001b[0m\n",
      "\u001b[0;31mNameError\u001b[0m: name 'tre' is not defined"
     ]
    }
   ],
   "source": [
    "#Plot Potential Energies\n",
    "V_tot = np.array(list(map(lambda x: x[2], tre.database.totals)))\n",
    "step = len(tre.database.TIMESTEP_time)//10\n",
    "\n",
    "plt.plot(tre.database.TIMESTEP_time, V_tot)\n",
    "plt.xticks(np.round(list(tre.database.TIMESTEP_time[::step]),2))\n",
    "plt.xlabel(\"$t~[ps]$\")\n",
    "plt.ylabel(\"$V~[kJ]$\")\n",
    "plt.title(\"V total timeseries\")\n",
    "plt.savefig(out_ana+\"/potential_energy_timeseries.png\")"
   ]
  }
 ],
 "metadata": {
  "interpreter": {
   "hash": "b1b7b2ea43b8e767316eee98e01335d045804d2d47db68b6a5827e187ee91a7e"
  },
  "kernelspec": {
   "display_name": "Python 3.9.7 ('pygro2')",
   "language": "python",
   "name": "python3"
  },
  "language_info": {
   "codemirror_mode": {
    "name": "ipython",
    "version": 3
   },
   "file_extension": ".py",
   "mimetype": "text/x-python",
   "name": "python",
   "nbconvert_exporter": "python",
   "pygments_lexer": "ipython3",
   "version": "3.9.7"
  },
  "widgets": {
   "application/vnd.jupyter.widget-state+json": {
    "state": {
     "09fb54876a0440b08e6def515877ab5a": {
      "model_module": "@jupyter-widgets/base",
      "model_module_version": "1.2.0",
      "model_name": "LayoutModel",
      "state": {
       "_model_module": "@jupyter-widgets/base",
       "_model_module_version": "1.2.0",
       "_model_name": "LayoutModel",
       "_view_count": null,
       "_view_module": "@jupyter-widgets/base",
       "_view_module_version": "1.2.0",
       "_view_name": "LayoutView",
       "align_content": null,
       "align_items": null,
       "align_self": null,
       "border": null,
       "bottom": null,
       "display": null,
       "flex": null,
       "flex_flow": null,
       "grid_area": null,
       "grid_auto_columns": null,
       "grid_auto_flow": null,
       "grid_auto_rows": null,
       "grid_column": null,
       "grid_gap": null,
       "grid_row": null,
       "grid_template_areas": null,
       "grid_template_columns": null,
       "grid_template_rows": null,
       "height": null,
       "justify_content": null,
       "justify_items": null,
       "left": null,
       "margin": null,
       "max_height": null,
       "max_width": null,
       "min_height": null,
       "min_width": null,
       "object_fit": null,
       "object_position": null,
       "order": null,
       "overflow": null,
       "overflow_x": null,
       "overflow_y": null,
       "padding": null,
       "right": null,
       "top": null,
       "visibility": null,
       "width": null
      }
     },
     "163eeb4f68db48d6bf77ced6851c509a": {
      "model_module": "nglview-js-widgets",
      "model_module_version": "3.0.1",
      "model_name": "ColormakerRegistryModel",
      "state": {
       "_dom_classes": [],
       "_model_module": "nglview-js-widgets",
       "_model_module_version": "3.0.1",
       "_model_name": "ColormakerRegistryModel",
       "_msg_ar": [],
       "_msg_q": [],
       "_ready": false,
       "_view_count": null,
       "_view_module": "nglview-js-widgets",
       "_view_module_version": "3.0.1",
       "_view_name": "ColormakerRegistryView",
       "layout": "IPY_MODEL_09fb54876a0440b08e6def515877ab5a"
      }
     }
    },
    "version_major": 2,
    "version_minor": 0
   }
  }
 },
 "nbformat": 4,
 "nbformat_minor": 4
}
