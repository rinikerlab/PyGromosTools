{
 "cells": [
  {
   "cell_type": "markdown",
   "metadata": {},
   "source": [
    "# Topology creation and modifications with PyGromosTools"
   ]
  },
  {
   "cell_type": "markdown",
   "metadata": {},
   "source": [
    "PyGromosTools offers a wide variaty of tools and functions to assist in the creation and modification of specialized topologies.\n",
    "\n",
    "In the following notebook we will demonstrate some of the functions and theire usage. These functions and workflows should work with all supported forcfields, but we will use OpenForceField due to the fact that it is independant of make_top and a Gromos++ installation."
   ]
  },
  {
   "cell_type": "code",
   "execution_count": 1,
   "metadata": {
    "execution": {
     "iopub.execute_input": "2022-04-05T13:04:10.893230Z",
     "iopub.status.busy": "2022-04-05T13:04:10.892021Z",
     "iopub.status.idle": "2022-04-05T13:04:11.159191Z",
     "shell.execute_reply": "2022-04-05T13:04:11.158363Z"
    }
   },
   "outputs": [],
   "source": [
    "import os\n",
    "from rdkit.Chem import AllChem"
   ]
  },
  {
   "cell_type": "code",
   "execution_count": 2,
   "metadata": {
    "execution": {
     "iopub.execute_input": "2022-04-05T13:04:11.163810Z",
     "iopub.status.busy": "2022-04-05T13:04:11.163239Z",
     "iopub.status.idle": "2022-04-05T13:04:12.254021Z",
     "shell.execute_reply": "2022-04-05T13:04:12.252977Z"
    }
   },
   "outputs": [
    {
     "data": {
      "application/vnd.jupyter.widget-view+json": {
       "model_id": "1e5f45914e3942ef9387383780f977f3",
       "version_major": 2,
       "version_minor": 0
      },
      "text/plain": []
     },
     "metadata": {},
     "output_type": "display_data"
    },
    {
     "ename": "ModuleNotFoundError",
     "evalue": "No module named 'pygromos.files.gromos_system.ff'",
     "output_type": "error",
     "traceback": [
      "\u001b[0;31m---------------------------------------------------------------------------\u001b[0m",
      "\u001b[0;31mModuleNotFoundError\u001b[0m                       Traceback (most recent call last)",
      "\u001b[0;32m/tmp/ipykernel_8008/706441224.py\u001b[0m in \u001b[0;36m<module>\u001b[0;34m\u001b[0m\n\u001b[1;32m      1\u001b[0m \u001b[0;32mfrom\u001b[0m \u001b[0mpygromos\u001b[0m\u001b[0;34m.\u001b[0m\u001b[0mfiles\u001b[0m\u001b[0;34m.\u001b[0m\u001b[0mgromos_system\u001b[0m\u001b[0;34m.\u001b[0m\u001b[0mgromos_system\u001b[0m \u001b[0;32mimport\u001b[0m \u001b[0mGromos_System\u001b[0m\u001b[0;34m\u001b[0m\u001b[0;34m\u001b[0m\u001b[0m\n\u001b[0;32m----> 2\u001b[0;31m \u001b[0;32mfrom\u001b[0m \u001b[0mpygromos\u001b[0m\u001b[0;34m.\u001b[0m\u001b[0mfiles\u001b[0m\u001b[0;34m.\u001b[0m\u001b[0mgromos_system\u001b[0m\u001b[0;34m.\u001b[0m\u001b[0mff\u001b[0m\u001b[0;34m.\u001b[0m\u001b[0mforcefield_system\u001b[0m \u001b[0;32mimport\u001b[0m \u001b[0mforcefield_system\u001b[0m\u001b[0;34m\u001b[0m\u001b[0;34m\u001b[0m\u001b[0m\n\u001b[0m\u001b[1;32m      3\u001b[0m \u001b[0;32mfrom\u001b[0m \u001b[0mpygromos\u001b[0m\u001b[0;34m.\u001b[0m\u001b[0mfiles\u001b[0m\u001b[0;34m.\u001b[0m\u001b[0mtopology\u001b[0m\u001b[0;34m.\u001b[0m\u001b[0mtop\u001b[0m \u001b[0;32mimport\u001b[0m \u001b[0mTop\u001b[0m\u001b[0;34m\u001b[0m\u001b[0;34m\u001b[0m\u001b[0m\n",
      "\u001b[0;31mModuleNotFoundError\u001b[0m: No module named 'pygromos.files.gromos_system.ff'"
     ]
    }
   ],
   "source": [
    "from pygromos.files.gromos_system.gromos_system import Gromos_System\n",
    "from pygromos.files.gromos_system.ff.forcefield_system import forcefield_system\n",
    "from pygromos.files.topology.top import Top"
   ]
  },
  {
   "cell_type": "code",
   "execution_count": 3,
   "metadata": {
    "execution": {
     "iopub.execute_input": "2022-04-05T13:04:12.257246Z",
     "iopub.status.busy": "2022-04-05T13:04:12.256744Z",
     "iopub.status.idle": "2022-04-05T13:04:12.261167Z",
     "shell.execute_reply": "2022-04-05T13:04:12.260066Z"
    }
   },
   "outputs": [],
   "source": [
    "# setting the work directory\n",
    "root_dir = os.path.abspath(\"../example_files/topo_tutorial/\")"
   ]
  },
  {
   "cell_type": "markdown",
   "metadata": {},
   "source": [
    "## Automatic System generation and combining of topologies"
   ]
  },
  {
   "cell_type": "markdown",
   "metadata": {},
   "source": [
    "In the first part of this notebbok we demonstrate some automatic tools to create and modifie topologies."
   ]
  },
  {
   "cell_type": "code",
   "execution_count": 4,
   "metadata": {
    "execution": {
     "iopub.execute_input": "2022-04-05T13:04:12.265561Z",
     "iopub.status.busy": "2022-04-05T13:04:12.264491Z",
     "iopub.status.idle": "2022-04-05T13:04:12.276556Z",
     "shell.execute_reply": "2022-04-05T13:04:12.275042Z"
    }
   },
   "outputs": [
    {
     "ename": "NameError",
     "evalue": "name 'forcefield_system' is not defined",
     "output_type": "error",
     "traceback": [
      "\u001b[0;31m---------------------------------------------------------------------------\u001b[0m",
      "\u001b[0;31mNameError\u001b[0m                                 Traceback (most recent call last)",
      "\u001b[0;32m/tmp/ipykernel_8008/3430551732.py\u001b[0m in \u001b[0;36m<module>\u001b[0;34m\u001b[0m\n\u001b[1;32m      1\u001b[0m \u001b[0;31m# defining the forcefield we want to use. In case a Gromos system is used make sure to have a valid Gromos++ installation and define the gromos++ path in Gromos_System or add it to you Path.\u001b[0m\u001b[0;34m\u001b[0m\u001b[0;34m\u001b[0m\u001b[0m\n\u001b[0;32m----> 2\u001b[0;31m \u001b[0mff\u001b[0m \u001b[0;34m=\u001b[0m \u001b[0mforcefield_system\u001b[0m\u001b[0;34m(\u001b[0m\u001b[0mname\u001b[0m\u001b[0;34m=\u001b[0m\u001b[0;34m\"off\"\u001b[0m\u001b[0;34m)\u001b[0m\u001b[0;34m\u001b[0m\u001b[0;34m\u001b[0m\u001b[0m\n\u001b[0m",
      "\u001b[0;31mNameError\u001b[0m: name 'forcefield_system' is not defined"
     ]
    }
   ],
   "source": [
    "# defining the forcefield we want to use. In case a Gromos system is used make sure to have a valid Gromos++ installation and define the gromos++ path in Gromos_System or add it to you Path.\n",
    "ff = forcefield_system(name=\"off\")"
   ]
  },
  {
   "cell_type": "code",
   "execution_count": 5,
   "metadata": {
    "execution": {
     "iopub.execute_input": "2022-04-05T13:04:12.281196Z",
     "iopub.status.busy": "2022-04-05T13:04:12.280226Z",
     "iopub.status.idle": "2022-04-05T13:04:12.305868Z",
     "shell.execute_reply": "2022-04-05T13:04:12.304805Z"
    }
   },
   "outputs": [
    {
     "data": {
      "text/plain": [
       "0"
      ]
     },
     "execution_count": 5,
     "metadata": {},
     "output_type": "execute_result"
    }
   ],
   "source": [
    "# We define a molecule in RDKit. Note that this molecule could be modified in RDKit or read from sdf, pdb, ... files\n",
    "mol = AllChem.MolFromSmiles(\"C1CCCCC1\")\n",
    "mol = AllChem.AddHs(mol)\n",
    "AllChem.EmbedMolecule(mol)\n"
   ]
  },
  {
   "cell_type": "code",
   "execution_count": 6,
   "metadata": {
    "execution": {
     "iopub.execute_input": "2022-04-05T13:04:12.310179Z",
     "iopub.status.busy": "2022-04-05T13:04:12.309926Z",
     "iopub.status.idle": "2022-04-05T13:04:12.324223Z",
     "shell.execute_reply": "2022-04-05T13:04:12.322845Z"
    }
   },
   "outputs": [
    {
     "ename": "NameError",
     "evalue": "name 'ff' is not defined",
     "output_type": "error",
     "traceback": [
      "\u001b[0;31m---------------------------------------------------------------------------\u001b[0m",
      "\u001b[0;31mNameError\u001b[0m                                 Traceback (most recent call last)",
      "\u001b[0;32m/tmp/ipykernel_8008/2847303599.py\u001b[0m in \u001b[0;36m<module>\u001b[0;34m\u001b[0m\n\u001b[1;32m      1\u001b[0m \u001b[0;31m# We define our Gromos_system. Note the option auto_convert=True to automatically genarte a valid topology from the molecule defined in mol and the forcefield defined in ff.\u001b[0m\u001b[0;34m\u001b[0m\u001b[0;34m\u001b[0m\u001b[0m\n\u001b[0;32m----> 2\u001b[0;31m \u001b[0mgrosys\u001b[0m \u001b[0;34m=\u001b[0m \u001b[0mGromos_System\u001b[0m\u001b[0;34m(\u001b[0m\u001b[0mwork_folder\u001b[0m\u001b[0;34m=\u001b[0m\u001b[0mroot_dir\u001b[0m\u001b[0;34m,\u001b[0m \u001b[0msystem_name\u001b[0m\u001b[0;34m=\u001b[0m\u001b[0;34m\"test\"\u001b[0m\u001b[0;34m,\u001b[0m \u001b[0mForcefield\u001b[0m\u001b[0;34m=\u001b[0m\u001b[0mff\u001b[0m\u001b[0;34m,\u001b[0m \u001b[0mrdkitMol\u001b[0m\u001b[0;34m=\u001b[0m\u001b[0mmol\u001b[0m\u001b[0;34m,\u001b[0m \u001b[0mauto_convert\u001b[0m\u001b[0;34m=\u001b[0m\u001b[0;32mTrue\u001b[0m\u001b[0;34m)\u001b[0m\u001b[0;34m\u001b[0m\u001b[0;34m\u001b[0m\u001b[0m\n\u001b[0m",
      "\u001b[0;31mNameError\u001b[0m: name 'ff' is not defined"
     ]
    }
   ],
   "source": [
    "# We define our Gromos_system. Note the option auto_convert=True to automatically genarte a valid topology from the molecule defined in mol and the forcefield defined in ff.\n",
    "grosys = Gromos_System(work_folder=root_dir, system_name=\"test\", Forcefield=ff, rdkitMol=mol, auto_convert=True)"
   ]
  },
  {
   "cell_type": "code",
   "execution_count": 7,
   "metadata": {
    "execution": {
     "iopub.execute_input": "2022-04-05T13:04:12.328513Z",
     "iopub.status.busy": "2022-04-05T13:04:12.328131Z",
     "iopub.status.idle": "2022-04-05T13:04:12.340643Z",
     "shell.execute_reply": "2022-04-05T13:04:12.339077Z"
    }
   },
   "outputs": [
    {
     "ename": "NameError",
     "evalue": "name 'grosys' is not defined",
     "output_type": "error",
     "traceback": [
      "\u001b[0;31m---------------------------------------------------------------------------\u001b[0m",
      "\u001b[0;31mNameError\u001b[0m                                 Traceback (most recent call last)",
      "\u001b[0;32m/tmp/ipykernel_8008/2102199860.py\u001b[0m in \u001b[0;36m<module>\u001b[0;34m\u001b[0m\n\u001b[1;32m      1\u001b[0m \u001b[0;31m# The topology created in the last step printed\u001b[0m\u001b[0;34m\u001b[0m\u001b[0;34m\u001b[0m\u001b[0m\n\u001b[0;32m----> 2\u001b[0;31m \u001b[0mgrosys\u001b[0m\u001b[0;34m.\u001b[0m\u001b[0mtop\u001b[0m\u001b[0;34m.\u001b[0m\u001b[0mTITLE\u001b[0m\u001b[0;34m\u001b[0m\u001b[0;34m\u001b[0m\u001b[0m\n\u001b[0m",
      "\u001b[0;31mNameError\u001b[0m: name 'grosys' is not defined"
     ]
    }
   ],
   "source": [
    "# The topology created in the last step printed\n",
    "grosys.top.TITLE"
   ]
  },
  {
   "cell_type": "markdown",
   "metadata": {},
   "source": [
    "After the automatic creation of this topology for a Cyclohexan molecule we could try to make a liquid topology. Therefore we want to have multiple copies of our topology in one single topology."
   ]
  },
  {
   "cell_type": "code",
   "execution_count": 8,
   "metadata": {
    "execution": {
     "iopub.execute_input": "2022-04-05T13:04:12.346278Z",
     "iopub.status.busy": "2022-04-05T13:04:12.345536Z",
     "iopub.status.idle": "2022-04-05T13:04:12.360044Z",
     "shell.execute_reply": "2022-04-05T13:04:12.359024Z"
    }
   },
   "outputs": [
    {
     "ename": "NameError",
     "evalue": "name 'Top' is not defined",
     "output_type": "error",
     "traceback": [
      "\u001b[0;31m---------------------------------------------------------------------------\u001b[0m",
      "\u001b[0;31mNameError\u001b[0m                                 Traceback (most recent call last)",
      "\u001b[0;32m/tmp/ipykernel_8008/410468238.py\u001b[0m in \u001b[0;36m<module>\u001b[0;34m\u001b[0m\n\u001b[1;32m      1\u001b[0m \u001b[0;31m# define a new, empty top\u001b[0m\u001b[0;34m\u001b[0m\u001b[0;34m\u001b[0m\u001b[0m\n\u001b[0;32m----> 2\u001b[0;31m \u001b[0mretTop\u001b[0m\u001b[0;34m=\u001b[0m\u001b[0mTop\u001b[0m\u001b[0;34m(\u001b[0m\u001b[0min_value\u001b[0m\u001b[0;34m=\u001b[0m\u001b[0;32mNone\u001b[0m\u001b[0;34m)\u001b[0m\u001b[0;34m\u001b[0m\u001b[0;34m\u001b[0m\u001b[0m\n\u001b[0m",
      "\u001b[0;31mNameError\u001b[0m: name 'Top' is not defined"
     ]
    }
   ],
   "source": [
    "# define a new, empty top\n",
    "retTop=Top(in_value=None)"
   ]
  },
  {
   "cell_type": "markdown",
   "metadata": {},
   "source": [
    "With the \"+=\" operator we can add multiple topologies to a single topology. Or multiply the topology in a for loop. This alows costum topologies for liquids. After the loop we can reasign the variable to our Gromos_System and check if the additional molecules were added."
   ]
  },
  {
   "cell_type": "code",
   "execution_count": 9,
   "metadata": {
    "execution": {
     "iopub.execute_input": "2022-04-05T13:04:12.365241Z",
     "iopub.status.busy": "2022-04-05T13:04:12.364585Z",
     "iopub.status.idle": "2022-04-05T13:04:12.381193Z",
     "shell.execute_reply": "2022-04-05T13:04:12.379430Z"
    }
   },
   "outputs": [
    {
     "ename": "NameError",
     "evalue": "name 'retTop' is not defined",
     "output_type": "error",
     "traceback": [
      "\u001b[0;31m---------------------------------------------------------------------------\u001b[0m",
      "\u001b[0;31mNameError\u001b[0m                                 Traceback (most recent call last)",
      "\u001b[0;32m/tmp/ipykernel_8008/683585292.py\u001b[0m in \u001b[0;36m<module>\u001b[0;34m\u001b[0m\n\u001b[1;32m      1\u001b[0m \u001b[0;32mfor\u001b[0m \u001b[0m_\u001b[0m \u001b[0;32min\u001b[0m \u001b[0mrange\u001b[0m\u001b[0;34m(\u001b[0m\u001b[0;36m10\u001b[0m\u001b[0;34m)\u001b[0m\u001b[0;34m:\u001b[0m\u001b[0;34m\u001b[0m\u001b[0;34m\u001b[0m\u001b[0m\n\u001b[0;32m----> 2\u001b[0;31m     \u001b[0mretTop\u001b[0m \u001b[0;34m+=\u001b[0m \u001b[0mgrosys\u001b[0m\u001b[0;34m.\u001b[0m\u001b[0mtop\u001b[0m\u001b[0;34m\u001b[0m\u001b[0;34m\u001b[0m\u001b[0m\n\u001b[0m\u001b[1;32m      3\u001b[0m \u001b[0mgrosys\u001b[0m\u001b[0;34m.\u001b[0m\u001b[0mtop\u001b[0m \u001b[0;34m=\u001b[0m \u001b[0mretTop\u001b[0m\u001b[0;34m\u001b[0m\u001b[0;34m\u001b[0m\u001b[0m\n",
      "\u001b[0;31mNameError\u001b[0m: name 'retTop' is not defined"
     ]
    }
   ],
   "source": [
    "for _ in range(10):\n",
    "    retTop += grosys.top\n",
    "grosys.top = retTop"
   ]
  },
  {
   "cell_type": "code",
   "execution_count": 10,
   "metadata": {
    "execution": {
     "iopub.execute_input": "2022-04-05T13:04:12.386953Z",
     "iopub.status.busy": "2022-04-05T13:04:12.385460Z",
     "iopub.status.idle": "2022-04-05T13:04:12.399602Z",
     "shell.execute_reply": "2022-04-05T13:04:12.398471Z"
    }
   },
   "outputs": [
    {
     "ename": "NameError",
     "evalue": "name 'grosys' is not defined",
     "output_type": "error",
     "traceback": [
      "\u001b[0;31m---------------------------------------------------------------------------\u001b[0m",
      "\u001b[0;31mNameError\u001b[0m                                 Traceback (most recent call last)",
      "\u001b[0;32m/tmp/ipykernel_8008/2118717882.py\u001b[0m in \u001b[0;36m<module>\u001b[0;34m\u001b[0m\n\u001b[1;32m      1\u001b[0m \u001b[0;31m# we added 10 copies of the initial moleucle to retTop and our new topology now contains 10 molecules in the RESNAME block.\u001b[0m\u001b[0;34m\u001b[0m\u001b[0;34m\u001b[0m\u001b[0m\n\u001b[0;32m----> 2\u001b[0;31m \u001b[0mgrosys\u001b[0m\u001b[0;34m.\u001b[0m\u001b[0mtop\u001b[0m\u001b[0;34m.\u001b[0m\u001b[0mRESNAME\u001b[0m\u001b[0;34m\u001b[0m\u001b[0;34m\u001b[0m\u001b[0m\n\u001b[0m",
      "\u001b[0;31mNameError\u001b[0m: name 'grosys' is not defined"
     ]
    }
   ],
   "source": [
    "# we added 10 copies of the initial moleucle to retTop and our new topology now contains 10 molecules in the RESNAME block.\n",
    "grosys.top.RESNAME"
   ]
  },
  {
   "cell_type": "code",
   "execution_count": 11,
   "metadata": {
    "execution": {
     "iopub.execute_input": "2022-04-05T13:04:12.404691Z",
     "iopub.status.busy": "2022-04-05T13:04:12.403926Z",
     "iopub.status.idle": "2022-04-05T13:04:12.418541Z",
     "shell.execute_reply": "2022-04-05T13:04:12.417026Z"
    }
   },
   "outputs": [
    {
     "ename": "NameError",
     "evalue": "name 'grosys' is not defined",
     "output_type": "error",
     "traceback": [
      "\u001b[0;31m---------------------------------------------------------------------------\u001b[0m",
      "\u001b[0;31mNameError\u001b[0m                                 Traceback (most recent call last)",
      "\u001b[0;32m/tmp/ipykernel_8008/2483109453.py\u001b[0m in \u001b[0;36m<module>\u001b[0;34m\u001b[0m\n\u001b[0;32m----> 1\u001b[0;31m \u001b[0mgrosys\u001b[0m\u001b[0;34m.\u001b[0m\u001b[0mtop\u001b[0m\u001b[0;34m.\u001b[0m\u001b[0mmake_ordered\u001b[0m\u001b[0;34m(\u001b[0m\u001b[0;34m)\u001b[0m\u001b[0;34m\u001b[0m\u001b[0;34m\u001b[0m\u001b[0m\n\u001b[0m",
      "\u001b[0;31mNameError\u001b[0m: name 'grosys' is not defined"
     ]
    }
   ],
   "source": [
    "grosys.top.make_ordered()"
   ]
  },
  {
   "cell_type": "markdown",
   "metadata": {},
   "source": [
    "We can also add different molecules in our system. For example we could add a Toluene to our Cyclohexane system."
   ]
  },
  {
   "cell_type": "code",
   "execution_count": 12,
   "metadata": {
    "execution": {
     "iopub.execute_input": "2022-04-05T13:04:12.423331Z",
     "iopub.status.busy": "2022-04-05T13:04:12.422686Z",
     "iopub.status.idle": "2022-04-05T13:04:12.434582Z",
     "shell.execute_reply": "2022-04-05T13:04:12.432945Z"
    }
   },
   "outputs": [
    {
     "ename": "NameError",
     "evalue": "name 'ff' is not defined",
     "output_type": "error",
     "traceback": [
      "\u001b[0;31m---------------------------------------------------------------------------\u001b[0m",
      "\u001b[0;31mNameError\u001b[0m                                 Traceback (most recent call last)",
      "\u001b[0;32m/tmp/ipykernel_8008/1925938220.py\u001b[0m in \u001b[0;36m<module>\u001b[0;34m\u001b[0m\n\u001b[1;32m      1\u001b[0m \u001b[0;31m# create a topology for Toluene\u001b[0m\u001b[0;34m\u001b[0m\u001b[0;34m\u001b[0m\u001b[0m\n\u001b[0;32m----> 2\u001b[0;31m \u001b[0mtolTop\u001b[0m \u001b[0;34m=\u001b[0m \u001b[0mGromos_System\u001b[0m\u001b[0;34m(\u001b[0m\u001b[0mwork_folder\u001b[0m\u001b[0;34m=\u001b[0m\u001b[0mroot_dir\u001b[0m\u001b[0;34m,\u001b[0m \u001b[0msystem_name\u001b[0m\u001b[0;34m=\u001b[0m\u001b[0;34m\"TOL\"\u001b[0m\u001b[0;34m,\u001b[0m \u001b[0min_smiles\u001b[0m\u001b[0;34m=\u001b[0m\u001b[0;34m\"c1ccccc1C\"\u001b[0m\u001b[0;34m,\u001b[0m \u001b[0mForcefield\u001b[0m\u001b[0;34m=\u001b[0m\u001b[0mff\u001b[0m\u001b[0;34m,\u001b[0m \u001b[0mauto_convert\u001b[0m\u001b[0;34m=\u001b[0m\u001b[0;32mTrue\u001b[0m\u001b[0;34m)\u001b[0m\u001b[0;34m.\u001b[0m\u001b[0mtop\u001b[0m\u001b[0;34m\u001b[0m\u001b[0;34m\u001b[0m\u001b[0m\n\u001b[0m",
      "\u001b[0;31mNameError\u001b[0m: name 'ff' is not defined"
     ]
    }
   ],
   "source": [
    "# create a topology for Toluene\n",
    "tolTop = Gromos_System(work_folder=root_dir, system_name=\"TOL\", in_smiles=\"c1ccccc1C\", Forcefield=ff, auto_convert=True).top"
   ]
  },
  {
   "cell_type": "code",
   "execution_count": 13,
   "metadata": {
    "execution": {
     "iopub.execute_input": "2022-04-05T13:04:12.439462Z",
     "iopub.status.busy": "2022-04-05T13:04:12.438913Z",
     "iopub.status.idle": "2022-04-05T13:04:12.450448Z",
     "shell.execute_reply": "2022-04-05T13:04:12.449382Z"
    }
   },
   "outputs": [
    {
     "ename": "NameError",
     "evalue": "name 'grosys' is not defined",
     "output_type": "error",
     "traceback": [
      "\u001b[0;31m---------------------------------------------------------------------------\u001b[0m",
      "\u001b[0;31mNameError\u001b[0m                                 Traceback (most recent call last)",
      "\u001b[0;32m/tmp/ipykernel_8008/3231132463.py\u001b[0m in \u001b[0;36m<module>\u001b[0;34m\u001b[0m\n\u001b[1;32m      1\u001b[0m \u001b[0;31m# add the toluene topology to our main topology\u001b[0m\u001b[0;34m\u001b[0m\u001b[0;34m\u001b[0m\u001b[0m\n\u001b[0;32m----> 2\u001b[0;31m \u001b[0mgrosys\u001b[0m\u001b[0;34m.\u001b[0m\u001b[0mtop\u001b[0m \u001b[0;34m+=\u001b[0m \u001b[0mtolTop\u001b[0m\u001b[0;34m\u001b[0m\u001b[0;34m\u001b[0m\u001b[0m\n\u001b[0m",
      "\u001b[0;31mNameError\u001b[0m: name 'grosys' is not defined"
     ]
    }
   ],
   "source": [
    "# add the toluene topology to our main topology\n",
    "grosys.top += tolTop"
   ]
  },
  {
   "cell_type": "code",
   "execution_count": 14,
   "metadata": {
    "execution": {
     "iopub.execute_input": "2022-04-05T13:04:12.454106Z",
     "iopub.status.busy": "2022-04-05T13:04:12.453853Z",
     "iopub.status.idle": "2022-04-05T13:04:12.464266Z",
     "shell.execute_reply": "2022-04-05T13:04:12.462957Z"
    }
   },
   "outputs": [
    {
     "ename": "NameError",
     "evalue": "name 'tolTop' is not defined",
     "output_type": "error",
     "traceback": [
      "\u001b[0;31m---------------------------------------------------------------------------\u001b[0m",
      "\u001b[0;31mNameError\u001b[0m                                 Traceback (most recent call last)",
      "\u001b[0;32m/tmp/ipykernel_8008/180763974.py\u001b[0m in \u001b[0;36m<module>\u001b[0;34m\u001b[0m\n\u001b[0;32m----> 1\u001b[0;31m \u001b[0mtolTop\u001b[0m\u001b[0;34m.\u001b[0m\u001b[0mLJPARAMETERS\u001b[0m\u001b[0;34m.\u001b[0m\u001b[0mcontent\u001b[0m\u001b[0;34m[\u001b[0m\u001b[0;36m0\u001b[0m\u001b[0;34m]\u001b[0m\u001b[0;34m.\u001b[0m\u001b[0mC6\u001b[0m\u001b[0;34m\u001b[0m\u001b[0;34m\u001b[0m\u001b[0m\n\u001b[0m",
      "\u001b[0;31mNameError\u001b[0m: name 'tolTop' is not defined"
     ]
    }
   ],
   "source": [
    "tolTop.LJPARAMETERS.content[0].C6"
   ]
  },
  {
   "cell_type": "code",
   "execution_count": 15,
   "metadata": {
    "execution": {
     "iopub.execute_input": "2022-04-05T13:04:12.468534Z",
     "iopub.status.busy": "2022-04-05T13:04:12.467825Z",
     "iopub.status.idle": "2022-04-05T13:04:12.481526Z",
     "shell.execute_reply": "2022-04-05T13:04:12.479670Z"
    }
   },
   "outputs": [
    {
     "ename": "NameError",
     "evalue": "name 'grosys' is not defined",
     "output_type": "error",
     "traceback": [
      "\u001b[0;31m---------------------------------------------------------------------------\u001b[0m",
      "\u001b[0;31mNameError\u001b[0m                                 Traceback (most recent call last)",
      "\u001b[0;32m/tmp/ipykernel_8008/289077257.py\u001b[0m in \u001b[0;36m<module>\u001b[0;34m\u001b[0m\n\u001b[1;32m      1\u001b[0m \u001b[0;31m# check if it was added properly\u001b[0m\u001b[0;34m\u001b[0m\u001b[0;34m\u001b[0m\u001b[0m\n\u001b[0;32m----> 2\u001b[0;31m \u001b[0mgrosys\u001b[0m\u001b[0;34m.\u001b[0m\u001b[0mtop\u001b[0m\u001b[0;34m.\u001b[0m\u001b[0mRESNAME\u001b[0m\u001b[0;34m\u001b[0m\u001b[0;34m\u001b[0m\u001b[0m\n\u001b[0m",
      "\u001b[0;31mNameError\u001b[0m: name 'grosys' is not defined"
     ]
    }
   ],
   "source": [
    "# check if it was added properly\n",
    "grosys.top.RESNAME"
   ]
  },
  {
   "cell_type": "markdown",
   "metadata": {},
   "source": [
    "If many topologies should be added to a single topology the PyGromosTools version of com_top can be used which directly implements multipliers. Instead of for loops."
   ]
  },
  {
   "cell_type": "markdown",
   "metadata": {},
   "source": [
    "## Manual topology modifications"
   ]
  },
  {
   "cell_type": "markdown",
   "metadata": {},
   "source": [
    "In this second part of the notebook we demonstrate some functions to manually tweek topologies.\n",
    "\n",
    "Like with any othe PyGromosTools file class we have the option to brute force rewrite blocks. However, this often requires advanced knowlede of the block structure. Except for a few simple cases like the TITLE block."
   ]
  },
  {
   "cell_type": "code",
   "execution_count": 16,
   "metadata": {
    "execution": {
     "iopub.execute_input": "2022-04-05T13:04:12.486793Z",
     "iopub.status.busy": "2022-04-05T13:04:12.486201Z",
     "iopub.status.idle": "2022-04-05T13:04:12.496431Z",
     "shell.execute_reply": "2022-04-05T13:04:12.495230Z"
    }
   },
   "outputs": [
    {
     "ename": "NameError",
     "evalue": "name 'grosys' is not defined",
     "output_type": "error",
     "traceback": [
      "\u001b[0;31m---------------------------------------------------------------------------\u001b[0m",
      "\u001b[0;31mNameError\u001b[0m                                 Traceback (most recent call last)",
      "\u001b[0;32m/tmp/ipykernel_8008/3075195395.py\u001b[0m in \u001b[0;36m<module>\u001b[0;34m\u001b[0m\n\u001b[0;32m----> 1\u001b[0;31m \u001b[0mgrosys\u001b[0m\u001b[0;34m.\u001b[0m\u001b[0mtop\u001b[0m\u001b[0;34m.\u001b[0m\u001b[0madd_block\u001b[0m\u001b[0;34m(\u001b[0m\u001b[0mblocktitle\u001b[0m\u001b[0;34m=\u001b[0m\u001b[0;34m\"TITLE\"\u001b[0m\u001b[0;34m,\u001b[0m \u001b[0mcontent\u001b[0m\u001b[0;34m=\u001b[0m\u001b[0;34m[\u001b[0m\u001b[0;34m\"This is a new Title\"\u001b[0m\u001b[0;34m]\u001b[0m\u001b[0;34m)\u001b[0m\u001b[0;34m\u001b[0m\u001b[0;34m\u001b[0m\u001b[0m\n\u001b[0m",
      "\u001b[0;31mNameError\u001b[0m: name 'grosys' is not defined"
     ]
    }
   ],
   "source": [
    "grosys.top.add_block(blocktitle=\"TITLE\", content=[\"This is a new Title\"])"
   ]
  },
  {
   "cell_type": "code",
   "execution_count": 17,
   "metadata": {
    "execution": {
     "iopub.execute_input": "2022-04-05T13:04:12.500944Z",
     "iopub.status.busy": "2022-04-05T13:04:12.500119Z",
     "iopub.status.idle": "2022-04-05T13:04:12.514971Z",
     "shell.execute_reply": "2022-04-05T13:04:12.512990Z"
    }
   },
   "outputs": [
    {
     "ename": "NameError",
     "evalue": "name 'grosys' is not defined",
     "output_type": "error",
     "traceback": [
      "\u001b[0;31m---------------------------------------------------------------------------\u001b[0m",
      "\u001b[0;31mNameError\u001b[0m                                 Traceback (most recent call last)",
      "\u001b[0;32m/tmp/ipykernel_8008/2483109453.py\u001b[0m in \u001b[0;36m<module>\u001b[0;34m\u001b[0m\n\u001b[0;32m----> 1\u001b[0;31m \u001b[0mgrosys\u001b[0m\u001b[0;34m.\u001b[0m\u001b[0mtop\u001b[0m\u001b[0;34m.\u001b[0m\u001b[0mmake_ordered\u001b[0m\u001b[0;34m(\u001b[0m\u001b[0;34m)\u001b[0m\u001b[0;34m\u001b[0m\u001b[0;34m\u001b[0m\u001b[0m\n\u001b[0m",
      "\u001b[0;31mNameError\u001b[0m: name 'grosys' is not defined"
     ]
    }
   ],
   "source": [
    "grosys.top.make_ordered()"
   ]
  },
  {
   "cell_type": "code",
   "execution_count": 18,
   "metadata": {
    "execution": {
     "iopub.execute_input": "2022-04-05T13:04:12.520382Z",
     "iopub.status.busy": "2022-04-05T13:04:12.519765Z",
     "iopub.status.idle": "2022-04-05T13:04:12.530853Z",
     "shell.execute_reply": "2022-04-05T13:04:12.529213Z"
    }
   },
   "outputs": [
    {
     "ename": "NameError",
     "evalue": "name 'grosys' is not defined",
     "output_type": "error",
     "traceback": [
      "\u001b[0;31m---------------------------------------------------------------------------\u001b[0m",
      "\u001b[0;31mNameError\u001b[0m                                 Traceback (most recent call last)",
      "\u001b[0;32m/tmp/ipykernel_8008/1590183265.py\u001b[0m in \u001b[0;36m<module>\u001b[0;34m\u001b[0m\n\u001b[0;32m----> 1\u001b[0;31m \u001b[0mgrosys\u001b[0m\u001b[0;34m.\u001b[0m\u001b[0mtop\u001b[0m\u001b[0;34m.\u001b[0m\u001b[0mTITLE\u001b[0m\u001b[0;34m\u001b[0m\u001b[0;34m\u001b[0m\u001b[0m\n\u001b[0m",
      "\u001b[0;31mNameError\u001b[0m: name 'grosys' is not defined"
     ]
    }
   ],
   "source": [
    "grosys.top.TITLE"
   ]
  },
  {
   "cell_type": "markdown",
   "metadata": {},
   "source": [
    "For more complexe blocks PyGromosTools provides many functions to modify topologies. For example we could simply add a new soluteatom to the system. This would be relevant if you want to manually add a ion with very specific Nonbonded values to you system. These tools are vary powrful, but don't do any sanity checks on the values or compatibility to your forcefields."
   ]
  },
  {
   "cell_type": "code",
   "execution_count": 19,
   "metadata": {
    "execution": {
     "iopub.execute_input": "2022-04-05T13:04:12.536244Z",
     "iopub.status.busy": "2022-04-05T13:04:12.535440Z",
     "iopub.status.idle": "2022-04-05T13:04:12.550498Z",
     "shell.execute_reply": "2022-04-05T13:04:12.548827Z"
    }
   },
   "outputs": [
    {
     "ename": "NameError",
     "evalue": "name 'grosys' is not defined",
     "output_type": "error",
     "traceback": [
      "\u001b[0;31m---------------------------------------------------------------------------\u001b[0m",
      "\u001b[0;31mNameError\u001b[0m                                 Traceback (most recent call last)",
      "\u001b[0;32m/tmp/ipykernel_8008/2956282460.py\u001b[0m in \u001b[0;36m<module>\u001b[0;34m\u001b[0m\n\u001b[1;32m      1\u001b[0m \u001b[0;31m# We add a ion named 'XX' with charge +1 and certain LJ-Parameters to the main topology\u001b[0m\u001b[0;34m\u001b[0m\u001b[0;34m\u001b[0m\u001b[0m\n\u001b[0;32m----> 2\u001b[0;31m \u001b[0mgrosys\u001b[0m\u001b[0;34m.\u001b[0m\u001b[0mtop\u001b[0m\u001b[0;34m.\u001b[0m\u001b[0madd_new_atom\u001b[0m\u001b[0;34m(\u001b[0m\u001b[0mPANM\u001b[0m\u001b[0;34m=\u001b[0m\u001b[0;34m\"XX\"\u001b[0m\u001b[0;34m,\u001b[0m \u001b[0mCG\u001b[0m\u001b[0;34m=\u001b[0m\u001b[0;36m1\u001b[0m\u001b[0;34m,\u001b[0m \u001b[0mC6\u001b[0m\u001b[0;34m=\u001b[0m\u001b[0;36m1e-3\u001b[0m\u001b[0;34m,\u001b[0m \u001b[0mC12\u001b[0m\u001b[0;34m=\u001b[0m\u001b[0;36m1e-6\u001b[0m\u001b[0;34m,\u001b[0m \u001b[0mverbose\u001b[0m\u001b[0;34m=\u001b[0m\u001b[0;32mTrue\u001b[0m\u001b[0;34m)\u001b[0m\u001b[0;34m\u001b[0m\u001b[0;34m\u001b[0m\u001b[0m\n\u001b[0m",
      "\u001b[0;31mNameError\u001b[0m: name 'grosys' is not defined"
     ]
    }
   ],
   "source": [
    "# We add a ion named 'XX' with charge +1 and certain LJ-Parameters to the main topology\n",
    "grosys.top.add_new_atom(PANM=\"XX\", CG=1, C6=1e-3, C12=1e-6, verbose=True)"
   ]
  },
  {
   "cell_type": "code",
   "execution_count": 20,
   "metadata": {
    "execution": {
     "iopub.execute_input": "2022-04-05T13:04:12.554892Z",
     "iopub.status.busy": "2022-04-05T13:04:12.554539Z",
     "iopub.status.idle": "2022-04-05T13:04:12.568968Z",
     "shell.execute_reply": "2022-04-05T13:04:12.567474Z"
    }
   },
   "outputs": [
    {
     "ename": "NameError",
     "evalue": "name 'grosys' is not defined",
     "output_type": "error",
     "traceback": [
      "\u001b[0;31m---------------------------------------------------------------------------\u001b[0m",
      "\u001b[0;31mNameError\u001b[0m                                 Traceback (most recent call last)",
      "\u001b[0;32m/tmp/ipykernel_8008/3448078290.py\u001b[0m in \u001b[0;36m<module>\u001b[0;34m\u001b[0m\n\u001b[1;32m      1\u001b[0m \u001b[0;31m# Check for the new Atomtype 'XX'\u001b[0m\u001b[0;34m\u001b[0m\u001b[0;34m\u001b[0m\u001b[0m\n\u001b[0;32m----> 2\u001b[0;31m \u001b[0mgrosys\u001b[0m\u001b[0;34m.\u001b[0m\u001b[0mtop\u001b[0m\u001b[0;34m.\u001b[0m\u001b[0mATOMTYPENAME\u001b[0m\u001b[0;34m\u001b[0m\u001b[0;34m\u001b[0m\u001b[0m\n\u001b[0m",
      "\u001b[0;31mNameError\u001b[0m: name 'grosys' is not defined"
     ]
    }
   ],
   "source": [
    "# Check for the new Atomtype 'XX'\n",
    "grosys.top.ATOMTYPENAME"
   ]
  },
  {
   "cell_type": "code",
   "execution_count": 21,
   "metadata": {
    "execution": {
     "iopub.execute_input": "2022-04-05T13:04:12.575063Z",
     "iopub.status.busy": "2022-04-05T13:04:12.573822Z",
     "iopub.status.idle": "2022-04-05T13:04:12.589957Z",
     "shell.execute_reply": "2022-04-05T13:04:12.588293Z"
    }
   },
   "outputs": [
    {
     "ename": "NameError",
     "evalue": "name 'grosys' is not defined",
     "output_type": "error",
     "traceback": [
      "\u001b[0;31m---------------------------------------------------------------------------\u001b[0m",
      "\u001b[0;31mNameError\u001b[0m                                 Traceback (most recent call last)",
      "\u001b[0;32m/tmp/ipykernel_8008/3351878566.py\u001b[0m in \u001b[0;36m<module>\u001b[0;34m\u001b[0m\n\u001b[0;32m----> 1\u001b[0;31m \u001b[0mgrosys\u001b[0m\u001b[0;34m.\u001b[0m\u001b[0mtop\u001b[0m\u001b[0;34m.\u001b[0m\u001b[0mSOLUTEATOM\u001b[0m\u001b[0;34m\u001b[0m\u001b[0;34m\u001b[0m\u001b[0m\n\u001b[0m",
      "\u001b[0;31mNameError\u001b[0m: name 'grosys' is not defined"
     ]
    }
   ],
   "source": [
    "grosys.top.SOLUTEATOM"
   ]
  },
  {
   "cell_type": "code",
   "execution_count": 22,
   "metadata": {
    "execution": {
     "iopub.execute_input": "2022-04-05T13:04:12.594761Z",
     "iopub.status.busy": "2022-04-05T13:04:12.594148Z",
     "iopub.status.idle": "2022-04-05T13:04:12.608065Z",
     "shell.execute_reply": "2022-04-05T13:04:12.606867Z"
    }
   },
   "outputs": [
    {
     "ename": "NameError",
     "evalue": "name 'grosys' is not defined",
     "output_type": "error",
     "traceback": [
      "\u001b[0;31m---------------------------------------------------------------------------\u001b[0m",
      "\u001b[0;31mNameError\u001b[0m                                 Traceback (most recent call last)",
      "\u001b[0;32m/tmp/ipykernel_8008/1101117236.py\u001b[0m in \u001b[0;36m<module>\u001b[0;34m\u001b[0m\n\u001b[0;32m----> 1\u001b[0;31m \u001b[0mgrosys\u001b[0m\u001b[0;34m.\u001b[0m\u001b[0mrebase_files\u001b[0m\u001b[0;34m(\u001b[0m\u001b[0;34m)\u001b[0m\u001b[0;34m\u001b[0m\u001b[0;34m\u001b[0m\u001b[0m\n\u001b[0m",
      "\u001b[0;31mNameError\u001b[0m: name 'grosys' is not defined"
     ]
    }
   ],
   "source": [
    "grosys.rebase_files()"
   ]
  },
  {
   "cell_type": "code",
   "execution_count": null,
   "metadata": {},
   "outputs": [],
   "source": []
  }
 ],
 "metadata": {
  "language_info": {
   "codemirror_mode": {
    "name": "ipython",
    "version": 3
   },
   "file_extension": ".py",
   "mimetype": "text/x-python",
   "name": "python",
   "nbconvert_exporter": "python",
   "pygments_lexer": "ipython3",
   "version": "3.9.7"
  },
  "widgets": {
   "application/vnd.jupyter.widget-state+json": {
    "state": {
     "1e5f45914e3942ef9387383780f977f3": {
      "model_module": "nglview-js-widgets",
      "model_module_version": "3.0.1",
      "model_name": "ColormakerRegistryModel",
      "state": {
       "_dom_classes": [],
       "_model_module": "nglview-js-widgets",
       "_model_module_version": "3.0.1",
       "_model_name": "ColormakerRegistryModel",
       "_msg_ar": [],
       "_msg_q": [],
       "_ready": false,
       "_view_count": null,
       "_view_module": "nglview-js-widgets",
       "_view_module_version": "3.0.1",
       "_view_name": "ColormakerRegistryView",
       "layout": "IPY_MODEL_8d95d6793b7e45f5ab35be9c5023cbe3"
      }
     },
     "8d95d6793b7e45f5ab35be9c5023cbe3": {
      "model_module": "@jupyter-widgets/base",
      "model_module_version": "1.2.0",
      "model_name": "LayoutModel",
      "state": {
       "_model_module": "@jupyter-widgets/base",
       "_model_module_version": "1.2.0",
       "_model_name": "LayoutModel",
       "_view_count": null,
       "_view_module": "@jupyter-widgets/base",
       "_view_module_version": "1.2.0",
       "_view_name": "LayoutView",
       "align_content": null,
       "align_items": null,
       "align_self": null,
       "border": null,
       "bottom": null,
       "display": null,
       "flex": null,
       "flex_flow": null,
       "grid_area": null,
       "grid_auto_columns": null,
       "grid_auto_flow": null,
       "grid_auto_rows": null,
       "grid_column": null,
       "grid_gap": null,
       "grid_row": null,
       "grid_template_areas": null,
       "grid_template_columns": null,
       "grid_template_rows": null,
       "height": null,
       "justify_content": null,
       "justify_items": null,
       "left": null,
       "margin": null,
       "max_height": null,
       "max_width": null,
       "min_height": null,
       "min_width": null,
       "object_fit": null,
       "object_position": null,
       "order": null,
       "overflow": null,
       "overflow_x": null,
       "overflow_y": null,
       "padding": null,
       "right": null,
       "top": null,
       "visibility": null,
       "width": null
      }
     }
    },
    "version_major": 2,
    "version_minor": 0
   }
  }
 },
 "nbformat": 4,
 "nbformat_minor": 2
}
