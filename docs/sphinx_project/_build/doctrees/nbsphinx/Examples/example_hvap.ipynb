{
 "cells": [
  {
   "cell_type": "markdown",
   "metadata": {},
   "source": [
    "# Calculation of free energy of evaporization"
   ]
  },
  {
   "cell_type": "code",
   "execution_count": 1,
   "metadata": {
    "execution": {
     "iopub.execute_input": "2022-04-05T11:53:48.165272Z",
     "iopub.status.busy": "2022-04-05T11:53:48.165014Z",
     "iopub.status.idle": "2022-04-05T11:53:49.249479Z",
     "shell.execute_reply": "2022-04-05T11:53:49.248587Z"
    }
   },
   "outputs": [
    {
     "data": {
      "application/vnd.jupyter.widget-view+json": {
       "model_id": "8f976c13a1fc49fca37c65bf09826360",
       "version_major": 2,
       "version_minor": 0
      },
      "text/plain": []
     },
     "metadata": {},
     "output_type": "display_data"
    }
   ],
   "source": [
    "import os\n",
    "from pygromos.files.forcefield.gromos.gromosff import GromosFF\n",
    "from pygromos.files.gromos_system.gromos_system import Gromos_System\n",
    "from pygromos.simulations.approaches.hvap_calculation.hvap_calculation import Hvap_calculation\n",
    "from pygromos.data.simulation_parameters_templates import template_sd"
   ]
  },
  {
   "cell_type": "code",
   "execution_count": 2,
   "metadata": {
    "execution": {
     "iopub.execute_input": "2022-04-05T11:53:49.254907Z",
     "iopub.status.busy": "2022-04-05T11:53:49.254011Z",
     "iopub.status.idle": "2022-04-05T11:53:49.259415Z",
     "shell.execute_reply": "2022-04-05T11:53:49.258546Z"
    }
   },
   "outputs": [],
   "source": [
    "work_dir=os.getcwd()+\"/example_files/Hvap_files/\"\n",
    "gromosXX_path=None \n",
    "gromosPP_path=None"
   ]
  },
  {
   "cell_type": "code",
   "execution_count": 3,
   "metadata": {
    "execution": {
     "iopub.execute_input": "2022-04-05T11:53:49.263013Z",
     "iopub.status.busy": "2022-04-05T11:53:49.262406Z",
     "iopub.status.idle": "2022-04-05T11:53:51.222817Z",
     "shell.execute_reply": "2022-04-05T11:53:51.221833Z"
    }
   },
   "outputs": [],
   "source": [
    "ff = GromosFF(name=\"54A7\")"
   ]
  },
  {
   "cell_type": "code",
   "execution_count": 4,
   "metadata": {
    "execution": {
     "iopub.execute_input": "2022-04-05T11:53:51.227971Z",
     "iopub.status.busy": "2022-04-05T11:53:51.227134Z",
     "iopub.status.idle": "2022-04-05T11:53:53.758260Z",
     "shell.execute_reply": "2022-04-05T11:53:53.757360Z"
    }
   },
   "outputs": [
    {
     "name": "stderr",
     "output_type": "stream",
     "text": [
      "/home/mlehner/PyGromosTools/pygromos/files/forcefield/gromos/gromosff.py:54: UserWarning: Could not create topology, gromos binaries not found\n",
      "  warnings.warn(\"Could not create topology, gromos binaries not found\")\n"
     ]
    }
   ],
   "source": [
    "groSys = Gromos_System(work_folder=work_dir+\"init/\", system_name=\"Hvap_test\", in_smiles=\"O\", in_residue_list=[\"H2O\"],\n",
    "                       auto_convert=True, forcefield=ff, in_imd_path=template_sd,\n",
    "                       in_gromosPP_bin_dir=gromosPP_path, in_gromosXX_bin_dir=gromosXX_path)"
   ]
  },
  {
   "cell_type": "code",
   "execution_count": 5,
   "metadata": {
    "execution": {
     "iopub.execute_input": "2022-04-05T11:53:53.760606Z",
     "iopub.status.busy": "2022-04-05T11:53:53.760401Z",
     "iopub.status.idle": "2022-04-05T11:54:02.204723Z",
     "shell.execute_reply": "2022-04-05T11:54:02.203648Z"
    }
   },
   "outputs": [
    {
     "name": "stderr",
     "output_type": "stream",
     "text": [
      "/home/mlehner/PyGromosTools/pygromos/simulations/approaches/hvap_calculation/hvap_calculation.py:99: UserWarning: Folder does already exist\n",
      "  warnings.warn(\"Folder does already exist\")\n"
     ]
    }
   ],
   "source": [
    "hvap_sys=Hvap_calculation(input_system=groSys, work_folder=work_dir+\"hvap\", forcefield=ff, system_name=\"test\", useGromosPlsPls=True)"
   ]
  },
  {
   "cell_type": "code",
   "execution_count": 6,
   "metadata": {
    "execution": {
     "iopub.execute_input": "2022-04-05T11:54:02.208523Z",
     "iopub.status.busy": "2022-04-05T11:54:02.208164Z",
     "iopub.status.idle": "2022-04-05T11:54:02.656482Z",
     "shell.execute_reply": "2022-04-05T11:54:02.655453Z"
    }
   },
   "outputs": [
    {
     "name": "stdout",
     "output_type": "stream",
     "text": [
      "SubProcess Failed due to returncode: 1\n",
      " COMMAND: \n",
      "\tcom_top @topo 512:/home/mlehner/PyGromosTools/docs/sphinx_project/Examples/example_files/Hvap_files/hvap/test_gas/Hvap_test.top @param 1 @solv 1\n",
      "STDOUT:\n",
      "\tNONE\n",
      "STDERR:\n",
      "\tNONE\n",
      "ran_box @topo /home/mlehner/PyGromosTools/docs/sphinx_project/Examples/example_files/Hvap_files/hvap/test_gas/Hvap_test.top @pbc r @pos /home/mlehner/PyGromosTools/docs/sphinx_project/Examples/example_files/Hvap_files/hvap/test_gas/Hvap_test.cnf @nsm 512 @dens 489.99999999999994  @thresh 0.12 @layer  > /home/mlehner/PyGromosTools/docs/sphinx_project/Examples/example_files/Hvap_files/hvap/temp.cnf \n",
      "\n"
     ]
    },
    {
     "ename": "ChildProcessError",
     "evalue": "SubProcess Failed due to returncode: 1\n COMMAND: \n\tran_box @topo /home/mlehner/PyGromosTools/docs/sphinx_project/Examples/example_files/Hvap_files/hvap/test_gas/Hvap_test.top @pbc r @pos /home/mlehner/PyGromosTools/docs/sphinx_project/Examples/example_files/Hvap_files/hvap/test_gas/Hvap_test.cnf @nsm 512 @dens 489.99999999999994  @thresh 0.12 @layer  > /home/mlehner/PyGromosTools/docs/sphinx_project/Examples/example_files/Hvap_files/hvap/temp.cnf \n\nSTDOUT:\n\t\nSTDERR:\n\tb'WARNING: No topology given or no value for atomic_mass_unit in topology file.\\n'\n\tb'         Setting atomic_mass_unit to hardcoded value from gmath/Physics.cc:\\n'\n\tb'         atomic_mass_unit = 1.66054e-27\\n'\n\tb'Ginstream: TITLE block expected. Found: \\n'",
     "output_type": "error",
     "traceback": [
      "\u001b[0;31m---------------------------------------------------------------------------\u001b[0m",
      "\u001b[0;31mChildProcessError\u001b[0m                         Traceback (most recent call last)",
      "\u001b[0;32m/tmp/ipykernel_9095/3907949876.py\u001b[0m in \u001b[0;36m<module>\u001b[0;34m\u001b[0m\n\u001b[0;32m----> 1\u001b[0;31m \u001b[0mhvap_sys\u001b[0m\u001b[0;34m.\u001b[0m\u001b[0mcreate_liq\u001b[0m\u001b[0;34m(\u001b[0m\u001b[0;34m)\u001b[0m\u001b[0;34m\u001b[0m\u001b[0;34m\u001b[0m\u001b[0m\n\u001b[0m",
      "\u001b[0;32m~/PyGromosTools/pygromos/simulations/approaches/hvap_calculation/hvap_calculation.py\u001b[0m in \u001b[0;36mcreate_liq\u001b[0;34m(self)\u001b[0m\n\u001b[1;32m    160\u001b[0m         \u001b[0;31m# create liq cnf\u001b[0m\u001b[0;34m\u001b[0m\u001b[0;34m\u001b[0m\u001b[0m\n\u001b[1;32m    161\u001b[0m         \u001b[0;32mif\u001b[0m \u001b[0mself\u001b[0m\u001b[0;34m.\u001b[0m\u001b[0museGromosPlsPls\u001b[0m\u001b[0;34m:\u001b[0m\u001b[0;34m\u001b[0m\u001b[0;34m\u001b[0m\u001b[0m\n\u001b[0;32m--> 162\u001b[0;31m             self.gromosPP.ran_box(\n\u001b[0m\u001b[1;32m    163\u001b[0m                 \u001b[0min_top_path\u001b[0m\u001b[0;34m=\u001b[0m\u001b[0mself\u001b[0m\u001b[0;34m.\u001b[0m\u001b[0mgroSys_gas\u001b[0m\u001b[0;34m.\u001b[0m\u001b[0mtop\u001b[0m\u001b[0;34m.\u001b[0m\u001b[0mpath\u001b[0m\u001b[0;34m,\u001b[0m\u001b[0;34m\u001b[0m\u001b[0;34m\u001b[0m\u001b[0m\n\u001b[1;32m    164\u001b[0m                 \u001b[0min_cnf_path\u001b[0m\u001b[0;34m=\u001b[0m\u001b[0mself\u001b[0m\u001b[0;34m.\u001b[0m\u001b[0mgroSys_gas\u001b[0m\u001b[0;34m.\u001b[0m\u001b[0mcnf\u001b[0m\u001b[0;34m.\u001b[0m\u001b[0mpath\u001b[0m\u001b[0;34m,\u001b[0m\u001b[0;34m\u001b[0m\u001b[0;34m\u001b[0m\u001b[0m\n",
      "\u001b[0;32m~/PyGromosTools/pygromos/gromos/_gromosClass.py\u001b[0m in \u001b[0;36mconvert_pyGromos_types\u001b[0;34m(self, *args, **kwargs)\u001b[0m\n\u001b[1;32m     76\u001b[0m \u001b[0;34m\u001b[0m\u001b[0m\n\u001b[1;32m     77\u001b[0m             \u001b[0;31m# print(\"Converter2: \", func.__name__, self, nargs, kwargs)\u001b[0m\u001b[0;34m\u001b[0m\u001b[0;34m\u001b[0m\u001b[0m\n\u001b[0;32m---> 78\u001b[0;31m             \u001b[0;32mreturn\u001b[0m \u001b[0mfunc\u001b[0m\u001b[0;34m(\u001b[0m\u001b[0mself\u001b[0m\u001b[0;34m,\u001b[0m \u001b[0;34m*\u001b[0m\u001b[0mnargs\u001b[0m\u001b[0;34m,\u001b[0m \u001b[0;34m**\u001b[0m\u001b[0mkwargs\u001b[0m\u001b[0;34m)\u001b[0m\u001b[0;34m\u001b[0m\u001b[0;34m\u001b[0m\u001b[0m\n\u001b[0m\u001b[1;32m     79\u001b[0m \u001b[0;34m\u001b[0m\u001b[0m\n\u001b[1;32m     80\u001b[0m         \u001b[0;32mreturn\u001b[0m \u001b[0mconvert_pyGromos_types\u001b[0m\u001b[0;34m\u001b[0m\u001b[0;34m\u001b[0m\u001b[0m\n",
      "\u001b[0;32m~/PyGromosTools/pygromos/gromos/gromosPP.py\u001b[0m in \u001b[0;36mran_box\u001b[0;34m(self, in_top_path, in_cnf_path, out_cnf_path, periodic_boundary_condition, nmolecule, dens, threshold, layer, boxsize, fixfirst, seed, _binary_name, verbose, return_command_only)\u001b[0m\n\u001b[1;32m    984\u001b[0m         \u001b[0;32mif\u001b[0m \u001b[0;32mnot\u001b[0m \u001b[0mreturn_command_only\u001b[0m\u001b[0;34m:\u001b[0m\u001b[0;34m\u001b[0m\u001b[0;34m\u001b[0m\u001b[0m\n\u001b[1;32m    985\u001b[0m             \u001b[0mprint\u001b[0m\u001b[0;34m(\u001b[0m\u001b[0mcommand\u001b[0m\u001b[0;34m)\u001b[0m\u001b[0;34m\u001b[0m\u001b[0;34m\u001b[0m\u001b[0m\n\u001b[0;32m--> 986\u001b[0;31m             \u001b[0mbash\u001b[0m\u001b[0;34m.\u001b[0m\u001b[0mexecute\u001b[0m\u001b[0;34m(\u001b[0m\u001b[0mcommand\u001b[0m\u001b[0;34m,\u001b[0m \u001b[0mverbose\u001b[0m\u001b[0;34m=\u001b[0m\u001b[0mverbose\u001b[0m\u001b[0;34m)\u001b[0m\u001b[0;34m\u001b[0m\u001b[0;34m\u001b[0m\u001b[0m\n\u001b[0m\u001b[1;32m    987\u001b[0m             \u001b[0;32mreturn\u001b[0m \u001b[0mout_cnf_path\u001b[0m\u001b[0;34m\u001b[0m\u001b[0;34m\u001b[0m\u001b[0m\n\u001b[1;32m    988\u001b[0m         \u001b[0;32melse\u001b[0m\u001b[0;34m:\u001b[0m\u001b[0;34m\u001b[0m\u001b[0;34m\u001b[0m\u001b[0m\n",
      "\u001b[0;32m~/PyGromosTools/pygromos/utils/bash.py\u001b[0m in \u001b[0;36mexecute\u001b[0;34m(command, verbose, catch_STD, env)\u001b[0m\n\u001b[1;32m    933\u001b[0m     \u001b[0mcommand\u001b[0m\u001b[0;34m:\u001b[0m \u001b[0mUnion\u001b[0m\u001b[0;34m[\u001b[0m\u001b[0mstr\u001b[0m\u001b[0;34m,\u001b[0m \u001b[0mList\u001b[0m\u001b[0;34m[\u001b[0m\u001b[0mstr\u001b[0m\u001b[0;34m]\u001b[0m\u001b[0;34m]\u001b[0m\u001b[0;34m,\u001b[0m \u001b[0mverbose\u001b[0m\u001b[0;34m:\u001b[0m \u001b[0mbool\u001b[0m \u001b[0;34m=\u001b[0m \u001b[0;32mFalse\u001b[0m\u001b[0;34m,\u001b[0m \u001b[0mcatch_STD\u001b[0m\u001b[0;34m:\u001b[0m \u001b[0mUnion\u001b[0m\u001b[0;34m[\u001b[0m\u001b[0mbool\u001b[0m\u001b[0;34m,\u001b[0m \u001b[0mstr\u001b[0m\u001b[0;34m]\u001b[0m \u001b[0;34m=\u001b[0m \u001b[0;32mFalse\u001b[0m\u001b[0;34m,\u001b[0m \u001b[0menv\u001b[0m\u001b[0;34m:\u001b[0m \u001b[0mdict\u001b[0m \u001b[0;34m=\u001b[0m \u001b[0;32mNone\u001b[0m\u001b[0;34m\u001b[0m\u001b[0;34m\u001b[0m\u001b[0m\n\u001b[1;32m    934\u001b[0m ):\n\u001b[0;32m--> 935\u001b[0;31m     \u001b[0;32mreturn\u001b[0m \u001b[0mexecute_subprocess\u001b[0m\u001b[0;34m(\u001b[0m\u001b[0mcommand\u001b[0m\u001b[0;34m=\u001b[0m\u001b[0mcommand\u001b[0m\u001b[0;34m,\u001b[0m \u001b[0mverbose\u001b[0m\u001b[0;34m=\u001b[0m\u001b[0mverbose\u001b[0m\u001b[0;34m,\u001b[0m \u001b[0mcatch_STD\u001b[0m\u001b[0;34m=\u001b[0m\u001b[0mcatch_STD\u001b[0m\u001b[0;34m,\u001b[0m \u001b[0menv\u001b[0m\u001b[0;34m=\u001b[0m\u001b[0menv\u001b[0m\u001b[0;34m)\u001b[0m\u001b[0;34m\u001b[0m\u001b[0;34m\u001b[0m\u001b[0m\n\u001b[0m\u001b[1;32m    936\u001b[0m \u001b[0;34m\u001b[0m\u001b[0m\n\u001b[1;32m    937\u001b[0m \u001b[0;34m\u001b[0m\u001b[0m\n",
      "\u001b[0;32m~/PyGromosTools/pygromos/utils/bash.py\u001b[0m in \u001b[0;36mexecute_subprocess\u001b[0;34m(command, catch_STD, env, verbose)\u001b[0m\n\u001b[1;32m    827\u001b[0m         \u001b[0mmsg\u001b[0m \u001b[0;34m+=\u001b[0m \u001b[0;34m\"\\nSTDERR:\\n\\t\"\u001b[0m\u001b[0;34m\u001b[0m\u001b[0;34m\u001b[0m\u001b[0m\n\u001b[1;32m    828\u001b[0m         \u001b[0mmsg\u001b[0m \u001b[0;34m+=\u001b[0m \u001b[0;34m\"NONE\"\u001b[0m \u001b[0;32mif\u001b[0m \u001b[0;34m(\u001b[0m\u001b[0mp\u001b[0m\u001b[0;34m.\u001b[0m\u001b[0mstdout\u001b[0m \u001b[0;32mis\u001b[0m \u001b[0;32mNone\u001b[0m\u001b[0;34m)\u001b[0m \u001b[0;32melse\u001b[0m \u001b[0;34m\"\\n\\t\"\u001b[0m\u001b[0;34m.\u001b[0m\u001b[0mjoin\u001b[0m\u001b[0;34m(\u001b[0m\u001b[0mmap\u001b[0m\u001b[0;34m(\u001b[0m\u001b[0mstr\u001b[0m\u001b[0;34m,\u001b[0m \u001b[0mp\u001b[0m\u001b[0;34m.\u001b[0m\u001b[0mstderr\u001b[0m\u001b[0;34m.\u001b[0m\u001b[0mreadlines\u001b[0m\u001b[0;34m(\u001b[0m\u001b[0;34m)\u001b[0m\u001b[0;34m)\u001b[0m\u001b[0;34m)\u001b[0m\u001b[0;34m\u001b[0m\u001b[0;34m\u001b[0m\u001b[0m\n\u001b[0;32m--> 829\u001b[0;31m         \u001b[0;32mraise\u001b[0m \u001b[0mChildProcessError\u001b[0m\u001b[0;34m(\u001b[0m\u001b[0mmsg\u001b[0m\u001b[0;34m)\u001b[0m\u001b[0;34m\u001b[0m\u001b[0;34m\u001b[0m\u001b[0m\n\u001b[0m\u001b[1;32m    830\u001b[0m     \u001b[0;32mif\u001b[0m \u001b[0mverbose\u001b[0m\u001b[0;34m:\u001b[0m\u001b[0;34m\u001b[0m\u001b[0;34m\u001b[0m\u001b[0m\n\u001b[1;32m    831\u001b[0m         \u001b[0mprint\u001b[0m\u001b[0;34m(\u001b[0m\u001b[0;34m\"RETURN: \"\u001b[0m\u001b[0;34m,\u001b[0m \u001b[0mr\u001b[0m\u001b[0;34m)\u001b[0m\u001b[0;34m\u001b[0m\u001b[0;34m\u001b[0m\u001b[0m\n",
      "\u001b[0;31mChildProcessError\u001b[0m: SubProcess Failed due to returncode: 1\n COMMAND: \n\tran_box @topo /home/mlehner/PyGromosTools/docs/sphinx_project/Examples/example_files/Hvap_files/hvap/test_gas/Hvap_test.top @pbc r @pos /home/mlehner/PyGromosTools/docs/sphinx_project/Examples/example_files/Hvap_files/hvap/test_gas/Hvap_test.cnf @nsm 512 @dens 489.99999999999994  @thresh 0.12 @layer  > /home/mlehner/PyGromosTools/docs/sphinx_project/Examples/example_files/Hvap_files/hvap/temp.cnf \n\nSTDOUT:\n\t\nSTDERR:\n\tb'WARNING: No topology given or no value for atomic_mass_unit in topology file.\\n'\n\tb'         Setting atomic_mass_unit to hardcoded value from gmath/Physics.cc:\\n'\n\tb'         atomic_mass_unit = 1.66054e-27\\n'\n\tb'Ginstream: TITLE block expected. Found: \\n'"
     ]
    }
   ],
   "source": [
    "hvap_sys.create_liq()"
   ]
  },
  {
   "cell_type": "code",
   "execution_count": 7,
   "metadata": {
    "execution": {
     "iopub.execute_input": "2022-04-05T11:54:02.660758Z",
     "iopub.status.busy": "2022-04-05T11:54:02.660444Z",
     "iopub.status.idle": "2022-04-05T11:54:27.942919Z",
     "shell.execute_reply": "2022-04-05T11:54:27.942111Z"
    }
   },
   "outputs": [
    {
     "name": "stdout",
     "output_type": "stream",
     "text": [
      "################################################################################\n",
      "\n",
      "1_emin\n",
      "################################################################################\n",
      "\n",
      "============================================================\n",
      "FOUND RESULT: /home/mlehner/PyGromosTools/docs/sphinx_project/Examples/example_files/Hvap_files/hvap/test_gas/1_emin/analysis/data/1_emin.cnf\n",
      " GOING TO SKIPT THIS SUBMISSION!\n"
     ]
    },
    {
     "name": "stdout",
     "output_type": "stream",
     "text": [
      "################################################################################\n",
      "\n",
      "2_eq\n",
      "################################################################################\n",
      "\n",
      "============================================================\n",
      "FOUND RESULT: /home/mlehner/PyGromosTools/docs/sphinx_project/Examples/example_files/Hvap_files/hvap/test_gas/2_eq/analysis/data/2_eq.cnf\n",
      " GOING TO SKIPT THIS SUBMISSION!\n"
     ]
    },
    {
     "name": "stdout",
     "output_type": "stream",
     "text": [
      "################################################################################\n",
      "\n",
      "3_sd\n",
      "################################################################################\n",
      "\n",
      "============================================================\n",
      "FOUND RESULT: /home/mlehner/PyGromosTools/docs/sphinx_project/Examples/example_files/Hvap_files/hvap/test_gas/3_sd/analysis/data/3_sd.cnf\n",
      " GOING TO SKIPT THIS SUBMISSION!\n"
     ]
    }
   ],
   "source": [
    "hvap_sys.run_gas()"
   ]
  },
  {
   "cell_type": "code",
   "execution_count": 8,
   "metadata": {
    "execution": {
     "iopub.execute_input": "2022-04-05T11:54:27.945520Z",
     "iopub.status.busy": "2022-04-05T11:54:27.945077Z",
     "iopub.status.idle": "2022-04-05T11:54:58.656400Z",
     "shell.execute_reply": "2022-04-05T11:54:58.655402Z"
    }
   },
   "outputs": [
    {
     "name": "stdout",
     "output_type": "stream",
     "text": [
      "################################################################################\n",
      "\n",
      "1_emin\n",
      "################################################################################\n",
      "\n",
      "============================================================\n",
      "FOUND RESULT: /home/mlehner/PyGromosTools/docs/sphinx_project/Examples/example_files/Hvap_files/hvap/test_liq/1_emin/analysis/data/1_emin.cnf\n",
      " GOING TO SKIPT THIS SUBMISSION!\n"
     ]
    },
    {
     "name": "stdout",
     "output_type": "stream",
     "text": [
      "################################################################################\n",
      "\n",
      "2_eq\n",
      "################################################################################\n",
      "\n",
      "============================================================\n",
      "FOUND RESULT: /home/mlehner/PyGromosTools/docs/sphinx_project/Examples/example_files/Hvap_files/hvap/test_liq/2_eq/analysis/data/2_eq.cnf\n",
      " GOING TO SKIPT THIS SUBMISSION!\n"
     ]
    },
    {
     "name": "stdout",
     "output_type": "stream",
     "text": [
      "################################################################################\n",
      "\n",
      "3_sd\n",
      "################################################################################\n",
      "\n",
      "Script:  /home/mlehner/PyGromosTools/pygromos/simulations/hpc_queuing/job_scheduling/schedulers/simulation_scheduler.py\n",
      "\n",
      "################################################################################\n",
      "Simulation Setup:\n",
      "################################################################################\n",
      "\n",
      "steps_per_run:  50000\n",
      "equis:  0\n",
      "simulation runs:  1\n"
     ]
    },
    {
     "name": "stdout",
     "output_type": "stream",
     "text": [
      "#####################################################################################\n",
      "\t\tERROR in Submission\n",
      "#####################################################################################\n"
     ]
    },
    {
     "name": "stderr",
     "output_type": "stream",
     "text": [
      "Traceback (most recent call last):\n",
      "  File \"/home/mlehner/PyGromosTools/pygromos/simulations/hpc_queuing/submission_systems/local.py\", line 71, in submit_to_queue\n",
      "    process = bash.execute(command=command, catch_STD=True, env=self.environment)\n",
      "  File \"/home/mlehner/PyGromosTools/pygromos/utils/bash.py\", line 935, in execute\n",
      "    return execute_subprocess(command=command, verbose=verbose, catch_STD=catch_STD, env=env)\n",
      "  File \"/home/mlehner/PyGromosTools/pygromos/utils/bash.py\", line 829, in execute_subprocess\n",
      "    raise ChildProcessError(msg)\n",
      "ChildProcessError: SubProcess Failed due to returncode: 1\n",
      " COMMAND: \n",
      "\t/home/mlehner/PyGromosTools/docs/sphinx_project/Examples/example_files/Hvap_files/hvap/test_liq/3_sd/simulation/3_sd_1/job_3_sd_1.sh\n",
      "STDOUT:\n",
      "\tb'Could not find TMPDIR!\\n'\n",
      "\tb' Switched to outdir for work\\n'\n",
      "\tb'workDIR: /home/mlehner/PyGromosTools/docs/sphinx_project/Examples/example_files/Hvap_files/hvap/test_liq/3_sd/simulation/3_sd_1\\n'\n",
      "\tb\"input:  <class 'str'> None\\n\"\n",
      "\tb\"gromosXX._bin:  <class 'str'> \\n\"\n",
      "\tb\"gromosXX.bin:  <class 'NoneType'> None\\n\"\n",
      "\tb'________________________________________\\n'\n",
      "\tb'\\n'\n",
      "\tb' start MD 3_sd_1.imd\\n'\n",
      "\tb'\\n'\n",
      "\tb'COMMAND:  export OMP_NUM_THREADS=4  &&  md @topo /home/mlehner/PyGromosTools/docs/sphinx_project/Examples/example_files/Hvap_files/hvap/test_liq/3_sd/input/3_sd.top @conf /home/mlehner/PyGromosTools/docs/sphinx_project/Examples/example_files/Hvap_files/hvap/test_liq/3_sd/input/3_sd.cnf @input /home/mlehner/PyGromosTools/docs/sphinx_project/Examples/example_files/Hvap_files/hvap/test_liq/3_sd/simulation/3_sd_1/3_sd_1.imd @fin 3_sd_1.cnf @trc 3_sd_1.trc @tre 3_sd_1.tre > 3_sd_1.omd\\n'\n",
      "\tb'\\n'\n",
      "\tb'Failed! process returned: \\n'\n",
      "\tb' Err: \\n'\n",
      "\tb'SubProcess Failed due to returncode: 139\\n'\n",
      "\tb' COMMAND: \\n'\n",
      "\tb'\\texport OMP_NUM_THREADS=4  &&  md @topo /home/mlehner/PyGromosTools/docs/sphinx_project/Examples/example_files/Hvap_files/hvap/test_liq/3_sd/input/3_sd.top @conf /home/mlehner/PyGromosTools/docs/sphinx_project/Examples/example_files/Hvap_files/hvap/test_liq/3_sd/input/3_sd.cnf @input /home/mlehner/PyGromosTools/docs/sphinx_project/Examples/example_files/Hvap_files/hvap/test_liq/3_sd/simulation/3_sd_1/3_sd_1.imd @fin 3_sd_1.cnf @trc 3_sd_1.trc @tre 3_sd_1.tre > 3_sd_1.omd\\n'\n",
      "\tb'\\n'\n",
      "\tb'STDOUT:\\n'\n",
      "\tb'\\t\\n'\n",
      "\tb'STDERR:\\n'\n",
      "\tb\"\\tb'Segmentation fault\\\\n'\\n\"\n",
      "\tb'GROMOS OUTPUT:\\n'\n",
      "STDERR:\n",
      "\tb'Traceback (most recent call last):\\n'\n",
      "\tb'  File \"/home/mlehner/PyGromosTools/pygromos/simulations/hpc_queuing/job_scheduling/workers/simulation_workers/simulation_run_worker.py\", line 202, in work\\n'\n",
      "\tb'    omd_file_path = gromosXX.md_run(\\n'\n",
      "\tb'  File \"/home/mlehner/PyGromosTools/pygromos/gromos/_gromosClass.py\", line 78, in convert_pyGromos_types\\n'\n",
      "\tb'    return func(self, *nargs, **kwargs)\\n'\n",
      "\tb'  File \"/home/mlehner/PyGromosTools/pygromos/gromos/gromosXX.py\", line 215, in md_run\\n'\n",
      "\tb'    process = bash.execute(command_text)\\n'\n",
      "\tb'  File \"/home/mlehner/PyGromosTools/pygromos/utils/bash.py\", line 935, in execute\\n'\n",
      "\tb'    return execute_subprocess(command=command, verbose=verbose, catch_STD=catch_STD, env=env)\\n'\n",
      "\tb'  File \"/home/mlehner/PyGromosTools/pygromos/utils/bash.py\", line 829, in execute_subprocess\\n'\n",
      "\tb'    raise ChildProcessError(msg)\\n'\n",
      "\tb'ChildProcessError: SubProcess Failed due to returncode: 139\\n'\n",
      "\tb' COMMAND: \\n'\n",
      "\tb'\\texport OMP_NUM_THREADS=4  &&  md @topo /home/mlehner/PyGromosTools/docs/sphinx_project/Examples/example_files/Hvap_files/hvap/test_liq/3_sd/input/3_sd.top @conf /home/mlehner/PyGromosTools/docs/sphinx_project/Examples/example_files/Hvap_files/hvap/test_liq/3_sd/input/3_sd.cnf @input /home/mlehner/PyGromosTools/docs/sphinx_project/Examples/example_files/Hvap_files/hvap/test_liq/3_sd/simulation/3_sd_1/3_sd_1.imd @fin 3_sd_1.cnf @trc 3_sd_1.trc @tre 3_sd_1.tre > 3_sd_1.omd\\n'\n",
      "\tb'\\n'\n",
      "\tb'STDOUT:\\n'\n",
      "\tb'\\t\\n'\n",
      "\tb'STDERR:\\n'\n",
      "\tb\"\\tb'Segmentation fault\\\\n'\\n\"\n",
      "\tb'\\n'\n",
      "\tb'Failed during simulations: \\n'\n",
      "\tb\"<class 'ChildProcessError'>\\n\"\n",
      "\tb'(\"SubProcess Failed due to returncode: 139\\\\n COMMAND: \\\\n\\\\texport OMP_NUM_THREADS=4  &&  md @topo /home/mlehner/PyGromosTools/docs/sphinx_project/Examples/example_files/Hvap_files/hvap/test_liq/3_sd/input/3_sd.top @conf /home/mlehner/PyGromosTools/docs/sphinx_project/Examples/example_files/Hvap_files/hvap/test_liq/3_sd/input/3_sd.cnf @input /home/mlehner/PyGromosTools/docs/sphinx_project/Examples/example_files/Hvap_files/hvap/test_liq/3_sd/simulation/3_sd_1/3_sd_1.imd @fin 3_sd_1.cnf @trc 3_sd_1.trc @tre 3_sd_1.tre > 3_sd_1.omd\\\\n\\\\nSTDOUT:\\\\n\\\\t\\\\nSTDERR:\\\\n\\\\tb\\'Segmentation fault\\\\\\\\n\\'\",)\\n'\n",
      "\n",
      "During handling of the above exception, another exception occurred:\n",
      "\n",
      "Traceback (most recent call last):\n",
      "  File \"/home/mlehner/PyGromosTools/pygromos/simulations/hpc_queuing/job_scheduling/schedulers/simulation_scheduler.py\", line 188, in do\n",
      "    previous_job_ID, tmp_jobname, in_simSystem = chain_submission(\n",
      "  File \"/home/mlehner/PyGromosTools/pygromos/simulations/hpc_queuing/job_scheduling/schedulers/scheduler_functions.py\", line 308, in chain_submission\n",
      "    previous_job_ID = job_submission_system.submit_to_queue(sub_job)\n",
      "  File \"/home/mlehner/PyGromosTools/pygromos/simulations/hpc_queuing/submission_systems/local.py\", line 84, in submit_to_queue\n",
      "    print(process)\n",
      "UnboundLocalError: local variable 'process' referenced before assignment\n",
      "Traceback (most recent call last):\n",
      "  File \"/home/mlehner/PyGromosTools/pygromos/simulations/hpc_queuing/submission_systems/local.py\", line 71, in submit_to_queue\n",
      "    process = bash.execute(command=command, catch_STD=True, env=self.environment)\n",
      "  File \"/home/mlehner/PyGromosTools/pygromos/utils/bash.py\", line 935, in execute\n",
      "    return execute_subprocess(command=command, verbose=verbose, catch_STD=catch_STD, env=env)\n",
      "  File \"/home/mlehner/PyGromosTools/pygromos/utils/bash.py\", line 829, in execute_subprocess\n",
      "    raise ChildProcessError(msg)\n",
      "ChildProcessError: SubProcess Failed due to returncode: 1\n",
      " COMMAND: \n",
      "\t/home/mlehner/PyGromosTools/docs/sphinx_project/Examples/example_files/Hvap_files/hvap/test_liq/3_sd/simulation/3_sd_1/job_3_sd_1.sh\n",
      "STDOUT:\n",
      "\tb'Could not find TMPDIR!\\n'\n",
      "\tb' Switched to outdir for work\\n'\n",
      "\tb'workDIR: /home/mlehner/PyGromosTools/docs/sphinx_project/Examples/example_files/Hvap_files/hvap/test_liq/3_sd/simulation/3_sd_1\\n'\n",
      "\tb\"input:  <class 'str'> None\\n\"\n",
      "\tb\"gromosXX._bin:  <class 'str'> \\n\"\n",
      "\tb\"gromosXX.bin:  <class 'NoneType'> None\\n\"\n",
      "\tb'________________________________________\\n'\n",
      "\tb'\\n'\n",
      "\tb' start MD 3_sd_1.imd\\n'\n",
      "\tb'\\n'\n",
      "\tb'COMMAND:  export OMP_NUM_THREADS=4  &&  md @topo /home/mlehner/PyGromosTools/docs/sphinx_project/Examples/example_files/Hvap_files/hvap/test_liq/3_sd/input/3_sd.top @conf /home/mlehner/PyGromosTools/docs/sphinx_project/Examples/example_files/Hvap_files/hvap/test_liq/3_sd/input/3_sd.cnf @input /home/mlehner/PyGromosTools/docs/sphinx_project/Examples/example_files/Hvap_files/hvap/test_liq/3_sd/simulation/3_sd_1/3_sd_1.imd @fin 3_sd_1.cnf @trc 3_sd_1.trc @tre 3_sd_1.tre > 3_sd_1.omd\\n'\n",
      "\tb'\\n'\n",
      "\tb'Failed! process returned: \\n'\n",
      "\tb' Err: \\n'\n",
      "\tb'SubProcess Failed due to returncode: 139\\n'\n",
      "\tb' COMMAND: \\n'\n",
      "\tb'\\texport OMP_NUM_THREADS=4  &&  md @topo /home/mlehner/PyGromosTools/docs/sphinx_project/Examples/example_files/Hvap_files/hvap/test_liq/3_sd/input/3_sd.top @conf /home/mlehner/PyGromosTools/docs/sphinx_project/Examples/example_files/Hvap_files/hvap/test_liq/3_sd/input/3_sd.cnf @input /home/mlehner/PyGromosTools/docs/sphinx_project/Examples/example_files/Hvap_files/hvap/test_liq/3_sd/simulation/3_sd_1/3_sd_1.imd @fin 3_sd_1.cnf @trc 3_sd_1.trc @tre 3_sd_1.tre > 3_sd_1.omd\\n'\n",
      "\tb'\\n'\n",
      "\tb'STDOUT:\\n'\n",
      "\tb'\\t\\n'\n",
      "\tb'STDERR:\\n'\n",
      "\tb\"\\tb'Segmentation fault\\\\n'\\n\"\n",
      "\tb'GROMOS OUTPUT:\\n'\n",
      "STDERR:\n",
      "\tb'Traceback (most recent call last):\\n'\n",
      "\tb'  File \"/home/mlehner/PyGromosTools/pygromos/simulations/hpc_queuing/job_scheduling/workers/simulation_workers/simulation_run_worker.py\", line 202, in work\\n'\n",
      "\tb'    omd_file_path = gromosXX.md_run(\\n'\n",
      "\tb'  File \"/home/mlehner/PyGromosTools/pygromos/gromos/_gromosClass.py\", line 78, in convert_pyGromos_types\\n'\n",
      "\tb'    return func(self, *nargs, **kwargs)\\n'\n",
      "\tb'  File \"/home/mlehner/PyGromosTools/pygromos/gromos/gromosXX.py\", line 215, in md_run\\n'\n",
      "\tb'    process = bash.execute(command_text)\\n'\n",
      "\tb'  File \"/home/mlehner/PyGromosTools/pygromos/utils/bash.py\", line 935, in execute\\n'\n",
      "\tb'    return execute_subprocess(command=command, verbose=verbose, catch_STD=catch_STD, env=env)\\n'\n",
      "\tb'  File \"/home/mlehner/PyGromosTools/pygromos/utils/bash.py\", line 829, in execute_subprocess\\n'\n",
      "\tb'    raise ChildProcessError(msg)\\n'\n",
      "\tb'ChildProcessError: SubProcess Failed due to returncode: 139\\n'\n",
      "\tb' COMMAND: \\n'\n",
      "\tb'\\texport OMP_NUM_THREADS=4  &&  md @topo /home/mlehner/PyGromosTools/docs/sphinx_project/Examples/example_files/Hvap_files/hvap/test_liq/3_sd/input/3_sd.top @conf /home/mlehner/PyGromosTools/docs/sphinx_project/Examples/example_files/Hvap_files/hvap/test_liq/3_sd/input/3_sd.cnf @input /home/mlehner/PyGromosTools/docs/sphinx_project/Examples/example_files/Hvap_files/hvap/test_liq/3_sd/simulation/3_sd_1/3_sd_1.imd @fin 3_sd_1.cnf @trc 3_sd_1.trc @tre 3_sd_1.tre > 3_sd_1.omd\\n'\n",
      "\tb'\\n'\n",
      "\tb'STDOUT:\\n'\n",
      "\tb'\\t\\n'\n",
      "\tb'STDERR:\\n'\n",
      "\tb\"\\tb'Segmentation fault\\\\n'\\n\"\n",
      "\tb'\\n'\n",
      "\tb'Failed during simulations: \\n'\n",
      "\tb\"<class 'ChildProcessError'>\\n\"\n",
      "\tb'(\"SubProcess Failed due to returncode: 139\\\\n COMMAND: \\\\n\\\\texport OMP_NUM_THREADS=4  &&  md @topo /home/mlehner/PyGromosTools/docs/sphinx_project/Examples/example_files/Hvap_files/hvap/test_liq/3_sd/input/3_sd.top @conf /home/mlehner/PyGromosTools/docs/sphinx_project/Examples/example_files/Hvap_files/hvap/test_liq/3_sd/input/3_sd.cnf @input /home/mlehner/PyGromosTools/docs/sphinx_project/Examples/example_files/Hvap_files/hvap/test_liq/3_sd/simulation/3_sd_1/3_sd_1.imd @fin 3_sd_1.cnf @trc 3_sd_1.trc @tre 3_sd_1.tre > 3_sd_1.omd\\\\n\\\\nSTDOUT:\\\\n\\\\t\\\\nSTDERR:\\\\n\\\\tb\\'Segmentation fault\\\\\\\\n\\'\",)\\n'\n",
      "\n",
      "During handling of the above exception, another exception occurred:\n",
      "\n",
      "Traceback (most recent call last):\n",
      "  File \"/home/mlehner/PyGromosTools/pygromos/simulations/hpc_queuing/job_scheduling/schedulers/simulation_scheduler.py\", line 188, in do\n",
      "    previous_job_ID, tmp_jobname, in_simSystem = chain_submission(\n",
      "  File \"/home/mlehner/PyGromosTools/pygromos/simulations/hpc_queuing/job_scheduling/schedulers/scheduler_functions.py\", line 308, in chain_submission\n",
      "    previous_job_ID = job_submission_system.submit_to_queue(sub_job)\n",
      "  File \"/home/mlehner/PyGromosTools/pygromos/simulations/hpc_queuing/submission_systems/local.py\", line 84, in submit_to_queue\n",
      "    print(process)\n",
      "UnboundLocalError: local variable 'process' referenced before assignment\n",
      "\n",
      "The above exception was the direct cause of the following exception:\n",
      "\n",
      "Traceback (most recent call last):\n",
      "  File \"/home/mlehner/PyGromosTools/pygromos/simulations/modules/general_simulation_modules.py\", line 208, in simulation\n",
      "    last_jobID = simulation_scheduler.do(**MD_job_vars)\n",
      "  File \"/home/mlehner/PyGromosTools/pygromos/simulations/hpc_queuing/job_scheduling/schedulers/simulation_scheduler.py\", line 234, in do\n",
      "    raise IOError(\"ERROR in SUBMISSION!\") from err\n",
      "OSError: ERROR in SUBMISSION!\n"
     ]
    },
    {
     "ename": "Exception",
     "evalue": "Could not submit the commands\n\tERROR in SUBMISSION!",
     "output_type": "error",
     "traceback": [
      "\u001b[0;31m---------------------------------------------------------------------------\u001b[0m",
      "\u001b[0;31mChildProcessError\u001b[0m                         Traceback (most recent call last)",
      "\u001b[0;32m~/PyGromosTools/pygromos/simulations/hpc_queuing/submission_systems/local.py\u001b[0m in \u001b[0;36msubmit_to_queue\u001b[0;34m(self, sub_job)\u001b[0m\n\u001b[1;32m     70\u001b[0m             \u001b[0;32mtry\u001b[0m\u001b[0;34m:\u001b[0m\u001b[0;34m\u001b[0m\u001b[0;34m\u001b[0m\u001b[0m\n\u001b[0;32m---> 71\u001b[0;31m                 \u001b[0mprocess\u001b[0m \u001b[0;34m=\u001b[0m \u001b[0mbash\u001b[0m\u001b[0;34m.\u001b[0m\u001b[0mexecute\u001b[0m\u001b[0;34m(\u001b[0m\u001b[0mcommand\u001b[0m\u001b[0;34m=\u001b[0m\u001b[0mcommand\u001b[0m\u001b[0;34m,\u001b[0m \u001b[0mcatch_STD\u001b[0m\u001b[0;34m=\u001b[0m\u001b[0;32mTrue\u001b[0m\u001b[0;34m,\u001b[0m \u001b[0menv\u001b[0m\u001b[0;34m=\u001b[0m\u001b[0mself\u001b[0m\u001b[0;34m.\u001b[0m\u001b[0menvironment\u001b[0m\u001b[0;34m)\u001b[0m\u001b[0;34m\u001b[0m\u001b[0;34m\u001b[0m\u001b[0m\n\u001b[0m\u001b[1;32m     72\u001b[0m                 \u001b[0mstd_out_buff\u001b[0m \u001b[0;34m=\u001b[0m \u001b[0mmap\u001b[0m\u001b[0;34m(\u001b[0m\u001b[0mstr\u001b[0m\u001b[0;34m,\u001b[0m \u001b[0mprocess\u001b[0m\u001b[0;34m.\u001b[0m\u001b[0mstdout\u001b[0m\u001b[0;34m.\u001b[0m\u001b[0mreadlines\u001b[0m\u001b[0;34m(\u001b[0m\u001b[0;34m)\u001b[0m\u001b[0;34m)\u001b[0m\u001b[0;34m\u001b[0m\u001b[0;34m\u001b[0m\u001b[0m\n",
      "\u001b[0;32m~/PyGromosTools/pygromos/utils/bash.py\u001b[0m in \u001b[0;36mexecute\u001b[0;34m(command, verbose, catch_STD, env)\u001b[0m\n\u001b[1;32m    934\u001b[0m ):\n\u001b[0;32m--> 935\u001b[0;31m     \u001b[0;32mreturn\u001b[0m \u001b[0mexecute_subprocess\u001b[0m\u001b[0;34m(\u001b[0m\u001b[0mcommand\u001b[0m\u001b[0;34m=\u001b[0m\u001b[0mcommand\u001b[0m\u001b[0;34m,\u001b[0m \u001b[0mverbose\u001b[0m\u001b[0;34m=\u001b[0m\u001b[0mverbose\u001b[0m\u001b[0;34m,\u001b[0m \u001b[0mcatch_STD\u001b[0m\u001b[0;34m=\u001b[0m\u001b[0mcatch_STD\u001b[0m\u001b[0;34m,\u001b[0m \u001b[0menv\u001b[0m\u001b[0;34m=\u001b[0m\u001b[0menv\u001b[0m\u001b[0;34m)\u001b[0m\u001b[0;34m\u001b[0m\u001b[0;34m\u001b[0m\u001b[0m\n\u001b[0m\u001b[1;32m    936\u001b[0m \u001b[0;34m\u001b[0m\u001b[0m\n",
      "\u001b[0;32m~/PyGromosTools/pygromos/utils/bash.py\u001b[0m in \u001b[0;36mexecute_subprocess\u001b[0;34m(command, catch_STD, env, verbose)\u001b[0m\n\u001b[1;32m    828\u001b[0m         \u001b[0mmsg\u001b[0m \u001b[0;34m+=\u001b[0m \u001b[0;34m\"NONE\"\u001b[0m \u001b[0;32mif\u001b[0m \u001b[0;34m(\u001b[0m\u001b[0mp\u001b[0m\u001b[0;34m.\u001b[0m\u001b[0mstdout\u001b[0m \u001b[0;32mis\u001b[0m \u001b[0;32mNone\u001b[0m\u001b[0;34m)\u001b[0m \u001b[0;32melse\u001b[0m \u001b[0;34m\"\\n\\t\"\u001b[0m\u001b[0;34m.\u001b[0m\u001b[0mjoin\u001b[0m\u001b[0;34m(\u001b[0m\u001b[0mmap\u001b[0m\u001b[0;34m(\u001b[0m\u001b[0mstr\u001b[0m\u001b[0;34m,\u001b[0m \u001b[0mp\u001b[0m\u001b[0;34m.\u001b[0m\u001b[0mstderr\u001b[0m\u001b[0;34m.\u001b[0m\u001b[0mreadlines\u001b[0m\u001b[0;34m(\u001b[0m\u001b[0;34m)\u001b[0m\u001b[0;34m)\u001b[0m\u001b[0;34m)\u001b[0m\u001b[0;34m\u001b[0m\u001b[0;34m\u001b[0m\u001b[0m\n\u001b[0;32m--> 829\u001b[0;31m         \u001b[0;32mraise\u001b[0m \u001b[0mChildProcessError\u001b[0m\u001b[0;34m(\u001b[0m\u001b[0mmsg\u001b[0m\u001b[0;34m)\u001b[0m\u001b[0;34m\u001b[0m\u001b[0;34m\u001b[0m\u001b[0m\n\u001b[0m\u001b[1;32m    830\u001b[0m     \u001b[0;32mif\u001b[0m \u001b[0mverbose\u001b[0m\u001b[0;34m:\u001b[0m\u001b[0;34m\u001b[0m\u001b[0;34m\u001b[0m\u001b[0m\n",
      "\u001b[0;31mChildProcessError\u001b[0m: SubProcess Failed due to returncode: 1\n COMMAND: \n\t/home/mlehner/PyGromosTools/docs/sphinx_project/Examples/example_files/Hvap_files/hvap/test_liq/3_sd/simulation/3_sd_1/job_3_sd_1.sh\nSTDOUT:\n\tb'Could not find TMPDIR!\\n'\n\tb' Switched to outdir for work\\n'\n\tb'workDIR: /home/mlehner/PyGromosTools/docs/sphinx_project/Examples/example_files/Hvap_files/hvap/test_liq/3_sd/simulation/3_sd_1\\n'\n\tb\"input:  <class 'str'> None\\n\"\n\tb\"gromosXX._bin:  <class 'str'> \\n\"\n\tb\"gromosXX.bin:  <class 'NoneType'> None\\n\"\n\tb'________________________________________\\n'\n\tb'\\n'\n\tb' start MD 3_sd_1.imd\\n'\n\tb'\\n'\n\tb'COMMAND:  export OMP_NUM_THREADS=4  &&  md @topo /home/mlehner/PyGromosTools/docs/sphinx_project/Examples/example_files/Hvap_files/hvap/test_liq/3_sd/input/3_sd.top @conf /home/mlehner/PyGromosTools/docs/sphinx_project/Examples/example_files/Hvap_files/hvap/test_liq/3_sd/input/3_sd.cnf @input /home/mlehner/PyGromosTools/docs/sphinx_project/Examples/example_files/Hvap_files/hvap/test_liq/3_sd/simulation/3_sd_1/3_sd_1.imd @fin 3_sd_1.cnf @trc 3_sd_1.trc @tre 3_sd_1.tre > 3_sd_1.omd\\n'\n\tb'\\n'\n\tb'Failed! process returned: \\n'\n\tb' Err: \\n'\n\tb'SubProcess Failed due to returncode: 139\\n'\n\tb' COMMAND: \\n'\n\tb'\\texport OMP_NUM_THREADS=4  &&  md @topo /home/mlehner/PyGromosTools/docs/sphinx_project/Examples/example_files/Hvap_files/hvap/test_liq/3_sd/input/3_sd.top @conf /home/mlehner/PyGromosTools/docs/sphinx_project/Examples/example_files/Hvap_files/hvap/test_liq/3_sd/input/3_sd.cnf @input /home/mlehner/PyGromosTools/docs/sphinx_project/Examples/example_files/Hvap_files/hvap/test_liq/3_sd/simulation/3_sd_1/3_sd_1.imd @fin 3_sd_1.cnf @trc 3_sd_1.trc @tre 3_sd_1.tre > 3_sd_1.omd\\n'\n\tb'\\n'\n\tb'STDOUT:\\n'\n\tb'\\t\\n'\n\tb'STDERR:\\n'\n\tb\"\\tb'Segmentation fault\\\\n'\\n\"\n\tb'GROMOS OUTPUT:\\n'\nSTDERR:\n\tb'Traceback (most recent call last):\\n'\n\tb'  File \"/home/mlehner/PyGromosTools/pygromos/simulations/hpc_queuing/job_scheduling/workers/simulation_workers/simulation_run_worker.py\", line 202, in work\\n'\n\tb'    omd_file_path = gromosXX.md_run(\\n'\n\tb'  File \"/home/mlehner/PyGromosTools/pygromos/gromos/_gromosClass.py\", line 78, in convert_pyGromos_types\\n'\n\tb'    return func(self, *nargs, **kwargs)\\n'\n\tb'  File \"/home/mlehner/PyGromosTools/pygromos/gromos/gromosXX.py\", line 215, in md_run\\n'\n\tb'    process = bash.execute(command_text)\\n'\n\tb'  File \"/home/mlehner/PyGromosTools/pygromos/utils/bash.py\", line 935, in execute\\n'\n\tb'    return execute_subprocess(command=command, verbose=verbose, catch_STD=catch_STD, env=env)\\n'\n\tb'  File \"/home/mlehner/PyGromosTools/pygromos/utils/bash.py\", line 829, in execute_subprocess\\n'\n\tb'    raise ChildProcessError(msg)\\n'\n\tb'ChildProcessError: SubProcess Failed due to returncode: 139\\n'\n\tb' COMMAND: \\n'\n\tb'\\texport OMP_NUM_THREADS=4  &&  md @topo /home/mlehner/PyGromosTools/docs/sphinx_project/Examples/example_files/Hvap_files/hvap/test_liq/3_sd/input/3_sd.top @conf /home/mlehner/PyGromosTools/docs/sphinx_project/Examples/example_files/Hvap_files/hvap/test_liq/3_sd/input/3_sd.cnf @input /home/mlehner/PyGromosTools/docs/sphinx_project/Examples/example_files/Hvap_files/hvap/test_liq/3_sd/simulation/3_sd_1/3_sd_1.imd @fin 3_sd_1.cnf @trc 3_sd_1.trc @tre 3_sd_1.tre > 3_sd_1.omd\\n'\n\tb'\\n'\n\tb'STDOUT:\\n'\n\tb'\\t\\n'\n\tb'STDERR:\\n'\n\tb\"\\tb'Segmentation fault\\\\n'\\n\"\n\tb'\\n'\n\tb'Failed during simulations: \\n'\n\tb\"<class 'ChildProcessError'>\\n\"\n\tb'(\"SubProcess Failed due to returncode: 139\\\\n COMMAND: \\\\n\\\\texport OMP_NUM_THREADS=4  &&  md @topo /home/mlehner/PyGromosTools/docs/sphinx_project/Examples/example_files/Hvap_files/hvap/test_liq/3_sd/input/3_sd.top @conf /home/mlehner/PyGromosTools/docs/sphinx_project/Examples/example_files/Hvap_files/hvap/test_liq/3_sd/input/3_sd.cnf @input /home/mlehner/PyGromosTools/docs/sphinx_project/Examples/example_files/Hvap_files/hvap/test_liq/3_sd/simulation/3_sd_1/3_sd_1.imd @fin 3_sd_1.cnf @trc 3_sd_1.trc @tre 3_sd_1.tre > 3_sd_1.omd\\\\n\\\\nSTDOUT:\\\\n\\\\t\\\\nSTDERR:\\\\n\\\\tb\\'Segmentation fault\\\\\\\\n\\'\",)\\n'",
      "\nDuring handling of the above exception, another exception occurred:\n",
      "\u001b[0;31mUnboundLocalError\u001b[0m                         Traceback (most recent call last)",
      "\u001b[0;32m~/PyGromosTools/pygromos/simulations/hpc_queuing/job_scheduling/schedulers/simulation_scheduler.py\u001b[0m in \u001b[0;36mdo\u001b[0;34m(in_simSystem, out_dir_path, simulation_run_num, equilibration_run_num, initialize_first_run, reinitialize_every_run, analysis_script_path, submission_system, previous_job_ID, _no_double_submit_check, _work_dir, verbose, verbose_lvl)\u001b[0m\n\u001b[1;32m    187\u001b[0m         \u001b[0mprevious_job_ID\u001b[0m \u001b[0;34m=\u001b[0m \u001b[0mprevious_job_ID\u001b[0m \u001b[0;32mif\u001b[0m \u001b[0;34m(\u001b[0m\u001b[0meq_job_id\u001b[0m \u001b[0;32mis\u001b[0m \u001b[0;32mNone\u001b[0m\u001b[0;34m)\u001b[0m \u001b[0;32melse\u001b[0m \u001b[0meq_job_id\u001b[0m\u001b[0;34m\u001b[0m\u001b[0;34m\u001b[0m\u001b[0m\n\u001b[0;32m--> 188\u001b[0;31m         previous_job_ID, tmp_jobname, in_simSystem = chain_submission(\n\u001b[0m\u001b[1;32m    189\u001b[0m             \u001b[0msimSystem\u001b[0m\u001b[0;34m=\u001b[0m\u001b[0min_simSystem\u001b[0m\u001b[0;34m,\u001b[0m\u001b[0;34m\u001b[0m\u001b[0;34m\u001b[0m\u001b[0m\n",
      "\u001b[0;32m~/PyGromosTools/pygromos/simulations/hpc_queuing/job_scheduling/schedulers/scheduler_functions.py\u001b[0m in \u001b[0;36mchain_submission\u001b[0;34m(simSystem, out_dir_path, out_prefix, chain_job_repetitions, worker_script, job_submission_system, jobname, run_analysis_script_every_x_runs, in_analysis_script_path, start_run_index, prefix_command, previous_job_ID, work_dir, initialize_first_run, reinitialize_every_run, verbose, verbose_lvl)\u001b[0m\n\u001b[1;32m    307\u001b[0m                 )\n\u001b[0;32m--> 308\u001b[0;31m                 \u001b[0mprevious_job_ID\u001b[0m \u001b[0;34m=\u001b[0m \u001b[0mjob_submission_system\u001b[0m\u001b[0;34m.\u001b[0m\u001b[0msubmit_to_queue\u001b[0m\u001b[0;34m(\u001b[0m\u001b[0msub_job\u001b[0m\u001b[0;34m)\u001b[0m\u001b[0;34m\u001b[0m\u001b[0;34m\u001b[0m\u001b[0m\n\u001b[0m\u001b[1;32m    309\u001b[0m                 \u001b[0;32mif\u001b[0m \u001b[0mverbose\u001b[0m\u001b[0;34m:\u001b[0m\u001b[0;34m\u001b[0m\u001b[0;34m\u001b[0m\u001b[0m\n",
      "\u001b[0;32m~/PyGromosTools/pygromos/simulations/hpc_queuing/submission_systems/local.py\u001b[0m in \u001b[0;36msubmit_to_queue\u001b[0;34m(self, sub_job)\u001b[0m\n\u001b[1;32m     83\u001b[0m                 \u001b[0;32mtry\u001b[0m\u001b[0;34m:\u001b[0m\u001b[0;34m\u001b[0m\u001b[0;34m\u001b[0m\u001b[0m\n\u001b[0;32m---> 84\u001b[0;31m                     \u001b[0mprint\u001b[0m\u001b[0;34m(\u001b[0m\u001b[0mprocess\u001b[0m\u001b[0;34m)\u001b[0m\u001b[0;34m\u001b[0m\u001b[0;34m\u001b[0m\u001b[0m\n\u001b[0m\u001b[1;32m     85\u001b[0m                 \u001b[0;32mexcept\u001b[0m \u001b[0mChildProcessError\u001b[0m\u001b[0;34m:\u001b[0m\u001b[0;34m\u001b[0m\u001b[0;34m\u001b[0m\u001b[0m\n",
      "\u001b[0;31mUnboundLocalError\u001b[0m: local variable 'process' referenced before assignment",
      "\nThe above exception was the direct cause of the following exception:\n",
      "\u001b[0;31mOSError\u001b[0m                                   Traceback (most recent call last)",
      "\u001b[0;32m~/PyGromosTools/pygromos/simulations/modules/general_simulation_modules.py\u001b[0m in \u001b[0;36msimulation\u001b[0;34m(in_gromos_simulation_system, override_project_dir, step_name, in_imd_path, submission_system, simulation_runs, equilibration_runs, previous_simulation_run, force_simulation, initialize_first_run, reinitialize_every_run, analysis_script, analysis_control_dict, _no_double_submit_check, _work_dir, verbose, verbose_lvl, _template_imd_path)\u001b[0m\n\u001b[1;32m    207\u001b[0m         \u001b[0;32melse\u001b[0m\u001b[0;34m:\u001b[0m\u001b[0;34m\u001b[0m\u001b[0;34m\u001b[0m\u001b[0m\n\u001b[0;32m--> 208\u001b[0;31m             \u001b[0mlast_jobID\u001b[0m \u001b[0;34m=\u001b[0m \u001b[0msimulation_scheduler\u001b[0m\u001b[0;34m.\u001b[0m\u001b[0mdo\u001b[0m\u001b[0;34m(\u001b[0m\u001b[0;34m**\u001b[0m\u001b[0mMD_job_vars\u001b[0m\u001b[0;34m)\u001b[0m\u001b[0;34m\u001b[0m\u001b[0;34m\u001b[0m\u001b[0m\n\u001b[0m\u001b[1;32m    209\u001b[0m     \u001b[0;32mexcept\u001b[0m \u001b[0mException\u001b[0m \u001b[0;32mas\u001b[0m \u001b[0merr\u001b[0m\u001b[0;34m:\u001b[0m\u001b[0;34m\u001b[0m\u001b[0;34m\u001b[0m\u001b[0m\n",
      "\u001b[0;32m~/PyGromosTools/pygromos/simulations/hpc_queuing/job_scheduling/schedulers/simulation_scheduler.py\u001b[0m in \u001b[0;36mdo\u001b[0;34m(in_simSystem, out_dir_path, simulation_run_num, equilibration_run_num, initialize_first_run, reinitialize_every_run, analysis_script_path, submission_system, previous_job_ID, _no_double_submit_check, _work_dir, verbose, verbose_lvl)\u001b[0m\n\u001b[1;32m    233\u001b[0m         \u001b[0mtraceback\u001b[0m\u001b[0;34m.\u001b[0m\u001b[0mprint_exception\u001b[0m\u001b[0;34m(\u001b[0m\u001b[0;34m*\u001b[0m\u001b[0msys\u001b[0m\u001b[0;34m.\u001b[0m\u001b[0mexc_info\u001b[0m\u001b[0;34m(\u001b[0m\u001b[0;34m)\u001b[0m\u001b[0;34m)\u001b[0m\u001b[0;34m\u001b[0m\u001b[0;34m\u001b[0m\u001b[0m\n\u001b[0;32m--> 234\u001b[0;31m         \u001b[0;32mraise\u001b[0m \u001b[0mIOError\u001b[0m\u001b[0;34m(\u001b[0m\u001b[0;34m\"ERROR in SUBMISSION!\"\u001b[0m\u001b[0;34m)\u001b[0m \u001b[0;32mfrom\u001b[0m \u001b[0merr\u001b[0m\u001b[0;34m\u001b[0m\u001b[0;34m\u001b[0m\u001b[0m\n\u001b[0m\u001b[1;32m    235\u001b[0m \u001b[0;34m\u001b[0m\u001b[0m\n",
      "\u001b[0;31mOSError\u001b[0m: ERROR in SUBMISSION!",
      "\nDuring handling of the above exception, another exception occurred:\n",
      "\u001b[0;31mException\u001b[0m                                 Traceback (most recent call last)",
      "\u001b[0;32m/tmp/ipykernel_9095/783684269.py\u001b[0m in \u001b[0;36m<module>\u001b[0;34m\u001b[0m\n\u001b[0;32m----> 1\u001b[0;31m \u001b[0mhvap_sys\u001b[0m\u001b[0;34m.\u001b[0m\u001b[0mrun_liq\u001b[0m\u001b[0;34m(\u001b[0m\u001b[0;34m)\u001b[0m\u001b[0;34m\u001b[0m\u001b[0;34m\u001b[0m\u001b[0m\n\u001b[0m",
      "\u001b[0;32m~/PyGromosTools/pygromos/simulations/approaches/hvap_calculation/hvap_calculation.py\u001b[0m in \u001b[0;36mrun_liq\u001b[0;34m(self)\u001b[0m\n\u001b[1;32m    252\u001b[0m         \u001b[0msys_eq_liq\u001b[0m\u001b[0;34m.\u001b[0m\u001b[0mimd\u001b[0m \u001b[0;34m=\u001b[0m \u001b[0mself\u001b[0m\u001b[0;34m.\u001b[0m\u001b[0mimd_liq_md\u001b[0m\u001b[0;34m\u001b[0m\u001b[0;34m\u001b[0m\u001b[0m\n\u001b[1;32m    253\u001b[0m         \u001b[0msys_eq_liq\u001b[0m\u001b[0;34m.\u001b[0m\u001b[0mprepare_for_simulation\u001b[0m\u001b[0;34m(\u001b[0m\u001b[0;34m)\u001b[0m\u001b[0;34m\u001b[0m\u001b[0;34m\u001b[0m\u001b[0m\n\u001b[0;32m--> 254\u001b[0;31m         sys_md_liq = simulation(\n\u001b[0m\u001b[1;32m    255\u001b[0m             \u001b[0min_gromos_simulation_system\u001b[0m\u001b[0;34m=\u001b[0m\u001b[0msys_eq_liq\u001b[0m\u001b[0;34m,\u001b[0m\u001b[0;34m\u001b[0m\u001b[0;34m\u001b[0m\u001b[0m\n\u001b[1;32m    256\u001b[0m             \u001b[0moverride_project_dir\u001b[0m\u001b[0;34m=\u001b[0m\u001b[0mself\u001b[0m\u001b[0;34m.\u001b[0m\u001b[0mgroSys_liq\u001b[0m\u001b[0;34m.\u001b[0m\u001b[0mwork_folder\u001b[0m\u001b[0;34m,\u001b[0m\u001b[0;34m\u001b[0m\u001b[0;34m\u001b[0m\u001b[0m\n",
      "\u001b[0;32m~/PyGromosTools/pygromos/simulations/modules/general_simulation_modules.py\u001b[0m in \u001b[0;36msimulation\u001b[0;34m(in_gromos_simulation_system, override_project_dir, step_name, in_imd_path, submission_system, simulation_runs, equilibration_runs, previous_simulation_run, force_simulation, initialize_first_run, reinitialize_every_run, analysis_script, analysis_control_dict, _no_double_submit_check, _work_dir, verbose, verbose_lvl, _template_imd_path)\u001b[0m\n\u001b[1;32m    209\u001b[0m     \u001b[0;32mexcept\u001b[0m \u001b[0mException\u001b[0m \u001b[0;32mas\u001b[0m \u001b[0merr\u001b[0m\u001b[0;34m:\u001b[0m\u001b[0;34m\u001b[0m\u001b[0;34m\u001b[0m\u001b[0m\n\u001b[1;32m    210\u001b[0m         \u001b[0mtraceback\u001b[0m\u001b[0;34m.\u001b[0m\u001b[0mprint_exception\u001b[0m\u001b[0;34m(\u001b[0m\u001b[0;34m*\u001b[0m\u001b[0msys\u001b[0m\u001b[0;34m.\u001b[0m\u001b[0mexc_info\u001b[0m\u001b[0;34m(\u001b[0m\u001b[0;34m)\u001b[0m\u001b[0;34m)\u001b[0m\u001b[0;34m\u001b[0m\u001b[0;34m\u001b[0m\u001b[0m\n\u001b[0;32m--> 211\u001b[0;31m         \u001b[0;32mraise\u001b[0m \u001b[0mException\u001b[0m\u001b[0;34m(\u001b[0m\u001b[0;34m\"Could not submit the commands\\n\\t\"\u001b[0m \u001b[0;34m+\u001b[0m \u001b[0;34m\"\\n\\t\"\u001b[0m\u001b[0;34m.\u001b[0m\u001b[0mjoin\u001b[0m\u001b[0;34m(\u001b[0m\u001b[0mmap\u001b[0m\u001b[0;34m(\u001b[0m\u001b[0mstr\u001b[0m\u001b[0;34m,\u001b[0m \u001b[0merr\u001b[0m\u001b[0;34m.\u001b[0m\u001b[0margs\u001b[0m\u001b[0;34m)\u001b[0m\u001b[0;34m)\u001b[0m\u001b[0;34m)\u001b[0m\u001b[0;34m\u001b[0m\u001b[0;34m\u001b[0m\u001b[0m\n\u001b[0m\u001b[1;32m    212\u001b[0m \u001b[0;34m\u001b[0m\u001b[0m\n\u001b[1;32m    213\u001b[0m     \u001b[0mtime\u001b[0m\u001b[0;34m.\u001b[0m\u001b[0msleep\u001b[0m\u001b[0;34m(\u001b[0m\u001b[0mtime_wait_s_for_filesystem\u001b[0m\u001b[0;34m)\u001b[0m\u001b[0;34m\u001b[0m\u001b[0;34m\u001b[0m\u001b[0m\n",
      "\u001b[0;31mException\u001b[0m: Could not submit the commands\n\tERROR in SUBMISSION!"
     ]
    }
   ],
   "source": [
    "hvap_sys.run_liq()"
   ]
  },
  {
   "cell_type": "code",
   "execution_count": 9,
   "metadata": {
    "execution": {
     "iopub.execute_input": "2022-04-05T11:54:58.660065Z",
     "iopub.status.busy": "2022-04-05T11:54:58.659836Z",
     "iopub.status.idle": "2022-04-05T11:54:58.670234Z",
     "shell.execute_reply": "2022-04-05T11:54:58.669464Z"
    }
   },
   "outputs": [
    {
     "ename": "AttributeError",
     "evalue": "'NoneType' object has no attribute 'tre'",
     "output_type": "error",
     "traceback": [
      "\u001b[0;31m---------------------------------------------------------------------------\u001b[0m",
      "\u001b[0;31mAttributeError\u001b[0m                            Traceback (most recent call last)",
      "\u001b[0;32m/tmp/ipykernel_9095/2387715759.py\u001b[0m in \u001b[0;36m<module>\u001b[0;34m\u001b[0m\n\u001b[0;32m----> 1\u001b[0;31m \u001b[0mhvap_sys\u001b[0m\u001b[0;34m.\u001b[0m\u001b[0mcalc_hvap\u001b[0m\u001b[0;34m(\u001b[0m\u001b[0;34m)\u001b[0m\u001b[0;34m\u001b[0m\u001b[0;34m\u001b[0m\u001b[0m\n\u001b[0m",
      "\u001b[0;32m~/PyGromosTools/pygromos/simulations/approaches/hvap_calculation/hvap_calculation.py\u001b[0m in \u001b[0;36mcalc_hvap\u001b[0;34m(self)\u001b[0m\n\u001b[1;32m    264\u001b[0m \u001b[0;34m\u001b[0m\u001b[0m\n\u001b[1;32m    265\u001b[0m     \u001b[0;32mdef\u001b[0m \u001b[0mcalc_hvap\u001b[0m\u001b[0;34m(\u001b[0m\u001b[0mself\u001b[0m\u001b[0;34m)\u001b[0m \u001b[0;34m->\u001b[0m \u001b[0mfloat\u001b[0m\u001b[0;34m:\u001b[0m\u001b[0;34m\u001b[0m\u001b[0;34m\u001b[0m\u001b[0m\n\u001b[0;32m--> 266\u001b[0;31m         h_vap = self.groSys_liq_final.tre.get_Hvap(\n\u001b[0m\u001b[1;32m    267\u001b[0m             \u001b[0mgas_traj\u001b[0m\u001b[0;34m=\u001b[0m\u001b[0mself\u001b[0m\u001b[0;34m.\u001b[0m\u001b[0mgroSys_gas_final\u001b[0m\u001b[0;34m.\u001b[0m\u001b[0mtre\u001b[0m\u001b[0;34m,\u001b[0m \u001b[0mnMolecules\u001b[0m\u001b[0;34m=\u001b[0m\u001b[0mself\u001b[0m\u001b[0;34m.\u001b[0m\u001b[0mnum_molecules\u001b[0m\u001b[0;34m,\u001b[0m \u001b[0mtemperature\u001b[0m\u001b[0;34m=\u001b[0m\u001b[0mself\u001b[0m\u001b[0;34m.\u001b[0m\u001b[0mtemperature\u001b[0m\u001b[0;34m\u001b[0m\u001b[0;34m\u001b[0m\u001b[0m\n\u001b[1;32m    268\u001b[0m         )\n",
      "\u001b[0;31mAttributeError\u001b[0m: 'NoneType' object has no attribute 'tre'"
     ]
    }
   ],
   "source": [
    "hvap_sys.calc_hvap()\n"
   ]
  },
  {
   "cell_type": "code",
   "execution_count": null,
   "metadata": {},
   "outputs": [],
   "source": []
  }
 ],
 "metadata": {
  "interpreter": {
   "hash": "b1b7b2ea43b8e767316eee98e01335d045804d2d47db68b6a5827e187ee91a7e"
  },
  "kernelspec": {
   "display_name": "Python 3.9.7 ('pygro2')",
   "language": "python",
   "name": "python3"
  },
  "language_info": {
   "codemirror_mode": {
    "name": "ipython",
    "version": 3
   },
   "file_extension": ".py",
   "mimetype": "text/x-python",
   "name": "python",
   "nbconvert_exporter": "python",
   "pygments_lexer": "ipython3",
   "version": "3.9.7"
  },
  "widgets": {
   "application/vnd.jupyter.widget-state+json": {
    "state": {
     "8f976c13a1fc49fca37c65bf09826360": {
      "model_module": "nglview-js-widgets",
      "model_module_version": "3.0.1",
      "model_name": "ColormakerRegistryModel",
      "state": {
       "_dom_classes": [],
       "_model_module": "nglview-js-widgets",
       "_model_module_version": "3.0.1",
       "_model_name": "ColormakerRegistryModel",
       "_msg_ar": [],
       "_msg_q": [],
       "_ready": false,
       "_view_count": null,
       "_view_module": "nglview-js-widgets",
       "_view_module_version": "3.0.1",
       "_view_name": "ColormakerRegistryView",
       "layout": "IPY_MODEL_cf736b7e947d4008b73a6993884d2892"
      }
     },
     "cf736b7e947d4008b73a6993884d2892": {
      "model_module": "@jupyter-widgets/base",
      "model_module_version": "1.2.0",
      "model_name": "LayoutModel",
      "state": {
       "_model_module": "@jupyter-widgets/base",
       "_model_module_version": "1.2.0",
       "_model_name": "LayoutModel",
       "_view_count": null,
       "_view_module": "@jupyter-widgets/base",
       "_view_module_version": "1.2.0",
       "_view_name": "LayoutView",
       "align_content": null,
       "align_items": null,
       "align_self": null,
       "border": null,
       "bottom": null,
       "display": null,
       "flex": null,
       "flex_flow": null,
       "grid_area": null,
       "grid_auto_columns": null,
       "grid_auto_flow": null,
       "grid_auto_rows": null,
       "grid_column": null,
       "grid_gap": null,
       "grid_row": null,
       "grid_template_areas": null,
       "grid_template_columns": null,
       "grid_template_rows": null,
       "height": null,
       "justify_content": null,
       "justify_items": null,
       "left": null,
       "margin": null,
       "max_height": null,
       "max_width": null,
       "min_height": null,
       "min_width": null,
       "object_fit": null,
       "object_position": null,
       "order": null,
       "overflow": null,
       "overflow_x": null,
       "overflow_y": null,
       "padding": null,
       "right": null,
       "top": null,
       "visibility": null,
       "width": null
      }
     }
    },
    "version_major": 2,
    "version_minor": 0
   }
  }
 },
 "nbformat": 4,
 "nbformat_minor": 4
}
