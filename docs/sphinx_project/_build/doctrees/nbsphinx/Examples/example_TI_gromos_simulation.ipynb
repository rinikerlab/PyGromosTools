{
 "cells": [
  {
   "cell_type": "markdown",
   "metadata": {
    "pycharm": {
     "name": "#%% md\n"
    }
   },
   "source": [
    "# TI Calculation\n"
   ]
  },
  {
   "cell_type": "markdown",
   "metadata": {},
   "source": [
    "## Imports"
   ]
  },
  {
   "cell_type": "code",
   "execution_count": 1,
   "metadata": {
    "execution": {
     "iopub.execute_input": "2022-04-05T16:39:37.504670Z",
     "iopub.status.busy": "2022-04-05T16:39:37.503390Z",
     "iopub.status.idle": "2022-04-05T16:39:39.751909Z",
     "shell.execute_reply": "2022-04-05T16:39:39.750481Z"
    }
   },
   "outputs": [
    {
     "data": {
      "application/vnd.jupyter.widget-view+json": {
       "model_id": "ed2b6346793a427481ec83f228b04265",
       "version_major": 2,
       "version_minor": 0
      },
      "text/plain": []
     },
     "metadata": {},
     "output_type": "display_data"
    }
   ],
   "source": [
    "#for analysis\n",
    "from matplotlib import pyplot as plt\n",
    "%matplotlib inline\n",
    "\n",
    "import os\n",
    "import numpy as np\n",
    "from pygromos.files.gromos_system import Gromos_System\n",
    "from pygromos.simulations.hpc_queuing.submission_systems.local import LOCAL as subSystem\n",
    "from pygromos.files.blocks.imd_blocks import PERTURBATION, WRITETRAJ, DISTANCERES\n",
    "\n",
    "from pygromos.utils import bash"
   ]
  },
  {
   "cell_type": "markdown",
   "metadata": {
    "pycharm": {
     "name": "#%% md\n"
    }
   },
   "source": [
    "## Input files"
   ]
  },
  {
   "cell_type": "code",
   "execution_count": 2,
   "metadata": {
    "execution": {
     "iopub.execute_input": "2022-04-05T16:39:39.756245Z",
     "iopub.status.busy": "2022-04-05T16:39:39.755677Z",
     "iopub.status.idle": "2022-04-05T16:39:39.763271Z",
     "shell.execute_reply": "2022-04-05T16:39:39.761866Z"
    }
   },
   "outputs": [],
   "source": [
    "root_dir = os.path.abspath(\"example_files/TI_Calculation\")\n",
    "root_in_dir = root_dir+\"/TI_input\"\n",
    "cnf_path = root_in_dir+\"/M030_6KET.cnf\"\n",
    "top_path = root_in_dir + \"/M030_6KET.top\"\n",
    "disres_path = root_in_dir+\"/M030_6KET.disres\"\n",
    "\n",
    "\n",
    "sys_name = \"M030_to_6KET\"\n",
    "lam = 0\n",
    "\n",
    "project_dir = bash.make_folder(root_dir+\"/\"+sys_name)\n",
    "input_dir = bash.make_folder(project_dir+\"/input\")"
   ]
  },
  {
   "cell_type": "markdown",
   "metadata": {
    "pycharm": {
     "name": "#%% md\n"
    }
   },
   "source": [
    "## Vacuum Simulation\n",
    "\n",
    "### Direction A->B\n",
    "\n",
    "#### Setup:\n",
    "\n",
    "\n",
    "##### Build pertubation file\n"
   ]
  },
  {
   "cell_type": "code",
   "execution_count": 3,
   "metadata": {
    "execution": {
     "iopub.execute_input": "2022-04-05T16:39:39.769642Z",
     "iopub.status.busy": "2022-04-05T16:39:39.768271Z",
     "iopub.status.idle": "2022-04-05T16:39:43.518932Z",
     "shell.execute_reply": "2022-04-05T16:39:43.517663Z"
    }
   },
   "outputs": [
    {
     "data": {
      "text/plain": [
       "TITLE\n",
       "Automatic generated pertubation file. \n",
       "\t>>> Generated with PyGromosTools (riniker group) <<<\n",
       "END\n",
       "PERTATOMPARAM\n",
       "# NJLA  \t NPTB =  \t 2 \t \n",
       " \t 26\n",
       "# state_identifiers\n",
       "#  \t state1 \t state2\n",
       "#    NR   RES  NAME  IAC1mass1   CHARGE1  IAC2mass2   CHARGE2    ALPHLJ     ALPHCRF   \n",
       "    1     1    C9    16 15.035    0.05200    22 15.035    0.00000    1.00000    1.00000\n",
       "    2     1    C6    64 12.011    0.21300    22 12.011    0.00000    1.00000    1.00000\n",
       "    3     1    C2    64 12.011   -0.43400    22 12.011    0.00000    1.00000    1.00000\n",
       "    4     1    H2    20 1.008    0.16900    22 1.008    0.00000    1.00000    1.00000\n",
       "    5     1    C4    64 12.011    0.21300    22 12.011    0.00000    1.00000    1.00000\n",
       "    6     1    C7    16 15.035    0.05200    22 15.035    0.00000    1.00000    1.00000\n",
       "    7     1    C1    64 12.011   -0.43400    22 12.011    0.00000    1.00000    1.00000\n",
       "    8     1    H1    20 1.008    0.16900    22 1.008    0.00000    1.00000    1.00000\n",
       "    9     1    C5    64 12.011    0.21300    22 12.011    0.00000    1.00000    1.00000\n",
       "   10     1    C3    64 12.011   -0.43400    22 12.011    0.00000    1.00000    1.00000\n",
       "   11     1    H3    20 1.008    0.16900    22 1.008    0.00000    1.00000    1.00000\n",
       "   12     1    C8    16 15.035    0.05200    22 15.035    0.00000    1.00000    1.00000\n",
       "   13     2    H8    22 1.008    0.00000    59 1.008    0.45800    1.00000    1.00000\n",
       "   14     2    O1    22 15.9994    0.00000    68 15.9994   -0.62000    1.00000    1.00000\n",
       "   15     2    C5    22 12.011    0.00000    64 12.011    0.48400    1.00000    1.00000\n",
       "   16     2    C2    22 12.011    0.00000    64 12.011   -0.35300    1.00000    1.00000\n",
       "   17     2    H2    22 1.008    0.00000    20 1.008    0.18400    1.00000    1.00000\n",
       "   18     2    C1    22 12.011    0.00000    64 12.011   -0.10700    1.00000    1.00000\n",
       "   19     2    H1    22 1.008    0.00000    20 1.008    0.15200    1.00000    1.00000\n",
       "   20     2    C3    22 12.011    0.00000    64 12.011   -0.29800    1.00000    1.00000\n",
       "   21     2    H3    22 1.008    0.00000    20 1.008    0.14200    1.00000    1.00000\n",
       "   22     2    C6    22 12.011    0.00000    64 12.011    0.40300    1.00000    1.00000\n",
       "   23     2    C4    22 12.011    0.00000    64 12.011   -0.53100    1.00000    1.00000\n",
       "   24     2    H4    22 1.008    0.00000    20 1.008    0.19400    1.00000    1.00000\n",
       "   25     2    O2    22 15.9994    0.00000     4 15.9994   -0.38700    1.00000    1.00000\n",
       "   26     2    C7    22 15.035    0.00000    16 15.035    0.27900    1.00000    1.00000\n",
       "END"
      ]
     },
     "execution_count": 3,
     "metadata": {},
     "output_type": "execute_result"
    }
   ],
   "source": [
    "from pygromos.files.topology.ptp import Pertubation_topology\n",
    "from pygromos.files.blocks.topology_blocks import pertubation_lam_state, atom_lam_pertubation_state, PERTATOMPARAM, TITLE\n",
    "\n",
    "\n",
    "#External imd_changes:\n",
    "grom_system = Gromos_System(in_cnf_path=cnf_path, in_top_path=top_path,\n",
    "                            in_disres_path=disres_path,\n",
    "                            system_name=sys_name, work_folder=input_dir)\n",
    "\n",
    "\n",
    "#Build up lambda - States\n",
    "pert_atoms=[]\n",
    "for atom_line in grom_system.top.SOLUTEATOM:\n",
    "    states = {}\n",
    "    phys_state = pertubation_lam_state(IAC=atom_line.IAC, MASS=atom_line.MASS, CHARGE=atom_line.CG)\n",
    "    states = {atom_line.MRES: phys_state }\n",
    "\n",
    "    pert_atom = atom_lam_pertubation_state(atom_line.ATNM,RES=atom_line.MRES,NAME=atom_line.PANM, STATES=states)\n",
    "    pert_atoms.append(pert_atom)\n",
    "pert_atom_block = PERTATOMPARAM(pert_atoms)\n",
    "\n",
    "# Generate ptp file\n",
    "grom_system.ptp = Pertubation_topology(in_value = None)\n",
    "grom_system.ptp.PERTATOMPARAM = pert_atom_block\n",
    "grom_system.ptp.TITLE = TITLE(\"Automatic generated pertubation file. \")\n",
    "\n",
    "grom_system.ptp"
   ]
  },
  {
   "cell_type": "code",
   "execution_count": 4,
   "metadata": {
    "execution": {
     "iopub.execute_input": "2022-04-05T16:39:43.522930Z",
     "iopub.status.busy": "2022-04-05T16:39:43.522262Z",
     "iopub.status.idle": "2022-04-05T16:39:43.555184Z",
     "shell.execute_reply": "2022-04-05T16:39:43.553668Z"
    }
   },
   "outputs": [
    {
     "name": "stdout",
     "output_type": "stream",
     "text": [
      "File imd is empty , can not be written!\n"
     ]
    },
    {
     "name": "stderr",
     "output_type": "stream",
     "text": [
      "/home/mlehner/PyGromosTools/pygromos/files/gromos_system/gromos_system.py:869: UserWarning: Did not change file path as its only promised None\n",
      "  warnings.warn(\"Did not change file path as its only promised \" + str(file_obj.path))\n",
      "/home/mlehner/PyGromosTools/pygromos/files/gromos_system/gromos_system.py:1173: UserWarning: FOUND ALREADY A FILE! SKIPPING!\n",
      "  warnings.warn(\"FOUND ALREADY A FILE! SKIPPING!\")\n"
     ]
    },
    {
     "data": {
      "text/plain": [
       "\n",
       "GROMOS SYSTEM: M030_to_6KET\n",
       "################################################################################\n",
       "WORKDIR: /home/mlehner/PyGromosTools/docs/sphinx_project/Examples/example_files/TI_Calculation/M030_to_6KET\n",
       "LAST CHECKPOINT: None\n",
       "\n",
       "GromosXX_bin: None\n",
       "GromosPP_bin: None\n",
       "FILES: \n",
       "\timd: None\n",
       "\ttop: /home/mlehner/PyGromosTools/docs/sphinx_project/Examples/example_files/TI_Calculation/M030_to_6KET/M030_to_6KET.top\n",
       "\tcnf: /home/mlehner/PyGromosTools/docs/sphinx_project/Examples/example_files/TI_Calculation/M030_to_6KET/M030_to_6KET.cnf\n",
       "\tdisres: /home/mlehner/PyGromosTools/docs/sphinx_project/Examples/example_files/TI_Calculation/M030_to_6KET/M030_to_6KET.disres\n",
       "\tptp: /home/mlehner/PyGromosTools/docs/sphinx_project/Examples/example_files/TI_Calculation/M030_to_6KET/M030_to_6KET.ptp\n",
       "FUTURE PROMISE: False\n",
       "SYSTEM: \n",
       "\tSolute:\t['M030', '6KET']  resID: [1, 2]  natoms: 26\n",
       "\tSOLVENT:\t[]  nmolecules: 0  natoms: 0\n",
       "\n"
      ]
     },
     "execution_count": 4,
     "metadata": {},
     "output_type": "execute_result"
    }
   ],
   "source": [
    "##Write out all generated files\n",
    "grom_system.rebase_files()\n",
    "grom_system.work_folder = project_dir\n",
    "\n",
    "##save Input System\n",
    "grom_system.save(project_dir+\"/initial_startSys.obj\")\n",
    "grom_system"
   ]
  },
  {
   "cell_type": "markdown",
   "metadata": {},
   "source": [
    "### RUN Emin"
   ]
  },
  {
   "cell_type": "code",
   "execution_count": 5,
   "metadata": {
    "execution": {
     "iopub.execute_input": "2022-04-05T16:39:43.560950Z",
     "iopub.status.busy": "2022-04-05T16:39:43.560210Z",
     "iopub.status.idle": "2022-04-05T16:39:51.270238Z",
     "shell.execute_reply": "2022-04-05T16:39:51.268001Z"
    }
   },
   "outputs": [],
   "source": [
    "# PREPARE EMIN\n",
    "## IMPORT\n",
    "from pygromos.data.simulation_parameters_templates import template_emin_vac\n",
    "from pygromos.simulations.modules.preset_simulation_modules import emin\n",
    "\n",
    "step_name  = \"a_emin\" #also the dir_name, out prefix etc.\n",
    "grom_system = Gromos_System.load(project_dir+\"/initial_startSys.obj\")\n",
    "grom_system.imd = template_emin_vac #read template imd\n",
    "\n",
    "#Pertubation for molecules to sim params\n",
    "pert_block  =  PERTURBATION(NTG=1, NRDGL=0, RLAM=lam, DLAMT=0,\n",
    "                            ALPHC=0.5, ALPHLJ=0.5, NLAM=2, NSCALE=0)\n",
    "grom_system.imd.add_block(block=pert_block)\n",
    "\n",
    "#add Distance Res:\n",
    "disres_block = DISTANCERES(NTDIR=1, TAUDIR=1,)\n",
    "grom_system.imd.add_block(block=disres_block)"
   ]
  },
  {
   "cell_type": "code",
   "execution_count": 6,
   "metadata": {
    "execution": {
     "iopub.execute_input": "2022-04-05T16:39:51.276145Z",
     "iopub.status.busy": "2022-04-05T16:39:51.275702Z",
     "iopub.status.idle": "2022-04-05T16:40:02.519954Z",
     "shell.execute_reply": "2022-04-05T16:40:02.517777Z"
    }
   },
   "outputs": [
    {
     "name": "stdout",
     "output_type": "stream",
     "text": [
      "################################################################################\n",
      "\n",
      "a_emin\n",
      "################################################################################\n",
      "\n",
      "============================================================\n",
      "FOUND RESULT: /home/mlehner/PyGromosTools/examples/example_files/TI_Calculation/M030_to_6KET/a_emin/analysis/data/a_emin.cnf\n",
      " GOING TO SKIPT THIS SUBMISSION!\n"
     ]
    },
    {
     "data": {
      "text/plain": [
       "\n",
       "GROMOS SYSTEM: a_emin\n",
       "################################################################################\n",
       "WORKDIR: /home/mlehner/PyGromosTools/examples/example_files/TI_Calculation/M030_to_6KET\n",
       "LAST CHECKPOINT: /home/mlehner/PyGromosTools/docs/sphinx_project/Examples/example_files/TI_Calculation/M030_to_6KET/initial_startSys.obj\n",
       "\n",
       "GromosXX_bin: None\n",
       "GromosPP_bin: None\n",
       "FILES: \n",
       "\timd: /home/mlehner/PyGromosTools/examples/example_files/TI_Calculation/M030_to_6KET/a_emin/input/a_emin.imd\n",
       "\ttop: /home/mlehner/PyGromosTools/examples/example_files/TI_Calculation/M030_to_6KET/a_emin/input/a_emin.top\n",
       "\tcnf: /home/mlehner/PyGromosTools/examples/example_files/TI_Calculation/M030_to_6KET/a_emin/analysis/data/a_emin.cnf\n",
       "\tdisres: /home/mlehner/PyGromosTools/examples/example_files/TI_Calculation/M030_to_6KET/a_emin/input/a_emin.disres\n",
       "\tptp: /home/mlehner/PyGromosTools/examples/example_files/TI_Calculation/M030_to_6KET/a_emin/input/a_emin.ptp\n",
       "FUTURE PROMISE: False\n",
       "SYSTEM: \n",
       "\tSolute:\t['M030', '6KET']  resID: [1, 2]  natoms: 26\n",
       "\tSOLVENT:\t[]  nmolecules: 0  natoms: 0\n",
       "\n"
      ]
     },
     "execution_count": 6,
     "metadata": {},
     "output_type": "execute_result"
    }
   ],
   "source": [
    "#EXECUTE EMIN\n",
    "emin_gromos_system = emin(in_gromos_system=grom_system, \n",
    "                          step_name=step_name, submission_system=subSystem())\n",
    "\n",
    "emin_gromos_system.save(project_dir+\"/emin_out.obj\")\n",
    "emin_gromos_system"
   ]
  },
  {
   "cell_type": "markdown",
   "metadata": {},
   "source": [
    "## RUN Test SD EQ"
   ]
  },
  {
   "cell_type": "code",
   "execution_count": 7,
   "metadata": {
    "execution": {
     "iopub.execute_input": "2022-04-05T16:40:02.525163Z",
     "iopub.status.busy": "2022-04-05T16:40:02.524511Z",
     "iopub.status.idle": "2022-04-05T16:40:02.536639Z",
     "shell.execute_reply": "2022-04-05T16:40:02.534915Z"
    }
   },
   "outputs": [],
   "source": [
    "from pygromos.data.simulation_parameters_templates import template_sd\n",
    "from pygromos.simulations.modules.preset_simulation_modules import sd\n",
    "\n",
    "step_name  = \"b_vacuum_sd\"\n",
    "grom_system = emin_gromos_system\n",
    "grom_system.system_name = step_name\n",
    "grom_system.imd = template_sd\n",
    "\n",
    "#Pertubation\n",
    "pert_block  =  PERTURBATION(NTG=1, NRDGL=0, RLAM=lam, DLAMT=0,\n",
    "                            ALPHC=0.5, ALPHLJ=0.5, NLAM=2, NSCALE=0)\n",
    "grom_system.imd.add_block(block=pert_block)\n",
    "\n",
    "\n",
    "#add Distance Res:\n",
    "disres_block = DISTANCERES(NTDIR=1, TAUDIR=1,)\n",
    "grom_system.imd.add_block(block=disres_block)\n",
    "\n",
    "\n",
    "#write out trajs:\n",
    "write_traj = WRITETRAJ(NTWX=100, NTWE=100)\n",
    "grom_system.imd.add_block(block=write_traj)\n",
    "\n",
    "#further mods:\n",
    "grom_system.imd.CONSTRAINT.NTC = 3\n",
    "grom_system.imd.FORCE.BONDS = 0\n",
    "\n",
    "grom_system.imd.STEP.NSTLIM = 30000\n"
   ]
  },
  {
   "cell_type": "code",
   "execution_count": 8,
   "metadata": {
    "execution": {
     "iopub.execute_input": "2022-04-05T16:40:02.543085Z",
     "iopub.status.busy": "2022-04-05T16:40:02.542342Z",
     "iopub.status.idle": "2022-04-05T16:40:13.988555Z",
     "shell.execute_reply": "2022-04-05T16:40:13.986349Z"
    }
   },
   "outputs": [
    {
     "name": "stdout",
     "output_type": "stream",
     "text": [
      "################################################################################\n",
      "\n",
      "b_vacuum_sd\n",
      "################################################################################\n",
      "\n",
      "============================================================\n",
      "FOUND RESULT: /home/mlehner/PyGromosTools/examples/example_files/TI_Calculation/M030_to_6KET/b_vacuum_sd/analysis/data/b_vacuum_sd.cnf\n",
      " GOING TO SKIPT THIS SUBMISSION!\n"
     ]
    },
    {
     "data": {
      "text/plain": [
       "\n",
       "GROMOS SYSTEM: b_vacuum_sd\n",
       "################################################################################\n",
       "WORKDIR: /home/mlehner/PyGromosTools/examples/example_files/TI_Calculation/M030_to_6KET\n",
       "LAST CHECKPOINT: /home/mlehner/PyGromosTools/docs/sphinx_project/Examples/example_files/TI_Calculation/M030_to_6KET/initial_startSys.obj\n",
       "\n",
       "GromosXX_bin: None\n",
       "GromosPP_bin: None\n",
       "FILES: \n",
       "\timd: /home/mlehner/PyGromosTools/examples/example_files/TI_Calculation/M030_to_6KET/b_vacuum_sd/input/b_vacuum_sd.imd\n",
       "\ttop: /home/mlehner/PyGromosTools/examples/example_files/TI_Calculation/M030_to_6KET/b_vacuum_sd/input/b_vacuum_sd.top\n",
       "\tcnf: /home/mlehner/PyGromosTools/examples/example_files/TI_Calculation/M030_to_6KET/b_vacuum_sd/analysis/data/b_vacuum_sd.cnf\n",
       "\tdisres: /home/mlehner/PyGromosTools/examples/example_files/TI_Calculation/M030_to_6KET/b_vacuum_sd/input/b_vacuum_sd.disres\n",
       "\tptp: /home/mlehner/PyGromosTools/examples/example_files/TI_Calculation/M030_to_6KET/b_vacuum_sd/input/b_vacuum_sd.ptp\n",
       "FUTURE PROMISE: False\n",
       "SYSTEM: \n",
       "\tSolute:\t['M030', '6KET']  resID: [1, 2]  natoms: 26\n",
       "\tSOLVENT:\t[]  nmolecules: 0  natoms: 0\n",
       "\n"
      ]
     },
     "execution_count": 8,
     "metadata": {},
     "output_type": "execute_result"
    }
   ],
   "source": [
    "sd_gromos_system  = sd(in_gromos_system=grom_system, step_name=step_name,\n",
    "                              submission_system=subSystem(), equilibration_runs=1, simulation_runs=1)\n",
    "sd_gromos_system.save(project_dir+\"/sd_out_system.obj\")\n",
    "sd_gromos_system"
   ]
  },
  {
   "cell_type": "markdown",
   "metadata": {
    "pycharm": {
     "name": "#%% md\n"
    }
   },
   "source": [
    "## Further Analysis:"
   ]
  },
  {
   "cell_type": "code",
   "execution_count": 9,
   "metadata": {
    "execution": {
     "iopub.execute_input": "2022-04-05T16:40:13.994104Z",
     "iopub.status.busy": "2022-04-05T16:40:13.993204Z",
     "iopub.status.idle": "2022-04-05T16:40:14.004859Z",
     "shell.execute_reply": "2022-04-05T16:40:14.000036Z"
    }
   },
   "outputs": [],
   "source": [
    "#final analysis dir:\n",
    "from pygromos.utils import bash\n",
    "\n",
    "out_ana = project_dir+\"/c_ana\"\n",
    "if(not os.path.exists(out_ana)):\n",
    "    bash.make_folder(out_ana)"
   ]
  },
  {
   "cell_type": "markdown",
   "metadata": {},
   "source": [
    "### Coordinate analysis"
   ]
  },
  {
   "cell_type": "code",
   "execution_count": 10,
   "metadata": {
    "execution": {
     "iopub.execute_input": "2022-04-05T16:40:14.010470Z",
     "iopub.status.busy": "2022-04-05T16:40:14.009568Z",
     "iopub.status.idle": "2022-04-05T16:40:14.023504Z",
     "shell.execute_reply": "2022-04-05T16:40:14.021447Z"
    }
   },
   "outputs": [
    {
     "data": {
      "text/plain": [
       "'/home/mlehner/PyGromosTools/docs/sphinx_project/Examples/example_files/TI_Calculation/M030_to_6KET/a_emin/analysis/data/a_emin.pdb'"
      ]
     },
     "execution_count": 10,
     "metadata": {},
     "output_type": "execute_result"
    }
   ],
   "source": [
    "from pygromos.files.coord import Cnf\n",
    "in_path=project_dir+\"/a_emin/analysis/data/a_emin.cnf\"\n",
    "cnf_file = Cnf(in_path)\n",
    "cnf_file.write_pdb(in_path.replace(\"cnf\", \"pdb\"))\n"
   ]
  },
  {
   "cell_type": "code",
   "execution_count": 11,
   "metadata": {
    "execution": {
     "iopub.execute_input": "2022-04-05T16:40:14.028615Z",
     "iopub.status.busy": "2022-04-05T16:40:14.027309Z",
     "iopub.status.idle": "2022-04-05T16:40:14.115188Z",
     "shell.execute_reply": "2022-04-05T16:40:14.113284Z"
    }
   },
   "outputs": [
    {
     "data": {
      "application/vnd.jupyter.widget-view+json": {
       "model_id": "87c48311e6144d899e55155473529183",
       "version_major": 2,
       "version_minor": 0
      },
      "text/plain": [
       "NGLWidget()"
      ]
     },
     "metadata": {},
     "output_type": "display_data"
    }
   ],
   "source": [
    "cnf_file.view"
   ]
  },
  {
   "cell_type": "code",
   "execution_count": 12,
   "metadata": {
    "execution": {
     "iopub.execute_input": "2022-04-05T16:40:14.127889Z",
     "iopub.status.busy": "2022-04-05T16:40:14.127576Z",
     "iopub.status.idle": "2022-04-05T16:40:14.531132Z",
     "shell.execute_reply": "2022-04-05T16:40:14.529580Z"
    }
   },
   "outputs": [
    {
     "name": "stderr",
     "output_type": "stream",
     "text": [
      "/home/mlehner/anaconda3/envs/pygro2/lib/python3.9/site-packages/mdtraj/core/trajectory.py:438: UserWarning: top= kwargs ignored since this file parser does not support it\n",
      "  warnings.warn('top= kwargs ignored since this file parser does not support it')\n"
     ]
    },
    {
     "data": {
      "text/plain": [
       "<mdtraj.Trajectory with 300 frames, 26 atoms, 2 residues, and unitcells at 0x7fb9d8e37dc0>"
      ]
     },
     "execution_count": 12,
     "metadata": {},
     "output_type": "execute_result"
    }
   ],
   "source": [
    "from pygromos.files.trajectory.trc import Trc\n",
    "\n",
    "in_path=project_dir+\"/b_vacuum_sd/analysis/data/b_vacuum_sd.trc.h5\"\n",
    "\n",
    "trc = Trc(traj_path=in_path, in_cnf=cnf_file)\n",
    "trc.write(out_ana+\"/sd_traj.pdb\")#grom_system.cnf.path)\n",
    "trc"
   ]
  },
  {
   "cell_type": "code",
   "execution_count": 13,
   "metadata": {
    "execution": {
     "iopub.execute_input": "2022-04-05T16:40:14.537463Z",
     "iopub.status.busy": "2022-04-05T16:40:14.535778Z",
     "iopub.status.idle": "2022-04-05T16:40:14.623957Z",
     "shell.execute_reply": "2022-04-05T16:40:14.622367Z"
    }
   },
   "outputs": [
    {
     "data": {
      "application/vnd.jupyter.widget-view+json": {
       "model_id": "6d0e65addba54c09b522d7d4c3007c8e",
       "version_major": 2,
       "version_minor": 0
      },
      "text/plain": [
       "NGLWidget(max_frame=299)"
      ]
     },
     "metadata": {},
     "output_type": "display_data"
    }
   ],
   "source": [
    "trc.view\n"
   ]
  },
  {
   "cell_type": "markdown",
   "metadata": {},
   "source": [
    "### Energy analysis"
   ]
  },
  {
   "cell_type": "code",
   "execution_count": 14,
   "metadata": {
    "execution": {
     "iopub.execute_input": "2022-04-05T16:40:14.634249Z",
     "iopub.status.busy": "2022-04-05T16:40:14.633544Z",
     "iopub.status.idle": "2022-04-05T16:40:14.678899Z",
     "shell.execute_reply": "2022-04-05T16:40:14.677098Z"
    }
   },
   "outputs": [
    {
     "data": {
      "text/plain": [
       "Trajectory: \n",
       "\tRead from hdf save \n",
       "\tContains only database\n",
       "\t\n",
       "Type: \n",
       "\tTre\n",
       "Frames: \t300\t Columns:\t13\n"
      ]
     },
     "execution_count": 14,
     "metadata": {},
     "output_type": "execute_result"
    }
   ],
   "source": [
    "from pygromos.files.trajectory.tre import Tre\n",
    "\n",
    "in_path=project_dir+\"/b_vacuum_sd/analysis/data/b_vacuum_sd.tre.h5\"\n",
    "\n",
    "tre = Tre(input_value=in_path)\n",
    "tre\n",
    "\n"
   ]
  },
  {
   "cell_type": "code",
   "execution_count": 15,
   "metadata": {
    "execution": {
     "iopub.execute_input": "2022-04-05T16:40:14.685358Z",
     "iopub.status.busy": "2022-04-05T16:40:14.684046Z",
     "iopub.status.idle": "2022-04-05T16:40:15.581208Z",
     "shell.execute_reply": "2022-04-05T16:40:15.579228Z"
    }
   },
   "outputs": [
    {
     "data": {
      "image/png": "[encoded data removed]",
      "text/plain": [
       "<Figure size 432x288 with 1 Axes>"
      ]
     },
     "metadata": {
      "needs_background": "light"
     },
     "output_type": "display_data"
    }
   ],
   "source": [
    "#Plot Potential Energies\n",
    "V_tot = np.array(list(map(lambda x: x[2], tre.database.totals)))\n",
    "step = len(tre.database.time)//10\n",
    "\n",
    "plt.plot(tre.database.time, V_tot)\n",
    "plt.xticks(np.round(list(tre.database.time[::step]),2))\n",
    "plt.xlabel(\"$t~[ps]$\")\n",
    "plt.ylabel(\"$V~[kJ]$\")\n",
    "plt.title(\"V total timeseries\")\n",
    "plt.savefig(out_ana+\"/potential_energy_timeseries.png\")\n",
    "\n"
   ]
  },
  {
   "cell_type": "markdown",
   "metadata": {},
   "source": [
    "## Lambda Sampling\n",
    "\n",
    "### Setup again"
   ]
  },
  {
   "cell_type": "code",
   "execution_count": 16,
   "metadata": {
    "execution": {
     "iopub.execute_input": "2022-04-05T16:40:15.587798Z",
     "iopub.status.busy": "2022-04-05T16:40:15.586350Z",
     "iopub.status.idle": "2022-04-05T16:40:15.599461Z",
     "shell.execute_reply": "2022-04-05T16:40:15.597896Z"
    }
   },
   "outputs": [
    {
     "data": {
      "text/plain": [
       "\n",
       "GROMOS SYSTEM: b_vacuum_sd\n",
       "################################################################################\n",
       "WORKDIR: /home/mlehner/PyGromosTools/examples/example_files/TI_Calculation/M030_to_6KET\n",
       "LAST CHECKPOINT: /home/mlehner/PyGromosTools/docs/sphinx_project/Examples/example_files/TI_Calculation/M030_to_6KET/initial_startSys.obj\n",
       "\n",
       "GromosXX_bin: None\n",
       "GromosPP_bin: None\n",
       "FILES: \n",
       "\timd: /home/mlehner/PyGromosTools/examples/example_files/TI_Calculation/M030_to_6KET/b_vacuum_sd/input/b_vacuum_sd.imd\n",
       "\ttop: /home/mlehner/PyGromosTools/examples/example_files/TI_Calculation/M030_to_6KET/b_vacuum_sd/input/b_vacuum_sd.top\n",
       "\tcnf: /home/mlehner/PyGromosTools/examples/example_files/TI_Calculation/M030_to_6KET/b_vacuum_sd/analysis/data/b_vacuum_sd.cnf\n",
       "\tdisres: /home/mlehner/PyGromosTools/examples/example_files/TI_Calculation/M030_to_6KET/b_vacuum_sd/input/b_vacuum_sd.disres\n",
       "\tptp: /home/mlehner/PyGromosTools/examples/example_files/TI_Calculation/M030_to_6KET/b_vacuum_sd/input/b_vacuum_sd.ptp\n",
       "FUTURE PROMISE: False\n",
       "SYSTEM: \n",
       "\tSolute:\t['M030', '6KET']  resID: [1, 2]  natoms: 26\n",
       "\tSOLVENT:\t[]  nmolecules: 0  natoms: 0\n",
       "\n"
      ]
     },
     "execution_count": 16,
     "metadata": {},
     "output_type": "execute_result"
    }
   ],
   "source": [
    "import os\n",
    "import numpy as np\n",
    "from pygromos.files.gromos_system import Gromos_System\n",
    "from pygromos.simulations.hpc_queuing.submission_systems.local import LOCAL as subSystem\n",
    "\n",
    "from pygromos.utils import bash\n",
    "sys_name = \"M030_to_6KET\"\n",
    "\n",
    "sd_gromos_system.imd.WRITETRAJ.NTWG =  sd_gromos_system.imd.WRITETRAJ.NTWX = sd_gromos_system.imd.WRITETRAJ.NTWE =10\n",
    "sd_gromos_system.imd.STEP.NSTLIM = 100\n",
    "\n",
    "sd_gromos_system"
   ]
  },
  {
   "cell_type": "markdown",
   "metadata": {},
   "source": [
    "## Submission"
   ]
  },
  {
   "cell_type": "code",
   "execution_count": 17,
   "metadata": {
    "execution": {
     "iopub.execute_input": "2022-04-05T16:40:15.606522Z",
     "iopub.status.busy": "2022-04-05T16:40:15.605462Z",
     "iopub.status.idle": "2022-04-05T16:43:25.868852Z",
     "shell.execute_reply": "2022-04-05T16:43:25.865280Z"
    }
   },
   "outputs": [
    {
     "name": "stderr",
     "output_type": "stream",
     "text": [
      "/home/mlehner/PyGromosTools/pygromos/files/gromos_system/gromos_system.py:1173: UserWarning: FOUND ALREADY A FILE! SKIPPING!\n",
      "  warnings.warn(\"FOUND ALREADY A FILE! SKIPPING!\")\n"
     ]
    },
    {
     "name": "stdout",
     "output_type": "stream",
     "text": [
      "################################################################################\n",
      "\n",
      "d_lambda_sampling_l_0.0\n",
      "################################################################################\n",
      "\n",
      "Script:  /home/mlehner/PyGromosTools/pygromos/simulations/hpc_queuing/job_scheduling/schedulers/simulation_scheduler.py\n",
      "\n",
      "################################################################################\n",
      "Simulation Setup:\n",
      "################################################################################\n",
      "\n",
      "steps_per_run:  100\n",
      "equis:  1\n",
      "simulation runs:  3\n",
      "################################################################################\n",
      "\n",
      " submit final analysis part \n",
      "\n",
      "/home/mlehner/PyGromosTools/examples/example_files/TI_Calculation/M030_to_6KET/d_lambda_sampling/d_lambda_sampling_l_0.0/ana_out.log\n",
      "/home/mlehner/PyGromosTools/examples/example_files/TI_Calculation/M030_to_6KET/d_lambda_sampling/d_lambda_sampling_l_0.0/job_analysis.py\n"
     ]
    },
    {
     "name": "stdout",
     "output_type": "stream",
     "text": [
      "ANA jobID: None\n"
     ]
    },
    {
     "name": "stderr",
     "output_type": "stream",
     "text": [
      "/home/mlehner/PyGromosTools/pygromos/files/gromos_system/gromos_system.py:1173: UserWarning: FOUND ALREADY A FILE! SKIPPING!\n",
      "  warnings.warn(\"FOUND ALREADY A FILE! SKIPPING!\")\n"
     ]
    },
    {
     "name": "stdout",
     "output_type": "stream",
     "text": [
      "################################################################################\n",
      "\n",
      "d_lambda_sampling_l_0.2\n",
      "################################################################################\n",
      "\n",
      "Script:  /home/mlehner/PyGromosTools/pygromos/simulations/hpc_queuing/job_scheduling/schedulers/simulation_scheduler.py\n",
      "\n",
      "################################################################################\n",
      "Simulation Setup:\n",
      "################################################################################\n",
      "\n",
      "steps_per_run:  100\n",
      "equis:  1\n",
      "simulation runs:  3\n",
      "################################################################################\n",
      "\n",
      " submit final analysis part \n",
      "\n",
      "/home/mlehner/PyGromosTools/examples/example_files/TI_Calculation/M030_to_6KET/d_lambda_sampling/d_lambda_sampling_l_0.2/ana_out.log\n",
      "/home/mlehner/PyGromosTools/examples/example_files/TI_Calculation/M030_to_6KET/d_lambda_sampling/d_lambda_sampling_l_0.2/job_analysis.py\n"
     ]
    },
    {
     "name": "stdout",
     "output_type": "stream",
     "text": [
      "ANA jobID: None\n"
     ]
    },
    {
     "name": "stderr",
     "output_type": "stream",
     "text": [
      "/home/mlehner/PyGromosTools/pygromos/files/gromos_system/gromos_system.py:1173: UserWarning: FOUND ALREADY A FILE! SKIPPING!\n",
      "  warnings.warn(\"FOUND ALREADY A FILE! SKIPPING!\")\n"
     ]
    },
    {
     "name": "stdout",
     "output_type": "stream",
     "text": [
      "################################################################################\n",
      "\n",
      "d_lambda_sampling_l_0.4\n",
      "################################################################################\n",
      "\n",
      "Script:  /home/mlehner/PyGromosTools/pygromos/simulations/hpc_queuing/job_scheduling/schedulers/simulation_scheduler.py\n",
      "\n",
      "################################################################################\n",
      "Simulation Setup:\n",
      "################################################################################\n",
      "\n",
      "steps_per_run:  100\n",
      "equis:  1\n",
      "simulation runs:  3\n",
      "################################################################################\n",
      "\n",
      " submit final analysis part \n",
      "\n",
      "/home/mlehner/PyGromosTools/examples/example_files/TI_Calculation/M030_to_6KET/d_lambda_sampling/d_lambda_sampling_l_0.4/ana_out.log\n",
      "/home/mlehner/PyGromosTools/examples/example_files/TI_Calculation/M030_to_6KET/d_lambda_sampling/d_lambda_sampling_l_0.4/job_analysis.py\n"
     ]
    },
    {
     "name": "stdout",
     "output_type": "stream",
     "text": [
      "ANA jobID: None\n"
     ]
    },
    {
     "name": "stderr",
     "output_type": "stream",
     "text": [
      "/home/mlehner/PyGromosTools/pygromos/files/gromos_system/gromos_system.py:1173: UserWarning: FOUND ALREADY A FILE! SKIPPING!\n",
      "  warnings.warn(\"FOUND ALREADY A FILE! SKIPPING!\")\n"
     ]
    },
    {
     "name": "stdout",
     "output_type": "stream",
     "text": [
      "################################################################################\n",
      "\n",
      "d_lambda_sampling_l_0.6\n",
      "################################################################################\n",
      "\n",
      "Script:  /home/mlehner/PyGromosTools/pygromos/simulations/hpc_queuing/job_scheduling/schedulers/simulation_scheduler.py\n",
      "\n",
      "################################################################################\n",
      "Simulation Setup:\n",
      "################################################################################\n",
      "\n",
      "steps_per_run:  100\n",
      "equis:  1\n",
      "simulation runs:  3\n",
      "################################################################################\n",
      "\n",
      " submit final analysis part \n",
      "\n",
      "/home/mlehner/PyGromosTools/examples/example_files/TI_Calculation/M030_to_6KET/d_lambda_sampling/d_lambda_sampling_l_0.6/ana_out.log\n",
      "/home/mlehner/PyGromosTools/examples/example_files/TI_Calculation/M030_to_6KET/d_lambda_sampling/d_lambda_sampling_l_0.6/job_analysis.py\n"
     ]
    },
    {
     "name": "stdout",
     "output_type": "stream",
     "text": [
      "ANA jobID: None\n"
     ]
    },
    {
     "name": "stderr",
     "output_type": "stream",
     "text": [
      "/home/mlehner/PyGromosTools/pygromos/files/gromos_system/gromos_system.py:1173: UserWarning: FOUND ALREADY A FILE! SKIPPING!\n",
      "  warnings.warn(\"FOUND ALREADY A FILE! SKIPPING!\")\n"
     ]
    },
    {
     "name": "stdout",
     "output_type": "stream",
     "text": [
      "################################################################################\n",
      "\n",
      "d_lambda_sampling_l_0.8\n",
      "################################################################################\n",
      "\n",
      "Script:  /home/mlehner/PyGromosTools/pygromos/simulations/hpc_queuing/job_scheduling/schedulers/simulation_scheduler.py\n",
      "\n",
      "################################################################################\n",
      "Simulation Setup:\n",
      "################################################################################\n",
      "\n",
      "steps_per_run:  100\n",
      "equis:  1\n",
      "simulation runs:  3\n",
      "################################################################################\n",
      "\n",
      " submit final analysis part \n",
      "\n",
      "/home/mlehner/PyGromosTools/examples/example_files/TI_Calculation/M030_to_6KET/d_lambda_sampling/d_lambda_sampling_l_0.8/ana_out.log\n",
      "/home/mlehner/PyGromosTools/examples/example_files/TI_Calculation/M030_to_6KET/d_lambda_sampling/d_lambda_sampling_l_0.8/job_analysis.py\n"
     ]
    },
    {
     "name": "stdout",
     "output_type": "stream",
     "text": [
      "ANA jobID: None\n"
     ]
    },
    {
     "name": "stderr",
     "output_type": "stream",
     "text": [
      "/home/mlehner/PyGromosTools/pygromos/files/gromos_system/gromos_system.py:1173: UserWarning: FOUND ALREADY A FILE! SKIPPING!\n",
      "  warnings.warn(\"FOUND ALREADY A FILE! SKIPPING!\")\n"
     ]
    },
    {
     "name": "stdout",
     "output_type": "stream",
     "text": [
      "################################################################################\n",
      "\n",
      "d_lambda_sampling_l_1.0\n",
      "################################################################################\n",
      "\n",
      "Script:  /home/mlehner/PyGromosTools/pygromos/simulations/hpc_queuing/job_scheduling/schedulers/simulation_scheduler.py\n",
      "\n",
      "################################################################################\n",
      "Simulation Setup:\n",
      "################################################################################\n",
      "\n",
      "steps_per_run:  100\n",
      "equis:  1\n",
      "simulation runs:  3\n",
      "################################################################################\n",
      "\n",
      " submit final analysis part \n",
      "\n",
      "/home/mlehner/PyGromosTools/examples/example_files/TI_Calculation/M030_to_6KET/d_lambda_sampling/d_lambda_sampling_l_1.0/ana_out.log\n",
      "/home/mlehner/PyGromosTools/examples/example_files/TI_Calculation/M030_to_6KET/d_lambda_sampling/d_lambda_sampling_l_1.0/job_analysis.py\n"
     ]
    },
    {
     "name": "stdout",
     "output_type": "stream",
     "text": [
      "ANA jobID: None\n"
     ]
    },
    {
     "name": "stderr",
     "output_type": "stream",
     "text": [
      "/home/mlehner/PyGromosTools/pygromos/files/gromos_system/gromos_system.py:1173: UserWarning: FOUND ALREADY A FILE! SKIPPING!\n",
      "  warnings.warn(\"FOUND ALREADY A FILE! SKIPPING!\")\n"
     ]
    },
    {
     "data": {
      "text/plain": [
       "\n",
       "GROMOS SYSTEM: d_lambda_sampling_l_1.0\n",
       "################################################################################\n",
       "WORKDIR: /home/mlehner/PyGromosTools/examples/example_files/TI_Calculation/M030_to_6KET/d_lambda_sampling\n",
       "LAST CHECKPOINT: /home/mlehner/PyGromosTools/docs/sphinx_project/Examples/example_files/TI_Calculation/M030_to_6KET/initial_startSys.obj\n",
       "\n",
       "GromosXX_bin: None\n",
       "GromosPP_bin: None\n",
       "FILES: \n",
       "\timd: /home/mlehner/PyGromosTools/examples/example_files/TI_Calculation/M030_to_6KET/d_lambda_sampling/d_lambda_sampling_l_1.0.imd\n",
       "\ttop: /home/mlehner/PyGromosTools/examples/example_files/TI_Calculation/M030_to_6KET/d_lambda_sampling/d_lambda_sampling_l_1.0.top\n",
       "\tcnf: /home/mlehner/PyGromosTools/examples/example_files/TI_Calculation/M030_to_6KET/d_lambda_sampling/d_lambda_sampling_l_1.0.cnf\n",
       "\tdisres: /home/mlehner/PyGromosTools/examples/example_files/TI_Calculation/M030_to_6KET/d_lambda_sampling/d_lambda_sampling_l_1.0.disres\n",
       "\tptp: /home/mlehner/PyGromosTools/examples/example_files/TI_Calculation/M030_to_6KET/d_lambda_sampling/d_lambda_sampling_l_1.0.ptp\n",
       "FUTURE PROMISE: False\n",
       "SYSTEM: \n",
       "\tSolute:\t['M030', '6KET']  resID: [1, 2]  natoms: 26\n",
       "\tSOLVENT:\t[]  nmolecules: 0  natoms: 0\n",
       "\n"
      ]
     },
     "execution_count": 17,
     "metadata": {},
     "output_type": "execute_result"
    }
   ],
   "source": [
    "from pygromos.simulations.modules.ti_modules import TI_sampling\n",
    "\n",
    "step_name  = \"d_lambda_sampling\"\n",
    "sd_gromos_system.name = step_name\n",
    "\n",
    "\n",
    "TI_sampling(in_gromos_system = sd_gromos_system, step_name=step_name,\n",
    "            lambda_values= np.arange(0, 1.2, 0.2), \n",
    "            subSystem=subSystem(), n_productions=3, n_equilibrations = 1)\n"
   ]
  },
  {
   "cell_type": "markdown",
   "metadata": {},
   "source": [
    "## Free Energy Calculation:\n"
   ]
  },
  {
   "cell_type": "code",
   "execution_count": 18,
   "metadata": {
    "execution": {
     "iopub.execute_input": "2022-04-05T16:43:25.876180Z",
     "iopub.status.busy": "2022-04-05T16:43:25.875223Z",
     "iopub.status.idle": "2022-04-05T16:43:26.024938Z",
     "shell.execute_reply": "2022-04-05T16:43:26.022650Z"
    }
   },
   "outputs": [],
   "source": [
    "#read in trgs files for free energy data:\n",
    "import glob\n",
    "from matplotlib import pyplot as plt\n",
    "from pygromos.files.trajectory.trg import Trg\n",
    "\n",
    "\n",
    "step_name  = \"d_lambda_sampling\"\n",
    "path = project_dir+\"/\"+step_name\n",
    "\n",
    "trg_paths = sorted(glob.glob(path+\"/*/analysis/data/*trg.h5\"), key=lambda x: float(\"\".join(x.split(\"_\")[-1].split(\".\")[1])))\n",
    "trg_paths.append(trg_paths.pop(0))\n",
    "trgs = [Trg(tre_path) for tre_path in trg_paths]\n"
   ]
  },
  {
   "cell_type": "code",
   "execution_count": 19,
   "metadata": {
    "execution": {
     "iopub.execute_input": "2022-04-05T16:43:26.030714Z",
     "iopub.status.busy": "2022-04-05T16:43:26.029437Z",
     "iopub.status.idle": "2022-04-05T16:43:26.064300Z",
     "shell.execute_reply": "2022-04-05T16:43:26.062772Z"
    }
   },
   "outputs": [
    {
     "data": {
      "text/plain": [
       "([0.0, 0.2, 0.4, 0.6, 0.8, 1.0],\n",
       " [168.82322894333325,\n",
       "  73.05525408999999,\n",
       "  -136.67749509,\n",
       "  -452.37494077333344,\n",
       "  -850.4159182666666,\n",
       "  -873.276764573333])"
      ]
     },
     "execution_count": 19,
     "metadata": {},
     "output_type": "execute_result"
    }
   ],
   "source": [
    "# get lambda window values:\n",
    "lams = [float(trg.get_lambdas().iloc[0]) for trg in trgs]\n",
    "dhdl_means = [float(trg.get_totals()[\"dHdl\"].mean()) for trg in trgs]\n",
    "\n",
    "lams, dhdl_means"
   ]
  },
  {
   "cell_type": "markdown",
   "metadata": {},
   "source": [
    "### TI - Integration Curve"
   ]
  },
  {
   "cell_type": "code",
   "execution_count": 20,
   "metadata": {
    "execution": {
     "iopub.execute_input": "2022-04-05T16:43:26.071798Z",
     "iopub.status.busy": "2022-04-05T16:43:26.070849Z",
     "iopub.status.idle": "2022-04-05T16:43:26.347767Z",
     "shell.execute_reply": "2022-04-05T16:43:26.346355Z"
    }
   },
   "outputs": [
    {
     "data": {
      "text/plain": [
       "[<matplotlib.lines.Line2D at 0x7fba16c97820>]"
      ]
     },
     "execution_count": 20,
     "metadata": {},
     "output_type": "execute_result"
    },
    {
     "data": {
      "image/png": "[encoded data removed]",
      "text/plain": [
       "<Figure size 432x288 with 1 Axes>"
      ]
     },
     "metadata": {
      "needs_background": "light"
     },
     "output_type": "display_data"
    }
   ],
   "source": [
    "plt.plot(lams, dhdl_means)"
   ]
  },
  {
   "cell_type": "markdown",
   "metadata": {},
   "source": [
    "### Calculate Integration"
   ]
  },
  {
   "cell_type": "code",
   "execution_count": 21,
   "metadata": {
    "execution": {
     "iopub.execute_input": "2022-04-05T16:43:26.355216Z",
     "iopub.status.busy": "2022-04-05T16:43:26.354031Z",
     "iopub.status.idle": "2022-04-05T16:43:26.592268Z",
     "shell.execute_reply": "2022-04-05T16:43:26.590207Z"
    }
   },
   "outputs": [
    {
     "data": {
      "text/plain": [
       "-344.943092380111"
      ]
     },
     "execution_count": 21,
     "metadata": {},
     "output_type": "execute_result"
    }
   ],
   "source": [
    "from scipy.integrate import simpson\n",
    "dF = simpson(y=dhdl_means, x=lams)\n",
    "dF"
   ]
  }
 ],
 "metadata": {
  "interpreter": {
   "hash": "dd72df1003b4b968da7a05a6ba63af3773812ec2262e6b7ecb2dafd4fd33c317"
  },
  "kernelspec": {
   "display_name": "Python 3.9.12 ('pygromosDev')",
   "language": "python",
   "name": "python3"
  },
  "language_info": {
   "codemirror_mode": {
    "name": "ipython",
    "version": 3
   },
   "file_extension": ".py",
   "mimetype": "text/x-python",
   "name": "python",
   "nbconvert_exporter": "python",
   "pygments_lexer": "ipython3",
   "version": "3.9.7"
  },
  "widgets": {
   "application/vnd.jupyter.widget-state+json": {
    "state": {
     "023f175fb1f04f0a9f3b0ca7d0c4c9fb": {
      "model_module": "@jupyter-widgets/controls",
      "model_module_version": "1.5.0",
      "model_name": "IntSliderModel",
      "state": {
       "_dom_classes": [],
       "_model_module": "@jupyter-widgets/controls",
       "_model_module_version": "1.5.0",
       "_model_name": "IntSliderModel",
       "_view_count": null,
       "_view_module": "@jupyter-widgets/controls",
       "_view_module_version": "1.5.0",
       "_view_name": "IntSliderView",
       "continuous_update": true,
       "description": "",
       "description_tooltip": null,
       "disabled": false,
       "layout": "IPY_MODEL_5a3ce9b8941e4ec7afe9e8a21b1de8f6",
       "max": 299,
       "min": 0,
       "orientation": "horizontal",
       "readout": true,
       "readout_format": "d",
       "step": 1,
       "style": "IPY_MODEL_4ff7c4aceafc421db1502b9fc4cb2bd3",
       "value": 0
      }
     },
     "07b9d180492b4cabada54a534534af40": {
      "model_module": "@jupyter-widgets/base",
      "model_module_version": "1.2.0",
      "model_name": "LayoutModel",
      "state": {
       "_model_module": "@jupyter-widgets/base",
       "_model_module_version": "1.2.0",
       "_model_name": "LayoutModel",
       "_view_count": null,
       "_view_module": "@jupyter-widgets/base",
       "_view_module_version": "1.2.0",
       "_view_name": "LayoutView",
       "align_content": null,
       "align_items": null,
       "align_self": null,
       "border": null,
       "bottom": null,
       "display": null,
       "flex": null,
       "flex_flow": null,
       "grid_area": null,
       "grid_auto_columns": null,
       "grid_auto_flow": null,
       "grid_auto_rows": null,
       "grid_column": null,
       "grid_gap": null,
       "grid_row": null,
       "grid_template_areas": null,
       "grid_template_columns": null,
       "grid_template_rows": null,
       "height": null,
       "justify_content": null,
       "justify_items": null,
       "left": null,
       "margin": null,
       "max_height": null,
       "max_width": null,
       "min_height": null,
       "min_width": null,
       "object_fit": null,
       "object_position": null,
       "order": null,
       "overflow": null,
       "overflow_x": null,
       "overflow_y": null,
       "padding": null,
       "right": null,
       "top": null,
       "visibility": null,
       "width": null
      }
     },
     "0d94561ae0234e01b8f6b552158b3015": {
      "model_module": "@jupyter-widgets/controls",
      "model_module_version": "1.5.0",
      "model_name": "LinkModel",
      "state": {
       "_model_module": "@jupyter-widgets/controls",
       "_model_module_version": "1.5.0",
       "_model_name": "LinkModel",
       "_view_count": null,
       "_view_module": "@jupyter-widgets/controls",
       "_view_module_version": "1.5.0",
       "_view_name": null,
       "source": [
        "IPY_MODEL_fda3ce119dc847059dca4307591f6893",
        "max"
       ],
       "target": [
        "IPY_MODEL_87c48311e6144d899e55155473529183",
        "max_frame"
       ]
      }
     },
     "14502f56bbdc460882cf4a570a02b5c6": {
      "model_module": "@jupyter-widgets/controls",
      "model_module_version": "1.5.0",
      "model_name": "PlayModel",
      "state": {
       "_dom_classes": [],
       "_model_module": "@jupyter-widgets/controls",
       "_model_module_version": "1.5.0",
       "_model_name": "PlayModel",
       "_playing": false,
       "_repeat": false,
       "_view_count": null,
       "_view_module": "@jupyter-widgets/controls",
       "_view_module_version": "1.5.0",
       "_view_name": "PlayView",
       "description": "",
       "description_tooltip": null,
       "disabled": false,
       "interval": 100,
       "layout": "IPY_MODEL_df04d7a0d2034ac099ee6dd5e4c17125",
       "max": 299,
       "min": 0,
       "show_repeat": true,
       "step": 1,
       "style": "IPY_MODEL_e11dbaf31afd4567a025542e62cdef6a",
       "value": 0
      }
     },
     "1f16e8b742e743c8b5f382fa541d1d7f": {
      "model_module": "@jupyter-widgets/base",
      "model_module_version": "1.2.0",
      "model_name": "LayoutModel",
      "state": {
       "_model_module": "@jupyter-widgets/base",
       "_model_module_version": "1.2.0",
       "_model_name": "LayoutModel",
       "_view_count": null,
       "_view_module": "@jupyter-widgets/base",
       "_view_module_version": "1.2.0",
       "_view_name": "LayoutView",
       "align_content": null,
       "align_items": null,
       "align_self": null,
       "border": null,
       "bottom": null,
       "display": null,
       "flex": null,
       "flex_flow": null,
       "grid_area": null,
       "grid_auto_columns": null,
       "grid_auto_flow": null,
       "grid_auto_rows": null,
       "grid_column": null,
       "grid_gap": null,
       "grid_row": null,
       "grid_template_areas": null,
       "grid_template_columns": null,
       "grid_template_rows": null,
       "height": null,
       "justify_content": null,
       "justify_items": null,
       "left": null,
       "margin": null,
       "max_height": null,
       "max_width": null,
       "min_height": null,
       "min_width": null,
       "object_fit": null,
       "object_position": null,
       "order": null,
       "overflow": null,
       "overflow_x": null,
       "overflow_y": null,
       "padding": null,
       "right": null,
       "top": null,
       "visibility": null,
       "width": null
      }
     },
     "25da2e66618d4a09b31b9bdd99799500": {
      "model_module": "@jupyter-widgets/controls",
      "model_module_version": "1.5.0",
      "model_name": "HBoxModel",
      "state": {
       "_dom_classes": [],
       "_model_module": "@jupyter-widgets/controls",
       "_model_module_version": "1.5.0",
       "_model_name": "HBoxModel",
       "_view_count": null,
       "_view_module": "@jupyter-widgets/controls",
       "_view_module_version": "1.5.0",
       "_view_name": "HBoxView",
       "box_style": "",
       "children": [
        "IPY_MODEL_4fcd66ecfae54692959b16316a6173d4",
        "IPY_MODEL_fda3ce119dc847059dca4307591f6893"
       ],
       "layout": "IPY_MODEL_75a070e75f7a42d88f46b7ce3c8528fd"
      }
     },
     "277734f385bb43baa7641990d8048918": {
      "model_module": "@jupyter-widgets/controls",
      "model_module_version": "1.5.0",
      "model_name": "LinkModel",
      "state": {
       "_model_module": "@jupyter-widgets/controls",
       "_model_module_version": "1.5.0",
       "_model_name": "LinkModel",
       "_view_count": null,
       "_view_module": "@jupyter-widgets/controls",
       "_view_module_version": "1.5.0",
       "_view_name": null,
       "source": [
        "IPY_MODEL_14502f56bbdc460882cf4a570a02b5c6",
        "value"
       ],
       "target": [
        "IPY_MODEL_6d0e65addba54c09b522d7d4c3007c8e",
        "frame"
       ]
      }
     },
     "31aaed2a01254cb69a432bc744449b2b": {
      "model_module": "@jupyter-widgets/controls",
      "model_module_version": "1.5.0",
      "model_name": "LinkModel",
      "state": {
       "_model_module": "@jupyter-widgets/controls",
       "_model_module_version": "1.5.0",
       "_model_name": "LinkModel",
       "_view_count": null,
       "_view_module": "@jupyter-widgets/controls",
       "_view_module_version": "1.5.0",
       "_view_name": null,
       "source": [
        "IPY_MODEL_4fcd66ecfae54692959b16316a6173d4",
        "max"
       ],
       "target": [
        "IPY_MODEL_87c48311e6144d899e55155473529183",
        "max_frame"
       ]
      }
     },
     "34a148e109a543528b299a9b8df83c54": {
      "model_module": "@jupyter-widgets/controls",
      "model_module_version": "1.5.0",
      "model_name": "LinkModel",
      "state": {
       "_model_module": "@jupyter-widgets/controls",
       "_model_module_version": "1.5.0",
       "_model_name": "LinkModel",
       "_view_count": null,
       "_view_module": "@jupyter-widgets/controls",
       "_view_module_version": "1.5.0",
       "_view_name": null,
       "source": [
        "IPY_MODEL_4fcd66ecfae54692959b16316a6173d4",
        "value"
       ],
       "target": [
        "IPY_MODEL_fda3ce119dc847059dca4307591f6893",
        "value"
       ]
      }
     },
     "47bc8bf54b52432288b6b06426cee914": {
      "model_module": "@jupyter-widgets/base",
      "model_module_version": "1.2.0",
      "model_name": "LayoutModel",
      "state": {
       "_model_module": "@jupyter-widgets/base",
       "_model_module_version": "1.2.0",
       "_model_name": "LayoutModel",
       "_view_count": null,
       "_view_module": "@jupyter-widgets/base",
       "_view_module_version": "1.2.0",
       "_view_name": "LayoutView",
       "align_content": null,
       "align_items": null,
       "align_self": null,
       "border": null,
       "bottom": null,
       "display": null,
       "flex": null,
       "flex_flow": null,
       "grid_area": null,
       "grid_auto_columns": null,
       "grid_auto_flow": null,
       "grid_auto_rows": null,
       "grid_column": null,
       "grid_gap": null,
       "grid_row": null,
       "grid_template_areas": null,
       "grid_template_columns": null,
       "grid_template_rows": null,
       "height": null,
       "justify_content": null,
       "justify_items": null,
       "left": null,
       "margin": null,
       "max_height": null,
       "max_width": null,
       "min_height": null,
       "min_width": null,
       "object_fit": null,
       "object_position": null,
       "order": null,
       "overflow": null,
       "overflow_x": null,
       "overflow_y": null,
       "padding": null,
       "right": null,
       "top": null,
       "visibility": null,
       "width": "34px"
      }
     },
     "4fcd66ecfae54692959b16316a6173d4": {
      "model_module": "@jupyter-widgets/controls",
      "model_module_version": "1.5.0",
      "model_name": "PlayModel",
      "state": {
       "_dom_classes": [],
       "_model_module": "@jupyter-widgets/controls",
       "_model_module_version": "1.5.0",
       "_model_name": "PlayModel",
       "_playing": false,
       "_repeat": false,
       "_view_count": null,
       "_view_module": "@jupyter-widgets/controls",
       "_view_module_version": "1.5.0",
       "_view_name": "PlayView",
       "description": "",
       "description_tooltip": null,
       "disabled": false,
       "interval": 100,
       "layout": "IPY_MODEL_1f16e8b742e743c8b5f382fa541d1d7f",
       "max": 0,
       "min": 0,
       "show_repeat": true,
       "step": 1,
       "style": "IPY_MODEL_b6ed9d7267be4a24ba0c6b646aabe566",
       "value": 0
      }
     },
     "4ff7c4aceafc421db1502b9fc4cb2bd3": {
      "model_module": "@jupyter-widgets/controls",
      "model_module_version": "1.5.0",
      "model_name": "SliderStyleModel",
      "state": {
       "_model_module": "@jupyter-widgets/controls",
       "_model_module_version": "1.5.0",
       "_model_name": "SliderStyleModel",
       "_view_count": null,
       "_view_module": "@jupyter-widgets/base",
       "_view_module_version": "1.2.0",
       "_view_name": "StyleView",
       "description_width": "",
       "handle_color": null
      }
     },
     "54e942f9bce14d3e8f176dea14538113": {
      "model_module": "@jupyter-widgets/base",
      "model_module_version": "1.2.0",
      "model_name": "LayoutModel",
      "state": {
       "_model_module": "@jupyter-widgets/base",
       "_model_module_version": "1.2.0",
       "_model_name": "LayoutModel",
       "_view_count": null,
       "_view_module": "@jupyter-widgets/base",
       "_view_module_version": "1.2.0",
       "_view_name": "LayoutView",
       "align_content": null,
       "align_items": null,
       "align_self": null,
       "border": null,
       "bottom": null,
       "display": null,
       "flex": null,
       "flex_flow": null,
       "grid_area": null,
       "grid_auto_columns": null,
       "grid_auto_flow": null,
       "grid_auto_rows": null,
       "grid_column": null,
       "grid_gap": null,
       "grid_row": null,
       "grid_template_areas": null,
       "grid_template_columns": null,
       "grid_template_rows": null,
       "height": null,
       "justify_content": null,
       "justify_items": null,
       "left": null,
       "margin": null,
       "max_height": null,
       "max_width": null,
       "min_height": null,
       "min_width": null,
       "object_fit": null,
       "object_position": null,
       "order": null,
       "overflow": null,
       "overflow_x": null,
       "overflow_y": null,
       "padding": null,
       "right": null,
       "top": null,
       "visibility": null,
       "width": null
      }
     },
     "5a3ce9b8941e4ec7afe9e8a21b1de8f6": {
      "model_module": "@jupyter-widgets/base",
      "model_module_version": "1.2.0",
      "model_name": "LayoutModel",
      "state": {
       "_model_module": "@jupyter-widgets/base",
       "_model_module_version": "1.2.0",
       "_model_name": "LayoutModel",
       "_view_count": null,
       "_view_module": "@jupyter-widgets/base",
       "_view_module_version": "1.2.0",
       "_view_name": "LayoutView",
       "align_content": null,
       "align_items": null,
       "align_self": null,
       "border": null,
       "bottom": null,
       "display": null,
       "flex": null,
       "flex_flow": null,
       "grid_area": null,
       "grid_auto_columns": null,
       "grid_auto_flow": null,
       "grid_auto_rows": null,
       "grid_column": null,
       "grid_gap": null,
       "grid_row": null,
       "grid_template_areas": null,
       "grid_template_columns": null,
       "grid_template_rows": null,
       "height": null,
       "justify_content": null,
       "justify_items": null,
       "left": null,
       "margin": null,
       "max_height": null,
       "max_width": null,
       "min_height": null,
       "min_width": null,
       "object_fit": null,
       "object_position": null,
       "order": null,
       "overflow": null,
       "overflow_x": null,
       "overflow_y": null,
       "padding": null,
       "right": null,
       "top": null,
       "visibility": null,
       "width": null
      }
     },
     "5f268356b98044e1912d04ffbb5b4e75": {
      "model_module": "@jupyter-widgets/controls",
      "model_module_version": "1.5.0",
      "model_name": "ButtonModel",
      "state": {
       "_dom_classes": [],
       "_model_module": "@jupyter-widgets/controls",
       "_model_module_version": "1.5.0",
       "_model_name": "ButtonModel",
       "_view_count": null,
       "_view_module": "@jupyter-widgets/controls",
       "_view_module_version": "1.5.0",
       "_view_name": "ButtonView",
       "button_style": "",
       "description": "",
       "disabled": false,
       "icon": "compress",
       "layout": "IPY_MODEL_c534f12130994ec7b709c1e4ffeb8909",
       "style": "IPY_MODEL_f4a7e2671cd848ab873384a1d9af8362",
       "tooltip": ""
      }
     },
     "6553b39f93f54d96ac0040cbafe98191": {
      "model_module": "@jupyter-widgets/base",
      "model_module_version": "1.2.0",
      "model_name": "LayoutModel",
      "state": {
       "_model_module": "@jupyter-widgets/base",
       "_model_module_version": "1.2.0",
       "_model_name": "LayoutModel",
       "_view_count": null,
       "_view_module": "@jupyter-widgets/base",
       "_view_module_version": "1.2.0",
       "_view_name": "LayoutView",
       "align_content": null,
       "align_items": null,
       "align_self": null,
       "border": null,
       "bottom": null,
       "display": null,
       "flex": null,
       "flex_flow": null,
       "grid_area": null,
       "grid_auto_columns": null,
       "grid_auto_flow": null,
       "grid_auto_rows": null,
       "grid_column": null,
       "grid_gap": null,
       "grid_row": null,
       "grid_template_areas": null,
       "grid_template_columns": null,
       "grid_template_rows": null,
       "height": null,
       "justify_content": null,
       "justify_items": null,
       "left": null,
       "margin": null,
       "max_height": null,
       "max_width": null,
       "min_height": null,
       "min_width": null,
       "object_fit": null,
       "object_position": null,
       "order": null,
       "overflow": null,
       "overflow_x": null,
       "overflow_y": null,
       "padding": null,
       "right": null,
       "top": null,
       "visibility": null,
       "width": null
      }
     },
     "697db97ee225409d8f83e8e5dc55af59": {
      "model_module": "@jupyter-widgets/controls",
      "model_module_version": "1.5.0",
      "model_name": "LinkModel",
      "state": {
       "_model_module": "@jupyter-widgets/controls",
       "_model_module_version": "1.5.0",
       "_model_name": "LinkModel",
       "_view_count": null,
       "_view_module": "@jupyter-widgets/controls",
       "_view_module_version": "1.5.0",
       "_view_name": null,
       "source": [
        "IPY_MODEL_023f175fb1f04f0a9f3b0ca7d0c4c9fb",
        "max"
       ],
       "target": [
        "IPY_MODEL_6d0e65addba54c09b522d7d4c3007c8e",
        "max_frame"
       ]
      }
     },
     "6cae155b19e2440ea2be631ad162b05f": {
      "model_module": "@jupyter-widgets/controls",
      "model_module_version": "1.5.0",
      "model_name": "LinkModel",
      "state": {
       "_model_module": "@jupyter-widgets/controls",
       "_model_module_version": "1.5.0",
       "_model_name": "LinkModel",
       "_view_count": null,
       "_view_module": "@jupyter-widgets/controls",
       "_view_module_version": "1.5.0",
       "_view_name": null,
       "source": [
        "IPY_MODEL_4fcd66ecfae54692959b16316a6173d4",
        "value"
       ],
       "target": [
        "IPY_MODEL_87c48311e6144d899e55155473529183",
        "frame"
       ]
      }
     },
     "6d0e65addba54c09b522d7d4c3007c8e": {
      "model_module": "nglview-js-widgets",
      "model_module_version": "3.0.1",
      "model_name": "NGLModel",
      "state": {
       "_camera_orientation": [],
       "_camera_str": "orthographic",
       "_dom_classes": [],
       "_gui_theme": null,
       "_ibtn_fullscreen": "IPY_MODEL_5f268356b98044e1912d04ffbb5b4e75",
       "_igui": null,
       "_iplayer": "IPY_MODEL_afcdb97b24d446eead3d50abf435a553",
       "_model_module": "nglview-js-widgets",
       "_model_module_version": "3.0.1",
       "_model_name": "NGLModel",
       "_ngl_color_dict": {},
       "_ngl_coordinate_resource": {},
       "_ngl_full_stage_parameters": {},
       "_ngl_msg_archive": [
        {
         "args": [
          {
           "binary": false,
           "data": "REMARK   1 CREATED WITH MDTraj 1.9.7, 2022-04-05\nCRYST1    0.000    0.000    0.000   0.00   0.00   0.00 P 1           1 \nMODEL        0\nATOM      1  C9  M03 A   1      -1.126   1.592  -2.104  1.00  0.00      0    C  \nATOM      2  C6  M03 A   1      -0.619   0.407  -1.298  1.00  0.00      0    C  \nATOM      3  C2  M03 A   1      -0.806  -0.894  -1.750  1.00  0.00      0    C  \nATOM      4  H2  M03 A   1      -1.372  -1.147  -2.646  1.00  0.00      0    H  \nATOM      5  C4  M03 A   1      -0.306  -1.978  -1.037  1.00  0.00      0    C  \nATOM      6  C7  M03 A   1      -0.297  -3.302  -1.783  1.00  0.00      0    C  \nATOM      7  C1  M03 A   1       0.346  -1.768   0.172  1.00  0.00      0    C  \nATOM      8  H1  M03 A   1       0.952  -2.560   0.613  1.00  0.00      0    H  \nATOM      9  C5  M03 A   1       0.458  -0.477   0.675  1.00  0.00      0    C  \nATOM     10  C3  M03 A   1      -0.034   0.601  -0.052  1.00  0.00      0    C  \nATOM     11  H3  M03 A   1       0.012   1.646   0.253  1.00  0.00      0    H  \nATOM     12  C8  M03 A   1       1.254  -0.260   1.952  1.00  0.00      0    C  \nATOM     13  H8  6KE A   2       0.609  -1.406  -3.335  1.00  0.00      0    H  \nATOM     14  O1  6KE A   2      -0.324  -1.170  -3.201  1.00  0.00      0    O  \nATOM     15  C5  6KE A   2      -0.386  -0.439  -2.056  1.00  0.00      0    C  \nATOM     16  C2  6KE A   2      -1.644  -0.239  -1.475  1.00  0.00      0    C  \nATOM     17  H2  6KE A   2      -2.526  -0.793  -1.798  1.00  0.00      0    H  \nATOM     18  C1  6KE A   2      -1.681   0.507  -0.302  1.00  0.00      0    C  \nATOM     19  H1  6KE A   2      -2.600   0.521   0.283  1.00  0.00      0    H  \nATOM     20  C3  6KE A   2      -0.496   1.046   0.215  1.00  0.00      0    C  \nATOM     21  H3  6KE A   2      -0.541   1.665   1.111  1.00  0.00      0    H  \nATOM     22  C6  6KE A   2       0.778   0.710  -0.256  1.00  0.00      0    C  \nATOM     23  C4  6KE A   2       0.793  -0.049  -1.433  1.00  0.00      0    C  \nATOM     24  H4  6KE A   2       1.678  -0.619  -1.717  1.00  0.00      0    H  \nATOM     25  O2  6KE A   2       1.975   1.066   0.283  1.00  0.00      0    O  \nATOM     26  C7  6KE A   2       1.944   1.738   1.545  1.00  0.00      0    C  \nTER      27      6KE A   2\nENDMDL\nEND\n",
           "type": "blob"
          }
         ],
         "kwargs": {
          "defaultRepresentation": true,
          "ext": "pdb",
          "name": "nglview.adaptor.MDTrajTrajectory"
         },
         "methodName": "loadFile",
         "reconstruc_color_scheme": false,
         "target": "Stage",
         "type": "call_method"
        },
        {
         "args": [],
         "component_index": 0,
         "kwargs": {},
         "methodName": "removeAllRepresentations",
         "reconstruc_color_scheme": false,
         "target": "compList",
         "type": "call_method"
        },
        {
         "args": [
          "licorice"
         ],
         "component_index": 0,
         "kwargs": {
          "sele": "all"
         },
         "methodName": "addRepresentation",
         "reconstruc_color_scheme": false,
         "target": "compList",
         "type": "call_method"
        }
       ],
       "_ngl_original_stage_parameters": {},
       "_ngl_repr_dict": {},
       "_ngl_serialize": false,
       "_ngl_version": "",
       "_ngl_view_id": [],
       "_player_dict": {},
       "_scene_position": {},
       "_scene_rotation": {},
       "_synced_model_ids": [],
       "_synced_repr_model_ids": [],
       "_view_count": null,
       "_view_height": "",
       "_view_module": "nglview-js-widgets",
       "_view_module_version": "3.0.1",
       "_view_name": "NGLView",
       "_view_width": "",
       "background": "white",
       "frame": 0,
       "gui_style": null,
       "layout": "IPY_MODEL_a098c5138e324f05b46d629d283ac327",
       "max_frame": 299,
       "n_components": 0,
       "picked": {}
      }
     },
     "6d2ff49bc2024785a1004d8b065d9ba0": {
      "buffers": [
       {
        "data": "",
        "encoding": "base64",
        "path": [
         "value"
        ]
       }
      ],
      "model_module": "@jupyter-widgets/controls",
      "model_module_version": "1.5.0",
      "model_name": "ImageModel",
      "state": {
       "_dom_classes": [],
       "_model_module": "@jupyter-widgets/controls",
       "_model_module_version": "1.5.0",
       "_model_name": "ImageModel",
       "_view_count": null,
       "_view_module": "@jupyter-widgets/controls",
       "_view_module_version": "1.5.0",
       "_view_name": "ImageView",
       "format": "png",
       "height": "",
       "layout": "IPY_MODEL_6553b39f93f54d96ac0040cbafe98191",
       "width": "900.0"
      }
     },
     "75a070e75f7a42d88f46b7ce3c8528fd": {
      "model_module": "@jupyter-widgets/base",
      "model_module_version": "1.2.0",
      "model_name": "LayoutModel",
      "state": {
       "_model_module": "@jupyter-widgets/base",
       "_model_module_version": "1.2.0",
       "_model_name": "LayoutModel",
       "_view_count": null,
       "_view_module": "@jupyter-widgets/base",
       "_view_module_version": "1.2.0",
       "_view_name": "LayoutView",
       "align_content": null,
       "align_items": null,
       "align_self": null,
       "border": null,
       "bottom": null,
       "display": null,
       "flex": null,
       "flex_flow": null,
       "grid_area": null,
       "grid_auto_columns": null,
       "grid_auto_flow": null,
       "grid_auto_rows": null,
       "grid_column": null,
       "grid_gap": null,
       "grid_row": null,
       "grid_template_areas": null,
       "grid_template_columns": null,
       "grid_template_rows": null,
       "height": null,
       "justify_content": null,
       "justify_items": null,
       "left": null,
       "margin": null,
       "max_height": null,
       "max_width": null,
       "min_height": null,
       "min_width": null,
       "object_fit": null,
       "object_position": null,
       "order": null,
       "overflow": null,
       "overflow_x": null,
       "overflow_y": null,
       "padding": null,
       "right": null,
       "top": null,
       "visibility": null,
       "width": null
      }
     },
     "80dd8bf7f2f947419466e31bf6c729ed": {
      "model_module": "@jupyter-widgets/controls",
      "model_module_version": "1.5.0",
      "model_name": "ButtonStyleModel",
      "state": {
       "_model_module": "@jupyter-widgets/controls",
       "_model_module_version": "1.5.0",
       "_model_name": "ButtonStyleModel",
       "_view_count": null,
       "_view_module": "@jupyter-widgets/base",
       "_view_module_version": "1.2.0",
       "_view_name": "StyleView",
       "button_color": null,
       "font_weight": ""
      }
     },
     "830d041e11a04de68a2b56000357cce8": {
      "model_module": "@jupyter-widgets/controls",
      "model_module_version": "1.5.0",
      "model_name": "LinkModel",
      "state": {
       "_model_module": "@jupyter-widgets/controls",
       "_model_module_version": "1.5.0",
       "_model_name": "LinkModel",
       "_view_count": null,
       "_view_module": "@jupyter-widgets/controls",
       "_view_module_version": "1.5.0",
       "_view_name": null,
       "source": [
        "IPY_MODEL_14502f56bbdc460882cf4a570a02b5c6",
        "max"
       ],
       "target": [
        "IPY_MODEL_6d0e65addba54c09b522d7d4c3007c8e",
        "max_frame"
       ]
      }
     },
     "87c48311e6144d899e55155473529183": {
      "model_module": "nglview-js-widgets",
      "model_module_version": "3.0.1",
      "model_name": "NGLModel",
      "state": {
       "_camera_orientation": [],
       "_camera_str": "orthographic",
       "_dom_classes": [],
       "_gui_theme": null,
       "_ibtn_fullscreen": "IPY_MODEL_db543ea6b1e6463e85dd38d13e321769",
       "_igui": null,
       "_iplayer": "IPY_MODEL_25da2e66618d4a09b31b9bdd99799500",
       "_model_module": "nglview-js-widgets",
       "_model_module_version": "3.0.1",
       "_model_name": "NGLModel",
       "_ngl_color_dict": {},
       "_ngl_coordinate_resource": {},
       "_ngl_full_stage_parameters": {},
       "_ngl_msg_archive": [
        {
         "args": [
          {
           "binary": false,
           "data": "REMARK   1 CREATED WITH MDTraj 1.9.7, 2022-04-05\nCRYST1    0.000    0.000    0.000   0.00   0.00   0.00 P 1           1 \nMODEL        0\nATOM      1  C9  M03 A   1      -2.860   0.434   0.008  1.00  0.00      0    C  \nATOM      2  C6  M03 A   1      -1.371   0.130   0.002  1.00  0.00      0    C  \nATOM      3  C2  M03 A   1      -0.924  -1.186  -0.005  1.00  0.00      0    C  \nATOM      4  H2  M03 A   1      -1.646  -2.002  -0.007  1.00  0.00      0    H  \nATOM      5  C4  M03 A   1       0.437  -1.470  -0.010  1.00  0.00      0    C  \nATOM      6  C7  M03 A   1       0.919  -2.911  -0.018  1.00  0.00      0    C  \nATOM      7  C1  M03 A   1       1.354  -0.424  -0.008  1.00  0.00      0    C  \nATOM      8  H1  M03 A   1       2.422  -0.642  -0.011  1.00  0.00      0    H  \nATOM      9  C5  M03 A   1       0.919   0.896  -0.000  1.00  0.00      0    C  \nATOM     10  C3  M03 A   1      -0.445   1.167   0.004  1.00  0.00      0    C  \nATOM     11  H3  M03 A   1      -0.790   2.201   0.010  1.00  0.00      0    H  \nATOM     12  C8  M03 A   1       1.926   2.034   0.002  1.00  0.00      0    C  \nATOM     13  H8  6KE A   2      -2.872   1.385   0.010  1.00  0.00      0    H  \nATOM     14  O1  6KE A   2      -2.713   0.426  -0.003  1.00  0.00      0    O  \nATOM     15  C5  6KE A   2      -1.374   0.189  -0.021  1.00  0.00      0    C  \nATOM     16  C2  6KE A   2      -0.950  -1.145   0.000  1.00  0.00      0    C  \nATOM     17  H2  6KE A   2      -1.683  -1.951  -0.035  1.00  0.00      0    H  \nATOM     18  C1  6KE A   2       0.409  -1.437  -0.040  1.00  0.00      0    C  \nATOM     19  H1  6KE A   2       0.742  -2.475  -0.032  1.00  0.00      0    H  \nATOM     20  C3  6KE A   2       1.348  -0.400   0.020  1.00  0.00      0    C  \nATOM     21  H3  6KE A   2       2.413  -0.631  -0.002  1.00  0.00      0    H  \nATOM     22  C6  6KE A   2       0.922   0.933  -0.005  1.00  0.00      0    C  \nATOM     23  C4  6KE A   2      -0.447   1.223   0.035  1.00  0.00      0    C  \nATOM     24  H4  6KE A   2      -0.785   2.259   0.029  1.00  0.00      0    H  \nATOM     25  O2  6KE A   2       1.734   2.023   0.038  1.00  0.00      0    O  \nATOM     26  C7  6KE A   2       3.145   1.787   0.036  1.00  0.00      0    C  \nTER      27      6KE A   2\nENDMDL\nEND\n",
           "type": "blob"
          }
         ],
         "kwargs": {
          "defaultRepresentation": true,
          "ext": "pdb",
          "name": "nglview.adaptor.MDTrajTrajectory"
         },
         "methodName": "loadFile",
         "reconstruc_color_scheme": false,
         "target": "Stage",
         "type": "call_method"
        }
       ],
       "_ngl_original_stage_parameters": {},
       "_ngl_repr_dict": {},
       "_ngl_serialize": false,
       "_ngl_version": "",
       "_ngl_view_id": [],
       "_player_dict": {},
       "_scene_position": {},
       "_scene_rotation": {},
       "_synced_model_ids": [],
       "_synced_repr_model_ids": [],
       "_view_count": null,
       "_view_height": "",
       "_view_module": "nglview-js-widgets",
       "_view_module_version": "3.0.1",
       "_view_name": "NGLView",
       "_view_width": "",
       "background": "white",
       "frame": 0,
       "gui_style": null,
       "layout": "IPY_MODEL_54e942f9bce14d3e8f176dea14538113",
       "max_frame": 0,
       "n_components": 0,
       "picked": {}
      }
     },
     "9c6a2ead3fe844248f9b24a85aff9cd8": {
      "model_module": "@jupyter-widgets/controls",
      "model_module_version": "1.5.0",
      "model_name": "SliderStyleModel",
      "state": {
       "_model_module": "@jupyter-widgets/controls",
       "_model_module_version": "1.5.0",
       "_model_name": "SliderStyleModel",
       "_view_count": null,
       "_view_module": "@jupyter-widgets/base",
       "_view_module_version": "1.2.0",
       "_view_name": "StyleView",
       "description_width": "",
       "handle_color": null
      }
     },
     "a098c5138e324f05b46d629d283ac327": {
      "model_module": "@jupyter-widgets/base",
      "model_module_version": "1.2.0",
      "model_name": "LayoutModel",
      "state": {
       "_model_module": "@jupyter-widgets/base",
       "_model_module_version": "1.2.0",
       "_model_name": "LayoutModel",
       "_view_count": null,
       "_view_module": "@jupyter-widgets/base",
       "_view_module_version": "1.2.0",
       "_view_name": "LayoutView",
       "align_content": null,
       "align_items": null,
       "align_self": null,
       "border": null,
       "bottom": null,
       "display": null,
       "flex": null,
       "flex_flow": null,
       "grid_area": null,
       "grid_auto_columns": null,
       "grid_auto_flow": null,
       "grid_auto_rows": null,
       "grid_column": null,
       "grid_gap": null,
       "grid_row": null,
       "grid_template_areas": null,
       "grid_template_columns": null,
       "grid_template_rows": null,
       "height": null,
       "justify_content": null,
       "justify_items": null,
       "left": null,
       "margin": null,
       "max_height": null,
       "max_width": null,
       "min_height": null,
       "min_width": null,
       "object_fit": null,
       "object_position": null,
       "order": null,
       "overflow": null,
       "overflow_x": null,
       "overflow_y": null,
       "padding": null,
       "right": null,
       "top": null,
       "visibility": null,
       "width": null
      }
     },
     "ac27b5c39574482680b1e1b5645187bf": {
      "model_module": "@jupyter-widgets/base",
      "model_module_version": "1.2.0",
      "model_name": "LayoutModel",
      "state": {
       "_model_module": "@jupyter-widgets/base",
       "_model_module_version": "1.2.0",
       "_model_name": "LayoutModel",
       "_view_count": null,
       "_view_module": "@jupyter-widgets/base",
       "_view_module_version": "1.2.0",
       "_view_name": "LayoutView",
       "align_content": null,
       "align_items": null,
       "align_self": null,
       "border": null,
       "bottom": null,
       "display": null,
       "flex": null,
       "flex_flow": null,
       "grid_area": null,
       "grid_auto_columns": null,
       "grid_auto_flow": null,
       "grid_auto_rows": null,
       "grid_column": null,
       "grid_gap": null,
       "grid_row": null,
       "grid_template_areas": null,
       "grid_template_columns": null,
       "grid_template_rows": null,
       "height": null,
       "justify_content": null,
       "justify_items": null,
       "left": null,
       "margin": null,
       "max_height": null,
       "max_width": null,
       "min_height": null,
       "min_width": null,
       "object_fit": null,
       "object_position": null,
       "order": null,
       "overflow": null,
       "overflow_x": null,
       "overflow_y": null,
       "padding": null,
       "right": null,
       "top": null,
       "visibility": null,
       "width": null
      }
     },
     "afcdb97b24d446eead3d50abf435a553": {
      "model_module": "@jupyter-widgets/controls",
      "model_module_version": "1.5.0",
      "model_name": "HBoxModel",
      "state": {
       "_dom_classes": [],
       "_model_module": "@jupyter-widgets/controls",
       "_model_module_version": "1.5.0",
       "_model_name": "HBoxModel",
       "_view_count": null,
       "_view_module": "@jupyter-widgets/controls",
       "_view_module_version": "1.5.0",
       "_view_name": "HBoxView",
       "box_style": "",
       "children": [
        "IPY_MODEL_14502f56bbdc460882cf4a570a02b5c6",
        "IPY_MODEL_023f175fb1f04f0a9f3b0ca7d0c4c9fb"
       ],
       "layout": "IPY_MODEL_bd24a931be70406086f5f08b9d61cbf3"
      }
     },
     "b078d5bda9694b66a247c62a87ef9021": {
      "buffers": [
       {
        "data": "",
        "encoding": "base64",
        "path": [
         "value"
        ]
       }
      ],
      "model_module": "@jupyter-widgets/controls",
      "model_module_version": "1.5.0",
      "model_name": "ImageModel",
      "state": {
       "_dom_classes": [],
       "_model_module": "@jupyter-widgets/controls",
       "_model_module_version": "1.5.0",
       "_model_name": "ImageModel",
       "_view_count": null,
       "_view_module": "@jupyter-widgets/controls",
       "_view_module_version": "1.5.0",
       "_view_name": "ImageView",
       "format": "png",
       "height": "",
       "layout": "IPY_MODEL_c98a715f086f403aab5c4c492abc91fc",
       "width": "900.0"
      }
     },
     "b6ed9d7267be4a24ba0c6b646aabe566": {
      "model_module": "@jupyter-widgets/controls",
      "model_module_version": "1.5.0",
      "model_name": "DescriptionStyleModel",
      "state": {
       "_model_module": "@jupyter-widgets/controls",
       "_model_module_version": "1.5.0",
       "_model_name": "DescriptionStyleModel",
       "_view_count": null,
       "_view_module": "@jupyter-widgets/base",
       "_view_module_version": "1.2.0",
       "_view_name": "StyleView",
       "description_width": ""
      }
     },
     "bd24a931be70406086f5f08b9d61cbf3": {
      "model_module": "@jupyter-widgets/base",
      "model_module_version": "1.2.0",
      "model_name": "LayoutModel",
      "state": {
       "_model_module": "@jupyter-widgets/base",
       "_model_module_version": "1.2.0",
       "_model_name": "LayoutModel",
       "_view_count": null,
       "_view_module": "@jupyter-widgets/base",
       "_view_module_version": "1.2.0",
       "_view_name": "LayoutView",
       "align_content": null,
       "align_items": null,
       "align_self": null,
       "border": null,
       "bottom": null,
       "display": null,
       "flex": null,
       "flex_flow": null,
       "grid_area": null,
       "grid_auto_columns": null,
       "grid_auto_flow": null,
       "grid_auto_rows": null,
       "grid_column": null,
       "grid_gap": null,
       "grid_row": null,
       "grid_template_areas": null,
       "grid_template_columns": null,
       "grid_template_rows": null,
       "height": null,
       "justify_content": null,
       "justify_items": null,
       "left": null,
       "margin": null,
       "max_height": null,
       "max_width": null,
       "min_height": null,
       "min_width": null,
       "object_fit": null,
       "object_position": null,
       "order": null,
       "overflow": null,
       "overflow_x": null,
       "overflow_y": null,
       "padding": null,
       "right": null,
       "top": null,
       "visibility": null,
       "width": null
      }
     },
     "c534f12130994ec7b709c1e4ffeb8909": {
      "model_module": "@jupyter-widgets/base",
      "model_module_version": "1.2.0",
      "model_name": "LayoutModel",
      "state": {
       "_model_module": "@jupyter-widgets/base",
       "_model_module_version": "1.2.0",
       "_model_name": "LayoutModel",
       "_view_count": null,
       "_view_module": "@jupyter-widgets/base",
       "_view_module_version": "1.2.0",
       "_view_name": "LayoutView",
       "align_content": null,
       "align_items": null,
       "align_self": null,
       "border": null,
       "bottom": null,
       "display": null,
       "flex": null,
       "flex_flow": null,
       "grid_area": null,
       "grid_auto_columns": null,
       "grid_auto_flow": null,
       "grid_auto_rows": null,
       "grid_column": null,
       "grid_gap": null,
       "grid_row": null,
       "grid_template_areas": null,
       "grid_template_columns": null,
       "grid_template_rows": null,
       "height": null,
       "justify_content": null,
       "justify_items": null,
       "left": null,
       "margin": null,
       "max_height": null,
       "max_width": null,
       "min_height": null,
       "min_width": null,
       "object_fit": null,
       "object_position": null,
       "order": null,
       "overflow": null,
       "overflow_x": null,
       "overflow_y": null,
       "padding": null,
       "right": null,
       "top": null,
       "visibility": null,
       "width": "34px"
      }
     },
     "c98a715f086f403aab5c4c492abc91fc": {
      "model_module": "@jupyter-widgets/base",
      "model_module_version": "1.2.0",
      "model_name": "LayoutModel",
      "state": {
       "_model_module": "@jupyter-widgets/base",
       "_model_module_version": "1.2.0",
       "_model_name": "LayoutModel",
       "_view_count": null,
       "_view_module": "@jupyter-widgets/base",
       "_view_module_version": "1.2.0",
       "_view_name": "LayoutView",
       "align_content": null,
       "align_items": null,
       "align_self": null,
       "border": null,
       "bottom": null,
       "display": null,
       "flex": null,
       "flex_flow": null,
       "grid_area": null,
       "grid_auto_columns": null,
       "grid_auto_flow": null,
       "grid_auto_rows": null,
       "grid_column": null,
       "grid_gap": null,
       "grid_row": null,
       "grid_template_areas": null,
       "grid_template_columns": null,
       "grid_template_rows": null,
       "height": null,
       "justify_content": null,
       "justify_items": null,
       "left": null,
       "margin": null,
       "max_height": null,
       "max_width": null,
       "min_height": null,
       "min_width": null,
       "object_fit": null,
       "object_position": null,
       "order": null,
       "overflow": null,
       "overflow_x": null,
       "overflow_y": null,
       "padding": null,
       "right": null,
       "top": null,
       "visibility": null,
       "width": null
      }
     },
     "db543ea6b1e6463e85dd38d13e321769": {
      "model_module": "@jupyter-widgets/controls",
      "model_module_version": "1.5.0",
      "model_name": "ButtonModel",
      "state": {
       "_dom_classes": [],
       "_model_module": "@jupyter-widgets/controls",
       "_model_module_version": "1.5.0",
       "_model_name": "ButtonModel",
       "_view_count": null,
       "_view_module": "@jupyter-widgets/controls",
       "_view_module_version": "1.5.0",
       "_view_name": "ButtonView",
       "button_style": "",
       "description": "",
       "disabled": false,
       "icon": "compress",
       "layout": "IPY_MODEL_47bc8bf54b52432288b6b06426cee914",
       "style": "IPY_MODEL_80dd8bf7f2f947419466e31bf6c729ed",
       "tooltip": ""
      }
     },
     "df04d7a0d2034ac099ee6dd5e4c17125": {
      "model_module": "@jupyter-widgets/base",
      "model_module_version": "1.2.0",
      "model_name": "LayoutModel",
      "state": {
       "_model_module": "@jupyter-widgets/base",
       "_model_module_version": "1.2.0",
       "_model_name": "LayoutModel",
       "_view_count": null,
       "_view_module": "@jupyter-widgets/base",
       "_view_module_version": "1.2.0",
       "_view_name": "LayoutView",
       "align_content": null,
       "align_items": null,
       "align_self": null,
       "border": null,
       "bottom": null,
       "display": null,
       "flex": null,
       "flex_flow": null,
       "grid_area": null,
       "grid_auto_columns": null,
       "grid_auto_flow": null,
       "grid_auto_rows": null,
       "grid_column": null,
       "grid_gap": null,
       "grid_row": null,
       "grid_template_areas": null,
       "grid_template_columns": null,
       "grid_template_rows": null,
       "height": null,
       "justify_content": null,
       "justify_items": null,
       "left": null,
       "margin": null,
       "max_height": null,
       "max_width": null,
       "min_height": null,
       "min_width": null,
       "object_fit": null,
       "object_position": null,
       "order": null,
       "overflow": null,
       "overflow_x": null,
       "overflow_y": null,
       "padding": null,
       "right": null,
       "top": null,
       "visibility": null,
       "width": null
      }
     },
     "e11dbaf31afd4567a025542e62cdef6a": {
      "model_module": "@jupyter-widgets/controls",
      "model_module_version": "1.5.0",
      "model_name": "DescriptionStyleModel",
      "state": {
       "_model_module": "@jupyter-widgets/controls",
       "_model_module_version": "1.5.0",
       "_model_name": "DescriptionStyleModel",
       "_view_count": null,
       "_view_module": "@jupyter-widgets/base",
       "_view_module_version": "1.2.0",
       "_view_name": "StyleView",
       "description_width": ""
      }
     },
     "ed2b6346793a427481ec83f228b04265": {
      "model_module": "nglview-js-widgets",
      "model_module_version": "3.0.1",
      "model_name": "ColormakerRegistryModel",
      "state": {
       "_dom_classes": [],
       "_model_module": "nglview-js-widgets",
       "_model_module_version": "3.0.1",
       "_model_name": "ColormakerRegistryModel",
       "_msg_ar": [],
       "_msg_q": [],
       "_ready": false,
       "_view_count": null,
       "_view_module": "nglview-js-widgets",
       "_view_module_version": "3.0.1",
       "_view_name": "ColormakerRegistryView",
       "layout": "IPY_MODEL_ac27b5c39574482680b1e1b5645187bf"
      }
     },
     "f4a7e2671cd848ab873384a1d9af8362": {
      "model_module": "@jupyter-widgets/controls",
      "model_module_version": "1.5.0",
      "model_name": "ButtonStyleModel",
      "state": {
       "_model_module": "@jupyter-widgets/controls",
       "_model_module_version": "1.5.0",
       "_model_name": "ButtonStyleModel",
       "_view_count": null,
       "_view_module": "@jupyter-widgets/base",
       "_view_module_version": "1.2.0",
       "_view_name": "StyleView",
       "button_color": null,
       "font_weight": ""
      }
     },
     "fda3ce119dc847059dca4307591f6893": {
      "model_module": "@jupyter-widgets/controls",
      "model_module_version": "1.5.0",
      "model_name": "IntSliderModel",
      "state": {
       "_dom_classes": [],
       "_model_module": "@jupyter-widgets/controls",
       "_model_module_version": "1.5.0",
       "_model_name": "IntSliderModel",
       "_view_count": null,
       "_view_module": "@jupyter-widgets/controls",
       "_view_module_version": "1.5.0",
       "_view_name": "IntSliderView",
       "continuous_update": true,
       "description": "",
       "description_tooltip": null,
       "disabled": false,
       "layout": "IPY_MODEL_07b9d180492b4cabada54a534534af40",
       "max": 0,
       "min": 0,
       "orientation": "horizontal",
       "readout": true,
       "readout_format": "d",
       "step": 1,
       "style": "IPY_MODEL_9c6a2ead3fe844248f9b24a85aff9cd8",
       "value": 0
      }
     },
     "fe928d0a00f34d409558cc8655c1d905": {
      "model_module": "@jupyter-widgets/controls",
      "model_module_version": "1.5.0",
      "model_name": "LinkModel",
      "state": {
       "_model_module": "@jupyter-widgets/controls",
       "_model_module_version": "1.5.0",
       "_model_name": "LinkModel",
       "_view_count": null,
       "_view_module": "@jupyter-widgets/controls",
       "_view_module_version": "1.5.0",
       "_view_name": null,
       "source": [
        "IPY_MODEL_14502f56bbdc460882cf4a570a02b5c6",
        "value"
       ],
       "target": [
        "IPY_MODEL_023f175fb1f04f0a9f3b0ca7d0c4c9fb",
        "value"
       ]
      }
     }
    },
    "version_major": 2,
    "version_minor": 0
   }
  }
 },
 "nbformat": 4,
 "nbformat_minor": 4
}
