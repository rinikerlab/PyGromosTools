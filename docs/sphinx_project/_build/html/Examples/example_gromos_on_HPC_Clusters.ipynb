{
 "cells": [
  {
   "cell_type": "markdown",
   "id": "758ed277-d094-45f0-866b-6706487b3820",
   "metadata": {},
   "source": [
    "# Usage of the PyGromosTools on HPC-cluster"
   ]
  },
  {
   "cell_type": "markdown",
   "id": "280b945a-7116-4913-9acf-5605f335f4db",
   "metadata": {},
   "source": [
    "Note that you need support for the new `PyGromosTools` submission system shipped with `relase3`."
   ]
  },
  {
   "cell_type": "code",
   "execution_count": 1,
   "id": "cd2a74b5-0e22-47a0-b54b-86d1ff8fa885",
   "metadata": {
    "execution": {
     "iopub.execute_input": "2022-04-05T06:50:21.676708Z",
     "iopub.status.busy": "2022-04-05T06:50:21.675882Z",
     "iopub.status.idle": "2022-04-05T06:50:22.811465Z",
     "shell.execute_reply": "2022-04-05T06:50:22.809835Z"
    }
   },
   "outputs": [
    {
     "data": {
      "application/vnd.jupyter.widget-view+json": {
       "model_id": "e8daa3bcc84043898fb015264a93f809",
       "version_major": 2,
       "version_minor": 0
      },
      "text/plain": []
     },
     "metadata": {},
     "output_type": "display_data"
    }
   ],
   "source": [
    "# necessary imports are the Gromos_System and convenience functions emin and md\n",
    "from pygromos.files.gromos_system.gromos_system import Gromos_System\n",
    "from pygromos.simulations.modules.preset_simulation_modules import emin, md"
   ]
  },
  {
   "cell_type": "markdown",
   "id": "c33c02b9-0973-4caa-9cde-1c62bb0c6d90",
   "metadata": {},
   "source": [
    "## Initialization\n",
    "Set up path to binaries and instantiate an initial `Gromos_System` object"
   ]
  },
  {
   "cell_type": "code",
   "execution_count": 2,
   "id": "f9d29e64-73b4-4bda-9b49-c3da8333c906",
   "metadata": {
    "execution": {
     "iopub.execute_input": "2022-04-05T06:50:22.814915Z",
     "iopub.status.busy": "2022-04-05T06:50:22.814629Z",
     "iopub.status.idle": "2022-04-05T06:50:24.838828Z",
     "shell.execute_reply": "2022-04-05T06:50:24.838137Z"
    }
   },
   "outputs": [
    {
     "name": "stderr",
     "output_type": "stream",
     "text": [
      "mkdir: cannot create directory ‘examples/example_files/menthol-dmf-example’: No such file or directory\n"
     ]
    },
    {
     "ename": "OSError",
     "evalue": "could not make folder:\n examples/example_files/menthol-dmf-example",
     "output_type": "error",
     "traceback": [
      "\u001b[0;31m---------------------------------------------------------------------------\u001b[0m",
      "\u001b[0;31mOSError\u001b[0m                                   Traceback (most recent call last)",
      "\u001b[0;32m/tmp/ipykernel_16917/4017573833.py\u001b[0m in \u001b[0;36m<module>\u001b[0;34m\u001b[0m\n\u001b[1;32m     12\u001b[0m \u001b[0;34m\u001b[0m\u001b[0m\n\u001b[1;32m     13\u001b[0m \u001b[0;31m# system\u001b[0m\u001b[0;34m\u001b[0m\u001b[0;34m\u001b[0m\u001b[0m\n\u001b[0;32m---> 14\u001b[0;31m system = Gromos_System(\n\u001b[0m\u001b[1;32m     15\u001b[0m     \u001b[0mwork_folder\u001b[0m\u001b[0;34m,\u001b[0m\u001b[0;34m\u001b[0m\u001b[0;34m\u001b[0m\u001b[0m\n\u001b[1;32m     16\u001b[0m     \u001b[0msystem_name\u001b[0m\u001b[0;34m,\u001b[0m\u001b[0;34m\u001b[0m\u001b[0;34m\u001b[0m\u001b[0m\n",
      "\u001b[0;32m~/PyGromosTools/pygromos/files/gromos_system/gromos_system.py\u001b[0m in \u001b[0;36m__init__\u001b[0;34m(self, work_folder, system_name, rdkitMol, in_mol2_file, readIn, forcefield, auto_convert, adapt_imd_automatically, verbose, in_smiles, in_residue_list, in_top_path, in_cnf_path, in_imd_path, in_disres_path, in_ptp_path, in_posres_path, in_refpos_path, in_qmmm_path, in_gromosXX_bin_dir, in_gromosPP_bin_dir)\u001b[0m\n\u001b[1;32m    226\u001b[0m             \u001b[0;34m\"qmmm\"\u001b[0m\u001b[0;34m:\u001b[0m \u001b[0min_qmmm_path\u001b[0m\u001b[0;34m,\u001b[0m\u001b[0;34m\u001b[0m\u001b[0;34m\u001b[0m\u001b[0m\n\u001b[1;32m    227\u001b[0m         }\n\u001b[0;32m--> 228\u001b[0;31m         \u001b[0mself\u001b[0m\u001b[0;34m.\u001b[0m\u001b[0mparse_attribute_files\u001b[0m\u001b[0;34m(\u001b[0m\u001b[0mfile_mapping\u001b[0m\u001b[0;34m,\u001b[0m \u001b[0mreadIn\u001b[0m\u001b[0;34m=\u001b[0m\u001b[0mreadIn\u001b[0m\u001b[0;34m,\u001b[0m \u001b[0mverbose\u001b[0m\u001b[0;34m=\u001b[0m\u001b[0mverbose\u001b[0m\u001b[0;34m)\u001b[0m\u001b[0;34m\u001b[0m\u001b[0;34m\u001b[0m\u001b[0m\n\u001b[0m\u001b[1;32m    229\u001b[0m \u001b[0;34m\u001b[0m\u001b[0m\n\u001b[1;32m    230\u001b[0m         \u001b[0;31m# System Information:\u001b[0m\u001b[0;34m\u001b[0m\u001b[0;34m\u001b[0m\u001b[0m\n",
      "\u001b[0;32m~/PyGromosTools/pygromos/files/gromos_system/gromos_system.py\u001b[0m in \u001b[0;36mparse_attribute_files\u001b[0;34m(self, file_mapping, readIn, verbose)\u001b[0m\n\u001b[1;32m    828\u001b[0m         \u001b[0;31m# Check if system folder is present\u001b[0m\u001b[0;34m\u001b[0m\u001b[0;34m\u001b[0m\u001b[0m\n\u001b[1;32m    829\u001b[0m         \u001b[0;32mif\u001b[0m \u001b[0;32mnot\u001b[0m \u001b[0mos\u001b[0m\u001b[0;34m.\u001b[0m\u001b[0mpath\u001b[0m\u001b[0;34m.\u001b[0m\u001b[0mexists\u001b[0m\u001b[0;34m(\u001b[0m\u001b[0mself\u001b[0m\u001b[0;34m.\u001b[0m\u001b[0m_work_folder\u001b[0m\u001b[0;34m)\u001b[0m\u001b[0;34m:\u001b[0m\u001b[0;34m\u001b[0m\u001b[0;34m\u001b[0m\u001b[0m\n\u001b[0;32m--> 830\u001b[0;31m             \u001b[0mbash\u001b[0m\u001b[0;34m.\u001b[0m\u001b[0mmake_folder\u001b[0m\u001b[0;34m(\u001b[0m\u001b[0mself\u001b[0m\u001b[0;34m.\u001b[0m\u001b[0m_work_folder\u001b[0m\u001b[0;34m)\u001b[0m\u001b[0;34m\u001b[0m\u001b[0;34m\u001b[0m\u001b[0m\n\u001b[0m\u001b[1;32m    831\u001b[0m         \u001b[0mcheck_file_paths\u001b[0m\u001b[0;34m.\u001b[0m\u001b[0mappend\u001b[0m\u001b[0;34m(\u001b[0m\u001b[0mself\u001b[0m\u001b[0;34m.\u001b[0m\u001b[0m_work_folder\u001b[0m\u001b[0;34m)\u001b[0m\u001b[0;34m\u001b[0m\u001b[0;34m\u001b[0m\u001b[0m\n\u001b[1;32m    832\u001b[0m \u001b[0;34m\u001b[0m\u001b[0m\n",
      "\u001b[0;32m~/PyGromosTools/pygromos/utils/bash.py\u001b[0m in \u001b[0;36mmake_folder\u001b[0;34m(in_directory_path, additional_option, verbose)\u001b[0m\n\u001b[1;32m    556\u001b[0m     \u001b[0;32mif\u001b[0m \u001b[0;32mnot\u001b[0m \u001b[0mos\u001b[0m\u001b[0;34m.\u001b[0m\u001b[0mpath\u001b[0m\u001b[0;34m.\u001b[0m\u001b[0misdir\u001b[0m\u001b[0;34m(\u001b[0m\u001b[0min_directory_path\u001b[0m\u001b[0;34m)\u001b[0m\u001b[0;34m:\u001b[0m\u001b[0;34m\u001b[0m\u001b[0;34m\u001b[0m\u001b[0m\n\u001b[1;32m    557\u001b[0m         \u001b[0;32mif\u001b[0m \u001b[0mos\u001b[0m\u001b[0;34m.\u001b[0m\u001b[0msystem\u001b[0m\u001b[0;34m(\u001b[0m\u001b[0mmk_folder\u001b[0m\u001b[0;34m)\u001b[0m\u001b[0;34m:\u001b[0m\u001b[0;34m\u001b[0m\u001b[0;34m\u001b[0m\u001b[0m\n\u001b[0;32m--> 558\u001b[0;31m             \u001b[0;32mraise\u001b[0m \u001b[0mOSError\u001b[0m\u001b[0;34m(\u001b[0m\u001b[0;34m\"could not make folder:\\n \"\u001b[0m \u001b[0;34m+\u001b[0m \u001b[0mstr\u001b[0m\u001b[0;34m(\u001b[0m\u001b[0min_directory_path\u001b[0m\u001b[0;34m)\u001b[0m\u001b[0;34m)\u001b[0m\u001b[0;34m\u001b[0m\u001b[0;34m\u001b[0m\u001b[0m\n\u001b[0m\u001b[1;32m    559\u001b[0m \u001b[0;34m\u001b[0m\u001b[0m\n\u001b[1;32m    560\u001b[0m     \u001b[0;32melif\u001b[0m \u001b[0mverbose\u001b[0m\u001b[0;34m:\u001b[0m\u001b[0;34m\u001b[0m\u001b[0;34m\u001b[0m\u001b[0m\n",
      "\u001b[0;31mOSError\u001b[0m: could not make folder:\n examples/example_files/menthol-dmf-example"
     ]
    }
   ],
   "source": [
    "# binaries\n",
    "gromosPP = None\n",
    "gromosXX = None\n",
    "\n",
    "# folders and title\n",
    "system_name = \"menthol-dmf-example\"\n",
    "work_folder = f\"examples/example_files/{system_name}\"\n",
    "\n",
    "# files\n",
    "in_cnf_path = f\"example_files/submission-system-files/{system_name}-all-atom_54a7.cnf\"\n",
    "in_top_path = f\"example_files/submission-system-files/{system_name}-all-atom_54a7.top\"\n",
    "\n",
    "# system\n",
    "system = Gromos_System(\n",
    "    work_folder, \n",
    "    system_name, \n",
    "    in_top_path=in_top_path, \n",
    "    in_cnf_path=in_cnf_path,\n",
    "    in_gromosPP_bin_dir=gromosPP,\n",
    "    in_gromosXX_bin_dir=gromosXX,\n",
    "    verbose=False\n",
    ")"
   ]
  },
  {
   "cell_type": "markdown",
   "id": "9bb9ad9a-435b-4a53-84b5-da72bd428334",
   "metadata": {},
   "source": [
    "## Energy minimization"
   ]
  },
  {
   "cell_type": "markdown",
   "id": "af05360b-478f-4b17-aa9c-42877f83ac6e",
   "metadata": {},
   "source": [
    "Take advantage of the new submission system: convenience functions such as `emin` take in a parametrized `Gromos_System` object, automatically set up the calculation and return a new `Gromos_System` object with updated file paths."
   ]
  },
  {
   "cell_type": "code",
   "execution_count": 3,
   "id": "c81d1a74-7d0c-4cfe-8756-71a5b0063a44",
   "metadata": {
    "execution": {
     "iopub.execute_input": "2022-04-05T06:50:24.841382Z",
     "iopub.status.busy": "2022-04-05T06:50:24.841188Z",
     "iopub.status.idle": "2022-04-05T06:50:24.855044Z",
     "shell.execute_reply": "2022-04-05T06:50:24.854114Z"
    }
   },
   "outputs": [
    {
     "ename": "NameError",
     "evalue": "name 'system' is not defined",
     "output_type": "error",
     "traceback": [
      "\u001b[0;31m---------------------------------------------------------------------------\u001b[0m",
      "\u001b[0;31mNameError\u001b[0m                                 Traceback (most recent call last)",
      "\u001b[0;32m/tmp/ipykernel_16917/2866156413.py\u001b[0m in \u001b[0;36m<module>\u001b[0;34m\u001b[0m\n\u001b[1;32m      1\u001b[0m \u001b[0;31m# run energy minimization\u001b[0m\u001b[0;34m\u001b[0m\u001b[0;34m\u001b[0m\u001b[0m\n\u001b[0;32m----> 2\u001b[0;31m \u001b[0mminimized_system\u001b[0m \u001b[0;34m=\u001b[0m \u001b[0memin\u001b[0m\u001b[0;34m(\u001b[0m\u001b[0msystem\u001b[0m\u001b[0;34m)\u001b[0m\u001b[0;34m\u001b[0m\u001b[0;34m\u001b[0m\u001b[0m\n\u001b[0m",
      "\u001b[0;31mNameError\u001b[0m: name 'system' is not defined"
     ]
    }
   ],
   "source": [
    "# run energy minimization\n",
    "minimized_system = emin(system)"
   ]
  },
  {
   "cell_type": "markdown",
   "id": "43f6192d-1cd5-44c1-83df-cc7553efde85",
   "metadata": {},
   "source": [
    "### Print out the new file paths"
   ]
  },
  {
   "cell_type": "markdown",
   "id": "1aeba268-928b-427d-a635-505573e09933",
   "metadata": {},
   "source": [
    "Note how the new `Gromos_System` object has new file paths associated with it."
   ]
  },
  {
   "cell_type": "code",
   "execution_count": 4,
   "id": "8fe3fe44-fa4b-4c47-8a5a-09fa55b350dd",
   "metadata": {
    "execution": {
     "iopub.execute_input": "2022-04-05T06:50:24.857770Z",
     "iopub.status.busy": "2022-04-05T06:50:24.857394Z",
     "iopub.status.idle": "2022-04-05T06:50:24.869720Z",
     "shell.execute_reply": "2022-04-05T06:50:24.868987Z"
    }
   },
   "outputs": [
    {
     "ename": "NameError",
     "evalue": "name 'minimized_system' is not defined",
     "output_type": "error",
     "traceback": [
      "\u001b[0;31m---------------------------------------------------------------------------\u001b[0m",
      "\u001b[0;31mNameError\u001b[0m                                 Traceback (most recent call last)",
      "\u001b[0;32m/tmp/ipykernel_16917/1854406475.py\u001b[0m in \u001b[0;36m<module>\u001b[0;34m\u001b[0m\n\u001b[0;32m----> 1\u001b[0;31m \u001b[0mprint\u001b[0m\u001b[0;34m(\u001b[0m\u001b[0mminimized_system\u001b[0m\u001b[0;34m.\u001b[0m\u001b[0mimd\u001b[0m\u001b[0;34m.\u001b[0m\u001b[0mpath\u001b[0m\u001b[0;34m)\u001b[0m\u001b[0;34m\u001b[0m\u001b[0;34m\u001b[0m\u001b[0m\n\u001b[0m\u001b[1;32m      2\u001b[0m \u001b[0mprint\u001b[0m\u001b[0;34m(\u001b[0m\u001b[0mminimized_system\u001b[0m\u001b[0;34m.\u001b[0m\u001b[0mtop\u001b[0m\u001b[0;34m.\u001b[0m\u001b[0mpath\u001b[0m\u001b[0;34m)\u001b[0m\u001b[0;34m\u001b[0m\u001b[0;34m\u001b[0m\u001b[0m\n\u001b[1;32m      3\u001b[0m \u001b[0mprint\u001b[0m\u001b[0;34m(\u001b[0m\u001b[0mminimized_system\u001b[0m\u001b[0;34m.\u001b[0m\u001b[0mcnf\u001b[0m\u001b[0;34m.\u001b[0m\u001b[0mpath\u001b[0m\u001b[0;34m)\u001b[0m\u001b[0;34m\u001b[0m\u001b[0;34m\u001b[0m\u001b[0m\n",
      "\u001b[0;31mNameError\u001b[0m: name 'minimized_system' is not defined"
     ]
    }
   ],
   "source": [
    "print(minimized_system.imd.path)\n",
    "print(minimized_system.top.path)\n",
    "print(minimized_system.cnf.path)"
   ]
  },
  {
   "cell_type": "markdown",
   "id": "15407d36-688b-459a-a040-5d6fbe1d821f",
   "metadata": {},
   "source": [
    "### Visualize the minimized system"
   ]
  },
  {
   "cell_type": "code",
   "execution_count": 5,
   "id": "c7859522-dc5a-4ad9-aa38-a4b8436562f9",
   "metadata": {
    "execution": {
     "iopub.execute_input": "2022-04-05T06:50:24.872032Z",
     "iopub.status.busy": "2022-04-05T06:50:24.871792Z",
     "iopub.status.idle": "2022-04-05T06:50:24.880784Z",
     "shell.execute_reply": "2022-04-05T06:50:24.880058Z"
    }
   },
   "outputs": [
    {
     "ename": "NameError",
     "evalue": "name 'minimized_system' is not defined",
     "output_type": "error",
     "traceback": [
      "\u001b[0;31m---------------------------------------------------------------------------\u001b[0m",
      "\u001b[0;31mNameError\u001b[0m                                 Traceback (most recent call last)",
      "\u001b[0;32m/tmp/ipykernel_16917/2343659289.py\u001b[0m in \u001b[0;36m<module>\u001b[0;34m\u001b[0m\n\u001b[0;32m----> 1\u001b[0;31m \u001b[0mminimized_system\u001b[0m\u001b[0;34m.\u001b[0m\u001b[0mcnf\u001b[0m\u001b[0;34m.\u001b[0m\u001b[0mvisualize\u001b[0m\u001b[0;34m(\u001b[0m\u001b[0;34m)\u001b[0m\u001b[0;34m\u001b[0m\u001b[0;34m\u001b[0m\u001b[0m\n\u001b[0m",
      "\u001b[0;31mNameError\u001b[0m: name 'minimized_system' is not defined"
     ]
    }
   ],
   "source": [
    "minimized_system.cnf.visualize()"
   ]
  },
  {
   "cell_type": "markdown",
   "id": "6cff09ba-912f-444a-bbd6-41257f4bd983",
   "metadata": {},
   "source": [
    "**Note:** The new `Gromos_System` object has an .imd file associated (from the energy minimization). Using the object for a subsequent calculation requires the .imd to be reset (as shown below) or a new `Imd` object to be passed to the function `md`. Otherwise `md` will be based on the previous (emin) input file."
   ]
  },
  {
   "cell_type": "code",
   "execution_count": 6,
   "id": "56a74099-4305-40da-a5d9-13614b54b5eb",
   "metadata": {
    "execution": {
     "iopub.execute_input": "2022-04-05T06:50:24.883211Z",
     "iopub.status.busy": "2022-04-05T06:50:24.883000Z",
     "iopub.status.idle": "2022-04-05T06:50:24.891199Z",
     "shell.execute_reply": "2022-04-05T06:50:24.890399Z"
    }
   },
   "outputs": [
    {
     "ename": "NameError",
     "evalue": "name 'minimized_system' is not defined",
     "output_type": "error",
     "traceback": [
      "\u001b[0;31m---------------------------------------------------------------------------\u001b[0m",
      "\u001b[0;31mNameError\u001b[0m                                 Traceback (most recent call last)",
      "\u001b[0;32m/tmp/ipykernel_16917/4187209246.py\u001b[0m in \u001b[0;36m<module>\u001b[0;34m\u001b[0m\n\u001b[1;32m      1\u001b[0m \u001b[0;31m# Reset the old imd from emin\u001b[0m\u001b[0;34m\u001b[0m\u001b[0;34m\u001b[0m\u001b[0m\n\u001b[0;32m----> 2\u001b[0;31m \u001b[0mminimized_system\u001b[0m\u001b[0;34m.\u001b[0m\u001b[0mimd\u001b[0m \u001b[0;34m=\u001b[0m \u001b[0;32mNone\u001b[0m\u001b[0;34m\u001b[0m\u001b[0;34m\u001b[0m\u001b[0m\n\u001b[0m",
      "\u001b[0;31mNameError\u001b[0m: name 'minimized_system' is not defined"
     ]
    }
   ],
   "source": [
    "# Reset the old imd from emin \n",
    "minimized_system.imd = None"
   ]
  },
  {
   "cell_type": "markdown",
   "id": "c7576ef0-30ae-483b-b883-63c83f1f3835",
   "metadata": {},
   "source": [
    "## Equilibration followed by subsequent production runs"
   ]
  },
  {
   "cell_type": "code",
   "execution_count": 7,
   "id": "853edff2-bf4e-481c-b1cb-22477eea2839",
   "metadata": {
    "execution": {
     "iopub.execute_input": "2022-04-05T06:50:24.893950Z",
     "iopub.status.busy": "2022-04-05T06:50:24.893386Z",
     "iopub.status.idle": "2022-04-05T06:50:24.902350Z",
     "shell.execute_reply": "2022-04-05T06:50:24.901700Z"
    }
   },
   "outputs": [
    {
     "ename": "NameError",
     "evalue": "name 'minimized_system' is not defined",
     "output_type": "error",
     "traceback": [
      "\u001b[0;31m---------------------------------------------------------------------------\u001b[0m",
      "\u001b[0;31mNameError\u001b[0m                                 Traceback (most recent call last)",
      "\u001b[0;32m/tmp/ipykernel_16917/1992461589.py\u001b[0m in \u001b[0;36m<module>\u001b[0;34m\u001b[0m\n\u001b[0;32m----> 1\u001b[0;31m \u001b[0mmd_system\u001b[0m \u001b[0;34m=\u001b[0m \u001b[0mmd\u001b[0m\u001b[0;34m(\u001b[0m\u001b[0mminimized_system\u001b[0m\u001b[0;34m,\u001b[0m \u001b[0mequilibration_runs\u001b[0m\u001b[0;34m=\u001b[0m\u001b[0;36m1\u001b[0m\u001b[0;34m,\u001b[0m \u001b[0msimulation_runs\u001b[0m\u001b[0;34m=\u001b[0m\u001b[0;36m2\u001b[0m\u001b[0;34m)\u001b[0m\u001b[0;34m\u001b[0m\u001b[0;34m\u001b[0m\u001b[0m\n\u001b[0m",
      "\u001b[0;31mNameError\u001b[0m: name 'minimized_system' is not defined"
     ]
    }
   ],
   "source": [
    "md_system = md(minimized_system, equilibration_runs=1, simulation_runs=2)"
   ]
  },
  {
   "cell_type": "markdown",
   "id": "81c946c3-761b-44e1-bf36-0aee1745b75c",
   "metadata": {},
   "source": [
    "Again, note how the new `Gromos_System` object has new file paths associated with it."
   ]
  },
  {
   "cell_type": "code",
   "execution_count": 8,
   "id": "5cde9523-4592-40cf-b514-2136e5502871",
   "metadata": {
    "execution": {
     "iopub.execute_input": "2022-04-05T06:50:24.904630Z",
     "iopub.status.busy": "2022-04-05T06:50:24.904422Z",
     "iopub.status.idle": "2022-04-05T06:50:24.914400Z",
     "shell.execute_reply": "2022-04-05T06:50:24.913489Z"
    }
   },
   "outputs": [
    {
     "ename": "NameError",
     "evalue": "name 'md_system' is not defined",
     "output_type": "error",
     "traceback": [
      "\u001b[0;31m---------------------------------------------------------------------------\u001b[0m",
      "\u001b[0;31mNameError\u001b[0m                                 Traceback (most recent call last)",
      "\u001b[0;32m/tmp/ipykernel_16917/2659777302.py\u001b[0m in \u001b[0;36m<module>\u001b[0;34m\u001b[0m\n\u001b[0;32m----> 1\u001b[0;31m \u001b[0mprint\u001b[0m\u001b[0;34m(\u001b[0m\u001b[0mmd_system\u001b[0m\u001b[0;34m.\u001b[0m\u001b[0mimd\u001b[0m\u001b[0;34m.\u001b[0m\u001b[0mpath\u001b[0m\u001b[0;34m)\u001b[0m\u001b[0;34m\u001b[0m\u001b[0;34m\u001b[0m\u001b[0m\n\u001b[0m\u001b[1;32m      2\u001b[0m \u001b[0mprint\u001b[0m\u001b[0;34m(\u001b[0m\u001b[0mmd_system\u001b[0m\u001b[0;34m.\u001b[0m\u001b[0mtop\u001b[0m\u001b[0;34m.\u001b[0m\u001b[0mpath\u001b[0m\u001b[0;34m)\u001b[0m\u001b[0;34m\u001b[0m\u001b[0;34m\u001b[0m\u001b[0m\n\u001b[1;32m      3\u001b[0m \u001b[0mprint\u001b[0m\u001b[0;34m(\u001b[0m\u001b[0mmd_system\u001b[0m\u001b[0;34m.\u001b[0m\u001b[0mcnf\u001b[0m\u001b[0;34m.\u001b[0m\u001b[0mpath\u001b[0m\u001b[0;34m)\u001b[0m\u001b[0;34m\u001b[0m\u001b[0;34m\u001b[0m\u001b[0m\n",
      "\u001b[0;31mNameError\u001b[0m: name 'md_system' is not defined"
     ]
    }
   ],
   "source": [
    "print(md_system.imd.path)\n",
    "print(md_system.top.path)\n",
    "print(md_system.cnf.path)"
   ]
  },
  {
   "cell_type": "markdown",
   "id": "440b8cb0-97d7-4981-9068-edfeb0ca5bfe",
   "metadata": {},
   "source": [
    "### Visualize the last configuration"
   ]
  },
  {
   "cell_type": "code",
   "execution_count": 9,
   "id": "4b331168-329f-4f19-9ed1-ed1b8641fefc",
   "metadata": {
    "execution": {
     "iopub.execute_input": "2022-04-05T06:50:24.917001Z",
     "iopub.status.busy": "2022-04-05T06:50:24.916807Z",
     "iopub.status.idle": "2022-04-05T06:50:24.924803Z",
     "shell.execute_reply": "2022-04-05T06:50:24.923946Z"
    }
   },
   "outputs": [
    {
     "ename": "NameError",
     "evalue": "name 'md_system' is not defined",
     "output_type": "error",
     "traceback": [
      "\u001b[0;31m---------------------------------------------------------------------------\u001b[0m",
      "\u001b[0;31mNameError\u001b[0m                                 Traceback (most recent call last)",
      "\u001b[0;32m/tmp/ipykernel_16917/3356930432.py\u001b[0m in \u001b[0;36m<module>\u001b[0;34m\u001b[0m\n\u001b[0;32m----> 1\u001b[0;31m \u001b[0mmd_system\u001b[0m\u001b[0;34m.\u001b[0m\u001b[0mcnf\u001b[0m\u001b[0;34m.\u001b[0m\u001b[0mvisualize\u001b[0m\u001b[0;34m(\u001b[0m\u001b[0;34m)\u001b[0m\u001b[0;34m\u001b[0m\u001b[0;34m\u001b[0m\u001b[0m\n\u001b[0m",
      "\u001b[0;31mNameError\u001b[0m: name 'md_system' is not defined"
     ]
    }
   ],
   "source": [
    "md_system.cnf.visualize()"
   ]
  }
 ],
 "metadata": {
  "language_info": {
   "codemirror_mode": {
    "name": "ipython",
    "version": 3
   },
   "file_extension": ".py",
   "mimetype": "text/x-python",
   "name": "python",
   "nbconvert_exporter": "python",
   "pygments_lexer": "ipython3",
   "version": "3.9.7"
  },
  "widgets": {
   "application/vnd.jupyter.widget-state+json": {
    "state": {
     "592942bb1cf3409c834fddf10ee72d80": {
      "model_module": "@jupyter-widgets/base",
      "model_module_version": "1.2.0",
      "model_name": "LayoutModel",
      "state": {
       "_model_module": "@jupyter-widgets/base",
       "_model_module_version": "1.2.0",
       "_model_name": "LayoutModel",
       "_view_count": null,
       "_view_module": "@jupyter-widgets/base",
       "_view_module_version": "1.2.0",
       "_view_name": "LayoutView",
       "align_content": null,
       "align_items": null,
       "align_self": null,
       "border": null,
       "bottom": null,
       "display": null,
       "flex": null,
       "flex_flow": null,
       "grid_area": null,
       "grid_auto_columns": null,
       "grid_auto_flow": null,
       "grid_auto_rows": null,
       "grid_column": null,
       "grid_gap": null,
       "grid_row": null,
       "grid_template_areas": null,
       "grid_template_columns": null,
       "grid_template_rows": null,
       "height": null,
       "justify_content": null,
       "justify_items": null,
       "left": null,
       "margin": null,
       "max_height": null,
       "max_width": null,
       "min_height": null,
       "min_width": null,
       "object_fit": null,
       "object_position": null,
       "order": null,
       "overflow": null,
       "overflow_x": null,
       "overflow_y": null,
       "padding": null,
       "right": null,
       "top": null,
       "visibility": null,
       "width": null
      }
     },
     "e8daa3bcc84043898fb015264a93f809": {
      "model_module": "nglview-js-widgets",
      "model_module_version": "3.0.1",
      "model_name": "ColormakerRegistryModel",
      "state": {
       "_dom_classes": [],
       "_model_module": "nglview-js-widgets",
       "_model_module_version": "3.0.1",
       "_model_name": "ColormakerRegistryModel",
       "_msg_ar": [],
       "_msg_q": [],
       "_ready": false,
       "_view_count": null,
       "_view_module": "nglview-js-widgets",
       "_view_module_version": "3.0.1",
       "_view_name": "ColormakerRegistryView",
       "layout": "IPY_MODEL_592942bb1cf3409c834fddf10ee72d80"
      }
     }
    },
    "version_major": 2,
    "version_minor": 0
   }
  }
 },
 "nbformat": 4,
 "nbformat_minor": 5
}
