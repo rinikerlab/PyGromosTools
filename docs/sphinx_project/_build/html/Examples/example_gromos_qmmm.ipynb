{
 "cells": [
  {
   "cell_type": "markdown",
   "id": "c6fba6a6",
   "metadata": {},
   "source": [
    "# QM/MM in Gromos"
   ]
  },
  {
   "cell_type": "code",
   "execution_count": 1,
   "id": "42e53815",
   "metadata": {
    "execution": {
     "iopub.execute_input": "2022-04-05T11:53:32.952265Z",
     "iopub.status.busy": "2022-04-05T11:53:32.951619Z",
     "iopub.status.idle": "2022-04-05T11:53:34.013679Z",
     "shell.execute_reply": "2022-04-05T11:53:34.011960Z"
    }
   },
   "outputs": [
    {
     "data": {
      "application/vnd.jupyter.widget-view+json": {
       "model_id": "50dc6fddcf114c4daa28f056e0a13f3f",
       "version_major": 2,
       "version_minor": 0
      },
      "text/plain": []
     },
     "metadata": {},
     "output_type": "display_data"
    }
   ],
   "source": [
    "# necessary imports are the Gromos_System and convenience functions emin and md\n",
    "import pygromos\n",
    "from pygromos.files.simulation_parameters.imd import Imd\n",
    "from pygromos.files.qmmm.qmmm import QMMM\n",
    "from pygromos.files.gromos_system.gromos_system import Gromos_System\n",
    "from pygromos.simulations.modules.preset_simulation_modules import emin, md\n",
    "from pygromos.data.simulation_parameters_templates import template_emin\n",
    "from pygromos.simulations.hpc_queuing.submission_systems.local import LOCAL\n",
    "\n",
    "# for file paths\n",
    "import os"
   ]
  },
  {
   "cell_type": "markdown",
   "id": "ea7f87a7-1869-4560-a6cc-5511179addee",
   "metadata": {
    "tags": []
   },
   "source": [
    "## Support for QMMM functionality in `GROMOS` input files\n",
    "\n",
    "This notebook demonstrates support of `PyGromosTools` for QM/MM functionality.\n",
    "\n",
    "https://github.com/rinikerlab/PyGromosTools/blob/qmmm/examples/example_gromos_qmmm.ipynb (part of the `qmmm` branch and soon to be merged to `release3`)\n",
    "\n",
    "Author: Felix Pultar\n",
    "\n",
    "\n",
    "Features include:\n",
    "\n",
    "* QM/MM blocks in `imd` files\n",
    "* QM/MM specification files\n",
    "* Running QM/MM simulations"
   ]
  },
  {
   "cell_type": "markdown",
   "id": "821fe3c7",
   "metadata": {},
   "source": [
    "### Load an `imd` file containing a QMMM block <a class=\"anchor\" id=\"imd-files\"></a>\n",
    "Simple demonstration of how to handle `.imd` files."
   ]
  },
  {
   "cell_type": "code",
   "execution_count": 2,
   "id": "dbbf090b-19c7-48b5-86ac-ca0f6d1be117",
   "metadata": {
    "execution": {
     "iopub.execute_input": "2022-04-05T11:53:34.019401Z",
     "iopub.status.busy": "2022-04-05T11:53:34.018971Z",
     "iopub.status.idle": "2022-04-05T11:53:34.042235Z",
     "shell.execute_reply": "2022-04-05T11:53:34.040973Z"
    }
   },
   "outputs": [
    {
     "data": {
      "text/plain": [
       "TITLE\n",
       "Demonstration of a Gromos imd file containing a QMMM block\n",
       "\t>>> Generated with PyGromosTools (riniker group) <<<\n",
       "END\n",
       "BOUNDCOND\n",
       "# \t NTB \t NDFMIN\n",
       " \t 1 \t 3 \t \n",
       "END\n",
       "COMTRANSROT\n",
       "# \t NSCM\n",
       " \t 1000 \t \n",
       "END\n",
       "CONSTRAINT\n",
       "# \t NTC\n",
       " \t 3 \t \n",
       "# \t NTCP \t NTCP0(1)\n",
       " \t 1 \t 0.000100 \t \n",
       "# \t NTCS \t NTCS0(1)\n",
       " \t 1 \t 0.000100 \t \n",
       "END\n",
       "FORCE\n",
       "# \t BONDS \t ANGLES \t IMPROPER \t DIHEDRAL \t ELECTROSTATIC \t VDW\n",
       " \t 0 \t 1 \t 1 \t 1 \t 1 \t 1 \t \n",
       "# \t NEGR \t NRE\n",
       " \t 1 \t 3613 \t \n",
       "END\n",
       "INITIALISE\n",
       "# \t NTIVEL \t NTISHK \t NTINHT \t NTINHB\n",
       " \t 1 \t 3 \t 0 \t 0 \t \n",
       "# \t NTISHI \t NTIRTC \t NTICOM\n",
       " \t 1 \t 0 \t 0 \t \n",
       "# \t NTISTI\n",
       " \t 0 \t \n",
       "# \t IG \t TEMPI\n",
       " \t 210185 \t 298.000000 \t \n",
       "END\n",
       "MULTIBATH\n",
       "# ALGORITHM\n",
       "  0\n",
       "# NBATHS\n",
       "  1\n",
       "# TEMP0(1 ... NBATHS) \t TAU(1 ... NBATHS)\n",
       "  298.0 \t 0.1\n",
       "# DOFSET\n",
       "  1\n",
       "# LAST(1 ... DOFSET) \t COMBATH(1 ... DOFSET) \t IRBATH(1 ... DOFSET)\n",
       "  3613 \t 1 \t 1\n",
       "END\n",
       "NONBONDED\n",
       "# \t NLRELE\n",
       " \t 1 \t \n",
       "# \t APPAK \t RCRF \t EPSRF \t NSLFEXCL\n",
       " \t 0.000000 \t 1.400000 \t 66.700000 \t 1 \t \n",
       "# \t NSHAPE \t ASHAPE \t NA2CLC \t TOLA2 \t EPSLS\n",
       " \t 3 \t 1.400000 \t 2 \t 1e-10 \t 0.000000 \t \n",
       "# \t NKX \t NKY \t NKZ \t KCUT\n",
       " \t 10 \t 10 \t 10 \t 100.000000 \t \n",
       "# \t NGX \t NGY \t NGZ \t NASORD \t NFDORD \t NALIAS \t NSPORD\n",
       " \t 32 \t 32 \t 32 \t 3 \t 2 \t 3 \t 4 \t \n",
       "# \t NQEVAL \t FACCUR \t NRDGRD \t NWRGRD\n",
       " \t 1000 \t 1.600000 \t 0 \t 0 \t \n",
       "# \t NLRLJ \t SLVDNS\n",
       " \t 0 \t 33.300000 \t \n",
       "END\n",
       "PAIRLIST\n",
       "# \t ALGORITHM \t NSNB \t RCUTP \t RCUTL \t SIZE \t TYPE\n",
       " \t 0 \t 5 \t 0.800000 \t 1.400000 \t 0.4 \t 0 \t \n",
       "END\n",
       "PRESSURESCALE\n",
       "# \t COUPLE \t SCALE \t COMP \t TAUP \t VIRIAL\n",
       " \t 2 \t 1 \t 0.000458 \t 0.500000 \t 2 \t \n",
       "# \t SEMIANISOTROPIC COUPLINGS(X, Y, Z)\n",
       " \t 1 \t 1 \t 1 \t \n",
       "# \t PRES0(1...3,1...3)\n",
       " \t 0.06102 \t 0.0 \t 0.0\n",
       " \t 0.0 \t 0.06102 \t 0.0\n",
       " \t 0.0 \t 0.0 \t 0.06102 \t \n",
       "END\n",
       "PRINTOUT\n",
       "# \t NTPR \t NTPP\n",
       " \t 10 \t 0 \t \n",
       "END\n",
       "QMMM\n",
       "# \t NTQMMM \t NTQMSW \t RCUTQ \t NTWQMMM \t QMLJ \t MMSCAL\n",
       " \t 1 \t 5 \t 1.400000 \t 0 \t 0 \t -1.000000 \t \n",
       "END\n",
       "STEP\n",
       "# \t NSTLIM \t T \t DT\n",
       " \t 100000 \t 0.000000 \t 0.002000 \t \n",
       "END\n",
       "SYSTEM\n",
       "# \t NPM \t NSM\n",
       " \t 1 \t 0 \t \n",
       "END\n",
       "WRITETRAJ\n",
       "# \t NTWX \t NTWSE \t NTWV \t NTWF \t NTWE \t NTWG \t NTWB\n",
       " \t 200 \t 0 \t 0 \t 0 \t 100 \t 0 \t 0 \t \n",
       "END"
      ]
     },
     "execution_count": 2,
     "metadata": {},
     "output_type": "execute_result"
    }
   ],
   "source": [
    "imd_path = os.path.abspath(\"example_files/QMMM_files/md.imd\")\n",
    "imd_file = Imd(imd_path)\n",
    "imd_file.TITLE.content = \"Demonstration of a Gromos imd file containing a QMMM block\"\n",
    "imd_file"
   ]
  },
  {
   "cell_type": "markdown",
   "id": "f48a2e4c-9b54-4c9c-9064-df84826b7b19",
   "metadata": {},
   "source": [
    "### Print out different sections of the QMMM block"
   ]
  },
  {
   "cell_type": "markdown",
   "id": "0e27e062",
   "metadata": {},
   "source": [
    "Print out selected parameters from the `QMMM` block or also the `TITLE` block."
   ]
  },
  {
   "cell_type": "code",
   "execution_count": 3,
   "id": "0794168f-e5ee-402d-aad9-a456ff4df6f8",
   "metadata": {
    "execution": {
     "iopub.execute_input": "2022-04-05T11:53:34.046385Z",
     "iopub.status.busy": "2022-04-05T11:53:34.046060Z",
     "iopub.status.idle": "2022-04-05T11:53:34.054815Z",
     "shell.execute_reply": "2022-04-05T11:53:34.053330Z"
    }
   },
   "outputs": [
    {
     "name": "stdout",
     "output_type": "stream",
     "text": [
      "1\n",
      "5\n",
      "Demonstration of a Gromos imd file containing a QMMM block\n"
     ]
    }
   ],
   "source": [
    "print(imd_file.QMMM.NTQMMM) # QM/MM toggled on/off\n",
    "print(imd_file.QMMM.NTQMSW) # which QM/MM engine\n",
    "print(imd_file.TITLE.content)"
   ]
  },
  {
   "cell_type": "markdown",
   "id": "e9ef2fb7-0205-4a34-8024-fff058a1bab8",
   "metadata": {},
   "source": [
    "### Change a block value and print again"
   ]
  },
  {
   "cell_type": "markdown",
   "id": "6db72f93",
   "metadata": {},
   "source": [
    "Just change values of the `QMMM` block like with other `PyGromosTools` blocks."
   ]
  },
  {
   "cell_type": "code",
   "execution_count": 4,
   "id": "34e14585-76c7-4509-a121-17c58b56262b",
   "metadata": {
    "execution": {
     "iopub.execute_input": "2022-04-05T11:53:34.060099Z",
     "iopub.status.busy": "2022-04-05T11:53:34.059166Z",
     "iopub.status.idle": "2022-04-05T11:53:34.066133Z",
     "shell.execute_reply": "2022-04-05T11:53:34.065243Z"
    }
   },
   "outputs": [
    {
     "data": {
      "text/plain": [
       "QMMM\n",
       "# \t NTQMMM \t NTQMSW \t RCUTQ \t NTWQMMM \t QMLJ \t MMSCAL\n",
       " \t 1 \t 4 \t 1.400000 \t 0 \t 0 \t -1.000000 \t \n",
       "END"
      ]
     },
     "execution_count": 4,
     "metadata": {},
     "output_type": "execute_result"
    }
   ],
   "source": [
    "imd_file.QMMM.NTQMSW = 4 # switch to ORCA as QM software\n",
    "imd_file.QMMM"
   ]
  },
  {
   "cell_type": "markdown",
   "id": "27bbd639-1a57-4be3-aea5-67517721a6ed",
   "metadata": {},
   "source": [
    "## Directly manipulate a QMMM specification file"
   ]
  },
  {
   "cell_type": "markdown",
   "id": "9d70086b-f262-4ec7-b7d7-d636eb8a08e8",
   "metadata": {},
   "source": [
    "The QMMM object allows to directly interact with QM/MM specification files. Future releases of `PyGromosTools` will also support generation of `QMMM` files from coordinate files (`.cnf`, `.xyz`, `.pdb`)."
   ]
  },
  {
   "cell_type": "code",
   "execution_count": 5,
   "id": "025685f2-7888-43d1-8815-78bd6182d610",
   "metadata": {
    "execution": {
     "iopub.execute_input": "2022-04-05T11:53:34.069084Z",
     "iopub.status.busy": "2022-04-05T11:53:34.068846Z",
     "iopub.status.idle": "2022-04-05T11:53:34.075052Z",
     "shell.execute_reply": "2022-04-05T11:53:34.074218Z"
    }
   },
   "outputs": [
    {
     "name": "stdout",
     "output_type": "stream",
     "text": [
      "TITLE\n",
      "menthol-methanol-dmf, qmmm specification file\n",
      "\n",
      "\t>>> Generated with PyGromosTools (riniker group) <<<\n",
      "END\n",
      "QMUNIT\n",
      "# QLGL           QEGE           QCGC           QIGI           \n",
      "0.052918 \t 2625.5 \t 1.0 \t 0.1\n",
      "END\n",
      "QMZONE\n",
      "# QMEN                       QMEI  QMEZ  QMEB\n",
      "H                               1     1     0\n",
      "C                               2     6     0\n",
      "H                               3     1     0\n",
      "H                               4     1     0\n",
      "C                               5     6     0\n",
      "H                               6     1     0\n",
      "C                               7     6     0\n",
      "H                               8     1     0\n",
      "H                               9     1     0\n",
      "H                              10     1     0\n",
      "C                              11     6     0\n",
      "H                              12     1     0\n",
      "C                              13     6     0\n",
      "H                              14     1     0\n",
      "H                              15     1     0\n",
      "C                              16     6     0\n",
      "H                              17     1     0\n",
      "H                              18     1     0\n",
      "C                              19     6     0\n",
      "H                              20     1     0\n",
      "C                              21     6     0\n",
      "H                              22     1     0\n",
      "H                              23     1     0\n",
      "H                              24     1     0\n",
      "C                              25     6     0\n",
      "H                              26     1     0\n",
      "H                              27     1     0\n",
      "C                              28     6     0\n",
      "H                              29     1     0\n",
      "O                              30     8     0\n",
      "H                              31     1     0\n",
      "END\n",
      "XTBELEMENTS\n",
      "1\n",
      "6\n",
      "8\n",
      "END\n",
      "\n"
     ]
    }
   ],
   "source": [
    "# instantiate the file object\n",
    "qmmm_file_path = os.path.abspath(\"example_files/QMMM_files/menthol-methanol-dmf.qmmm\")\n",
    "qmmm_file = QMMM(qmmm_file_path)\n",
    "print(qmmm_file)\n",
    "# There will be warnings if more than one QM engine is selected"
   ]
  },
  {
   "cell_type": "markdown",
   "id": "5ff05c79-a2a7-4759-a378-f8651eeb62e0",
   "metadata": {},
   "source": [
    "## Print out and change some blocks in the QMMM specification file"
   ]
  },
  {
   "cell_type": "markdown",
   "id": "330b78da-a354-4986-a6fe-f0640b9c7456",
   "metadata": {},
   "source": [
    "### Title block"
   ]
  },
  {
   "cell_type": "markdown",
   "id": "637b6909",
   "metadata": {},
   "source": [
    "The `QMMM` specification file can be handled like any other `GROMOS` file."
   ]
  },
  {
   "cell_type": "code",
   "execution_count": 6,
   "id": "ed139717-b743-4bf8-99e4-3732cd02f1ff",
   "metadata": {
    "execution": {
     "iopub.execute_input": "2022-04-05T11:53:34.077669Z",
     "iopub.status.busy": "2022-04-05T11:53:34.077450Z",
     "iopub.status.idle": "2022-04-05T11:53:34.082558Z",
     "shell.execute_reply": "2022-04-05T11:53:34.081787Z"
    }
   },
   "outputs": [
    {
     "name": "stdout",
     "output_type": "stream",
     "text": [
      "['menthol-methanol-dmf, qmmm specification file\\n']\n",
      "Custom file header\n"
     ]
    }
   ],
   "source": [
    "print(qmmm_file.TITLE.content)\n",
    "qmmm_file.TITLE.content = \"Custom file header\"\n",
    "print(qmmm_file.TITLE.content)"
   ]
  },
  {
   "cell_type": "markdown",
   "id": "083699b9-0a96-4380-ba54-d2529767135e",
   "metadata": {},
   "source": [
    "### QMZONE block"
   ]
  },
  {
   "cell_type": "markdown",
   "id": "e78da513",
   "metadata": {},
   "source": [
    "Print out the `QMZONE` section that defines which atoms will be treated quantum-mechanically."
   ]
  },
  {
   "cell_type": "code",
   "execution_count": 7,
   "id": "df7e4b44-9562-48b6-8597-bd4a9468e951",
   "metadata": {
    "execution": {
     "iopub.execute_input": "2022-04-05T11:53:34.085816Z",
     "iopub.status.busy": "2022-04-05T11:53:34.085378Z",
     "iopub.status.idle": "2022-04-05T11:53:34.089827Z",
     "shell.execute_reply": "2022-04-05T11:53:34.089120Z"
    }
   },
   "outputs": [
    {
     "name": "stdout",
     "output_type": "stream",
     "text": [
      "QMZONE\n",
      "# QMEN                       QMEI  QMEZ  QMEB\n",
      "H                               1     1     0\n",
      "C                               2     6     0\n",
      "H                               3     1     0\n",
      "H                               4     1     0\n",
      "C                               5     6     0\n",
      "H                               6     1     0\n",
      "C                               7     6     0\n",
      "H                               8     1     0\n",
      "H                               9     1     0\n",
      "H                              10     1     0\n",
      "C                              11     6     0\n",
      "H                              12     1     0\n",
      "C                              13     6     0\n",
      "H                              14     1     0\n",
      "H                              15     1     0\n",
      "C                              16     6     0\n",
      "H                              17     1     0\n",
      "H                              18     1     0\n",
      "C                              19     6     0\n",
      "H                              20     1     0\n",
      "C                              21     6     0\n",
      "H                              22     1     0\n",
      "H                              23     1     0\n",
      "H                              24     1     0\n",
      "C                              25     6     0\n",
      "H                              26     1     0\n",
      "H                              27     1     0\n",
      "C                              28     6     0\n",
      "H                              29     1     0\n",
      "O                              30     8     0\n",
      "H                              31     1     0\n",
      "END\n",
      "\n"
     ]
    }
   ],
   "source": [
    "# as in other Gromos files, the first bunch of characters are ignored and used to comment, e.g. name of the atom\n",
    "# second value: index of te position (starting from 1)\n",
    "# third value: element number according to the PSE\n",
    "# fourth value: indicate whether bond can be broken or not, default = 0\n",
    "print(qmmm_file.QMZONE)"
   ]
  },
  {
   "cell_type": "markdown",
   "id": "e4b47246-47df-4758-b529-5cf7a14e57cc",
   "metadata": {},
   "source": [
    "### QMUNIT block"
   ]
  },
  {
   "cell_type": "markdown",
   "id": "a75b5c8c",
   "metadata": {},
   "source": [
    "Print out the `QMUNIT` block that defines some unit conversions between the MD engine and the QM software."
   ]
  },
  {
   "cell_type": "code",
   "execution_count": 8,
   "id": "e2191cba-b23c-4ff4-9e44-0febea848195",
   "metadata": {
    "execution": {
     "iopub.execute_input": "2022-04-05T11:53:34.092299Z",
     "iopub.status.busy": "2022-04-05T11:53:34.092106Z",
     "iopub.status.idle": "2022-04-05T11:53:34.096457Z",
     "shell.execute_reply": "2022-04-05T11:53:34.095737Z"
    }
   },
   "outputs": [
    {
     "name": "stdout",
     "output_type": "stream",
     "text": [
      "QMUNIT\n",
      "# QLGL           QEGE           QCGC           QIGI           \n",
      "0.052918 \t 2625.5 \t 1.0 \t 0.1\n",
      "END\n",
      "\n"
     ]
    }
   ],
   "source": [
    "# usually, these conversion factors are hard-coded in Gromos; left for historical reasons\n",
    "# first value: QM length to Gromos length (e.g. Bohr to nm) \n",
    "# second value: QM energy to Gromos energy (e.g. Hartree to kJ / mol)\n",
    "# third value: Gromos charge to QM charge (the same in this case)\n",
    "# fourth value: QM input units to Gromos input units (e.g. Angstrom to nm)\n",
    "print(qmmm_file.QMUNIT)"
   ]
  },
  {
   "cell_type": "markdown",
   "id": "29f0397e-dbc2-4226-bec9-a8cb1d1c07df",
   "metadata": {},
   "source": [
    "### XTBELEMENTS block"
   ]
  },
  {
   "cell_type": "markdown",
   "id": "7c127e63-9652-4119-81a8-939cdf79b14b",
   "metadata": {},
   "source": [
    "Print and update the `XTBELEMENTS` block"
   ]
  },
  {
   "cell_type": "code",
   "execution_count": 9,
   "id": "3bfec885-5481-45bf-ba22-aac8e5498be6",
   "metadata": {
    "execution": {
     "iopub.execute_input": "2022-04-05T11:53:34.098828Z",
     "iopub.status.busy": "2022-04-05T11:53:34.098648Z",
     "iopub.status.idle": "2022-04-05T11:53:34.103669Z",
     "shell.execute_reply": "2022-04-05T11:53:34.102872Z"
    }
   },
   "outputs": [
    {
     "name": "stdout",
     "output_type": "stream",
     "text": [
      "XTBELEMENTS\n",
      "1\n",
      "6\n",
      "8\n",
      "END\n",
      "\n",
      "[['1'], ['6'], ['8']]\n"
     ]
    }
   ],
   "source": [
    "print(qmmm_file.XTBELEMENTS)\n",
    "print(qmmm_file.XTBELEMENTS.content)"
   ]
  },
  {
   "cell_type": "code",
   "execution_count": 10,
   "id": "1503c040-bed2-4461-8f93-2262fb6b934f",
   "metadata": {
    "execution": {
     "iopub.execute_input": "2022-04-05T11:53:34.106180Z",
     "iopub.status.busy": "2022-04-05T11:53:34.105979Z",
     "iopub.status.idle": "2022-04-05T11:53:34.110734Z",
     "shell.execute_reply": "2022-04-05T11:53:34.109943Z"
    }
   },
   "outputs": [
    {
     "name": "stdout",
     "output_type": "stream",
     "text": [
      "[['1'], ['2'], ['3'], ['4'], ['5'], ['6'], ['7'], ['8'], ['9'], ['10']]\n"
     ]
    }
   ],
   "source": [
    "# replace element numbers manually with the first ten elements of the PSE\n",
    "xtbelements_new  = [[str(i) for j in range(1)] for i in range(1,11)]\n",
    "print(xtbelements_new)\n",
    "qmmm_file.XTBELEMENTS.content = xtbelements_new"
   ]
  },
  {
   "cell_type": "code",
   "execution_count": 11,
   "id": "6eb98bd1-0af0-4db5-becd-2af9a6a8bdf0",
   "metadata": {
    "execution": {
     "iopub.execute_input": "2022-04-05T11:53:34.113095Z",
     "iopub.status.busy": "2022-04-05T11:53:34.112907Z",
     "iopub.status.idle": "2022-04-05T11:53:34.118022Z",
     "shell.execute_reply": "2022-04-05T11:53:34.117227Z"
    }
   },
   "outputs": [
    {
     "data": {
      "text/plain": [
       "XTBELEMENTS\n",
       "1\n",
       "2\n",
       "3\n",
       "4\n",
       "5\n",
       "6\n",
       "7\n",
       "8\n",
       "9\n",
       "10\n",
       "END"
      ]
     },
     "execution_count": 11,
     "metadata": {},
     "output_type": "execute_result"
    }
   ],
   "source": [
    "# show the updated section in the file\n",
    "qmmm_file.XTBELEMENTS"
   ]
  },
  {
   "cell_type": "markdown",
   "id": "11615f62-005e-4e99-84a8-7e2e32badb15",
   "metadata": {},
   "source": [
    "### A helper function that returns all QM engines specified in the QM/MM specification file"
   ]
  },
  {
   "cell_type": "markdown",
   "id": "466a4510",
   "metadata": {},
   "source": [
    "There is also a sanity check in the constructor of `QMMM` to see if you did not accidentally add more than one QM engine."
   ]
  },
  {
   "cell_type": "code",
   "execution_count": 12,
   "id": "171dcd38-50b3-4cbc-9056-1a0a83b679b0",
   "metadata": {
    "execution": {
     "iopub.execute_input": "2022-04-05T11:53:34.120645Z",
     "iopub.status.busy": "2022-04-05T11:53:34.120447Z",
     "iopub.status.idle": "2022-04-05T11:53:34.124549Z",
     "shell.execute_reply": "2022-04-05T11:53:34.123817Z"
    }
   },
   "outputs": [
    {
     "name": "stdout",
     "output_type": "stream",
     "text": [
      "['XTB']\n"
     ]
    }
   ],
   "source": [
    "print(qmmm_file.get_qm_engines())"
   ]
  },
  {
   "cell_type": "markdown",
   "id": "6762dd06",
   "metadata": {},
   "source": [
    "### Store your QMMM specification file with all your other simulation files in a `Gromos_System` object"
   ]
  },
  {
   "cell_type": "code",
   "execution_count": 13,
   "id": "b53cc612",
   "metadata": {
    "execution": {
     "iopub.execute_input": "2022-04-05T11:53:34.126852Z",
     "iopub.status.busy": "2022-04-05T11:53:34.126561Z",
     "iopub.status.idle": "2022-04-05T11:53:36.206366Z",
     "shell.execute_reply": "2022-04-05T11:53:36.205526Z"
    }
   },
   "outputs": [
    {
     "data": {
      "text/plain": [
       "\n",
       "GROMOS SYSTEM: menthol-methanol-dmf\n",
       "################################################################################\n",
       "WORKDIR: example_files/menthol-methanol-dmf\n",
       "LAST CHECKPOINT: None\n",
       "\n",
       "GromosXX_bin: None\n",
       "GromosPP_bin: None\n",
       "FILES: \n",
       "\timd: /home/mlehner/PyGromosTools/docs/sphinx_project/Examples/example_files/menthol-methanol-dmf/menthol-methanol-dmf.imd\n",
       "\ttop: /home/mlehner/PyGromosTools/docs/sphinx_project/Examples/example_files/menthol-methanol-dmf/menthol-methanol-dmf.top\n",
       "\tcnf: /home/mlehner/PyGromosTools/docs/sphinx_project/Examples/example_files/menthol-methanol-dmf/menthol-methanol-dmf.cnf\n",
       "\tqmmm: /home/mlehner/PyGromosTools/docs/sphinx_project/Examples/example_files/menthol-methanol-dmf/menthol-methanol-dmf.qmmm\n",
       "FUTURE PROMISE: False\n",
       "SYSTEM: \n",
       "\tSolute:\t['0RHW', 'TUU2', 'TUU3', 'TUU4', 'TUU5', 'TUU6', 'TUU7', 'TUU8', 'TUU9', 'TUU10', 'TUU11', 'TUU12', 'TUU13', 'TUU14', 'TUU15', 'TUU16', 'TUU17', 'TUU18', 'TUU19', 'TUU20', 'TUU21', 'TUU22', 'TUU23', 'TUU24', 'TUU25', 'TUU26', 'TUU27', 'TUU28', 'TUU29', 'TUU30', 'TUU31', 'TUU32', 'TUU33', 'TUU34', 'TUU35', 'TUU36', 'TUU37', 'TUU38', 'TUU39', 'TUU40', 'TUU41', 'TUU42', 'TUU43', 'TUU44', 'TUU45', 'TUU46', 'TUU47', 'TUU48', 'TUU49', 'TUU50', 'TUU51', 'TUU52', 'TUU53', 'TUU54', 'TUU55', 'TUU56', 'TUU57', 'TUU58', 'TUU59', 'TUU60', 'TUU61', 'TUU62', 'TUU63', 'TUU64', 'TUU65', 'TUU66', 'TUU67', 'TUU68', 'TUU69', 'TUU70', 'TUU71', 'TUU72', 'TUU73', 'TUU74', 'TUU75', 'TUU76', 'TUU77', 'TUU78', 'TUU79', 'TUU80', 'TUU81', 'TUU82', 'TUU83', 'TUU84', 'TUU85', 'TUU86', 'TUU87', 'TUU88', 'TUU89', 'TUU90', 'TUU91', 'TUU92', 'TUU93', 'TUU94', 'TUU95', 'TUU96', 'TUU97', 'TUU98', 'TUU99', 'TUU100', 'TUU101', 'TUU102', 'TUU103', 'TUU104', 'TUU105', 'TUU106', 'TUU107', 'TUU108', 'TUU109', 'TUU110', 'TUU111', 'TUU112', 'TUU113', 'TUU114', 'TUU115', 'TUU116', 'TUU117', 'TUU118', 'TUU119', 'TUU120', 'TUU121', 'TUU122', 'TUU123', 'TUU124', 'TUU125', 'TUU126', 'TUU127', 'TUU128', 'TUU129', 'TUU130', 'TUU131', 'TUU132', 'TUU133', 'TUU134', 'TUU135', 'TUU136', 'TUU137', 'TUU138', 'TUU139', 'TUU140', 'TUU141', 'TUU142', 'TUU143', 'TUU144', 'TUU145', 'TUU146', 'TUU147', 'TUU148', 'TUU149', 'TUU150', 'TUU151', 'TUU152', 'TUU153', 'TUU154', 'TUU155', 'TUU156', 'TUU157', 'TUU158', 'TUU159', 'TUU160', 'TUU161', 'TUU162', 'TUU163', 'TUU164', 'TUU165', 'TUU166', 'TUU167', 'TUU168', 'TUU169', 'TUU170', 'TUU171', 'TUU172', 'TUU173', 'TUU174', 'TUU175', 'TUU176', 'TUU177', 'TUU178', 'TUU179', 'TUU180', 'TUU181', 'TUU182', 'TUU183', 'TUU184', 'TUU185', 'TUU186', 'TUU187', 'TUU188', 'TUU189', 'TUU190', 'TUU191', 'TUU192', 'TUU193', 'TUU194', 'TUU195', 'TUU196', 'TUU197', 'TUU198', 'TUU199', 'TUU200', 'TUU201', 'ERI202', 'ERI203', 'ERI204', 'ERI205', 'ERI206', 'ERI207', 'ERI208', 'ERI209', 'ERI210', 'ERI211', 'ERI212', 'ERI213', 'ERI214', 'ERI215', 'ERI216', 'ERI217', 'ERI218', 'ERI219', 'ERI220', 'ERI221', 'ERI222', 'ERI223', 'ERI224', 'ERI225', 'ERI226', 'ERI227', 'ERI228', 'ERI229', 'ERI230', 'ERI231', 'ERI232', 'ERI233', 'ERI234', 'ERI235', 'ERI236', 'ERI237', 'ERI238', 'ERI239', 'ERI240', 'ERI241', 'ERI242', 'ERI243', 'ERI244', 'ERI245', 'ERI246', 'ERI247', 'ERI248', 'ERI249', 'ERI250', 'ERI251', 'ERI252', 'ERI253', 'ERI254', 'ERI255', 'ERI256', 'ERI257', 'ERI258', 'ERI259', 'ERI260', 'ERI261']  resID: [1, 2, 3, 4, 5, 6, 7, 8, 9, 10, 11, 12, 13, 14, 15, 16, 17, 18, 19, 20, 21, 22, 23, 24, 25, 26, 27, 28, 29, 30, 31, 32, 33, 34, 35, 36, 37, 38, 39, 40, 41, 42, 43, 44, 45, 46, 47, 48, 49, 50, 51, 52, 53, 54, 55, 56, 57, 58, 59, 60, 61, 62, 63, 64, 65, 66, 67, 68, 69, 70, 71, 72, 73, 74, 75, 76, 77, 78, 79, 80, 81, 82, 83, 84, 85, 86, 87, 88, 89, 90, 91, 92, 93, 94, 95, 96, 97, 98, 99, 100, 101, 102, 103, 104, 105, 106, 107, 108, 109, 110, 111, 112, 113, 114, 115, 116, 117, 118, 119, 120, 121, 122, 123, 124, 125, 126, 127, 128, 129, 130, 131, 132, 133, 134, 135, 136, 137, 138, 139, 140, 141, 142, 143, 144, 145, 146, 147, 148, 149, 150, 151, 152, 153, 154, 155, 156, 157, 158, 159, 160, 161, 162, 163, 164, 165, 166, 167, 168, 169, 170, 171, 172, 173, 174, 175, 176, 177, 178, 179, 180, 181, 182, 183, 184, 185, 186, 187, 188, 189, 190, 191, 192, 193, 194, 195, 196, 197, 198, 199, 200, 201, 202, 203, 204, 205, 206, 207, 208, 209, 210, 211, 212, 213, 214, 215, 216, 217, 218, 219, 220, 221, 222, 223, 224, 225, 226, 227, 228, 229, 230, 231, 232, 233, 234, 235, 236, 237, 238, 239, 240, 241, 242, 243, 244, 245, 246, 247, 248, 249, 250, 251, 252, 253, 254, 255, 256, 257, 258, 259, 260, 261]  natoms: 1951\n",
       "\tSOLVENT:\t[]  nmolecules: 0  natoms: 0\n",
       "\n"
      ]
     },
     "execution_count": 13,
     "metadata": {},
     "output_type": "execute_result"
    }
   ],
   "source": [
    "# that's what we want to simulate\n",
    "system_name = \"menthol-methanol-dmf\"\n",
    "\n",
    "# that's where we want to simulate it at\n",
    "work_folder = f\"example_files/{system_name}\"\n",
    "\n",
    "# create a Gromos_System object from scratch\n",
    "system = Gromos_System(work_folder, system_name)\n",
    "\n",
    "# specify prepared topology, configuration, QMMM specification file, and input file\n",
    "system.top = f\"example_files/QMMM_files/{system_name}-all-atom_54a7.top\"\n",
    "system.cnf = f\"example_files/QMMM_files/{system_name}-all-atom-init_54a7.cnf\"\n",
    "system.qmmm = qmmm_file\n",
    "system.imd = imd_file\n",
    "\n",
    "# clean up\n",
    "system.rebase_files()\n",
    "\n",
    "# all your simulation files now live in the work folder\n",
    "system"
   ]
  },
  {
   "cell_type": "code",
   "execution_count": 14,
   "id": "7b311787",
   "metadata": {
    "execution": {
     "iopub.execute_input": "2022-04-05T11:53:36.208977Z",
     "iopub.status.busy": "2022-04-05T11:53:36.208711Z",
     "iopub.status.idle": "2022-04-05T11:53:36.214552Z",
     "shell.execute_reply": "2022-04-05T11:53:36.213780Z"
    }
   },
   "outputs": [
    {
     "data": {
      "text/plain": [
       "TITLE\n",
       "Demonstration of a Gromos imd file containing a QMMM block\n",
       "\t>>> Generated with PyGromosTools (riniker group) <<<\n",
       "END\n",
       "BOUNDCOND\n",
       "# \t NTB \t NDFMIN\n",
       " \t 1 \t 3 \t \n",
       "END\n",
       "COMTRANSROT\n",
       "# \t NSCM\n",
       " \t 1000 \t \n",
       "END\n",
       "CONSTRAINT\n",
       "# \t NTC\n",
       " \t 3 \t \n",
       "# \t NTCP \t NTCP0(1)\n",
       " \t 1 \t 0.000100 \t \n",
       "# \t NTCS \t NTCS0(1)\n",
       " \t 1 \t 0.000100 \t \n",
       "END\n",
       "FORCE\n",
       "# \t BONDS \t ANGLES \t IMPROPER \t DIHEDRAL \t ELECTROSTATIC \t VDW\n",
       " \t 0 \t 1 \t 1 \t 1 \t 1 \t 1 \t \n",
       "# \t NEGR \t NRE\n",
       " \t 1 \t 1951 \t \n",
       "END\n",
       "INITIALISE\n",
       "# \t NTIVEL \t NTISHK \t NTINHT \t NTINHB\n",
       " \t 1 \t 3 \t 0 \t 0 \t \n",
       "# \t NTISHI \t NTIRTC \t NTICOM\n",
       " \t 1 \t 0 \t 0 \t \n",
       "# \t NTISTI\n",
       " \t 0 \t \n",
       "# \t IG \t TEMPI\n",
       " \t 210185 \t 298.000000 \t \n",
       "END\n",
       "MULTIBATH\n",
       "# ALGORITHM\n",
       "  0\n",
       "# NBATHS\n",
       "  1\n",
       "# TEMP0(1 ... NBATHS) \t TAU(1 ... NBATHS)\n",
       "  298.0 \t 0.1\n",
       "# DOFSET\n",
       "  1\n",
       "# LAST(1 ... DOFSET) \t COMBATH(1 ... DOFSET) \t IRBATH(1 ... DOFSET)\n",
       "  1951 \t 1 \t 1\n",
       "END\n",
       "NONBONDED\n",
       "# \t NLRELE\n",
       " \t 1 \t \n",
       "# \t APPAK \t RCRF \t EPSRF \t NSLFEXCL\n",
       " \t 0.000000 \t 1.400000 \t 66.700000 \t 1 \t \n",
       "# \t NSHAPE \t ASHAPE \t NA2CLC \t TOLA2 \t EPSLS\n",
       " \t 3 \t 1.400000 \t 2 \t 1e-10 \t 0.000000 \t \n",
       "# \t NKX \t NKY \t NKZ \t KCUT\n",
       " \t 10 \t 10 \t 10 \t 100.000000 \t \n",
       "# \t NGX \t NGY \t NGZ \t NASORD \t NFDORD \t NALIAS \t NSPORD\n",
       " \t 32 \t 32 \t 32 \t 3 \t 2 \t 3 \t 4 \t \n",
       "# \t NQEVAL \t FACCUR \t NRDGRD \t NWRGRD\n",
       " \t 1000 \t 1.600000 \t 0 \t 0 \t \n",
       "# \t NLRLJ \t SLVDNS\n",
       " \t 0 \t 33.300000 \t \n",
       "END\n",
       "PAIRLIST\n",
       "# \t ALGORITHM \t NSNB \t RCUTP \t RCUTL \t SIZE \t TYPE\n",
       " \t 0 \t 5 \t 0.800000 \t 1.400000 \t 0.4 \t 0 \t \n",
       "END\n",
       "PRESSURESCALE\n",
       "# \t COUPLE \t SCALE \t COMP \t TAUP \t VIRIAL\n",
       " \t 2 \t 1 \t 0.000458 \t 0.500000 \t 2 \t \n",
       "# \t SEMIANISOTROPIC COUPLINGS(X, Y, Z)\n",
       " \t 1 \t 1 \t 1 \t \n",
       "# \t PRES0(1...3,1...3)\n",
       " \t 0.06102 \t 0.0 \t 0.0\n",
       " \t 0.0 \t 0.06102 \t 0.0\n",
       " \t 0.0 \t 0.0 \t 0.06102 \t \n",
       "END\n",
       "PRINTOUT\n",
       "# \t NTPR \t NTPP\n",
       " \t 10 \t 0 \t \n",
       "END\n",
       "QMMM\n",
       "# \t NTQMMM \t NTQMSW \t RCUTQ \t NTWQMMM \t QMLJ \t MMSCAL\n",
       " \t 1 \t 4 \t 1.400000 \t 0 \t 0 \t -1.000000 \t \n",
       "END\n",
       "STEP\n",
       "# \t NSTLIM \t T \t DT\n",
       " \t 100000 \t 0.000000 \t 0.002000 \t \n",
       "END\n",
       "SYSTEM\n",
       "# \t NPM \t NSM\n",
       " \t 1 \t 0 \t \n",
       "END\n",
       "WRITETRAJ\n",
       "# \t NTWX \t NTWSE \t NTWV \t NTWF \t NTWE \t NTWG \t NTWB\n",
       " \t 200 \t 0 \t 0 \t 0 \t 100 \t 0 \t 0 \t \n",
       "END"
      ]
     },
     "execution_count": 14,
     "metadata": {},
     "output_type": "execute_result"
    }
   ],
   "source": [
    "# the imd file has been adapted (force groups, multibath, etc.)\n",
    "system.imd"
   ]
  },
  {
   "cell_type": "markdown",
   "id": "b8a4dd03",
   "metadata": {},
   "source": [
    "## Run QM/MM Simulations"
   ]
  },
  {
   "cell_type": "markdown",
   "id": "6f4b1139",
   "metadata": {},
   "source": [
    "QM/MM calculations are possible with a special in-house build of `GROMOS`."
   ]
  },
  {
   "cell_type": "code",
   "execution_count": 15,
   "id": "477f3d2d",
   "metadata": {
    "execution": {
     "iopub.execute_input": "2022-04-05T11:53:36.217457Z",
     "iopub.status.busy": "2022-04-05T11:53:36.217174Z",
     "iopub.status.idle": "2022-04-05T11:53:38.374177Z",
     "shell.execute_reply": "2022-04-05T11:53:38.373305Z"
    }
   },
   "outputs": [
    {
     "data": {
      "text/plain": [
       "\n",
       "GROMOS SYSTEM: menthol-methanol-dmf\n",
       "################################################################################\n",
       "WORKDIR: example_files/menthol-methanol-dmf\n",
       "LAST CHECKPOINT: None\n",
       "\n",
       "GromosXX_bin: None\n",
       "GromosPP_bin: None\n",
       "FILES: \n",
       "\timd: None\n",
       "\ttop: example_files/QMMM_files/menthol-methanol-dmf-all-atom_54a7.top\n",
       "\tcnf: example_files/QMMM_files/menthol-methanol-dmf-all-atom-init_54a7.cnf\n",
       "FUTURE PROMISE: False\n",
       "SYSTEM: \n",
       "\tSolute:\t['0RHW', 'TUU2', 'TUU3', 'TUU4', 'TUU5', 'TUU6', 'TUU7', 'TUU8', 'TUU9', 'TUU10', 'TUU11', 'TUU12', 'TUU13', 'TUU14', 'TUU15', 'TUU16', 'TUU17', 'TUU18', 'TUU19', 'TUU20', 'TUU21', 'TUU22', 'TUU23', 'TUU24', 'TUU25', 'TUU26', 'TUU27', 'TUU28', 'TUU29', 'TUU30', 'TUU31', 'TUU32', 'TUU33', 'TUU34', 'TUU35', 'TUU36', 'TUU37', 'TUU38', 'TUU39', 'TUU40', 'TUU41', 'TUU42', 'TUU43', 'TUU44', 'TUU45', 'TUU46', 'TUU47', 'TUU48', 'TUU49', 'TUU50', 'TUU51', 'TUU52', 'TUU53', 'TUU54', 'TUU55', 'TUU56', 'TUU57', 'TUU58', 'TUU59', 'TUU60', 'TUU61', 'TUU62', 'TUU63', 'TUU64', 'TUU65', 'TUU66', 'TUU67', 'TUU68', 'TUU69', 'TUU70', 'TUU71', 'TUU72', 'TUU73', 'TUU74', 'TUU75', 'TUU76', 'TUU77', 'TUU78', 'TUU79', 'TUU80', 'TUU81', 'TUU82', 'TUU83', 'TUU84', 'TUU85', 'TUU86', 'TUU87', 'TUU88', 'TUU89', 'TUU90', 'TUU91', 'TUU92', 'TUU93', 'TUU94', 'TUU95', 'TUU96', 'TUU97', 'TUU98', 'TUU99', 'TUU100', 'TUU101', 'TUU102', 'TUU103', 'TUU104', 'TUU105', 'TUU106', 'TUU107', 'TUU108', 'TUU109', 'TUU110', 'TUU111', 'TUU112', 'TUU113', 'TUU114', 'TUU115', 'TUU116', 'TUU117', 'TUU118', 'TUU119', 'TUU120', 'TUU121', 'TUU122', 'TUU123', 'TUU124', 'TUU125', 'TUU126', 'TUU127', 'TUU128', 'TUU129', 'TUU130', 'TUU131', 'TUU132', 'TUU133', 'TUU134', 'TUU135', 'TUU136', 'TUU137', 'TUU138', 'TUU139', 'TUU140', 'TUU141', 'TUU142', 'TUU143', 'TUU144', 'TUU145', 'TUU146', 'TUU147', 'TUU148', 'TUU149', 'TUU150', 'TUU151', 'TUU152', 'TUU153', 'TUU154', 'TUU155', 'TUU156', 'TUU157', 'TUU158', 'TUU159', 'TUU160', 'TUU161', 'TUU162', 'TUU163', 'TUU164', 'TUU165', 'TUU166', 'TUU167', 'TUU168', 'TUU169', 'TUU170', 'TUU171', 'TUU172', 'TUU173', 'TUU174', 'TUU175', 'TUU176', 'TUU177', 'TUU178', 'TUU179', 'TUU180', 'TUU181', 'TUU182', 'TUU183', 'TUU184', 'TUU185', 'TUU186', 'TUU187', 'TUU188', 'TUU189', 'TUU190', 'TUU191', 'TUU192', 'TUU193', 'TUU194', 'TUU195', 'TUU196', 'TUU197', 'TUU198', 'TUU199', 'TUU200', 'TUU201', 'ERI202', 'ERI203', 'ERI204', 'ERI205', 'ERI206', 'ERI207', 'ERI208', 'ERI209', 'ERI210', 'ERI211', 'ERI212', 'ERI213', 'ERI214', 'ERI215', 'ERI216', 'ERI217', 'ERI218', 'ERI219', 'ERI220', 'ERI221', 'ERI222', 'ERI223', 'ERI224', 'ERI225', 'ERI226', 'ERI227', 'ERI228', 'ERI229', 'ERI230', 'ERI231', 'ERI232', 'ERI233', 'ERI234', 'ERI235', 'ERI236', 'ERI237', 'ERI238', 'ERI239', 'ERI240', 'ERI241', 'ERI242', 'ERI243', 'ERI244', 'ERI245', 'ERI246', 'ERI247', 'ERI248', 'ERI249', 'ERI250', 'ERI251', 'ERI252', 'ERI253', 'ERI254', 'ERI255', 'ERI256', 'ERI257', 'ERI258', 'ERI259', 'ERI260', 'ERI261']  resID: [1, 2, 3, 4, 5, 6, 7, 8, 9, 10, 11, 12, 13, 14, 15, 16, 17, 18, 19, 20, 21, 22, 23, 24, 25, 26, 27, 28, 29, 30, 31, 32, 33, 34, 35, 36, 37, 38, 39, 40, 41, 42, 43, 44, 45, 46, 47, 48, 49, 50, 51, 52, 53, 54, 55, 56, 57, 58, 59, 60, 61, 62, 63, 64, 65, 66, 67, 68, 69, 70, 71, 72, 73, 74, 75, 76, 77, 78, 79, 80, 81, 82, 83, 84, 85, 86, 87, 88, 89, 90, 91, 92, 93, 94, 95, 96, 97, 98, 99, 100, 101, 102, 103, 104, 105, 106, 107, 108, 109, 110, 111, 112, 113, 114, 115, 116, 117, 118, 119, 120, 121, 122, 123, 124, 125, 126, 127, 128, 129, 130, 131, 132, 133, 134, 135, 136, 137, 138, 139, 140, 141, 142, 143, 144, 145, 146, 147, 148, 149, 150, 151, 152, 153, 154, 155, 156, 157, 158, 159, 160, 161, 162, 163, 164, 165, 166, 167, 168, 169, 170, 171, 172, 173, 174, 175, 176, 177, 178, 179, 180, 181, 182, 183, 184, 185, 186, 187, 188, 189, 190, 191, 192, 193, 194, 195, 196, 197, 198, 199, 200, 201, 202, 203, 204, 205, 206, 207, 208, 209, 210, 211, 212, 213, 214, 215, 216, 217, 218, 219, 220, 221, 222, 223, 224, 225, 226, 227, 228, 229, 230, 231, 232, 233, 234, 235, 236, 237, 238, 239, 240, 241, 242, 243, 244, 245, 246, 247, 248, 249, 250, 251, 252, 253, 254, 255, 256, 257, 258, 259, 260, 261]  natoms: 1951\n",
       "\tSOLVENT:\t[]  nmolecules: 0  natoms: 0\n",
       "\n"
      ]
     },
     "execution_count": 15,
     "metadata": {},
     "output_type": "execute_result"
    }
   ],
   "source": [
    "# binaries (not yet QM/MM)\n",
    "gromosPP = None\n",
    "gromosXX = None\n",
    "\n",
    "# folders and title\n",
    "system_name = \"menthol-methanol-dmf\"\n",
    "work_folder =  f\"example_files/{system_name}\"\n",
    "\n",
    "# files\n",
    "in_cnf_path  = f\"example_files/QMMM_files/menthol-methanol-dmf-all-atom-init_54a7.cnf\"\n",
    "in_top_path  = f\"example_files/QMMM_files/menthol-methanol-dmf-all-atom_54a7.top\"\n",
    "\n",
    "# system\n",
    "system = Gromos_System(\n",
    "    work_folder, \n",
    "    system_name, \n",
    "    in_top_path=in_top_path, \n",
    "    in_cnf_path=in_cnf_path,\n",
    "    in_gromosPP_bin_dir=gromosPP,\n",
    "    in_gromosXX_bin_dir=gromosXX\n",
    ")\n",
    "\n",
    "system"
   ]
  },
  {
   "cell_type": "code",
   "execution_count": 16,
   "id": "9edc9650",
   "metadata": {
    "execution": {
     "iopub.execute_input": "2022-04-05T11:53:38.377877Z",
     "iopub.status.busy": "2022-04-05T11:53:38.377442Z",
     "iopub.status.idle": "2022-04-05T11:53:38.475467Z",
     "shell.execute_reply": "2022-04-05T11:53:38.474281Z"
    }
   },
   "outputs": [
    {
     "ename": "AttributeError",
     "evalue": "'Cnf' object has no attribute 'visualize'",
     "output_type": "error",
     "traceback": [
      "\u001b[0;31m---------------------------------------------------------------------------\u001b[0m",
      "\u001b[0;31mAttributeError\u001b[0m                            Traceback (most recent call last)",
      "\u001b[0;32m/tmp/ipykernel_8795/844308420.py\u001b[0m in \u001b[0;36m<module>\u001b[0;34m\u001b[0m\n\u001b[0;32m----> 1\u001b[0;31m \u001b[0msystem\u001b[0m\u001b[0;34m.\u001b[0m\u001b[0mcnf\u001b[0m\u001b[0;34m.\u001b[0m\u001b[0mvisualize\u001b[0m\u001b[0;34m(\u001b[0m\u001b[0;34m)\u001b[0m\u001b[0;34m\u001b[0m\u001b[0;34m\u001b[0m\u001b[0m\n\u001b[0m",
      "\u001b[0;31mAttributeError\u001b[0m: 'Cnf' object has no attribute 'visualize'"
     ]
    }
   ],
   "source": [
    "system.cnf.visualize()"
   ]
  },
  {
   "cell_type": "code",
   "execution_count": 17,
   "id": "ec3896bb",
   "metadata": {
    "execution": {
     "iopub.execute_input": "2022-04-05T11:53:38.478278Z",
     "iopub.status.busy": "2022-04-05T11:53:38.478055Z",
     "iopub.status.idle": "2022-04-05T11:53:45.248053Z",
     "shell.execute_reply": "2022-04-05T11:53:45.247265Z"
    }
   },
   "outputs": [
    {
     "name": "stdout",
     "output_type": "stream",
     "text": [
      "################################################################################\n",
      "\n",
      "emin\n",
      "################################################################################\n",
      "\n"
     ]
    },
    {
     "name": "stderr",
     "output_type": "stream",
     "text": [
      "/home/mlehner/PyGromosTools/pygromos/files/gromos_system/gromos_system.py:869: UserWarning: Did not change file path as its only promised None\n",
      "  warnings.warn(\"Did not change file path as its only promised \" + str(file_obj.path))\n",
      "/home/mlehner/PyGromosTools/pygromos/simulations/modules/general_simulation_modules.py:114: UserWarning: Template_imd_path was used: /home/mlehner/PyGromosTools/pygromos/data/simulation_parameters_templates/emin.imd\n",
      "  warnings.warn(\"Template_imd_path was used: \" + _template_imd_path)\n",
      "Traceback (most recent call last):\n",
      "  File \"/home/mlehner/PyGromosTools/pygromos/simulations/modules/general_simulation_modules.py\", line 130, in simulation\n",
      "    gromos_system.rebase_files()\n",
      "  File \"/home/mlehner/PyGromosTools/pygromos/files/gromos_system/gromos_system.py\", line 880, in rebase_files\n",
      "    self.write_files()\n",
      "  File \"/home/mlehner/PyGromosTools/pygromos/files/gromos_system/gromos_system.py\", line 1120, in write_files\n",
      "    file_obj.write(file_obj.path)\n",
      "  File \"/home/mlehner/PyGromosTools/pygromos/files/_basics/_general_gromos_file.py\", line 306, in write\n",
      "    self._write_to_file(out_path=out_path, content_str=str(self))\n",
      "  File \"/home/mlehner/PyGromosTools/pygromos/files/_basics/_general_gromos_file.py\", line 324, in _write_to_file\n",
      "    raise IOError(\"Could not find directory to write to: \" + str(os.path.dirname(out_path)))\n",
      "OSError: Could not find directory to write to: example_files/menthol-methanol-dmf/emin/input\n",
      "\n",
      "During handling of the above exception, another exception occurred:\n",
      "\n",
      "Traceback (most recent call last):\n",
      "  File \"/home/mlehner/PyGromosTools/pygromos/simulations/modules/general_simulation_modules.py\", line 136, in simulation\n",
      "    raise Exception(\"Could not prepare the gromos System\\n\\t\" + \"\\n\\t\".join(map(str, err.args)))\n",
      "Exception: Could not prepare the gromos System\n",
      "\tCould not find directory to write to: example_files/menthol-methanol-dmf/emin/input\n"
     ]
    },
    {
     "ename": "Exception",
     "evalue": "Could not prepare the command block\n\tCould not prepare the gromos System\n\tCould not find directory to write to: example_files/menthol-methanol-dmf/emin/input",
     "output_type": "error",
     "traceback": [
      "\u001b[0;31m---------------------------------------------------------------------------\u001b[0m",
      "\u001b[0;31mOSError\u001b[0m                                   Traceback (most recent call last)",
      "\u001b[0;32m~/PyGromosTools/pygromos/simulations/modules/general_simulation_modules.py\u001b[0m in \u001b[0;36msimulation\u001b[0;34m(in_gromos_simulation_system, override_project_dir, step_name, in_imd_path, submission_system, simulation_runs, equilibration_runs, previous_simulation_run, force_simulation, initialize_first_run, reinitialize_every_run, analysis_script, analysis_control_dict, _no_double_submit_check, _work_dir, verbose, verbose_lvl, _template_imd_path)\u001b[0m\n\u001b[1;32m    129\u001b[0m             \u001b[0;31m# Write out, all non promised files\u001b[0m\u001b[0;34m\u001b[0m\u001b[0;34m\u001b[0m\u001b[0m\n\u001b[0;32m--> 130\u001b[0;31m             \u001b[0mgromos_system\u001b[0m\u001b[0;34m.\u001b[0m\u001b[0mrebase_files\u001b[0m\u001b[0;34m(\u001b[0m\u001b[0;34m)\u001b[0m\u001b[0;34m\u001b[0m\u001b[0;34m\u001b[0m\u001b[0m\n\u001b[0m\u001b[1;32m    131\u001b[0m \u001b[0;34m\u001b[0m\u001b[0m\n",
      "\u001b[0;32m~/PyGromosTools/pygromos/files/gromos_system/gromos_system.py\u001b[0m in \u001b[0;36mrebase_files\u001b[0;34m(self)\u001b[0m\n\u001b[1;32m    879\u001b[0m         \u001b[0mself\u001b[0m\u001b[0;34m.\u001b[0m\u001b[0m_update_all_file_paths\u001b[0m\u001b[0;34m(\u001b[0m\u001b[0;34m)\u001b[0m\u001b[0;34m\u001b[0m\u001b[0;34m\u001b[0m\u001b[0m\n\u001b[0;32m--> 880\u001b[0;31m         \u001b[0mself\u001b[0m\u001b[0;34m.\u001b[0m\u001b[0mwrite_files\u001b[0m\u001b[0;34m(\u001b[0m\u001b[0;34m)\u001b[0m\u001b[0;34m\u001b[0m\u001b[0;34m\u001b[0m\u001b[0m\n\u001b[0m\u001b[1;32m    881\u001b[0m \u001b[0;34m\u001b[0m\u001b[0m\n",
      "\u001b[0;32m~/PyGromosTools/pygromos/files/gromos_system/gromos_system.py\u001b[0m in \u001b[0;36mwrite_files\u001b[0;34m(self, cnf, imd, top, ptp, disres, posres, refpos, qmmm, mol, all, verbose)\u001b[0m\n\u001b[1;32m   1119\u001b[0m                         \u001b[0mprint\u001b[0m\u001b[0;34m(\u001b[0m\u001b[0;34m\"Write out: \"\u001b[0m \u001b[0;34m+\u001b[0m \u001b[0mstr\u001b[0m\u001b[0;34m(\u001b[0m\u001b[0mfile_name\u001b[0m\u001b[0;34m)\u001b[0m \u001b[0;34m+\u001b[0m \u001b[0;34m\"\\t\"\u001b[0m \u001b[0;34m+\u001b[0m \u001b[0mfile_obj\u001b[0m\u001b[0;34m.\u001b[0m\u001b[0mpath\u001b[0m\u001b[0;34m)\u001b[0m\u001b[0;34m\u001b[0m\u001b[0;34m\u001b[0m\u001b[0m\n\u001b[0;32m-> 1120\u001b[0;31m                     \u001b[0mfile_obj\u001b[0m\u001b[0;34m.\u001b[0m\u001b[0mwrite\u001b[0m\u001b[0;34m(\u001b[0m\u001b[0mfile_obj\u001b[0m\u001b[0;34m.\u001b[0m\u001b[0mpath\u001b[0m\u001b[0;34m)\u001b[0m\u001b[0;34m\u001b[0m\u001b[0;34m\u001b[0m\u001b[0m\n\u001b[0m\u001b[1;32m   1121\u001b[0m             \u001b[0;32melse\u001b[0m\u001b[0;34m:\u001b[0m\u001b[0;34m\u001b[0m\u001b[0;34m\u001b[0m\u001b[0m\n",
      "\u001b[0;32m~/PyGromosTools/pygromos/files/_basics/_general_gromos_file.py\u001b[0m in \u001b[0;36mwrite\u001b[0;34m(self, out_path)\u001b[0m\n\u001b[1;32m    305\u001b[0m         \"\"\"\n\u001b[0;32m--> 306\u001b[0;31m         \u001b[0mself\u001b[0m\u001b[0;34m.\u001b[0m\u001b[0m_write_to_file\u001b[0m\u001b[0;34m(\u001b[0m\u001b[0mout_path\u001b[0m\u001b[0;34m=\u001b[0m\u001b[0mout_path\u001b[0m\u001b[0;34m,\u001b[0m \u001b[0mcontent_str\u001b[0m\u001b[0;34m=\u001b[0m\u001b[0mstr\u001b[0m\u001b[0;34m(\u001b[0m\u001b[0mself\u001b[0m\u001b[0;34m)\u001b[0m\u001b[0;34m)\u001b[0m\u001b[0;34m\u001b[0m\u001b[0;34m\u001b[0m\u001b[0m\n\u001b[0m\u001b[1;32m    307\u001b[0m         \u001b[0mself\u001b[0m\u001b[0;34m.\u001b[0m\u001b[0mpath\u001b[0m \u001b[0;34m=\u001b[0m \u001b[0mos\u001b[0m\u001b[0;34m.\u001b[0m\u001b[0mpath\u001b[0m\u001b[0;34m.\u001b[0m\u001b[0mabspath\u001b[0m\u001b[0;34m(\u001b[0m\u001b[0mout_path\u001b[0m\u001b[0;34m)\u001b[0m\u001b[0;34m\u001b[0m\u001b[0;34m\u001b[0m\u001b[0m\n",
      "\u001b[0;32m~/PyGromosTools/pygromos/files/_basics/_general_gromos_file.py\u001b[0m in \u001b[0;36m_write_to_file\u001b[0;34m(self, out_path, content_str)\u001b[0m\n\u001b[1;32m    323\u001b[0m             \u001b[0;32melse\u001b[0m\u001b[0;34m:\u001b[0m\u001b[0;34m\u001b[0m\u001b[0;34m\u001b[0m\u001b[0m\n\u001b[0;32m--> 324\u001b[0;31m                 \u001b[0;32mraise\u001b[0m \u001b[0mIOError\u001b[0m\u001b[0;34m(\u001b[0m\u001b[0;34m\"Could not find directory to write to: \"\u001b[0m \u001b[0;34m+\u001b[0m \u001b[0mstr\u001b[0m\u001b[0;34m(\u001b[0m\u001b[0mos\u001b[0m\u001b[0;34m.\u001b[0m\u001b[0mpath\u001b[0m\u001b[0;34m.\u001b[0m\u001b[0mdirname\u001b[0m\u001b[0;34m(\u001b[0m\u001b[0mout_path\u001b[0m\u001b[0;34m)\u001b[0m\u001b[0;34m)\u001b[0m\u001b[0;34m)\u001b[0m\u001b[0;34m\u001b[0m\u001b[0;34m\u001b[0m\u001b[0m\n\u001b[0m\u001b[1;32m    325\u001b[0m         \u001b[0;32melse\u001b[0m\u001b[0;34m:\u001b[0m\u001b[0;34m\u001b[0m\u001b[0;34m\u001b[0m\u001b[0m\n",
      "\u001b[0;31mOSError\u001b[0m: Could not find directory to write to: example_files/menthol-methanol-dmf/emin/input",
      "\nDuring handling of the above exception, another exception occurred:\n",
      "\u001b[0;31mException\u001b[0m                                 Traceback (most recent call last)",
      "\u001b[0;32m~/PyGromosTools/pygromos/simulations/modules/general_simulation_modules.py\u001b[0m in \u001b[0;36msimulation\u001b[0;34m(in_gromos_simulation_system, override_project_dir, step_name, in_imd_path, submission_system, simulation_runs, equilibration_runs, previous_simulation_run, force_simulation, initialize_first_run, reinitialize_every_run, analysis_script, analysis_control_dict, _no_double_submit_check, _work_dir, verbose, verbose_lvl, _template_imd_path)\u001b[0m\n\u001b[1;32m    135\u001b[0m         \u001b[0;32mexcept\u001b[0m \u001b[0mException\u001b[0m \u001b[0;32mas\u001b[0m \u001b[0merr\u001b[0m\u001b[0;34m:\u001b[0m\u001b[0;34m\u001b[0m\u001b[0;34m\u001b[0m\u001b[0m\n\u001b[0;32m--> 136\u001b[0;31m             \u001b[0;32mraise\u001b[0m \u001b[0mException\u001b[0m\u001b[0;34m(\u001b[0m\u001b[0;34m\"Could not prepare the gromos System\\n\\t\"\u001b[0m \u001b[0;34m+\u001b[0m \u001b[0;34m\"\\n\\t\"\u001b[0m\u001b[0;34m.\u001b[0m\u001b[0mjoin\u001b[0m\u001b[0;34m(\u001b[0m\u001b[0mmap\u001b[0m\u001b[0;34m(\u001b[0m\u001b[0mstr\u001b[0m\u001b[0;34m,\u001b[0m \u001b[0merr\u001b[0m\u001b[0;34m.\u001b[0m\u001b[0margs\u001b[0m\u001b[0;34m)\u001b[0m\u001b[0;34m)\u001b[0m\u001b[0;34m)\u001b[0m\u001b[0;34m\u001b[0m\u001b[0;34m\u001b[0m\u001b[0m\n\u001b[0m\u001b[1;32m    137\u001b[0m         \u001b[0;31m# do\u001b[0m\u001b[0;34m\u001b[0m\u001b[0;34m\u001b[0m\u001b[0m\n",
      "\u001b[0;31mException\u001b[0m: Could not prepare the gromos System\n\tCould not find directory to write to: example_files/menthol-methanol-dmf/emin/input",
      "\nDuring handling of the above exception, another exception occurred:\n",
      "\u001b[0;31mException\u001b[0m                                 Traceback (most recent call last)",
      "\u001b[0;32m/tmp/ipykernel_8795/178837208.py\u001b[0m in \u001b[0;36m<module>\u001b[0;34m\u001b[0m\n\u001b[1;32m      3\u001b[0m \u001b[0;34m\u001b[0m\u001b[0m\n\u001b[1;32m      4\u001b[0m \u001b[0;31m# energy minimize the system\u001b[0m\u001b[0;34m\u001b[0m\u001b[0;34m\u001b[0m\u001b[0m\n\u001b[0;32m----> 5\u001b[0;31m \u001b[0mminimized_system\u001b[0m \u001b[0;34m=\u001b[0m \u001b[0memin\u001b[0m\u001b[0;34m(\u001b[0m\u001b[0msystem\u001b[0m\u001b[0;34m,\u001b[0m \u001b[0msubmission_system\u001b[0m\u001b[0;34m=\u001b[0m\u001b[0msubmit\u001b[0m\u001b[0;34m)\u001b[0m\u001b[0;34m\u001b[0m\u001b[0;34m\u001b[0m\u001b[0m\n\u001b[0m",
      "\u001b[0;32m~/PyGromosTools/pygromos/simulations/modules/preset_simulation_modules.py\u001b[0m in \u001b[0;36memin\u001b[0;34m(in_gromos_system, step_name, override_project_dir, in_imd_path, submission_system, simulation_runs, equilibration_runs, previous_simulation_run, _template_imd_path, _no_double_submit_check, initialize_first_run, analysis_script, verbose)\u001b[0m\n\u001b[1;32m     42\u001b[0m             \u001b[0mtemplate_emin_control_dict\u001b[0m\u001b[0;34m[\u001b[0m\u001b[0;34m\"concat\"\u001b[0m\u001b[0;34m]\u001b[0m\u001b[0;34m[\u001b[0m\u001b[0;34m\"cat_trg\"\u001b[0m\u001b[0;34m]\u001b[0m \u001b[0;34m=\u001b[0m \u001b[0;32mFalse\u001b[0m\u001b[0;34m\u001b[0m\u001b[0;34m\u001b[0m\u001b[0m\n\u001b[1;32m     43\u001b[0m \u001b[0;34m\u001b[0m\u001b[0m\n\u001b[0;32m---> 44\u001b[0;31m     return simulation(\n\u001b[0m\u001b[1;32m     45\u001b[0m         \u001b[0min_gromos_simulation_system\u001b[0m\u001b[0;34m=\u001b[0m\u001b[0min_gromos_system\u001b[0m\u001b[0;34m,\u001b[0m\u001b[0;34m\u001b[0m\u001b[0;34m\u001b[0m\u001b[0m\n\u001b[1;32m     46\u001b[0m         \u001b[0moverride_project_dir\u001b[0m\u001b[0;34m=\u001b[0m\u001b[0moverride_project_dir\u001b[0m\u001b[0;34m,\u001b[0m\u001b[0;34m\u001b[0m\u001b[0;34m\u001b[0m\u001b[0m\n",
      "\u001b[0;32m~/PyGromosTools/pygromos/simulations/modules/general_simulation_modules.py\u001b[0m in \u001b[0;36msimulation\u001b[0;34m(in_gromos_simulation_system, override_project_dir, step_name, in_imd_path, submission_system, simulation_runs, equilibration_runs, previous_simulation_run, force_simulation, initialize_first_run, reinitialize_every_run, analysis_script, analysis_control_dict, _no_double_submit_check, _work_dir, verbose, verbose_lvl, _template_imd_path)\u001b[0m\n\u001b[1;32m    196\u001b[0m     \u001b[0;32mexcept\u001b[0m \u001b[0mException\u001b[0m \u001b[0;32mas\u001b[0m \u001b[0merr\u001b[0m\u001b[0;34m:\u001b[0m\u001b[0;34m\u001b[0m\u001b[0;34m\u001b[0m\u001b[0m\n\u001b[1;32m    197\u001b[0m         \u001b[0mtraceback\u001b[0m\u001b[0;34m.\u001b[0m\u001b[0mprint_exception\u001b[0m\u001b[0;34m(\u001b[0m\u001b[0;34m*\u001b[0m\u001b[0msys\u001b[0m\u001b[0;34m.\u001b[0m\u001b[0mexc_info\u001b[0m\u001b[0;34m(\u001b[0m\u001b[0;34m)\u001b[0m\u001b[0;34m)\u001b[0m\u001b[0;34m\u001b[0m\u001b[0;34m\u001b[0m\u001b[0m\n\u001b[0;32m--> 198\u001b[0;31m         \u001b[0;32mraise\u001b[0m \u001b[0mException\u001b[0m\u001b[0;34m(\u001b[0m\u001b[0;34m\"Could not prepare the command block\\n\\t\"\u001b[0m \u001b[0;34m+\u001b[0m \u001b[0;34m\"\\n\\t\"\u001b[0m\u001b[0;34m.\u001b[0m\u001b[0mjoin\u001b[0m\u001b[0;34m(\u001b[0m\u001b[0mmap\u001b[0m\u001b[0;34m(\u001b[0m\u001b[0mstr\u001b[0m\u001b[0;34m,\u001b[0m \u001b[0merr\u001b[0m\u001b[0;34m.\u001b[0m\u001b[0margs\u001b[0m\u001b[0;34m)\u001b[0m\u001b[0;34m)\u001b[0m\u001b[0;34m)\u001b[0m\u001b[0;34m\u001b[0m\u001b[0;34m\u001b[0m\u001b[0m\n\u001b[0m\u001b[1;32m    199\u001b[0m \u001b[0;34m\u001b[0m\u001b[0m\n\u001b[1;32m    200\u001b[0m     \u001b[0;31m# schedule\u001b[0m\u001b[0;34m\u001b[0m\u001b[0;34m\u001b[0m\u001b[0m\n",
      "\u001b[0;31mException\u001b[0m: Could not prepare the command block\n\tCould not prepare the gromos System\n\tCould not find directory to write to: example_files/menthol-methanol-dmf/emin/input"
     ]
    }
   ],
   "source": [
    "# create a local submission system and specify the number of cores\n",
    "submit = LOCAL(nomp=8)\n",
    "\n",
    "# energy minimize the system\n",
    "minimized_system = emin(system, submission_system=submit)"
   ]
  },
  {
   "cell_type": "code",
   "execution_count": 18,
   "id": "4cf50815",
   "metadata": {
    "execution": {
     "iopub.execute_input": "2022-04-05T11:53:45.250733Z",
     "iopub.status.busy": "2022-04-05T11:53:45.250342Z",
     "iopub.status.idle": "2022-04-05T11:53:45.260534Z",
     "shell.execute_reply": "2022-04-05T11:53:45.259805Z"
    }
   },
   "outputs": [
    {
     "ename": "NameError",
     "evalue": "name 'minimized_system' is not defined",
     "output_type": "error",
     "traceback": [
      "\u001b[0;31m---------------------------------------------------------------------------\u001b[0m",
      "\u001b[0;31mNameError\u001b[0m                                 Traceback (most recent call last)",
      "\u001b[0;32m/tmp/ipykernel_8795/2801463477.py\u001b[0m in \u001b[0;36m<module>\u001b[0;34m\u001b[0m\n\u001b[1;32m      1\u001b[0m \u001b[0;31m# new imd file for equilibration\u001b[0m\u001b[0;34m\u001b[0m\u001b[0;34m\u001b[0m\u001b[0m\n\u001b[1;32m      2\u001b[0m \u001b[0min_imd_path\u001b[0m  \u001b[0;34m=\u001b[0m \u001b[0;34mf\"example_files/QMMM_files/menthol-methanol-dmf-eq.imd\"\u001b[0m\u001b[0;34m\u001b[0m\u001b[0;34m\u001b[0m\u001b[0m\n\u001b[0;32m----> 3\u001b[0;31m \u001b[0mminimized_system\u001b[0m\u001b[0;34m.\u001b[0m\u001b[0mimd\u001b[0m \u001b[0;34m=\u001b[0m \u001b[0min_imd_path\u001b[0m\u001b[0;34m\u001b[0m\u001b[0;34m\u001b[0m\u001b[0m\n\u001b[0m\u001b[1;32m      4\u001b[0m \u001b[0mminimized_system\u001b[0m\u001b[0;34m.\u001b[0m\u001b[0mimd\u001b[0m\u001b[0;34m.\u001b[0m\u001b[0mSTEP\u001b[0m\u001b[0;34m.\u001b[0m\u001b[0mNSTLIM\u001b[0m \u001b[0;34m=\u001b[0m \u001b[0;36m1000\u001b[0m\u001b[0;34m\u001b[0m\u001b[0;34m\u001b[0m\u001b[0m\n\u001b[1;32m      5\u001b[0m \u001b[0mminimized_system\u001b[0m\u001b[0;34m.\u001b[0m\u001b[0mimd\u001b[0m\u001b[0;34m.\u001b[0m\u001b[0mSTEP\u001b[0m\u001b[0;34m.\u001b[0m\u001b[0mDT\u001b[0m \u001b[0;34m=\u001b[0m \u001b[0;36m0.002\u001b[0m \u001b[0;31m# 2.0 fs\u001b[0m\u001b[0;34m\u001b[0m\u001b[0;34m\u001b[0m\u001b[0m\n",
      "\u001b[0;31mNameError\u001b[0m: name 'minimized_system' is not defined"
     ]
    }
   ],
   "source": [
    "# new imd file for equilibration\n",
    "in_imd_path  = f\"example_files/QMMM_files/menthol-methanol-dmf-eq.imd\"\n",
    "minimized_system.imd = in_imd_path\n",
    "minimized_system.imd.STEP.NSTLIM = 1000\n",
    "minimized_system.imd.STEP.DT = 0.002 # 2.0 fs\n",
    "minimized_system"
   ]
  },
  {
   "cell_type": "code",
   "execution_count": 19,
   "id": "7ef864f1",
   "metadata": {
    "execution": {
     "iopub.execute_input": "2022-04-05T11:53:45.263212Z",
     "iopub.status.busy": "2022-04-05T11:53:45.262979Z",
     "iopub.status.idle": "2022-04-05T11:53:45.272331Z",
     "shell.execute_reply": "2022-04-05T11:53:45.271674Z"
    }
   },
   "outputs": [
    {
     "ename": "NameError",
     "evalue": "name 'minimized_system' is not defined",
     "output_type": "error",
     "traceback": [
      "\u001b[0;31m---------------------------------------------------------------------------\u001b[0m",
      "\u001b[0;31mNameError\u001b[0m                                 Traceback (most recent call last)",
      "\u001b[0;32m/tmp/ipykernel_8795/2240818067.py\u001b[0m in \u001b[0;36m<module>\u001b[0;34m\u001b[0m\n\u001b[1;32m      1\u001b[0m \u001b[0;31m# equilibrate the system\u001b[0m\u001b[0;34m\u001b[0m\u001b[0;34m\u001b[0m\u001b[0m\n\u001b[0;32m----> 2\u001b[0;31m \u001b[0mequilibrated_system\u001b[0m \u001b[0;34m=\u001b[0m \u001b[0mmd\u001b[0m\u001b[0;34m(\u001b[0m\u001b[0mminimized_system\u001b[0m\u001b[0;34m,\u001b[0m \u001b[0mstep_name\u001b[0m\u001b[0;34m=\u001b[0m\u001b[0;34m\"eq\"\u001b[0m\u001b[0;34m,\u001b[0m \u001b[0msubmission_system\u001b[0m\u001b[0;34m=\u001b[0m\u001b[0msubmit\u001b[0m\u001b[0;34m)\u001b[0m\u001b[0;34m\u001b[0m\u001b[0;34m\u001b[0m\u001b[0m\n\u001b[0m\u001b[1;32m      3\u001b[0m \u001b[0mequilibrated_system\u001b[0m\u001b[0;34m\u001b[0m\u001b[0;34m\u001b[0m\u001b[0m\n",
      "\u001b[0;31mNameError\u001b[0m: name 'minimized_system' is not defined"
     ]
    }
   ],
   "source": [
    "# equilibrate the system\n",
    "equilibrated_system = md(minimized_system, step_name=\"eq\", submission_system=submit)\n",
    "equilibrated_system"
   ]
  },
  {
   "cell_type": "code",
   "execution_count": 20,
   "id": "ac863a60",
   "metadata": {
    "execution": {
     "iopub.execute_input": "2022-04-05T11:53:45.275250Z",
     "iopub.status.busy": "2022-04-05T11:53:45.274997Z",
     "iopub.status.idle": "2022-04-05T11:53:45.282517Z",
     "shell.execute_reply": "2022-04-05T11:53:45.281608Z"
    }
   },
   "outputs": [
    {
     "data": {
      "text/plain": [
       "environ{'LESSOPEN': '| /usr/bin/lesspipe %s',\n",
       "        'CONDA_PROMPT_MODIFIER': '(pygro2) ',\n",
       "        'USER': 'mlehner',\n",
       "        'CXXFLAGS': '-fvisibility-inlines-hidden -std=c++17 -fmessage-length=0 -march=nocona -mtune=haswell -ftree-vectorize -fPIC -fstack-protector-strong -fno-plt -O2 -ffunction-sections -pipe -isystem /home/mlehner/anaconda3/envs/pygro2/include',\n",
       "        'OBJCOPY': '/home/mlehner/anaconda3/envs/pygro2/bin/x86_64-conda-linux-gnu-objcopy',\n",
       "        'GIT_ASKPASS': '/home/mlehner/.vscode-server/bin/e18005f0f1b33c29e81d732535d8c0e47cafb0b5/extensions/git/dist/askpass.sh',\n",
       "        'GCC_RANLIB': '/home/mlehner/anaconda3/envs/pygro2/bin/x86_64-conda-linux-gnu-gcc-ranlib',\n",
       "        'SIZE': '/home/mlehner/anaconda3/envs/pygro2/bin/x86_64-conda-linux-gnu-size',\n",
       "        'LD_LIBRARY_PATH': '/opt/gcc-8.2.0/lib:/home/fpultar/opt/gcc-8.2.0/lib64',\n",
       "        'SHLVL': '2',\n",
       "        'DEBUG_CXXFLAGS': '-fvisibility-inlines-hidden -std=c++17 -fmessage-length=0 -march=nocona -mtune=haswell -ftree-vectorize -fPIC -fstack-protector-all -fno-plt -Og -g -Wall -Wextra -fvar-tracking-assignments -ffunction-sections -pipe -isystem /home/mlehner/anaconda3/envs/pygro2/include',\n",
       "        'HOME': '/home/mlehner',\n",
       "        'CONDA_SHLVL': '2',\n",
       "        'OLDPWD': '/home/mlehner/PyGromosTools',\n",
       "        'CC_FOR_BUILD': '/home/mlehner/anaconda3/envs/pygro2/bin/x86_64-conda-linux-gnu-cc',\n",
       "        'VSCODE_IPC_HOOK_CLI': '/mnt/wslg/runtime-dir/vscode-ipc-63bf7068-58f1-4145-b923-c1d0d0d92134.sock',\n",
       "        'TERM_PROGRAM_VERSION': '1.66.0',\n",
       "        'CONDA_TOOLCHAIN_BUILD': 'x86_64-conda-linux-gnu',\n",
       "        'F90': '/home/mlehner/anaconda3/envs/pygro2/bin/x86_64-conda-linux-gnu-gfortran',\n",
       "        'VSCODE_GIT_ASKPASS_MAIN': '/home/mlehner/.vscode-server/bin/e18005f0f1b33c29e81d732535d8c0e47cafb0b5/extensions/git/dist/askpass-main.js',\n",
       "        'LDFLAGS': '-Wl,-O2 -Wl,--sort-common -Wl,--as-needed -Wl,-z,relro -Wl,-z,now -Wl,--disable-new-dtags -Wl,--gc-sections -Wl,--allow-shlib-undefined -Wl,-rpath,/home/mlehner/anaconda3/envs/pygro2/lib -Wl,-rpath-link,/home/mlehner/anaconda3/envs/pygro2/lib -L/home/mlehner/anaconda3/envs/pygro2/lib',\n",
       "        'FC': '/home/mlehner/anaconda3/envs/pygro2/bin/x86_64-conda-linux-gnu-gfortran',\n",
       "        'STRINGS': '/home/mlehner/anaconda3/envs/pygro2/bin/x86_64-conda-linux-gnu-strings',\n",
       "        'VSCODE_GIT_ASKPASS_NODE': '/home/mlehner/.vscode-server/bin/e18005f0f1b33c29e81d732535d8c0e47cafb0b5/node',\n",
       "        'MAKEFLAGS': '',\n",
       "        'CPP': '/home/mlehner/anaconda3/envs/pygro2/bin/x86_64-conda-linux-gnu-cpp',\n",
       "        'COLORTERM': 'truecolor',\n",
       "        '_CE_M': '',\n",
       "        'WSL_DISTRO_NAME': 'Ubuntu-20.04',\n",
       "        'F77': '/home/mlehner/anaconda3/envs/pygro2/bin/x86_64-conda-linux-gnu-gfortran',\n",
       "        'F95': '/home/mlehner/anaconda3/envs/pygro2/bin/x86_64-conda-linux-gnu-f95',\n",
       "        'MAKE_TERMERR': '/dev/pts/6',\n",
       "        'ELFEDIT': '/home/mlehner/anaconda3/envs/pygro2/bin/x86_64-conda-linux-gnu-elfedit',\n",
       "        'STRIP': '/home/mlehner/anaconda3/envs/pygro2/bin/x86_64-conda-linux-gnu-strip',\n",
       "        'WAYLAND_DISPLAY': 'wayland-0',\n",
       "        'GCC': '/home/mlehner/anaconda3/envs/pygro2/bin/x86_64-conda-linux-gnu-gcc',\n",
       "        'LOGNAME': 'mlehner',\n",
       "        '_': '/usr/bin/make',\n",
       "        'WSL_INTEROP': '/run/WSL/1599_interop',\n",
       "        'PULSE_SERVER': '/mnt/wslg/PulseServer',\n",
       "        'NAME': 'MarcSurface',\n",
       "        'AR': '/home/mlehner/anaconda3/envs/pygro2/bin/x86_64-conda-linux-gnu-ar',\n",
       "        'READELF': '/home/mlehner/anaconda3/envs/pygro2/bin/x86_64-conda-linux-gnu-readelf',\n",
       "        'AS': '/home/mlehner/anaconda3/envs/pygro2/bin/x86_64-conda-linux-gnu-as',\n",
       "        'GXX': '/home/mlehner/anaconda3/envs/pygro2/bin/x86_64-conda-linux-gnu-g++',\n",
       "        'TERM': 'xterm-color',\n",
       "        'FC_FOR_BUILD': '/home/mlehner/anaconda3/envs/pygro2/bin/x86_64-conda-linux-gnu-gfortran',\n",
       "        'CXXFILT': '/home/mlehner/anaconda3/envs/pygro2/bin/x86_64-conda-linux-gnu-c++filt',\n",
       "        'AMBERHOME': '/home/mlehner/anaconda3/envs/pygro2',\n",
       "        '_CE_CONDA': '',\n",
       "        'BUILD': 'x86_64-conda-linux-gnu',\n",
       "        'PATH': '/usr/local/cuda-11.4/bin:/home/mlehner/.vscode-server/bin/e18005f0f1b33c29e81d732535d8c0e47cafb0b5/bin/remote-cli:/usr/local/cuda-11.4/bin:/home/mlehner/anaconda3/envs/pygro2/bin:/home/mlehner/anaconda3/condabin:/usr/local/sbin:/usr/local/bin:/usr/sbin:/usr/bin:/sbin:/bin:/usr/games:/usr/local/games:/usr/lib/wsl/lib:/mnt/c/Program Files/NVIDIA GPU Computing Toolkit/CUDA/v11.2/bin:/mnt/c/Program Files/NVIDIA GPU Computing Toolkit/CUDA/v11.2/libnvvp:/mnt/c/Python39/Scripts:/mnt/c/Python39:/mnt/c/WINDOWS/system32:/mnt/c/WINDOWS:/mnt/c/WINDOWS/System32/Wbem:/mnt/c/WINDOWS/System32/WindowsPowerShell/v1.0:/mnt/c/WINDOWS/System32/OpenSSH:/mnt/c/Program Files (x86)/NVIDIA Corporation/PhysX/Common:/mnt/c/Program Files/nodejs:/mnt/c/ProgramData/chocolatey/bin:/mnt/c/Program Files (x86)/Yarn/bin:/mnt/c/Program Files/Git/cmd:/mnt/c/Program Files/NVIDIA Corporation/Nsight Compute 2020.3.1:/mnt/c/Program Files/NVIDIA Corporation/NVIDIA NvDLISR:/mnt/c/WINDOWS/system32:/mnt/c/WINDOWS:/mnt/c/WINDOWS/System32/Wbem:/mnt/c/WINDOWS/System32/WindowsPowerShell/v1.0:/mnt/c/WINDOWS/System32/OpenSSH:/mnt/c/Program Files/Wolfram Research/WolframScript:/mnt/c/Users/thier/AppData/Local/Microsoft/WindowsApps:/mnt/c/Users/thier/AppData/Local/Programs/Microsoft VS Code/bin:/mnt/c/Users/thier/AppData/Local/GitHubDesktop/bin:/mnt/c/Users/thier/AppData/Roaming/npm:/mnt/c/Users/thier/AppData/Local/Yarn/bin:/mnt/c/ProgramData/Anaconda3:/mnt/c/ProgramData/Anaconda3/Scripts:/snap/bin:/home/mlehner/gromacs-2020.4/build/bin:/usr/local/gromacs/bin/GMXRC:/home/mlehner/gromosXX/gromosXX/BUILD/program:/home/mlehner/gromosPlsPls/gromos++/BUILD/programs:/home/mlehner/gromacs-2020.4/build/bin:/usr/local/gromacs/bin/GMXRC:/home/mlehner/gromosXX/gromosXX/BUILD/program:/home/mlehner/gromosPlsPls/gromos++/BUILD/programs/opt/gcc-8.2.0/bin',\n",
       "        'CFLAGS': '-march=nocona -mtune=haswell -ftree-vectorize -fPIC -fstack-protector-strong -fno-plt -O2 -ffunction-sections -pipe -isystem /home/mlehner/anaconda3/envs/pygro2/include',\n",
       "        'XDG_RUNTIME_DIR': '/mnt/wslg/runtime-dir',\n",
       "        'PERL5LIB': '/home/mlehner/anaconda3/envs/pygro2/lib/perl/mm_pbsa',\n",
       "        'build_alias': 'x86_64-conda-linux-gnu',\n",
       "        'MAKELEVEL': '1',\n",
       "        'DISPLAY': ':0',\n",
       "        'GCC_AR': '/home/mlehner/anaconda3/envs/pygro2/bin/x86_64-conda-linux-gnu-gcc-ar',\n",
       "        'CONDA_PREFIX_1': '/home/mlehner/anaconda3',\n",
       "        'DEBUG_CFLAGS': '-march=nocona -mtune=haswell -ftree-vectorize -fPIC -fstack-protector-all -fno-plt -Og -g -Wall -Wextra -fvar-tracking-assignments -ffunction-sections -pipe -isystem /home/mlehner/anaconda3/envs/pygro2/include',\n",
       "        'LANG': 'C.UTF-8',\n",
       "        '_CONDA_PYTHON_SYSCONFIGDATA_NAME': '_sysconfigdata_x86_64_conda_cos6_linux_gnu',\n",
       "        'LS_COLORS': 'rs=0:di=01;34:ln=01;36:mh=00:pi=40;33:so=01;35:do=01;35:bd=40;33;01:cd=40;33;01:or=40;31;01:mi=00:su=37;41:sg=30;43:ca=30;41:tw=30;42:ow=34;42:st=37;44:ex=01;32:*.tar=01;31:*.tgz=01;31:*.arc=01;31:*.arj=01;31:*.taz=01;31:*.lha=01;31:*.lz4=01;31:*.lzh=01;31:*.lzma=01;31:*.tlz=01;31:*.txz=01;31:*.tzo=01;31:*.t7z=01;31:*.zip=01;31:*.z=01;31:*.dz=01;31:*.gz=01;31:*.lrz=01;31:*.lz=01;31:*.lzo=01;31:*.xz=01;31:*.zst=01;31:*.tzst=01;31:*.bz2=01;31:*.bz=01;31:*.tbz=01;31:*.tbz2=01;31:*.tz=01;31:*.deb=01;31:*.rpm=01;31:*.jar=01;31:*.war=01;31:*.ear=01;31:*.sar=01;31:*.rar=01;31:*.alz=01;31:*.ace=01;31:*.zoo=01;31:*.cpio=01;31:*.7z=01;31:*.rz=01;31:*.cab=01;31:*.wim=01;31:*.swm=01;31:*.dwm=01;31:*.esd=01;31:*.jpg=01;35:*.jpeg=01;35:*.mjpg=01;35:*.mjpeg=01;35:*.gif=01;35:*.bmp=01;35:*.pbm=01;35:*.pgm=01;35:*.ppm=01;35:*.tga=01;35:*.xbm=01;35:*.xpm=01;35:*.tif=01;35:*.tiff=01;35:*.png=01;35:*.svg=01;35:*.svgz=01;35:*.mng=01;35:*.pcx=01;35:*.mov=01;35:*.mpg=01;35:*.mpeg=01;35:*.m2v=01;35:*.mkv=01;35:*.webm=01;35:*.ogm=01;35:*.mp4=01;35:*.m4v=01;35:*.mp4v=01;35:*.vob=01;35:*.qt=01;35:*.nuv=01;35:*.wmv=01;35:*.asf=01;35:*.rm=01;35:*.rmvb=01;35:*.flc=01;35:*.avi=01;35:*.fli=01;35:*.flv=01;35:*.gl=01;35:*.dl=01;35:*.xcf=01;35:*.xwd=01;35:*.yuv=01;35:*.cgm=01;35:*.emf=01;35:*.ogv=01;35:*.ogx=01;35:*.aac=00;36:*.au=00;36:*.flac=00;36:*.m4a=00;36:*.mid=00;36:*.midi=00;36:*.mka=00;36:*.mp3=00;36:*.mpc=00;36:*.ogg=00;36:*.ra=00;36:*.wav=00;36:*.oga=00;36:*.opus=00;36:*.spx=00;36:*.xspf=00;36:',\n",
       "        'VSCODE_GIT_IPC_HANDLE': '/mnt/wslg/runtime-dir/vscode-git-c2fb3e520e.sock',\n",
       "        'TERM_PROGRAM': 'vscode',\n",
       "        'CPPFLAGS': '-DNDEBUG -D_FORTIFY_SOURCE=2 -O2 -isystem /home/mlehner/anaconda3/envs/pygro2/include',\n",
       "        'GSETTINGS_SCHEMA_DIR': '/home/mlehner/anaconda3/envs/pygro2/share/glib-2.0/schemas',\n",
       "        'CONDA_PYTHON_EXE': '/home/mlehner/anaconda3/bin/python',\n",
       "        'SHELL': '/bin/bash',\n",
       "        'DEBUG_FFLAGS': '-fopenmp -march=nocona -mtune=haswell -ftree-vectorize -fPIC -fstack-protector-strong -fno-plt -O2 -ffunction-sections -pipe -isystem /home/mlehner/anaconda3/envs/pygro2/include -fopenmp -march=nocona -mtune=haswell -ftree-vectorize -fPIC -fstack-protector-all -fno-plt -Og -g -Wall -Wextra -fcheck=all -fbacktrace -fimplicit-none -fvar-tracking-assignments -ffunction-sections -pipe',\n",
       "        'CMAKE_ARGS': '-DCMAKE_AR=/home/mlehner/anaconda3/envs/pygro2/bin/x86_64-conda-linux-gnu-ar -DCMAKE_CXX_COMPILER_AR=/home/mlehner/anaconda3/envs/pygro2/bin/x86_64-conda-linux-gnu-gcc-ar -DCMAKE_C_COMPILER_AR=/home/mlehner/anaconda3/envs/pygro2/bin/x86_64-conda-linux-gnu-gcc-ar -DCMAKE_RANLIB=/home/mlehner/anaconda3/envs/pygro2/bin/x86_64-conda-linux-gnu-ranlib -DCMAKE_CXX_COMPILER_RANLIB=/home/mlehner/anaconda3/envs/pygro2/bin/x86_64-conda-linux-gnu-gcc-ranlib -DCMAKE_C_COMPILER_RANLIB=/home/mlehner/anaconda3/envs/pygro2/bin/x86_64-conda-linux-gnu-gcc-ranlib -DCMAKE_LINKER=/home/mlehner/anaconda3/envs/pygro2/bin/x86_64-conda-linux-gnu-ld -DCMAKE_STRIP=/home/mlehner/anaconda3/envs/pygro2/bin/x86_64-conda-linux-gnu-strip',\n",
       "        'HOST': 'x86_64-conda-linux-gnu',\n",
       "        'CXX': '/home/mlehner/anaconda3/envs/pygro2/bin/x86_64-conda-linux-gnu-c++',\n",
       "        'MAKE_TERMOUT': '/dev/pts/6',\n",
       "        'DEBUG_CPPFLAGS': '-D_DEBUG -D_FORTIFY_SOURCE=2 -Og -isystem /home/mlehner/anaconda3/envs/pygro2/include',\n",
       "        'LESSCLOSE': '/usr/bin/lesspipe %s %s',\n",
       "        'CONDA_DEFAULT_ENV': 'pygro2',\n",
       "        'DEBUG_FORTRANFLAGS': '-fopenmp -march=nocona -mtune=haswell -ftree-vectorize -fPIC -fstack-protector-strong -fno-plt -O2 -ffunction-sections -pipe -isystem /home/mlehner/anaconda3/envs/pygro2/include -fopenmp -march=nocona -mtune=haswell -ftree-vectorize -fPIC -fstack-protector-all -fno-plt -Og -g -Wall -Wextra -fcheck=all -fbacktrace -fimplicit-none -fvar-tracking-assignments -ffunction-sections -pipe',\n",
       "        'GCC_NM': '/home/mlehner/anaconda3/envs/pygro2/bin/x86_64-conda-linux-gnu-gcc-nm',\n",
       "        'ADDR2LINE': '/home/mlehner/anaconda3/envs/pygro2/bin/x86_64-conda-linux-gnu-addr2line',\n",
       "        'GFORTRAN': '/home/mlehner/anaconda3/envs/pygro2/bin/x86_64-conda-linux-gnu-gfortran',\n",
       "        'CONDA_BUILD_SYSROOT': '/home/mlehner/anaconda3/envs/pygro2/x86_64-conda-linux-gnu/sysroot',\n",
       "        'VSCODE_GIT_ASKPASS_EXTRA_ARGS': '',\n",
       "        'LD_GOLD': '/home/mlehner/anaconda3/envs/pygro2/bin/x86_64-conda-linux-gnu-ld.gold',\n",
       "        'PWD': '/home/mlehner/PyGromosTools/docs/sphinx_project',\n",
       "        'CONDA_EXE': '/home/mlehner/anaconda3/bin/conda',\n",
       "        'XDG_DATA_DIRS': '/usr/local/share:/usr/share:/var/lib/snapd/desktop',\n",
       "        'LD': '/home/mlehner/anaconda3/envs/pygro2/bin/x86_64-conda-linux-gnu-ld',\n",
       "        'FFLAGS': '-fopenmp -march=nocona -mtune=haswell -ftree-vectorize -fPIC -fstack-protector-strong -fno-plt -O2 -ffunction-sections -pipe -isystem /home/mlehner/anaconda3/envs/pygro2/include',\n",
       "        'GPROF': '/home/mlehner/anaconda3/envs/pygro2/bin/x86_64-conda-linux-gnu-gprof',\n",
       "        'RANLIB': '/home/mlehner/anaconda3/envs/pygro2/bin/x86_64-conda-linux-gnu-ranlib',\n",
       "        'CONDA_TOOLCHAIN_HOST': 'x86_64-conda-linux-gnu',\n",
       "        'CC': '/home/mlehner/anaconda3/envs/pygro2/bin/x86_64-conda-linux-gnu-cc',\n",
       "        'MFLAGS': '',\n",
       "        'GSETTINGS_SCHEMA_DIR_CONDA_BACKUP': '',\n",
       "        'FORTRANFLAGS': '-fopenmp -march=nocona -mtune=haswell -ftree-vectorize -fPIC -fstack-protector-strong -fno-plt -O2 -ffunction-sections -pipe -isystem /home/mlehner/anaconda3/envs/pygro2/include',\n",
       "        'host_alias': 'x86_64-conda-linux-gnu',\n",
       "        'CONDA_PREFIX': '/home/mlehner/anaconda3/envs/pygro2',\n",
       "        'CXX_FOR_BUILD': '/home/mlehner/anaconda3/envs/pygro2/bin/x86_64-conda-linux-gnu-c++',\n",
       "        'HOSTTYPE': 'x86_64',\n",
       "        'CUDA_PATH': '/home/mlehner/anaconda3/envs/pygro2',\n",
       "        'WSLENV': 'VSCODE_WSL_EXT_LOCATION/up',\n",
       "        'NM': '/home/mlehner/anaconda3/envs/pygro2/bin/x86_64-conda-linux-gnu-nm',\n",
       "        'CMAKE_PREFIX_PATH': '/home/mlehner/anaconda3/envs/pygro2:/home/mlehner/anaconda3/envs/pygro2/x86_64-conda-linux-gnu/sysroot/usr',\n",
       "        'OBJDUMP': '/home/mlehner/anaconda3/envs/pygro2/bin/x86_64-conda-linux-gnu-objdump',\n",
       "        'DOCUTILSCONFIG': '/home/mlehner/PyGromosTools/docs/sphinx_project/docutils.conf',\n",
       "        'RDBASE': '/home/mlehner/anaconda3/envs/pygro2/share/RDKit',\n",
       "        'PYDEVD_USE_FRAME_EVAL': 'NO',\n",
       "        'JPY_PARENT_PID': '4884',\n",
       "        'CLICOLOR': '1',\n",
       "        'PAGER': 'cat',\n",
       "        'GIT_PAGER': 'cat',\n",
       "        'MPLBACKEND': 'module://matplotlib_inline.backend_inline'}"
      ]
     },
     "execution_count": 20,
     "metadata": {},
     "output_type": "execute_result"
    }
   ],
   "source": [
    "# load your favorite GCC version (required for your special GROMOS QM/MM build)\n",
    "os.environ[\"PATH\"] += \"/opt/gcc-8.2.0/bin\" #Change here!\n",
    "os.environ[\"LD_LIBRARY_PATH\"] = \"/opt/gcc-8.2.0/lib:/home/fpultar/opt/gcc-8.2.0/lib64\" #Change here!\n",
    "os.environ"
   ]
  },
  {
   "cell_type": "code",
   "execution_count": 21,
   "id": "d86372ab",
   "metadata": {
    "execution": {
     "iopub.execute_input": "2022-04-05T11:53:45.286250Z",
     "iopub.status.busy": "2022-04-05T11:53:45.285134Z",
     "iopub.status.idle": "2022-04-05T11:53:45.296895Z",
     "shell.execute_reply": "2022-04-05T11:53:45.296165Z"
    }
   },
   "outputs": [
    {
     "ename": "NameError",
     "evalue": "name 'equilibrated_system' is not defined",
     "output_type": "error",
     "traceback": [
      "\u001b[0;31m---------------------------------------------------------------------------\u001b[0m",
      "\u001b[0;31mNameError\u001b[0m                                 Traceback (most recent call last)",
      "\u001b[0;32m/tmp/ipykernel_8795/2075562488.py\u001b[0m in \u001b[0;36m<module>\u001b[0;34m\u001b[0m\n\u001b[1;32m      1\u001b[0m \u001b[0;31m# new imd file for QM/MM run\u001b[0m\u001b[0;34m\u001b[0m\u001b[0;34m\u001b[0m\u001b[0m\n\u001b[1;32m      2\u001b[0m \u001b[0min_imd_path\u001b[0m  \u001b[0;34m=\u001b[0m \u001b[0;34mf\"example_files/QMMM_files/md.imd\"\u001b[0m\u001b[0;34m\u001b[0m\u001b[0;34m\u001b[0m\u001b[0m\n\u001b[0;32m----> 3\u001b[0;31m \u001b[0mequilibrated_system\u001b[0m\u001b[0;34m.\u001b[0m\u001b[0mimd\u001b[0m \u001b[0;34m=\u001b[0m \u001b[0min_imd_path\u001b[0m\u001b[0;34m\u001b[0m\u001b[0;34m\u001b[0m\u001b[0m\n\u001b[0m\u001b[1;32m      4\u001b[0m \u001b[0mequilibrated_system\u001b[0m\u001b[0;34m.\u001b[0m\u001b[0mimd\u001b[0m\u001b[0;34m.\u001b[0m\u001b[0mSTEP\u001b[0m\u001b[0;34m.\u001b[0m\u001b[0mNSTLIM\u001b[0m \u001b[0;34m=\u001b[0m \u001b[0;36m100\u001b[0m\u001b[0;34m\u001b[0m\u001b[0;34m\u001b[0m\u001b[0m\n\u001b[1;32m      5\u001b[0m \u001b[0mequilibrated_system\u001b[0m\u001b[0;34m.\u001b[0m\u001b[0mimd\u001b[0m\u001b[0;34m.\u001b[0m\u001b[0mSTEP\u001b[0m\u001b[0;34m.\u001b[0m\u001b[0mDT\u001b[0m \u001b[0;34m=\u001b[0m \u001b[0;36m0.0005\u001b[0m \u001b[0;31m# 0.5 fs\u001b[0m\u001b[0;34m\u001b[0m\u001b[0;34m\u001b[0m\u001b[0m\n",
      "\u001b[0;31mNameError\u001b[0m: name 'equilibrated_system' is not defined"
     ]
    }
   ],
   "source": [
    "# new imd file for QM/MM run\n",
    "in_imd_path  = f\"example_files/QMMM_files/md.imd\"\n",
    "equilibrated_system.imd = in_imd_path\n",
    "equilibrated_system.imd.STEP.NSTLIM = 100\n",
    "equilibrated_system.imd.STEP.DT = 0.0005 # 0.5 fs\n",
    "# qmmm specification file\n",
    "equilibrated_system.qmmm = QMMM(f\"example_files/QMMM_files/menthol-methanol-dmf.qmmm\")\n",
    "\n",
    "# now you want to switch to your special build of GROMOS :)\n",
    "gromosXX = None # path to freshly compiled gromos \"build-gcc-8.2.0-release/program\"\n",
    "equilibrated_system.gromosXX = gromosXX\n",
    "\n",
    "# check if everying is correct\n",
    "# note that the new .imd file and .qmmm file still live in the old location\n",
    "# while the .cnf file and .top file result from a previous simulation (equilibration)\n",
    "equilibrated_system"
   ]
  },
  {
   "cell_type": "code",
   "execution_count": 22,
   "id": "f558f69e",
   "metadata": {
    "execution": {
     "iopub.execute_input": "2022-04-05T11:53:45.299768Z",
     "iopub.status.busy": "2022-04-05T11:53:45.299564Z",
     "iopub.status.idle": "2022-04-05T11:53:45.308851Z",
     "shell.execute_reply": "2022-04-05T11:53:45.308087Z"
    }
   },
   "outputs": [
    {
     "ename": "NameError",
     "evalue": "name 'equilibrated_system' is not defined",
     "output_type": "error",
     "traceback": [
      "\u001b[0;31m---------------------------------------------------------------------------\u001b[0m",
      "\u001b[0;31mNameError\u001b[0m                                 Traceback (most recent call last)",
      "\u001b[0;32m/tmp/ipykernel_8795/2112366208.py\u001b[0m in \u001b[0;36m<module>\u001b[0;34m\u001b[0m\n\u001b[1;32m      1\u001b[0m \u001b[0;31m# print the relevant QMMM block in the new imd file\u001b[0m\u001b[0;34m\u001b[0m\u001b[0;34m\u001b[0m\u001b[0m\n\u001b[0;32m----> 2\u001b[0;31m \u001b[0mequilibrated_system\u001b[0m\u001b[0;34m.\u001b[0m\u001b[0mimd\u001b[0m\u001b[0;34m.\u001b[0m\u001b[0mQMMM\u001b[0m\u001b[0;34m\u001b[0m\u001b[0;34m\u001b[0m\u001b[0m\n\u001b[0m",
      "\u001b[0;31mNameError\u001b[0m: name 'equilibrated_system' is not defined"
     ]
    }
   ],
   "source": [
    "# print the relevant QMMM block in the new imd file\n",
    "equilibrated_system.imd.QMMM"
   ]
  },
  {
   "cell_type": "code",
   "execution_count": 23,
   "id": "5f0974e0",
   "metadata": {
    "execution": {
     "iopub.execute_input": "2022-04-05T11:53:45.311532Z",
     "iopub.status.busy": "2022-04-05T11:53:45.311340Z",
     "iopub.status.idle": "2022-04-05T11:53:45.321017Z",
     "shell.execute_reply": "2022-04-05T11:53:45.320203Z"
    }
   },
   "outputs": [
    {
     "ename": "NameError",
     "evalue": "name 'equilibrated_system' is not defined",
     "output_type": "error",
     "traceback": [
      "\u001b[0;31m---------------------------------------------------------------------------\u001b[0m",
      "\u001b[0;31mNameError\u001b[0m                                 Traceback (most recent call last)",
      "\u001b[0;32m/tmp/ipykernel_8795/3371366635.py\u001b[0m in \u001b[0;36m<module>\u001b[0;34m\u001b[0m\n\u001b[1;32m      1\u001b[0m \u001b[0;31m# go QM/MM!\u001b[0m\u001b[0;34m\u001b[0m\u001b[0;34m\u001b[0m\u001b[0m\n\u001b[0;32m----> 2\u001b[0;31m \u001b[0mproduction_system\u001b[0m \u001b[0;34m=\u001b[0m \u001b[0mmd\u001b[0m\u001b[0;34m(\u001b[0m\u001b[0mequilibrated_system\u001b[0m\u001b[0;34m,\u001b[0m \u001b[0msubmission_system\u001b[0m\u001b[0;34m=\u001b[0m\u001b[0msubmit\u001b[0m\u001b[0;34m)\u001b[0m\u001b[0;34m\u001b[0m\u001b[0;34m\u001b[0m\u001b[0m\n\u001b[0m",
      "\u001b[0;31mNameError\u001b[0m: name 'equilibrated_system' is not defined"
     ]
    }
   ],
   "source": [
    "# go QM/MM!\n",
    "production_system = md(equilibrated_system, submission_system=submit)"
   ]
  },
  {
   "cell_type": "code",
   "execution_count": 24,
   "id": "abdadc91",
   "metadata": {
    "execution": {
     "iopub.execute_input": "2022-04-05T11:53:45.324329Z",
     "iopub.status.busy": "2022-04-05T11:53:45.323636Z",
     "iopub.status.idle": "2022-04-05T11:53:45.332890Z",
     "shell.execute_reply": "2022-04-05T11:53:45.332061Z"
    }
   },
   "outputs": [
    {
     "ename": "NameError",
     "evalue": "name 'production_system' is not defined",
     "output_type": "error",
     "traceback": [
      "\u001b[0;31m---------------------------------------------------------------------------\u001b[0m",
      "\u001b[0;31mNameError\u001b[0m                                 Traceback (most recent call last)",
      "\u001b[0;32m/tmp/ipykernel_8795/1050048346.py\u001b[0m in \u001b[0;36m<module>\u001b[0;34m\u001b[0m\n\u001b[1;32m      1\u001b[0m \u001b[0;31m# visualize the last .cnf - you are done!\u001b[0m\u001b[0;34m\u001b[0m\u001b[0;34m\u001b[0m\u001b[0m\n\u001b[0;32m----> 2\u001b[0;31m \u001b[0mproduction_system\u001b[0m\u001b[0;34m.\u001b[0m\u001b[0mcnf\u001b[0m\u001b[0;34m.\u001b[0m\u001b[0mvisualize\u001b[0m\u001b[0;34m(\u001b[0m\u001b[0;34m)\u001b[0m\u001b[0;34m\u001b[0m\u001b[0;34m\u001b[0m\u001b[0m\n\u001b[0m",
      "\u001b[0;31mNameError\u001b[0m: name 'production_system' is not defined"
     ]
    }
   ],
   "source": [
    "# visualize the last .cnf - you are done!\n",
    "production_system.cnf.visualize()"
   ]
  },
  {
   "cell_type": "code",
   "execution_count": null,
   "id": "e1c5194e",
   "metadata": {},
   "outputs": [],
   "source": []
  }
 ],
 "metadata": {
  "interpreter": {
   "hash": "b1b7b2ea43b8e767316eee98e01335d045804d2d47db68b6a5827e187ee91a7e"
  },
  "kernelspec": {
   "display_name": "Python 3.9.7 ('pygro2')",
   "language": "python",
   "name": "python3"
  },
  "language_info": {
   "codemirror_mode": {
    "name": "ipython",
    "version": 3
   },
   "file_extension": ".py",
   "mimetype": "text/x-python",
   "name": "python",
   "nbconvert_exporter": "python",
   "pygments_lexer": "ipython3",
   "version": "3.9.7"
  },
  "widgets": {
   "application/vnd.jupyter.widget-state+json": {
    "state": {
     "50dc6fddcf114c4daa28f056e0a13f3f": {
      "model_module": "nglview-js-widgets",
      "model_module_version": "3.0.1",
      "model_name": "ColormakerRegistryModel",
      "state": {
       "_dom_classes": [],
       "_model_module": "nglview-js-widgets",
       "_model_module_version": "3.0.1",
       "_model_name": "ColormakerRegistryModel",
       "_msg_ar": [],
       "_msg_q": [],
       "_ready": false,
       "_view_count": null,
       "_view_module": "nglview-js-widgets",
       "_view_module_version": "3.0.1",
       "_view_name": "ColormakerRegistryView",
       "layout": "IPY_MODEL_68b74a49191c41b498cedfe30c848851"
      }
     },
     "68b74a49191c41b498cedfe30c848851": {
      "model_module": "@jupyter-widgets/base",
      "model_module_version": "1.2.0",
      "model_name": "LayoutModel",
      "state": {
       "_model_module": "@jupyter-widgets/base",
       "_model_module_version": "1.2.0",
       "_model_name": "LayoutModel",
       "_view_count": null,
       "_view_module": "@jupyter-widgets/base",
       "_view_module_version": "1.2.0",
       "_view_name": "LayoutView",
       "align_content": null,
       "align_items": null,
       "align_self": null,
       "border": null,
       "bottom": null,
       "display": null,
       "flex": null,
       "flex_flow": null,
       "grid_area": null,
       "grid_auto_columns": null,
       "grid_auto_flow": null,
       "grid_auto_rows": null,
       "grid_column": null,
       "grid_gap": null,
       "grid_row": null,
       "grid_template_areas": null,
       "grid_template_columns": null,
       "grid_template_rows": null,
       "height": null,
       "justify_content": null,
       "justify_items": null,
       "left": null,
       "margin": null,
       "max_height": null,
       "max_width": null,
       "min_height": null,
       "min_width": null,
       "object_fit": null,
       "object_position": null,
       "order": null,
       "overflow": null,
       "overflow_x": null,
       "overflow_y": null,
       "padding": null,
       "right": null,
       "top": null,
       "visibility": null,
       "width": null
      }
     }
    },
    "version_major": 2,
    "version_minor": 0
   }
  }
 },
 "nbformat": 4,
 "nbformat_minor": 5
}
