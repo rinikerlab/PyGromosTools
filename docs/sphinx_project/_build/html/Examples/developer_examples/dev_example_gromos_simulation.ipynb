{
 "cells": [
  {
   "cell_type": "markdown",
   "metadata": {
    "pycharm": {
     "name": "#%% md\n"
    }
   },
   "source": [
    "# SD Simulations with Submission System\n"
   ]
  },
  {
   "cell_type": "markdown",
   "metadata": {},
   "source": [
    "## Imports"
   ]
  },
  {
   "cell_type": "code",
   "execution_count": 1,
   "metadata": {
    "execution": {
     "iopub.execute_input": "2022-04-06T13:28:45.453930Z",
     "iopub.status.busy": "2022-04-06T13:28:45.453389Z",
     "iopub.status.idle": "2022-04-06T13:28:46.842443Z",
     "shell.execute_reply": "2022-04-06T13:28:46.841543Z"
    }
   },
   "outputs": [
    {
     "data": {
      "application/vnd.jupyter.widget-view+json": {
       "model_id": "e2d5c87dc2924692bb50316202592330",
       "version_major": 2,
       "version_minor": 0
      },
      "text/plain": []
     },
     "metadata": {},
     "output_type": "display_data"
    }
   ],
   "source": [
    "import os\n",
    "#for analysis\n",
    "import numpy as np\n",
    "from matplotlib import pyplot as plt\n",
    "%matplotlib inline\n",
    "\n",
    "from pygromos.files.gromos_system import Gromos_System\n",
    "from pygromos.files.blocks import imd_blocks\n",
    "from pygromos.data.simulation_parameters_templates import template_emin"
   ]
  },
  {
   "cell_type": "markdown",
   "metadata": {
    "pycharm": {
     "name": "#%% md\n"
    }
   },
   "source": [
    "## Input files"
   ]
  },
  {
   "cell_type": "code",
   "execution_count": 2,
   "metadata": {
    "execution": {
     "iopub.execute_input": "2022-04-06T13:28:46.846223Z",
     "iopub.status.busy": "2022-04-06T13:28:46.845987Z",
     "iopub.status.idle": "2022-04-06T13:28:48.506299Z",
     "shell.execute_reply": "2022-04-06T13:28:48.505594Z"
    }
   },
   "outputs": [],
   "source": [
    "root_dir = project_dir = os.path.abspath(\"../example_files/SD_Simulation/\")\n",
    "root_in_dir = root_dir+\"/SD_input\"\n",
    "cnf_path = root_in_dir+\"/6J29_unitedatom_optimised_geometry.cnf\"\n",
    "top_path = root_in_dir + \"/6J29.top\"\n",
    "sys_name = \"6J29\"\n",
    "\n",
    "#External imd_changes:\n",
    "grom_system = Gromos_System(in_cnf_path=cnf_path, in_top_path=top_path, in_imd_path=template_emin,\n",
    "                            system_name=sys_name, work_folder=root_in_dir)\n",
    "\n",
    "grom_system.cnf.add_empty_box()\n"
   ]
  },
  {
   "cell_type": "markdown",
   "metadata": {},
   "source": [
    "## RUN Emin"
   ]
  },
  {
   "cell_type": "code",
   "execution_count": 3,
   "metadata": {
    "execution": {
     "iopub.execute_input": "2022-04-06T13:28:48.508513Z",
     "iopub.status.busy": "2022-04-06T13:28:48.508326Z",
     "iopub.status.idle": "2022-04-06T13:28:48.517967Z",
     "shell.execute_reply": "2022-04-06T13:28:48.517194Z"
    }
   },
   "outputs": [],
   "source": [
    "from pygromos.simulations.hpc_queuing.submission_systems.local import LOCAL as subSystem\n",
    "from pygromos.simulations.modules.preset_simulation_modules import emin\n",
    "step_name  = \"a_vacuum_emin\"\n",
    "\n",
    "#Some special adaptation\n",
    "grom_system.imd.BOUNDCOND.NTB =0\n",
    "grom_system.imd.BOUNDCOND.NDFMIN = 0\n",
    "grom_system.imd.WRITETRAJ = imd_blocks.WRITETRAJ()\n",
    "grom_system.imd.WRITETRAJ.NTWX = 100\n",
    "grom_system.imd.WRITETRAJ.NTWE = 100\n",
    "grom_system.prepare_for_simulation()"
   ]
  },
  {
   "cell_type": "code",
   "execution_count": 4,
   "metadata": {
    "execution": {
     "iopub.execute_input": "2022-04-06T13:28:48.520249Z",
     "iopub.status.busy": "2022-04-06T13:28:48.520043Z",
     "iopub.status.idle": "2022-04-06T13:28:48.533233Z",
     "shell.execute_reply": "2022-04-06T13:28:48.532365Z"
    }
   },
   "outputs": [
    {
     "data": {
      "text/plain": [
       "'/home/mlehner/PyGromosTools/docs/sphinx_project/Examples/example_files/SD_Simulation/test.obj'"
      ]
     },
     "execution_count": 4,
     "metadata": {},
     "output_type": "execute_result"
    }
   ],
   "source": [
    "\n",
    "grom_system.save(root_dir+\"/test.obj\", safe=False)"
   ]
  },
  {
   "cell_type": "code",
   "execution_count": 5,
   "metadata": {
    "execution": {
     "iopub.execute_input": "2022-04-06T13:28:48.536442Z",
     "iopub.status.busy": "2022-04-06T13:28:48.535842Z",
     "iopub.status.idle": "2022-04-06T13:28:51.917643Z",
     "shell.execute_reply": "2022-04-06T13:28:51.916977Z"
    }
   },
   "outputs": [],
   "source": [
    "grom_system = Gromos_System.load(root_dir+\"/test.obj\")"
   ]
  },
  {
   "cell_type": "code",
   "execution_count": 6,
   "metadata": {
    "execution": {
     "iopub.execute_input": "2022-04-06T13:28:51.920332Z",
     "iopub.status.busy": "2022-04-06T13:28:51.920107Z",
     "iopub.status.idle": "2022-04-06T13:28:51.925311Z",
     "shell.execute_reply": "2022-04-06T13:28:51.924692Z"
    }
   },
   "outputs": [
    {
     "data": {
      "text/plain": [
       "{'names': ['6J29'], 'number': 1, 'positions': [1], 'number_of_atoms': 27}"
      ]
     },
     "execution_count": 6,
     "metadata": {},
     "output_type": "execute_result"
    }
   ],
   "source": [
    "grom_system.solute_info._asdict()"
   ]
  },
  {
   "cell_type": "code",
   "execution_count": 7,
   "metadata": {
    "execution": {
     "iopub.execute_input": "2022-04-06T13:28:51.927553Z",
     "iopub.status.busy": "2022-04-06T13:28:51.927168Z",
     "iopub.status.idle": "2022-04-06T13:28:51.970062Z",
     "shell.execute_reply": "2022-04-06T13:28:51.969305Z"
    }
   },
   "outputs": [
    {
     "data": {
      "application/vnd.jupyter.widget-view+json": {
       "model_id": "9864824eb1644db7ac92cfb8a20be13e",
       "version_major": 2,
       "version_minor": 0
      },
      "text/plain": [
       "NGLWidget()"
      ]
     },
     "metadata": {},
     "output_type": "display_data"
    }
   ],
   "source": [
    "grom_system.cnf.view"
   ]
  },
  {
   "cell_type": "code",
   "execution_count": 8,
   "metadata": {
    "execution": {
     "iopub.execute_input": "2022-04-06T13:28:51.973404Z",
     "iopub.status.busy": "2022-04-06T13:28:51.973181Z",
     "iopub.status.idle": "2022-04-06T13:28:57.610401Z",
     "shell.execute_reply": "2022-04-06T13:28:57.609639Z"
    }
   },
   "outputs": [
    {
     "name": "stdout",
     "output_type": "stream",
     "text": [
      "################################################################################\n",
      "\n",
      "a_vacuum_emin\n",
      "################################################################################\n",
      "\n",
      "============================================================\n",
      "FOUND RESULT: /home/mlehner/PyGromosTools/docs/sphinx_project/Examples/example_files/SD_Simulation/SD_input/a_vacuum_emin/analysis/data/a_vacuum_emin.cnf\n",
      " GOING TO SKIPT THIS SUBMISSION!\n"
     ]
    },
    {
     "data": {
      "text/plain": [
       "\n",
       "GROMOS SYSTEM: a_vacuum_emin\n",
       "################################################################################\n",
       "WORKDIR: /home/mlehner/PyGromosTools/docs/sphinx_project/Examples/example_files/SD_Simulation/SD_input\n",
       "LAST CHECKPOINT: /home/mlehner/PyGromosTools/docs/sphinx_project/Examples/example_files/SD_Simulation/test.obj\n",
       "\n",
       "GromosXX_bin: None\n",
       "GromosPP_bin: None\n",
       "FILES: \n",
       "\timd: /home/mlehner/PyGromosTools/docs/sphinx_project/Examples/example_files/SD_Simulation/SD_input/a_vacuum_emin/input/a_vacuum_emin.imd\n",
       "\ttop: /home/mlehner/PyGromosTools/docs/sphinx_project/Examples/example_files/SD_Simulation/SD_input/a_vacuum_emin/input/a_vacuum_emin.top\n",
       "\tcnf: /home/mlehner/PyGromosTools/docs/sphinx_project/Examples/example_files/SD_Simulation/SD_input/a_vacuum_emin/analysis/data/a_vacuum_emin.cnf\n",
       "FUTURE PROMISE: False\n",
       "SYSTEM: \n",
       "\tSolute:\t['6J29']  resID: [1]  natoms: 27\n",
       "\tSOLVENT:\t[]  nmolecules: 0  natoms: 0\n",
       "\n"
      ]
     },
     "execution_count": 8,
     "metadata": {},
     "output_type": "execute_result"
    }
   ],
   "source": [
    "from pygromos.simulations.modules.preset_simulation_modules import emin\n",
    "\n",
    "\n",
    "emin_gromos_system = emin(in_gromos_system=grom_system, \n",
    "                                 step_name=step_name, \n",
    "                                 submission_system=subSystem(), \n",
    "                                 in_imd_path=None)\n",
    "jobID = emin_gromos_system._last_jobID\n",
    "emin_gromos_system\n"
   ]
  },
  {
   "cell_type": "code",
   "execution_count": 9,
   "metadata": {
    "execution": {
     "iopub.execute_input": "2022-04-06T13:28:57.612951Z",
     "iopub.status.busy": "2022-04-06T13:28:57.612470Z",
     "iopub.status.idle": "2022-04-06T13:28:57.675185Z",
     "shell.execute_reply": "2022-04-06T13:28:57.674266Z"
    }
   },
   "outputs": [
    {
     "data": {
      "application/vnd.jupyter.widget-view+json": {
       "model_id": "b8f90497225244c4942fcda20288d636",
       "version_major": 2,
       "version_minor": 0
      },
      "text/plain": [
       "NGLWidget()"
      ]
     },
     "metadata": {},
     "output_type": "display_data"
    }
   ],
   "source": [
    "emin_gromos_system.cnf.view"
   ]
  },
  {
   "cell_type": "code",
   "execution_count": 10,
   "metadata": {
    "execution": {
     "iopub.execute_input": "2022-04-06T13:28:57.679871Z",
     "iopub.status.busy": "2022-04-06T13:28:57.679342Z",
     "iopub.status.idle": "2022-04-06T13:28:57.685427Z",
     "shell.execute_reply": "2022-04-06T13:28:57.684284Z"
    }
   },
   "outputs": [
    {
     "data": {
      "text/plain": [
       "\n",
       "GROMOS SYSTEM: a_vacuum_emin\n",
       "################################################################################\n",
       "WORKDIR: /home/mlehner/PyGromosTools/docs/sphinx_project/Examples/example_files/SD_Simulation/SD_input\n",
       "LAST CHECKPOINT: /home/mlehner/PyGromosTools/docs/sphinx_project/Examples/example_files/SD_Simulation/test.obj\n",
       "\n",
       "GromosXX_bin: None\n",
       "GromosPP_bin: None\n",
       "FILES: \n",
       "\timd: /home/mlehner/PyGromosTools/docs/sphinx_project/Examples/example_files/SD_Simulation/SD_input/a_vacuum_emin/input/a_vacuum_emin.imd\n",
       "\ttop: /home/mlehner/PyGromosTools/docs/sphinx_project/Examples/example_files/SD_Simulation/SD_input/a_vacuum_emin/input/a_vacuum_emin.top\n",
       "\tcnf: /home/mlehner/PyGromosTools/docs/sphinx_project/Examples/example_files/SD_Simulation/SD_input/a_vacuum_emin/analysis/data/a_vacuum_emin.cnf\n",
       "FUTURE PROMISE: False\n",
       "SYSTEM: \n",
       "\tSolute:\t['6J29']  resID: [1]  natoms: 27\n",
       "\tSOLVENT:\t[]  nmolecules: 0  natoms: 0\n",
       "\n"
      ]
     },
     "execution_count": 10,
     "metadata": {},
     "output_type": "execute_result"
    }
   ],
   "source": [
    "emin_gromos_system"
   ]
  },
  {
   "cell_type": "code",
   "execution_count": 11,
   "metadata": {
    "execution": {
     "iopub.execute_input": "2022-04-06T13:28:57.687846Z",
     "iopub.status.busy": "2022-04-06T13:28:57.687634Z",
     "iopub.status.idle": "2022-04-06T13:28:57.692657Z",
     "shell.execute_reply": "2022-04-06T13:28:57.691845Z"
    }
   },
   "outputs": [
    {
     "data": {
      "text/plain": [
       "'/home/mlehner/PyGromosTools/docs/sphinx_project/Examples/example_files/SD_Simulation/SD_input/analysis/data'"
      ]
     },
     "execution_count": 11,
     "metadata": {},
     "output_type": "execute_result"
    }
   ],
   "source": [
    "emin_gromos_system.work_folder+\"/analysis/data\""
   ]
  },
  {
   "cell_type": "markdown",
   "metadata": {},
   "source": [
    "## RUN SD Simulation"
   ]
  },
  {
   "cell_type": "code",
   "execution_count": 12,
   "metadata": {
    "execution": {
     "iopub.execute_input": "2022-04-06T13:28:57.695198Z",
     "iopub.status.busy": "2022-04-06T13:28:57.694762Z",
     "iopub.status.idle": "2022-04-06T13:29:03.239624Z",
     "shell.execute_reply": "2022-04-06T13:29:03.238949Z"
    }
   },
   "outputs": [
    {
     "name": "stdout",
     "output_type": "stream",
     "text": [
      "################################################################################\n",
      "\n",
      "b_vacuum_sd\n",
      "################################################################################\n",
      "\n",
      "============================================================\n",
      "FOUND RESULT: /home/mlehner/PyGromosTools/docs/sphinx_project/Examples/example_files/SD_Simulation/SD_input/b_vacuum_sd/analysis/data/b_vacuum_sd.cnf\n",
      " GOING TO SKIPT THIS SUBMISSION!\n"
     ]
    },
    {
     "data": {
      "application/vnd.jupyter.widget-view+json": {
       "model_id": "4ed2fe6508c74d8daa94177fab0fc748",
       "version_major": 2,
       "version_minor": 0
      },
      "text/plain": [
       "NGLWidget()"
      ]
     },
     "metadata": {},
     "output_type": "display_data"
    }
   ],
   "source": [
    "from pygromos.simulations.modules.preset_simulation_modules import sd\n",
    "\n",
    "step_name  = \"b_vacuum_sd\"\n",
    "\n",
    "sd_gromos_system  = sd(in_gromos_system=emin_gromos_system,\n",
    "                              step_name=step_name, \n",
    "                       submission_system=subSystem(nmpi=1),\n",
    "                      equilibration_runs=1, simulation_runs=3)\n",
    "jobID = sd_gromos_system._last_jobID\n",
    "\n",
    "sd_gromos_system\n",
    "\n",
    "sd_gromos_system.cnf.view"
   ]
  },
  {
   "cell_type": "markdown",
   "metadata": {
    "pycharm": {
     "name": "#%% md\n"
    }
   },
   "source": [
    "## Further Analysis:\n",
    "Transform the trc into a pdb traj to check it out with pymol :!)"
   ]
  },
  {
   "cell_type": "code",
   "execution_count": 13,
   "metadata": {
    "execution": {
     "iopub.execute_input": "2022-04-06T13:29:03.242794Z",
     "iopub.status.busy": "2022-04-06T13:29:03.242595Z",
     "iopub.status.idle": "2022-04-06T13:29:03.246147Z",
     "shell.execute_reply": "2022-04-06T13:29:03.245536Z"
    }
   },
   "outputs": [],
   "source": [
    "#final analysis dir:\n",
    "from pygromos.utils import bash\n",
    "\n",
    "out_ana = project_dir+\"/c_ana\"\n",
    "if(not os.path.exists(out_ana)):\n",
    "    bash.make_folder(out_ana)"
   ]
  },
  {
   "cell_type": "markdown",
   "metadata": {},
   "source": [
    "### Coordinate Analysis"
   ]
  },
  {
   "cell_type": "code",
   "execution_count": 14,
   "metadata": {
    "execution": {
     "iopub.execute_input": "2022-04-06T13:29:03.248244Z",
     "iopub.status.busy": "2022-04-06T13:29:03.248055Z",
     "iopub.status.idle": "2022-04-06T13:29:03.388163Z",
     "shell.execute_reply": "2022-04-06T13:29:03.386823Z"
    }
   },
   "outputs": [
    {
     "ename": "NoSuchNodeError",
     "evalue": "group ``/`` does not have a child named ``coordinates``",
     "output_type": "error",
     "traceback": [
      "\u001b[0;31m---------------------------------------------------------------------------\u001b[0m",
      "\u001b[0;31mNoSuchNodeError\u001b[0m                           Traceback (most recent call last)",
      "\u001b[0;32m/tmp/ipykernel_3955/2930333405.py\u001b[0m in \u001b[0;36m<module>\u001b[0;34m\u001b[0m\n\u001b[1;32m      1\u001b[0m \u001b[0;32mfrom\u001b[0m \u001b[0mpygromos\u001b[0m\u001b[0;34m.\u001b[0m\u001b[0mfiles\u001b[0m\u001b[0;34m.\u001b[0m\u001b[0mtrajectory\u001b[0m\u001b[0;34m.\u001b[0m\u001b[0mtrc\u001b[0m \u001b[0;32mimport\u001b[0m \u001b[0mTrc\u001b[0m\u001b[0;34m\u001b[0m\u001b[0;34m\u001b[0m\u001b[0m\n\u001b[1;32m      2\u001b[0m \u001b[0;34m\u001b[0m\u001b[0m\n\u001b[0;32m----> 3\u001b[0;31m \u001b[0mtrc\u001b[0m \u001b[0;34m=\u001b[0m \u001b[0msd_gromos_system\u001b[0m\u001b[0;34m.\u001b[0m\u001b[0mtrc\u001b[0m\u001b[0;34m\u001b[0m\u001b[0;34m\u001b[0m\u001b[0m\n\u001b[0m\u001b[1;32m      4\u001b[0m \u001b[0mtrc\u001b[0m\u001b[0;34m.\u001b[0m\u001b[0mwrite_pdb\u001b[0m\u001b[0;34m(\u001b[0m\u001b[0mout_ana\u001b[0m\u001b[0;34m+\u001b[0m\u001b[0;34m\"/sd_traj.pdb\"\u001b[0m\u001b[0;34m,\u001b[0m \u001b[0mcnf_file\u001b[0m\u001b[0;34m=\u001b[0m\u001b[0mcnf_path\u001b[0m\u001b[0;34m)\u001b[0m\u001b[0;31m#grom_system.cnf.path)\u001b[0m\u001b[0;34m\u001b[0m\u001b[0;34m\u001b[0m\u001b[0m\n\u001b[1;32m      5\u001b[0m \u001b[0mtrc\u001b[0m\u001b[0;34m\u001b[0m\u001b[0;34m\u001b[0m\u001b[0m\n",
      "\u001b[0;32m~/PyGromosTools/pygromos/files/gromos_system/gromos_system.py\u001b[0m in \u001b[0;36mtrc\u001b[0;34m(self)\u001b[0m\n\u001b[1;32m    657\u001b[0m     \u001b[0;32mdef\u001b[0m \u001b[0mtrc\u001b[0m\u001b[0;34m(\u001b[0m\u001b[0mself\u001b[0m\u001b[0;34m)\u001b[0m \u001b[0;34m->\u001b[0m \u001b[0mTrc\u001b[0m\u001b[0;34m:\u001b[0m\u001b[0;34m\u001b[0m\u001b[0;34m\u001b[0m\u001b[0m\n\u001b[1;32m    658\u001b[0m         \u001b[0;32mif\u001b[0m \u001b[0mself\u001b[0m\u001b[0;34m.\u001b[0m\u001b[0m_trc\u001b[0m \u001b[0;32mis\u001b[0m \u001b[0;32mNone\u001b[0m \u001b[0;32mand\u001b[0m \u001b[0;34m\"trc\"\u001b[0m \u001b[0;32min\u001b[0m \u001b[0mself\u001b[0m\u001b[0;34m.\u001b[0m\u001b[0m_traj_files_path\u001b[0m \u001b[0;32mand\u001b[0m \u001b[0mself\u001b[0m\u001b[0;34m.\u001b[0m\u001b[0mcnf\u001b[0m \u001b[0;32mis\u001b[0m \u001b[0;32mnot\u001b[0m \u001b[0;32mNone\u001b[0m \u001b[0;32mand\u001b[0m \u001b[0;32mnot\u001b[0m \u001b[0mself\u001b[0m\u001b[0;34m.\u001b[0m\u001b[0mcnf\u001b[0m\u001b[0;34m.\u001b[0m\u001b[0m_future_file\u001b[0m\u001b[0;34m:\u001b[0m\u001b[0;34m\u001b[0m\u001b[0;34m\u001b[0m\u001b[0m\n\u001b[0;32m--> 659\u001b[0;31m             \u001b[0mself\u001b[0m\u001b[0;34m.\u001b[0m\u001b[0m_trc\u001b[0m \u001b[0;34m=\u001b[0m \u001b[0mTrc\u001b[0m\u001b[0;34m(\u001b[0m\u001b[0mtraj_path\u001b[0m\u001b[0;34m=\u001b[0m\u001b[0mself\u001b[0m\u001b[0;34m.\u001b[0m\u001b[0m_traj_files_path\u001b[0m\u001b[0;34m[\u001b[0m\u001b[0;34m\"trc\"\u001b[0m\u001b[0;34m]\u001b[0m\u001b[0;34m,\u001b[0m \u001b[0min_cnf\u001b[0m\u001b[0;34m=\u001b[0m\u001b[0mself\u001b[0m\u001b[0;34m.\u001b[0m\u001b[0mcnf\u001b[0m\u001b[0;34m)\u001b[0m\u001b[0;34m\u001b[0m\u001b[0;34m\u001b[0m\u001b[0m\n\u001b[0m\u001b[1;32m    660\u001b[0m         \u001b[0;32melif\u001b[0m \u001b[0mself\u001b[0m\u001b[0;34m.\u001b[0m\u001b[0m_trc\u001b[0m \u001b[0;32mis\u001b[0m \u001b[0;32mNone\u001b[0m \u001b[0;32mand\u001b[0m \u001b[0;34m\"trc\"\u001b[0m \u001b[0;32min\u001b[0m \u001b[0mself\u001b[0m\u001b[0;34m.\u001b[0m\u001b[0m_traj_files_path\u001b[0m\u001b[0;34m:\u001b[0m\u001b[0;34m\u001b[0m\u001b[0;34m\u001b[0m\u001b[0m\n\u001b[1;32m    661\u001b[0m             \u001b[0mself\u001b[0m\u001b[0;34m.\u001b[0m\u001b[0m_trc\u001b[0m \u001b[0;34m=\u001b[0m \u001b[0mTrc\u001b[0m\u001b[0;34m(\u001b[0m\u001b[0mtraj_path\u001b[0m\u001b[0;34m=\u001b[0m\u001b[0mself\u001b[0m\u001b[0;34m.\u001b[0m\u001b[0m_traj_files_path\u001b[0m\u001b[0;34m[\u001b[0m\u001b[0;34m\"trc\"\u001b[0m\u001b[0;34m]\u001b[0m\u001b[0;34m)\u001b[0m\u001b[0;34m\u001b[0m\u001b[0;34m\u001b[0m\u001b[0m\n",
      "\u001b[0;32m~/PyGromosTools/pygromos/files/trajectory/trc.py\u001b[0m in \u001b[0;36m__init__\u001b[0;34m(self, xyz, topology, time, unitcell_lengths, unitcell_angles, traj_path, in_cnf, timestep_duration, _future_file)\u001b[0m\n\u001b[1;32m     55\u001b[0m \u001b[0;34m\u001b[0m\u001b[0m\n\u001b[1;32m     56\u001b[0m         \u001b[0;32mif\u001b[0m \u001b[0mtraj_path\u001b[0m \u001b[0;32mis\u001b[0m \u001b[0;32mnot\u001b[0m \u001b[0;32mNone\u001b[0m \u001b[0;32mand\u001b[0m \u001b[0;34m(\u001b[0m\u001b[0mtraj_path\u001b[0m\u001b[0;34m.\u001b[0m\u001b[0mendswith\u001b[0m\u001b[0;34m(\u001b[0m\u001b[0;34m\".h5\"\u001b[0m\u001b[0;34m)\u001b[0m \u001b[0;32mor\u001b[0m \u001b[0mtraj_path\u001b[0m\u001b[0;34m.\u001b[0m\u001b[0mendswith\u001b[0m\u001b[0;34m(\u001b[0m\u001b[0;34m\".hf5\"\u001b[0m\u001b[0;34m)\u001b[0m\u001b[0;34m)\u001b[0m\u001b[0;34m:\u001b[0m\u001b[0;34m\u001b[0m\u001b[0;34m\u001b[0m\u001b[0m\n\u001b[0;32m---> 57\u001b[0;31m             \u001b[0mtrj\u001b[0m \u001b[0;34m=\u001b[0m \u001b[0mself\u001b[0m\u001b[0;34m.\u001b[0m\u001b[0mload\u001b[0m\u001b[0;34m(\u001b[0m\u001b[0mtraj_path\u001b[0m\u001b[0;34m)\u001b[0m\u001b[0;34m\u001b[0m\u001b[0;34m\u001b[0m\u001b[0m\n\u001b[0m\u001b[1;32m     58\u001b[0m             \u001b[0mself\u001b[0m\u001b[0;34m.\u001b[0m\u001b[0m__dict__\u001b[0m\u001b[0;34m.\u001b[0m\u001b[0mupdate\u001b[0m\u001b[0;34m(\u001b[0m\u001b[0mvars\u001b[0m\u001b[0;34m(\u001b[0m\u001b[0mtrj\u001b[0m\u001b[0;34m)\u001b[0m\u001b[0;34m)\u001b[0m\u001b[0;34m\u001b[0m\u001b[0;34m\u001b[0m\u001b[0m\n\u001b[1;32m     59\u001b[0m \u001b[0;34m\u001b[0m\u001b[0m\n",
      "\u001b[0;32m~/PyGromosTools/pygromos/files/trajectory/trc.py\u001b[0m in \u001b[0;36mload\u001b[0;34m(cls, in_path, in_cnf_path, timestep_duration)\u001b[0m\n\u001b[1;32m    496\u001b[0m             \u001b[0mo\u001b[0m \u001b[0;34m=\u001b[0m \u001b[0mcls\u001b[0m\u001b[0;34m(\u001b[0m\u001b[0mtraj_path\u001b[0m\u001b[0;34m=\u001b[0m\u001b[0min_path\u001b[0m\u001b[0;34m,\u001b[0m \u001b[0min_cnf_path\u001b[0m\u001b[0;34m=\u001b[0m\u001b[0min_cnf_path\u001b[0m\u001b[0;34m)\u001b[0m\u001b[0;34m\u001b[0m\u001b[0;34m\u001b[0m\u001b[0m\n\u001b[1;32m    497\u001b[0m         \u001b[0;32melse\u001b[0m\u001b[0;34m:\u001b[0m\u001b[0;34m\u001b[0m\u001b[0;34m\u001b[0m\u001b[0m\n\u001b[0;32m--> 498\u001b[0;31m             \u001b[0mso\u001b[0m \u001b[0;34m=\u001b[0m \u001b[0msuper\u001b[0m\u001b[0;34m(\u001b[0m\u001b[0;34m)\u001b[0m\u001b[0;34m.\u001b[0m\u001b[0mload\u001b[0m\u001b[0;34m(\u001b[0m\u001b[0min_path\u001b[0m\u001b[0;34m)\u001b[0m\u001b[0;34m\u001b[0m\u001b[0;34m\u001b[0m\u001b[0m\n\u001b[0m\u001b[1;32m    499\u001b[0m             o = cls(\n\u001b[1;32m    500\u001b[0m                 \u001b[0mxyz\u001b[0m\u001b[0;34m=\u001b[0m\u001b[0mso\u001b[0m\u001b[0;34m.\u001b[0m\u001b[0mxyz\u001b[0m\u001b[0;34m,\u001b[0m\u001b[0;34m\u001b[0m\u001b[0;34m\u001b[0m\u001b[0m\n",
      "\u001b[0;32m~/anaconda3/envs/pygro2/lib/python3.9/site-packages/mdtraj/core/trajectory.py\u001b[0m in \u001b[0;36mload\u001b[0;34m(filenames, **kwargs)\u001b[0m\n\u001b[1;32m   1323\u001b[0m         \u001b[0mAs\u001b[0m \u001b[0mrequested\u001b[0m \u001b[0mby\u001b[0m \u001b[0mthe\u001b[0m \u001b[0mvarious\u001b[0m \u001b[0mload\u001b[0m \u001b[0mfunctions\u001b[0m \u001b[0;34m-\u001b[0m\u001b[0;34m-\u001b[0m \u001b[0mit\u001b[0m \u001b[0mdepends\u001b[0m \u001b[0mon\u001b[0m \u001b[0mthe\u001b[0m \u001b[0mextension\u001b[0m\u001b[0;34m\u001b[0m\u001b[0;34m\u001b[0m\u001b[0m\n\u001b[1;32m   1324\u001b[0m         \"\"\"\n\u001b[0;32m-> 1325\u001b[0;31m         \u001b[0;32mreturn\u001b[0m \u001b[0mload\u001b[0m\u001b[0;34m(\u001b[0m\u001b[0mfilenames\u001b[0m\u001b[0;34m,\u001b[0m \u001b[0;34m**\u001b[0m\u001b[0mkwargs\u001b[0m\u001b[0;34m)\u001b[0m\u001b[0;34m\u001b[0m\u001b[0;34m\u001b[0m\u001b[0m\n\u001b[0m\u001b[1;32m   1326\u001b[0m \u001b[0;34m\u001b[0m\u001b[0m\n\u001b[1;32m   1327\u001b[0m     \u001b[0;32mdef\u001b[0m \u001b[0m_savers\u001b[0m\u001b[0;34m(\u001b[0m\u001b[0mself\u001b[0m\u001b[0;34m)\u001b[0m\u001b[0;34m:\u001b[0m\u001b[0;34m\u001b[0m\u001b[0;34m\u001b[0m\u001b[0m\n",
      "\u001b[0;32m~/anaconda3/envs/pygro2/lib/python3.9/site-packages/mdtraj/core/trajectory.py\u001b[0m in \u001b[0;36mload\u001b[0;34m(filename_or_filenames, discard_overlapping_frames, **kwargs)\u001b[0m\n\u001b[1;32m    394\u001b[0m     \u001b[0mtopkwargs\u001b[0m\u001b[0;34m.\u001b[0m\u001b[0mpop\u001b[0m\u001b[0;34m(\u001b[0m\u001b[0;34m\"stride\"\u001b[0m\u001b[0;34m,\u001b[0m \u001b[0;32mNone\u001b[0m\u001b[0;34m)\u001b[0m\u001b[0;34m\u001b[0m\u001b[0;34m\u001b[0m\u001b[0m\n\u001b[1;32m    395\u001b[0m     \u001b[0mtopkwargs\u001b[0m\u001b[0;34m.\u001b[0m\u001b[0mpop\u001b[0m\u001b[0;34m(\u001b[0m\u001b[0;34m\"start\"\u001b[0m\u001b[0;34m,\u001b[0m \u001b[0;32mNone\u001b[0m\u001b[0;34m)\u001b[0m\u001b[0;34m\u001b[0m\u001b[0;34m\u001b[0m\u001b[0m\n\u001b[0;32m--> 396\u001b[0;31m     \u001b[0mkwargs\u001b[0m\u001b[0;34m[\u001b[0m\u001b[0;34m\"top\"\u001b[0m\u001b[0;34m]\u001b[0m \u001b[0;34m=\u001b[0m \u001b[0m_parse_topology\u001b[0m\u001b[0;34m(\u001b[0m\u001b[0mkwargs\u001b[0m\u001b[0;34m.\u001b[0m\u001b[0mget\u001b[0m\u001b[0;34m(\u001b[0m\u001b[0;34m\"top\"\u001b[0m\u001b[0;34m,\u001b[0m \u001b[0mfilename_or_filenames\u001b[0m\u001b[0;34m[\u001b[0m\u001b[0;36m0\u001b[0m\u001b[0;34m]\u001b[0m\u001b[0;34m)\u001b[0m\u001b[0;34m,\u001b[0m \u001b[0;34m**\u001b[0m\u001b[0mtopkwargs\u001b[0m\u001b[0;34m)\u001b[0m\u001b[0;34m\u001b[0m\u001b[0;34m\u001b[0m\u001b[0m\n\u001b[0m\u001b[1;32m    397\u001b[0m \u001b[0;34m\u001b[0m\u001b[0m\n\u001b[1;32m    398\u001b[0m     \u001b[0;31m#get the right loader\u001b[0m\u001b[0;34m\u001b[0m\u001b[0;34m\u001b[0m\u001b[0m\n",
      "\u001b[0;32m~/anaconda3/envs/pygro2/lib/python3.9/site-packages/mdtraj/core/trajectory.py\u001b[0m in \u001b[0;36m_parse_topology\u001b[0;34m(top, **kwargs)\u001b[0m\n\u001b[1;32m    172\u001b[0m         \u001b[0mtopology\u001b[0m \u001b[0;34m=\u001b[0m \u001b[0mtop\u001b[0m\u001b[0;34m.\u001b[0m\u001b[0mtopology\u001b[0m\u001b[0;34m\u001b[0m\u001b[0;34m\u001b[0m\u001b[0m\n\u001b[1;32m    173\u001b[0m     \u001b[0;32melif\u001b[0m \u001b[0misinstance\u001b[0m\u001b[0;34m(\u001b[0m\u001b[0mtop\u001b[0m\u001b[0;34m,\u001b[0m \u001b[0;34m(\u001b[0m\u001b[0mstring_types\u001b[0m\u001b[0;34m,\u001b[0m \u001b[0mos\u001b[0m\u001b[0;34m.\u001b[0m\u001b[0mPathLike\u001b[0m\u001b[0;34m)\u001b[0m\u001b[0;34m)\u001b[0m \u001b[0;32mand\u001b[0m \u001b[0;34m(\u001b[0m\u001b[0mext\u001b[0m \u001b[0;32min\u001b[0m \u001b[0;34m[\u001b[0m\u001b[0;34m'.pdb'\u001b[0m\u001b[0;34m,\u001b[0m \u001b[0;34m'.pdb.gz'\u001b[0m\u001b[0;34m,\u001b[0m \u001b[0;34m'.h5'\u001b[0m\u001b[0;34m,\u001b[0m\u001b[0;34m'.lh5'\u001b[0m\u001b[0;34m]\u001b[0m\u001b[0;34m)\u001b[0m\u001b[0;34m:\u001b[0m\u001b[0;34m\u001b[0m\u001b[0;34m\u001b[0m\u001b[0m\n\u001b[0;32m--> 174\u001b[0;31m         \u001b[0m_traj\u001b[0m \u001b[0;34m=\u001b[0m \u001b[0mload_frame\u001b[0m\u001b[0;34m(\u001b[0m\u001b[0mtop\u001b[0m\u001b[0;34m,\u001b[0m \u001b[0;36m0\u001b[0m\u001b[0;34m,\u001b[0m \u001b[0;34m**\u001b[0m\u001b[0mkwargs\u001b[0m\u001b[0;34m)\u001b[0m\u001b[0;34m\u001b[0m\u001b[0;34m\u001b[0m\u001b[0m\n\u001b[0m\u001b[1;32m    175\u001b[0m         \u001b[0mtopology\u001b[0m \u001b[0;34m=\u001b[0m \u001b[0m_traj\u001b[0m\u001b[0;34m.\u001b[0m\u001b[0mtopology\u001b[0m\u001b[0;34m\u001b[0m\u001b[0;34m\u001b[0m\u001b[0m\n\u001b[1;32m    176\u001b[0m     \u001b[0;32melif\u001b[0m \u001b[0misinstance\u001b[0m\u001b[0;34m(\u001b[0m\u001b[0mtop\u001b[0m\u001b[0;34m,\u001b[0m \u001b[0;34m(\u001b[0m\u001b[0mstring_types\u001b[0m\u001b[0;34m,\u001b[0m \u001b[0mos\u001b[0m\u001b[0;34m.\u001b[0m\u001b[0mPathLike\u001b[0m\u001b[0;34m)\u001b[0m\u001b[0;34m)\u001b[0m \u001b[0;32mand\u001b[0m \u001b[0;34m(\u001b[0m\u001b[0mext\u001b[0m \u001b[0;32min\u001b[0m \u001b[0;34m[\u001b[0m\u001b[0;34m'.prmtop'\u001b[0m\u001b[0;34m,\u001b[0m \u001b[0;34m'.parm7'\u001b[0m\u001b[0;34m,\u001b[0m \u001b[0;34m'.prm7'\u001b[0m\u001b[0;34m]\u001b[0m\u001b[0;34m)\u001b[0m\u001b[0;34m:\u001b[0m\u001b[0;34m\u001b[0m\u001b[0;34m\u001b[0m\u001b[0m\n",
      "\u001b[0;32m~/anaconda3/envs/pygro2/lib/python3.9/site-packages/mdtraj/core/trajectory.py\u001b[0m in \u001b[0;36mload_frame\u001b[0;34m(filename, index, top, atom_indices, **kwargs)\u001b[0m\n\u001b[1;32m    312\u001b[0m         \u001b[0m_assert_files_or_dirs_exist\u001b[0m\u001b[0;34m(\u001b[0m\u001b[0mfilename\u001b[0m\u001b[0;34m)\u001b[0m\u001b[0;34m\u001b[0m\u001b[0;34m\u001b[0m\u001b[0m\n\u001b[1;32m    313\u001b[0m \u001b[0;34m\u001b[0m\u001b[0m\n\u001b[0;32m--> 314\u001b[0;31m     \u001b[0;32mreturn\u001b[0m \u001b[0mloader\u001b[0m\u001b[0;34m(\u001b[0m\u001b[0mfilename\u001b[0m\u001b[0;34m,\u001b[0m \u001b[0mframe\u001b[0m\u001b[0;34m=\u001b[0m\u001b[0mindex\u001b[0m\u001b[0;34m,\u001b[0m \u001b[0;34m**\u001b[0m\u001b[0mkwargs\u001b[0m\u001b[0;34m)\u001b[0m\u001b[0;34m\u001b[0m\u001b[0;34m\u001b[0m\u001b[0m\n\u001b[0m\u001b[1;32m    315\u001b[0m \u001b[0;34m\u001b[0m\u001b[0m\n\u001b[1;32m    316\u001b[0m \u001b[0;34m\u001b[0m\u001b[0m\n",
      "\u001b[0;32m~/anaconda3/envs/pygro2/lib/python3.9/site-packages/mdtraj/formats/hdf5.py\u001b[0m in \u001b[0;36mload_hdf5\u001b[0;34m(filename, stride, atom_indices, frame)\u001b[0m\n\u001b[1;32m    117\u001b[0m         \u001b[0;32melse\u001b[0m\u001b[0;34m:\u001b[0m\u001b[0;34m\u001b[0m\u001b[0;34m\u001b[0m\u001b[0m\n\u001b[1;32m    118\u001b[0m             \u001b[0mn_frames\u001b[0m \u001b[0;34m=\u001b[0m \u001b[0;32mNone\u001b[0m\u001b[0;34m\u001b[0m\u001b[0;34m\u001b[0m\u001b[0m\n\u001b[0;32m--> 119\u001b[0;31m         \u001b[0;32mreturn\u001b[0m \u001b[0mf\u001b[0m\u001b[0;34m.\u001b[0m\u001b[0mread_as_traj\u001b[0m\u001b[0;34m(\u001b[0m\u001b[0mn_frames\u001b[0m\u001b[0;34m=\u001b[0m\u001b[0mn_frames\u001b[0m\u001b[0;34m,\u001b[0m \u001b[0mstride\u001b[0m\u001b[0;34m=\u001b[0m\u001b[0mstride\u001b[0m\u001b[0;34m,\u001b[0m \u001b[0matom_indices\u001b[0m\u001b[0;34m=\u001b[0m\u001b[0matom_indices\u001b[0m\u001b[0;34m)\u001b[0m\u001b[0;34m\u001b[0m\u001b[0;34m\u001b[0m\u001b[0m\n\u001b[0m\u001b[1;32m    120\u001b[0m \u001b[0;34m\u001b[0m\u001b[0m\n\u001b[1;32m    121\u001b[0m \u001b[0;34m\u001b[0m\u001b[0m\n",
      "\u001b[0;32m~/anaconda3/envs/pygro2/lib/python3.9/site-packages/mdtraj/formats/hdf5.py\u001b[0m in \u001b[0;36mread_as_traj\u001b[0;34m(self, n_frames, stride, atom_indices)\u001b[0m\n\u001b[1;32m    516\u001b[0m \u001b[0;34m\u001b[0m\u001b[0m\n\u001b[1;32m    517\u001b[0m         \u001b[0minitial\u001b[0m \u001b[0;34m=\u001b[0m \u001b[0mint\u001b[0m\u001b[0;34m(\u001b[0m\u001b[0mself\u001b[0m\u001b[0;34m.\u001b[0m\u001b[0m_frame_index\u001b[0m\u001b[0;34m)\u001b[0m\u001b[0;34m\u001b[0m\u001b[0;34m\u001b[0m\u001b[0m\n\u001b[0;32m--> 518\u001b[0;31m         \u001b[0mdata\u001b[0m \u001b[0;34m=\u001b[0m \u001b[0mself\u001b[0m\u001b[0;34m.\u001b[0m\u001b[0mread\u001b[0m\u001b[0;34m(\u001b[0m\u001b[0mn_frames\u001b[0m\u001b[0;34m=\u001b[0m\u001b[0mn_frames\u001b[0m\u001b[0;34m,\u001b[0m \u001b[0mstride\u001b[0m\u001b[0;34m=\u001b[0m\u001b[0mstride\u001b[0m\u001b[0;34m,\u001b[0m \u001b[0matom_indices\u001b[0m\u001b[0;34m=\u001b[0m\u001b[0matom_indices\u001b[0m\u001b[0;34m)\u001b[0m\u001b[0;34m\u001b[0m\u001b[0;34m\u001b[0m\u001b[0m\n\u001b[0m\u001b[1;32m    519\u001b[0m         \u001b[0;32mif\u001b[0m \u001b[0mlen\u001b[0m\u001b[0;34m(\u001b[0m\u001b[0mdata\u001b[0m\u001b[0;34m)\u001b[0m \u001b[0;34m==\u001b[0m \u001b[0;36m0\u001b[0m\u001b[0;34m:\u001b[0m\u001b[0;34m\u001b[0m\u001b[0;34m\u001b[0m\u001b[0m\n\u001b[1;32m    520\u001b[0m             \u001b[0;32mreturn\u001b[0m \u001b[0mTrajectory\u001b[0m\u001b[0;34m(\u001b[0m\u001b[0mxyz\u001b[0m\u001b[0;34m=\u001b[0m\u001b[0mnp\u001b[0m\u001b[0;34m.\u001b[0m\u001b[0mzeros\u001b[0m\u001b[0;34m(\u001b[0m\u001b[0;34m(\u001b[0m\u001b[0;36m0\u001b[0m\u001b[0;34m,\u001b[0m \u001b[0mtopology\u001b[0m\u001b[0;34m.\u001b[0m\u001b[0mn_atoms\u001b[0m\u001b[0;34m,\u001b[0m \u001b[0;36m3\u001b[0m\u001b[0;34m)\u001b[0m\u001b[0;34m)\u001b[0m\u001b[0;34m,\u001b[0m \u001b[0mtopology\u001b[0m\u001b[0;34m=\u001b[0m\u001b[0mtopology\u001b[0m\u001b[0;34m)\u001b[0m\u001b[0;34m\u001b[0m\u001b[0;34m\u001b[0m\u001b[0m\n",
      "\u001b[0;32m~/anaconda3/envs/pygro2/lib/python3.9/site-packages/mdtraj/formats/hdf5.py\u001b[0m in \u001b[0;36mread\u001b[0;34m(self, n_frames, stride, atom_indices)\u001b[0m\n\u001b[1;32m    570\u001b[0m             \u001b[0mstride\u001b[0m \u001b[0;34m=\u001b[0m \u001b[0mint\u001b[0m\u001b[0;34m(\u001b[0m\u001b[0mstride\u001b[0m\u001b[0;34m)\u001b[0m\u001b[0;34m\u001b[0m\u001b[0;34m\u001b[0m\u001b[0m\n\u001b[1;32m    571\u001b[0m \u001b[0;34m\u001b[0m\u001b[0m\n\u001b[0;32m--> 572\u001b[0;31m         \u001b[0mtotal_n_frames\u001b[0m \u001b[0;34m=\u001b[0m \u001b[0mlen\u001b[0m\u001b[0;34m(\u001b[0m\u001b[0mself\u001b[0m\u001b[0;34m.\u001b[0m\u001b[0m_handle\u001b[0m\u001b[0;34m.\u001b[0m\u001b[0mroot\u001b[0m\u001b[0;34m.\u001b[0m\u001b[0mcoordinates\u001b[0m\u001b[0;34m)\u001b[0m\u001b[0;34m\u001b[0m\u001b[0;34m\u001b[0m\u001b[0m\n\u001b[0m\u001b[1;32m    573\u001b[0m         \u001b[0mframe_slice\u001b[0m \u001b[0;34m=\u001b[0m \u001b[0mslice\u001b[0m\u001b[0;34m(\u001b[0m\u001b[0mself\u001b[0m\u001b[0;34m.\u001b[0m\u001b[0m_frame_index\u001b[0m\u001b[0;34m,\u001b[0m \u001b[0mmin\u001b[0m\u001b[0;34m(\u001b[0m\u001b[0mself\u001b[0m\u001b[0;34m.\u001b[0m\u001b[0m_frame_index\u001b[0m \u001b[0;34m+\u001b[0m \u001b[0mn_frames\u001b[0m\u001b[0;34m,\u001b[0m \u001b[0mtotal_n_frames\u001b[0m\u001b[0;34m)\u001b[0m\u001b[0;34m,\u001b[0m \u001b[0mstride\u001b[0m\u001b[0;34m)\u001b[0m\u001b[0;34m\u001b[0m\u001b[0;34m\u001b[0m\u001b[0m\n\u001b[1;32m    574\u001b[0m         \u001b[0;32mif\u001b[0m \u001b[0mframe_slice\u001b[0m\u001b[0;34m.\u001b[0m\u001b[0mstop\u001b[0m \u001b[0;34m-\u001b[0m \u001b[0mframe_slice\u001b[0m\u001b[0;34m.\u001b[0m\u001b[0mstart\u001b[0m \u001b[0;34m==\u001b[0m \u001b[0;36m0\u001b[0m\u001b[0;34m:\u001b[0m\u001b[0;34m\u001b[0m\u001b[0;34m\u001b[0m\u001b[0m\n",
      "\u001b[0;32m~/anaconda3/envs/pygro2/lib/python3.9/site-packages/tables/group.py\u001b[0m in \u001b[0;36m__getattr__\u001b[0;34m(self, name)\u001b[0m\n\u001b[1;32m    796\u001b[0m             \u001b[0mself\u001b[0m\u001b[0;34m.\u001b[0m\u001b[0m_g_add_children_names\u001b[0m\u001b[0;34m(\u001b[0m\u001b[0;34m)\u001b[0m\u001b[0;34m\u001b[0m\u001b[0;34m\u001b[0m\u001b[0m\n\u001b[1;32m    797\u001b[0m             \u001b[0;32mreturn\u001b[0m \u001b[0mself\u001b[0m\u001b[0;34m.\u001b[0m\u001b[0m__dict__\u001b[0m\u001b[0;34m[\u001b[0m\u001b[0mname\u001b[0m\u001b[0;34m]\u001b[0m\u001b[0;34m\u001b[0m\u001b[0;34m\u001b[0m\u001b[0m\n\u001b[0;32m--> 798\u001b[0;31m         \u001b[0;32mreturn\u001b[0m \u001b[0mself\u001b[0m\u001b[0;34m.\u001b[0m\u001b[0m_f_get_child\u001b[0m\u001b[0;34m(\u001b[0m\u001b[0mname\u001b[0m\u001b[0;34m)\u001b[0m\u001b[0;34m\u001b[0m\u001b[0;34m\u001b[0m\u001b[0m\n\u001b[0m\u001b[1;32m    799\u001b[0m \u001b[0;34m\u001b[0m\u001b[0m\n\u001b[1;32m    800\u001b[0m     \u001b[0;32mdef\u001b[0m \u001b[0m__setattr__\u001b[0m\u001b[0;34m(\u001b[0m\u001b[0mself\u001b[0m\u001b[0;34m,\u001b[0m \u001b[0mname\u001b[0m\u001b[0;34m,\u001b[0m \u001b[0mvalue\u001b[0m\u001b[0;34m)\u001b[0m\u001b[0;34m:\u001b[0m\u001b[0;34m\u001b[0m\u001b[0;34m\u001b[0m\u001b[0m\n",
      "\u001b[0;32m~/anaconda3/envs/pygro2/lib/python3.9/site-packages/tables/group.py\u001b[0m in \u001b[0;36m_f_get_child\u001b[0;34m(self, childname)\u001b[0m\n\u001b[1;32m    680\u001b[0m         \u001b[0mself\u001b[0m\u001b[0;34m.\u001b[0m\u001b[0m_g_check_open\u001b[0m\u001b[0;34m(\u001b[0m\u001b[0;34m)\u001b[0m\u001b[0;34m\u001b[0m\u001b[0;34m\u001b[0m\u001b[0m\n\u001b[1;32m    681\u001b[0m \u001b[0;34m\u001b[0m\u001b[0m\n\u001b[0;32m--> 682\u001b[0;31m         \u001b[0mself\u001b[0m\u001b[0;34m.\u001b[0m\u001b[0m_g_check_has_child\u001b[0m\u001b[0;34m(\u001b[0m\u001b[0mchildname\u001b[0m\u001b[0;34m)\u001b[0m\u001b[0;34m\u001b[0m\u001b[0;34m\u001b[0m\u001b[0m\n\u001b[0m\u001b[1;32m    683\u001b[0m \u001b[0;34m\u001b[0m\u001b[0m\n\u001b[1;32m    684\u001b[0m         \u001b[0mchildpath\u001b[0m \u001b[0;34m=\u001b[0m \u001b[0mjoin_path\u001b[0m\u001b[0;34m(\u001b[0m\u001b[0mself\u001b[0m\u001b[0;34m.\u001b[0m\u001b[0m_v_pathname\u001b[0m\u001b[0;34m,\u001b[0m \u001b[0mchildname\u001b[0m\u001b[0;34m)\u001b[0m\u001b[0;34m\u001b[0m\u001b[0;34m\u001b[0m\u001b[0m\n",
      "\u001b[0;32m~/anaconda3/envs/pygro2/lib/python3.9/site-packages/tables/group.py\u001b[0m in \u001b[0;36m_g_check_has_child\u001b[0;34m(self, name)\u001b[0m\n\u001b[1;32m    373\u001b[0m         \u001b[0mnode_type\u001b[0m \u001b[0;34m=\u001b[0m \u001b[0mself\u001b[0m\u001b[0;34m.\u001b[0m\u001b[0m_g_get_objinfo\u001b[0m\u001b[0;34m(\u001b[0m\u001b[0mname\u001b[0m\u001b[0;34m)\u001b[0m\u001b[0;34m\u001b[0m\u001b[0;34m\u001b[0m\u001b[0m\n\u001b[1;32m    374\u001b[0m         \u001b[0;32mif\u001b[0m \u001b[0mnode_type\u001b[0m \u001b[0;34m==\u001b[0m \u001b[0;34m\"NoSuchNode\"\u001b[0m\u001b[0;34m:\u001b[0m\u001b[0;34m\u001b[0m\u001b[0;34m\u001b[0m\u001b[0m\n\u001b[0;32m--> 375\u001b[0;31m             raise NoSuchNodeError(\n\u001b[0m\u001b[1;32m    376\u001b[0m                 \u001b[0;34m\"group ``%s`` does not have a child named ``%s``\"\u001b[0m\u001b[0;34m\u001b[0m\u001b[0;34m\u001b[0m\u001b[0m\n\u001b[1;32m    377\u001b[0m                 % (self._v_pathname, name))\n",
      "\u001b[0;31mNoSuchNodeError\u001b[0m: group ``/`` does not have a child named ``coordinates``"
     ]
    }
   ],
   "source": [
    "from pygromos.files.trajectory.trc import Trc\n",
    "\n",
    "trc = sd_gromos_system.trc\n",
    "trc.write_pdb(out_ana+\"/sd_traj.pdb\", cnf_file=cnf_path)#grom_system.cnf.path)\n",
    "trc"
   ]
  },
  {
   "cell_type": "code",
   "execution_count": 15,
   "metadata": {
    "execution": {
     "iopub.execute_input": "2022-04-06T13:29:03.391539Z",
     "iopub.status.busy": "2022-04-06T13:29:03.391220Z",
     "iopub.status.idle": "2022-04-06T13:29:03.404428Z",
     "shell.execute_reply": "2022-04-06T13:29:03.403410Z"
    }
   },
   "outputs": [
    {
     "ename": "NameError",
     "evalue": "name 'trc' is not defined",
     "output_type": "error",
     "traceback": [
      "\u001b[0;31m---------------------------------------------------------------------------\u001b[0m",
      "\u001b[0;31mNameError\u001b[0m                                 Traceback (most recent call last)",
      "\u001b[0;32m/tmp/ipykernel_3955/279071187.py\u001b[0m in \u001b[0;36m<module>\u001b[0;34m\u001b[0m\n\u001b[0;32m----> 1\u001b[0;31m \u001b[0mtraj\u001b[0m \u001b[0;34m=\u001b[0m \u001b[0mtrc\u001b[0m\u001b[0;34m.\u001b[0m\u001b[0mview\u001b[0m\u001b[0;34m\u001b[0m\u001b[0;34m\u001b[0m\u001b[0m\n\u001b[0m\u001b[1;32m      2\u001b[0m \u001b[0mtraj\u001b[0m\u001b[0;34m\u001b[0m\u001b[0;34m\u001b[0m\u001b[0m\n",
      "\u001b[0;31mNameError\u001b[0m: name 'trc' is not defined"
     ]
    }
   ],
   "source": [
    "traj = trc.view\n",
    "traj"
   ]
  },
  {
   "cell_type": "markdown",
   "metadata": {},
   "source": [
    "### Energy Analysis"
   ]
  },
  {
   "cell_type": "code",
   "execution_count": 16,
   "metadata": {
    "execution": {
     "iopub.execute_input": "2022-04-06T13:29:03.407243Z",
     "iopub.status.busy": "2022-04-06T13:29:03.407056Z",
     "iopub.status.idle": "2022-04-06T13:29:03.426509Z",
     "shell.execute_reply": "2022-04-06T13:29:03.425885Z"
    }
   },
   "outputs": [
    {
     "data": {
      "text/plain": [
       "Trajectory: \n",
       "\tRead from hdf save \n",
       "\tContains only database\n",
       "\t\n",
       "Type: \n",
       "\tTre\n",
       "Frames: \t63\t Columns:\t13\n"
      ]
     },
     "execution_count": 16,
     "metadata": {},
     "output_type": "execute_result"
    }
   ],
   "source": [
    "from pygromos.files.trajectory.tre import Tre\n",
    "\n",
    "tre = sd_gromos_system.tre\n",
    "tre\n"
   ]
  },
  {
   "cell_type": "code",
   "execution_count": 17,
   "metadata": {
    "execution": {
     "iopub.execute_input": "2022-04-06T13:29:03.428683Z",
     "iopub.status.busy": "2022-04-06T13:29:03.428499Z",
     "iopub.status.idle": "2022-04-06T13:29:03.801788Z",
     "shell.execute_reply": "2022-04-06T13:29:03.800856Z"
    }
   },
   "outputs": [
    {
     "data": {
      "image/png": "[encoded data removed]",
      "text/plain": [
       "<Figure size 432x288 with 1 Axes>"
      ]
     },
     "metadata": {
      "needs_background": "light"
     },
     "output_type": "display_data"
    }
   ],
   "source": [
    "#Plot Potential Energies\n",
    "V_tot = np.array(list(map(lambda x: x[2], tre.database.totals)))\n",
    "step = len(tre.database.TIMESTEP_time)//10\n",
    "\n",
    "plt.plot(tre.database.TIMESTEP_time, V_tot)\n",
    "plt.xticks(np.round(list(tre.database.TIMESTEP_time[::step]),2))\n",
    "plt.xlabel(\"$t~[ps]$\")\n",
    "plt.ylabel(\"$V~[kJ]$\")\n",
    "plt.title(\"V total timeseries\")\n",
    "plt.savefig(out_ana+\"/potential_energy_timeseries.png\")"
   ]
  }
 ],
 "metadata": {
  "interpreter": {
   "hash": "b1b7b2ea43b8e767316eee98e01335d045804d2d47db68b6a5827e187ee91a7e"
  },
  "kernelspec": {
   "display_name": "Python 3.9.7 ('pygro2')",
   "language": "python",
   "name": "python3"
  },
  "language_info": {
   "codemirror_mode": {
    "name": "ipython",
    "version": 3
   },
   "file_extension": ".py",
   "mimetype": "text/x-python",
   "name": "python",
   "nbconvert_exporter": "python",
   "pygments_lexer": "ipython3",
   "version": "3.9.7"
  },
  "widgets": {
   "application/vnd.jupyter.widget-state+json": {
    "state": {
     "03ae053c9cc5420cb522d143cc4af257": {
      "model_module": "@jupyter-widgets/controls",
      "model_module_version": "1.5.0",
      "model_name": "PlayModel",
      "state": {
       "_dom_classes": [],
       "_model_module": "@jupyter-widgets/controls",
       "_model_module_version": "1.5.0",
       "_model_name": "PlayModel",
       "_playing": false,
       "_repeat": false,
       "_view_count": null,
       "_view_module": "@jupyter-widgets/controls",
       "_view_module_version": "1.5.0",
       "_view_name": "PlayView",
       "description": "",
       "description_tooltip": null,
       "disabled": false,
       "interval": 100,
       "layout": "IPY_MODEL_4e40814cbfbb4771a384c0f77a75bb08",
       "max": 0,
       "min": 0,
       "show_repeat": true,
       "step": 1,
       "style": "IPY_MODEL_198f38daa2724831937ba9394f324dc8",
       "value": 0
      }
     },
     "18cc2ab04c1c47c3a9bab224088cf409": {
      "model_module": "@jupyter-widgets/controls",
      "model_module_version": "1.5.0",
      "model_name": "LinkModel",
      "state": {
       "_model_module": "@jupyter-widgets/controls",
       "_model_module_version": "1.5.0",
       "_model_name": "LinkModel",
       "_view_count": null,
       "_view_module": "@jupyter-widgets/controls",
       "_view_module_version": "1.5.0",
       "_view_name": null,
       "source": [
        "IPY_MODEL_9f61bdbf237b43a0aa9b22f862be7a10",
        "max"
       ],
       "target": [
        "IPY_MODEL_4ed2fe6508c74d8daa94177fab0fc748",
        "max_frame"
       ]
      }
     },
     "198f38daa2724831937ba9394f324dc8": {
      "model_module": "@jupyter-widgets/controls",
      "model_module_version": "1.5.0",
      "model_name": "DescriptionStyleModel",
      "state": {
       "_model_module": "@jupyter-widgets/controls",
       "_model_module_version": "1.5.0",
       "_model_name": "DescriptionStyleModel",
       "_view_count": null,
       "_view_module": "@jupyter-widgets/base",
       "_view_module_version": "1.2.0",
       "_view_name": "StyleView",
       "description_width": ""
      }
     },
     "1a13f147f15441d1aba6385d811ea1aa": {
      "model_module": "@jupyter-widgets/controls",
      "model_module_version": "1.5.0",
      "model_name": "PlayModel",
      "state": {
       "_dom_classes": [],
       "_model_module": "@jupyter-widgets/controls",
       "_model_module_version": "1.5.0",
       "_model_name": "PlayModel",
       "_playing": false,
       "_repeat": false,
       "_view_count": null,
       "_view_module": "@jupyter-widgets/controls",
       "_view_module_version": "1.5.0",
       "_view_name": "PlayView",
       "description": "",
       "description_tooltip": null,
       "disabled": false,
       "interval": 100,
       "layout": "IPY_MODEL_f5cee87683fd4b94a77aca482369740c",
       "max": 0,
       "min": 0,
       "show_repeat": true,
       "step": 1,
       "style": "IPY_MODEL_37dd1463ed39494fa078dbc1c49f5fa9",
       "value": 0
      }
     },
     "1d87b6461c174fac878c2853edde7112": {
      "model_module": "@jupyter-widgets/controls",
      "model_module_version": "1.5.0",
      "model_name": "PlayModel",
      "state": {
       "_dom_classes": [],
       "_model_module": "@jupyter-widgets/controls",
       "_model_module_version": "1.5.0",
       "_model_name": "PlayModel",
       "_playing": false,
       "_repeat": false,
       "_view_count": null,
       "_view_module": "@jupyter-widgets/controls",
       "_view_module_version": "1.5.0",
       "_view_name": "PlayView",
       "description": "",
       "description_tooltip": null,
       "disabled": false,
       "interval": 100,
       "layout": "IPY_MODEL_f0a5c0b8c40e46d8a5f5c808de12a24b",
       "max": 0,
       "min": 0,
       "show_repeat": true,
       "step": 1,
       "style": "IPY_MODEL_6e0cb89126b242b98ee7f6f42acdb97b",
       "value": 0
      }
     },
     "2c2c551f4883486f85d3fd2ed23d76c8": {
      "model_module": "@jupyter-widgets/base",
      "model_module_version": "1.2.0",
      "model_name": "LayoutModel",
      "state": {
       "_model_module": "@jupyter-widgets/base",
       "_model_module_version": "1.2.0",
       "_model_name": "LayoutModel",
       "_view_count": null,
       "_view_module": "@jupyter-widgets/base",
       "_view_module_version": "1.2.0",
       "_view_name": "LayoutView",
       "align_content": null,
       "align_items": null,
       "align_self": null,
       "border": null,
       "bottom": null,
       "display": null,
       "flex": null,
       "flex_flow": null,
       "grid_area": null,
       "grid_auto_columns": null,
       "grid_auto_flow": null,
       "grid_auto_rows": null,
       "grid_column": null,
       "grid_gap": null,
       "grid_row": null,
       "grid_template_areas": null,
       "grid_template_columns": null,
       "grid_template_rows": null,
       "height": null,
       "justify_content": null,
       "justify_items": null,
       "left": null,
       "margin": null,
       "max_height": null,
       "max_width": null,
       "min_height": null,
       "min_width": null,
       "object_fit": null,
       "object_position": null,
       "order": null,
       "overflow": null,
       "overflow_x": null,
       "overflow_y": null,
       "padding": null,
       "right": null,
       "top": null,
       "visibility": null,
       "width": "34px"
      }
     },
     "30933fddc4274f86981190fc49c49631": {
      "model_module": "@jupyter-widgets/controls",
      "model_module_version": "1.5.0",
      "model_name": "SliderStyleModel",
      "state": {
       "_model_module": "@jupyter-widgets/controls",
       "_model_module_version": "1.5.0",
       "_model_name": "SliderStyleModel",
       "_view_count": null,
       "_view_module": "@jupyter-widgets/base",
       "_view_module_version": "1.2.0",
       "_view_name": "StyleView",
       "description_width": "",
       "handle_color": null
      }
     },
     "326080f0a8cd40e5b7c746a3805a72c8": {
      "model_module": "@jupyter-widgets/base",
      "model_module_version": "1.2.0",
      "model_name": "LayoutModel",
      "state": {
       "_model_module": "@jupyter-widgets/base",
       "_model_module_version": "1.2.0",
       "_model_name": "LayoutModel",
       "_view_count": null,
       "_view_module": "@jupyter-widgets/base",
       "_view_module_version": "1.2.0",
       "_view_name": "LayoutView",
       "align_content": null,
       "align_items": null,
       "align_self": null,
       "border": null,
       "bottom": null,
       "display": null,
       "flex": null,
       "flex_flow": null,
       "grid_area": null,
       "grid_auto_columns": null,
       "grid_auto_flow": null,
       "grid_auto_rows": null,
       "grid_column": null,
       "grid_gap": null,
       "grid_row": null,
       "grid_template_areas": null,
       "grid_template_columns": null,
       "grid_template_rows": null,
       "height": null,
       "justify_content": null,
       "justify_items": null,
       "left": null,
       "margin": null,
       "max_height": null,
       "max_width": null,
       "min_height": null,
       "min_width": null,
       "object_fit": null,
       "object_position": null,
       "order": null,
       "overflow": null,
       "overflow_x": null,
       "overflow_y": null,
       "padding": null,
       "right": null,
       "top": null,
       "visibility": null,
       "width": null
      }
     },
     "37acf11469124b4c91d772aad931c639": {
      "model_module": "@jupyter-widgets/base",
      "model_module_version": "1.2.0",
      "model_name": "LayoutModel",
      "state": {
       "_model_module": "@jupyter-widgets/base",
       "_model_module_version": "1.2.0",
       "_model_name": "LayoutModel",
       "_view_count": null,
       "_view_module": "@jupyter-widgets/base",
       "_view_module_version": "1.2.0",
       "_view_name": "LayoutView",
       "align_content": null,
       "align_items": null,
       "align_self": null,
       "border": null,
       "bottom": null,
       "display": null,
       "flex": null,
       "flex_flow": null,
       "grid_area": null,
       "grid_auto_columns": null,
       "grid_auto_flow": null,
       "grid_auto_rows": null,
       "grid_column": null,
       "grid_gap": null,
       "grid_row": null,
       "grid_template_areas": null,
       "grid_template_columns": null,
       "grid_template_rows": null,
       "height": null,
       "justify_content": null,
       "justify_items": null,
       "left": null,
       "margin": null,
       "max_height": null,
       "max_width": null,
       "min_height": null,
       "min_width": null,
       "object_fit": null,
       "object_position": null,
       "order": null,
       "overflow": null,
       "overflow_x": null,
       "overflow_y": null,
       "padding": null,
       "right": null,
       "top": null,
       "visibility": null,
       "width": null
      }
     },
     "37dd1463ed39494fa078dbc1c49f5fa9": {
      "model_module": "@jupyter-widgets/controls",
      "model_module_version": "1.5.0",
      "model_name": "DescriptionStyleModel",
      "state": {
       "_model_module": "@jupyter-widgets/controls",
       "_model_module_version": "1.5.0",
       "_model_name": "DescriptionStyleModel",
       "_view_count": null,
       "_view_module": "@jupyter-widgets/base",
       "_view_module_version": "1.2.0",
       "_view_name": "StyleView",
       "description_width": ""
      }
     },
     "38264bbdda98462d9359c6b36f77f9fd": {
      "model_module": "@jupyter-widgets/controls",
      "model_module_version": "1.5.0",
      "model_name": "ButtonModel",
      "state": {
       "_dom_classes": [],
       "_model_module": "@jupyter-widgets/controls",
       "_model_module_version": "1.5.0",
       "_model_name": "ButtonModel",
       "_view_count": null,
       "_view_module": "@jupyter-widgets/controls",
       "_view_module_version": "1.5.0",
       "_view_name": "ButtonView",
       "button_style": "",
       "description": "",
       "disabled": false,
       "icon": "compress",
       "layout": "IPY_MODEL_84b5ecffb492402a99d89847685dbbf1",
       "style": "IPY_MODEL_efc9593663f3417a8ead001009597bda",
       "tooltip": ""
      }
     },
     "40ed9d36273044d7bc7abecca4940e6a": {
      "model_module": "@jupyter-widgets/controls",
      "model_module_version": "1.5.0",
      "model_name": "HBoxModel",
      "state": {
       "_dom_classes": [],
       "_model_module": "@jupyter-widgets/controls",
       "_model_module_version": "1.5.0",
       "_model_name": "HBoxModel",
       "_view_count": null,
       "_view_module": "@jupyter-widgets/controls",
       "_view_module_version": "1.5.0",
       "_view_name": "HBoxView",
       "box_style": "",
       "children": [
        "IPY_MODEL_1d87b6461c174fac878c2853edde7112",
        "IPY_MODEL_756a79c392324fcfb92495183c1c158d"
       ],
       "layout": "IPY_MODEL_8d437691eaff4ca8a48f70e5f398ff05"
      }
     },
     "41957702f90543bb84eb7d9961380c2e": {
      "model_module": "@jupyter-widgets/base",
      "model_module_version": "1.2.0",
      "model_name": "LayoutModel",
      "state": {
       "_model_module": "@jupyter-widgets/base",
       "_model_module_version": "1.2.0",
       "_model_name": "LayoutModel",
       "_view_count": null,
       "_view_module": "@jupyter-widgets/base",
       "_view_module_version": "1.2.0",
       "_view_name": "LayoutView",
       "align_content": null,
       "align_items": null,
       "align_self": null,
       "border": null,
       "bottom": null,
       "display": null,
       "flex": null,
       "flex_flow": null,
       "grid_area": null,
       "grid_auto_columns": null,
       "grid_auto_flow": null,
       "grid_auto_rows": null,
       "grid_column": null,
       "grid_gap": null,
       "grid_row": null,
       "grid_template_areas": null,
       "grid_template_columns": null,
       "grid_template_rows": null,
       "height": null,
       "justify_content": null,
       "justify_items": null,
       "left": null,
       "margin": null,
       "max_height": null,
       "max_width": null,
       "min_height": null,
       "min_width": null,
       "object_fit": null,
       "object_position": null,
       "order": null,
       "overflow": null,
       "overflow_x": null,
       "overflow_y": null,
       "padding": null,
       "right": null,
       "top": null,
       "visibility": null,
       "width": null
      }
     },
     "42d815192b964fd1be454d3a48cfb19f": {
      "model_module": "@jupyter-widgets/controls",
      "model_module_version": "1.5.0",
      "model_name": "SliderStyleModel",
      "state": {
       "_model_module": "@jupyter-widgets/controls",
       "_model_module_version": "1.5.0",
       "_model_name": "SliderStyleModel",
       "_view_count": null,
       "_view_module": "@jupyter-widgets/base",
       "_view_module_version": "1.2.0",
       "_view_name": "StyleView",
       "description_width": "",
       "handle_color": null
      }
     },
     "4a4d70c22deb46d0aebbbf473fc5e20f": {
      "model_module": "@jupyter-widgets/controls",
      "model_module_version": "1.5.0",
      "model_name": "LinkModel",
      "state": {
       "_model_module": "@jupyter-widgets/controls",
       "_model_module_version": "1.5.0",
       "_model_name": "LinkModel",
       "_view_count": null,
       "_view_module": "@jupyter-widgets/controls",
       "_view_module_version": "1.5.0",
       "_view_name": null,
       "source": [
        "IPY_MODEL_1a13f147f15441d1aba6385d811ea1aa",
        "value"
       ],
       "target": [
        "IPY_MODEL_e02e07f01b014d4dad5446c7f76d8472",
        "value"
       ]
      }
     },
     "4c2d0efe4cad4a2eadf27ee5b0cf20f7": {
      "model_module": "@jupyter-widgets/base",
      "model_module_version": "1.2.0",
      "model_name": "LayoutModel",
      "state": {
       "_model_module": "@jupyter-widgets/base",
       "_model_module_version": "1.2.0",
       "_model_name": "LayoutModel",
       "_view_count": null,
       "_view_module": "@jupyter-widgets/base",
       "_view_module_version": "1.2.0",
       "_view_name": "LayoutView",
       "align_content": null,
       "align_items": null,
       "align_self": null,
       "border": null,
       "bottom": null,
       "display": null,
       "flex": null,
       "flex_flow": null,
       "grid_area": null,
       "grid_auto_columns": null,
       "grid_auto_flow": null,
       "grid_auto_rows": null,
       "grid_column": null,
       "grid_gap": null,
       "grid_row": null,
       "grid_template_areas": null,
       "grid_template_columns": null,
       "grid_template_rows": null,
       "height": null,
       "justify_content": null,
       "justify_items": null,
       "left": null,
       "margin": null,
       "max_height": null,
       "max_width": null,
       "min_height": null,
       "min_width": null,
       "object_fit": null,
       "object_position": null,
       "order": null,
       "overflow": null,
       "overflow_x": null,
       "overflow_y": null,
       "padding": null,
       "right": null,
       "top": null,
       "visibility": null,
       "width": "34px"
      }
     },
     "4e40814cbfbb4771a384c0f77a75bb08": {
      "model_module": "@jupyter-widgets/base",
      "model_module_version": "1.2.0",
      "model_name": "LayoutModel",
      "state": {
       "_model_module": "@jupyter-widgets/base",
       "_model_module_version": "1.2.0",
       "_model_name": "LayoutModel",
       "_view_count": null,
       "_view_module": "@jupyter-widgets/base",
       "_view_module_version": "1.2.0",
       "_view_name": "LayoutView",
       "align_content": null,
       "align_items": null,
       "align_self": null,
       "border": null,
       "bottom": null,
       "display": null,
       "flex": null,
       "flex_flow": null,
       "grid_area": null,
       "grid_auto_columns": null,
       "grid_auto_flow": null,
       "grid_auto_rows": null,
       "grid_column": null,
       "grid_gap": null,
       "grid_row": null,
       "grid_template_areas": null,
       "grid_template_columns": null,
       "grid_template_rows": null,
       "height": null,
       "justify_content": null,
       "justify_items": null,
       "left": null,
       "margin": null,
       "max_height": null,
       "max_width": null,
       "min_height": null,
       "min_width": null,
       "object_fit": null,
       "object_position": null,
       "order": null,
       "overflow": null,
       "overflow_x": null,
       "overflow_y": null,
       "padding": null,
       "right": null,
       "top": null,
       "visibility": null,
       "width": null
      }
     },
     "4ed2fe6508c74d8daa94177fab0fc748": {
      "model_module": "nglview-js-widgets",
      "model_module_version": "3.0.1",
      "model_name": "NGLModel",
      "state": {
       "_camera_orientation": [],
       "_camera_str": "orthographic",
       "_dom_classes": [],
       "_gui_theme": null,
       "_ibtn_fullscreen": "IPY_MODEL_38264bbdda98462d9359c6b36f77f9fd",
       "_igui": null,
       "_iplayer": "IPY_MODEL_a09cca70f7764a9491d4cd1bbf7f1220",
       "_model_module": "nglview-js-widgets",
       "_model_module_version": "3.0.1",
       "_model_name": "NGLModel",
       "_ngl_color_dict": {},
       "_ngl_coordinate_resource": {},
       "_ngl_full_stage_parameters": {},
       "_ngl_msg_archive": [
        {
         "args": [
          {
           "binary": false,
           "data": "REMARK   1 CREATED WITH MDTraj 1.9.7, 2022-04-06\nCRYST1    0.000    0.000    0.000   0.00   0.00   0.00 P 1           1 \nMODEL        0\nATOM      1  H9  6J2 A   1       5.424   8.108  -3.314  1.00  0.00      0    H  \nATOM      2  N1  6J2 A   1       4.914   7.339  -2.930  1.00  0.00      0    N  \nATOM      3  H8  6J2 A   1       4.308   6.777  -3.493  1.00  0.00      0    H  \nATOM      4  C9  6J2 A   1       5.042   6.928  -1.650  1.00  0.00      0    C  \nATOM      5  C8  6J2 A   1       4.854   5.564  -1.264  1.00  0.00      0    C  \nATOM      6  C7  6J2 A   1       3.670   4.790  -1.624  1.00  0.00      0    C  \nATOM      7  O1  6J2 A   1       2.954   5.144  -2.585  1.00  0.00      0    O  \nATOM      8  C5  6J2 A   1       3.347   3.484  -0.959  1.00  0.00      0    C  \nATOM      9  C4  6J2 A   1       4.256   2.926  -0.052  1.00  0.00      0    C  \nATOM     10  C3  6J2 A   1       3.928   1.716   0.570  1.00  0.00      0    C  \nATOM     11  H3  6J2 A   1       4.660   1.225   1.210  1.00  0.00      0    H  \nATOM     12  C2  6J2 A   1       2.710   1.077   0.363  1.00  0.00      0    C  \nATOM     13  H2  6J2 A   1       2.488   0.129   0.854  1.00  0.00      0    H  \nATOM     14  C1  6J2 A   1       1.778   1.664  -0.501  1.00  0.00      0    C  \nATOM     15  H1  6J2 A   1       0.800   1.206  -0.656  1.00  0.00      0    H  \nATOM     16  C6  6J2 A   1       2.114   2.848  -1.145  1.00  0.00      0    C  \nATOM     17  H4  6J2 A   1       1.370   3.300  -1.802  1.00  0.00      0    H  \nATOM     18  C14 6J2 A   1       5.475   3.686   0.306  1.00  0.00      0    C  \nATOM     19  O2  6J2 A   1       6.401   3.122   0.927  1.00  0.00      0    O  \nATOM     20  C13 6J2 A   1       5.692   5.041  -0.223  1.00  0.00      0    C  \nATOM     21  C12 6J2 A   1       6.567   5.920   0.427  1.00  0.00      0    C  \nATOM     22  O3  6J2 A   1       7.490   5.581   1.337  1.00  0.00      0    O  \nATOM     23  H7  6J2 A   1       7.409   4.590   1.442  1.00  0.00      0    H  \nATOM     24  C11 6J2 A   1       6.623   7.308   0.135  1.00  0.00      0    C  \nATOM     25  H6  6J2 A   1       7.308   7.933   0.709  1.00  0.00      0    H  \nATOM     26  C10 6J2 A   1       5.863   7.807  -0.876  1.00  0.00      0    C  \nATOM     27  H5  6J2 A   1       5.748   8.888  -0.964  1.00  0.00      0    H  \nTER      28      6J2 A   1\nENDMDL\nEND\n",
           "type": "blob"
          }
         ],
         "kwargs": {
          "defaultRepresentation": true,
          "ext": "pdb",
          "name": "nglview.adaptor.MDTrajTrajectory"
         },
         "methodName": "loadFile",
         "reconstruc_color_scheme": false,
         "target": "Stage",
         "type": "call_method"
        }
       ],
       "_ngl_original_stage_parameters": {},
       "_ngl_repr_dict": {},
       "_ngl_serialize": false,
       "_ngl_version": "",
       "_ngl_view_id": [],
       "_player_dict": {},
       "_scene_position": {},
       "_scene_rotation": {},
       "_synced_model_ids": [],
       "_synced_repr_model_ids": [],
       "_view_count": null,
       "_view_height": "",
       "_view_module": "nglview-js-widgets",
       "_view_module_version": "3.0.1",
       "_view_name": "NGLView",
       "_view_width": "",
       "background": "white",
       "frame": 0,
       "gui_style": null,
       "layout": "IPY_MODEL_37acf11469124b4c91d772aad931c639",
       "max_frame": 0,
       "n_components": 0,
       "picked": {}
      }
     },
     "53c81b29ff2c470c8794083c49b9240d": {
      "buffers": [
       {
        "data": "",
        "encoding": "base64",
        "path": [
         "value"
        ]
       }
      ],
      "model_module": "@jupyter-widgets/controls",
      "model_module_version": "1.5.0",
      "model_name": "ImageModel",
      "state": {
       "_dom_classes": [],
       "_model_module": "@jupyter-widgets/controls",
       "_model_module_version": "1.5.0",
       "_model_name": "ImageModel",
       "_view_count": null,
       "_view_module": "@jupyter-widgets/controls",
       "_view_module_version": "1.5.0",
       "_view_name": "ImageView",
       "format": "png",
       "height": "",
       "layout": "IPY_MODEL_fb135f7f5ba84f1691b7577a283494d8",
       "width": "900.0"
      }
     },
     "5be2e736d1aa4f71aa391d19357dba2a": {
      "model_module": "@jupyter-widgets/controls",
      "model_module_version": "1.5.0",
      "model_name": "ButtonModel",
      "state": {
       "_dom_classes": [],
       "_model_module": "@jupyter-widgets/controls",
       "_model_module_version": "1.5.0",
       "_model_name": "ButtonModel",
       "_view_count": null,
       "_view_module": "@jupyter-widgets/controls",
       "_view_module_version": "1.5.0",
       "_view_name": "ButtonView",
       "button_style": "",
       "description": "",
       "disabled": false,
       "icon": "compress",
       "layout": "IPY_MODEL_2c2c551f4883486f85d3fd2ed23d76c8",
       "style": "IPY_MODEL_822cacae79894e7198a10662326b143b",
       "tooltip": ""
      }
     },
     "5dcb398811a04ee08793f35bcaa52e0a": {
      "model_module": "@jupyter-widgets/base",
      "model_module_version": "1.2.0",
      "model_name": "LayoutModel",
      "state": {
       "_model_module": "@jupyter-widgets/base",
       "_model_module_version": "1.2.0",
       "_model_name": "LayoutModel",
       "_view_count": null,
       "_view_module": "@jupyter-widgets/base",
       "_view_module_version": "1.2.0",
       "_view_name": "LayoutView",
       "align_content": null,
       "align_items": null,
       "align_self": null,
       "border": null,
       "bottom": null,
       "display": null,
       "flex": null,
       "flex_flow": null,
       "grid_area": null,
       "grid_auto_columns": null,
       "grid_auto_flow": null,
       "grid_auto_rows": null,
       "grid_column": null,
       "grid_gap": null,
       "grid_row": null,
       "grid_template_areas": null,
       "grid_template_columns": null,
       "grid_template_rows": null,
       "height": null,
       "justify_content": null,
       "justify_items": null,
       "left": null,
       "margin": null,
       "max_height": null,
       "max_width": null,
       "min_height": null,
       "min_width": null,
       "object_fit": null,
       "object_position": null,
       "order": null,
       "overflow": null,
       "overflow_x": null,
       "overflow_y": null,
       "padding": null,
       "right": null,
       "top": null,
       "visibility": null,
       "width": null
      }
     },
     "62a341d8981d4b149d67f10ac4b3eefc": {
      "model_module": "@jupyter-widgets/controls",
      "model_module_version": "1.5.0",
      "model_name": "LinkModel",
      "state": {
       "_model_module": "@jupyter-widgets/controls",
       "_model_module_version": "1.5.0",
       "_model_name": "LinkModel",
       "_view_count": null,
       "_view_module": "@jupyter-widgets/controls",
       "_view_module_version": "1.5.0",
       "_view_name": null,
       "source": [
        "IPY_MODEL_1d87b6461c174fac878c2853edde7112",
        "value"
       ],
       "target": [
        "IPY_MODEL_756a79c392324fcfb92495183c1c158d",
        "value"
       ]
      }
     },
     "6b36f8f1d3ae4ed99330ab03636f498f": {
      "model_module": "@jupyter-widgets/controls",
      "model_module_version": "1.5.0",
      "model_name": "LinkModel",
      "state": {
       "_model_module": "@jupyter-widgets/controls",
       "_model_module_version": "1.5.0",
       "_model_name": "LinkModel",
       "_view_count": null,
       "_view_module": "@jupyter-widgets/controls",
       "_view_module_version": "1.5.0",
       "_view_name": null,
       "source": [
        "IPY_MODEL_03ae053c9cc5420cb522d143cc4af257",
        "value"
       ],
       "target": [
        "IPY_MODEL_9f61bdbf237b43a0aa9b22f862be7a10",
        "value"
       ]
      }
     },
     "6e0cb89126b242b98ee7f6f42acdb97b": {
      "model_module": "@jupyter-widgets/controls",
      "model_module_version": "1.5.0",
      "model_name": "DescriptionStyleModel",
      "state": {
       "_model_module": "@jupyter-widgets/controls",
       "_model_module_version": "1.5.0",
       "_model_name": "DescriptionStyleModel",
       "_view_count": null,
       "_view_module": "@jupyter-widgets/base",
       "_view_module_version": "1.2.0",
       "_view_name": "StyleView",
       "description_width": ""
      }
     },
     "6fdd59cd9a1f46469ea1e04bcf7b235c": {
      "model_module": "@jupyter-widgets/base",
      "model_module_version": "1.2.0",
      "model_name": "LayoutModel",
      "state": {
       "_model_module": "@jupyter-widgets/base",
       "_model_module_version": "1.2.0",
       "_model_name": "LayoutModel",
       "_view_count": null,
       "_view_module": "@jupyter-widgets/base",
       "_view_module_version": "1.2.0",
       "_view_name": "LayoutView",
       "align_content": null,
       "align_items": null,
       "align_self": null,
       "border": null,
       "bottom": null,
       "display": null,
       "flex": null,
       "flex_flow": null,
       "grid_area": null,
       "grid_auto_columns": null,
       "grid_auto_flow": null,
       "grid_auto_rows": null,
       "grid_column": null,
       "grid_gap": null,
       "grid_row": null,
       "grid_template_areas": null,
       "grid_template_columns": null,
       "grid_template_rows": null,
       "height": null,
       "justify_content": null,
       "justify_items": null,
       "left": null,
       "margin": null,
       "max_height": null,
       "max_width": null,
       "min_height": null,
       "min_width": null,
       "object_fit": null,
       "object_position": null,
       "order": null,
       "overflow": null,
       "overflow_x": null,
       "overflow_y": null,
       "padding": null,
       "right": null,
       "top": null,
       "visibility": null,
       "width": null
      }
     },
     "72ae72b12ef34fadbbeaabab14786bc7": {
      "model_module": "@jupyter-widgets/controls",
      "model_module_version": "1.5.0",
      "model_name": "ButtonStyleModel",
      "state": {
       "_model_module": "@jupyter-widgets/controls",
       "_model_module_version": "1.5.0",
       "_model_name": "ButtonStyleModel",
       "_view_count": null,
       "_view_module": "@jupyter-widgets/base",
       "_view_module_version": "1.2.0",
       "_view_name": "StyleView",
       "button_color": null,
       "font_weight": ""
      }
     },
     "7370222b49624e49a7947836e18ebb0b": {
      "model_module": "@jupyter-widgets/controls",
      "model_module_version": "1.5.0",
      "model_name": "SliderStyleModel",
      "state": {
       "_model_module": "@jupyter-widgets/controls",
       "_model_module_version": "1.5.0",
       "_model_name": "SliderStyleModel",
       "_view_count": null,
       "_view_module": "@jupyter-widgets/base",
       "_view_module_version": "1.2.0",
       "_view_name": "StyleView",
       "description_width": "",
       "handle_color": null
      }
     },
     "73d02a257b2049089adf6450946fbd15": {
      "model_module": "@jupyter-widgets/controls",
      "model_module_version": "1.5.0",
      "model_name": "LinkModel",
      "state": {
       "_model_module": "@jupyter-widgets/controls",
       "_model_module_version": "1.5.0",
       "_model_name": "LinkModel",
       "_view_count": null,
       "_view_module": "@jupyter-widgets/controls",
       "_view_module_version": "1.5.0",
       "_view_name": null,
       "source": [
        "IPY_MODEL_03ae053c9cc5420cb522d143cc4af257",
        "value"
       ],
       "target": [
        "IPY_MODEL_4ed2fe6508c74d8daa94177fab0fc748",
        "frame"
       ]
      }
     },
     "7512da14d2884974b0a0478290944fd2": {
      "model_module": "@jupyter-widgets/base",
      "model_module_version": "1.2.0",
      "model_name": "LayoutModel",
      "state": {
       "_model_module": "@jupyter-widgets/base",
       "_model_module_version": "1.2.0",
       "_model_name": "LayoutModel",
       "_view_count": null,
       "_view_module": "@jupyter-widgets/base",
       "_view_module_version": "1.2.0",
       "_view_name": "LayoutView",
       "align_content": null,
       "align_items": null,
       "align_self": null,
       "border": null,
       "bottom": null,
       "display": null,
       "flex": null,
       "flex_flow": null,
       "grid_area": null,
       "grid_auto_columns": null,
       "grid_auto_flow": null,
       "grid_auto_rows": null,
       "grid_column": null,
       "grid_gap": null,
       "grid_row": null,
       "grid_template_areas": null,
       "grid_template_columns": null,
       "grid_template_rows": null,
       "height": null,
       "justify_content": null,
       "justify_items": null,
       "left": null,
       "margin": null,
       "max_height": null,
       "max_width": null,
       "min_height": null,
       "min_width": null,
       "object_fit": null,
       "object_position": null,
       "order": null,
       "overflow": null,
       "overflow_x": null,
       "overflow_y": null,
       "padding": null,
       "right": null,
       "top": null,
       "visibility": null,
       "width": null
      }
     },
     "756a79c392324fcfb92495183c1c158d": {
      "model_module": "@jupyter-widgets/controls",
      "model_module_version": "1.5.0",
      "model_name": "IntSliderModel",
      "state": {
       "_dom_classes": [],
       "_model_module": "@jupyter-widgets/controls",
       "_model_module_version": "1.5.0",
       "_model_name": "IntSliderModel",
       "_view_count": null,
       "_view_module": "@jupyter-widgets/controls",
       "_view_module_version": "1.5.0",
       "_view_name": "IntSliderView",
       "continuous_update": true,
       "description": "",
       "description_tooltip": null,
       "disabled": false,
       "layout": "IPY_MODEL_f22099508aa14b07b578c7de5b3d4a89",
       "max": 0,
       "min": 0,
       "orientation": "horizontal",
       "readout": true,
       "readout_format": "d",
       "step": 1,
       "style": "IPY_MODEL_42d815192b964fd1be454d3a48cfb19f",
       "value": 0
      }
     },
     "79acaaa28475486da409ff07dd23e659": {
      "model_module": "@jupyter-widgets/base",
      "model_module_version": "1.2.0",
      "model_name": "LayoutModel",
      "state": {
       "_model_module": "@jupyter-widgets/base",
       "_model_module_version": "1.2.0",
       "_model_name": "LayoutModel",
       "_view_count": null,
       "_view_module": "@jupyter-widgets/base",
       "_view_module_version": "1.2.0",
       "_view_name": "LayoutView",
       "align_content": null,
       "align_items": null,
       "align_self": null,
       "border": null,
       "bottom": null,
       "display": null,
       "flex": null,
       "flex_flow": null,
       "grid_area": null,
       "grid_auto_columns": null,
       "grid_auto_flow": null,
       "grid_auto_rows": null,
       "grid_column": null,
       "grid_gap": null,
       "grid_row": null,
       "grid_template_areas": null,
       "grid_template_columns": null,
       "grid_template_rows": null,
       "height": null,
       "justify_content": null,
       "justify_items": null,
       "left": null,
       "margin": null,
       "max_height": null,
       "max_width": null,
       "min_height": null,
       "min_width": null,
       "object_fit": null,
       "object_position": null,
       "order": null,
       "overflow": null,
       "overflow_x": null,
       "overflow_y": null,
       "padding": null,
       "right": null,
       "top": null,
       "visibility": null,
       "width": null
      }
     },
     "7f0944e60443414f9af8402bebd34247": {
      "buffers": [
       {
        "data": "",
        "encoding": "base64",
        "path": [
         "value"
        ]
       }
      ],
      "model_module": "@jupyter-widgets/controls",
      "model_module_version": "1.5.0",
      "model_name": "ImageModel",
      "state": {
       "_dom_classes": [],
       "_model_module": "@jupyter-widgets/controls",
       "_model_module_version": "1.5.0",
       "_model_name": "ImageModel",
       "_view_count": null,
       "_view_module": "@jupyter-widgets/controls",
       "_view_module_version": "1.5.0",
       "_view_name": "ImageView",
       "format": "png",
       "height": "",
       "layout": "IPY_MODEL_fb6753b69a1042ba9ef07498bbe90009",
       "width": "900.0"
      }
     },
     "822cacae79894e7198a10662326b143b": {
      "model_module": "@jupyter-widgets/controls",
      "model_module_version": "1.5.0",
      "model_name": "ButtonStyleModel",
      "state": {
       "_model_module": "@jupyter-widgets/controls",
       "_model_module_version": "1.5.0",
       "_model_name": "ButtonStyleModel",
       "_view_count": null,
       "_view_module": "@jupyter-widgets/base",
       "_view_module_version": "1.2.0",
       "_view_name": "StyleView",
       "button_color": null,
       "font_weight": ""
      }
     },
     "84b5ecffb492402a99d89847685dbbf1": {
      "model_module": "@jupyter-widgets/base",
      "model_module_version": "1.2.0",
      "model_name": "LayoutModel",
      "state": {
       "_model_module": "@jupyter-widgets/base",
       "_model_module_version": "1.2.0",
       "_model_name": "LayoutModel",
       "_view_count": null,
       "_view_module": "@jupyter-widgets/base",
       "_view_module_version": "1.2.0",
       "_view_name": "LayoutView",
       "align_content": null,
       "align_items": null,
       "align_self": null,
       "border": null,
       "bottom": null,
       "display": null,
       "flex": null,
       "flex_flow": null,
       "grid_area": null,
       "grid_auto_columns": null,
       "grid_auto_flow": null,
       "grid_auto_rows": null,
       "grid_column": null,
       "grid_gap": null,
       "grid_row": null,
       "grid_template_areas": null,
       "grid_template_columns": null,
       "grid_template_rows": null,
       "height": null,
       "justify_content": null,
       "justify_items": null,
       "left": null,
       "margin": null,
       "max_height": null,
       "max_width": null,
       "min_height": null,
       "min_width": null,
       "object_fit": null,
       "object_position": null,
       "order": null,
       "overflow": null,
       "overflow_x": null,
       "overflow_y": null,
       "padding": null,
       "right": null,
       "top": null,
       "visibility": null,
       "width": "34px"
      }
     },
     "8655edbb220f45e994b2e59278f4a1a0": {
      "model_module": "@jupyter-widgets/controls",
      "model_module_version": "1.5.0",
      "model_name": "HBoxModel",
      "state": {
       "_dom_classes": [],
       "_model_module": "@jupyter-widgets/controls",
       "_model_module_version": "1.5.0",
       "_model_name": "HBoxModel",
       "_view_count": null,
       "_view_module": "@jupyter-widgets/controls",
       "_view_module_version": "1.5.0",
       "_view_name": "HBoxView",
       "box_style": "",
       "children": [
        "IPY_MODEL_1a13f147f15441d1aba6385d811ea1aa",
        "IPY_MODEL_e02e07f01b014d4dad5446c7f76d8472"
       ],
       "layout": "IPY_MODEL_326080f0a8cd40e5b7c746a3805a72c8"
      }
     },
     "89165de4a4b6459a9b49e50660e1b800": {
      "model_module": "@jupyter-widgets/controls",
      "model_module_version": "1.5.0",
      "model_name": "LinkModel",
      "state": {
       "_model_module": "@jupyter-widgets/controls",
       "_model_module_version": "1.5.0",
       "_model_name": "LinkModel",
       "_view_count": null,
       "_view_module": "@jupyter-widgets/controls",
       "_view_module_version": "1.5.0",
       "_view_name": null,
       "source": [
        "IPY_MODEL_756a79c392324fcfb92495183c1c158d",
        "max"
       ],
       "target": [
        "IPY_MODEL_9864824eb1644db7ac92cfb8a20be13e",
        "max_frame"
       ]
      }
     },
     "8d437691eaff4ca8a48f70e5f398ff05": {
      "model_module": "@jupyter-widgets/base",
      "model_module_version": "1.2.0",
      "model_name": "LayoutModel",
      "state": {
       "_model_module": "@jupyter-widgets/base",
       "_model_module_version": "1.2.0",
       "_model_name": "LayoutModel",
       "_view_count": null,
       "_view_module": "@jupyter-widgets/base",
       "_view_module_version": "1.2.0",
       "_view_name": "LayoutView",
       "align_content": null,
       "align_items": null,
       "align_self": null,
       "border": null,
       "bottom": null,
       "display": null,
       "flex": null,
       "flex_flow": null,
       "grid_area": null,
       "grid_auto_columns": null,
       "grid_auto_flow": null,
       "grid_auto_rows": null,
       "grid_column": null,
       "grid_gap": null,
       "grid_row": null,
       "grid_template_areas": null,
       "grid_template_columns": null,
       "grid_template_rows": null,
       "height": null,
       "justify_content": null,
       "justify_items": null,
       "left": null,
       "margin": null,
       "max_height": null,
       "max_width": null,
       "min_height": null,
       "min_width": null,
       "object_fit": null,
       "object_position": null,
       "order": null,
       "overflow": null,
       "overflow_x": null,
       "overflow_y": null,
       "padding": null,
       "right": null,
       "top": null,
       "visibility": null,
       "width": null
      }
     },
     "9864824eb1644db7ac92cfb8a20be13e": {
      "model_module": "nglview-js-widgets",
      "model_module_version": "3.0.1",
      "model_name": "NGLModel",
      "state": {
       "_camera_orientation": [],
       "_camera_str": "orthographic",
       "_dom_classes": [],
       "_gui_theme": null,
       "_ibtn_fullscreen": "IPY_MODEL_dba2f24ace7949e4a6adcb47ea25ee96",
       "_igui": null,
       "_iplayer": "IPY_MODEL_40ed9d36273044d7bc7abecca4940e6a",
       "_model_module": "nglview-js-widgets",
       "_model_module_version": "3.0.1",
       "_model_name": "NGLModel",
       "_ngl_color_dict": {},
       "_ngl_coordinate_resource": {},
       "_ngl_full_stage_parameters": {},
       "_ngl_msg_archive": [
        {
         "args": [
          {
           "binary": false,
           "data": "REMARK   1 CREATED WITH MDTraj 1.9.7, 2022-04-06\nCRYST1    0.000    0.000    0.000   0.00   0.00   0.00 P 1           1 \nMODEL        0\nATOM      1  H9  6J2 A   1       3.175   3.237  -0.033  1.00  0.00      0    H  \nATOM      2  N1  6J2 A   1       2.274   2.782   0.001  1.00  0.00      0    N  \nATOM      3  H8  6J2 A   1       1.417   3.322   0.002  1.00  0.00      0    H  \nATOM      4  C9  6J2 A   1       2.181   1.431  -0.006  1.00  0.00      0    C  \nATOM      5  C8  6J2 A   1       0.938   0.743   0.007  1.00  0.00      0    C  \nATOM      6  C7  6J2 A   1      -0.318   1.485   0.014  1.00  0.00      0    C  \nATOM      7  O1  6J2 A   1      -0.367   2.733   0.020  1.00  0.00      0    O  \nATOM      8  C5  6J2 A   1      -1.593   0.713   0.009  1.00  0.00      0    C  \nATOM      9  C4  6J2 A   1      -1.598  -0.697   0.005  1.00  0.00      0    C  \nATOM     10  C3  6J2 A   1      -2.816  -1.392  -0.010  1.00  0.00      0    C  \nATOM     11  H3  6J2 A   1      -2.797  -2.477  -0.015  1.00  0.00      0    H  \nATOM     12  C2  6J2 A   1      -4.020  -0.695  -0.024  1.00  0.00      0    C  \nATOM     13  H2  6J2 A   1      -4.961  -1.237  -0.042  1.00  0.00      0    H  \nATOM     14  C1  6J2 A   1      -4.017   0.707  -0.017  1.00  0.00      0    C  \nATOM     15  H1  6J2 A   1      -4.957   1.252  -0.027  1.00  0.00      0    H  \nATOM     16  C6  6J2 A   1      -2.812   1.404   0.002  1.00  0.00      0    C  \nATOM     17  H4  6J2 A   1      -2.792   2.489   0.008  1.00  0.00      0    H  \nATOM     18  C14 6J2 A   1      -0.327  -1.447   0.013  1.00  0.00      0    C  \nATOM     19  O2  6J2 A   1      -0.341  -2.702   0.018  1.00  0.00      0    O  \nATOM     20  C13 6J2 A   1       0.928  -0.697   0.008  1.00  0.00      0    C  \nATOM     21  C12 6J2 A   1       2.139  -1.413  -0.001  1.00  0.00      0    C  \nATOM     22  O3  6J2 A   1       2.203  -2.755   0.006  1.00  0.00      0    O  \nATOM     23  H7  6J2 A   1       1.255  -3.073   0.013  1.00  0.00      0    H  \nATOM     24  C11 6J2 A   1       3.368  -0.707  -0.022  1.00  0.00      0    C  \nATOM     25  H6  6J2 A   1       4.290  -1.279  -0.035  1.00  0.00      0    H  \nATOM     26  C10 6J2 A   1       3.387   0.662  -0.024  1.00  0.00      0    C  \nATOM     27  H5  6J2 A   1       4.336   1.191  -0.038  1.00  0.00      0    H  \nTER      28      6J2 A   1\nENDMDL\nEND\n",
           "type": "blob"
          }
         ],
         "kwargs": {
          "defaultRepresentation": true,
          "ext": "pdb",
          "name": "nglview.adaptor.MDTrajTrajectory"
         },
         "methodName": "loadFile",
         "reconstruc_color_scheme": false,
         "target": "Stage",
         "type": "call_method"
        }
       ],
       "_ngl_original_stage_parameters": {},
       "_ngl_repr_dict": {},
       "_ngl_serialize": false,
       "_ngl_version": "",
       "_ngl_view_id": [],
       "_player_dict": {},
       "_scene_position": {},
       "_scene_rotation": {},
       "_synced_model_ids": [],
       "_synced_repr_model_ids": [],
       "_view_count": null,
       "_view_height": "",
       "_view_module": "nglview-js-widgets",
       "_view_module_version": "3.0.1",
       "_view_name": "NGLView",
       "_view_width": "",
       "background": "white",
       "frame": 0,
       "gui_style": null,
       "layout": "IPY_MODEL_7512da14d2884974b0a0478290944fd2",
       "max_frame": 0,
       "n_components": 0,
       "picked": {}
      }
     },
     "9f61bdbf237b43a0aa9b22f862be7a10": {
      "model_module": "@jupyter-widgets/controls",
      "model_module_version": "1.5.0",
      "model_name": "IntSliderModel",
      "state": {
       "_dom_classes": [],
       "_model_module": "@jupyter-widgets/controls",
       "_model_module_version": "1.5.0",
       "_model_name": "IntSliderModel",
       "_view_count": null,
       "_view_module": "@jupyter-widgets/controls",
       "_view_module_version": "1.5.0",
       "_view_name": "IntSliderView",
       "continuous_update": true,
       "description": "",
       "description_tooltip": null,
       "disabled": false,
       "layout": "IPY_MODEL_41957702f90543bb84eb7d9961380c2e",
       "max": 0,
       "min": 0,
       "orientation": "horizontal",
       "readout": true,
       "readout_format": "d",
       "step": 1,
       "style": "IPY_MODEL_30933fddc4274f86981190fc49c49631",
       "value": 0
      }
     },
     "a09cca70f7764a9491d4cd1bbf7f1220": {
      "model_module": "@jupyter-widgets/controls",
      "model_module_version": "1.5.0",
      "model_name": "HBoxModel",
      "state": {
       "_dom_classes": [],
       "_model_module": "@jupyter-widgets/controls",
       "_model_module_version": "1.5.0",
       "_model_name": "HBoxModel",
       "_view_count": null,
       "_view_module": "@jupyter-widgets/controls",
       "_view_module_version": "1.5.0",
       "_view_name": "HBoxView",
       "box_style": "",
       "children": [
        "IPY_MODEL_03ae053c9cc5420cb522d143cc4af257",
        "IPY_MODEL_9f61bdbf237b43a0aa9b22f862be7a10"
       ],
       "layout": "IPY_MODEL_79acaaa28475486da409ff07dd23e659"
      }
     },
     "a585e2e310f84b8586e0efa3f67cb9b1": {
      "model_module": "@jupyter-widgets/base",
      "model_module_version": "1.2.0",
      "model_name": "LayoutModel",
      "state": {
       "_model_module": "@jupyter-widgets/base",
       "_model_module_version": "1.2.0",
       "_model_name": "LayoutModel",
       "_view_count": null,
       "_view_module": "@jupyter-widgets/base",
       "_view_module_version": "1.2.0",
       "_view_name": "LayoutView",
       "align_content": null,
       "align_items": null,
       "align_self": null,
       "border": null,
       "bottom": null,
       "display": null,
       "flex": null,
       "flex_flow": null,
       "grid_area": null,
       "grid_auto_columns": null,
       "grid_auto_flow": null,
       "grid_auto_rows": null,
       "grid_column": null,
       "grid_gap": null,
       "grid_row": null,
       "grid_template_areas": null,
       "grid_template_columns": null,
       "grid_template_rows": null,
       "height": null,
       "justify_content": null,
       "justify_items": null,
       "left": null,
       "margin": null,
       "max_height": null,
       "max_width": null,
       "min_height": null,
       "min_width": null,
       "object_fit": null,
       "object_position": null,
       "order": null,
       "overflow": null,
       "overflow_x": null,
       "overflow_y": null,
       "padding": null,
       "right": null,
       "top": null,
       "visibility": null,
       "width": null
      }
     },
     "ab205531ff25445fb463d6c199337d7b": {
      "model_module": "@jupyter-widgets/base",
      "model_module_version": "1.2.0",
      "model_name": "LayoutModel",
      "state": {
       "_model_module": "@jupyter-widgets/base",
       "_model_module_version": "1.2.0",
       "_model_name": "LayoutModel",
       "_view_count": null,
       "_view_module": "@jupyter-widgets/base",
       "_view_module_version": "1.2.0",
       "_view_name": "LayoutView",
       "align_content": null,
       "align_items": null,
       "align_self": null,
       "border": null,
       "bottom": null,
       "display": null,
       "flex": null,
       "flex_flow": null,
       "grid_area": null,
       "grid_auto_columns": null,
       "grid_auto_flow": null,
       "grid_auto_rows": null,
       "grid_column": null,
       "grid_gap": null,
       "grid_row": null,
       "grid_template_areas": null,
       "grid_template_columns": null,
       "grid_template_rows": null,
       "height": null,
       "justify_content": null,
       "justify_items": null,
       "left": null,
       "margin": null,
       "max_height": null,
       "max_width": null,
       "min_height": null,
       "min_width": null,
       "object_fit": null,
       "object_position": null,
       "order": null,
       "overflow": null,
       "overflow_x": null,
       "overflow_y": null,
       "padding": null,
       "right": null,
       "top": null,
       "visibility": null,
       "width": null
      }
     },
     "ab20a2afa0bf4568976558de0bd858f5": {
      "model_module": "@jupyter-widgets/controls",
      "model_module_version": "1.5.0",
      "model_name": "LinkModel",
      "state": {
       "_model_module": "@jupyter-widgets/controls",
       "_model_module_version": "1.5.0",
       "_model_name": "LinkModel",
       "_view_count": null,
       "_view_module": "@jupyter-widgets/controls",
       "_view_module_version": "1.5.0",
       "_view_name": null,
       "source": [
        "IPY_MODEL_1a13f147f15441d1aba6385d811ea1aa",
        "value"
       ],
       "target": [
        "IPY_MODEL_b8f90497225244c4942fcda20288d636",
        "frame"
       ]
      }
     },
     "ad74dd3595b14c8db5fdbe4f5881571c": {
      "model_module": "@jupyter-widgets/controls",
      "model_module_version": "1.5.0",
      "model_name": "LinkModel",
      "state": {
       "_model_module": "@jupyter-widgets/controls",
       "_model_module_version": "1.5.0",
       "_model_name": "LinkModel",
       "_view_count": null,
       "_view_module": "@jupyter-widgets/controls",
       "_view_module_version": "1.5.0",
       "_view_name": null,
       "source": [
        "IPY_MODEL_1a13f147f15441d1aba6385d811ea1aa",
        "max"
       ],
       "target": [
        "IPY_MODEL_b8f90497225244c4942fcda20288d636",
        "max_frame"
       ]
      }
     },
     "b8f90497225244c4942fcda20288d636": {
      "model_module": "nglview-js-widgets",
      "model_module_version": "3.0.1",
      "model_name": "NGLModel",
      "state": {
       "_camera_orientation": [],
       "_camera_str": "orthographic",
       "_dom_classes": [],
       "_gui_theme": null,
       "_ibtn_fullscreen": "IPY_MODEL_5be2e736d1aa4f71aa391d19357dba2a",
       "_igui": null,
       "_iplayer": "IPY_MODEL_8655edbb220f45e994b2e59278f4a1a0",
       "_model_module": "nglview-js-widgets",
       "_model_module_version": "3.0.1",
       "_model_name": "NGLModel",
       "_ngl_color_dict": {},
       "_ngl_coordinate_resource": {},
       "_ngl_full_stage_parameters": {},
       "_ngl_msg_archive": [
        {
         "args": [
          {
           "binary": false,
           "data": "REMARK   1 CREATED WITH MDTraj 1.9.7, 2022-04-06\nCRYST1    0.000    0.000    0.000   0.00   0.00   0.00 P 1           1 \nMODEL        0\nATOM      1  H9  6J2 A   1       4.496   4.634  -1.199  1.00  0.00      0    H  \nATOM      2  N1  6J2 A   1       3.725   4.139  -0.797  1.00  0.00      0    N  \nATOM      3  H8  6J2 A   1       2.787   4.477  -0.865  1.00  0.00      0    H  \nATOM      4  C9  6J2 A   1       3.863   2.960  -0.154  1.00  0.00      0    C  \nATOM      5  C8  6J2 A   1       2.835   1.968  -0.092  1.00  0.00      0    C  \nATOM      6  C7  6J2 A   1       1.414   2.274   0.046  1.00  0.00      0    C  \nATOM      7  O1  6J2 A   1       1.055   3.440   0.319  1.00  0.00      0    O  \nATOM      8  C5  6J2 A   1       0.375   1.193   0.086  1.00  0.00      0    C  \nATOM      9  C4  6J2 A   1       0.769  -0.148   0.005  1.00  0.00      0    C  \nATOM     10  C3  6J2 A   1      -0.226  -1.132  -0.036  1.00  0.00      0    C  \nATOM     11  H3  6J2 A   1       0.058  -2.183  -0.083  1.00  0.00      0    H  \nATOM     12  C2  6J2 A   1      -1.583  -0.827  -0.044  1.00  0.00      0    C  \nATOM     13  H2  6J2 A   1      -2.331  -1.618  -0.092  1.00  0.00      0    H  \nATOM     14  C1  6J2 A   1      -1.976   0.515   0.025  1.00  0.00      0    C  \nATOM     15  H1  6J2 A   1      -3.031   0.787   0.022  1.00  0.00      0    H  \nATOM     16  C6  6J2 A   1      -0.992   1.495   0.077  1.00  0.00      0    C  \nATOM     17  H4  6J2 A   1      -1.313   2.534   0.151  1.00  0.00      0    H  \nATOM     18  C14 6J2 A   1       2.212  -0.477  -0.021  1.00  0.00      0    C  \nATOM     19  O2  6J2 A   1       2.572  -1.672  -0.095  1.00  0.00      0    O  \nATOM     20  C13 6J2 A   1       3.226   0.588  -0.046  1.00  0.00      0    C  \nATOM     21  C12 6J2 A   1       4.590   0.301   0.091  1.00  0.00      0    C  \nATOM     22  O3  6J2 A   1       5.152  -0.915   0.069  1.00  0.00      0    O  \nATOM     23  H7  6J2 A   1       4.387  -1.555  -0.005  1.00  0.00      0    H  \nATOM     24  C11 6J2 A   1       5.589   1.307   0.174  1.00  0.00      0    C  \nATOM     25  H6  6J2 A   1       6.627   0.999   0.301  1.00  0.00      0    H  \nATOM     26  C10 6J2 A   1       5.231   2.616   0.080  1.00  0.00      0    C  \nATOM     27  H5  6J2 A   1       5.959   3.380   0.355  1.00  0.00      0    H  \nTER      28      6J2 A   1\nENDMDL\nEND\n",
           "type": "blob"
          }
         ],
         "kwargs": {
          "defaultRepresentation": true,
          "ext": "pdb",
          "name": "nglview.adaptor.MDTrajTrajectory"
         },
         "methodName": "loadFile",
         "reconstruc_color_scheme": false,
         "target": "Stage",
         "type": "call_method"
        }
       ],
       "_ngl_original_stage_parameters": {},
       "_ngl_repr_dict": {},
       "_ngl_serialize": false,
       "_ngl_version": "",
       "_ngl_view_id": [],
       "_player_dict": {},
       "_scene_position": {},
       "_scene_rotation": {},
       "_synced_model_ids": [],
       "_synced_repr_model_ids": [],
       "_view_count": null,
       "_view_height": "",
       "_view_module": "nglview-js-widgets",
       "_view_module_version": "3.0.1",
       "_view_name": "NGLView",
       "_view_width": "",
       "background": "white",
       "frame": 0,
       "gui_style": null,
       "layout": "IPY_MODEL_5dcb398811a04ee08793f35bcaa52e0a",
       "max_frame": 0,
       "n_components": 0,
       "picked": {}
      }
     },
     "dba2f24ace7949e4a6adcb47ea25ee96": {
      "model_module": "@jupyter-widgets/controls",
      "model_module_version": "1.5.0",
      "model_name": "ButtonModel",
      "state": {
       "_dom_classes": [],
       "_model_module": "@jupyter-widgets/controls",
       "_model_module_version": "1.5.0",
       "_model_name": "ButtonModel",
       "_view_count": null,
       "_view_module": "@jupyter-widgets/controls",
       "_view_module_version": "1.5.0",
       "_view_name": "ButtonView",
       "button_style": "",
       "description": "",
       "disabled": false,
       "icon": "compress",
       "layout": "IPY_MODEL_4c2d0efe4cad4a2eadf27ee5b0cf20f7",
       "style": "IPY_MODEL_72ae72b12ef34fadbbeaabab14786bc7",
       "tooltip": ""
      }
     },
     "e02e07f01b014d4dad5446c7f76d8472": {
      "model_module": "@jupyter-widgets/controls",
      "model_module_version": "1.5.0",
      "model_name": "IntSliderModel",
      "state": {
       "_dom_classes": [],
       "_model_module": "@jupyter-widgets/controls",
       "_model_module_version": "1.5.0",
       "_model_name": "IntSliderModel",
       "_view_count": null,
       "_view_module": "@jupyter-widgets/controls",
       "_view_module_version": "1.5.0",
       "_view_name": "IntSliderView",
       "continuous_update": true,
       "description": "",
       "description_tooltip": null,
       "disabled": false,
       "layout": "IPY_MODEL_a585e2e310f84b8586e0efa3f67cb9b1",
       "max": 0,
       "min": 0,
       "orientation": "horizontal",
       "readout": true,
       "readout_format": "d",
       "step": 1,
       "style": "IPY_MODEL_7370222b49624e49a7947836e18ebb0b",
       "value": 0
      }
     },
     "e1d2b1b7cdcd482ea3f4bc2281b554ae": {
      "model_module": "@jupyter-widgets/controls",
      "model_module_version": "1.5.0",
      "model_name": "LinkModel",
      "state": {
       "_model_module": "@jupyter-widgets/controls",
       "_model_module_version": "1.5.0",
       "_model_name": "LinkModel",
       "_view_count": null,
       "_view_module": "@jupyter-widgets/controls",
       "_view_module_version": "1.5.0",
       "_view_name": null,
       "source": [
        "IPY_MODEL_e02e07f01b014d4dad5446c7f76d8472",
        "max"
       ],
       "target": [
        "IPY_MODEL_b8f90497225244c4942fcda20288d636",
        "max_frame"
       ]
      }
     },
     "e2d5c87dc2924692bb50316202592330": {
      "model_module": "nglview-js-widgets",
      "model_module_version": "3.0.1",
      "model_name": "ColormakerRegistryModel",
      "state": {
       "_dom_classes": [],
       "_model_module": "nglview-js-widgets",
       "_model_module_version": "3.0.1",
       "_model_name": "ColormakerRegistryModel",
       "_msg_ar": [],
       "_msg_q": [],
       "_ready": false,
       "_view_count": null,
       "_view_module": "nglview-js-widgets",
       "_view_module_version": "3.0.1",
       "_view_name": "ColormakerRegistryView",
       "layout": "IPY_MODEL_ab205531ff25445fb463d6c199337d7b"
      }
     },
     "e45178d0a32d4b7b9cba575e3ecaa7ce": {
      "model_module": "@jupyter-widgets/controls",
      "model_module_version": "1.5.0",
      "model_name": "LinkModel",
      "state": {
       "_model_module": "@jupyter-widgets/controls",
       "_model_module_version": "1.5.0",
       "_model_name": "LinkModel",
       "_view_count": null,
       "_view_module": "@jupyter-widgets/controls",
       "_view_module_version": "1.5.0",
       "_view_name": null,
       "source": [
        "IPY_MODEL_1d87b6461c174fac878c2853edde7112",
        "max"
       ],
       "target": [
        "IPY_MODEL_9864824eb1644db7ac92cfb8a20be13e",
        "max_frame"
       ]
      }
     },
     "efc9593663f3417a8ead001009597bda": {
      "model_module": "@jupyter-widgets/controls",
      "model_module_version": "1.5.0",
      "model_name": "ButtonStyleModel",
      "state": {
       "_model_module": "@jupyter-widgets/controls",
       "_model_module_version": "1.5.0",
       "_model_name": "ButtonStyleModel",
       "_view_count": null,
       "_view_module": "@jupyter-widgets/base",
       "_view_module_version": "1.2.0",
       "_view_name": "StyleView",
       "button_color": null,
       "font_weight": ""
      }
     },
     "f0a5c0b8c40e46d8a5f5c808de12a24b": {
      "model_module": "@jupyter-widgets/base",
      "model_module_version": "1.2.0",
      "model_name": "LayoutModel",
      "state": {
       "_model_module": "@jupyter-widgets/base",
       "_model_module_version": "1.2.0",
       "_model_name": "LayoutModel",
       "_view_count": null,
       "_view_module": "@jupyter-widgets/base",
       "_view_module_version": "1.2.0",
       "_view_name": "LayoutView",
       "align_content": null,
       "align_items": null,
       "align_self": null,
       "border": null,
       "bottom": null,
       "display": null,
       "flex": null,
       "flex_flow": null,
       "grid_area": null,
       "grid_auto_columns": null,
       "grid_auto_flow": null,
       "grid_auto_rows": null,
       "grid_column": null,
       "grid_gap": null,
       "grid_row": null,
       "grid_template_areas": null,
       "grid_template_columns": null,
       "grid_template_rows": null,
       "height": null,
       "justify_content": null,
       "justify_items": null,
       "left": null,
       "margin": null,
       "max_height": null,
       "max_width": null,
       "min_height": null,
       "min_width": null,
       "object_fit": null,
       "object_position": null,
       "order": null,
       "overflow": null,
       "overflow_x": null,
       "overflow_y": null,
       "padding": null,
       "right": null,
       "top": null,
       "visibility": null,
       "width": null
      }
     },
     "f22099508aa14b07b578c7de5b3d4a89": {
      "model_module": "@jupyter-widgets/base",
      "model_module_version": "1.2.0",
      "model_name": "LayoutModel",
      "state": {
       "_model_module": "@jupyter-widgets/base",
       "_model_module_version": "1.2.0",
       "_model_name": "LayoutModel",
       "_view_count": null,
       "_view_module": "@jupyter-widgets/base",
       "_view_module_version": "1.2.0",
       "_view_name": "LayoutView",
       "align_content": null,
       "align_items": null,
       "align_self": null,
       "border": null,
       "bottom": null,
       "display": null,
       "flex": null,
       "flex_flow": null,
       "grid_area": null,
       "grid_auto_columns": null,
       "grid_auto_flow": null,
       "grid_auto_rows": null,
       "grid_column": null,
       "grid_gap": null,
       "grid_row": null,
       "grid_template_areas": null,
       "grid_template_columns": null,
       "grid_template_rows": null,
       "height": null,
       "justify_content": null,
       "justify_items": null,
       "left": null,
       "margin": null,
       "max_height": null,
       "max_width": null,
       "min_height": null,
       "min_width": null,
       "object_fit": null,
       "object_position": null,
       "order": null,
       "overflow": null,
       "overflow_x": null,
       "overflow_y": null,
       "padding": null,
       "right": null,
       "top": null,
       "visibility": null,
       "width": null
      }
     },
     "f2851f4f92ea4044bf5cd9bb038862ac": {
      "model_module": "@jupyter-widgets/controls",
      "model_module_version": "1.5.0",
      "model_name": "LinkModel",
      "state": {
       "_model_module": "@jupyter-widgets/controls",
       "_model_module_version": "1.5.0",
       "_model_name": "LinkModel",
       "_view_count": null,
       "_view_module": "@jupyter-widgets/controls",
       "_view_module_version": "1.5.0",
       "_view_name": null,
       "source": [
        "IPY_MODEL_03ae053c9cc5420cb522d143cc4af257",
        "max"
       ],
       "target": [
        "IPY_MODEL_4ed2fe6508c74d8daa94177fab0fc748",
        "max_frame"
       ]
      }
     },
     "f5cee87683fd4b94a77aca482369740c": {
      "model_module": "@jupyter-widgets/base",
      "model_module_version": "1.2.0",
      "model_name": "LayoutModel",
      "state": {
       "_model_module": "@jupyter-widgets/base",
       "_model_module_version": "1.2.0",
       "_model_name": "LayoutModel",
       "_view_count": null,
       "_view_module": "@jupyter-widgets/base",
       "_view_module_version": "1.2.0",
       "_view_name": "LayoutView",
       "align_content": null,
       "align_items": null,
       "align_self": null,
       "border": null,
       "bottom": null,
       "display": null,
       "flex": null,
       "flex_flow": null,
       "grid_area": null,
       "grid_auto_columns": null,
       "grid_auto_flow": null,
       "grid_auto_rows": null,
       "grid_column": null,
       "grid_gap": null,
       "grid_row": null,
       "grid_template_areas": null,
       "grid_template_columns": null,
       "grid_template_rows": null,
       "height": null,
       "justify_content": null,
       "justify_items": null,
       "left": null,
       "margin": null,
       "max_height": null,
       "max_width": null,
       "min_height": null,
       "min_width": null,
       "object_fit": null,
       "object_position": null,
       "order": null,
       "overflow": null,
       "overflow_x": null,
       "overflow_y": null,
       "padding": null,
       "right": null,
       "top": null,
       "visibility": null,
       "width": null
      }
     },
     "f908d913988947bb8e9034a7ebb47e3b": {
      "buffers": [
       {
        "data": "",
        "encoding": "base64",
        "path": [
         "value"
        ]
       }
      ],
      "model_module": "@jupyter-widgets/controls",
      "model_module_version": "1.5.0",
      "model_name": "ImageModel",
      "state": {
       "_dom_classes": [],
       "_model_module": "@jupyter-widgets/controls",
       "_model_module_version": "1.5.0",
       "_model_name": "ImageModel",
       "_view_count": null,
       "_view_module": "@jupyter-widgets/controls",
       "_view_module_version": "1.5.0",
       "_view_name": "ImageView",
       "format": "png",
       "height": "",
       "layout": "IPY_MODEL_6fdd59cd9a1f46469ea1e04bcf7b235c",
       "width": "900.0"
      }
     },
     "fb135f7f5ba84f1691b7577a283494d8": {
      "model_module": "@jupyter-widgets/base",
      "model_module_version": "1.2.0",
      "model_name": "LayoutModel",
      "state": {
       "_model_module": "@jupyter-widgets/base",
       "_model_module_version": "1.2.0",
       "_model_name": "LayoutModel",
       "_view_count": null,
       "_view_module": "@jupyter-widgets/base",
       "_view_module_version": "1.2.0",
       "_view_name": "LayoutView",
       "align_content": null,
       "align_items": null,
       "align_self": null,
       "border": null,
       "bottom": null,
       "display": null,
       "flex": null,
       "flex_flow": null,
       "grid_area": null,
       "grid_auto_columns": null,
       "grid_auto_flow": null,
       "grid_auto_rows": null,
       "grid_column": null,
       "grid_gap": null,
       "grid_row": null,
       "grid_template_areas": null,
       "grid_template_columns": null,
       "grid_template_rows": null,
       "height": null,
       "justify_content": null,
       "justify_items": null,
       "left": null,
       "margin": null,
       "max_height": null,
       "max_width": null,
       "min_height": null,
       "min_width": null,
       "object_fit": null,
       "object_position": null,
       "order": null,
       "overflow": null,
       "overflow_x": null,
       "overflow_y": null,
       "padding": null,
       "right": null,
       "top": null,
       "visibility": null,
       "width": null
      }
     },
     "fb6753b69a1042ba9ef07498bbe90009": {
      "model_module": "@jupyter-widgets/base",
      "model_module_version": "1.2.0",
      "model_name": "LayoutModel",
      "state": {
       "_model_module": "@jupyter-widgets/base",
       "_model_module_version": "1.2.0",
       "_model_name": "LayoutModel",
       "_view_count": null,
       "_view_module": "@jupyter-widgets/base",
       "_view_module_version": "1.2.0",
       "_view_name": "LayoutView",
       "align_content": null,
       "align_items": null,
       "align_self": null,
       "border": null,
       "bottom": null,
       "display": null,
       "flex": null,
       "flex_flow": null,
       "grid_area": null,
       "grid_auto_columns": null,
       "grid_auto_flow": null,
       "grid_auto_rows": null,
       "grid_column": null,
       "grid_gap": null,
       "grid_row": null,
       "grid_template_areas": null,
       "grid_template_columns": null,
       "grid_template_rows": null,
       "height": null,
       "justify_content": null,
       "justify_items": null,
       "left": null,
       "margin": null,
       "max_height": null,
       "max_width": null,
       "min_height": null,
       "min_width": null,
       "object_fit": null,
       "object_position": null,
       "order": null,
       "overflow": null,
       "overflow_x": null,
       "overflow_y": null,
       "padding": null,
       "right": null,
       "top": null,
       "visibility": null,
       "width": null
      }
     },
     "fbd93a3449964c26aba8503f7192800d": {
      "model_module": "@jupyter-widgets/controls",
      "model_module_version": "1.5.0",
      "model_name": "LinkModel",
      "state": {
       "_model_module": "@jupyter-widgets/controls",
       "_model_module_version": "1.5.0",
       "_model_name": "LinkModel",
       "_view_count": null,
       "_view_module": "@jupyter-widgets/controls",
       "_view_module_version": "1.5.0",
       "_view_name": null,
       "source": [
        "IPY_MODEL_1d87b6461c174fac878c2853edde7112",
        "value"
       ],
       "target": [
        "IPY_MODEL_9864824eb1644db7ac92cfb8a20be13e",
        "frame"
       ]
      }
     }
    },
    "version_major": 2,
    "version_minor": 0
   }
  }
 },
 "nbformat": 4,
 "nbformat_minor": 4
}
