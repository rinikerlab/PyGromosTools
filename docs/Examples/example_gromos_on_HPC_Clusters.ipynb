{
 "cells": [
  {
   "cell_type": "markdown",
   "id": "758ed277-d094-45f0-866b-6706487b3820",
   "metadata": {},
   "source": [
    "# Usage of PyGromosTools on HPC-cluster"
   ]
  },
  {
   "cell_type": "markdown",
   "id": "280b945a-7116-4913-9acf-5605f335f4db",
   "metadata": {},
   "source": [
    "Note that you need support for the new `PyGromosTools` submission system shipped with `relase3`."
   ]
  },
  {
   "cell_type": "code",
   "execution_count": 1,
   "id": "cd2a74b5-0e22-47a0-b54b-86d1ff8fa885",
   "metadata": {
    "execution": {
     "iopub.execute_input": "2022-04-05T16:43:30.902553Z",
     "iopub.status.busy": "2022-04-05T16:43:30.899877Z",
     "iopub.status.idle": "2022-04-05T16:43:32.855767Z",
     "shell.execute_reply": "2022-04-05T16:43:32.854166Z"
    }
   },
   "outputs": [
    {
     "data": {
      "application/vnd.jupyter.widget-view+json": {
       "model_id": "8529989926b34da3ac6231117397020f",
       "version_major": 2,
       "version_minor": 0
      },
      "text/plain": []
     },
     "metadata": {},
     "output_type": "display_data"
    },
    {
     "ename": "AttributeError",
     "evalue": "module 'pygromos.simulations.hpc_queuing.submission_systems.lsf' has no attribute 'Lsf'",
     "output_type": "error",
     "traceback": [
      "\u001b[0;31m---------------------------------------------------------------------------\u001b[0m",
      "\u001b[0;31mAttributeError\u001b[0m                            Traceback (most recent call last)",
      "\u001b[0;32m/tmp/ipykernel_9964/816950355.py\u001b[0m in \u001b[0;36m<module>\u001b[0;34m\u001b[0m\n\u001b[1;32m      4\u001b[0m \u001b[0;32mfrom\u001b[0m \u001b[0mpygromos\u001b[0m\u001b[0;34m.\u001b[0m\u001b[0msimulations\u001b[0m\u001b[0;34m.\u001b[0m\u001b[0mmodules\u001b[0m\u001b[0;34m.\u001b[0m\u001b[0mpreset_simulation_modules\u001b[0m \u001b[0;32mimport\u001b[0m \u001b[0memin\u001b[0m\u001b[0;34m,\u001b[0m \u001b[0mmd\u001b[0m\u001b[0;34m\u001b[0m\u001b[0;34m\u001b[0m\u001b[0m\n\u001b[1;32m      5\u001b[0m \u001b[0;34m\u001b[0m\u001b[0m\n\u001b[0;32m----> 6\u001b[0;31m \u001b[0msubmission_system\u001b[0m \u001b[0;34m=\u001b[0m \u001b[0mlsf\u001b[0m\u001b[0;34m.\u001b[0m\u001b[0mLsf\u001b[0m\u001b[0;34m(\u001b[0m\u001b[0mnmpi\u001b[0m\u001b[0;34m=\u001b[0m\u001b[0;36m3\u001b[0m\u001b[0;34m)\u001b[0m \u001b[0;31m# this is for IBMs job queue!\u001b[0m\u001b[0;34m\u001b[0m\u001b[0;34m\u001b[0m\u001b[0m\n\u001b[0m",
      "\u001b[0;31mAttributeError\u001b[0m: module 'pygromos.simulations.hpc_queuing.submission_systems.lsf' has no attribute 'Lsf'"
     ]
    }
   ],
   "source": [
    "# necessary imports are the Gromos_System and convenience functions emin and md\n",
    "from pygromos.simulations.hpc_queuing.submission_systems import lsf\n",
    "from pygromos.files.gromos_system.gromos_system import Gromos_System\n",
    "from pygromos.simulations.modules.preset_simulation_modules import emin, md\n",
    "\n",
    "submission_system = lsf.Lsf(nmpi=3) # this is for IBMs job queue!"
   ]
  },
  {
   "cell_type": "markdown",
   "id": "c33c02b9-0973-4caa-9cde-1c62bb0c6d90",
   "metadata": {},
   "source": [
    "## Initialization\n",
    "Set up path to binaries and instantiate an initial `Gromos_System` object"
   ]
  },
  {
   "cell_type": "code",
   "execution_count": 2,
   "id": "f9d29e64-73b4-4bda-9b49-c3da8333c906",
   "metadata": {
    "execution": {
     "iopub.execute_input": "2022-04-05T16:43:32.861866Z",
     "iopub.status.busy": "2022-04-05T16:43:32.860659Z",
     "iopub.status.idle": "2022-04-05T16:43:32.884089Z",
     "shell.execute_reply": "2022-04-05T16:43:32.882712Z"
    }
   },
   "outputs": [
    {
     "ename": "NameError",
     "evalue": "name 'submission_system' is not defined",
     "output_type": "error",
     "traceback": [
      "\u001b[0;31m---------------------------------------------------------------------------\u001b[0m",
      "\u001b[0;31mNameError\u001b[0m                                 Traceback (most recent call last)",
      "\u001b[0;32m/tmp/ipykernel_9964/3952356644.py\u001b[0m in \u001b[0;36m<module>\u001b[0;34m\u001b[0m\n\u001b[1;32m     19\u001b[0m     \u001b[0min_gromosPP_bin_dir\u001b[0m\u001b[0;34m=\u001b[0m\u001b[0mgromosPP\u001b[0m\u001b[0;34m,\u001b[0m\u001b[0;34m\u001b[0m\u001b[0;34m\u001b[0m\u001b[0m\n\u001b[1;32m     20\u001b[0m     \u001b[0min_gromosXX_bin_dir\u001b[0m\u001b[0;34m=\u001b[0m\u001b[0mgromosXX\u001b[0m\u001b[0;34m,\u001b[0m\u001b[0;34m\u001b[0m\u001b[0;34m\u001b[0m\u001b[0m\n\u001b[0;32m---> 21\u001b[0;31m     \u001b[0msubmission_system\u001b[0m\u001b[0;34m=\u001b[0m\u001b[0msubmission_system\u001b[0m\u001b[0;34m,\u001b[0m\u001b[0;34m\u001b[0m\u001b[0;34m\u001b[0m\u001b[0m\n\u001b[0m\u001b[1;32m     22\u001b[0m     \u001b[0mverbose\u001b[0m\u001b[0;34m=\u001b[0m\u001b[0;32mFalse\u001b[0m\u001b[0;34m\u001b[0m\u001b[0;34m\u001b[0m\u001b[0m\n\u001b[1;32m     23\u001b[0m )\n",
      "\u001b[0;31mNameError\u001b[0m: name 'submission_system' is not defined"
     ]
    }
   ],
   "source": [
    "# binaries\n",
    "gromosPP = None\n",
    "gromosXX = None\n",
    "\n",
    "# folders and title\n",
    "system_name = \"menthol-dmf-example\"\n",
    "work_folder = f\"examples/example_files/{system_name}\"\n",
    "\n",
    "# files\n",
    "in_cnf_path = f\"example_files/submission-system-files/{system_name}-all-atom_54a7.cnf\"\n",
    "in_top_path = f\"example_files/submission-system-files/{system_name}-all-atom_54a7.top\"\n",
    "\n",
    "# system\n",
    "system = Gromos_System(\n",
    "    work_folder, \n",
    "    system_name, \n",
    "    in_top_path=in_top_path, \n",
    "    in_cnf_path=in_cnf_path,\n",
    "    in_gromosPP_bin_dir=gromosPP,\n",
    "    in_gromosXX_bin_dir=gromosXX,\n",
    "    submission_system=submission_system,\n",
    "    verbose=False\n",
    ")"
   ]
  },
  {
   "cell_type": "markdown",
   "id": "9bb9ad9a-435b-4a53-84b5-da72bd428334",
   "metadata": {},
   "source": [
    "## Energy minimization"
   ]
  },
  {
   "cell_type": "markdown",
   "id": "af05360b-478f-4b17-aa9c-42877f83ac6e",
   "metadata": {},
   "source": [
    "Take advantage of the new submission system: convenience functions such as `emin` take in a parametrized `Gromos_System` object, automatically set up the calculation and return a new `Gromos_System` object with updated file paths."
   ]
  },
  {
   "cell_type": "raw",
   "id": "c81d1a74-7d0c-4cfe-8756-71a5b0063a44",
   "metadata": {},
   "source": [
    "# run energy minimization\n",
    "minimized_system = emin(system)"
   ]
  },
  {
   "cell_type": "markdown",
   "id": "43f6192d-1cd5-44c1-83df-cc7553efde85",
   "metadata": {},
   "source": [
    "### Print out the new file paths"
   ]
  },
  {
   "cell_type": "markdown",
   "id": "1aeba268-928b-427d-a635-505573e09933",
   "metadata": {},
   "source": [
    "Note how the new `Gromos_System` object has new file paths associated with it."
   ]
  },
  {
   "cell_type": "raw",
   "id": "8fe3fe44-fa4b-4c47-8a5a-09fa55b350dd",
   "metadata": {},
   "source": [
    "print(minimized_system.imd.path)\n",
    "print(minimized_system.top.path)\n",
    "print(minimized_system.cnf.path)"
   ]
  },
  {
   "cell_type": "markdown",
   "id": "15407d36-688b-459a-a040-5d6fbe1d821f",
   "metadata": {},
   "source": [
    "### Visualize the minimized system"
   ]
  },
  {
   "cell_type": "raw",
   "id": "c7859522-dc5a-4ad9-aa38-a4b8436562f9",
   "metadata": {},
   "source": [
    "minimized_system.cnf.view"
   ]
  },
  {
   "cell_type": "markdown",
   "id": "6cff09ba-912f-444a-bbd6-41257f4bd983",
   "metadata": {},
   "source": [
    "**Note:** The new `Gromos_System` object has an .imd file associated (from the energy minimization). Using the object for a subsequent calculation requires the .imd to be reset (as shown below) or a new `Imd` object to be passed to the function `md`. Otherwise `md` will be based on the previous (emin) input file."
   ]
  },
  {
   "cell_type": "raw",
   "id": "56a74099-4305-40da-a5d9-13614b54b5eb",
   "metadata": {},
   "source": [
    "# Reset the old imd from emin \n",
    "minimized_system.imd = None"
   ]
  },
  {
   "cell_type": "markdown",
   "id": "c7576ef0-30ae-483b-b883-63c83f1f3835",
   "metadata": {},
   "source": [
    "## Equilibration followed by subsequent production runs"
   ]
  },
  {
   "cell_type": "raw",
   "id": "853edff2-bf4e-481c-b1cb-22477eea2839",
   "metadata": {},
   "source": [
    "md_system = md(minimized_system, equilibration_runs=1, simulation_runs=2)"
   ]
  },
  {
   "cell_type": "markdown",
   "id": "81c946c3-761b-44e1-bf36-0aee1745b75c",
   "metadata": {},
   "source": [
    "Again, note how the new `Gromos_System` object has new file paths associated with it."
   ]
  },
  {
   "cell_type": "raw",
   "id": "5cde9523-4592-40cf-b514-2136e5502871",
   "metadata": {},
   "source": [
    "print(md_system.imd.path)\n",
    "print(md_system.top.path)\n",
    "print(md_system.cnf.path)"
   ]
  },
  {
   "cell_type": "markdown",
   "id": "440b8cb0-97d7-4981-9068-edfeb0ca5bfe",
   "metadata": {},
   "source": [
    "### Visualize the last configuration"
   ]
  },
  {
   "cell_type": "raw",
   "id": "4b331168-329f-4f19-9ed1-ed1b8641fefc",
   "metadata": {},
   "source": [
    "md_system.cnf.visualize()"
   ]
  }
 ],
 "metadata": {
  "language_info": {
   "codemirror_mode": {
    "name": "ipython",
    "version": 3
   },
   "file_extension": ".py",
   "mimetype": "text/x-python",
   "name": "python",
   "nbconvert_exporter": "python",
   "pygments_lexer": "ipython3",
   "version": "3.9.7"
  },
  "widgets": {
   "application/vnd.jupyter.widget-state+json": {
    "state": {
     "8529989926b34da3ac6231117397020f": {
      "model_module": "nglview-js-widgets",
      "model_module_version": "3.0.1",
      "model_name": "ColormakerRegistryModel",
      "state": {
       "_dom_classes": [],
       "_model_module": "nglview-js-widgets",
       "_model_module_version": "3.0.1",
       "_model_name": "ColormakerRegistryModel",
       "_msg_ar": [],
       "_msg_q": [],
       "_ready": false,
       "_view_count": null,
       "_view_module": "nglview-js-widgets",
       "_view_module_version": "3.0.1",
       "_view_name": "ColormakerRegistryView",
       "layout": "IPY_MODEL_8a523391e20b4d52ae914773b885ed40"
      }
     },
     "8a523391e20b4d52ae914773b885ed40": {
      "model_module": "@jupyter-widgets/base",
      "model_module_version": "1.2.0",
      "model_name": "LayoutModel",
      "state": {
       "_model_module": "@jupyter-widgets/base",
       "_model_module_version": "1.2.0",
       "_model_name": "LayoutModel",
       "_view_count": null,
       "_view_module": "@jupyter-widgets/base",
       "_view_module_version": "1.2.0",
       "_view_name": "LayoutView",
       "align_content": null,
       "align_items": null,
       "align_self": null,
       "border": null,
       "bottom": null,
       "display": null,
       "flex": null,
       "flex_flow": null,
       "grid_area": null,
       "grid_auto_columns": null,
       "grid_auto_flow": null,
       "grid_auto_rows": null,
       "grid_column": null,
       "grid_gap": null,
       "grid_row": null,
       "grid_template_areas": null,
       "grid_template_columns": null,
       "grid_template_rows": null,
       "height": null,
       "justify_content": null,
       "justify_items": null,
       "left": null,
       "margin": null,
       "max_height": null,
       "max_width": null,
       "min_height": null,
       "min_width": null,
       "object_fit": null,
       "object_position": null,
       "order": null,
       "overflow": null,
       "overflow_x": null,
       "overflow_y": null,
       "padding": null,
       "right": null,
       "top": null,
       "visibility": null,
       "width": null
      }
     }
    },
    "version_major": 2,
    "version_minor": 0
   }
  }
 },
 "nbformat": 4,
 "nbformat_minor": 5
}
