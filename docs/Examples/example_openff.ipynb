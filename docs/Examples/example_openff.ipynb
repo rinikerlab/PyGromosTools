{
 "cells": [
  {
   "cell_type": "code",
   "execution_count": 1,
   "metadata": {
    "execution": {
     "iopub.execute_input": "2022-04-01T06:26:41.236014Z",
     "iopub.status.busy": "2022-04-01T06:26:41.234893Z",
     "iopub.status.idle": "2022-04-01T06:26:42.449893Z",
     "shell.execute_reply": "2022-04-01T06:26:42.448429Z"
    }
   },
   "outputs": [
    {
     "name": "stderr",
     "output_type": "stream",
     "text": [
      "Warning: importing 'simtk.openmm' is deprecated.  Import 'openmm' instead.\n"
     ]
    },
    {
     "name": "stderr",
     "output_type": "stream",
     "text": [
      "Warning: Unable to load toolkit 'OpenEye Toolkit'. The Open Force Field Toolkit does not require the OpenEye Toolkits, and can use RDKit/AmberTools instead. However, if you have a valid license for the OpenEye Toolkits, consider installing them for faster performance and additional file format support: https://docs.eyesopen.com/toolkits/python/quickstart-python/linuxosx.html OpenEye offers free Toolkit licenses for academics: https://www.eyesopen.com/academic-licensing\n"
     ]
    },
    {
     "data": {
      "application/vnd.jupyter.widget-view+json": {
       "model_id": "6cfa24b6023541f8b3150f89145a1688",
       "version_major": 2,
       "version_minor": 0
      },
      "text/plain": []
     },
     "metadata": {},
     "output_type": "display_data"
    }
   ],
   "source": [
    "import os\n",
    "import pygromos\n",
    "from pygromos.files.forcefield.openff.openff import OpenFF\n",
    "from pygromos.files.gromos_system.gromos_system import Gromos_System"
   ]
  },
  {
   "cell_type": "code",
   "execution_count": 2,
   "metadata": {
    "execution": {
     "iopub.execute_input": "2022-04-01T06:26:42.454878Z",
     "iopub.status.busy": "2022-04-01T06:26:42.453968Z",
     "iopub.status.idle": "2022-04-01T06:26:42.461856Z",
     "shell.execute_reply": "2022-04-01T06:26:42.459565Z"
    }
   },
   "outputs": [],
   "source": [
    "project_dir = os.path.abspath(os.path.dirname(pygromos.__file__)+\"/../examples/example_files/off_files/\")"
   ]
  },
  {
   "cell_type": "code",
   "execution_count": 3,
   "metadata": {
    "execution": {
     "iopub.execute_input": "2022-04-01T06:26:42.465863Z",
     "iopub.status.busy": "2022-04-01T06:26:42.465580Z",
     "iopub.status.idle": "2022-04-01T06:26:42.797172Z",
     "shell.execute_reply": "2022-04-01T06:26:42.795298Z"
    }
   },
   "outputs": [
    {
     "name": "stdout",
     "output_type": "stream",
     "text": [
      "Found off: /home/bschroed/Documents/projects/PyGromosTools/pygromos/data/ff/SMIRNOFF/openff_unconstrained-2.0.0.offxml\n"
     ]
    }
   ],
   "source": [
    "ff = OpenFF()"
   ]
  },
  {
   "cell_type": "code",
   "execution_count": 4,
   "metadata": {
    "execution": {
     "iopub.execute_input": "2022-04-01T06:26:42.802865Z",
     "iopub.status.busy": "2022-04-01T06:26:42.802067Z",
     "iopub.status.idle": "2022-04-01T06:26:48.166546Z",
     "shell.execute_reply": "2022-04-01T06:26:48.164899Z"
    }
   },
   "outputs": [
    {
     "name": "stdout",
     "output_type": "stream",
     "text": [
      "Found off: /home/bschroed/Documents/projects/PyGromosTools/pygromos/data/ff/SMIRNOFF/openff_unconstrained-2.0.0.offxml\n"
     ]
    },
    {
     "name": "stderr",
     "output_type": "stream",
     "text": [
      "/bin/bash: /home/bschroed/miniconda3/envs/pygromosDev/lib/libtinfo.so.6: no version information available (required by /bin/bash)\n",
      "/bin/bash: /home/bschroed/miniconda3/envs/pygromosDev/lib/libtinfo.so.6: no version information available (required by /bin/bash)\n"
     ]
    },
    {
     "name": "stderr",
     "output_type": "stream",
     "text": [
      "/bin/bash: /home/bschroed/miniconda3/envs/pygromosDev/lib/libtinfo.so.6: no version information available (required by /bin/bash)\n",
      "/bin/bash: /home/bschroed/miniconda3/envs/pygromosDev/lib/libtinfo.so.6: no version information available (required by /bin/bash)\n",
      "/bin/bash: /home/bschroed/miniconda3/envs/pygromosDev/lib/libtinfo.so.6: no version information available (required by /bin/bash)\n",
      "/bin/bash: /home/bschroed/miniconda3/envs/pygromosDev/lib/libtinfo.so.6: no version information available (required by /bin/bash)\n"
     ]
    }
   ],
   "source": [
    "gsys = Gromos_System(work_folder=project_dir, \n",
    "                     system_name=\"testOFF\", \n",
    "                     forcefield=ff, \n",
    "                     in_smiles=\"C1CCCCC1\",\n",
    "                     in_imd_path=project_dir+\"/gas_sd.imd\", \n",
    "                     auto_convert=True, \n",
    "                     adapt_imd_automatically=True)"
   ]
  },
  {
   "cell_type": "code",
   "execution_count": 5,
   "metadata": {
    "execution": {
     "iopub.execute_input": "2022-04-01T06:26:48.172378Z",
     "iopub.status.busy": "2022-04-01T06:26:48.171769Z",
     "iopub.status.idle": "2022-04-01T06:26:48.182052Z",
     "shell.execute_reply": "2022-04-01T06:26:48.179715Z"
    }
   },
   "outputs": [],
   "source": [
    "gsys.top.make_ordered()"
   ]
  },
  {
   "cell_type": "code",
   "execution_count": 6,
   "metadata": {
    "execution": {
     "iopub.execute_input": "2022-04-01T06:26:48.187531Z",
     "iopub.status.busy": "2022-04-01T06:26:48.186086Z",
     "iopub.status.idle": "2022-04-01T06:26:48.200799Z",
     "shell.execute_reply": "2022-04-01T06:26:48.199550Z"
    }
   },
   "outputs": [
    {
     "data": {
      "text/plain": [
       "SOLUTEATOM\n",
       "#   NRP: number of solute atoms\n",
       " \t 18\n",
       "#  ATNM: atom number\n",
       "#  MRES: residue number\n",
       "#  PANM: atom name of solute atom\n",
       "#   IAC: integer (van der Waals) atom type code\n",
       "#  MASS: mass of solute atom\n",
       "#    CG: charge of solute atom\n",
       "#   CGC: charge group code (0 or 1)\n",
       "#   INE: number of excluded atoms\n",
       "# INE14: number of 1-4 interactions\n",
       "# ATNM MRES PANM IAC     MASS       CG  CGC INE\n",
       "#                                           INE14\n",
       "\t1\t1\tC1\t1\t12.01078\t-0.0764\t0\t10\t2\t3\t5\t6\t7\t8\n",
       "\t\t\t\t\t\t\t\t\t\t\t9\t10\t17\t18\n",
       "\t\t\t\t\t\t\t\t\t\t5\t4\t11\t12\t15\t16\n",
       "\t2\t1\tC2\t1\t12.01078\t-0.0764\t0\t9\t3\t4\t6\t7\t8\t9\n",
       "\t\t\t\t\t\t\t\t\t\t\t10\t11\t12\n",
       "\t\t\t\t\t\t\t\t\t\t5\t5\t13\t14\t17\t18\n",
       "\t3\t1\tC3\t1\t12.01078\t-0.0764\t0\t8\t4\t5\t9\t10\t11\t12\n",
       "\t\t\t\t\t\t\t\t\t\t\t13\t14\n",
       "\t\t\t\t\t\t\t\t\t\t5\t6\t7\t8\t15\t16\n",
       "\t4\t1\tC4\t1\t12.01078\t-0.0764\t0\t8\t5\t6\t11\t12\t13\t14\n",
       "\t\t\t\t\t\t\t\t\t\t\t15\t16\n",
       "\t\t\t\t\t\t\t\t\t\t4\t9\t10\t17\t18\n",
       "\t5\t1\tC5\t1\t12.01078\t-0.0764\t0\t7\t6\t13\t14\t15\t16\t17\n",
       "\t\t\t\t\t\t\t\t\t\t\t18\n",
       "\t\t\t\t\t\t\t\t\t\t4\t7\t8\t11\t12\n",
       "\t6\t1\tC6\t1\t12.01078\t-0.0764\t0\t6\t7\t8\t15\t16\t17\t18\n",
       "\t\t\t\t\t\t\t\t\t\t4\t9\t10\t13\t14\n",
       "\t7\t1\tH1\t2\t1.007947\t0.0382\t0\t1\t8\n",
       "\t\t\t\t\t\t\t\t\t\t4\t9\t10\t17\t18\n",
       "\t8\t1\tH2\t2\t1.007947\t0.0382\t0\t0\n",
       "\t\t\t\t\t\t\t\t\t\t4\t9\t10\t17\t18\n",
       "\t9\t1\tH3\t2\t1.007947\t0.0382\t0\t1\t10\n",
       "\t\t\t\t\t\t\t\t\t\t2\t11\t12\n",
       "\t10\t1\tH4\t2\t1.007947\t0.0382\t0\t0\n",
       "\t\t\t\t\t\t\t\t\t\t2\t11\t12\n",
       "\t11\t1\tH5\t2\t1.007947\t0.0382\t0\t1\t12\n",
       "\t\t\t\t\t\t\t\t\t\t2\t13\t14\n",
       "\t12\t1\tH6\t2\t1.007947\t0.0382\t0\t0\n",
       "\t\t\t\t\t\t\t\t\t\t2\t13\t14\n",
       "\t13\t1\tH7\t2\t1.007947\t0.0382\t0\t1\t14\n",
       "\t\t\t\t\t\t\t\t\t\t2\t15\t16\n",
       "\t14\t1\tH8\t2\t1.007947\t0.0382\t0\t0\n",
       "\t\t\t\t\t\t\t\t\t\t2\t15\t16\n",
       "\t15\t1\tH9\t2\t1.007947\t0.0382\t0\t1\t16\n",
       "\t\t\t\t\t\t\t\t\t\t2\t17\t18\n",
       "\t16\t1\tH10\t2\t1.007947\t0.0382\t0\t0\n",
       "\t\t\t\t\t\t\t\t\t\t2\t17\t18\n",
       "\t17\t1\tH11\t2\t1.007947\t0.0382\t0\t1\t18\n",
       "\t\t\t\t\t\t\t\t\t\t0\n",
       "\t18\t1\tH12\t2\t1.007947\t0.0382\t1\t0\n",
       "\t\t\t\t\t\t\t\t\t\t0\n",
       "END"
      ]
     },
     "execution_count": 6,
     "metadata": {},
     "output_type": "execute_result"
    }
   ],
   "source": [
    "gsys.top.SOLUTEATOM"
   ]
  },
  {
   "cell_type": "code",
   "execution_count": 7,
   "metadata": {
    "execution": {
     "iopub.execute_input": "2022-04-01T06:26:48.205978Z",
     "iopub.status.busy": "2022-04-01T06:26:48.205528Z",
     "iopub.status.idle": "2022-04-01T06:26:48.215178Z",
     "shell.execute_reply": "2022-04-01T06:26:48.213971Z"
    }
   },
   "outputs": [],
   "source": [
    "gsys.rebase_files()"
   ]
  },
  {
   "cell_type": "code",
   "execution_count": 8,
   "metadata": {
    "execution": {
     "iopub.execute_input": "2022-04-01T06:26:48.218767Z",
     "iopub.status.busy": "2022-04-01T06:26:48.218499Z",
     "iopub.status.idle": "2022-04-01T06:26:48.225622Z",
     "shell.execute_reply": "2022-04-01T06:26:48.224163Z"
    }
   },
   "outputs": [
    {
     "data": {
      "text/plain": [
       "AMBER\n",
       "# \t AMBER \t AMBSCAL\n",
       " \t 1 \t 1.200000 \t \n",
       "END"
      ]
     },
     "execution_count": 8,
     "metadata": {},
     "output_type": "execute_result"
    }
   ],
   "source": [
    "gsys.imd.AMBER"
   ]
  },
  {
   "cell_type": "code",
   "execution_count": 9,
   "metadata": {
    "execution": {
     "iopub.execute_input": "2022-04-01T06:26:48.231939Z",
     "iopub.status.busy": "2022-04-01T06:26:48.231341Z",
     "iopub.status.idle": "2022-04-01T06:26:48.238743Z",
     "shell.execute_reply": "2022-04-01T06:26:48.237505Z"
    }
   },
   "outputs": [
    {
     "data": {
      "text/plain": [
       "FORCE\n",
       "# \t BONDS \t ANGLES \t IMPROPER \t DIHEDRAL \t ELECTROSTATIC \t VDW\n",
       " \t 0 \t 1 \t 1 \t 1 \t 1 \t 1 \t \n",
       "# \t NEGR \t NRE\n",
       " \t 1 \t 18 \t \n",
       "END"
      ]
     },
     "execution_count": 9,
     "metadata": {},
     "output_type": "execute_result"
    }
   ],
   "source": [
    "gsys.imd.FORCE"
   ]
  },
  {
   "cell_type": "code",
   "execution_count": 10,
   "metadata": {
    "execution": {
     "iopub.execute_input": "2022-04-01T06:26:48.242233Z",
     "iopub.status.busy": "2022-04-01T06:26:48.241777Z",
     "iopub.status.idle": "2022-04-01T06:26:48.249930Z",
     "shell.execute_reply": "2022-04-01T06:26:48.248600Z"
    }
   },
   "outputs": [],
   "source": [
    "atom = gsys.cnf.POSITION[7]"
   ]
  },
  {
   "cell_type": "code",
   "execution_count": 11,
   "metadata": {
    "execution": {
     "iopub.execute_input": "2022-04-01T06:26:48.253839Z",
     "iopub.status.busy": "2022-04-01T06:26:48.253246Z",
     "iopub.status.idle": "2022-04-01T06:26:48.259977Z",
     "shell.execute_reply": "2022-04-01T06:26:48.258778Z"
    }
   },
   "outputs": [
    {
     "data": {
      "text/plain": [
       "'H'"
      ]
     },
     "execution_count": 11,
     "metadata": {},
     "output_type": "execute_result"
    }
   ],
   "source": [
    "atom.atomType"
   ]
  },
  {
   "cell_type": "code",
   "execution_count": 12,
   "metadata": {
    "execution": {
     "iopub.execute_input": "2022-04-01T06:26:48.268752Z",
     "iopub.status.busy": "2022-04-01T06:26:48.268122Z",
     "iopub.status.idle": "2022-04-01T06:26:48.274271Z",
     "shell.execute_reply": "2022-04-01T06:26:48.273243Z"
    }
   },
   "outputs": [
    {
     "data": {
      "text/plain": [
       "BONDANGLEBENDTYPE\n",
       "# \t NBTY: number of angle types\n",
       " \t 2\n",
       "# \t CT \t CHT \t T0\n",
       "\t5.57203e+02\t1.35622e-01\t1.16548e+02\n",
       "\t5.02731e+02\t1.24333e-01\t1.15603e+02\n",
       "END"
      ]
     },
     "execution_count": 12,
     "metadata": {},
     "output_type": "execute_result"
    }
   ],
   "source": [
    "gsys.top.BONDANGLEBENDTYPE"
   ]
  },
  {
   "cell_type": "code",
   "execution_count": null,
   "metadata": {},
   "outputs": [],
   "source": []
  }
 ],
 "metadata": {
  "interpreter": {
   "hash": "b1b7b2ea43b8e767316eee98e01335d045804d2d47db68b6a5827e187ee91a7e"
  },
  "kernelspec": {
   "display_name": "Python 3.9.7 ('pygro2')",
   "language": "python",
   "name": "python3"
  },
  "language_info": {
   "codemirror_mode": {
    "name": "ipython",
    "version": 3
   },
   "file_extension": ".py",
   "mimetype": "text/x-python",
   "name": "python",
   "nbconvert_exporter": "python",
   "pygments_lexer": "ipython3",
   "version": "3.9.10"
  },
  "widgets": {
   "application/vnd.jupyter.widget-state+json": {
    "state": {
     "6cfa24b6023541f8b3150f89145a1688": {
      "model_module": "nglview-js-widgets",
      "model_module_version": "3.0.1",
      "model_name": "ColormakerRegistryModel",
      "state": {
       "_dom_classes": [],
       "_model_module": "nglview-js-widgets",
       "_model_module_version": "3.0.1",
       "_model_name": "ColormakerRegistryModel",
       "_msg_ar": [],
       "_msg_q": [],
       "_ready": false,
       "_view_count": null,
       "_view_module": "nglview-js-widgets",
       "_view_module_version": "3.0.1",
       "_view_name": "ColormakerRegistryView",
       "layout": "IPY_MODEL_91cfc82db0d744f394b5cca97b816777"
      }
     },
     "91cfc82db0d744f394b5cca97b816777": {
      "model_module": "@jupyter-widgets/base",
      "model_module_version": "1.2.0",
      "model_name": "LayoutModel",
      "state": {
       "_model_module": "@jupyter-widgets/base",
       "_model_module_version": "1.2.0",
       "_model_name": "LayoutModel",
       "_view_count": null,
       "_view_module": "@jupyter-widgets/base",
       "_view_module_version": "1.2.0",
       "_view_name": "LayoutView",
       "align_content": null,
       "align_items": null,
       "align_self": null,
       "border": null,
       "bottom": null,
       "display": null,
       "flex": null,
       "flex_flow": null,
       "grid_area": null,
       "grid_auto_columns": null,
       "grid_auto_flow": null,
       "grid_auto_rows": null,
       "grid_column": null,
       "grid_gap": null,
       "grid_row": null,
       "grid_template_areas": null,
       "grid_template_columns": null,
       "grid_template_rows": null,
       "height": null,
       "justify_content": null,
       "justify_items": null,
       "left": null,
       "margin": null,
       "max_height": null,
       "max_width": null,
       "min_height": null,
       "min_width": null,
       "object_fit": null,
       "object_position": null,
       "order": null,
       "overflow": null,
       "overflow_x": null,
       "overflow_y": null,
       "padding": null,
       "right": null,
       "top": null,
       "visibility": null,
       "width": null
      }
     }
    },
    "version_major": 2,
    "version_minor": 0
   }
  }
 },
 "nbformat": 4,
 "nbformat_minor": 2
}
