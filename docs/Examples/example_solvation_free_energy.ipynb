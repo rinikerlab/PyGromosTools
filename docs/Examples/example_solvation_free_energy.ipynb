{
 "cells": [
  {
   "cell_type": "markdown",
   "id": "72f1ce38-58d7-4a3b-9d3a-dce74d35aa63",
   "metadata": {
    "tags": []
   },
   "source": [
    "### Example For Calculation of Self Solvation Free Energy"
   ]
  },
  {
   "cell_type": "markdown",
   "id": "75236443-70b8-4449-80b2-25860d238d7f",
   "metadata": {},
   "source": [
    "#### Do Imports"
   ]
  },
  {
   "cell_type": "code",
   "execution_count": 1,
   "id": "94d48e51-6f17-4dec-ac58-a9fc8e5f43f8",
   "metadata": {
    "execution": {
     "iopub.execute_input": "2022-04-01T07:59:55.262983Z",
     "iopub.status.busy": "2022-04-01T07:59:55.261702Z",
     "iopub.status.idle": "2022-04-01T07:59:56.817372Z",
     "shell.execute_reply": "2022-04-01T07:59:56.814763Z"
    }
   },
   "outputs": [
    {
     "name": "stderr",
     "output_type": "stream",
     "text": [
      "Warning: importing 'simtk.openmm' is deprecated.  Import 'openmm' instead.\n"
     ]
    },
    {
     "name": "stderr",
     "output_type": "stream",
     "text": [
      "Warning: Unable to load toolkit 'OpenEye Toolkit'. The Open Force Field Toolkit does not require the OpenEye Toolkits, and can use RDKit/AmberTools instead. However, if you have a valid license for the OpenEye Toolkits, consider installing them for faster performance and additional file format support: https://docs.eyesopen.com/toolkits/python/quickstart-python/linuxosx.html OpenEye offers free Toolkit licenses for academics: https://www.eyesopen.com/academic-licensing\n"
     ]
    },
    {
     "data": {
      "application/vnd.jupyter.widget-view+json": {
       "model_id": "c0d65ada4b8946b6a29c01dba32fb9d2",
       "version_major": 2,
       "version_minor": 0
      },
      "text/plain": []
     },
     "metadata": {},
     "output_type": "display_data"
    }
   ],
   "source": [
    "import os\n",
    "from rdkit import Chem\n",
    "import pygromos\n",
    "from pygromos.files.forcefield.openff.openff import OpenFF\n",
    "from pygromos.files.gromos_system.gromos_system import Gromos_System\n",
    "from pygromos.simulations.approaches.solvation_free_energy_calculation.solvation_free_energy import Solvation_free_energy_calculation\n",
    "from pygromos.simulations.hpc_queuing.submission_systems.local import LOCAL"
   ]
  },
  {
   "cell_type": "markdown",
   "id": "052c5ab1-b4e7-4b35-bff8-7b59ed59208b",
   "metadata": {},
   "source": [
    "#### Choose Molecule to run calculation for"
   ]
  },
  {
   "cell_type": "code",
   "execution_count": 2,
   "id": "5df95e95-01e7-4092-85e3-e3cf1323981b",
   "metadata": {
    "execution": {
     "iopub.execute_input": "2022-04-01T07:59:56.826228Z",
     "iopub.status.busy": "2022-04-01T07:59:56.825413Z",
     "iopub.status.idle": "2022-04-01T07:59:56.831924Z",
     "shell.execute_reply": "2022-04-01T07:59:56.830480Z"
    }
   },
   "outputs": [],
   "source": [
    "smiles = \"c1ccccc1\"\n",
    "workfolder = project_dir = os.path.abspath(os.path.dirname(pygromos.__file__)+\"/../examples/example_files/solvation_free_energy\")"
   ]
  },
  {
   "cell_type": "markdown",
   "id": "ba09b82b-1c1f-48ef-be77-0b0f91d126ed",
   "metadata": {},
   "source": [
    "#### create the gromos_system from a smile and get the number of atoms"
   ]
  },
  {
   "cell_type": "code",
   "execution_count": 3,
   "id": "ca203374",
   "metadata": {
    "execution": {
     "iopub.execute_input": "2022-04-01T07:59:56.843315Z",
     "iopub.status.busy": "2022-04-01T07:59:56.842931Z",
     "iopub.status.idle": "2022-04-01T08:00:01.850943Z",
     "shell.execute_reply": "2022-04-01T08:00:01.848445Z"
    }
   },
   "outputs": [
    {
     "name": "stdout",
     "output_type": "stream",
     "text": [
      "Found off: /home/bschroed/Documents/projects/PyGromosTools/pygromos/data/ff/SMIRNOFF/openff_unconstrained-2.0.0.offxml\n"
     ]
    },
    {
     "name": "stdout",
     "output_type": "stream",
     "text": [
      "Found off: /home/bschroed/Documents/projects/PyGromosTools/pygromos/data/ff/SMIRNOFF/openff_unconstrained-2.0.0.offxml\n"
     ]
    },
    {
     "name": "stderr",
     "output_type": "stream",
     "text": [
      "/bin/bash: /home/bschroed/miniconda3/envs/pygromosDev/lib/libtinfo.so.6: no version information available (required by /bin/bash)\n",
      "/bin/bash: /home/bschroed/miniconda3/envs/pygromosDev/lib/libtinfo.so.6: no version information available (required by /bin/bash)\n"
     ]
    },
    {
     "name": "stdout",
     "output_type": "stream",
     "text": [
      "Number of atoms: 12\n"
     ]
    },
    {
     "name": "stderr",
     "output_type": "stream",
     "text": [
      "/bin/bash: /home/bschroed/miniconda3/envs/pygromosDev/lib/libtinfo.so.6: no version information available (required by /bin/bash)\n",
      "/bin/bash: /home/bschroed/miniconda3/envs/pygromosDev/lib/libtinfo.so.6: no version information available (required by /bin/bash)\n",
      "/bin/bash: /home/bschroed/miniconda3/envs/pygromosDev/lib/libtinfo.so.6: no version information available (required by /bin/bash)\n",
      "/bin/bash: /home/bschroed/miniconda3/envs/pygromosDev/lib/libtinfo.so.6: no version information available (required by /bin/bash)\n"
     ]
    }
   ],
   "source": [
    "groSys = Gromos_System(work_folder=workfolder, system_name=\"test\", in_smiles=smiles, forcefield=OpenFF(), auto_convert=True)\n",
    "number_of_atoms = groSys.mol.GetNumAtoms()\n",
    "print(\"Number of atoms:\", number_of_atoms)"
   ]
  },
  {
   "cell_type": "code",
   "execution_count": 4,
   "id": "a5122674",
   "metadata": {
    "execution": {
     "iopub.execute_input": "2022-04-01T08:00:01.858092Z",
     "iopub.status.busy": "2022-04-01T08:00:01.856747Z",
     "iopub.status.idle": "2022-04-01T08:00:01.864611Z",
     "shell.execute_reply": "2022-04-01T08:00:01.863141Z"
    }
   },
   "outputs": [],
   "source": [
    "subSys = LOCAL() # use the local submission system (for cluster use LSF)"
   ]
  },
  {
   "cell_type": "code",
   "execution_count": 5,
   "id": "8895b4c7",
   "metadata": {
    "execution": {
     "iopub.execute_input": "2022-04-01T08:00:01.869673Z",
     "iopub.status.busy": "2022-04-01T08:00:01.868882Z",
     "iopub.status.idle": "2022-04-01T08:00:01.879104Z",
     "shell.execute_reply": "2022-04-01T08:00:01.877043Z"
    }
   },
   "outputs": [],
   "source": [
    "n_points = 5 # Number of Lambda points to calculate (typically 21)"
   ]
  },
  {
   "cell_type": "markdown",
   "id": "b6e2e24b-e946-4e3d-8d26-73a4406ed3b3",
   "metadata": {},
   "source": [
    "#### Create The Solvation free energy calculation system"
   ]
  },
  {
   "cell_type": "code",
   "execution_count": 6,
   "id": "4d40ad51-654a-4594-b4a3-2133a369abe3",
   "metadata": {
    "execution": {
     "iopub.execute_input": "2022-04-01T08:00:01.884128Z",
     "iopub.status.busy": "2022-04-01T08:00:01.883691Z",
     "iopub.status.idle": "2022-04-01T08:00:02.183791Z",
     "shell.execute_reply": "2022-04-01T08:00:02.182807Z"
    }
   },
   "outputs": [
    {
     "name": "stdout",
     "output_type": "stream",
     "text": [
      "Found off: /home/bschroed/Documents/projects/PyGromosTools/pygromos/data/ff/SMIRNOFF/openff_unconstrained-2.0.0.offxml\n",
      "File imd is empty , can not be written!\n"
     ]
    },
    {
     "name": "stderr",
     "output_type": "stream",
     "text": [
      "/home/bschroed/Documents/projects/PyGromosTools/pygromos/simulations/approaches/solvation_free_energy_calculation/solvation_free_energy.py:146: UserWarning: Folder does already exist\n",
      "  warnings.warn(\"Folder does already exist\")\n",
      "/home/bschroed/Documents/projects/PyGromosTools/pygromos/files/gromos_system/gromos_system.py:869: UserWarning: Did not change file path as its only promised None\n",
      "  warnings.warn(\"Did not change file path as its only promised \" + str(file_obj.path))\n"
     ]
    }
   ],
   "source": [
    "sf = Solvation_free_energy_calculation(input_system=groSys, # Gromos_System, SMILES (str) or rdkit Mol\n",
    "                                       work_folder=workfolder, # Folder to do calculations in\n",
    "                                       system_name=\"test\", # Name of the system (does not need to be smiles but convenient)\n",
    "                                       forcefield=OpenFF(), # Force field to use\n",
    "                                       density=789, # density of the liquid in kg/L\n",
    "                                       num_molecules=512, # number of molecules used for the calculation\n",
    "                                       num_atoms=number_of_atoms, # number of atoms in one molecule\n",
    "                                       subsystem=subSys, # Subsystem to use for calculation local or lsf\n",
    "                                       amberscaling=False, # Whether to use amberscaling (for openforcefield recommended)\n",
    "                                       n_points=n_points) # Number of Lambda points to calculate (typically 21)"
   ]
  },
  {
   "cell_type": "markdown",
   "id": "b2f60e6e-ddd6-4083-94c7-34b34703e3ab",
   "metadata": {},
   "source": [
    "#### Create Liquid"
   ]
  },
  {
   "cell_type": "code",
   "execution_count": 7,
   "id": "014136a1-8d0b-435c-b7d9-65c53e93d6b6",
   "metadata": {
    "execution": {
     "iopub.execute_input": "2022-04-01T08:00:02.190941Z",
     "iopub.status.busy": "2022-04-01T08:00:02.190542Z",
     "iopub.status.idle": "2022-04-01T08:00:03.608477Z",
     "shell.execute_reply": "2022-04-01T08:00:03.603632Z"
    }
   },
   "outputs": [
    {
     "name": "stderr",
     "output_type": "stream",
     "text": [
      "/home/bschroed/Documents/projects/PyGromosTools/pygromos/simulations/approaches/solvation_free_energy_calculation/solvation_free_energy.py:225: UserWarning: Folder does already exist\n",
      "  warnings.warn(\"Folder does already exist\")\n"
     ]
    }
   ],
   "source": [
    "sf.create_liq()"
   ]
  },
  {
   "cell_type": "markdown",
   "id": "5837a049-0596-46bd-89f6-5b48e32abb0b",
   "metadata": {},
   "source": [
    "#### Minimize Liquid"
   ]
  },
  {
   "cell_type": "code",
   "execution_count": 8,
   "id": "d2e42771-a59f-4cc8-a8fe-cfcd4594bf2a",
   "metadata": {
    "execution": {
     "iopub.execute_input": "2022-04-01T08:00:03.616586Z",
     "iopub.status.busy": "2022-04-01T08:00:03.615233Z",
     "iopub.status.idle": "2022-04-01T08:00:13.360779Z",
     "shell.execute_reply": "2022-04-01T08:00:13.357506Z"
    }
   },
   "outputs": [
    {
     "name": "stdout",
     "output_type": "stream",
     "text": [
      "################################################################################\n",
      "\n",
      "test_emin\n",
      "################################################################################\n",
      "\n",
      "============================================================\n",
      "FOUND RESULT: /home/bschroed/Documents/projects/PyGromosTools/examples/example_files/solvation_free_energy/test_liq/test_emin/analysis/data/test_emin.cnf\n",
      " GOING TO SKIPT THIS SUBMISSION!\n"
     ]
    }
   ],
   "source": [
    "emin_sys, jobID = sf.minimize_liq(in_gromos_simulation_system=sf.groSys_liq,prev_JobID=-1)"
   ]
  },
  {
   "cell_type": "markdown",
   "id": "00828090-cfe4-4a5f-95b8-e95888601c00",
   "metadata": {},
   "source": [
    "#### Change the number of cores for longer runs"
   ]
  },
  {
   "cell_type": "code",
   "execution_count": 9,
   "id": "fa47f5ce-5bcb-4ead-8dfe-1e8daeac6ce7",
   "metadata": {
    "execution": {
     "iopub.execute_input": "2022-04-01T08:00:13.367429Z",
     "iopub.status.busy": "2022-04-01T08:00:13.366695Z",
     "iopub.status.idle": "2022-04-01T08:00:13.372818Z",
     "shell.execute_reply": "2022-04-01T08:00:13.371017Z"
    }
   },
   "outputs": [],
   "source": [
    "sf.subsystem.nomp = 6"
   ]
  },
  {
   "cell_type": "markdown",
   "id": "8378b895-17f6-4afa-bb4f-4b970d6ee7fe",
   "metadata": {},
   "source": [
    "#### Equilibrate System"
   ]
  },
  {
   "cell_type": "code",
   "execution_count": 10,
   "id": "44e50e70-93fb-4010-bc6f-81cdbce7bbd4",
   "metadata": {
    "execution": {
     "iopub.execute_input": "2022-04-01T08:00:13.379954Z",
     "iopub.status.busy": "2022-04-01T08:00:13.379620Z",
     "iopub.status.idle": "2022-04-01T08:00:26.659796Z",
     "shell.execute_reply": "2022-04-01T08:00:26.657284Z"
    }
   },
   "outputs": [
    {
     "name": "stdout",
     "output_type": "stream",
     "text": [
      "################################################################################\n",
      "\n",
      "eqtest_eq_1\n",
      "################################################################################\n",
      "\n",
      "Script:  /home/bschroed/Documents/projects/PyGromosTools/pygromos/simulations/hpc_queuing/job_scheduling/schedulers/simulation_scheduler.py\n",
      "\n",
      "################################################################################\n",
      "Simulation Setup:\n",
      "################################################################################\n",
      "\n",
      "steps_per_run:  25000\n",
      "equis:  0\n",
      "simulation runs:  1\n",
      "################################################################################\n",
      "\n",
      " submit final analysis part \n",
      "\n",
      "/home/bschroed/Documents/projects/PyGromosTools/examples/example_files/solvation_free_energy/test_liq/eqtest_eq_1/ana_out.log\n",
      "/home/bschroed/Documents/projects/PyGromosTools/examples/example_files/solvation_free_energy/test_liq/eqtest_eq_1/job_analysis.py\n"
     ]
    },
    {
     "name": "stdout",
     "output_type": "stream",
     "text": [
      "#####################################################################################\n",
      "\t\tERROR in Submission\n",
      "#####################################################################################\n"
     ]
    },
    {
     "name": "stderr",
     "output_type": "stream",
     "text": [
      "Traceback (most recent call last):\n",
      "  File \"/home/bschroed/Documents/projects/PyGromosTools/pygromos/simulations/hpc_queuing/submission_systems/local.py\", line 71, in submit_to_queue\n",
      "    process = bash.execute(command=command, catch_STD=True, env=self.environment)\n",
      "  File \"/home/bschroed/Documents/projects/PyGromosTools/pygromos/utils/bash.py\", line 935, in execute\n",
      "    return execute_subprocess(command=command, verbose=verbose, catch_STD=catch_STD, env=env)\n",
      "  File \"/home/bschroed/Documents/projects/PyGromosTools/pygromos/utils/bash.py\", line 829, in execute_subprocess\n",
      "    raise ChildProcessError(msg)\n",
      "ChildProcessError: SubProcess Failed due to returncode: 1\n",
      " COMMAND: \n",
      "\t./job_eqtest_eq_1_ana.sh\n",
      "STDOUT:\n",
      "\tb'\\tStart cnfs\\n'\n",
      "\tb\"SEARCH PATTERN: eqtest_eq_1 + * +['.cnf']\\n\"\n",
      "\tb'walking to in_dir:  simulation found:  0\\n'\n",
      "\tb'\\n'\n",
      "\tb'foundFiles:\\n'\n",
      "\tb'\\n'\n",
      "\tb'\\t\\n'\n",
      "\tb'\\t\\tFound 0 cnfs\\n'\n",
      "\tb'/home/bschroed/Documents/projects/PyGromosTools/examples/example_files/solvation_free_energy/test_liq/eqtest_eq_1/simulation/eqtest_eq_1/*.cnf\\n'\n",
      "STDERR:\n",
      "\tb\"/home/bschroed/Documents/projects/PyGromosTools/pygromos/simulations/hpc_queuing/job_scheduling/workers/analysis_workers/simulation_analysis.py:318: UserWarning: could not find any file with the prefix: eqtest_eq_1 * ['.cnf'] in folder : \\n\"\n",
      "\tb'/home/bschroed/Documents/projects/PyGromosTools/examples/example_files/solvation_free_energy/test_liq/eqtest_eq_1/simulation\\n'\n",
      "\tb'  warnings.warn(\\n'\n",
      "\tb'Traceback (most recent call last):\\n'\n",
      "\tb'  File \"/home/bschroed/Documents/projects/PyGromosTools/examples/example_files/solvation_free_energy/test_liq/eqtest_eq_1/job_analysis.py\", line 37, in <module>\\n'\n",
      "\tb'    do(in_simulation_dir=in_simulation_dir, out_analysis_dir=out_analysis_dir, sim_prefix=sim_prefix, n_processes=n_processes, control_dict=control_dict, verbose=verbose, )\\n'\n",
      "\tb'  File \"/home/bschroed/Documents/projects/PyGromosTools/pygromos/simulations/hpc_queuing/job_scheduling/workers/analysis_workers/simulation_analysis.py\", line 79, in do\\n'\n",
      "\tb'    project_concatenation(\\n'\n",
      "\tb'  File \"/home/bschroed/Documents/projects/PyGromosTools/pygromos/simulations/hpc_queuing/job_scheduling/workers/analysis_workers/simulation_analysis.py\", line 160, in project_concatenation\\n'\n",
      "\tb'    if any([math.isnan(x) for x in sim_cnf.GENBOX.euler]):\\n'\n",
      "\tb\"AttributeError: 'Cnf' object has no attribute 'GENBOX'\\n\"\n",
      "\n",
      "During handling of the above exception, another exception occurred:\n",
      "\n",
      "Traceback (most recent call last):\n",
      "  File \"/home/bschroed/Documents/projects/PyGromosTools/pygromos/simulations/hpc_queuing/job_scheduling/schedulers/simulation_scheduler.py\", line 223, in do\n",
      "    ana_previous_job_ID = submission_system.submit_to_queue(sub_job)\n",
      "  File \"/home/bschroed/Documents/projects/PyGromosTools/pygromos/simulations/hpc_queuing/submission_systems/local.py\", line 84, in submit_to_queue\n",
      "    print(process)\n",
      "UnboundLocalError: local variable 'process' referenced before assignment\n",
      "Traceback (most recent call last):\n",
      "  File \"/home/bschroed/Documents/projects/PyGromosTools/pygromos/simulations/hpc_queuing/submission_systems/local.py\", line 71, in submit_to_queue\n",
      "    process = bash.execute(command=command, catch_STD=True, env=self.environment)\n",
      "  File \"/home/bschroed/Documents/projects/PyGromosTools/pygromos/utils/bash.py\", line 935, in execute\n",
      "    return execute_subprocess(command=command, verbose=verbose, catch_STD=catch_STD, env=env)\n",
      "  File \"/home/bschroed/Documents/projects/PyGromosTools/pygromos/utils/bash.py\", line 829, in execute_subprocess\n",
      "    raise ChildProcessError(msg)\n",
      "ChildProcessError: SubProcess Failed due to returncode: 1\n",
      " COMMAND: \n",
      "\t./job_eqtest_eq_1_ana.sh\n",
      "STDOUT:\n",
      "\tb'\\tStart cnfs\\n'\n",
      "\tb\"SEARCH PATTERN: eqtest_eq_1 + * +['.cnf']\\n\"\n",
      "\tb'walking to in_dir:  simulation found:  0\\n'\n",
      "\tb'\\n'\n",
      "\tb'foundFiles:\\n'\n",
      "\tb'\\n'\n",
      "\tb'\\t\\n'\n",
      "\tb'\\t\\tFound 0 cnfs\\n'\n",
      "\tb'/home/bschroed/Documents/projects/PyGromosTools/examples/example_files/solvation_free_energy/test_liq/eqtest_eq_1/simulation/eqtest_eq_1/*.cnf\\n'\n",
      "STDERR:\n",
      "\tb\"/home/bschroed/Documents/projects/PyGromosTools/pygromos/simulations/hpc_queuing/job_scheduling/workers/analysis_workers/simulation_analysis.py:318: UserWarning: could not find any file with the prefix: eqtest_eq_1 * ['.cnf'] in folder : \\n\"\n",
      "\tb'/home/bschroed/Documents/projects/PyGromosTools/examples/example_files/solvation_free_energy/test_liq/eqtest_eq_1/simulation\\n'\n",
      "\tb'  warnings.warn(\\n'\n",
      "\tb'Traceback (most recent call last):\\n'\n",
      "\tb'  File \"/home/bschroed/Documents/projects/PyGromosTools/examples/example_files/solvation_free_energy/test_liq/eqtest_eq_1/job_analysis.py\", line 37, in <module>\\n'\n",
      "\tb'    do(in_simulation_dir=in_simulation_dir, out_analysis_dir=out_analysis_dir, sim_prefix=sim_prefix, n_processes=n_processes, control_dict=control_dict, verbose=verbose, )\\n'\n",
      "\tb'  File \"/home/bschroed/Documents/projects/PyGromosTools/pygromos/simulations/hpc_queuing/job_scheduling/workers/analysis_workers/simulation_analysis.py\", line 79, in do\\n'\n",
      "\tb'    project_concatenation(\\n'\n",
      "\tb'  File \"/home/bschroed/Documents/projects/PyGromosTools/pygromos/simulations/hpc_queuing/job_scheduling/workers/analysis_workers/simulation_analysis.py\", line 160, in project_concatenation\\n'\n",
      "\tb'    if any([math.isnan(x) for x in sim_cnf.GENBOX.euler]):\\n'\n",
      "\tb\"AttributeError: 'Cnf' object has no attribute 'GENBOX'\\n\"\n",
      "\n",
      "During handling of the above exception, another exception occurred:\n",
      "\n",
      "Traceback (most recent call last):\n",
      "  File \"/home/bschroed/Documents/projects/PyGromosTools/pygromos/simulations/hpc_queuing/job_scheduling/schedulers/simulation_scheduler.py\", line 223, in do\n",
      "    ana_previous_job_ID = submission_system.submit_to_queue(sub_job)\n",
      "  File \"/home/bschroed/Documents/projects/PyGromosTools/pygromos/simulations/hpc_queuing/submission_systems/local.py\", line 84, in submit_to_queue\n",
      "    print(process)\n",
      "UnboundLocalError: local variable 'process' referenced before assignment\n",
      "\n",
      "The above exception was the direct cause of the following exception:\n",
      "\n",
      "Traceback (most recent call last):\n",
      "  File \"/home/bschroed/Documents/projects/PyGromosTools/pygromos/simulations/modules/general_simulation_modules.py\", line 208, in simulation\n",
      "    last_jobID = simulation_scheduler.do(**MD_job_vars)\n",
      "  File \"/home/bschroed/Documents/projects/PyGromosTools/pygromos/simulations/hpc_queuing/job_scheduling/schedulers/simulation_scheduler.py\", line 234, in do\n",
      "    raise IOError(\"ERROR in SUBMISSION!\") from err\n",
      "OSError: ERROR in SUBMISSION!\n"
     ]
    },
    {
     "ename": "Exception",
     "evalue": "Could not submit the commands\n\tERROR in SUBMISSION!",
     "output_type": "error",
     "traceback": [
      "\u001b[0;31m---------------------------------------------------------------------------\u001b[0m",
      "\u001b[0;31mChildProcessError\u001b[0m                         Traceback (most recent call last)",
      "File \u001b[0;32m~/Documents/projects/PyGromosTools/pygromos/simulations/hpc_queuing/submission_systems/local.py:71\u001b[0m, in \u001b[0;36mLOCAL.submit_to_queue\u001b[0;34m(self, sub_job)\u001b[0m\n\u001b[1;32m     70\u001b[0m \u001b[38;5;28;01mtry\u001b[39;00m:\n\u001b[0;32m---> 71\u001b[0m     process \u001b[38;5;241m=\u001b[39m \u001b[43mbash\u001b[49m\u001b[38;5;241;43m.\u001b[39;49m\u001b[43mexecute\u001b[49m\u001b[43m(\u001b[49m\u001b[43mcommand\u001b[49m\u001b[38;5;241;43m=\u001b[39;49m\u001b[43mcommand\u001b[49m\u001b[43m,\u001b[49m\u001b[43m \u001b[49m\u001b[43mcatch_STD\u001b[49m\u001b[38;5;241;43m=\u001b[39;49m\u001b[38;5;28;43;01mTrue\u001b[39;49;00m\u001b[43m,\u001b[49m\u001b[43m \u001b[49m\u001b[43menv\u001b[49m\u001b[38;5;241;43m=\u001b[39;49m\u001b[38;5;28;43mself\u001b[39;49m\u001b[38;5;241;43m.\u001b[39;49m\u001b[43menvironment\u001b[49m\u001b[43m)\u001b[49m\n\u001b[1;32m     72\u001b[0m     std_out_buff \u001b[38;5;241m=\u001b[39m \u001b[38;5;28mmap\u001b[39m(\u001b[38;5;28mstr\u001b[39m, process\u001b[38;5;241m.\u001b[39mstdout\u001b[38;5;241m.\u001b[39mreadlines())\n",
      "File \u001b[0;32m~/Documents/projects/PyGromosTools/pygromos/utils/bash.py:935\u001b[0m, in \u001b[0;36mexecute\u001b[0;34m(command, verbose, catch_STD, env)\u001b[0m\n\u001b[1;32m    932\u001b[0m \u001b[38;5;28;01mdef\u001b[39;00m \u001b[38;5;21mexecute\u001b[39m(\n\u001b[1;32m    933\u001b[0m     command: Union[\u001b[38;5;28mstr\u001b[39m, List[\u001b[38;5;28mstr\u001b[39m]], verbose: \u001b[38;5;28mbool\u001b[39m \u001b[38;5;241m=\u001b[39m \u001b[38;5;28;01mFalse\u001b[39;00m, catch_STD: Union[\u001b[38;5;28mbool\u001b[39m, \u001b[38;5;28mstr\u001b[39m] \u001b[38;5;241m=\u001b[39m \u001b[38;5;28;01mFalse\u001b[39;00m, env: \u001b[38;5;28mdict\u001b[39m \u001b[38;5;241m=\u001b[39m \u001b[38;5;28;01mNone\u001b[39;00m\n\u001b[1;32m    934\u001b[0m ):\n\u001b[0;32m--> 935\u001b[0m     \u001b[38;5;28;01mreturn\u001b[39;00m \u001b[43mexecute_subprocess\u001b[49m\u001b[43m(\u001b[49m\u001b[43mcommand\u001b[49m\u001b[38;5;241;43m=\u001b[39;49m\u001b[43mcommand\u001b[49m\u001b[43m,\u001b[49m\u001b[43m \u001b[49m\u001b[43mverbose\u001b[49m\u001b[38;5;241;43m=\u001b[39;49m\u001b[43mverbose\u001b[49m\u001b[43m,\u001b[49m\u001b[43m \u001b[49m\u001b[43mcatch_STD\u001b[49m\u001b[38;5;241;43m=\u001b[39;49m\u001b[43mcatch_STD\u001b[49m\u001b[43m,\u001b[49m\u001b[43m \u001b[49m\u001b[43menv\u001b[49m\u001b[38;5;241;43m=\u001b[39;49m\u001b[43menv\u001b[49m\u001b[43m)\u001b[49m\n",
      "File \u001b[0;32m~/Documents/projects/PyGromosTools/pygromos/utils/bash.py:829\u001b[0m, in \u001b[0;36mexecute_subprocess\u001b[0;34m(command, catch_STD, env, verbose)\u001b[0m\n\u001b[1;32m    828\u001b[0m     msg \u001b[38;5;241m+\u001b[39m\u001b[38;5;241m=\u001b[39m \u001b[38;5;124m\"\u001b[39m\u001b[38;5;124mNONE\u001b[39m\u001b[38;5;124m\"\u001b[39m \u001b[38;5;28;01mif\u001b[39;00m (p\u001b[38;5;241m.\u001b[39mstdout \u001b[38;5;129;01mis\u001b[39;00m \u001b[38;5;28;01mNone\u001b[39;00m) \u001b[38;5;28;01melse\u001b[39;00m \u001b[38;5;124m\"\u001b[39m\u001b[38;5;130;01m\\n\u001b[39;00m\u001b[38;5;130;01m\\t\u001b[39;00m\u001b[38;5;124m\"\u001b[39m\u001b[38;5;241m.\u001b[39mjoin(\u001b[38;5;28mmap\u001b[39m(\u001b[38;5;28mstr\u001b[39m, p\u001b[38;5;241m.\u001b[39mstderr\u001b[38;5;241m.\u001b[39mreadlines()))\n\u001b[0;32m--> 829\u001b[0m     \u001b[38;5;28;01mraise\u001b[39;00m \u001b[38;5;167;01mChildProcessError\u001b[39;00m(msg)\n\u001b[1;32m    830\u001b[0m \u001b[38;5;28;01mif\u001b[39;00m verbose:\n",
      "\u001b[0;31mChildProcessError\u001b[0m: SubProcess Failed due to returncode: 1\n COMMAND: \n\t./job_eqtest_eq_1_ana.sh\nSTDOUT:\n\tb'\\tStart cnfs\\n'\n\tb\"SEARCH PATTERN: eqtest_eq_1 + * +['.cnf']\\n\"\n\tb'walking to in_dir:  simulation found:  0\\n'\n\tb'\\n'\n\tb'foundFiles:\\n'\n\tb'\\n'\n\tb'\\t\\n'\n\tb'\\t\\tFound 0 cnfs\\n'\n\tb'/home/bschroed/Documents/projects/PyGromosTools/examples/example_files/solvation_free_energy/test_liq/eqtest_eq_1/simulation/eqtest_eq_1/*.cnf\\n'\nSTDERR:\n\tb\"/home/bschroed/Documents/projects/PyGromosTools/pygromos/simulations/hpc_queuing/job_scheduling/workers/analysis_workers/simulation_analysis.py:318: UserWarning: could not find any file with the prefix: eqtest_eq_1 * ['.cnf'] in folder : \\n\"\n\tb'/home/bschroed/Documents/projects/PyGromosTools/examples/example_files/solvation_free_energy/test_liq/eqtest_eq_1/simulation\\n'\n\tb'  warnings.warn(\\n'\n\tb'Traceback (most recent call last):\\n'\n\tb'  File \"/home/bschroed/Documents/projects/PyGromosTools/examples/example_files/solvation_free_energy/test_liq/eqtest_eq_1/job_analysis.py\", line 37, in <module>\\n'\n\tb'    do(in_simulation_dir=in_simulation_dir, out_analysis_dir=out_analysis_dir, sim_prefix=sim_prefix, n_processes=n_processes, control_dict=control_dict, verbose=verbose, )\\n'\n\tb'  File \"/home/bschroed/Documents/projects/PyGromosTools/pygromos/simulations/hpc_queuing/job_scheduling/workers/analysis_workers/simulation_analysis.py\", line 79, in do\\n'\n\tb'    project_concatenation(\\n'\n\tb'  File \"/home/bschroed/Documents/projects/PyGromosTools/pygromos/simulations/hpc_queuing/job_scheduling/workers/analysis_workers/simulation_analysis.py\", line 160, in project_concatenation\\n'\n\tb'    if any([math.isnan(x) for x in sim_cnf.GENBOX.euler]):\\n'\n\tb\"AttributeError: 'Cnf' object has no attribute 'GENBOX'\\n\"",
      "\nDuring handling of the above exception, another exception occurred:\n",
      "\u001b[0;31mUnboundLocalError\u001b[0m                         Traceback (most recent call last)",
      "File \u001b[0;32m~/Documents/projects/PyGromosTools/pygromos/simulations/hpc_queuing/job_scheduling/schedulers/simulation_scheduler.py:223\u001b[0m, in \u001b[0;36mdo\u001b[0;34m(in_simSystem, out_dir_path, simulation_run_num, equilibration_run_num, initialize_first_run, reinitialize_every_run, analysis_script_path, submission_system, previous_job_ID, _no_double_submit_check, _work_dir, verbose, verbose_lvl)\u001b[0m\n\u001b[1;32m    217\u001b[0m sub_job \u001b[38;5;241m=\u001b[39m Submission_job(\n\u001b[1;32m    218\u001b[0m     command\u001b[38;5;241m=\u001b[39m\u001b[38;5;124m\"\u001b[39m\u001b[38;5;124mpython3 \u001b[39m\u001b[38;5;124m\"\u001b[39m \u001b[38;5;241m+\u001b[39m analysis_script_path,\n\u001b[1;32m    219\u001b[0m     jobName\u001b[38;5;241m=\u001b[39mtmp_jobname,\n\u001b[1;32m    220\u001b[0m     outLog\u001b[38;5;241m=\u001b[39mana_log,\n\u001b[1;32m    221\u001b[0m     queue_after_jobID\u001b[38;5;241m=\u001b[39mprevious_job_ID,\n\u001b[1;32m    222\u001b[0m )\n\u001b[0;32m--> 223\u001b[0m ana_previous_job_ID \u001b[38;5;241m=\u001b[39m \u001b[43msubmission_system\u001b[49m\u001b[38;5;241;43m.\u001b[39;49m\u001b[43msubmit_to_queue\u001b[49m\u001b[43m(\u001b[49m\u001b[43msub_job\u001b[49m\u001b[43m)\u001b[49m\n\u001b[1;32m    225\u001b[0m \u001b[38;5;28;01mif\u001b[39;00m verbose:\n",
      "File \u001b[0;32m~/Documents/projects/PyGromosTools/pygromos/simulations/hpc_queuing/submission_systems/local.py:84\u001b[0m, in \u001b[0;36mLOCAL.submit_to_queue\u001b[0;34m(self, sub_job)\u001b[0m\n\u001b[1;32m     83\u001b[0m \u001b[38;5;28;01mtry\u001b[39;00m:\n\u001b[0;32m---> 84\u001b[0m     \u001b[38;5;28mprint\u001b[39m(\u001b[43mprocess\u001b[49m)\n\u001b[1;32m     85\u001b[0m \u001b[38;5;28;01mexcept\u001b[39;00m \u001b[38;5;167;01mChildProcessError\u001b[39;00m:\n",
      "\u001b[0;31mUnboundLocalError\u001b[0m: local variable 'process' referenced before assignment",
      "\nThe above exception was the direct cause of the following exception:\n",
      "\u001b[0;31mOSError\u001b[0m                                   Traceback (most recent call last)",
      "File \u001b[0;32m~/Documents/projects/PyGromosTools/pygromos/simulations/modules/general_simulation_modules.py:208\u001b[0m, in \u001b[0;36msimulation\u001b[0;34m(in_gromos_simulation_system, override_project_dir, step_name, in_imd_path, submission_system, simulation_runs, equilibration_runs, previous_simulation_run, force_simulation, initialize_first_run, reinitialize_every_run, analysis_script, analysis_control_dict, _no_double_submit_check, _work_dir, verbose, verbose_lvl, _template_imd_path)\u001b[0m\n\u001b[1;32m    207\u001b[0m     \u001b[38;5;28;01melse\u001b[39;00m:\n\u001b[0;32m--> 208\u001b[0m         last_jobID \u001b[38;5;241m=\u001b[39m \u001b[43msimulation_scheduler\u001b[49m\u001b[38;5;241;43m.\u001b[39;49m\u001b[43mdo\u001b[49m\u001b[43m(\u001b[49m\u001b[38;5;241;43m*\u001b[39;49m\u001b[38;5;241;43m*\u001b[39;49m\u001b[43mMD_job_vars\u001b[49m\u001b[43m)\u001b[49m\n\u001b[1;32m    209\u001b[0m \u001b[38;5;28;01mexcept\u001b[39;00m \u001b[38;5;167;01mException\u001b[39;00m \u001b[38;5;28;01mas\u001b[39;00m err:\n",
      "File \u001b[0;32m~/Documents/projects/PyGromosTools/pygromos/simulations/hpc_queuing/job_scheduling/schedulers/simulation_scheduler.py:234\u001b[0m, in \u001b[0;36mdo\u001b[0;34m(in_simSystem, out_dir_path, simulation_run_num, equilibration_run_num, initialize_first_run, reinitialize_every_run, analysis_script_path, submission_system, previous_job_ID, _no_double_submit_check, _work_dir, verbose, verbose_lvl)\u001b[0m\n\u001b[1;32m    233\u001b[0m     traceback\u001b[38;5;241m.\u001b[39mprint_exception(\u001b[38;5;241m*\u001b[39msys\u001b[38;5;241m.\u001b[39mexc_info())\n\u001b[0;32m--> 234\u001b[0m     \u001b[38;5;28;01mraise\u001b[39;00m \u001b[38;5;167;01mIOError\u001b[39;00m(\u001b[38;5;124m\"\u001b[39m\u001b[38;5;124mERROR in SUBMISSION!\u001b[39m\u001b[38;5;124m\"\u001b[39m) \u001b[38;5;28;01mfrom\u001b[39;00m \u001b[38;5;21;01merr\u001b[39;00m\n\u001b[1;32m    236\u001b[0m \u001b[38;5;66;03m# in_simSystem._future_promise = False #reset future promising if necessary\u001b[39;00m\n",
      "\u001b[0;31mOSError\u001b[0m: ERROR in SUBMISSION!",
      "\nDuring handling of the above exception, another exception occurred:\n",
      "\u001b[0;31mException\u001b[0m                                 Traceback (most recent call last)",
      "Input \u001b[0;32mIn [10]\u001b[0m, in \u001b[0;36m<cell line: 1>\u001b[0;34m()\u001b[0m\n\u001b[0;32m----> 1\u001b[0m eq_sys, jobID \u001b[38;5;241m=\u001b[39m \u001b[43msf\u001b[49m\u001b[38;5;241;43m.\u001b[39;49m\u001b[43meq_liq\u001b[49m\u001b[43m(\u001b[49m\u001b[43min_gromos_simulation_system\u001b[49m\u001b[38;5;241;43m=\u001b[39;49m\u001b[43memin_sys\u001b[49m\u001b[43m,\u001b[49m\u001b[43mprev_JobID\u001b[49m\u001b[38;5;241;43m=\u001b[39;49m\u001b[43mjobID\u001b[49m\u001b[43m)\u001b[49m\n",
      "File \u001b[0;32m~/Documents/projects/PyGromosTools/pygromos/simulations/approaches/solvation_free_energy_calculation/solvation_free_energy.py:396\u001b[0m, in \u001b[0;36mSolvation_free_energy_calculation.eq_liq\u001b[0;34m(self, in_gromos_simulation_system, prev_JobID)\u001b[0m\n\u001b[1;32m    393\u001b[0m in_gromos_simulation_system\u001b[38;5;241m.\u001b[39mimd \u001b[38;5;241m=\u001b[39m Imd(template_md)\n\u001b[1;32m    395\u001b[0m \u001b[38;5;66;03m# Equilibrate system and pass on for next step\u001b[39;00m\n\u001b[0;32m--> 396\u001b[0m eq_sys1, JobID1 \u001b[38;5;241m=\u001b[39m \u001b[38;5;28;43mself\u001b[39;49m\u001b[38;5;241;43m.\u001b[39;49m\u001b[43mequilibration_gromos_system_step\u001b[49m\u001b[43m(\u001b[49m\n\u001b[1;32m    397\u001b[0m \u001b[43m    \u001b[49m\u001b[43min_gromos_simulation_system\u001b[49m\u001b[38;5;241;43m=\u001b[39;49m\u001b[43min_gromos_simulation_system\u001b[49m\u001b[43m,\u001b[49m\n\u001b[1;32m    398\u001b[0m \u001b[43m    \u001b[49m\u001b[43mNTIVAL\u001b[49m\u001b[38;5;241;43m=\u001b[39;49m\u001b[38;5;241;43m1\u001b[39;49m\u001b[43m,\u001b[49m\n\u001b[1;32m    399\u001b[0m \u001b[43m    \u001b[49m\u001b[43mNTISHI\u001b[49m\u001b[38;5;241;43m=\u001b[39;49m\u001b[38;5;241;43m1\u001b[39;49m\u001b[43m,\u001b[49m\n\u001b[1;32m    400\u001b[0m \u001b[43m    \u001b[49m\u001b[43mTEMPI\u001b[49m\u001b[38;5;241;43m=\u001b[39;49m\u001b[38;5;241;43m60\u001b[39;49m\u001b[43m,\u001b[49m\n\u001b[1;32m    401\u001b[0m \u001b[43m    \u001b[49m\u001b[43mTEMPO\u001b[49m\u001b[38;5;241;43m=\u001b[39;49m\u001b[38;5;241;43m60\u001b[39;49m\u001b[43m,\u001b[49m\n\u001b[1;32m    402\u001b[0m \u001b[43m    \u001b[49m\u001b[43mprevID\u001b[49m\u001b[38;5;241;43m=\u001b[39;49m\u001b[43mprev_JobID\u001b[49m\u001b[43m,\u001b[49m\n\u001b[1;32m    403\u001b[0m \u001b[43m    \u001b[49m\u001b[43mrun_name\u001b[49m\u001b[38;5;241;43m=\u001b[39;49m\u001b[38;5;28;43mself\u001b[39;49m\u001b[38;5;241;43m.\u001b[39;49m\u001b[43msystem_name\u001b[49m\u001b[43m \u001b[49m\u001b[38;5;241;43m+\u001b[39;49m\u001b[43m \u001b[49m\u001b[38;5;124;43m\"\u001b[39;49m\u001b[38;5;124;43m_eq_1\u001b[39;49m\u001b[38;5;124;43m\"\u001b[39;49m\u001b[43m,\u001b[49m\n\u001b[1;32m    404\u001b[0m \u001b[43m    \u001b[49m\u001b[43mnatoms\u001b[49m\u001b[38;5;241;43m=\u001b[39;49m\u001b[38;5;28;43mself\u001b[39;49m\u001b[38;5;241;43m.\u001b[39;49m\u001b[43mnum_atoms\u001b[49m\u001b[43m \u001b[49m\u001b[38;5;241;43m*\u001b[39;49m\u001b[43m \u001b[49m\u001b[38;5;28;43mself\u001b[39;49m\u001b[38;5;241;43m.\u001b[39;49m\u001b[43mnum_molecules\u001b[49m\u001b[43m,\u001b[49m\n\u001b[1;32m    405\u001b[0m \u001b[43m\u001b[49m\u001b[43m)\u001b[49m\n\u001b[1;32m    406\u001b[0m eq_sys2, JobID2 \u001b[38;5;241m=\u001b[39m \u001b[38;5;28mself\u001b[39m\u001b[38;5;241m.\u001b[39mequilibration_gromos_system_step(\n\u001b[1;32m    407\u001b[0m     in_gromos_simulation_system\u001b[38;5;241m=\u001b[39meq_sys1,\n\u001b[1;32m    408\u001b[0m     NTIVAL\u001b[38;5;241m=\u001b[39m\u001b[38;5;241m0\u001b[39m,\n\u001b[0;32m   (...)\u001b[0m\n\u001b[1;32m    414\u001b[0m     natoms\u001b[38;5;241m=\u001b[39m\u001b[38;5;28mself\u001b[39m\u001b[38;5;241m.\u001b[39mnum_atoms \u001b[38;5;241m*\u001b[39m \u001b[38;5;28mself\u001b[39m\u001b[38;5;241m.\u001b[39mnum_molecules,\n\u001b[1;32m    415\u001b[0m )\n\u001b[1;32m    416\u001b[0m eq_sys3, JobID3 \u001b[38;5;241m=\u001b[39m \u001b[38;5;28mself\u001b[39m\u001b[38;5;241m.\u001b[39mequilibration_gromos_system_step(\n\u001b[1;32m    417\u001b[0m     in_gromos_simulation_system\u001b[38;5;241m=\u001b[39meq_sys2,\n\u001b[1;32m    418\u001b[0m     NTIVAL\u001b[38;5;241m=\u001b[39m\u001b[38;5;241m0\u001b[39m,\n\u001b[0;32m   (...)\u001b[0m\n\u001b[1;32m    424\u001b[0m     natoms\u001b[38;5;241m=\u001b[39m\u001b[38;5;28mself\u001b[39m\u001b[38;5;241m.\u001b[39mnum_atoms \u001b[38;5;241m*\u001b[39m \u001b[38;5;28mself\u001b[39m\u001b[38;5;241m.\u001b[39mnum_molecules,\n\u001b[1;32m    425\u001b[0m )\n",
      "File \u001b[0;32m~/Documents/projects/PyGromosTools/pygromos/simulations/approaches/solvation_free_energy_calculation/solvation_free_energy.py:364\u001b[0m, in \u001b[0;36mSolvation_free_energy_calculation.equilibration_gromos_system_step\u001b[0;34m(self, in_gromos_simulation_system, NTIVAL, NTISHI, TEMPI, TEMPO, prevID, run_name, natoms)\u001b[0m\n\u001b[1;32m    354\u001b[0m     md_sys \u001b[38;5;241m=\u001b[39m simulation(\n\u001b[1;32m    355\u001b[0m         in_gromos_simulation_system\u001b[38;5;241m=\u001b[39min_gromos_simulation_system,\n\u001b[1;32m    356\u001b[0m         override_project_dir\u001b[38;5;241m=\u001b[39m\u001b[38;5;28mself\u001b[39m\u001b[38;5;241m.\u001b[39mgroSys_liq\u001b[38;5;241m.\u001b[39mwork_folder,\n\u001b[0;32m   (...)\u001b[0m\n\u001b[1;32m    361\u001b[0m         verbose\u001b[38;5;241m=\u001b[39m\u001b[38;5;28mself\u001b[39m\u001b[38;5;241m.\u001b[39mverbose,\n\u001b[1;32m    362\u001b[0m     )\n\u001b[1;32m    363\u001b[0m \u001b[38;5;28;01melse\u001b[39;00m:\n\u001b[0;32m--> 364\u001b[0m     md_sys \u001b[38;5;241m=\u001b[39m \u001b[43msimulation\u001b[49m\u001b[43m(\u001b[49m\n\u001b[1;32m    365\u001b[0m \u001b[43m        \u001b[49m\u001b[43min_gromos_simulation_system\u001b[49m\u001b[38;5;241;43m=\u001b[39;49m\u001b[43min_gromos_simulation_system\u001b[49m\u001b[43m,\u001b[49m\n\u001b[1;32m    366\u001b[0m \u001b[43m        \u001b[49m\u001b[43moverride_project_dir\u001b[49m\u001b[38;5;241;43m=\u001b[39;49m\u001b[38;5;28;43mself\u001b[39;49m\u001b[38;5;241;43m.\u001b[39;49m\u001b[43mgroSys_liq\u001b[49m\u001b[38;5;241;43m.\u001b[39;49m\u001b[43mwork_folder\u001b[49m\u001b[43m,\u001b[49m\n\u001b[1;32m    367\u001b[0m \u001b[43m        \u001b[49m\u001b[43mstep_name\u001b[49m\u001b[38;5;241;43m=\u001b[39;49m\u001b[38;5;124;43m\"\u001b[39;49m\u001b[38;5;124;43meq\u001b[39;49m\u001b[38;5;124;43m\"\u001b[39;49m\u001b[43m \u001b[49m\u001b[38;5;241;43m+\u001b[39;49m\u001b[43m \u001b[49m\u001b[43mrun_name\u001b[49m\u001b[43m,\u001b[49m\n\u001b[1;32m    368\u001b[0m \u001b[43m        \u001b[49m\u001b[43min_imd_path\u001b[49m\u001b[38;5;241;43m=\u001b[39;49m\u001b[43meq_imd\u001b[49m\u001b[43m,\u001b[49m\n\u001b[1;32m    369\u001b[0m \u001b[43m        \u001b[49m\u001b[43msubmission_system\u001b[49m\u001b[38;5;241;43m=\u001b[39;49m\u001b[38;5;28;43mself\u001b[39;49m\u001b[38;5;241;43m.\u001b[39;49m\u001b[43m_subsystem\u001b[49m\u001b[43m,\u001b[49m\n\u001b[1;32m    370\u001b[0m \u001b[43m        \u001b[49m\u001b[43manalysis_script\u001b[49m\u001b[38;5;241;43m=\u001b[39;49m\u001b[43msimulation_analysis\u001b[49m\u001b[38;5;241;43m.\u001b[39;49m\u001b[43mdo\u001b[49m\u001b[43m,\u001b[49m\n\u001b[1;32m    371\u001b[0m \u001b[43m        \u001b[49m\u001b[43mverbose\u001b[49m\u001b[38;5;241;43m=\u001b[39;49m\u001b[38;5;28;43mself\u001b[39;49m\u001b[38;5;241;43m.\u001b[39;49m\u001b[43mverbose\u001b[49m\u001b[43m,\u001b[49m\n\u001b[1;32m    372\u001b[0m \u001b[43m        \u001b[49m\u001b[43mprevious_simulation_run\u001b[49m\u001b[38;5;241;43m=\u001b[39;49m\u001b[43mprevID\u001b[49m\u001b[43m,\u001b[49m\n\u001b[1;32m    373\u001b[0m \u001b[43m    \u001b[49m\u001b[43m)\u001b[49m\n\u001b[1;32m    375\u001b[0m \u001b[38;5;28;01mreturn\u001b[39;00m md_sys, md_sys\u001b[38;5;241m.\u001b[39m_last_jobID\n",
      "File \u001b[0;32m~/Documents/projects/PyGromosTools/pygromos/simulations/modules/general_simulation_modules.py:211\u001b[0m, in \u001b[0;36msimulation\u001b[0;34m(in_gromos_simulation_system, override_project_dir, step_name, in_imd_path, submission_system, simulation_runs, equilibration_runs, previous_simulation_run, force_simulation, initialize_first_run, reinitialize_every_run, analysis_script, analysis_control_dict, _no_double_submit_check, _work_dir, verbose, verbose_lvl, _template_imd_path)\u001b[0m\n\u001b[1;32m    209\u001b[0m \u001b[38;5;28;01mexcept\u001b[39;00m \u001b[38;5;167;01mException\u001b[39;00m \u001b[38;5;28;01mas\u001b[39;00m err:\n\u001b[1;32m    210\u001b[0m     traceback\u001b[38;5;241m.\u001b[39mprint_exception(\u001b[38;5;241m*\u001b[39msys\u001b[38;5;241m.\u001b[39mexc_info())\n\u001b[0;32m--> 211\u001b[0m     \u001b[38;5;28;01mraise\u001b[39;00m \u001b[38;5;167;01mException\u001b[39;00m(\u001b[38;5;124m\"\u001b[39m\u001b[38;5;124mCould not submit the commands\u001b[39m\u001b[38;5;130;01m\\n\u001b[39;00m\u001b[38;5;130;01m\\t\u001b[39;00m\u001b[38;5;124m\"\u001b[39m \u001b[38;5;241m+\u001b[39m \u001b[38;5;124m\"\u001b[39m\u001b[38;5;130;01m\\n\u001b[39;00m\u001b[38;5;130;01m\\t\u001b[39;00m\u001b[38;5;124m\"\u001b[39m\u001b[38;5;241m.\u001b[39mjoin(\u001b[38;5;28mmap\u001b[39m(\u001b[38;5;28mstr\u001b[39m, err\u001b[38;5;241m.\u001b[39margs)))\n\u001b[1;32m    213\u001b[0m time\u001b[38;5;241m.\u001b[39msleep(time_wait_s_for_filesystem)\n\u001b[1;32m    215\u001b[0m \u001b[38;5;66;03m# Return the promise final system\u001b[39;00m\n",
      "\u001b[0;31mException\u001b[0m: Could not submit the commands\n\tERROR in SUBMISSION!"
     ]
    }
   ],
   "source": [
    "eq_sys, jobID = sf.eq_liq(in_gromos_simulation_system=emin_sys,prev_JobID=jobID)"
   ]
  },
  {
   "cell_type": "markdown",
   "id": "2b48e02f-7e66-4d16-bb7c-05248b4ba7dc",
   "metadata": {},
   "source": [
    "#### Do Ti calculation"
   ]
  },
  {
   "cell_type": "code",
   "execution_count": 11,
   "id": "99c54250-dabe-48fa-a26f-966516569bca",
   "metadata": {
    "execution": {
     "iopub.execute_input": "2022-04-01T08:00:26.669189Z",
     "iopub.status.busy": "2022-04-01T08:00:26.668204Z",
     "iopub.status.idle": "2022-04-01T08:00:26.700257Z",
     "shell.execute_reply": "2022-04-01T08:00:26.699006Z"
    }
   },
   "outputs": [
    {
     "ename": "NameError",
     "evalue": "name 'eq_sys' is not defined",
     "output_type": "error",
     "traceback": [
      "\u001b[0;31m---------------------------------------------------------------------------\u001b[0m",
      "\u001b[0;31mNameError\u001b[0m                                 Traceback (most recent call last)",
      "Input \u001b[0;32mIn [11]\u001b[0m, in \u001b[0;36m<cell line: 1>\u001b[0;34m()\u001b[0m\n\u001b[0;32m----> 1\u001b[0m ti_sys, jobID \u001b[38;5;241m=\u001b[39m sf\u001b[38;5;241m.\u001b[39mti_liq(in_gromos_simulation_system\u001b[38;5;241m=\u001b[39m\u001b[43meq_sys\u001b[49m,\n\u001b[1;32m      2\u001b[0m                           prev_JobID\u001b[38;5;241m=\u001b[39mjobID,\n\u001b[1;32m      3\u001b[0m                           n_points\u001b[38;5;241m=\u001b[39mn_points)\n",
      "\u001b[0;31mNameError\u001b[0m: name 'eq_sys' is not defined"
     ]
    }
   ],
   "source": [
    "ti_sys, jobID = sf.ti_liq(in_gromos_simulation_system=eq_sys,\n",
    "                          prev_JobID=jobID,\n",
    "                          n_points=n_points)"
   ]
  },
  {
   "cell_type": "markdown",
   "id": "ac9fc432-63ff-476a-aeb4-b1fe028873e8",
   "metadata": {},
   "source": [
    "#### Read out results"
   ]
  },
  {
   "cell_type": "code",
   "execution_count": 12,
   "id": "0ae0200b-7c7f-4a74-94e5-b7801f31b6ba",
   "metadata": {
    "execution": {
     "iopub.execute_input": "2022-04-01T08:00:26.704282Z",
     "iopub.status.busy": "2022-04-01T08:00:26.703557Z",
     "iopub.status.idle": "2022-04-01T08:00:26.758916Z",
     "shell.execute_reply": "2022-04-01T08:00:26.757983Z"
    }
   },
   "outputs": [
    {
     "name": "stdout",
     "output_type": "stream",
     "text": [
      "/home/bschroed/Documents/projects/PyGromosTools/examples/example_files/solvation_free_energy/test_liq/ti/test_L0.0_2/test_L0.0_2/simulation/test_L0.0_2_1/test_L0.0_2\n"
     ]
    },
    {
     "ename": "NameError",
     "evalue": "name 'exit' is not defined",
     "output_type": "error",
     "traceback": [
      "\u001b[0;31m---------------------------------------------------------------------------\u001b[0m",
      "\u001b[0;31mNameError\u001b[0m                                 Traceback (most recent call last)",
      "Input \u001b[0;32mIn [12]\u001b[0m, in \u001b[0;36m<cell line: 1>\u001b[0;34m()\u001b[0m\n\u001b[0;32m----> 1\u001b[0m \u001b[43msf\u001b[49m\u001b[38;5;241;43m.\u001b[39;49m\u001b[43mcalculate_solvation_free_energy\u001b[49m\u001b[43m(\u001b[49m\u001b[43mn_points\u001b[49m\u001b[38;5;241;43m=\u001b[39;49m\u001b[43mn_points\u001b[49m\u001b[43m)\u001b[49m\n",
      "File \u001b[0;32m~/Documents/projects/PyGromosTools/pygromos/simulations/approaches/solvation_free_energy_calculation/solvation_free_energy.py:882\u001b[0m, in \u001b[0;36mSolvation_free_energy_calculation.calculate_solvation_free_energy\u001b[0;34m(self, n_points)\u001b[0m\n\u001b[1;32m    880\u001b[0m \u001b[38;5;28;01melse\u001b[39;00m:\n\u001b[1;32m    881\u001b[0m     \u001b[38;5;28mprint\u001b[39m(path \u001b[38;5;241m+\u001b[39m \u001b[38;5;124m\"\u001b[39m\u001b[38;5;124msimulation/\u001b[39m\u001b[38;5;124m\"\u001b[39m \u001b[38;5;241m+\u001b[39m system_name \u001b[38;5;241m+\u001b[39m \u001b[38;5;124m\"\u001b[39m\u001b[38;5;124m_1/\u001b[39m\u001b[38;5;124m\"\u001b[39m \u001b[38;5;241m+\u001b[39m system_name)\n\u001b[0;32m--> 882\u001b[0m     \u001b[43mexit\u001b[49m(\u001b[38;5;124m\"\u001b[39m\u001b[38;5;124mNo Files have been found\u001b[39m\u001b[38;5;124m\"\u001b[39m)\n\u001b[1;32m    884\u001b[0m dhdls \u001b[38;5;241m=\u001b[39m [trg\u001b[38;5;241m.\u001b[39mdatabase\u001b[38;5;241m.\u001b[39mtotals[i][\u001b[38;5;241m2\u001b[39m] \u001b[38;5;28;01mfor\u001b[39;00m i \u001b[38;5;129;01min\u001b[39;00m \u001b[38;5;28mrange\u001b[39m(\u001b[38;5;28mlen\u001b[39m(trg\u001b[38;5;241m.\u001b[39mdatabase\u001b[38;5;241m.\u001b[39mtotals))]\n\u001b[1;32m    886\u001b[0m \u001b[38;5;66;03m# Remove simulation directory\u001b[39;00m\n",
      "\u001b[0;31mNameError\u001b[0m: name 'exit' is not defined"
     ]
    }
   ],
   "source": [
    "sf.calculate_solvation_free_energy(n_points=n_points)"
   ]
  }
 ],
 "metadata": {
  "interpreter": {
   "hash": "b1b7b2ea43b8e767316eee98e01335d045804d2d47db68b6a5827e187ee91a7e"
  },
  "kernelspec": {
   "display_name": "Python 3.9.7 ('pygro2')",
   "language": "python",
   "name": "python3"
  },
  "language_info": {
   "codemirror_mode": {
    "name": "ipython",
    "version": 3
   },
   "file_extension": ".py",
   "mimetype": "text/x-python",
   "name": "python",
   "nbconvert_exporter": "python",
   "pygments_lexer": "ipython3",
   "version": "3.9.10"
  },
  "widgets": {
   "application/vnd.jupyter.widget-state+json": {
    "state": {
     "5258c258e46c450293381fcb5431736f": {
      "model_module": "@jupyter-widgets/base",
      "model_module_version": "1.2.0",
      "model_name": "LayoutModel",
      "state": {
       "_model_module": "@jupyter-widgets/base",
       "_model_module_version": "1.2.0",
       "_model_name": "LayoutModel",
       "_view_count": null,
       "_view_module": "@jupyter-widgets/base",
       "_view_module_version": "1.2.0",
       "_view_name": "LayoutView",
       "align_content": null,
       "align_items": null,
       "align_self": null,
       "border": null,
       "bottom": null,
       "display": null,
       "flex": null,
       "flex_flow": null,
       "grid_area": null,
       "grid_auto_columns": null,
       "grid_auto_flow": null,
       "grid_auto_rows": null,
       "grid_column": null,
       "grid_gap": null,
       "grid_row": null,
       "grid_template_areas": null,
       "grid_template_columns": null,
       "grid_template_rows": null,
       "height": null,
       "justify_content": null,
       "justify_items": null,
       "left": null,
       "margin": null,
       "max_height": null,
       "max_width": null,
       "min_height": null,
       "min_width": null,
       "object_fit": null,
       "object_position": null,
       "order": null,
       "overflow": null,
       "overflow_x": null,
       "overflow_y": null,
       "padding": null,
       "right": null,
       "top": null,
       "visibility": null,
       "width": null
      }
     },
     "c0d65ada4b8946b6a29c01dba32fb9d2": {
      "model_module": "nglview-js-widgets",
      "model_module_version": "3.0.1",
      "model_name": "ColormakerRegistryModel",
      "state": {
       "_dom_classes": [],
       "_model_module": "nglview-js-widgets",
       "_model_module_version": "3.0.1",
       "_model_name": "ColormakerRegistryModel",
       "_msg_ar": [],
       "_msg_q": [],
       "_ready": false,
       "_view_count": null,
       "_view_module": "nglview-js-widgets",
       "_view_module_version": "3.0.1",
       "_view_name": "ColormakerRegistryView",
       "layout": "IPY_MODEL_5258c258e46c450293381fcb5431736f"
      }
     }
    },
    "version_major": 2,
    "version_minor": 0
   }
  }
 },
 "nbformat": 4,
 "nbformat_minor": 5
}
