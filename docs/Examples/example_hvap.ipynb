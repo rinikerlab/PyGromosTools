{
 "cells": [
  {
   "cell_type": "code",
   "execution_count": 1,
   "metadata": {
    "execution": {
     "iopub.execute_input": "2022-03-31T11:07:36.313690Z",
     "iopub.status.busy": "2022-03-31T11:07:36.312911Z",
     "iopub.status.idle": "2022-03-31T11:07:37.461208Z",
     "shell.execute_reply": "2022-03-31T11:07:37.458971Z"
    }
   },
   "outputs": [
    {
     "data": {
      "application/vnd.jupyter.widget-view+json": {
       "model_id": "d2996463930643b7ba687b570ab8699b",
       "version_major": 2,
       "version_minor": 0
      },
      "text/plain": []
     },
     "metadata": {},
     "output_type": "display_data"
    }
   ],
   "source": [
    "import os\n",
    "from pygromos.files.forcefield.gromos.gromosff import GromosFF\n",
    "from pygromos.files.gromos_system.gromos_system import Gromos_System\n",
    "from pygromos.simulations.approaches.hvap_calculation.hvap_calculation import Hvap_calculation\n",
    "from pygromos.data.simulation_parameters_templates import template_sd"
   ]
  },
  {
   "cell_type": "code",
   "execution_count": 2,
   "metadata": {
    "execution": {
     "iopub.execute_input": "2022-03-31T11:07:37.465746Z",
     "iopub.status.busy": "2022-03-31T11:07:37.465132Z",
     "iopub.status.idle": "2022-03-31T11:07:37.470378Z",
     "shell.execute_reply": "2022-03-31T11:07:37.469097Z"
    }
   },
   "outputs": [],
   "source": [
    "work_dir=os.getcwd()+\"/example_files/Hvap_files/\"\n",
    "gromosXX_path=None \n",
    "gromosPP_path=None"
   ]
  },
  {
   "cell_type": "code",
   "execution_count": 3,
   "metadata": {
    "execution": {
     "iopub.execute_input": "2022-03-31T11:07:37.475740Z",
     "iopub.status.busy": "2022-03-31T11:07:37.473509Z",
     "iopub.status.idle": "2022-03-31T11:07:40.156818Z",
     "shell.execute_reply": "2022-03-31T11:07:40.154997Z"
    }
   },
   "outputs": [],
   "source": [
    "ff = GromosFF(name=\"54A7\")"
   ]
  },
  {
   "cell_type": "code",
   "execution_count": 4,
   "metadata": {
    "execution": {
     "iopub.execute_input": "2022-03-31T11:07:40.164370Z",
     "iopub.status.busy": "2022-03-31T11:07:40.163813Z",
     "iopub.status.idle": "2022-03-31T11:07:44.394905Z",
     "shell.execute_reply": "2022-03-31T11:07:44.391146Z"
    }
   },
   "outputs": [
    {
     "name": "stderr",
     "output_type": "stream",
     "text": [
      "mkdir: cannot create directory ‘/home/bschroed/Documents/projects/PyGromosTools/docs/sphinx_project/Examples/example_files/Hvap_files/init/’: No such file or directory\n"
     ]
    },
    {
     "ename": "OSError",
     "evalue": "could not make folder:\n /home/bschroed/Documents/projects/PyGromosTools/docs/sphinx_project/Examples/example_files/Hvap_files/init/",
     "output_type": "error",
     "traceback": [
      "\u001b[0;31m---------------------------------------------------------------------------\u001b[0m",
      "\u001b[0;31mOSError\u001b[0m                                   Traceback (most recent call last)",
      "Input \u001b[0;32mIn [4]\u001b[0m, in \u001b[0;36m<cell line: 1>\u001b[0;34m()\u001b[0m\n\u001b[0;32m----> 1\u001b[0m groSys \u001b[38;5;241m=\u001b[39m \u001b[43mGromos_System\u001b[49m\u001b[43m(\u001b[49m\u001b[43mwork_folder\u001b[49m\u001b[38;5;241;43m=\u001b[39;49m\u001b[43mwork_dir\u001b[49m\u001b[38;5;241;43m+\u001b[39;49m\u001b[38;5;124;43m\"\u001b[39;49m\u001b[38;5;124;43minit/\u001b[39;49m\u001b[38;5;124;43m\"\u001b[39;49m\u001b[43m,\u001b[49m\u001b[43m \u001b[49m\u001b[43msystem_name\u001b[49m\u001b[38;5;241;43m=\u001b[39;49m\u001b[38;5;124;43m\"\u001b[39;49m\u001b[38;5;124;43mHvap_test\u001b[39;49m\u001b[38;5;124;43m\"\u001b[39;49m\u001b[43m,\u001b[49m\u001b[43m \u001b[49m\u001b[43min_smiles\u001b[49m\u001b[38;5;241;43m=\u001b[39;49m\u001b[38;5;124;43m\"\u001b[39;49m\u001b[38;5;124;43mO\u001b[39;49m\u001b[38;5;124;43m\"\u001b[39;49m\u001b[43m,\u001b[49m\u001b[43m \u001b[49m\u001b[43min_residue_list\u001b[49m\u001b[38;5;241;43m=\u001b[39;49m\u001b[43m[\u001b[49m\u001b[38;5;124;43m\"\u001b[39;49m\u001b[38;5;124;43mH2O\u001b[39;49m\u001b[38;5;124;43m\"\u001b[39;49m\u001b[43m]\u001b[49m\u001b[43m,\u001b[49m\n\u001b[1;32m      2\u001b[0m \u001b[43m                       \u001b[49m\u001b[43mauto_convert\u001b[49m\u001b[38;5;241;43m=\u001b[39;49m\u001b[38;5;28;43;01mTrue\u001b[39;49;00m\u001b[43m,\u001b[49m\u001b[43m \u001b[49m\u001b[43mforcefield\u001b[49m\u001b[38;5;241;43m=\u001b[39;49m\u001b[43mff\u001b[49m\u001b[43m,\u001b[49m\u001b[43m \u001b[49m\u001b[43min_imd_path\u001b[49m\u001b[38;5;241;43m=\u001b[39;49m\u001b[43mtemplate_sd\u001b[49m\u001b[43m,\u001b[49m\n\u001b[1;32m      3\u001b[0m \u001b[43m                       \u001b[49m\u001b[43min_gromosPP_bin_dir\u001b[49m\u001b[38;5;241;43m=\u001b[39;49m\u001b[43mgromosPP_path\u001b[49m\u001b[43m,\u001b[49m\u001b[43m \u001b[49m\u001b[43min_gromosXX_bin_dir\u001b[49m\u001b[38;5;241;43m=\u001b[39;49m\u001b[43mgromosXX_path\u001b[49m\u001b[43m)\u001b[49m\n",
      "File \u001b[0;32m~/Documents/projects/PyGromosTools/pygromos/files/gromos_system/gromos_system.py:228\u001b[0m, in \u001b[0;36mGromos_System.__init__\u001b[0;34m(self, work_folder, system_name, rdkitMol, in_mol2_file, readIn, forcefield, auto_convert, adapt_imd_automatically, verbose, in_smiles, in_residue_list, in_top_path, in_cnf_path, in_imd_path, in_disres_path, in_ptp_path, in_posres_path, in_refpos_path, in_qmmm_path, in_gromosXX_bin_dir, in_gromosPP_bin_dir)\u001b[0m\n\u001b[1;32m    217\u001b[0m \u001b[38;5;66;03m# import files:\u001b[39;00m\n\u001b[1;32m    218\u001b[0m file_mapping \u001b[38;5;241m=\u001b[39m {\n\u001b[1;32m    219\u001b[0m     \u001b[38;5;124m\"\u001b[39m\u001b[38;5;124mimd\u001b[39m\u001b[38;5;124m\"\u001b[39m: in_imd_path,\n\u001b[1;32m    220\u001b[0m     \u001b[38;5;124m\"\u001b[39m\u001b[38;5;124mtop\u001b[39m\u001b[38;5;124m\"\u001b[39m: in_top_path,\n\u001b[0;32m   (...)\u001b[0m\n\u001b[1;32m    226\u001b[0m     \u001b[38;5;124m\"\u001b[39m\u001b[38;5;124mqmmm\u001b[39m\u001b[38;5;124m\"\u001b[39m: in_qmmm_path,\n\u001b[1;32m    227\u001b[0m }\n\u001b[0;32m--> 228\u001b[0m \u001b[38;5;28;43mself\u001b[39;49m\u001b[38;5;241;43m.\u001b[39;49m\u001b[43mparse_attribute_files\u001b[49m\u001b[43m(\u001b[49m\u001b[43mfile_mapping\u001b[49m\u001b[43m,\u001b[49m\u001b[43m \u001b[49m\u001b[43mreadIn\u001b[49m\u001b[38;5;241;43m=\u001b[39;49m\u001b[43mreadIn\u001b[49m\u001b[43m,\u001b[49m\u001b[43m \u001b[49m\u001b[43mverbose\u001b[49m\u001b[38;5;241;43m=\u001b[39;49m\u001b[43mverbose\u001b[49m\u001b[43m)\u001b[49m\n\u001b[1;32m    230\u001b[0m \u001b[38;5;66;03m# System Information:\u001b[39;00m\n\u001b[1;32m    231\u001b[0m \u001b[38;5;28;01mif\u001b[39;00m \u001b[38;5;129;01mnot\u001b[39;00m \u001b[38;5;28mself\u001b[39m\u001b[38;5;241m.\u001b[39m_cnf\u001b[38;5;241m.\u001b[39m_future_file:\n",
      "File \u001b[0;32m~/Documents/projects/PyGromosTools/pygromos/files/gromos_system/gromos_system.py:830\u001b[0m, in \u001b[0;36mGromos_System.parse_attribute_files\u001b[0;34m(self, file_mapping, readIn, verbose)\u001b[0m\n\u001b[1;32m    828\u001b[0m \u001b[38;5;66;03m# Check if system folder is present\u001b[39;00m\n\u001b[1;32m    829\u001b[0m \u001b[38;5;28;01mif\u001b[39;00m \u001b[38;5;129;01mnot\u001b[39;00m os\u001b[38;5;241m.\u001b[39mpath\u001b[38;5;241m.\u001b[39mexists(\u001b[38;5;28mself\u001b[39m\u001b[38;5;241m.\u001b[39m_work_folder):\n\u001b[0;32m--> 830\u001b[0m     \u001b[43mbash\u001b[49m\u001b[38;5;241;43m.\u001b[39;49m\u001b[43mmake_folder\u001b[49m\u001b[43m(\u001b[49m\u001b[38;5;28;43mself\u001b[39;49m\u001b[38;5;241;43m.\u001b[39;49m\u001b[43m_work_folder\u001b[49m\u001b[43m)\u001b[49m\n\u001b[1;32m    831\u001b[0m check_file_paths\u001b[38;5;241m.\u001b[39mappend(\u001b[38;5;28mself\u001b[39m\u001b[38;5;241m.\u001b[39m_work_folder)\n\u001b[1;32m    833\u001b[0m \u001b[38;5;66;03m# Check if file- paths are valid\u001b[39;00m\n",
      "File \u001b[0;32m~/Documents/projects/PyGromosTools/pygromos/utils/bash.py:558\u001b[0m, in \u001b[0;36mmake_folder\u001b[0;34m(in_directory_path, additional_option, verbose)\u001b[0m\n\u001b[1;32m    556\u001b[0m \u001b[38;5;28;01mif\u001b[39;00m \u001b[38;5;129;01mnot\u001b[39;00m os\u001b[38;5;241m.\u001b[39mpath\u001b[38;5;241m.\u001b[39misdir(in_directory_path):\n\u001b[1;32m    557\u001b[0m     \u001b[38;5;28;01mif\u001b[39;00m os\u001b[38;5;241m.\u001b[39msystem(mk_folder):\n\u001b[0;32m--> 558\u001b[0m         \u001b[38;5;28;01mraise\u001b[39;00m \u001b[38;5;167;01mOSError\u001b[39;00m(\u001b[38;5;124m\"\u001b[39m\u001b[38;5;124mcould not make folder:\u001b[39m\u001b[38;5;130;01m\\n\u001b[39;00m\u001b[38;5;124m \u001b[39m\u001b[38;5;124m\"\u001b[39m \u001b[38;5;241m+\u001b[39m \u001b[38;5;28mstr\u001b[39m(in_directory_path))\n\u001b[1;32m    560\u001b[0m \u001b[38;5;28;01melif\u001b[39;00m verbose:\n\u001b[1;32m    561\u001b[0m     warnings\u001b[38;5;241m.\u001b[39mwarn(\u001b[38;5;124m\"\u001b[39m\u001b[38;5;124mWARNING:\u001b[39m\u001b[38;5;130;01m\\n\u001b[39;00m\u001b[38;5;130;01m\\t\u001b[39;00m\u001b[38;5;124m Did not build already existing folder: \u001b[39m\u001b[38;5;124m\"\u001b[39m \u001b[38;5;241m+\u001b[39m in_directory_path, category\u001b[38;5;241m=\u001b[39m\u001b[38;5;167;01mUserWarning\u001b[39;00m)\n",
      "\u001b[0;31mOSError\u001b[0m: could not make folder:\n /home/bschroed/Documents/projects/PyGromosTools/docs/sphinx_project/Examples/example_files/Hvap_files/init/"
     ]
    }
   ],
   "source": [
    "groSys = Gromos_System(work_folder=work_dir+\"init/\", system_name=\"Hvap_test\", in_smiles=\"O\", in_residue_list=[\"H2O\"],\n",
    "                       auto_convert=True, forcefield=ff, in_imd_path=template_sd,\n",
    "                       in_gromosPP_bin_dir=gromosPP_path, in_gromosXX_bin_dir=gromosXX_path)"
   ]
  },
  {
   "cell_type": "code",
   "execution_count": 5,
   "metadata": {
    "execution": {
     "iopub.execute_input": "2022-03-31T11:07:44.400208Z",
     "iopub.status.busy": "2022-03-31T11:07:44.399631Z",
     "iopub.status.idle": "2022-03-31T11:07:44.422416Z",
     "shell.execute_reply": "2022-03-31T11:07:44.421178Z"
    }
   },
   "outputs": [
    {
     "ename": "NameError",
     "evalue": "name 'groSys' is not defined",
     "output_type": "error",
     "traceback": [
      "\u001b[0;31m---------------------------------------------------------------------------\u001b[0m",
      "\u001b[0;31mNameError\u001b[0m                                 Traceback (most recent call last)",
      "Input \u001b[0;32mIn [5]\u001b[0m, in \u001b[0;36m<cell line: 1>\u001b[0;34m()\u001b[0m\n\u001b[0;32m----> 1\u001b[0m hvap_sys\u001b[38;5;241m=\u001b[39mHvap_calculation(input_system\u001b[38;5;241m=\u001b[39m\u001b[43mgroSys\u001b[49m, work_folder\u001b[38;5;241m=\u001b[39mwork_dir\u001b[38;5;241m+\u001b[39m\u001b[38;5;124m\"\u001b[39m\u001b[38;5;124mhvap\u001b[39m\u001b[38;5;124m\"\u001b[39m, forcefield\u001b[38;5;241m=\u001b[39mff, system_name\u001b[38;5;241m=\u001b[39m\u001b[38;5;124m\"\u001b[39m\u001b[38;5;124mtest\u001b[39m\u001b[38;5;124m\"\u001b[39m, useGromosPlsPls\u001b[38;5;241m=\u001b[39m\u001b[38;5;28;01mTrue\u001b[39;00m)\n",
      "\u001b[0;31mNameError\u001b[0m: name 'groSys' is not defined"
     ]
    }
   ],
   "source": [
    "hvap_sys=Hvap_calculation(input_system=groSys, work_folder=work_dir+\"hvap\", forcefield=ff, system_name=\"test\", useGromosPlsPls=True)"
   ]
  },
  {
   "cell_type": "code",
   "execution_count": 6,
   "metadata": {
    "execution": {
     "iopub.execute_input": "2022-03-31T11:07:44.429544Z",
     "iopub.status.busy": "2022-03-31T11:07:44.428318Z",
     "iopub.status.idle": "2022-03-31T11:07:44.450065Z",
     "shell.execute_reply": "2022-03-31T11:07:44.448066Z"
    }
   },
   "outputs": [
    {
     "ename": "NameError",
     "evalue": "name 'hvap_sys' is not defined",
     "output_type": "error",
     "traceback": [
      "\u001b[0;31m---------------------------------------------------------------------------\u001b[0m",
      "\u001b[0;31mNameError\u001b[0m                                 Traceback (most recent call last)",
      "Input \u001b[0;32mIn [6]\u001b[0m, in \u001b[0;36m<cell line: 1>\u001b[0;34m()\u001b[0m\n\u001b[0;32m----> 1\u001b[0m \u001b[43mhvap_sys\u001b[49m\u001b[38;5;241m.\u001b[39mcreate_liq()\n",
      "\u001b[0;31mNameError\u001b[0m: name 'hvap_sys' is not defined"
     ]
    }
   ],
   "source": [
    "hvap_sys.create_liq()"
   ]
  },
  {
   "cell_type": "code",
   "execution_count": 7,
   "metadata": {
    "execution": {
     "iopub.execute_input": "2022-03-31T11:07:44.454016Z",
     "iopub.status.busy": "2022-03-31T11:07:44.453428Z",
     "iopub.status.idle": "2022-03-31T11:07:44.473656Z",
     "shell.execute_reply": "2022-03-31T11:07:44.472568Z"
    }
   },
   "outputs": [
    {
     "ename": "NameError",
     "evalue": "name 'hvap_sys' is not defined",
     "output_type": "error",
     "traceback": [
      "\u001b[0;31m---------------------------------------------------------------------------\u001b[0m",
      "\u001b[0;31mNameError\u001b[0m                                 Traceback (most recent call last)",
      "Input \u001b[0;32mIn [7]\u001b[0m, in \u001b[0;36m<cell line: 1>\u001b[0;34m()\u001b[0m\n\u001b[0;32m----> 1\u001b[0m \u001b[43mhvap_sys\u001b[49m\u001b[38;5;241m.\u001b[39mrun_gas()\n",
      "\u001b[0;31mNameError\u001b[0m: name 'hvap_sys' is not defined"
     ]
    }
   ],
   "source": [
    "hvap_sys.run_gas()"
   ]
  },
  {
   "cell_type": "code",
   "execution_count": 8,
   "metadata": {
    "execution": {
     "iopub.execute_input": "2022-03-31T11:07:44.479969Z",
     "iopub.status.busy": "2022-03-31T11:07:44.479139Z",
     "iopub.status.idle": "2022-03-31T11:07:44.498720Z",
     "shell.execute_reply": "2022-03-31T11:07:44.497425Z"
    }
   },
   "outputs": [
    {
     "ename": "NameError",
     "evalue": "name 'hvap_sys' is not defined",
     "output_type": "error",
     "traceback": [
      "\u001b[0;31m---------------------------------------------------------------------------\u001b[0m",
      "\u001b[0;31mNameError\u001b[0m                                 Traceback (most recent call last)",
      "Input \u001b[0;32mIn [8]\u001b[0m, in \u001b[0;36m<cell line: 1>\u001b[0;34m()\u001b[0m\n\u001b[0;32m----> 1\u001b[0m \u001b[43mhvap_sys\u001b[49m\u001b[38;5;241m.\u001b[39mrun_liq()\n",
      "\u001b[0;31mNameError\u001b[0m: name 'hvap_sys' is not defined"
     ]
    }
   ],
   "source": [
    "hvap_sys.run_liq()"
   ]
  },
  {
   "cell_type": "code",
   "execution_count": 9,
   "metadata": {
    "execution": {
     "iopub.execute_input": "2022-03-31T11:07:44.502449Z",
     "iopub.status.busy": "2022-03-31T11:07:44.501912Z",
     "iopub.status.idle": "2022-03-31T11:07:44.521305Z",
     "shell.execute_reply": "2022-03-31T11:07:44.519674Z"
    }
   },
   "outputs": [
    {
     "ename": "NameError",
     "evalue": "name 'hvap_sys' is not defined",
     "output_type": "error",
     "traceback": [
      "\u001b[0;31m---------------------------------------------------------------------------\u001b[0m",
      "\u001b[0;31mNameError\u001b[0m                                 Traceback (most recent call last)",
      "Input \u001b[0;32mIn [9]\u001b[0m, in \u001b[0;36m<cell line: 1>\u001b[0;34m()\u001b[0m\n\u001b[0;32m----> 1\u001b[0m \u001b[43mhvap_sys\u001b[49m\u001b[38;5;241m.\u001b[39mcalc_hvap()\n",
      "\u001b[0;31mNameError\u001b[0m: name 'hvap_sys' is not defined"
     ]
    }
   ],
   "source": [
    "hvap_sys.calc_hvap()\n"
   ]
  },
  {
   "cell_type": "code",
   "execution_count": null,
   "metadata": {},
   "outputs": [],
   "source": []
  }
 ],
 "metadata": {
  "interpreter": {
   "hash": "b1b7b2ea43b8e767316eee98e01335d045804d2d47db68b6a5827e187ee91a7e"
  },
  "kernelspec": {
   "display_name": "Python 3.9.7 ('pygro2')",
   "language": "python",
   "name": "python3"
  },
  "language_info": {
   "codemirror_mode": {
    "name": "ipython",
    "version": 3
   },
   "file_extension": ".py",
   "mimetype": "text/x-python",
   "name": "python",
   "nbconvert_exporter": "python",
   "pygments_lexer": "ipython3",
   "version": "3.9.10"
  },
  "widgets": {
   "application/vnd.jupyter.widget-state+json": {
    "state": {
     "a390995ec8a6485886ed1d21ac16cb02": {
      "model_module": "@jupyter-widgets/base",
      "model_module_version": "1.2.0",
      "model_name": "LayoutModel",
      "state": {
       "_model_module": "@jupyter-widgets/base",
       "_model_module_version": "1.2.0",
       "_model_name": "LayoutModel",
       "_view_count": null,
       "_view_module": "@jupyter-widgets/base",
       "_view_module_version": "1.2.0",
       "_view_name": "LayoutView",
       "align_content": null,
       "align_items": null,
       "align_self": null,
       "border": null,
       "bottom": null,
       "display": null,
       "flex": null,
       "flex_flow": null,
       "grid_area": null,
       "grid_auto_columns": null,
       "grid_auto_flow": null,
       "grid_auto_rows": null,
       "grid_column": null,
       "grid_gap": null,
       "grid_row": null,
       "grid_template_areas": null,
       "grid_template_columns": null,
       "grid_template_rows": null,
       "height": null,
       "justify_content": null,
       "justify_items": null,
       "left": null,
       "margin": null,
       "max_height": null,
       "max_width": null,
       "min_height": null,
       "min_width": null,
       "object_fit": null,
       "object_position": null,
       "order": null,
       "overflow": null,
       "overflow_x": null,
       "overflow_y": null,
       "padding": null,
       "right": null,
       "top": null,
       "visibility": null,
       "width": null
      }
     },
     "d2996463930643b7ba687b570ab8699b": {
      "model_module": "nglview-js-widgets",
      "model_module_version": "3.0.1",
      "model_name": "ColormakerRegistryModel",
      "state": {
       "_dom_classes": [],
       "_model_module": "nglview-js-widgets",
       "_model_module_version": "3.0.1",
       "_model_name": "ColormakerRegistryModel",
       "_msg_ar": [],
       "_msg_q": [],
       "_ready": false,
       "_view_count": null,
       "_view_module": "nglview-js-widgets",
       "_view_module_version": "3.0.1",
       "_view_name": "ColormakerRegistryView",
       "layout": "IPY_MODEL_a390995ec8a6485886ed1d21ac16cb02"
      }
     }
    },
    "version_major": 2,
    "version_minor": 0
   }
  }
 },
 "nbformat": 4,
 "nbformat_minor": 4
}
