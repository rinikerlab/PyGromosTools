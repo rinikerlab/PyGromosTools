{
 "cells": [
  {
   "cell_type": "markdown",
   "metadata": {},
   "source": [
    "# Calculation of free energy of evaporization"
   ]
  },
  {
   "cell_type": "code",
   "execution_count": 1,
   "metadata": {
    "execution": {
     "iopub.execute_input": "2022-04-06T13:31:02.807216Z",
     "iopub.status.busy": "2022-04-06T13:31:02.806579Z",
     "iopub.status.idle": "2022-04-06T13:31:04.137600Z",
     "shell.execute_reply": "2022-04-06T13:31:04.136070Z"
    }
   },
   "outputs": [
    {
     "data": {
      "application/vnd.jupyter.widget-view+json": {
       "model_id": "edbf731dc0cb4ba0a5a2d5a1b87cd023",
       "version_major": 2,
       "version_minor": 0
      },
      "text/plain": []
     },
     "metadata": {},
     "output_type": "display_data"
    }
   ],
   "source": [
    "import os\n",
    "from pygromos.files.forcefield.gromos.gromosff import GromosFF\n",
    "from pygromos.files.gromos_system.gromos_system import Gromos_System\n",
    "from pygromos.simulations.approaches.hvap_calculation.hvap_calculation import Hvap_calculation\n",
    "from pygromos.data.simulation_parameters_templates import template_sd"
   ]
  },
  {
   "cell_type": "code",
   "execution_count": 2,
   "metadata": {
    "execution": {
     "iopub.execute_input": "2022-04-06T13:31:04.148240Z",
     "iopub.status.busy": "2022-04-06T13:31:04.147009Z",
     "iopub.status.idle": "2022-04-06T13:31:04.154258Z",
     "shell.execute_reply": "2022-04-06T13:31:04.152901Z"
    }
   },
   "outputs": [],
   "source": [
    "work_dir=os.getcwd()+\"/example_files/Hvap_files/\""
   ]
  },
  {
   "cell_type": "code",
   "execution_count": 3,
   "metadata": {
    "execution": {
     "iopub.execute_input": "2022-04-06T13:31:04.159804Z",
     "iopub.status.busy": "2022-04-06T13:31:04.159012Z",
     "iopub.status.idle": "2022-04-06T13:31:07.705704Z",
     "shell.execute_reply": "2022-04-06T13:31:07.704030Z"
    }
   },
   "outputs": [],
   "source": [
    "ff = GromosFF(name=\"54A7\")"
   ]
  },
  {
   "cell_type": "code",
   "execution_count": 4,
   "metadata": {
    "execution": {
     "iopub.execute_input": "2022-04-06T13:31:07.710145Z",
     "iopub.status.busy": "2022-04-06T13:31:07.709620Z",
     "iopub.status.idle": "2022-04-06T13:31:11.382687Z",
     "shell.execute_reply": "2022-04-06T13:31:11.381623Z"
    }
   },
   "outputs": [],
   "source": [
    "groSys = Gromos_System(work_folder=work_dir+\"init/\", system_name=\"Hvap_test\", in_smiles=\"O\", in_residue_list=[\"H2O\"],\n",
    "                       auto_convert=True, forcefield=ff, in_imd_path=template_sd)"
   ]
  },
  {
   "cell_type": "code",
   "execution_count": 5,
   "metadata": {
    "execution": {
     "iopub.execute_input": "2022-04-06T13:31:11.387064Z",
     "iopub.status.busy": "2022-04-06T13:31:11.386294Z",
     "iopub.status.idle": "2022-04-06T13:31:22.459028Z",
     "shell.execute_reply": "2022-04-06T13:31:22.458170Z"
    }
   },
   "outputs": [
    {
     "name": "stderr",
     "output_type": "stream",
     "text": [
      "/home/mlehner/PyGromosTools/pygromos/simulations/approaches/hvap_calculation/hvap_calculation.py:99: UserWarning: Folder does already exist\n",
      "  warnings.warn(\"Folder does already exist\")\n"
     ]
    }
   ],
   "source": [
    "hvap_sys=Hvap_calculation(input_system=groSys, work_folder=work_dir+\"hvap\", forcefield=ff, system_name=\"test\", useGromosPlsPls=True)"
   ]
  },
  {
   "cell_type": "code",
   "execution_count": 6,
   "metadata": {
    "execution": {
     "iopub.execute_input": "2022-04-06T13:31:22.462042Z",
     "iopub.status.busy": "2022-04-06T13:31:22.461796Z",
     "iopub.status.idle": "2022-04-06T13:31:22.952719Z",
     "shell.execute_reply": "2022-04-06T13:31:22.951760Z"
    }
   },
   "outputs": [
    {
     "name": "stdout",
     "output_type": "stream",
     "text": [
      "ran_box @topo /home/mlehner/PyGromosTools/docs/sphinx_project/Examples/example_files/Hvap_files/hvap/test_gas/Hvap_test.top @pbc r @pos /home/mlehner/PyGromosTools/docs/sphinx_project/Examples/example_files/Hvap_files/hvap/test_gas/Hvap_test.cnf @nsm 512 @dens 489.99999999999994  @thresh 0.12 @layer  > /home/mlehner/PyGromosTools/docs/sphinx_project/Examples/example_files/Hvap_files/hvap/temp.cnf \n",
      "\n"
     ]
    }
   ],
   "source": [
    "hvap_sys.create_liq()"
   ]
  },
  {
   "cell_type": "code",
   "execution_count": 7,
   "metadata": {
    "execution": {
     "iopub.execute_input": "2022-04-06T13:31:22.955844Z",
     "iopub.status.busy": "2022-04-06T13:31:22.955630Z",
     "iopub.status.idle": "2022-04-06T13:31:22.959858Z",
     "shell.execute_reply": "2022-04-06T13:31:22.958842Z"
    }
   },
   "outputs": [],
   "source": [
    "# reduce number of steps for demonstration purposes\n",
    "hvap_sys.imd_gas_eq.STEP.NSTLIM = 10\n",
    "hvap_sys.imd_gas_sd.STEP.NSTLIM = 100"
   ]
  },
  {
   "cell_type": "code",
   "execution_count": 8,
   "metadata": {
    "execution": {
     "iopub.execute_input": "2022-04-06T13:31:22.963465Z",
     "iopub.status.busy": "2022-04-06T13:31:22.962733Z",
     "iopub.status.idle": "2022-04-06T13:31:47.274646Z",
     "shell.execute_reply": "2022-04-06T13:31:47.273778Z"
    }
   },
   "outputs": [
    {
     "name": "stdout",
     "output_type": "stream",
     "text": [
      "################################################################################\n",
      "\n",
      "1_emin\n",
      "################################################################################\n",
      "\n",
      "============================================================\n",
      "FOUND RESULT: /home/mlehner/PyGromosTools/docs/sphinx_project/Examples/example_files/Hvap_files/hvap/test_gas/1_emin/analysis/data/1_emin.cnf\n",
      " GOING TO SKIPT THIS SUBMISSION!\n"
     ]
    },
    {
     "name": "stdout",
     "output_type": "stream",
     "text": [
      "################################################################################\n",
      "\n",
      "2_eq\n",
      "################################################################################\n",
      "\n",
      "============================================================\n",
      "FOUND RESULT: /home/mlehner/PyGromosTools/docs/sphinx_project/Examples/example_files/Hvap_files/hvap/test_gas/2_eq/analysis/data/2_eq.cnf\n",
      " GOING TO SKIPT THIS SUBMISSION!\n"
     ]
    },
    {
     "name": "stdout",
     "output_type": "stream",
     "text": [
      "################################################################################\n",
      "\n",
      "3_sd\n",
      "################################################################################\n",
      "\n",
      "============================================================\n",
      "FOUND RESULT: /home/mlehner/PyGromosTools/docs/sphinx_project/Examples/example_files/Hvap_files/hvap/test_gas/3_sd/analysis/data/3_sd.cnf\n",
      " GOING TO SKIPT THIS SUBMISSION!\n"
     ]
    }
   ],
   "source": [
    "hvap_sys.run_gas()"
   ]
  },
  {
   "cell_type": "code",
   "execution_count": 9,
   "metadata": {
    "execution": {
     "iopub.execute_input": "2022-04-06T13:31:47.277371Z",
     "iopub.status.busy": "2022-04-06T13:31:47.277162Z",
     "iopub.status.idle": "2022-04-06T13:31:47.281827Z",
     "shell.execute_reply": "2022-04-06T13:31:47.280693Z"
    }
   },
   "outputs": [],
   "source": [
    "# reduce number of steps for demonstration purposes\n",
    "hvap_sys.imd_liq_eq.STEP.NSTLIM = 10\n",
    "hvap_sys.imd_liq_md.STEP.NSTLIM = 100\n",
    "hvap_sys.imd_liq_md.WRITETRAJ.NTWE = 40"
   ]
  },
  {
   "cell_type": "code",
   "execution_count": 10,
   "metadata": {
    "execution": {
     "iopub.execute_input": "2022-04-06T13:31:47.284874Z",
     "iopub.status.busy": "2022-04-06T13:31:47.284655Z",
     "iopub.status.idle": "2022-04-06T13:32:12.936501Z",
     "shell.execute_reply": "2022-04-06T13:32:12.935131Z"
    }
   },
   "outputs": [
    {
     "name": "stdout",
     "output_type": "stream",
     "text": [
      "################################################################################\n",
      "\n",
      "1_emin\n",
      "################################################################################\n",
      "\n",
      "============================================================\n",
      "FOUND RESULT: /home/mlehner/PyGromosTools/docs/sphinx_project/Examples/example_files/Hvap_files/hvap/test_liq/1_emin/analysis/data/1_emin.cnf\n",
      " GOING TO SKIPT THIS SUBMISSION!\n"
     ]
    },
    {
     "name": "stdout",
     "output_type": "stream",
     "text": [
      "################################################################################\n",
      "\n",
      "2_eq\n",
      "################################################################################\n",
      "\n",
      "============================================================\n",
      "FOUND RESULT: /home/mlehner/PyGromosTools/docs/sphinx_project/Examples/example_files/Hvap_files/hvap/test_liq/2_eq/analysis/data/2_eq.cnf\n",
      " GOING TO SKIPT THIS SUBMISSION!\n"
     ]
    },
    {
     "name": "stdout",
     "output_type": "stream",
     "text": [
      "################################################################################\n",
      "\n",
      "3_sd\n",
      "################################################################################\n",
      "\n",
      "============================================================\n",
      "FOUND RESULT: /home/mlehner/PyGromosTools/docs/sphinx_project/Examples/example_files/Hvap_files/hvap/test_liq/3_sd/analysis/data/3_sd.cnf\n",
      " GOING TO SKIPT THIS SUBMISSION!\n"
     ]
    }
   ],
   "source": [
    "hvap_sys.run_liq()"
   ]
  },
  {
   "cell_type": "code",
   "execution_count": 11,
   "metadata": {
    "execution": {
     "iopub.execute_input": "2022-04-06T13:32:12.940545Z",
     "iopub.status.busy": "2022-04-06T13:32:12.939850Z",
     "iopub.status.idle": "2022-04-06T13:32:12.996270Z",
     "shell.execute_reply": "2022-04-06T13:32:12.995477Z"
    }
   },
   "outputs": [
    {
     "data": {
      "text/plain": [
       "27.752725812108782"
      ]
     },
     "execution_count": 11,
     "metadata": {},
     "output_type": "execute_result"
    }
   ],
   "source": [
    "hvap_sys.calc_hvap()\n"
   ]
  },
  {
   "cell_type": "code",
   "execution_count": null,
   "metadata": {},
   "outputs": [],
   "source": []
  }
 ],
 "metadata": {
  "interpreter": {
   "hash": "b1b7b2ea43b8e767316eee98e01335d045804d2d47db68b6a5827e187ee91a7e"
  },
  "kernelspec": {
   "display_name": "Python 3.9.7 ('pygro2')",
   "language": "python",
   "name": "python3"
  },
  "language_info": {
   "codemirror_mode": {
    "name": "ipython",
    "version": 3
   },
   "file_extension": ".py",
   "mimetype": "text/x-python",
   "name": "python",
   "nbconvert_exporter": "python",
   "pygments_lexer": "ipython3",
   "version": "3.9.7"
  },
  "widgets": {
   "application/vnd.jupyter.widget-state+json": {
    "state": {
     "1ab136b865ec4e3ab3f9ae5b3f988455": {
      "model_module": "@jupyter-widgets/base",
      "model_module_version": "1.2.0",
      "model_name": "LayoutModel",
      "state": {
       "_model_module": "@jupyter-widgets/base",
       "_model_module_version": "1.2.0",
       "_model_name": "LayoutModel",
       "_view_count": null,
       "_view_module": "@jupyter-widgets/base",
       "_view_module_version": "1.2.0",
       "_view_name": "LayoutView",
       "align_content": null,
       "align_items": null,
       "align_self": null,
       "border": null,
       "bottom": null,
       "display": null,
       "flex": null,
       "flex_flow": null,
       "grid_area": null,
       "grid_auto_columns": null,
       "grid_auto_flow": null,
       "grid_auto_rows": null,
       "grid_column": null,
       "grid_gap": null,
       "grid_row": null,
       "grid_template_areas": null,
       "grid_template_columns": null,
       "grid_template_rows": null,
       "height": null,
       "justify_content": null,
       "justify_items": null,
       "left": null,
       "margin": null,
       "max_height": null,
       "max_width": null,
       "min_height": null,
       "min_width": null,
       "object_fit": null,
       "object_position": null,
       "order": null,
       "overflow": null,
       "overflow_x": null,
       "overflow_y": null,
       "padding": null,
       "right": null,
       "top": null,
       "visibility": null,
       "width": null
      }
     },
     "edbf731dc0cb4ba0a5a2d5a1b87cd023": {
      "model_module": "nglview-js-widgets",
      "model_module_version": "3.0.1",
      "model_name": "ColormakerRegistryModel",
      "state": {
       "_dom_classes": [],
       "_model_module": "nglview-js-widgets",
       "_model_module_version": "3.0.1",
       "_model_name": "ColormakerRegistryModel",
       "_msg_ar": [],
       "_msg_q": [],
       "_ready": false,
       "_view_count": null,
       "_view_module": "nglview-js-widgets",
       "_view_module_version": "3.0.1",
       "_view_name": "ColormakerRegistryView",
       "layout": "IPY_MODEL_1ab136b865ec4e3ab3f9ae5b3f988455"
      }
     }
    },
    "version_major": 2,
    "version_minor": 0
   }
  }
 },
 "nbformat": 4,
 "nbformat_minor": 4
}
