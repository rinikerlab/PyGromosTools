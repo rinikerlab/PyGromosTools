{
 "cells": [
  {
   "cell_type": "code",
   "execution_count": 1,
   "id": "e12b44c0-182f-49b3-b005-2ee1bf705a80",
   "metadata": {
    "execution": {
     "iopub.execute_input": "2022-04-01T07:59:23.858461Z",
     "iopub.status.busy": "2022-04-01T07:59:23.857808Z",
     "iopub.status.idle": "2022-04-01T07:59:25.043540Z",
     "shell.execute_reply": "2022-04-01T07:59:25.041729Z"
    }
   },
   "outputs": [
    {
     "data": {
      "application/vnd.jupyter.widget-view+json": {
       "model_id": "2b28e82c8abd46e9bdcdcc35d9700758",
       "version_major": 2,
       "version_minor": 0
      },
      "text/plain": []
     },
     "metadata": {},
     "output_type": "display_data"
    }
   ],
   "source": [
    "# necessary imports are the Gromos_System and convenience functions emin and md\n",
    "import pygromos\n",
    "from pygromos.files.simulation_parameters.imd import Imd\n",
    "from pygromos.files.qmmm.qmmm import QMMM\n",
    "from pygromos.files.gromos_system.gromos_system import Gromos_System\n",
    "from pygromos.simulations.modules.preset_simulation_modules import emin, md\n",
    "from pygromos.data.simulation_parameters_templates import template_emin\n",
    "from pygromos.simulations.hpc_queuing.submission_systems.local import LOCAL\n",
    "\n",
    "# for file paths\n",
    "import os"
   ]
  },
  {
   "cell_type": "markdown",
   "id": "ea7f87a7-1869-4560-a6cc-5511179addee",
   "metadata": {
    "tags": []
   },
   "source": [
    "## Support for QMMM functionality in `GROMOS` input files\n",
    "\n",
    "This notebook demonstrates support of `PyGromosTools` for QM/MM functionality.\n",
    "\n",
    "https://github.com/rinikerlab/PyGromosTools/blob/qmmm/examples/example_gromos_qmmm.ipynb (part of the `qmmm` branch and soon to be merged to `release3`)\n",
    "\n",
    "Author: Felix Pultar\n",
    "\n",
    "\n",
    "Features include:\n",
    "\n",
    "* QM/MM blocks in `imd` files\n",
    "* QM/MM specification files\n",
    "* Running QM/MM simulations"
   ]
  },
  {
   "cell_type": "markdown",
   "id": "821fe3c7",
   "metadata": {},
   "source": [
    "### Load an `imd` file containing a QMMM block <a class=\"anchor\" id=\"imd-files\"></a>\n",
    "Simple demonstration of how to handle `.imd` files."
   ]
  },
  {
   "cell_type": "code",
   "execution_count": 2,
   "id": "dbbf090b-19c7-48b5-86ac-ca0f6d1be117",
   "metadata": {
    "execution": {
     "iopub.execute_input": "2022-04-01T07:59:25.050866Z",
     "iopub.status.busy": "2022-04-01T07:59:25.050439Z",
     "iopub.status.idle": "2022-04-01T07:59:25.074825Z",
     "shell.execute_reply": "2022-04-01T07:59:25.073273Z"
    }
   },
   "outputs": [
    {
     "data": {
      "text/plain": [
       "TITLE\n",
       "Demonstration of a Gromos imd file containing a QMMM block\n",
       "\t>>> Generated with PyGromosTools (riniker group) <<<\n",
       "END\n",
       "BOUNDCOND\n",
       "# \t NTB \t NDFMIN\n",
       " \t 1 \t 3 \t \n",
       "END\n",
       "COMTRANSROT\n",
       "# \t NSCM\n",
       " \t 1000 \t \n",
       "END\n",
       "CONSTRAINT\n",
       "# \t NTC\n",
       " \t 3 \t \n",
       "# \t NTCP \t NTCP0(1)\n",
       " \t 1 \t 0.000100 \t \n",
       "# \t NTCS \t NTCS0(1)\n",
       " \t 1 \t 0.000100 \t \n",
       "END\n",
       "FORCE\n",
       "# \t BONDS \t ANGLES \t IMPROPER \t DIHEDRAL \t ELECTROSTATIC \t VDW\n",
       " \t 0 \t 1 \t 1 \t 1 \t 1 \t 1 \t \n",
       "# \t NEGR \t NRE\n",
       " \t 1 \t 3613 \t \n",
       "END\n",
       "INITIALISE\n",
       "# \t NTIVEL \t NTISHK \t NTINHT \t NTINHB\n",
       " \t 1 \t 3 \t 0 \t 0 \t \n",
       "# \t NTISHI \t NTIRTC \t NTICOM\n",
       " \t 1 \t 0 \t 0 \t \n",
       "# \t NTISTI\n",
       " \t 0 \t \n",
       "# \t IG \t TEMPI\n",
       " \t 210185 \t 298.000000 \t \n",
       "END\n",
       "MULTIBATH\n",
       "# ALGORITHM\n",
       "  0\n",
       "# NBATHS\n",
       "  1\n",
       "# TEMP0(1 ... NBATHS) \t TAU(1 ... NBATHS)\n",
       "  298.0 \t 0.1\n",
       "# DOFSET\n",
       "  1\n",
       "# LAST(1 ... DOFSET) \t COMBATH(1 ... DOFSET) \t IRBATH(1 ... DOFSET)\n",
       "  3613 \t 1 \t 1\n",
       "END\n",
       "NONBONDED\n",
       "# \t NLRELE\n",
       " \t 1 \t \n",
       "# \t APPAK \t RCRF \t EPSRF \t NSLFEXCL\n",
       " \t 0.000000 \t 1.400000 \t 66.700000 \t 1 \t \n",
       "# \t NSHAPE \t ASHAPE \t NA2CLC \t TOLA2 \t EPSLS\n",
       " \t 3 \t 1.400000 \t 2 \t 1e-10 \t 0.000000 \t \n",
       "# \t NKX \t NKY \t NKZ \t KCUT\n",
       " \t 10 \t 10 \t 10 \t 100.000000 \t \n",
       "# \t NGX \t NGY \t NGZ \t NASORD \t NFDORD \t NALIAS \t NSPORD\n",
       " \t 32 \t 32 \t 32 \t 3 \t 2 \t 3 \t 4 \t \n",
       "# \t NQEVAL \t FACCUR \t NRDGRD \t NWRGRD\n",
       " \t 1000 \t 1.600000 \t 0 \t 0 \t \n",
       "# \t NLRLJ \t SLVDNS\n",
       " \t 0 \t 33.300000 \t \n",
       "END\n",
       "PAIRLIST\n",
       "# \t ALGORITHM \t NSNB \t RCUTP \t RCUTL \t SIZE \t TYPE\n",
       " \t 0 \t 5 \t 0.800000 \t 1.400000 \t 0.4 \t 0 \t \n",
       "END\n",
       "PRESSURESCALE\n",
       "# \t COUPLE \t SCALE \t COMP \t TAUP \t VIRIAL\n",
       " \t 2 \t 1 \t 0.000458 \t 0.500000 \t 2 \t \n",
       "# \t SEMIANISOTROPIC COUPLINGS(X, Y, Z)\n",
       " \t 1 \t 1 \t 1 \t \n",
       "# \t PRES0(1...3,1...3)\n",
       " \t 0.06102 \t 0.0 \t 0.0\n",
       " \t 0.0 \t 0.06102 \t 0.0\n",
       " \t 0.0 \t 0.0 \t 0.06102 \t \n",
       "END\n",
       "PRINTOUT\n",
       "# \t NTPR \t NTPP\n",
       " \t 10 \t 0 \t \n",
       "END\n",
       "QMMM\n",
       "# \t NTQMMM \t NTQMSW \t RCUTQ \t NTWQMMM \t QMLJ \t MMSCAL\n",
       " \t 1 \t 5 \t 1.400000 \t 0 \t 0 \t -1.000000 \t \n",
       "END\n",
       "STEP\n",
       "# \t NSTLIM \t T \t DT\n",
       " \t 100000 \t 0.000000 \t 0.002000 \t \n",
       "END\n",
       "SYSTEM\n",
       "# \t NPM \t NSM\n",
       " \t 1 \t 0 \t \n",
       "END\n",
       "WRITETRAJ\n",
       "# \t NTWX \t NTWSE \t NTWV \t NTWF \t NTWE \t NTWG \t NTWB\n",
       " \t 200 \t 0 \t 0 \t 0 \t 100 \t 0 \t 0 \t \n",
       "END"
      ]
     },
     "execution_count": 2,
     "metadata": {},
     "output_type": "execute_result"
    }
   ],
   "source": [
    "imd_path = os.path.abspath(os.path.dirname(pygromos.__file__)+\"/../examples/example_files/QMMM_files/md.imd\")\n",
    "imd_file = Imd(imd_path)\n",
    "imd_file.TITLE.content = \"Demonstration of a Gromos imd file containing a QMMM block\"\n",
    "imd_file"
   ]
  },
  {
   "cell_type": "markdown",
   "id": "f48a2e4c-9b54-4c9c-9064-df84826b7b19",
   "metadata": {},
   "source": [
    "### Print out different sections of the QMMM block"
   ]
  },
  {
   "cell_type": "markdown",
   "id": "0e27e062",
   "metadata": {},
   "source": [
    "Print out selected parameters from the `QMMM` block or also the `TITLE` block."
   ]
  },
  {
   "cell_type": "code",
   "execution_count": 3,
   "id": "0794168f-e5ee-402d-aad9-a456ff4df6f8",
   "metadata": {
    "execution": {
     "iopub.execute_input": "2022-04-01T07:59:25.080252Z",
     "iopub.status.busy": "2022-04-01T07:59:25.078793Z",
     "iopub.status.idle": "2022-04-01T07:59:25.087538Z",
     "shell.execute_reply": "2022-04-01T07:59:25.086433Z"
    }
   },
   "outputs": [
    {
     "name": "stdout",
     "output_type": "stream",
     "text": [
      "1\n",
      "5\n",
      "Demonstration of a Gromos imd file containing a QMMM block\n"
     ]
    }
   ],
   "source": [
    "print(imd_file.QMMM.NTQMMM) # QM/MM toggled on/off\n",
    "print(imd_file.QMMM.NTQMSW) # which QM/MM engine\n",
    "print(imd_file.TITLE.content)"
   ]
  },
  {
   "cell_type": "markdown",
   "id": "e9ef2fb7-0205-4a34-8024-fff058a1bab8",
   "metadata": {},
   "source": [
    "### Change a block value and print again"
   ]
  },
  {
   "cell_type": "markdown",
   "id": "6db72f93",
   "metadata": {},
   "source": [
    "Just change values of the `QMMM` block like with other `PyGromosTools` blocks."
   ]
  },
  {
   "cell_type": "code",
   "execution_count": 4,
   "id": "34e14585-76c7-4509-a121-17c58b56262b",
   "metadata": {
    "execution": {
     "iopub.execute_input": "2022-04-01T07:59:25.090967Z",
     "iopub.status.busy": "2022-04-01T07:59:25.090667Z",
     "iopub.status.idle": "2022-04-01T07:59:25.099642Z",
     "shell.execute_reply": "2022-04-01T07:59:25.097994Z"
    }
   },
   "outputs": [
    {
     "data": {
      "text/plain": [
       "QMMM\n",
       "# \t NTQMMM \t NTQMSW \t RCUTQ \t NTWQMMM \t QMLJ \t MMSCAL\n",
       " \t 1 \t 4 \t 1.400000 \t 0 \t 0 \t -1.000000 \t \n",
       "END"
      ]
     },
     "execution_count": 4,
     "metadata": {},
     "output_type": "execute_result"
    }
   ],
   "source": [
    "imd_file.QMMM.NTQMSW = 4 # switch to ORCA as QM software\n",
    "imd_file.QMMM"
   ]
  },
  {
   "cell_type": "markdown",
   "id": "27bbd639-1a57-4be3-aea5-67517721a6ed",
   "metadata": {},
   "source": [
    "## Directly manipulate a QMMM specification file"
   ]
  },
  {
   "cell_type": "markdown",
   "id": "9d70086b-f262-4ec7-b7d7-d636eb8a08e8",
   "metadata": {},
   "source": [
    "The QMMM object allows to directly interact with QM/MM specification files. Future releases of `PyGromosTools` will also support generation of `QMMM` files from coordinate files (`.cnf`, `.xyz`, `.pdb`)."
   ]
  },
  {
   "cell_type": "code",
   "execution_count": 5,
   "id": "025685f2-7888-43d1-8815-78bd6182d610",
   "metadata": {
    "execution": {
     "iopub.execute_input": "2022-04-01T07:59:25.104942Z",
     "iopub.status.busy": "2022-04-01T07:59:25.103520Z",
     "iopub.status.idle": "2022-04-01T07:59:26.023377Z",
     "shell.execute_reply": "2022-04-01T07:59:26.021982Z"
    }
   },
   "outputs": [
    {
     "ename": "OSError",
     "evalue": "[Errno Could not find File: ] /home/fpultar/Documents/repos/PyGromosTools/examples/example_files/QMMM_files/menthol-methanol-dmf.qmmm",
     "output_type": "error",
     "traceback": [
      "\u001b[0;31m---------------------------------------------------------------------------\u001b[0m",
      "\u001b[0;31mOSError\u001b[0m                                   Traceback (most recent call last)",
      "Input \u001b[0;32mIn [5]\u001b[0m, in \u001b[0;36m<cell line: 2>\u001b[0;34m()\u001b[0m\n\u001b[1;32m      1\u001b[0m \u001b[38;5;66;03m# instantiate the file object\u001b[39;00m\n\u001b[0;32m----> 2\u001b[0m qmmm_file \u001b[38;5;241m=\u001b[39m \u001b[43mQMMM\u001b[49m\u001b[43m(\u001b[49m\u001b[38;5;124;43m\"\u001b[39;49m\u001b[38;5;124;43m/home/fpultar/Documents/repos/PyGromosTools/examples/example_files/QMMM_files/menthol-methanol-dmf.qmmm\u001b[39;49m\u001b[38;5;124;43m\"\u001b[39;49m\u001b[43m)\u001b[49m\n\u001b[1;32m      3\u001b[0m \u001b[38;5;28mprint\u001b[39m(qmmm_file)\n",
      "File \u001b[0;32m~/Documents/projects/PyGromosTools/pygromos/files/qmmm/qmmm.py:36\u001b[0m, in \u001b[0;36mQMMM.__init__\u001b[0;34m(self, in_value, _future_file)\u001b[0m\n\u001b[1;32m     35\u001b[0m \u001b[38;5;28;01mdef\u001b[39;00m \u001b[38;5;21m__init__\u001b[39m(\u001b[38;5;28mself\u001b[39m, in_value: \u001b[38;5;28mstr\u001b[39m, _future_file: \u001b[38;5;28mbool\u001b[39m \u001b[38;5;241m=\u001b[39m \u001b[38;5;28;01mFalse\u001b[39;00m):\n\u001b[0;32m---> 36\u001b[0m     \u001b[38;5;28;43msuper\u001b[39;49m\u001b[43m(\u001b[49m\u001b[43m)\u001b[49m\u001b[38;5;241;43m.\u001b[39;49m\u001b[38;5;21;43m__init__\u001b[39;49m\u001b[43m(\u001b[49m\u001b[43min_value\u001b[49m\u001b[38;5;241;43m=\u001b[39;49m\u001b[43min_value\u001b[49m\u001b[43m,\u001b[49m\u001b[43m \u001b[49m\u001b[43m_future_file\u001b[49m\u001b[38;5;241;43m=\u001b[39;49m\u001b[43m_future_file\u001b[49m\u001b[43m)\u001b[49m\n\u001b[1;32m     38\u001b[0m     \u001b[38;5;66;03m# TODO: maybe somebody can make a better solution for this. This is a ugly fix to unify the structure of the blocks\u001b[39;00m\n\u001b[1;32m     39\u001b[0m     \u001b[38;5;28;01mfor\u001b[39;00m block \u001b[38;5;129;01min\u001b[39;00m \u001b[38;5;28msorted\u001b[39m(\u001b[38;5;28mself\u001b[39m\u001b[38;5;241m.\u001b[39mget_block_names()):\n",
      "File \u001b[0;32m~/Documents/projects/PyGromosTools/pygromos/files/_basics/_general_gromos_file.py:42\u001b[0m, in \u001b[0;36m_general_gromos_file.__init__\u001b[0;34m(self, in_value, _future_file)\u001b[0m\n\u001b[1;32m     40\u001b[0m         \u001b[38;5;28mself\u001b[39m\u001b[38;5;241m.\u001b[39mread_blocks()\n\u001b[1;32m     41\u001b[0m     \u001b[38;5;28;01melse\u001b[39;00m:\n\u001b[0;32m---> 42\u001b[0m         \u001b[38;5;28;01mraise\u001b[39;00m \u001b[38;5;167;01mIOError\u001b[39;00m(\u001b[38;5;124m\"\u001b[39m\u001b[38;5;124mCould not find File: \u001b[39m\u001b[38;5;124m\"\u001b[39m, in_value)\n\u001b[1;32m     44\u001b[0m \u001b[38;5;28;01melif\u001b[39;00m \u001b[38;5;28misinstance\u001b[39m(\u001b[38;5;28mtype\u001b[39m(in_value), \u001b[38;5;18m__class__\u001b[39m):\n\u001b[1;32m     45\u001b[0m     \u001b[38;5;28;01mraise\u001b[39;00m \u001b[38;5;167;01mNotImplementedError\u001b[39;00m(\u001b[38;5;124m\"\u001b[39m\u001b[38;5;124mThis variant is not implemented\u001b[39m\u001b[38;5;124m\"\u001b[39m)\n",
      "\u001b[0;31mOSError\u001b[0m: [Errno Could not find File: ] /home/fpultar/Documents/repos/PyGromosTools/examples/example_files/QMMM_files/menthol-methanol-dmf.qmmm"
     ]
    }
   ],
   "source": [
    "# instantiate the file object\n",
    "qmmm_file = QMMM(\"/home/fpultar/Documents/repos/PyGromosTools/examples/example_files/QMMM_files/menthol-methanol-dmf.qmmm\")\n",
    "print(qmmm_file)\n",
    "# There will be warnings if more than one QM engine is selected"
   ]
  },
  {
   "cell_type": "markdown",
   "id": "5ff05c79-a2a7-4759-a378-f8651eeb62e0",
   "metadata": {},
   "source": [
    "## Print out and change some blocks in the QMMM specification file"
   ]
  },
  {
   "cell_type": "markdown",
   "id": "330b78da-a354-4986-a6fe-f0640b9c7456",
   "metadata": {},
   "source": [
    "### Title block"
   ]
  },
  {
   "cell_type": "markdown",
   "id": "637b6909",
   "metadata": {},
   "source": [
    "The `QMMM` specification file can be handled like any other `GROMOS` file."
   ]
  },
  {
   "cell_type": "code",
   "execution_count": 6,
   "id": "ed139717-b743-4bf8-99e4-3732cd02f1ff",
   "metadata": {
    "execution": {
     "iopub.execute_input": "2022-04-01T07:59:26.032520Z",
     "iopub.status.busy": "2022-04-01T07:59:26.031273Z",
     "iopub.status.idle": "2022-04-01T07:59:26.054955Z",
     "shell.execute_reply": "2022-04-01T07:59:26.053531Z"
    }
   },
   "outputs": [
    {
     "ename": "NameError",
     "evalue": "name 'qmmm_file' is not defined",
     "output_type": "error",
     "traceback": [
      "\u001b[0;31m---------------------------------------------------------------------------\u001b[0m",
      "\u001b[0;31mNameError\u001b[0m                                 Traceback (most recent call last)",
      "Input \u001b[0;32mIn [6]\u001b[0m, in \u001b[0;36m<cell line: 1>\u001b[0;34m()\u001b[0m\n\u001b[0;32m----> 1\u001b[0m \u001b[38;5;28mprint\u001b[39m(\u001b[43mqmmm_file\u001b[49m\u001b[38;5;241m.\u001b[39mTITLE\u001b[38;5;241m.\u001b[39mcontent)\n\u001b[1;32m      2\u001b[0m qmmm_file\u001b[38;5;241m.\u001b[39mTITLE\u001b[38;5;241m.\u001b[39mcontent \u001b[38;5;241m=\u001b[39m \u001b[38;5;124m\"\u001b[39m\u001b[38;5;124mCustom file header\u001b[39m\u001b[38;5;124m\"\u001b[39m\n\u001b[1;32m      3\u001b[0m \u001b[38;5;28mprint\u001b[39m(qmmm_file\u001b[38;5;241m.\u001b[39mTITLE\u001b[38;5;241m.\u001b[39mcontent)\n",
      "\u001b[0;31mNameError\u001b[0m: name 'qmmm_file' is not defined"
     ]
    }
   ],
   "source": [
    "print(qmmm_file.TITLE.content)\n",
    "qmmm_file.TITLE.content = \"Custom file header\"\n",
    "print(qmmm_file.TITLE.content)"
   ]
  },
  {
   "cell_type": "markdown",
   "id": "083699b9-0a96-4380-ba54-d2529767135e",
   "metadata": {},
   "source": [
    "### QMZONE block"
   ]
  },
  {
   "cell_type": "markdown",
   "id": "e78da513",
   "metadata": {},
   "source": [
    "Print out the `QMZONE` section that defines which atoms will be treated quantum-mechanically."
   ]
  },
  {
   "cell_type": "code",
   "execution_count": 7,
   "id": "df7e4b44-9562-48b6-8597-bd4a9468e951",
   "metadata": {
    "execution": {
     "iopub.execute_input": "2022-04-01T07:59:26.060532Z",
     "iopub.status.busy": "2022-04-01T07:59:26.059958Z",
     "iopub.status.idle": "2022-04-01T07:59:26.083123Z",
     "shell.execute_reply": "2022-04-01T07:59:26.081458Z"
    }
   },
   "outputs": [
    {
     "ename": "NameError",
     "evalue": "name 'qmmm_file' is not defined",
     "output_type": "error",
     "traceback": [
      "\u001b[0;31m---------------------------------------------------------------------------\u001b[0m",
      "\u001b[0;31mNameError\u001b[0m                                 Traceback (most recent call last)",
      "Input \u001b[0;32mIn [7]\u001b[0m, in \u001b[0;36m<cell line: 5>\u001b[0;34m()\u001b[0m\n\u001b[1;32m      1\u001b[0m \u001b[38;5;66;03m# as in other Gromos files, the first bunch of characters are ignored and used to comment, e.g. name of the atom\u001b[39;00m\n\u001b[1;32m      2\u001b[0m \u001b[38;5;66;03m# second value: index of te position (starting from 1)\u001b[39;00m\n\u001b[1;32m      3\u001b[0m \u001b[38;5;66;03m# third value: element number according to the PSE\u001b[39;00m\n\u001b[1;32m      4\u001b[0m \u001b[38;5;66;03m# fourth value: indicate whether bond can be broken or not, default = 0\u001b[39;00m\n\u001b[0;32m----> 5\u001b[0m \u001b[38;5;28mprint\u001b[39m(\u001b[43mqmmm_file\u001b[49m\u001b[38;5;241m.\u001b[39mQMZONE)\n",
      "\u001b[0;31mNameError\u001b[0m: name 'qmmm_file' is not defined"
     ]
    }
   ],
   "source": [
    "# as in other Gromos files, the first bunch of characters are ignored and used to comment, e.g. name of the atom\n",
    "# second value: index of te position (starting from 1)\n",
    "# third value: element number according to the PSE\n",
    "# fourth value: indicate whether bond can be broken or not, default = 0\n",
    "print(qmmm_file.QMZONE)"
   ]
  },
  {
   "cell_type": "markdown",
   "id": "e4b47246-47df-4758-b529-5cf7a14e57cc",
   "metadata": {},
   "source": [
    "### QMUNIT block"
   ]
  },
  {
   "cell_type": "markdown",
   "id": "a75b5c8c",
   "metadata": {},
   "source": [
    "Print out the `QMUNIT` block that defines some unit conversions between the MD engine and the QM software."
   ]
  },
  {
   "cell_type": "code",
   "execution_count": 8,
   "id": "e2191cba-b23c-4ff4-9e44-0febea848195",
   "metadata": {
    "execution": {
     "iopub.execute_input": "2022-04-01T07:59:26.088255Z",
     "iopub.status.busy": "2022-04-01T07:59:26.087825Z",
     "iopub.status.idle": "2022-04-01T07:59:26.107614Z",
     "shell.execute_reply": "2022-04-01T07:59:26.106395Z"
    }
   },
   "outputs": [
    {
     "ename": "NameError",
     "evalue": "name 'qmmm_file' is not defined",
     "output_type": "error",
     "traceback": [
      "\u001b[0;31m---------------------------------------------------------------------------\u001b[0m",
      "\u001b[0;31mNameError\u001b[0m                                 Traceback (most recent call last)",
      "Input \u001b[0;32mIn [8]\u001b[0m, in \u001b[0;36m<cell line: 6>\u001b[0;34m()\u001b[0m\n\u001b[1;32m      1\u001b[0m \u001b[38;5;66;03m# usually, these conversion factors are hard-coded in Gromos; left for historical reasons\u001b[39;00m\n\u001b[1;32m      2\u001b[0m \u001b[38;5;66;03m# first value: QM length to Gromos length (e.g. Bohr to nm) \u001b[39;00m\n\u001b[1;32m      3\u001b[0m \u001b[38;5;66;03m# second value: QM energy to Gromos energy (e.g. Hartree to kJ / mol)\u001b[39;00m\n\u001b[1;32m      4\u001b[0m \u001b[38;5;66;03m# third value: Gromos charge to QM charge (the same in this case)\u001b[39;00m\n\u001b[1;32m      5\u001b[0m \u001b[38;5;66;03m# fourth value: QM input units to Gromos input units (e.g. Angstrom to nm)\u001b[39;00m\n\u001b[0;32m----> 6\u001b[0m \u001b[38;5;28mprint\u001b[39m(\u001b[43mqmmm_file\u001b[49m\u001b[38;5;241m.\u001b[39mQMUNIT)\n",
      "\u001b[0;31mNameError\u001b[0m: name 'qmmm_file' is not defined"
     ]
    }
   ],
   "source": [
    "# usually, these conversion factors are hard-coded in Gromos; left for historical reasons\n",
    "# first value: QM length to Gromos length (e.g. Bohr to nm) \n",
    "# second value: QM energy to Gromos energy (e.g. Hartree to kJ / mol)\n",
    "# third value: Gromos charge to QM charge (the same in this case)\n",
    "# fourth value: QM input units to Gromos input units (e.g. Angstrom to nm)\n",
    "print(qmmm_file.QMUNIT)"
   ]
  },
  {
   "cell_type": "markdown",
   "id": "29f0397e-dbc2-4226-bec9-a8cb1d1c07df",
   "metadata": {},
   "source": [
    "### XTBELEMENTS block"
   ]
  },
  {
   "cell_type": "markdown",
   "id": "7c127e63-9652-4119-81a8-939cdf79b14b",
   "metadata": {},
   "source": [
    "Print and update the `XTBELEMENTS` block"
   ]
  },
  {
   "cell_type": "code",
   "execution_count": 9,
   "id": "3bfec885-5481-45bf-ba22-aac8e5498be6",
   "metadata": {
    "execution": {
     "iopub.execute_input": "2022-04-01T07:59:26.110747Z",
     "iopub.status.busy": "2022-04-01T07:59:26.110474Z",
     "iopub.status.idle": "2022-04-01T07:59:26.131864Z",
     "shell.execute_reply": "2022-04-01T07:59:26.128980Z"
    }
   },
   "outputs": [
    {
     "ename": "NameError",
     "evalue": "name 'qmmm_file' is not defined",
     "output_type": "error",
     "traceback": [
      "\u001b[0;31m---------------------------------------------------------------------------\u001b[0m",
      "\u001b[0;31mNameError\u001b[0m                                 Traceback (most recent call last)",
      "Input \u001b[0;32mIn [9]\u001b[0m, in \u001b[0;36m<cell line: 1>\u001b[0;34m()\u001b[0m\n\u001b[0;32m----> 1\u001b[0m \u001b[38;5;28mprint\u001b[39m(\u001b[43mqmmm_file\u001b[49m\u001b[38;5;241m.\u001b[39mXTBELEMENTS)\n\u001b[1;32m      2\u001b[0m \u001b[38;5;28mprint\u001b[39m(qmmm_file\u001b[38;5;241m.\u001b[39mXTBELEMENTS\u001b[38;5;241m.\u001b[39mcontent)\n",
      "\u001b[0;31mNameError\u001b[0m: name 'qmmm_file' is not defined"
     ]
    }
   ],
   "source": [
    "print(qmmm_file.XTBELEMENTS)\n",
    "print(qmmm_file.XTBELEMENTS.content)"
   ]
  },
  {
   "cell_type": "code",
   "execution_count": 10,
   "id": "1503c040-bed2-4461-8f93-2262fb6b934f",
   "metadata": {
    "execution": {
     "iopub.execute_input": "2022-04-01T07:59:26.136554Z",
     "iopub.status.busy": "2022-04-01T07:59:26.136195Z",
     "iopub.status.idle": "2022-04-01T07:59:26.160203Z",
     "shell.execute_reply": "2022-04-01T07:59:26.159014Z"
    }
   },
   "outputs": [
    {
     "name": "stdout",
     "output_type": "stream",
     "text": [
      "[['1'], ['2'], ['3'], ['4'], ['5'], ['6'], ['7'], ['8'], ['9'], ['10']]\n"
     ]
    },
    {
     "ename": "NameError",
     "evalue": "name 'qmmm_file' is not defined",
     "output_type": "error",
     "traceback": [
      "\u001b[0;31m---------------------------------------------------------------------------\u001b[0m",
      "\u001b[0;31mNameError\u001b[0m                                 Traceback (most recent call last)",
      "Input \u001b[0;32mIn [10]\u001b[0m, in \u001b[0;36m<cell line: 4>\u001b[0;34m()\u001b[0m\n\u001b[1;32m      2\u001b[0m xtbelements_new  \u001b[38;5;241m=\u001b[39m [[\u001b[38;5;28mstr\u001b[39m(i) \u001b[38;5;28;01mfor\u001b[39;00m j \u001b[38;5;129;01min\u001b[39;00m \u001b[38;5;28mrange\u001b[39m(\u001b[38;5;241m1\u001b[39m)] \u001b[38;5;28;01mfor\u001b[39;00m i \u001b[38;5;129;01min\u001b[39;00m \u001b[38;5;28mrange\u001b[39m(\u001b[38;5;241m1\u001b[39m,\u001b[38;5;241m11\u001b[39m)]\n\u001b[1;32m      3\u001b[0m \u001b[38;5;28mprint\u001b[39m(xtbelements_new)\n\u001b[0;32m----> 4\u001b[0m \u001b[43mqmmm_file\u001b[49m\u001b[38;5;241m.\u001b[39mXTBELEMENTS\u001b[38;5;241m.\u001b[39mcontent \u001b[38;5;241m=\u001b[39m xtbelements_new\n",
      "\u001b[0;31mNameError\u001b[0m: name 'qmmm_file' is not defined"
     ]
    }
   ],
   "source": [
    "# replace element numbers manually with the first ten elements of the PSE\n",
    "xtbelements_new  = [[str(i) for j in range(1)] for i in range(1,11)]\n",
    "print(xtbelements_new)\n",
    "qmmm_file.XTBELEMENTS.content = xtbelements_new"
   ]
  },
  {
   "cell_type": "code",
   "execution_count": 11,
   "id": "6eb98bd1-0af0-4db5-becd-2af9a6a8bdf0",
   "metadata": {
    "execution": {
     "iopub.execute_input": "2022-04-01T07:59:26.166720Z",
     "iopub.status.busy": "2022-04-01T07:59:26.166197Z",
     "iopub.status.idle": "2022-04-01T07:59:26.186339Z",
     "shell.execute_reply": "2022-04-01T07:59:26.184923Z"
    }
   },
   "outputs": [
    {
     "ename": "NameError",
     "evalue": "name 'qmmm_file' is not defined",
     "output_type": "error",
     "traceback": [
      "\u001b[0;31m---------------------------------------------------------------------------\u001b[0m",
      "\u001b[0;31mNameError\u001b[0m                                 Traceback (most recent call last)",
      "Input \u001b[0;32mIn [11]\u001b[0m, in \u001b[0;36m<cell line: 2>\u001b[0;34m()\u001b[0m\n\u001b[1;32m      1\u001b[0m \u001b[38;5;66;03m# show the updated section in the file\u001b[39;00m\n\u001b[0;32m----> 2\u001b[0m \u001b[43mqmmm_file\u001b[49m\u001b[38;5;241m.\u001b[39mXTBELEMENTS\n",
      "\u001b[0;31mNameError\u001b[0m: name 'qmmm_file' is not defined"
     ]
    }
   ],
   "source": [
    "# show the updated section in the file\n",
    "qmmm_file.XTBELEMENTS"
   ]
  },
  {
   "cell_type": "markdown",
   "id": "11615f62-005e-4e99-84a8-7e2e32badb15",
   "metadata": {},
   "source": [
    "### A helper function that returns all QM engines specified in the QM/MM specification file"
   ]
  },
  {
   "cell_type": "markdown",
   "id": "466a4510",
   "metadata": {},
   "source": [
    "There is also a sanity check in the constructor of `QMMM` to see if you did not accidentally add more than one QM engine."
   ]
  },
  {
   "cell_type": "code",
   "execution_count": 12,
   "id": "171dcd38-50b3-4cbc-9056-1a0a83b679b0",
   "metadata": {
    "execution": {
     "iopub.execute_input": "2022-04-01T07:59:26.191365Z",
     "iopub.status.busy": "2022-04-01T07:59:26.190818Z",
     "iopub.status.idle": "2022-04-01T07:59:26.211494Z",
     "shell.execute_reply": "2022-04-01T07:59:26.210180Z"
    }
   },
   "outputs": [
    {
     "ename": "NameError",
     "evalue": "name 'qmmm_file' is not defined",
     "output_type": "error",
     "traceback": [
      "\u001b[0;31m---------------------------------------------------------------------------\u001b[0m",
      "\u001b[0;31mNameError\u001b[0m                                 Traceback (most recent call last)",
      "Input \u001b[0;32mIn [12]\u001b[0m, in \u001b[0;36m<cell line: 1>\u001b[0;34m()\u001b[0m\n\u001b[0;32m----> 1\u001b[0m \u001b[38;5;28mprint\u001b[39m(\u001b[43mqmmm_file\u001b[49m\u001b[38;5;241m.\u001b[39mget_qm_engines())\n",
      "\u001b[0;31mNameError\u001b[0m: name 'qmmm_file' is not defined"
     ]
    }
   ],
   "source": [
    "print(qmmm_file.get_qm_engines())"
   ]
  },
  {
   "cell_type": "markdown",
   "id": "6762dd06",
   "metadata": {},
   "source": [
    "### Store your QMMM specification file with all your other simulation files in a `Gromos_System` object"
   ]
  },
  {
   "cell_type": "code",
   "execution_count": 13,
   "id": "b53cc612",
   "metadata": {
    "execution": {
     "iopub.execute_input": "2022-04-01T07:59:26.218351Z",
     "iopub.status.busy": "2022-04-01T07:59:26.217689Z",
     "iopub.status.idle": "2022-04-01T07:59:29.977328Z",
     "shell.execute_reply": "2022-04-01T07:59:29.975840Z"
    }
   },
   "outputs": [
    {
     "name": "stderr",
     "output_type": "stream",
     "text": [
      "mkdir: cannot create directory ‘/home/fpultar/Documents/repos/PyGromosTools/examples/example_files/QMMM_files/menthol-methanol-dmf’: No such file or directory\n"
     ]
    },
    {
     "ename": "OSError",
     "evalue": "could not make folder:\n /home/fpultar/Documents/repos/PyGromosTools/examples/example_files/QMMM_files/menthol-methanol-dmf",
     "output_type": "error",
     "traceback": [
      "\u001b[0;31m---------------------------------------------------------------------------\u001b[0m",
      "\u001b[0;31mOSError\u001b[0m                                   Traceback (most recent call last)",
      "Input \u001b[0;32mIn [13]\u001b[0m, in \u001b[0;36m<cell line: 8>\u001b[0;34m()\u001b[0m\n\u001b[1;32m      5\u001b[0m work_folder \u001b[38;5;241m=\u001b[39m \u001b[38;5;124mf\u001b[39m\u001b[38;5;124m\"\u001b[39m\u001b[38;5;124m/home/fpultar/Documents/repos/PyGromosTools/examples/example_files/QMMM_files/\u001b[39m\u001b[38;5;132;01m{\u001b[39;00msystem_name\u001b[38;5;132;01m}\u001b[39;00m\u001b[38;5;124m\"\u001b[39m\n\u001b[1;32m      7\u001b[0m \u001b[38;5;66;03m# create a Gromos_System object from scratch\u001b[39;00m\n\u001b[0;32m----> 8\u001b[0m system \u001b[38;5;241m=\u001b[39m \u001b[43mGromos_System\u001b[49m\u001b[43m(\u001b[49m\u001b[43mwork_folder\u001b[49m\u001b[43m,\u001b[49m\u001b[43m \u001b[49m\u001b[43msystem_name\u001b[49m\u001b[43m)\u001b[49m\n\u001b[1;32m     10\u001b[0m \u001b[38;5;66;03m# specify prepared topology, configuration, QMMM specification file, and input file\u001b[39;00m\n\u001b[1;32m     11\u001b[0m system\u001b[38;5;241m.\u001b[39mtop \u001b[38;5;241m=\u001b[39m \u001b[38;5;124mf\u001b[39m\u001b[38;5;124m\"\u001b[39m\u001b[38;5;124m/home/fpultar/Documents/repos/PyGromosTools/examples/example_files/QMMM_files/\u001b[39m\u001b[38;5;132;01m{\u001b[39;00msystem_name\u001b[38;5;132;01m}\u001b[39;00m\u001b[38;5;124m-all-atom_54a7.top\u001b[39m\u001b[38;5;124m\"\u001b[39m\n",
      "File \u001b[0;32m~/Documents/projects/PyGromosTools/pygromos/files/gromos_system/gromos_system.py:228\u001b[0m, in \u001b[0;36mGromos_System.__init__\u001b[0;34m(self, work_folder, system_name, rdkitMol, in_mol2_file, readIn, forcefield, auto_convert, adapt_imd_automatically, verbose, in_smiles, in_residue_list, in_top_path, in_cnf_path, in_imd_path, in_disres_path, in_ptp_path, in_posres_path, in_refpos_path, in_qmmm_path, in_gromosXX_bin_dir, in_gromosPP_bin_dir)\u001b[0m\n\u001b[1;32m    217\u001b[0m \u001b[38;5;66;03m# import files:\u001b[39;00m\n\u001b[1;32m    218\u001b[0m file_mapping \u001b[38;5;241m=\u001b[39m {\n\u001b[1;32m    219\u001b[0m     \u001b[38;5;124m\"\u001b[39m\u001b[38;5;124mimd\u001b[39m\u001b[38;5;124m\"\u001b[39m: in_imd_path,\n\u001b[1;32m    220\u001b[0m     \u001b[38;5;124m\"\u001b[39m\u001b[38;5;124mtop\u001b[39m\u001b[38;5;124m\"\u001b[39m: in_top_path,\n\u001b[0;32m   (...)\u001b[0m\n\u001b[1;32m    226\u001b[0m     \u001b[38;5;124m\"\u001b[39m\u001b[38;5;124mqmmm\u001b[39m\u001b[38;5;124m\"\u001b[39m: in_qmmm_path,\n\u001b[1;32m    227\u001b[0m }\n\u001b[0;32m--> 228\u001b[0m \u001b[38;5;28;43mself\u001b[39;49m\u001b[38;5;241;43m.\u001b[39;49m\u001b[43mparse_attribute_files\u001b[49m\u001b[43m(\u001b[49m\u001b[43mfile_mapping\u001b[49m\u001b[43m,\u001b[49m\u001b[43m \u001b[49m\u001b[43mreadIn\u001b[49m\u001b[38;5;241;43m=\u001b[39;49m\u001b[43mreadIn\u001b[49m\u001b[43m,\u001b[49m\u001b[43m \u001b[49m\u001b[43mverbose\u001b[49m\u001b[38;5;241;43m=\u001b[39;49m\u001b[43mverbose\u001b[49m\u001b[43m)\u001b[49m\n\u001b[1;32m    230\u001b[0m \u001b[38;5;66;03m# System Information:\u001b[39;00m\n\u001b[1;32m    231\u001b[0m \u001b[38;5;28;01mif\u001b[39;00m \u001b[38;5;129;01mnot\u001b[39;00m \u001b[38;5;28mself\u001b[39m\u001b[38;5;241m.\u001b[39m_cnf\u001b[38;5;241m.\u001b[39m_future_file:\n",
      "File \u001b[0;32m~/Documents/projects/PyGromosTools/pygromos/files/gromos_system/gromos_system.py:830\u001b[0m, in \u001b[0;36mGromos_System.parse_attribute_files\u001b[0;34m(self, file_mapping, readIn, verbose)\u001b[0m\n\u001b[1;32m    828\u001b[0m \u001b[38;5;66;03m# Check if system folder is present\u001b[39;00m\n\u001b[1;32m    829\u001b[0m \u001b[38;5;28;01mif\u001b[39;00m \u001b[38;5;129;01mnot\u001b[39;00m os\u001b[38;5;241m.\u001b[39mpath\u001b[38;5;241m.\u001b[39mexists(\u001b[38;5;28mself\u001b[39m\u001b[38;5;241m.\u001b[39m_work_folder):\n\u001b[0;32m--> 830\u001b[0m     \u001b[43mbash\u001b[49m\u001b[38;5;241;43m.\u001b[39;49m\u001b[43mmake_folder\u001b[49m\u001b[43m(\u001b[49m\u001b[38;5;28;43mself\u001b[39;49m\u001b[38;5;241;43m.\u001b[39;49m\u001b[43m_work_folder\u001b[49m\u001b[43m)\u001b[49m\n\u001b[1;32m    831\u001b[0m check_file_paths\u001b[38;5;241m.\u001b[39mappend(\u001b[38;5;28mself\u001b[39m\u001b[38;5;241m.\u001b[39m_work_folder)\n\u001b[1;32m    833\u001b[0m \u001b[38;5;66;03m# Check if file- paths are valid\u001b[39;00m\n",
      "File \u001b[0;32m~/Documents/projects/PyGromosTools/pygromos/utils/bash.py:558\u001b[0m, in \u001b[0;36mmake_folder\u001b[0;34m(in_directory_path, additional_option, verbose)\u001b[0m\n\u001b[1;32m    556\u001b[0m \u001b[38;5;28;01mif\u001b[39;00m \u001b[38;5;129;01mnot\u001b[39;00m os\u001b[38;5;241m.\u001b[39mpath\u001b[38;5;241m.\u001b[39misdir(in_directory_path):\n\u001b[1;32m    557\u001b[0m     \u001b[38;5;28;01mif\u001b[39;00m os\u001b[38;5;241m.\u001b[39msystem(mk_folder):\n\u001b[0;32m--> 558\u001b[0m         \u001b[38;5;28;01mraise\u001b[39;00m \u001b[38;5;167;01mOSError\u001b[39;00m(\u001b[38;5;124m\"\u001b[39m\u001b[38;5;124mcould not make folder:\u001b[39m\u001b[38;5;130;01m\\n\u001b[39;00m\u001b[38;5;124m \u001b[39m\u001b[38;5;124m\"\u001b[39m \u001b[38;5;241m+\u001b[39m \u001b[38;5;28mstr\u001b[39m(in_directory_path))\n\u001b[1;32m    560\u001b[0m \u001b[38;5;28;01melif\u001b[39;00m verbose:\n\u001b[1;32m    561\u001b[0m     warnings\u001b[38;5;241m.\u001b[39mwarn(\u001b[38;5;124m\"\u001b[39m\u001b[38;5;124mWARNING:\u001b[39m\u001b[38;5;130;01m\\n\u001b[39;00m\u001b[38;5;130;01m\\t\u001b[39;00m\u001b[38;5;124m Did not build already existing folder: \u001b[39m\u001b[38;5;124m\"\u001b[39m \u001b[38;5;241m+\u001b[39m in_directory_path, category\u001b[38;5;241m=\u001b[39m\u001b[38;5;167;01mUserWarning\u001b[39;00m)\n",
      "\u001b[0;31mOSError\u001b[0m: could not make folder:\n /home/fpultar/Documents/repos/PyGromosTools/examples/example_files/QMMM_files/menthol-methanol-dmf"
     ]
    }
   ],
   "source": [
    "# that's what we want to simulate\n",
    "system_name = \"menthol-methanol-dmf\"\n",
    "\n",
    "# that's where we want to simulate it at\n",
    "work_folder = f\"/home/fpultar/Documents/repos/PyGromosTools/examples/example_files/QMMM_files/{system_name}\"\n",
    "\n",
    "# create a Gromos_System object from scratch\n",
    "system = Gromos_System(work_folder, system_name)\n",
    "\n",
    "# specify prepared topology, configuration, QMMM specification file, and input file\n",
    "system.top = f\"/home/fpultar/Documents/repos/PyGromosTools/examples/example_files/QMMM_files/{system_name}-all-atom_54a7.top\"\n",
    "system.cnf = f\"/home/fpultar/Documents/repos/PyGromosTools/examples/example_files/QMMM_files/{system_name}-all-atom-init_54a7.cnf\"\n",
    "system.qmmm = qmmm_file\n",
    "system.imd = imd_file\n",
    "\n",
    "# clean up\n",
    "system.rebase_files()\n",
    "\n",
    "# all your simulation files now live in the work folder\n",
    "system"
   ]
  },
  {
   "cell_type": "code",
   "execution_count": 14,
   "id": "7b311787",
   "metadata": {
    "execution": {
     "iopub.execute_input": "2022-04-01T07:59:29.987386Z",
     "iopub.status.busy": "2022-04-01T07:59:29.985661Z",
     "iopub.status.idle": "2022-04-01T07:59:30.012055Z",
     "shell.execute_reply": "2022-04-01T07:59:30.010755Z"
    }
   },
   "outputs": [
    {
     "ename": "NameError",
     "evalue": "name 'system' is not defined",
     "output_type": "error",
     "traceback": [
      "\u001b[0;31m---------------------------------------------------------------------------\u001b[0m",
      "\u001b[0;31mNameError\u001b[0m                                 Traceback (most recent call last)",
      "Input \u001b[0;32mIn [14]\u001b[0m, in \u001b[0;36m<cell line: 2>\u001b[0;34m()\u001b[0m\n\u001b[1;32m      1\u001b[0m \u001b[38;5;66;03m# the imd file has been adapted (force groups, multibath, etc.)\u001b[39;00m\n\u001b[0;32m----> 2\u001b[0m \u001b[43msystem\u001b[49m\u001b[38;5;241m.\u001b[39mimd\n",
      "\u001b[0;31mNameError\u001b[0m: name 'system' is not defined"
     ]
    }
   ],
   "source": [
    "# the imd file has been adapted (force groups, multibath, etc.)\n",
    "system.imd"
   ]
  },
  {
   "cell_type": "markdown",
   "id": "b8a4dd03",
   "metadata": {},
   "source": [
    "## Run QM/MM Simulations"
   ]
  },
  {
   "cell_type": "markdown",
   "id": "6f4b1139",
   "metadata": {},
   "source": [
    "QM/MM calculations are possible with a special in-house build of `GROMOS`."
   ]
  },
  {
   "cell_type": "code",
   "execution_count": 15,
   "id": "477f3d2d",
   "metadata": {
    "execution": {
     "iopub.execute_input": "2022-04-01T07:59:30.019830Z",
     "iopub.status.busy": "2022-04-01T07:59:30.018486Z",
     "iopub.status.idle": "2022-04-01T07:59:30.122629Z",
     "shell.execute_reply": "2022-04-01T07:59:30.120672Z"
    }
   },
   "outputs": [
    {
     "name": "stderr",
     "output_type": "stream",
     "text": [
      "mkdir: cannot create directory ‘/home/fpultar/Documents/calc/pygromos/menthol-methanol-dmf’: No such file or directory\n"
     ]
    },
    {
     "ename": "OSError",
     "evalue": "could not make folder:\n /home/fpultar/Documents/calc/pygromos/menthol-methanol-dmf",
     "output_type": "error",
     "traceback": [
      "\u001b[0;31m---------------------------------------------------------------------------\u001b[0m",
      "\u001b[0;31mOSError\u001b[0m                                   Traceback (most recent call last)",
      "Input \u001b[0;32mIn [15]\u001b[0m, in \u001b[0;36m<cell line: 14>\u001b[0;34m()\u001b[0m\n\u001b[1;32m     11\u001b[0m in_top_path  \u001b[38;5;241m=\u001b[39m \u001b[38;5;124mf\u001b[39m\u001b[38;5;124m\"\u001b[39m\u001b[38;5;124m/home/fpultar/Documents/repos/PyGromosTools/examples/example_files/QMMM_files/menthol-methanol-dmf-all-atom_54a7.top\u001b[39m\u001b[38;5;124m\"\u001b[39m\n\u001b[1;32m     13\u001b[0m \u001b[38;5;66;03m# system\u001b[39;00m\n\u001b[0;32m---> 14\u001b[0m system \u001b[38;5;241m=\u001b[39m \u001b[43mGromos_System\u001b[49m\u001b[43m(\u001b[49m\n\u001b[1;32m     15\u001b[0m \u001b[43m    \u001b[49m\u001b[43mwork_folder\u001b[49m\u001b[43m,\u001b[49m\u001b[43m \u001b[49m\n\u001b[1;32m     16\u001b[0m \u001b[43m    \u001b[49m\u001b[43msystem_name\u001b[49m\u001b[43m,\u001b[49m\u001b[43m \u001b[49m\n\u001b[1;32m     17\u001b[0m \u001b[43m    \u001b[49m\u001b[43min_top_path\u001b[49m\u001b[38;5;241;43m=\u001b[39;49m\u001b[43min_top_path\u001b[49m\u001b[43m,\u001b[49m\u001b[43m \u001b[49m\n\u001b[1;32m     18\u001b[0m \u001b[43m    \u001b[49m\u001b[43min_cnf_path\u001b[49m\u001b[38;5;241;43m=\u001b[39;49m\u001b[43min_cnf_path\u001b[49m\u001b[43m,\u001b[49m\n\u001b[1;32m     19\u001b[0m \u001b[43m    \u001b[49m\u001b[43min_gromosPP_bin_dir\u001b[49m\u001b[38;5;241;43m=\u001b[39;49m\u001b[43mgromosPP\u001b[49m\u001b[43m,\u001b[49m\n\u001b[1;32m     20\u001b[0m \u001b[43m    \u001b[49m\u001b[43min_gromosXX_bin_dir\u001b[49m\u001b[38;5;241;43m=\u001b[39;49m\u001b[43mgromosXX\u001b[49m\n\u001b[1;32m     21\u001b[0m \u001b[43m)\u001b[49m\n\u001b[1;32m     23\u001b[0m system\n",
      "File \u001b[0;32m~/Documents/projects/PyGromosTools/pygromos/files/gromos_system/gromos_system.py:228\u001b[0m, in \u001b[0;36mGromos_System.__init__\u001b[0;34m(self, work_folder, system_name, rdkitMol, in_mol2_file, readIn, forcefield, auto_convert, adapt_imd_automatically, verbose, in_smiles, in_residue_list, in_top_path, in_cnf_path, in_imd_path, in_disres_path, in_ptp_path, in_posres_path, in_refpos_path, in_qmmm_path, in_gromosXX_bin_dir, in_gromosPP_bin_dir)\u001b[0m\n\u001b[1;32m    217\u001b[0m \u001b[38;5;66;03m# import files:\u001b[39;00m\n\u001b[1;32m    218\u001b[0m file_mapping \u001b[38;5;241m=\u001b[39m {\n\u001b[1;32m    219\u001b[0m     \u001b[38;5;124m\"\u001b[39m\u001b[38;5;124mimd\u001b[39m\u001b[38;5;124m\"\u001b[39m: in_imd_path,\n\u001b[1;32m    220\u001b[0m     \u001b[38;5;124m\"\u001b[39m\u001b[38;5;124mtop\u001b[39m\u001b[38;5;124m\"\u001b[39m: in_top_path,\n\u001b[0;32m   (...)\u001b[0m\n\u001b[1;32m    226\u001b[0m     \u001b[38;5;124m\"\u001b[39m\u001b[38;5;124mqmmm\u001b[39m\u001b[38;5;124m\"\u001b[39m: in_qmmm_path,\n\u001b[1;32m    227\u001b[0m }\n\u001b[0;32m--> 228\u001b[0m \u001b[38;5;28;43mself\u001b[39;49m\u001b[38;5;241;43m.\u001b[39;49m\u001b[43mparse_attribute_files\u001b[49m\u001b[43m(\u001b[49m\u001b[43mfile_mapping\u001b[49m\u001b[43m,\u001b[49m\u001b[43m \u001b[49m\u001b[43mreadIn\u001b[49m\u001b[38;5;241;43m=\u001b[39;49m\u001b[43mreadIn\u001b[49m\u001b[43m,\u001b[49m\u001b[43m \u001b[49m\u001b[43mverbose\u001b[49m\u001b[38;5;241;43m=\u001b[39;49m\u001b[43mverbose\u001b[49m\u001b[43m)\u001b[49m\n\u001b[1;32m    230\u001b[0m \u001b[38;5;66;03m# System Information:\u001b[39;00m\n\u001b[1;32m    231\u001b[0m \u001b[38;5;28;01mif\u001b[39;00m \u001b[38;5;129;01mnot\u001b[39;00m \u001b[38;5;28mself\u001b[39m\u001b[38;5;241m.\u001b[39m_cnf\u001b[38;5;241m.\u001b[39m_future_file:\n",
      "File \u001b[0;32m~/Documents/projects/PyGromosTools/pygromos/files/gromos_system/gromos_system.py:830\u001b[0m, in \u001b[0;36mGromos_System.parse_attribute_files\u001b[0;34m(self, file_mapping, readIn, verbose)\u001b[0m\n\u001b[1;32m    828\u001b[0m \u001b[38;5;66;03m# Check if system folder is present\u001b[39;00m\n\u001b[1;32m    829\u001b[0m \u001b[38;5;28;01mif\u001b[39;00m \u001b[38;5;129;01mnot\u001b[39;00m os\u001b[38;5;241m.\u001b[39mpath\u001b[38;5;241m.\u001b[39mexists(\u001b[38;5;28mself\u001b[39m\u001b[38;5;241m.\u001b[39m_work_folder):\n\u001b[0;32m--> 830\u001b[0m     \u001b[43mbash\u001b[49m\u001b[38;5;241;43m.\u001b[39;49m\u001b[43mmake_folder\u001b[49m\u001b[43m(\u001b[49m\u001b[38;5;28;43mself\u001b[39;49m\u001b[38;5;241;43m.\u001b[39;49m\u001b[43m_work_folder\u001b[49m\u001b[43m)\u001b[49m\n\u001b[1;32m    831\u001b[0m check_file_paths\u001b[38;5;241m.\u001b[39mappend(\u001b[38;5;28mself\u001b[39m\u001b[38;5;241m.\u001b[39m_work_folder)\n\u001b[1;32m    833\u001b[0m \u001b[38;5;66;03m# Check if file- paths are valid\u001b[39;00m\n",
      "File \u001b[0;32m~/Documents/projects/PyGromosTools/pygromos/utils/bash.py:558\u001b[0m, in \u001b[0;36mmake_folder\u001b[0;34m(in_directory_path, additional_option, verbose)\u001b[0m\n\u001b[1;32m    556\u001b[0m \u001b[38;5;28;01mif\u001b[39;00m \u001b[38;5;129;01mnot\u001b[39;00m os\u001b[38;5;241m.\u001b[39mpath\u001b[38;5;241m.\u001b[39misdir(in_directory_path):\n\u001b[1;32m    557\u001b[0m     \u001b[38;5;28;01mif\u001b[39;00m os\u001b[38;5;241m.\u001b[39msystem(mk_folder):\n\u001b[0;32m--> 558\u001b[0m         \u001b[38;5;28;01mraise\u001b[39;00m \u001b[38;5;167;01mOSError\u001b[39;00m(\u001b[38;5;124m\"\u001b[39m\u001b[38;5;124mcould not make folder:\u001b[39m\u001b[38;5;130;01m\\n\u001b[39;00m\u001b[38;5;124m \u001b[39m\u001b[38;5;124m\"\u001b[39m \u001b[38;5;241m+\u001b[39m \u001b[38;5;28mstr\u001b[39m(in_directory_path))\n\u001b[1;32m    560\u001b[0m \u001b[38;5;28;01melif\u001b[39;00m verbose:\n\u001b[1;32m    561\u001b[0m     warnings\u001b[38;5;241m.\u001b[39mwarn(\u001b[38;5;124m\"\u001b[39m\u001b[38;5;124mWARNING:\u001b[39m\u001b[38;5;130;01m\\n\u001b[39;00m\u001b[38;5;130;01m\\t\u001b[39;00m\u001b[38;5;124m Did not build already existing folder: \u001b[39m\u001b[38;5;124m\"\u001b[39m \u001b[38;5;241m+\u001b[39m in_directory_path, category\u001b[38;5;241m=\u001b[39m\u001b[38;5;167;01mUserWarning\u001b[39;00m)\n",
      "\u001b[0;31mOSError\u001b[0m: could not make folder:\n /home/fpultar/Documents/calc/pygromos/menthol-methanol-dmf"
     ]
    }
   ],
   "source": [
    "# binaries (not yet QM/MM)\n",
    "gromosPP = \"/home/fpultar/bin/gromos++/bin\"\n",
    "gromosXX = \"/home/fpultar/bin/gromosXX/bin\" \n",
    "\n",
    "# folders and title\n",
    "system_name = \"menthol-methanol-dmf\"\n",
    "work_folder = f\"/home/fpultar/Documents/calc/pygromos/{system_name}\"\n",
    "\n",
    "# files\n",
    "in_cnf_path  = f\"/home/fpultar/Documents/repos/PyGromosTools/examples/example_files/QMMM_files/menthol-methanol-dmf-all-atom-init_54a7.cnf\"\n",
    "in_top_path  = f\"/home/fpultar/Documents/repos/PyGromosTools/examples/example_files/QMMM_files/menthol-methanol-dmf-all-atom_54a7.top\"\n",
    "\n",
    "# system\n",
    "system = Gromos_System(\n",
    "    work_folder, \n",
    "    system_name, \n",
    "    in_top_path=in_top_path, \n",
    "    in_cnf_path=in_cnf_path,\n",
    "    in_gromosPP_bin_dir=gromosPP,\n",
    "    in_gromosXX_bin_dir=gromosXX\n",
    ")\n",
    "\n",
    "system"
   ]
  },
  {
   "cell_type": "code",
   "execution_count": 16,
   "id": "9edc9650",
   "metadata": {
    "execution": {
     "iopub.execute_input": "2022-04-01T07:59:30.127459Z",
     "iopub.status.busy": "2022-04-01T07:59:30.127182Z",
     "iopub.status.idle": "2022-04-01T07:59:30.152656Z",
     "shell.execute_reply": "2022-04-01T07:59:30.151453Z"
    }
   },
   "outputs": [
    {
     "ename": "NameError",
     "evalue": "name 'system' is not defined",
     "output_type": "error",
     "traceback": [
      "\u001b[0;31m---------------------------------------------------------------------------\u001b[0m",
      "\u001b[0;31mNameError\u001b[0m                                 Traceback (most recent call last)",
      "Input \u001b[0;32mIn [16]\u001b[0m, in \u001b[0;36m<cell line: 1>\u001b[0;34m()\u001b[0m\n\u001b[0;32m----> 1\u001b[0m \u001b[43msystem\u001b[49m\u001b[38;5;241m.\u001b[39mcnf\u001b[38;5;241m.\u001b[39mvisualize()\n",
      "\u001b[0;31mNameError\u001b[0m: name 'system' is not defined"
     ]
    }
   ],
   "source": [
    "system.cnf.visualize()"
   ]
  },
  {
   "cell_type": "code",
   "execution_count": 17,
   "id": "ec3896bb",
   "metadata": {
    "execution": {
     "iopub.execute_input": "2022-04-01T07:59:30.156530Z",
     "iopub.status.busy": "2022-04-01T07:59:30.156184Z",
     "iopub.status.idle": "2022-04-01T07:59:30.179832Z",
     "shell.execute_reply": "2022-04-01T07:59:30.178340Z"
    }
   },
   "outputs": [
    {
     "ename": "NameError",
     "evalue": "name 'system' is not defined",
     "output_type": "error",
     "traceback": [
      "\u001b[0;31m---------------------------------------------------------------------------\u001b[0m",
      "\u001b[0;31mNameError\u001b[0m                                 Traceback (most recent call last)",
      "Input \u001b[0;32mIn [17]\u001b[0m, in \u001b[0;36m<cell line: 5>\u001b[0;34m()\u001b[0m\n\u001b[1;32m      2\u001b[0m submit \u001b[38;5;241m=\u001b[39m LOCAL(nomp\u001b[38;5;241m=\u001b[39m\u001b[38;5;241m8\u001b[39m)\n\u001b[1;32m      4\u001b[0m \u001b[38;5;66;03m# energy minimize the system\u001b[39;00m\n\u001b[0;32m----> 5\u001b[0m minimized_system \u001b[38;5;241m=\u001b[39m emin(\u001b[43msystem\u001b[49m, submission_system\u001b[38;5;241m=\u001b[39msubmit)\n",
      "\u001b[0;31mNameError\u001b[0m: name 'system' is not defined"
     ]
    }
   ],
   "source": [
    "# create a local submission system and specify the number of cores\n",
    "submit = LOCAL(nomp=8)\n",
    "\n",
    "# energy minimize the system\n",
    "minimized_system = emin(system, submission_system=submit)"
   ]
  },
  {
   "cell_type": "code",
   "execution_count": 18,
   "id": "4cf50815",
   "metadata": {
    "execution": {
     "iopub.execute_input": "2022-04-01T07:59:30.187306Z",
     "iopub.status.busy": "2022-04-01T07:59:30.186067Z",
     "iopub.status.idle": "2022-04-01T07:59:30.208994Z",
     "shell.execute_reply": "2022-04-01T07:59:30.207500Z"
    }
   },
   "outputs": [
    {
     "ename": "NameError",
     "evalue": "name 'minimized_system' is not defined",
     "output_type": "error",
     "traceback": [
      "\u001b[0;31m---------------------------------------------------------------------------\u001b[0m",
      "\u001b[0;31mNameError\u001b[0m                                 Traceback (most recent call last)",
      "Input \u001b[0;32mIn [18]\u001b[0m, in \u001b[0;36m<cell line: 3>\u001b[0;34m()\u001b[0m\n\u001b[1;32m      1\u001b[0m \u001b[38;5;66;03m# new imd file for equilibration\u001b[39;00m\n\u001b[1;32m      2\u001b[0m in_imd_path  \u001b[38;5;241m=\u001b[39m \u001b[38;5;124mf\u001b[39m\u001b[38;5;124m\"\u001b[39m\u001b[38;5;124m/home/fpultar/Documents/repos/PyGromosTools/examples/example_files/QMMM_files/menthol-methanol-dmf-eq.imd\u001b[39m\u001b[38;5;124m\"\u001b[39m\n\u001b[0;32m----> 3\u001b[0m \u001b[43mminimized_system\u001b[49m\u001b[38;5;241m.\u001b[39mimd \u001b[38;5;241m=\u001b[39m in_imd_path\n\u001b[1;32m      4\u001b[0m minimized_system\u001b[38;5;241m.\u001b[39mimd\u001b[38;5;241m.\u001b[39mSTEP\u001b[38;5;241m.\u001b[39mNSTLIM \u001b[38;5;241m=\u001b[39m \u001b[38;5;241m1000\u001b[39m\n\u001b[1;32m      5\u001b[0m minimized_system\u001b[38;5;241m.\u001b[39mimd\u001b[38;5;241m.\u001b[39mSTEP\u001b[38;5;241m.\u001b[39mDT \u001b[38;5;241m=\u001b[39m \u001b[38;5;241m0.002\u001b[39m \u001b[38;5;66;03m# 2.0 fs\u001b[39;00m\n",
      "\u001b[0;31mNameError\u001b[0m: name 'minimized_system' is not defined"
     ]
    }
   ],
   "source": [
    "# new imd file for equilibration\n",
    "in_imd_path  = f\"/home/fpultar/Documents/repos/PyGromosTools/examples/example_files/QMMM_files/menthol-methanol-dmf-eq.imd\"\n",
    "minimized_system.imd = in_imd_path\n",
    "minimized_system.imd.STEP.NSTLIM = 1000\n",
    "minimized_system.imd.STEP.DT = 0.002 # 2.0 fs\n",
    "minimized_system"
   ]
  },
  {
   "cell_type": "code",
   "execution_count": 19,
   "id": "7ef864f1",
   "metadata": {
    "execution": {
     "iopub.execute_input": "2022-04-01T07:59:30.213309Z",
     "iopub.status.busy": "2022-04-01T07:59:30.212486Z",
     "iopub.status.idle": "2022-04-01T07:59:30.238277Z",
     "shell.execute_reply": "2022-04-01T07:59:30.237242Z"
    }
   },
   "outputs": [
    {
     "ename": "NameError",
     "evalue": "name 'minimized_system' is not defined",
     "output_type": "error",
     "traceback": [
      "\u001b[0;31m---------------------------------------------------------------------------\u001b[0m",
      "\u001b[0;31mNameError\u001b[0m                                 Traceback (most recent call last)",
      "Input \u001b[0;32mIn [19]\u001b[0m, in \u001b[0;36m<cell line: 2>\u001b[0;34m()\u001b[0m\n\u001b[1;32m      1\u001b[0m \u001b[38;5;66;03m# equilibrate the system\u001b[39;00m\n\u001b[0;32m----> 2\u001b[0m equilibrated_system \u001b[38;5;241m=\u001b[39m md(\u001b[43mminimized_system\u001b[49m, step_name\u001b[38;5;241m=\u001b[39m\u001b[38;5;124m\"\u001b[39m\u001b[38;5;124meq\u001b[39m\u001b[38;5;124m\"\u001b[39m, submission_system\u001b[38;5;241m=\u001b[39msubmit)\n\u001b[1;32m      3\u001b[0m equilibrated_system\n",
      "\u001b[0;31mNameError\u001b[0m: name 'minimized_system' is not defined"
     ]
    }
   ],
   "source": [
    "# equilibrate the system\n",
    "equilibrated_system = md(minimized_system, step_name=\"eq\", submission_system=submit)\n",
    "equilibrated_system"
   ]
  },
  {
   "cell_type": "code",
   "execution_count": 20,
   "id": "ac863a60",
   "metadata": {
    "execution": {
     "iopub.execute_input": "2022-04-01T07:59:30.242504Z",
     "iopub.status.busy": "2022-04-01T07:59:30.242222Z",
     "iopub.status.idle": "2022-04-01T07:59:30.254142Z",
     "shell.execute_reply": "2022-04-01T07:59:30.253057Z"
    }
   },
   "outputs": [
    {
     "data": {
      "text/plain": [
       "environ{'LESSOPEN': '| /usr/bin/lesspipe %s',\n",
       "        'CONDA_PROMPT_MODIFIER': '(pygromosDev) ',\n",
       "        'USER': 'bschroed',\n",
       "        'SSH_AGENT_PID': '15131',\n",
       "        'LD_LIBRARY_PATH': '/home/fpultar/opt/gcc-8.2.0/lib:/home/fpultar/opt/gcc-8.2.0/lib64',\n",
       "        'SHLVL': '2',\n",
       "        'HOME': '/home/bschroed',\n",
       "        'CONDA_SHLVL': '2',\n",
       "        'OLDPWD': '/home/bschroed/Documents/projects/PyGromosTools/docs',\n",
       "        'NVM_BIN': '/home/bschroed/.nvm/versions/node/v16.9.1/bin',\n",
       "        'NVM_INC': '/home/bschroed/.nvm/versions/node/v16.9.1/include/node',\n",
       "        'MAKEFLAGS': '',\n",
       "        'COLORTERM': 'truecolor',\n",
       "        '_CE_M': '',\n",
       "        'TERMINATOR_DBUS_NAME': 'net.tenshu.Terminator25ef4b219e3b005583550f2b0f9f990c3',\n",
       "        'WSL_DISTRO_NAME': 'Ubuntu',\n",
       "        'NVM_DIR': '/home/bschroed/.nvm',\n",
       "        'MAKE_TERMERR': '/dev/pts/19',\n",
       "        'WAYLAND_DISPLAY': 'wayland-0',\n",
       "        'LOGNAME': 'bschroed',\n",
       "        '_': '/usr/bin/make',\n",
       "        'WSL_INTEROP': '/run/WSL/15108_interop',\n",
       "        'PULSE_SERVER': '/mnt/wslg/PulseServer',\n",
       "        'NAME': 'taptop',\n",
       "        'TERM': 'xterm-color',\n",
       "        'AMBERHOME': '/home/bschroed/miniconda3/envs/pygromosDev',\n",
       "        '_CE_CONDA': '',\n",
       "        'PATH': '/home/bschroed/miniconda3/envs/pygromosDev/bin:/home/bschroed/miniconda3/condabin:/home/bschroed/.nvm/versions/node/v16.9.1/bin:/usr/local/cuda-11.4/bin:/home/bschroed/.local/bin:/usr/local/sbin:/usr/local/bin:/usr/sbin:/usr/bin:/sbin:/bin:/usr/games:/usr/local/games:/usr/lib/wsl/lib:/mnt/c/Program Files/PerkinElmerInformatics/ChemOffice2020/ChemScript/Lib:/mnt/c/Program Files/Common Files/Oracle/Java/javapath:/mnt/c/Python39/Scripts:/mnt/c/Python39:/mnt/c/WINDOWS/system32:/mnt/c/WINDOWS:/mnt/c/WINDOWS/System32/Wbem:/mnt/c/WINDOWS/System32/WindowsPowerShell/v1.0:/mnt/c/WINDOWS/System32/OpenSSH:/mnt/c/Program Files/Git/cmd:/mnt/c/Program Files (x86)/NVIDIA Corporation/PhysX/Common:/mnt/c/Program Files/dotnet:/mnt/c/ProgramData/chocolatey/bin:/mnt/c/Program Files/OpenJDK/openjdk-8u302-b08/bin:/mnt/c/Users/benja/AppData/Local/Android/Sdk/platform-tools:/mnt/c/Program Files/nodejs:/mnt/c/Program Files/nodejs:/mnt/c/Program Files (x86)/dotnet:/mnt/c/Program Files (x86)/Calibre2:/mnt/c/Program Files/PerkinElmerInformatics/ChemOffice2020/ChemScript/Lib:/mnt/c/Program Files/Common Files/Oracle/Java/javapath:/mnt/c/Python39/Scripts:/mnt/c/Python39:/mnt/c/WINDOWS/system32:/mnt/c/WINDOWS:/mnt/c/WINDOWS/System32/Wbem:/mnt/c/WINDOWS/System32/WindowsPowerShell/v1.0:/mnt/c/WINDOWS/System32/OpenSSH:/mnt/c/Program Files/Git/cmd:/mnt/c/Program Files (x86)/NVIDIA Corporation/PhysX/Common:/mnt/c/Program Files/dotnet:/mnt/c/ProgramData/chocolatey/bin:/mnt/c/Program Files/OpenJDK/openjdk-8u302-b08/bin:/mnt/c/Users/benja/AppData/Local/Android/Sdk/platform-tools:/mnt/c/Program Files/nodejs:/mnt/c/Program Files/nodejs:/mnt/c/Program Files (x86)/dotnet:/mnt/c/Program Files (x86)/Calibre2:/mnt/c/Users/benja/AppData/Local/Android/Sdk/platform-tools:/mnt/c/Users/benja/AppData/Local/Android/Sdk/tools:/mnt/c/Users/benja/AppData/Roaming/npm:/mnt/c/Users/benja/AppData/Local/Programs/Microsoft VS Code/bin:/mnt/c/Users/benja/AppData/Local/Microsoft/WindowsApps:/snap/bin:/usr/local/cuda/bin:/home/bschroed/bin:/home/bschroed/Documents/projects/gromosXX/gromosXX/build/bin:/home/bschroed/Documents/projects/gromosXX/gromosXX/bin:/home/bschroed/Documents/projects/gromosPlsPls/gromos++/build/bin/home/fpultar/opt/gcc-8.2.0/bin',\n",
       "        'XDG_RUNTIME_DIR': '/mnt/wslg/runtime-dir',\n",
       "        'PERL5LIB': '/home/bschroed/miniconda3/envs/pygromosDev/lib/perl/mm_pbsa',\n",
       "        'MAKELEVEL': '1',\n",
       "        'DISPLAY': ':0',\n",
       "        'CONDA_PREFIX_1': '/home/bschroed/miniconda3',\n",
       "        'TERMINATOR_DBUS_PATH': '/net/tenshu/Terminator2',\n",
       "        'LANG': 'C.UTF-8',\n",
       "        'LS_COLORS': 'rs=0:di=01;34:ln=01;36:mh=00:pi=40;33:so=01;35:do=01;35:bd=40;33;01:cd=40;33;01:or=40;31;01:mi=00:su=37;41:sg=30;43:ca=30;41:tw=30;42:ow=34;42:st=37;44:ex=01;32:*.tar=01;31:*.tgz=01;31:*.arc=01;31:*.arj=01;31:*.taz=01;31:*.lha=01;31:*.lz4=01;31:*.lzh=01;31:*.lzma=01;31:*.tlz=01;31:*.txz=01;31:*.tzo=01;31:*.t7z=01;31:*.zip=01;31:*.z=01;31:*.dz=01;31:*.gz=01;31:*.lrz=01;31:*.lz=01;31:*.lzo=01;31:*.xz=01;31:*.zst=01;31:*.tzst=01;31:*.bz2=01;31:*.bz=01;31:*.tbz=01;31:*.tbz2=01;31:*.tz=01;31:*.deb=01;31:*.rpm=01;31:*.jar=01;31:*.war=01;31:*.ear=01;31:*.sar=01;31:*.rar=01;31:*.alz=01;31:*.ace=01;31:*.zoo=01;31:*.cpio=01;31:*.7z=01;31:*.rz=01;31:*.cab=01;31:*.wim=01;31:*.swm=01;31:*.dwm=01;31:*.esd=01;31:*.jpg=01;35:*.jpeg=01;35:*.mjpg=01;35:*.mjpeg=01;35:*.gif=01;35:*.bmp=01;35:*.pbm=01;35:*.pgm=01;35:*.ppm=01;35:*.tga=01;35:*.xbm=01;35:*.xpm=01;35:*.tif=01;35:*.tiff=01;35:*.png=01;35:*.svg=01;35:*.svgz=01;35:*.mng=01;35:*.pcx=01;35:*.mov=01;35:*.mpg=01;35:*.mpeg=01;35:*.m2v=01;35:*.mkv=01;35:*.webm=01;35:*.ogm=01;35:*.mp4=01;35:*.m4v=01;35:*.mp4v=01;35:*.vob=01;35:*.qt=01;35:*.nuv=01;35:*.wmv=01;35:*.asf=01;35:*.rm=01;35:*.rmvb=01;35:*.flc=01;35:*.avi=01;35:*.fli=01;35:*.flv=01;35:*.gl=01;35:*.dl=01;35:*.xcf=01;35:*.xwd=01;35:*.yuv=01;35:*.cgm=01;35:*.emf=01;35:*.ogv=01;35:*.ogx=01;35:*.aac=00;36:*.au=00;36:*.flac=00;36:*.m4a=00;36:*.mid=00;36:*.midi=00;36:*.mka=00;36:*.mp3=00;36:*.mpc=00;36:*.ogg=00;36:*.ra=00;36:*.wav=00;36:*.oga=00;36:*.opus=00;36:*.spx=00;36:*.xspf=00;36:',\n",
       "        'GSETTINGS_SCHEMA_DIR': '/home/bschroed/miniconda3/envs/pygromosDev/share/glib-2.0/schemas',\n",
       "        'SSH_AUTH_SOCK': '/tmp/ssh-EjAXfLQAA8lu/agent.15130',\n",
       "        'CONDA_PYTHON_EXE': '/home/bschroed/miniconda3/bin/python',\n",
       "        'SHELL': '/bin/bash',\n",
       "        'TERMINATOR_UUID': 'urn:uuid:154cdd0b-4b98-4dee-9da0-f92e1f6ad668',\n",
       "        'MAKE_TERMOUT': '/dev/pts/19',\n",
       "        'LESSCLOSE': '/usr/bin/lesspipe %s %s',\n",
       "        'CONDA_DEFAULT_ENV': 'pygromosDev',\n",
       "        'PWD': '/home/bschroed/Documents/projects/PyGromosTools/docs/sphinx_project',\n",
       "        'XDG_DATA_DIRS': '/usr/local/share:/usr/share:/var/lib/snapd/desktop',\n",
       "        'CONDA_EXE': '/home/bschroed/miniconda3/bin/conda',\n",
       "        'NVM_CD_FLAGS': '',\n",
       "        'MFLAGS': '',\n",
       "        'GSETTINGS_SCHEMA_DIR_CONDA_BACKUP': '',\n",
       "        'CONDA_PREFIX': '/home/bschroed/miniconda3/envs/pygromosDev',\n",
       "        'VTE_VERSION': '6003',\n",
       "        'HOSTTYPE': 'x86_64',\n",
       "        'WSLENV': '',\n",
       "        'DOCUTILSCONFIG': '/home/bschroed/Documents/projects/PyGromosTools/docs/sphinx_project/docutils.conf',\n",
       "        'RDBASE': '/home/bschroed/miniconda3/envs/pygromosDev/share/RDKit',\n",
       "        'PYDEVD_USE_FRAME_EVAL': 'NO',\n",
       "        'JPY_PARENT_PID': '29079',\n",
       "        'CLICOLOR': '1',\n",
       "        'PAGER': 'cat',\n",
       "        'GIT_PAGER': 'cat',\n",
       "        'MPLBACKEND': 'module://matplotlib_inline.backend_inline'}"
      ]
     },
     "execution_count": 20,
     "metadata": {},
     "output_type": "execute_result"
    }
   ],
   "source": [
    "# load your favorite GCC version (required for your special GROMOS QM/MM build)\n",
    "os.environ[\"PATH\"] += \"/home/fpultar/opt/gcc-8.2.0/bin\"\n",
    "os.environ[\"LD_LIBRARY_PATH\"] = \"/home/fpultar/opt/gcc-8.2.0/lib:/home/fpultar/opt/gcc-8.2.0/lib64\"\n",
    "os.environ"
   ]
  },
  {
   "cell_type": "code",
   "execution_count": 21,
   "id": "d86372ab",
   "metadata": {
    "execution": {
     "iopub.execute_input": "2022-04-01T07:59:30.258004Z",
     "iopub.status.busy": "2022-04-01T07:59:30.257536Z",
     "iopub.status.idle": "2022-04-01T07:59:30.288281Z",
     "shell.execute_reply": "2022-04-01T07:59:30.287030Z"
    }
   },
   "outputs": [
    {
     "ename": "NameError",
     "evalue": "name 'equilibrated_system' is not defined",
     "output_type": "error",
     "traceback": [
      "\u001b[0;31m---------------------------------------------------------------------------\u001b[0m",
      "\u001b[0;31mNameError\u001b[0m                                 Traceback (most recent call last)",
      "Input \u001b[0;32mIn [21]\u001b[0m, in \u001b[0;36m<cell line: 3>\u001b[0;34m()\u001b[0m\n\u001b[1;32m      1\u001b[0m \u001b[38;5;66;03m# new imd file for QM/MM run\u001b[39;00m\n\u001b[1;32m      2\u001b[0m in_imd_path  \u001b[38;5;241m=\u001b[39m \u001b[38;5;124mf\u001b[39m\u001b[38;5;124m\"\u001b[39m\u001b[38;5;124m/home/fpultar/Documents/repos/PyGromosTools/examples/example_files/QMMM_files/md.imd\u001b[39m\u001b[38;5;124m\"\u001b[39m\n\u001b[0;32m----> 3\u001b[0m \u001b[43mequilibrated_system\u001b[49m\u001b[38;5;241m.\u001b[39mimd \u001b[38;5;241m=\u001b[39m in_imd_path\n\u001b[1;32m      4\u001b[0m equilibrated_system\u001b[38;5;241m.\u001b[39mimd\u001b[38;5;241m.\u001b[39mSTEP\u001b[38;5;241m.\u001b[39mNSTLIM \u001b[38;5;241m=\u001b[39m \u001b[38;5;241m100\u001b[39m\n\u001b[1;32m      5\u001b[0m equilibrated_system\u001b[38;5;241m.\u001b[39mimd\u001b[38;5;241m.\u001b[39mSTEP\u001b[38;5;241m.\u001b[39mDT \u001b[38;5;241m=\u001b[39m \u001b[38;5;241m0.0005\u001b[39m \u001b[38;5;66;03m# 0.5 fs\u001b[39;00m\n",
      "\u001b[0;31mNameError\u001b[0m: name 'equilibrated_system' is not defined"
     ]
    }
   ],
   "source": [
    "# new imd file for QM/MM run\n",
    "in_imd_path  = f\"/home/fpultar/Documents/repos/PyGromosTools/examples/example_files/QMMM_files/md.imd\"\n",
    "equilibrated_system.imd = in_imd_path\n",
    "equilibrated_system.imd.STEP.NSTLIM = 100\n",
    "equilibrated_system.imd.STEP.DT = 0.0005 # 0.5 fs\n",
    "# qmmm specification file\n",
    "equilibrated_system.qmmm = QMMM(f\"/home/fpultar/Documents/repos/PyGromosTools/examples/example_files/QMMM_files/menthol-methanol-dmf.qmmm\")\n",
    "\n",
    "# now you want to switch to your special build of GROMOS :)\n",
    "gromosXX = \"/home/fpultar/src/gromos-qmmm/gromos-qmmm/gromosXX/build-gcc-8.2.0-release/program\"\n",
    "equilibrated_system.gromosXX = gromosXX\n",
    "\n",
    "# check if everying is correct\n",
    "# note that the new .imd file and .qmmm file still live in the old location\n",
    "# while the .cnf file and .top file result from a previous simulation (equilibration)\n",
    "equilibrated_system"
   ]
  },
  {
   "cell_type": "code",
   "execution_count": 22,
   "id": "f558f69e",
   "metadata": {
    "execution": {
     "iopub.execute_input": "2022-04-01T07:59:30.293786Z",
     "iopub.status.busy": "2022-04-01T07:59:30.292142Z",
     "iopub.status.idle": "2022-04-01T07:59:30.317584Z",
     "shell.execute_reply": "2022-04-01T07:59:30.315988Z"
    }
   },
   "outputs": [
    {
     "ename": "NameError",
     "evalue": "name 'equilibrated_system' is not defined",
     "output_type": "error",
     "traceback": [
      "\u001b[0;31m---------------------------------------------------------------------------\u001b[0m",
      "\u001b[0;31mNameError\u001b[0m                                 Traceback (most recent call last)",
      "Input \u001b[0;32mIn [22]\u001b[0m, in \u001b[0;36m<cell line: 2>\u001b[0;34m()\u001b[0m\n\u001b[1;32m      1\u001b[0m \u001b[38;5;66;03m# print the relevant QMMM block in the new imd file\u001b[39;00m\n\u001b[0;32m----> 2\u001b[0m \u001b[43mequilibrated_system\u001b[49m\u001b[38;5;241m.\u001b[39mimd\u001b[38;5;241m.\u001b[39mQMMM\n",
      "\u001b[0;31mNameError\u001b[0m: name 'equilibrated_system' is not defined"
     ]
    }
   ],
   "source": [
    "# print the relevant QMMM block in the new imd file\n",
    "equilibrated_system.imd.QMMM"
   ]
  },
  {
   "cell_type": "code",
   "execution_count": 23,
   "id": "5f0974e0",
   "metadata": {
    "execution": {
     "iopub.execute_input": "2022-04-01T07:59:30.322083Z",
     "iopub.status.busy": "2022-04-01T07:59:30.321713Z",
     "iopub.status.idle": "2022-04-01T07:59:30.341762Z",
     "shell.execute_reply": "2022-04-01T07:59:30.340686Z"
    }
   },
   "outputs": [
    {
     "ename": "NameError",
     "evalue": "name 'equilibrated_system' is not defined",
     "output_type": "error",
     "traceback": [
      "\u001b[0;31m---------------------------------------------------------------------------\u001b[0m",
      "\u001b[0;31mNameError\u001b[0m                                 Traceback (most recent call last)",
      "Input \u001b[0;32mIn [23]\u001b[0m, in \u001b[0;36m<cell line: 2>\u001b[0;34m()\u001b[0m\n\u001b[1;32m      1\u001b[0m \u001b[38;5;66;03m# go QM/MM!\u001b[39;00m\n\u001b[0;32m----> 2\u001b[0m production_system \u001b[38;5;241m=\u001b[39m md(\u001b[43mequilibrated_system\u001b[49m, submission_system\u001b[38;5;241m=\u001b[39msubmit)\n",
      "\u001b[0;31mNameError\u001b[0m: name 'equilibrated_system' is not defined"
     ]
    }
   ],
   "source": [
    "# go QM/MM!\n",
    "production_system = md(equilibrated_system, submission_system=submit)"
   ]
  },
  {
   "cell_type": "code",
   "execution_count": 24,
   "id": "abdadc91",
   "metadata": {
    "execution": {
     "iopub.execute_input": "2022-04-01T07:59:30.345226Z",
     "iopub.status.busy": "2022-04-01T07:59:30.344943Z",
     "iopub.status.idle": "2022-04-01T07:59:30.370032Z",
     "shell.execute_reply": "2022-04-01T07:59:30.368866Z"
    }
   },
   "outputs": [
    {
     "ename": "NameError",
     "evalue": "name 'production_system' is not defined",
     "output_type": "error",
     "traceback": [
      "\u001b[0;31m---------------------------------------------------------------------------\u001b[0m",
      "\u001b[0;31mNameError\u001b[0m                                 Traceback (most recent call last)",
      "Input \u001b[0;32mIn [24]\u001b[0m, in \u001b[0;36m<cell line: 2>\u001b[0;34m()\u001b[0m\n\u001b[1;32m      1\u001b[0m \u001b[38;5;66;03m# visualize the last .cnf - you are done!\u001b[39;00m\n\u001b[0;32m----> 2\u001b[0m \u001b[43mproduction_system\u001b[49m\u001b[38;5;241m.\u001b[39mcnf\u001b[38;5;241m.\u001b[39mvisualize()\n",
      "\u001b[0;31mNameError\u001b[0m: name 'production_system' is not defined"
     ]
    }
   ],
   "source": [
    "# visualize the last .cnf - you are done!\n",
    "production_system.cnf.visualize()"
   ]
  },
  {
   "cell_type": "code",
   "execution_count": null,
   "id": "e1c5194e",
   "metadata": {},
   "outputs": [],
   "source": []
  }
 ],
 "metadata": {
  "interpreter": {
   "hash": "b1b7b2ea43b8e767316eee98e01335d045804d2d47db68b6a5827e187ee91a7e"
  },
  "kernelspec": {
   "display_name": "Python 3.9.7 ('pygro2')",
   "language": "python",
   "name": "python3"
  },
  "language_info": {
   "codemirror_mode": {
    "name": "ipython",
    "version": 3
   },
   "file_extension": ".py",
   "mimetype": "text/x-python",
   "name": "python",
   "nbconvert_exporter": "python",
   "pygments_lexer": "ipython3",
   "version": "3.9.10"
  },
  "widgets": {
   "application/vnd.jupyter.widget-state+json": {
    "state": {
     "11407517864e40789576ee833b028638": {
      "model_module": "@jupyter-widgets/base",
      "model_module_version": "1.2.0",
      "model_name": "LayoutModel",
      "state": {
       "_model_module": "@jupyter-widgets/base",
       "_model_module_version": "1.2.0",
       "_model_name": "LayoutModel",
       "_view_count": null,
       "_view_module": "@jupyter-widgets/base",
       "_view_module_version": "1.2.0",
       "_view_name": "LayoutView",
       "align_content": null,
       "align_items": null,
       "align_self": null,
       "border": null,
       "bottom": null,
       "display": null,
       "flex": null,
       "flex_flow": null,
       "grid_area": null,
       "grid_auto_columns": null,
       "grid_auto_flow": null,
       "grid_auto_rows": null,
       "grid_column": null,
       "grid_gap": null,
       "grid_row": null,
       "grid_template_areas": null,
       "grid_template_columns": null,
       "grid_template_rows": null,
       "height": null,
       "justify_content": null,
       "justify_items": null,
       "left": null,
       "margin": null,
       "max_height": null,
       "max_width": null,
       "min_height": null,
       "min_width": null,
       "object_fit": null,
       "object_position": null,
       "order": null,
       "overflow": null,
       "overflow_x": null,
       "overflow_y": null,
       "padding": null,
       "right": null,
       "top": null,
       "visibility": null,
       "width": null
      }
     },
     "2b28e82c8abd46e9bdcdcc35d9700758": {
      "model_module": "nglview-js-widgets",
      "model_module_version": "3.0.1",
      "model_name": "ColormakerRegistryModel",
      "state": {
       "_dom_classes": [],
       "_model_module": "nglview-js-widgets",
       "_model_module_version": "3.0.1",
       "_model_name": "ColormakerRegistryModel",
       "_msg_ar": [],
       "_msg_q": [],
       "_ready": false,
       "_view_count": null,
       "_view_module": "nglview-js-widgets",
       "_view_module_version": "3.0.1",
       "_view_name": "ColormakerRegistryView",
       "layout": "IPY_MODEL_11407517864e40789576ee833b028638"
      }
     }
    },
    "version_major": 2,
    "version_minor": 0
   }
  }
 },
 "nbformat": 4,
 "nbformat_minor": 5
}
