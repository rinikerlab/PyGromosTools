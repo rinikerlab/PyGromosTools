{
 "cells": [
  {
   "cell_type": "markdown",
   "metadata": {
    "pycharm": {
     "name": "#%% md\n"
    }
   },
   "source": [
    "# PyGromos File Examples"
   ]
  },
  {
   "cell_type": "code",
   "execution_count": null,
   "metadata": {},
   "outputs": [],
   "source": [
    "import os, sys\n",
    "root_dir = os.getcwd()\n",
    "\n",
    "#if package is not installed and path not set correct - this helps you out :)\n",
    "sys.path.append(root_dir+\"/..\")"
   ]
  },
  {
   "cell_type": "markdown",
   "metadata": {
    "pycharm": {
     "name": "#%% md\n"
    }
   },
   "source": [
    "## IMD - Simulation Paramter File"
   ]
  },
  {
   "cell_type": "code",
   "execution_count": null,
   "metadata": {},
   "outputs": [],
   "source": [
    "from pygromos.files.simulation_parameters.imd import Imd\n",
    "from pygromos.data.simulation_parameters_templates import template_md\n",
    "\n",
    "out_imd=\"./test.imd\"\n",
    "\n",
    "#load\n",
    "imd = Imd(template_md)\n",
    "\n",
    "#change Solvent number in system:\n",
    "imd.SYSTEM.NSM = 500\n",
    "\n",
    "#add EDS block\n",
    "imd.edit_EDS(NUMSTATES=2, S=1.0, EIR=[0.0 for x in range(2)])\n",
    "\n",
    "#get_file content:\n",
    "print(imd)\n",
    "\n",
    "#store again\n",
    "out_imd = imd.write(out_imd)"
   ]
  },
  {
   "cell_type": "markdown",
   "metadata": {
    "pycharm": {
     "name": "#%% md\n"
    }
   },
   "source": [
    "## CNF - Coordinate File"
   ]
  },
  {
   "cell_type": "code",
   "execution_count": null,
   "metadata": {},
   "outputs": [],
   "source": [
    "\"\"\"\n",
    "    CNF\n",
    "\"\"\"\n",
    "from pygromos.files.coord import Cnf\n",
    "from pygromos.tests import in_testfiles\n",
    "#load_cnf\n",
    "in_cnf= in_testfiles.in_test_file_path+\"/cnf/in_cnf1.cnf\"\n",
    "out_cnf=\"example_files/new.cnf\"\n",
    "\n",
    "cnf = Cnf(in_cnf)\n",
    "\n",
    "#get residues of cnf\n",
    "residues = cnf.get_residues()\n",
    "\n",
    "#Delete Residues\n",
    "delete_ligands = [\"delete ME!\"]\n",
    "for resn in delete_ligands:\n",
    "    cnf.delete_residue(resName=resn)\n",
    "\n",
    "#set new title\n",
    "lig_sys = [\"lig1\", \"lig2\", \"lig3\"]\n",
    "cnf.TITLE.content = \"  Ligands:\\t \" + \" \".join(lig_sys) + \"\\n\"\n",
    "\n",
    "#cleaning\n",
    "cnf.clean_posiResNums()\n",
    "\n",
    "#get_file content:\n",
    "print(cnf)\n",
    "\n",
    "#store again\n",
    "out_cnf = cnf.write(out_path=out_cnf)"
   ]
  },
  {
   "cell_type": "markdown",
   "metadata": {},
   "source": [
    "## TRC - Coordinate Trajectory File"
   ]
  },
  {
   "cell_type": "code",
   "execution_count": null,
   "metadata": {},
   "outputs": [],
   "source": [
    "#This snippet converts multiple cnfs to a trajectory.\n",
    "import glob\n",
    "from pygromos.files.trajectory.trc import Trc\n",
    "\n",
    "in_trc_path = \"example_files/Traj_files/test_CHE_vacuum_sd.trc\"\n",
    "trc_file = Trc(in_trc_path)\n",
    "print(trc_file)\n",
    "\n",
    "trc_file.database"
   ]
  },
  {
   "cell_type": "markdown",
   "metadata": {
    "pycharm": {
     "name": "#%% md\n"
    }
   },
   "source": [
    "## TOP - topology File\n"
   ]
  },
  {
   "cell_type": "markdown",
   "metadata": {
    "pycharm": {
     "name": "#%% md\n"
    }
   },
   "source": [
    "## Other Files\n",
    "\n",
    "### MTB - topology building block file\n",
    "\n",
    "### IFP - topology parameter file"
   ]
  },
  {
   "cell_type": "code",
   "execution_count": null,
   "metadata": {},
   "outputs": [],
   "source": [
    "from pygromos.files.topology import ifp\n",
    "from pygromos.data.ff import Gromos54A7\n",
    "\n",
    "#parse forcefield file\n",
    "myfp = ifp.ifp(Gromos54A7.ifp)\n",
    "myfp.write(os.getcwd()+\"/fun.ifp\")"
   ]
  },
  {
   "cell_type": "code",
   "execution_count": null,
   "metadata": {},
   "outputs": [],
   "source": [
    "#parse output and write out again\n",
    "test = ifp.ifp(os.getcwd()+\"/fun.ifp\")\n",
    "test.write(os.getcwd()+\"/fun.ifp\")"
   ]
  },
  {
   "cell_type": "markdown",
   "metadata": {
    "pycharm": {
     "name": "#%% md\n"
    }
   },
   "source": [
    "### disres - distance restraint file"
   ]
  },
  {
   "cell_type": "markdown",
   "metadata": {},
   "source": [
    "## PTP-Files in PyGromos\n",
    "\n",
    "Here I try to give a few example on what s possible with the ptp obj in pygromos."
   ]
  },
  {
   "cell_type": "code",
   "execution_count": null,
   "metadata": {},
   "outputs": [],
   "source": [
    "from pygromos.files.topology.ptp import Pertubation_topology as PTP\n",
    "from pygromos.files.blocks.topology_blocks import  MPERTATOM, atom_eds_pertubation_state, pertubation_eds_state\n"
   ]
  },
  {
   "cell_type": "markdown",
   "metadata": {},
   "source": [
    "### defining some state types for later use :)"
   ]
  },
  {
   "cell_type": "code",
   "execution_count": null,
   "metadata": {},
   "outputs": [],
   "source": [
    "dummy_type = pertubation_eds_state(IAC=22, CHARGE=0.0)\n",
    "my_type = pertubation_eds_state(IAC=99, CHARGE=-1.0)"
   ]
  },
  {
   "cell_type": "markdown",
   "metadata": {},
   "source": [
    "### Read in ptp file:"
   ]
  },
  {
   "cell_type": "code",
   "execution_count": null,
   "metadata": {},
   "outputs": [],
   "source": [
    "#Read in ptp file:\n",
    "from pygromos.tests import in_testfiles\n",
    "\n",
    "path= in_testfiles.in_test_file_path+\"/ptp/eds_short.ptp\"\n",
    "ptp = PTP(path)\n",
    "print(ptp)\n"
   ]
  },
  {
   "cell_type": "markdown",
   "metadata": {},
   "source": [
    "### delete full state"
   ]
  },
  {
   "cell_type": "code",
   "execution_count": null,
   "metadata": {},
   "outputs": [],
   "source": [
    "ptp.MPERTATOM.delete_state(stateIDs=[1,3])\n",
    "\n",
    "print(ptp)"
   ]
  },
  {
   "cell_type": "markdown",
   "metadata": {},
   "source": [
    "### delete specific atoms"
   ]
  },
  {
   "cell_type": "code",
   "execution_count": null,
   "metadata": {},
   "outputs": [],
   "source": [
    "ptp.MPERTATOM.delete_atom(atomNR=[1,2,7,8,9])\n",
    "print(ptp)"
   ]
  },
  {
   "cell_type": "markdown",
   "metadata": {},
   "source": [
    "## Write out ptp file"
   ]
  },
  {
   "cell_type": "code",
   "execution_count": null,
   "metadata": {},
   "outputs": [],
   "source": [
    "ptp.write(\"example_files/fun.ptp\")"
   ]
  },
  {
   "cell_type": "markdown",
   "metadata": {},
   "source": [
    "### Add atom or state or overwrite atominformation (except atom.NR)"
   ]
  },
  {
   "cell_type": "code",
   "execution_count": null,
   "metadata": {},
   "outputs": [],
   "source": [
    "numStates=1\n",
    "new_atoms_state = [atom_eds_pertubation_state(NR=x, NAME=\"H\", STATES={7: my_type}) for x in range(1, 4+1)]\n",
    "ptp.add_block(block=MPERTATOM(NJLA=len(new_atoms_state), NPTB=numStates, STATEATOMS=new_atoms_state))\n",
    "\n",
    "print(ptp)"
   ]
  },
  {
   "cell_type": "markdown",
   "metadata": {},
   "source": [
    "### Building ptp from scratch and generate all possible state combinations:"
   ]
  },
  {
   "cell_type": "code",
   "execution_count": null,
   "metadata": {},
   "outputs": [],
   "source": [
    "print(ptp.MPERTATOM.STATEATOMHEADER)"
   ]
  },
  {
   "cell_type": "code",
   "execution_count": null,
   "metadata": {},
   "outputs": [],
   "source": [
    "import numpy as np\n",
    "from itertools import combinations\n",
    "from pygromos.files.topology.ptp import Pertubation_topology as PTP\n",
    "from pygromos.files.blocks.topology_blocks import  atom_eds_pertubation_state, pertubation_eds_state\n",
    "\n",
    "#INPUT:\n",
    "## parameters\n",
    "outpath_new_ptp = \"example_files/fun.ptp\"\n",
    "\n",
    "## the states to use:\n",
    "o_state = pertubation_eds_state(IAC=16, CHARGE=-1.0)\n",
    "h_state = pertubation_eds_state(IAC=33, CHARGE=-2.0)\n",
    "\n",
    "## Map for molecule ID with Atom IDS\n",
    "### First atom assumed to be O and last two Hs\n",
    "molecules_atoms = {1: [1,2,3],\n",
    "             2: [4,5,6],\n",
    "             3: [7,8,9],}\n",
    "\n",
    "\n",
    "#BUILD UP STATES\n",
    "## Generate active state mapping:\n",
    "max_active_mols_same_time = len(molecules_atoms)\n",
    "molecule_states={}\n",
    "state_ID=1\n",
    "for active_mols in range(1, max_active_mols_same_time+1):\n",
    "    combis = list(combinations(molecules_atoms, active_mols))\n",
    "    molecule_states.update({state_ID+ind: x for ind, x in enumerate(combis)})\n",
    "    state_ID = state_ID+len(combis)\n",
    "\n",
    "#gives the state number as key and all the active molecules in this state\n",
    "print(\"gives the state number as key and all the active molecules in this state\")\n",
    "print(molecule_states)\n",
    "print()\n",
    "\n",
    "#build state atoms for ptp\n",
    "new_atoms_state_dict = {}\n",
    "for state, molecules in molecule_states.items():\n",
    "    for molecule in molecules:\n",
    "        if(molecule in new_atoms_state_dict):\n",
    "            atoms = new_atoms_state_dict[molecule]\n",
    "            atoms[0].STATES.update({state: o_state})\n",
    "            atoms[1].STATES.update({state: h_state})\n",
    "            atoms[2].STATES.update({state: h_state})\n",
    "        else:\n",
    "            atoms = [atom_eds_pertubation_state(NR=molecules_atoms[molecule][0], NAME=\"O\", STATES={state: o_state}),\n",
    "                     atom_eds_pertubation_state(NR=molecules_atoms[molecule][1], NAME=\"H1\", STATES={state: h_state}) ,\n",
    "                     atom_eds_pertubation_state(NR=molecules_atoms[molecule][2], NAME=\"H2\", STATES={state: h_state})]\n",
    "            new_atoms_state_dict.update({molecule: atoms})\n",
    "\n",
    "print(\"gives the atom_perttubation states for all mols\")\n",
    "print(new_atoms_state_dict)\n",
    "print()\n",
    "\n",
    "##finally make a list for our ptp file (#ThanksGromos)\n",
    "new_atoms_state = np.concatenate(list(new_atoms_state_dict.values()))\n",
    "#print(list(map(lambda x: x.STATES, new_atoms_state)))\n",
    "\n",
    "#BUILD PTP\n",
    "ptp = PTP()\n",
    "ptp.add_block(block=MPERTATOM(NJLA=len(new_atoms_state), NPTB=len(molecule_states), STATEATOMS=new_atoms_state))\n",
    "print(ptp)\n",
    "ptp.write(outpath_new_ptp)\n",
    "\n",
    "#TADAAAAA - DONE"
   ]
  },
  {
   "cell_type": "code",
   "execution_count": null,
   "metadata": {},
   "outputs": [],
   "source": []
  }
 ],
 "metadata": {
  "language_info": {
   "name": "python"
  }
 },
 "nbformat": 4,
 "nbformat_minor": 4
}
