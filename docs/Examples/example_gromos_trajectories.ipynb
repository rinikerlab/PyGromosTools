{
 "cells": [
  {
   "cell_type": "markdown",
   "metadata": {},
   "source": [
    "# Gromos Trajectory evaluation with Pygromos and Pandas\n",
    "\n",
    "## Example file for the evaluation of GROMOS trajectory files in pygromos"
   ]
  },
  {
   "cell_type": "markdown",
   "metadata": {},
   "source": [
    "1. Analysis of a GROMOS trc file (position trajectory)\n",
    "    1. Import\n",
    "    2. Common Functions\n",
    "2. Analysis of a GROMOS tre file (energy trajectory)\n",
    "    1. Import\n",
    "    2. Common Functions"
   ]
  },
  {
   "cell_type": "code",
   "execution_count": 1,
   "metadata": {
    "pycharm": {
     "is_executing": true
    }
   },
   "outputs": [],
   "source": [
    "# general imports for manual data manipulations. Not needed if only provided functions are used\n",
    "import numpy as np\n",
    "import pandas as pd"
   ]
  },
  {
   "cell_type": "code",
   "execution_count": 2,
   "metadata": {},
   "outputs": [],
   "source": [
    "\n",
    "#specific imports from pygromos for trc and tre file support\n",
    "import pygromos.files.trajectory.trc as traj_trc\n",
    "import pygromos.files.trajectory.tre as traj_tre\n",
    "\n"
   ]
  },
  {
   "cell_type": "markdown",
   "metadata": {},
   "source": [
    "## 1) TRC"
   ]
  },
  {
   "cell_type": "markdown",
   "metadata": {},
   "source": [
    "### 1.1) TRC import"
   ]
  },
  {
   "cell_type": "code",
   "execution_count": 3,
   "metadata": {},
   "outputs": [
    {
     "name": "stderr",
     "output_type": "stream",
     "text": [
      "/home/mlehner/anaconda3/envs/gromos/lib/python3.7/site-packages/pandas/core/generic.py:2621: PerformanceWarning: \n",
      "your performance may suffer as PyTables will pickle object types that it cannot\n",
      "map directly to c-types [inferred_type->mixed,key->block2_values] [items->Index(['POS_1', 'POS_2', 'POS_3', 'POS_4', 'POS_5', 'POS_6', 'POS_7', 'POS_8',\n",
      "       'POS_9', 'POS_10', 'POS_11', 'POS_12', 'POS_13', 'POS_14', 'POS_15',\n",
      "       'POS_16', 'POS_17', 'POS_18'],\n",
      "      dtype='object')]\n",
      "\n",
      "  encoding=encoding,\n"
     ]
    }
   ],
   "source": [
    "# import the trajectory file into a Trc class\n",
    "trc = traj_trc.Trc(input_value=\"example_files/Traj_files/test_CHE_vacuum_sd.trc\")"
   ]
  },
  {
   "cell_type": "markdown",
   "metadata": {},
   "source": [
    "Trc class offers the normal gromos block structure and additionaly a pandas DataFrame called database where all the timesteps are stored.\n",
    "For typical trc files the only classic block is the TITLE block, and all the other blocks are stored inside the database.\n",
    "\n",
    "Additionally many common functions are offered to evaluate the given data. If a needed function is not provided the normal pandas syntax can be used to create costum functions.\n",
    "\n",
    "If you have a function generally usefull pleas contact the developers to possibly add them to the pygromos code to help other people :)"
   ]
  },
  {
   "cell_type": "code",
   "execution_count": 4,
   "metadata": {},
   "outputs": [
    {
     "data": {
      "text/plain": [
       "['TITLE',\n",
       " 'add_traj',\n",
       " 'database',\n",
       " 'get_atom_movement_length_mean',\n",
       " 'get_atom_movement_length_series',\n",
       " 'get_atom_movement_length_total',\n",
       " 'get_atom_movement_series',\n",
       " 'get_atom_pair_distance_mean',\n",
       " 'get_atom_pair_distance_series',\n",
       " 'get_cog_movement_total_series_for_atom_group',\n",
       " 'get_cog_movement_vector_series_for_atom_group',\n",
       " 'path',\n",
       " 'radial_distribution',\n",
       " 'rmsd',\n",
       " 'write',\n",
       " 'write_pdb']"
      ]
     },
     "execution_count": 4,
     "metadata": {},
     "output_type": "execute_result"
    }
   ],
   "source": [
    "[x for x in dir(trc) if not x.startswith(\"_\")]"
   ]
  },
  {
   "cell_type": "markdown",
   "metadata": {},
   "source": [
    "### 1.2) Common trc functions"
   ]
  },
  {
   "cell_type": "code",
   "execution_count": 5,
   "metadata": {},
   "outputs": [
    {
     "data": {
      "text/plain": [
       "0.03803161677595912"
      ]
     },
     "execution_count": 5,
     "metadata": {},
     "output_type": "execute_result"
    }
   ],
   "source": [
    "# Get the average movement legth between two frames\n",
    "trc.get_atom_movement_length_mean(atomI=1)"
   ]
  },
  {
   "cell_type": "code",
   "execution_count": 6,
   "metadata": {},
   "outputs": [
    {
     "data": {
      "text/plain": [
       "0.029597332762906308"
      ]
     },
     "execution_count": 6,
     "metadata": {},
     "output_type": "execute_result"
    }
   ],
   "source": [
    "# Or get the center of mass movement for a hole group of atoms. The atoms are provided as numbers in a list.\n",
    "trc.get_cog_movement_total_series_for_atom_group(atoms=[1,2,5]).mean()"
   ]
  },
  {
   "cell_type": "code",
   "execution_count": 7,
   "metadata": {},
   "outputs": [
    {
     "data": {
      "text/plain": [
       "0.15259971796798974"
      ]
     },
     "execution_count": 7,
     "metadata": {},
     "output_type": "execute_result"
    }
   ],
   "source": [
    "# Get the average distance between to atoms over all time frames\n",
    "trc.get_atom_pair_distance_mean(atomI=1, atomJ=2)"
   ]
  },
  {
   "cell_type": "markdown",
   "metadata": {},
   "source": [
    "#### RMSD"
   ]
  },
  {
   "cell_type": "code",
   "execution_count": 8,
   "metadata": {},
   "outputs": [],
   "source": [
    "# Calculate the rmsd to the initial frame (0th frame). Alternatifly a different trajectory can be provide as argument to the rmsd function. The accepted arguments are integer or single trajectory frame.\n",
    "rmsd = trc.rmsd(0)"
   ]
  },
  {
   "cell_type": "code",
   "execution_count": 9,
   "metadata": {},
   "outputs": [
    {
     "data": {
      "text/plain": [
       "0      0.000000\n",
       "1      0.029114\n",
       "2      0.090643\n",
       "3      0.136652\n",
       "4      0.143205\n",
       "         ...   \n",
       "413    0.469253\n",
       "414    0.473791\n",
       "415    0.516979\n",
       "416    0.510561\n",
       "417    0.542082\n",
       "Length: 418, dtype: float64"
      ]
     },
     "execution_count": 9,
     "metadata": {},
     "output_type": "execute_result"
    }
   ],
   "source": [
    "# Which returns the rmsd for every tome frame to the initial frame. It can be seen how the rmsd slowly gets larger as the simulations gets farther away from the initial setup.\n",
    "rmsd"
   ]
  },
  {
   "cell_type": "code",
   "execution_count": 10,
   "metadata": {},
   "outputs": [
    {
     "data": {
      "text/plain": [
       "0.45100360300648046"
      ]
     },
     "execution_count": 10,
     "metadata": {},
     "output_type": "execute_result"
    }
   ],
   "source": [
    "# The mean over all frames can be easily taken with pandas function mean()\n",
    "rmsd.mean()"
   ]
  },
  {
   "cell_type": "markdown",
   "metadata": {},
   "source": [
    "#### RDF"
   ]
  },
  {
   "cell_type": "code",
   "execution_count": 11,
   "metadata": {},
   "outputs": [],
   "source": [
    "# WIP"
   ]
  },
  {
   "cell_type": "markdown",
   "metadata": {},
   "source": [
    "## 2) TRE"
   ]
  },
  {
   "cell_type": "markdown",
   "metadata": {},
   "source": [
    "### 2.1) Tre import and structure"
   ]
  },
  {
   "cell_type": "code",
   "execution_count": 13,
   "metadata": {},
   "outputs": [
    {
     "name": "stderr",
     "output_type": "stream",
     "text": [
      "/home/bschroed/anaconda3/envs/pygromos/lib/python3.7/site-packages/pandas/core/generic.py:2620: PerformanceWarning: \n",
      "your performance may suffer as PyTables will pickle object types that it cannot\n",
      "map directly to c-types [inferred_type->mixed,key->block2_values] [items->Index(['totals', 'baths', 'bonded', 'nonbonded', 'special', 'eds', 'mass',\n",
      "       'temperature', 'volume', 'pressure'],\n",
      "      dtype='object')]\n",
      "\n",
      "  encoding=encoding,\n"
     ]
    }
   ],
   "source": [
    "# import the trajectory file into a Tre class\n",
    "tre = traj_tre.Tre(input_value=\"example_files/Traj_files/test_CHE_H2O_bilayer.tre\")"
   ]
  },
  {
   "cell_type": "code",
   "execution_count": 14,
   "metadata": {
    "collapsed": false,
    "jupyter": {
     "outputs_hidden": false
    },
    "pycharm": {
     "name": "#%%\n"
    }
   },
   "outputs": [
    {
     "data": {
      "text/html": [
       "<div>\n",
       "<style scoped>\n",
       "    .dataframe tbody tr th:only-of-type {\n",
       "        vertical-align: middle;\n",
       "    }\n",
       "\n",
       "    .dataframe tbody tr th {\n",
       "        vertical-align: top;\n",
       "    }\n",
       "\n",
       "    .dataframe thead th {\n",
       "        text-align: right;\n",
       "    }\n",
       "</style>\n",
       "<table border=\"1\" class=\"dataframe\">\n",
       "  <thead>\n",
       "    <tr style=\"text-align: right;\">\n",
       "      <th></th>\n",
       "      <th>TIMESTEP_step</th>\n",
       "      <th>TIMESTEP_time</th>\n",
       "      <th>totals</th>\n",
       "      <th>baths</th>\n",
       "      <th>bonded</th>\n",
       "      <th>nonbonded</th>\n",
       "      <th>special</th>\n",
       "      <th>eds</th>\n",
       "      <th>mass</th>\n",
       "      <th>temperature</th>\n",
       "      <th>volume</th>\n",
       "      <th>pressure</th>\n",
       "    </tr>\n",
       "  </thead>\n",
       "  <tbody>\n",
       "    <tr>\n",
       "      <th>0</th>\n",
       "      <td>0</td>\n",
       "      <td>0.0</td>\n",
       "      <td>[-408806.2436, 393521.852, -802328.0956, 13840...</td>\n",
       "      <td>[[99739.83003, 29519.49412, 70220.33591], [293...</td>\n",
       "      <td>[[0.0, 49931.35526, 0.0, 88472.52195, 0.0]]</td>\n",
       "      <td>[[984602.6158, -1925334.589, 0.0, 0.0]]</td>\n",
       "      <td>[[0.0, 0.0, 0.0, 0.0, 0.0, 0.0, 0.0, 0.0, 0.0,...</td>\n",
       "      <td>[0.0]</td>\n",
       "      <td>[1277287.736]</td>\n",
       "      <td>[[296.2008302, 350.6569429, 278.0450574, 1.000...</td>\n",
       "      <td>[2425.07286, 8.463596169, 0.0, 0.0, 0.0, 8.463...</td>\n",
       "      <td>[29.98293036, 94773.2037, 131128.599, 30.37611...</td>\n",
       "    </tr>\n",
       "    <tr>\n",
       "      <th>1</th>\n",
       "      <td>1000</td>\n",
       "      <td>2.0</td>\n",
       "      <td>[-411576.4224, 392980.7347, -804557.157, 13955...</td>\n",
       "      <td>[[99960.45845, 29481.77196, 70478.6865], [2930...</td>\n",
       "      <td>[[0.0, 50409.38587, 0.0, 89141.04865, 0.0]]</td>\n",
       "      <td>[[988489.6284, -1932597.22, 0.0, 0.0]]</td>\n",
       "      <td>[[0.0, 0.0, 0.0, 0.0, 0.0, 0.0, 0.0, 0.0, 0.0,...</td>\n",
       "      <td>[0.0]</td>\n",
       "      <td>[1277287.736]</td>\n",
       "      <td>[[296.8560381, 350.2088478, 279.0680247, 1.000...</td>\n",
       "      <td>[2425.07286, 8.463596169, 0.0, 0.0, 0.0, 8.463...</td>\n",
       "      <td>[32.10481199, 92112.53213, 131040.7862, 26.183...</td>\n",
       "    </tr>\n",
       "    <tr>\n",
       "      <th>2</th>\n",
       "      <td>2000</td>\n",
       "      <td>4.0</td>\n",
       "      <td>[-409167.9172, 392370.1191, -801538.0363, 1389...</td>\n",
       "      <td>[[100096.9564, 29163.29693, 70933.65948], [292...</td>\n",
       "      <td>[[0.0, 50155.81989, 0.0, 88764.59053, 0.0]]</td>\n",
       "      <td>[[983688.8106, -1924147.257, 0.0, 0.0]]</td>\n",
       "      <td>[[0.0, 0.0, 0.0, 0.0, 0.0, 0.0, 0.0, 0.0, 0.0,...</td>\n",
       "      <td>[0.0]</td>\n",
       "      <td>[1277287.736]</td>\n",
       "      <td>[[297.2614008, 346.4257383, 280.8695397, 0.999...</td>\n",
       "      <td>[2425.07286, 8.463596169, 0.0, 0.0, 0.0, 8.463...</td>\n",
       "      <td>[28.23515616, 96520.43393, 130756.5894, 30.172...</td>\n",
       "    </tr>\n",
       "    <tr>\n",
       "      <th>3</th>\n",
       "      <td>3000</td>\n",
       "      <td>6.0</td>\n",
       "      <td>[-408468.813, 392911.3266, -801380.1396, 13890...</td>\n",
       "      <td>[[100572.3051, 29097.77284, 71474.53225], [292...</td>\n",
       "      <td>[[0.0, 50205.91055, 0.0, 88694.38663, 0.0]]</td>\n",
       "      <td>[[984891.3076, -1925171.744, 0.0, 0.0]]</td>\n",
       "      <td>[[0.0, 0.0, 0.0, 0.0, 0.0, 0.0, 0.0, 0.0, 0.0,...</td>\n",
       "      <td>[0.0]</td>\n",
       "      <td>[1277287.736]</td>\n",
       "      <td>[[298.6730603, 345.647389, 283.0111843, 1.0000...</td>\n",
       "      <td>[2425.07286, 8.463596169, 0.0, 0.0, 0.0, 8.463...</td>\n",
       "      <td>[28.79320593, 96009.21744, 130922.0286, 24.551...</td>\n",
       "    </tr>\n",
       "    <tr>\n",
       "      <th>4</th>\n",
       "      <td>4000</td>\n",
       "      <td>8.0</td>\n",
       "      <td>[-409322.7261, 391652.3813, -800975.1074, 1398...</td>\n",
       "      <td>[[100279.2719, 28656.33854, 71622.93335], [291...</td>\n",
       "      <td>[[0.0, 50608.00218, 0.0, 89216.65927, 0.0]]</td>\n",
       "      <td>[[980597.3587, -1921397.128, 0.0, 0.0]]</td>\n",
       "      <td>[[0.0, 0.0, 0.0, 0.0, 0.0, 0.0, 0.0, 0.0, 0.0,...</td>\n",
       "      <td>[0.0]</td>\n",
       "      <td>[1277287.736]</td>\n",
       "      <td>[[297.8028294, 340.4036676, 283.5987946, 0.999...</td>\n",
       "      <td>[2425.07286, 8.463596169, 0.0, 0.0, 0.0, 8.463...</td>\n",
       "      <td>[24.7954137, 100472.9563, 130538.2987, 27.3050...</td>\n",
       "    </tr>\n",
       "    <tr>\n",
       "      <th>5</th>\n",
       "      <td>5000</td>\n",
       "      <td>10.0</td>\n",
       "      <td>[-409060.5321, 391503.6168, -800564.1489, 1401...</td>\n",
       "      <td>[[99621.54627, 28465.00254, 71156.54373], [291...</td>\n",
       "      <td>[[0.0, 50668.20147, 0.0, 89507.19113, 0.0]]</td>\n",
       "      <td>[[980518.6316, -1921258.173, 0.0, 0.0]]</td>\n",
       "      <td>[[0.0, 0.0, 0.0, 0.0, 0.0, 0.0, 0.0, 0.0, 0.0,...</td>\n",
       "      <td>[0.0]</td>\n",
       "      <td>[1277287.736]</td>\n",
       "      <td>[[295.8495588, 338.1308206, 281.7520741, 1.000...</td>\n",
       "      <td>[2425.07286, 8.463596169, 0.0, 0.0, 0.0, 8.463...</td>\n",
       "      <td>[24.44895665, 100856.1354, 130501.386, 20.8121...</td>\n",
       "    </tr>\n",
       "    <tr>\n",
       "      <th>6</th>\n",
       "      <td>6000</td>\n",
       "      <td>12.0</td>\n",
       "      <td>[-407724.5301, 393376.3395, -801100.8696, 1399...</td>\n",
       "      <td>[[100618.1056, 29001.93804, 71616.16754], [292...</td>\n",
       "      <td>[[0.0, 50612.96859, 0.0, 89338.70979, 0.0]]</td>\n",
       "      <td>[[980975.7104, -1922028.258, 0.0, 0.0]]</td>\n",
       "      <td>[[0.0, 0.0, 0.0, 0.0, 0.0, 0.0, 0.0, 0.0, 0.0,...</td>\n",
       "      <td>[0.0]</td>\n",
       "      <td>[1277287.736]</td>\n",
       "      <td>[[298.8090756, 344.5089841, 283.5720046, 0.999...</td>\n",
       "      <td>[2425.07286, 8.463596169, 0.0, 0.0, 0.0, 8.463...</td>\n",
       "      <td>[24.88400774, 100946.7969, 131119.5628, 21.646...</td>\n",
       "    </tr>\n",
       "    <tr>\n",
       "      <th>7</th>\n",
       "      <td>7000</td>\n",
       "      <td>14.0</td>\n",
       "      <td>[-406045.9433, 393472.141, -799518.0842, 14009...</td>\n",
       "      <td>[[101200.4734, 29288.55636, 71911.91706], [292...</td>\n",
       "      <td>[[0.0, 50652.38951, 0.0, 89438.21007, 0.0]]</td>\n",
       "      <td>[[979207.7071, -1918816.391, 0.0, 0.0]]</td>\n",
       "      <td>[[0.0, 0.0, 0.0, 0.0, 0.0, 0.0, 0.0, 0.0, 0.0,...</td>\n",
       "      <td>[0.0]</td>\n",
       "      <td>[1277287.736]</td>\n",
       "      <td>[[300.5385535, 347.9136733, 284.743057, 1.0000...</td>\n",
       "      <td>[2425.07286, 8.463596169, 0.0, 0.0, 0.0, 8.463...</td>\n",
       "      <td>[22.9661595, 103318.3573, 131165.6623, 27.4988...</td>\n",
       "    </tr>\n",
       "    <tr>\n",
       "      <th>8</th>\n",
       "      <td>8000</td>\n",
       "      <td>16.0</td>\n",
       "      <td>[-408499.0398, 391678.3093, -800177.3491, 1397...</td>\n",
       "      <td>[[100402.1573, 28648.71805, 71753.43928], [291...</td>\n",
       "      <td>[[0.0, 50465.54724, 0.0, 89294.44028, 0.0]]</td>\n",
       "      <td>[[977305.7837, -1917243.12, 0.0, 0.0]]</td>\n",
       "      <td>[[0.0, 0.0, 0.0, 0.0, 0.0, 0.0, 0.0, 0.0, 0.0,...</td>\n",
       "      <td>[0.0]</td>\n",
       "      <td>[1277287.736]</td>\n",
       "      <td>[[298.1677666, 340.3131452, 284.115547, 0.9999...</td>\n",
       "      <td>[2425.07286, 8.463596169, 0.0, 0.0, 0.0, 8.463...</td>\n",
       "      <td>[19.87564957, 106444.6562, 130544.6054, 14.226...</td>\n",
       "    </tr>\n",
       "    <tr>\n",
       "      <th>9</th>\n",
       "      <td>9000</td>\n",
       "      <td>18.0</td>\n",
       "      <td>[-406991.4101, 392482.0724, -799473.4824, 1399...</td>\n",
       "      <td>[[100192.0289, 28084.21204, 72107.81681], [292...</td>\n",
       "      <td>[[0.0, 50693.74147, 0.0, 89209.25341, 0.0]]</td>\n",
       "      <td>[[976722.0947, -1916098.572, 0.0, 0.0]]</td>\n",
       "      <td>[[0.0, 0.0, 0.0, 0.0, 0.0, 0.0, 0.0, 0.0, 0.0,...</td>\n",
       "      <td>[0.0]</td>\n",
       "      <td>[1277287.736]</td>\n",
       "      <td>[[297.5437407, 333.6074763, 285.5187434, 1.000...</td>\n",
       "      <td>[2425.07286, 8.463596169, 0.0, 0.0, 0.0, 8.463...</td>\n",
       "      <td>[18.24226614, 108700.5608, 130819.9731, 21.832...</td>\n",
       "    </tr>\n",
       "  </tbody>\n",
       "</table>\n",
       "</div>"
      ],
      "text/plain": [
       "   TIMESTEP_step  TIMESTEP_time  \\\n",
       "0              0            0.0   \n",
       "1           1000            2.0   \n",
       "2           2000            4.0   \n",
       "3           3000            6.0   \n",
       "4           4000            8.0   \n",
       "5           5000           10.0   \n",
       "6           6000           12.0   \n",
       "7           7000           14.0   \n",
       "8           8000           16.0   \n",
       "9           9000           18.0   \n",
       "\n",
       "                                              totals  \\\n",
       "0  [-408806.2436, 393521.852, -802328.0956, 13840...   \n",
       "1  [-411576.4224, 392980.7347, -804557.157, 13955...   \n",
       "2  [-409167.9172, 392370.1191, -801538.0363, 1389...   \n",
       "3  [-408468.813, 392911.3266, -801380.1396, 13890...   \n",
       "4  [-409322.7261, 391652.3813, -800975.1074, 1398...   \n",
       "5  [-409060.5321, 391503.6168, -800564.1489, 1401...   \n",
       "6  [-407724.5301, 393376.3395, -801100.8696, 1399...   \n",
       "7  [-406045.9433, 393472.141, -799518.0842, 14009...   \n",
       "8  [-408499.0398, 391678.3093, -800177.3491, 1397...   \n",
       "9  [-406991.4101, 392482.0724, -799473.4824, 1399...   \n",
       "\n",
       "                                               baths  \\\n",
       "0  [[99739.83003, 29519.49412, 70220.33591], [293...   \n",
       "1  [[99960.45845, 29481.77196, 70478.6865], [2930...   \n",
       "2  [[100096.9564, 29163.29693, 70933.65948], [292...   \n",
       "3  [[100572.3051, 29097.77284, 71474.53225], [292...   \n",
       "4  [[100279.2719, 28656.33854, 71622.93335], [291...   \n",
       "5  [[99621.54627, 28465.00254, 71156.54373], [291...   \n",
       "6  [[100618.1056, 29001.93804, 71616.16754], [292...   \n",
       "7  [[101200.4734, 29288.55636, 71911.91706], [292...   \n",
       "8  [[100402.1573, 28648.71805, 71753.43928], [291...   \n",
       "9  [[100192.0289, 28084.21204, 72107.81681], [292...   \n",
       "\n",
       "                                        bonded  \\\n",
       "0  [[0.0, 49931.35526, 0.0, 88472.52195, 0.0]]   \n",
       "1  [[0.0, 50409.38587, 0.0, 89141.04865, 0.0]]   \n",
       "2  [[0.0, 50155.81989, 0.0, 88764.59053, 0.0]]   \n",
       "3  [[0.0, 50205.91055, 0.0, 88694.38663, 0.0]]   \n",
       "4  [[0.0, 50608.00218, 0.0, 89216.65927, 0.0]]   \n",
       "5  [[0.0, 50668.20147, 0.0, 89507.19113, 0.0]]   \n",
       "6  [[0.0, 50612.96859, 0.0, 89338.70979, 0.0]]   \n",
       "7  [[0.0, 50652.38951, 0.0, 89438.21007, 0.0]]   \n",
       "8  [[0.0, 50465.54724, 0.0, 89294.44028, 0.0]]   \n",
       "9  [[0.0, 50693.74147, 0.0, 89209.25341, 0.0]]   \n",
       "\n",
       "                                 nonbonded  \\\n",
       "0  [[984602.6158, -1925334.589, 0.0, 0.0]]   \n",
       "1   [[988489.6284, -1932597.22, 0.0, 0.0]]   \n",
       "2  [[983688.8106, -1924147.257, 0.0, 0.0]]   \n",
       "3  [[984891.3076, -1925171.744, 0.0, 0.0]]   \n",
       "4  [[980597.3587, -1921397.128, 0.0, 0.0]]   \n",
       "5  [[980518.6316, -1921258.173, 0.0, 0.0]]   \n",
       "6  [[980975.7104, -1922028.258, 0.0, 0.0]]   \n",
       "7  [[979207.7071, -1918816.391, 0.0, 0.0]]   \n",
       "8   [[977305.7837, -1917243.12, 0.0, 0.0]]   \n",
       "9  [[976722.0947, -1916098.572, 0.0, 0.0]]   \n",
       "\n",
       "                                             special    eds           mass  \\\n",
       "0  [[0.0, 0.0, 0.0, 0.0, 0.0, 0.0, 0.0, 0.0, 0.0,...  [0.0]  [1277287.736]   \n",
       "1  [[0.0, 0.0, 0.0, 0.0, 0.0, 0.0, 0.0, 0.0, 0.0,...  [0.0]  [1277287.736]   \n",
       "2  [[0.0, 0.0, 0.0, 0.0, 0.0, 0.0, 0.0, 0.0, 0.0,...  [0.0]  [1277287.736]   \n",
       "3  [[0.0, 0.0, 0.0, 0.0, 0.0, 0.0, 0.0, 0.0, 0.0,...  [0.0]  [1277287.736]   \n",
       "4  [[0.0, 0.0, 0.0, 0.0, 0.0, 0.0, 0.0, 0.0, 0.0,...  [0.0]  [1277287.736]   \n",
       "5  [[0.0, 0.0, 0.0, 0.0, 0.0, 0.0, 0.0, 0.0, 0.0,...  [0.0]  [1277287.736]   \n",
       "6  [[0.0, 0.0, 0.0, 0.0, 0.0, 0.0, 0.0, 0.0, 0.0,...  [0.0]  [1277287.736]   \n",
       "7  [[0.0, 0.0, 0.0, 0.0, 0.0, 0.0, 0.0, 0.0, 0.0,...  [0.0]  [1277287.736]   \n",
       "8  [[0.0, 0.0, 0.0, 0.0, 0.0, 0.0, 0.0, 0.0, 0.0,...  [0.0]  [1277287.736]   \n",
       "9  [[0.0, 0.0, 0.0, 0.0, 0.0, 0.0, 0.0, 0.0, 0.0,...  [0.0]  [1277287.736]   \n",
       "\n",
       "                                         temperature  \\\n",
       "0  [[296.2008302, 350.6569429, 278.0450574, 1.000...   \n",
       "1  [[296.8560381, 350.2088478, 279.0680247, 1.000...   \n",
       "2  [[297.2614008, 346.4257383, 280.8695397, 0.999...   \n",
       "3  [[298.6730603, 345.647389, 283.0111843, 1.0000...   \n",
       "4  [[297.8028294, 340.4036676, 283.5987946, 0.999...   \n",
       "5  [[295.8495588, 338.1308206, 281.7520741, 1.000...   \n",
       "6  [[298.8090756, 344.5089841, 283.5720046, 0.999...   \n",
       "7  [[300.5385535, 347.9136733, 284.743057, 1.0000...   \n",
       "8  [[298.1677666, 340.3131452, 284.115547, 0.9999...   \n",
       "9  [[297.5437407, 333.6074763, 285.5187434, 1.000...   \n",
       "\n",
       "                                              volume  \\\n",
       "0  [2425.07286, 8.463596169, 0.0, 0.0, 0.0, 8.463...   \n",
       "1  [2425.07286, 8.463596169, 0.0, 0.0, 0.0, 8.463...   \n",
       "2  [2425.07286, 8.463596169, 0.0, 0.0, 0.0, 8.463...   \n",
       "3  [2425.07286, 8.463596169, 0.0, 0.0, 0.0, 8.463...   \n",
       "4  [2425.07286, 8.463596169, 0.0, 0.0, 0.0, 8.463...   \n",
       "5  [2425.07286, 8.463596169, 0.0, 0.0, 0.0, 8.463...   \n",
       "6  [2425.07286, 8.463596169, 0.0, 0.0, 0.0, 8.463...   \n",
       "7  [2425.07286, 8.463596169, 0.0, 0.0, 0.0, 8.463...   \n",
       "8  [2425.07286, 8.463596169, 0.0, 0.0, 0.0, 8.463...   \n",
       "9  [2425.07286, 8.463596169, 0.0, 0.0, 0.0, 8.463...   \n",
       "\n",
       "                                            pressure  \n",
       "0  [29.98293036, 94773.2037, 131128.599, 30.37611...  \n",
       "1  [32.10481199, 92112.53213, 131040.7862, 26.183...  \n",
       "2  [28.23515616, 96520.43393, 130756.5894, 30.172...  \n",
       "3  [28.79320593, 96009.21744, 130922.0286, 24.551...  \n",
       "4  [24.7954137, 100472.9563, 130538.2987, 27.3050...  \n",
       "5  [24.44895665, 100856.1354, 130501.386, 20.8121...  \n",
       "6  [24.88400774, 100946.7969, 131119.5628, 21.646...  \n",
       "7  [22.9661595, 103318.3573, 131165.6623, 27.4988...  \n",
       "8  [19.87564957, 106444.6562, 130544.6054, 14.226...  \n",
       "9  [18.24226614, 108700.5608, 130819.9731, 21.832...  "
      ]
     },
     "execution_count": 14,
     "metadata": {},
     "output_type": "execute_result"
    }
   ],
   "source": [
    "tre.database"
   ]
  },
  {
   "cell_type": "code",
   "execution_count": 5,
   "metadata": {},
   "outputs": [
    {
     "data": {
      "text/plain": [
       "['ENEVERSION',\n",
       " 'TITLE',\n",
       " 'add_traj',\n",
       " 'database',\n",
       " 'get_Hvap',\n",
       " 'get_density',\n",
       " 'get_eds',\n",
       " 'get_precalclam',\n",
       " 'get_temperature',\n",
       " 'get_totals',\n",
       " 'get_totals_bonded',\n",
       " 'get_totals_nonbonded',\n",
       " 'get_totals_total',\n",
       " 'path',\n",
       " 'tre_block_name_table',\n",
       " 'write']"
      ]
     },
     "execution_count": 5,
     "metadata": {},
     "output_type": "execute_result"
    }
   ],
   "source": [
    "[x for x in dir(tre) if not x.startswith(\"_\")]"
   ]
  },
  {
   "cell_type": "markdown",
   "metadata": {},
   "source": [
    "Tre files contain all energy related data (like split up energy terms, temperature, pressure, .....). In PyGromos they generally share the same block structure as other files, but all the data inside the specific timesteps is stored efficently inside a pandas DataFrame, here called tre.database . This database offers manipulation with all pandas functions. Alternatively many common functions are provided inside the Tre class. \n",
    "\n",
    "This class should in principle replace further usage of the gromos++ ene_ana function, since all these operation can be done efficently on the pandas DataFrame. \n",
    "\n",
    "We are currently working on adding more common functions to the Tre class. If you find a useful function please contact the developers so the function can be added for general usage :)"
   ]
  },
  {
   "cell_type": "markdown",
   "metadata": {},
   "source": [
    "### 2.2) Common Tre functions"
   ]
  },
  {
   "cell_type": "code",
   "execution_count": 6,
   "metadata": {},
   "outputs": [
    {
     "data": {
      "text/plain": [
       "874.6182260652407"
      ]
     },
     "execution_count": 6,
     "metadata": {},
     "output_type": "execute_result"
    }
   ],
   "source": [
    "# calculate the average density over all timesteps\n",
    "tre.get_density().mean()"
   ]
  },
  {
   "cell_type": "code",
   "execution_count": 7,
   "metadata": {},
   "outputs": [
    {
     "data": {
      "text/plain": [
       "array([297.7702854 , 297.71343093])"
      ]
     },
     "execution_count": 7,
     "metadata": {},
     "output_type": "execute_result"
    }
   ],
   "source": [
    "# calculate the mean temperature over all frames for all baths in the system. In this example two baths with slightly different temperatures.\n",
    "tre.get_temperature().mean()"
   ]
  },
  {
   "cell_type": "markdown",
   "metadata": {},
   "source": [
    "Tables and lists inside the database are stored in numpy arrays. For example the two temperatures from the previos example are stored in a numpy array of size 2 since it has two temperature baths"
   ]
  },
  {
   "cell_type": "markdown",
   "metadata": {},
   "source": [
    "Specific values inside a tre file can also be directly accesed with numpy and pandas syntax"
   ]
  },
  {
   "cell_type": "code",
   "execution_count": 8,
   "metadata": {},
   "outputs": [
    {
     "data": {
      "text/plain": [
       "TIMESTEP_step                                                 2000\n",
       "TIMESTEP_time                                                  4.0\n",
       "totals           [-409167.9172, 392370.1191, -801538.0363, 1389...\n",
       "baths            [[100096.9564, 29163.29693, 70933.65948], [292...\n",
       "bonded                 [[0.0, 50155.81989, 0.0, 88764.59053, 0.0]]\n",
       "nonbonded                  [[983688.8106, -1924147.257, 0.0, 0.0]]\n",
       "special          [[0.0, 0.0, 0.0, 0.0, 0.0, 0.0, 0.0, 0.0, 0.0,...\n",
       "eds                                                          [0.0]\n",
       "mass                                                 [1277287.736]\n",
       "temperature      [[297.2614008, 346.4257383, 280.8695397, 0.999...\n",
       "volume           [2425.07286, 8.463596169, 0.0, 0.0, 0.0, 8.463...\n",
       "pressure         [28.23515616, 96520.43393, 130756.5894, 30.172...\n",
       "Name: 2, dtype: object"
      ]
     },
     "execution_count": 8,
     "metadata": {},
     "output_type": "execute_result"
    }
   ],
   "source": [
    "tre.database.iloc[2]"
   ]
  },
  {
   "cell_type": "code",
   "execution_count": 9,
   "metadata": {},
   "outputs": [
    {
     "data": {
      "text/plain": [
       "0    984602.6158\n",
       "1    988489.6284\n",
       "2    983688.8106\n",
       "3    984891.3076\n",
       "4    980597.3587\n",
       "5    980518.6316\n",
       "6    980975.7104\n",
       "7    979207.7071\n",
       "8    977305.7837\n",
       "9    976722.0947\n",
       "Name: nonbonded, dtype: float64"
      ]
     },
     "execution_count": 9,
     "metadata": {},
     "output_type": "execute_result"
    }
   ],
   "source": [
    "# select the first nonbonded energy value for the first force group over all time frames\n",
    "tre.database[\"nonbonded\"].apply(lambda x: x[0][0])"
   ]
  },
  {
   "cell_type": "code",
   "execution_count": 15,
   "metadata": {
    "pycharm": {
     "name": "#%%\n"
    }
   },
   "outputs": [
    {
     "ename": "ValueError",
     "evalue": "Shape of passed values is (10, 38), indices imply (10, 43)",
     "output_type": "error",
     "traceback": [
      "\u001b[0;31m---------------------------------------------------------------------------\u001b[0m",
      "\u001b[0;31mValueError\u001b[0m                                Traceback (most recent call last)",
      "\u001b[0;32m~/anaconda3/envs/pygromos/lib/python3.7/site-packages/pandas/core/internals/managers.py\u001b[0m in \u001b[0;36mcreate_block_manager_from_blocks\u001b[0;34m(blocks, axes)\u001b[0m\n\u001b[1;32m   1675\u001b[0m                     make_block(\n\u001b[0;32m-> 1676\u001b[0;31m                         \u001b[0mvalues\u001b[0m\u001b[0;34m=\u001b[0m\u001b[0mblocks\u001b[0m\u001b[0;34m[\u001b[0m\u001b[0;36m0\u001b[0m\u001b[0;34m]\u001b[0m\u001b[0;34m,\u001b[0m \u001b[0mplacement\u001b[0m\u001b[0;34m=\u001b[0m\u001b[0mslice\u001b[0m\u001b[0;34m(\u001b[0m\u001b[0;36m0\u001b[0m\u001b[0;34m,\u001b[0m \u001b[0mlen\u001b[0m\u001b[0;34m(\u001b[0m\u001b[0maxes\u001b[0m\u001b[0;34m[\u001b[0m\u001b[0;36m0\u001b[0m\u001b[0;34m]\u001b[0m\u001b[0;34m)\u001b[0m\u001b[0;34m)\u001b[0m\u001b[0;34m,\u001b[0m \u001b[0mndim\u001b[0m\u001b[0;34m=\u001b[0m\u001b[0;36m2\u001b[0m\u001b[0;34m\u001b[0m\u001b[0;34m\u001b[0m\u001b[0m\n\u001b[0m\u001b[1;32m   1677\u001b[0m                     )\n",
      "\u001b[0;32m~/anaconda3/envs/pygromos/lib/python3.7/site-packages/pandas/core/internals/blocks.py\u001b[0m in \u001b[0;36mmake_block\u001b[0;34m(values, placement, klass, ndim, dtype)\u001b[0m\n\u001b[1;32m   2731\u001b[0m \u001b[0;34m\u001b[0m\u001b[0m\n\u001b[0;32m-> 2732\u001b[0;31m     \u001b[0;32mreturn\u001b[0m \u001b[0mklass\u001b[0m\u001b[0;34m(\u001b[0m\u001b[0mvalues\u001b[0m\u001b[0;34m,\u001b[0m \u001b[0mndim\u001b[0m\u001b[0;34m=\u001b[0m\u001b[0mndim\u001b[0m\u001b[0;34m,\u001b[0m \u001b[0mplacement\u001b[0m\u001b[0;34m=\u001b[0m\u001b[0mplacement\u001b[0m\u001b[0;34m)\u001b[0m\u001b[0;34m\u001b[0m\u001b[0;34m\u001b[0m\u001b[0m\n\u001b[0m\u001b[1;32m   2733\u001b[0m \u001b[0;34m\u001b[0m\u001b[0m\n",
      "\u001b[0;32m~/anaconda3/envs/pygromos/lib/python3.7/site-packages/pandas/core/internals/blocks.py\u001b[0m in \u001b[0;36m__init__\u001b[0;34m(self, values, placement, ndim)\u001b[0m\n\u001b[1;32m    142\u001b[0m             raise ValueError(\n\u001b[0;32m--> 143\u001b[0;31m                 \u001b[0;34mf\"Wrong number of items passed {len(self.values)}, \"\u001b[0m\u001b[0;34m\u001b[0m\u001b[0;34m\u001b[0m\u001b[0m\n\u001b[0m\u001b[1;32m    144\u001b[0m                 \u001b[0;34mf\"placement implies {len(self.mgr_locs)}\"\u001b[0m\u001b[0;34m\u001b[0m\u001b[0;34m\u001b[0m\u001b[0m\n",
      "\u001b[0;31mValueError\u001b[0m: Wrong number of items passed 38, placement implies 43",
      "\nDuring handling of the above exception, another exception occurred:\n",
      "\u001b[0;31mValueError\u001b[0m                                Traceback (most recent call last)",
      "\u001b[0;32m<ipython-input-15-9af2843bceb9>\u001b[0m in \u001b[0;36m<module>\u001b[0;34m\u001b[0m\n\u001b[0;32m----> 1\u001b[0;31m \u001b[0mtre\u001b[0m\u001b[0;34m.\u001b[0m\u001b[0mget_totals\u001b[0m\u001b[0;34m(\u001b[0m\u001b[0;34m)\u001b[0m\u001b[0;34m\u001b[0m\u001b[0;34m\u001b[0m\u001b[0m\n\u001b[0m",
      "\u001b[0;32m~/Documents/code/PyGromosTools/pygromos/files/trajectory/tre.py\u001b[0m in \u001b[0;36mget_totals\u001b[0;34m(self)\u001b[0m\n\u001b[1;32m     46\u001b[0m \u001b[0;34m\u001b[0m\u001b[0m\n\u001b[1;32m     47\u001b[0m     \u001b[0;32mdef\u001b[0m \u001b[0mget_totals\u001b[0m\u001b[0;34m(\u001b[0m\u001b[0mself\u001b[0m\u001b[0;34m)\u001b[0m \u001b[0;34m->\u001b[0m \u001b[0mpd\u001b[0m\u001b[0;34m.\u001b[0m\u001b[0mDataFrame\u001b[0m\u001b[0;34m:\u001b[0m\u001b[0;34m\u001b[0m\u001b[0;34m\u001b[0m\u001b[0m\n\u001b[0;32m---> 48\u001b[0;31m         \u001b[0mself\u001b[0m\u001b[0;34m.\u001b[0m\u001b[0mtotals\u001b[0m \u001b[0;34m=\u001b[0m \u001b[0mpd\u001b[0m\u001b[0;34m.\u001b[0m\u001b[0mDataFrame\u001b[0m\u001b[0;34m(\u001b[0m\u001b[0mdata\u001b[0m \u001b[0;34m=\u001b[0m \u001b[0mnp\u001b[0m\u001b[0;34m.\u001b[0m\u001b[0mstack\u001b[0m\u001b[0;34m(\u001b[0m\u001b[0mself\u001b[0m\u001b[0;34m.\u001b[0m\u001b[0mdatabase\u001b[0m\u001b[0;34m[\u001b[0m\u001b[0;34m\"totals\"\u001b[0m\u001b[0;34m]\u001b[0m\u001b[0;34m.\u001b[0m\u001b[0mto_numpy\u001b[0m\u001b[0;34m(\u001b[0m\u001b[0;34m)\u001b[0m\u001b[0;34m)\u001b[0m\u001b[0;34m,\u001b[0m \u001b[0mcolumns\u001b[0m\u001b[0;34m=\u001b[0m\u001b[0mself\u001b[0m\u001b[0;34m.\u001b[0m\u001b[0mtre_block_name_table\u001b[0m\u001b[0;34m.\u001b[0m\u001b[0mtotals_subblock_names\u001b[0m\u001b[0;34m)\u001b[0m\u001b[0;34m\u001b[0m\u001b[0;34m\u001b[0m\u001b[0m\n\u001b[0m\u001b[1;32m     49\u001b[0m         \u001b[0;32mreturn\u001b[0m \u001b[0mself\u001b[0m\u001b[0;34m.\u001b[0m\u001b[0mtotals\u001b[0m\u001b[0;34m\u001b[0m\u001b[0;34m\u001b[0m\u001b[0m\n\u001b[1;32m     50\u001b[0m \u001b[0;34m\u001b[0m\u001b[0m\n",
      "\u001b[0;32m~/anaconda3/envs/pygromos/lib/python3.7/site-packages/pandas/core/frame.py\u001b[0m in \u001b[0;36m__init__\u001b[0;34m(self, data, index, columns, dtype, copy)\u001b[0m\n\u001b[1;32m    556\u001b[0m                 \u001b[0mmgr\u001b[0m \u001b[0;34m=\u001b[0m \u001b[0minit_dict\u001b[0m\u001b[0;34m(\u001b[0m\u001b[0;34m{\u001b[0m\u001b[0mdata\u001b[0m\u001b[0;34m.\u001b[0m\u001b[0mname\u001b[0m\u001b[0;34m:\u001b[0m \u001b[0mdata\u001b[0m\u001b[0;34m}\u001b[0m\u001b[0;34m,\u001b[0m \u001b[0mindex\u001b[0m\u001b[0;34m,\u001b[0m \u001b[0mcolumns\u001b[0m\u001b[0;34m,\u001b[0m \u001b[0mdtype\u001b[0m\u001b[0;34m=\u001b[0m\u001b[0mdtype\u001b[0m\u001b[0;34m)\u001b[0m\u001b[0;34m\u001b[0m\u001b[0;34m\u001b[0m\u001b[0m\n\u001b[1;32m    557\u001b[0m             \u001b[0;32melse\u001b[0m\u001b[0;34m:\u001b[0m\u001b[0;34m\u001b[0m\u001b[0;34m\u001b[0m\u001b[0m\n\u001b[0;32m--> 558\u001b[0;31m                 \u001b[0mmgr\u001b[0m \u001b[0;34m=\u001b[0m \u001b[0minit_ndarray\u001b[0m\u001b[0;34m(\u001b[0m\u001b[0mdata\u001b[0m\u001b[0;34m,\u001b[0m \u001b[0mindex\u001b[0m\u001b[0;34m,\u001b[0m \u001b[0mcolumns\u001b[0m\u001b[0;34m,\u001b[0m \u001b[0mdtype\u001b[0m\u001b[0;34m=\u001b[0m\u001b[0mdtype\u001b[0m\u001b[0;34m,\u001b[0m \u001b[0mcopy\u001b[0m\u001b[0;34m=\u001b[0m\u001b[0mcopy\u001b[0m\u001b[0;34m)\u001b[0m\u001b[0;34m\u001b[0m\u001b[0;34m\u001b[0m\u001b[0m\n\u001b[0m\u001b[1;32m    559\u001b[0m \u001b[0;34m\u001b[0m\u001b[0m\n\u001b[1;32m    560\u001b[0m         \u001b[0;31m# For data is list-like, or Iterable (will consume into list)\u001b[0m\u001b[0;34m\u001b[0m\u001b[0;34m\u001b[0m\u001b[0;34m\u001b[0m\u001b[0m\n",
      "\u001b[0;32m~/anaconda3/envs/pygromos/lib/python3.7/site-packages/pandas/core/internals/construction.py\u001b[0m in \u001b[0;36minit_ndarray\u001b[0;34m(values, index, columns, dtype, copy)\u001b[0m\n\u001b[1;32m    236\u001b[0m         \u001b[0mblock_values\u001b[0m \u001b[0;34m=\u001b[0m \u001b[0;34m[\u001b[0m\u001b[0mvalues\u001b[0m\u001b[0;34m]\u001b[0m\u001b[0;34m\u001b[0m\u001b[0;34m\u001b[0m\u001b[0m\n\u001b[1;32m    237\u001b[0m \u001b[0;34m\u001b[0m\u001b[0m\n\u001b[0;32m--> 238\u001b[0;31m     \u001b[0;32mreturn\u001b[0m \u001b[0mcreate_block_manager_from_blocks\u001b[0m\u001b[0;34m(\u001b[0m\u001b[0mblock_values\u001b[0m\u001b[0;34m,\u001b[0m \u001b[0;34m[\u001b[0m\u001b[0mcolumns\u001b[0m\u001b[0;34m,\u001b[0m \u001b[0mindex\u001b[0m\u001b[0;34m]\u001b[0m\u001b[0;34m)\u001b[0m\u001b[0;34m\u001b[0m\u001b[0;34m\u001b[0m\u001b[0m\n\u001b[0m\u001b[1;32m    239\u001b[0m \u001b[0;34m\u001b[0m\u001b[0m\n\u001b[1;32m    240\u001b[0m \u001b[0;34m\u001b[0m\u001b[0m\n",
      "\u001b[0;32m~/anaconda3/envs/pygromos/lib/python3.7/site-packages/pandas/core/internals/managers.py\u001b[0m in \u001b[0;36mcreate_block_manager_from_blocks\u001b[0;34m(blocks, axes)\u001b[0m\n\u001b[1;32m   1685\u001b[0m         \u001b[0mblocks\u001b[0m \u001b[0;34m=\u001b[0m \u001b[0;34m[\u001b[0m\u001b[0mgetattr\u001b[0m\u001b[0;34m(\u001b[0m\u001b[0mb\u001b[0m\u001b[0;34m,\u001b[0m \u001b[0;34m\"values\"\u001b[0m\u001b[0;34m,\u001b[0m \u001b[0mb\u001b[0m\u001b[0;34m)\u001b[0m \u001b[0;32mfor\u001b[0m \u001b[0mb\u001b[0m \u001b[0;32min\u001b[0m \u001b[0mblocks\u001b[0m\u001b[0;34m]\u001b[0m\u001b[0;34m\u001b[0m\u001b[0;34m\u001b[0m\u001b[0m\n\u001b[1;32m   1686\u001b[0m         \u001b[0mtot_items\u001b[0m \u001b[0;34m=\u001b[0m \u001b[0msum\u001b[0m\u001b[0;34m(\u001b[0m\u001b[0mb\u001b[0m\u001b[0;34m.\u001b[0m\u001b[0mshape\u001b[0m\u001b[0;34m[\u001b[0m\u001b[0;36m0\u001b[0m\u001b[0;34m]\u001b[0m \u001b[0;32mfor\u001b[0m \u001b[0mb\u001b[0m \u001b[0;32min\u001b[0m \u001b[0mblocks\u001b[0m\u001b[0;34m)\u001b[0m\u001b[0;34m\u001b[0m\u001b[0;34m\u001b[0m\u001b[0m\n\u001b[0;32m-> 1687\u001b[0;31m         \u001b[0;32mraise\u001b[0m \u001b[0mconstruction_error\u001b[0m\u001b[0;34m(\u001b[0m\u001b[0mtot_items\u001b[0m\u001b[0;34m,\u001b[0m \u001b[0mblocks\u001b[0m\u001b[0;34m[\u001b[0m\u001b[0;36m0\u001b[0m\u001b[0;34m]\u001b[0m\u001b[0;34m.\u001b[0m\u001b[0mshape\u001b[0m\u001b[0;34m[\u001b[0m\u001b[0;36m1\u001b[0m\u001b[0;34m:\u001b[0m\u001b[0;34m]\u001b[0m\u001b[0;34m,\u001b[0m \u001b[0maxes\u001b[0m\u001b[0;34m,\u001b[0m \u001b[0me\u001b[0m\u001b[0;34m)\u001b[0m\u001b[0;34m\u001b[0m\u001b[0;34m\u001b[0m\u001b[0m\n\u001b[0m\u001b[1;32m   1688\u001b[0m \u001b[0;34m\u001b[0m\u001b[0m\n\u001b[1;32m   1689\u001b[0m \u001b[0;34m\u001b[0m\u001b[0m\n",
      "\u001b[0;31mValueError\u001b[0m: Shape of passed values is (10, 38), indices imply (10, 43)"
     ]
    }
   ],
   "source": [
    "tre.get_totals()"
   ]
  },
  {
   "cell_type": "markdown",
   "metadata": {},
   "source": [
    "### $\\lambda$-Sampling & TREs"
   ]
  },
  {
   "cell_type": "code",
   "execution_count": 10,
   "metadata": {},
   "outputs": [
    {
     "name": "stderr",
     "output_type": "stream",
     "text": [
      "/home/bschroed/anaconda3/envs/pygromos/lib/python3.7/site-packages/pandas/core/generic.py:2620: PerformanceWarning: \n",
      "your performance may suffer as PyTables will pickle object types that it cannot\n",
      "map directly to c-types [inferred_type->mixed,key->block2_values] [items->Index(['totals', 'baths', 'bonded', 'nonbonded', 'special', 'eds',\n",
      "       'precalclam', 'ABdih', 'mass', 'temperature', 'volume', 'pressure'],\n",
      "      dtype='object')]\n",
      "\n",
      "  encoding=encoding,\n"
     ]
    },
    {
     "data": {
      "text/html": [
       "<div>\n",
       "<style scoped>\n",
       "    .dataframe tbody tr th:only-of-type {\n",
       "        vertical-align: middle;\n",
       "    }\n",
       "\n",
       "    .dataframe tbody tr th {\n",
       "        vertical-align: top;\n",
       "    }\n",
       "\n",
       "    .dataframe thead th {\n",
       "        text-align: right;\n",
       "    }\n",
       "</style>\n",
       "<table border=\"1\" class=\"dataframe\">\n",
       "  <thead>\n",
       "    <tr style=\"text-align: right;\">\n",
       "      <th></th>\n",
       "      <th>nr_lambdas</th>\n",
       "      <th>A_e_lj_1</th>\n",
       "      <th>B_e_lj_1</th>\n",
       "      <th>A_e_crf_1</th>\n",
       "      <th>B_e_crf_1</th>\n",
       "      <th>AB_kinetic_1</th>\n",
       "      <th>AB_bond_1</th>\n",
       "      <th>AB_angle_1</th>\n",
       "      <th>AB_improper_1</th>\n",
       "      <th>AB_disres_1</th>\n",
       "      <th>...</th>\n",
       "      <th>B_e_lj_2</th>\n",
       "      <th>A_e_crf_2</th>\n",
       "      <th>B_e_crf_2</th>\n",
       "      <th>AB_kinetic_2</th>\n",
       "      <th>AB_bond_2</th>\n",
       "      <th>AB_angle_2</th>\n",
       "      <th>AB_improper_2</th>\n",
       "      <th>AB_disres_2</th>\n",
       "      <th>AB_dihres_2</th>\n",
       "      <th>AB_disfld_2</th>\n",
       "    </tr>\n",
       "  </thead>\n",
       "  <tbody>\n",
       "    <tr>\n",
       "      <th>0</th>\n",
       "      <td>2.0</td>\n",
       "      <td>-4.469426</td>\n",
       "      <td>-53.669555</td>\n",
       "      <td>-79.373179</td>\n",
       "      <td>-52.887373</td>\n",
       "      <td>36.091797</td>\n",
       "      <td>0.0</td>\n",
       "      <td>0.0</td>\n",
       "      <td>0.0</td>\n",
       "      <td>0.0</td>\n",
       "      <td>...</td>\n",
       "      <td>-35.873657</td>\n",
       "      <td>-30.872681</td>\n",
       "      <td>-122.394320</td>\n",
       "      <td>36.091797</td>\n",
       "      <td>0.0</td>\n",
       "      <td>0.0</td>\n",
       "      <td>0.0</td>\n",
       "      <td>0.0</td>\n",
       "      <td>0.0</td>\n",
       "      <td>0.0</td>\n",
       "    </tr>\n",
       "    <tr>\n",
       "      <th>1</th>\n",
       "      <td>2.0</td>\n",
       "      <td>-55.493090</td>\n",
       "      <td>-58.228689</td>\n",
       "      <td>-86.711496</td>\n",
       "      <td>-52.410062</td>\n",
       "      <td>44.886645</td>\n",
       "      <td>0.0</td>\n",
       "      <td>0.0</td>\n",
       "      <td>0.0</td>\n",
       "      <td>0.0</td>\n",
       "      <td>...</td>\n",
       "      <td>-45.606063</td>\n",
       "      <td>-30.785515</td>\n",
       "      <td>-122.457590</td>\n",
       "      <td>44.886645</td>\n",
       "      <td>0.0</td>\n",
       "      <td>0.0</td>\n",
       "      <td>0.0</td>\n",
       "      <td>0.0</td>\n",
       "      <td>0.0</td>\n",
       "      <td>0.0</td>\n",
       "    </tr>\n",
       "    <tr>\n",
       "      <th>2</th>\n",
       "      <td>2.0</td>\n",
       "      <td>-3.935587</td>\n",
       "      <td>-54.492379</td>\n",
       "      <td>-79.515189</td>\n",
       "      <td>-54.142546</td>\n",
       "      <td>46.199981</td>\n",
       "      <td>0.0</td>\n",
       "      <td>0.0</td>\n",
       "      <td>0.0</td>\n",
       "      <td>0.0</td>\n",
       "      <td>...</td>\n",
       "      <td>-11.948241</td>\n",
       "      <td>-29.997893</td>\n",
       "      <td>-139.035309</td>\n",
       "      <td>46.199981</td>\n",
       "      <td>0.0</td>\n",
       "      <td>0.0</td>\n",
       "      <td>0.0</td>\n",
       "      <td>0.0</td>\n",
       "      <td>0.0</td>\n",
       "      <td>0.0</td>\n",
       "    </tr>\n",
       "    <tr>\n",
       "      <th>3</th>\n",
       "      <td>2.0</td>\n",
       "      <td>-44.047130</td>\n",
       "      <td>-54.945185</td>\n",
       "      <td>-83.150923</td>\n",
       "      <td>-53.673066</td>\n",
       "      <td>41.268221</td>\n",
       "      <td>0.0</td>\n",
       "      <td>0.0</td>\n",
       "      <td>0.0</td>\n",
       "      <td>0.0</td>\n",
       "      <td>...</td>\n",
       "      <td>-46.293060</td>\n",
       "      <td>-30.604894</td>\n",
       "      <td>-130.358158</td>\n",
       "      <td>41.268221</td>\n",
       "      <td>0.0</td>\n",
       "      <td>0.0</td>\n",
       "      <td>0.0</td>\n",
       "      <td>0.0</td>\n",
       "      <td>0.0</td>\n",
       "      <td>0.0</td>\n",
       "    </tr>\n",
       "    <tr>\n",
       "      <th>4</th>\n",
       "      <td>2.0</td>\n",
       "      <td>-23.340313</td>\n",
       "      <td>-52.961388</td>\n",
       "      <td>-75.743516</td>\n",
       "      <td>-53.920133</td>\n",
       "      <td>36.680211</td>\n",
       "      <td>0.0</td>\n",
       "      <td>0.0</td>\n",
       "      <td>0.0</td>\n",
       "      <td>0.0</td>\n",
       "      <td>...</td>\n",
       "      <td>-31.298169</td>\n",
       "      <td>-29.582651</td>\n",
       "      <td>-134.272063</td>\n",
       "      <td>36.680211</td>\n",
       "      <td>0.0</td>\n",
       "      <td>0.0</td>\n",
       "      <td>0.0</td>\n",
       "      <td>0.0</td>\n",
       "      <td>0.0</td>\n",
       "      <td>0.0</td>\n",
       "    </tr>\n",
       "    <tr>\n",
       "      <th>...</th>\n",
       "      <td>...</td>\n",
       "      <td>...</td>\n",
       "      <td>...</td>\n",
       "      <td>...</td>\n",
       "      <td>...</td>\n",
       "      <td>...</td>\n",
       "      <td>...</td>\n",
       "      <td>...</td>\n",
       "      <td>...</td>\n",
       "      <td>...</td>\n",
       "      <td>...</td>\n",
       "      <td>...</td>\n",
       "      <td>...</td>\n",
       "      <td>...</td>\n",
       "      <td>...</td>\n",
       "      <td>...</td>\n",
       "      <td>...</td>\n",
       "      <td>...</td>\n",
       "      <td>...</td>\n",
       "      <td>...</td>\n",
       "      <td>...</td>\n",
       "    </tr>\n",
       "    <tr>\n",
       "      <th>495</th>\n",
       "      <td>2.0</td>\n",
       "      <td>39.941549</td>\n",
       "      <td>-64.577818</td>\n",
       "      <td>-71.993096</td>\n",
       "      <td>-53.485889</td>\n",
       "      <td>35.829309</td>\n",
       "      <td>0.0</td>\n",
       "      <td>0.0</td>\n",
       "      <td>0.0</td>\n",
       "      <td>0.0</td>\n",
       "      <td>...</td>\n",
       "      <td>-49.950195</td>\n",
       "      <td>-29.687513</td>\n",
       "      <td>-130.534976</td>\n",
       "      <td>35.829309</td>\n",
       "      <td>0.0</td>\n",
       "      <td>0.0</td>\n",
       "      <td>0.0</td>\n",
       "      <td>0.0</td>\n",
       "      <td>0.0</td>\n",
       "      <td>0.0</td>\n",
       "    </tr>\n",
       "    <tr>\n",
       "      <th>496</th>\n",
       "      <td>2.0</td>\n",
       "      <td>-8.487283</td>\n",
       "      <td>-54.840254</td>\n",
       "      <td>-73.625420</td>\n",
       "      <td>-54.112768</td>\n",
       "      <td>33.260161</td>\n",
       "      <td>0.0</td>\n",
       "      <td>0.0</td>\n",
       "      <td>0.0</td>\n",
       "      <td>0.0</td>\n",
       "      <td>...</td>\n",
       "      <td>-49.181289</td>\n",
       "      <td>-30.208203</td>\n",
       "      <td>-117.262832</td>\n",
       "      <td>33.260161</td>\n",
       "      <td>0.0</td>\n",
       "      <td>0.0</td>\n",
       "      <td>0.0</td>\n",
       "      <td>0.0</td>\n",
       "      <td>0.0</td>\n",
       "      <td>0.0</td>\n",
       "    </tr>\n",
       "    <tr>\n",
       "      <th>497</th>\n",
       "      <td>2.0</td>\n",
       "      <td>29.934914</td>\n",
       "      <td>-54.557127</td>\n",
       "      <td>-76.326046</td>\n",
       "      <td>-51.811587</td>\n",
       "      <td>41.735086</td>\n",
       "      <td>0.0</td>\n",
       "      <td>0.0</td>\n",
       "      <td>0.0</td>\n",
       "      <td>0.0</td>\n",
       "      <td>...</td>\n",
       "      <td>-2.244047</td>\n",
       "      <td>-29.913671</td>\n",
       "      <td>-104.326673</td>\n",
       "      <td>41.735086</td>\n",
       "      <td>0.0</td>\n",
       "      <td>0.0</td>\n",
       "      <td>0.0</td>\n",
       "      <td>0.0</td>\n",
       "      <td>0.0</td>\n",
       "      <td>0.0</td>\n",
       "    </tr>\n",
       "    <tr>\n",
       "      <th>498</th>\n",
       "      <td>2.0</td>\n",
       "      <td>-35.691879</td>\n",
       "      <td>-60.330236</td>\n",
       "      <td>-77.859153</td>\n",
       "      <td>-54.295433</td>\n",
       "      <td>44.944847</td>\n",
       "      <td>0.0</td>\n",
       "      <td>0.0</td>\n",
       "      <td>0.0</td>\n",
       "      <td>0.0</td>\n",
       "      <td>...</td>\n",
       "      <td>-41.949763</td>\n",
       "      <td>-29.898032</td>\n",
       "      <td>-123.231158</td>\n",
       "      <td>44.944847</td>\n",
       "      <td>0.0</td>\n",
       "      <td>0.0</td>\n",
       "      <td>0.0</td>\n",
       "      <td>0.0</td>\n",
       "      <td>0.0</td>\n",
       "      <td>0.0</td>\n",
       "    </tr>\n",
       "    <tr>\n",
       "      <th>499</th>\n",
       "      <td>2.0</td>\n",
       "      <td>21.308545</td>\n",
       "      <td>-58.470225</td>\n",
       "      <td>-72.376205</td>\n",
       "      <td>-53.554977</td>\n",
       "      <td>41.740483</td>\n",
       "      <td>0.0</td>\n",
       "      <td>0.0</td>\n",
       "      <td>0.0</td>\n",
       "      <td>0.0</td>\n",
       "      <td>...</td>\n",
       "      <td>-20.574294</td>\n",
       "      <td>-28.857399</td>\n",
       "      <td>-125.539239</td>\n",
       "      <td>41.740483</td>\n",
       "      <td>0.0</td>\n",
       "      <td>0.0</td>\n",
       "      <td>0.0</td>\n",
       "      <td>0.0</td>\n",
       "      <td>0.0</td>\n",
       "      <td>0.0</td>\n",
       "    </tr>\n",
       "  </tbody>\n",
       "</table>\n",
       "<p>500 rows × 23 columns</p>\n",
       "</div>"
      ],
      "text/plain": [
       "     nr_lambdas   A_e_lj_1   B_e_lj_1  A_e_crf_1  B_e_crf_1  AB_kinetic_1  \\\n",
       "0           2.0  -4.469426 -53.669555 -79.373179 -52.887373     36.091797   \n",
       "1           2.0 -55.493090 -58.228689 -86.711496 -52.410062     44.886645   \n",
       "2           2.0  -3.935587 -54.492379 -79.515189 -54.142546     46.199981   \n",
       "3           2.0 -44.047130 -54.945185 -83.150923 -53.673066     41.268221   \n",
       "4           2.0 -23.340313 -52.961388 -75.743516 -53.920133     36.680211   \n",
       "..          ...        ...        ...        ...        ...           ...   \n",
       "495         2.0  39.941549 -64.577818 -71.993096 -53.485889     35.829309   \n",
       "496         2.0  -8.487283 -54.840254 -73.625420 -54.112768     33.260161   \n",
       "497         2.0  29.934914 -54.557127 -76.326046 -51.811587     41.735086   \n",
       "498         2.0 -35.691879 -60.330236 -77.859153 -54.295433     44.944847   \n",
       "499         2.0  21.308545 -58.470225 -72.376205 -53.554977     41.740483   \n",
       "\n",
       "     AB_bond_1  AB_angle_1  AB_improper_1  AB_disres_1  ...   B_e_lj_2  \\\n",
       "0          0.0         0.0            0.0          0.0  ... -35.873657   \n",
       "1          0.0         0.0            0.0          0.0  ... -45.606063   \n",
       "2          0.0         0.0            0.0          0.0  ... -11.948241   \n",
       "3          0.0         0.0            0.0          0.0  ... -46.293060   \n",
       "4          0.0         0.0            0.0          0.0  ... -31.298169   \n",
       "..         ...         ...            ...          ...  ...        ...   \n",
       "495        0.0         0.0            0.0          0.0  ... -49.950195   \n",
       "496        0.0         0.0            0.0          0.0  ... -49.181289   \n",
       "497        0.0         0.0            0.0          0.0  ...  -2.244047   \n",
       "498        0.0         0.0            0.0          0.0  ... -41.949763   \n",
       "499        0.0         0.0            0.0          0.0  ... -20.574294   \n",
       "\n",
       "     A_e_crf_2   B_e_crf_2  AB_kinetic_2  AB_bond_2  AB_angle_2  \\\n",
       "0   -30.872681 -122.394320     36.091797        0.0         0.0   \n",
       "1   -30.785515 -122.457590     44.886645        0.0         0.0   \n",
       "2   -29.997893 -139.035309     46.199981        0.0         0.0   \n",
       "3   -30.604894 -130.358158     41.268221        0.0         0.0   \n",
       "4   -29.582651 -134.272063     36.680211        0.0         0.0   \n",
       "..         ...         ...           ...        ...         ...   \n",
       "495 -29.687513 -130.534976     35.829309        0.0         0.0   \n",
       "496 -30.208203 -117.262832     33.260161        0.0         0.0   \n",
       "497 -29.913671 -104.326673     41.735086        0.0         0.0   \n",
       "498 -29.898032 -123.231158     44.944847        0.0         0.0   \n",
       "499 -28.857399 -125.539239     41.740483        0.0         0.0   \n",
       "\n",
       "     AB_improper_2  AB_disres_2  AB_dihres_2  AB_disfld_2  \n",
       "0              0.0          0.0          0.0          0.0  \n",
       "1              0.0          0.0          0.0          0.0  \n",
       "2              0.0          0.0          0.0          0.0  \n",
       "3              0.0          0.0          0.0          0.0  \n",
       "4              0.0          0.0          0.0          0.0  \n",
       "..             ...          ...          ...          ...  \n",
       "495            0.0          0.0          0.0          0.0  \n",
       "496            0.0          0.0          0.0          0.0  \n",
       "497            0.0          0.0          0.0          0.0  \n",
       "498            0.0          0.0          0.0          0.0  \n",
       "499            0.0          0.0          0.0          0.0  \n",
       "\n",
       "[500 rows x 23 columns]"
      ]
     },
     "execution_count": 10,
     "metadata": {},
     "output_type": "execute_result"
    }
   ],
   "source": [
    "# import the trajectory file into a Tre class\n",
    "tre = traj_tre.Tre(input_value=\"example_files/Traj_files/RAFE_TI_l0_5.tre\")\n",
    "tre.get_precalclam()"
   ]
  },
  {
   "cell_type": "markdown",
   "metadata": {
    "pycharm": {
     "name": "#%% md\n"
    }
   },
   "source": [
    "### EDS in TREs"
   ]
  },
  {
   "cell_type": "code",
   "execution_count": 12,
   "metadata": {},
   "outputs": [
    {
     "data": {
      "text/html": [
       "<div>\n",
       "<style scoped>\n",
       "    .dataframe tbody tr th:only-of-type {\n",
       "        vertical-align: middle;\n",
       "    }\n",
       "\n",
       "    .dataframe tbody tr th {\n",
       "        vertical-align: top;\n",
       "    }\n",
       "\n",
       "    .dataframe thead th {\n",
       "        text-align: right;\n",
       "    }\n",
       "</style>\n",
       "<table border=\"1\" class=\"dataframe\">\n",
       "  <thead>\n",
       "    <tr style=\"text-align: right;\">\n",
       "      <th></th>\n",
       "      <th>numstates</th>\n",
       "      <th>total_1</th>\n",
       "      <th>nonbonded_1</th>\n",
       "      <th>special_1</th>\n",
       "      <th>offset_1</th>\n",
       "      <th>total_2</th>\n",
       "      <th>nonbonded_2</th>\n",
       "      <th>special_2</th>\n",
       "      <th>offset_2</th>\n",
       "      <th>total_3</th>\n",
       "      <th>...</th>\n",
       "      <th>special_7</th>\n",
       "      <th>offset_7</th>\n",
       "      <th>total_8</th>\n",
       "      <th>nonbonded_8</th>\n",
       "      <th>special_8</th>\n",
       "      <th>offset_8</th>\n",
       "      <th>total_9</th>\n",
       "      <th>nonbonded_9</th>\n",
       "      <th>special_9</th>\n",
       "      <th>offset_9</th>\n",
       "    </tr>\n",
       "  </thead>\n",
       "  <tbody>\n",
       "    <tr>\n",
       "      <th>0</th>\n",
       "      <td>9.0</td>\n",
       "      <td>-304.241276</td>\n",
       "      <td>-304.241276</td>\n",
       "      <td>0.0</td>\n",
       "      <td>0.0</td>\n",
       "      <td>-309.738568</td>\n",
       "      <td>-309.738568</td>\n",
       "      <td>0.0</td>\n",
       "      <td>0.0</td>\n",
       "      <td>-286.397004</td>\n",
       "      <td>...</td>\n",
       "      <td>0.0</td>\n",
       "      <td>0.0</td>\n",
       "      <td>-306.757290</td>\n",
       "      <td>-306.757290</td>\n",
       "      <td>0.0</td>\n",
       "      <td>0.0</td>\n",
       "      <td>1.661115e+05</td>\n",
       "      <td>1.661115e+05</td>\n",
       "      <td>0.0</td>\n",
       "      <td>0.0</td>\n",
       "    </tr>\n",
       "    <tr>\n",
       "      <th>1</th>\n",
       "      <td>9.0</td>\n",
       "      <td>-327.432243</td>\n",
       "      <td>-327.432243</td>\n",
       "      <td>0.0</td>\n",
       "      <td>0.0</td>\n",
       "      <td>-343.990987</td>\n",
       "      <td>-343.990987</td>\n",
       "      <td>0.0</td>\n",
       "      <td>0.0</td>\n",
       "      <td>-330.156886</td>\n",
       "      <td>...</td>\n",
       "      <td>0.0</td>\n",
       "      <td>0.0</td>\n",
       "      <td>-337.505471</td>\n",
       "      <td>-337.505471</td>\n",
       "      <td>0.0</td>\n",
       "      <td>0.0</td>\n",
       "      <td>2.114028e+05</td>\n",
       "      <td>2.114028e+05</td>\n",
       "      <td>0.0</td>\n",
       "      <td>0.0</td>\n",
       "    </tr>\n",
       "    <tr>\n",
       "      <th>2</th>\n",
       "      <td>9.0</td>\n",
       "      <td>-342.969913</td>\n",
       "      <td>-342.969913</td>\n",
       "      <td>0.0</td>\n",
       "      <td>0.0</td>\n",
       "      <td>-348.338017</td>\n",
       "      <td>-348.338017</td>\n",
       "      <td>0.0</td>\n",
       "      <td>0.0</td>\n",
       "      <td>-342.678812</td>\n",
       "      <td>...</td>\n",
       "      <td>0.0</td>\n",
       "      <td>0.0</td>\n",
       "      <td>-343.085575</td>\n",
       "      <td>-343.085575</td>\n",
       "      <td>0.0</td>\n",
       "      <td>0.0</td>\n",
       "      <td>2.335587e+05</td>\n",
       "      <td>2.335587e+05</td>\n",
       "      <td>0.0</td>\n",
       "      <td>0.0</td>\n",
       "    </tr>\n",
       "    <tr>\n",
       "      <th>3</th>\n",
       "      <td>9.0</td>\n",
       "      <td>-307.787722</td>\n",
       "      <td>-307.787722</td>\n",
       "      <td>0.0</td>\n",
       "      <td>0.0</td>\n",
       "      <td>-320.642022</td>\n",
       "      <td>-320.642022</td>\n",
       "      <td>0.0</td>\n",
       "      <td>0.0</td>\n",
       "      <td>-275.892803</td>\n",
       "      <td>...</td>\n",
       "      <td>0.0</td>\n",
       "      <td>0.0</td>\n",
       "      <td>-287.546356</td>\n",
       "      <td>-287.546356</td>\n",
       "      <td>0.0</td>\n",
       "      <td>0.0</td>\n",
       "      <td>1.263949e+05</td>\n",
       "      <td>1.263949e+05</td>\n",
       "      <td>0.0</td>\n",
       "      <td>0.0</td>\n",
       "    </tr>\n",
       "    <tr>\n",
       "      <th>4</th>\n",
       "      <td>9.0</td>\n",
       "      <td>-325.101329</td>\n",
       "      <td>-325.101329</td>\n",
       "      <td>0.0</td>\n",
       "      <td>0.0</td>\n",
       "      <td>-333.832261</td>\n",
       "      <td>-333.832261</td>\n",
       "      <td>0.0</td>\n",
       "      <td>0.0</td>\n",
       "      <td>-309.882401</td>\n",
       "      <td>...</td>\n",
       "      <td>0.0</td>\n",
       "      <td>0.0</td>\n",
       "      <td>-328.133697</td>\n",
       "      <td>-328.133697</td>\n",
       "      <td>0.0</td>\n",
       "      <td>0.0</td>\n",
       "      <td>3.637117e+05</td>\n",
       "      <td>3.637117e+05</td>\n",
       "      <td>0.0</td>\n",
       "      <td>0.0</td>\n",
       "    </tr>\n",
       "    <tr>\n",
       "      <th>5</th>\n",
       "      <td>9.0</td>\n",
       "      <td>-341.014069</td>\n",
       "      <td>-341.014069</td>\n",
       "      <td>0.0</td>\n",
       "      <td>0.0</td>\n",
       "      <td>-338.126642</td>\n",
       "      <td>-338.126642</td>\n",
       "      <td>0.0</td>\n",
       "      <td>0.0</td>\n",
       "      <td>-319.108916</td>\n",
       "      <td>...</td>\n",
       "      <td>0.0</td>\n",
       "      <td>0.0</td>\n",
       "      <td>-331.591241</td>\n",
       "      <td>-331.591241</td>\n",
       "      <td>0.0</td>\n",
       "      <td>0.0</td>\n",
       "      <td>3.426647e+06</td>\n",
       "      <td>3.426647e+06</td>\n",
       "      <td>0.0</td>\n",
       "      <td>0.0</td>\n",
       "    </tr>\n",
       "    <tr>\n",
       "      <th>6</th>\n",
       "      <td>9.0</td>\n",
       "      <td>-332.591891</td>\n",
       "      <td>-332.591891</td>\n",
       "      <td>0.0</td>\n",
       "      <td>0.0</td>\n",
       "      <td>-313.860613</td>\n",
       "      <td>-313.860613</td>\n",
       "      <td>0.0</td>\n",
       "      <td>0.0</td>\n",
       "      <td>-270.145527</td>\n",
       "      <td>...</td>\n",
       "      <td>0.0</td>\n",
       "      <td>0.0</td>\n",
       "      <td>-295.307547</td>\n",
       "      <td>-295.307547</td>\n",
       "      <td>0.0</td>\n",
       "      <td>0.0</td>\n",
       "      <td>6.720166e+05</td>\n",
       "      <td>6.720166e+05</td>\n",
       "      <td>0.0</td>\n",
       "      <td>0.0</td>\n",
       "    </tr>\n",
       "    <tr>\n",
       "      <th>7</th>\n",
       "      <td>9.0</td>\n",
       "      <td>-384.741762</td>\n",
       "      <td>-384.741762</td>\n",
       "      <td>0.0</td>\n",
       "      <td>0.0</td>\n",
       "      <td>-379.723111</td>\n",
       "      <td>-379.723111</td>\n",
       "      <td>0.0</td>\n",
       "      <td>0.0</td>\n",
       "      <td>-340.573094</td>\n",
       "      <td>...</td>\n",
       "      <td>0.0</td>\n",
       "      <td>0.0</td>\n",
       "      <td>-363.097220</td>\n",
       "      <td>-363.097220</td>\n",
       "      <td>0.0</td>\n",
       "      <td>0.0</td>\n",
       "      <td>6.147874e+04</td>\n",
       "      <td>6.147874e+04</td>\n",
       "      <td>0.0</td>\n",
       "      <td>0.0</td>\n",
       "    </tr>\n",
       "    <tr>\n",
       "      <th>8</th>\n",
       "      <td>9.0</td>\n",
       "      <td>-341.408526</td>\n",
       "      <td>-341.408526</td>\n",
       "      <td>0.0</td>\n",
       "      <td>0.0</td>\n",
       "      <td>-352.793311</td>\n",
       "      <td>-352.793311</td>\n",
       "      <td>0.0</td>\n",
       "      <td>0.0</td>\n",
       "      <td>-268.495614</td>\n",
       "      <td>...</td>\n",
       "      <td>0.0</td>\n",
       "      <td>0.0</td>\n",
       "      <td>-327.075935</td>\n",
       "      <td>-327.075935</td>\n",
       "      <td>0.0</td>\n",
       "      <td>0.0</td>\n",
       "      <td>2.863084e+04</td>\n",
       "      <td>2.863084e+04</td>\n",
       "      <td>0.0</td>\n",
       "      <td>0.0</td>\n",
       "    </tr>\n",
       "    <tr>\n",
       "      <th>9</th>\n",
       "      <td>9.0</td>\n",
       "      <td>-336.573404</td>\n",
       "      <td>-336.573404</td>\n",
       "      <td>0.0</td>\n",
       "      <td>0.0</td>\n",
       "      <td>-340.350887</td>\n",
       "      <td>-340.350887</td>\n",
       "      <td>0.0</td>\n",
       "      <td>0.0</td>\n",
       "      <td>-238.003947</td>\n",
       "      <td>...</td>\n",
       "      <td>0.0</td>\n",
       "      <td>0.0</td>\n",
       "      <td>-325.957742</td>\n",
       "      <td>-325.957742</td>\n",
       "      <td>0.0</td>\n",
       "      <td>0.0</td>\n",
       "      <td>3.048352e+04</td>\n",
       "      <td>3.048352e+04</td>\n",
       "      <td>0.0</td>\n",
       "      <td>0.0</td>\n",
       "    </tr>\n",
       "  </tbody>\n",
       "</table>\n",
       "<p>10 rows × 37 columns</p>\n",
       "</div>"
      ],
      "text/plain": [
       "   numstates     total_1  nonbonded_1  special_1  offset_1     total_2  \\\n",
       "0        9.0 -304.241276  -304.241276        0.0       0.0 -309.738568   \n",
       "1        9.0 -327.432243  -327.432243        0.0       0.0 -343.990987   \n",
       "2        9.0 -342.969913  -342.969913        0.0       0.0 -348.338017   \n",
       "3        9.0 -307.787722  -307.787722        0.0       0.0 -320.642022   \n",
       "4        9.0 -325.101329  -325.101329        0.0       0.0 -333.832261   \n",
       "5        9.0 -341.014069  -341.014069        0.0       0.0 -338.126642   \n",
       "6        9.0 -332.591891  -332.591891        0.0       0.0 -313.860613   \n",
       "7        9.0 -384.741762  -384.741762        0.0       0.0 -379.723111   \n",
       "8        9.0 -341.408526  -341.408526        0.0       0.0 -352.793311   \n",
       "9        9.0 -336.573404  -336.573404        0.0       0.0 -340.350887   \n",
       "\n",
       "   nonbonded_2  special_2  offset_2     total_3  ...  special_7  offset_7  \\\n",
       "0  -309.738568        0.0       0.0 -286.397004  ...        0.0       0.0   \n",
       "1  -343.990987        0.0       0.0 -330.156886  ...        0.0       0.0   \n",
       "2  -348.338017        0.0       0.0 -342.678812  ...        0.0       0.0   \n",
       "3  -320.642022        0.0       0.0 -275.892803  ...        0.0       0.0   \n",
       "4  -333.832261        0.0       0.0 -309.882401  ...        0.0       0.0   \n",
       "5  -338.126642        0.0       0.0 -319.108916  ...        0.0       0.0   \n",
       "6  -313.860613        0.0       0.0 -270.145527  ...        0.0       0.0   \n",
       "7  -379.723111        0.0       0.0 -340.573094  ...        0.0       0.0   \n",
       "8  -352.793311        0.0       0.0 -268.495614  ...        0.0       0.0   \n",
       "9  -340.350887        0.0       0.0 -238.003947  ...        0.0       0.0   \n",
       "\n",
       "      total_8  nonbonded_8  special_8  offset_8       total_9   nonbonded_9  \\\n",
       "0 -306.757290  -306.757290        0.0       0.0  1.661115e+05  1.661115e+05   \n",
       "1 -337.505471  -337.505471        0.0       0.0  2.114028e+05  2.114028e+05   \n",
       "2 -343.085575  -343.085575        0.0       0.0  2.335587e+05  2.335587e+05   \n",
       "3 -287.546356  -287.546356        0.0       0.0  1.263949e+05  1.263949e+05   \n",
       "4 -328.133697  -328.133697        0.0       0.0  3.637117e+05  3.637117e+05   \n",
       "5 -331.591241  -331.591241        0.0       0.0  3.426647e+06  3.426647e+06   \n",
       "6 -295.307547  -295.307547        0.0       0.0  6.720166e+05  6.720166e+05   \n",
       "7 -363.097220  -363.097220        0.0       0.0  6.147874e+04  6.147874e+04   \n",
       "8 -327.075935  -327.075935        0.0       0.0  2.863084e+04  2.863084e+04   \n",
       "9 -325.957742  -325.957742        0.0       0.0  3.048352e+04  3.048352e+04   \n",
       "\n",
       "   special_9  offset_9  \n",
       "0        0.0       0.0  \n",
       "1        0.0       0.0  \n",
       "2        0.0       0.0  \n",
       "3        0.0       0.0  \n",
       "4        0.0       0.0  \n",
       "5        0.0       0.0  \n",
       "6        0.0       0.0  \n",
       "7        0.0       0.0  \n",
       "8        0.0       0.0  \n",
       "9        0.0       0.0  \n",
       "\n",
       "[10 rows x 37 columns]"
      ]
     },
     "execution_count": 12,
     "metadata": {},
     "output_type": "execute_result"
    }
   ],
   "source": [
    "# import the trajectory file into a Tre class\n",
    "tre = traj_tre.Tre(input_value=\"example_files/Traj_files/RAFE_eds.tre\")\n",
    "tre.get_eds()"
   ]
  },
  {
   "cell_type": "markdown",
   "metadata": {
    "pycharm": {
     "name": "#%% md\n"
    }
   },
   "source": [
    "## Concatenate  and Copy multiple Trajectories"
   ]
  },
  {
   "cell_type": "markdown",
   "metadata": {},
   "source": [
    "Trajectories offer a wide range of additional file manipulations. Trajectory classes can be copied (deep) and added to each other to concatenate multiple small simulation pieces into one large trajectory. "
   ]
  },
  {
   "cell_type": "code",
   "execution_count": 18,
   "metadata": {},
   "outputs": [],
   "source": [
    "tre_copy = traj_tre.Tre(input_value=tre)"
   ]
  },
  {
   "cell_type": "code",
   "execution_count": null,
   "metadata": {
    "collapsed": false,
    "pycharm": {
     "name": "#%%\n"
    }
   },
   "outputs": [],
   "source": [
    "tre_copy.database.shape"
   ]
  },
  {
   "cell_type": "code",
   "execution_count": null,
   "metadata": {
    "collapsed": false,
    "pycharm": {
     "name": "#%%\n"
    }
   },
   "outputs": [],
   "source": [
    "tre_combined = tre + tre_copy"
   ]
  },
  {
   "cell_type": "code",
   "execution_count": null,
   "metadata": {
    "collapsed": false,
    "pycharm": {
     "name": "#%%\n"
    }
   },
   "outputs": [],
   "source": [
    "tre_combined.database.shape"
   ]
  },
  {
   "cell_type": "markdown",
   "metadata": {
    "collapsed": false
   },
   "source": [
    "In the new combined trajectory we have one long trajectory made from the two smaller ones. The lenght is one element shorter, since normally the last element of the first trajectory and the first element of the second trajectory is the same element. This can be controlled via the option \"skip_new_0=True\" in the add_traj() function which is the core of the \"+\" operator for trajectories. In the following line the default behavior can be seen as a smooth numbering in the TIMESTEPs."
   ]
  },
  {
   "cell_type": "code",
   "execution_count": null,
   "metadata": {
    "collapsed": false,
    "pycharm": {
     "name": "#%%\n"
    }
   },
   "outputs": [],
   "source": [
    "tre_combined.database.TIMESTEP_time"
   ]
  },
  {
   "cell_type": "code",
   "execution_count": null,
   "metadata": {
    "collapsed": false,
    "pycharm": {
     "name": "#%%\n"
    }
   },
   "outputs": [],
   "source": []
  },
  {
   "cell_type": "code",
   "execution_count": 19,
   "metadata": {},
   "outputs": [
    {
     "data": {
      "text/plain": [
       "(10, 13)"
      ]
     },
     "execution_count": 19,
     "metadata": {},
     "output_type": "execute_result"
    }
   ],
   "source": []
  },
  {
   "cell_type": "code",
   "execution_count": 20,
   "metadata": {},
   "outputs": [],
   "source": [
    "tre_combined = tre + tre_copy"
   ]
  },
  {
   "cell_type": "code",
   "execution_count": 21,
   "metadata": {},
   "outputs": [
    {
     "data": {
      "text/plain": [
       "(19, 13)"
      ]
     },
     "execution_count": 21,
     "metadata": {},
     "output_type": "execute_result"
    }
   ],
   "source": [
    "tre_combined.database.shape"
   ]
  },
  {
   "cell_type": "markdown",
   "metadata": {},
   "source": [
    "In the new combined trajectory we have one long trajectory made from the two smaller ones. The lenght is one element shorter, since normally the last element of the first trajectory and the first element of the second trajectory is the same element. This can be controlled via the option \"skip_new_0=True\" in the add_traj() function which is the core of the \"+\" operator for trajectories. In the following line the default behavior can be seen as a smooth numbering in the TIMESTEPs."
   ]
  },
  {
   "cell_type": "code",
   "execution_count": 22,
   "metadata": {},
   "outputs": [
    {
     "data": {
      "text/plain": [
       "0      0.0\n",
       "1      2.0\n",
       "2      4.0\n",
       "3      6.0\n",
       "4      8.0\n",
       "5     10.0\n",
       "6     12.0\n",
       "7     14.0\n",
       "8     16.0\n",
       "9     18.0\n",
       "10    20.0\n",
       "11    22.0\n",
       "12    24.0\n",
       "13    26.0\n",
       "14    28.0\n",
       "15    30.0\n",
       "16    32.0\n",
       "17    34.0\n",
       "18    36.0\n",
       "Name: TIMESTEP_time, dtype: float64"
      ]
     },
     "execution_count": 22,
     "metadata": {},
     "output_type": "execute_result"
    }
   ],
   "source": [
    "tre_combined.database.TIMESTEP_time"
   ]
  },
  {
   "cell_type": "code",
   "execution_count": 18,
   "metadata": {},
   "outputs": [],
   "source": []
  },
  {
   "cell_type": "code",
   "execution_count": null,
   "metadata": {},
   "outputs": [],
   "source": []
  }
 ],
 "metadata": {
  "kernelspec": {
   "display_name": "pygromos",
   "language": "python",
   "name": "python3"
  },
  "language_info": {
   "codemirror_mode": {
    "name": "ipython",
    "version": 3
   },
   "file_extension": ".py",
   "mimetype": "text/x-python",
   "name": "python",
   "nbconvert_exporter": "python",
   "pygments_lexer": "ipython3",
   "version": "3.7.10"
  }
 },
 "nbformat": 4,
 "nbformat_minor": 4
}
