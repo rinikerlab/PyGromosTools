{
 "cells": [
  {
   "cell_type": "markdown",
   "metadata": {},
   "source": [
    "# Submission Systems \n",
    "Submission system play an important role, if you want to develop your pygromos code. Many times, they are hidden in the Simulation_runner blocks. But maybe you want to develop something, where you need direct access on the submission system? \n",
    "\n",
    "This notebook will give you some examples, how you can use the submission systems.\n",
    "Note that all submission systems are write in the same ways, such you can exchange them quickly."
   ]
  },
  {
   "cell_type": "code",
   "execution_count": 1,
   "metadata": {
    "execution": {
     "iopub.execute_input": "2022-04-01T07:58:38.167223Z",
     "iopub.status.busy": "2022-04-01T07:58:38.166925Z",
     "iopub.status.idle": "2022-04-01T07:58:38.787601Z",
     "shell.execute_reply": "2022-04-01T07:58:38.784412Z"
    }
   },
   "outputs": [],
   "source": [
    "from pygromos.simulations.hpc_queuing.submission_systems import local # this executes your code in your local session.\n",
    "from pygromos.simulations.hpc_queuing.submission_systems import lsf # this module can be used to submit to the lsf-queue (e.g. on euler)\n",
    "from pygromos.simulations.hpc_queuing.submission_systems import dummy # this is a dummy system, that only prints the commands\n",
    "from pygromos.simulations.hpc_queuing.submission_systems.submission_job import Submission_job # this class stores all data for a single job"
   ]
  },
  {
   "cell_type": "markdown",
   "metadata": {},
   "source": [
    "## Local Submission\n",
    "\n",
    "This system executes the commands directly in your current session. This allows you to locally test or execute your code. Maybe if your process needs much more time, you want later to switch to a submission system for job-queueing."
   ]
  },
  {
   "cell_type": "code",
   "execution_count": 2,
   "metadata": {
    "execution": {
     "iopub.execute_input": "2022-04-01T07:58:38.792673Z",
     "iopub.status.busy": "2022-04-01T07:58:38.792264Z",
     "iopub.status.idle": "2022-04-01T07:58:38.798797Z",
     "shell.execute_reply": "2022-04-01T07:58:38.797441Z"
    }
   },
   "outputs": [],
   "source": [
    "sub_local = local.LOCAL()\n",
    "sub_local.verbose = True"
   ]
  },
  {
   "cell_type": "code",
   "execution_count": 3,
   "metadata": {
    "execution": {
     "iopub.execute_input": "2022-04-01T07:58:38.804749Z",
     "iopub.status.busy": "2022-04-01T07:58:38.804209Z",
     "iopub.status.idle": "2022-04-01T07:58:42.898063Z",
     "shell.execute_reply": "2022-04-01T07:58:42.896835Z"
    }
   },
   "outputs": [
    {
     "name": "stdout",
     "output_type": "stream",
     "text": [
      "Submission Command: \t . / j o b _ t e s t . s h\n"
     ]
    },
    {
     "name": "stdout",
     "output_type": "stream",
     "text": [
      "STDOUT: \n",
      "\t\tb'WUHA\\n'\n",
      "END\n",
      "\n"
     ]
    },
    {
     "data": {
      "text/plain": [
       "0"
      ]
     },
     "execution_count": 3,
     "metadata": {},
     "output_type": "execute_result"
    }
   ],
   "source": [
    "bash_command = \"sleep 2; echo \\\"WUHA\\\"; sleep 2\"\n",
    "job = Submission_job(bash_command)\n",
    "\n",
    "job_id = sub_local.submit_to_queue(job)\n",
    "job_id"
   ]
  },
  {
   "cell_type": "code",
   "execution_count": 4,
   "metadata": {
    "execution": {
     "iopub.execute_input": "2022-04-01T07:58:42.904342Z",
     "iopub.status.busy": "2022-04-01T07:58:42.903129Z",
     "iopub.status.idle": "2022-04-01T07:58:42.912118Z",
     "shell.execute_reply": "2022-04-01T07:58:42.910752Z"
    }
   },
   "outputs": [
    {
     "data": {
      "text/plain": [
       "[]"
      ]
     },
     "execution_count": 4,
     "metadata": {},
     "output_type": "execute_result"
    }
   ],
   "source": [
    "#This is a dummy function, to not break the code!\n",
    "sub_local.get_jobs_from_queue(\"FUN\")"
   ]
  },
  {
   "cell_type": "markdown",
   "metadata": {},
   "source": [
    "## LSF Submission\n",
    "\n",
    "The Lsf submission system allows to submit jobs to the IBM LSF-Queueing system.\n",
    "\n",
    "**Careful! This part requires a running LSF-Queueing System on your System**\n",
    "\n",
    "You can submit and kill jobs and arrays to the queue, as well as getting information from the queuing list."
   ]
  },
  {
   "cell_type": "code",
   "execution_count": 5,
   "metadata": {
    "execution": {
     "iopub.execute_input": "2022-04-01T07:58:42.918736Z",
     "iopub.status.busy": "2022-04-01T07:58:42.918355Z",
     "iopub.status.idle": "2022-04-01T07:58:42.926707Z",
     "shell.execute_reply": "2022-04-01T07:58:42.925192Z"
    }
   },
   "outputs": [],
   "source": [
    "#Construct system:\n",
    "sub_lsf = lsf.LSF(nmpi=1, job_duration = \"24:00\", max_storage=100)\n",
    "sub_lsf.verbose = True\n",
    "\n",
    "sub_lsf._refresh_job_queue_list_all_s = 0 #you must wait at least 1s to update job_queue list"
   ]
  },
  {
   "cell_type": "markdown",
   "metadata": {},
   "source": [
    "### Queue Checking:"
   ]
  },
  {
   "cell_type": "code",
   "execution_count": 6,
   "metadata": {
    "execution": {
     "iopub.execute_input": "2022-04-01T07:58:42.930903Z",
     "iopub.status.busy": "2022-04-01T07:58:42.930476Z",
     "iopub.status.idle": "2022-04-01T07:58:44.212413Z",
     "shell.execute_reply": "2022-04-01T07:58:44.210282Z"
    }
   },
   "outputs": [
    {
     "ename": "Exception",
     "evalue": "Could not get job_list!\nerr:\nSubProcess Failed due to returncode: 127\n COMMAND: \n\tbjobs -w\nSTDOUT:\n\t\nSTDERR:\n\tb'/bin/sh: 1: bjobs: not found\\n'",
     "output_type": "error",
     "traceback": [
      "\u001b[0;31m---------------------------------------------------------------------------\u001b[0m",
      "\u001b[0;31mChildProcessError\u001b[0m                         Traceback (most recent call last)",
      "File \u001b[0;32m~/Documents/projects/PyGromosTools/pygromos/simulations/hpc_queuing/submission_systems/lsf.py:308\u001b[0m, in \u001b[0;36mLSF.get_queued_jobs\u001b[0;34m(self)\u001b[0m\n\u001b[1;32m    307\u001b[0m \u001b[38;5;28;01melse\u001b[39;00m:\n\u001b[0;32m--> 308\u001b[0m     out_process \u001b[38;5;241m=\u001b[39m \u001b[43mbash\u001b[49m\u001b[38;5;241;43m.\u001b[39;49m\u001b[43mexecute\u001b[49m\u001b[43m(\u001b[49m\u001b[38;5;124;43m\"\u001b[39;49m\u001b[38;5;124;43mbjobs -w\u001b[39;49m\u001b[38;5;124;43m\"\u001b[39;49m\u001b[43m,\u001b[49m\u001b[43m \u001b[49m\u001b[43mcatch_STD\u001b[49m\u001b[38;5;241;43m=\u001b[39;49m\u001b[38;5;28;43;01mTrue\u001b[39;49;00m\u001b[43m)\u001b[49m\n\u001b[1;32m    309\u001b[0m job_list_str \u001b[38;5;241m=\u001b[39m \u001b[38;5;28mlist\u001b[39m(\u001b[38;5;28mmap\u001b[39m(\u001b[38;5;28;01mlambda\u001b[39;00m x: x\u001b[38;5;241m.\u001b[39mdecode(\u001b[38;5;124m\"\u001b[39m\u001b[38;5;124mutf-8\u001b[39m\u001b[38;5;124m\"\u001b[39m), out_process\u001b[38;5;241m.\u001b[39mstdout\u001b[38;5;241m.\u001b[39mreadlines()))\n",
      "File \u001b[0;32m~/Documents/projects/PyGromosTools/pygromos/utils/bash.py:935\u001b[0m, in \u001b[0;36mexecute\u001b[0;34m(command, verbose, catch_STD, env)\u001b[0m\n\u001b[1;32m    932\u001b[0m \u001b[38;5;28;01mdef\u001b[39;00m \u001b[38;5;21mexecute\u001b[39m(\n\u001b[1;32m    933\u001b[0m     command: Union[\u001b[38;5;28mstr\u001b[39m, List[\u001b[38;5;28mstr\u001b[39m]], verbose: \u001b[38;5;28mbool\u001b[39m \u001b[38;5;241m=\u001b[39m \u001b[38;5;28;01mFalse\u001b[39;00m, catch_STD: Union[\u001b[38;5;28mbool\u001b[39m, \u001b[38;5;28mstr\u001b[39m] \u001b[38;5;241m=\u001b[39m \u001b[38;5;28;01mFalse\u001b[39;00m, env: \u001b[38;5;28mdict\u001b[39m \u001b[38;5;241m=\u001b[39m \u001b[38;5;28;01mNone\u001b[39;00m\n\u001b[1;32m    934\u001b[0m ):\n\u001b[0;32m--> 935\u001b[0m     \u001b[38;5;28;01mreturn\u001b[39;00m \u001b[43mexecute_subprocess\u001b[49m\u001b[43m(\u001b[49m\u001b[43mcommand\u001b[49m\u001b[38;5;241;43m=\u001b[39;49m\u001b[43mcommand\u001b[49m\u001b[43m,\u001b[49m\u001b[43m \u001b[49m\u001b[43mverbose\u001b[49m\u001b[38;5;241;43m=\u001b[39;49m\u001b[43mverbose\u001b[49m\u001b[43m,\u001b[49m\u001b[43m \u001b[49m\u001b[43mcatch_STD\u001b[49m\u001b[38;5;241;43m=\u001b[39;49m\u001b[43mcatch_STD\u001b[49m\u001b[43m,\u001b[49m\u001b[43m \u001b[49m\u001b[43menv\u001b[49m\u001b[38;5;241;43m=\u001b[39;49m\u001b[43menv\u001b[49m\u001b[43m)\u001b[49m\n",
      "File \u001b[0;32m~/Documents/projects/PyGromosTools/pygromos/utils/bash.py:829\u001b[0m, in \u001b[0;36mexecute_subprocess\u001b[0;34m(command, catch_STD, env, verbose)\u001b[0m\n\u001b[1;32m    828\u001b[0m     msg \u001b[38;5;241m+\u001b[39m\u001b[38;5;241m=\u001b[39m \u001b[38;5;124m\"\u001b[39m\u001b[38;5;124mNONE\u001b[39m\u001b[38;5;124m\"\u001b[39m \u001b[38;5;28;01mif\u001b[39;00m (p\u001b[38;5;241m.\u001b[39mstdout \u001b[38;5;129;01mis\u001b[39;00m \u001b[38;5;28;01mNone\u001b[39;00m) \u001b[38;5;28;01melse\u001b[39;00m \u001b[38;5;124m\"\u001b[39m\u001b[38;5;130;01m\\n\u001b[39;00m\u001b[38;5;130;01m\\t\u001b[39;00m\u001b[38;5;124m\"\u001b[39m\u001b[38;5;241m.\u001b[39mjoin(\u001b[38;5;28mmap\u001b[39m(\u001b[38;5;28mstr\u001b[39m, p\u001b[38;5;241m.\u001b[39mstderr\u001b[38;5;241m.\u001b[39mreadlines()))\n\u001b[0;32m--> 829\u001b[0m     \u001b[38;5;28;01mraise\u001b[39;00m \u001b[38;5;167;01mChildProcessError\u001b[39;00m(msg)\n\u001b[1;32m    830\u001b[0m \u001b[38;5;28;01mif\u001b[39;00m verbose:\n",
      "\u001b[0;31mChildProcessError\u001b[0m: SubProcess Failed due to returncode: 127\n COMMAND: \n\tbjobs -w\nSTDOUT:\n\t\nSTDERR:\n\tb'/bin/sh: 1: bjobs: not found\\n'",
      "\nDuring handling of the above exception, another exception occurred:\n",
      "\u001b[0;31mException\u001b[0m                                 Traceback (most recent call last)",
      "Input \u001b[0;32mIn [6]\u001b[0m, in \u001b[0;36m<cell line: 1>\u001b[0;34m()\u001b[0m\n\u001b[0;32m----> 1\u001b[0m \u001b[43msub_lsf\u001b[49m\u001b[38;5;241;43m.\u001b[39;49m\u001b[43mget_queued_jobs\u001b[49m\u001b[43m(\u001b[49m\u001b[43m)\u001b[49m\n\u001b[1;32m      2\u001b[0m sub_lsf\u001b[38;5;241m.\u001b[39mjob_queue_list\n",
      "File \u001b[0;32m~/Documents/projects/PyGromosTools/pygromos/simulations/hpc_queuing/submission_systems/lsf.py:319\u001b[0m, in \u001b[0;36mLSF.get_queued_jobs\u001b[0;34m(self)\u001b[0m\n\u001b[1;32m    317\u001b[0m         \u001b[38;5;28mself\u001b[39m\u001b[38;5;241m.\u001b[39m_job_queue_time_stamp \u001b[38;5;241m=\u001b[39m datetime\u001b[38;5;241m.\u001b[39mnow()\n\u001b[1;32m    318\u001b[0m     \u001b[38;5;28;01mexcept\u001b[39;00m \u001b[38;5;167;01mException\u001b[39;00m \u001b[38;5;28;01mas\u001b[39;00m err:\n\u001b[0;32m--> 319\u001b[0m         \u001b[38;5;28;01mraise\u001b[39;00m \u001b[38;5;167;01mException\u001b[39;00m(\u001b[38;5;124m\"\u001b[39m\u001b[38;5;124mCould not get job_list!\u001b[39m\u001b[38;5;130;01m\\n\u001b[39;00m\u001b[38;5;124merr:\u001b[39m\u001b[38;5;130;01m\\n\u001b[39;00m\u001b[38;5;124m\"\u001b[39m \u001b[38;5;241m+\u001b[39m \u001b[38;5;124m\"\u001b[39m\u001b[38;5;130;01m\\n\u001b[39;00m\u001b[38;5;124m\"\u001b[39m\u001b[38;5;241m.\u001b[39mjoin(err\u001b[38;5;241m.\u001b[39margs))\n\u001b[1;32m    320\u001b[0m \u001b[38;5;28;01melse\u001b[39;00m:\n\u001b[1;32m    321\u001b[0m     job_list_str \u001b[38;5;241m=\u001b[39m []\n",
      "\u001b[0;31mException\u001b[0m: Could not get job_list!\nerr:\nSubProcess Failed due to returncode: 127\n COMMAND: \n\tbjobs -w\nSTDOUT:\n\t\nSTDERR:\n\tb'/bin/sh: 1: bjobs: not found\\n'"
     ]
    }
   ],
   "source": [
    "sub_lsf.get_queued_jobs()\n",
    "sub_lsf.job_queue_list"
   ]
  },
  {
   "cell_type": "markdown",
   "metadata": {},
   "source": [
    "### Submission:\n",
    "here you can submit jobs to the queue as bash commands"
   ]
  },
  {
   "cell_type": "code",
   "execution_count": 7,
   "metadata": {
    "execution": {
     "iopub.execute_input": "2022-04-01T07:58:44.221907Z",
     "iopub.status.busy": "2022-04-01T07:58:44.221283Z",
     "iopub.status.idle": "2022-04-01T07:58:44.658915Z",
     "shell.execute_reply": "2022-04-01T07:58:44.657702Z"
    }
   },
   "outputs": [
    {
     "name": "stdout",
     "output_type": "stream",
     "text": [
      "check queue\n"
     ]
    },
    {
     "ename": "Exception",
     "evalue": "Could not get job_list!\nerr:\nSubProcess Failed due to returncode: 127\n COMMAND: \n\tbjobs -w\nSTDOUT:\n\t\nSTDERR:\n\tb'/bin/sh: 1: bjobs: not found\\n'",
     "output_type": "error",
     "traceback": [
      "\u001b[0;31m---------------------------------------------------------------------------\u001b[0m",
      "\u001b[0;31mChildProcessError\u001b[0m                         Traceback (most recent call last)",
      "File \u001b[0;32m~/Documents/projects/PyGromosTools/pygromos/simulations/hpc_queuing/submission_systems/lsf.py:308\u001b[0m, in \u001b[0;36mLSF.get_queued_jobs\u001b[0;34m(self)\u001b[0m\n\u001b[1;32m    307\u001b[0m \u001b[38;5;28;01melse\u001b[39;00m:\n\u001b[0;32m--> 308\u001b[0m     out_process \u001b[38;5;241m=\u001b[39m \u001b[43mbash\u001b[49m\u001b[38;5;241;43m.\u001b[39;49m\u001b[43mexecute\u001b[49m\u001b[43m(\u001b[49m\u001b[38;5;124;43m\"\u001b[39;49m\u001b[38;5;124;43mbjobs -w\u001b[39;49m\u001b[38;5;124;43m\"\u001b[39;49m\u001b[43m,\u001b[49m\u001b[43m \u001b[49m\u001b[43mcatch_STD\u001b[49m\u001b[38;5;241;43m=\u001b[39;49m\u001b[38;5;28;43;01mTrue\u001b[39;49;00m\u001b[43m)\u001b[49m\n\u001b[1;32m    309\u001b[0m job_list_str \u001b[38;5;241m=\u001b[39m \u001b[38;5;28mlist\u001b[39m(\u001b[38;5;28mmap\u001b[39m(\u001b[38;5;28;01mlambda\u001b[39;00m x: x\u001b[38;5;241m.\u001b[39mdecode(\u001b[38;5;124m\"\u001b[39m\u001b[38;5;124mutf-8\u001b[39m\u001b[38;5;124m\"\u001b[39m), out_process\u001b[38;5;241m.\u001b[39mstdout\u001b[38;5;241m.\u001b[39mreadlines()))\n",
      "File \u001b[0;32m~/Documents/projects/PyGromosTools/pygromos/utils/bash.py:935\u001b[0m, in \u001b[0;36mexecute\u001b[0;34m(command, verbose, catch_STD, env)\u001b[0m\n\u001b[1;32m    932\u001b[0m \u001b[38;5;28;01mdef\u001b[39;00m \u001b[38;5;21mexecute\u001b[39m(\n\u001b[1;32m    933\u001b[0m     command: Union[\u001b[38;5;28mstr\u001b[39m, List[\u001b[38;5;28mstr\u001b[39m]], verbose: \u001b[38;5;28mbool\u001b[39m \u001b[38;5;241m=\u001b[39m \u001b[38;5;28;01mFalse\u001b[39;00m, catch_STD: Union[\u001b[38;5;28mbool\u001b[39m, \u001b[38;5;28mstr\u001b[39m] \u001b[38;5;241m=\u001b[39m \u001b[38;5;28;01mFalse\u001b[39;00m, env: \u001b[38;5;28mdict\u001b[39m \u001b[38;5;241m=\u001b[39m \u001b[38;5;28;01mNone\u001b[39;00m\n\u001b[1;32m    934\u001b[0m ):\n\u001b[0;32m--> 935\u001b[0m     \u001b[38;5;28;01mreturn\u001b[39;00m \u001b[43mexecute_subprocess\u001b[49m\u001b[43m(\u001b[49m\u001b[43mcommand\u001b[49m\u001b[38;5;241;43m=\u001b[39;49m\u001b[43mcommand\u001b[49m\u001b[43m,\u001b[49m\u001b[43m \u001b[49m\u001b[43mverbose\u001b[49m\u001b[38;5;241;43m=\u001b[39;49m\u001b[43mverbose\u001b[49m\u001b[43m,\u001b[49m\u001b[43m \u001b[49m\u001b[43mcatch_STD\u001b[49m\u001b[38;5;241;43m=\u001b[39;49m\u001b[43mcatch_STD\u001b[49m\u001b[43m,\u001b[49m\u001b[43m \u001b[49m\u001b[43menv\u001b[49m\u001b[38;5;241;43m=\u001b[39;49m\u001b[43menv\u001b[49m\u001b[43m)\u001b[49m\n",
      "File \u001b[0;32m~/Documents/projects/PyGromosTools/pygromos/utils/bash.py:829\u001b[0m, in \u001b[0;36mexecute_subprocess\u001b[0;34m(command, catch_STD, env, verbose)\u001b[0m\n\u001b[1;32m    828\u001b[0m     msg \u001b[38;5;241m+\u001b[39m\u001b[38;5;241m=\u001b[39m \u001b[38;5;124m\"\u001b[39m\u001b[38;5;124mNONE\u001b[39m\u001b[38;5;124m\"\u001b[39m \u001b[38;5;28;01mif\u001b[39;00m (p\u001b[38;5;241m.\u001b[39mstdout \u001b[38;5;129;01mis\u001b[39;00m \u001b[38;5;28;01mNone\u001b[39;00m) \u001b[38;5;28;01melse\u001b[39;00m \u001b[38;5;124m\"\u001b[39m\u001b[38;5;130;01m\\n\u001b[39;00m\u001b[38;5;130;01m\\t\u001b[39;00m\u001b[38;5;124m\"\u001b[39m\u001b[38;5;241m.\u001b[39mjoin(\u001b[38;5;28mmap\u001b[39m(\u001b[38;5;28mstr\u001b[39m, p\u001b[38;5;241m.\u001b[39mstderr\u001b[38;5;241m.\u001b[39mreadlines()))\n\u001b[0;32m--> 829\u001b[0m     \u001b[38;5;28;01mraise\u001b[39;00m \u001b[38;5;167;01mChildProcessError\u001b[39;00m(msg)\n\u001b[1;32m    830\u001b[0m \u001b[38;5;28;01mif\u001b[39;00m verbose:\n",
      "\u001b[0;31mChildProcessError\u001b[0m: SubProcess Failed due to returncode: 127\n COMMAND: \n\tbjobs -w\nSTDOUT:\n\t\nSTDERR:\n\tb'/bin/sh: 1: bjobs: not found\\n'",
      "\nDuring handling of the above exception, another exception occurred:\n",
      "\u001b[0;31mException\u001b[0m                                 Traceback (most recent call last)",
      "Input \u001b[0;32mIn [7]\u001b[0m, in \u001b[0;36m<cell line: 4>\u001b[0;34m()\u001b[0m\n\u001b[1;32m      1\u001b[0m bash_command \u001b[38;5;241m=\u001b[39m \u001b[38;5;124m\"\u001b[39m\u001b[38;5;124msleep 5; echo \u001b[39m\u001b[38;5;130;01m\\\"\u001b[39;00m\u001b[38;5;124mWUHA\u001b[39m\u001b[38;5;130;01m\\\"\u001b[39;00m\u001b[38;5;124m; sleep 2\u001b[39m\u001b[38;5;124m\"\u001b[39m\n\u001b[1;32m      2\u001b[0m job_name \u001b[38;5;241m=\u001b[39m \u001b[38;5;124m\"\u001b[39m\u001b[38;5;124mTest1\u001b[39m\u001b[38;5;124m\"\u001b[39m\n\u001b[0;32m----> 4\u001b[0m job_id \u001b[38;5;241m=\u001b[39m \u001b[43msub_lsf\u001b[49m\u001b[38;5;241;43m.\u001b[39;49m\u001b[43msubmit_to_queue\u001b[49m\u001b[43m(\u001b[49m\u001b[43mSubmission_job\u001b[49m\u001b[43m(\u001b[49m\u001b[43mbash_command\u001b[49m\u001b[43m,\u001b[49m\u001b[43m \u001b[49m\u001b[43mjob_name\u001b[49m\u001b[43m)\u001b[49m\u001b[43m)\u001b[49m\n",
      "File \u001b[0;32m~/Documents/projects/PyGromosTools/pygromos/simulations/hpc_queuing/submission_systems/lsf.py:76\u001b[0m, in \u001b[0;36mLSF.submit_to_queue\u001b[0;34m(self, sub_job)\u001b[0m\n\u001b[1;32m     74\u001b[0m \u001b[38;5;28;01mif\u001b[39;00m \u001b[38;5;28mself\u001b[39m\u001b[38;5;241m.\u001b[39mverbose:\n\u001b[1;32m     75\u001b[0m     \u001b[38;5;28mprint\u001b[39m(\u001b[38;5;124m\"\u001b[39m\u001b[38;5;124mcheck queue\u001b[39m\u001b[38;5;124m\"\u001b[39m)\n\u001b[0;32m---> 76\u001b[0m ids \u001b[38;5;241m=\u001b[39m \u001b[38;5;28mlist\u001b[39m(\u001b[38;5;28;43mself\u001b[39;49m\u001b[38;5;241;43m.\u001b[39;49m\u001b[43msearch_queue_for_jobname\u001b[49m\u001b[43m(\u001b[49m\u001b[43msub_job\u001b[49m\u001b[38;5;241;43m.\u001b[39;49m\u001b[43mjobName\u001b[49m\u001b[43m)\u001b[49m\u001b[38;5;241m.\u001b[39mindex)\n\u001b[1;32m     78\u001b[0m \u001b[38;5;28;01mif\u001b[39;00m \u001b[38;5;28mlen\u001b[39m(ids) \u001b[38;5;241m>\u001b[39m \u001b[38;5;241m0\u001b[39m:\n\u001b[1;32m     79\u001b[0m     \u001b[38;5;28;01mif\u001b[39;00m \u001b[38;5;28mself\u001b[39m\u001b[38;5;241m.\u001b[39mverbose:\n",
      "File \u001b[0;32m~/Documents/projects/PyGromosTools/pygromos/simulations/hpc_queuing/submission_systems/lsf.py:378\u001b[0m, in \u001b[0;36mLSF.search_queue_for_jobname\u001b[0;34m(self, job_name, regex)\u001b[0m\n\u001b[1;32m    362\u001b[0m \u001b[38;5;28;01mdef\u001b[39;00m \u001b[38;5;21msearch_queue_for_jobname\u001b[39m(\u001b[38;5;28mself\u001b[39m, job_name: \u001b[38;5;28mstr\u001b[39m, regex: \u001b[38;5;28mbool\u001b[39m \u001b[38;5;241m=\u001b[39m \u001b[38;5;28;01mFalse\u001b[39;00m) \u001b[38;5;241m-\u001b[39m\u001b[38;5;241m>\u001b[39m pd\u001b[38;5;241m.\u001b[39mDataFrame:\n\u001b[1;32m    363\u001b[0m     \u001b[38;5;124;03m\"\"\"search_queue_for_jobname\u001b[39;00m\n\u001b[1;32m    364\u001b[0m \n\u001b[1;32m    365\u001b[0m \u001b[38;5;124;03m        this jobs searches the job queue for a certain job name.\u001b[39;00m\n\u001b[0;32m   (...)\u001b[0m\n\u001b[1;32m    375\u001b[0m \u001b[38;5;124;03m        the output of the queue containing the jobname\u001b[39;00m\n\u001b[1;32m    376\u001b[0m \u001b[38;5;124;03m    \"\"\"\u001b[39;00m\n\u001b[0;32m--> 378\u001b[0m     \u001b[38;5;28;43mself\u001b[39;49m\u001b[38;5;241;43m.\u001b[39;49m\u001b[43mget_queued_jobs\u001b[49m\u001b[43m(\u001b[49m\u001b[43m)\u001b[49m\n\u001b[1;32m    379\u001b[0m     \u001b[38;5;28;01mif\u001b[39;00m regex:\n\u001b[1;32m    380\u001b[0m         \u001b[38;5;28;01mreturn\u001b[39;00m \u001b[38;5;28mself\u001b[39m\u001b[38;5;241m.\u001b[39m_job_queue_list\u001b[38;5;241m.\u001b[39mwhere(\u001b[38;5;28mself\u001b[39m\u001b[38;5;241m.\u001b[39m_job_queue_list\u001b[38;5;241m.\u001b[39mJOB_NAME\u001b[38;5;241m.\u001b[39mstr\u001b[38;5;241m.\u001b[39mmatch(job_name))\u001b[38;5;241m.\u001b[39mdropna()\n",
      "File \u001b[0;32m~/Documents/projects/PyGromosTools/pygromos/simulations/hpc_queuing/submission_systems/lsf.py:319\u001b[0m, in \u001b[0;36mLSF.get_queued_jobs\u001b[0;34m(self)\u001b[0m\n\u001b[1;32m    317\u001b[0m         \u001b[38;5;28mself\u001b[39m\u001b[38;5;241m.\u001b[39m_job_queue_time_stamp \u001b[38;5;241m=\u001b[39m datetime\u001b[38;5;241m.\u001b[39mnow()\n\u001b[1;32m    318\u001b[0m     \u001b[38;5;28;01mexcept\u001b[39;00m \u001b[38;5;167;01mException\u001b[39;00m \u001b[38;5;28;01mas\u001b[39;00m err:\n\u001b[0;32m--> 319\u001b[0m         \u001b[38;5;28;01mraise\u001b[39;00m \u001b[38;5;167;01mException\u001b[39;00m(\u001b[38;5;124m\"\u001b[39m\u001b[38;5;124mCould not get job_list!\u001b[39m\u001b[38;5;130;01m\\n\u001b[39;00m\u001b[38;5;124merr:\u001b[39m\u001b[38;5;130;01m\\n\u001b[39;00m\u001b[38;5;124m\"\u001b[39m \u001b[38;5;241m+\u001b[39m \u001b[38;5;124m\"\u001b[39m\u001b[38;5;130;01m\\n\u001b[39;00m\u001b[38;5;124m\"\u001b[39m\u001b[38;5;241m.\u001b[39mjoin(err\u001b[38;5;241m.\u001b[39margs))\n\u001b[1;32m    320\u001b[0m \u001b[38;5;28;01melse\u001b[39;00m:\n\u001b[1;32m    321\u001b[0m     job_list_str \u001b[38;5;241m=\u001b[39m []\n",
      "\u001b[0;31mException\u001b[0m: Could not get job_list!\nerr:\nSubProcess Failed due to returncode: 127\n COMMAND: \n\tbjobs -w\nSTDOUT:\n\t\nSTDERR:\n\tb'/bin/sh: 1: bjobs: not found\\n'"
     ]
    }
   ],
   "source": [
    "bash_command = \"sleep 5; echo \\\"WUHA\\\"; sleep 2\"\n",
    "job_name = \"Test1\"\n",
    "\n",
    "job_id = sub_lsf.submit_to_queue(Submission_job(bash_command, job_name))"
   ]
  },
  {
   "cell_type": "code",
   "execution_count": 8,
   "metadata": {
    "execution": {
     "iopub.execute_input": "2022-04-01T07:58:44.663093Z",
     "iopub.status.busy": "2022-04-01T07:58:44.662453Z",
     "iopub.status.idle": "2022-04-01T07:58:45.018701Z",
     "shell.execute_reply": "2022-04-01T07:58:45.017312Z"
    }
   },
   "outputs": [
    {
     "ename": "Exception",
     "evalue": "Could not get job_list!\nerr:\nSubProcess Failed due to returncode: 127\n COMMAND: \n\tbjobs -w\nSTDOUT:\n\t\nSTDERR:\n\tb'/bin/sh: 1: bjobs: not found\\n'",
     "output_type": "error",
     "traceback": [
      "\u001b[0;31m---------------------------------------------------------------------------\u001b[0m",
      "\u001b[0;31mChildProcessError\u001b[0m                         Traceback (most recent call last)",
      "File \u001b[0;32m~/Documents/projects/PyGromosTools/pygromos/simulations/hpc_queuing/submission_systems/lsf.py:308\u001b[0m, in \u001b[0;36mLSF.get_queued_jobs\u001b[0;34m(self)\u001b[0m\n\u001b[1;32m    307\u001b[0m \u001b[38;5;28;01melse\u001b[39;00m:\n\u001b[0;32m--> 308\u001b[0m     out_process \u001b[38;5;241m=\u001b[39m \u001b[43mbash\u001b[49m\u001b[38;5;241;43m.\u001b[39;49m\u001b[43mexecute\u001b[49m\u001b[43m(\u001b[49m\u001b[38;5;124;43m\"\u001b[39;49m\u001b[38;5;124;43mbjobs -w\u001b[39;49m\u001b[38;5;124;43m\"\u001b[39;49m\u001b[43m,\u001b[49m\u001b[43m \u001b[49m\u001b[43mcatch_STD\u001b[49m\u001b[38;5;241;43m=\u001b[39;49m\u001b[38;5;28;43;01mTrue\u001b[39;49;00m\u001b[43m)\u001b[49m\n\u001b[1;32m    309\u001b[0m job_list_str \u001b[38;5;241m=\u001b[39m \u001b[38;5;28mlist\u001b[39m(\u001b[38;5;28mmap\u001b[39m(\u001b[38;5;28;01mlambda\u001b[39;00m x: x\u001b[38;5;241m.\u001b[39mdecode(\u001b[38;5;124m\"\u001b[39m\u001b[38;5;124mutf-8\u001b[39m\u001b[38;5;124m\"\u001b[39m), out_process\u001b[38;5;241m.\u001b[39mstdout\u001b[38;5;241m.\u001b[39mreadlines()))\n",
      "File \u001b[0;32m~/Documents/projects/PyGromosTools/pygromos/utils/bash.py:935\u001b[0m, in \u001b[0;36mexecute\u001b[0;34m(command, verbose, catch_STD, env)\u001b[0m\n\u001b[1;32m    932\u001b[0m \u001b[38;5;28;01mdef\u001b[39;00m \u001b[38;5;21mexecute\u001b[39m(\n\u001b[1;32m    933\u001b[0m     command: Union[\u001b[38;5;28mstr\u001b[39m, List[\u001b[38;5;28mstr\u001b[39m]], verbose: \u001b[38;5;28mbool\u001b[39m \u001b[38;5;241m=\u001b[39m \u001b[38;5;28;01mFalse\u001b[39;00m, catch_STD: Union[\u001b[38;5;28mbool\u001b[39m, \u001b[38;5;28mstr\u001b[39m] \u001b[38;5;241m=\u001b[39m \u001b[38;5;28;01mFalse\u001b[39;00m, env: \u001b[38;5;28mdict\u001b[39m \u001b[38;5;241m=\u001b[39m \u001b[38;5;28;01mNone\u001b[39;00m\n\u001b[1;32m    934\u001b[0m ):\n\u001b[0;32m--> 935\u001b[0m     \u001b[38;5;28;01mreturn\u001b[39;00m \u001b[43mexecute_subprocess\u001b[49m\u001b[43m(\u001b[49m\u001b[43mcommand\u001b[49m\u001b[38;5;241;43m=\u001b[39;49m\u001b[43mcommand\u001b[49m\u001b[43m,\u001b[49m\u001b[43m \u001b[49m\u001b[43mverbose\u001b[49m\u001b[38;5;241;43m=\u001b[39;49m\u001b[43mverbose\u001b[49m\u001b[43m,\u001b[49m\u001b[43m \u001b[49m\u001b[43mcatch_STD\u001b[49m\u001b[38;5;241;43m=\u001b[39;49m\u001b[43mcatch_STD\u001b[49m\u001b[43m,\u001b[49m\u001b[43m \u001b[49m\u001b[43menv\u001b[49m\u001b[38;5;241;43m=\u001b[39;49m\u001b[43menv\u001b[49m\u001b[43m)\u001b[49m\n",
      "File \u001b[0;32m~/Documents/projects/PyGromosTools/pygromos/utils/bash.py:829\u001b[0m, in \u001b[0;36mexecute_subprocess\u001b[0;34m(command, catch_STD, env, verbose)\u001b[0m\n\u001b[1;32m    828\u001b[0m     msg \u001b[38;5;241m+\u001b[39m\u001b[38;5;241m=\u001b[39m \u001b[38;5;124m\"\u001b[39m\u001b[38;5;124mNONE\u001b[39m\u001b[38;5;124m\"\u001b[39m \u001b[38;5;28;01mif\u001b[39;00m (p\u001b[38;5;241m.\u001b[39mstdout \u001b[38;5;129;01mis\u001b[39;00m \u001b[38;5;28;01mNone\u001b[39;00m) \u001b[38;5;28;01melse\u001b[39;00m \u001b[38;5;124m\"\u001b[39m\u001b[38;5;130;01m\\n\u001b[39;00m\u001b[38;5;130;01m\\t\u001b[39;00m\u001b[38;5;124m\"\u001b[39m\u001b[38;5;241m.\u001b[39mjoin(\u001b[38;5;28mmap\u001b[39m(\u001b[38;5;28mstr\u001b[39m, p\u001b[38;5;241m.\u001b[39mstderr\u001b[38;5;241m.\u001b[39mreadlines()))\n\u001b[0;32m--> 829\u001b[0m     \u001b[38;5;28;01mraise\u001b[39;00m \u001b[38;5;167;01mChildProcessError\u001b[39;00m(msg)\n\u001b[1;32m    830\u001b[0m \u001b[38;5;28;01mif\u001b[39;00m verbose:\n",
      "\u001b[0;31mChildProcessError\u001b[0m: SubProcess Failed due to returncode: 127\n COMMAND: \n\tbjobs -w\nSTDOUT:\n\t\nSTDERR:\n\tb'/bin/sh: 1: bjobs: not found\\n'",
      "\nDuring handling of the above exception, another exception occurred:\n",
      "\u001b[0;31mException\u001b[0m                                 Traceback (most recent call last)",
      "Input \u001b[0;32mIn [8]\u001b[0m, in \u001b[0;36m<cell line: 2>\u001b[0;34m()\u001b[0m\n\u001b[1;32m      1\u001b[0m \u001b[38;5;66;03m#search for the just submitted job in the queue\u001b[39;00m\n\u001b[0;32m----> 2\u001b[0m \u001b[43msub_lsf\u001b[49m\u001b[38;5;241;43m.\u001b[39;49m\u001b[43msearch_queue_for_jobid\u001b[49m\u001b[43m(\u001b[49m\u001b[43mjob_id\u001b[49m\u001b[43m)\u001b[49m\n",
      "File \u001b[0;32m~/Documents/projects/PyGromosTools/pygromos/simulations/hpc_queuing/submission_systems/lsf.py:359\u001b[0m, in \u001b[0;36mLSF.search_queue_for_jobid\u001b[0;34m(self, job_id)\u001b[0m\n\u001b[1;32m    358\u001b[0m \u001b[38;5;28;01mdef\u001b[39;00m \u001b[38;5;21msearch_queue_for_jobid\u001b[39m(\u001b[38;5;28mself\u001b[39m, job_id: \u001b[38;5;28mint\u001b[39m) \u001b[38;5;241m-\u001b[39m\u001b[38;5;241m>\u001b[39m pd\u001b[38;5;241m.\u001b[39mDataFrame:\n\u001b[0;32m--> 359\u001b[0m     \u001b[38;5;28;43mself\u001b[39;49m\u001b[38;5;241;43m.\u001b[39;49m\u001b[43mget_queued_jobs\u001b[49m\u001b[43m(\u001b[49m\u001b[43m)\u001b[49m\n\u001b[1;32m    360\u001b[0m     \u001b[38;5;28;01mreturn\u001b[39;00m \u001b[38;5;28mself\u001b[39m\u001b[38;5;241m.\u001b[39m_job_queue_list\u001b[38;5;241m.\u001b[39mwhere(\u001b[38;5;28mself\u001b[39m\u001b[38;5;241m.\u001b[39m_job_queue_list\u001b[38;5;241m.\u001b[39mJOBID \u001b[38;5;241m==\u001b[39m job_id)\u001b[38;5;241m.\u001b[39mdropna()\n",
      "File \u001b[0;32m~/Documents/projects/PyGromosTools/pygromos/simulations/hpc_queuing/submission_systems/lsf.py:319\u001b[0m, in \u001b[0;36mLSF.get_queued_jobs\u001b[0;34m(self)\u001b[0m\n\u001b[1;32m    317\u001b[0m         \u001b[38;5;28mself\u001b[39m\u001b[38;5;241m.\u001b[39m_job_queue_time_stamp \u001b[38;5;241m=\u001b[39m datetime\u001b[38;5;241m.\u001b[39mnow()\n\u001b[1;32m    318\u001b[0m     \u001b[38;5;28;01mexcept\u001b[39;00m \u001b[38;5;167;01mException\u001b[39;00m \u001b[38;5;28;01mas\u001b[39;00m err:\n\u001b[0;32m--> 319\u001b[0m         \u001b[38;5;28;01mraise\u001b[39;00m \u001b[38;5;167;01mException\u001b[39;00m(\u001b[38;5;124m\"\u001b[39m\u001b[38;5;124mCould not get job_list!\u001b[39m\u001b[38;5;130;01m\\n\u001b[39;00m\u001b[38;5;124merr:\u001b[39m\u001b[38;5;130;01m\\n\u001b[39;00m\u001b[38;5;124m\"\u001b[39m \u001b[38;5;241m+\u001b[39m \u001b[38;5;124m\"\u001b[39m\u001b[38;5;130;01m\\n\u001b[39;00m\u001b[38;5;124m\"\u001b[39m\u001b[38;5;241m.\u001b[39mjoin(err\u001b[38;5;241m.\u001b[39margs))\n\u001b[1;32m    320\u001b[0m \u001b[38;5;28;01melse\u001b[39;00m:\n\u001b[1;32m    321\u001b[0m     job_list_str \u001b[38;5;241m=\u001b[39m []\n",
      "\u001b[0;31mException\u001b[0m: Could not get job_list!\nerr:\nSubProcess Failed due to returncode: 127\n COMMAND: \n\tbjobs -w\nSTDOUT:\n\t\nSTDERR:\n\tb'/bin/sh: 1: bjobs: not found\\n'"
     ]
    }
   ],
   "source": [
    "#search for the just submitted job in the queue\n",
    "sub_lsf.search_queue_for_jobid(job_id)"
   ]
  },
  {
   "cell_type": "code",
   "execution_count": 9,
   "metadata": {
    "execution": {
     "iopub.execute_input": "2022-04-01T07:58:45.026219Z",
     "iopub.status.busy": "2022-04-01T07:58:45.025370Z",
     "iopub.status.idle": "2022-04-01T07:58:45.334295Z",
     "shell.execute_reply": "2022-04-01T07:58:45.333087Z"
    }
   },
   "outputs": [
    {
     "ename": "Exception",
     "evalue": "Could not get job_list!\nerr:\nSubProcess Failed due to returncode: 127\n COMMAND: \n\tbjobs -w\nSTDOUT:\n\t\nSTDERR:\n\tb'/bin/sh: 1: bjobs: not found\\n'",
     "output_type": "error",
     "traceback": [
      "\u001b[0;31m---------------------------------------------------------------------------\u001b[0m",
      "\u001b[0;31mChildProcessError\u001b[0m                         Traceback (most recent call last)",
      "File \u001b[0;32m~/Documents/projects/PyGromosTools/pygromos/simulations/hpc_queuing/submission_systems/lsf.py:308\u001b[0m, in \u001b[0;36mLSF.get_queued_jobs\u001b[0;34m(self)\u001b[0m\n\u001b[1;32m    307\u001b[0m \u001b[38;5;28;01melse\u001b[39;00m:\n\u001b[0;32m--> 308\u001b[0m     out_process \u001b[38;5;241m=\u001b[39m \u001b[43mbash\u001b[49m\u001b[38;5;241;43m.\u001b[39;49m\u001b[43mexecute\u001b[49m\u001b[43m(\u001b[49m\u001b[38;5;124;43m\"\u001b[39;49m\u001b[38;5;124;43mbjobs -w\u001b[39;49m\u001b[38;5;124;43m\"\u001b[39;49m\u001b[43m,\u001b[49m\u001b[43m \u001b[49m\u001b[43mcatch_STD\u001b[49m\u001b[38;5;241;43m=\u001b[39;49m\u001b[38;5;28;43;01mTrue\u001b[39;49;00m\u001b[43m)\u001b[49m\n\u001b[1;32m    309\u001b[0m job_list_str \u001b[38;5;241m=\u001b[39m \u001b[38;5;28mlist\u001b[39m(\u001b[38;5;28mmap\u001b[39m(\u001b[38;5;28;01mlambda\u001b[39;00m x: x\u001b[38;5;241m.\u001b[39mdecode(\u001b[38;5;124m\"\u001b[39m\u001b[38;5;124mutf-8\u001b[39m\u001b[38;5;124m\"\u001b[39m), out_process\u001b[38;5;241m.\u001b[39mstdout\u001b[38;5;241m.\u001b[39mreadlines()))\n",
      "File \u001b[0;32m~/Documents/projects/PyGromosTools/pygromos/utils/bash.py:935\u001b[0m, in \u001b[0;36mexecute\u001b[0;34m(command, verbose, catch_STD, env)\u001b[0m\n\u001b[1;32m    932\u001b[0m \u001b[38;5;28;01mdef\u001b[39;00m \u001b[38;5;21mexecute\u001b[39m(\n\u001b[1;32m    933\u001b[0m     command: Union[\u001b[38;5;28mstr\u001b[39m, List[\u001b[38;5;28mstr\u001b[39m]], verbose: \u001b[38;5;28mbool\u001b[39m \u001b[38;5;241m=\u001b[39m \u001b[38;5;28;01mFalse\u001b[39;00m, catch_STD: Union[\u001b[38;5;28mbool\u001b[39m, \u001b[38;5;28mstr\u001b[39m] \u001b[38;5;241m=\u001b[39m \u001b[38;5;28;01mFalse\u001b[39;00m, env: \u001b[38;5;28mdict\u001b[39m \u001b[38;5;241m=\u001b[39m \u001b[38;5;28;01mNone\u001b[39;00m\n\u001b[1;32m    934\u001b[0m ):\n\u001b[0;32m--> 935\u001b[0m     \u001b[38;5;28;01mreturn\u001b[39;00m \u001b[43mexecute_subprocess\u001b[49m\u001b[43m(\u001b[49m\u001b[43mcommand\u001b[49m\u001b[38;5;241;43m=\u001b[39;49m\u001b[43mcommand\u001b[49m\u001b[43m,\u001b[49m\u001b[43m \u001b[49m\u001b[43mverbose\u001b[49m\u001b[38;5;241;43m=\u001b[39;49m\u001b[43mverbose\u001b[49m\u001b[43m,\u001b[49m\u001b[43m \u001b[49m\u001b[43mcatch_STD\u001b[49m\u001b[38;5;241;43m=\u001b[39;49m\u001b[43mcatch_STD\u001b[49m\u001b[43m,\u001b[49m\u001b[43m \u001b[49m\u001b[43menv\u001b[49m\u001b[38;5;241;43m=\u001b[39;49m\u001b[43menv\u001b[49m\u001b[43m)\u001b[49m\n",
      "File \u001b[0;32m~/Documents/projects/PyGromosTools/pygromos/utils/bash.py:829\u001b[0m, in \u001b[0;36mexecute_subprocess\u001b[0;34m(command, catch_STD, env, verbose)\u001b[0m\n\u001b[1;32m    828\u001b[0m     msg \u001b[38;5;241m+\u001b[39m\u001b[38;5;241m=\u001b[39m \u001b[38;5;124m\"\u001b[39m\u001b[38;5;124mNONE\u001b[39m\u001b[38;5;124m\"\u001b[39m \u001b[38;5;28;01mif\u001b[39;00m (p\u001b[38;5;241m.\u001b[39mstdout \u001b[38;5;129;01mis\u001b[39;00m \u001b[38;5;28;01mNone\u001b[39;00m) \u001b[38;5;28;01melse\u001b[39;00m \u001b[38;5;124m\"\u001b[39m\u001b[38;5;130;01m\\n\u001b[39;00m\u001b[38;5;130;01m\\t\u001b[39;00m\u001b[38;5;124m\"\u001b[39m\u001b[38;5;241m.\u001b[39mjoin(\u001b[38;5;28mmap\u001b[39m(\u001b[38;5;28mstr\u001b[39m, p\u001b[38;5;241m.\u001b[39mstderr\u001b[38;5;241m.\u001b[39mreadlines()))\n\u001b[0;32m--> 829\u001b[0m     \u001b[38;5;28;01mraise\u001b[39;00m \u001b[38;5;167;01mChildProcessError\u001b[39;00m(msg)\n\u001b[1;32m    830\u001b[0m \u001b[38;5;28;01mif\u001b[39;00m verbose:\n",
      "\u001b[0;31mChildProcessError\u001b[0m: SubProcess Failed due to returncode: 127\n COMMAND: \n\tbjobs -w\nSTDOUT:\n\t\nSTDERR:\n\tb'/bin/sh: 1: bjobs: not found\\n'",
      "\nDuring handling of the above exception, another exception occurred:\n",
      "\u001b[0;31mException\u001b[0m                                 Traceback (most recent call last)",
      "Input \u001b[0;32mIn [9]\u001b[0m, in \u001b[0;36m<cell line: 1>\u001b[0;34m()\u001b[0m\n\u001b[0;32m----> 1\u001b[0m \u001b[43msub_lsf\u001b[49m\u001b[38;5;241;43m.\u001b[39;49m\u001b[43msearch_queue_for_jobname\u001b[49m\u001b[43m(\u001b[49m\u001b[38;5;124;43m\"\u001b[39;49m\u001b[38;5;124;43mTest1\u001b[39;49m\u001b[38;5;124;43m\"\u001b[39;49m\u001b[43m)\u001b[49m\n",
      "File \u001b[0;32m~/Documents/projects/PyGromosTools/pygromos/simulations/hpc_queuing/submission_systems/lsf.py:378\u001b[0m, in \u001b[0;36mLSF.search_queue_for_jobname\u001b[0;34m(self, job_name, regex)\u001b[0m\n\u001b[1;32m    362\u001b[0m \u001b[38;5;28;01mdef\u001b[39;00m \u001b[38;5;21msearch_queue_for_jobname\u001b[39m(\u001b[38;5;28mself\u001b[39m, job_name: \u001b[38;5;28mstr\u001b[39m, regex: \u001b[38;5;28mbool\u001b[39m \u001b[38;5;241m=\u001b[39m \u001b[38;5;28;01mFalse\u001b[39;00m) \u001b[38;5;241m-\u001b[39m\u001b[38;5;241m>\u001b[39m pd\u001b[38;5;241m.\u001b[39mDataFrame:\n\u001b[1;32m    363\u001b[0m     \u001b[38;5;124;03m\"\"\"search_queue_for_jobname\u001b[39;00m\n\u001b[1;32m    364\u001b[0m \n\u001b[1;32m    365\u001b[0m \u001b[38;5;124;03m        this jobs searches the job queue for a certain job name.\u001b[39;00m\n\u001b[0;32m   (...)\u001b[0m\n\u001b[1;32m    375\u001b[0m \u001b[38;5;124;03m        the output of the queue containing the jobname\u001b[39;00m\n\u001b[1;32m    376\u001b[0m \u001b[38;5;124;03m    \"\"\"\u001b[39;00m\n\u001b[0;32m--> 378\u001b[0m     \u001b[38;5;28;43mself\u001b[39;49m\u001b[38;5;241;43m.\u001b[39;49m\u001b[43mget_queued_jobs\u001b[49m\u001b[43m(\u001b[49m\u001b[43m)\u001b[49m\n\u001b[1;32m    379\u001b[0m     \u001b[38;5;28;01mif\u001b[39;00m regex:\n\u001b[1;32m    380\u001b[0m         \u001b[38;5;28;01mreturn\u001b[39;00m \u001b[38;5;28mself\u001b[39m\u001b[38;5;241m.\u001b[39m_job_queue_list\u001b[38;5;241m.\u001b[39mwhere(\u001b[38;5;28mself\u001b[39m\u001b[38;5;241m.\u001b[39m_job_queue_list\u001b[38;5;241m.\u001b[39mJOB_NAME\u001b[38;5;241m.\u001b[39mstr\u001b[38;5;241m.\u001b[39mmatch(job_name))\u001b[38;5;241m.\u001b[39mdropna()\n",
      "File \u001b[0;32m~/Documents/projects/PyGromosTools/pygromos/simulations/hpc_queuing/submission_systems/lsf.py:319\u001b[0m, in \u001b[0;36mLSF.get_queued_jobs\u001b[0;34m(self)\u001b[0m\n\u001b[1;32m    317\u001b[0m         \u001b[38;5;28mself\u001b[39m\u001b[38;5;241m.\u001b[39m_job_queue_time_stamp \u001b[38;5;241m=\u001b[39m datetime\u001b[38;5;241m.\u001b[39mnow()\n\u001b[1;32m    318\u001b[0m     \u001b[38;5;28;01mexcept\u001b[39;00m \u001b[38;5;167;01mException\u001b[39;00m \u001b[38;5;28;01mas\u001b[39;00m err:\n\u001b[0;32m--> 319\u001b[0m         \u001b[38;5;28;01mraise\u001b[39;00m \u001b[38;5;167;01mException\u001b[39;00m(\u001b[38;5;124m\"\u001b[39m\u001b[38;5;124mCould not get job_list!\u001b[39m\u001b[38;5;130;01m\\n\u001b[39;00m\u001b[38;5;124merr:\u001b[39m\u001b[38;5;130;01m\\n\u001b[39;00m\u001b[38;5;124m\"\u001b[39m \u001b[38;5;241m+\u001b[39m \u001b[38;5;124m\"\u001b[39m\u001b[38;5;130;01m\\n\u001b[39;00m\u001b[38;5;124m\"\u001b[39m\u001b[38;5;241m.\u001b[39mjoin(err\u001b[38;5;241m.\u001b[39margs))\n\u001b[1;32m    320\u001b[0m \u001b[38;5;28;01melse\u001b[39;00m:\n\u001b[1;32m    321\u001b[0m     job_list_str \u001b[38;5;241m=\u001b[39m []\n",
      "\u001b[0;31mException\u001b[0m: Could not get job_list!\nerr:\nSubProcess Failed due to returncode: 127\n COMMAND: \n\tbjobs -w\nSTDOUT:\n\t\nSTDERR:\n\tb'/bin/sh: 1: bjobs: not found\\n'"
     ]
    }
   ],
   "source": [
    "sub_lsf.search_queue_for_jobname(\"Test1\")"
   ]
  },
  {
   "cell_type": "markdown",
   "metadata": {},
   "source": [
    "### Submitting multiple jobs"
   ]
  },
  {
   "cell_type": "code",
   "execution_count": 10,
   "metadata": {
    "execution": {
     "iopub.execute_input": "2022-04-01T07:58:45.342609Z",
     "iopub.status.busy": "2022-04-01T07:58:45.342010Z",
     "iopub.status.idle": "2022-04-01T07:58:45.837262Z",
     "shell.execute_reply": "2022-04-01T07:58:45.834376Z"
    }
   },
   "outputs": [
    {
     "name": "stdout",
     "output_type": "stream",
     "text": [
      "check queue\n"
     ]
    },
    {
     "ename": "Exception",
     "evalue": "Could not get job_list!\nerr:\nSubProcess Failed due to returncode: 127\n COMMAND: \n\tbjobs -w\nSTDOUT:\n\t\nSTDERR:\n\tb'/bin/sh: 1: bjobs: not found\\n'",
     "output_type": "error",
     "traceback": [
      "\u001b[0;31m---------------------------------------------------------------------------\u001b[0m",
      "\u001b[0;31mChildProcessError\u001b[0m                         Traceback (most recent call last)",
      "File \u001b[0;32m~/Documents/projects/PyGromosTools/pygromos/simulations/hpc_queuing/submission_systems/lsf.py:308\u001b[0m, in \u001b[0;36mLSF.get_queued_jobs\u001b[0;34m(self)\u001b[0m\n\u001b[1;32m    307\u001b[0m \u001b[38;5;28;01melse\u001b[39;00m:\n\u001b[0;32m--> 308\u001b[0m     out_process \u001b[38;5;241m=\u001b[39m \u001b[43mbash\u001b[49m\u001b[38;5;241;43m.\u001b[39;49m\u001b[43mexecute\u001b[49m\u001b[43m(\u001b[49m\u001b[38;5;124;43m\"\u001b[39;49m\u001b[38;5;124;43mbjobs -w\u001b[39;49m\u001b[38;5;124;43m\"\u001b[39;49m\u001b[43m,\u001b[49m\u001b[43m \u001b[49m\u001b[43mcatch_STD\u001b[49m\u001b[38;5;241;43m=\u001b[39;49m\u001b[38;5;28;43;01mTrue\u001b[39;49;00m\u001b[43m)\u001b[49m\n\u001b[1;32m    309\u001b[0m job_list_str \u001b[38;5;241m=\u001b[39m \u001b[38;5;28mlist\u001b[39m(\u001b[38;5;28mmap\u001b[39m(\u001b[38;5;28;01mlambda\u001b[39;00m x: x\u001b[38;5;241m.\u001b[39mdecode(\u001b[38;5;124m\"\u001b[39m\u001b[38;5;124mutf-8\u001b[39m\u001b[38;5;124m\"\u001b[39m), out_process\u001b[38;5;241m.\u001b[39mstdout\u001b[38;5;241m.\u001b[39mreadlines()))\n",
      "File \u001b[0;32m~/Documents/projects/PyGromosTools/pygromos/utils/bash.py:935\u001b[0m, in \u001b[0;36mexecute\u001b[0;34m(command, verbose, catch_STD, env)\u001b[0m\n\u001b[1;32m    932\u001b[0m \u001b[38;5;28;01mdef\u001b[39;00m \u001b[38;5;21mexecute\u001b[39m(\n\u001b[1;32m    933\u001b[0m     command: Union[\u001b[38;5;28mstr\u001b[39m, List[\u001b[38;5;28mstr\u001b[39m]], verbose: \u001b[38;5;28mbool\u001b[39m \u001b[38;5;241m=\u001b[39m \u001b[38;5;28;01mFalse\u001b[39;00m, catch_STD: Union[\u001b[38;5;28mbool\u001b[39m, \u001b[38;5;28mstr\u001b[39m] \u001b[38;5;241m=\u001b[39m \u001b[38;5;28;01mFalse\u001b[39;00m, env: \u001b[38;5;28mdict\u001b[39m \u001b[38;5;241m=\u001b[39m \u001b[38;5;28;01mNone\u001b[39;00m\n\u001b[1;32m    934\u001b[0m ):\n\u001b[0;32m--> 935\u001b[0m     \u001b[38;5;28;01mreturn\u001b[39;00m \u001b[43mexecute_subprocess\u001b[49m\u001b[43m(\u001b[49m\u001b[43mcommand\u001b[49m\u001b[38;5;241;43m=\u001b[39;49m\u001b[43mcommand\u001b[49m\u001b[43m,\u001b[49m\u001b[43m \u001b[49m\u001b[43mverbose\u001b[49m\u001b[38;5;241;43m=\u001b[39;49m\u001b[43mverbose\u001b[49m\u001b[43m,\u001b[49m\u001b[43m \u001b[49m\u001b[43mcatch_STD\u001b[49m\u001b[38;5;241;43m=\u001b[39;49m\u001b[43mcatch_STD\u001b[49m\u001b[43m,\u001b[49m\u001b[43m \u001b[49m\u001b[43menv\u001b[49m\u001b[38;5;241;43m=\u001b[39;49m\u001b[43menv\u001b[49m\u001b[43m)\u001b[49m\n",
      "File \u001b[0;32m~/Documents/projects/PyGromosTools/pygromos/utils/bash.py:829\u001b[0m, in \u001b[0;36mexecute_subprocess\u001b[0;34m(command, catch_STD, env, verbose)\u001b[0m\n\u001b[1;32m    828\u001b[0m     msg \u001b[38;5;241m+\u001b[39m\u001b[38;5;241m=\u001b[39m \u001b[38;5;124m\"\u001b[39m\u001b[38;5;124mNONE\u001b[39m\u001b[38;5;124m\"\u001b[39m \u001b[38;5;28;01mif\u001b[39;00m (p\u001b[38;5;241m.\u001b[39mstdout \u001b[38;5;129;01mis\u001b[39;00m \u001b[38;5;28;01mNone\u001b[39;00m) \u001b[38;5;28;01melse\u001b[39;00m \u001b[38;5;124m\"\u001b[39m\u001b[38;5;130;01m\\n\u001b[39;00m\u001b[38;5;130;01m\\t\u001b[39;00m\u001b[38;5;124m\"\u001b[39m\u001b[38;5;241m.\u001b[39mjoin(\u001b[38;5;28mmap\u001b[39m(\u001b[38;5;28mstr\u001b[39m, p\u001b[38;5;241m.\u001b[39mstderr\u001b[38;5;241m.\u001b[39mreadlines()))\n\u001b[0;32m--> 829\u001b[0m     \u001b[38;5;28;01mraise\u001b[39;00m \u001b[38;5;167;01mChildProcessError\u001b[39;00m(msg)\n\u001b[1;32m    830\u001b[0m \u001b[38;5;28;01mif\u001b[39;00m verbose:\n",
      "\u001b[0;31mChildProcessError\u001b[0m: SubProcess Failed due to returncode: 127\n COMMAND: \n\tbjobs -w\nSTDOUT:\n\t\nSTDERR:\n\tb'/bin/sh: 1: bjobs: not found\\n'",
      "\nDuring handling of the above exception, another exception occurred:\n",
      "\u001b[0;31mException\u001b[0m                                 Traceback (most recent call last)",
      "Input \u001b[0;32mIn [10]\u001b[0m, in \u001b[0;36m<cell line: 3>\u001b[0;34m()\u001b[0m\n\u001b[1;32m      3\u001b[0m \u001b[38;5;28;01mfor\u001b[39;00m test \u001b[38;5;129;01min\u001b[39;00m \u001b[38;5;28mrange\u001b[39m(\u001b[38;5;241m3\u001b[39m):\n\u001b[1;32m      4\u001b[0m     job_name \u001b[38;5;241m=\u001b[39m \u001b[38;5;124m\"\u001b[39m\u001b[38;5;124mTest\u001b[39m\u001b[38;5;124m\"\u001b[39m\u001b[38;5;241m+\u001b[39m\u001b[38;5;28mstr\u001b[39m(test)\n\u001b[0;32m----> 6\u001b[0m     job_id \u001b[38;5;241m=\u001b[39m \u001b[43msub_lsf\u001b[49m\u001b[38;5;241;43m.\u001b[39;49m\u001b[43msubmit_to_queue\u001b[49m\u001b[43m(\u001b[49m\u001b[43mSubmission_job\u001b[49m\u001b[43m(\u001b[49m\u001b[43mbash_command\u001b[49m\u001b[43m,\u001b[49m\u001b[43m \u001b[49m\u001b[43mjob_name\u001b[49m\u001b[43m)\u001b[49m\u001b[43m)\u001b[49m\n\u001b[1;32m      7\u001b[0m     job_ids\u001b[38;5;241m.\u001b[39mappend(job_id)\n",
      "File \u001b[0;32m~/Documents/projects/PyGromosTools/pygromos/simulations/hpc_queuing/submission_systems/lsf.py:76\u001b[0m, in \u001b[0;36mLSF.submit_to_queue\u001b[0;34m(self, sub_job)\u001b[0m\n\u001b[1;32m     74\u001b[0m \u001b[38;5;28;01mif\u001b[39;00m \u001b[38;5;28mself\u001b[39m\u001b[38;5;241m.\u001b[39mverbose:\n\u001b[1;32m     75\u001b[0m     \u001b[38;5;28mprint\u001b[39m(\u001b[38;5;124m\"\u001b[39m\u001b[38;5;124mcheck queue\u001b[39m\u001b[38;5;124m\"\u001b[39m)\n\u001b[0;32m---> 76\u001b[0m ids \u001b[38;5;241m=\u001b[39m \u001b[38;5;28mlist\u001b[39m(\u001b[38;5;28;43mself\u001b[39;49m\u001b[38;5;241;43m.\u001b[39;49m\u001b[43msearch_queue_for_jobname\u001b[49m\u001b[43m(\u001b[49m\u001b[43msub_job\u001b[49m\u001b[38;5;241;43m.\u001b[39;49m\u001b[43mjobName\u001b[49m\u001b[43m)\u001b[49m\u001b[38;5;241m.\u001b[39mindex)\n\u001b[1;32m     78\u001b[0m \u001b[38;5;28;01mif\u001b[39;00m \u001b[38;5;28mlen\u001b[39m(ids) \u001b[38;5;241m>\u001b[39m \u001b[38;5;241m0\u001b[39m:\n\u001b[1;32m     79\u001b[0m     \u001b[38;5;28;01mif\u001b[39;00m \u001b[38;5;28mself\u001b[39m\u001b[38;5;241m.\u001b[39mverbose:\n",
      "File \u001b[0;32m~/Documents/projects/PyGromosTools/pygromos/simulations/hpc_queuing/submission_systems/lsf.py:378\u001b[0m, in \u001b[0;36mLSF.search_queue_for_jobname\u001b[0;34m(self, job_name, regex)\u001b[0m\n\u001b[1;32m    362\u001b[0m \u001b[38;5;28;01mdef\u001b[39;00m \u001b[38;5;21msearch_queue_for_jobname\u001b[39m(\u001b[38;5;28mself\u001b[39m, job_name: \u001b[38;5;28mstr\u001b[39m, regex: \u001b[38;5;28mbool\u001b[39m \u001b[38;5;241m=\u001b[39m \u001b[38;5;28;01mFalse\u001b[39;00m) \u001b[38;5;241m-\u001b[39m\u001b[38;5;241m>\u001b[39m pd\u001b[38;5;241m.\u001b[39mDataFrame:\n\u001b[1;32m    363\u001b[0m     \u001b[38;5;124;03m\"\"\"search_queue_for_jobname\u001b[39;00m\n\u001b[1;32m    364\u001b[0m \n\u001b[1;32m    365\u001b[0m \u001b[38;5;124;03m        this jobs searches the job queue for a certain job name.\u001b[39;00m\n\u001b[0;32m   (...)\u001b[0m\n\u001b[1;32m    375\u001b[0m \u001b[38;5;124;03m        the output of the queue containing the jobname\u001b[39;00m\n\u001b[1;32m    376\u001b[0m \u001b[38;5;124;03m    \"\"\"\u001b[39;00m\n\u001b[0;32m--> 378\u001b[0m     \u001b[38;5;28;43mself\u001b[39;49m\u001b[38;5;241;43m.\u001b[39;49m\u001b[43mget_queued_jobs\u001b[49m\u001b[43m(\u001b[49m\u001b[43m)\u001b[49m\n\u001b[1;32m    379\u001b[0m     \u001b[38;5;28;01mif\u001b[39;00m regex:\n\u001b[1;32m    380\u001b[0m         \u001b[38;5;28;01mreturn\u001b[39;00m \u001b[38;5;28mself\u001b[39m\u001b[38;5;241m.\u001b[39m_job_queue_list\u001b[38;5;241m.\u001b[39mwhere(\u001b[38;5;28mself\u001b[39m\u001b[38;5;241m.\u001b[39m_job_queue_list\u001b[38;5;241m.\u001b[39mJOB_NAME\u001b[38;5;241m.\u001b[39mstr\u001b[38;5;241m.\u001b[39mmatch(job_name))\u001b[38;5;241m.\u001b[39mdropna()\n",
      "File \u001b[0;32m~/Documents/projects/PyGromosTools/pygromos/simulations/hpc_queuing/submission_systems/lsf.py:319\u001b[0m, in \u001b[0;36mLSF.get_queued_jobs\u001b[0;34m(self)\u001b[0m\n\u001b[1;32m    317\u001b[0m         \u001b[38;5;28mself\u001b[39m\u001b[38;5;241m.\u001b[39m_job_queue_time_stamp \u001b[38;5;241m=\u001b[39m datetime\u001b[38;5;241m.\u001b[39mnow()\n\u001b[1;32m    318\u001b[0m     \u001b[38;5;28;01mexcept\u001b[39;00m \u001b[38;5;167;01mException\u001b[39;00m \u001b[38;5;28;01mas\u001b[39;00m err:\n\u001b[0;32m--> 319\u001b[0m         \u001b[38;5;28;01mraise\u001b[39;00m \u001b[38;5;167;01mException\u001b[39;00m(\u001b[38;5;124m\"\u001b[39m\u001b[38;5;124mCould not get job_list!\u001b[39m\u001b[38;5;130;01m\\n\u001b[39;00m\u001b[38;5;124merr:\u001b[39m\u001b[38;5;130;01m\\n\u001b[39;00m\u001b[38;5;124m\"\u001b[39m \u001b[38;5;241m+\u001b[39m \u001b[38;5;124m\"\u001b[39m\u001b[38;5;130;01m\\n\u001b[39;00m\u001b[38;5;124m\"\u001b[39m\u001b[38;5;241m.\u001b[39mjoin(err\u001b[38;5;241m.\u001b[39margs))\n\u001b[1;32m    320\u001b[0m \u001b[38;5;28;01melse\u001b[39;00m:\n\u001b[1;32m    321\u001b[0m     job_list_str \u001b[38;5;241m=\u001b[39m []\n",
      "\u001b[0;31mException\u001b[0m: Could not get job_list!\nerr:\nSubProcess Failed due to returncode: 127\n COMMAND: \n\tbjobs -w\nSTDOUT:\n\t\nSTDERR:\n\tb'/bin/sh: 1: bjobs: not found\\n'"
     ]
    }
   ],
   "source": [
    "bash_command = \"sleep 2; echo \\\"WUHA\\\"; sleep 2\"\n",
    "job_ids = []\n",
    "for test in range(3):\n",
    "    job_name = \"Test\"+str(test)\n",
    "\n",
    "    job_id = sub_lsf.submit_to_queue(Submission_job(bash_command, job_name))\n",
    "    job_ids.append(job_id)"
   ]
  },
  {
   "cell_type": "code",
   "execution_count": 11,
   "metadata": {
    "execution": {
     "iopub.execute_input": "2022-04-01T07:58:45.843571Z",
     "iopub.status.busy": "2022-04-01T07:58:45.842748Z",
     "iopub.status.idle": "2022-04-01T07:58:46.208128Z",
     "shell.execute_reply": "2022-04-01T07:58:46.206788Z"
    }
   },
   "outputs": [
    {
     "ename": "Exception",
     "evalue": "Could not get job_list!\nerr:\nSubProcess Failed due to returncode: 127\n COMMAND: \n\tbjobs -w\nSTDOUT:\n\t\nSTDERR:\n\tb'/bin/sh: 1: bjobs: not found\\n'",
     "output_type": "error",
     "traceback": [
      "\u001b[0;31m---------------------------------------------------------------------------\u001b[0m",
      "\u001b[0;31mChildProcessError\u001b[0m                         Traceback (most recent call last)",
      "File \u001b[0;32m~/Documents/projects/PyGromosTools/pygromos/simulations/hpc_queuing/submission_systems/lsf.py:308\u001b[0m, in \u001b[0;36mLSF.get_queued_jobs\u001b[0;34m(self)\u001b[0m\n\u001b[1;32m    307\u001b[0m \u001b[38;5;28;01melse\u001b[39;00m:\n\u001b[0;32m--> 308\u001b[0m     out_process \u001b[38;5;241m=\u001b[39m \u001b[43mbash\u001b[49m\u001b[38;5;241;43m.\u001b[39;49m\u001b[43mexecute\u001b[49m\u001b[43m(\u001b[49m\u001b[38;5;124;43m\"\u001b[39;49m\u001b[38;5;124;43mbjobs -w\u001b[39;49m\u001b[38;5;124;43m\"\u001b[39;49m\u001b[43m,\u001b[49m\u001b[43m \u001b[49m\u001b[43mcatch_STD\u001b[49m\u001b[38;5;241;43m=\u001b[39;49m\u001b[38;5;28;43;01mTrue\u001b[39;49;00m\u001b[43m)\u001b[49m\n\u001b[1;32m    309\u001b[0m job_list_str \u001b[38;5;241m=\u001b[39m \u001b[38;5;28mlist\u001b[39m(\u001b[38;5;28mmap\u001b[39m(\u001b[38;5;28;01mlambda\u001b[39;00m x: x\u001b[38;5;241m.\u001b[39mdecode(\u001b[38;5;124m\"\u001b[39m\u001b[38;5;124mutf-8\u001b[39m\u001b[38;5;124m\"\u001b[39m), out_process\u001b[38;5;241m.\u001b[39mstdout\u001b[38;5;241m.\u001b[39mreadlines()))\n",
      "File \u001b[0;32m~/Documents/projects/PyGromosTools/pygromos/utils/bash.py:935\u001b[0m, in \u001b[0;36mexecute\u001b[0;34m(command, verbose, catch_STD, env)\u001b[0m\n\u001b[1;32m    932\u001b[0m \u001b[38;5;28;01mdef\u001b[39;00m \u001b[38;5;21mexecute\u001b[39m(\n\u001b[1;32m    933\u001b[0m     command: Union[\u001b[38;5;28mstr\u001b[39m, List[\u001b[38;5;28mstr\u001b[39m]], verbose: \u001b[38;5;28mbool\u001b[39m \u001b[38;5;241m=\u001b[39m \u001b[38;5;28;01mFalse\u001b[39;00m, catch_STD: Union[\u001b[38;5;28mbool\u001b[39m, \u001b[38;5;28mstr\u001b[39m] \u001b[38;5;241m=\u001b[39m \u001b[38;5;28;01mFalse\u001b[39;00m, env: \u001b[38;5;28mdict\u001b[39m \u001b[38;5;241m=\u001b[39m \u001b[38;5;28;01mNone\u001b[39;00m\n\u001b[1;32m    934\u001b[0m ):\n\u001b[0;32m--> 935\u001b[0m     \u001b[38;5;28;01mreturn\u001b[39;00m \u001b[43mexecute_subprocess\u001b[49m\u001b[43m(\u001b[49m\u001b[43mcommand\u001b[49m\u001b[38;5;241;43m=\u001b[39;49m\u001b[43mcommand\u001b[49m\u001b[43m,\u001b[49m\u001b[43m \u001b[49m\u001b[43mverbose\u001b[49m\u001b[38;5;241;43m=\u001b[39;49m\u001b[43mverbose\u001b[49m\u001b[43m,\u001b[49m\u001b[43m \u001b[49m\u001b[43mcatch_STD\u001b[49m\u001b[38;5;241;43m=\u001b[39;49m\u001b[43mcatch_STD\u001b[49m\u001b[43m,\u001b[49m\u001b[43m \u001b[49m\u001b[43menv\u001b[49m\u001b[38;5;241;43m=\u001b[39;49m\u001b[43menv\u001b[49m\u001b[43m)\u001b[49m\n",
      "File \u001b[0;32m~/Documents/projects/PyGromosTools/pygromos/utils/bash.py:829\u001b[0m, in \u001b[0;36mexecute_subprocess\u001b[0;34m(command, catch_STD, env, verbose)\u001b[0m\n\u001b[1;32m    828\u001b[0m     msg \u001b[38;5;241m+\u001b[39m\u001b[38;5;241m=\u001b[39m \u001b[38;5;124m\"\u001b[39m\u001b[38;5;124mNONE\u001b[39m\u001b[38;5;124m\"\u001b[39m \u001b[38;5;28;01mif\u001b[39;00m (p\u001b[38;5;241m.\u001b[39mstdout \u001b[38;5;129;01mis\u001b[39;00m \u001b[38;5;28;01mNone\u001b[39;00m) \u001b[38;5;28;01melse\u001b[39;00m \u001b[38;5;124m\"\u001b[39m\u001b[38;5;130;01m\\n\u001b[39;00m\u001b[38;5;130;01m\\t\u001b[39;00m\u001b[38;5;124m\"\u001b[39m\u001b[38;5;241m.\u001b[39mjoin(\u001b[38;5;28mmap\u001b[39m(\u001b[38;5;28mstr\u001b[39m, p\u001b[38;5;241m.\u001b[39mstderr\u001b[38;5;241m.\u001b[39mreadlines()))\n\u001b[0;32m--> 829\u001b[0m     \u001b[38;5;28;01mraise\u001b[39;00m \u001b[38;5;167;01mChildProcessError\u001b[39;00m(msg)\n\u001b[1;32m    830\u001b[0m \u001b[38;5;28;01mif\u001b[39;00m verbose:\n",
      "\u001b[0;31mChildProcessError\u001b[0m: SubProcess Failed due to returncode: 127\n COMMAND: \n\tbjobs -w\nSTDOUT:\n\t\nSTDERR:\n\tb'/bin/sh: 1: bjobs: not found\\n'",
      "\nDuring handling of the above exception, another exception occurred:\n",
      "\u001b[0;31mException\u001b[0m                                 Traceback (most recent call last)",
      "Input \u001b[0;32mIn [11]\u001b[0m, in \u001b[0;36m<cell line: 1>\u001b[0;34m()\u001b[0m\n\u001b[0;32m----> 1\u001b[0m \u001b[43msub_lsf\u001b[49m\u001b[38;5;241;43m.\u001b[39;49m\u001b[43msearch_queue_for_jobname\u001b[49m\u001b[43m(\u001b[49m\u001b[38;5;124;43m\"\u001b[39;49m\u001b[38;5;124;43mTe\u001b[39;49m\u001b[38;5;124;43m\"\u001b[39;49m\u001b[43m,\u001b[49m\u001b[43m \u001b[49m\u001b[43mregex\u001b[49m\u001b[38;5;241;43m=\u001b[39;49m\u001b[38;5;28;43;01mTrue\u001b[39;49;00m\u001b[43m)\u001b[49m\n",
      "File \u001b[0;32m~/Documents/projects/PyGromosTools/pygromos/simulations/hpc_queuing/submission_systems/lsf.py:378\u001b[0m, in \u001b[0;36mLSF.search_queue_for_jobname\u001b[0;34m(self, job_name, regex)\u001b[0m\n\u001b[1;32m    362\u001b[0m \u001b[38;5;28;01mdef\u001b[39;00m \u001b[38;5;21msearch_queue_for_jobname\u001b[39m(\u001b[38;5;28mself\u001b[39m, job_name: \u001b[38;5;28mstr\u001b[39m, regex: \u001b[38;5;28mbool\u001b[39m \u001b[38;5;241m=\u001b[39m \u001b[38;5;28;01mFalse\u001b[39;00m) \u001b[38;5;241m-\u001b[39m\u001b[38;5;241m>\u001b[39m pd\u001b[38;5;241m.\u001b[39mDataFrame:\n\u001b[1;32m    363\u001b[0m     \u001b[38;5;124;03m\"\"\"search_queue_for_jobname\u001b[39;00m\n\u001b[1;32m    364\u001b[0m \n\u001b[1;32m    365\u001b[0m \u001b[38;5;124;03m        this jobs searches the job queue for a certain job name.\u001b[39;00m\n\u001b[0;32m   (...)\u001b[0m\n\u001b[1;32m    375\u001b[0m \u001b[38;5;124;03m        the output of the queue containing the jobname\u001b[39;00m\n\u001b[1;32m    376\u001b[0m \u001b[38;5;124;03m    \"\"\"\u001b[39;00m\n\u001b[0;32m--> 378\u001b[0m     \u001b[38;5;28;43mself\u001b[39;49m\u001b[38;5;241;43m.\u001b[39;49m\u001b[43mget_queued_jobs\u001b[49m\u001b[43m(\u001b[49m\u001b[43m)\u001b[49m\n\u001b[1;32m    379\u001b[0m     \u001b[38;5;28;01mif\u001b[39;00m regex:\n\u001b[1;32m    380\u001b[0m         \u001b[38;5;28;01mreturn\u001b[39;00m \u001b[38;5;28mself\u001b[39m\u001b[38;5;241m.\u001b[39m_job_queue_list\u001b[38;5;241m.\u001b[39mwhere(\u001b[38;5;28mself\u001b[39m\u001b[38;5;241m.\u001b[39m_job_queue_list\u001b[38;5;241m.\u001b[39mJOB_NAME\u001b[38;5;241m.\u001b[39mstr\u001b[38;5;241m.\u001b[39mmatch(job_name))\u001b[38;5;241m.\u001b[39mdropna()\n",
      "File \u001b[0;32m~/Documents/projects/PyGromosTools/pygromos/simulations/hpc_queuing/submission_systems/lsf.py:319\u001b[0m, in \u001b[0;36mLSF.get_queued_jobs\u001b[0;34m(self)\u001b[0m\n\u001b[1;32m    317\u001b[0m         \u001b[38;5;28mself\u001b[39m\u001b[38;5;241m.\u001b[39m_job_queue_time_stamp \u001b[38;5;241m=\u001b[39m datetime\u001b[38;5;241m.\u001b[39mnow()\n\u001b[1;32m    318\u001b[0m     \u001b[38;5;28;01mexcept\u001b[39;00m \u001b[38;5;167;01mException\u001b[39;00m \u001b[38;5;28;01mas\u001b[39;00m err:\n\u001b[0;32m--> 319\u001b[0m         \u001b[38;5;28;01mraise\u001b[39;00m \u001b[38;5;167;01mException\u001b[39;00m(\u001b[38;5;124m\"\u001b[39m\u001b[38;5;124mCould not get job_list!\u001b[39m\u001b[38;5;130;01m\\n\u001b[39;00m\u001b[38;5;124merr:\u001b[39m\u001b[38;5;130;01m\\n\u001b[39;00m\u001b[38;5;124m\"\u001b[39m \u001b[38;5;241m+\u001b[39m \u001b[38;5;124m\"\u001b[39m\u001b[38;5;130;01m\\n\u001b[39;00m\u001b[38;5;124m\"\u001b[39m\u001b[38;5;241m.\u001b[39mjoin(err\u001b[38;5;241m.\u001b[39margs))\n\u001b[1;32m    320\u001b[0m \u001b[38;5;28;01melse\u001b[39;00m:\n\u001b[1;32m    321\u001b[0m     job_list_str \u001b[38;5;241m=\u001b[39m []\n",
      "\u001b[0;31mException\u001b[0m: Could not get job_list!\nerr:\nSubProcess Failed due to returncode: 127\n COMMAND: \n\tbjobs -w\nSTDOUT:\n\t\nSTDERR:\n\tb'/bin/sh: 1: bjobs: not found\\n'"
     ]
    }
   ],
   "source": [
    "sub_lsf.search_queue_for_jobname(\"Te\", regex=True)"
   ]
  },
  {
   "cell_type": "markdown",
   "metadata": {},
   "source": [
    "### Killing a jobs\n",
    "\n",
    "Remove a job the job queue"
   ]
  },
  {
   "cell_type": "code",
   "execution_count": 12,
   "metadata": {
    "execution": {
     "iopub.execute_input": "2022-04-01T07:58:46.212482Z",
     "iopub.status.busy": "2022-04-01T07:58:46.211669Z",
     "iopub.status.idle": "2022-04-01T07:58:46.528579Z",
     "shell.execute_reply": "2022-04-01T07:58:46.527377Z"
    }
   },
   "outputs": [
    {
     "name": "stdout",
     "output_type": "stream",
     "text": [
      "Stopping: 0\n"
     ]
    },
    {
     "ename": "ChildProcessError",
     "evalue": "could not execute this command: \n(\"SubProcess Failed due to returncode: 127\\n COMMAND: \\n\\tbkill 0\\nSTDOUT:\\n\\t\\nSTDERR:\\n\\tb'/bin/sh: 1: bkill: not found\\\\n'\",)",
     "output_type": "error",
     "traceback": [
      "\u001b[0;31m---------------------------------------------------------------------------\u001b[0m",
      "\u001b[0;31mChildProcessError\u001b[0m                         Traceback (most recent call last)",
      "File \u001b[0;32m~/Documents/projects/PyGromosTools/pygromos/simulations/hpc_queuing/submission_systems/lsf.py:413\u001b[0m, in \u001b[0;36mLSF.kill_jobs\u001b[0;34m(self, job_name, regex, job_ids)\u001b[0m\n\u001b[1;32m    412\u001b[0m \u001b[38;5;28;01mtry\u001b[39;00m:\n\u001b[0;32m--> 413\u001b[0m     \u001b[43mbash\u001b[49m\u001b[38;5;241;43m.\u001b[39;49m\u001b[43mexecute\u001b[49m\u001b[43m(\u001b[49m\u001b[38;5;124;43m\"\u001b[39;49m\u001b[38;5;124;43mbkill \u001b[39;49m\u001b[38;5;124;43m\"\u001b[39;49m\u001b[43m \u001b[49m\u001b[38;5;241;43m+\u001b[39;49m\u001b[43m \u001b[49m\u001b[38;5;124;43m\"\u001b[39;49m\u001b[38;5;124;43m \u001b[39;49m\u001b[38;5;124;43m\"\u001b[39;49m\u001b[38;5;241;43m.\u001b[39;49m\u001b[43mjoin\u001b[49m\u001b[43m(\u001b[49m\u001b[38;5;28;43mmap\u001b[39;49m\u001b[43m(\u001b[49m\u001b[38;5;28;43mstr\u001b[39;49m\u001b[43m,\u001b[49m\u001b[43m \u001b[49m\u001b[43mjob_ids\u001b[49m\u001b[43m)\u001b[49m\u001b[43m)\u001b[49m\u001b[43m)\u001b[49m\n\u001b[1;32m    414\u001b[0m \u001b[38;5;28;01mexcept\u001b[39;00m \u001b[38;5;167;01mException\u001b[39;00m \u001b[38;5;28;01mas\u001b[39;00m err:\n",
      "File \u001b[0;32m~/Documents/projects/PyGromosTools/pygromos/utils/bash.py:935\u001b[0m, in \u001b[0;36mexecute\u001b[0;34m(command, verbose, catch_STD, env)\u001b[0m\n\u001b[1;32m    932\u001b[0m \u001b[38;5;28;01mdef\u001b[39;00m \u001b[38;5;21mexecute\u001b[39m(\n\u001b[1;32m    933\u001b[0m     command: Union[\u001b[38;5;28mstr\u001b[39m, List[\u001b[38;5;28mstr\u001b[39m]], verbose: \u001b[38;5;28mbool\u001b[39m \u001b[38;5;241m=\u001b[39m \u001b[38;5;28;01mFalse\u001b[39;00m, catch_STD: Union[\u001b[38;5;28mbool\u001b[39m, \u001b[38;5;28mstr\u001b[39m] \u001b[38;5;241m=\u001b[39m \u001b[38;5;28;01mFalse\u001b[39;00m, env: \u001b[38;5;28mdict\u001b[39m \u001b[38;5;241m=\u001b[39m \u001b[38;5;28;01mNone\u001b[39;00m\n\u001b[1;32m    934\u001b[0m ):\n\u001b[0;32m--> 935\u001b[0m     \u001b[38;5;28;01mreturn\u001b[39;00m \u001b[43mexecute_subprocess\u001b[49m\u001b[43m(\u001b[49m\u001b[43mcommand\u001b[49m\u001b[38;5;241;43m=\u001b[39;49m\u001b[43mcommand\u001b[49m\u001b[43m,\u001b[49m\u001b[43m \u001b[49m\u001b[43mverbose\u001b[49m\u001b[38;5;241;43m=\u001b[39;49m\u001b[43mverbose\u001b[49m\u001b[43m,\u001b[49m\u001b[43m \u001b[49m\u001b[43mcatch_STD\u001b[49m\u001b[38;5;241;43m=\u001b[39;49m\u001b[43mcatch_STD\u001b[49m\u001b[43m,\u001b[49m\u001b[43m \u001b[49m\u001b[43menv\u001b[49m\u001b[38;5;241;43m=\u001b[39;49m\u001b[43menv\u001b[49m\u001b[43m)\u001b[49m\n",
      "File \u001b[0;32m~/Documents/projects/PyGromosTools/pygromos/utils/bash.py:829\u001b[0m, in \u001b[0;36mexecute_subprocess\u001b[0;34m(command, catch_STD, env, verbose)\u001b[0m\n\u001b[1;32m    828\u001b[0m     msg \u001b[38;5;241m+\u001b[39m\u001b[38;5;241m=\u001b[39m \u001b[38;5;124m\"\u001b[39m\u001b[38;5;124mNONE\u001b[39m\u001b[38;5;124m\"\u001b[39m \u001b[38;5;28;01mif\u001b[39;00m (p\u001b[38;5;241m.\u001b[39mstdout \u001b[38;5;129;01mis\u001b[39;00m \u001b[38;5;28;01mNone\u001b[39;00m) \u001b[38;5;28;01melse\u001b[39;00m \u001b[38;5;124m\"\u001b[39m\u001b[38;5;130;01m\\n\u001b[39;00m\u001b[38;5;130;01m\\t\u001b[39;00m\u001b[38;5;124m\"\u001b[39m\u001b[38;5;241m.\u001b[39mjoin(\u001b[38;5;28mmap\u001b[39m(\u001b[38;5;28mstr\u001b[39m, p\u001b[38;5;241m.\u001b[39mstderr\u001b[38;5;241m.\u001b[39mreadlines()))\n\u001b[0;32m--> 829\u001b[0m     \u001b[38;5;28;01mraise\u001b[39;00m \u001b[38;5;167;01mChildProcessError\u001b[39;00m(msg)\n\u001b[1;32m    830\u001b[0m \u001b[38;5;28;01mif\u001b[39;00m verbose:\n",
      "\u001b[0;31mChildProcessError\u001b[0m: SubProcess Failed due to returncode: 127\n COMMAND: \n\tbkill 0\nSTDOUT:\n\t\nSTDERR:\n\tb'/bin/sh: 1: bkill: not found\\n'",
      "\nDuring handling of the above exception, another exception occurred:\n",
      "\u001b[0;31mChildProcessError\u001b[0m                         Traceback (most recent call last)",
      "Input \u001b[0;32mIn [12]\u001b[0m, in \u001b[0;36m<cell line: 1>\u001b[0;34m()\u001b[0m\n\u001b[0;32m----> 1\u001b[0m \u001b[43msub_lsf\u001b[49m\u001b[38;5;241;43m.\u001b[39;49m\u001b[43mkill_jobs\u001b[49m\u001b[43m(\u001b[49m\u001b[43mjob_ids\u001b[49m\u001b[38;5;241;43m=\u001b[39;49m\u001b[43m[\u001b[49m\u001b[43mjob_id\u001b[49m\u001b[43m]\u001b[49m\u001b[43m)\u001b[49m\n",
      "File \u001b[0;32m~/Documents/projects/PyGromosTools/pygromos/simulations/hpc_queuing/submission_systems/lsf.py:418\u001b[0m, in \u001b[0;36mLSF.kill_jobs\u001b[0;34m(self, job_name, regex, job_ids)\u001b[0m\n\u001b[1;32m    416\u001b[0m     \u001b[38;5;28mprint\u001b[39m(\u001b[38;5;124m\"\u001b[39m\u001b[38;5;124mJob has already finished\u001b[39m\u001b[38;5;124m\"\u001b[39m)\n\u001b[1;32m    417\u001b[0m \u001b[38;5;28;01melse\u001b[39;00m:\n\u001b[0;32m--> 418\u001b[0m     \u001b[38;5;28;01mraise\u001b[39;00m \u001b[38;5;167;01mChildProcessError\u001b[39;00m(\u001b[38;5;124m\"\u001b[39m\u001b[38;5;124mcould not execute this command: \u001b[39m\u001b[38;5;130;01m\\n\u001b[39;00m\u001b[38;5;124m\"\u001b[39m \u001b[38;5;241m+\u001b[39m \u001b[38;5;28mstr\u001b[39m(err\u001b[38;5;241m.\u001b[39margs))\n",
      "\u001b[0;31mChildProcessError\u001b[0m: could not execute this command: \n(\"SubProcess Failed due to returncode: 127\\n COMMAND: \\n\\tbkill 0\\nSTDOUT:\\n\\t\\nSTDERR:\\n\\tb'/bin/sh: 1: bkill: not found\\\\n'\",)"
     ]
    }
   ],
   "source": [
    "sub_lsf.kill_jobs(job_ids=[job_id])"
   ]
  },
  {
   "cell_type": "code",
   "execution_count": 13,
   "metadata": {
    "execution": {
     "iopub.execute_input": "2022-04-01T07:58:46.533632Z",
     "iopub.status.busy": "2022-04-01T07:58:46.532646Z",
     "iopub.status.idle": "2022-04-01T07:58:46.930504Z",
     "shell.execute_reply": "2022-04-01T07:58:46.928718Z"
    }
   },
   "outputs": [
    {
     "ename": "Exception",
     "evalue": "Could not get job_list!\nerr:\nSubProcess Failed due to returncode: 127\n COMMAND: \n\tbjobs -w\nSTDOUT:\n\t\nSTDERR:\n\tb'/bin/sh: 1: bjobs: not found\\n'",
     "output_type": "error",
     "traceback": [
      "\u001b[0;31m---------------------------------------------------------------------------\u001b[0m",
      "\u001b[0;31mChildProcessError\u001b[0m                         Traceback (most recent call last)",
      "File \u001b[0;32m~/Documents/projects/PyGromosTools/pygromos/simulations/hpc_queuing/submission_systems/lsf.py:308\u001b[0m, in \u001b[0;36mLSF.get_queued_jobs\u001b[0;34m(self)\u001b[0m\n\u001b[1;32m    307\u001b[0m \u001b[38;5;28;01melse\u001b[39;00m:\n\u001b[0;32m--> 308\u001b[0m     out_process \u001b[38;5;241m=\u001b[39m \u001b[43mbash\u001b[49m\u001b[38;5;241;43m.\u001b[39;49m\u001b[43mexecute\u001b[49m\u001b[43m(\u001b[49m\u001b[38;5;124;43m\"\u001b[39;49m\u001b[38;5;124;43mbjobs -w\u001b[39;49m\u001b[38;5;124;43m\"\u001b[39;49m\u001b[43m,\u001b[49m\u001b[43m \u001b[49m\u001b[43mcatch_STD\u001b[49m\u001b[38;5;241;43m=\u001b[39;49m\u001b[38;5;28;43;01mTrue\u001b[39;49;00m\u001b[43m)\u001b[49m\n\u001b[1;32m    309\u001b[0m job_list_str \u001b[38;5;241m=\u001b[39m \u001b[38;5;28mlist\u001b[39m(\u001b[38;5;28mmap\u001b[39m(\u001b[38;5;28;01mlambda\u001b[39;00m x: x\u001b[38;5;241m.\u001b[39mdecode(\u001b[38;5;124m\"\u001b[39m\u001b[38;5;124mutf-8\u001b[39m\u001b[38;5;124m\"\u001b[39m), out_process\u001b[38;5;241m.\u001b[39mstdout\u001b[38;5;241m.\u001b[39mreadlines()))\n",
      "File \u001b[0;32m~/Documents/projects/PyGromosTools/pygromos/utils/bash.py:935\u001b[0m, in \u001b[0;36mexecute\u001b[0;34m(command, verbose, catch_STD, env)\u001b[0m\n\u001b[1;32m    932\u001b[0m \u001b[38;5;28;01mdef\u001b[39;00m \u001b[38;5;21mexecute\u001b[39m(\n\u001b[1;32m    933\u001b[0m     command: Union[\u001b[38;5;28mstr\u001b[39m, List[\u001b[38;5;28mstr\u001b[39m]], verbose: \u001b[38;5;28mbool\u001b[39m \u001b[38;5;241m=\u001b[39m \u001b[38;5;28;01mFalse\u001b[39;00m, catch_STD: Union[\u001b[38;5;28mbool\u001b[39m, \u001b[38;5;28mstr\u001b[39m] \u001b[38;5;241m=\u001b[39m \u001b[38;5;28;01mFalse\u001b[39;00m, env: \u001b[38;5;28mdict\u001b[39m \u001b[38;5;241m=\u001b[39m \u001b[38;5;28;01mNone\u001b[39;00m\n\u001b[1;32m    934\u001b[0m ):\n\u001b[0;32m--> 935\u001b[0m     \u001b[38;5;28;01mreturn\u001b[39;00m \u001b[43mexecute_subprocess\u001b[49m\u001b[43m(\u001b[49m\u001b[43mcommand\u001b[49m\u001b[38;5;241;43m=\u001b[39;49m\u001b[43mcommand\u001b[49m\u001b[43m,\u001b[49m\u001b[43m \u001b[49m\u001b[43mverbose\u001b[49m\u001b[38;5;241;43m=\u001b[39;49m\u001b[43mverbose\u001b[49m\u001b[43m,\u001b[49m\u001b[43m \u001b[49m\u001b[43mcatch_STD\u001b[49m\u001b[38;5;241;43m=\u001b[39;49m\u001b[43mcatch_STD\u001b[49m\u001b[43m,\u001b[49m\u001b[43m \u001b[49m\u001b[43menv\u001b[49m\u001b[38;5;241;43m=\u001b[39;49m\u001b[43menv\u001b[49m\u001b[43m)\u001b[49m\n",
      "File \u001b[0;32m~/Documents/projects/PyGromosTools/pygromos/utils/bash.py:829\u001b[0m, in \u001b[0;36mexecute_subprocess\u001b[0;34m(command, catch_STD, env, verbose)\u001b[0m\n\u001b[1;32m    828\u001b[0m     msg \u001b[38;5;241m+\u001b[39m\u001b[38;5;241m=\u001b[39m \u001b[38;5;124m\"\u001b[39m\u001b[38;5;124mNONE\u001b[39m\u001b[38;5;124m\"\u001b[39m \u001b[38;5;28;01mif\u001b[39;00m (p\u001b[38;5;241m.\u001b[39mstdout \u001b[38;5;129;01mis\u001b[39;00m \u001b[38;5;28;01mNone\u001b[39;00m) \u001b[38;5;28;01melse\u001b[39;00m \u001b[38;5;124m\"\u001b[39m\u001b[38;5;130;01m\\n\u001b[39;00m\u001b[38;5;130;01m\\t\u001b[39;00m\u001b[38;5;124m\"\u001b[39m\u001b[38;5;241m.\u001b[39mjoin(\u001b[38;5;28mmap\u001b[39m(\u001b[38;5;28mstr\u001b[39m, p\u001b[38;5;241m.\u001b[39mstderr\u001b[38;5;241m.\u001b[39mreadlines()))\n\u001b[0;32m--> 829\u001b[0m     \u001b[38;5;28;01mraise\u001b[39;00m \u001b[38;5;167;01mChildProcessError\u001b[39;00m(msg)\n\u001b[1;32m    830\u001b[0m \u001b[38;5;28;01mif\u001b[39;00m verbose:\n",
      "\u001b[0;31mChildProcessError\u001b[0m: SubProcess Failed due to returncode: 127\n COMMAND: \n\tbjobs -w\nSTDOUT:\n\t\nSTDERR:\n\tb'/bin/sh: 1: bjobs: not found\\n'",
      "\nDuring handling of the above exception, another exception occurred:\n",
      "\u001b[0;31mException\u001b[0m                                 Traceback (most recent call last)",
      "Input \u001b[0;32mIn [13]\u001b[0m, in \u001b[0;36m<cell line: 1>\u001b[0;34m()\u001b[0m\n\u001b[0;32m----> 1\u001b[0m \u001b[43msub_lsf\u001b[49m\u001b[38;5;241;43m.\u001b[39;49m\u001b[43msearch_queue_for_jobname\u001b[49m\u001b[43m(\u001b[49m\u001b[38;5;124;43m\"\u001b[39;49m\u001b[38;5;124;43mTe\u001b[39;49m\u001b[38;5;124;43m\"\u001b[39;49m\u001b[43m,\u001b[49m\u001b[43m \u001b[49m\u001b[43mregex\u001b[49m\u001b[38;5;241;43m=\u001b[39;49m\u001b[38;5;28;43;01mTrue\u001b[39;49;00m\u001b[43m)\u001b[49m\n",
      "File \u001b[0;32m~/Documents/projects/PyGromosTools/pygromos/simulations/hpc_queuing/submission_systems/lsf.py:378\u001b[0m, in \u001b[0;36mLSF.search_queue_for_jobname\u001b[0;34m(self, job_name, regex)\u001b[0m\n\u001b[1;32m    362\u001b[0m \u001b[38;5;28;01mdef\u001b[39;00m \u001b[38;5;21msearch_queue_for_jobname\u001b[39m(\u001b[38;5;28mself\u001b[39m, job_name: \u001b[38;5;28mstr\u001b[39m, regex: \u001b[38;5;28mbool\u001b[39m \u001b[38;5;241m=\u001b[39m \u001b[38;5;28;01mFalse\u001b[39;00m) \u001b[38;5;241m-\u001b[39m\u001b[38;5;241m>\u001b[39m pd\u001b[38;5;241m.\u001b[39mDataFrame:\n\u001b[1;32m    363\u001b[0m     \u001b[38;5;124;03m\"\"\"search_queue_for_jobname\u001b[39;00m\n\u001b[1;32m    364\u001b[0m \n\u001b[1;32m    365\u001b[0m \u001b[38;5;124;03m        this jobs searches the job queue for a certain job name.\u001b[39;00m\n\u001b[0;32m   (...)\u001b[0m\n\u001b[1;32m    375\u001b[0m \u001b[38;5;124;03m        the output of the queue containing the jobname\u001b[39;00m\n\u001b[1;32m    376\u001b[0m \u001b[38;5;124;03m    \"\"\"\u001b[39;00m\n\u001b[0;32m--> 378\u001b[0m     \u001b[38;5;28;43mself\u001b[39;49m\u001b[38;5;241;43m.\u001b[39;49m\u001b[43mget_queued_jobs\u001b[49m\u001b[43m(\u001b[49m\u001b[43m)\u001b[49m\n\u001b[1;32m    379\u001b[0m     \u001b[38;5;28;01mif\u001b[39;00m regex:\n\u001b[1;32m    380\u001b[0m         \u001b[38;5;28;01mreturn\u001b[39;00m \u001b[38;5;28mself\u001b[39m\u001b[38;5;241m.\u001b[39m_job_queue_list\u001b[38;5;241m.\u001b[39mwhere(\u001b[38;5;28mself\u001b[39m\u001b[38;5;241m.\u001b[39m_job_queue_list\u001b[38;5;241m.\u001b[39mJOB_NAME\u001b[38;5;241m.\u001b[39mstr\u001b[38;5;241m.\u001b[39mmatch(job_name))\u001b[38;5;241m.\u001b[39mdropna()\n",
      "File \u001b[0;32m~/Documents/projects/PyGromosTools/pygromos/simulations/hpc_queuing/submission_systems/lsf.py:319\u001b[0m, in \u001b[0;36mLSF.get_queued_jobs\u001b[0;34m(self)\u001b[0m\n\u001b[1;32m    317\u001b[0m         \u001b[38;5;28mself\u001b[39m\u001b[38;5;241m.\u001b[39m_job_queue_time_stamp \u001b[38;5;241m=\u001b[39m datetime\u001b[38;5;241m.\u001b[39mnow()\n\u001b[1;32m    318\u001b[0m     \u001b[38;5;28;01mexcept\u001b[39;00m \u001b[38;5;167;01mException\u001b[39;00m \u001b[38;5;28;01mas\u001b[39;00m err:\n\u001b[0;32m--> 319\u001b[0m         \u001b[38;5;28;01mraise\u001b[39;00m \u001b[38;5;167;01mException\u001b[39;00m(\u001b[38;5;124m\"\u001b[39m\u001b[38;5;124mCould not get job_list!\u001b[39m\u001b[38;5;130;01m\\n\u001b[39;00m\u001b[38;5;124merr:\u001b[39m\u001b[38;5;130;01m\\n\u001b[39;00m\u001b[38;5;124m\"\u001b[39m \u001b[38;5;241m+\u001b[39m \u001b[38;5;124m\"\u001b[39m\u001b[38;5;130;01m\\n\u001b[39;00m\u001b[38;5;124m\"\u001b[39m\u001b[38;5;241m.\u001b[39mjoin(err\u001b[38;5;241m.\u001b[39margs))\n\u001b[1;32m    320\u001b[0m \u001b[38;5;28;01melse\u001b[39;00m:\n\u001b[1;32m    321\u001b[0m     job_list_str \u001b[38;5;241m=\u001b[39m []\n",
      "\u001b[0;31mException\u001b[0m: Could not get job_list!\nerr:\nSubProcess Failed due to returncode: 127\n COMMAND: \n\tbjobs -w\nSTDOUT:\n\t\nSTDERR:\n\tb'/bin/sh: 1: bjobs: not found\\n'"
     ]
    }
   ],
   "source": [
    "sub_lsf.search_queue_for_jobname(\"Te\", regex=True)"
   ]
  },
  {
   "cell_type": "code",
   "execution_count": null,
   "metadata": {},
   "outputs": [],
   "source": []
  }
 ],
 "metadata": {
  "interpreter": {
   "hash": "b1b7b2ea43b8e767316eee98e01335d045804d2d47db68b6a5827e187ee91a7e"
  },
  "kernelspec": {
   "display_name": "Python 3.9.7 ('pygro2')",
   "language": "python",
   "name": "python3"
  },
  "language_info": {
   "codemirror_mode": {
    "name": "ipython",
    "version": 3
   },
   "file_extension": ".py",
   "mimetype": "text/x-python",
   "name": "python",
   "nbconvert_exporter": "python",
   "pygments_lexer": "ipython3",
   "version": "3.9.10"
  }
 },
 "nbformat": 4,
 "nbformat_minor": 4
}
