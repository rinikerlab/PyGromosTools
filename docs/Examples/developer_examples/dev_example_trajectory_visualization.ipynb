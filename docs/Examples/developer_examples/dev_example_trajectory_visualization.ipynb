{
 "cells": [
  {
   "cell_type": "markdown",
   "id": "8239abda-7611-444e-92cb-05963c470bd7",
   "metadata": {
    "tags": []
   },
   "source": [
    "# PyGromos Visualization Example"
   ]
  },
  {
   "cell_type": "markdown",
   "id": "82900ea0-c687-4563-b0f6-8eac53934556",
   "metadata": {},
   "source": [
    "### Author: Paul Katzberger"
   ]
  },
  {
   "cell_type": "code",
   "execution_count": 1,
   "id": "70aa47e8-1233-42ec-a6b2-85fc29197d5a",
   "metadata": {
    "execution": {
     "iopub.execute_input": "2022-04-01T06:25:53.853740Z",
     "iopub.status.busy": "2022-04-01T06:25:53.852996Z",
     "iopub.status.idle": "2022-04-01T06:25:54.934099Z",
     "shell.execute_reply": "2022-04-01T06:25:54.931754Z"
    }
   },
   "outputs": [
    {
     "data": {
      "application/vnd.jupyter.widget-view+json": {
       "model_id": "fcd915fbf0c649b5b77528e6284c5eb2",
       "version_major": 2,
       "version_minor": 0
      },
      "text/plain": []
     },
     "metadata": {},
     "output_type": "display_data"
    }
   ],
   "source": [
    "from pygromos.files.trajectory.trc import Trc\n",
    "import sys"
   ]
  },
  {
   "cell_type": "markdown",
   "id": "369107eb-036d-4e00-8430-a81b7af3c728",
   "metadata": {},
   "source": [
    "## Load Trajectory"
   ]
  },
  {
   "cell_type": "code",
   "execution_count": 2,
   "id": "b337c5ad-fe17-48a9-a764-2e7cfe3f8e2d",
   "metadata": {
    "execution": {
     "iopub.execute_input": "2022-04-01T06:25:54.938157Z",
     "iopub.status.busy": "2022-04-01T06:25:54.937702Z",
     "iopub.status.idle": "2022-04-01T06:25:55.885758Z",
     "shell.execute_reply": "2022-04-01T06:25:55.884238Z"
    }
   },
   "outputs": [
    {
     "ename": "FileNotFoundError",
     "evalue": "[Errno 2] No such file or directory: '../example_files/Traj_files/b_emin_vacuum_1.trc'",
     "output_type": "error",
     "traceback": [
      "\u001b[0;31m---------------------------------------------------------------------------\u001b[0m",
      "\u001b[0;31mFileNotFoundError\u001b[0m                         Traceback (most recent call last)",
      "Input \u001b[0;32mIn [2]\u001b[0m, in \u001b[0;36m<cell line: 1>\u001b[0;34m()\u001b[0m\n\u001b[0;32m----> 1\u001b[0m t \u001b[38;5;241m=\u001b[39m \u001b[43mTrc\u001b[49m\u001b[43m(\u001b[49m\u001b[43mtraj_path\u001b[49m\u001b[38;5;241;43m=\u001b[39;49m\u001b[38;5;124;43m'\u001b[39;49m\u001b[38;5;124;43m../example_files/Traj_files/b_emin_vacuum_1.trc\u001b[39;49m\u001b[38;5;124;43m'\u001b[39;49m\u001b[43m,\u001b[49m\n\u001b[1;32m      2\u001b[0m \u001b[43m          \u001b[49m\u001b[43min_cnf\u001b[49m\u001b[38;5;241;43m=\u001b[39;49m\u001b[38;5;124;43m'\u001b[39;49m\u001b[38;5;124;43m../example_files/Traj_files/b_emin_vacuum.cnf\u001b[39;49m\u001b[38;5;124;43m'\u001b[39;49m\u001b[43m)\u001b[49m\n",
      "File \u001b[0;32m~/Documents/projects/PyGromosTools/pygromos/files/trajectory/trc.py:72\u001b[0m, in \u001b[0;36mTrc.__init__\u001b[0;34m(self, xyz, topology, time, unitcell_lengths, unitcell_angles, traj_path, in_cnf, timestep_duration, _future_file)\u001b[0m\n\u001b[1;32m     69\u001b[0m unitcell_lengths \u001b[38;5;241m=\u001b[39m \u001b[38;5;28;01mNone\u001b[39;00m\n\u001b[1;32m     71\u001b[0m \u001b[38;5;28;01mif\u001b[39;00m \u001b[38;5;28misinstance\u001b[39m(traj_path, \u001b[38;5;28mstr\u001b[39m):\n\u001b[0;32m---> 72\u001b[0m     xyz, step, time, unitcell_lengths, unitcell_angles \u001b[38;5;241m=\u001b[39m \u001b[38;5;28;43mself\u001b[39;49m\u001b[38;5;241;43m.\u001b[39;49m\u001b[43mparse_trc_efficiently\u001b[49m\u001b[43m(\u001b[49m\u001b[43mtraj_path\u001b[49m\u001b[43m)\u001b[49m\n\u001b[1;32m     74\u001b[0m \u001b[38;5;28;01mif\u001b[39;00m compress:\n\u001b[1;32m     75\u001b[0m     traj_path \u001b[38;5;241m=\u001b[39m bash\u001b[38;5;241m.\u001b[39mcompress_gzip(in_path\u001b[38;5;241m=\u001b[39mtraj_path)\n",
      "File \u001b[0;32m~/Documents/projects/PyGromosTools/pygromos/files/trajectory/trc.py:177\u001b[0m, in \u001b[0;36mTrc.parse_trc_efficiently\u001b[0;34m(self, traj_path)\u001b[0m\n\u001b[1;32m    176\u001b[0m \u001b[38;5;28;01mdef\u001b[39;00m \u001b[38;5;21mparse_trc_efficiently\u001b[39m(\u001b[38;5;28mself\u001b[39m, traj_path: \u001b[38;5;28mstr\u001b[39m) \u001b[38;5;241m-\u001b[39m\u001b[38;5;241m>\u001b[39m Tuple[np\u001b[38;5;241m.\u001b[39marray, np\u001b[38;5;241m.\u001b[39marray, np\u001b[38;5;241m.\u001b[39marray]:\n\u001b[0;32m--> 177\u001b[0m     \u001b[38;5;28mself\u001b[39m\u001b[38;5;241m.\u001b[39m_block_map \u001b[38;5;241m=\u001b[39m \u001b[38;5;28;43mself\u001b[39;49m\u001b[38;5;241;43m.\u001b[39;49m\u001b[43m_generate_blockMap\u001b[49m\u001b[43m(\u001b[49m\u001b[43min_trc_path\u001b[49m\u001b[38;5;241;43m=\u001b[39;49m\u001b[43mtraj_path\u001b[49m\u001b[43m)\u001b[49m\n\u001b[1;32m    178\u001b[0m     \u001b[38;5;66;03m# build block mapping\u001b[39;00m\n\u001b[1;32m    179\u001b[0m     rep_time \u001b[38;5;241m=\u001b[39m \u001b[38;5;241m1\u001b[39m\n",
      "File \u001b[0;32m~/Documents/projects/PyGromosTools/pygromos/files/trajectory/trc.py:271\u001b[0m, in \u001b[0;36mTrc._generate_blockMap\u001b[0;34m(self, in_trc_path)\u001b[0m\n\u001b[1;32m    269\u001b[0m \u001b[38;5;28;01mdef\u001b[39;00m \u001b[38;5;21m_generate_blockMap\u001b[39m(\u001b[38;5;28mself\u001b[39m, in_trc_path: \u001b[38;5;28mstr\u001b[39m) \u001b[38;5;241m-\u001b[39m\u001b[38;5;241m>\u001b[39m Dict[\u001b[38;5;28mstr\u001b[39m, \u001b[38;5;28mint\u001b[39m]:\n\u001b[1;32m    270\u001b[0m     block_map \u001b[38;5;241m=\u001b[39m {}\n\u001b[0;32m--> 271\u001b[0m     \u001b[38;5;28;01mwith\u001b[39;00m \u001b[38;5;28;43mopen\u001b[39;49m\u001b[43m(\u001b[49m\u001b[43min_trc_path\u001b[49m\u001b[43m,\u001b[49m\u001b[43m \u001b[49m\u001b[38;5;124;43m\"\u001b[39;49m\u001b[38;5;124;43mr\u001b[39;49m\u001b[38;5;124;43m\"\u001b[39;49m\u001b[43m)\u001b[49m \u001b[38;5;28;01mas\u001b[39;00m file_handle:\n\u001b[1;32m    272\u001b[0m         inBlock \u001b[38;5;241m=\u001b[39m \u001b[38;5;28;01mFalse\u001b[39;00m\n\u001b[1;32m    273\u001b[0m         inTitleBlock \u001b[38;5;241m=\u001b[39m \u001b[38;5;28;01mFalse\u001b[39;00m\n",
      "\u001b[0;31mFileNotFoundError\u001b[0m: [Errno 2] No such file or directory: '../example_files/Traj_files/b_emin_vacuum_1.trc'"
     ]
    }
   ],
   "source": [
    "t = Trc(traj_path='../example_files/Traj_files/b_emin_vacuum_1.trc',\n",
    "          in_cnf='../example_files/Traj_files/b_emin_vacuum.cnf')"
   ]
  },
  {
   "cell_type": "code",
   "execution_count": 3,
   "id": "409e958b",
   "metadata": {
    "execution": {
     "iopub.execute_input": "2022-04-01T06:25:55.889927Z",
     "iopub.status.busy": "2022-04-01T06:25:55.889570Z",
     "iopub.status.idle": "2022-04-01T06:25:56.304487Z",
     "shell.execute_reply": "2022-04-01T06:25:56.303112Z"
    }
   },
   "outputs": [
    {
     "ename": "OSError",
     "evalue": "[Errno Could not find File: ] ../example_files/Traj_files/b_emin_vacuum.cnf",
     "output_type": "error",
     "traceback": [
      "\u001b[0;31m---------------------------------------------------------------------------\u001b[0m",
      "\u001b[0;31mOSError\u001b[0m                                   Traceback (most recent call last)",
      "Input \u001b[0;32mIn [3]\u001b[0m, in \u001b[0;36m<cell line: 2>\u001b[0;34m()\u001b[0m\n\u001b[1;32m      1\u001b[0m \u001b[38;5;28;01mfrom\u001b[39;00m \u001b[38;5;21;01mpygromos\u001b[39;00m\u001b[38;5;21;01m.\u001b[39;00m\u001b[38;5;21;01mfiles\u001b[39;00m\u001b[38;5;21;01m.\u001b[39;00m\u001b[38;5;21;01mcoord\u001b[39;00m\u001b[38;5;21;01m.\u001b[39;00m\u001b[38;5;21;01mcnf\u001b[39;00m \u001b[38;5;28;01mimport\u001b[39;00m Cnf\n\u001b[0;32m----> 2\u001b[0m \u001b[43mCnf\u001b[49m\u001b[43m(\u001b[49m\u001b[38;5;124;43m'\u001b[39;49m\u001b[38;5;124;43m../example_files/Traj_files/b_emin_vacuum.cnf\u001b[39;49m\u001b[38;5;124;43m'\u001b[39;49m\u001b[43m)\u001b[49m\u001b[38;5;241m.\u001b[39mGENBOX\n",
      "File \u001b[0;32m~/Documents/projects/PyGromosTools/pygromos/files/coord/cnf.py:80\u001b[0m, in \u001b[0;36mCnf.__init__\u001b[0;34m(self, in_value, clean_resiNumbers_by_Name, verbose, _future_file)\u001b[0m\n\u001b[1;32m     77\u001b[0m     \u001b[38;5;28mself\u001b[39m\u001b[38;5;241m.\u001b[39mresidues \u001b[38;5;241m=\u001b[39m \u001b[38;5;28mself\u001b[39m\u001b[38;5;241m.\u001b[39mget_residues(verbose\u001b[38;5;241m=\u001b[39mverbose)\n\u001b[1;32m     78\u001b[0m \u001b[38;5;66;03m# general import\u001b[39;00m\n\u001b[1;32m     79\u001b[0m \u001b[38;5;28;01melse\u001b[39;00m:\n\u001b[0;32m---> 80\u001b[0m     \u001b[38;5;28;43msuper\u001b[39;49m\u001b[43m(\u001b[49m\u001b[43m)\u001b[49m\u001b[38;5;241;43m.\u001b[39;49m\u001b[38;5;21;43m__init__\u001b[39;49m\u001b[43m(\u001b[49m\u001b[43min_value\u001b[49m\u001b[38;5;241;43m=\u001b[39;49m\u001b[43min_value\u001b[49m\u001b[43m,\u001b[49m\u001b[43m \u001b[49m\u001b[43m_future_file\u001b[49m\u001b[38;5;241;43m=\u001b[39;49m\u001b[43m_future_file\u001b[49m\u001b[43m)\u001b[49m\n\u001b[1;32m     81\u001b[0m     \u001b[38;5;28;01mif\u001b[39;00m \u001b[38;5;28mhasattr\u001b[39m(\u001b[38;5;28mself\u001b[39m, \u001b[38;5;124m\"\u001b[39m\u001b[38;5;124mPOSITION\u001b[39m\u001b[38;5;124m\"\u001b[39m):\n\u001b[1;32m     82\u001b[0m         \u001b[38;5;28;01mif\u001b[39;00m clean_resiNumbers_by_Name:\n",
      "File \u001b[0;32m~/Documents/projects/PyGromosTools/pygromos/files/_basics/_general_gromos_file.py:42\u001b[0m, in \u001b[0;36m_general_gromos_file.__init__\u001b[0;34m(self, in_value, _future_file)\u001b[0m\n\u001b[1;32m     40\u001b[0m         \u001b[38;5;28mself\u001b[39m\u001b[38;5;241m.\u001b[39mread_blocks()\n\u001b[1;32m     41\u001b[0m     \u001b[38;5;28;01melse\u001b[39;00m:\n\u001b[0;32m---> 42\u001b[0m         \u001b[38;5;28;01mraise\u001b[39;00m \u001b[38;5;167;01mIOError\u001b[39;00m(\u001b[38;5;124m\"\u001b[39m\u001b[38;5;124mCould not find File: \u001b[39m\u001b[38;5;124m\"\u001b[39m, in_value)\n\u001b[1;32m     44\u001b[0m \u001b[38;5;28;01melif\u001b[39;00m \u001b[38;5;28misinstance\u001b[39m(\u001b[38;5;28mtype\u001b[39m(in_value), \u001b[38;5;18m__class__\u001b[39m):\n\u001b[1;32m     45\u001b[0m     \u001b[38;5;28;01mraise\u001b[39;00m \u001b[38;5;167;01mNotImplementedError\u001b[39;00m(\u001b[38;5;124m\"\u001b[39m\u001b[38;5;124mThis variant is not implemented\u001b[39m\u001b[38;5;124m\"\u001b[39m)\n",
      "\u001b[0;31mOSError\u001b[0m: [Errno Could not find File: ] ../example_files/Traj_files/b_emin_vacuum.cnf"
     ]
    }
   ],
   "source": [
    "from pygromos.files.coord.cnf import Cnf\n",
    "Cnf('../example_files/Traj_files/b_emin_vacuum.cnf').GENBOX"
   ]
  },
  {
   "cell_type": "code",
   "execution_count": 4,
   "id": "da5fc3a1",
   "metadata": {
    "execution": {
     "iopub.execute_input": "2022-04-01T06:25:56.309192Z",
     "iopub.status.busy": "2022-04-01T06:25:56.307910Z",
     "iopub.status.idle": "2022-04-01T06:25:56.328612Z",
     "shell.execute_reply": "2022-04-01T06:25:56.327459Z"
    }
   },
   "outputs": [
    {
     "ename": "NameError",
     "evalue": "name 't' is not defined",
     "output_type": "error",
     "traceback": [
      "\u001b[0;31m---------------------------------------------------------------------------\u001b[0m",
      "\u001b[0;31mNameError\u001b[0m                                 Traceback (most recent call last)",
      "Input \u001b[0;32mIn [4]\u001b[0m, in \u001b[0;36m<cell line: 1>\u001b[0;34m()\u001b[0m\n\u001b[0;32m----> 1\u001b[0m \u001b[43mt\u001b[49m\u001b[38;5;241m.\u001b[39mto_cnf(base_cnf\u001b[38;5;241m=\u001b[39m\u001b[38;5;124m'\u001b[39m\u001b[38;5;124m../example_files/Traj_files/b_emin_vacuum.cnf\u001b[39m\u001b[38;5;124m'\u001b[39m)\n",
      "\u001b[0;31mNameError\u001b[0m: name 't' is not defined"
     ]
    }
   ],
   "source": [
    "t.to_cnf(base_cnf='../example_files/Traj_files/b_emin_vacuum.cnf')"
   ]
  },
  {
   "cell_type": "code",
   "execution_count": 5,
   "id": "132f8441",
   "metadata": {
    "execution": {
     "iopub.execute_input": "2022-04-01T06:25:56.334781Z",
     "iopub.status.busy": "2022-04-01T06:25:56.334283Z",
     "iopub.status.idle": "2022-04-01T06:25:56.355834Z",
     "shell.execute_reply": "2022-04-01T06:25:56.354371Z"
    }
   },
   "outputs": [
    {
     "ename": "NameError",
     "evalue": "name 't' is not defined",
     "output_type": "error",
     "traceback": [
      "\u001b[0;31m---------------------------------------------------------------------------\u001b[0m",
      "\u001b[0;31mNameError\u001b[0m                                 Traceback (most recent call last)",
      "Input \u001b[0;32mIn [5]\u001b[0m, in \u001b[0;36m<cell line: 1>\u001b[0;34m()\u001b[0m\n\u001b[0;32m----> 1\u001b[0m \u001b[43mt\u001b[49m\u001b[38;5;241m.\u001b[39munitcell_lengths[\u001b[38;5;241m60\u001b[39m]\n",
      "\u001b[0;31mNameError\u001b[0m: name 't' is not defined"
     ]
    }
   ],
   "source": [
    "t.unitcell_lengths[60]"
   ]
  },
  {
   "cell_type": "code",
   "execution_count": 6,
   "id": "b6779e4d",
   "metadata": {
    "execution": {
     "iopub.execute_input": "2022-04-01T06:25:56.359896Z",
     "iopub.status.busy": "2022-04-01T06:25:56.359649Z",
     "iopub.status.idle": "2022-04-01T06:25:56.475497Z",
     "shell.execute_reply": "2022-04-01T06:25:56.473392Z"
    }
   },
   "outputs": [
    {
     "ename": "NameError",
     "evalue": "name 't' is not defined",
     "output_type": "error",
     "traceback": [
      "\u001b[0;31m---------------------------------------------------------------------------\u001b[0m",
      "\u001b[0;31mNameError\u001b[0m                                 Traceback (most recent call last)",
      "Input \u001b[0;32mIn [6]\u001b[0m, in \u001b[0;36m<cell line: 1>\u001b[0;34m()\u001b[0m\n\u001b[0;32m----> 1\u001b[0m \u001b[43mt\u001b[49m\u001b[38;5;241m.\u001b[39m_unitcell_lengths\n",
      "\u001b[0;31mNameError\u001b[0m: name 't' is not defined"
     ]
    }
   ],
   "source": [
    "t._unitcell_lengths"
   ]
  },
  {
   "cell_type": "markdown",
   "id": "f365f7b1-ca81-42eb-9fdb-f5f1775cc416",
   "metadata": {},
   "source": [
    "## Create Visualization"
   ]
  },
  {
   "cell_type": "code",
   "execution_count": 7,
   "id": "b1200a58-b534-41c3-b351-f2927126a28f",
   "metadata": {
    "execution": {
     "iopub.execute_input": "2022-04-01T06:25:56.480059Z",
     "iopub.status.busy": "2022-04-01T06:25:56.479543Z",
     "iopub.status.idle": "2022-04-01T06:25:56.498990Z",
     "shell.execute_reply": "2022-04-01T06:25:56.496293Z"
    }
   },
   "outputs": [
    {
     "ename": "NameError",
     "evalue": "name 't' is not defined",
     "output_type": "error",
     "traceback": [
      "\u001b[0;31m---------------------------------------------------------------------------\u001b[0m",
      "\u001b[0;31mNameError\u001b[0m                                 Traceback (most recent call last)",
      "Input \u001b[0;32mIn [7]\u001b[0m, in \u001b[0;36m<cell line: 1>\u001b[0;34m()\u001b[0m\n\u001b[0;32m----> 1\u001b[0m \u001b[43mt\u001b[49m\u001b[38;5;241m.\u001b[39mview\n",
      "\u001b[0;31mNameError\u001b[0m: name 't' is not defined"
     ]
    }
   ],
   "source": [
    "t.view"
   ]
  },
  {
   "cell_type": "markdown",
   "id": "ae53eead-5654-435d-804c-5b34297f1ca5",
   "metadata": {},
   "source": [
    "## Do some changes and see how the visualization changes"
   ]
  },
  {
   "cell_type": "markdown",
   "id": "4a339b02-35b4-4063-8920-f6e1de81792b",
   "metadata": {},
   "source": [
    "### press play or select frame directly (i.e. 70)"
   ]
  },
  {
   "cell_type": "code",
   "execution_count": 8,
   "id": "bc3169c8-e7f8-4759-a12a-374de9857646",
   "metadata": {
    "execution": {
     "iopub.execute_input": "2022-04-01T06:25:56.503873Z",
     "iopub.status.busy": "2022-04-01T06:25:56.503613Z",
     "iopub.status.idle": "2022-04-01T06:25:56.522412Z",
     "shell.execute_reply": "2022-04-01T06:25:56.521320Z"
    }
   },
   "outputs": [
    {
     "ename": "NameError",
     "evalue": "name 't' is not defined",
     "output_type": "error",
     "traceback": [
      "\u001b[0;31m---------------------------------------------------------------------------\u001b[0m",
      "\u001b[0;31mNameError\u001b[0m                                 Traceback (most recent call last)",
      "Input \u001b[0;32mIn [8]\u001b[0m, in \u001b[0;36m<cell line: 1>\u001b[0;34m()\u001b[0m\n\u001b[0;32m----> 1\u001b[0m \u001b[43mt\u001b[49m\u001b[38;5;241m.\u001b[39mview\u001b[38;5;241m.\u001b[39mframe \u001b[38;5;241m=\u001b[39m \u001b[38;5;241m70\u001b[39m\n",
      "\u001b[0;31mNameError\u001b[0m: name 't' is not defined"
     ]
    }
   ],
   "source": [
    "t.view.frame = 70"
   ]
  },
  {
   "cell_type": "markdown",
   "id": "98a13ac6-e07a-4bb3-966c-0b4ef636b612",
   "metadata": {},
   "source": [
    "### show hydrogen Bonds"
   ]
  },
  {
   "cell_type": "code",
   "execution_count": 9,
   "id": "8834362f-50f1-42e1-90b1-2f1bf82a1b9a",
   "metadata": {
    "execution": {
     "iopub.execute_input": "2022-04-01T06:25:56.525923Z",
     "iopub.status.busy": "2022-04-01T06:25:56.525381Z",
     "iopub.status.idle": "2022-04-01T06:25:56.545032Z",
     "shell.execute_reply": "2022-04-01T06:25:56.543492Z"
    }
   },
   "outputs": [
    {
     "ename": "NameError",
     "evalue": "name 't' is not defined",
     "output_type": "error",
     "traceback": [
      "\u001b[0;31m---------------------------------------------------------------------------\u001b[0m",
      "\u001b[0;31mNameError\u001b[0m                                 Traceback (most recent call last)",
      "Input \u001b[0;32mIn [9]\u001b[0m, in \u001b[0;36m<cell line: 1>\u001b[0;34m()\u001b[0m\n\u001b[0;32m----> 1\u001b[0m \u001b[43mt\u001b[49m\u001b[38;5;241m.\u001b[39mview\u001b[38;5;241m.\u001b[39madd_contact(hydrogenBond\u001b[38;5;241m=\u001b[39m\u001b[38;5;28;01mTrue\u001b[39;00m)\n",
      "\u001b[0;31mNameError\u001b[0m: name 't' is not defined"
     ]
    }
   ],
   "source": [
    "t.view.add_contact(hydrogenBond=True)"
   ]
  },
  {
   "cell_type": "markdown",
   "id": "4a9ba34d-06a2-4d3e-90d6-ee9f4a7cbfab",
   "metadata": {},
   "source": [
    "### add surface"
   ]
  },
  {
   "cell_type": "code",
   "execution_count": 10,
   "id": "9a52832b-851b-4950-b7d4-013baad9074e",
   "metadata": {
    "execution": {
     "iopub.execute_input": "2022-04-01T06:25:56.551548Z",
     "iopub.status.busy": "2022-04-01T06:25:56.550312Z",
     "iopub.status.idle": "2022-04-01T06:25:56.570941Z",
     "shell.execute_reply": "2022-04-01T06:25:56.569702Z"
    }
   },
   "outputs": [
    {
     "ename": "NameError",
     "evalue": "name 't' is not defined",
     "output_type": "error",
     "traceback": [
      "\u001b[0;31m---------------------------------------------------------------------------\u001b[0m",
      "\u001b[0;31mNameError\u001b[0m                                 Traceback (most recent call last)",
      "Input \u001b[0;32mIn [10]\u001b[0m, in \u001b[0;36m<cell line: 1>\u001b[0;34m()\u001b[0m\n\u001b[0;32m----> 1\u001b[0m \u001b[43mt\u001b[49m\u001b[38;5;241m.\u001b[39mview\u001b[38;5;241m.\u001b[39madd_surface(color\u001b[38;5;241m=\u001b[39m\u001b[38;5;124m\"\u001b[39m\u001b[38;5;124mlightgrey\u001b[39m\u001b[38;5;124m\"\u001b[39m,opacity\u001b[38;5;241m=\u001b[39m\u001b[38;5;241m0.3\u001b[39m)\n",
      "\u001b[0;31mNameError\u001b[0m: name 't' is not defined"
     ]
    }
   ],
   "source": [
    "t.view.add_surface(color=\"lightgrey\",opacity=0.3)"
   ]
  },
  {
   "cell_type": "markdown",
   "id": "c8814049-8c91-469a-9366-fe06e5d3a4f8",
   "metadata": {},
   "source": [
    "### remove surface"
   ]
  },
  {
   "cell_type": "code",
   "execution_count": 11,
   "id": "10b257b9-7f15-4e95-9d3a-7457dbe8bcb4",
   "metadata": {
    "execution": {
     "iopub.execute_input": "2022-04-01T06:25:56.574459Z",
     "iopub.status.busy": "2022-04-01T06:25:56.574166Z",
     "iopub.status.idle": "2022-04-01T06:25:56.592080Z",
     "shell.execute_reply": "2022-04-01T06:25:56.590934Z"
    }
   },
   "outputs": [
    {
     "ename": "NameError",
     "evalue": "name 't' is not defined",
     "output_type": "error",
     "traceback": [
      "\u001b[0;31m---------------------------------------------------------------------------\u001b[0m",
      "\u001b[0;31mNameError\u001b[0m                                 Traceback (most recent call last)",
      "Input \u001b[0;32mIn [11]\u001b[0m, in \u001b[0;36m<cell line: 1>\u001b[0;34m()\u001b[0m\n\u001b[0;32m----> 1\u001b[0m \u001b[43mt\u001b[49m\u001b[38;5;241m.\u001b[39mview\u001b[38;5;241m.\u001b[39mremove_surface()\n",
      "\u001b[0;31mNameError\u001b[0m: name 't' is not defined"
     ]
    }
   ],
   "source": [
    "t.view.remove_surface()"
   ]
  },
  {
   "cell_type": "markdown",
   "id": "3f0fe172-840e-4385-98b3-662458d51662",
   "metadata": {},
   "source": [
    "### add transperent cartoon"
   ]
  },
  {
   "cell_type": "code",
   "execution_count": 12,
   "id": "f918bc36-8317-4e29-b5e9-9a3d9bd20c98",
   "metadata": {
    "execution": {
     "iopub.execute_input": "2022-04-01T06:25:56.595452Z",
     "iopub.status.busy": "2022-04-01T06:25:56.595138Z",
     "iopub.status.idle": "2022-04-01T06:25:56.621142Z",
     "shell.execute_reply": "2022-04-01T06:25:56.620040Z"
    }
   },
   "outputs": [
    {
     "ename": "NameError",
     "evalue": "name 't' is not defined",
     "output_type": "error",
     "traceback": [
      "\u001b[0;31m---------------------------------------------------------------------------\u001b[0m",
      "\u001b[0;31mNameError\u001b[0m                                 Traceback (most recent call last)",
      "Input \u001b[0;32mIn [12]\u001b[0m, in \u001b[0;36m<cell line: 1>\u001b[0;34m()\u001b[0m\n\u001b[0;32m----> 1\u001b[0m \u001b[43mt\u001b[49m\u001b[38;5;241m.\u001b[39mview\u001b[38;5;241m.\u001b[39madd_representation(\u001b[38;5;124m\"\u001b[39m\u001b[38;5;124mcartoon\u001b[39m\u001b[38;5;124m\"\u001b[39m,selection\u001b[38;5;241m=\u001b[39m\u001b[38;5;124m\"\u001b[39m\u001b[38;5;124mprotein\u001b[39m\u001b[38;5;124m\"\u001b[39m,color\u001b[38;5;241m=\u001b[39m\u001b[38;5;124m'\u001b[39m\u001b[38;5;124mlightblue\u001b[39m\u001b[38;5;124m'\u001b[39m,opacity\u001b[38;5;241m=\u001b[39m\u001b[38;5;241m0.3\u001b[39m)\n",
      "\u001b[0;31mNameError\u001b[0m: name 't' is not defined"
     ]
    }
   ],
   "source": [
    "t.view.add_representation(\"cartoon\",selection=\"protein\",color='lightblue',opacity=0.3)"
   ]
  },
  {
   "cell_type": "markdown",
   "id": "13c34b80-3eb2-4477-ace9-6996d8671575",
   "metadata": {},
   "source": [
    "### show distance between atom pair"
   ]
  },
  {
   "cell_type": "code",
   "execution_count": 13,
   "id": "ab63d665-939d-4e1d-af44-c53e76f0a3b1",
   "metadata": {
    "execution": {
     "iopub.execute_input": "2022-04-01T06:25:56.624772Z",
     "iopub.status.busy": "2022-04-01T06:25:56.624219Z",
     "iopub.status.idle": "2022-04-01T06:25:56.644541Z",
     "shell.execute_reply": "2022-04-01T06:25:56.643337Z"
    }
   },
   "outputs": [
    {
     "ename": "NameError",
     "evalue": "name 't' is not defined",
     "output_type": "error",
     "traceback": [
      "\u001b[0;31m---------------------------------------------------------------------------\u001b[0m",
      "\u001b[0;31mNameError\u001b[0m                                 Traceback (most recent call last)",
      "Input \u001b[0;32mIn [13]\u001b[0m, in \u001b[0;36m<cell line: 1>\u001b[0;34m()\u001b[0m\n\u001b[0;32m----> 1\u001b[0m \u001b[43mt\u001b[49m\u001b[38;5;241m.\u001b[39mview\u001b[38;5;241m.\u001b[39madd_distance(atom_pair\u001b[38;5;241m=\u001b[39m[[\u001b[38;5;241m10\u001b[39m,\u001b[38;5;241m16\u001b[39m]], label_color\u001b[38;5;241m=\u001b[39m\u001b[38;5;124m\"\u001b[39m\u001b[38;5;124mblack\u001b[39m\u001b[38;5;124m\"\u001b[39m,color\u001b[38;5;241m=\u001b[39m\u001b[38;5;124m\"\u001b[39m\u001b[38;5;124mdarkgrey\u001b[39m\u001b[38;5;124m\"\u001b[39m)\n",
      "\u001b[0;31mNameError\u001b[0m: name 't' is not defined"
     ]
    }
   ],
   "source": [
    "t.view.add_distance(atom_pair=[[10,16]], label_color=\"black\",color=\"darkgrey\")"
   ]
  },
  {
   "cell_type": "markdown",
   "id": "056334dd-3af9-4ce6-aec9-9ccbc2e546f7",
   "metadata": {},
   "source": [
    "### once you are happy with the result render and download image"
   ]
  },
  {
   "cell_type": "code",
   "execution_count": 14,
   "id": "85c9a824-0b0f-4aeb-970a-5c52e9ecf290",
   "metadata": {
    "execution": {
     "iopub.execute_input": "2022-04-01T06:25:56.651277Z",
     "iopub.status.busy": "2022-04-01T06:25:56.649853Z",
     "iopub.status.idle": "2022-04-01T06:25:56.671275Z",
     "shell.execute_reply": "2022-04-01T06:25:56.670097Z"
    }
   },
   "outputs": [
    {
     "ename": "NameError",
     "evalue": "name 't' is not defined",
     "output_type": "error",
     "traceback": [
      "\u001b[0;31m---------------------------------------------------------------------------\u001b[0m",
      "\u001b[0;31mNameError\u001b[0m                                 Traceback (most recent call last)",
      "Input \u001b[0;32mIn [14]\u001b[0m, in \u001b[0;36m<cell line: 1>\u001b[0;34m()\u001b[0m\n\u001b[0;32m----> 1\u001b[0m \u001b[43mt\u001b[49m\u001b[38;5;241m.\u001b[39mview\u001b[38;5;241m.\u001b[39mdownload_image(\u001b[38;5;124m'\u001b[39m\u001b[38;5;124mfirst_protein.png\u001b[39m\u001b[38;5;124m'\u001b[39m)\n",
      "\u001b[0;31mNameError\u001b[0m: name 't' is not defined"
     ]
    }
   ],
   "source": [
    "t.view.download_image('first_protein.png')"
   ]
  },
  {
   "cell_type": "markdown",
   "id": "6c7eb674-800a-4416-8377-2ce819a0bc24",
   "metadata": {},
   "source": [
    "### Go crazy and make a movie to show off"
   ]
  },
  {
   "cell_type": "code",
   "execution_count": 15,
   "id": "88ae0440-91f0-41de-8d85-e632e537f00d",
   "metadata": {
    "execution": {
     "iopub.execute_input": "2022-04-01T06:25:56.674963Z",
     "iopub.status.busy": "2022-04-01T06:25:56.674396Z",
     "iopub.status.idle": "2022-04-01T06:25:56.709091Z",
     "shell.execute_reply": "2022-04-01T06:25:56.707813Z"
    }
   },
   "outputs": [
    {
     "ename": "ModuleNotFoundError",
     "evalue": "No module named 'moviepy'",
     "output_type": "error",
     "traceback": [
      "\u001b[0;31m---------------------------------------------------------------------------\u001b[0m",
      "\u001b[0;31mModuleNotFoundError\u001b[0m                       Traceback (most recent call last)",
      "Input \u001b[0;32mIn [15]\u001b[0m, in \u001b[0;36m<cell line: 5>\u001b[0;34m()\u001b[0m\n\u001b[1;32m      1\u001b[0m \u001b[38;5;66;03m### uncomment this for fast installation of NOT provided package\u001b[39;00m\n\u001b[1;32m      2\u001b[0m \u001b[38;5;66;03m# import sys\u001b[39;00m\n\u001b[1;32m      3\u001b[0m \u001b[38;5;66;03m# !{sys.executable} -m pip install moviepy\u001b[39;00m\n\u001b[0;32m----> 5\u001b[0m \u001b[38;5;28;01mimport\u001b[39;00m \u001b[38;5;21;01mmoviepy\u001b[39;00m\u001b[38;5;21;01m.\u001b[39;00m\u001b[38;5;21;01meditor\u001b[39;00m \u001b[38;5;28;01mas\u001b[39;00m \u001b[38;5;21;01mmpy\u001b[39;00m\n\u001b[1;32m      6\u001b[0m \u001b[38;5;28;01mfrom\u001b[39;00m \u001b[38;5;21;01mIPython\u001b[39;00m \u001b[38;5;28;01mimport\u001b[39;00m display\n\u001b[1;32m      7\u001b[0m \u001b[38;5;28;01mfrom\u001b[39;00m \u001b[38;5;21;01mtime\u001b[39;00m \u001b[38;5;28;01mimport\u001b[39;00m sleep\n",
      "\u001b[0;31mModuleNotFoundError\u001b[0m: No module named 'moviepy'"
     ]
    }
   ],
   "source": [
    "### uncomment this for fast installation of NOT provided package\n",
    "# import sys\n",
    "# !{sys.executable} -m pip install moviepy\n",
    "\n",
    "import moviepy.editor as mpy\n",
    "from IPython import display\n",
    "from time import sleep\n",
    "import tqdm\n",
    "import os\n",
    "\n",
    "# Setup frames\n",
    "frames = len(t.step)\n",
    "template = '0image{}.png'\n",
    "download_dir = '/localhome/kpaul/Downloads/'\n",
    "imagefiles = [download_dir + template.format(str(i)) for i in range(0, frames, 1)]\n",
    "\n",
    "# render frames\n",
    "for frame in tqdm.tqdm(range(0, frames)):\n",
    "    t.view.frame = frame\n",
    "    sleep(0.2) # depending on the speed of the computer this might need to be increased\n",
    "    t.view.download_image(filename=template.format(frame))\n",
    "    sleep(1) # depending on the speed of the computer this might need to be increased\n",
    "\n",
    "# set frames per second and generate object\n",
    "frame_per_second = 8\n",
    "im = mpy.ImageSequenceClip(imagefiles, fps=frame_per_second)\n",
    "im.write_gif('protein.gif', fps=frame_per_second)\n",
    "\n",
    "# show movie\n",
    "display.HTML(\"<img src='protein.gif'></img>\")"
   ]
  },
  {
   "cell_type": "code",
   "execution_count": null,
   "id": "9ff538c0-74b4-42cb-bc49-6cbf61ad6b44",
   "metadata": {},
   "outputs": [],
   "source": []
  }
 ],
 "metadata": {
  "kernelspec": {
   "display_name": "Python 3 (ipykernel)",
   "language": "python",
   "name": "python3"
  },
  "language_info": {
   "codemirror_mode": {
    "name": "ipython",
    "version": 3
   },
   "file_extension": ".py",
   "mimetype": "text/x-python",
   "name": "python",
   "nbconvert_exporter": "python",
   "pygments_lexer": "ipython3",
   "version": "3.9.10"
  },
  "widgets": {
   "application/vnd.jupyter.widget-state+json": {
    "state": {
     "e18d40619eab4cbf8e0ab4a305cdc5e0": {
      "model_module": "@jupyter-widgets/base",
      "model_module_version": "1.2.0",
      "model_name": "LayoutModel",
      "state": {
       "_model_module": "@jupyter-widgets/base",
       "_model_module_version": "1.2.0",
       "_model_name": "LayoutModel",
       "_view_count": null,
       "_view_module": "@jupyter-widgets/base",
       "_view_module_version": "1.2.0",
       "_view_name": "LayoutView",
       "align_content": null,
       "align_items": null,
       "align_self": null,
       "border": null,
       "bottom": null,
       "display": null,
       "flex": null,
       "flex_flow": null,
       "grid_area": null,
       "grid_auto_columns": null,
       "grid_auto_flow": null,
       "grid_auto_rows": null,
       "grid_column": null,
       "grid_gap": null,
       "grid_row": null,
       "grid_template_areas": null,
       "grid_template_columns": null,
       "grid_template_rows": null,
       "height": null,
       "justify_content": null,
       "justify_items": null,
       "left": null,
       "margin": null,
       "max_height": null,
       "max_width": null,
       "min_height": null,
       "min_width": null,
       "object_fit": null,
       "object_position": null,
       "order": null,
       "overflow": null,
       "overflow_x": null,
       "overflow_y": null,
       "padding": null,
       "right": null,
       "top": null,
       "visibility": null,
       "width": null
      }
     },
     "fcd915fbf0c649b5b77528e6284c5eb2": {
      "model_module": "nglview-js-widgets",
      "model_module_version": "3.0.1",
      "model_name": "ColormakerRegistryModel",
      "state": {
       "_dom_classes": [],
       "_model_module": "nglview-js-widgets",
       "_model_module_version": "3.0.1",
       "_model_name": "ColormakerRegistryModel",
       "_msg_ar": [],
       "_msg_q": [],
       "_ready": false,
       "_view_count": null,
       "_view_module": "nglview-js-widgets",
       "_view_module_version": "3.0.1",
       "_view_name": "ColormakerRegistryView",
       "layout": "IPY_MODEL_e18d40619eab4cbf8e0ab4a305cdc5e0"
      }
     }
    },
    "version_major": 2,
    "version_minor": 0
   }
  }
 },
 "nbformat": 4,
 "nbformat_minor": 5
}
