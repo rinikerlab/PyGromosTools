{
 "cells": [
  {
   "cell_type": "markdown",
   "id": "8239abda-7611-444e-92cb-05963c470bd7",
   "metadata": {
    "tags": []
   },
   "source": [
    "# PyGromos Visualization Example"
   ]
  },
  {
   "cell_type": "markdown",
   "id": "82900ea0-c687-4563-b0f6-8eac53934556",
   "metadata": {},
   "source": [
    "### Author: Paul Katzberger"
   ]
  },
  {
   "cell_type": "code",
   "execution_count": 1,
   "id": "70aa47e8-1233-42ec-a6b2-85fc29197d5a",
   "metadata": {
    "execution": {
     "iopub.execute_input": "2022-03-31T19:21:12.838793Z",
     "iopub.status.busy": "2022-03-31T19:21:12.838319Z",
     "iopub.status.idle": "2022-03-31T19:21:14.285056Z",
     "shell.execute_reply": "2022-03-31T19:21:14.283842Z"
    }
   },
   "outputs": [
    {
     "data": {
      "application/vnd.jupyter.widget-view+json": {
       "model_id": "7bbf999b8cc547fab104e3c71b474f9a",
       "version_major": 2,
       "version_minor": 0
      },
      "text/plain": []
     },
     "metadata": {},
     "output_type": "display_data"
    }
   ],
   "source": [
    "from pygromos.files.trajectory.trc import Trc\n",
    "import sys"
   ]
  },
  {
   "cell_type": "markdown",
   "id": "369107eb-036d-4e00-8430-a81b7af3c728",
   "metadata": {},
   "source": [
    "## Load Trajectory"
   ]
  },
  {
   "cell_type": "code",
   "execution_count": 2,
   "id": "b337c5ad-fe17-48a9-a764-2e7cfe3f8e2d",
   "metadata": {
    "execution": {
     "iopub.execute_input": "2022-03-31T19:21:14.291781Z",
     "iopub.status.busy": "2022-03-31T19:21:14.290096Z",
     "iopub.status.idle": "2022-03-31T19:21:14.421399Z",
     "shell.execute_reply": "2022-03-31T19:21:14.420627Z"
    }
   },
   "outputs": [
    {
     "ename": "FileNotFoundError",
     "evalue": "[Errno 2] No such file or directory: '../example_files/Traj_files/b_emin_vacuum_1.trc'",
     "output_type": "error",
     "traceback": [
      "\u001b[0;31m---------------------------------------------------------------------------\u001b[0m",
      "\u001b[0;31mFileNotFoundError\u001b[0m                         Traceback (most recent call last)",
      "\u001b[0;32m/tmp/ipykernel_26616/2141117605.py\u001b[0m in \u001b[0;36m<module>\u001b[0;34m\u001b[0m\n\u001b[0;32m----> 1\u001b[0;31m t = Trc(traj_path='../example_files/Traj_files/b_emin_vacuum_1.trc',\n\u001b[0m\u001b[1;32m      2\u001b[0m           in_cnf='../example_files/Traj_files/b_emin_vacuum.cnf')\n",
      "\u001b[0;32m~/PyGromosTools/pygromos/files/trajectory/trc.py\u001b[0m in \u001b[0;36m__init__\u001b[0;34m(self, xyz, topology, time, unitcell_lengths, unitcell_angles, traj_path, in_cnf, timestep_duration, _future_file)\u001b[0m\n\u001b[1;32m     70\u001b[0m \u001b[0;34m\u001b[0m\u001b[0m\n\u001b[1;32m     71\u001b[0m             \u001b[0;32mif\u001b[0m \u001b[0misinstance\u001b[0m\u001b[0;34m(\u001b[0m\u001b[0mtraj_path\u001b[0m\u001b[0;34m,\u001b[0m \u001b[0mstr\u001b[0m\u001b[0;34m)\u001b[0m\u001b[0;34m:\u001b[0m\u001b[0;34m\u001b[0m\u001b[0;34m\u001b[0m\u001b[0m\n\u001b[0;32m---> 72\u001b[0;31m                 \u001b[0mxyz\u001b[0m\u001b[0;34m,\u001b[0m \u001b[0mstep\u001b[0m\u001b[0;34m,\u001b[0m \u001b[0mtime\u001b[0m\u001b[0;34m,\u001b[0m \u001b[0munitcell_lengths\u001b[0m\u001b[0;34m,\u001b[0m \u001b[0munitcell_angles\u001b[0m \u001b[0;34m=\u001b[0m \u001b[0mself\u001b[0m\u001b[0;34m.\u001b[0m\u001b[0mparse_trc_efficiently\u001b[0m\u001b[0;34m(\u001b[0m\u001b[0mtraj_path\u001b[0m\u001b[0;34m)\u001b[0m\u001b[0;34m\u001b[0m\u001b[0;34m\u001b[0m\u001b[0m\n\u001b[0m\u001b[1;32m     73\u001b[0m \u001b[0;34m\u001b[0m\u001b[0m\n\u001b[1;32m     74\u001b[0m             \u001b[0;32mif\u001b[0m \u001b[0mcompress\u001b[0m\u001b[0;34m:\u001b[0m\u001b[0;34m\u001b[0m\u001b[0;34m\u001b[0m\u001b[0m\n",
      "\u001b[0;32m~/PyGromosTools/pygromos/files/trajectory/trc.py\u001b[0m in \u001b[0;36mparse_trc_efficiently\u001b[0;34m(self, traj_path)\u001b[0m\n\u001b[1;32m    175\u001b[0m \u001b[0;34m\u001b[0m\u001b[0m\n\u001b[1;32m    176\u001b[0m     \u001b[0;32mdef\u001b[0m \u001b[0mparse_trc_efficiently\u001b[0m\u001b[0;34m(\u001b[0m\u001b[0mself\u001b[0m\u001b[0;34m,\u001b[0m \u001b[0mtraj_path\u001b[0m\u001b[0;34m:\u001b[0m \u001b[0mstr\u001b[0m\u001b[0;34m)\u001b[0m \u001b[0;34m->\u001b[0m \u001b[0mTuple\u001b[0m\u001b[0;34m[\u001b[0m\u001b[0mnp\u001b[0m\u001b[0;34m.\u001b[0m\u001b[0marray\u001b[0m\u001b[0;34m,\u001b[0m \u001b[0mnp\u001b[0m\u001b[0;34m.\u001b[0m\u001b[0marray\u001b[0m\u001b[0;34m,\u001b[0m \u001b[0mnp\u001b[0m\u001b[0;34m.\u001b[0m\u001b[0marray\u001b[0m\u001b[0;34m]\u001b[0m\u001b[0;34m:\u001b[0m\u001b[0;34m\u001b[0m\u001b[0;34m\u001b[0m\u001b[0m\n\u001b[0;32m--> 177\u001b[0;31m         \u001b[0mself\u001b[0m\u001b[0;34m.\u001b[0m\u001b[0m_block_map\u001b[0m \u001b[0;34m=\u001b[0m \u001b[0mself\u001b[0m\u001b[0;34m.\u001b[0m\u001b[0m_generate_blockMap\u001b[0m\u001b[0;34m(\u001b[0m\u001b[0min_trc_path\u001b[0m\u001b[0;34m=\u001b[0m\u001b[0mtraj_path\u001b[0m\u001b[0;34m)\u001b[0m\u001b[0;34m\u001b[0m\u001b[0;34m\u001b[0m\u001b[0m\n\u001b[0m\u001b[1;32m    178\u001b[0m         \u001b[0;31m# build block mapping\u001b[0m\u001b[0;34m\u001b[0m\u001b[0;34m\u001b[0m\u001b[0m\n\u001b[1;32m    179\u001b[0m         \u001b[0mrep_time\u001b[0m \u001b[0;34m=\u001b[0m \u001b[0;36m1\u001b[0m\u001b[0;34m\u001b[0m\u001b[0;34m\u001b[0m\u001b[0m\n",
      "\u001b[0;32m~/PyGromosTools/pygromos/files/trajectory/trc.py\u001b[0m in \u001b[0;36m_generate_blockMap\u001b[0;34m(self, in_trc_path)\u001b[0m\n\u001b[1;32m    269\u001b[0m     \u001b[0;32mdef\u001b[0m \u001b[0m_generate_blockMap\u001b[0m\u001b[0;34m(\u001b[0m\u001b[0mself\u001b[0m\u001b[0;34m,\u001b[0m \u001b[0min_trc_path\u001b[0m\u001b[0;34m:\u001b[0m \u001b[0mstr\u001b[0m\u001b[0;34m)\u001b[0m \u001b[0;34m->\u001b[0m \u001b[0mDict\u001b[0m\u001b[0;34m[\u001b[0m\u001b[0mstr\u001b[0m\u001b[0;34m,\u001b[0m \u001b[0mint\u001b[0m\u001b[0;34m]\u001b[0m\u001b[0;34m:\u001b[0m\u001b[0;34m\u001b[0m\u001b[0;34m\u001b[0m\u001b[0m\n\u001b[1;32m    270\u001b[0m         \u001b[0mblock_map\u001b[0m \u001b[0;34m=\u001b[0m \u001b[0;34m{\u001b[0m\u001b[0;34m}\u001b[0m\u001b[0;34m\u001b[0m\u001b[0;34m\u001b[0m\u001b[0m\n\u001b[0;32m--> 271\u001b[0;31m         \u001b[0;32mwith\u001b[0m \u001b[0mopen\u001b[0m\u001b[0;34m(\u001b[0m\u001b[0min_trc_path\u001b[0m\u001b[0;34m,\u001b[0m \u001b[0;34m\"r\"\u001b[0m\u001b[0;34m)\u001b[0m \u001b[0;32mas\u001b[0m \u001b[0mfile_handle\u001b[0m\u001b[0;34m:\u001b[0m\u001b[0;34m\u001b[0m\u001b[0;34m\u001b[0m\u001b[0m\n\u001b[0m\u001b[1;32m    272\u001b[0m             \u001b[0minBlock\u001b[0m \u001b[0;34m=\u001b[0m \u001b[0;32mFalse\u001b[0m\u001b[0;34m\u001b[0m\u001b[0;34m\u001b[0m\u001b[0m\n\u001b[1;32m    273\u001b[0m             \u001b[0minTitleBlock\u001b[0m \u001b[0;34m=\u001b[0m \u001b[0;32mFalse\u001b[0m\u001b[0;34m\u001b[0m\u001b[0;34m\u001b[0m\u001b[0m\n",
      "\u001b[0;31mFileNotFoundError\u001b[0m: [Errno 2] No such file or directory: '../example_files/Traj_files/b_emin_vacuum_1.trc'"
     ]
    }
   ],
   "source": [
    "t = Trc(traj_path='../example_files/Traj_files/b_emin_vacuum_1.trc',\n",
    "          in_cnf='../example_files/Traj_files/b_emin_vacuum.cnf')"
   ]
  },
  {
   "cell_type": "code",
   "execution_count": 3,
   "id": "409e958b",
   "metadata": {
    "execution": {
     "iopub.execute_input": "2022-03-31T19:21:14.424032Z",
     "iopub.status.busy": "2022-03-31T19:21:14.423826Z",
     "iopub.status.idle": "2022-03-31T19:21:14.435531Z",
     "shell.execute_reply": "2022-03-31T19:21:14.434764Z"
    }
   },
   "outputs": [
    {
     "ename": "OSError",
     "evalue": "[Errno Could not find File: ] ../example_files/Traj_files/b_emin_vacuum.cnf",
     "output_type": "error",
     "traceback": [
      "\u001b[0;31m---------------------------------------------------------------------------\u001b[0m",
      "\u001b[0;31mOSError\u001b[0m                                   Traceback (most recent call last)",
      "\u001b[0;32m/tmp/ipykernel_26616/1810768833.py\u001b[0m in \u001b[0;36m<module>\u001b[0;34m\u001b[0m\n\u001b[1;32m      1\u001b[0m \u001b[0;32mfrom\u001b[0m \u001b[0mpygromos\u001b[0m\u001b[0;34m.\u001b[0m\u001b[0mfiles\u001b[0m\u001b[0;34m.\u001b[0m\u001b[0mcoord\u001b[0m\u001b[0;34m.\u001b[0m\u001b[0mcnf\u001b[0m \u001b[0;32mimport\u001b[0m \u001b[0mCnf\u001b[0m\u001b[0;34m\u001b[0m\u001b[0;34m\u001b[0m\u001b[0m\n\u001b[0;32m----> 2\u001b[0;31m \u001b[0mCnf\u001b[0m\u001b[0;34m(\u001b[0m\u001b[0;34m'../example_files/Traj_files/b_emin_vacuum.cnf'\u001b[0m\u001b[0;34m)\u001b[0m\u001b[0;34m.\u001b[0m\u001b[0mGENBOX\u001b[0m\u001b[0;34m\u001b[0m\u001b[0;34m\u001b[0m\u001b[0m\n\u001b[0m",
      "\u001b[0;32m~/PyGromosTools/pygromos/files/coord/cnf.py\u001b[0m in \u001b[0;36m__init__\u001b[0;34m(self, in_value, clean_resiNumbers_by_Name, verbose, _future_file)\u001b[0m\n\u001b[1;32m     78\u001b[0m         \u001b[0;31m# general import\u001b[0m\u001b[0;34m\u001b[0m\u001b[0;34m\u001b[0m\u001b[0m\n\u001b[1;32m     79\u001b[0m         \u001b[0;32melse\u001b[0m\u001b[0;34m:\u001b[0m\u001b[0;34m\u001b[0m\u001b[0;34m\u001b[0m\u001b[0m\n\u001b[0;32m---> 80\u001b[0;31m             \u001b[0msuper\u001b[0m\u001b[0;34m(\u001b[0m\u001b[0;34m)\u001b[0m\u001b[0;34m.\u001b[0m\u001b[0m__init__\u001b[0m\u001b[0;34m(\u001b[0m\u001b[0min_value\u001b[0m\u001b[0;34m=\u001b[0m\u001b[0min_value\u001b[0m\u001b[0;34m,\u001b[0m \u001b[0m_future_file\u001b[0m\u001b[0;34m=\u001b[0m\u001b[0m_future_file\u001b[0m\u001b[0;34m)\u001b[0m\u001b[0;34m\u001b[0m\u001b[0;34m\u001b[0m\u001b[0m\n\u001b[0m\u001b[1;32m     81\u001b[0m             \u001b[0;32mif\u001b[0m \u001b[0mhasattr\u001b[0m\u001b[0;34m(\u001b[0m\u001b[0mself\u001b[0m\u001b[0;34m,\u001b[0m \u001b[0;34m\"POSITION\"\u001b[0m\u001b[0;34m)\u001b[0m\u001b[0;34m:\u001b[0m\u001b[0;34m\u001b[0m\u001b[0;34m\u001b[0m\u001b[0m\n\u001b[1;32m     82\u001b[0m                 \u001b[0;32mif\u001b[0m \u001b[0mclean_resiNumbers_by_Name\u001b[0m\u001b[0;34m:\u001b[0m\u001b[0;34m\u001b[0m\u001b[0;34m\u001b[0m\u001b[0m\n",
      "\u001b[0;32m~/PyGromosTools/pygromos/files/_basics/_general_gromos_file.py\u001b[0m in \u001b[0;36m__init__\u001b[0;34m(self, in_value, _future_file)\u001b[0m\n\u001b[1;32m     40\u001b[0m                 \u001b[0mself\u001b[0m\u001b[0;34m.\u001b[0m\u001b[0mread_blocks\u001b[0m\u001b[0;34m(\u001b[0m\u001b[0;34m)\u001b[0m\u001b[0;34m\u001b[0m\u001b[0;34m\u001b[0m\u001b[0m\n\u001b[1;32m     41\u001b[0m             \u001b[0;32melse\u001b[0m\u001b[0;34m:\u001b[0m\u001b[0;34m\u001b[0m\u001b[0;34m\u001b[0m\u001b[0m\n\u001b[0;32m---> 42\u001b[0;31m                 \u001b[0;32mraise\u001b[0m \u001b[0mIOError\u001b[0m\u001b[0;34m(\u001b[0m\u001b[0;34m\"Could not find File: \"\u001b[0m\u001b[0;34m,\u001b[0m \u001b[0min_value\u001b[0m\u001b[0;34m)\u001b[0m\u001b[0;34m\u001b[0m\u001b[0;34m\u001b[0m\u001b[0m\n\u001b[0m\u001b[1;32m     43\u001b[0m \u001b[0;34m\u001b[0m\u001b[0m\n\u001b[1;32m     44\u001b[0m         \u001b[0;32melif\u001b[0m \u001b[0misinstance\u001b[0m\u001b[0;34m(\u001b[0m\u001b[0mtype\u001b[0m\u001b[0;34m(\u001b[0m\u001b[0min_value\u001b[0m\u001b[0;34m)\u001b[0m\u001b[0;34m,\u001b[0m \u001b[0m__class__\u001b[0m\u001b[0;34m)\u001b[0m\u001b[0;34m:\u001b[0m\u001b[0;34m\u001b[0m\u001b[0;34m\u001b[0m\u001b[0m\n",
      "\u001b[0;31mOSError\u001b[0m: [Errno Could not find File: ] ../example_files/Traj_files/b_emin_vacuum.cnf"
     ]
    }
   ],
   "source": [
    "from pygromos.files.coord.cnf import Cnf\n",
    "Cnf('../example_files/Traj_files/b_emin_vacuum.cnf').GENBOX"
   ]
  },
  {
   "cell_type": "code",
   "execution_count": 4,
   "id": "da5fc3a1",
   "metadata": {
    "execution": {
     "iopub.execute_input": "2022-03-31T19:21:14.438119Z",
     "iopub.status.busy": "2022-03-31T19:21:14.437917Z",
     "iopub.status.idle": "2022-03-31T19:21:14.450257Z",
     "shell.execute_reply": "2022-03-31T19:21:14.449523Z"
    }
   },
   "outputs": [
    {
     "ename": "NameError",
     "evalue": "name 't' is not defined",
     "output_type": "error",
     "traceback": [
      "\u001b[0;31m---------------------------------------------------------------------------\u001b[0m",
      "\u001b[0;31mNameError\u001b[0m                                 Traceback (most recent call last)",
      "\u001b[0;32m/tmp/ipykernel_26616/3701835739.py\u001b[0m in \u001b[0;36m<module>\u001b[0;34m\u001b[0m\n\u001b[0;32m----> 1\u001b[0;31m \u001b[0mt\u001b[0m\u001b[0;34m.\u001b[0m\u001b[0mto_cnf\u001b[0m\u001b[0;34m(\u001b[0m\u001b[0mbase_cnf\u001b[0m\u001b[0;34m=\u001b[0m\u001b[0;34m'../example_files/Traj_files/b_emin_vacuum.cnf'\u001b[0m\u001b[0;34m)\u001b[0m\u001b[0;34m\u001b[0m\u001b[0;34m\u001b[0m\u001b[0m\n\u001b[0m",
      "\u001b[0;31mNameError\u001b[0m: name 't' is not defined"
     ]
    }
   ],
   "source": [
    "t.to_cnf(base_cnf='../example_files/Traj_files/b_emin_vacuum.cnf')"
   ]
  },
  {
   "cell_type": "code",
   "execution_count": 5,
   "id": "132f8441",
   "metadata": {
    "execution": {
     "iopub.execute_input": "2022-03-31T19:21:14.453067Z",
     "iopub.status.busy": "2022-03-31T19:21:14.452611Z",
     "iopub.status.idle": "2022-03-31T19:21:14.461934Z",
     "shell.execute_reply": "2022-03-31T19:21:14.461192Z"
    }
   },
   "outputs": [
    {
     "ename": "NameError",
     "evalue": "name 't' is not defined",
     "output_type": "error",
     "traceback": [
      "\u001b[0;31m---------------------------------------------------------------------------\u001b[0m",
      "\u001b[0;31mNameError\u001b[0m                                 Traceback (most recent call last)",
      "\u001b[0;32m/tmp/ipykernel_26616/1664969902.py\u001b[0m in \u001b[0;36m<module>\u001b[0;34m\u001b[0m\n\u001b[0;32m----> 1\u001b[0;31m \u001b[0mt\u001b[0m\u001b[0;34m.\u001b[0m\u001b[0munitcell_lengths\u001b[0m\u001b[0;34m[\u001b[0m\u001b[0;36m60\u001b[0m\u001b[0;34m]\u001b[0m\u001b[0;34m\u001b[0m\u001b[0;34m\u001b[0m\u001b[0m\n\u001b[0m",
      "\u001b[0;31mNameError\u001b[0m: name 't' is not defined"
     ]
    }
   ],
   "source": [
    "t.unitcell_lengths[60]"
   ]
  },
  {
   "cell_type": "code",
   "execution_count": 6,
   "id": "b6779e4d",
   "metadata": {
    "execution": {
     "iopub.execute_input": "2022-03-31T19:21:14.465863Z",
     "iopub.status.busy": "2022-03-31T19:21:14.464816Z",
     "iopub.status.idle": "2022-03-31T19:21:14.477516Z",
     "shell.execute_reply": "2022-03-31T19:21:14.475839Z"
    }
   },
   "outputs": [
    {
     "ename": "NameError",
     "evalue": "name 't' is not defined",
     "output_type": "error",
     "traceback": [
      "\u001b[0;31m---------------------------------------------------------------------------\u001b[0m",
      "\u001b[0;31mNameError\u001b[0m                                 Traceback (most recent call last)",
      "\u001b[0;32m/tmp/ipykernel_26616/3303159295.py\u001b[0m in \u001b[0;36m<module>\u001b[0;34m\u001b[0m\n\u001b[0;32m----> 1\u001b[0;31m \u001b[0mt\u001b[0m\u001b[0;34m.\u001b[0m\u001b[0m_unitcell_lengths\u001b[0m\u001b[0;34m\u001b[0m\u001b[0;34m\u001b[0m\u001b[0m\n\u001b[0m",
      "\u001b[0;31mNameError\u001b[0m: name 't' is not defined"
     ]
    }
   ],
   "source": [
    "t._unitcell_lengths"
   ]
  },
  {
   "cell_type": "markdown",
   "id": "f365f7b1-ca81-42eb-9fdb-f5f1775cc416",
   "metadata": {},
   "source": [
    "## Create Visualization"
   ]
  },
  {
   "cell_type": "code",
   "execution_count": 7,
   "id": "b1200a58-b534-41c3-b351-f2927126a28f",
   "metadata": {
    "execution": {
     "iopub.execute_input": "2022-03-31T19:21:14.482495Z",
     "iopub.status.busy": "2022-03-31T19:21:14.482146Z",
     "iopub.status.idle": "2022-03-31T19:21:14.490755Z",
     "shell.execute_reply": "2022-03-31T19:21:14.490061Z"
    }
   },
   "outputs": [
    {
     "ename": "NameError",
     "evalue": "name 't' is not defined",
     "output_type": "error",
     "traceback": [
      "\u001b[0;31m---------------------------------------------------------------------------\u001b[0m",
      "\u001b[0;31mNameError\u001b[0m                                 Traceback (most recent call last)",
      "\u001b[0;32m/tmp/ipykernel_26616/619100983.py\u001b[0m in \u001b[0;36m<module>\u001b[0;34m\u001b[0m\n\u001b[0;32m----> 1\u001b[0;31m \u001b[0mt\u001b[0m\u001b[0;34m.\u001b[0m\u001b[0mview\u001b[0m\u001b[0;34m\u001b[0m\u001b[0;34m\u001b[0m\u001b[0m\n\u001b[0m",
      "\u001b[0;31mNameError\u001b[0m: name 't' is not defined"
     ]
    }
   ],
   "source": [
    "t.view"
   ]
  },
  {
   "cell_type": "markdown",
   "id": "ae53eead-5654-435d-804c-5b34297f1ca5",
   "metadata": {},
   "source": [
    "## Do some changes and see how the visualization changes"
   ]
  },
  {
   "cell_type": "markdown",
   "id": "4a339b02-35b4-4063-8920-f6e1de81792b",
   "metadata": {},
   "source": [
    "### press play or select frame directly (i.e. 70)"
   ]
  },
  {
   "cell_type": "code",
   "execution_count": 8,
   "id": "bc3169c8-e7f8-4759-a12a-374de9857646",
   "metadata": {
    "execution": {
     "iopub.execute_input": "2022-03-31T19:21:14.494160Z",
     "iopub.status.busy": "2022-03-31T19:21:14.493697Z",
     "iopub.status.idle": "2022-03-31T19:21:14.505352Z",
     "shell.execute_reply": "2022-03-31T19:21:14.504501Z"
    }
   },
   "outputs": [
    {
     "ename": "NameError",
     "evalue": "name 't' is not defined",
     "output_type": "error",
     "traceback": [
      "\u001b[0;31m---------------------------------------------------------------------------\u001b[0m",
      "\u001b[0;31mNameError\u001b[0m                                 Traceback (most recent call last)",
      "\u001b[0;32m/tmp/ipykernel_26616/3325824474.py\u001b[0m in \u001b[0;36m<module>\u001b[0;34m\u001b[0m\n\u001b[0;32m----> 1\u001b[0;31m \u001b[0mt\u001b[0m\u001b[0;34m.\u001b[0m\u001b[0mview\u001b[0m\u001b[0;34m.\u001b[0m\u001b[0mframe\u001b[0m \u001b[0;34m=\u001b[0m \u001b[0;36m70\u001b[0m\u001b[0;34m\u001b[0m\u001b[0;34m\u001b[0m\u001b[0m\n\u001b[0m",
      "\u001b[0;31mNameError\u001b[0m: name 't' is not defined"
     ]
    }
   ],
   "source": [
    "t.view.frame = 70"
   ]
  },
  {
   "cell_type": "markdown",
   "id": "98a13ac6-e07a-4bb3-966c-0b4ef636b612",
   "metadata": {},
   "source": [
    "### show hydrogen Bonds"
   ]
  },
  {
   "cell_type": "code",
   "execution_count": 9,
   "id": "8834362f-50f1-42e1-90b1-2f1bf82a1b9a",
   "metadata": {
    "execution": {
     "iopub.execute_input": "2022-03-31T19:21:14.511465Z",
     "iopub.status.busy": "2022-03-31T19:21:14.511117Z",
     "iopub.status.idle": "2022-03-31T19:21:14.522438Z",
     "shell.execute_reply": "2022-03-31T19:21:14.521748Z"
    }
   },
   "outputs": [
    {
     "ename": "NameError",
     "evalue": "name 't' is not defined",
     "output_type": "error",
     "traceback": [
      "\u001b[0;31m---------------------------------------------------------------------------\u001b[0m",
      "\u001b[0;31mNameError\u001b[0m                                 Traceback (most recent call last)",
      "\u001b[0;32m/tmp/ipykernel_26616/356620912.py\u001b[0m in \u001b[0;36m<module>\u001b[0;34m\u001b[0m\n\u001b[0;32m----> 1\u001b[0;31m \u001b[0mt\u001b[0m\u001b[0;34m.\u001b[0m\u001b[0mview\u001b[0m\u001b[0;34m.\u001b[0m\u001b[0madd_contact\u001b[0m\u001b[0;34m(\u001b[0m\u001b[0mhydrogenBond\u001b[0m\u001b[0;34m=\u001b[0m\u001b[0;32mTrue\u001b[0m\u001b[0;34m)\u001b[0m\u001b[0;34m\u001b[0m\u001b[0;34m\u001b[0m\u001b[0m\n\u001b[0m",
      "\u001b[0;31mNameError\u001b[0m: name 't' is not defined"
     ]
    }
   ],
   "source": [
    "t.view.add_contact(hydrogenBond=True)"
   ]
  },
  {
   "cell_type": "markdown",
   "id": "4a9ba34d-06a2-4d3e-90d6-ee9f4a7cbfab",
   "metadata": {},
   "source": [
    "### add surface"
   ]
  },
  {
   "cell_type": "code",
   "execution_count": 10,
   "id": "9a52832b-851b-4950-b7d4-013baad9074e",
   "metadata": {
    "execution": {
     "iopub.execute_input": "2022-03-31T19:21:14.525944Z",
     "iopub.status.busy": "2022-03-31T19:21:14.524885Z",
     "iopub.status.idle": "2022-03-31T19:21:14.535791Z",
     "shell.execute_reply": "2022-03-31T19:21:14.534665Z"
    }
   },
   "outputs": [
    {
     "ename": "NameError",
     "evalue": "name 't' is not defined",
     "output_type": "error",
     "traceback": [
      "\u001b[0;31m---------------------------------------------------------------------------\u001b[0m",
      "\u001b[0;31mNameError\u001b[0m                                 Traceback (most recent call last)",
      "\u001b[0;32m/tmp/ipykernel_26616/3974770238.py\u001b[0m in \u001b[0;36m<module>\u001b[0;34m\u001b[0m\n\u001b[0;32m----> 1\u001b[0;31m \u001b[0mt\u001b[0m\u001b[0;34m.\u001b[0m\u001b[0mview\u001b[0m\u001b[0;34m.\u001b[0m\u001b[0madd_surface\u001b[0m\u001b[0;34m(\u001b[0m\u001b[0mcolor\u001b[0m\u001b[0;34m=\u001b[0m\u001b[0;34m\"lightgrey\"\u001b[0m\u001b[0;34m,\u001b[0m\u001b[0mopacity\u001b[0m\u001b[0;34m=\u001b[0m\u001b[0;36m0.3\u001b[0m\u001b[0;34m)\u001b[0m\u001b[0;34m\u001b[0m\u001b[0;34m\u001b[0m\u001b[0m\n\u001b[0m",
      "\u001b[0;31mNameError\u001b[0m: name 't' is not defined"
     ]
    }
   ],
   "source": [
    "t.view.add_surface(color=\"lightgrey\",opacity=0.3)"
   ]
  },
  {
   "cell_type": "markdown",
   "id": "c8814049-8c91-469a-9366-fe06e5d3a4f8",
   "metadata": {},
   "source": [
    "### remove surface"
   ]
  },
  {
   "cell_type": "code",
   "execution_count": 11,
   "id": "10b257b9-7f15-4e95-9d3a-7457dbe8bcb4",
   "metadata": {
    "execution": {
     "iopub.execute_input": "2022-03-31T19:21:14.538362Z",
     "iopub.status.busy": "2022-03-31T19:21:14.538161Z",
     "iopub.status.idle": "2022-03-31T19:21:14.551141Z",
     "shell.execute_reply": "2022-03-31T19:21:14.550354Z"
    }
   },
   "outputs": [
    {
     "ename": "NameError",
     "evalue": "name 't' is not defined",
     "output_type": "error",
     "traceback": [
      "\u001b[0;31m---------------------------------------------------------------------------\u001b[0m",
      "\u001b[0;31mNameError\u001b[0m                                 Traceback (most recent call last)",
      "\u001b[0;32m/tmp/ipykernel_26616/3797719507.py\u001b[0m in \u001b[0;36m<module>\u001b[0;34m\u001b[0m\n\u001b[0;32m----> 1\u001b[0;31m \u001b[0mt\u001b[0m\u001b[0;34m.\u001b[0m\u001b[0mview\u001b[0m\u001b[0;34m.\u001b[0m\u001b[0mremove_surface\u001b[0m\u001b[0;34m(\u001b[0m\u001b[0;34m)\u001b[0m\u001b[0;34m\u001b[0m\u001b[0;34m\u001b[0m\u001b[0m\n\u001b[0m",
      "\u001b[0;31mNameError\u001b[0m: name 't' is not defined"
     ]
    }
   ],
   "source": [
    "t.view.remove_surface()"
   ]
  },
  {
   "cell_type": "markdown",
   "id": "3f0fe172-840e-4385-98b3-662458d51662",
   "metadata": {},
   "source": [
    "### add transperent cartoon"
   ]
  },
  {
   "cell_type": "code",
   "execution_count": 12,
   "id": "f918bc36-8317-4e29-b5e9-9a3d9bd20c98",
   "metadata": {
    "execution": {
     "iopub.execute_input": "2022-03-31T19:21:14.554567Z",
     "iopub.status.busy": "2022-03-31T19:21:14.554126Z",
     "iopub.status.idle": "2022-03-31T19:21:14.564872Z",
     "shell.execute_reply": "2022-03-31T19:21:14.564026Z"
    }
   },
   "outputs": [
    {
     "ename": "NameError",
     "evalue": "name 't' is not defined",
     "output_type": "error",
     "traceback": [
      "\u001b[0;31m---------------------------------------------------------------------------\u001b[0m",
      "\u001b[0;31mNameError\u001b[0m                                 Traceback (most recent call last)",
      "\u001b[0;32m/tmp/ipykernel_26616/4227656542.py\u001b[0m in \u001b[0;36m<module>\u001b[0;34m\u001b[0m\n\u001b[0;32m----> 1\u001b[0;31m \u001b[0mt\u001b[0m\u001b[0;34m.\u001b[0m\u001b[0mview\u001b[0m\u001b[0;34m.\u001b[0m\u001b[0madd_representation\u001b[0m\u001b[0;34m(\u001b[0m\u001b[0;34m\"cartoon\"\u001b[0m\u001b[0;34m,\u001b[0m\u001b[0mselection\u001b[0m\u001b[0;34m=\u001b[0m\u001b[0;34m\"protein\"\u001b[0m\u001b[0;34m,\u001b[0m\u001b[0mcolor\u001b[0m\u001b[0;34m=\u001b[0m\u001b[0;34m'lightblue'\u001b[0m\u001b[0;34m,\u001b[0m\u001b[0mopacity\u001b[0m\u001b[0;34m=\u001b[0m\u001b[0;36m0.3\u001b[0m\u001b[0;34m)\u001b[0m\u001b[0;34m\u001b[0m\u001b[0;34m\u001b[0m\u001b[0m\n\u001b[0m",
      "\u001b[0;31mNameError\u001b[0m: name 't' is not defined"
     ]
    }
   ],
   "source": [
    "t.view.add_representation(\"cartoon\",selection=\"protein\",color='lightblue',opacity=0.3)"
   ]
  },
  {
   "cell_type": "markdown",
   "id": "13c34b80-3eb2-4477-ace9-6996d8671575",
   "metadata": {},
   "source": [
    "### show distance between atom pair"
   ]
  },
  {
   "cell_type": "code",
   "execution_count": 13,
   "id": "ab63d665-939d-4e1d-af44-c53e76f0a3b1",
   "metadata": {
    "execution": {
     "iopub.execute_input": "2022-03-31T19:21:14.568748Z",
     "iopub.status.busy": "2022-03-31T19:21:14.567956Z",
     "iopub.status.idle": "2022-03-31T19:21:14.581969Z",
     "shell.execute_reply": "2022-03-31T19:21:14.580193Z"
    }
   },
   "outputs": [
    {
     "ename": "NameError",
     "evalue": "name 't' is not defined",
     "output_type": "error",
     "traceback": [
      "\u001b[0;31m---------------------------------------------------------------------------\u001b[0m",
      "\u001b[0;31mNameError\u001b[0m                                 Traceback (most recent call last)",
      "\u001b[0;32m/tmp/ipykernel_26616/3208833798.py\u001b[0m in \u001b[0;36m<module>\u001b[0;34m\u001b[0m\n\u001b[0;32m----> 1\u001b[0;31m \u001b[0mt\u001b[0m\u001b[0;34m.\u001b[0m\u001b[0mview\u001b[0m\u001b[0;34m.\u001b[0m\u001b[0madd_distance\u001b[0m\u001b[0;34m(\u001b[0m\u001b[0matom_pair\u001b[0m\u001b[0;34m=\u001b[0m\u001b[0;34m[\u001b[0m\u001b[0;34m[\u001b[0m\u001b[0;36m10\u001b[0m\u001b[0;34m,\u001b[0m\u001b[0;36m16\u001b[0m\u001b[0;34m]\u001b[0m\u001b[0;34m]\u001b[0m\u001b[0;34m,\u001b[0m \u001b[0mlabel_color\u001b[0m\u001b[0;34m=\u001b[0m\u001b[0;34m\"black\"\u001b[0m\u001b[0;34m,\u001b[0m\u001b[0mcolor\u001b[0m\u001b[0;34m=\u001b[0m\u001b[0;34m\"darkgrey\"\u001b[0m\u001b[0;34m)\u001b[0m\u001b[0;34m\u001b[0m\u001b[0;34m\u001b[0m\u001b[0m\n\u001b[0m",
      "\u001b[0;31mNameError\u001b[0m: name 't' is not defined"
     ]
    }
   ],
   "source": [
    "t.view.add_distance(atom_pair=[[10,16]], label_color=\"black\",color=\"darkgrey\")"
   ]
  },
  {
   "cell_type": "markdown",
   "id": "056334dd-3af9-4ce6-aec9-9ccbc2e546f7",
   "metadata": {},
   "source": [
    "### once you are happy with the result render and download image"
   ]
  },
  {
   "cell_type": "code",
   "execution_count": 14,
   "id": "85c9a824-0b0f-4aeb-970a-5c52e9ecf290",
   "metadata": {
    "execution": {
     "iopub.execute_input": "2022-03-31T19:21:14.585420Z",
     "iopub.status.busy": "2022-03-31T19:21:14.585131Z",
     "iopub.status.idle": "2022-03-31T19:21:14.595601Z",
     "shell.execute_reply": "2022-03-31T19:21:14.594887Z"
    }
   },
   "outputs": [
    {
     "ename": "NameError",
     "evalue": "name 't' is not defined",
     "output_type": "error",
     "traceback": [
      "\u001b[0;31m---------------------------------------------------------------------------\u001b[0m",
      "\u001b[0;31mNameError\u001b[0m                                 Traceback (most recent call last)",
      "\u001b[0;32m/tmp/ipykernel_26616/2940112545.py\u001b[0m in \u001b[0;36m<module>\u001b[0;34m\u001b[0m\n\u001b[0;32m----> 1\u001b[0;31m \u001b[0mt\u001b[0m\u001b[0;34m.\u001b[0m\u001b[0mview\u001b[0m\u001b[0;34m.\u001b[0m\u001b[0mdownload_image\u001b[0m\u001b[0;34m(\u001b[0m\u001b[0;34m'first_protein.png'\u001b[0m\u001b[0;34m)\u001b[0m\u001b[0;34m\u001b[0m\u001b[0;34m\u001b[0m\u001b[0m\n\u001b[0m",
      "\u001b[0;31mNameError\u001b[0m: name 't' is not defined"
     ]
    }
   ],
   "source": [
    "t.view.download_image('first_protein.png')"
   ]
  },
  {
   "cell_type": "markdown",
   "id": "6c7eb674-800a-4416-8377-2ce819a0bc24",
   "metadata": {},
   "source": [
    "### Go crazy and make a movie to show off"
   ]
  },
  {
   "cell_type": "code",
   "execution_count": 15,
   "id": "88ae0440-91f0-41de-8d85-e632e537f00d",
   "metadata": {
    "execution": {
     "iopub.execute_input": "2022-03-31T19:21:14.598447Z",
     "iopub.status.busy": "2022-03-31T19:21:14.598226Z",
     "iopub.status.idle": "2022-03-31T19:21:14.613023Z",
     "shell.execute_reply": "2022-03-31T19:21:14.611409Z"
    }
   },
   "outputs": [
    {
     "ename": "ModuleNotFoundError",
     "evalue": "No module named 'moviepy'",
     "output_type": "error",
     "traceback": [
      "\u001b[0;31m---------------------------------------------------------------------------\u001b[0m",
      "\u001b[0;31mModuleNotFoundError\u001b[0m                       Traceback (most recent call last)",
      "\u001b[0;32m/tmp/ipykernel_26616/3061977753.py\u001b[0m in \u001b[0;36m<module>\u001b[0;34m\u001b[0m\n\u001b[1;32m      3\u001b[0m \u001b[0;31m# !{sys.executable} -m pip install moviepy\u001b[0m\u001b[0;34m\u001b[0m\u001b[0;34m\u001b[0m\u001b[0m\n\u001b[1;32m      4\u001b[0m \u001b[0;34m\u001b[0m\u001b[0m\n\u001b[0;32m----> 5\u001b[0;31m \u001b[0;32mimport\u001b[0m \u001b[0mmoviepy\u001b[0m\u001b[0;34m.\u001b[0m\u001b[0meditor\u001b[0m \u001b[0;32mas\u001b[0m \u001b[0mmpy\u001b[0m\u001b[0;34m\u001b[0m\u001b[0;34m\u001b[0m\u001b[0m\n\u001b[0m\u001b[1;32m      6\u001b[0m \u001b[0;32mfrom\u001b[0m \u001b[0mIPython\u001b[0m \u001b[0;32mimport\u001b[0m \u001b[0mdisplay\u001b[0m\u001b[0;34m\u001b[0m\u001b[0;34m\u001b[0m\u001b[0m\n\u001b[1;32m      7\u001b[0m \u001b[0;32mfrom\u001b[0m \u001b[0mtime\u001b[0m \u001b[0;32mimport\u001b[0m \u001b[0msleep\u001b[0m\u001b[0;34m\u001b[0m\u001b[0;34m\u001b[0m\u001b[0m\n",
      "\u001b[0;31mModuleNotFoundError\u001b[0m: No module named 'moviepy'"
     ]
    }
   ],
   "source": [
    "### uncomment this for fast installation of NOT provided package\n",
    "# import sys\n",
    "# !{sys.executable} -m pip install moviepy\n",
    "\n",
    "import moviepy.editor as mpy\n",
    "from IPython import display\n",
    "from time import sleep\n",
    "import tqdm\n",
    "import os\n",
    "\n",
    "# Setup frames\n",
    "frames = len(t.step)\n",
    "template = '0image{}.png'\n",
    "download_dir = '/localhome/kpaul/Downloads/'\n",
    "imagefiles = [download_dir + template.format(str(i)) for i in range(0, frames, 1)]\n",
    "\n",
    "# render frames\n",
    "for frame in tqdm.tqdm(range(0, frames)):\n",
    "    t.view.frame = frame\n",
    "    sleep(0.2) # depending on the speed of the computer this might need to be increased\n",
    "    t.view.download_image(filename=template.format(frame))\n",
    "    sleep(1) # depending on the speed of the computer this might need to be increased\n",
    "\n",
    "# set frames per second and generate object\n",
    "frame_per_second = 8\n",
    "im = mpy.ImageSequenceClip(imagefiles, fps=frame_per_second)\n",
    "im.write_gif('protein.gif', fps=frame_per_second)\n",
    "\n",
    "# show movie\n",
    "display.HTML(\"<img src='protein.gif'></img>\")"
   ]
  },
  {
   "cell_type": "code",
   "execution_count": null,
   "id": "9ff538c0-74b4-42cb-bc49-6cbf61ad6b44",
   "metadata": {},
   "outputs": [],
   "source": []
  }
 ],
 "metadata": {
  "kernelspec": {
   "display_name": "Python 3 (ipykernel)",
   "language": "python",
   "name": "python3"
  },
  "language_info": {
   "codemirror_mode": {
    "name": "ipython",
    "version": 3
   },
   "file_extension": ".py",
   "mimetype": "text/x-python",
   "name": "python",
   "nbconvert_exporter": "python",
   "pygments_lexer": "ipython3",
   "version": "3.9.7"
  },
  "widgets": {
   "application/vnd.jupyter.widget-state+json": {
    "state": {
     "7bbf999b8cc547fab104e3c71b474f9a": {
      "model_module": "nglview-js-widgets",
      "model_module_version": "3.0.1",
      "model_name": "ColormakerRegistryModel",
      "state": {
       "_dom_classes": [],
       "_model_module": "nglview-js-widgets",
       "_model_module_version": "3.0.1",
       "_model_name": "ColormakerRegistryModel",
       "_msg_ar": [],
       "_msg_q": [],
       "_ready": false,
       "_view_count": null,
       "_view_module": "nglview-js-widgets",
       "_view_module_version": "3.0.1",
       "_view_name": "ColormakerRegistryView",
       "layout": "IPY_MODEL_eb3075a63f8447dcbfb8560825ac4600"
      }
     },
     "eb3075a63f8447dcbfb8560825ac4600": {
      "model_module": "@jupyter-widgets/base",
      "model_module_version": "1.2.0",
      "model_name": "LayoutModel",
      "state": {
       "_model_module": "@jupyter-widgets/base",
       "_model_module_version": "1.2.0",
       "_model_name": "LayoutModel",
       "_view_count": null,
       "_view_module": "@jupyter-widgets/base",
       "_view_module_version": "1.2.0",
       "_view_name": "LayoutView",
       "align_content": null,
       "align_items": null,
       "align_self": null,
       "border": null,
       "bottom": null,
       "display": null,
       "flex": null,
       "flex_flow": null,
       "grid_area": null,
       "grid_auto_columns": null,
       "grid_auto_flow": null,
       "grid_auto_rows": null,
       "grid_column": null,
       "grid_gap": null,
       "grid_row": null,
       "grid_template_areas": null,
       "grid_template_columns": null,
       "grid_template_rows": null,
       "height": null,
       "justify_content": null,
       "justify_items": null,
       "left": null,
       "margin": null,
       "max_height": null,
       "max_width": null,
       "min_height": null,
       "min_width": null,
       "object_fit": null,
       "object_position": null,
       "order": null,
       "overflow": null,
       "overflow_x": null,
       "overflow_y": null,
       "padding": null,
       "right": null,
       "top": null,
       "visibility": null,
       "width": null
      }
     }
    },
    "version_major": 2,
    "version_minor": 0
   }
  }
 },
 "nbformat": 4,
 "nbformat_minor": 5
}
