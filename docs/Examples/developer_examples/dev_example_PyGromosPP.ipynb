{
 "cells": [
  {
   "cell_type": "markdown",
   "metadata": {},
   "source": [
    "# Demonstartion of the PyGromosTools implementation of the Gromos++ programs\n",
    "\n"
   ]
  },
  {
   "cell_type": "markdown",
   "metadata": {},
   "source": [
    "## Ran_Box\n",
    "The program ran_box can generate liquid conformations from a single molecule topology and coordinate file. In the following notebook we show an example for the ussage of this program."
   ]
  },
  {
   "cell_type": "code",
   "execution_count": 1,
   "metadata": {
    "execution": {
     "iopub.execute_input": "2022-03-31T11:05:24.777021Z",
     "iopub.status.busy": "2022-03-31T11:05:24.774765Z",
     "iopub.status.idle": "2022-03-31T11:05:25.924145Z",
     "shell.execute_reply": "2022-03-31T11:05:25.922861Z"
    }
   },
   "outputs": [
    {
     "data": {
      "application/vnd.jupyter.widget-view+json": {
       "model_id": "507509eb757d4f9eaf636f4b61af6a73",
       "version_major": 2,
       "version_minor": 0
      },
      "text/plain": []
     },
     "metadata": {},
     "output_type": "display_data"
    }
   ],
   "source": [
    "import os\n",
    "from pygromos.gromos.pyGromosPP.ran_box import ran_box\n",
    "from pygromos.files.coord.cnf import Cnf"
   ]
  },
  {
   "cell_type": "code",
   "execution_count": 2,
   "metadata": {
    "execution": {
     "iopub.execute_input": "2022-03-31T11:05:25.934972Z",
     "iopub.status.busy": "2022-03-31T11:05:25.933968Z",
     "iopub.status.idle": "2022-03-31T11:05:25.940058Z",
     "shell.execute_reply": "2022-03-31T11:05:25.938742Z"
    }
   },
   "outputs": [],
   "source": [
    "# define the paths to the single molecule topology and the single molecule conformation file\n",
    "root_dir = os.getcwd()+\"/example_files/tool_examples\"\n",
    "in_cnf_path = root_dir +\"/ran_box.cnf\"\n",
    "in_top_path = root_dir +\"/ran_box.top\"\n"
   ]
  },
  {
   "cell_type": "code",
   "execution_count": 3,
   "metadata": {
    "execution": {
     "iopub.execute_input": "2022-03-31T11:05:25.947386Z",
     "iopub.status.busy": "2022-03-31T11:05:25.946046Z",
     "iopub.status.idle": "2022-03-31T11:05:25.953981Z",
     "shell.execute_reply": "2022-03-31T11:05:25.952519Z"
    }
   },
   "outputs": [],
   "source": [
    "#define some properties for the new liquid conformation\n",
    "nmols=150 #42 #The number of molecules in the liquid box\n",
    "dens=1000 #The density of the liquid"
   ]
  },
  {
   "cell_type": "code",
   "execution_count": 4,
   "metadata": {
    "execution": {
     "iopub.execute_input": "2022-03-31T11:05:25.958531Z",
     "iopub.status.busy": "2022-03-31T11:05:25.958028Z",
     "iopub.status.idle": "2022-03-31T11:05:27.113002Z",
     "shell.execute_reply": "2022-03-31T11:05:27.109519Z"
    }
   },
   "outputs": [
    {
     "ename": "OSError",
     "evalue": "[Errno Could not find File: ] /home/bschroed/Documents/projects/PyGromosTools/docs/sphinx_project/Examples/developer_examples/example_files/tool_examples/ran_box.top",
     "output_type": "error",
     "traceback": [
      "\u001b[0;31m---------------------------------------------------------------------------\u001b[0m",
      "\u001b[0;31mOSError\u001b[0m                                   Traceback (most recent call last)",
      "Input \u001b[0;32mIn [4]\u001b[0m, in \u001b[0;36m<cell line: 2>\u001b[0;34m()\u001b[0m\n\u001b[1;32m      1\u001b[0m \u001b[38;5;66;03m#execute ran_box\u001b[39;00m\n\u001b[0;32m----> 2\u001b[0m out_cnf \u001b[38;5;241m=\u001b[39m \u001b[43mran_box\u001b[49m\u001b[43m(\u001b[49m\u001b[43min_top_path\u001b[49m\u001b[38;5;241;43m=\u001b[39;49m\u001b[43m \u001b[49m\u001b[43min_top_path\u001b[49m\u001b[43m,\u001b[49m\n\u001b[1;32m      3\u001b[0m \u001b[43m        \u001b[49m\u001b[43min_cnf_path\u001b[49m\u001b[38;5;241;43m=\u001b[39;49m\u001b[43m \u001b[49m\u001b[43min_cnf_path\u001b[49m\u001b[43m,\u001b[49m\n\u001b[1;32m      4\u001b[0m \u001b[43m        \u001b[49m\u001b[43mout_cnf_path\u001b[49m\u001b[38;5;241;43m=\u001b[39;49m\u001b[43m \u001b[49m\u001b[43mroot_dir\u001b[49m\u001b[38;5;241;43m+\u001b[39;49m\u001b[38;5;124;43m\"\u001b[39;49m\u001b[38;5;124;43m/out_ran_\u001b[39;49m\u001b[38;5;124;43m\"\u001b[39;49m\u001b[38;5;241;43m+\u001b[39;49m\u001b[38;5;28;43mstr\u001b[39;49m\u001b[43m(\u001b[49m\u001b[43mnmols\u001b[49m\u001b[43m)\u001b[49m\u001b[38;5;241;43m+\u001b[39;49m\u001b[38;5;124;43m\"\u001b[39;49m\u001b[38;5;124;43mmol.cnf\u001b[39;49m\u001b[38;5;124;43m\"\u001b[39;49m\u001b[43m,\u001b[49m\n\u001b[1;32m      5\u001b[0m \u001b[43m        \u001b[49m\u001b[43mnmolecule\u001b[49m\u001b[43m \u001b[49m\u001b[38;5;241;43m=\u001b[39;49m\u001b[43m \u001b[49m\u001b[43mnmols\u001b[49m\u001b[43m,\u001b[49m\n\u001b[1;32m      6\u001b[0m \u001b[43m        \u001b[49m\u001b[43mdens\u001b[49m\u001b[43m \u001b[49m\u001b[38;5;241;43m=\u001b[39;49m\u001b[43m \u001b[49m\u001b[43mdens\u001b[49m\u001b[43m)\u001b[49m\n",
      "File \u001b[0;32m~/Documents/projects/PyGromosTools/pygromos/gromos/pyGromosPP/ran_box.py:35\u001b[0m, in \u001b[0;36mran_box\u001b[0;34m(in_top_path, in_cnf_path, out_cnf_path, periodic_boundary_condition, nmolecule, dens, threshold, layer, boxsize, fixfirst, seed, _binary_name, verbose, return_command_only)\u001b[0m\n\u001b[1;32m     18\u001b[0m \u001b[38;5;28;01mdef\u001b[39;00m \u001b[38;5;21mran_box\u001b[39m(\n\u001b[1;32m     19\u001b[0m     in_top_path: \u001b[38;5;28mstr\u001b[39m,\n\u001b[1;32m     20\u001b[0m     in_cnf_path: \u001b[38;5;28mstr\u001b[39m,\n\u001b[0;32m   (...)\u001b[0m\n\u001b[1;32m     32\u001b[0m     return_command_only: \u001b[38;5;28mbool\u001b[39m \u001b[38;5;241m=\u001b[39m \u001b[38;5;28;01mFalse\u001b[39;00m,\n\u001b[1;32m     33\u001b[0m ) \u001b[38;5;241m-\u001b[39m\u001b[38;5;241m>\u001b[39m \u001b[38;5;28mstr\u001b[39m:\n\u001b[0;32m---> 35\u001b[0m     top \u001b[38;5;241m=\u001b[39m \u001b[43mTop\u001b[49m\u001b[43m(\u001b[49m\u001b[43min_value\u001b[49m\u001b[38;5;241;43m=\u001b[39;49m\u001b[43min_top_path\u001b[49m\u001b[43m)\u001b[49m\n\u001b[1;32m     36\u001b[0m     cnf \u001b[38;5;241m=\u001b[39m Cnf(in_value\u001b[38;5;241m=\u001b[39min_cnf_path)\n\u001b[1;32m     37\u001b[0m     cog \u001b[38;5;241m=\u001b[39m np\u001b[38;5;241m.\u001b[39marray(cnf\u001b[38;5;241m.\u001b[39mcenter_of_geometry())\n",
      "File \u001b[0;32m~/Documents/projects/PyGromosTools/pygromos/files/topology/top.py:48\u001b[0m, in \u001b[0;36mTop.__init__\u001b[0;34m(self, in_value, _future_file)\u001b[0m\n\u001b[1;32m     46\u001b[0m \u001b[38;5;28;01mdef\u001b[39;00m \u001b[38;5;21m__init__\u001b[39m(\u001b[38;5;28mself\u001b[39m, in_value: Union[\u001b[38;5;28mstr\u001b[39m, \u001b[38;5;28mdict\u001b[39m, Top_Type], _future_file: \u001b[38;5;28mbool\u001b[39m \u001b[38;5;241m=\u001b[39m \u001b[38;5;28;01mFalse\u001b[39;00m):\n\u001b[1;32m     47\u001b[0m     \u001b[38;5;28;01mif\u001b[39;00m \u001b[38;5;28mtype\u001b[39m(in_value) \u001b[38;5;129;01mis\u001b[39;00m \u001b[38;5;28mstr\u001b[39m:\n\u001b[0;32m---> 48\u001b[0m         \u001b[38;5;28;43msuper\u001b[39;49m\u001b[43m(\u001b[49m\u001b[43m)\u001b[49m\u001b[38;5;241;43m.\u001b[39;49m\u001b[38;5;21;43m__init__\u001b[39;49m\u001b[43m(\u001b[49m\u001b[43min_value\u001b[49m\u001b[38;5;241;43m=\u001b[39;49m\u001b[43min_value\u001b[49m\u001b[43m,\u001b[49m\u001b[43m \u001b[49m\u001b[43m_future_file\u001b[49m\u001b[38;5;241;43m=\u001b[39;49m\u001b[43m_future_file\u001b[49m\u001b[43m)\u001b[49m\n\u001b[1;32m     49\u001b[0m     \u001b[38;5;28;01melif\u001b[39;00m in_value \u001b[38;5;129;01mis\u001b[39;00m \u001b[38;5;28;01mNone\u001b[39;00m:\n\u001b[1;32m     50\u001b[0m         \u001b[38;5;28mself\u001b[39m\u001b[38;5;241m.\u001b[39mpath \u001b[38;5;241m=\u001b[39m \u001b[38;5;124m\"\u001b[39m\u001b[38;5;124m\"\u001b[39m\n",
      "File \u001b[0;32m~/Documents/projects/PyGromosTools/pygromos/files/_basics/_general_gromos_file.py:42\u001b[0m, in \u001b[0;36m_general_gromos_file.__init__\u001b[0;34m(self, in_value, _future_file)\u001b[0m\n\u001b[1;32m     40\u001b[0m         \u001b[38;5;28mself\u001b[39m\u001b[38;5;241m.\u001b[39mread_blocks()\n\u001b[1;32m     41\u001b[0m     \u001b[38;5;28;01melse\u001b[39;00m:\n\u001b[0;32m---> 42\u001b[0m         \u001b[38;5;28;01mraise\u001b[39;00m \u001b[38;5;167;01mIOError\u001b[39;00m(\u001b[38;5;124m\"\u001b[39m\u001b[38;5;124mCould not find File: \u001b[39m\u001b[38;5;124m\"\u001b[39m, in_value)\n\u001b[1;32m     44\u001b[0m \u001b[38;5;28;01melif\u001b[39;00m \u001b[38;5;28misinstance\u001b[39m(\u001b[38;5;28mtype\u001b[39m(in_value), \u001b[38;5;18m__class__\u001b[39m):\n\u001b[1;32m     45\u001b[0m     \u001b[38;5;28;01mraise\u001b[39;00m \u001b[38;5;167;01mNotImplementedError\u001b[39;00m(\u001b[38;5;124m\"\u001b[39m\u001b[38;5;124mThis variant is not implemented\u001b[39m\u001b[38;5;124m\"\u001b[39m)\n",
      "\u001b[0;31mOSError\u001b[0m: [Errno Could not find File: ] /home/bschroed/Documents/projects/PyGromosTools/docs/sphinx_project/Examples/developer_examples/example_files/tool_examples/ran_box.top"
     ]
    }
   ],
   "source": [
    "#execute ran_box\n",
    "out_cnf = ran_box(in_top_path= in_top_path,\n",
    "        in_cnf_path= in_cnf_path,\n",
    "        out_cnf_path= root_dir+\"/out_ran_\"+str(nmols)+\"mol.cnf\",\n",
    "        nmolecule = nmols,\n",
    "        dens = dens)"
   ]
  },
  {
   "cell_type": "code",
   "execution_count": 5,
   "metadata": {
    "execution": {
     "iopub.execute_input": "2022-03-31T11:05:27.118992Z",
     "iopub.status.busy": "2022-03-31T11:05:27.118216Z",
     "iopub.status.idle": "2022-03-31T11:05:27.151405Z",
     "shell.execute_reply": "2022-03-31T11:05:27.149522Z"
    }
   },
   "outputs": [
    {
     "ename": "NameError",
     "evalue": "name 'out_cnf' is not defined",
     "output_type": "error",
     "traceback": [
      "\u001b[0;31m---------------------------------------------------------------------------\u001b[0m",
      "\u001b[0;31mNameError\u001b[0m                                 Traceback (most recent call last)",
      "Input \u001b[0;32mIn [5]\u001b[0m, in \u001b[0;36m<cell line: 2>\u001b[0;34m()\u001b[0m\n\u001b[1;32m      1\u001b[0m \u001b[38;5;66;03m#write the conformation to a pdb file\u001b[39;00m\n\u001b[0;32m----> 2\u001b[0m cnfF \u001b[38;5;241m=\u001b[39m Cnf(\u001b[43mout_cnf\u001b[49m)\n\u001b[1;32m      3\u001b[0m cnfF\u001b[38;5;241m.\u001b[39mwrite_pdb(out_cnf\u001b[38;5;241m.\u001b[39mreplace(\u001b[38;5;124m\"\u001b[39m\u001b[38;5;124m.cnf\u001b[39m\u001b[38;5;124m\"\u001b[39m, \u001b[38;5;124m\"\u001b[39m\u001b[38;5;124m.pdb\u001b[39m\u001b[38;5;124m\"\u001b[39m))\n",
      "\u001b[0;31mNameError\u001b[0m: name 'out_cnf' is not defined"
     ]
    }
   ],
   "source": [
    "#write the conformation to a pdb file\n",
    "cnfF = Cnf(out_cnf)\n",
    "cnfF.write_pdb(out_cnf.replace(\".cnf\", \".pdb\"))"
   ]
  },
  {
   "cell_type": "code",
   "execution_count": 6,
   "metadata": {
    "execution": {
     "iopub.execute_input": "2022-03-31T11:05:27.155599Z",
     "iopub.status.busy": "2022-03-31T11:05:27.154936Z",
     "iopub.status.idle": "2022-03-31T11:05:27.179223Z",
     "shell.execute_reply": "2022-03-31T11:05:27.176181Z"
    }
   },
   "outputs": [
    {
     "ename": "NameError",
     "evalue": "name 'cnfF' is not defined",
     "output_type": "error",
     "traceback": [
      "\u001b[0;31m---------------------------------------------------------------------------\u001b[0m",
      "\u001b[0;31mNameError\u001b[0m                                 Traceback (most recent call last)",
      "Input \u001b[0;32mIn [6]\u001b[0m, in \u001b[0;36m<cell line: 2>\u001b[0;34m()\u001b[0m\n\u001b[1;32m      1\u001b[0m \u001b[38;5;66;03m# printing the new liquid conformation. The pdb can visualized with software packages like pymol.\u001b[39;00m\n\u001b[0;32m----> 2\u001b[0m \u001b[43mcnfF\u001b[49m\n",
      "\u001b[0;31mNameError\u001b[0m: name 'cnfF' is not defined"
     ]
    }
   ],
   "source": [
    "# printing the new liquid conformation. The pdb can visualized with software packages like pymol.\n",
    "cnfF"
   ]
  },
  {
   "cell_type": "code",
   "execution_count": 7,
   "metadata": {
    "execution": {
     "iopub.execute_input": "2022-03-31T11:05:27.183985Z",
     "iopub.status.busy": "2022-03-31T11:05:27.183650Z",
     "iopub.status.idle": "2022-03-31T11:05:27.209790Z",
     "shell.execute_reply": "2022-03-31T11:05:27.207904Z"
    }
   },
   "outputs": [
    {
     "ename": "NameError",
     "evalue": "name 'cnfF' is not defined",
     "output_type": "error",
     "traceback": [
      "\u001b[0;31m---------------------------------------------------------------------------\u001b[0m",
      "\u001b[0;31mNameError\u001b[0m                                 Traceback (most recent call last)",
      "Input \u001b[0;32mIn [7]\u001b[0m, in \u001b[0;36m<cell line: 1>\u001b[0;34m()\u001b[0m\n\u001b[0;32m----> 1\u001b[0m \u001b[43mcnfF\u001b[49m\u001b[38;5;241m.\u001b[39mvisualize()\n",
      "\u001b[0;31mNameError\u001b[0m: name 'cnfF' is not defined"
     ]
    }
   ],
   "source": [
    "cnfF.visualize()"
   ]
  },
  {
   "cell_type": "code",
   "execution_count": null,
   "metadata": {},
   "outputs": [],
   "source": []
  },
  {
   "cell_type": "code",
   "execution_count": null,
   "metadata": {},
   "outputs": [],
   "source": []
  }
 ],
 "metadata": {
  "language_info": {
   "codemirror_mode": {
    "name": "ipython",
    "version": 3
   },
   "file_extension": ".py",
   "mimetype": "text/x-python",
   "name": "python",
   "nbconvert_exporter": "python",
   "pygments_lexer": "ipython3",
   "version": "3.9.10"
  },
  "widgets": {
   "application/vnd.jupyter.widget-state+json": {
    "state": {
     "507509eb757d4f9eaf636f4b61af6a73": {
      "model_module": "nglview-js-widgets",
      "model_module_version": "3.0.1",
      "model_name": "ColormakerRegistryModel",
      "state": {
       "_dom_classes": [],
       "_model_module": "nglview-js-widgets",
       "_model_module_version": "3.0.1",
       "_model_name": "ColormakerRegistryModel",
       "_msg_ar": [],
       "_msg_q": [],
       "_ready": false,
       "_view_count": null,
       "_view_module": "nglview-js-widgets",
       "_view_module_version": "3.0.1",
       "_view_name": "ColormakerRegistryView",
       "layout": "IPY_MODEL_fc7e529de10f49438c5b8ae2853aac4e"
      }
     },
     "fc7e529de10f49438c5b8ae2853aac4e": {
      "model_module": "@jupyter-widgets/base",
      "model_module_version": "1.2.0",
      "model_name": "LayoutModel",
      "state": {
       "_model_module": "@jupyter-widgets/base",
       "_model_module_version": "1.2.0",
       "_model_name": "LayoutModel",
       "_view_count": null,
       "_view_module": "@jupyter-widgets/base",
       "_view_module_version": "1.2.0",
       "_view_name": "LayoutView",
       "align_content": null,
       "align_items": null,
       "align_self": null,
       "border": null,
       "bottom": null,
       "display": null,
       "flex": null,
       "flex_flow": null,
       "grid_area": null,
       "grid_auto_columns": null,
       "grid_auto_flow": null,
       "grid_auto_rows": null,
       "grid_column": null,
       "grid_gap": null,
       "grid_row": null,
       "grid_template_areas": null,
       "grid_template_columns": null,
       "grid_template_rows": null,
       "height": null,
       "justify_content": null,
       "justify_items": null,
       "left": null,
       "margin": null,
       "max_height": null,
       "max_width": null,
       "min_height": null,
       "min_width": null,
       "object_fit": null,
       "object_position": null,
       "order": null,
       "overflow": null,
       "overflow_x": null,
       "overflow_y": null,
       "padding": null,
       "right": null,
       "top": null,
       "visibility": null,
       "width": null
      }
     }
    },
    "version_major": 2,
    "version_minor": 0
   }
  }
 },
 "nbformat": 4,
 "nbformat_minor": 4
}
