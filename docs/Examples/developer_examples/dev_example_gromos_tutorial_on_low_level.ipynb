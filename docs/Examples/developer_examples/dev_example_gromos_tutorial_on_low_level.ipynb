{
 "cells": [
  {
   "cell_type": "markdown",
   "metadata": {
    "pycharm": {
     "name": "#%% md\n"
    }
   },
   "source": [
    "\n",
    "# Gromos Tutorial Pipeline - OLD\n",
    "\n",
    "**NOTE** This is the old way on how to do the Tutorial for Gromos! We want to remove this for the future, please checkout the new Tutorial!\n"
   ]
  },
  {
   "cell_type": "code",
   "execution_count": 1,
   "metadata": {
    "execution": {
     "iopub.execute_input": "2022-04-01T07:58:23.384124Z",
     "iopub.status.busy": "2022-04-01T07:58:23.383015Z",
     "iopub.status.idle": "2022-04-01T07:58:27.570926Z",
     "shell.execute_reply": "2022-04-01T07:58:27.569457Z"
    }
   },
   "outputs": [
    {
     "data": {
      "application/vnd.jupyter.widget-view+json": {
       "model_id": "1ccf58ab1a514cab866e15a82292fa8c",
       "version_major": 2,
       "version_minor": 0
      },
      "text/plain": []
     },
     "metadata": {},
     "output_type": "display_data"
    }
   ],
   "source": [
    "import os, sys\n",
    "from pygromos.utils import bash\n",
    "root_dir = os.getcwd()\n",
    "\n",
    "#if package is not installed and path not set correct - this helps you out :)\n",
    "sys.path.append(root_dir+\"/..\")\n",
    "\n",
    "\n",
    "import pygromos\n",
    "from pygromos.gromos.gromosPP import GromosPP\n",
    "from pygromos.gromos.gromosXX import GromosXX\n",
    "from pygromos.files.coord.cnf import Cnf\n",
    "from pygromos.files.trajectory.trc import Trc\n",
    "\n",
    "gromosPP_bin = None\n",
    "gromosXX_bin = None\n",
    "gromPP = GromosPP(gromosPP_bin)\n",
    "gromXX = GromosXX(gromosXX_bin)\n",
    "\n",
    "project_dir = os.path.abspath(os.path.dirname(pygromos.__file__)+\"/../examples/example_files/Tutorial_System\")\n",
    "input_dir = project_dir+\"/input\""
   ]
  },
  {
   "cell_type": "markdown",
   "metadata": {
    "pycharm": {
     "name": "#%% md\n"
    }
   },
   "source": [
    "## Build initial files\n",
    "### generate Topology\n",
    "#### build single topologies"
   ]
  },
  {
   "cell_type": "code",
   "execution_count": 2,
   "metadata": {
    "execution": {
     "iopub.execute_input": "2022-04-01T07:58:27.574605Z",
     "iopub.status.busy": "2022-04-01T07:58:27.574342Z",
     "iopub.status.idle": "2022-04-01T07:58:28.105360Z",
     "shell.execute_reply": "2022-04-01T07:58:28.103805Z"
    }
   },
   "outputs": [
    {
     "data": {
      "text/plain": [
       "'/home/bschroed/Documents/projects/PyGromosTools/examples/example_files/Tutorial_System/a_topo/peptide.top'"
      ]
     },
     "execution_count": 2,
     "metadata": {},
     "output_type": "execute_result"
    }
   ],
   "source": [
    "from pygromos.data.ff import Gromos54A7\n",
    "\n",
    "topo_dir = bash.make_folder(project_dir+'/a_topo')\n",
    "\n",
    "## Make Cl-\n",
    "sequence = \"CL-\"\n",
    "solvent = \"H2O\"\n",
    "top_cl = topo_dir+\"/cl.top\"\n",
    "\n",
    "gromPP.make_top(in_building_block_lib_path=Gromos54A7.mtb,\n",
    "                in_parameter_lib_path=Gromos54A7.ifp,\n",
    "                in_sequence=sequence, in_solvent=solvent,out_top_path=top_cl)\n",
    "\n",
    "## Make Peptide\n",
    "sequence = \"NH3+ VAL TYR ARG LYSH GLN COO-\"\n",
    "solvent = \"H2O\"\n",
    "top_peptide = topo_dir+\"/peptide.top\"\n",
    "\n",
    "gromPP.make_top(in_building_block_lib_path=Gromos54A7.mtb,\n",
    "                in_parameter_lib_path=Gromos54A7.ifp,\n",
    "                in_sequence=sequence,\n",
    "                in_solvent=solvent,out_top_path=top_peptide)\n"
   ]
  },
  {
   "cell_type": "markdown",
   "metadata": {
    "pycharm": {
     "name": "#%% md\n"
    }
   },
   "source": [
    "#### combine topology"
   ]
  },
  {
   "cell_type": "code",
   "execution_count": 3,
   "metadata": {
    "execution": {
     "iopub.execute_input": "2022-04-01T07:58:28.111191Z",
     "iopub.status.busy": "2022-04-01T07:58:28.110593Z",
     "iopub.status.idle": "2022-04-01T07:58:28.399414Z",
     "shell.execute_reply": "2022-04-01T07:58:28.396862Z"
    }
   },
   "outputs": [
    {
     "data": {
      "text/plain": [
       "'/home/bschroed/Documents/projects/PyGromosTools/examples/example_files/Tutorial_System/a_topo/vac_sys.top'"
      ]
     },
     "execution_count": 3,
     "metadata": {},
     "output_type": "execute_result"
    }
   ],
   "source": [
    "top_system = topo_dir+\"/vac_sys.top\"\n",
    "gromPP.com_top(in_topo_paths=[top_peptide, top_cl], topo_multiplier=[1,2], out_top_path=top_system)\n"
   ]
  },
  {
   "cell_type": "markdown",
   "metadata": {},
   "source": [
    "### generate coordinates\n"
   ]
  },
  {
   "cell_type": "code",
   "execution_count": 4,
   "metadata": {
    "execution": {
     "iopub.execute_input": "2022-04-01T07:58:28.405357Z",
     "iopub.status.busy": "2022-04-01T07:58:28.404497Z",
     "iopub.status.idle": "2022-04-01T07:58:29.398465Z",
     "shell.execute_reply": "2022-04-01T07:58:29.396722Z"
    }
   },
   "outputs": [
    {
     "ename": "AttributeError",
     "evalue": "'Cnf' object has no attribute 'visualize'",
     "output_type": "error",
     "traceback": [
      "\u001b[0;31m---------------------------------------------------------------------------\u001b[0m",
      "\u001b[0;31mAttributeError\u001b[0m                            Traceback (most recent call last)",
      "Input \u001b[0;32mIn [4]\u001b[0m, in \u001b[0;36m<cell line: 6>\u001b[0;34m()\u001b[0m\n\u001b[1;32m      3\u001b[0m cnf_peptide \u001b[38;5;241m=\u001b[39m coord_dir\u001b[38;5;241m+\u001b[39m\u001b[38;5;124m\"\u001b[39m\u001b[38;5;124m/cnf_vacuum_peptide.cnf\u001b[39m\u001b[38;5;124m\"\u001b[39m\n\u001b[1;32m      5\u001b[0m cnf_peptide \u001b[38;5;241m=\u001b[39m gromPP\u001b[38;5;241m.\u001b[39mpdb2gromos(in_pdb_path\u001b[38;5;241m=\u001b[39min_pdb, in_top_path\u001b[38;5;241m=\u001b[39mtop_peptide, out_cnf_path\u001b[38;5;241m=\u001b[39mcnf_peptide)\n\u001b[0;32m----> 6\u001b[0m \u001b[43mCnf\u001b[49m\u001b[43m(\u001b[49m\u001b[43mcnf_peptide\u001b[49m\u001b[43m)\u001b[49m\u001b[38;5;241;43m.\u001b[39;49m\u001b[43mvisualize\u001b[49m()\n",
      "\u001b[0;31mAttributeError\u001b[0m: 'Cnf' object has no attribute 'visualize'"
     ]
    }
   ],
   "source": [
    "coord_dir = bash.make_folder(project_dir+\"/b_coord\")\n",
    "in_pdb = input_dir+\"/peptide.pdb\"\n",
    "cnf_peptide = coord_dir+\"/cnf_vacuum_peptide.cnf\"\n",
    "\n",
    "cnf_peptide = gromPP.pdb2gromos(in_pdb_path=in_pdb, in_top_path=top_peptide, out_cnf_path=cnf_peptide)\n",
    "Cnf(cnf_peptide).visualize()"
   ]
  },
  {
   "cell_type": "markdown",
   "metadata": {
    "pycharm": {
     "name": "#%% md\n"
    }
   },
   "source": [
    "#### add hydrogens"
   ]
  },
  {
   "cell_type": "code",
   "execution_count": 5,
   "metadata": {
    "execution": {
     "iopub.execute_input": "2022-04-01T07:58:29.405281Z",
     "iopub.status.busy": "2022-04-01T07:58:29.403953Z",
     "iopub.status.idle": "2022-04-01T07:58:29.425085Z",
     "shell.execute_reply": "2022-04-01T07:58:29.423971Z"
    }
   },
   "outputs": [
    {
     "ename": "AttributeError",
     "evalue": "'GromosPP' object has no attribute 'protonate'",
     "output_type": "error",
     "traceback": [
      "\u001b[0;31m---------------------------------------------------------------------------\u001b[0m",
      "\u001b[0;31mAttributeError\u001b[0m                            Traceback (most recent call last)",
      "Input \u001b[0;32mIn [5]\u001b[0m, in \u001b[0;36m<cell line: 2>\u001b[0;34m()\u001b[0m\n\u001b[1;32m      1\u001b[0m cnf_hpeptide \u001b[38;5;241m=\u001b[39m coord_dir\u001b[38;5;241m+\u001b[39m\u001b[38;5;124m\"\u001b[39m\u001b[38;5;124m/vacuum_hpeptide.cnf\u001b[39m\u001b[38;5;124m\"\u001b[39m\n\u001b[0;32m----> 2\u001b[0m cnf_hpeptide \u001b[38;5;241m=\u001b[39m \u001b[43mgromPP\u001b[49m\u001b[38;5;241;43m.\u001b[39;49m\u001b[43mprotonate\u001b[49m(in_cnf_path\u001b[38;5;241m=\u001b[39mcnf_peptide, in_top_path\u001b[38;5;241m=\u001b[39mtop_peptide, out_cnf_path\u001b[38;5;241m=\u001b[39mcnf_hpeptide)\n\u001b[1;32m      4\u001b[0m Cnf(cnf_hpeptide)\u001b[38;5;241m.\u001b[39mvisualize()\n",
      "\u001b[0;31mAttributeError\u001b[0m: 'GromosPP' object has no attribute 'protonate'"
     ]
    }
   ],
   "source": [
    "cnf_hpeptide = coord_dir+\"/vacuum_hpeptide.cnf\"\n",
    "cnf_hpeptide = gromPP.protonate(in_cnf_path=cnf_peptide, in_top_path=top_peptide, out_cnf_path=cnf_hpeptide)\n",
    "\n",
    "Cnf(cnf_hpeptide).visualize()"
   ]
  },
  {
   "cell_type": "markdown",
   "metadata": {},
   "source": [
    "#### cnf to pdb"
   ]
  },
  {
   "cell_type": "code",
   "execution_count": 6,
   "metadata": {
    "execution": {
     "iopub.execute_input": "2022-04-01T07:58:29.429223Z",
     "iopub.status.busy": "2022-04-01T07:58:29.428779Z",
     "iopub.status.idle": "2022-04-01T07:58:30.259383Z",
     "shell.execute_reply": "2022-04-01T07:58:30.258138Z"
    }
   },
   "outputs": [
    {
     "name": "stdout",
     "output_type": "stream",
     "text": [
      "gromosPP.frameout: could not exectue framout:\n",
      "('SubProcess Failed due to returncode: 1\\n COMMAND: \\n\\tframeout @topo /home/bschroed/Documents/projects/PyGromosTools/examples/example_files/Tutorial_System/a_topo/peptide.top @traj /home/bschroed/Documents/projects/PyGromosTools/examples/example_files/Tutorial_System/b_coord/vacuum_hpeptide.cnf @pbc v  @outformat pdb @include SOLUTE @time 0 \\nSTDOUT:\\n\\t\\nSTDERR:\\n\\tb\"Ginstream: could not open file \\'/home/bschroed/Documents/projects/PyGromosTools/examples/example_files/Tutorial_System/b_coord/vacuum_hpeptide.cnf\\'\\\\n\"',)\n"
     ]
    },
    {
     "ename": "Exception",
     "evalue": "gromosPP.frameout: could not exectue framout:\n('SubProcess Failed due to returncode: 1\\n COMMAND: \\n\\tframeout @topo /home/bschroed/Documents/projects/PyGromosTools/examples/example_files/Tutorial_System/a_topo/peptide.top @traj /home/bschroed/Documents/projects/PyGromosTools/examples/example_files/Tutorial_System/b_coord/vacuum_hpeptide.cnf @pbc v  @outformat pdb @include SOLUTE @time 0 \\nSTDOUT:\\n\\t\\nSTDERR:\\n\\tb\"Ginstream: could not open file \\'/home/bschroed/Documents/projects/PyGromosTools/examples/example_files/Tutorial_System/b_coord/vacuum_hpeptide.cnf\\'\\\\n\"',)",
     "output_type": "error",
     "traceback": [
      "\u001b[0;31m---------------------------------------------------------------------------\u001b[0m",
      "\u001b[0;31mChildProcessError\u001b[0m                         Traceback (most recent call last)",
      "File \u001b[0;32m~/Documents/projects/PyGromosTools/pygromos/gromos/gromosPP.py:516\u001b[0m, in \u001b[0;36m_gromosPPbase.frameout\u001b[0;34m(self, in_top_path, in_coord_path, periodic_boundary_condition, out_file_path, out_file_format, single_file, gather, include, reference_structure_path, atomsfit, frames, time, dt, notimeblock, _binary_name, verbose)\u001b[0m\n\u001b[1;32m    515\u001b[0m \u001b[38;5;28;01mtry\u001b[39;00m:\n\u001b[0;32m--> 516\u001b[0m     ret \u001b[38;5;241m=\u001b[39m \u001b[43mbash\u001b[49m\u001b[38;5;241;43m.\u001b[39;49m\u001b[43mexecute\u001b[49m\u001b[43m(\u001b[49m\u001b[43mcommand\u001b[49m\u001b[43m,\u001b[49m\u001b[43m \u001b[49m\u001b[43mcatch_STD\u001b[49m\u001b[38;5;241;43m=\u001b[39;49m\u001b[38;5;28;43;01mTrue\u001b[39;49;00m\u001b[43m)\u001b[49m\n\u001b[1;32m    517\u001b[0m     \u001b[38;5;28;01mif\u001b[39;00m verbose:\n",
      "File \u001b[0;32m~/Documents/projects/PyGromosTools/pygromos/utils/bash.py:935\u001b[0m, in \u001b[0;36mexecute\u001b[0;34m(command, verbose, catch_STD, env)\u001b[0m\n\u001b[1;32m    932\u001b[0m \u001b[38;5;28;01mdef\u001b[39;00m \u001b[38;5;21mexecute\u001b[39m(\n\u001b[1;32m    933\u001b[0m     command: Union[\u001b[38;5;28mstr\u001b[39m, List[\u001b[38;5;28mstr\u001b[39m]], verbose: \u001b[38;5;28mbool\u001b[39m \u001b[38;5;241m=\u001b[39m \u001b[38;5;28;01mFalse\u001b[39;00m, catch_STD: Union[\u001b[38;5;28mbool\u001b[39m, \u001b[38;5;28mstr\u001b[39m] \u001b[38;5;241m=\u001b[39m \u001b[38;5;28;01mFalse\u001b[39;00m, env: \u001b[38;5;28mdict\u001b[39m \u001b[38;5;241m=\u001b[39m \u001b[38;5;28;01mNone\u001b[39;00m\n\u001b[1;32m    934\u001b[0m ):\n\u001b[0;32m--> 935\u001b[0m     \u001b[38;5;28;01mreturn\u001b[39;00m \u001b[43mexecute_subprocess\u001b[49m\u001b[43m(\u001b[49m\u001b[43mcommand\u001b[49m\u001b[38;5;241;43m=\u001b[39;49m\u001b[43mcommand\u001b[49m\u001b[43m,\u001b[49m\u001b[43m \u001b[49m\u001b[43mverbose\u001b[49m\u001b[38;5;241;43m=\u001b[39;49m\u001b[43mverbose\u001b[49m\u001b[43m,\u001b[49m\u001b[43m \u001b[49m\u001b[43mcatch_STD\u001b[49m\u001b[38;5;241;43m=\u001b[39;49m\u001b[43mcatch_STD\u001b[49m\u001b[43m,\u001b[49m\u001b[43m \u001b[49m\u001b[43menv\u001b[49m\u001b[38;5;241;43m=\u001b[39;49m\u001b[43menv\u001b[49m\u001b[43m)\u001b[49m\n",
      "File \u001b[0;32m~/Documents/projects/PyGromosTools/pygromos/utils/bash.py:829\u001b[0m, in \u001b[0;36mexecute_subprocess\u001b[0;34m(command, catch_STD, env, verbose)\u001b[0m\n\u001b[1;32m    828\u001b[0m     msg \u001b[38;5;241m+\u001b[39m\u001b[38;5;241m=\u001b[39m \u001b[38;5;124m\"\u001b[39m\u001b[38;5;124mNONE\u001b[39m\u001b[38;5;124m\"\u001b[39m \u001b[38;5;28;01mif\u001b[39;00m (p\u001b[38;5;241m.\u001b[39mstdout \u001b[38;5;129;01mis\u001b[39;00m \u001b[38;5;28;01mNone\u001b[39;00m) \u001b[38;5;28;01melse\u001b[39;00m \u001b[38;5;124m\"\u001b[39m\u001b[38;5;130;01m\\n\u001b[39;00m\u001b[38;5;130;01m\\t\u001b[39;00m\u001b[38;5;124m\"\u001b[39m\u001b[38;5;241m.\u001b[39mjoin(\u001b[38;5;28mmap\u001b[39m(\u001b[38;5;28mstr\u001b[39m, p\u001b[38;5;241m.\u001b[39mstderr\u001b[38;5;241m.\u001b[39mreadlines()))\n\u001b[0;32m--> 829\u001b[0m     \u001b[38;5;28;01mraise\u001b[39;00m \u001b[38;5;167;01mChildProcessError\u001b[39;00m(msg)\n\u001b[1;32m    830\u001b[0m \u001b[38;5;28;01mif\u001b[39;00m verbose:\n",
      "\u001b[0;31mChildProcessError\u001b[0m: SubProcess Failed due to returncode: 1\n COMMAND: \n\tframeout @topo /home/bschroed/Documents/projects/PyGromosTools/examples/example_files/Tutorial_System/a_topo/peptide.top @traj /home/bschroed/Documents/projects/PyGromosTools/examples/example_files/Tutorial_System/b_coord/vacuum_hpeptide.cnf @pbc v  @outformat pdb @include SOLUTE @time 0 \nSTDOUT:\n\t\nSTDERR:\n\tb\"Ginstream: could not open file '/home/bschroed/Documents/projects/PyGromosTools/examples/example_files/Tutorial_System/b_coord/vacuum_hpeptide.cnf'\\n\"",
      "\nDuring handling of the above exception, another exception occurred:\n",
      "\u001b[0;31mException\u001b[0m                                 Traceback (most recent call last)",
      "Input \u001b[0;32mIn [6]\u001b[0m, in \u001b[0;36m<cell line: 2>\u001b[0;34m()\u001b[0m\n\u001b[1;32m      1\u001b[0m out_pdb \u001b[38;5;241m=\u001b[39m coord_dir\u001b[38;5;241m+\u001b[39m\u001b[38;5;124m\"\u001b[39m\u001b[38;5;124m/vacuum_hpeptide.pdb\u001b[39m\u001b[38;5;124m\"\u001b[39m\n\u001b[0;32m----> 2\u001b[0m out_pdb \u001b[38;5;241m=\u001b[39m \u001b[43mgromPP\u001b[49m\u001b[38;5;241;43m.\u001b[39;49m\u001b[43mframeout\u001b[49m\u001b[43m(\u001b[49m\u001b[43min_coord_path\u001b[49m\u001b[38;5;241;43m=\u001b[39;49m\u001b[43mcnf_hpeptide\u001b[49m\u001b[43m,\u001b[49m\u001b[43m \u001b[49m\u001b[43min_top_path\u001b[49m\u001b[38;5;241;43m=\u001b[39;49m\u001b[43mtop_peptide\u001b[49m\u001b[43m,\u001b[49m\u001b[43m \u001b[49m\u001b[43mout_file_path\u001b[49m\u001b[38;5;241;43m=\u001b[39;49m\u001b[43mout_pdb\u001b[49m\u001b[43m,\u001b[49m\n\u001b[1;32m      3\u001b[0m \u001b[43m                               \u001b[49m\u001b[43mperiodic_boundary_condition\u001b[49m\u001b[38;5;241;43m=\u001b[39;49m\u001b[38;5;124;43m\"\u001b[39;49m\u001b[38;5;124;43mv\u001b[39;49m\u001b[38;5;124;43m\"\u001b[39;49m\u001b[43m,\u001b[49m\u001b[43m \u001b[49m\u001b[43mout_file_format\u001b[49m\u001b[38;5;241;43m=\u001b[39;49m\u001b[38;5;124;43m\"\u001b[39;49m\u001b[38;5;124;43mpdb\u001b[39;49m\u001b[38;5;124;43m\"\u001b[39;49m\u001b[43m,\u001b[49m\u001b[43m \u001b[49m\u001b[43mtime\u001b[49m\u001b[38;5;241;43m=\u001b[39;49m\u001b[38;5;241;43m0\u001b[39;49m\u001b[43m)\u001b[49m\n",
      "File \u001b[0;32m~/Documents/projects/PyGromosTools/pygromos/gromos/_gromosClass.py:78\u001b[0m, in \u001b[0;36m_gromosClass._gromosTypeConverter.<locals>.convert_pyGromos_types\u001b[0;34m(self, *args, **kwargs)\u001b[0m\n\u001b[1;32m     75\u001b[0m         kwargs[k] \u001b[38;5;241m=\u001b[39m v\u001b[38;5;241m.\u001b[39mpath\n\u001b[1;32m     77\u001b[0m \u001b[38;5;66;03m# print(\"Converter2: \", func.__name__, self, nargs, kwargs)\u001b[39;00m\n\u001b[0;32m---> 78\u001b[0m \u001b[38;5;28;01mreturn\u001b[39;00m \u001b[43mfunc\u001b[49m\u001b[43m(\u001b[49m\u001b[38;5;28;43mself\u001b[39;49m\u001b[43m,\u001b[49m\u001b[43m \u001b[49m\u001b[38;5;241;43m*\u001b[39;49m\u001b[43mnargs\u001b[49m\u001b[43m,\u001b[49m\u001b[43m \u001b[49m\u001b[38;5;241;43m*\u001b[39;49m\u001b[38;5;241;43m*\u001b[39;49m\u001b[43mkwargs\u001b[49m\u001b[43m)\u001b[49m\n",
      "File \u001b[0;32m~/Documents/projects/PyGromosTools/pygromos/gromos/gromosPP.py:521\u001b[0m, in \u001b[0;36m_gromosPPbase.frameout\u001b[0;34m(self, in_top_path, in_coord_path, periodic_boundary_condition, out_file_path, out_file_format, single_file, gather, include, reference_structure_path, atomsfit, frames, time, dt, notimeblock, _binary_name, verbose)\u001b[0m\n\u001b[1;32m    519\u001b[0m \u001b[38;5;28;01mexcept\u001b[39;00m \u001b[38;5;167;01mException\u001b[39;00m \u001b[38;5;28;01mas\u001b[39;00m err:\n\u001b[1;32m    520\u001b[0m     \u001b[38;5;28mprint\u001b[39m(\u001b[38;5;124m\"\u001b[39m\u001b[38;5;124mgromosPP.frameout: could not exectue framout:\u001b[39m\u001b[38;5;130;01m\\n\u001b[39;00m\u001b[38;5;124m\"\u001b[39m \u001b[38;5;241m+\u001b[39m \u001b[38;5;28mstr\u001b[39m(err\u001b[38;5;241m.\u001b[39margs))\n\u001b[0;32m--> 521\u001b[0m     \u001b[38;5;28;01mraise\u001b[39;00m \u001b[38;5;167;01mException\u001b[39;00m(\u001b[38;5;124m\"\u001b[39m\u001b[38;5;124mgromosPP.frameout: could not exectue framout:\u001b[39m\u001b[38;5;130;01m\\n\u001b[39;00m\u001b[38;5;124m\"\u001b[39m \u001b[38;5;241m+\u001b[39m \u001b[38;5;28mstr\u001b[39m(err\u001b[38;5;241m.\u001b[39margs))\n\u001b[1;32m    523\u001b[0m bash\u001b[38;5;241m.\u001b[39mwait_for_fileSystem(check_paths\u001b[38;5;241m=\u001b[39morig, regex_mode\u001b[38;5;241m=\u001b[39m\u001b[38;5;28;01mTrue\u001b[39;00m)\n\u001b[1;32m    525\u001b[0m \u001b[38;5;66;03m# move to output\u001b[39;00m\n",
      "\u001b[0;31mException\u001b[0m: gromosPP.frameout: could not exectue framout:\n('SubProcess Failed due to returncode: 1\\n COMMAND: \\n\\tframeout @topo /home/bschroed/Documents/projects/PyGromosTools/examples/example_files/Tutorial_System/a_topo/peptide.top @traj /home/bschroed/Documents/projects/PyGromosTools/examples/example_files/Tutorial_System/b_coord/vacuum_hpeptide.cnf @pbc v  @outformat pdb @include SOLUTE @time 0 \\nSTDOUT:\\n\\t\\nSTDERR:\\n\\tb\"Ginstream: could not open file \\'/home/bschroed/Documents/projects/PyGromosTools/examples/example_files/Tutorial_System/b_coord/vacuum_hpeptide.cnf\\'\\\\n\"',)"
     ]
    }
   ],
   "source": [
    "out_pdb = coord_dir+\"/vacuum_hpeptide.pdb\"\n",
    "out_pdb = gromPP.frameout(in_coord_path=cnf_hpeptide, in_top_path=top_peptide, out_file_path=out_pdb,\n",
    "                               periodic_boundary_condition=\"v\", out_file_format=\"pdb\", time=0)"
   ]
  },
  {
   "cell_type": "markdown",
   "metadata": {},
   "source": [
    "### energy minimization - Vacuum"
   ]
  },
  {
   "cell_type": "code",
   "execution_count": 7,
   "metadata": {
    "execution": {
     "iopub.execute_input": "2022-04-01T07:58:30.262983Z",
     "iopub.status.busy": "2022-04-01T07:58:30.262676Z",
     "iopub.status.idle": "2022-04-01T07:58:33.966294Z",
     "shell.execute_reply": "2022-04-01T07:58:33.963895Z"
    }
   },
   "outputs": [
    {
     "name": "stdout",
     "output_type": "stream",
     "text": [
      "\n",
      "==================\n",
      "AUTSCH\n",
      "==================\n",
      "\n"
     ]
    },
    {
     "ename": "OSError",
     "evalue": "[Errno COULD NOT FIND all DEPENDENCY!\n\t Could not find path to: \n\t/home/bschroed/Documents/projects/PyGromosTools/examples/example_files/Tutorial_System/b_coord/vacuum_hpeptide.cnf] \n\n",
     "output_type": "error",
     "traceback": [
      "\u001b[0;31m---------------------------------------------------------------------------\u001b[0m",
      "\u001b[0;31mOSError\u001b[0m                                   Traceback (most recent call last)",
      "Input \u001b[0;32mIn [7]\u001b[0m, in \u001b[0;36m<cell line: 8>\u001b[0;34m()\u001b[0m\n\u001b[1;32m      5\u001b[0m vacuum_emin_dir \u001b[38;5;241m=\u001b[39m bash\u001b[38;5;241m.\u001b[39mmake_folder(project_dir\u001b[38;5;241m+\u001b[39m\u001b[38;5;124m\"\u001b[39m\u001b[38;5;124m/c_\u001b[39m\u001b[38;5;124m\"\u001b[39m\u001b[38;5;241m+\u001b[39mout_prefix)\n\u001b[1;32m      6\u001b[0m os\u001b[38;5;241m.\u001b[39mchdir(vacuum_emin_dir)\n\u001b[0;32m----> 8\u001b[0m grom_system \u001b[38;5;241m=\u001b[39m \u001b[43mgromos_system\u001b[49m\u001b[38;5;241;43m.\u001b[39;49m\u001b[43mGromos_System\u001b[49m\u001b[43m(\u001b[49m\u001b[43mwork_folder\u001b[49m\u001b[38;5;241;43m=\u001b[39;49m\u001b[43mvacuum_emin_dir\u001b[49m\u001b[43m,\u001b[49m\n\u001b[1;32m      9\u001b[0m \u001b[43m                                          \u001b[49m\u001b[43msystem_name\u001b[49m\u001b[38;5;241;43m=\u001b[39;49m\u001b[38;5;124;43m\"\u001b[39;49m\u001b[38;5;124;43min_\u001b[39;49m\u001b[38;5;124;43m\"\u001b[39;49m\u001b[38;5;241;43m+\u001b[39;49m\u001b[43mout_prefix\u001b[49m\u001b[43m,\u001b[49m\n\u001b[1;32m     10\u001b[0m \u001b[43m                                          \u001b[49m\u001b[43min_top_path\u001b[49m\u001b[38;5;241;43m=\u001b[39;49m\u001b[43mtop_peptide\u001b[49m\u001b[43m,\u001b[49m\n\u001b[1;32m     11\u001b[0m \u001b[43m                                          \u001b[49m\u001b[43min_cnf_path\u001b[49m\u001b[38;5;241;43m=\u001b[39;49m\u001b[43mcnf_hpeptide\u001b[49m\u001b[43m,\u001b[49m\n\u001b[1;32m     12\u001b[0m \u001b[43m                                          \u001b[49m\u001b[43min_imd_path\u001b[49m\u001b[38;5;241;43m=\u001b[39;49m\u001b[43mtemplate_emin_vac\u001b[49m\u001b[43m,\u001b[49m\n\u001b[1;32m     13\u001b[0m \u001b[43m                                         \u001b[49m\u001b[43mverbose\u001b[49m\u001b[38;5;241;43m=\u001b[39;49m\u001b[38;5;28;43;01mFalse\u001b[39;49;00m\u001b[43m)\u001b[49m\n\u001b[1;32m     15\u001b[0m grom_system\u001b[38;5;241m.\u001b[39madapt_imd()\n\u001b[1;32m     16\u001b[0m \u001b[38;5;66;03m#del grom_system.imd.POSITIONRES\u001b[39;00m\n",
      "File \u001b[0;32m~/Documents/projects/PyGromosTools/pygromos/files/gromos_system/gromos_system.py:228\u001b[0m, in \u001b[0;36mGromos_System.__init__\u001b[0;34m(self, work_folder, system_name, rdkitMol, in_mol2_file, readIn, forcefield, auto_convert, adapt_imd_automatically, verbose, in_smiles, in_residue_list, in_top_path, in_cnf_path, in_imd_path, in_disres_path, in_ptp_path, in_posres_path, in_refpos_path, in_qmmm_path, in_gromosXX_bin_dir, in_gromosPP_bin_dir)\u001b[0m\n\u001b[1;32m    217\u001b[0m \u001b[38;5;66;03m# import files:\u001b[39;00m\n\u001b[1;32m    218\u001b[0m file_mapping \u001b[38;5;241m=\u001b[39m {\n\u001b[1;32m    219\u001b[0m     \u001b[38;5;124m\"\u001b[39m\u001b[38;5;124mimd\u001b[39m\u001b[38;5;124m\"\u001b[39m: in_imd_path,\n\u001b[1;32m    220\u001b[0m     \u001b[38;5;124m\"\u001b[39m\u001b[38;5;124mtop\u001b[39m\u001b[38;5;124m\"\u001b[39m: in_top_path,\n\u001b[0;32m   (...)\u001b[0m\n\u001b[1;32m    226\u001b[0m     \u001b[38;5;124m\"\u001b[39m\u001b[38;5;124mqmmm\u001b[39m\u001b[38;5;124m\"\u001b[39m: in_qmmm_path,\n\u001b[1;32m    227\u001b[0m }\n\u001b[0;32m--> 228\u001b[0m \u001b[38;5;28;43mself\u001b[39;49m\u001b[38;5;241;43m.\u001b[39;49m\u001b[43mparse_attribute_files\u001b[49m\u001b[43m(\u001b[49m\u001b[43mfile_mapping\u001b[49m\u001b[43m,\u001b[49m\u001b[43m \u001b[49m\u001b[43mreadIn\u001b[49m\u001b[38;5;241;43m=\u001b[39;49m\u001b[43mreadIn\u001b[49m\u001b[43m,\u001b[49m\u001b[43m \u001b[49m\u001b[43mverbose\u001b[49m\u001b[38;5;241;43m=\u001b[39;49m\u001b[43mverbose\u001b[49m\u001b[43m)\u001b[49m\n\u001b[1;32m    230\u001b[0m \u001b[38;5;66;03m# System Information:\u001b[39;00m\n\u001b[1;32m    231\u001b[0m \u001b[38;5;28;01mif\u001b[39;00m \u001b[38;5;129;01mnot\u001b[39;00m \u001b[38;5;28mself\u001b[39m\u001b[38;5;241m.\u001b[39m_cnf\u001b[38;5;241m.\u001b[39m_future_file:\n",
      "File \u001b[0;32m~/Documents/projects/PyGromosTools/pygromos/files/gromos_system/gromos_system.py:838\u001b[0m, in \u001b[0;36mGromos_System.parse_attribute_files\u001b[0;34m(self, file_mapping, readIn, verbose)\u001b[0m\n\u001b[1;32m    836\u001b[0m [check_file_paths\u001b[38;5;241m.\u001b[39mappend(x) \u001b[38;5;28;01mfor\u001b[39;00m k, x \u001b[38;5;129;01min\u001b[39;00m file_mapping\u001b[38;5;241m.\u001b[39mitems() \u001b[38;5;28;01mif\u001b[39;00m (x \u001b[38;5;129;01mis\u001b[39;00m \u001b[38;5;129;01mnot\u001b[39;00m \u001b[38;5;28;01mNone\u001b[39;00m)]\n\u001b[1;32m    837\u001b[0m \u001b[38;5;28;01mif\u001b[39;00m \u001b[38;5;28mlen\u001b[39m(check_file_paths) \u001b[38;5;241m>\u001b[39m \u001b[38;5;241m0\u001b[39m:\n\u001b[0;32m--> 838\u001b[0m     \u001b[43mbash\u001b[49m\u001b[38;5;241;43m.\u001b[39;49m\u001b[43mcheck_path_dependencies\u001b[49m\u001b[43m(\u001b[49m\u001b[43mcheck_file_paths\u001b[49m\u001b[43m,\u001b[49m\u001b[43m \u001b[49m\u001b[43mverbose\u001b[49m\u001b[38;5;241;43m=\u001b[39;49m\u001b[43mverbose\u001b[49m\u001b[43m)\u001b[49m\n\u001b[1;32m    840\u001b[0m \u001b[38;5;66;03m# SET Attribute-FILES\u001b[39;00m\n\u001b[1;32m    841\u001b[0m \u001b[38;5;28;01mfor\u001b[39;00m attribute_name, file_path \u001b[38;5;129;01min\u001b[39;00m file_mapping\u001b[38;5;241m.\u001b[39mitems():\n",
      "File \u001b[0;32m~/Documents/projects/PyGromosTools/pygromos/utils/bash.py:153\u001b[0m, in \u001b[0;36mcheck_path_dependencies\u001b[0;34m(check_required_paths, check_warn_paths, verbose)\u001b[0m\n\u001b[1;32m    151\u001b[0m     \u001b[38;5;28mprint\u001b[39m(\u001b[38;5;124m\"\u001b[39m\u001b[38;5;130;01m\\n\u001b[39;00m\u001b[38;5;124m==================\u001b[39m\u001b[38;5;130;01m\\n\u001b[39;00m\u001b[38;5;124mAUTSCH\u001b[39m\u001b[38;5;130;01m\\n\u001b[39;00m\u001b[38;5;124m==================\u001b[39m\u001b[38;5;130;01m\\n\u001b[39;00m\u001b[38;5;124m\"\u001b[39m)\n\u001b[1;32m    152\u001b[0m     missing_str \u001b[38;5;241m=\u001b[39m \u001b[38;5;124m\"\u001b[39m\u001b[38;5;130;01m\\n\u001b[39;00m\u001b[38;5;130;01m\\t\u001b[39;00m\u001b[38;5;124m\"\u001b[39m\u001b[38;5;241m.\u001b[39mjoin(\u001b[38;5;28mmap\u001b[39m(\u001b[38;5;28mstr\u001b[39m, missing))\n\u001b[0;32m--> 153\u001b[0m     \u001b[38;5;28;01mraise\u001b[39;00m \u001b[38;5;167;01mIOError\u001b[39;00m(\u001b[38;5;124m\"\u001b[39m\u001b[38;5;124mCOULD NOT FIND all DEPENDENCY!\u001b[39m\u001b[38;5;130;01m\\n\u001b[39;00m\u001b[38;5;130;01m\\t\u001b[39;00m\u001b[38;5;124m Could not find path to: \u001b[39m\u001b[38;5;130;01m\\n\u001b[39;00m\u001b[38;5;130;01m\\t\u001b[39;00m\u001b[38;5;124m\"\u001b[39m \u001b[38;5;241m+\u001b[39m \u001b[38;5;28mstr\u001b[39m(missing_str), \u001b[38;5;124m\"\u001b[39m\u001b[38;5;130;01m\\n\u001b[39;00m\u001b[38;5;130;01m\\n\u001b[39;00m\u001b[38;5;124m\"\u001b[39m)\n\u001b[1;32m    154\u001b[0m \u001b[38;5;28;01melif\u001b[39;00m verbose:\n\u001b[1;32m    155\u001b[0m     \u001b[38;5;28mprint\u001b[39m(\u001b[38;5;124m\"\u001b[39m\u001b[38;5;124mAll dependencies are correct!\u001b[39m\u001b[38;5;124m\"\u001b[39m, \u001b[38;5;124m\"\u001b[39m\u001b[38;5;130;01m\\n\u001b[39;00m\u001b[38;5;130;01m\\n\u001b[39;00m\u001b[38;5;124m\"\u001b[39m)\n",
      "\u001b[0;31mOSError\u001b[0m: [Errno COULD NOT FIND all DEPENDENCY!\n\t Could not find path to: \n\t/home/bschroed/Documents/projects/PyGromosTools/examples/example_files/Tutorial_System/b_coord/vacuum_hpeptide.cnf] \n\n"
     ]
    }
   ],
   "source": [
    "from pygromos.data.simulation_parameters_templates import template_emin_vac\n",
    "from pygromos.files.gromos_system import gromos_system\n",
    "\n",
    "out_prefix = \"vacuum_emin\"\n",
    "vacuum_emin_dir = bash.make_folder(project_dir+\"/c_\"+out_prefix)\n",
    "os.chdir(vacuum_emin_dir)\n",
    "\n",
    "grom_system = gromos_system.Gromos_System(work_folder=vacuum_emin_dir,\n",
    "                                          system_name=\"in_\"+out_prefix,\n",
    "                                          in_top_path=top_peptide,\n",
    "                                          in_cnf_path=cnf_hpeptide,\n",
    "                                          in_imd_path=template_emin_vac,\n",
    "                                         verbose=False)\n",
    "\n",
    "grom_system.adapt_imd()\n",
    "#del grom_system.imd.POSITIONRES\n",
    "grom_system.imd.BOUNDCOND.NTB = 0\n",
    "grom_system.write_files()\n",
    "\n",
    "\n",
    "out_emin_vacuum = vacuum_emin_dir + \"/\" + out_prefix\n",
    "gromXX.md_run(in_imd_path=grom_system.imd.path,\n",
    "              in_topo_path=grom_system.top.path,\n",
    "              in_coord_path=grom_system.cnf.path,\n",
    "              out_prefix=out_emin_vacuum, verbose=True)\n",
    "cnf_emin_vacuum = out_emin_vacuum+\".cnf\"\n",
    "cnf_emin_vacuum\n"
   ]
  },
  {
   "cell_type": "code",
   "execution_count": 8,
   "metadata": {
    "execution": {
     "iopub.execute_input": "2022-04-01T07:58:33.975197Z",
     "iopub.status.busy": "2022-04-01T07:58:33.974409Z",
     "iopub.status.idle": "2022-04-01T07:58:34.023575Z",
     "shell.execute_reply": "2022-04-01T07:58:34.020848Z"
    }
   },
   "outputs": [
    {
     "ename": "NameError",
     "evalue": "name 'grom_system' is not defined",
     "output_type": "error",
     "traceback": [
      "\u001b[0;31m---------------------------------------------------------------------------\u001b[0m",
      "\u001b[0;31mNameError\u001b[0m                                 Traceback (most recent call last)",
      "Input \u001b[0;32mIn [8]\u001b[0m, in \u001b[0;36m<cell line: 3>\u001b[0;34m()\u001b[0m\n\u001b[1;32m      1\u001b[0m \u001b[38;5;28;01mfrom\u001b[39;00m \u001b[38;5;21;01mpygromos\u001b[39;00m\u001b[38;5;21;01m.\u001b[39;00m\u001b[38;5;21;01msimulations\u001b[39;00m\u001b[38;5;21;01m.\u001b[39;00m\u001b[38;5;21;01mmodules\u001b[39;00m\u001b[38;5;21;01m.\u001b[39;00m\u001b[38;5;21;01mpreset_simulation_modules\u001b[39;00m \u001b[38;5;28;01mimport\u001b[39;00m emin\n\u001b[0;32m----> 3\u001b[0m emin_gromos_system, jobID \u001b[38;5;241m=\u001b[39m emin(in_gromos_system\u001b[38;5;241m=\u001b[39m\u001b[43mgrom_system\u001b[49m, project_dir\u001b[38;5;241m=\u001b[39mproject_dir)\n\u001b[1;32m      4\u001b[0m emin_gromos_system\n",
      "\u001b[0;31mNameError\u001b[0m: name 'grom_system' is not defined"
     ]
    }
   ],
   "source": [
    "from pygromos.simulations.modules.preset_simulation_modules import emin\n",
    "\n",
    "emin_gromos_system, jobID = emin(in_gromos_system=grom_system, project_dir=project_dir)\n",
    "emin_gromos_system\n"
   ]
  },
  {
   "cell_type": "code",
   "execution_count": 9,
   "metadata": {
    "execution": {
     "iopub.execute_input": "2022-04-01T07:58:34.030097Z",
     "iopub.status.busy": "2022-04-01T07:58:34.028984Z",
     "iopub.status.idle": "2022-04-01T07:58:34.075310Z",
     "shell.execute_reply": "2022-04-01T07:58:34.073741Z"
    }
   },
   "outputs": [
    {
     "ename": "NameError",
     "evalue": "name 'emin_gromos_system' is not defined",
     "output_type": "error",
     "traceback": [
      "\u001b[0;31m---------------------------------------------------------------------------\u001b[0m",
      "\u001b[0;31mNameError\u001b[0m                                 Traceback (most recent call last)",
      "Input \u001b[0;32mIn [9]\u001b[0m, in \u001b[0;36m<cell line: 1>\u001b[0;34m()\u001b[0m\n\u001b[0;32m----> 1\u001b[0m \u001b[43memin_gromos_system\u001b[49m\u001b[38;5;241m.\u001b[39mcnf\u001b[38;5;241m.\u001b[39mvisualize()\n",
      "\u001b[0;31mNameError\u001b[0m: name 'emin_gromos_system' is not defined"
     ]
    }
   ],
   "source": [
    "emin_gromos_system.cnf.visualize()"
   ]
  },
  {
   "cell_type": "markdown",
   "metadata": {
    "pycharm": {
     "name": "#%% md\n"
    }
   },
   "source": [
    "## Solvatistation and Solvent Energy Minimization\n",
    "### build box system"
   ]
  },
  {
   "cell_type": "code",
   "execution_count": 10,
   "metadata": {
    "execution": {
     "iopub.execute_input": "2022-04-01T07:58:34.079383Z",
     "iopub.status.busy": "2022-04-01T07:58:34.079060Z",
     "iopub.status.idle": "2022-04-01T07:58:34.104574Z",
     "shell.execute_reply": "2022-04-01T07:58:34.103127Z"
    }
   },
   "outputs": [
    {
     "ename": "NameError",
     "evalue": "name 'cnf_emin_vacuum' is not defined",
     "output_type": "error",
     "traceback": [
      "\u001b[0;31m---------------------------------------------------------------------------\u001b[0m",
      "\u001b[0;31mNameError\u001b[0m                                 Traceback (most recent call last)",
      "Input \u001b[0;32mIn [10]\u001b[0m, in \u001b[0;36m<cell line: 5>\u001b[0;34m()\u001b[0m\n\u001b[1;32m      2\u001b[0m out_prefix \u001b[38;5;241m=\u001b[39m \u001b[38;5;124m\"\u001b[39m\u001b[38;5;124mbox\u001b[39m\u001b[38;5;124m\"\u001b[39m\n\u001b[1;32m      3\u001b[0m box_dir \u001b[38;5;241m=\u001b[39m bash\u001b[38;5;241m.\u001b[39mmake_folder(project_dir\u001b[38;5;241m+\u001b[39m\u001b[38;5;124m\"\u001b[39m\u001b[38;5;124m/d_\u001b[39m\u001b[38;5;124m\"\u001b[39m\u001b[38;5;241m+\u001b[39mout_prefix)\n\u001b[0;32m----> 5\u001b[0m cnf_box \u001b[38;5;241m=\u001b[39m gromPP\u001b[38;5;241m.\u001b[39msim_box(in_top_path\u001b[38;5;241m=\u001b[39mtop_peptide, in_cnf_path\u001b[38;5;241m=\u001b[39m\u001b[43mcnf_emin_vacuum\u001b[49m,in_solvent_cnf_file_path\u001b[38;5;241m=\u001b[39mspc,\n\u001b[1;32m      6\u001b[0m                           out_cnf_path\u001b[38;5;241m=\u001b[39mbox_dir\u001b[38;5;241m+\u001b[39m\u001b[38;5;124m\"\u001b[39m\u001b[38;5;124m/\u001b[39m\u001b[38;5;124m\"\u001b[39m\u001b[38;5;241m+\u001b[39mout_prefix\u001b[38;5;241m+\u001b[39m\u001b[38;5;124m\"\u001b[39m\u001b[38;5;124m.cnf\u001b[39m\u001b[38;5;124m\"\u001b[39m,\n\u001b[1;32m      7\u001b[0m                          periodic_boundary_condition\u001b[38;5;241m=\u001b[39m\u001b[38;5;124m\"\u001b[39m\u001b[38;5;124mr\u001b[39m\u001b[38;5;124m\"\u001b[39m, minwall\u001b[38;5;241m=\u001b[39m\u001b[38;5;241m0.8\u001b[39m, threshold\u001b[38;5;241m=\u001b[39m\u001b[38;5;241m0.23\u001b[39m, rotate\u001b[38;5;241m=\u001b[39m\u001b[38;5;28;01mTrue\u001b[39;00m)\n\u001b[1;32m      9\u001b[0m Cnf(cnf_box)\u001b[38;5;241m.\u001b[39mvisualize()\n",
      "\u001b[0;31mNameError\u001b[0m: name 'cnf_emin_vacuum' is not defined"
     ]
    }
   ],
   "source": [
    "from pygromos.data.solvent_coordinates import spc\n",
    "out_prefix = \"box\"\n",
    "box_dir = bash.make_folder(project_dir+\"/d_\"+out_prefix)\n",
    "\n",
    "cnf_box = gromPP.sim_box(in_top_path=top_peptide, in_cnf_path=cnf_emin_vacuum,in_solvent_cnf_file_path=spc,\n",
    "                          out_cnf_path=box_dir+\"/\"+out_prefix+\".cnf\",\n",
    "                         periodic_boundary_condition=\"r\", minwall=0.8, threshold=0.23, rotate=True)\n",
    "\n",
    "Cnf(cnf_box).visualize()"
   ]
  },
  {
   "cell_type": "markdown",
   "metadata": {},
   "source": [
    "#### to pdb"
   ]
  },
  {
   "cell_type": "code",
   "execution_count": 11,
   "metadata": {
    "execution": {
     "iopub.execute_input": "2022-04-01T07:58:34.108453Z",
     "iopub.status.busy": "2022-04-01T07:58:34.107899Z",
     "iopub.status.idle": "2022-04-01T07:58:34.130628Z",
     "shell.execute_reply": "2022-04-01T07:58:34.129542Z"
    }
   },
   "outputs": [
    {
     "ename": "NameError",
     "evalue": "name 'cnf_box' is not defined",
     "output_type": "error",
     "traceback": [
      "\u001b[0;31m---------------------------------------------------------------------------\u001b[0m",
      "\u001b[0;31mNameError\u001b[0m                                 Traceback (most recent call last)",
      "Input \u001b[0;32mIn [11]\u001b[0m, in \u001b[0;36m<cell line: 3>\u001b[0;34m()\u001b[0m\n\u001b[1;32m      1\u001b[0m out_pdb \u001b[38;5;241m=\u001b[39m box_dir\u001b[38;5;241m+\u001b[39m\u001b[38;5;124m\"\u001b[39m\u001b[38;5;124m/\u001b[39m\u001b[38;5;124m\"\u001b[39m\u001b[38;5;241m+\u001b[39mout_prefix\u001b[38;5;241m+\u001b[39m\u001b[38;5;124m\"\u001b[39m\u001b[38;5;124m.pdb\u001b[39m\u001b[38;5;124m\"\u001b[39m\n\u001b[0;32m----> 3\u001b[0m out_pdb \u001b[38;5;241m=\u001b[39m gromPP\u001b[38;5;241m.\u001b[39mframeout(in_coord_path\u001b[38;5;241m=\u001b[39m\u001b[43mcnf_box\u001b[49m, in_top_path\u001b[38;5;241m=\u001b[39mtop_peptide, out_file_path\u001b[38;5;241m=\u001b[39mout_pdb,\n\u001b[1;32m      4\u001b[0m                                periodic_boundary_condition\u001b[38;5;241m=\u001b[39m\u001b[38;5;124m\"\u001b[39m\u001b[38;5;124mr\u001b[39m\u001b[38;5;124m\"\u001b[39m, out_file_format\u001b[38;5;241m=\u001b[39m\u001b[38;5;124m\"\u001b[39m\u001b[38;5;124mpdb\u001b[39m\u001b[38;5;124m\"\u001b[39m, include\u001b[38;5;241m=\u001b[39m\u001b[38;5;124m\"\u001b[39m\u001b[38;5;124mALL\u001b[39m\u001b[38;5;124m\"\u001b[39m, time\u001b[38;5;241m=\u001b[39m\u001b[38;5;241m0\u001b[39m)\n",
      "\u001b[0;31mNameError\u001b[0m: name 'cnf_box' is not defined"
     ]
    }
   ],
   "source": [
    "out_pdb = box_dir+\"/\"+out_prefix+\".pdb\"\n",
    "\n",
    "out_pdb = gromPP.frameout(in_coord_path=cnf_box, in_top_path=top_peptide, out_file_path=out_pdb,\n",
    "                               periodic_boundary_condition=\"r\", out_file_format=\"pdb\", include=\"ALL\", time=0)"
   ]
  },
  {
   "cell_type": "markdown",
   "metadata": {
    "pycharm": {
     "name": "#%% md\n"
    }
   },
   "source": [
    "### Add Ions"
   ]
  },
  {
   "cell_type": "code",
   "execution_count": 12,
   "metadata": {
    "execution": {
     "iopub.execute_input": "2022-04-01T07:58:34.136935Z",
     "iopub.status.busy": "2022-04-01T07:58:34.135460Z",
     "iopub.status.idle": "2022-04-01T07:58:34.159264Z",
     "shell.execute_reply": "2022-04-01T07:58:34.158107Z"
    }
   },
   "outputs": [
    {
     "ename": "NameError",
     "evalue": "name 'cnf_box' is not defined",
     "output_type": "error",
     "traceback": [
      "\u001b[0;31m---------------------------------------------------------------------------\u001b[0m",
      "\u001b[0;31mNameError\u001b[0m                                 Traceback (most recent call last)",
      "Input \u001b[0;32mIn [12]\u001b[0m, in \u001b[0;36m<cell line: 2>\u001b[0;34m()\u001b[0m\n\u001b[1;32m      1\u001b[0m out_prefix \u001b[38;5;241m=\u001b[39m \u001b[38;5;124m\"\u001b[39m\u001b[38;5;124mion\u001b[39m\u001b[38;5;124m\"\u001b[39m\n\u001b[0;32m----> 2\u001b[0m cnf_ion \u001b[38;5;241m=\u001b[39m gromPP\u001b[38;5;241m.\u001b[39mion(in_cnf_path\u001b[38;5;241m=\u001b[39m\u001b[43mcnf_box\u001b[49m,\n\u001b[1;32m      3\u001b[0m                      in_top_path\u001b[38;5;241m=\u001b[39mtop_peptide,\n\u001b[1;32m      4\u001b[0m                      out_cnf_path\u001b[38;5;241m=\u001b[39mbox_dir\u001b[38;5;241m+\u001b[39m\u001b[38;5;124m\"\u001b[39m\u001b[38;5;124m/\u001b[39m\u001b[38;5;124m\"\u001b[39m\u001b[38;5;241m+\u001b[39mout_prefix\u001b[38;5;241m+\u001b[39m\u001b[38;5;124m\"\u001b[39m\u001b[38;5;124m.cnf\u001b[39m\u001b[38;5;124m\"\u001b[39m,\n\u001b[1;32m      5\u001b[0m                      negative\u001b[38;5;241m=\u001b[39m[\u001b[38;5;241m2\u001b[39m, \u001b[38;5;124m\"\u001b[39m\u001b[38;5;124mCL-\u001b[39m\u001b[38;5;124m\"\u001b[39m],verbose\u001b[38;5;241m=\u001b[39m\u001b[38;5;28;01mTrue\u001b[39;00m           )\n\u001b[1;32m      7\u001b[0m Cnf(cnf_ion)\u001b[38;5;241m.\u001b[39mvisualize()\n",
      "\u001b[0;31mNameError\u001b[0m: name 'cnf_box' is not defined"
     ]
    }
   ],
   "source": [
    "out_prefix = \"ion\"\n",
    "cnf_ion = gromPP.ion(in_cnf_path=cnf_box,\n",
    "                     in_top_path=top_peptide,\n",
    "                     out_cnf_path=box_dir+\"/\"+out_prefix+\".cnf\",\n",
    "                     negative=[2, \"CL-\"],verbose=True           )\n",
    "\n",
    "Cnf(cnf_ion).visualize()"
   ]
  },
  {
   "cell_type": "markdown",
   "metadata": {
    "pycharm": {
     "name": "#%% md\n"
    }
   },
   "source": [
    "### Energy Minimization BOX"
   ]
  },
  {
   "cell_type": "code",
   "execution_count": 13,
   "metadata": {
    "execution": {
     "iopub.execute_input": "2022-04-01T07:58:34.163377Z",
     "iopub.status.busy": "2022-04-01T07:58:34.162694Z",
     "iopub.status.idle": "2022-04-01T07:58:34.203517Z",
     "shell.execute_reply": "2022-04-01T07:58:34.198315Z"
    }
   },
   "outputs": [
    {
     "ename": "NameError",
     "evalue": "name 'cnf_ion' is not defined",
     "output_type": "error",
     "traceback": [
      "\u001b[0;31m---------------------------------------------------------------------------\u001b[0m",
      "\u001b[0;31mNameError\u001b[0m                                 Traceback (most recent call last)",
      "Input \u001b[0;32mIn [13]\u001b[0m, in \u001b[0;36m<cell line: 8>\u001b[0;34m()\u001b[0m\n\u001b[1;32m      5\u001b[0m box_emin_dir \u001b[38;5;241m=\u001b[39m bash\u001b[38;5;241m.\u001b[39mmake_folder(project_dir\u001b[38;5;241m+\u001b[39m\u001b[38;5;124m\"\u001b[39m\u001b[38;5;124m/e_\u001b[39m\u001b[38;5;124m\"\u001b[39m\u001b[38;5;241m+\u001b[39mout_prefix)\n\u001b[1;32m      6\u001b[0m os\u001b[38;5;241m.\u001b[39mchdir(box_emin_dir)\n\u001b[1;32m      8\u001b[0m grom_system \u001b[38;5;241m=\u001b[39m gromos_system\u001b[38;5;241m.\u001b[39mGromos_System(work_folder\u001b[38;5;241m=\u001b[39mbox_emin_dir,\n\u001b[1;32m      9\u001b[0m                                           system_name\u001b[38;5;241m=\u001b[39m\u001b[38;5;124m\"\u001b[39m\u001b[38;5;124min_\u001b[39m\u001b[38;5;124m\"\u001b[39m\u001b[38;5;241m+\u001b[39mout_prefix,\n\u001b[1;32m     10\u001b[0m                                           in_top_path\u001b[38;5;241m=\u001b[39mtop_system,\n\u001b[0;32m---> 11\u001b[0m                                           in_cnf_path\u001b[38;5;241m=\u001b[39m\u001b[43mcnf_ion\u001b[49m,\n\u001b[1;32m     12\u001b[0m                                           in_imd_path\u001b[38;5;241m=\u001b[39mtemplate_emin)\n\u001b[1;32m     14\u001b[0m grom_system\u001b[38;5;241m.\u001b[39madapt_imd()\n\u001b[1;32m     15\u001b[0m grom_system\u001b[38;5;241m.\u001b[39mimd\u001b[38;5;241m.\u001b[39mSTEP\u001b[38;5;241m.\u001b[39mNSTLIM \u001b[38;5;241m=\u001b[39m \u001b[38;5;241m3000\u001b[39m\n",
      "\u001b[0;31mNameError\u001b[0m: name 'cnf_ion' is not defined"
     ]
    }
   ],
   "source": [
    "from pygromos.data.simulation_parameters_templates import template_emin\n",
    "from pygromos.files.gromos_system import gromos_system\n",
    "\n",
    "out_prefix = \"box_emin\"\n",
    "box_emin_dir = bash.make_folder(project_dir+\"/e_\"+out_prefix)\n",
    "os.chdir(box_emin_dir)\n",
    "\n",
    "grom_system = gromos_system.Gromos_System(work_folder=box_emin_dir,\n",
    "                                          system_name=\"in_\"+out_prefix,\n",
    "                                          in_top_path=top_system,\n",
    "                                          in_cnf_path=cnf_ion,\n",
    "                                          in_imd_path=template_emin)\n",
    "\n",
    "grom_system.adapt_imd()\n",
    "grom_system.imd.STEP.NSTLIM = 3000\n",
    "grom_system.imd.PRINTOUT.NTPR = 300\n",
    "grom_system.write_files()\n",
    "\n",
    "cnf_reference_position = grom_system.cnf.write_refpos(box_emin_dir+\"/\"+out_prefix+\"_refpos.rpf\")\n",
    "cnf_position_restraint = grom_system.cnf.write_possrespec(box_emin_dir+\"/\"+out_prefix+\"_posres.pos\", residues=list(filter(lambda x: x != \"SOLV\", grom_system.cnf.get_residues())))\n",
    "\n",
    "out_emin_box = box_emin_dir + \"/\" + out_prefix\n",
    "gromXX.md_run(in_imd_path=grom_system.imd.path,\n",
    "              in_topo_path=grom_system.top.path,\n",
    "              in_coord_path=grom_system.cnf.path,\n",
    "              in_refpos_path=cnf_reference_position,\n",
    "              in_posresspec_path=cnf_position_restraint,\n",
    "              out_prefix=out_emin_box, verbose=True)\n",
    "\n",
    "cnf_emin_box =out_emin_box+\".cnf\"\n",
    "cnf_emin_box = gromPP.frameout(in_coord_path=cnf_emin_box, in_top_path=top_system, out_file_path=cnf_emin_box,\n",
    "                               periodic_boundary_condition=\"r cog\", out_file_format=\"cnf\", include=\"ALL\", time=0)\n"
   ]
  },
  {
   "cell_type": "code",
   "execution_count": 14,
   "metadata": {
    "execution": {
     "iopub.execute_input": "2022-04-01T07:58:34.207912Z",
     "iopub.status.busy": "2022-04-01T07:58:34.207367Z",
     "iopub.status.idle": "2022-04-01T07:58:34.231141Z",
     "shell.execute_reply": "2022-04-01T07:58:34.230231Z"
    }
   },
   "outputs": [
    {
     "ename": "NameError",
     "evalue": "name 'cnf_emin_box' is not defined",
     "output_type": "error",
     "traceback": [
      "\u001b[0;31m---------------------------------------------------------------------------\u001b[0m",
      "\u001b[0;31mNameError\u001b[0m                                 Traceback (most recent call last)",
      "Input \u001b[0;32mIn [14]\u001b[0m, in \u001b[0;36m<cell line: 1>\u001b[0;34m()\u001b[0m\n\u001b[0;32m----> 1\u001b[0m Cnf(\u001b[43mcnf_emin_box\u001b[49m)\u001b[38;5;241m.\u001b[39mvisualize()\n",
      "\u001b[0;31mNameError\u001b[0m: name 'cnf_emin_box' is not defined"
     ]
    }
   ],
   "source": [
    "Cnf(cnf_emin_box).visualize()"
   ]
  },
  {
   "cell_type": "markdown",
   "metadata": {
    "pycharm": {
     "name": "#%% md\n"
    }
   },
   "source": [
    "## Simulation\n",
    "\n",
    "### Equilibration NVP"
   ]
  },
  {
   "cell_type": "code",
   "execution_count": 15,
   "metadata": {
    "execution": {
     "iopub.execute_input": "2022-04-01T07:58:34.238000Z",
     "iopub.status.busy": "2022-04-01T07:58:34.236224Z",
     "iopub.status.idle": "2022-04-01T07:58:34.273418Z",
     "shell.execute_reply": "2022-04-01T07:58:34.271796Z"
    }
   },
   "outputs": [
    {
     "ename": "NameError",
     "evalue": "name 'cnf_emin_box' is not defined",
     "output_type": "error",
     "traceback": [
      "\u001b[0;31m---------------------------------------------------------------------------\u001b[0m",
      "\u001b[0;31mNameError\u001b[0m                                 Traceback (most recent call last)",
      "Input \u001b[0;32mIn [15]\u001b[0m, in \u001b[0;36m<cell line: 8>\u001b[0;34m()\u001b[0m\n\u001b[1;32m      5\u001b[0m eq_NVP_dir \u001b[38;5;241m=\u001b[39m bash\u001b[38;5;241m.\u001b[39mmake_folder(project_dir\u001b[38;5;241m+\u001b[39m\u001b[38;5;124m\"\u001b[39m\u001b[38;5;124m/f_\u001b[39m\u001b[38;5;124m\"\u001b[39m\u001b[38;5;241m+\u001b[39mout_prefix)\n\u001b[1;32m      6\u001b[0m os\u001b[38;5;241m.\u001b[39mchdir(eq_NVP_dir)\n\u001b[1;32m      8\u001b[0m grom_system \u001b[38;5;241m=\u001b[39m gromos_system\u001b[38;5;241m.\u001b[39mGromos_System(work_folder\u001b[38;5;241m=\u001b[39meq_NVP_dir,\n\u001b[1;32m      9\u001b[0m                                           system_name\u001b[38;5;241m=\u001b[39m\u001b[38;5;124m\"\u001b[39m\u001b[38;5;124min_\u001b[39m\u001b[38;5;124m\"\u001b[39m\u001b[38;5;241m+\u001b[39mout_prefix,\n\u001b[1;32m     10\u001b[0m                                           in_top_path\u001b[38;5;241m=\u001b[39mtop_system,\n\u001b[0;32m---> 11\u001b[0m                                           in_cnf_path\u001b[38;5;241m=\u001b[39m\u001b[43mcnf_emin_box\u001b[49m,\n\u001b[1;32m     12\u001b[0m                                           in_imd_path\u001b[38;5;241m=\u001b[39mtemplate_md)\n\u001b[1;32m     14\u001b[0m grom_system\u001b[38;5;241m.\u001b[39madapt_imd(not_ligand_residues\u001b[38;5;241m=\u001b[39m\u001b[38;5;124m\"\u001b[39m\u001b[38;5;124mCL-\u001b[39m\u001b[38;5;124m\"\u001b[39m)\n\u001b[1;32m     15\u001b[0m grom_system\u001b[38;5;241m.\u001b[39mimd\u001b[38;5;241m.\u001b[39mSTEP\u001b[38;5;241m.\u001b[39mNSTLIM \u001b[38;5;241m=\u001b[39m \u001b[38;5;241m1000\u001b[39m\n",
      "\u001b[0;31mNameError\u001b[0m: name 'cnf_emin_box' is not defined"
     ]
    }
   ],
   "source": [
    "from pygromos.data.simulation_parameters_templates import template_md_tut as template_md\n",
    "from pygromos.files.gromos_system import gromos_system\n",
    "\n",
    "out_prefix = \"eq_NVP\"\n",
    "eq_NVP_dir = bash.make_folder(project_dir+\"/f_\"+out_prefix)\n",
    "os.chdir(eq_NVP_dir)\n",
    "\n",
    "grom_system = gromos_system.Gromos_System(work_folder=eq_NVP_dir,\n",
    "                                          system_name=\"in_\"+out_prefix,\n",
    "                                          in_top_path=top_system,\n",
    "                                          in_cnf_path=cnf_emin_box,\n",
    "                                          in_imd_path=template_md)\n",
    "\n",
    "grom_system.adapt_imd(not_ligand_residues=\"CL-\")\n",
    "grom_system.imd.STEP.NSTLIM = 1000\n",
    "grom_system.imd.WRITETRAJ.NTWX = 10\n",
    "grom_system.imd.WRITETRAJ.NTWE = 10\n",
    "grom_system.imd.INITIALISE.NTIVEL = 1\n",
    "grom_system.imd.INITIALISE.NTISHK = 1\n",
    "grom_system.imd.INITIALISE.NTISHI = 1\n",
    "grom_system.imd.INITIALISE.NTIRTC = 1\n",
    "\n",
    "grom_system.imd.randomize_seed()\n",
    "grom_system.rebase_files()\n",
    "grom_system.write_files()\n",
    "\n",
    "out_eq_NVP = eq_NVP_dir + \"/\" + out_prefix\n",
    "gromXX.md_run(in_imd_path=grom_system.imd.path,\n",
    "              in_topo_path=grom_system.top.path,\n",
    "              in_coord_path=grom_system.cnf.path,\n",
    "              out_tre=True, out_trc=True,\n",
    "              out_prefix=out_eq_NVP)\n",
    "\n",
    "cnf_eq_NVP = out_eq_NVP+\".cnf\"\n",
    "cnf_eq_NVP\n"
   ]
  },
  {
   "cell_type": "code",
   "execution_count": 16,
   "metadata": {
    "execution": {
     "iopub.execute_input": "2022-04-01T07:58:34.277724Z",
     "iopub.status.busy": "2022-04-01T07:58:34.277036Z",
     "iopub.status.idle": "2022-04-01T07:58:34.302831Z",
     "shell.execute_reply": "2022-04-01T07:58:34.298336Z"
    }
   },
   "outputs": [
    {
     "ename": "NameError",
     "evalue": "name 'cnf_eq_NVP' is not defined",
     "output_type": "error",
     "traceback": [
      "\u001b[0;31m---------------------------------------------------------------------------\u001b[0m",
      "\u001b[0;31mNameError\u001b[0m                                 Traceback (most recent call last)",
      "Input \u001b[0;32mIn [16]\u001b[0m, in \u001b[0;36m<cell line: 1>\u001b[0;34m()\u001b[0m\n\u001b[0;32m----> 1\u001b[0m cnf \u001b[38;5;241m=\u001b[39m Cnf(\u001b[43mcnf_eq_NVP\u001b[49m)\n\u001b[1;32m      2\u001b[0m trc \u001b[38;5;241m=\u001b[39m Trc(out_eq_NVP\u001b[38;5;241m+\u001b[39m\u001b[38;5;124m\"\u001b[39m\u001b[38;5;124m.trc\u001b[39m\u001b[38;5;124m\"\u001b[39m)\n\u001b[1;32m      3\u001b[0m trc\u001b[38;5;241m.\u001b[39mcog_reframe(cnf)\n",
      "\u001b[0;31mNameError\u001b[0m: name 'cnf_eq_NVP' is not defined"
     ]
    }
   ],
   "source": [
    "cnf = Cnf(cnf_eq_NVP)\n",
    "trc = Trc(out_eq_NVP+\".trc\")\n",
    "trc.cog_reframe(cnf)\n",
    "trc.visualize(cnf)"
   ]
  },
  {
   "cell_type": "markdown",
   "metadata": {
    "pycharm": {
     "name": "#%% md\n"
    }
   },
   "source": [
    "### MD NVP"
   ]
  },
  {
   "cell_type": "code",
   "execution_count": 17,
   "metadata": {
    "execution": {
     "iopub.execute_input": "2022-04-01T07:58:34.307401Z",
     "iopub.status.busy": "2022-04-01T07:58:34.306930Z",
     "iopub.status.idle": "2022-04-01T07:58:34.326139Z",
     "shell.execute_reply": "2022-04-01T07:58:34.324907Z"
    }
   },
   "outputs": [
    {
     "ename": "NameError",
     "evalue": "name 'grom_system' is not defined",
     "output_type": "error",
     "traceback": [
      "\u001b[0;31m---------------------------------------------------------------------------\u001b[0m",
      "\u001b[0;31mNameError\u001b[0m                                 Traceback (most recent call last)",
      "Input \u001b[0;32mIn [17]\u001b[0m, in \u001b[0;36m<cell line: 1>\u001b[0;34m()\u001b[0m\n\u001b[0;32m----> 1\u001b[0m \u001b[43mgrom_system\u001b[49m\n",
      "\u001b[0;31mNameError\u001b[0m: name 'grom_system' is not defined"
     ]
    }
   ],
   "source": [
    "grom_system"
   ]
  },
  {
   "cell_type": "code",
   "execution_count": 18,
   "metadata": {
    "execution": {
     "iopub.execute_input": "2022-04-01T07:58:34.329566Z",
     "iopub.status.busy": "2022-04-01T07:58:34.329246Z",
     "iopub.status.idle": "2022-04-01T07:58:34.359622Z",
     "shell.execute_reply": "2022-04-01T07:58:34.358224Z"
    }
   },
   "outputs": [
    {
     "ename": "NameError",
     "evalue": "name 'cnf_eq_NVP' is not defined",
     "output_type": "error",
     "traceback": [
      "\u001b[0;31m---------------------------------------------------------------------------\u001b[0m",
      "\u001b[0;31mNameError\u001b[0m                                 Traceback (most recent call last)",
      "Input \u001b[0;32mIn [18]\u001b[0m, in \u001b[0;36m<cell line: 8>\u001b[0;34m()\u001b[0m\n\u001b[1;32m      5\u001b[0m md_dir \u001b[38;5;241m=\u001b[39m bash\u001b[38;5;241m.\u001b[39mmake_folder(project_dir\u001b[38;5;241m+\u001b[39m\u001b[38;5;124m\"\u001b[39m\u001b[38;5;124m/g_\u001b[39m\u001b[38;5;124m\"\u001b[39m\u001b[38;5;241m+\u001b[39mout_prefix)\n\u001b[1;32m      6\u001b[0m os\u001b[38;5;241m.\u001b[39mchdir(md_dir)\n\u001b[1;32m      8\u001b[0m grom_system \u001b[38;5;241m=\u001b[39m gromos_system\u001b[38;5;241m.\u001b[39mGromos_System(work_folder\u001b[38;5;241m=\u001b[39mmd_dir,\n\u001b[1;32m      9\u001b[0m                                           system_name\u001b[38;5;241m=\u001b[39m\u001b[38;5;124m\"\u001b[39m\u001b[38;5;124min_\u001b[39m\u001b[38;5;124m\"\u001b[39m\u001b[38;5;241m+\u001b[39mout_prefix,\n\u001b[1;32m     10\u001b[0m                                           in_top_path\u001b[38;5;241m=\u001b[39mtop_system,\n\u001b[0;32m---> 11\u001b[0m                                           in_cnf_path\u001b[38;5;241m=\u001b[39m\u001b[43mcnf_eq_NVP\u001b[49m,\n\u001b[1;32m     12\u001b[0m                                           in_imd_path\u001b[38;5;241m=\u001b[39mtemplate_md)\n\u001b[1;32m     14\u001b[0m grom_system\u001b[38;5;241m.\u001b[39madapt_imd(not_ligand_residues\u001b[38;5;241m=\u001b[39m\u001b[38;5;124m\"\u001b[39m\u001b[38;5;124mCL-\u001b[39m\u001b[38;5;124m\"\u001b[39m)\n\u001b[1;32m     15\u001b[0m grom_system\u001b[38;5;241m.\u001b[39mimd\u001b[38;5;241m.\u001b[39mSTEP\u001b[38;5;241m.\u001b[39mNSTLIM \u001b[38;5;241m=\u001b[39m \u001b[38;5;241m1000\u001b[39m\n",
      "\u001b[0;31mNameError\u001b[0m: name 'cnf_eq_NVP' is not defined"
     ]
    }
   ],
   "source": [
    "from pygromos.data.simulation_parameters_templates import template_md\n",
    "from pygromos.files.gromos_system import gromos_system\n",
    "\n",
    "out_prefix = \"md\"\n",
    "md_dir = bash.make_folder(project_dir+\"/g_\"+out_prefix)\n",
    "os.chdir(md_dir)\n",
    "\n",
    "grom_system = gromos_system.Gromos_System(work_folder=md_dir,\n",
    "                                          system_name=\"in_\"+out_prefix,\n",
    "                                          in_top_path=top_system,\n",
    "                                          in_cnf_path=cnf_eq_NVP,\n",
    "                                          in_imd_path=template_md)\n",
    "\n",
    "grom_system.adapt_imd(not_ligand_residues=\"CL-\")\n",
    "grom_system.imd.STEP.NSTLIM = 1000\n",
    "grom_system.imd.WRITETRAJ.NTWX = 10\n",
    "grom_system.imd.WRITETRAJ.NTWE = 10\n",
    "grom_system.imd.INITIALISE.NTIVEL = 0\n",
    "\n",
    "grom_system.rebase_files()\n",
    "grom_system.write_files()\n",
    "\n",
    "out_md = md_dir + \"/\" + out_prefix\n",
    "gromXX.md_run(in_imd_path=grom_system.imd.path,\n",
    "              in_topo_path=grom_system.top.path,\n",
    "              in_coord_path=grom_system.cnf.path,\n",
    "              out_tre=True, out_trc=True,\n",
    "              out_prefix=out_md, verbose=True)\n",
    "\n",
    "cnf_md = out_md+\".cnf\"\n",
    "cnf_md"
   ]
  },
  {
   "cell_type": "markdown",
   "metadata": {
    "pycharm": {
     "name": "#%% md\n"
    }
   },
   "source": [
    "## Analysis"
   ]
  },
  {
   "cell_type": "code",
   "execution_count": 19,
   "metadata": {
    "execution": {
     "iopub.execute_input": "2022-04-01T07:58:34.363194Z",
     "iopub.status.busy": "2022-04-01T07:58:34.362720Z",
     "iopub.status.idle": "2022-04-01T07:58:34.387348Z",
     "shell.execute_reply": "2022-04-01T07:58:34.381956Z"
    }
   },
   "outputs": [
    {
     "ename": "NameError",
     "evalue": "name 'cnf_md' is not defined",
     "output_type": "error",
     "traceback": [
      "\u001b[0;31m---------------------------------------------------------------------------\u001b[0m",
      "\u001b[0;31mNameError\u001b[0m                                 Traceback (most recent call last)",
      "Input \u001b[0;32mIn [19]\u001b[0m, in \u001b[0;36m<cell line: 1>\u001b[0;34m()\u001b[0m\n\u001b[0;32m----> 1\u001b[0m cnf \u001b[38;5;241m=\u001b[39m Cnf(\u001b[43mcnf_md\u001b[49m)\n\u001b[1;32m      2\u001b[0m cnf\u001b[38;5;241m.\u001b[39mvisualize()\n",
      "\u001b[0;31mNameError\u001b[0m: name 'cnf_md' is not defined"
     ]
    }
   ],
   "source": [
    "cnf = Cnf(cnf_md)\n",
    "cnf.visualize()\n",
    "\n",
    "#shows pbc :)"
   ]
  },
  {
   "cell_type": "code",
   "execution_count": 20,
   "metadata": {
    "execution": {
     "iopub.execute_input": "2022-04-01T07:58:34.391494Z",
     "iopub.status.busy": "2022-04-01T07:58:34.390889Z",
     "iopub.status.idle": "2022-04-01T07:58:34.412861Z",
     "shell.execute_reply": "2022-04-01T07:58:34.411831Z"
    }
   },
   "outputs": [
    {
     "ename": "NameError",
     "evalue": "name 'out_md' is not defined",
     "output_type": "error",
     "traceback": [
      "\u001b[0;31m---------------------------------------------------------------------------\u001b[0m",
      "\u001b[0;31mNameError\u001b[0m                                 Traceback (most recent call last)",
      "Input \u001b[0;32mIn [20]\u001b[0m, in \u001b[0;36m<cell line: 1>\u001b[0;34m()\u001b[0m\n\u001b[0;32m----> 1\u001b[0m trc \u001b[38;5;241m=\u001b[39m Trc(\u001b[43mout_md\u001b[49m\u001b[38;5;241m+\u001b[39m\u001b[38;5;124m\"\u001b[39m\u001b[38;5;124m.trc\u001b[39m\u001b[38;5;124m\"\u001b[39m)\n\u001b[1;32m      2\u001b[0m trc\u001b[38;5;241m.\u001b[39mTITLE \u001b[38;5;241m=\u001b[39m \u001b[38;5;124m\"\u001b[39m\u001b[38;5;130;01m\\n\u001b[39;00m\u001b[38;5;124m\"\u001b[39m\u001b[38;5;241m.\u001b[39mjoin(trc\u001b[38;5;241m.\u001b[39mTITLE)\n\u001b[1;32m      3\u001b[0m trc\u001b[38;5;241m.\u001b[39mcog_reframe(cnf)\n",
      "\u001b[0;31mNameError\u001b[0m: name 'out_md' is not defined"
     ]
    }
   ],
   "source": [
    "trc = Trc(out_md+\".trc\")\n",
    "trc.TITLE = \"\\n\".join(trc.TITLE)\n",
    "trc.cog_reframe(cnf)\n",
    "trc.visualize(cnf)"
   ]
  },
  {
   "cell_type": "code",
   "execution_count": 21,
   "metadata": {
    "execution": {
     "iopub.execute_input": "2022-04-01T07:58:34.419905Z",
     "iopub.status.busy": "2022-04-01T07:58:34.416792Z",
     "iopub.status.idle": "2022-04-01T07:58:34.424419Z",
     "shell.execute_reply": "2022-04-01T07:58:34.423380Z"
    }
   },
   "outputs": [],
   "source": [
    "out_prefix = \"ana\"\n",
    "md_dir = bash.make_folder(project_dir+\"/h_\"+out_prefix)\n",
    "os.chdir(md_dir)"
   ]
  },
  {
   "cell_type": "code",
   "execution_count": null,
   "metadata": {},
   "outputs": [],
   "source": []
  }
 ],
 "metadata": {
  "language_info": {
   "codemirror_mode": {
    "name": "ipython",
    "version": 3
   },
   "file_extension": ".py",
   "mimetype": "text/x-python",
   "name": "python",
   "nbconvert_exporter": "python",
   "pygments_lexer": "ipython3",
   "version": "3.9.10"
  },
  "widgets": {
   "application/vnd.jupyter.widget-state+json": {
    "state": {
     "1ccf58ab1a514cab866e15a82292fa8c": {
      "model_module": "nglview-js-widgets",
      "model_module_version": "3.0.1",
      "model_name": "ColormakerRegistryModel",
      "state": {
       "_dom_classes": [],
       "_model_module": "nglview-js-widgets",
       "_model_module_version": "3.0.1",
       "_model_name": "ColormakerRegistryModel",
       "_msg_ar": [],
       "_msg_q": [],
       "_ready": false,
       "_view_count": null,
       "_view_module": "nglview-js-widgets",
       "_view_module_version": "3.0.1",
       "_view_name": "ColormakerRegistryView",
       "layout": "IPY_MODEL_c3bbd23306504aca8b34189fa5798a62"
      }
     },
     "c3bbd23306504aca8b34189fa5798a62": {
      "model_module": "@jupyter-widgets/base",
      "model_module_version": "1.2.0",
      "model_name": "LayoutModel",
      "state": {
       "_model_module": "@jupyter-widgets/base",
       "_model_module_version": "1.2.0",
       "_model_name": "LayoutModel",
       "_view_count": null,
       "_view_module": "@jupyter-widgets/base",
       "_view_module_version": "1.2.0",
       "_view_name": "LayoutView",
       "align_content": null,
       "align_items": null,
       "align_self": null,
       "border": null,
       "bottom": null,
       "display": null,
       "flex": null,
       "flex_flow": null,
       "grid_area": null,
       "grid_auto_columns": null,
       "grid_auto_flow": null,
       "grid_auto_rows": null,
       "grid_column": null,
       "grid_gap": null,
       "grid_row": null,
       "grid_template_areas": null,
       "grid_template_columns": null,
       "grid_template_rows": null,
       "height": null,
       "justify_content": null,
       "justify_items": null,
       "left": null,
       "margin": null,
       "max_height": null,
       "max_width": null,
       "min_height": null,
       "min_width": null,
       "object_fit": null,
       "object_position": null,
       "order": null,
       "overflow": null,
       "overflow_x": null,
       "overflow_y": null,
       "padding": null,
       "right": null,
       "top": null,
       "visibility": null,
       "width": null
      }
     }
    },
    "version_major": 2,
    "version_minor": 0
   }
  }
 },
 "nbformat": 4,
 "nbformat_minor": 4
}
