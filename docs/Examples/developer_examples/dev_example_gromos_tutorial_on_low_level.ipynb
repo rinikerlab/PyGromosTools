{
 "cells": [
  {
   "cell_type": "markdown",
   "metadata": {
    "pycharm": {
     "name": "#%% md\n"
    }
   },
   "source": [
    "\n",
    "# Gromos Tutorial Pipeline - OLD\n",
    "\n",
    "**NOTE** This is the old way on how to do the Tutorial for Gromos! We want to remove this for the future, please checkout the new Tutorial!\n"
   ]
  },
  {
   "cell_type": "code",
   "execution_count": 1,
   "metadata": {
    "execution": {
     "iopub.execute_input": "2022-03-31T19:19:19.463034Z",
     "iopub.status.busy": "2022-03-31T19:19:19.461572Z",
     "iopub.status.idle": "2022-03-31T19:19:23.277003Z",
     "shell.execute_reply": "2022-03-31T19:19:23.275913Z"
    }
   },
   "outputs": [
    {
     "data": {
      "application/vnd.jupyter.widget-view+json": {
       "model_id": "2d1d01f29fc24916ab63a82f3ac444c0",
       "version_major": 2,
       "version_minor": 0
      },
      "text/plain": []
     },
     "metadata": {},
     "output_type": "display_data"
    }
   ],
   "source": [
    "import os, sys\n",
    "from pygromos.utils import bash\n",
    "root_dir = os.getcwd()\n",
    "\n",
    "#if package is not installed and path not set correct - this helps you out :)\n",
    "sys.path.append(root_dir+\"/..\")\n",
    "\n",
    "\n",
    "import pygromos\n",
    "from pygromos.gromos.gromosPP import GromosPP\n",
    "from pygromos.gromos.gromosXX import GromosXX\n",
    "from pygromos.files.coord.cnf import Cnf\n",
    "from pygromos.files.trajectory.trc import Trc\n",
    "\n",
    "gromosPP_bin = None\n",
    "gromosXX_bin = None\n",
    "gromPP = GromosPP(gromosPP_bin)\n",
    "gromXX = GromosXX(gromosXX_bin)\n",
    "\n",
    "project_dir = os.path.abspath(os.path.dirname(pygromos.__file__)+\"/../examples/example_files/Tutorial_System\")\n",
    "input_dir = project_dir+\"/input\""
   ]
  },
  {
   "cell_type": "markdown",
   "metadata": {
    "pycharm": {
     "name": "#%% md\n"
    }
   },
   "source": [
    "## Build initial files\n",
    "### generate Topology\n",
    "#### build single topologies"
   ]
  },
  {
   "cell_type": "code",
   "execution_count": 2,
   "metadata": {
    "execution": {
     "iopub.execute_input": "2022-03-31T19:19:23.281086Z",
     "iopub.status.busy": "2022-03-31T19:19:23.280533Z",
     "iopub.status.idle": "2022-03-31T19:19:23.647178Z",
     "shell.execute_reply": "2022-03-31T19:19:23.646134Z"
    }
   },
   "outputs": [
    {
     "data": {
      "text/plain": [
       "'/home/mlehner/PyGromosTools/examples/example_files/Tutorial_System/a_topo/peptide.top'"
      ]
     },
     "execution_count": 2,
     "metadata": {},
     "output_type": "execute_result"
    }
   ],
   "source": [
    "from pygromos.data.ff import Gromos54A7\n",
    "\n",
    "topo_dir = bash.make_folder(project_dir+'/a_topo')\n",
    "\n",
    "## Make Cl-\n",
    "sequence = \"CL-\"\n",
    "solvent = \"H2O\"\n",
    "top_cl = topo_dir+\"/cl.top\"\n",
    "\n",
    "gromPP.make_top(in_building_block_lib_path=Gromos54A7.mtb,\n",
    "                in_parameter_lib_path=Gromos54A7.ifp,\n",
    "                in_sequence=sequence, in_solvent=solvent,out_top_path=top_cl)\n",
    "\n",
    "## Make Peptide\n",
    "sequence = \"NH3+ VAL TYR ARG LYSH GLN COO-\"\n",
    "solvent = \"H2O\"\n",
    "top_peptide = topo_dir+\"/peptide.top\"\n",
    "\n",
    "gromPP.make_top(in_building_block_lib_path=Gromos54A7.mtb,\n",
    "                in_parameter_lib_path=Gromos54A7.ifp,\n",
    "                in_sequence=sequence,\n",
    "                in_solvent=solvent,out_top_path=top_peptide)\n"
   ]
  },
  {
   "cell_type": "markdown",
   "metadata": {
    "pycharm": {
     "name": "#%% md\n"
    }
   },
   "source": [
    "#### combine topology"
   ]
  },
  {
   "cell_type": "code",
   "execution_count": 3,
   "metadata": {
    "execution": {
     "iopub.execute_input": "2022-03-31T19:19:23.651966Z",
     "iopub.status.busy": "2022-03-31T19:19:23.651343Z",
     "iopub.status.idle": "2022-03-31T19:19:23.833686Z",
     "shell.execute_reply": "2022-03-31T19:19:23.831776Z"
    }
   },
   "outputs": [
    {
     "data": {
      "text/plain": [
       "'/home/mlehner/PyGromosTools/examples/example_files/Tutorial_System/a_topo/vac_sys.top'"
      ]
     },
     "execution_count": 3,
     "metadata": {},
     "output_type": "execute_result"
    }
   ],
   "source": [
    "top_system = topo_dir+\"/vac_sys.top\"\n",
    "gromPP.com_top(in_topo_paths=[top_peptide, top_cl], topo_multiplier=[1,2], out_top_path=top_system)\n"
   ]
  },
  {
   "cell_type": "markdown",
   "metadata": {},
   "source": [
    "### generate coordinates\n"
   ]
  },
  {
   "cell_type": "code",
   "execution_count": 4,
   "metadata": {
    "execution": {
     "iopub.execute_input": "2022-03-31T19:19:23.840754Z",
     "iopub.status.busy": "2022-03-31T19:19:23.839458Z",
     "iopub.status.idle": "2022-03-31T19:19:24.170564Z",
     "shell.execute_reply": "2022-03-31T19:19:24.169568Z"
    }
   },
   "outputs": [
    {
     "ename": "AttributeError",
     "evalue": "'Cnf' object has no attribute 'visualize'",
     "output_type": "error",
     "traceback": [
      "\u001b[0;31m---------------------------------------------------------------------------\u001b[0m",
      "\u001b[0;31mAttributeError\u001b[0m                            Traceback (most recent call last)",
      "\u001b[0;32m/tmp/ipykernel_25905/4257591329.py\u001b[0m in \u001b[0;36m<module>\u001b[0;34m\u001b[0m\n\u001b[1;32m      4\u001b[0m \u001b[0;34m\u001b[0m\u001b[0m\n\u001b[1;32m      5\u001b[0m \u001b[0mcnf_peptide\u001b[0m \u001b[0;34m=\u001b[0m \u001b[0mgromPP\u001b[0m\u001b[0;34m.\u001b[0m\u001b[0mpdb2gromos\u001b[0m\u001b[0;34m(\u001b[0m\u001b[0min_pdb_path\u001b[0m\u001b[0;34m=\u001b[0m\u001b[0min_pdb\u001b[0m\u001b[0;34m,\u001b[0m \u001b[0min_top_path\u001b[0m\u001b[0;34m=\u001b[0m\u001b[0mtop_peptide\u001b[0m\u001b[0;34m,\u001b[0m \u001b[0mout_cnf_path\u001b[0m\u001b[0;34m=\u001b[0m\u001b[0mcnf_peptide\u001b[0m\u001b[0;34m)\u001b[0m\u001b[0;34m\u001b[0m\u001b[0;34m\u001b[0m\u001b[0m\n\u001b[0;32m----> 6\u001b[0;31m \u001b[0mCnf\u001b[0m\u001b[0;34m(\u001b[0m\u001b[0mcnf_peptide\u001b[0m\u001b[0;34m)\u001b[0m\u001b[0;34m.\u001b[0m\u001b[0mvisualize\u001b[0m\u001b[0;34m(\u001b[0m\u001b[0;34m)\u001b[0m\u001b[0;34m\u001b[0m\u001b[0;34m\u001b[0m\u001b[0m\n\u001b[0m",
      "\u001b[0;31mAttributeError\u001b[0m: 'Cnf' object has no attribute 'visualize'"
     ]
    }
   ],
   "source": [
    "coord_dir = bash.make_folder(project_dir+\"/b_coord\")\n",
    "in_pdb = input_dir+\"/peptide.pdb\"\n",
    "cnf_peptide = coord_dir+\"/cnf_vacuum_peptide.cnf\"\n",
    "\n",
    "cnf_peptide = gromPP.pdb2gromos(in_pdb_path=in_pdb, in_top_path=top_peptide, out_cnf_path=cnf_peptide)\n",
    "Cnf(cnf_peptide).visualize()"
   ]
  },
  {
   "cell_type": "markdown",
   "metadata": {
    "pycharm": {
     "name": "#%% md\n"
    }
   },
   "source": [
    "#### add hydrogens"
   ]
  },
  {
   "cell_type": "code",
   "execution_count": 5,
   "metadata": {
    "execution": {
     "iopub.execute_input": "2022-03-31T19:19:24.175833Z",
     "iopub.status.busy": "2022-03-31T19:19:24.174571Z",
     "iopub.status.idle": "2022-03-31T19:19:24.188853Z",
     "shell.execute_reply": "2022-03-31T19:19:24.187623Z"
    }
   },
   "outputs": [
    {
     "ename": "AttributeError",
     "evalue": "'GromosPP' object has no attribute 'protonate'",
     "output_type": "error",
     "traceback": [
      "\u001b[0;31m---------------------------------------------------------------------------\u001b[0m",
      "\u001b[0;31mAttributeError\u001b[0m                            Traceback (most recent call last)",
      "\u001b[0;32m/tmp/ipykernel_25905/3640015462.py\u001b[0m in \u001b[0;36m<module>\u001b[0;34m\u001b[0m\n\u001b[1;32m      1\u001b[0m \u001b[0mcnf_hpeptide\u001b[0m \u001b[0;34m=\u001b[0m \u001b[0mcoord_dir\u001b[0m\u001b[0;34m+\u001b[0m\u001b[0;34m\"/vacuum_hpeptide.cnf\"\u001b[0m\u001b[0;34m\u001b[0m\u001b[0;34m\u001b[0m\u001b[0m\n\u001b[0;32m----> 2\u001b[0;31m \u001b[0mcnf_hpeptide\u001b[0m \u001b[0;34m=\u001b[0m \u001b[0mgromPP\u001b[0m\u001b[0;34m.\u001b[0m\u001b[0mprotonate\u001b[0m\u001b[0;34m(\u001b[0m\u001b[0min_cnf_path\u001b[0m\u001b[0;34m=\u001b[0m\u001b[0mcnf_peptide\u001b[0m\u001b[0;34m,\u001b[0m \u001b[0min_top_path\u001b[0m\u001b[0;34m=\u001b[0m\u001b[0mtop_peptide\u001b[0m\u001b[0;34m,\u001b[0m \u001b[0mout_cnf_path\u001b[0m\u001b[0;34m=\u001b[0m\u001b[0mcnf_hpeptide\u001b[0m\u001b[0;34m)\u001b[0m\u001b[0;34m\u001b[0m\u001b[0;34m\u001b[0m\u001b[0m\n\u001b[0m\u001b[1;32m      3\u001b[0m \u001b[0;34m\u001b[0m\u001b[0m\n\u001b[1;32m      4\u001b[0m \u001b[0mCnf\u001b[0m\u001b[0;34m(\u001b[0m\u001b[0mcnf_hpeptide\u001b[0m\u001b[0;34m)\u001b[0m\u001b[0;34m.\u001b[0m\u001b[0mvisualize\u001b[0m\u001b[0;34m(\u001b[0m\u001b[0;34m)\u001b[0m\u001b[0;34m\u001b[0m\u001b[0;34m\u001b[0m\u001b[0m\n",
      "\u001b[0;31mAttributeError\u001b[0m: 'GromosPP' object has no attribute 'protonate'"
     ]
    }
   ],
   "source": [
    "cnf_hpeptide = coord_dir+\"/vacuum_hpeptide.cnf\"\n",
    "cnf_hpeptide = gromPP.protonate(in_cnf_path=cnf_peptide, in_top_path=top_peptide, out_cnf_path=cnf_hpeptide)\n",
    "\n",
    "Cnf(cnf_hpeptide).visualize()"
   ]
  },
  {
   "cell_type": "markdown",
   "metadata": {},
   "source": [
    "#### cnf to pdb"
   ]
  },
  {
   "cell_type": "code",
   "execution_count": 6,
   "metadata": {
    "execution": {
     "iopub.execute_input": "2022-03-31T19:19:24.192878Z",
     "iopub.status.busy": "2022-03-31T19:19:24.192379Z",
     "iopub.status.idle": "2022-03-31T19:19:24.392300Z",
     "shell.execute_reply": "2022-03-31T19:19:24.390235Z"
    }
   },
   "outputs": [],
   "source": [
    "out_pdb = coord_dir+\"/vacuum_hpeptide.pdb\"\n",
    "out_pdb = gromPP.frameout(in_coord_path=cnf_hpeptide, in_top_path=top_peptide, out_file_path=out_pdb,\n",
    "                               periodic_boundary_condition=\"v\", out_file_format=\"pdb\", time=0)"
   ]
  },
  {
   "cell_type": "markdown",
   "metadata": {},
   "source": [
    "### energy minimization - Vacuum"
   ]
  },
  {
   "cell_type": "code",
   "execution_count": 7,
   "metadata": {
    "execution": {
     "iopub.execute_input": "2022-03-31T19:19:24.397956Z",
     "iopub.status.busy": "2022-03-31T19:19:24.396941Z",
     "iopub.status.idle": "2022-03-31T19:19:27.721824Z",
     "shell.execute_reply": "2022-03-31T19:19:27.720455Z"
    }
   },
   "outputs": [
    {
     "name": "stdout",
     "output_type": "stream",
     "text": [
      "COMMAND:  export OMP_NUM_THREADS=1  &&  md @topo /home/mlehner/PyGromosTools/examples/example_files/Tutorial_System/a_topo/peptide.top @conf /home/mlehner/PyGromosTools/examples/example_files/Tutorial_System/b_coord/vacuum_hpeptide.cnf @input /home/mlehner/PyGromosTools/pygromos/data/simulation_parameters_templates/vac_emin.imd @fin /home/mlehner/PyGromosTools/examples/example_files/Tutorial_System/c_vacuum_emin/vacuum_emin.cnf > /home/mlehner/PyGromosTools/examples/example_files/Tutorial_System/c_vacuum_emin/vacuum_emin.omd\n",
      "\n"
     ]
    },
    {
     "data": {
      "text/plain": [
       "'/home/mlehner/PyGromosTools/examples/example_files/Tutorial_System/c_vacuum_emin/vacuum_emin.cnf'"
      ]
     },
     "execution_count": 7,
     "metadata": {},
     "output_type": "execute_result"
    }
   ],
   "source": [
    "from pygromos.data.simulation_parameters_templates import template_emin_vac\n",
    "from pygromos.files.gromos_system import gromos_system\n",
    "\n",
    "out_prefix = \"vacuum_emin\"\n",
    "vacuum_emin_dir = bash.make_folder(project_dir+\"/c_\"+out_prefix)\n",
    "os.chdir(vacuum_emin_dir)\n",
    "\n",
    "grom_system = gromos_system.Gromos_System(work_folder=vacuum_emin_dir,\n",
    "                                          system_name=\"in_\"+out_prefix,\n",
    "                                          in_top_path=top_peptide,\n",
    "                                          in_cnf_path=cnf_hpeptide,\n",
    "                                          in_imd_path=template_emin_vac,\n",
    "                                         verbose=False)\n",
    "\n",
    "grom_system.adapt_imd()\n",
    "#del grom_system.imd.POSITIONRES\n",
    "grom_system.imd.BOUNDCOND.NTB = 0\n",
    "grom_system.write_files()\n",
    "\n",
    "\n",
    "out_emin_vacuum = vacuum_emin_dir + \"/\" + out_prefix\n",
    "gromXX.md_run(in_imd_path=grom_system.imd.path,\n",
    "              in_topo_path=grom_system.top.path,\n",
    "              in_coord_path=grom_system.cnf.path,\n",
    "              out_prefix=out_emin_vacuum, verbose=True)\n",
    "cnf_emin_vacuum = out_emin_vacuum+\".cnf\"\n",
    "cnf_emin_vacuum\n"
   ]
  },
  {
   "cell_type": "code",
   "execution_count": 8,
   "metadata": {
    "execution": {
     "iopub.execute_input": "2022-03-31T19:19:27.726245Z",
     "iopub.status.busy": "2022-03-31T19:19:27.725647Z",
     "iopub.status.idle": "2022-03-31T19:19:27.755859Z",
     "shell.execute_reply": "2022-03-31T19:19:27.754564Z"
    }
   },
   "outputs": [
    {
     "ename": "TypeError",
     "evalue": "emin() got an unexpected keyword argument 'project_dir'",
     "output_type": "error",
     "traceback": [
      "\u001b[0;31m---------------------------------------------------------------------------\u001b[0m",
      "\u001b[0;31mTypeError\u001b[0m                                 Traceback (most recent call last)",
      "\u001b[0;32m/tmp/ipykernel_25905/1872843602.py\u001b[0m in \u001b[0;36m<module>\u001b[0;34m\u001b[0m\n\u001b[1;32m      1\u001b[0m \u001b[0;32mfrom\u001b[0m \u001b[0mpygromos\u001b[0m\u001b[0;34m.\u001b[0m\u001b[0msimulations\u001b[0m\u001b[0;34m.\u001b[0m\u001b[0mmodules\u001b[0m\u001b[0;34m.\u001b[0m\u001b[0mpreset_simulation_modules\u001b[0m \u001b[0;32mimport\u001b[0m \u001b[0memin\u001b[0m\u001b[0;34m\u001b[0m\u001b[0;34m\u001b[0m\u001b[0m\n\u001b[1;32m      2\u001b[0m \u001b[0;34m\u001b[0m\u001b[0m\n\u001b[0;32m----> 3\u001b[0;31m \u001b[0memin_gromos_system\u001b[0m\u001b[0;34m,\u001b[0m \u001b[0mjobID\u001b[0m \u001b[0;34m=\u001b[0m \u001b[0memin\u001b[0m\u001b[0;34m(\u001b[0m\u001b[0min_gromos_system\u001b[0m\u001b[0;34m=\u001b[0m\u001b[0mgrom_system\u001b[0m\u001b[0;34m,\u001b[0m \u001b[0mproject_dir\u001b[0m\u001b[0;34m=\u001b[0m\u001b[0mproject_dir\u001b[0m\u001b[0;34m)\u001b[0m\u001b[0;34m\u001b[0m\u001b[0;34m\u001b[0m\u001b[0m\n\u001b[0m\u001b[1;32m      4\u001b[0m \u001b[0memin_gromos_system\u001b[0m\u001b[0;34m\u001b[0m\u001b[0;34m\u001b[0m\u001b[0m\n",
      "\u001b[0;31mTypeError\u001b[0m: emin() got an unexpected keyword argument 'project_dir'"
     ]
    }
   ],
   "source": [
    "from pygromos.simulations.modules.preset_simulation_modules import emin\n",
    "\n",
    "emin_gromos_system, jobID = emin(in_gromos_system=grom_system, project_dir=project_dir)\n",
    "emin_gromos_system\n"
   ]
  },
  {
   "cell_type": "code",
   "execution_count": 9,
   "metadata": {
    "execution": {
     "iopub.execute_input": "2022-03-31T19:19:27.759790Z",
     "iopub.status.busy": "2022-03-31T19:19:27.759294Z",
     "iopub.status.idle": "2022-03-31T19:19:27.771020Z",
     "shell.execute_reply": "2022-03-31T19:19:27.769714Z"
    }
   },
   "outputs": [
    {
     "ename": "NameError",
     "evalue": "name 'emin_gromos_system' is not defined",
     "output_type": "error",
     "traceback": [
      "\u001b[0;31m---------------------------------------------------------------------------\u001b[0m",
      "\u001b[0;31mNameError\u001b[0m                                 Traceback (most recent call last)",
      "\u001b[0;32m/tmp/ipykernel_25905/448785403.py\u001b[0m in \u001b[0;36m<module>\u001b[0;34m\u001b[0m\n\u001b[0;32m----> 1\u001b[0;31m \u001b[0memin_gromos_system\u001b[0m\u001b[0;34m.\u001b[0m\u001b[0mcnf\u001b[0m\u001b[0;34m.\u001b[0m\u001b[0mvisualize\u001b[0m\u001b[0;34m(\u001b[0m\u001b[0;34m)\u001b[0m\u001b[0;34m\u001b[0m\u001b[0;34m\u001b[0m\u001b[0m\n\u001b[0m",
      "\u001b[0;31mNameError\u001b[0m: name 'emin_gromos_system' is not defined"
     ]
    }
   ],
   "source": [
    "emin_gromos_system.cnf.visualize()"
   ]
  },
  {
   "cell_type": "markdown",
   "metadata": {
    "pycharm": {
     "name": "#%% md\n"
    }
   },
   "source": [
    "## Solvatistation and Solvent Energy Minimization\n",
    "### build box system"
   ]
  },
  {
   "cell_type": "code",
   "execution_count": 10,
   "metadata": {
    "execution": {
     "iopub.execute_input": "2022-03-31T19:19:27.776182Z",
     "iopub.status.busy": "2022-03-31T19:19:27.775661Z",
     "iopub.status.idle": "2022-03-31T19:19:28.087512Z",
     "shell.execute_reply": "2022-03-31T19:19:28.085860Z"
    }
   },
   "outputs": [
    {
     "ename": "AttributeError",
     "evalue": "'Cnf' object has no attribute 'visualize'",
     "output_type": "error",
     "traceback": [
      "\u001b[0;31m---------------------------------------------------------------------------\u001b[0m",
      "\u001b[0;31mAttributeError\u001b[0m                            Traceback (most recent call last)",
      "\u001b[0;32m/tmp/ipykernel_25905/3965972887.py\u001b[0m in \u001b[0;36m<module>\u001b[0;34m\u001b[0m\n\u001b[1;32m      7\u001b[0m                          periodic_boundary_condition=\"r\", minwall=0.8, threshold=0.23, rotate=True)\n\u001b[1;32m      8\u001b[0m \u001b[0;34m\u001b[0m\u001b[0m\n\u001b[0;32m----> 9\u001b[0;31m \u001b[0mCnf\u001b[0m\u001b[0;34m(\u001b[0m\u001b[0mcnf_box\u001b[0m\u001b[0;34m)\u001b[0m\u001b[0;34m.\u001b[0m\u001b[0mvisualize\u001b[0m\u001b[0;34m(\u001b[0m\u001b[0;34m)\u001b[0m\u001b[0;34m\u001b[0m\u001b[0;34m\u001b[0m\u001b[0m\n\u001b[0m",
      "\u001b[0;31mAttributeError\u001b[0m: 'Cnf' object has no attribute 'visualize'"
     ]
    }
   ],
   "source": [
    "from pygromos.data.solvent_coordinates import spc\n",
    "out_prefix = \"box\"\n",
    "box_dir = bash.make_folder(project_dir+\"/d_\"+out_prefix)\n",
    "\n",
    "cnf_box = gromPP.sim_box(in_top_path=top_peptide, in_cnf_path=cnf_emin_vacuum,in_solvent_cnf_file_path=spc,\n",
    "                          out_cnf_path=box_dir+\"/\"+out_prefix+\".cnf\",\n",
    "                         periodic_boundary_condition=\"r\", minwall=0.8, threshold=0.23, rotate=True)\n",
    "\n",
    "Cnf(cnf_box).visualize()"
   ]
  },
  {
   "cell_type": "markdown",
   "metadata": {},
   "source": [
    "#### to pdb"
   ]
  },
  {
   "cell_type": "code",
   "execution_count": 11,
   "metadata": {
    "execution": {
     "iopub.execute_input": "2022-03-31T19:19:28.091687Z",
     "iopub.status.busy": "2022-03-31T19:19:28.091127Z",
     "iopub.status.idle": "2022-03-31T19:19:28.380441Z",
     "shell.execute_reply": "2022-03-31T19:19:28.379190Z"
    }
   },
   "outputs": [],
   "source": [
    "out_pdb = box_dir+\"/\"+out_prefix+\".pdb\"\n",
    "\n",
    "out_pdb = gromPP.frameout(in_coord_path=cnf_box, in_top_path=top_peptide, out_file_path=out_pdb,\n",
    "                               periodic_boundary_condition=\"r\", out_file_format=\"pdb\", include=\"ALL\", time=0)"
   ]
  },
  {
   "cell_type": "markdown",
   "metadata": {
    "pycharm": {
     "name": "#%% md\n"
    }
   },
   "source": [
    "### Add Ions"
   ]
  },
  {
   "cell_type": "code",
   "execution_count": 12,
   "metadata": {
    "execution": {
     "iopub.execute_input": "2022-03-31T19:19:28.386782Z",
     "iopub.status.busy": "2022-03-31T19:19:28.385862Z",
     "iopub.status.idle": "2022-03-31T19:19:28.944747Z",
     "shell.execute_reply": "2022-03-31T19:19:28.943734Z"
    }
   },
   "outputs": [
    {
     "name": "stdout",
     "output_type": "stream",
     "text": [
      "ion @topo /home/mlehner/PyGromosTools/examples/example_files/Tutorial_System/a_topo/peptide.top @pos /home/mlehner/PyGromosTools/examples/example_files/Tutorial_System/d_box/box.cnf @pbc v @potential 0.8 @mindist 0.8 @negative 2 CL-\n"
     ]
    },
    {
     "ename": "AttributeError",
     "evalue": "'Cnf' object has no attribute 'visualize'",
     "output_type": "error",
     "traceback": [
      "\u001b[0;31m---------------------------------------------------------------------------\u001b[0m",
      "\u001b[0;31mAttributeError\u001b[0m                            Traceback (most recent call last)",
      "\u001b[0;32m/tmp/ipykernel_25905/3614874038.py\u001b[0m in \u001b[0;36m<module>\u001b[0;34m\u001b[0m\n\u001b[1;32m      5\u001b[0m                      negative=[2, \"CL-\"],verbose=True           )\n\u001b[1;32m      6\u001b[0m \u001b[0;34m\u001b[0m\u001b[0m\n\u001b[0;32m----> 7\u001b[0;31m \u001b[0mCnf\u001b[0m\u001b[0;34m(\u001b[0m\u001b[0mcnf_ion\u001b[0m\u001b[0;34m)\u001b[0m\u001b[0;34m.\u001b[0m\u001b[0mvisualize\u001b[0m\u001b[0;34m(\u001b[0m\u001b[0;34m)\u001b[0m\u001b[0;34m\u001b[0m\u001b[0;34m\u001b[0m\u001b[0m\n\u001b[0m",
      "\u001b[0;31mAttributeError\u001b[0m: 'Cnf' object has no attribute 'visualize'"
     ]
    }
   ],
   "source": [
    "out_prefix = \"ion\"\n",
    "cnf_ion = gromPP.ion(in_cnf_path=cnf_box,\n",
    "                     in_top_path=top_peptide,\n",
    "                     out_cnf_path=box_dir+\"/\"+out_prefix+\".cnf\",\n",
    "                     negative=[2, \"CL-\"],verbose=True           )\n",
    "\n",
    "Cnf(cnf_ion).visualize()"
   ]
  },
  {
   "cell_type": "markdown",
   "metadata": {
    "pycharm": {
     "name": "#%% md\n"
    }
   },
   "source": [
    "### Energy Minimization BOX"
   ]
  },
  {
   "cell_type": "code",
   "execution_count": 13,
   "metadata": {
    "execution": {
     "iopub.execute_input": "2022-03-31T19:19:28.949039Z",
     "iopub.status.busy": "2022-03-31T19:19:28.948618Z",
     "iopub.status.idle": "2022-03-31T19:20:11.682716Z",
     "shell.execute_reply": "2022-03-31T19:20:11.681016Z"
    }
   },
   "outputs": [
    {
     "name": "stdout",
     "output_type": "stream",
     "text": [
      "POSRES /home/mlehner/PyGromosTools/examples/example_files/Tutorial_System/e_box_emin/box_emin_posres.pos\n",
      "COMMAND:  export OMP_NUM_THREADS=1  &&  md @topo /home/mlehner/PyGromosTools/examples/example_files/Tutorial_System/a_topo/vac_sys.top @conf /home/mlehner/PyGromosTools/examples/example_files/Tutorial_System/d_box/ion.cnf @input /home/mlehner/PyGromosTools/pygromos/data/simulation_parameters_templates/emin.imd @posresspec /home/mlehner/PyGromosTools/examples/example_files/Tutorial_System/e_box_emin/box_emin_posres.pos @refpos /home/mlehner/PyGromosTools/examples/example_files/Tutorial_System/e_box_emin/box_emin_refpos.rpf @fin /home/mlehner/PyGromosTools/examples/example_files/Tutorial_System/e_box_emin/box_emin.cnf > /home/mlehner/PyGromosTools/examples/example_files/Tutorial_System/e_box_emin/box_emin.omd\n",
      "\n"
     ]
    }
   ],
   "source": [
    "from pygromos.data.simulation_parameters_templates import template_emin\n",
    "from pygromos.files.gromos_system import gromos_system\n",
    "\n",
    "out_prefix = \"box_emin\"\n",
    "box_emin_dir = bash.make_folder(project_dir+\"/e_\"+out_prefix)\n",
    "os.chdir(box_emin_dir)\n",
    "\n",
    "grom_system = gromos_system.Gromos_System(work_folder=box_emin_dir,\n",
    "                                          system_name=\"in_\"+out_prefix,\n",
    "                                          in_top_path=top_system,\n",
    "                                          in_cnf_path=cnf_ion,\n",
    "                                          in_imd_path=template_emin)\n",
    "\n",
    "grom_system.adapt_imd()\n",
    "grom_system.imd.STEP.NSTLIM = 3000\n",
    "grom_system.imd.PRINTOUT.NTPR = 300\n",
    "grom_system.write_files()\n",
    "\n",
    "cnf_reference_position = grom_system.cnf.write_refpos(box_emin_dir+\"/\"+out_prefix+\"_refpos.rpf\")\n",
    "cnf_position_restraint = grom_system.cnf.write_possrespec(box_emin_dir+\"/\"+out_prefix+\"_posres.pos\", residues=list(filter(lambda x: x != \"SOLV\", grom_system.cnf.get_residues())))\n",
    "\n",
    "out_emin_box = box_emin_dir + \"/\" + out_prefix\n",
    "gromXX.md_run(in_imd_path=grom_system.imd.path,\n",
    "              in_topo_path=grom_system.top.path,\n",
    "              in_coord_path=grom_system.cnf.path,\n",
    "              in_refpos_path=cnf_reference_position,\n",
    "              in_posresspec_path=cnf_position_restraint,\n",
    "              out_prefix=out_emin_box, verbose=True)\n",
    "\n",
    "cnf_emin_box =out_emin_box+\".cnf\"\n",
    "cnf_emin_box = gromPP.frameout(in_coord_path=cnf_emin_box, in_top_path=top_system, out_file_path=cnf_emin_box,\n",
    "                               periodic_boundary_condition=\"r cog\", out_file_format=\"cnf\", include=\"ALL\", time=0)\n"
   ]
  },
  {
   "cell_type": "code",
   "execution_count": 14,
   "metadata": {
    "execution": {
     "iopub.execute_input": "2022-03-31T19:20:11.687390Z",
     "iopub.status.busy": "2022-03-31T19:20:11.686775Z",
     "iopub.status.idle": "2022-03-31T19:20:11.716667Z",
     "shell.execute_reply": "2022-03-31T19:20:11.715209Z"
    }
   },
   "outputs": [
    {
     "ename": "AttributeError",
     "evalue": "'Cnf' object has no attribute 'visualize'",
     "output_type": "error",
     "traceback": [
      "\u001b[0;31m---------------------------------------------------------------------------\u001b[0m",
      "\u001b[0;31mAttributeError\u001b[0m                            Traceback (most recent call last)",
      "\u001b[0;32m/tmp/ipykernel_25905/768396752.py\u001b[0m in \u001b[0;36m<module>\u001b[0;34m\u001b[0m\n\u001b[0;32m----> 1\u001b[0;31m \u001b[0mCnf\u001b[0m\u001b[0;34m(\u001b[0m\u001b[0mcnf_emin_box\u001b[0m\u001b[0;34m)\u001b[0m\u001b[0;34m.\u001b[0m\u001b[0mvisualize\u001b[0m\u001b[0;34m(\u001b[0m\u001b[0;34m)\u001b[0m\u001b[0;34m\u001b[0m\u001b[0;34m\u001b[0m\u001b[0m\n\u001b[0m",
      "\u001b[0;31mAttributeError\u001b[0m: 'Cnf' object has no attribute 'visualize'"
     ]
    }
   ],
   "source": [
    "Cnf(cnf_emin_box).visualize()"
   ]
  },
  {
   "cell_type": "markdown",
   "metadata": {
    "pycharm": {
     "name": "#%% md\n"
    }
   },
   "source": [
    "## Simulation\n",
    "\n",
    "### Equilibration NVP"
   ]
  },
  {
   "cell_type": "code",
   "execution_count": 15,
   "metadata": {
    "execution": {
     "iopub.execute_input": "2022-03-31T19:20:11.721430Z",
     "iopub.status.busy": "2022-03-31T19:20:11.720923Z",
     "iopub.status.idle": "2022-03-31T19:20:30.198847Z",
     "shell.execute_reply": "2022-03-31T19:20:30.197851Z"
    }
   },
   "outputs": [
    {
     "data": {
      "text/plain": [
       "'/home/mlehner/PyGromosTools/examples/example_files/Tutorial_System/f_eq_NVP/eq_NVP.cnf'"
      ]
     },
     "execution_count": 15,
     "metadata": {},
     "output_type": "execute_result"
    }
   ],
   "source": [
    "from pygromos.data.simulation_parameters_templates import template_md_tut as template_md\n",
    "from pygromos.files.gromos_system import gromos_system\n",
    "\n",
    "out_prefix = \"eq_NVP\"\n",
    "eq_NVP_dir = bash.make_folder(project_dir+\"/f_\"+out_prefix)\n",
    "os.chdir(eq_NVP_dir)\n",
    "\n",
    "grom_system = gromos_system.Gromos_System(work_folder=eq_NVP_dir,\n",
    "                                          system_name=\"in_\"+out_prefix,\n",
    "                                          in_top_path=top_system,\n",
    "                                          in_cnf_path=cnf_emin_box,\n",
    "                                          in_imd_path=template_md)\n",
    "\n",
    "grom_system.adapt_imd(not_ligand_residues=\"CL-\")\n",
    "grom_system.imd.STEP.NSTLIM = 1000\n",
    "grom_system.imd.WRITETRAJ.NTWX = 10\n",
    "grom_system.imd.WRITETRAJ.NTWE = 10\n",
    "grom_system.imd.INITIALISE.NTIVEL = 1\n",
    "grom_system.imd.INITIALISE.NTISHK = 1\n",
    "grom_system.imd.INITIALISE.NTISHI = 1\n",
    "grom_system.imd.INITIALISE.NTIRTC = 1\n",
    "\n",
    "grom_system.imd.randomize_seed()\n",
    "grom_system.rebase_files()\n",
    "grom_system.write_files()\n",
    "\n",
    "out_eq_NVP = eq_NVP_dir + \"/\" + out_prefix\n",
    "gromXX.md_run(in_imd_path=grom_system.imd.path,\n",
    "              in_topo_path=grom_system.top.path,\n",
    "              in_coord_path=grom_system.cnf.path,\n",
    "              out_tre=True, out_trc=True,\n",
    "              out_prefix=out_eq_NVP)\n",
    "\n",
    "cnf_eq_NVP = out_eq_NVP+\".cnf\"\n",
    "cnf_eq_NVP\n"
   ]
  },
  {
   "cell_type": "code",
   "execution_count": 16,
   "metadata": {
    "execution": {
     "iopub.execute_input": "2022-03-31T19:20:30.202208Z",
     "iopub.status.busy": "2022-03-31T19:20:30.201747Z",
     "iopub.status.idle": "2022-03-31T19:20:30.285959Z",
     "shell.execute_reply": "2022-03-31T19:20:30.283900Z"
    }
   },
   "outputs": [
    {
     "ename": "ValueError",
     "evalue": "could not convert string to float: '/home/mlehner/PyGromosTools/examples/example_files/Tutorial_System/f_eq_NVP/eq_NVP.trc'",
     "output_type": "error",
     "traceback": [
      "\u001b[0;31m---------------------------------------------------------------------------\u001b[0m",
      "\u001b[0;31mValueError\u001b[0m                                Traceback (most recent call last)",
      "\u001b[0;32m/tmp/ipykernel_25905/325201585.py\u001b[0m in \u001b[0;36m<module>\u001b[0;34m\u001b[0m\n\u001b[1;32m      1\u001b[0m \u001b[0mcnf\u001b[0m \u001b[0;34m=\u001b[0m \u001b[0mCnf\u001b[0m\u001b[0;34m(\u001b[0m\u001b[0mcnf_eq_NVP\u001b[0m\u001b[0;34m)\u001b[0m\u001b[0;34m\u001b[0m\u001b[0;34m\u001b[0m\u001b[0m\n\u001b[0;32m----> 2\u001b[0;31m \u001b[0mtrc\u001b[0m \u001b[0;34m=\u001b[0m \u001b[0mTrc\u001b[0m\u001b[0;34m(\u001b[0m\u001b[0mout_eq_NVP\u001b[0m\u001b[0;34m+\u001b[0m\u001b[0;34m\".trc\"\u001b[0m\u001b[0;34m)\u001b[0m\u001b[0;34m\u001b[0m\u001b[0;34m\u001b[0m\u001b[0m\n\u001b[0m\u001b[1;32m      3\u001b[0m \u001b[0mtrc\u001b[0m\u001b[0;34m.\u001b[0m\u001b[0mcog_reframe\u001b[0m\u001b[0;34m(\u001b[0m\u001b[0mcnf\u001b[0m\u001b[0;34m)\u001b[0m\u001b[0;34m\u001b[0m\u001b[0;34m\u001b[0m\u001b[0m\n\u001b[1;32m      4\u001b[0m \u001b[0mtrc\u001b[0m\u001b[0;34m.\u001b[0m\u001b[0mvisualize\u001b[0m\u001b[0;34m(\u001b[0m\u001b[0mcnf\u001b[0m\u001b[0;34m)\u001b[0m\u001b[0;34m\u001b[0m\u001b[0;34m\u001b[0m\u001b[0m\n",
      "\u001b[0;32m~/PyGromosTools/pygromos/files/trajectory/trc.py\u001b[0m in \u001b[0;36m__init__\u001b[0;34m(self, xyz, topology, time, unitcell_lengths, unitcell_angles, traj_path, in_cnf, timestep_duration, _future_file)\u001b[0m\n\u001b[1;32m    108\u001b[0m \u001b[0;34m\u001b[0m\u001b[0m\n\u001b[1;32m    109\u001b[0m         \u001b[0;32melif\u001b[0m \u001b[0;32mnot\u001b[0m \u001b[0;34m(\u001b[0m\u001b[0mxyz\u001b[0m \u001b[0;32mis\u001b[0m \u001b[0;32mNone\u001b[0m \u001b[0;32mand\u001b[0m \u001b[0mtopology\u001b[0m \u001b[0;32mis\u001b[0m \u001b[0;32mNone\u001b[0m\u001b[0;34m)\u001b[0m\u001b[0;34m:\u001b[0m\u001b[0;34m\u001b[0m\u001b[0;34m\u001b[0m\u001b[0m\n\u001b[0;32m--> 110\u001b[0;31m             super().__init__(\n\u001b[0m\u001b[1;32m    111\u001b[0m                 \u001b[0mxyz\u001b[0m\u001b[0;34m=\u001b[0m\u001b[0mxyz\u001b[0m\u001b[0;34m,\u001b[0m\u001b[0;34m\u001b[0m\u001b[0;34m\u001b[0m\u001b[0m\n\u001b[1;32m    112\u001b[0m                 \u001b[0mtopology\u001b[0m\u001b[0;34m=\u001b[0m\u001b[0mtopology\u001b[0m\u001b[0;34m,\u001b[0m\u001b[0;34m\u001b[0m\u001b[0;34m\u001b[0m\u001b[0m\n",
      "\u001b[0;32m~/anaconda3/envs/pygro2/lib/python3.9/site-packages/mdtraj/core/trajectory.py\u001b[0m in \u001b[0;36m__init__\u001b[0;34m(self, xyz, topology, time, unitcell_lengths, unitcell_angles)\u001b[0m\n\u001b[1;32m   1224\u001b[0m         \u001b[0;31m# the xyz, we can check that it lines up (e.g. n_atoms), with the topology\u001b[0m\u001b[0;34m\u001b[0m\u001b[0;34m\u001b[0m\u001b[0m\n\u001b[1;32m   1225\u001b[0m         \u001b[0mself\u001b[0m\u001b[0;34m.\u001b[0m\u001b[0mtopology\u001b[0m \u001b[0;34m=\u001b[0m \u001b[0mtopology\u001b[0m\u001b[0;34m\u001b[0m\u001b[0;34m\u001b[0m\u001b[0m\n\u001b[0;32m-> 1226\u001b[0;31m         \u001b[0mself\u001b[0m\u001b[0;34m.\u001b[0m\u001b[0mxyz\u001b[0m \u001b[0;34m=\u001b[0m \u001b[0mxyz\u001b[0m\u001b[0;34m\u001b[0m\u001b[0;34m\u001b[0m\u001b[0m\n\u001b[0m\u001b[1;32m   1227\u001b[0m \u001b[0;34m\u001b[0m\u001b[0m\n\u001b[1;32m   1228\u001b[0m         \u001b[0;31m# _rmsd_traces are the inner product of each centered conformation,\u001b[0m\u001b[0;34m\u001b[0m\u001b[0;34m\u001b[0m\u001b[0m\n",
      "\u001b[0;32m~/anaconda3/envs/pygro2/lib/python3.9/site-packages/mdtraj/core/trajectory.py\u001b[0m in \u001b[0;36mxyz\u001b[0;34m(self, value)\u001b[0m\n\u001b[1;32m    937\u001b[0m             \u001b[0mshape\u001b[0m \u001b[0;34m=\u001b[0m \u001b[0;34m(\u001b[0m\u001b[0;32mNone\u001b[0m\u001b[0;34m,\u001b[0m \u001b[0;32mNone\u001b[0m\u001b[0;34m,\u001b[0m \u001b[0;36m3\u001b[0m\u001b[0;34m)\u001b[0m\u001b[0;34m\u001b[0m\u001b[0;34m\u001b[0m\u001b[0m\n\u001b[1;32m    938\u001b[0m \u001b[0;34m\u001b[0m\u001b[0m\n\u001b[0;32m--> 939\u001b[0;31m         value = ensure_type(value, np.float32, 3, 'xyz', shape=shape,\n\u001b[0m\u001b[1;32m    940\u001b[0m                             warn_on_cast=False, add_newaxis_on_deficient_ndim=True)\n\u001b[1;32m    941\u001b[0m         \u001b[0mself\u001b[0m\u001b[0;34m.\u001b[0m\u001b[0m_xyz\u001b[0m \u001b[0;34m=\u001b[0m \u001b[0mvalue\u001b[0m\u001b[0;34m\u001b[0m\u001b[0;34m\u001b[0m\u001b[0m\n",
      "\u001b[0;32m~/anaconda3/envs/pygro2/lib/python3.9/site-packages/mdtraj/utils/validation.py\u001b[0m in \u001b[0;36mensure_type\u001b[0;34m(val, dtype, ndim, name, length, can_be_none, shape, warn_on_cast, add_newaxis_on_deficient_ndim)\u001b[0m\n\u001b[1;32m     99\u001b[0m             \u001b[0;32mif\u001b[0m \u001b[0misinstance\u001b[0m\u001b[0;34m(\u001b[0m\u001b[0mval\u001b[0m\u001b[0;34m,\u001b[0m \u001b[0mcollections\u001b[0m\u001b[0;34m.\u001b[0m\u001b[0mabc\u001b[0m\u001b[0;34m.\u001b[0m\u001b[0mSequence\u001b[0m\u001b[0;34m)\u001b[0m\u001b[0;34m:\u001b[0m\u001b[0;34m\u001b[0m\u001b[0;34m\u001b[0m\u001b[0m\n\u001b[1;32m    100\u001b[0m                 \u001b[0;31m# sequences are easy. these are like lists and stuff\u001b[0m\u001b[0;34m\u001b[0m\u001b[0;34m\u001b[0m\u001b[0m\n\u001b[0;32m--> 101\u001b[0;31m                 \u001b[0mval\u001b[0m \u001b[0;34m=\u001b[0m \u001b[0mnp\u001b[0m\u001b[0;34m.\u001b[0m\u001b[0marray\u001b[0m\u001b[0;34m(\u001b[0m\u001b[0mval\u001b[0m\u001b[0;34m,\u001b[0m \u001b[0mdtype\u001b[0m\u001b[0;34m=\u001b[0m\u001b[0mdtype\u001b[0m\u001b[0;34m)\u001b[0m\u001b[0;34m\u001b[0m\u001b[0;34m\u001b[0m\u001b[0m\n\u001b[0m\u001b[1;32m    102\u001b[0m             \u001b[0;32melse\u001b[0m\u001b[0;34m:\u001b[0m\u001b[0;34m\u001b[0m\u001b[0;34m\u001b[0m\u001b[0m\n\u001b[1;32m    103\u001b[0m                 \u001b[0;31m# this is a generator...\u001b[0m\u001b[0;34m\u001b[0m\u001b[0;34m\u001b[0m\u001b[0m\n",
      "\u001b[0;31mValueError\u001b[0m: could not convert string to float: '/home/mlehner/PyGromosTools/examples/example_files/Tutorial_System/f_eq_NVP/eq_NVP.trc'"
     ]
    }
   ],
   "source": [
    "cnf = Cnf(cnf_eq_NVP)\n",
    "trc = Trc(out_eq_NVP+\".trc\")\n",
    "trc.cog_reframe(cnf)\n",
    "trc.visualize(cnf)"
   ]
  },
  {
   "cell_type": "markdown",
   "metadata": {
    "pycharm": {
     "name": "#%% md\n"
    }
   },
   "source": [
    "### MD NVP"
   ]
  },
  {
   "cell_type": "code",
   "execution_count": 17,
   "metadata": {
    "execution": {
     "iopub.execute_input": "2022-03-31T19:20:30.294515Z",
     "iopub.status.busy": "2022-03-31T19:20:30.292892Z",
     "iopub.status.idle": "2022-03-31T19:20:30.308197Z",
     "shell.execute_reply": "2022-03-31T19:20:30.305983Z"
    }
   },
   "outputs": [
    {
     "data": {
      "text/plain": [
       "\n",
       "GROMOS SYSTEM: in_eq_NVP\n",
       "################################################################################\n",
       "WORKDIR: /home/mlehner/PyGromosTools/examples/example_files/Tutorial_System/f_eq_NVP\n",
       "LAST CHECKPOINT: None\n",
       "\n",
       "GromosXX_bin: None\n",
       "GromosPP_bin: None\n",
       "FILES: \n",
       "\timd: /home/mlehner/PyGromosTools/examples/example_files/Tutorial_System/f_eq_NVP/in_eq_NVP.imd\n",
       "\ttop: /home/mlehner/PyGromosTools/examples/example_files/Tutorial_System/f_eq_NVP/in_eq_NVP.top\n",
       "\tcnf: /home/mlehner/PyGromosTools/examples/example_files/Tutorial_System/f_eq_NVP/in_eq_NVP.cnf\n",
       "FUTURE PROMISE: False\n",
       "SYSTEM: \n",
       "\tPROTEIN:\tprotein  nresidues: 5 natoms: 71\n",
       "\tLIGANDS:\t[]  resID: []  natoms: 0\n",
       "\tNon-LIGANDS:\t['CL-']  nmolecules: 0  natoms: 2\n",
       "\tSOLVENT:\tSOLV  nmolecules: 930  natoms: 2790\n",
       "\n"
      ]
     },
     "execution_count": 17,
     "metadata": {},
     "output_type": "execute_result"
    }
   ],
   "source": [
    "grom_system"
   ]
  },
  {
   "cell_type": "code",
   "execution_count": 18,
   "metadata": {
    "execution": {
     "iopub.execute_input": "2022-03-31T19:20:30.317962Z",
     "iopub.status.busy": "2022-03-31T19:20:30.316885Z",
     "iopub.status.idle": "2022-03-31T19:20:55.218289Z",
     "shell.execute_reply": "2022-03-31T19:20:55.216010Z"
    }
   },
   "outputs": [
    {
     "name": "stdout",
     "output_type": "stream",
     "text": [
      "COMMAND:  export OMP_NUM_THREADS=1  &&  md @topo /home/mlehner/PyGromosTools/examples/example_files/Tutorial_System/g_md/in_md.top @conf /home/mlehner/PyGromosTools/examples/example_files/Tutorial_System/g_md/in_md.cnf @input /home/mlehner/PyGromosTools/examples/example_files/Tutorial_System/g_md/in_md.imd @fin /home/mlehner/PyGromosTools/examples/example_files/Tutorial_System/g_md/md.cnf @trc /home/mlehner/PyGromosTools/examples/example_files/Tutorial_System/g_md/md.trc @tre /home/mlehner/PyGromosTools/examples/example_files/Tutorial_System/g_md/md.tre > /home/mlehner/PyGromosTools/examples/example_files/Tutorial_System/g_md/md.omd\n",
      "\n"
     ]
    },
    {
     "data": {
      "text/plain": [
       "'/home/mlehner/PyGromosTools/examples/example_files/Tutorial_System/g_md/md.cnf'"
      ]
     },
     "execution_count": 18,
     "metadata": {},
     "output_type": "execute_result"
    }
   ],
   "source": [
    "from pygromos.data.simulation_parameters_templates import template_md\n",
    "from pygromos.files.gromos_system import gromos_system\n",
    "\n",
    "out_prefix = \"md\"\n",
    "md_dir = bash.make_folder(project_dir+\"/g_\"+out_prefix)\n",
    "os.chdir(md_dir)\n",
    "\n",
    "grom_system = gromos_system.Gromos_System(work_folder=md_dir,\n",
    "                                          system_name=\"in_\"+out_prefix,\n",
    "                                          in_top_path=top_system,\n",
    "                                          in_cnf_path=cnf_eq_NVP,\n",
    "                                          in_imd_path=template_md)\n",
    "\n",
    "grom_system.adapt_imd(not_ligand_residues=\"CL-\")\n",
    "grom_system.imd.STEP.NSTLIM = 1000\n",
    "grom_system.imd.WRITETRAJ.NTWX = 10\n",
    "grom_system.imd.WRITETRAJ.NTWE = 10\n",
    "grom_system.imd.INITIALISE.NTIVEL = 0\n",
    "\n",
    "grom_system.rebase_files()\n",
    "grom_system.write_files()\n",
    "\n",
    "out_md = md_dir + \"/\" + out_prefix\n",
    "gromXX.md_run(in_imd_path=grom_system.imd.path,\n",
    "              in_topo_path=grom_system.top.path,\n",
    "              in_coord_path=grom_system.cnf.path,\n",
    "              out_tre=True, out_trc=True,\n",
    "              out_prefix=out_md, verbose=True)\n",
    "\n",
    "cnf_md = out_md+\".cnf\"\n",
    "cnf_md"
   ]
  },
  {
   "cell_type": "markdown",
   "metadata": {
    "pycharm": {
     "name": "#%% md\n"
    }
   },
   "source": [
    "## Analysis"
   ]
  },
  {
   "cell_type": "code",
   "execution_count": 19,
   "metadata": {
    "execution": {
     "iopub.execute_input": "2022-03-31T19:20:55.225801Z",
     "iopub.status.busy": "2022-03-31T19:20:55.224753Z",
     "iopub.status.idle": "2022-03-31T19:20:55.537151Z",
     "shell.execute_reply": "2022-03-31T19:20:55.533636Z"
    }
   },
   "outputs": [
    {
     "ename": "AttributeError",
     "evalue": "'Cnf' object has no attribute 'visualize'",
     "output_type": "error",
     "traceback": [
      "\u001b[0;31m---------------------------------------------------------------------------\u001b[0m",
      "\u001b[0;31mAttributeError\u001b[0m                            Traceback (most recent call last)",
      "\u001b[0;32m/tmp/ipykernel_25905/227614321.py\u001b[0m in \u001b[0;36m<module>\u001b[0;34m\u001b[0m\n\u001b[1;32m      1\u001b[0m \u001b[0mcnf\u001b[0m \u001b[0;34m=\u001b[0m \u001b[0mCnf\u001b[0m\u001b[0;34m(\u001b[0m\u001b[0mcnf_md\u001b[0m\u001b[0;34m)\u001b[0m\u001b[0;34m\u001b[0m\u001b[0;34m\u001b[0m\u001b[0m\n\u001b[0;32m----> 2\u001b[0;31m \u001b[0mcnf\u001b[0m\u001b[0;34m.\u001b[0m\u001b[0mvisualize\u001b[0m\u001b[0;34m(\u001b[0m\u001b[0;34m)\u001b[0m\u001b[0;34m\u001b[0m\u001b[0;34m\u001b[0m\u001b[0m\n\u001b[0m\u001b[1;32m      3\u001b[0m \u001b[0;34m\u001b[0m\u001b[0m\n\u001b[1;32m      4\u001b[0m \u001b[0;31m#shows pbc :)\u001b[0m\u001b[0;34m\u001b[0m\u001b[0;34m\u001b[0m\u001b[0m\n",
      "\u001b[0;31mAttributeError\u001b[0m: 'Cnf' object has no attribute 'visualize'"
     ]
    }
   ],
   "source": [
    "cnf = Cnf(cnf_md)\n",
    "cnf.visualize()\n",
    "\n",
    "#shows pbc :)"
   ]
  },
  {
   "cell_type": "code",
   "execution_count": 20,
   "metadata": {
    "execution": {
     "iopub.execute_input": "2022-03-31T19:20:55.560548Z",
     "iopub.status.busy": "2022-03-31T19:20:55.558606Z",
     "iopub.status.idle": "2022-03-31T19:20:55.593101Z",
     "shell.execute_reply": "2022-03-31T19:20:55.590339Z"
    }
   },
   "outputs": [
    {
     "ename": "ValueError",
     "evalue": "could not convert string to float: '/home/mlehner/PyGromosTools/examples/example_files/Tutorial_System/g_md/md.trc'",
     "output_type": "error",
     "traceback": [
      "\u001b[0;31m---------------------------------------------------------------------------\u001b[0m",
      "\u001b[0;31mValueError\u001b[0m                                Traceback (most recent call last)",
      "\u001b[0;32m/tmp/ipykernel_25905/153322794.py\u001b[0m in \u001b[0;36m<module>\u001b[0;34m\u001b[0m\n\u001b[0;32m----> 1\u001b[0;31m \u001b[0mtrc\u001b[0m \u001b[0;34m=\u001b[0m \u001b[0mTrc\u001b[0m\u001b[0;34m(\u001b[0m\u001b[0mout_md\u001b[0m\u001b[0;34m+\u001b[0m\u001b[0;34m\".trc\"\u001b[0m\u001b[0;34m)\u001b[0m\u001b[0;34m\u001b[0m\u001b[0;34m\u001b[0m\u001b[0m\n\u001b[0m\u001b[1;32m      2\u001b[0m \u001b[0mtrc\u001b[0m\u001b[0;34m.\u001b[0m\u001b[0mTITLE\u001b[0m \u001b[0;34m=\u001b[0m \u001b[0;34m\"\\n\"\u001b[0m\u001b[0;34m.\u001b[0m\u001b[0mjoin\u001b[0m\u001b[0;34m(\u001b[0m\u001b[0mtrc\u001b[0m\u001b[0;34m.\u001b[0m\u001b[0mTITLE\u001b[0m\u001b[0;34m)\u001b[0m\u001b[0;34m\u001b[0m\u001b[0;34m\u001b[0m\u001b[0m\n\u001b[1;32m      3\u001b[0m \u001b[0mtrc\u001b[0m\u001b[0;34m.\u001b[0m\u001b[0mcog_reframe\u001b[0m\u001b[0;34m(\u001b[0m\u001b[0mcnf\u001b[0m\u001b[0;34m)\u001b[0m\u001b[0;34m\u001b[0m\u001b[0;34m\u001b[0m\u001b[0m\n\u001b[1;32m      4\u001b[0m \u001b[0mtrc\u001b[0m\u001b[0;34m.\u001b[0m\u001b[0mvisualize\u001b[0m\u001b[0;34m(\u001b[0m\u001b[0mcnf\u001b[0m\u001b[0;34m)\u001b[0m\u001b[0;34m\u001b[0m\u001b[0;34m\u001b[0m\u001b[0m\n",
      "\u001b[0;32m~/PyGromosTools/pygromos/files/trajectory/trc.py\u001b[0m in \u001b[0;36m__init__\u001b[0;34m(self, xyz, topology, time, unitcell_lengths, unitcell_angles, traj_path, in_cnf, timestep_duration, _future_file)\u001b[0m\n\u001b[1;32m    108\u001b[0m \u001b[0;34m\u001b[0m\u001b[0m\n\u001b[1;32m    109\u001b[0m         \u001b[0;32melif\u001b[0m \u001b[0;32mnot\u001b[0m \u001b[0;34m(\u001b[0m\u001b[0mxyz\u001b[0m \u001b[0;32mis\u001b[0m \u001b[0;32mNone\u001b[0m \u001b[0;32mand\u001b[0m \u001b[0mtopology\u001b[0m \u001b[0;32mis\u001b[0m \u001b[0;32mNone\u001b[0m\u001b[0;34m)\u001b[0m\u001b[0;34m:\u001b[0m\u001b[0;34m\u001b[0m\u001b[0;34m\u001b[0m\u001b[0m\n\u001b[0;32m--> 110\u001b[0;31m             super().__init__(\n\u001b[0m\u001b[1;32m    111\u001b[0m                 \u001b[0mxyz\u001b[0m\u001b[0;34m=\u001b[0m\u001b[0mxyz\u001b[0m\u001b[0;34m,\u001b[0m\u001b[0;34m\u001b[0m\u001b[0;34m\u001b[0m\u001b[0m\n\u001b[1;32m    112\u001b[0m                 \u001b[0mtopology\u001b[0m\u001b[0;34m=\u001b[0m\u001b[0mtopology\u001b[0m\u001b[0;34m,\u001b[0m\u001b[0;34m\u001b[0m\u001b[0;34m\u001b[0m\u001b[0m\n",
      "\u001b[0;32m~/anaconda3/envs/pygro2/lib/python3.9/site-packages/mdtraj/core/trajectory.py\u001b[0m in \u001b[0;36m__init__\u001b[0;34m(self, xyz, topology, time, unitcell_lengths, unitcell_angles)\u001b[0m\n\u001b[1;32m   1224\u001b[0m         \u001b[0;31m# the xyz, we can check that it lines up (e.g. n_atoms), with the topology\u001b[0m\u001b[0;34m\u001b[0m\u001b[0;34m\u001b[0m\u001b[0m\n\u001b[1;32m   1225\u001b[0m         \u001b[0mself\u001b[0m\u001b[0;34m.\u001b[0m\u001b[0mtopology\u001b[0m \u001b[0;34m=\u001b[0m \u001b[0mtopology\u001b[0m\u001b[0;34m\u001b[0m\u001b[0;34m\u001b[0m\u001b[0m\n\u001b[0;32m-> 1226\u001b[0;31m         \u001b[0mself\u001b[0m\u001b[0;34m.\u001b[0m\u001b[0mxyz\u001b[0m \u001b[0;34m=\u001b[0m \u001b[0mxyz\u001b[0m\u001b[0;34m\u001b[0m\u001b[0;34m\u001b[0m\u001b[0m\n\u001b[0m\u001b[1;32m   1227\u001b[0m \u001b[0;34m\u001b[0m\u001b[0m\n\u001b[1;32m   1228\u001b[0m         \u001b[0;31m# _rmsd_traces are the inner product of each centered conformation,\u001b[0m\u001b[0;34m\u001b[0m\u001b[0;34m\u001b[0m\u001b[0m\n",
      "\u001b[0;32m~/anaconda3/envs/pygro2/lib/python3.9/site-packages/mdtraj/core/trajectory.py\u001b[0m in \u001b[0;36mxyz\u001b[0;34m(self, value)\u001b[0m\n\u001b[1;32m    937\u001b[0m             \u001b[0mshape\u001b[0m \u001b[0;34m=\u001b[0m \u001b[0;34m(\u001b[0m\u001b[0;32mNone\u001b[0m\u001b[0;34m,\u001b[0m \u001b[0;32mNone\u001b[0m\u001b[0;34m,\u001b[0m \u001b[0;36m3\u001b[0m\u001b[0;34m)\u001b[0m\u001b[0;34m\u001b[0m\u001b[0;34m\u001b[0m\u001b[0m\n\u001b[1;32m    938\u001b[0m \u001b[0;34m\u001b[0m\u001b[0m\n\u001b[0;32m--> 939\u001b[0;31m         value = ensure_type(value, np.float32, 3, 'xyz', shape=shape,\n\u001b[0m\u001b[1;32m    940\u001b[0m                             warn_on_cast=False, add_newaxis_on_deficient_ndim=True)\n\u001b[1;32m    941\u001b[0m         \u001b[0mself\u001b[0m\u001b[0;34m.\u001b[0m\u001b[0m_xyz\u001b[0m \u001b[0;34m=\u001b[0m \u001b[0mvalue\u001b[0m\u001b[0;34m\u001b[0m\u001b[0;34m\u001b[0m\u001b[0m\n",
      "\u001b[0;32m~/anaconda3/envs/pygro2/lib/python3.9/site-packages/mdtraj/utils/validation.py\u001b[0m in \u001b[0;36mensure_type\u001b[0;34m(val, dtype, ndim, name, length, can_be_none, shape, warn_on_cast, add_newaxis_on_deficient_ndim)\u001b[0m\n\u001b[1;32m     99\u001b[0m             \u001b[0;32mif\u001b[0m \u001b[0misinstance\u001b[0m\u001b[0;34m(\u001b[0m\u001b[0mval\u001b[0m\u001b[0;34m,\u001b[0m \u001b[0mcollections\u001b[0m\u001b[0;34m.\u001b[0m\u001b[0mabc\u001b[0m\u001b[0;34m.\u001b[0m\u001b[0mSequence\u001b[0m\u001b[0;34m)\u001b[0m\u001b[0;34m:\u001b[0m\u001b[0;34m\u001b[0m\u001b[0;34m\u001b[0m\u001b[0m\n\u001b[1;32m    100\u001b[0m                 \u001b[0;31m# sequences are easy. these are like lists and stuff\u001b[0m\u001b[0;34m\u001b[0m\u001b[0;34m\u001b[0m\u001b[0m\n\u001b[0;32m--> 101\u001b[0;31m                 \u001b[0mval\u001b[0m \u001b[0;34m=\u001b[0m \u001b[0mnp\u001b[0m\u001b[0;34m.\u001b[0m\u001b[0marray\u001b[0m\u001b[0;34m(\u001b[0m\u001b[0mval\u001b[0m\u001b[0;34m,\u001b[0m \u001b[0mdtype\u001b[0m\u001b[0;34m=\u001b[0m\u001b[0mdtype\u001b[0m\u001b[0;34m)\u001b[0m\u001b[0;34m\u001b[0m\u001b[0;34m\u001b[0m\u001b[0m\n\u001b[0m\u001b[1;32m    102\u001b[0m             \u001b[0;32melse\u001b[0m\u001b[0;34m:\u001b[0m\u001b[0;34m\u001b[0m\u001b[0;34m\u001b[0m\u001b[0m\n\u001b[1;32m    103\u001b[0m                 \u001b[0;31m# this is a generator...\u001b[0m\u001b[0;34m\u001b[0m\u001b[0;34m\u001b[0m\u001b[0m\n",
      "\u001b[0;31mValueError\u001b[0m: could not convert string to float: '/home/mlehner/PyGromosTools/examples/example_files/Tutorial_System/g_md/md.trc'"
     ]
    }
   ],
   "source": [
    "trc = Trc(out_md+\".trc\")\n",
    "trc.TITLE = \"\\n\".join(trc.TITLE)\n",
    "trc.cog_reframe(cnf)\n",
    "trc.visualize(cnf)"
   ]
  },
  {
   "cell_type": "code",
   "execution_count": 21,
   "metadata": {
    "execution": {
     "iopub.execute_input": "2022-03-31T19:20:55.598429Z",
     "iopub.status.busy": "2022-03-31T19:20:55.597733Z",
     "iopub.status.idle": "2022-03-31T19:20:55.605342Z",
     "shell.execute_reply": "2022-03-31T19:20:55.603779Z"
    }
   },
   "outputs": [],
   "source": [
    "out_prefix = \"ana\"\n",
    "md_dir = bash.make_folder(project_dir+\"/h_\"+out_prefix)\n",
    "os.chdir(md_dir)"
   ]
  },
  {
   "cell_type": "code",
   "execution_count": null,
   "metadata": {},
   "outputs": [],
   "source": []
  }
 ],
 "metadata": {
  "language_info": {
   "codemirror_mode": {
    "name": "ipython",
    "version": 3
   },
   "file_extension": ".py",
   "mimetype": "text/x-python",
   "name": "python",
   "nbconvert_exporter": "python",
   "pygments_lexer": "ipython3",
   "version": "3.9.7"
  },
  "widgets": {
   "application/vnd.jupyter.widget-state+json": {
    "state": {
     "26662ab017ea49aaa23e8bae0b66d62c": {
      "model_module": "@jupyter-widgets/base",
      "model_module_version": "1.2.0",
      "model_name": "LayoutModel",
      "state": {
       "_model_module": "@jupyter-widgets/base",
       "_model_module_version": "1.2.0",
       "_model_name": "LayoutModel",
       "_view_count": null,
       "_view_module": "@jupyter-widgets/base",
       "_view_module_version": "1.2.0",
       "_view_name": "LayoutView",
       "align_content": null,
       "align_items": null,
       "align_self": null,
       "border": null,
       "bottom": null,
       "display": null,
       "flex": null,
       "flex_flow": null,
       "grid_area": null,
       "grid_auto_columns": null,
       "grid_auto_flow": null,
       "grid_auto_rows": null,
       "grid_column": null,
       "grid_gap": null,
       "grid_row": null,
       "grid_template_areas": null,
       "grid_template_columns": null,
       "grid_template_rows": null,
       "height": null,
       "justify_content": null,
       "justify_items": null,
       "left": null,
       "margin": null,
       "max_height": null,
       "max_width": null,
       "min_height": null,
       "min_width": null,
       "object_fit": null,
       "object_position": null,
       "order": null,
       "overflow": null,
       "overflow_x": null,
       "overflow_y": null,
       "padding": null,
       "right": null,
       "top": null,
       "visibility": null,
       "width": null
      }
     },
     "2d1d01f29fc24916ab63a82f3ac444c0": {
      "model_module": "nglview-js-widgets",
      "model_module_version": "3.0.1",
      "model_name": "ColormakerRegistryModel",
      "state": {
       "_dom_classes": [],
       "_model_module": "nglview-js-widgets",
       "_model_module_version": "3.0.1",
       "_model_name": "ColormakerRegistryModel",
       "_msg_ar": [],
       "_msg_q": [],
       "_ready": false,
       "_view_count": null,
       "_view_module": "nglview-js-widgets",
       "_view_module_version": "3.0.1",
       "_view_name": "ColormakerRegistryView",
       "layout": "IPY_MODEL_26662ab017ea49aaa23e8bae0b66d62c"
      }
     }
    },
    "version_major": 2,
    "version_minor": 0
   }
  }
 },
 "nbformat": 4,
 "nbformat_minor": 4
}
