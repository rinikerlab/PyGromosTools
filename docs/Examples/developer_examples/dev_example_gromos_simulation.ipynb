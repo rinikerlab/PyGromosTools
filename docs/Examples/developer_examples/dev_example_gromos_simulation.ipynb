{
 "cells": [
  {
   "cell_type": "markdown",
   "metadata": {
    "pycharm": {
     "name": "#%% md\n"
    }
   },
   "source": [
    "# SD Simulations with Submission System\n"
   ]
  },
  {
   "cell_type": "markdown",
   "metadata": {},
   "source": [
    "## Imports"
   ]
  },
  {
   "cell_type": "code",
   "execution_count": 1,
   "metadata": {
    "execution": {
     "iopub.execute_input": "2022-04-01T14:33:58.584825Z",
     "iopub.status.busy": "2022-04-01T14:33:58.584294Z",
     "iopub.status.idle": "2022-04-01T14:33:59.937195Z",
     "shell.execute_reply": "2022-04-01T14:33:59.935885Z"
    }
   },
   "outputs": [
    {
     "data": {
      "application/vnd.jupyter.widget-view+json": {
       "model_id": "38f3b242db594277894d271a515e3507",
       "version_major": 2,
       "version_minor": 0
      },
      "text/plain": []
     },
     "metadata": {},
     "output_type": "display_data"
    }
   ],
   "source": [
    "import os\n",
    "#for analysis\n",
    "import numpy as np\n",
    "from matplotlib import pyplot as plt\n",
    "%matplotlib inline\n",
    "\n",
    "import pygromos\n",
    "from pygromos.files.gromos_system import Gromos_System\n",
    "from pygromos.files.blocks import imd_blocks\n",
    "from pygromos.data.simulation_parameters_templates import template_emin"
   ]
  },
  {
   "cell_type": "markdown",
   "metadata": {
    "pycharm": {
     "name": "#%% md\n"
    }
   },
   "source": [
    "## Input files"
   ]
  },
  {
   "cell_type": "code",
   "execution_count": 2,
   "metadata": {
    "execution": {
     "iopub.execute_input": "2022-04-01T14:33:59.940950Z",
     "iopub.status.busy": "2022-04-01T14:33:59.940670Z",
     "iopub.status.idle": "2022-04-01T14:34:02.266647Z",
     "shell.execute_reply": "2022-04-01T14:34:02.265015Z"
    }
   },
   "outputs": [],
   "source": [
    "root_dir = project_dir = os.path.abspath(os.path.dirname(pygromos.__file__)+\"/../examples/example_files/SD_Simulation\")\n",
    "root_in_dir = root_dir+\"/SD_input\"\n",
    "cnf_path = root_in_dir+\"/6J29_unitedatom_optimised_geometry.cnf\"\n",
    "top_path = root_in_dir + \"/6J29.top\"\n",
    "sys_name = \"6J29\"\n",
    "\n",
    "#External imd_changes:\n",
    "grom_system = Gromos_System(in_cnf_path=cnf_path, in_top_path=top_path, in_imd_path=template_emin,\n",
    "                            system_name=sys_name, work_folder=root_in_dir)\n",
    "\n",
    "grom_system.cnf.add_empty_box()\n"
   ]
  },
  {
   "cell_type": "markdown",
   "metadata": {},
   "source": [
    "## RUN Emin"
   ]
  },
  {
   "cell_type": "code",
   "execution_count": 3,
   "metadata": {
    "execution": {
     "iopub.execute_input": "2022-04-01T14:34:02.271914Z",
     "iopub.status.busy": "2022-04-01T14:34:02.271422Z",
     "iopub.status.idle": "2022-04-01T14:34:02.293750Z",
     "shell.execute_reply": "2022-04-01T14:34:02.292479Z"
    }
   },
   "outputs": [],
   "source": [
    "from pygromos.simulations.hpc_queuing.submission_systems.local import LOCAL as subSystem\n",
    "from pygromos.simulations.modules.preset_simulation_modules import emin\n",
    "step_name  = \"a_vacuum_emin\"\n",
    "\n",
    "#Some special adaptation\n",
    "grom_system.imd.BOUNDCOND.NTB =0\n",
    "grom_system.imd.BOUNDCOND.NDFMIN = 0\n",
    "grom_system.imd.WRITETRAJ = imd_blocks.WRITETRAJ()\n",
    "grom_system.imd.WRITETRAJ.NTWX = 100\n",
    "grom_system.imd.WRITETRAJ.NTWE = 100\n",
    "grom_system.prepare_for_simulation()"
   ]
  },
  {
   "cell_type": "code",
   "execution_count": 4,
   "metadata": {
    "execution": {
     "iopub.execute_input": "2022-04-01T14:34:02.298628Z",
     "iopub.status.busy": "2022-04-01T14:34:02.297880Z",
     "iopub.status.idle": "2022-04-01T14:34:02.317321Z",
     "shell.execute_reply": "2022-04-01T14:34:02.316390Z"
    }
   },
   "outputs": [
    {
     "data": {
      "text/plain": [
       "'/home/bschroed/Documents/projects/PyGromosTools/examples/example_files/SD_Simulation/test.obj'"
      ]
     },
     "execution_count": 4,
     "metadata": {},
     "output_type": "execute_result"
    }
   ],
   "source": [
    "\n",
    "grom_system.save(root_dir+\"/test.obj\", safe=False)"
   ]
  },
  {
   "cell_type": "code",
   "execution_count": 5,
   "metadata": {
    "execution": {
     "iopub.execute_input": "2022-04-01T14:34:02.319902Z",
     "iopub.status.busy": "2022-04-01T14:34:02.319690Z",
     "iopub.status.idle": "2022-04-01T14:34:06.570905Z",
     "shell.execute_reply": "2022-04-01T14:34:06.569053Z"
    }
   },
   "outputs": [],
   "source": [
    "grom_system = Gromos_System.load(root_dir+\"/test.obj\")"
   ]
  },
  {
   "cell_type": "code",
   "execution_count": 6,
   "metadata": {
    "execution": {
     "iopub.execute_input": "2022-04-01T14:34:06.576468Z",
     "iopub.status.busy": "2022-04-01T14:34:06.576028Z",
     "iopub.status.idle": "2022-04-01T14:34:06.584912Z",
     "shell.execute_reply": "2022-04-01T14:34:06.583528Z"
    }
   },
   "outputs": [
    {
     "data": {
      "text/plain": [
       "{'names': ['6J29'], 'number': 1, 'positions': [1], 'number_of_atoms': 27}"
      ]
     },
     "execution_count": 6,
     "metadata": {},
     "output_type": "execute_result"
    }
   ],
   "source": [
    "grom_system.solute_info._asdict()"
   ]
  },
  {
   "cell_type": "code",
   "execution_count": 7,
   "metadata": {
    "execution": {
     "iopub.execute_input": "2022-04-01T14:34:06.590030Z",
     "iopub.status.busy": "2022-04-01T14:34:06.589209Z",
     "iopub.status.idle": "2022-04-01T14:34:07.059439Z",
     "shell.execute_reply": "2022-04-01T14:34:07.058282Z"
    }
   },
   "outputs": [
    {
     "ename": "AttributeError",
     "evalue": "'Cnf' object has no attribute 'visualize'",
     "output_type": "error",
     "traceback": [
      "\u001b[0;31m---------------------------------------------------------------------------\u001b[0m",
      "\u001b[0;31mAttributeError\u001b[0m                            Traceback (most recent call last)",
      "Input \u001b[0;32mIn [7]\u001b[0m, in \u001b[0;36m<cell line: 1>\u001b[0;34m()\u001b[0m\n\u001b[0;32m----> 1\u001b[0m \u001b[43mgrom_system\u001b[49m\u001b[38;5;241;43m.\u001b[39;49m\u001b[43mcnf\u001b[49m\u001b[38;5;241;43m.\u001b[39;49m\u001b[43mvisualize\u001b[49m()\n",
      "\u001b[0;31mAttributeError\u001b[0m: 'Cnf' object has no attribute 'visualize'"
     ]
    }
   ],
   "source": [
    "grom_system.cnf.visualize()"
   ]
  },
  {
   "cell_type": "code",
   "execution_count": 8,
   "metadata": {
    "execution": {
     "iopub.execute_input": "2022-04-01T14:34:07.063073Z",
     "iopub.status.busy": "2022-04-01T14:34:07.062766Z",
     "iopub.status.idle": "2022-04-01T14:34:12.914624Z",
     "shell.execute_reply": "2022-04-01T14:34:12.913532Z"
    }
   },
   "outputs": [
    {
     "name": "stdout",
     "output_type": "stream",
     "text": [
      "################################################################################\n",
      "\n",
      "a_vacuum_emin\n",
      "################################################################################\n",
      "\n",
      "============================================================\n",
      "FOUND RESULT: /home/bschroed/Documents/projects/PyGromosTools/examples/example_files/SD_Simulation/SD_input/a_vacuum_emin/analysis/data/a_vacuum_emin.cnf\n",
      " GOING TO SKIPT THIS SUBMISSION!\n"
     ]
    },
    {
     "data": {
      "text/plain": [
       "\n",
       "GROMOS SYSTEM: a_vacuum_emin\n",
       "################################################################################\n",
       "WORKDIR: /home/bschroed/Documents/projects/PyGromosTools/examples/example_files/SD_Simulation/SD_input\n",
       "LAST CHECKPOINT: /home/bschroed/Documents/projects/PyGromosTools/examples/example_files/SD_Simulation/test.obj\n",
       "\n",
       "GromosXX_bin: None\n",
       "GromosPP_bin: None\n",
       "FILES: \n",
       "\timd: /home/bschroed/Documents/projects/PyGromosTools/examples/example_files/SD_Simulation/SD_input/a_vacuum_emin/input/a_vacuum_emin.imd\n",
       "\ttop: /home/bschroed/Documents/projects/PyGromosTools/examples/example_files/SD_Simulation/SD_input/a_vacuum_emin/input/a_vacuum_emin.top\n",
       "\tcnf: /home/bschroed/Documents/projects/PyGromosTools/examples/example_files/SD_Simulation/SD_input/a_vacuum_emin/analysis/data/a_vacuum_emin.cnf\n",
       "FUTURE PROMISE: False\n",
       "SYSTEM: \n",
       "\tSolute:\t['6J29']  resID: [1]  natoms: 27\n",
       "\tSOLVENT:\t[]  nmolecules: 0  natoms: 0\n",
       "\n"
      ]
     },
     "execution_count": 8,
     "metadata": {},
     "output_type": "execute_result"
    }
   ],
   "source": [
    "from pygromos.simulations.modules.preset_simulation_modules import emin\n",
    "\n",
    "\n",
    "emin_gromos_system = emin(in_gromos_system=grom_system, \n",
    "                                 step_name=step_name, \n",
    "                                 submission_system=subSystem(), \n",
    "                                 in_imd_path=None)\n",
    "jobID = emin_gromos_system._last_jobID\n",
    "emin_gromos_system\n"
   ]
  },
  {
   "cell_type": "code",
   "execution_count": 9,
   "metadata": {
    "execution": {
     "iopub.execute_input": "2022-04-01T14:34:12.918288Z",
     "iopub.status.busy": "2022-04-01T14:34:12.918009Z",
     "iopub.status.idle": "2022-04-01T14:34:12.933231Z",
     "shell.execute_reply": "2022-04-01T14:34:12.932359Z"
    }
   },
   "outputs": [
    {
     "ename": "AttributeError",
     "evalue": "'Cnf' object has no attribute 'visualize'",
     "output_type": "error",
     "traceback": [
      "\u001b[0;31m---------------------------------------------------------------------------\u001b[0m",
      "\u001b[0;31mAttributeError\u001b[0m                            Traceback (most recent call last)",
      "Input \u001b[0;32mIn [9]\u001b[0m, in \u001b[0;36m<cell line: 1>\u001b[0;34m()\u001b[0m\n\u001b[0;32m----> 1\u001b[0m \u001b[43memin_gromos_system\u001b[49m\u001b[38;5;241;43m.\u001b[39;49m\u001b[43mcnf\u001b[49m\u001b[38;5;241;43m.\u001b[39;49m\u001b[43mvisualize\u001b[49m()\n",
      "\u001b[0;31mAttributeError\u001b[0m: 'Cnf' object has no attribute 'visualize'"
     ]
    }
   ],
   "source": [
    "emin_gromos_system.cnf.visualize()"
   ]
  },
  {
   "cell_type": "code",
   "execution_count": 10,
   "metadata": {
    "execution": {
     "iopub.execute_input": "2022-04-01T14:34:12.935902Z",
     "iopub.status.busy": "2022-04-01T14:34:12.935681Z",
     "iopub.status.idle": "2022-04-01T14:34:12.942084Z",
     "shell.execute_reply": "2022-04-01T14:34:12.941307Z"
    }
   },
   "outputs": [
    {
     "data": {
      "text/plain": [
       "\n",
       "GROMOS SYSTEM: a_vacuum_emin\n",
       "################################################################################\n",
       "WORKDIR: /home/bschroed/Documents/projects/PyGromosTools/examples/example_files/SD_Simulation/SD_input\n",
       "LAST CHECKPOINT: /home/bschroed/Documents/projects/PyGromosTools/examples/example_files/SD_Simulation/test.obj\n",
       "\n",
       "GromosXX_bin: None\n",
       "GromosPP_bin: None\n",
       "FILES: \n",
       "\timd: /home/bschroed/Documents/projects/PyGromosTools/examples/example_files/SD_Simulation/SD_input/a_vacuum_emin/input/a_vacuum_emin.imd\n",
       "\ttop: /home/bschroed/Documents/projects/PyGromosTools/examples/example_files/SD_Simulation/SD_input/a_vacuum_emin/input/a_vacuum_emin.top\n",
       "\tcnf: /home/bschroed/Documents/projects/PyGromosTools/examples/example_files/SD_Simulation/SD_input/a_vacuum_emin/analysis/data/a_vacuum_emin.cnf\n",
       "FUTURE PROMISE: False\n",
       "SYSTEM: \n",
       "\tSolute:\t['6J29']  resID: [1]  natoms: 27\n",
       "\tSOLVENT:\t[]  nmolecules: 0  natoms: 0\n",
       "\n"
      ]
     },
     "execution_count": 10,
     "metadata": {},
     "output_type": "execute_result"
    }
   ],
   "source": [
    "emin_gromos_system"
   ]
  },
  {
   "cell_type": "code",
   "execution_count": 11,
   "metadata": {
    "execution": {
     "iopub.execute_input": "2022-04-01T14:34:12.945325Z",
     "iopub.status.busy": "2022-04-01T14:34:12.945106Z",
     "iopub.status.idle": "2022-04-01T14:34:12.950870Z",
     "shell.execute_reply": "2022-04-01T14:34:12.949996Z"
    }
   },
   "outputs": [
    {
     "data": {
      "text/plain": [
       "'/home/bschroed/Documents/projects/PyGromosTools/examples/example_files/SD_Simulation/SD_input/analysis/data'"
      ]
     },
     "execution_count": 11,
     "metadata": {},
     "output_type": "execute_result"
    }
   ],
   "source": [
    "emin_gromos_system.work_folder+\"/analysis/data\""
   ]
  },
  {
   "cell_type": "markdown",
   "metadata": {},
   "source": [
    "## RUN SD Simulation"
   ]
  },
  {
   "cell_type": "code",
   "execution_count": 12,
   "metadata": {
    "execution": {
     "iopub.execute_input": "2022-04-01T14:34:12.953464Z",
     "iopub.status.busy": "2022-04-01T14:34:12.953203Z",
     "iopub.status.idle": "2022-04-01T14:34:18.157653Z",
     "shell.execute_reply": "2022-04-01T14:34:18.156772Z"
    }
   },
   "outputs": [
    {
     "name": "stdout",
     "output_type": "stream",
     "text": [
      "################################################################################\n",
      "\n",
      "b_vacuum_sd\n",
      "################################################################################\n",
      "\n",
      "============================================================\n",
      "FOUND RESULT: /home/bschroed/Documents/projects/PyGromosTools/examples/example_files/SD_Simulation/SD_input/b_vacuum_sd/analysis/data/b_vacuum_sd.cnf\n",
      " GOING TO SKIPT THIS SUBMISSION!\n"
     ]
    },
    {
     "ename": "AttributeError",
     "evalue": "'Cnf' object has no attribute 'visualize'",
     "output_type": "error",
     "traceback": [
      "\u001b[0;31m---------------------------------------------------------------------------\u001b[0m",
      "\u001b[0;31mAttributeError\u001b[0m                            Traceback (most recent call last)",
      "Input \u001b[0;32mIn [12]\u001b[0m, in \u001b[0;36m<cell line: 13>\u001b[0;34m()\u001b[0m\n\u001b[1;32m      9\u001b[0m jobID \u001b[38;5;241m=\u001b[39m sd_gromos_system\u001b[38;5;241m.\u001b[39m_last_jobID\n\u001b[1;32m     11\u001b[0m sd_gromos_system\n\u001b[0;32m---> 13\u001b[0m \u001b[43msd_gromos_system\u001b[49m\u001b[38;5;241;43m.\u001b[39;49m\u001b[43mcnf\u001b[49m\u001b[38;5;241;43m.\u001b[39;49m\u001b[43mvisualize\u001b[49m()\n",
      "\u001b[0;31mAttributeError\u001b[0m: 'Cnf' object has no attribute 'visualize'"
     ]
    }
   ],
   "source": [
    "from pygromos.simulations.modules.preset_simulation_modules import sd\n",
    "\n",
    "step_name  = \"b_vacuum_sd\"\n",
    "\n",
    "sd_gromos_system  = sd(in_gromos_system=emin_gromos_system,\n",
    "                              step_name=step_name, \n",
    "                       submission_system=subSystem(nmpi=1),\n",
    "                      equilibration_runs=1, simulation_runs=3)\n",
    "jobID = sd_gromos_system._last_jobID\n",
    "\n",
    "sd_gromos_system\n",
    "\n",
    "sd_gromos_system.cnf.visualize()"
   ]
  },
  {
   "cell_type": "markdown",
   "metadata": {
    "pycharm": {
     "name": "#%% md\n"
    }
   },
   "source": [
    "## Further Analysis:\n",
    "Transform the trc into a pdb traj to check it out with pymol :!)"
   ]
  },
  {
   "cell_type": "code",
   "execution_count": 13,
   "metadata": {
    "execution": {
     "iopub.execute_input": "2022-04-01T14:34:18.160167Z",
     "iopub.status.busy": "2022-04-01T14:34:18.159957Z",
     "iopub.status.idle": "2022-04-01T14:34:18.164658Z",
     "shell.execute_reply": "2022-04-01T14:34:18.163854Z"
    }
   },
   "outputs": [],
   "source": [
    "#final analysis dir:\n",
    "from pygromos.utils import bash\n",
    "\n",
    "out_ana = project_dir+\"/c_ana\"\n",
    "if(not os.path.exists(out_ana)):\n",
    "    bash.make_folder(out_ana)"
   ]
  },
  {
   "cell_type": "markdown",
   "metadata": {},
   "source": [
    "### Coordinate Analysis"
   ]
  },
  {
   "cell_type": "code",
   "execution_count": 14,
   "metadata": {
    "execution": {
     "iopub.execute_input": "2022-04-01T14:34:18.167053Z",
     "iopub.status.busy": "2022-04-01T14:34:18.166845Z",
     "iopub.status.idle": "2022-04-01T14:34:18.236122Z",
     "shell.execute_reply": "2022-04-01T14:34:18.235181Z"
    }
   },
   "outputs": [
    {
     "name": "stderr",
     "output_type": "stream",
     "text": [
      "/home/bschroed/miniconda3/envs/pygromosDev/lib/python3.9/site-packages/mdtraj/core/trajectory.py:438: UserWarning: top= kwargs ignored since this file parser does not support it\n",
      "  warnings.warn('top= kwargs ignored since this file parser does not support it')\n"
     ]
    },
    {
     "ename": "AttributeError",
     "evalue": "'Trc' object has no attribute 'write_pdb'",
     "output_type": "error",
     "traceback": [
      "\u001b[0;31m---------------------------------------------------------------------------\u001b[0m",
      "\u001b[0;31mAttributeError\u001b[0m                            Traceback (most recent call last)",
      "Input \u001b[0;32mIn [14]\u001b[0m, in \u001b[0;36m<cell line: 4>\u001b[0;34m()\u001b[0m\n\u001b[1;32m      1\u001b[0m \u001b[38;5;28;01mfrom\u001b[39;00m \u001b[38;5;21;01mpygromos\u001b[39;00m\u001b[38;5;21;01m.\u001b[39;00m\u001b[38;5;21;01mfiles\u001b[39;00m\u001b[38;5;21;01m.\u001b[39;00m\u001b[38;5;21;01mtrajectory\u001b[39;00m\u001b[38;5;21;01m.\u001b[39;00m\u001b[38;5;21;01mtrc\u001b[39;00m \u001b[38;5;28;01mimport\u001b[39;00m Trc\n\u001b[1;32m      3\u001b[0m trc \u001b[38;5;241m=\u001b[39m sd_gromos_system\u001b[38;5;241m.\u001b[39mtrc\n\u001b[0;32m----> 4\u001b[0m \u001b[43mtrc\u001b[49m\u001b[38;5;241;43m.\u001b[39;49m\u001b[43mwrite_pdb\u001b[49m(out_ana\u001b[38;5;241m+\u001b[39m\u001b[38;5;124m\"\u001b[39m\u001b[38;5;124m/sd_traj.pdb\u001b[39m\u001b[38;5;124m\"\u001b[39m, cnf_file\u001b[38;5;241m=\u001b[39mcnf_path)\u001b[38;5;66;03m#grom_system.cnf.path)\u001b[39;00m\n\u001b[1;32m      5\u001b[0m trc\n",
      "\u001b[0;31mAttributeError\u001b[0m: 'Trc' object has no attribute 'write_pdb'"
     ]
    }
   ],
   "source": [
    "from pygromos.files.trajectory.trc import Trc\n",
    "\n",
    "trc = sd_gromos_system.trc\n",
    "trc.write_pdb(out_ana+\"/sd_traj.pdb\", cnf_file=cnf_path)#grom_system.cnf.path)\n",
    "trc"
   ]
  },
  {
   "cell_type": "code",
   "execution_count": 15,
   "metadata": {
    "execution": {
     "iopub.execute_input": "2022-04-01T14:34:18.239241Z",
     "iopub.status.busy": "2022-04-01T14:34:18.238971Z",
     "iopub.status.idle": "2022-04-01T14:34:18.254059Z",
     "shell.execute_reply": "2022-04-01T14:34:18.253149Z"
    }
   },
   "outputs": [
    {
     "ename": "AttributeError",
     "evalue": "'Trc' object has no attribute 'visualize'",
     "output_type": "error",
     "traceback": [
      "\u001b[0;31m---------------------------------------------------------------------------\u001b[0m",
      "\u001b[0;31mAttributeError\u001b[0m                            Traceback (most recent call last)",
      "Input \u001b[0;32mIn [15]\u001b[0m, in \u001b[0;36m<cell line: 1>\u001b[0;34m()\u001b[0m\n\u001b[0;32m----> 1\u001b[0m traj \u001b[38;5;241m=\u001b[39m \u001b[43mtrc\u001b[49m\u001b[38;5;241;43m.\u001b[39;49m\u001b[43mvisualize\u001b[49m(grom_system\u001b[38;5;241m.\u001b[39mcnf)\n\u001b[1;32m      2\u001b[0m traj\n",
      "\u001b[0;31mAttributeError\u001b[0m: 'Trc' object has no attribute 'visualize'"
     ]
    }
   ],
   "source": [
    "traj = trc.visualize(grom_system.cnf)\n",
    "traj"
   ]
  },
  {
   "cell_type": "markdown",
   "metadata": {},
   "source": [
    "### Energy Analysis"
   ]
  },
  {
   "cell_type": "code",
   "execution_count": 16,
   "metadata": {
    "execution": {
     "iopub.execute_input": "2022-04-01T14:34:18.257357Z",
     "iopub.status.busy": "2022-04-01T14:34:18.257107Z",
     "iopub.status.idle": "2022-04-01T14:34:18.281391Z",
     "shell.execute_reply": "2022-04-01T14:34:18.280575Z"
    }
   },
   "outputs": [
    {
     "data": {
      "text/plain": [
       "Trajectory: \n",
       "\tRead from hdf save \n",
       "\tContains only database\n",
       "\t\n",
       "Type: \n",
       "\tTre\n",
       "Frames: \t63\t Columns:\t13\n"
      ]
     },
     "execution_count": 16,
     "metadata": {},
     "output_type": "execute_result"
    }
   ],
   "source": [
    "from pygromos.files.trajectory.tre import Tre\n",
    "\n",
    "tre = sd_gromos_system.tre\n",
    "tre\n"
   ]
  },
  {
   "cell_type": "code",
   "execution_count": 17,
   "metadata": {
    "execution": {
     "iopub.execute_input": "2022-04-01T14:34:18.284098Z",
     "iopub.status.busy": "2022-04-01T14:34:18.283891Z",
     "iopub.status.idle": "2022-04-01T14:34:19.068312Z",
     "shell.execute_reply": "2022-04-01T14:34:19.067477Z"
    }
   },
   "outputs": [
    {
     "ename": "AttributeError",
     "evalue": "'DataFrame' object has no attribute 'TIMESTEP_time'",
     "output_type": "error",
     "traceback": [
      "\u001b[0;31m---------------------------------------------------------------------------\u001b[0m",
      "\u001b[0;31mAttributeError\u001b[0m                            Traceback (most recent call last)",
      "Input \u001b[0;32mIn [17]\u001b[0m, in \u001b[0;36m<cell line: 3>\u001b[0;34m()\u001b[0m\n\u001b[1;32m      1\u001b[0m \u001b[38;5;66;03m#Plot Potential Energies\u001b[39;00m\n\u001b[1;32m      2\u001b[0m V_tot \u001b[38;5;241m=\u001b[39m np\u001b[38;5;241m.\u001b[39marray(\u001b[38;5;28mlist\u001b[39m(\u001b[38;5;28mmap\u001b[39m(\u001b[38;5;28;01mlambda\u001b[39;00m x: x[\u001b[38;5;241m2\u001b[39m], tre\u001b[38;5;241m.\u001b[39mdatabase\u001b[38;5;241m.\u001b[39mtotals)))\n\u001b[0;32m----> 3\u001b[0m step \u001b[38;5;241m=\u001b[39m \u001b[38;5;28mlen\u001b[39m(\u001b[43mtre\u001b[49m\u001b[38;5;241;43m.\u001b[39;49m\u001b[43mdatabase\u001b[49m\u001b[38;5;241;43m.\u001b[39;49m\u001b[43mTIMESTEP_time\u001b[49m)\u001b[38;5;241m/\u001b[39m\u001b[38;5;241m/\u001b[39m\u001b[38;5;241m10\u001b[39m\n\u001b[1;32m      5\u001b[0m plt\u001b[38;5;241m.\u001b[39mplot(tre\u001b[38;5;241m.\u001b[39mdatabase\u001b[38;5;241m.\u001b[39mTIMESTEP_time, V_tot)\n\u001b[1;32m      6\u001b[0m plt\u001b[38;5;241m.\u001b[39mxticks(np\u001b[38;5;241m.\u001b[39mround(\u001b[38;5;28mlist\u001b[39m(tre\u001b[38;5;241m.\u001b[39mdatabase\u001b[38;5;241m.\u001b[39mTIMESTEP_time[::step]),\u001b[38;5;241m2\u001b[39m))\n",
      "File \u001b[0;32m~/miniconda3/envs/pygromosDev/lib/python3.9/site-packages/pandas/core/generic.py:5583\u001b[0m, in \u001b[0;36mNDFrame.__getattr__\u001b[0;34m(self, name)\u001b[0m\n\u001b[1;32m   5576\u001b[0m \u001b[38;5;28;01mif\u001b[39;00m (\n\u001b[1;32m   5577\u001b[0m     name \u001b[38;5;129;01mnot\u001b[39;00m \u001b[38;5;129;01min\u001b[39;00m \u001b[38;5;28mself\u001b[39m\u001b[38;5;241m.\u001b[39m_internal_names_set\n\u001b[1;32m   5578\u001b[0m     \u001b[38;5;129;01mand\u001b[39;00m name \u001b[38;5;129;01mnot\u001b[39;00m \u001b[38;5;129;01min\u001b[39;00m \u001b[38;5;28mself\u001b[39m\u001b[38;5;241m.\u001b[39m_metadata\n\u001b[1;32m   5579\u001b[0m     \u001b[38;5;129;01mand\u001b[39;00m name \u001b[38;5;129;01mnot\u001b[39;00m \u001b[38;5;129;01min\u001b[39;00m \u001b[38;5;28mself\u001b[39m\u001b[38;5;241m.\u001b[39m_accessors\n\u001b[1;32m   5580\u001b[0m     \u001b[38;5;129;01mand\u001b[39;00m \u001b[38;5;28mself\u001b[39m\u001b[38;5;241m.\u001b[39m_info_axis\u001b[38;5;241m.\u001b[39m_can_hold_identifiers_and_holds_name(name)\n\u001b[1;32m   5581\u001b[0m ):\n\u001b[1;32m   5582\u001b[0m     \u001b[38;5;28;01mreturn\u001b[39;00m \u001b[38;5;28mself\u001b[39m[name]\n\u001b[0;32m-> 5583\u001b[0m \u001b[38;5;28;01mreturn\u001b[39;00m \u001b[38;5;28;43mobject\u001b[39;49m\u001b[38;5;241;43m.\u001b[39;49m\u001b[38;5;21;43m__getattribute__\u001b[39;49m\u001b[43m(\u001b[49m\u001b[38;5;28;43mself\u001b[39;49m\u001b[43m,\u001b[49m\u001b[43m \u001b[49m\u001b[43mname\u001b[49m\u001b[43m)\u001b[49m\n",
      "\u001b[0;31mAttributeError\u001b[0m: 'DataFrame' object has no attribute 'TIMESTEP_time'"
     ]
    }
   ],
   "source": [
    "#Plot Potential Energies\n",
    "V_tot = np.array(list(map(lambda x: x[2], tre.database.totals)))\n",
    "step = len(tre.database.TIMESTEP_time)//10\n",
    "\n",
    "plt.plot(tre.database.TIMESTEP_time, V_tot)\n",
    "plt.xticks(np.round(list(tre.database.TIMESTEP_time[::step]),2))\n",
    "plt.xlabel(\"$t~[ps]$\")\n",
    "plt.ylabel(\"$V~[kJ]$\")\n",
    "plt.title(\"V total timeseries\")\n",
    "plt.savefig(out_ana+\"/potential_energy_timeseries.png\")"
   ]
  }
 ],
 "metadata": {
  "language_info": {
   "codemirror_mode": {
    "name": "ipython",
    "version": 3
   },
   "file_extension": ".py",
   "mimetype": "text/x-python",
   "name": "python",
   "nbconvert_exporter": "python",
   "pygments_lexer": "ipython3",
   "version": "3.9.10"
  },
  "widgets": {
   "application/vnd.jupyter.widget-state+json": {
    "state": {
     "38f3b242db594277894d271a515e3507": {
      "model_module": "nglview-js-widgets",
      "model_module_version": "3.0.1",
      "model_name": "ColormakerRegistryModel",
      "state": {
       "_dom_classes": [],
       "_model_module": "nglview-js-widgets",
       "_model_module_version": "3.0.1",
       "_model_name": "ColormakerRegistryModel",
       "_msg_ar": [],
       "_msg_q": [],
       "_ready": false,
       "_view_count": null,
       "_view_module": "nglview-js-widgets",
       "_view_module_version": "3.0.1",
       "_view_name": "ColormakerRegistryView",
       "layout": "IPY_MODEL_6cd87e229b71431f9ed0a508b1478c1e"
      }
     },
     "6cd87e229b71431f9ed0a508b1478c1e": {
      "model_module": "@jupyter-widgets/base",
      "model_module_version": "1.2.0",
      "model_name": "LayoutModel",
      "state": {
       "_model_module": "@jupyter-widgets/base",
       "_model_module_version": "1.2.0",
       "_model_name": "LayoutModel",
       "_view_count": null,
       "_view_module": "@jupyter-widgets/base",
       "_view_module_version": "1.2.0",
       "_view_name": "LayoutView",
       "align_content": null,
       "align_items": null,
       "align_self": null,
       "border": null,
       "bottom": null,
       "display": null,
       "flex": null,
       "flex_flow": null,
       "grid_area": null,
       "grid_auto_columns": null,
       "grid_auto_flow": null,
       "grid_auto_rows": null,
       "grid_column": null,
       "grid_gap": null,
       "grid_row": null,
       "grid_template_areas": null,
       "grid_template_columns": null,
       "grid_template_rows": null,
       "height": null,
       "justify_content": null,
       "justify_items": null,
       "left": null,
       "margin": null,
       "max_height": null,
       "max_width": null,
       "min_height": null,
       "min_width": null,
       "object_fit": null,
       "object_position": null,
       "order": null,
       "overflow": null,
       "overflow_x": null,
       "overflow_y": null,
       "padding": null,
       "right": null,
       "top": null,
       "visibility": null,
       "width": null
      }
     }
    },
    "version_major": 2,
    "version_minor": 0
   }
  }
 },
 "nbformat": 4,
 "nbformat_minor": 4
}
