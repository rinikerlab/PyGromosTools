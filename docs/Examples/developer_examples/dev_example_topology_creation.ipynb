{
 "cells": [
  {
   "cell_type": "markdown",
   "metadata": {},
   "source": [
    "# Creating and modifying Topologies"
   ]
  },
  {
   "cell_type": "markdown",
   "metadata": {},
   "source": [
    "PyGromosTools offers a wide variaty of tools and functions to assist in the creation and modification of specialized topologies.\n",
    "\n",
    "In the following notebook we will demonstrate some of the functions and theire usage. These functions and workflows should work with all supported forcfields, but we will use OpenForceField due to the fact that it is independant of make_top and a Gromos++ installation."
   ]
  },
  {
   "cell_type": "code",
   "execution_count": 1,
   "metadata": {
    "execution": {
     "iopub.execute_input": "2022-04-06T12:10:52.257453Z",
     "iopub.status.busy": "2022-04-06T12:10:52.254991Z",
     "iopub.status.idle": "2022-04-06T12:10:52.500122Z",
     "shell.execute_reply": "2022-04-06T12:10:52.499132Z"
    }
   },
   "outputs": [],
   "source": [
    "import os\n",
    "from rdkit.Chem import AllChem"
   ]
  },
  {
   "cell_type": "code",
   "execution_count": 2,
   "metadata": {
    "execution": {
     "iopub.execute_input": "2022-04-06T12:10:52.504092Z",
     "iopub.status.busy": "2022-04-06T12:10:52.502862Z",
     "iopub.status.idle": "2022-04-06T12:10:53.391501Z",
     "shell.execute_reply": "2022-04-06T12:10:53.390669Z"
    }
   },
   "outputs": [
    {
     "data": {
      "application/vnd.jupyter.widget-view+json": {
       "model_id": "7cb687fa3d7f4b1381bc61022ffc2a09",
       "version_major": 2,
       "version_minor": 0
      },
      "text/plain": []
     },
     "metadata": {},
     "output_type": "display_data"
    },
    {
     "name": "stderr",
     "output_type": "stream",
     "text": [
      "Warning: Unable to load toolkit 'OpenEye Toolkit'. The Open Force Field Toolkit does not require the OpenEye Toolkits, and can use RDKit/AmberTools instead. However, if you have a valid license for the OpenEye Toolkits, consider installing them for faster performance and additional file format support: https://docs.eyesopen.com/toolkits/python/quickstart-python/linuxosx.html OpenEye offers free Toolkit licenses for academics: https://www.eyesopen.com/academic-licensing\n"
     ]
    }
   ],
   "source": [
    "from pygromos.files.gromos_system.gromos_system import Gromos_System\n",
    "from pygromos.files.forcefield.openff import openff\n",
    "from pygromos.files.topology.top import Top"
   ]
  },
  {
   "cell_type": "code",
   "execution_count": 3,
   "metadata": {
    "execution": {
     "iopub.execute_input": "2022-04-06T12:10:53.394969Z",
     "iopub.status.busy": "2022-04-06T12:10:53.394498Z",
     "iopub.status.idle": "2022-04-06T12:10:53.398135Z",
     "shell.execute_reply": "2022-04-06T12:10:53.397522Z"
    }
   },
   "outputs": [],
   "source": [
    "# setting the work directory\n",
    "root_dir = os.path.abspath(\"../example_files/topo_tutorial/\")"
   ]
  },
  {
   "cell_type": "markdown",
   "metadata": {},
   "source": [
    "## Automatic System generation and combining of topologies"
   ]
  },
  {
   "cell_type": "markdown",
   "metadata": {},
   "source": [
    "In the first part of this notebbok we demonstrate some automatic tools to create and modifie topologies."
   ]
  },
  {
   "cell_type": "code",
   "execution_count": 4,
   "metadata": {
    "execution": {
     "iopub.execute_input": "2022-04-06T12:10:53.401022Z",
     "iopub.status.busy": "2022-04-06T12:10:53.400777Z",
     "iopub.status.idle": "2022-04-06T12:10:53.557124Z",
     "shell.execute_reply": "2022-04-06T12:10:53.556061Z"
    }
   },
   "outputs": [
    {
     "name": "stdout",
     "output_type": "stream",
     "text": [
      "Found off: /home/mlehner/PyGromosTools/pygromos/data/ff/SMIRNOFF/openff_unconstrained-2.0.0.offxml\n"
     ]
    }
   ],
   "source": [
    "# defining the forcefield we want to use. In case a Gromos system is used make sure to have a valid Gromos++ installation and define the gromos++ path in Gromos_System or add it to you Path.\n",
    "ff = openff.OpenFF()"
   ]
  },
  {
   "cell_type": "code",
   "execution_count": 5,
   "metadata": {
    "execution": {
     "iopub.execute_input": "2022-04-06T12:10:53.559680Z",
     "iopub.status.busy": "2022-04-06T12:10:53.559456Z",
     "iopub.status.idle": "2022-04-06T12:10:53.579189Z",
     "shell.execute_reply": "2022-04-06T12:10:53.578438Z"
    }
   },
   "outputs": [
    {
     "data": {
      "text/plain": [
       "0"
      ]
     },
     "execution_count": 5,
     "metadata": {},
     "output_type": "execute_result"
    }
   ],
   "source": [
    "# We define a molecule in RDKit. Note that this molecule could be modified in RDKit or read from sdf, pdb, ... files\n",
    "mol = AllChem.MolFromSmiles(\"C1CCCCC1\")\n",
    "mol = AllChem.AddHs(mol)\n",
    "AllChem.EmbedMolecule(mol)\n"
   ]
  },
  {
   "cell_type": "code",
   "execution_count": 6,
   "metadata": {
    "execution": {
     "iopub.execute_input": "2022-04-06T12:10:53.582127Z",
     "iopub.status.busy": "2022-04-06T12:10:53.581876Z",
     "iopub.status.idle": "2022-04-06T12:10:56.694368Z",
     "shell.execute_reply": "2022-04-06T12:10:56.693405Z"
    }
   },
   "outputs": [
    {
     "name": "stdout",
     "output_type": "stream",
     "text": [
      "Found off: /home/mlehner/PyGromosTools/pygromos/data/ff/SMIRNOFF/openff_unconstrained-2.0.0.offxml\n"
     ]
    }
   ],
   "source": [
    "# We define our Gromos_system. Note the option auto_convert=True to automatically genarte a valid topology from the molecule defined in mol and the forcefield defined in ff.\n",
    "grosys = Gromos_System(work_folder=root_dir, system_name=\"test\", forcefield=ff, \n",
    "                       rdkitMol=mol, auto_convert=True)"
   ]
  },
  {
   "cell_type": "code",
   "execution_count": 7,
   "metadata": {
    "execution": {
     "iopub.execute_input": "2022-04-06T12:10:56.697352Z",
     "iopub.status.busy": "2022-04-06T12:10:56.697129Z",
     "iopub.status.idle": "2022-04-06T12:10:56.703017Z",
     "shell.execute_reply": "2022-04-06T12:10:56.702165Z"
    }
   },
   "outputs": [
    {
     "data": {
      "text/plain": [
       "TITLE\n",
       "\n",
       "\tname: \t hill_formula: C6H12\n",
       "\t----------------------------------------\n",
       "\t| created from OpenForceField topology |\n",
       "\t| use Amber Block for OpenFF topology! |\n",
       "\t----------------------------------------\n",
       "\n",
       "\t>>> Generated with PyGromosTools (riniker group) <<<\n",
       "END"
      ]
     },
     "execution_count": 7,
     "metadata": {},
     "output_type": "execute_result"
    }
   ],
   "source": [
    "# The topology created in the last step printed\n",
    "grosys.top.TITLE"
   ]
  },
  {
   "cell_type": "markdown",
   "metadata": {},
   "source": [
    "After the automatic creation of this topology for a Cyclohexan molecule we could try to make a liquid topology. Therefore we want to have multiple copies of our topology in one single topology."
   ]
  },
  {
   "cell_type": "code",
   "execution_count": 8,
   "metadata": {
    "execution": {
     "iopub.execute_input": "2022-04-06T12:10:56.705781Z",
     "iopub.status.busy": "2022-04-06T12:10:56.705562Z",
     "iopub.status.idle": "2022-04-06T12:10:56.709549Z",
     "shell.execute_reply": "2022-04-06T12:10:56.708770Z"
    }
   },
   "outputs": [],
   "source": [
    "# define a new, empty top\n",
    "retTop=Top(in_value=None)"
   ]
  },
  {
   "cell_type": "markdown",
   "metadata": {},
   "source": [
    "With the \"+=\" operator we can add multiple topologies to a single topology. Or multiply the topology in a for loop. This alows costum topologies for liquids. After the loop we can reasign the variable to our Gromos_System and check if the additional molecules were added."
   ]
  },
  {
   "cell_type": "code",
   "execution_count": 9,
   "metadata": {
    "execution": {
     "iopub.execute_input": "2022-04-06T12:10:56.712119Z",
     "iopub.status.busy": "2022-04-06T12:10:56.711701Z",
     "iopub.status.idle": "2022-04-06T12:10:56.815319Z",
     "shell.execute_reply": "2022-04-06T12:10:56.814489Z"
    }
   },
   "outputs": [],
   "source": [
    "for _ in range(10):\n",
    "    retTop += grosys.top\n",
    "grosys.top = retTop"
   ]
  },
  {
   "cell_type": "code",
   "execution_count": 10,
   "metadata": {
    "execution": {
     "iopub.execute_input": "2022-04-06T12:10:56.819721Z",
     "iopub.status.busy": "2022-04-06T12:10:56.819408Z",
     "iopub.status.idle": "2022-04-06T12:10:56.829569Z",
     "shell.execute_reply": "2022-04-06T12:10:56.828022Z"
    }
   },
   "outputs": [
    {
     "data": {
      "text/plain": [
       "RESNAME\n",
       "10\n",
       "C6H12\n",
       "C6H12\n",
       "C6H12\n",
       "C6H12\n",
       "C6H12\n",
       "C6H12\n",
       "C6H12\n",
       "C6H12\n",
       "C6H12\n",
       "C6H12\n",
       "END"
      ]
     },
     "execution_count": 10,
     "metadata": {},
     "output_type": "execute_result"
    }
   ],
   "source": [
    "# we added 10 copies of the initial moleucle to retTop and our new topology now contains 10 molecules in the RESNAME block.\n",
    "grosys.top.RESNAME"
   ]
  },
  {
   "cell_type": "code",
   "execution_count": 11,
   "metadata": {
    "execution": {
     "iopub.execute_input": "2022-04-06T12:10:56.835789Z",
     "iopub.status.busy": "2022-04-06T12:10:56.834460Z",
     "iopub.status.idle": "2022-04-06T12:10:56.840800Z",
     "shell.execute_reply": "2022-04-06T12:10:56.839812Z"
    }
   },
   "outputs": [],
   "source": [
    "grosys.top.make_ordered()"
   ]
  },
  {
   "cell_type": "markdown",
   "metadata": {},
   "source": [
    "We can also add different molecules in our system. For example we could add a Toluene to our Cyclohexane system."
   ]
  },
  {
   "cell_type": "code",
   "execution_count": 12,
   "metadata": {
    "execution": {
     "iopub.execute_input": "2022-04-06T12:10:56.844563Z",
     "iopub.status.busy": "2022-04-06T12:10:56.844207Z",
     "iopub.status.idle": "2022-04-06T12:11:04.970510Z",
     "shell.execute_reply": "2022-04-06T12:11:04.969425Z"
    }
   },
   "outputs": [
    {
     "name": "stdout",
     "output_type": "stream",
     "text": [
      "Found off: /home/mlehner/PyGromosTools/pygromos/data/ff/SMIRNOFF/openff_unconstrained-2.0.0.offxml\n"
     ]
    }
   ],
   "source": [
    "# create a topology for Toluene\n",
    "tolTop = Gromos_System(work_folder=root_dir, system_name=\"TOL\", in_smiles=\"c1ccccc1C\", forcefield=ff, auto_convert=True).top"
   ]
  },
  {
   "cell_type": "code",
   "execution_count": 13,
   "metadata": {
    "execution": {
     "iopub.execute_input": "2022-04-06T12:11:04.973560Z",
     "iopub.status.busy": "2022-04-06T12:11:04.973335Z",
     "iopub.status.idle": "2022-04-06T12:11:04.986021Z",
     "shell.execute_reply": "2022-04-06T12:11:04.985153Z"
    }
   },
   "outputs": [],
   "source": [
    "# add the toluene topology to our main topology\n",
    "grosys.top += tolTop"
   ]
  },
  {
   "cell_type": "code",
   "execution_count": 14,
   "metadata": {
    "execution": {
     "iopub.execute_input": "2022-04-06T12:11:04.988675Z",
     "iopub.status.busy": "2022-04-06T12:11:04.988470Z",
     "iopub.status.idle": "2022-04-06T12:11:04.993622Z",
     "shell.execute_reply": "2022-04-06T12:11:04.992897Z"
    }
   },
   "outputs": [
    {
     "data": {
      "text/plain": [
       "0.0025854006549356347"
      ]
     },
     "execution_count": 14,
     "metadata": {},
     "output_type": "execute_result"
    }
   ],
   "source": [
    "tolTop.LJPARAMETERS.content[0].C6"
   ]
  },
  {
   "cell_type": "code",
   "execution_count": 15,
   "metadata": {
    "execution": {
     "iopub.execute_input": "2022-04-06T12:11:04.996336Z",
     "iopub.status.busy": "2022-04-06T12:11:04.995811Z",
     "iopub.status.idle": "2022-04-06T12:11:05.000876Z",
     "shell.execute_reply": "2022-04-06T12:11:05.000040Z"
    }
   },
   "outputs": [
    {
     "data": {
      "text/plain": [
       "RESNAME\n",
       "11\n",
       "C6H12\n",
       "C6H12\n",
       "C6H12\n",
       "C6H12\n",
       "C6H12\n",
       "C6H12\n",
       "C6H12\n",
       "C6H12\n",
       "C6H12\n",
       "C6H12\n",
       "C7H8\n",
       "END"
      ]
     },
     "execution_count": 15,
     "metadata": {},
     "output_type": "execute_result"
    }
   ],
   "source": [
    "# check if it was added properly\n",
    "grosys.top.RESNAME"
   ]
  },
  {
   "cell_type": "markdown",
   "metadata": {},
   "source": [
    "If many topologies should be added to a single topology the PyGromosTools version of com_top can be used which directly implements multipliers. Instead of for loops."
   ]
  },
  {
   "cell_type": "markdown",
   "metadata": {},
   "source": [
    "## Manual topology modifications"
   ]
  },
  {
   "cell_type": "markdown",
   "metadata": {},
   "source": [
    "In this second part of the notebook we demonstrate some functions to manually tweek topologies.\n",
    "\n",
    "Like with any othe PyGromosTools file class we have the option to brute force rewrite blocks. However, this often requires advanced knowlede of the block structure. Except for a few simple cases like the TITLE block."
   ]
  },
  {
   "cell_type": "code",
   "execution_count": 16,
   "metadata": {
    "execution": {
     "iopub.execute_input": "2022-04-06T12:11:05.003553Z",
     "iopub.status.busy": "2022-04-06T12:11:05.003299Z",
     "iopub.status.idle": "2022-04-06T12:11:05.007369Z",
     "shell.execute_reply": "2022-04-06T12:11:05.006445Z"
    }
   },
   "outputs": [],
   "source": [
    "grosys.top.add_block(blocktitle=\"TITLE\", content=[\"This is a new Title\"])"
   ]
  },
  {
   "cell_type": "code",
   "execution_count": 17,
   "metadata": {
    "execution": {
     "iopub.execute_input": "2022-04-06T12:11:05.009914Z",
     "iopub.status.busy": "2022-04-06T12:11:05.009699Z",
     "iopub.status.idle": "2022-04-06T12:11:05.013125Z",
     "shell.execute_reply": "2022-04-06T12:11:05.012396Z"
    }
   },
   "outputs": [],
   "source": [
    "grosys.top.make_ordered()"
   ]
  },
  {
   "cell_type": "code",
   "execution_count": 18,
   "metadata": {
    "execution": {
     "iopub.execute_input": "2022-04-06T12:11:05.015435Z",
     "iopub.status.busy": "2022-04-06T12:11:05.015254Z",
     "iopub.status.idle": "2022-04-06T12:11:05.021189Z",
     "shell.execute_reply": "2022-04-06T12:11:05.020379Z"
    }
   },
   "outputs": [
    {
     "data": {
      "text/plain": [
       "TITLE\n",
       "This is a new Title\n",
       "\t>>> Generated with PyGromosTools (riniker group) <<<\n",
       "END"
      ]
     },
     "execution_count": 18,
     "metadata": {},
     "output_type": "execute_result"
    }
   ],
   "source": [
    "grosys.top.TITLE"
   ]
  },
  {
   "cell_type": "markdown",
   "metadata": {},
   "source": [
    "For more complexe blocks PyGromosTools provides many functions to modify topologies. For example we could simply add a new soluteatom to the system. This would be relevant if you want to manually add a ion with very specific Nonbonded values to you system. These tools are vary powrful, but don't do any sanity checks on the values or compatibility to your forcefields."
   ]
  },
  {
   "cell_type": "code",
   "execution_count": 19,
   "metadata": {
    "execution": {
     "iopub.execute_input": "2022-04-06T12:11:05.023870Z",
     "iopub.status.busy": "2022-04-06T12:11:05.023652Z",
     "iopub.status.idle": "2022-04-06T12:11:05.027793Z",
     "shell.execute_reply": "2022-04-06T12:11:05.026919Z"
    }
   },
   "outputs": [
    {
     "name": "stdout",
     "output_type": "stream",
     "text": [
      "New Atomtype with LJ parameters added. IAC found as: 5\n"
     ]
    }
   ],
   "source": [
    "# We add a ion named 'XX' with charge +1 and certain LJ-Parameters to the main topology\n",
    "grosys.top.add_new_atom(PANM=\"XX\", CG=1, C6=1e-3, C12=1e-6, verbose=True)"
   ]
  },
  {
   "cell_type": "code",
   "execution_count": 20,
   "metadata": {
    "execution": {
     "iopub.execute_input": "2022-04-06T12:11:05.030121Z",
     "iopub.status.busy": "2022-04-06T12:11:05.029920Z",
     "iopub.status.idle": "2022-04-06T12:11:05.035082Z",
     "shell.execute_reply": "2022-04-06T12:11:05.034154Z"
    }
   },
   "outputs": [
    {
     "data": {
      "text/plain": [
       "ATOMTYPENAME\n",
       "5\n",
       "n16\n",
       "n2\n",
       "n14\n",
       "n7\n",
       "XX\n",
       "END"
      ]
     },
     "execution_count": 20,
     "metadata": {},
     "output_type": "execute_result"
    }
   ],
   "source": [
    "# Check for the new Atomtype 'XX'\n",
    "grosys.top.ATOMTYPENAME"
   ]
  },
  {
   "cell_type": "code",
   "execution_count": 21,
   "metadata": {
    "execution": {
     "iopub.execute_input": "2022-04-06T12:11:05.039127Z",
     "iopub.status.busy": "2022-04-06T12:11:05.038703Z",
     "iopub.status.idle": "2022-04-06T12:11:05.045603Z",
     "shell.execute_reply": "2022-04-06T12:11:05.044881Z"
    }
   },
   "outputs": [
    {
     "data": {
      "text/plain": [
       "SOLUTEATOM\n",
       "#   NRP: number of solute atoms\n",
       " \t 196\n",
       "#  ATNM: atom number\n",
       "#  MRES: residue number\n",
       "#  PANM: atom name of solute atom\n",
       "#   IAC: integer (van der Waals) atom type code\n",
       "#  MASS: mass of solute atom\n",
       "#    CG: charge of solute atom\n",
       "#   CGC: charge group code (0 or 1)\n",
       "#   INE: number of excluded atoms\n",
       "# INE14: number of 1-4 interactions\n",
       "# ATNM MRES PANM IAC     MASS       CG  CGC INE\n",
       "#                                           INE14\n",
       "\t1\t1\tC1\t1\t12.01078\t-0.0764\t0\t10\t2\t3\t5\t6\t7\t8\n",
       "\t\t\t\t\t\t\t\t\t\t\t9\t10\t17\t18\n",
       "\t\t\t\t\t\t\t\t\t\t5\t4\t11\t12\t15\t16\n",
       "\t2\t1\tC2\t1\t12.01078\t-0.0764\t0\t9\t3\t4\t6\t7\t8\t9\n",
       "\t\t\t\t\t\t\t\t\t\t\t10\t11\t12\n",
       "\t\t\t\t\t\t\t\t\t\t5\t5\t13\t14\t17\t18\n",
       "\t3\t1\tC3\t1\t12.01078\t-0.0764\t0\t8\t4\t5\t9\t10\t11\t12\n",
       "\t\t\t\t\t\t\t\t\t\t\t13\t14\n",
       "\t\t\t\t\t\t\t\t\t\t5\t6\t7\t8\t15\t16\n",
       "\t4\t1\tC4\t1\t12.01078\t-0.0764\t0\t8\t5\t6\t11\t12\t13\t14\n",
       "\t\t\t\t\t\t\t\t\t\t\t15\t16\n",
       "\t\t\t\t\t\t\t\t\t\t4\t9\t10\t17\t18\n",
       "\t5\t1\tC5\t1\t12.01078\t-0.0764\t0\t7\t6\t13\t14\t15\t16\t17\n",
       "\t\t\t\t\t\t\t\t\t\t\t18\n",
       "\t\t\t\t\t\t\t\t\t\t4\t7\t8\t11\t12\n",
       "\t6\t1\tC6\t1\t12.01078\t-0.0764\t0\t6\t7\t8\t15\t16\t17\t18\n",
       "\t\t\t\t\t\t\t\t\t\t4\t9\t10\t13\t14\n",
       "\t7\t1\tH1\t2\t1.007947\t0.0382\t0\t1\t8\n",
       "\t\t\t\t\t\t\t\t\t\t4\t9\t10\t17\t18\n",
       "\t8\t1\tH2\t2\t1.007947\t0.0382\t0\t0\n",
       "\t\t\t\t\t\t\t\t\t\t4\t9\t10\t17\t18\n",
       "\t9\t1\tH3\t2\t1.007947\t0.0382\t0\t1\t10\n",
       "\t\t\t\t\t\t\t\t\t\t2\t11\t12\n",
       "\t10\t1\tH4\t2\t1.007947\t0.0382\t0\t0\n",
       "\t\t\t\t\t\t\t\t\t\t2\t11\t12\n",
       "\t11\t1\tH5\t2\t1.007947\t0.0382\t0\t1\t12\n",
       "\t\t\t\t\t\t\t\t\t\t2\t13\t14\n",
       "\t12\t1\tH6\t2\t1.007947\t0.0382\t0\t0\n",
       "\t\t\t\t\t\t\t\t\t\t2\t13\t14\n",
       "\t13\t1\tH7\t2\t1.007947\t0.0382\t0\t1\t14\n",
       "\t\t\t\t\t\t\t\t\t\t2\t15\t16\n",
       "\t14\t1\tH8\t2\t1.007947\t0.0382\t0\t0\n",
       "\t\t\t\t\t\t\t\t\t\t2\t15\t16\n",
       "\t15\t1\tH9\t2\t1.007947\t0.0382\t0\t1\t16\n",
       "\t\t\t\t\t\t\t\t\t\t2\t17\t18\n",
       "\t16\t1\tH10\t2\t1.007947\t0.0382\t0\t0\n",
       "\t\t\t\t\t\t\t\t\t\t2\t17\t18\n",
       "\t17\t1\tH11\t2\t1.007947\t0.0382\t0\t1\t18\n",
       "\t\t\t\t\t\t\t\t\t\t0\n",
       "\t18\t1\tH12\t2\t1.007947\t0.0382\t1\t0\n",
       "\t\t\t\t\t\t\t\t\t\t0\n",
       "\t19\t2\tC1\t1\t12.01078\t-0.0764\t0\t10\t20\t21\t23\t24\t25\t26\n",
       "\t\t\t\t\t\t\t\t\t\t\t27\t28\t35\t36\n",
       "\t\t\t\t\t\t\t\t\t\t5\t22\t29\t30\t33\t34\n",
       "\t20\t2\tC2\t1\t12.01078\t-0.0764\t0\t9\t21\t22\t24\t25\t26\t27\n",
       "\t\t\t\t\t\t\t\t\t\t\t28\t29\t30\n",
       "\t\t\t\t\t\t\t\t\t\t5\t23\t31\t32\t35\t36\n",
       "\t21\t2\tC3\t1\t12.01078\t-0.0764\t0\t8\t22\t23\t27\t28\t29\t30\n",
       "\t\t\t\t\t\t\t\t\t\t\t31\t32\n",
       "\t\t\t\t\t\t\t\t\t\t5\t24\t25\t26\t33\t34\n",
       "\t22\t2\tC4\t1\t12.01078\t-0.0764\t0\t8\t23\t24\t29\t30\t31\t32\n",
       "\t\t\t\t\t\t\t\t\t\t\t33\t34\n",
       "\t\t\t\t\t\t\t\t\t\t4\t27\t28\t35\t36\n",
       "\t23\t2\tC5\t1\t12.01078\t-0.0764\t0\t7\t24\t31\t32\t33\t34\t35\n",
       "\t\t\t\t\t\t\t\t\t\t\t36\n",
       "\t\t\t\t\t\t\t\t\t\t4\t25\t26\t29\t30\n",
       "\t24\t2\tC6\t1\t12.01078\t-0.0764\t0\t6\t25\t26\t33\t34\t35\t36\n",
       "\t\t\t\t\t\t\t\t\t\t4\t27\t28\t31\t32\n",
       "\t25\t2\tH1\t2\t1.007947\t0.0382\t0\t1\t26\n",
       "\t\t\t\t\t\t\t\t\t\t4\t27\t28\t35\t36\n",
       "\t26\t2\tH2\t2\t1.007947\t0.0382\t0\t0\n",
       "\t\t\t\t\t\t\t\t\t\t4\t27\t28\t35\t36\n",
       "\t27\t2\tH3\t2\t1.007947\t0.0382\t0\t1\t28\n",
       "\t\t\t\t\t\t\t\t\t\t2\t29\t30\n",
       "\t28\t2\tH4\t2\t1.007947\t0.0382\t0\t0\n",
       "\t\t\t\t\t\t\t\t\t\t2\t29\t30\n",
       "\t29\t2\tH5\t2\t1.007947\t0.0382\t0\t1\t30\n",
       "\t\t\t\t\t\t\t\t\t\t2\t31\t32\n",
       "\t30\t2\tH6\t2\t1.007947\t0.0382\t0\t0\n",
       "\t\t\t\t\t\t\t\t\t\t2\t31\t32\n",
       "\t31\t2\tH7\t2\t1.007947\t0.0382\t0\t1\t32\n",
       "\t\t\t\t\t\t\t\t\t\t2\t33\t34\n",
       "\t32\t2\tH8\t2\t1.007947\t0.0382\t0\t0\n",
       "\t\t\t\t\t\t\t\t\t\t2\t33\t34\n",
       "\t33\t2\tH9\t2\t1.007947\t0.0382\t0\t1\t34\n",
       "\t\t\t\t\t\t\t\t\t\t2\t35\t36\n",
       "\t34\t2\tH10\t2\t1.007947\t0.0382\t0\t0\n",
       "\t\t\t\t\t\t\t\t\t\t2\t35\t36\n",
       "\t35\t2\tH11\t2\t1.007947\t0.0382\t0\t1\t36\n",
       "\t\t\t\t\t\t\t\t\t\t0\n",
       "\t36\t2\tH12\t2\t1.007947\t0.0382\t1\t0\n",
       "\t\t\t\t\t\t\t\t\t\t0\n",
       "\t37\t3\tC1\t1\t12.01078\t-0.0764\t0\t10\t38\t39\t41\t42\t43\t44\n",
       "\t\t\t\t\t\t\t\t\t\t\t45\t46\t53\t54\n",
       "\t\t\t\t\t\t\t\t\t\t5\t40\t47\t48\t51\t52\n",
       "\t38\t3\tC2\t1\t12.01078\t-0.0764\t0\t9\t39\t40\t42\t43\t44\t45\n",
       "\t\t\t\t\t\t\t\t\t\t\t46\t47\t48\n",
       "\t\t\t\t\t\t\t\t\t\t5\t41\t49\t50\t53\t54\n",
       "\t39\t3\tC3\t1\t12.01078\t-0.0764\t0\t8\t40\t41\t45\t46\t47\t48\n",
       "\t\t\t\t\t\t\t\t\t\t\t49\t50\n",
       "\t\t\t\t\t\t\t\t\t\t5\t42\t43\t44\t51\t52\n",
       "\t40\t3\tC4\t1\t12.01078\t-0.0764\t0\t8\t41\t42\t47\t48\t49\t50\n",
       "\t\t\t\t\t\t\t\t\t\t\t51\t52\n",
       "\t\t\t\t\t\t\t\t\t\t4\t45\t46\t53\t54\n",
       "\t41\t3\tC5\t1\t12.01078\t-0.0764\t0\t7\t42\t49\t50\t51\t52\t53\n",
       "\t\t\t\t\t\t\t\t\t\t\t54\n",
       "\t\t\t\t\t\t\t\t\t\t4\t43\t44\t47\t48\n",
       "\t42\t3\tC6\t1\t12.01078\t-0.0764\t0\t6\t43\t44\t51\t52\t53\t54\n",
       "\t\t\t\t\t\t\t\t\t\t4\t45\t46\t49\t50\n",
       "\t43\t3\tH1\t2\t1.007947\t0.0382\t0\t1\t44\n",
       "\t\t\t\t\t\t\t\t\t\t4\t45\t46\t53\t54\n",
       "\t44\t3\tH2\t2\t1.007947\t0.0382\t0\t0\n",
       "\t\t\t\t\t\t\t\t\t\t4\t45\t46\t53\t54\n",
       "\t45\t3\tH3\t2\t1.007947\t0.0382\t0\t1\t46\n",
       "\t\t\t\t\t\t\t\t\t\t2\t47\t48\n",
       "\t46\t3\tH4\t2\t1.007947\t0.0382\t0\t0\n",
       "\t\t\t\t\t\t\t\t\t\t2\t47\t48\n",
       "\t47\t3\tH5\t2\t1.007947\t0.0382\t0\t1\t48\n",
       "\t\t\t\t\t\t\t\t\t\t2\t49\t50\n",
       "\t48\t3\tH6\t2\t1.007947\t0.0382\t0\t0\n",
       "\t\t\t\t\t\t\t\t\t\t2\t49\t50\n",
       "\t49\t3\tH7\t2\t1.007947\t0.0382\t0\t1\t50\n",
       "\t\t\t\t\t\t\t\t\t\t2\t51\t52\n",
       "\t50\t3\tH8\t2\t1.007947\t0.0382\t0\t0\n",
       "\t\t\t\t\t\t\t\t\t\t2\t51\t52\n",
       "\t51\t3\tH9\t2\t1.007947\t0.0382\t0\t1\t52\n",
       "\t\t\t\t\t\t\t\t\t\t2\t53\t54\n",
       "\t52\t3\tH10\t2\t1.007947\t0.0382\t0\t0\n",
       "\t\t\t\t\t\t\t\t\t\t2\t53\t54\n",
       "\t53\t3\tH11\t2\t1.007947\t0.0382\t0\t1\t54\n",
       "\t\t\t\t\t\t\t\t\t\t0\n",
       "\t54\t3\tH12\t2\t1.007947\t0.0382\t1\t0\n",
       "\t\t\t\t\t\t\t\t\t\t0\n",
       "\t55\t4\tC1\t1\t12.01078\t-0.0764\t0\t10\t56\t57\t59\t60\t61\t62\n",
       "\t\t\t\t\t\t\t\t\t\t\t63\t64\t71\t72\n",
       "\t\t\t\t\t\t\t\t\t\t5\t58\t65\t66\t69\t70\n",
       "\t56\t4\tC2\t1\t12.01078\t-0.0764\t0\t9\t57\t58\t60\t61\t62\t63\n",
       "\t\t\t\t\t\t\t\t\t\t\t64\t65\t66\n",
       "\t\t\t\t\t\t\t\t\t\t5\t59\t67\t68\t71\t72\n",
       "\t57\t4\tC3\t1\t12.01078\t-0.0764\t0\t8\t58\t59\t63\t64\t65\t66\n",
       "\t\t\t\t\t\t\t\t\t\t\t67\t68\n",
       "\t\t\t\t\t\t\t\t\t\t5\t60\t61\t62\t69\t70\n",
       "\t58\t4\tC4\t1\t12.01078\t-0.0764\t0\t8\t59\t60\t65\t66\t67\t68\n",
       "\t\t\t\t\t\t\t\t\t\t\t69\t70\n",
       "\t\t\t\t\t\t\t\t\t\t4\t63\t64\t71\t72\n",
       "\t59\t4\tC5\t1\t12.01078\t-0.0764\t0\t7\t60\t67\t68\t69\t70\t71\n",
       "\t\t\t\t\t\t\t\t\t\t\t72\n",
       "\t\t\t\t\t\t\t\t\t\t4\t61\t62\t65\t66\n",
       "\t60\t4\tC6\t1\t12.01078\t-0.0764\t0\t6\t61\t62\t69\t70\t71\t72\n",
       "\t\t\t\t\t\t\t\t\t\t4\t63\t64\t67\t68\n",
       "\t61\t4\tH1\t2\t1.007947\t0.0382\t0\t1\t62\n",
       "\t\t\t\t\t\t\t\t\t\t4\t63\t64\t71\t72\n",
       "\t62\t4\tH2\t2\t1.007947\t0.0382\t0\t0\n",
       "\t\t\t\t\t\t\t\t\t\t4\t63\t64\t71\t72\n",
       "\t63\t4\tH3\t2\t1.007947\t0.0382\t0\t1\t64\n",
       "\t\t\t\t\t\t\t\t\t\t2\t65\t66\n",
       "\t64\t4\tH4\t2\t1.007947\t0.0382\t0\t0\n",
       "\t\t\t\t\t\t\t\t\t\t2\t65\t66\n",
       "\t65\t4\tH5\t2\t1.007947\t0.0382\t0\t1\t66\n",
       "\t\t\t\t\t\t\t\t\t\t2\t67\t68\n",
       "\t66\t4\tH6\t2\t1.007947\t0.0382\t0\t0\n",
       "\t\t\t\t\t\t\t\t\t\t2\t67\t68\n",
       "\t67\t4\tH7\t2\t1.007947\t0.0382\t0\t1\t68\n",
       "\t\t\t\t\t\t\t\t\t\t2\t69\t70\n",
       "\t68\t4\tH8\t2\t1.007947\t0.0382\t0\t0\n",
       "\t\t\t\t\t\t\t\t\t\t2\t69\t70\n",
       "\t69\t4\tH9\t2\t1.007947\t0.0382\t0\t1\t70\n",
       "\t\t\t\t\t\t\t\t\t\t2\t71\t72\n",
       "\t70\t4\tH10\t2\t1.007947\t0.0382\t0\t0\n",
       "\t\t\t\t\t\t\t\t\t\t2\t71\t72\n",
       "\t71\t4\tH11\t2\t1.007947\t0.0382\t0\t1\t72\n",
       "\t\t\t\t\t\t\t\t\t\t0\n",
       "\t72\t4\tH12\t2\t1.007947\t0.0382\t1\t0\n",
       "\t\t\t\t\t\t\t\t\t\t0\n",
       "\t73\t5\tC1\t1\t12.01078\t-0.0764\t0\t10\t74\t75\t77\t78\t79\t80\n",
       "\t\t\t\t\t\t\t\t\t\t\t81\t82\t89\t90\n",
       "\t\t\t\t\t\t\t\t\t\t5\t76\t83\t84\t87\t88\n",
       "\t74\t5\tC2\t1\t12.01078\t-0.0764\t0\t9\t75\t76\t78\t79\t80\t81\n",
       "\t\t\t\t\t\t\t\t\t\t\t82\t83\t84\n",
       "\t\t\t\t\t\t\t\t\t\t5\t77\t85\t86\t89\t90\n",
       "\t75\t5\tC3\t1\t12.01078\t-0.0764\t0\t8\t76\t77\t81\t82\t83\t84\n",
       "\t\t\t\t\t\t\t\t\t\t\t85\t86\n",
       "\t\t\t\t\t\t\t\t\t\t5\t78\t79\t80\t87\t88\n",
       "\t76\t5\tC4\t1\t12.01078\t-0.0764\t0\t8\t77\t78\t83\t84\t85\t86\n",
       "\t\t\t\t\t\t\t\t\t\t\t87\t88\n",
       "\t\t\t\t\t\t\t\t\t\t4\t81\t82\t89\t90\n",
       "\t77\t5\tC5\t1\t12.01078\t-0.0764\t0\t7\t78\t85\t86\t87\t88\t89\n",
       "\t\t\t\t\t\t\t\t\t\t\t90\n",
       "\t\t\t\t\t\t\t\t\t\t4\t79\t80\t83\t84\n",
       "\t78\t5\tC6\t1\t12.01078\t-0.0764\t0\t6\t79\t80\t87\t88\t89\t90\n",
       "\t\t\t\t\t\t\t\t\t\t4\t81\t82\t85\t86\n",
       "\t79\t5\tH1\t2\t1.007947\t0.0382\t0\t1\t80\n",
       "\t\t\t\t\t\t\t\t\t\t4\t81\t82\t89\t90\n",
       "\t80\t5\tH2\t2\t1.007947\t0.0382\t0\t0\n",
       "\t\t\t\t\t\t\t\t\t\t4\t81\t82\t89\t90\n",
       "\t81\t5\tH3\t2\t1.007947\t0.0382\t0\t1\t82\n",
       "\t\t\t\t\t\t\t\t\t\t2\t83\t84\n",
       "\t82\t5\tH4\t2\t1.007947\t0.0382\t0\t0\n",
       "\t\t\t\t\t\t\t\t\t\t2\t83\t84\n",
       "\t83\t5\tH5\t2\t1.007947\t0.0382\t0\t1\t84\n",
       "\t\t\t\t\t\t\t\t\t\t2\t85\t86\n",
       "\t84\t5\tH6\t2\t1.007947\t0.0382\t0\t0\n",
       "\t\t\t\t\t\t\t\t\t\t2\t85\t86\n",
       "\t85\t5\tH7\t2\t1.007947\t0.0382\t0\t1\t86\n",
       "\t\t\t\t\t\t\t\t\t\t2\t87\t88\n",
       "\t86\t5\tH8\t2\t1.007947\t0.0382\t0\t0\n",
       "\t\t\t\t\t\t\t\t\t\t2\t87\t88\n",
       "\t87\t5\tH9\t2\t1.007947\t0.0382\t0\t1\t88\n",
       "\t\t\t\t\t\t\t\t\t\t2\t89\t90\n",
       "\t88\t5\tH10\t2\t1.007947\t0.0382\t0\t0\n",
       "\t\t\t\t\t\t\t\t\t\t2\t89\t90\n",
       "\t89\t5\tH11\t2\t1.007947\t0.0382\t0\t1\t90\n",
       "\t\t\t\t\t\t\t\t\t\t0\n",
       "\t90\t5\tH12\t2\t1.007947\t0.0382\t1\t0\n",
       "\t\t\t\t\t\t\t\t\t\t0\n",
       "\t91\t6\tC1\t1\t12.01078\t-0.0764\t0\t10\t92\t93\t95\t96\t97\t98\n",
       "\t\t\t\t\t\t\t\t\t\t\t99\t100\t107\t108\n",
       "\t\t\t\t\t\t\t\t\t\t5\t94\t101\t102\t105\t106\n",
       "\t92\t6\tC2\t1\t12.01078\t-0.0764\t0\t9\t93\t94\t96\t97\t98\t99\n",
       "\t\t\t\t\t\t\t\t\t\t\t100\t101\t102\n",
       "\t\t\t\t\t\t\t\t\t\t5\t95\t103\t104\t107\t108\n",
       "\t93\t6\tC3\t1\t12.01078\t-0.0764\t0\t8\t94\t95\t99\t100\t101\t102\n",
       "\t\t\t\t\t\t\t\t\t\t\t103\t104\n",
       "\t\t\t\t\t\t\t\t\t\t5\t96\t97\t98\t105\t106\n",
       "\t94\t6\tC4\t1\t12.01078\t-0.0764\t0\t8\t95\t96\t101\t102\t103\t104\n",
       "\t\t\t\t\t\t\t\t\t\t\t105\t106\n",
       "\t\t\t\t\t\t\t\t\t\t4\t99\t100\t107\t108\n",
       "\t95\t6\tC5\t1\t12.01078\t-0.0764\t0\t7\t96\t103\t104\t105\t106\t107\n",
       "\t\t\t\t\t\t\t\t\t\t\t108\n",
       "\t\t\t\t\t\t\t\t\t\t4\t97\t98\t101\t102\n",
       "\t96\t6\tC6\t1\t12.01078\t-0.0764\t0\t6\t97\t98\t105\t106\t107\t108\n",
       "\t\t\t\t\t\t\t\t\t\t4\t99\t100\t103\t104\n",
       "\t97\t6\tH1\t2\t1.007947\t0.0382\t0\t1\t98\n",
       "\t\t\t\t\t\t\t\t\t\t4\t99\t100\t107\t108\n",
       "\t98\t6\tH2\t2\t1.007947\t0.0382\t0\t0\n",
       "\t\t\t\t\t\t\t\t\t\t4\t99\t100\t107\t108\n",
       "\t99\t6\tH3\t2\t1.007947\t0.0382\t0\t1\t100\n",
       "\t\t\t\t\t\t\t\t\t\t2\t101\t102\n",
       "\t100\t6\tH4\t2\t1.007947\t0.0382\t0\t0\n",
       "\t\t\t\t\t\t\t\t\t\t2\t101\t102\n",
       "\t101\t6\tH5\t2\t1.007947\t0.0382\t0\t1\t102\n",
       "\t\t\t\t\t\t\t\t\t\t2\t103\t104\n",
       "\t102\t6\tH6\t2\t1.007947\t0.0382\t0\t0\n",
       "\t\t\t\t\t\t\t\t\t\t2\t103\t104\n",
       "\t103\t6\tH7\t2\t1.007947\t0.0382\t0\t1\t104\n",
       "\t\t\t\t\t\t\t\t\t\t2\t105\t106\n",
       "\t104\t6\tH8\t2\t1.007947\t0.0382\t0\t0\n",
       "\t\t\t\t\t\t\t\t\t\t2\t105\t106\n",
       "\t105\t6\tH9\t2\t1.007947\t0.0382\t0\t1\t106\n",
       "\t\t\t\t\t\t\t\t\t\t2\t107\t108\n",
       "\t106\t6\tH10\t2\t1.007947\t0.0382\t0\t0\n",
       "\t\t\t\t\t\t\t\t\t\t2\t107\t108\n",
       "\t107\t6\tH11\t2\t1.007947\t0.0382\t0\t1\t108\n",
       "\t\t\t\t\t\t\t\t\t\t0\n",
       "\t108\t6\tH12\t2\t1.007947\t0.0382\t1\t0\n",
       "\t\t\t\t\t\t\t\t\t\t0\n",
       "\t109\t7\tC1\t1\t12.01078\t-0.0764\t0\t10\t110\t111\t113\t114\t115\t116\n",
       "\t\t\t\t\t\t\t\t\t\t\t117\t118\t125\t126\n",
       "\t\t\t\t\t\t\t\t\t\t5\t112\t119\t120\t123\t124\n",
       "\t110\t7\tC2\t1\t12.01078\t-0.0764\t0\t9\t111\t112\t114\t115\t116\t117\n",
       "\t\t\t\t\t\t\t\t\t\t\t118\t119\t120\n",
       "\t\t\t\t\t\t\t\t\t\t5\t113\t121\t122\t125\t126\n",
       "\t111\t7\tC3\t1\t12.01078\t-0.0764\t0\t8\t112\t113\t117\t118\t119\t120\n",
       "\t\t\t\t\t\t\t\t\t\t\t121\t122\n",
       "\t\t\t\t\t\t\t\t\t\t5\t114\t115\t116\t123\t124\n",
       "\t112\t7\tC4\t1\t12.01078\t-0.0764\t0\t8\t113\t114\t119\t120\t121\t122\n",
       "\t\t\t\t\t\t\t\t\t\t\t123\t124\n",
       "\t\t\t\t\t\t\t\t\t\t4\t117\t118\t125\t126\n",
       "\t113\t7\tC5\t1\t12.01078\t-0.0764\t0\t7\t114\t121\t122\t123\t124\t125\n",
       "\t\t\t\t\t\t\t\t\t\t\t126\n",
       "\t\t\t\t\t\t\t\t\t\t4\t115\t116\t119\t120\n",
       "\t114\t7\tC6\t1\t12.01078\t-0.0764\t0\t6\t115\t116\t123\t124\t125\t126\n",
       "\t\t\t\t\t\t\t\t\t\t4\t117\t118\t121\t122\n",
       "\t115\t7\tH1\t2\t1.007947\t0.0382\t0\t1\t116\n",
       "\t\t\t\t\t\t\t\t\t\t4\t117\t118\t125\t126\n",
       "\t116\t7\tH2\t2\t1.007947\t0.0382\t0\t0\n",
       "\t\t\t\t\t\t\t\t\t\t4\t117\t118\t125\t126\n",
       "\t117\t7\tH3\t2\t1.007947\t0.0382\t0\t1\t118\n",
       "\t\t\t\t\t\t\t\t\t\t2\t119\t120\n",
       "\t118\t7\tH4\t2\t1.007947\t0.0382\t0\t0\n",
       "\t\t\t\t\t\t\t\t\t\t2\t119\t120\n",
       "\t119\t7\tH5\t2\t1.007947\t0.0382\t0\t1\t120\n",
       "\t\t\t\t\t\t\t\t\t\t2\t121\t122\n",
       "\t120\t7\tH6\t2\t1.007947\t0.0382\t0\t0\n",
       "\t\t\t\t\t\t\t\t\t\t2\t121\t122\n",
       "\t121\t7\tH7\t2\t1.007947\t0.0382\t0\t1\t122\n",
       "\t\t\t\t\t\t\t\t\t\t2\t123\t124\n",
       "\t122\t7\tH8\t2\t1.007947\t0.0382\t0\t0\n",
       "\t\t\t\t\t\t\t\t\t\t2\t123\t124\n",
       "\t123\t7\tH9\t2\t1.007947\t0.0382\t0\t1\t124\n",
       "\t\t\t\t\t\t\t\t\t\t2\t125\t126\n",
       "\t124\t7\tH10\t2\t1.007947\t0.0382\t0\t0\n",
       "\t\t\t\t\t\t\t\t\t\t2\t125\t126\n",
       "\t125\t7\tH11\t2\t1.007947\t0.0382\t0\t1\t126\n",
       "\t\t\t\t\t\t\t\t\t\t0\n",
       "\t126\t7\tH12\t2\t1.007947\t0.0382\t1\t0\n",
       "\t\t\t\t\t\t\t\t\t\t0\n",
       "\t127\t8\tC1\t1\t12.01078\t-0.0764\t0\t10\t128\t129\t131\t132\t133\t134\n",
       "\t\t\t\t\t\t\t\t\t\t\t135\t136\t143\t144\n",
       "\t\t\t\t\t\t\t\t\t\t5\t130\t137\t138\t141\t142\n",
       "\t128\t8\tC2\t1\t12.01078\t-0.0764\t0\t9\t129\t130\t132\t133\t134\t135\n",
       "\t\t\t\t\t\t\t\t\t\t\t136\t137\t138\n",
       "\t\t\t\t\t\t\t\t\t\t5\t131\t139\t140\t143\t144\n",
       "\t129\t8\tC3\t1\t12.01078\t-0.0764\t0\t8\t130\t131\t135\t136\t137\t138\n",
       "\t\t\t\t\t\t\t\t\t\t\t139\t140\n",
       "\t\t\t\t\t\t\t\t\t\t5\t132\t133\t134\t141\t142\n",
       "\t130\t8\tC4\t1\t12.01078\t-0.0764\t0\t8\t131\t132\t137\t138\t139\t140\n",
       "\t\t\t\t\t\t\t\t\t\t\t141\t142\n",
       "\t\t\t\t\t\t\t\t\t\t4\t135\t136\t143\t144\n",
       "\t131\t8\tC5\t1\t12.01078\t-0.0764\t0\t7\t132\t139\t140\t141\t142\t143\n",
       "\t\t\t\t\t\t\t\t\t\t\t144\n",
       "\t\t\t\t\t\t\t\t\t\t4\t133\t134\t137\t138\n",
       "\t132\t8\tC6\t1\t12.01078\t-0.0764\t0\t6\t133\t134\t141\t142\t143\t144\n",
       "\t\t\t\t\t\t\t\t\t\t4\t135\t136\t139\t140\n",
       "\t133\t8\tH1\t2\t1.007947\t0.0382\t0\t1\t134\n",
       "\t\t\t\t\t\t\t\t\t\t4\t135\t136\t143\t144\n",
       "\t134\t8\tH2\t2\t1.007947\t0.0382\t0\t0\n",
       "\t\t\t\t\t\t\t\t\t\t4\t135\t136\t143\t144\n",
       "\t135\t8\tH3\t2\t1.007947\t0.0382\t0\t1\t136\n",
       "\t\t\t\t\t\t\t\t\t\t2\t137\t138\n",
       "\t136\t8\tH4\t2\t1.007947\t0.0382\t0\t0\n",
       "\t\t\t\t\t\t\t\t\t\t2\t137\t138\n",
       "\t137\t8\tH5\t2\t1.007947\t0.0382\t0\t1\t138\n",
       "\t\t\t\t\t\t\t\t\t\t2\t139\t140\n",
       "\t138\t8\tH6\t2\t1.007947\t0.0382\t0\t0\n",
       "\t\t\t\t\t\t\t\t\t\t2\t139\t140\n",
       "\t139\t8\tH7\t2\t1.007947\t0.0382\t0\t1\t140\n",
       "\t\t\t\t\t\t\t\t\t\t2\t141\t142\n",
       "\t140\t8\tH8\t2\t1.007947\t0.0382\t0\t0\n",
       "\t\t\t\t\t\t\t\t\t\t2\t141\t142\n",
       "\t141\t8\tH9\t2\t1.007947\t0.0382\t0\t1\t142\n",
       "\t\t\t\t\t\t\t\t\t\t2\t143\t144\n",
       "\t142\t8\tH10\t2\t1.007947\t0.0382\t0\t0\n",
       "\t\t\t\t\t\t\t\t\t\t2\t143\t144\n",
       "\t143\t8\tH11\t2\t1.007947\t0.0382\t0\t1\t144\n",
       "\t\t\t\t\t\t\t\t\t\t0\n",
       "\t144\t8\tH12\t2\t1.007947\t0.0382\t1\t0\n",
       "\t\t\t\t\t\t\t\t\t\t0\n",
       "\t145\t9\tC1\t1\t12.01078\t-0.0764\t0\t10\t146\t147\t149\t150\t151\t152\n",
       "\t\t\t\t\t\t\t\t\t\t\t153\t154\t161\t162\n",
       "\t\t\t\t\t\t\t\t\t\t5\t148\t155\t156\t159\t160\n",
       "\t146\t9\tC2\t1\t12.01078\t-0.0764\t0\t9\t147\t148\t150\t151\t152\t153\n",
       "\t\t\t\t\t\t\t\t\t\t\t154\t155\t156\n",
       "\t\t\t\t\t\t\t\t\t\t5\t149\t157\t158\t161\t162\n",
       "\t147\t9\tC3\t1\t12.01078\t-0.0764\t0\t8\t148\t149\t153\t154\t155\t156\n",
       "\t\t\t\t\t\t\t\t\t\t\t157\t158\n",
       "\t\t\t\t\t\t\t\t\t\t5\t150\t151\t152\t159\t160\n",
       "\t148\t9\tC4\t1\t12.01078\t-0.0764\t0\t8\t149\t150\t155\t156\t157\t158\n",
       "\t\t\t\t\t\t\t\t\t\t\t159\t160\n",
       "\t\t\t\t\t\t\t\t\t\t4\t153\t154\t161\t162\n",
       "\t149\t9\tC5\t1\t12.01078\t-0.0764\t0\t7\t150\t157\t158\t159\t160\t161\n",
       "\t\t\t\t\t\t\t\t\t\t\t162\n",
       "\t\t\t\t\t\t\t\t\t\t4\t151\t152\t155\t156\n",
       "\t150\t9\tC6\t1\t12.01078\t-0.0764\t0\t6\t151\t152\t159\t160\t161\t162\n",
       "\t\t\t\t\t\t\t\t\t\t4\t153\t154\t157\t158\n",
       "\t151\t9\tH1\t2\t1.007947\t0.0382\t0\t1\t152\n",
       "\t\t\t\t\t\t\t\t\t\t4\t153\t154\t161\t162\n",
       "\t152\t9\tH2\t2\t1.007947\t0.0382\t0\t0\n",
       "\t\t\t\t\t\t\t\t\t\t4\t153\t154\t161\t162\n",
       "\t153\t9\tH3\t2\t1.007947\t0.0382\t0\t1\t154\n",
       "\t\t\t\t\t\t\t\t\t\t2\t155\t156\n",
       "\t154\t9\tH4\t2\t1.007947\t0.0382\t0\t0\n",
       "\t\t\t\t\t\t\t\t\t\t2\t155\t156\n",
       "\t155\t9\tH5\t2\t1.007947\t0.0382\t0\t1\t156\n",
       "\t\t\t\t\t\t\t\t\t\t2\t157\t158\n",
       "\t156\t9\tH6\t2\t1.007947\t0.0382\t0\t0\n",
       "\t\t\t\t\t\t\t\t\t\t2\t157\t158\n",
       "\t157\t9\tH7\t2\t1.007947\t0.0382\t0\t1\t158\n",
       "\t\t\t\t\t\t\t\t\t\t2\t159\t160\n",
       "\t158\t9\tH8\t2\t1.007947\t0.0382\t0\t0\n",
       "\t\t\t\t\t\t\t\t\t\t2\t159\t160\n",
       "\t159\t9\tH9\t2\t1.007947\t0.0382\t0\t1\t160\n",
       "\t\t\t\t\t\t\t\t\t\t2\t161\t162\n",
       "\t160\t9\tH10\t2\t1.007947\t0.0382\t0\t0\n",
       "\t\t\t\t\t\t\t\t\t\t2\t161\t162\n",
       "\t161\t9\tH11\t2\t1.007947\t0.0382\t0\t1\t162\n",
       "\t\t\t\t\t\t\t\t\t\t0\n",
       "\t162\t9\tH12\t2\t1.007947\t0.0382\t1\t0\n",
       "\t\t\t\t\t\t\t\t\t\t0\n",
       "\t163\t10\tC1\t1\t12.01078\t-0.0764\t0\t10\t164\t165\t167\t168\t169\t170\n",
       "\t\t\t\t\t\t\t\t\t\t\t171\t172\t179\t180\n",
       "\t\t\t\t\t\t\t\t\t\t5\t166\t173\t174\t177\t178\n",
       "\t164\t10\tC2\t1\t12.01078\t-0.0764\t0\t9\t165\t166\t168\t169\t170\t171\n",
       "\t\t\t\t\t\t\t\t\t\t\t172\t173\t174\n",
       "\t\t\t\t\t\t\t\t\t\t5\t167\t175\t176\t179\t180\n",
       "\t165\t10\tC3\t1\t12.01078\t-0.0764\t0\t8\t166\t167\t171\t172\t173\t174\n",
       "\t\t\t\t\t\t\t\t\t\t\t175\t176\n",
       "\t\t\t\t\t\t\t\t\t\t5\t168\t169\t170\t177\t178\n",
       "\t166\t10\tC4\t1\t12.01078\t-0.0764\t0\t8\t167\t168\t173\t174\t175\t176\n",
       "\t\t\t\t\t\t\t\t\t\t\t177\t178\n",
       "\t\t\t\t\t\t\t\t\t\t4\t171\t172\t179\t180\n",
       "\t167\t10\tC5\t1\t12.01078\t-0.0764\t0\t7\t168\t175\t176\t177\t178\t179\n",
       "\t\t\t\t\t\t\t\t\t\t\t180\n",
       "\t\t\t\t\t\t\t\t\t\t4\t169\t170\t173\t174\n",
       "\t168\t10\tC6\t1\t12.01078\t-0.0764\t0\t6\t169\t170\t177\t178\t179\t180\n",
       "\t\t\t\t\t\t\t\t\t\t4\t171\t172\t175\t176\n",
       "\t169\t10\tH1\t2\t1.007947\t0.0382\t0\t1\t170\n",
       "\t\t\t\t\t\t\t\t\t\t4\t171\t172\t179\t180\n",
       "\t170\t10\tH2\t2\t1.007947\t0.0382\t0\t0\n",
       "\t\t\t\t\t\t\t\t\t\t4\t171\t172\t179\t180\n",
       "\t171\t10\tH3\t2\t1.007947\t0.0382\t0\t1\t172\n",
       "\t\t\t\t\t\t\t\t\t\t2\t173\t174\n",
       "\t172\t10\tH4\t2\t1.007947\t0.0382\t0\t0\n",
       "\t\t\t\t\t\t\t\t\t\t2\t173\t174\n",
       "\t173\t10\tH5\t2\t1.007947\t0.0382\t0\t1\t174\n",
       "\t\t\t\t\t\t\t\t\t\t2\t175\t176\n",
       "\t174\t10\tH6\t2\t1.007947\t0.0382\t0\t0\n",
       "\t\t\t\t\t\t\t\t\t\t2\t175\t176\n",
       "\t175\t10\tH7\t2\t1.007947\t0.0382\t0\t1\t176\n",
       "\t\t\t\t\t\t\t\t\t\t2\t177\t178\n",
       "\t176\t10\tH8\t2\t1.007947\t0.0382\t0\t0\n",
       "\t\t\t\t\t\t\t\t\t\t2\t177\t178\n",
       "\t177\t10\tH9\t2\t1.007947\t0.0382\t0\t1\t178\n",
       "\t\t\t\t\t\t\t\t\t\t2\t179\t180\n",
       "\t178\t10\tH10\t2\t1.007947\t0.0382\t0\t0\n",
       "\t\t\t\t\t\t\t\t\t\t2\t179\t180\n",
       "\t179\t10\tH11\t2\t1.007947\t0.0382\t0\t1\t180\n",
       "\t\t\t\t\t\t\t\t\t\t0\n",
       "\t180\t10\tH12\t2\t1.007947\t0.0382\t1\t0\n",
       "\t\t\t\t\t\t\t\t\t\t0\n",
       "\t181\t11\tC1\t3\t12.01078\t-0.13099993333333335\t0\t7\t182\t183\t185\t186\t187\t188\n",
       "\t\t\t\t\t\t\t\t\t\t\t189\n",
       "\t\t\t\t\t\t\t\t\t\t6\t184\t190\t192\t193\t194\t195\n",
       "\t182\t11\tC2\t3\t12.01078\t-0.12699993333333334\t0\t6\t183\t184\t186\t188\t189\t190\n",
       "\t\t\t\t\t\t\t\t\t\t3\t185\t187\t191\n",
       "\t183\t11\tC3\t3\t12.01078\t-0.13499993333333335\t0\t5\t184\t185\t189\t190\t191\n",
       "\t\t\t\t\t\t\t\t\t\t3\t186\t188\t192\n",
       "\t184\t11\tC4\t3\t12.01078\t-0.12699993333333334\t0\t5\t185\t186\t190\t191\t192\n",
       "\t\t\t\t\t\t\t\t\t\t2\t187\t189\n",
       "\t185\t11\tC5\t3\t12.01078\t-0.13099993333333335\t0\t4\t186\t187\t191\t192\n",
       "\t\t\t\t\t\t\t\t\t\t5\t188\t190\t193\t194\t195\n",
       "\t186\t11\tC6\t3\t12.01078\t-0.07729993333333333\t0\t6\t187\t188\t192\t193\t194\t195\n",
       "\t\t\t\t\t\t\t\t\t\t2\t189\t191\n",
       "\t187\t11\tC7\t1\t12.01078\t-0.053799933333333334\t0\t3\t193\t194\t195\n",
       "\t\t\t\t\t\t\t\t\t\t2\t188\t192\n",
       "\t188\t11\tH1\t4\t1.007947\t0.13000006666666666\t0\t0\n",
       "\t\t\t\t\t\t\t\t\t\t1\t189\n",
       "\t189\t11\tH2\t4\t1.007947\t0.13000006666666666\t0\t0\n",
       "\t\t\t\t\t\t\t\t\t\t1\t190\n",
       "\t190\t11\tH3\t4\t1.007947\t0.13000006666666666\t0\t0\n",
       "\t\t\t\t\t\t\t\t\t\t1\t191\n",
       "\t191\t11\tH4\t4\t1.007947\t0.13000006666666666\t0\t0\n",
       "\t\t\t\t\t\t\t\t\t\t1\t192\n",
       "\t192\t11\tH5\t4\t1.007947\t0.13000006666666666\t0\t0\n",
       "\t\t\t\t\t\t\t\t\t\t0\n",
       "\t193\t11\tH6\t2\t1.007947\t0.04403306666666667\t0\t2\t194\t195\n",
       "\t\t\t\t\t\t\t\t\t\t0\n",
       "\t194\t11\tH7\t2\t1.007947\t0.04403306666666667\t0\t1\t195\n",
       "\t\t\t\t\t\t\t\t\t\t0\n",
       "\t195\t11\tH8\t2\t1.007947\t0.04403306666666667\t1\t0\n",
       "\t\t\t\t\t\t\t\t\t\t0\n",
       "\t196\t12\tXX\t5\t1.0\t1\t1\t0\n",
       "\t\t\t\t\t\t\t\t\t\t0\n",
       "END"
      ]
     },
     "execution_count": 21,
     "metadata": {},
     "output_type": "execute_result"
    }
   ],
   "source": [
    "grosys.top.SOLUTEATOM"
   ]
  },
  {
   "cell_type": "code",
   "execution_count": 22,
   "metadata": {
    "execution": {
     "iopub.execute_input": "2022-04-06T12:11:05.048353Z",
     "iopub.status.busy": "2022-04-06T12:11:05.048059Z",
     "iopub.status.idle": "2022-04-06T12:11:05.057859Z",
     "shell.execute_reply": "2022-04-06T12:11:05.057014Z"
    }
   },
   "outputs": [
    {
     "name": "stdout",
     "output_type": "stream",
     "text": [
      "File imd is empty , can not be written!\n"
     ]
    },
    {
     "name": "stderr",
     "output_type": "stream",
     "text": [
      "/home/mlehner/PyGromosTools/pygromos/files/gromos_system/gromos_system.py:869: UserWarning: Did not change file path as its only promised None\n",
      "  warnings.warn(\"Did not change file path as its only promised \" + str(file_obj.path))\n"
     ]
    }
   ],
   "source": [
    "grosys.rebase_files()"
   ]
  },
  {
   "cell_type": "code",
   "execution_count": null,
   "metadata": {},
   "outputs": [],
   "source": []
  }
 ],
 "metadata": {
  "interpreter": {
   "hash": "b1b7b2ea43b8e767316eee98e01335d045804d2d47db68b6a5827e187ee91a7e"
  },
  "kernelspec": {
   "display_name": "Python 3.9.7 ('pygro2')",
   "language": "python",
   "name": "python3"
  },
  "language_info": {
   "codemirror_mode": {
    "name": "ipython",
    "version": 3
   },
   "file_extension": ".py",
   "mimetype": "text/x-python",
   "name": "python",
   "nbconvert_exporter": "python",
   "pygments_lexer": "ipython3",
   "version": "3.9.7"
  },
  "widgets": {
   "application/vnd.jupyter.widget-state+json": {
    "state": {
     "724854a4503647cdbbfa2d1bcab30e5c": {
      "model_module": "@jupyter-widgets/base",
      "model_module_version": "1.2.0",
      "model_name": "LayoutModel",
      "state": {
       "_model_module": "@jupyter-widgets/base",
       "_model_module_version": "1.2.0",
       "_model_name": "LayoutModel",
       "_view_count": null,
       "_view_module": "@jupyter-widgets/base",
       "_view_module_version": "1.2.0",
       "_view_name": "LayoutView",
       "align_content": null,
       "align_items": null,
       "align_self": null,
       "border": null,
       "bottom": null,
       "display": null,
       "flex": null,
       "flex_flow": null,
       "grid_area": null,
       "grid_auto_columns": null,
       "grid_auto_flow": null,
       "grid_auto_rows": null,
       "grid_column": null,
       "grid_gap": null,
       "grid_row": null,
       "grid_template_areas": null,
       "grid_template_columns": null,
       "grid_template_rows": null,
       "height": null,
       "justify_content": null,
       "justify_items": null,
       "left": null,
       "margin": null,
       "max_height": null,
       "max_width": null,
       "min_height": null,
       "min_width": null,
       "object_fit": null,
       "object_position": null,
       "order": null,
       "overflow": null,
       "overflow_x": null,
       "overflow_y": null,
       "padding": null,
       "right": null,
       "top": null,
       "visibility": null,
       "width": null
      }
     },
     "7cb687fa3d7f4b1381bc61022ffc2a09": {
      "model_module": "nglview-js-widgets",
      "model_module_version": "3.0.1",
      "model_name": "ColormakerRegistryModel",
      "state": {
       "_dom_classes": [],
       "_model_module": "nglview-js-widgets",
       "_model_module_version": "3.0.1",
       "_model_name": "ColormakerRegistryModel",
       "_msg_ar": [],
       "_msg_q": [],
       "_ready": false,
       "_view_count": null,
       "_view_module": "nglview-js-widgets",
       "_view_module_version": "3.0.1",
       "_view_name": "ColormakerRegistryView",
       "layout": "IPY_MODEL_724854a4503647cdbbfa2d1bcab30e5c"
      }
     }
    },
    "version_major": 2,
    "version_minor": 0
   }
  }
 },
 "nbformat": 4,
 "nbformat_minor": 2
}
