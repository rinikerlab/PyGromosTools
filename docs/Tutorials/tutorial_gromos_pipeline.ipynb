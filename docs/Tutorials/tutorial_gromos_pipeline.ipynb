{
 "cells": [
  {
   "cell_type": "markdown",
   "metadata": {
    "pycharm": {
     "name": "#%% md\n"
    }
   },
   "source": [
    "# Gromos Tutorial\n",
    "This tutorial will provide a quick introduction to how to setup, perform and analyze a MD simulation of a peptide in Gromos.\n",
    "\n",
    "First we will generated the required input files, afterwards the simulation will be prepared with energy minimizations and equilibration.\n",
    "Finally a short MD simulation will be executed and quickly analyzed.\n",
    "\n",
    "But first some minor definitions will be prepared."
   ]
  },
  {
   "cell_type": "code",
   "execution_count": 1,
   "metadata": {
    "execution": {
     "iopub.execute_input": "2022-03-31T19:26:44.412284Z",
     "iopub.status.busy": "2022-03-31T19:26:44.410508Z",
     "iopub.status.idle": "2022-03-31T19:26:45.179351Z",
     "shell.execute_reply": "2022-03-31T19:26:45.177507Z"
    }
   },
   "outputs": [],
   "source": [
    "import os\n",
    "# Check if the path to this pacakge is set, else try to add it.\n",
    "try:\n",
    "    import pygromos\n",
    "except:\n",
    "    import os, sys, copy\n",
    "    root_dir = os.getcwd()\n",
    "    sys.path.append(root_dir+\"/..\")\n",
    "\n",
    "    #if package is not installed and path not set correct - this helps you out :)\n",
    "    import pygromos\n",
    "\n",
    "from pygromos.utils import bash\n"
   ]
  },
  {
   "cell_type": "code",
   "execution_count": 2,
   "metadata": {
    "execution": {
     "iopub.execute_input": "2022-03-31T19:26:45.185692Z",
     "iopub.status.busy": "2022-03-31T19:26:45.184982Z",
     "iopub.status.idle": "2022-03-31T19:26:45.199506Z",
     "shell.execute_reply": "2022-03-31T19:26:45.197799Z"
    }
   },
   "outputs": [],
   "source": [
    "#General path definitions:\n",
    "## Project dir - The project dir will contain  all files and results generated from this notebook. \n",
    "project_dir = os.path.abspath(os.path.dirname(pygromos.__file__)+\"/../examples/example_files/Tutorial_System\")\n",
    "input_dir = project_dir+\"/input\" # contains prepared files (pdb of the peptide)\n",
    "\n",
    "## Gromos Bin Path\n",
    "gromosXX_bin = \"/home/bschroed/Documents/projects/gromosXX/gromosXX/build/bin\"\n",
    "gromosPP_bin = None #None uses the Path variable - can be used . if you require a specific compiled gromos version, add a path here.\n",
    "\n"
   ]
  },
  {
   "cell_type": "markdown",
   "metadata": {
    "pycharm": {
     "name": "#%% md\n"
    }
   },
   "source": [
    "## Build the input files\n",
    "When a simulation study of a particular system or process is to be carried out, a number of choices have to\n",
    "be made with respect to the set-up of the simulation. \n",
    "\n",
    "In PyGromosTools, the central hub to manage all these files is a GromosSystem object. Each file can be stored or generated with this object and it can be used to construct the system, that should be simulated.\n",
    "\n",
    "\n",
    "The essential files of a Simulation are:\n",
    "* a topology file, containing all the topological and force-field information of the molecular system to be studied.\n",
    "* a coordinate file, representing the system of interest.\n",
    "* a simulation parameter file, telling the simulation engine, which simulation technique should be used and which physical parameters should be set.\n",
    "  \n"
   ]
  },
  {
   "cell_type": "code",
   "execution_count": 3,
   "metadata": {
    "execution": {
     "iopub.execute_input": "2022-03-31T19:26:45.206528Z",
     "iopub.status.busy": "2022-03-31T19:26:45.205581Z",
     "iopub.status.idle": "2022-03-31T19:26:50.512715Z",
     "shell.execute_reply": "2022-03-31T19:26:50.510776Z"
    }
   },
   "outputs": [
    {
     "data": {
      "application/vnd.jupyter.widget-view+json": {
       "model_id": "0510be9c94334d1db60232e2545d4e9a",
       "version_major": 2,
       "version_minor": 0
      },
      "text/plain": []
     },
     "metadata": {},
     "output_type": "display_data"
    },
    {
     "name": "stderr",
     "output_type": "stream",
     "text": [
      "/home/mlehner/PyGromosTools/pygromos/files/gromos_system/gromos_system.py:869: UserWarning: Did not change file path as its only promised None\n",
      "  warnings.warn(\"Did not change file path as its only promised \" + str(file_obj.path))\n"
     ]
    }
   ],
   "source": [
    "from pygromos.files.gromos_system import Gromos_System\n",
    "\n",
    "# Build Gromos System object\n",
    "build_system = Gromos_System(work_folder=project_dir, system_name='peptide')\n",
    "\n",
    "#set file building folder\n",
    "build_system.work_folder = bash.make_folder(project_dir+\"/a_build_initial_files\")\n"
   ]
  },
  {
   "cell_type": "markdown",
   "metadata": {},
   "source": [
    "**Expert Tip**:\n",
    "Whenever you wonder about what a class or a function in our package does, you can use the standard help function of Python to get the information of the Docstring of the source code! This often helps understanding the code."
   ]
  },
  {
   "cell_type": "code",
   "execution_count": 4,
   "metadata": {
    "execution": {
     "iopub.execute_input": "2022-03-31T19:26:50.520561Z",
     "iopub.status.busy": "2022-03-31T19:26:50.518092Z",
     "iopub.status.idle": "2022-03-31T19:26:50.562881Z",
     "shell.execute_reply": "2022-03-31T19:26:50.561468Z"
    }
   },
   "outputs": [
    {
     "name": "stdout",
     "output_type": "stream",
     "text": [
      "Help on Gromos_System in module pygromos.files.gromos_system.gromos_system object:\n",
      "\n",
      "class Gromos_System(builtins.object)\n",
      " |  Gromos_System(work_folder: str, system_name: str, rdkitMol: rdkit.Chem.rdchem.Mol = None, in_mol2_file: str = None, readIn: bool = True, forcefield: pygromos.files.forcefield._generic_force_field._generic_force_field = <pygromos.files.forcefield._generic_force_field._generic_force_field object at 0x7f3ac20207f0>, auto_convert: bool = False, adapt_imd_automatically: bool = True, verbose: bool = False, in_smiles: str = None, in_residue_list: List = None, in_top_path: str = None, in_cnf_path: str = None, in_imd_path: str = None, in_disres_path: str = None, in_ptp_path: str = None, in_posres_path: str = None, in_refpos_path: str = None, in_qmmm_path: str = None, in_gromosXX_bin_dir: str = None, in_gromosPP_bin_dir: str = None)\n",
      " |  \n",
      " |  Methods defined here:\n",
      " |  \n",
      " |  __deepcopy__(self, memo)\n",
      " |  \n",
      " |  __getstate__(self)\n",
      " |      preperation for pickling:\n",
      " |      remove the non trivial pickling parts\n",
      " |  \n",
      " |  __init__(self, work_folder: str, system_name: str, rdkitMol: rdkit.Chem.rdchem.Mol = None, in_mol2_file: str = None, readIn: bool = True, forcefield: pygromos.files.forcefield._generic_force_field._generic_force_field = <pygromos.files.forcefield._generic_force_field._generic_force_field object at 0x7f3ac20207f0>, auto_convert: bool = False, adapt_imd_automatically: bool = True, verbose: bool = False, in_smiles: str = None, in_residue_list: List = None, in_top_path: str = None, in_cnf_path: str = None, in_imd_path: str = None, in_disres_path: str = None, in_ptp_path: str = None, in_posres_path: str = None, in_refpos_path: str = None, in_qmmm_path: str = None, in_gromosXX_bin_dir: str = None, in_gromosPP_bin_dir: str = None)\n",
      " |          The Gromos_System class is the central unit of PyGromosTools for files and states.\n",
      " |          With this class all files can be read-in or the files can be automatically generated from smiles.\n",
      " |          Additionally to that can all gromos++ functions be used from the Gromos System, so system generation can be easily accomplished.\n",
      " |      \n",
      " |          if you want to remove all binary checks, do the following:\n",
      " |          >>> from pygromos.files.gromos_system.gromos_system import Gromos_System\n",
      " |          >>> Gromos_System._gromos_noBinary_checks = True\n",
      " |          >>> sys = Gromos_System()\n",
      " |      \n",
      " |      Parameters\n",
      " |      ----------\n",
      " |      work_folder : str\n",
      " |          This gives the initial working folder for the system.\n",
      " |      system_name : str\n",
      " |          the name of the system, also used as file prefix\n",
      " |      in_smiles : str, optional\n",
      " |          Molecule input SMILES for file generation, by default None\n",
      " |      in_top_path : str, optional\n",
      " |          input Gromos topology path (.top), by default None\n",
      " |      in_cnf_path : str, optional\n",
      " |          input Gromos coordinate path (.cnf), by default None\n",
      " |      in_imd_path : str, optional\n",
      " |          input Gromos simulation parameters path (.imd), by default None\n",
      " |      in_disres_path : str, optional\n",
      " |          input Gromos distance restraint path (.disres), by default None\n",
      " |      in_ptp_path : str, optional\n",
      " |          input pertubation file for free energy calculations (.ptp), by default None\n",
      " |      in_posres_path : str, optional\n",
      " |          input position restraints file (.por), by default None\n",
      " |      in_qmmm_path: str, optional\n",
      " |          qmmm parameter file (.qmmm), by default None\n",
      " |      in_refpos_path : str, optional\n",
      " |          input reference position file (.rpf), by default None\n",
      " |      in_gromosXX_bin_dir : str, optional\n",
      " |          path to the binary dir of GromosXX, by default None -> uses the set binaries in the PATH variable\n",
      " |      in_gromosPP_bin_dir : str, optional\n",
      " |          path to the binary dir of GromosPP, by default None -> uses the set binaries in the PATH variable\n",
      " |      rdkitMol : Chem.rdchem.Mol, optional\n",
      " |          input rdkit Molecule, by default None\n",
      " |      in_mol2_file : str, optional\n",
      " |          path to input mol2 file, by default None\n",
      " |      readIn : bool, optional\n",
      " |          readIn all provided files?, by default True\n",
      " |      Forcefield : forcefield_system, optional\n",
      " |          input PyGromos - forcefield Class , by default forcefield_system()\n",
      " |      auto_convert : bool, optional\n",
      " |          automatically convert rdkit MOL and smiles to gromos files, by default False\n",
      " |      adapt_imd_automatically : bool, optional\n",
      " |          adjust the input imd file to the GromosSystem, by default True\n",
      " |      verbose : bool, optional\n",
      " |          Stay a while and listen!, by default False\n",
      " |      \n",
      " |      Raises\n",
      " |      ------\n",
      " |      Warning\n",
      " |          Rises warning if files are not present.\n",
      " |  \n",
      " |  __repr__(self) -> str\n",
      " |      Return repr(self).\n",
      " |  \n",
      " |  __setstate__(self, state)\n",
      " |  \n",
      " |  __str__(self) -> str\n",
      " |      Return str(self).\n",
      " |  \n",
      " |  adapt_imd(self, not_ligand_residues: List[str] = [])\n",
      " |  \n",
      " |  auto_convert(self)\n",
      " |  \n",
      " |  copy(self)\n",
      " |  \n",
      " |  generate_posres(self, residues: List = [<class 'int'>], keep_residues: bool = True, verbose: bool = False)\n",
      " |  \n",
      " |  get_file_paths(self) -> Dict[str, str]\n",
      " |          get the paths of the files in a dict.\n",
      " |      Returns\n",
      " |      -------\n",
      " |      Dict[str, str]\n",
      " |          returns alle file paths, with attribute file name as key.\n",
      " |  \n",
      " |  get_script_generation_command(self, var_name: str = None, var_prefixes: str = '') -> str\n",
      " |  \n",
      " |  parse_attribute_files(self, file_mapping: Dict[str, str], readIn: bool = True, verbose: bool = False)\n",
      " |          This function sets dynamically builds the output folder, the file objs of this class and checks their dependencies.\n",
      " |      \n",
      " |      Parameters\n",
      " |      ----------\n",
      " |      file_mapping: Dict[str, Union[str, None]]\n",
      " |          attribute name: input path\n",
      " |      \n",
      " |      Returns\n",
      " |      -------\n",
      " |  \n",
      " |  prepare_for_simulation(self, not_ligand_residues: List[str] = [])\n",
      " |  \n",
      " |  rdkit2Gromos(self)\n",
      " |  \n",
      " |  rdkit2GromosName(self) -> str\n",
      " |  \n",
      " |  rdkitImport(self, inputMol: rdkit.Chem.rdchem.Mol)\n",
      " |  \n",
      " |  read_files(self, verbose: bool = False)\n",
      " |  \n",
      " |  rebase_files(self)\n",
      " |  \n",
      " |  save(self, path: Union[str, _io.FileIO] = None, safe: bool = True) -> str\n",
      " |      This method stores the Class as binary obj to a given path or fileBuffer.\n",
      " |  \n",
      " |  work_folder_no_update(self, work_folder: str)\n",
      " |      # Updates the work folder without updating all file paths\n",
      " |  \n",
      " |  write_files(self, cnf: bool = False, imd: bool = False, top: bool = False, ptp: bool = False, disres: bool = False, posres: bool = False, refpos: bool = False, qmmm: bool = False, mol: bool = False, all: bool = True, verbose: bool = False)\n",
      " |  \n",
      " |  ----------------------------------------------------------------------\n",
      " |  Class methods defined here:\n",
      " |  \n",
      " |  load(path: Union[str, _io.FileIO] = None) -> object from builtins.type\n",
      " |      This method stores the Class as binary obj to a given path or fileBuffer.\n",
      " |  \n",
      " |  ----------------------------------------------------------------------\n",
      " |  Readonly properties defined here:\n",
      " |  \n",
      " |  all_file_paths\n",
      " |      Returns\n",
      " |      -------\n",
      " |  \n",
      " |  all_files\n",
      " |      Returns\n",
      " |      -------\n",
      " |  \n",
      " |  ----------------------------------------------------------------------\n",
      " |  Data descriptors defined here:\n",
      " |  \n",
      " |  __dict__\n",
      " |      dictionary for instance variables (if defined)\n",
      " |  \n",
      " |  __weakref__\n",
      " |      list of weak references to the object (if defined)\n",
      " |  \n",
      " |  cnf\n",
      " |  \n",
      " |  disres\n",
      " |  \n",
      " |  gromosPP\n",
      " |  \n",
      " |  gromosPP_bin_dir\n",
      " |  \n",
      " |  gromosXX\n",
      " |  \n",
      " |  gromosXX_bin_dir\n",
      " |  \n",
      " |  imd\n",
      " |  \n",
      " |  name\n",
      " |  \n",
      " |  posres\n",
      " |  \n",
      " |  ptp\n",
      " |  \n",
      " |  qmmm\n",
      " |  \n",
      " |  refpos\n",
      " |  \n",
      " |  top\n",
      " |  \n",
      " |  trc\n",
      " |  \n",
      " |  tre\n",
      " |  \n",
      " |  work_folder\n",
      " |  \n",
      " |  ----------------------------------------------------------------------\n",
      " |  Data and other attributes defined here:\n",
      " |  \n",
      " |  __annotations__ = {'_checkpoint_path': <class 'str'>, '_future_promise...\n",
      " |  \n",
      " |  optional_files = {'disres': <class 'pygromos.files.topology.disres.Dis...\n",
      " |  \n",
      " |  required_files = {'cnf': <class 'pygromos.files.coord.cnf.Cnf'>, 'imd'...\n",
      " |  \n",
      " |  traj_files = {'trc': <class 'pygromos.files.trajectory.trc.Trc'>, 'tre...\n",
      "\n"
     ]
    }
   ],
   "source": [
    "help(build_system)"
   ]
  },
  {
   "cell_type": "markdown",
   "metadata": {},
   "source": [
    "### The Topology File\n",
    "The first task is to generate a molecular topology file containing the topological and force-field data concerning the molecular system under consideration. Specifying a complete molecular topology for a large molecule, however, is a tedious task.\n",
    "Therefore, in GROMOS a molecular topology is generated from molecular topology building blocks which carry the topological\n",
    "information of molecules like amino acid residues, nucleotides, etc., see Vol. 3. The molecular topology building blocks can be linked together into a complete molecular topology file using the GROMOS++ program *make_top*.\n",
    "\n",
    "Many molecular topology building blocks are available in the molecular topology building block files (*\\*.mtb*), which are standard data files that come together with the GROMOS package. \n",
    "\n",
    "\n",
    "In case the needed molecular topology building blocks are not part of the standard distribution, they must be constructed. \n",
    "Constructing a new topology building block may require estimation of additional force-field parameters, which have to be added to the interaction function parameter file (*\\*.ifp*).\n",
    " \n",
    "When generating a molecular topology for the system of interest one should also address the protonation state of the molecular groups according to the pH and of the solvent and counter ions that need to be included in the simulation box. \n",
    "In case of a molecular complex, e.g. a DNA-protein complex, the two separately generated molecular topologies for the protein and the DNA can be merged using the GROMOS++ program com top.\n",
    "\n",
    "\n",
    "\n",
    "#### Building the Topology File\n",
    "In this section you should build a molecular topology of a linear charged penta-peptide with water as a solvent, including two Cl− counter ions.\n",
    "\n",
    "**programs: make_top, check_top**\n",
    "\n",
    "##### build topology for single molecule\n",
    "You will build the molecular topology file of the linear charged penta-peptide Val-Tyr-Arg-Lys-Gln by\n",
    "using the GROMOS++ program *make_top*. As input following parameters will be provided:\n",
    "* **in_building_block_lib_path**: the molecular topology building block file is specified. In the code below, you will see, that we gather the forcefield information from the *Gromos54A7* force field, which is directly provided by PyGromosTools\n",
    "* **in_parameter_lib_path**: specifies the interaction function parameter file. Also here we take the parameters directly from the *Gromos54A7* forcefield from PyGromosTools.\n",
    "* **in_solvent**: The string name of the desired solvent.\n",
    "* **in_sequence**: the sequence of the building blocks for the amino acid residues, including the amino and carboxy terminus\n",
    "is specified (*NH3+ VAL TYR ARG LYSH GLN COO-*). (Notice that both termini are charged)"
   ]
  },
  {
   "cell_type": "code",
   "execution_count": 5,
   "metadata": {
    "execution": {
     "iopub.execute_input": "2022-03-31T19:26:50.568758Z",
     "iopub.status.busy": "2022-03-31T19:26:50.567889Z",
     "iopub.status.idle": "2022-03-31T19:26:50.843150Z",
     "shell.execute_reply": "2022-03-31T19:26:50.841392Z"
    }
   },
   "outputs": [
    {
     "data": {
      "text/plain": [
       "RESNAME\n",
       "5\n",
       "VAL\n",
       "TYR\n",
       "ARG\n",
       "LYSH\n",
       "GLN\n",
       "END"
      ]
     },
     "execution_count": 5,
     "metadata": {},
     "output_type": "execute_result"
    }
   ],
   "source": [
    "from pygromos.data.ff import Gromos54A7 #Get standard information of the GROMOS54A7 force field.\n",
    "\n",
    "#Generate the topology\n",
    "build_system.make_top(in_sequence=\"NH3+ VAL TYR ARG LYSH GLN COO-\",\n",
    "                     in_solvent=\"H2O\",\n",
    "                     in_building_block_lib_path = Gromos54A7.mtb,\n",
    "                     in_parameter_lib_path= Gromos54A7.ifp)\n",
    "\n",
    "#Here the residues in the topology file will be printed out :)  - this corresponds to the RESNAME Block in the topology file:\n",
    "build_system.top.RESNAME"
   ]
  },
  {
   "cell_type": "markdown",
   "metadata": {},
   "source": [
    "### The Coordinate File\n",
    "Coordinates for biomolecules are often available from X-ray or NMR experiments and can be obtained in\n",
    "*Protein Data Bank* (*PDB*) format, which can be converted to *GROMOS* format using the GROMOS++\n",
    "program *pdb2g96*. However, the conversion is not always straightforward since the naming and numbering\n",
    "of the atoms in the *PDB* format usually do not match the *GROMOS* format. \n",
    "\n",
    "Moreover, the coordinates for hydrogen atoms are not present in the *PDB* files \n",
    "(when the structure was determined using X-ray diffraction data) and have to be generated using the GROMOS++ program *gch*.\n",
    "\n",
    "When the structure is determined using NMR data, the PDB structure often contains more hydrogen atoms than are needed for GROMOS,\n",
    "as in the GROMOS force field only polar and aromatic hydrogens are explicitly represented. Aliphatic\n",
    "hydrogens are non-existing due to the use of so-called united atoms. The aliphatic hydrogen and carbon\n",
    "atoms are merged to form united atoms which have their own parameters. If no atomic coordinates for the\n",
    "solute are available from experimental data, the coordinates have to be generated using molecular modeling\n",
    "software. Often parts of the structure (e.g. flexible loops) are not resolved in the experiment and therefore\n",
    "not available in the PDB and have to be modeled as well. \n",
    "\n",
    "#### Periodic Boxes\n",
    "When a simulation of a solute in solution is to be carried out, a (periodic) box (be it rectangular, triclinic or truncated octahedral) is put around the solute\n",
    "and filled with solvent molecules up to the required density. The solvent coordinates can e.g. be generated using the GROMOS++ program sim box. The generated box should be sufficiently large to allow the use of a reasonable non-bonded interaction cut-off radius. Putting the solute in a box of solvent using the *sim_box* program will result in several high-energy atom-atom contacts at the solute-solvent interface and at the box edges. In order to relax the generated configuration the solvent configuration should be energy minimized while positionally restraining the solute. Counter-ion atomic coordinates can then be generated using the GROMOS++ program *ion*, which can replace a number of solvent molecules by ions.\n",
    "\n",
    "**programs: pdb2g96, gch**\n",
    "\n",
    "\n",
    "#### Building the Coordinate File\n",
    "The initial coordinate *.pdb* file is already provided in the *input* directory as *peptide.pdb*. \n",
    "Open the file *peptide.pdb* and check if the atom names match the names in the molecular topology object **SOLUTEATOM** block.\n",
    "In the pdb file *peptide.pdb* the coordinates for hydrogen atoms are not given and have to be generated.\n",
    "If the atom names are correct, you can continue in the second next cell by converting the *PDB* file *peptide.pdb* into the GROMOS format using the GROMOS++ program *pdb2g96*.\n",
    "The hydrogen atoms will be added to the coordinate file according to the topological requirements.\n",
    "\n",
    "***\n",
    "**Warning**: When converting coordinate files from the Protein Data Bank to GROMOS format many difficulties may emerge. If you encounter problems using the pdb2g96 program, have a look at Sec. 4-7.3. There you can find further documentation on the advanced usage of this program. Especially the use of a library\n",
    "that matches residue and atom names might be useful in many cases. pdb2g96.lib which you can find in the directory is an example of the PDB library file.\n",
    "***\n"
   ]
  },
  {
   "cell_type": "code",
   "execution_count": 6,
   "metadata": {
    "execution": {
     "iopub.execute_input": "2022-03-31T19:26:50.850148Z",
     "iopub.status.busy": "2022-03-31T19:26:50.849213Z",
     "iopub.status.idle": "2022-03-31T19:26:50.869215Z",
     "shell.execute_reply": "2022-03-31T19:26:50.866074Z"
    }
   },
   "outputs": [
    {
     "data": {
      "text/plain": [
       "SOLUTEATOM\n",
       "#   NRP: number of solute atoms\n",
       " \t 71\n",
       "#  ATNM: atom number\n",
       "#  MRES: residue number\n",
       "#  PANM: atom name of solute atom\n",
       "#   IAC: integer (van der Waals) atom type code\n",
       "#  MASS: mass of solute atom\n",
       "#    CG: charge of solute atom\n",
       "#   CGC: charge group code (0 or 1)\n",
       "#   INE: number of excluded atoms\n",
       "# INE14: number of 1-4 interactions\n",
       "# ATNM MRES PANM IAC     MASS       CG  CGC INE\n",
       "#                                           INE14\n",
       "\t1\t1\tH1\t21\t1.008\t0.248\t0\t4\t2\t3\t4\t5\n",
       "\t\t\t\t\t\t\t\t\t\t2\t6\t9\n",
       "\t2\t1\tH2\t21\t1.008\t0.248\t0\t3\t3\t4\t5\n",
       "\t\t\t\t\t\t\t\t\t\t2\t6\t9\n",
       "\t3\t1\tN\t8\t14.0067\t0.129\t0\t4\t4\t5\t6\t9\n",
       "\t\t\t\t\t\t\t\t\t\t4\t7\t8\t10\t11\n",
       "\t4\t1\tH3\t21\t1.008\t0.248\t0\t1\t5\n",
       "\t\t\t\t\t\t\t\t\t\t2\t6\t9\n",
       "\t5\t1\tCA\t14\t13.019\t0.127\t1\t6\t6\t7\t8\t9\t10\t11\n",
       "\t\t\t\t\t\t\t\t\t\t2\t12\t13\n",
       "\t6\t1\tCB\t14\t13.019\t0.0\t0\t3\t7\t8\t9\n",
       "\t\t\t\t\t\t\t\t\t\t2\t10\t11\n",
       "\t7\t1\tCG1\t16\t15.035\t0.0\t0\t1\t8\n",
       "\t\t\t\t\t\t\t\t\t\t1\t9\n",
       "\t8\t1\tCG2\t16\t15.035\t0.0\t1\t0\n",
       "\t\t\t\t\t\t\t\t\t\t1\t9\n",
       "\t9\t1\tC\t12\t12.011\t0.45\t0\t4\t10\t11\t12\t13\n",
       "\t\t\t\t\t\t\t\t\t\t2\t14\t27\n",
       "\t10\t1\tO\t1\t15.9994\t-0.45\t1\t1\t11\n",
       "\t\t\t\t\t\t\t\t\t\t2\t12\t13\n",
       "\t11\t2\tN\t6\t14.0067\t-0.31\t0\t4\t12\t13\t14\t27\n",
       "\t\t\t\t\t\t\t\t\t\t3\t15\t28\t29\n",
       "\t12\t2\tH\t21\t1.008\t0.31\t1\t1\t13\n",
       "\t\t\t\t\t\t\t\t\t\t2\t14\t27\n",
       "\t13\t2\tCA\t14\t13.019\t0.0\t0\t5\t14\t15\t27\t28\t29\n",
       "\t\t\t\t\t\t\t\t\t\t4\t16\t18\t30\t31\n",
       "\t14\t2\tCB\t15\t14.027\t0.0\t0\t8\t15\t16\t17\t18\t19\t20\n",
       "\t\t\t\t\t\t\t\t\t\t\t22\t27\n",
       "\t\t\t\t\t\t\t\t\t\t2\t28\t29\n",
       "\t15\t2\tCG\t12\t12.011\t0.0\t1\t9\t16\t17\t18\t19\t20\t21\n",
       "\t\t\t\t\t\t\t\t\t\t\t22\t23\t24\n",
       "\t\t\t\t\t\t\t\t\t\t1\t27\n",
       "\t16\t2\tCD1\t12\t12.011\t-0.14\t0\t8\t17\t18\t19\t20\t21\t22\n",
       "\t\t\t\t\t\t\t\t\t\t\t24\t25\n",
       "\t\t\t\t\t\t\t\t\t\t0\n",
       "\t17\t2\tHD1\t20\t1.008\t0.14\t1\t4\t18\t20\t21\t24\n",
       "\t\t\t\t\t\t\t\t\t\t0\n",
       "\t18\t2\tCD2\t12\t12.011\t-0.14\t0\t6\t19\t20\t22\t23\t24\t25\n",
       "\t\t\t\t\t\t\t\t\t\t0\n",
       "\t19\t2\tHD2\t20\t1.008\t0.14\t1\t3\t22\t23\t24\n",
       "\t\t\t\t\t\t\t\t\t\t0\n",
       "\t20\t2\tCE1\t12\t12.011\t-0.14\t0\t5\t21\t22\t23\t24\t25\n",
       "\t\t\t\t\t\t\t\t\t\t1\t26\n",
       "\t21\t2\tHE1\t20\t1.008\t0.14\t1\t3\t22\t24\t25\n",
       "\t\t\t\t\t\t\t\t\t\t0\n",
       "\t22\t2\tCE2\t12\t12.011\t-0.14\t0\t3\t23\t24\t25\n",
       "\t\t\t\t\t\t\t\t\t\t1\t26\n",
       "\t23\t2\tHE2\t20\t1.008\t0.14\t1\t2\t24\t25\n",
       "\t\t\t\t\t\t\t\t\t\t0\n",
       "\t24\t2\tCZ\t12\t12.011\t0.203\t0\t2\t25\t26\n",
       "\t\t\t\t\t\t\t\t\t\t0\n",
       "\t25\t2\tOH\t3\t15.9994\t-0.611\t0\t1\t26\n",
       "\t\t\t\t\t\t\t\t\t\t0\n",
       "\t26\t2\tHH\t21\t1.008\t0.408\t1\t0\n",
       "\t\t\t\t\t\t\t\t\t\t0\n",
       "\t27\t2\tC\t12\t12.011\t0.45\t0\t4\t28\t29\t30\t31\n",
       "\t\t\t\t\t\t\t\t\t\t2\t32\t44\n",
       "\t28\t2\tO\t1\t15.9994\t-0.45\t1\t1\t29\n",
       "\t\t\t\t\t\t\t\t\t\t2\t30\t31\n",
       "\t29\t3\tN\t6\t14.0067\t-0.31\t0\t4\t30\t31\t32\t44\n",
       "\t\t\t\t\t\t\t\t\t\t3\t33\t45\t46\n",
       "\t30\t3\tH\t21\t1.008\t0.31\t1\t1\t31\n",
       "\t\t\t\t\t\t\t\t\t\t2\t32\t44\n",
       "\t31\t3\tCA\t14\t13.019\t0.0\t0\t5\t32\t33\t44\t45\t46\n",
       "\t\t\t\t\t\t\t\t\t\t3\t34\t47\t48\n",
       "\t32\t3\tCB\t15\t14.027\t0.0\t0\t3\t33\t34\t44\n",
       "\t\t\t\t\t\t\t\t\t\t3\t35\t45\t46\n",
       "\t33\t3\tCG\t15\t14.027\t0.0\t1\t2\t34\t35\n",
       "\t\t\t\t\t\t\t\t\t\t3\t36\t37\t44\n",
       "\t34\t3\tCD\t15\t14.027\t0.09\t0\t3\t35\t36\t37\n",
       "\t\t\t\t\t\t\t\t\t\t2\t38\t41\n",
       "\t35\t3\tNE\t11\t14.0067\t-0.11\t0\t4\t36\t37\t38\t41\n",
       "\t\t\t\t\t\t\t\t\t\t4\t39\t40\t42\t43\n",
       "\t36\t3\tHE\t21\t1.008\t0.24\t0\t1\t37\n",
       "\t\t\t\t\t\t\t\t\t\t2\t38\t41\n",
       "\t37\t3\tCZ\t12\t12.011\t0.34\t0\t6\t38\t39\t40\t41\t42\t43\n",
       "\t\t\t\t\t\t\t\t\t\t0\n",
       "\t38\t3\tNH1\t10\t14.0067\t-0.26\t0\t3\t39\t40\t41\n",
       "\t\t\t\t\t\t\t\t\t\t2\t42\t43\n",
       "\t39\t3\tHH11\t21\t1.008\t0.24\t0\t1\t40\n",
       "\t\t\t\t\t\t\t\t\t\t1\t41\n",
       "\t40\t3\tHH12\t21\t1.008\t0.24\t0\t0\n",
       "\t\t\t\t\t\t\t\t\t\t1\t41\n",
       "\t41\t3\tNH2\t10\t14.0067\t-0.26\t0\t2\t42\t43\n",
       "\t\t\t\t\t\t\t\t\t\t0\n",
       "\t42\t3\tHH21\t21\t1.008\t0.24\t0\t1\t43\n",
       "\t\t\t\t\t\t\t\t\t\t0\n",
       "\t43\t3\tHH22\t21\t1.008\t0.24\t1\t0\n",
       "\t\t\t\t\t\t\t\t\t\t0\n",
       "\t44\t3\tC\t12\t12.011\t0.45\t0\t4\t45\t46\t47\t48\n",
       "\t\t\t\t\t\t\t\t\t\t2\t49\t57\n",
       "\t45\t3\tO\t1\t15.9994\t-0.45\t1\t1\t46\n",
       "\t\t\t\t\t\t\t\t\t\t2\t47\t48\n",
       "\t46\t4\tN\t6\t14.0067\t-0.31\t0\t4\t47\t48\t49\t57\n",
       "\t\t\t\t\t\t\t\t\t\t3\t50\t58\t59\n",
       "\t47\t4\tH\t21\t1.008\t0.31\t1\t1\t48\n",
       "\t\t\t\t\t\t\t\t\t\t2\t49\t57\n",
       "\t48\t4\tCA\t14\t13.019\t0.0\t0\t5\t49\t50\t57\t58\t59\n",
       "\t\t\t\t\t\t\t\t\t\t3\t51\t60\t61\n",
       "\t49\t4\tCB\t15\t14.027\t0.0\t1\t3\t50\t51\t57\n",
       "\t\t\t\t\t\t\t\t\t\t3\t52\t58\t59\n",
       "\t50\t4\tCG\t15\t14.027\t0.0\t0\t2\t51\t52\n",
       "\t\t\t\t\t\t\t\t\t\t2\t53\t57\n",
       "\t51\t4\tCD\t15\t14.027\t0.0\t1\t2\t52\t53\n",
       "\t\t\t\t\t\t\t\t\t\t3\t54\t55\t56\n",
       "\t52\t4\tCE\t15\t14.027\t0.127\t0\t4\t53\t54\t55\t56\n",
       "\t\t\t\t\t\t\t\t\t\t0\n",
       "\t53\t4\tNZ\t8\t14.0067\t0.129\t0\t3\t54\t55\t56\n",
       "\t\t\t\t\t\t\t\t\t\t0\n",
       "\t54\t4\tHZ1\t21\t1.008\t0.248\t0\t2\t55\t56\n",
       "\t\t\t\t\t\t\t\t\t\t0\n",
       "\t55\t4\tHZ2\t21\t1.008\t0.248\t0\t1\t56\n",
       "\t\t\t\t\t\t\t\t\t\t0\n",
       "\t56\t4\tHZ3\t21\t1.008\t0.248\t1\t0\n",
       "\t\t\t\t\t\t\t\t\t\t0\n",
       "\t57\t4\tC\t12\t12.011\t0.45\t0\t4\t58\t59\t60\t61\n",
       "\t\t\t\t\t\t\t\t\t\t2\t62\t69\n",
       "\t58\t4\tO\t1\t15.9994\t-0.45\t1\t1\t59\n",
       "\t\t\t\t\t\t\t\t\t\t2\t60\t61\n",
       "\t59\t5\tN\t6\t14.0067\t-0.31\t0\t4\t60\t61\t62\t69\n",
       "\t\t\t\t\t\t\t\t\t\t3\t63\t70\t71\n",
       "\t60\t5\tH\t21\t1.008\t0.31\t1\t1\t61\n",
       "\t\t\t\t\t\t\t\t\t\t2\t62\t69\n",
       "\t61\t5\tCA\t14\t13.019\t0.0\t0\t5\t62\t63\t69\t70\t71\n",
       "\t\t\t\t\t\t\t\t\t\t1\t64\n",
       "\t62\t5\tCB\t15\t14.027\t0.0\t0\t3\t63\t64\t69\n",
       "\t\t\t\t\t\t\t\t\t\t4\t65\t66\t70\t71\n",
       "\t63\t5\tCG\t15\t14.027\t0.0\t1\t3\t64\t65\t66\n",
       "\t\t\t\t\t\t\t\t\t\t3\t67\t68\t69\n",
       "\t64\t5\tCD\t12\t12.011\t0.29\t0\t4\t65\t66\t67\t68\n",
       "\t\t\t\t\t\t\t\t\t\t0\n",
       "\t65\t5\tOE1\t1\t15.9994\t-0.45\t0\t1\t66\n",
       "\t\t\t\t\t\t\t\t\t\t2\t67\t68\n",
       "\t66\t5\tNE2\t7\t14.0067\t-0.72\t0\t2\t67\t68\n",
       "\t\t\t\t\t\t\t\t\t\t0\n",
       "\t67\t5\tHE21\t21\t1.008\t0.44\t0\t1\t68\n",
       "\t\t\t\t\t\t\t\t\t\t0\n",
       "\t68\t5\tHE22\t21\t1.008\t0.44\t1\t0\n",
       "\t\t\t\t\t\t\t\t\t\t0\n",
       "\t69\t5\tC\t12\t12.011\t0.27\t0\t2\t70\t71\n",
       "\t\t\t\t\t\t\t\t\t\t0\n",
       "\t70\t5\tO1\t2\t15.9994\t-0.635\t0\t1\t71\n",
       "\t\t\t\t\t\t\t\t\t\t0\n",
       "\t71\t5\tO2\t2\t15.9994\t-0.635\t1\t0\n",
       "\t\t\t\t\t\t\t\t\t\t0\n",
       "END"
      ]
     },
     "execution_count": 6,
     "metadata": {},
     "output_type": "execute_result"
    }
   ],
   "source": [
    "#Compare the atom names of the pdb file input/peptide.pdb with the printed ones here:\n",
    "build_system.top.SOLUTEATOM"
   ]
  },
  {
   "cell_type": "code",
   "execution_count": 7,
   "metadata": {
    "execution": {
     "iopub.execute_input": "2022-03-31T19:26:50.877376Z",
     "iopub.status.busy": "2022-03-31T19:26:50.876198Z",
     "iopub.status.idle": "2022-03-31T19:26:51.201366Z",
     "shell.execute_reply": "2022-03-31T19:26:51.198420Z"
    }
   },
   "outputs": [
    {
     "data": {
      "application/vnd.jupyter.widget-view+json": {
       "model_id": "ddfa8573606e4e0e9b14d29ea3130984",
       "version_major": 2,
       "version_minor": 0
      },
      "text/plain": [
       "NGLWidget()"
      ]
     },
     "metadata": {},
     "output_type": "display_data"
    }
   ],
   "source": [
    "# Generate coordinate file:\n",
    "build_system.pdb2gromos(in_pdb_path=input_dir+\"/peptide.pdb\")\n",
    "\n",
    "#show the coordinates that were generated.\n",
    "build_system.cnf.view"
   ]
  },
  {
   "cell_type": "markdown",
   "metadata": {},
   "source": [
    "##### Initial Write out\n",
    " Next we will write out all generated files, such we have the initial products of our efforts."
   ]
  },
  {
   "cell_type": "code",
   "execution_count": 8,
   "metadata": {
    "execution": {
     "iopub.execute_input": "2022-03-31T19:26:51.215144Z",
     "iopub.status.busy": "2022-03-31T19:26:51.214437Z",
     "iopub.status.idle": "2022-03-31T19:26:51.242364Z",
     "shell.execute_reply": "2022-03-31T19:26:51.241197Z"
    }
   },
   "outputs": [
    {
     "name": "stdout",
     "output_type": "stream",
     "text": [
      "Path before rebase: None\n",
      "File imd is empty , can not be written!\n",
      "Path after rebase: /home/mlehner/PyGromosTools/examples/example_files/Tutorial_System/a_build_initial_files/peptide.cnf\n"
     ]
    },
    {
     "data": {
      "text/plain": [
       "\n",
       "GROMOS SYSTEM: peptide\n",
       "################################################################################\n",
       "WORKDIR: /home/mlehner/PyGromosTools/examples/example_files/Tutorial_System/a_build_initial_files\n",
       "LAST CHECKPOINT: None\n",
       "\n",
       "GromosXX_bin: None\n",
       "GromosPP_bin: None\n",
       "FILES: \n",
       "\timd: None\n",
       "\ttop: /home/mlehner/PyGromosTools/examples/example_files/Tutorial_System/a_build_initial_files/peptide.top\n",
       "\tcnf: /home/mlehner/PyGromosTools/examples/example_files/Tutorial_System/a_build_initial_files/peptide.cnf\n",
       "FUTURE PROMISE: False\n",
       "SYSTEM: \n",
       "\tPROTEIN:\tprotein  nresidues: 5 natoms: 71\n",
       "\tLIGANDS:\t[]  resID: []  natoms: 0\n",
       "\tNon-LIGANDS:\t[]  nmolecules: 0  natoms: 0\n",
       "\tSOLVENT:\t[]  nmolecules: 0  natoms: 0\n",
       "\n"
      ]
     },
     "execution_count": 8,
     "metadata": {},
     "output_type": "execute_result"
    }
   ],
   "source": [
    "# Now write all files, such that you can check them directly.\n",
    "print(\"Path before rebase: \"+str(build_system.cnf.path))\n",
    "build_system.rebase_files()\n",
    "\n",
    "#check this \n",
    "print(\"Path after rebase: \"+build_system.cnf.path)\n",
    "\n",
    "#Check also how the system path and attributes were automatically updated.\n",
    "build_system\n"
   ]
  },
  {
   "cell_type": "markdown",
   "metadata": {
    "pycharm": {
     "name": "#%% md\n"
    }
   },
   "source": [
    "#### add hydrogens\n",
    "Have a look at the cnf coordinates in the GromosSystem (next cell). You will notice that the hydrogen atoms have been added\n",
    "to the coordinate file with the Cartesian coordinates being set to zero. \n"
   ]
  },
  {
   "cell_type": "code",
   "execution_count": 9,
   "metadata": {
    "execution": {
     "iopub.execute_input": "2022-03-31T19:26:51.248439Z",
     "iopub.status.busy": "2022-03-31T19:26:51.247820Z",
     "iopub.status.idle": "2022-03-31T19:26:51.256617Z",
     "shell.execute_reply": "2022-03-31T19:26:51.254969Z"
    }
   },
   "outputs": [
    {
     "name": "stdout",
     "output_type": "stream",
     "text": [
      "    1 VAL   H1         1    0.000000000    0.000000000    0.000000000\n",
      "    1 VAL   H2         2    0.000000000    0.000000000    0.000000000\n",
      "    1 VAL   N          3    1.196200000    1.413300000    1.529800000\n",
      "    1 VAL   H3         4    0.000000000    0.000000000    0.000000000\n",
      "    1 VAL   CA         5    1.237300000    1.322400000    1.421900000\n",
      "    1 VAL   CB         6    1.116100000    1.268700000    1.345400000\n",
      "    1 VAL   CG1        7    1.041700000    1.369500000    1.257600000\n",
      "    1 VAL   CG2        8    1.157800000    1.148100000    1.261100000\n",
      "    1 VAL   C          9    1.335700000    1.393300000    1.328600000\n",
      "    1 VAL   O         10    1.447800000    1.344200000    1.316600000\n",
      "\n"
     ]
    }
   ],
   "source": [
    "#print x lines of the Position Block of valine\n",
    "print(\"\".join([str(atomP) for atomP in build_system.cnf.POSITION if(\"VAL\" == atomP.resName)]))"
   ]
  },
  {
   "cell_type": "markdown",
   "metadata": {},
   "source": [
    "\n",
    "In order to generate meaningful coordinates for the hydrogen atoms run the GROMOS++ program *protonate* (or gch). It will generate the coordinates\n",
    "for hydrogen atoms by geometric means using the information from the molecular topology file.\n",
    "The argument *tolerance* sets the tolerance that is used for keeping the coordinates of hydrogens that are already present in the coordinate file.\n"
   ]
  },
  {
   "cell_type": "code",
   "execution_count": 10,
   "metadata": {
    "execution": {
     "iopub.execute_input": "2022-03-31T19:26:51.261784Z",
     "iopub.status.busy": "2022-03-31T19:26:51.261082Z",
     "iopub.status.idle": "2022-03-31T19:26:51.632548Z",
     "shell.execute_reply": "2022-03-31T19:26:51.631001Z"
    }
   },
   "outputs": [
    {
     "name": "stdout",
     "output_type": "stream",
     "text": [
      "File imd is empty , can not be written!\n"
     ]
    },
    {
     "data": {
      "application/vnd.jupyter.widget-view+json": {
       "model_id": "2eb3167caf424bfa8a829e101be1a6e3",
       "version_major": 2,
       "version_minor": 0
      },
      "text/plain": [
       "NGLWidget()"
      ]
     },
     "metadata": {},
     "output_type": "display_data"
    }
   ],
   "source": [
    "# Add the hydrogen positions\n",
    "build_system.add_hydrogens()\n",
    "\n",
    "#store the current files with a different name:\n",
    "build_system.name = \"peptideH\"\n",
    "build_system.rebase_files()\n",
    "\n",
    "#visualize again the nice structure\n",
    "build_system.cnf.view\n"
   ]
  },
  {
   "cell_type": "markdown",
   "metadata": {},
   "source": [
    "#### Optional: Convert cnf to pdb\n",
    "\n"
   ]
  },
  {
   "cell_type": "code",
   "execution_count": 11,
   "metadata": {
    "execution": {
     "iopub.execute_input": "2022-03-31T19:26:51.637794Z",
     "iopub.status.busy": "2022-03-31T19:26:51.636962Z",
     "iopub.status.idle": "2022-03-31T19:26:51.647262Z",
     "shell.execute_reply": "2022-03-31T19:26:51.645687Z"
    }
   },
   "outputs": [
    {
     "data": {
      "text/plain": [
       "'/home/mlehner/PyGromosTools/examples/example_files/Tutorial_System/a_build_initial_files/vacuum_hpeptide.pdb'"
      ]
     },
     "execution_count": 11,
     "metadata": {},
     "output_type": "execute_result"
    }
   ],
   "source": [
    "pdb_path = build_system.cnf.write_pdb(build_system.work_folder+\"/vacuum_hpeptide.pdb\")\n",
    "pdb_path"
   ]
  },
  {
   "cell_type": "markdown",
   "metadata": {},
   "source": [
    "### Energy Minimization - Vacuum\n",
    "\n",
    "Before putting the penta-peptide into a box of solvent, its configuration can be relaxed by energy minimisation.\n",
    "\n",
    "#### Simulation Parameter File\n",
    "The GROMOS simulation parameter file (also called imd) template_emin_vac can be parsed like follows and contains the following blocks:"
   ]
  },
  {
   "cell_type": "code",
   "execution_count": 12,
   "metadata": {
    "execution": {
     "iopub.execute_input": "2022-03-31T19:26:51.651946Z",
     "iopub.status.busy": "2022-03-31T19:26:51.650941Z",
     "iopub.status.idle": "2022-03-31T19:26:51.663667Z",
     "shell.execute_reply": "2022-03-31T19:26:51.662213Z"
    }
   },
   "outputs": [],
   "source": [
    "from pygromos.data.simulation_parameters_templates import  template_emin_vac\n",
    "\n",
    "#load simulation parameter file (Imd) File\n",
    "build_system.imd = template_emin_vac\n",
    "\n",
    "#for nicer code we will store the simulation parameter file in a variable.\n",
    "emin_vac_imd_file = build_system.imd\n"
   ]
  },
  {
   "cell_type": "markdown",
   "metadata": {},
   "source": [
    "##### TITLE Block\n",
    "In the TITLE block you specify what is done with following input file, so you know what you did with it later and can easily reuse it."
   ]
  },
  {
   "cell_type": "code",
   "execution_count": 13,
   "metadata": {
    "execution": {
     "iopub.execute_input": "2022-03-31T19:26:51.668747Z",
     "iopub.status.busy": "2022-03-31T19:26:51.667809Z",
     "iopub.status.idle": "2022-03-31T19:26:51.677335Z",
     "shell.execute_reply": "2022-03-31T19:26:51.675678Z"
    }
   },
   "outputs": [
    {
     "data": {
      "text/plain": [
       "TITLE\n",
       "\tsteepest descent energy minimization of the peptide in vacuum\n",
       "\n",
       "\t>>> Generated with PyGromosTools (riniker group) <<<\n",
       "END"
      ]
     },
     "execution_count": 13,
     "metadata": {},
     "output_type": "execute_result"
    }
   ],
   "source": [
    "emin_vac_imd_file.TITLE"
   ]
  },
  {
   "cell_type": "markdown",
   "metadata": {},
   "source": [
    "##### ENERGYMIN Block\n",
    "\n",
    "The existence of the ENERGYMIN block means that Gromos will perform an energy minimisation\n",
    "(EM) run. The NTEM switch indicates which minimisation algorithm to be used. With NTEM = 1 we indicate\n",
    "that the steepest-descent algorithm (Sec. 2-11.2) is used. NCYC gives the number of steps before resetting of\n",
    "conjugate-gradient search direction in case we would use the conjugate gradient method (NTEM = 2). Using\n",
    "DELE the energy threshold (the difference in energy between two energy minimisation steps) for stopping the\n",
    "minimisation process (convergence) is specified. The initial step size and maximum step size is given in DX0\n",
    "and DXM, respectively. Using FLIM the absolute value of the forces can be limited to a maximum value before\n",
    "the algorithm is applied (see also 4-93)."
   ]
  },
  {
   "cell_type": "code",
   "execution_count": 14,
   "metadata": {
    "execution": {
     "iopub.execute_input": "2022-03-31T19:26:51.683000Z",
     "iopub.status.busy": "2022-03-31T19:26:51.682390Z",
     "iopub.status.idle": "2022-03-31T19:26:51.698061Z",
     "shell.execute_reply": "2022-03-31T19:26:51.696486Z"
    }
   },
   "outputs": [
    {
     "name": "stdout",
     "output_type": "stream",
     "text": [
      "Help on ENERGYMIN in module pygromos.files.blocks.imd_blocks object:\n",
      "\n",
      "class ENERGYMIN(_generic_imd_block)\n",
      " |  ENERGYMIN(NTEM: int = 0, NCYC: int = 0, DELE: float = 0, DX0: float = 0, DXM: float = 0, NMIN: int = 0, FLIM: float = 0, content: List[str] = None)\n",
      " |  \n",
      " |  ENERGYMIN block\n",
      " |  This block takes care of managing the Energyminimization controls.\n",
      " |  \n",
      " |  Attributes\n",
      " |  ----------\n",
      " |  NTEM:   int\n",
      " |      controls energy minimisation mode.\n",
      " |      0: do not do energy minimisation (default)\n",
      " |      1: steepest-descent minimisation\n",
      " |      2: Fletcher-Reeves conjugate-gradient minimisation\n",
      " |      3: Polak-Ribiere conjugate-gradient minimisation\n",
      " |  NCYC:   int\n",
      " |      >0 number of steps before resetting the conjugate-gradient search direction\n",
      " |      =0 reset only if the energy grows in the search direction\n",
      " |  DELE:   float\n",
      " |      >0.0 energy threshold for convergence\n",
      " |      >0.0 (conjugate-gradient) RMS force threshold for convergence\n",
      " |  DX0:    float\n",
      " |      >0.0 initial step size\n",
      " |  DXM:    float\n",
      " |      >0.0 maximum step size\n",
      " |  NMIN:   float\n",
      " |      >0 minimum number of minimisation steps\n",
      " |  FLIM:   float\n",
      " |      >=0.0 limit force to maximum value (FLIM > 0.0 is not recommended)\n",
      " |  \n",
      " |  Method resolution order:\n",
      " |      ENERGYMIN\n",
      " |      _generic_imd_block\n",
      " |      pygromos.files.blocks._general_blocks._generic_gromos_block\n",
      " |      builtins.object\n",
      " |  \n",
      " |  Methods defined here:\n",
      " |  \n",
      " |  __init__(self, NTEM: int = 0, NCYC: int = 0, DELE: float = 0, DX0: float = 0, DXM: float = 0, NMIN: int = 0, FLIM: float = 0, content: List[str] = None)\n",
      " |      Initialize self.  See help(type(self)) for accurate signature.\n",
      " |  \n",
      " |  ----------------------------------------------------------------------\n",
      " |  Data and other attributes defined here:\n",
      " |  \n",
      " |  __annotations__ = {'DELE': <class 'float'>, 'DX0': <class 'float'>, 'D...\n",
      " |  \n",
      " |  name = 'ENERGYMIN'\n",
      " |  \n",
      " |  ----------------------------------------------------------------------\n",
      " |  Methods inherited from _generic_imd_block:\n",
      " |  \n",
      " |  block_to_string(self) -> str\n",
      " |  \n",
      " |  read_content_from_str(self, content: List[str])\n",
      " |  \n",
      " |  ----------------------------------------------------------------------\n",
      " |  Methods inherited from pygromos.files.blocks._general_blocks._generic_gromos_block:\n",
      " |  \n",
      " |  __copy__(self)\n",
      " |  \n",
      " |  __deepcopy__(self, memo)\n",
      " |  \n",
      " |  __eq__(self, _generic_gromos_block__o: object) -> bool\n",
      " |      Return self==value.\n",
      " |  \n",
      " |  __iter__(self)\n",
      " |  \n",
      " |  __repr__(self)\n",
      " |      Return repr(self).\n",
      " |  \n",
      " |  __str__(self)\n",
      " |      Return str(self).\n",
      " |  \n",
      " |  get_name(self)\n",
      " |  \n",
      " |  ----------------------------------------------------------------------\n",
      " |  Data descriptors inherited from pygromos.files.blocks._general_blocks._generic_gromos_block:\n",
      " |  \n",
      " |  __dict__\n",
      " |      dictionary for instance variables (if defined)\n",
      " |  \n",
      " |  __weakref__\n",
      " |      list of weak references to the object (if defined)\n",
      " |  \n",
      " |  ----------------------------------------------------------------------\n",
      " |  Data and other attributes inherited from pygromos.files.blocks._general_blocks._generic_gromos_block:\n",
      " |  \n",
      " |  __hash__ = None\n",
      "\n"
     ]
    }
   ],
   "source": [
    "help(emin_vac_imd_file.ENERGYMIN)"
   ]
  },
  {
   "cell_type": "code",
   "execution_count": 15,
   "metadata": {
    "execution": {
     "iopub.execute_input": "2022-03-31T19:26:51.703259Z",
     "iopub.status.busy": "2022-03-31T19:26:51.702590Z",
     "iopub.status.idle": "2022-03-31T19:26:51.712697Z",
     "shell.execute_reply": "2022-03-31T19:26:51.710854Z"
    }
   },
   "outputs": [
    {
     "data": {
      "text/plain": [
       "ENERGYMIN\n",
       "# \t NTEM \t NCYC \t DELE \t DX0 \t DXM \t NMIN \t FLIM\n",
       " \t 1 \t 0 \t 0.100000 \t 0.010000 \t 0.050000 \t 2000 \t 0.000000 \t \n",
       "END"
      ]
     },
     "execution_count": 15,
     "metadata": {},
     "output_type": "execute_result"
    }
   ],
   "source": [
    "# The current ENERGYMIN Block\n",
    "emin_vac_imd_file.ENERGYMIN"
   ]
  },
  {
   "cell_type": "markdown",
   "metadata": {},
   "source": [
    "##### SYSTEM Block\n",
    "In the SYSTEM block you specify the number of solutes (NPM) and solvent (NSM) molecules. You only have\n",
    "one solute NPM = 1 and no solvent molecules NSM = 0 because you still did not add any solvent molecules\n",
    "to the configuration file and the peptide is still in vacuum. Otherwise you would have to tell MD++ how\n",
    "many solvent molecules you are using."
   ]
  },
  {
   "cell_type": "code",
   "execution_count": 16,
   "metadata": {
    "execution": {
     "iopub.execute_input": "2022-03-31T19:26:51.719508Z",
     "iopub.status.busy": "2022-03-31T19:26:51.718586Z",
     "iopub.status.idle": "2022-03-31T19:26:51.734832Z",
     "shell.execute_reply": "2022-03-31T19:26:51.732797Z"
    }
   },
   "outputs": [
    {
     "name": "stdout",
     "output_type": "stream",
     "text": [
      "Help on SYSTEM in module pygromos.files.blocks.imd_blocks object:\n",
      "\n",
      "class SYSTEM(_generic_imd_block)\n",
      " |  SYSTEM(NPM: int = 0, NSM: int = 0, content: List[str] = None)\n",
      " |  \n",
      " |  System Block\n",
      " |  \n",
      " |      The system block defines the number of solute molecules and solvent molecules\n",
      " |  \n",
      " |  Attributes\n",
      " |  ----------\n",
      " |  NPM:    int\n",
      " |      Number of Solute Molecules\n",
      " |  NSM:    int\n",
      " |      Number of Solvent Molecules\n",
      " |  \n",
      " |  Method resolution order:\n",
      " |      SYSTEM\n",
      " |      _generic_imd_block\n",
      " |      pygromos.files.blocks._general_blocks._generic_gromos_block\n",
      " |      builtins.object\n",
      " |  \n",
      " |  Methods defined here:\n",
      " |  \n",
      " |  __init__(self, NPM: int = 0, NSM: int = 0, content: List[str] = None)\n",
      " |      Initialize self.  See help(type(self)) for accurate signature.\n",
      " |  \n",
      " |  ----------------------------------------------------------------------\n",
      " |  Data and other attributes defined here:\n",
      " |  \n",
      " |  __annotations__ = {'NPM': <class 'int'>, 'NSM': <class 'int'>, 'name':...\n",
      " |  \n",
      " |  name = 'SYSTEM'\n",
      " |  \n",
      " |  ----------------------------------------------------------------------\n",
      " |  Methods inherited from _generic_imd_block:\n",
      " |  \n",
      " |  block_to_string(self) -> str\n",
      " |  \n",
      " |  read_content_from_str(self, content: List[str])\n",
      " |  \n",
      " |  ----------------------------------------------------------------------\n",
      " |  Methods inherited from pygromos.files.blocks._general_blocks._generic_gromos_block:\n",
      " |  \n",
      " |  __copy__(self)\n",
      " |  \n",
      " |  __deepcopy__(self, memo)\n",
      " |  \n",
      " |  __eq__(self, _generic_gromos_block__o: object) -> bool\n",
      " |      Return self==value.\n",
      " |  \n",
      " |  __iter__(self)\n",
      " |  \n",
      " |  __repr__(self)\n",
      " |      Return repr(self).\n",
      " |  \n",
      " |  __str__(self)\n",
      " |      Return str(self).\n",
      " |  \n",
      " |  get_name(self)\n",
      " |  \n",
      " |  ----------------------------------------------------------------------\n",
      " |  Data descriptors inherited from pygromos.files.blocks._general_blocks._generic_gromos_block:\n",
      " |  \n",
      " |  __dict__\n",
      " |      dictionary for instance variables (if defined)\n",
      " |  \n",
      " |  __weakref__\n",
      " |      list of weak references to the object (if defined)\n",
      " |  \n",
      " |  ----------------------------------------------------------------------\n",
      " |  Data and other attributes inherited from pygromos.files.blocks._general_blocks._generic_gromos_block:\n",
      " |  \n",
      " |  __hash__ = None\n",
      "\n"
     ]
    }
   ],
   "source": [
    "help(emin_vac_imd_file.SYSTEM)"
   ]
  },
  {
   "cell_type": "code",
   "execution_count": 17,
   "metadata": {
    "execution": {
     "iopub.execute_input": "2022-03-31T19:26:51.741259Z",
     "iopub.status.busy": "2022-03-31T19:26:51.740251Z",
     "iopub.status.idle": "2022-03-31T19:26:51.749672Z",
     "shell.execute_reply": "2022-03-31T19:26:51.748013Z"
    }
   },
   "outputs": [
    {
     "data": {
      "text/plain": [
       "SYSTEM\n",
       "# \t NPM \t NSM\n",
       " \t 1 \t 0 \t \n",
       "END"
      ]
     },
     "execution_count": 17,
     "metadata": {},
     "output_type": "execute_result"
    }
   ],
   "source": [
    "emin_vac_imd_file.SYSTEM\n"
   ]
  },
  {
   "cell_type": "markdown",
   "metadata": {},
   "source": [
    "##### STEP Block\n",
    "\n",
    "The step block takes core of how long and with "
   ]
  },
  {
   "cell_type": "code",
   "execution_count": 18,
   "metadata": {
    "execution": {
     "iopub.execute_input": "2022-03-31T19:26:51.755371Z",
     "iopub.status.busy": "2022-03-31T19:26:51.754469Z",
     "iopub.status.idle": "2022-03-31T19:26:51.767765Z",
     "shell.execute_reply": "2022-03-31T19:26:51.766561Z"
    }
   },
   "outputs": [
    {
     "name": "stdout",
     "output_type": "stream",
     "text": [
      "Help on STEP in module pygromos.files.blocks.imd_blocks object:\n",
      "\n",
      "class STEP(_generic_imd_block)\n",
      " |  STEP(NSTLIM: int = 0, T: float = 0, DT: float = 0, content: List[str] = None)\n",
      " |  \n",
      " |  Step Block\n",
      " |  \n",
      " |      This Block gives the number of simulation steps,\n",
      " |  \n",
      " |  Attributes\n",
      " |  -----------\n",
      " |  NSTLIM: int\n",
      " |      number of simulations Step till terminating.\n",
      " |  T:  float\n",
      " |      Starting Time\n",
      " |  DT: float\n",
      " |      time step [fs]\n",
      " |  \n",
      " |  Method resolution order:\n",
      " |      STEP\n",
      " |      _generic_imd_block\n",
      " |      pygromos.files.blocks._general_blocks._generic_gromos_block\n",
      " |      builtins.object\n",
      " |  \n",
      " |  Methods defined here:\n",
      " |  \n",
      " |  __init__(self, NSTLIM: int = 0, T: float = 0, DT: float = 0, content: List[str] = None)\n",
      " |      Initialize self.  See help(type(self)) for accurate signature.\n",
      " |  \n",
      " |  ----------------------------------------------------------------------\n",
      " |  Data and other attributes defined here:\n",
      " |  \n",
      " |  __annotations__ = {'DT': <class 'float'>, 'NSTLIM': <class 'int'>, 'T'...\n",
      " |  \n",
      " |  name = 'STEP'\n",
      " |  \n",
      " |  ----------------------------------------------------------------------\n",
      " |  Methods inherited from _generic_imd_block:\n",
      " |  \n",
      " |  block_to_string(self) -> str\n",
      " |  \n",
      " |  read_content_from_str(self, content: List[str])\n",
      " |  \n",
      " |  ----------------------------------------------------------------------\n",
      " |  Methods inherited from pygromos.files.blocks._general_blocks._generic_gromos_block:\n",
      " |  \n",
      " |  __copy__(self)\n",
      " |  \n",
      " |  __deepcopy__(self, memo)\n",
      " |  \n",
      " |  __eq__(self, _generic_gromos_block__o: object) -> bool\n",
      " |      Return self==value.\n",
      " |  \n",
      " |  __iter__(self)\n",
      " |  \n",
      " |  __repr__(self)\n",
      " |      Return repr(self).\n",
      " |  \n",
      " |  __str__(self)\n",
      " |      Return str(self).\n",
      " |  \n",
      " |  get_name(self)\n",
      " |  \n",
      " |  ----------------------------------------------------------------------\n",
      " |  Data descriptors inherited from pygromos.files.blocks._general_blocks._generic_gromos_block:\n",
      " |  \n",
      " |  __dict__\n",
      " |      dictionary for instance variables (if defined)\n",
      " |  \n",
      " |  __weakref__\n",
      " |      list of weak references to the object (if defined)\n",
      " |  \n",
      " |  ----------------------------------------------------------------------\n",
      " |  Data and other attributes inherited from pygromos.files.blocks._general_blocks._generic_gromos_block:\n",
      " |  \n",
      " |  __hash__ = None\n",
      "\n"
     ]
    }
   ],
   "source": [
    "help(emin_vac_imd_file.STEP)"
   ]
  },
  {
   "cell_type": "code",
   "execution_count": 19,
   "metadata": {
    "execution": {
     "iopub.execute_input": "2022-03-31T19:26:51.774110Z",
     "iopub.status.busy": "2022-03-31T19:26:51.773768Z",
     "iopub.status.idle": "2022-03-31T19:26:51.782914Z",
     "shell.execute_reply": "2022-03-31T19:26:51.781517Z"
    }
   },
   "outputs": [
    {
     "data": {
      "text/plain": [
       "STEP\n",
       "# \t NSTLIM \t T \t DT\n",
       " \t 3000 \t 0.000000 \t 0.002000 \t \n",
       "END"
      ]
     },
     "execution_count": 19,
     "metadata": {},
     "output_type": "execute_result"
    }
   ],
   "source": [
    "emin_vac_imd_file.STEP"
   ]
  },
  {
   "cell_type": "markdown",
   "metadata": {},
   "source": [
    "In the BOUNDCOND block you specify which periodic boundary conditions (PBC) you are going to use in the\n",
    "EM procedure. NTB = 0 defines a vacuum simulation: PBC are not applied. To indicate the truncated\n",
    "octahedron (t) PBC, NTB is set to -1, for rectangular (r) PBC NTB is 1, and for the triclinic (c) PBC NTB is\n",
    "2. NDFMIN defines the number of degrees of freedom subtracted from the total number of degrees of freedom\n",
    "for the calculation of the temperature.\n"
   ]
  },
  {
   "cell_type": "code",
   "execution_count": 20,
   "metadata": {
    "execution": {
     "iopub.execute_input": "2022-03-31T19:26:51.789984Z",
     "iopub.status.busy": "2022-03-31T19:26:51.788587Z",
     "iopub.status.idle": "2022-03-31T19:26:51.801903Z",
     "shell.execute_reply": "2022-03-31T19:26:51.800239Z"
    }
   },
   "outputs": [
    {
     "name": "stdout",
     "output_type": "stream",
     "text": [
      "Help on BOUNDCOND in module pygromos.files.blocks.imd_blocks object:\n",
      "\n",
      "class BOUNDCOND(_generic_imd_block)\n",
      " |  BOUNDCOND(NTB: int = 0, NDFMIN: int = 0, content: List[str] = None)\n",
      " |  \n",
      " |  Boundary Condition Block\n",
      " |  \n",
      " |      This block describes the boundary condition of the coordinate system.\n",
      " |  \n",
      " |  Attributes\n",
      " |  ----------\n",
      " |      NTB : int, optional\n",
      " |          Boundary conditions, by default 0\n",
      " |          -1 : truncated octahedral\n",
      " |           0 : vacuum\n",
      " |           1 : rectangular\n",
      " |           2 : triclinic\n",
      " |      NDFMIN : int, optional\n",
      " |          number of degrees of freedom subtracted for temperature, by default 0\n",
      " |  \n",
      " |  Method resolution order:\n",
      " |      BOUNDCOND\n",
      " |      _generic_imd_block\n",
      " |      pygromos.files.blocks._general_blocks._generic_gromos_block\n",
      " |      builtins.object\n",
      " |  \n",
      " |  Methods defined here:\n",
      " |  \n",
      " |  __init__(self, NTB: int = 0, NDFMIN: int = 0, content: List[str] = None)\n",
      " |      Initialize self.  See help(type(self)) for accurate signature.\n",
      " |  \n",
      " |  ----------------------------------------------------------------------\n",
      " |  Data and other attributes defined here:\n",
      " |  \n",
      " |  __annotations__ = {'NDFMIN': <class 'int'>, 'NTB': <class 'int'>, 'nam...\n",
      " |  \n",
      " |  name = 'BOUNDCOND'\n",
      " |  \n",
      " |  ----------------------------------------------------------------------\n",
      " |  Methods inherited from _generic_imd_block:\n",
      " |  \n",
      " |  block_to_string(self) -> str\n",
      " |  \n",
      " |  read_content_from_str(self, content: List[str])\n",
      " |  \n",
      " |  ----------------------------------------------------------------------\n",
      " |  Methods inherited from pygromos.files.blocks._general_blocks._generic_gromos_block:\n",
      " |  \n",
      " |  __copy__(self)\n",
      " |  \n",
      " |  __deepcopy__(self, memo)\n",
      " |  \n",
      " |  __eq__(self, _generic_gromos_block__o: object) -> bool\n",
      " |      Return self==value.\n",
      " |  \n",
      " |  __iter__(self)\n",
      " |  \n",
      " |  __repr__(self)\n",
      " |      Return repr(self).\n",
      " |  \n",
      " |  __str__(self)\n",
      " |      Return str(self).\n",
      " |  \n",
      " |  get_name(self)\n",
      " |  \n",
      " |  ----------------------------------------------------------------------\n",
      " |  Data descriptors inherited from pygromos.files.blocks._general_blocks._generic_gromos_block:\n",
      " |  \n",
      " |  __dict__\n",
      " |      dictionary for instance variables (if defined)\n",
      " |  \n",
      " |  __weakref__\n",
      " |      list of weak references to the object (if defined)\n",
      " |  \n",
      " |  ----------------------------------------------------------------------\n",
      " |  Data and other attributes inherited from pygromos.files.blocks._general_blocks._generic_gromos_block:\n",
      " |  \n",
      " |  __hash__ = None\n",
      "\n"
     ]
    }
   ],
   "source": [
    "help(emin_vac_imd_file.BOUNDCOND)"
   ]
  },
  {
   "cell_type": "code",
   "execution_count": 21,
   "metadata": {
    "execution": {
     "iopub.execute_input": "2022-03-31T19:26:51.807842Z",
     "iopub.status.busy": "2022-03-31T19:26:51.807051Z",
     "iopub.status.idle": "2022-03-31T19:26:51.816411Z",
     "shell.execute_reply": "2022-03-31T19:26:51.814917Z"
    }
   },
   "outputs": [
    {
     "data": {
      "text/plain": [
       "BOUNDCOND\n",
       "# \t NTB \t NDFMIN\n",
       " \t 0 \t 0 \t \n",
       "END"
      ]
     },
     "execution_count": 21,
     "metadata": {},
     "output_type": "execute_result"
    }
   ],
   "source": [
    "emin_vac_imd_file.BOUNDCOND"
   ]
  },
  {
   "cell_type": "markdown",
   "metadata": {},
   "source": [
    "With the PRINTOUT block you can specify how often (every NTPRth step) you are printing out the energies\n",
    "to the output file."
   ]
  },
  {
   "cell_type": "code",
   "execution_count": 22,
   "metadata": {
    "execution": {
     "iopub.execute_input": "2022-03-31T19:26:51.822413Z",
     "iopub.status.busy": "2022-03-31T19:26:51.821327Z",
     "iopub.status.idle": "2022-03-31T19:26:51.835850Z",
     "shell.execute_reply": "2022-03-31T19:26:51.834239Z"
    }
   },
   "outputs": [
    {
     "name": "stdout",
     "output_type": "stream",
     "text": [
      "Help on PRINTOUT in module pygromos.files.blocks.imd_blocks object:\n",
      "\n",
      "class PRINTOUT(_generic_imd_block)\n",
      " |  PRINTOUT(NTPR: int = 0, NTPP: int = 0, content: List[str] = None)\n",
      " |  \n",
      " |  PRINTOUT block\n",
      " |  \n",
      " |      This Block manages the output frequency into the .omd/std-out file.\n",
      " |  \n",
      " |  Attributes\n",
      " |  ----------\n",
      " |  NTPR: int\n",
      " |      print out energies, etc. every NTPR steps\n",
      " |  NTPP: int\n",
      " |      =1 perform dihedral angle transition monitoring\n",
      " |  \n",
      " |  Method resolution order:\n",
      " |      PRINTOUT\n",
      " |      _generic_imd_block\n",
      " |      pygromos.files.blocks._general_blocks._generic_gromos_block\n",
      " |      builtins.object\n",
      " |  \n",
      " |  Methods defined here:\n",
      " |  \n",
      " |  __init__(self, NTPR: int = 0, NTPP: int = 0, content: List[str] = None)\n",
      " |      Initialize self.  See help(type(self)) for accurate signature.\n",
      " |  \n",
      " |  ----------------------------------------------------------------------\n",
      " |  Data and other attributes defined here:\n",
      " |  \n",
      " |  __annotations__ = {'NTPP': <class 'int'>, 'NTPR': <class 'int'>, 'name...\n",
      " |  \n",
      " |  name = 'PRINTOUT'\n",
      " |  \n",
      " |  ----------------------------------------------------------------------\n",
      " |  Methods inherited from _generic_imd_block:\n",
      " |  \n",
      " |  block_to_string(self) -> str\n",
      " |  \n",
      " |  read_content_from_str(self, content: List[str])\n",
      " |  \n",
      " |  ----------------------------------------------------------------------\n",
      " |  Methods inherited from pygromos.files.blocks._general_blocks._generic_gromos_block:\n",
      " |  \n",
      " |  __copy__(self)\n",
      " |  \n",
      " |  __deepcopy__(self, memo)\n",
      " |  \n",
      " |  __eq__(self, _generic_gromos_block__o: object) -> bool\n",
      " |      Return self==value.\n",
      " |  \n",
      " |  __iter__(self)\n",
      " |  \n",
      " |  __repr__(self)\n",
      " |      Return repr(self).\n",
      " |  \n",
      " |  __str__(self)\n",
      " |      Return str(self).\n",
      " |  \n",
      " |  get_name(self)\n",
      " |  \n",
      " |  ----------------------------------------------------------------------\n",
      " |  Data descriptors inherited from pygromos.files.blocks._general_blocks._generic_gromos_block:\n",
      " |  \n",
      " |  __dict__\n",
      " |      dictionary for instance variables (if defined)\n",
      " |  \n",
      " |  __weakref__\n",
      " |      list of weak references to the object (if defined)\n",
      " |  \n",
      " |  ----------------------------------------------------------------------\n",
      " |  Data and other attributes inherited from pygromos.files.blocks._general_blocks._generic_gromos_block:\n",
      " |  \n",
      " |  __hash__ = None\n",
      "\n"
     ]
    }
   ],
   "source": [
    "help(emin_vac_imd_file.PRINTOUT)"
   ]
  },
  {
   "cell_type": "code",
   "execution_count": 23,
   "metadata": {
    "execution": {
     "iopub.execute_input": "2022-03-31T19:26:51.841095Z",
     "iopub.status.busy": "2022-03-31T19:26:51.840501Z",
     "iopub.status.idle": "2022-03-31T19:26:51.849641Z",
     "shell.execute_reply": "2022-03-31T19:26:51.848286Z"
    }
   },
   "outputs": [
    {
     "data": {
      "text/plain": [
       "PRINTOUT\n",
       "# \t NTPR \t NTPP\n",
       " \t 10 \t 0 \t \n",
       "END"
      ]
     },
     "execution_count": 23,
     "metadata": {},
     "output_type": "execute_result"
    }
   ],
   "source": [
    "emin_vac_imd_file.PRINTOUT"
   ]
  },
  {
   "cell_type": "markdown",
   "metadata": {},
   "source": [
    "Bonds vibrate at high frequencies (hν ≫ kBT ). Therefore, these vibrations are of quantum-mechanical\n",
    "nature. So constraining the bond lengths is a better approximation than treating them as classical harmonic\n",
    "oscillators. Constraining all bond lengths of the solute and solvent (NTC=3) allows the use of a rather large\n",
    "time step of 2 fs. In this example the constraints are imposed by the SHAKE algorithm for both solute\n",
    "(NTCP=1) and solvent (NTCS=1) with a tolerance of 0.0001. See 4-90 for more information."
   ]
  },
  {
   "cell_type": "code",
   "execution_count": 24,
   "metadata": {
    "execution": {
     "iopub.execute_input": "2022-03-31T19:26:51.855509Z",
     "iopub.status.busy": "2022-03-31T19:26:51.854640Z",
     "iopub.status.idle": "2022-03-31T19:26:51.868101Z",
     "shell.execute_reply": "2022-03-31T19:26:51.866695Z"
    }
   },
   "outputs": [
    {
     "name": "stdout",
     "output_type": "stream",
     "text": [
      "Help on CONSTRAINT in module pygromos.files.blocks.imd_blocks object:\n",
      "\n",
      "class CONSTRAINT(_generic_imd_block)\n",
      " |  CONSTRAINT(NTC: int = 0, NTCP: int = 0, NTCP0: float = 0, NTCS: int = 0, NTCS0: float = 0, content: List[str] = None)\n",
      " |  \n",
      " |  CONSTRAINT block\n",
      " |      This block is controlling constraining the atoms during a simulation.\n",
      " |  \n",
      " |  Attributes\n",
      " |  ----------\n",
      " |  NTC:    int\n",
      " |  NTCP:   int\n",
      " |  NTCP0:  int\n",
      " |  NTCS:   int\n",
      " |  NTCS0:  int\n",
      " |  \n",
      " |  Method resolution order:\n",
      " |      CONSTRAINT\n",
      " |      _generic_imd_block\n",
      " |      pygromos.files.blocks._general_blocks._generic_gromos_block\n",
      " |      builtins.object\n",
      " |  \n",
      " |  Methods defined here:\n",
      " |  \n",
      " |  __init__(self, NTC: int = 0, NTCP: int = 0, NTCP0: float = 0, NTCS: int = 0, NTCS0: float = 0, content: List[str] = None)\n",
      " |      Args:\n",
      " |          NTC:\n",
      " |          NTCP:\n",
      " |          NTCP0:\n",
      " |          NTCS:\n",
      " |          NTCS0:\n",
      " |  \n",
      " |  ----------------------------------------------------------------------\n",
      " |  Data and other attributes defined here:\n",
      " |  \n",
      " |  __annotations__ = {'NTC': <class 'int'>, 'NTCP': <class 'int'>, 'NTCP0...\n",
      " |  \n",
      " |  name = 'CONSTRAINT'\n",
      " |  \n",
      " |  ----------------------------------------------------------------------\n",
      " |  Methods inherited from _generic_imd_block:\n",
      " |  \n",
      " |  block_to_string(self) -> str\n",
      " |  \n",
      " |  read_content_from_str(self, content: List[str])\n",
      " |  \n",
      " |  ----------------------------------------------------------------------\n",
      " |  Methods inherited from pygromos.files.blocks._general_blocks._generic_gromos_block:\n",
      " |  \n",
      " |  __copy__(self)\n",
      " |  \n",
      " |  __deepcopy__(self, memo)\n",
      " |  \n",
      " |  __eq__(self, _generic_gromos_block__o: object) -> bool\n",
      " |      Return self==value.\n",
      " |  \n",
      " |  __iter__(self)\n",
      " |  \n",
      " |  __repr__(self)\n",
      " |      Return repr(self).\n",
      " |  \n",
      " |  __str__(self)\n",
      " |      Return str(self).\n",
      " |  \n",
      " |  get_name(self)\n",
      " |  \n",
      " |  ----------------------------------------------------------------------\n",
      " |  Data descriptors inherited from pygromos.files.blocks._general_blocks._generic_gromos_block:\n",
      " |  \n",
      " |  __dict__\n",
      " |      dictionary for instance variables (if defined)\n",
      " |  \n",
      " |  __weakref__\n",
      " |      list of weak references to the object (if defined)\n",
      " |  \n",
      " |  ----------------------------------------------------------------------\n",
      " |  Data and other attributes inherited from pygromos.files.blocks._general_blocks._generic_gromos_block:\n",
      " |  \n",
      " |  __hash__ = None\n",
      "\n"
     ]
    }
   ],
   "source": [
    "help(emin_vac_imd_file.CONSTRAINT)"
   ]
  },
  {
   "cell_type": "code",
   "execution_count": 25,
   "metadata": {
    "execution": {
     "iopub.execute_input": "2022-03-31T19:26:51.873802Z",
     "iopub.status.busy": "2022-03-31T19:26:51.873100Z",
     "iopub.status.idle": "2022-03-31T19:26:51.882338Z",
     "shell.execute_reply": "2022-03-31T19:26:51.881004Z"
    }
   },
   "outputs": [
    {
     "data": {
      "text/plain": [
       "CONSTRAINT\n",
       "# \t NTC\n",
       " \t 3 \t \n",
       "# \t NTCP \t NTCP0(1)\n",
       " \t 1 \t 0.000100 \t \n",
       "# \t NTCS \t NTCS0(1)\n",
       " \t 1 \t 0.000100 \t \n",
       "END"
      ]
     },
     "execution_count": 25,
     "metadata": {},
     "output_type": "execute_result"
    }
   ],
   "source": [
    "emin_vac_imd_file.CONSTRAINT"
   ]
  },
  {
   "cell_type": "markdown",
   "metadata": {},
   "source": [
    "In the FORCE block you tell MD++ which terms it should use for the energy and force calculation. For bond\n",
    "angles, improper dihedrals, torsional dihedrals and the non-bonded interactions the standard terms of the\n",
    "GROMOS force field are switched on (1). Because we are using bond-length constraints and the SHAKE\n",
    "algorithm, we have to switch off (0) the bond-stretching terms for the bonds involving hydrogen atoms and\n",
    "not involving hydrogen atoms..\n",
    "In the last line of this block, the energy groups are defined. In general, we define one or more energy\n",
    "groups for every molecule, and one comprising all the solvent molecules. The first integer is the number of\n",
    "energy groups we want to use (in the present case we only have one energy group). The following numbers\n",
    "are the atom sequence numbers of the last atom of each energy group. By defining these energy groups we\n",
    "7-9\n",
    "tell MD++ to sum up the energies between the atoms within these groups and calculate the inter-group\n",
    "energies, which can be very useful."
   ]
  },
  {
   "cell_type": "code",
   "execution_count": 26,
   "metadata": {
    "execution": {
     "iopub.execute_input": "2022-03-31T19:26:51.888862Z",
     "iopub.status.busy": "2022-03-31T19:26:51.887624Z",
     "iopub.status.idle": "2022-03-31T19:26:51.898123Z",
     "shell.execute_reply": "2022-03-31T19:26:51.896875Z"
    }
   },
   "outputs": [
    {
     "data": {
      "text/plain": [
       "FORCE\n",
       "# \t BONDS \t ANGLES \t IMPROPER \t DIHEDRAL \t ELECTROSTATIC \t VDW\n",
       " \t 0 \t 1 \t 1 \t 1 \t 1 \t 1 \t \n",
       "# \t NEGR \t NRE\n",
       " \t 1 \t 71 \t \n",
       "END"
      ]
     },
     "execution_count": 26,
     "metadata": {},
     "output_type": "execute_result"
    }
   ],
   "source": [
    "emin_vac_imd_file.FORCE"
   ]
  },
  {
   "cell_type": "markdown",
   "metadata": {},
   "source": [
    "In the PAIRLIST block you specify which algorithm you will use for the pairlist generation. The cut-off used\n",
    "in the short-range pairlist construction is given by RCUTP and for GROMOS it is usually 0.8 nm. The cut-off\n",
    "used in the long-range interactions is given by RCUTL and for GROMOS it is usually 1.4 nm. The pairlist is\n",
    "generated every 5th (NSNB) step. TYPE specifies the type of the cut-off, whether it is based on the distance\n",
    "between charge-groups (0) or on the distance between atoms (1).\n",
    "\n",
    "***\n",
    "**Warning**: Think very carefully about the definition of energy groups before running the simulation. Energies\n",
    "of energy groups can not be calculated from the trajectories in an efficient way. So, changing an energy-group\n",
    "definition will result in rerunning the simulation.\n",
    "***\n"
   ]
  },
  {
   "cell_type": "code",
   "execution_count": 27,
   "metadata": {
    "execution": {
     "iopub.execute_input": "2022-03-31T19:26:51.902187Z",
     "iopub.status.busy": "2022-03-31T19:26:51.901498Z",
     "iopub.status.idle": "2022-03-31T19:26:51.911126Z",
     "shell.execute_reply": "2022-03-31T19:26:51.909896Z"
    }
   },
   "outputs": [
    {
     "name": "stdout",
     "output_type": "stream",
     "text": [
      "Help on PAIRLIST in module pygromos.files.blocks.imd_blocks object:\n",
      "\n",
      "class PAIRLIST(_generic_imd_block)\n",
      " |  PAIRLIST(ALGORITHM: int = 0, NSNB: int = 0, RCUTP: float = 0, RCUTL: float = 0, SIZE: Union[str, float] = 0, TYPE: Union[str, bool] = False, content: List[str] = None)\n",
      " |  \n",
      " |  PAIRLIST Block\n",
      " |  \n",
      " |          This block is controlling the pairlist control.\n",
      " |  \n",
      " |  Attributes\n",
      " |  ----------\n",
      " |  ALGORITHM: int\n",
      " |      standard(0) (gromos96 like pairlist)\n",
      " |      grid(1) (md++ grid pairlist)\n",
      " |      grid_cell(2) (creates a mask)\n",
      " |  NSNB:   int\n",
      " |      frequency (number of steps) a pairlist is constructed\n",
      " |  RCUTPL: float\n",
      " |      short-range cut-off in twin-range\n",
      " |  RCUTL:  float\n",
      " |      intermediate-range cut-off in twin-range\n",
      " |  SIZE:   str, float\n",
      " |      grid cell size (or auto = 0.5 * RCUTP)\n",
      " |  TYPE:   str, bool\n",
      " |      chargegoup(0) (chargegroup based cutoff)\n",
      " |      atomic(1)     (atom based cutoff)\n",
      " |  \n",
      " |  Method resolution order:\n",
      " |      PAIRLIST\n",
      " |      _generic_imd_block\n",
      " |      pygromos.files.blocks._general_blocks._generic_gromos_block\n",
      " |      builtins.object\n",
      " |  \n",
      " |  Methods defined here:\n",
      " |  \n",
      " |  __init__(self, ALGORITHM: int = 0, NSNB: int = 0, RCUTP: float = 0, RCUTL: float = 0, SIZE: Union[str, float] = 0, TYPE: Union[str, bool] = False, content: List[str] = None)\n",
      " |      Args:\n",
      " |          ALGORITHM:\n",
      " |          NSNB:\n",
      " |          RCUTP:\n",
      " |          RCUTL:\n",
      " |          SIZE:\n",
      " |          TYPE:\n",
      " |  \n",
      " |  ----------------------------------------------------------------------\n",
      " |  Data and other attributes defined here:\n",
      " |  \n",
      " |  __annotations__ = {'ALGORITHM': <class 'int'>, 'NSNB': <class 'int'>, ...\n",
      " |  \n",
      " |  name = 'PAIRLIST'\n",
      " |  \n",
      " |  ----------------------------------------------------------------------\n",
      " |  Methods inherited from _generic_imd_block:\n",
      " |  \n",
      " |  block_to_string(self) -> str\n",
      " |  \n",
      " |  read_content_from_str(self, content: List[str])\n",
      " |  \n",
      " |  ----------------------------------------------------------------------\n",
      " |  Methods inherited from pygromos.files.blocks._general_blocks._generic_gromos_block:\n",
      " |  \n",
      " |  __copy__(self)\n",
      " |  \n",
      " |  __deepcopy__(self, memo)\n",
      " |  \n",
      " |  __eq__(self, _generic_gromos_block__o: object) -> bool\n",
      " |      Return self==value.\n",
      " |  \n",
      " |  __iter__(self)\n",
      " |  \n",
      " |  __repr__(self)\n",
      " |      Return repr(self).\n",
      " |  \n",
      " |  __str__(self)\n",
      " |      Return str(self).\n",
      " |  \n",
      " |  get_name(self)\n",
      " |  \n",
      " |  ----------------------------------------------------------------------\n",
      " |  Data descriptors inherited from pygromos.files.blocks._general_blocks._generic_gromos_block:\n",
      " |  \n",
      " |  __dict__\n",
      " |      dictionary for instance variables (if defined)\n",
      " |  \n",
      " |  __weakref__\n",
      " |      list of weak references to the object (if defined)\n",
      " |  \n",
      " |  ----------------------------------------------------------------------\n",
      " |  Data and other attributes inherited from pygromos.files.blocks._general_blocks._generic_gromos_block:\n",
      " |  \n",
      " |  __hash__ = None\n",
      "\n"
     ]
    }
   ],
   "source": [
    "help(emin_vac_imd_file.PAIRLIST)"
   ]
  },
  {
   "cell_type": "code",
   "execution_count": 28,
   "metadata": {
    "execution": {
     "iopub.execute_input": "2022-03-31T19:26:51.915694Z",
     "iopub.status.busy": "2022-03-31T19:26:51.915305Z",
     "iopub.status.idle": "2022-03-31T19:26:51.924648Z",
     "shell.execute_reply": "2022-03-31T19:26:51.923252Z"
    }
   },
   "outputs": [
    {
     "data": {
      "text/plain": [
       "PAIRLIST\n",
       "# \t ALGORITHM \t NSNB \t RCUTP \t RCUTL \t SIZE \t TYPE\n",
       " \t 0 \t 5 \t 0.800000 \t 1.400000 \t 0.4 \t 0 \t \n",
       "END"
      ]
     },
     "execution_count": 28,
     "metadata": {},
     "output_type": "execute_result"
    }
   ],
   "source": [
    "emin_vac_imd_file.PAIRLIST"
   ]
  },
  {
   "cell_type": "markdown",
   "metadata": {},
   "source": [
    "In the NONBONDED block you specify using NLRELE which method for the evaluation of long-range electrostatic\n",
    "interactions is used. Since you will use the reaction-field method, the value of NLRELE should be equal to\n",
    "1. The long-range electrostatic interactions are truncated beyond a certain cutoff (RCUTL in the PAIRLIST\n",
    "block). Beyond the reaction-field cut-off radius (RCRF) the electrostatic interactions are replaced by a static\n",
    "reaction field with a dielectric permittivity of EPSRF. RCRF and RCUTL should be identical. Because we are\n",
    "doing the energy minimisation in vacuo EPSRF is set to 1. With NSLFEXCL equal to 1, you include the\n",
    "contributions of excluded atoms to the electrostatic energy. The ionic strength of the continuum is set to 0\n",
    "(APPAK). All other switches are not used for the reaction-field method. See 4-98 for more information.\n"
   ]
  },
  {
   "cell_type": "code",
   "execution_count": 29,
   "metadata": {
    "execution": {
     "iopub.execute_input": "2022-03-31T19:26:51.928718Z",
     "iopub.status.busy": "2022-03-31T19:26:51.928107Z",
     "iopub.status.idle": "2022-03-31T19:26:51.943489Z",
     "shell.execute_reply": "2022-03-31T19:26:51.941861Z"
    }
   },
   "outputs": [
    {
     "name": "stdout",
     "output_type": "stream",
     "text": [
      "Help on NONBONDED in module pygromos.files.blocks.imd_blocks object:\n",
      "\n",
      "class NONBONDED(_generic_imd_block)\n",
      " |  NONBONDED(NLRELE: int = 0, APPAK: float = 0, RCRF: float = 0, EPSRF: float = 0, NSLFEXCL: bool = False, NSHAPE: int = 0, ASHAPE: float = 0, NA2CLC: int = 0, TOLA2: str = 0, EPSLS: float = 0, NKX: int = 0, NKY: int = 0, NKZ: int = 0, KCUT: float = 0, NGX: int = 0, NGY: int = 0, NGZ: int = 0, NASORD: int = 0, NFDORD: int = 0, NALIAS: int = 0, NSPORD: int = 0, NQEVAL: int = 0, FACCUR: float = 0, NRDGRD: bool = False, NWRGRD: bool = False, NLRLJ: bool = False, SLVDNS: float = 0, content: List[str] = None)\n",
      " |  \n",
      " |  NONBONDED block\n",
      " |  \n",
      " |      This block is controlling the Nonbonded term evaluation\n",
      " |  \n",
      " |  Attributes\n",
      " |  ----------\n",
      " |  NLRELE: int\n",
      " |      1-3 method to handle electrostatic interactions\n",
      " |      -1 : reaction-field (LSERF compatibility mode)\n",
      " |      0 : no electrostatic interactions\n",
      " |      1 : reaction-field\n",
      " |      2 : Ewald method\n",
      " |      3 : P3M method\n",
      " |  APPAK: float\n",
      " |      >= 0.0 reaction-field inverse Debye screening length\n",
      " |  RCRF: float\n",
      " |      >= 0.0 reaction-field radius\n",
      " |  EPSRF: float\n",
      " |       = 0.0 || > 1.0 reaction-field permittivity\n",
      " |  NSLFEXCL: bool\n",
      " |      contribution of excluded atoms to reaction field false=off/true=on\n",
      " |  NSHAPE: float\n",
      " |      -1..10 lattice sum charge-shaping function\n",
      " |      -1 : gaussian\n",
      " |      0..10 : polynomial\n",
      " |  ASHAPE: float\n",
      " |      > 0.0 width of the lattice sum charge-shaping function\n",
      " |  NA2CLC: int\n",
      " |      0..4 controls evaluation of lattice sum A2 term\n",
      " |      0 : A2 = A2~ = 0\n",
      " |      1 : A2~ exact, A2 = A2~\n",
      " |      2 : A2 numerical, A2~ = A2\n",
      " |      3 : A2~ exact from Ewald or from mesh and atom coords, A2 numerical\n",
      " |      4 : A2~ averaged from mesh only, A2 numerical\n",
      " |  TOLA2: float\n",
      " |       > 0.0 tolerance for numerical A2 evaluation\n",
      " |  EPSLS: float\n",
      " |      = 0.0 || > 1.0 lattice sum permittivity (0.0 = tinfoil)\n",
      " |  NKX, NKY, NKZ: float\n",
      " |      > 0 maximum absolute Ewald k-vector components\n",
      " |  KCUT: float\n",
      " |      > 0.0 Ewald k-space cutoff\n",
      " |  NGX, NGY, NGZ: float\n",
      " |      > 0 P3M number of grid points\n",
      " |  NASORD: int\n",
      " |      1..5 order of mesh charge assignment function\n",
      " |  NFDORD: int\n",
      " |      0..5 order of the mesh finite difference operator\n",
      " |      0 : ik - differentiation\n",
      " |      1..5 : finite differentiation\n",
      " |  NALIAS: float\n",
      " |      > 0 number of mesh alias vectors considered\n",
      " |  NSPORD: float\n",
      " |      order of SPME B-spline functions (not available)\n",
      " |  NQEVAL: float\n",
      " |      >= 0 controls accuracy reevaluation\n",
      " |      0 : do not reevaluate\n",
      " |      > 0 : evaluate every NQEVAL steps\n",
      " |  FACCUR: float\n",
      " |      > 0.0 rms force error threshold to recompute influence function\n",
      " |  NRDGRD: bool\n",
      " |      0,1 read influence function\n",
      " |      0 : calculate influence function at simulation start up\n",
      " |      1 : read influence function from file (not yet implemented)\n",
      " |  NWRGRD: bool\n",
      " |      0,1 write influence function\n",
      " |      0 : do not write\n",
      " |      1 : write at the end of the simulation (not yet implemented)\n",
      " |  NLRLJ: bool\n",
      " |      0,1 controls long-range Lennard-Jones corrections\n",
      " |      0 : no corrections\n",
      " |      1 : do corrections (not yet implemented)\n",
      " |  SLVDNS: float\n",
      " |      > 0.0 average solvent density for long-range LJ correction (ignored)\n",
      " |  \n",
      " |  Method resolution order:\n",
      " |      NONBONDED\n",
      " |      _generic_imd_block\n",
      " |      pygromos.files.blocks._general_blocks._generic_gromos_block\n",
      " |      builtins.object\n",
      " |  \n",
      " |  Methods defined here:\n",
      " |  \n",
      " |  __init__(self, NLRELE: int = 0, APPAK: float = 0, RCRF: float = 0, EPSRF: float = 0, NSLFEXCL: bool = False, NSHAPE: int = 0, ASHAPE: float = 0, NA2CLC: int = 0, TOLA2: str = 0, EPSLS: float = 0, NKX: int = 0, NKY: int = 0, NKZ: int = 0, KCUT: float = 0, NGX: int = 0, NGY: int = 0, NGZ: int = 0, NASORD: int = 0, NFDORD: int = 0, NALIAS: int = 0, NSPORD: int = 0, NQEVAL: int = 0, FACCUR: float = 0, NRDGRD: bool = False, NWRGRD: bool = False, NLRLJ: bool = False, SLVDNS: float = 0, content: List[str] = None)\n",
      " |      Initialize self.  See help(type(self)) for accurate signature.\n",
      " |  \n",
      " |  ----------------------------------------------------------------------\n",
      " |  Data and other attributes defined here:\n",
      " |  \n",
      " |  __annotations__ = {'APPAK': <class 'float'>, 'ASHAPE': <class 'float'>...\n",
      " |  \n",
      " |  name = 'NONBONDED'\n",
      " |  \n",
      " |  ----------------------------------------------------------------------\n",
      " |  Methods inherited from _generic_imd_block:\n",
      " |  \n",
      " |  block_to_string(self) -> str\n",
      " |  \n",
      " |  read_content_from_str(self, content: List[str])\n",
      " |  \n",
      " |  ----------------------------------------------------------------------\n",
      " |  Methods inherited from pygromos.files.blocks._general_blocks._generic_gromos_block:\n",
      " |  \n",
      " |  __copy__(self)\n",
      " |  \n",
      " |  __deepcopy__(self, memo)\n",
      " |  \n",
      " |  __eq__(self, _generic_gromos_block__o: object) -> bool\n",
      " |      Return self==value.\n",
      " |  \n",
      " |  __iter__(self)\n",
      " |  \n",
      " |  __repr__(self)\n",
      " |      Return repr(self).\n",
      " |  \n",
      " |  __str__(self)\n",
      " |      Return str(self).\n",
      " |  \n",
      " |  get_name(self)\n",
      " |  \n",
      " |  ----------------------------------------------------------------------\n",
      " |  Data descriptors inherited from pygromos.files.blocks._general_blocks._generic_gromos_block:\n",
      " |  \n",
      " |  __dict__\n",
      " |      dictionary for instance variables (if defined)\n",
      " |  \n",
      " |  __weakref__\n",
      " |      list of weak references to the object (if defined)\n",
      " |  \n",
      " |  ----------------------------------------------------------------------\n",
      " |  Data and other attributes inherited from pygromos.files.blocks._general_blocks._generic_gromos_block:\n",
      " |  \n",
      " |  __hash__ = None\n",
      "\n"
     ]
    }
   ],
   "source": [
    "help(emin_vac_imd_file.NONBONDED)"
   ]
  },
  {
   "cell_type": "code",
   "execution_count": 30,
   "metadata": {
    "execution": {
     "iopub.execute_input": "2022-03-31T19:26:51.949503Z",
     "iopub.status.busy": "2022-03-31T19:26:51.948600Z",
     "iopub.status.idle": "2022-03-31T19:26:51.962388Z",
     "shell.execute_reply": "2022-03-31T19:26:51.960790Z"
    }
   },
   "outputs": [
    {
     "data": {
      "text/plain": [
       "NONBONDED\n",
       "# \t NLRELE\n",
       " \t 1 \t \n",
       "# \t APPAK \t RCRF \t EPSRF \t NSLFEXCL\n",
       " \t 0.000000 \t 1.400000 \t 61.000000 \t 1 \t \n",
       "# \t NSHAPE \t ASHAPE \t NA2CLC \t TOLA2 \t EPSLS\n",
       " \t -1 \t 1.400000 \t 2 \t 1e-10 \t 0.000000 \t \n",
       "# \t NKX \t NKY \t NKZ \t KCUT\n",
       " \t 10 \t 10 \t 10 \t 100.000000 \t \n",
       "# \t NGX \t NGY \t NGZ \t NASORD \t NFDORD \t NALIAS \t NSPORD\n",
       " \t 32 \t 32 \t 32 \t 3 \t 2 \t 3 \t 4 \t \n",
       "# \t NQEVAL \t FACCUR \t NRDGRD \t NWRGRD\n",
       " \t 100000 \t 1.600000 \t 0 \t 0 \t \n",
       "# \t NLRLJ \t SLVDNS\n",
       " \t 0 \t 33.300000 \t \n",
       "END"
      ]
     },
     "execution_count": 30,
     "metadata": {},
     "output_type": "execute_result"
    }
   ],
   "source": [
    "emin_vac_imd_file.NONBONDED"
   ]
  },
  {
   "cell_type": "markdown",
   "metadata": {},
   "source": [
    "#### Perform Emin\n",
    "In order to run the MD++ program, a shell script needs to be prepared. Open the shell script em peptide.\n",
    "run and adapt the paths and the names of the files according to your system.\n"
   ]
  },
  {
   "cell_type": "code",
   "execution_count": 31,
   "metadata": {
    "execution": {
     "iopub.execute_input": "2022-03-31T19:26:51.967606Z",
     "iopub.status.busy": "2022-03-31T19:26:51.966969Z",
     "iopub.status.idle": "2022-03-31T19:27:00.879103Z",
     "shell.execute_reply": "2022-03-31T19:27:00.877449Z"
    }
   },
   "outputs": [
    {
     "data": {
      "text/plain": [
       "\n",
       "GROMOS SYSTEM: peptideH\n",
       "################################################################################\n",
       "WORKDIR: /home/mlehner/PyGromosTools/examples/example_files/Tutorial_System\n",
       "LAST CHECKPOINT: None\n",
       "\n",
       "GromosXX_bin: /home/bschroed/Documents/projects/gromosXX/gromosXX/build/bin\n",
       "GromosPP_bin: None\n",
       "FILES: \n",
       "\timd: /home/mlehner/PyGromosTools/pygromos/data/simulation_parameters_templates/vac_emin.imd\n",
       "\ttop: /home/mlehner/PyGromosTools/examples/example_files/Tutorial_System/peptideH.top\n",
       "\tcnf: /home/mlehner/PyGromosTools/examples/example_files/Tutorial_System/peptideH.cnf\n",
       "FUTURE PROMISE: False\n",
       "SYSTEM: \n",
       "\tPROTEIN:\tprotein  nresidues: 5 natoms: 71\n",
       "\tLIGANDS:\t[]  resID: []  natoms: 0\n",
       "\tNon-LIGANDS:\t[]  nmolecules: 0  natoms: 0\n",
       "\tSOLVENT:\t[]  nmolecules: 0  natoms: 0\n",
       "\n"
      ]
     },
     "execution_count": 31,
     "metadata": {},
     "output_type": "execute_result"
    }
   ],
   "source": [
    "from pygromos.simulations.modules.preset_simulation_modules import emin\n",
    "\n",
    "out_prefix = \"emin_vacuum\"\n",
    "\n",
    "## Preparing emin gromos system\n",
    "in_emin_system = build_system.copy()\n",
    "in_emin_system.work_folder = project_dir\n",
    "in_emin_system._gromosXX_bin_dir = gromosXX_bin\n",
    "in_emin_system.imd = emin_vac_imd_file # This step is not necessary, as we did this before\n",
    "\n",
    "from pygromos.files.blocks.imd_blocks import WRITETRAJ\n",
    "in_emin_system.imd.add_block(block=WRITETRAJ(NTWE=25, NTWX=25))\n",
    "\n",
    "in_emin_system.prepare_for_simulation()\n",
    "\n",
    "in_emin_system"
   ]
  },
  {
   "cell_type": "code",
   "execution_count": 32,
   "metadata": {
    "execution": {
     "iopub.execute_input": "2022-03-31T19:27:00.883424Z",
     "iopub.status.busy": "2022-03-31T19:27:00.882529Z",
     "iopub.status.idle": "2022-03-31T19:27:12.201550Z",
     "shell.execute_reply": "2022-03-31T19:27:12.200246Z"
    }
   },
   "outputs": [
    {
     "name": "stdout",
     "output_type": "stream",
     "text": [
      "################################################################################\n",
      "\n",
      "b_emin_vacuum\n",
      "################################################################################\n",
      "\n",
      "Script:  /home/mlehner/PyGromosTools/pygromos/simulations/hpc_queuing/job_scheduling/schedulers/simulation_scheduler.py\n",
      "\n",
      "################################################################################\n",
      "Simulation Setup:\n",
      "################################################################################\n",
      "\n",
      "steps_per_run:  3000\n",
      "equis:  0\n",
      "simulation runs:  1\n"
     ]
    },
    {
     "name": "stdout",
     "output_type": "stream",
     "text": [
      "#####################################################################################\n",
      "\t\tERROR in Submission\n",
      "#####################################################################################\n"
     ]
    },
    {
     "name": "stderr",
     "output_type": "stream",
     "text": [
      "Traceback (most recent call last):\n",
      "  File \"/home/mlehner/PyGromosTools/pygromos/simulations/hpc_queuing/submission_systems/local.py\", line 71, in submit_to_queue\n",
      "    process = bash.execute(command=command, catch_STD=True, env=self.environment)\n",
      "  File \"/home/mlehner/PyGromosTools/pygromos/utils/bash.py\", line 935, in execute\n",
      "    return execute_subprocess(command=command, verbose=verbose, catch_STD=catch_STD, env=env)\n",
      "  File \"/home/mlehner/PyGromosTools/pygromos/utils/bash.py\", line 829, in execute_subprocess\n",
      "    raise ChildProcessError(msg)\n",
      "ChildProcessError: SubProcess Failed due to returncode: 1\n",
      " COMMAND: \n",
      "\t/home/mlehner/PyGromosTools/examples/example_files/Tutorial_System/b_emin_vacuum/simulation/b_emin_vacuum_1/job_b_emin_vacuum_1.sh\n",
      "STDOUT:\n",
      "\tb'Could not find TMPDIR!\\n'\n",
      "\tb' Switched to outdir for work\\n'\n",
      "\tb'workDIR: /home/mlehner/PyGromosTools/examples/example_files/Tutorial_System/b_emin_vacuum/simulation/b_emin_vacuum_1\\n'\n",
      "\tb\"input:  <class 'str'> /home/bschroed/Documents/projects/gromosXX/gromosXX/build/bin/\\n\"\n",
      "\tb\"gromosXX._bin:  <class 'str'> /home/bschroed/Documents/projects/gromosXX/gromosXX/build/bin/\\n\"\n",
      "\tb\"gromosXX.bin:  <class 'str'> /home/bschroed/Documents/projects/gromosXX/gromosXX/build/bin/\\n\"\n",
      "\tb'________________________________________\\n'\n",
      "\tb'\\n'\n",
      "\tb' start MD b_emin_vacuum_1.imd\\n'\n",
      "\tb'\\n'\n",
      "\tb'COMMAND:  export OMP_NUM_THREADS=1  &&  /home/bschroed/Documents/projects/gromosXX/gromosXX/build/bin/md @topo /home/mlehner/PyGromosTools/examples/example_files/Tutorial_System/b_emin_vacuum/input/b_emin_vacuum.top @conf /home/mlehner/PyGromosTools/examples/example_files/Tutorial_System/b_emin_vacuum/input/b_emin_vacuum.cnf @input /home/mlehner/PyGromosTools/examples/example_files/Tutorial_System/b_emin_vacuum/simulation/b_emin_vacuum_1/b_emin_vacuum_1.imd @fin b_emin_vacuum_1.cnf @trc b_emin_vacuum_1.trc @tre b_emin_vacuum_1.tre > b_emin_vacuum_1.omd\\n'\n",
      "\tb'\\n'\n",
      "\tb'Failed! process returned: \\n'\n",
      "\tb' Err: \\n'\n",
      "\tb'SubProcess Failed due to returncode: 127\\n'\n",
      "\tb' COMMAND: \\n'\n",
      "\tb'\\texport OMP_NUM_THREADS=1  &&  /home/bschroed/Documents/projects/gromosXX/gromosXX/build/bin/md @topo /home/mlehner/PyGromosTools/examples/example_files/Tutorial_System/b_emin_vacuum/input/b_emin_vacuum.top @conf /home/mlehner/PyGromosTools/examples/example_files/Tutorial_System/b_emin_vacuum/input/b_emin_vacuum.cnf @input /home/mlehner/PyGromosTools/examples/example_files/Tutorial_System/b_emin_vacuum/simulation/b_emin_vacuum_1/b_emin_vacuum_1.imd @fin b_emin_vacuum_1.cnf @trc b_emin_vacuum_1.trc @tre b_emin_vacuum_1.tre > b_emin_vacuum_1.omd\\n'\n",
      "\tb'\\n'\n",
      "\tb'STDOUT:\\n'\n",
      "\tb'\\t\\n'\n",
      "\tb'STDERR:\\n'\n",
      "\tb\"\\tb'/bin/sh: 1: /home/bschroed/Documents/projects/gromosXX/gromosXX/build/bin/md: not found\\\\n'\\n\"\n",
      "\tb'GROMOS OUTPUT:\\n'\n",
      "STDERR:\n",
      "\tb'Traceback (most recent call last):\\n'\n",
      "\tb'  File \"/home/mlehner/PyGromosTools/pygromos/simulations/hpc_queuing/job_scheduling/workers/simulation_workers/simulation_run_worker.py\", line 202, in work\\n'\n",
      "\tb'    omd_file_path = gromosXX.md_run(\\n'\n",
      "\tb'  File \"/home/mlehner/PyGromosTools/pygromos/gromos/_gromosClass.py\", line 78, in convert_pyGromos_types\\n'\n",
      "\tb'    return func(self, *nargs, **kwargs)\\n'\n",
      "\tb'  File \"/home/mlehner/PyGromosTools/pygromos/gromos/gromosXX.py\", line 215, in md_run\\n'\n",
      "\tb'    process = bash.execute(command_text)\\n'\n",
      "\tb'  File \"/home/mlehner/PyGromosTools/pygromos/utils/bash.py\", line 935, in execute\\n'\n",
      "\tb'    return execute_subprocess(command=command, verbose=verbose, catch_STD=catch_STD, env=env)\\n'\n",
      "\tb'  File \"/home/mlehner/PyGromosTools/pygromos/utils/bash.py\", line 829, in execute_subprocess\\n'\n",
      "\tb'    raise ChildProcessError(msg)\\n'\n",
      "\tb'ChildProcessError: SubProcess Failed due to returncode: 127\\n'\n",
      "\tb' COMMAND: \\n'\n",
      "\tb'\\texport OMP_NUM_THREADS=1  &&  /home/bschroed/Documents/projects/gromosXX/gromosXX/build/bin/md @topo /home/mlehner/PyGromosTools/examples/example_files/Tutorial_System/b_emin_vacuum/input/b_emin_vacuum.top @conf /home/mlehner/PyGromosTools/examples/example_files/Tutorial_System/b_emin_vacuum/input/b_emin_vacuum.cnf @input /home/mlehner/PyGromosTools/examples/example_files/Tutorial_System/b_emin_vacuum/simulation/b_emin_vacuum_1/b_emin_vacuum_1.imd @fin b_emin_vacuum_1.cnf @trc b_emin_vacuum_1.trc @tre b_emin_vacuum_1.tre > b_emin_vacuum_1.omd\\n'\n",
      "\tb'\\n'\n",
      "\tb'STDOUT:\\n'\n",
      "\tb'\\t\\n'\n",
      "\tb'STDERR:\\n'\n",
      "\tb\"\\tb'/bin/sh: 1: /home/bschroed/Documents/projects/gromosXX/gromosXX/build/bin/md: not found\\\\n'\\n\"\n",
      "\tb'\\n'\n",
      "\tb'Failed during simulations: \\n'\n",
      "\tb\"<class 'ChildProcessError'>\\n\"\n",
      "\tb'(\"SubProcess Failed due to returncode: 127\\\\n COMMAND: \\\\n\\\\texport OMP_NUM_THREADS=1  &&  /home/bschroed/Documents/projects/gromosXX/gromosXX/build/bin/md @topo /home/mlehner/PyGromosTools/examples/example_files/Tutorial_System/b_emin_vacuum/input/b_emin_vacuum.top @conf /home/mlehner/PyGromosTools/examples/example_files/Tutorial_System/b_emin_vacuum/input/b_emin_vacuum.cnf @input /home/mlehner/PyGromosTools/examples/example_files/Tutorial_System/b_emin_vacuum/simulation/b_emin_vacuum_1/b_emin_vacuum_1.imd @fin b_emin_vacuum_1.cnf @trc b_emin_vacuum_1.trc @tre b_emin_vacuum_1.tre > b_emin_vacuum_1.omd\\\\n\\\\nSTDOUT:\\\\n\\\\t\\\\nSTDERR:\\\\n\\\\tb\\'/bin/sh: 1: /home/bschroed/Documents/projects/gromosXX/gromosXX/build/bin/md: not found\\\\\\\\n\\'\",)\\n'\n",
      "\n",
      "During handling of the above exception, another exception occurred:\n",
      "\n",
      "Traceback (most recent call last):\n",
      "  File \"/home/mlehner/PyGromosTools/pygromos/simulations/hpc_queuing/job_scheduling/schedulers/simulation_scheduler.py\", line 188, in do\n",
      "    previous_job_ID, tmp_jobname, in_simSystem = chain_submission(\n",
      "  File \"/home/mlehner/PyGromosTools/pygromos/simulations/hpc_queuing/job_scheduling/schedulers/scheduler_functions.py\", line 308, in chain_submission\n",
      "    previous_job_ID = job_submission_system.submit_to_queue(sub_job)\n",
      "  File \"/home/mlehner/PyGromosTools/pygromos/simulations/hpc_queuing/submission_systems/local.py\", line 84, in submit_to_queue\n",
      "    print(process)\n",
      "UnboundLocalError: local variable 'process' referenced before assignment\n",
      "Traceback (most recent call last):\n",
      "  File \"/home/mlehner/PyGromosTools/pygromos/simulations/hpc_queuing/submission_systems/local.py\", line 71, in submit_to_queue\n",
      "    process = bash.execute(command=command, catch_STD=True, env=self.environment)\n",
      "  File \"/home/mlehner/PyGromosTools/pygromos/utils/bash.py\", line 935, in execute\n",
      "    return execute_subprocess(command=command, verbose=verbose, catch_STD=catch_STD, env=env)\n",
      "  File \"/home/mlehner/PyGromosTools/pygromos/utils/bash.py\", line 829, in execute_subprocess\n",
      "    raise ChildProcessError(msg)\n",
      "ChildProcessError: SubProcess Failed due to returncode: 1\n",
      " COMMAND: \n",
      "\t/home/mlehner/PyGromosTools/examples/example_files/Tutorial_System/b_emin_vacuum/simulation/b_emin_vacuum_1/job_b_emin_vacuum_1.sh\n",
      "STDOUT:\n",
      "\tb'Could not find TMPDIR!\\n'\n",
      "\tb' Switched to outdir for work\\n'\n",
      "\tb'workDIR: /home/mlehner/PyGromosTools/examples/example_files/Tutorial_System/b_emin_vacuum/simulation/b_emin_vacuum_1\\n'\n",
      "\tb\"input:  <class 'str'> /home/bschroed/Documents/projects/gromosXX/gromosXX/build/bin/\\n\"\n",
      "\tb\"gromosXX._bin:  <class 'str'> /home/bschroed/Documents/projects/gromosXX/gromosXX/build/bin/\\n\"\n",
      "\tb\"gromosXX.bin:  <class 'str'> /home/bschroed/Documents/projects/gromosXX/gromosXX/build/bin/\\n\"\n",
      "\tb'________________________________________\\n'\n",
      "\tb'\\n'\n",
      "\tb' start MD b_emin_vacuum_1.imd\\n'\n",
      "\tb'\\n'\n",
      "\tb'COMMAND:  export OMP_NUM_THREADS=1  &&  /home/bschroed/Documents/projects/gromosXX/gromosXX/build/bin/md @topo /home/mlehner/PyGromosTools/examples/example_files/Tutorial_System/b_emin_vacuum/input/b_emin_vacuum.top @conf /home/mlehner/PyGromosTools/examples/example_files/Tutorial_System/b_emin_vacuum/input/b_emin_vacuum.cnf @input /home/mlehner/PyGromosTools/examples/example_files/Tutorial_System/b_emin_vacuum/simulation/b_emin_vacuum_1/b_emin_vacuum_1.imd @fin b_emin_vacuum_1.cnf @trc b_emin_vacuum_1.trc @tre b_emin_vacuum_1.tre > b_emin_vacuum_1.omd\\n'\n",
      "\tb'\\n'\n",
      "\tb'Failed! process returned: \\n'\n",
      "\tb' Err: \\n'\n",
      "\tb'SubProcess Failed due to returncode: 127\\n'\n",
      "\tb' COMMAND: \\n'\n",
      "\tb'\\texport OMP_NUM_THREADS=1  &&  /home/bschroed/Documents/projects/gromosXX/gromosXX/build/bin/md @topo /home/mlehner/PyGromosTools/examples/example_files/Tutorial_System/b_emin_vacuum/input/b_emin_vacuum.top @conf /home/mlehner/PyGromosTools/examples/example_files/Tutorial_System/b_emin_vacuum/input/b_emin_vacuum.cnf @input /home/mlehner/PyGromosTools/examples/example_files/Tutorial_System/b_emin_vacuum/simulation/b_emin_vacuum_1/b_emin_vacuum_1.imd @fin b_emin_vacuum_1.cnf @trc b_emin_vacuum_1.trc @tre b_emin_vacuum_1.tre > b_emin_vacuum_1.omd\\n'\n",
      "\tb'\\n'\n",
      "\tb'STDOUT:\\n'\n",
      "\tb'\\t\\n'\n",
      "\tb'STDERR:\\n'\n",
      "\tb\"\\tb'/bin/sh: 1: /home/bschroed/Documents/projects/gromosXX/gromosXX/build/bin/md: not found\\\\n'\\n\"\n",
      "\tb'GROMOS OUTPUT:\\n'\n",
      "STDERR:\n",
      "\tb'Traceback (most recent call last):\\n'\n",
      "\tb'  File \"/home/mlehner/PyGromosTools/pygromos/simulations/hpc_queuing/job_scheduling/workers/simulation_workers/simulation_run_worker.py\", line 202, in work\\n'\n",
      "\tb'    omd_file_path = gromosXX.md_run(\\n'\n",
      "\tb'  File \"/home/mlehner/PyGromosTools/pygromos/gromos/_gromosClass.py\", line 78, in convert_pyGromos_types\\n'\n",
      "\tb'    return func(self, *nargs, **kwargs)\\n'\n",
      "\tb'  File \"/home/mlehner/PyGromosTools/pygromos/gromos/gromosXX.py\", line 215, in md_run\\n'\n",
      "\tb'    process = bash.execute(command_text)\\n'\n",
      "\tb'  File \"/home/mlehner/PyGromosTools/pygromos/utils/bash.py\", line 935, in execute\\n'\n",
      "\tb'    return execute_subprocess(command=command, verbose=verbose, catch_STD=catch_STD, env=env)\\n'\n",
      "\tb'  File \"/home/mlehner/PyGromosTools/pygromos/utils/bash.py\", line 829, in execute_subprocess\\n'\n",
      "\tb'    raise ChildProcessError(msg)\\n'\n",
      "\tb'ChildProcessError: SubProcess Failed due to returncode: 127\\n'\n",
      "\tb' COMMAND: \\n'\n",
      "\tb'\\texport OMP_NUM_THREADS=1  &&  /home/bschroed/Documents/projects/gromosXX/gromosXX/build/bin/md @topo /home/mlehner/PyGromosTools/examples/example_files/Tutorial_System/b_emin_vacuum/input/b_emin_vacuum.top @conf /home/mlehner/PyGromosTools/examples/example_files/Tutorial_System/b_emin_vacuum/input/b_emin_vacuum.cnf @input /home/mlehner/PyGromosTools/examples/example_files/Tutorial_System/b_emin_vacuum/simulation/b_emin_vacuum_1/b_emin_vacuum_1.imd @fin b_emin_vacuum_1.cnf @trc b_emin_vacuum_1.trc @tre b_emin_vacuum_1.tre > b_emin_vacuum_1.omd\\n'\n",
      "\tb'\\n'\n",
      "\tb'STDOUT:\\n'\n",
      "\tb'\\t\\n'\n",
      "\tb'STDERR:\\n'\n",
      "\tb\"\\tb'/bin/sh: 1: /home/bschroed/Documents/projects/gromosXX/gromosXX/build/bin/md: not found\\\\n'\\n\"\n",
      "\tb'\\n'\n",
      "\tb'Failed during simulations: \\n'\n",
      "\tb\"<class 'ChildProcessError'>\\n\"\n",
      "\tb'(\"SubProcess Failed due to returncode: 127\\\\n COMMAND: \\\\n\\\\texport OMP_NUM_THREADS=1  &&  /home/bschroed/Documents/projects/gromosXX/gromosXX/build/bin/md @topo /home/mlehner/PyGromosTools/examples/example_files/Tutorial_System/b_emin_vacuum/input/b_emin_vacuum.top @conf /home/mlehner/PyGromosTools/examples/example_files/Tutorial_System/b_emin_vacuum/input/b_emin_vacuum.cnf @input /home/mlehner/PyGromosTools/examples/example_files/Tutorial_System/b_emin_vacuum/simulation/b_emin_vacuum_1/b_emin_vacuum_1.imd @fin b_emin_vacuum_1.cnf @trc b_emin_vacuum_1.trc @tre b_emin_vacuum_1.tre > b_emin_vacuum_1.omd\\\\n\\\\nSTDOUT:\\\\n\\\\t\\\\nSTDERR:\\\\n\\\\tb\\'/bin/sh: 1: /home/bschroed/Documents/projects/gromosXX/gromosXX/build/bin/md: not found\\\\\\\\n\\'\",)\\n'\n",
      "\n",
      "During handling of the above exception, another exception occurred:\n",
      "\n",
      "Traceback (most recent call last):\n",
      "  File \"/home/mlehner/PyGromosTools/pygromos/simulations/hpc_queuing/job_scheduling/schedulers/simulation_scheduler.py\", line 188, in do\n",
      "    previous_job_ID, tmp_jobname, in_simSystem = chain_submission(\n",
      "  File \"/home/mlehner/PyGromosTools/pygromos/simulations/hpc_queuing/job_scheduling/schedulers/scheduler_functions.py\", line 308, in chain_submission\n",
      "    previous_job_ID = job_submission_system.submit_to_queue(sub_job)\n",
      "  File \"/home/mlehner/PyGromosTools/pygromos/simulations/hpc_queuing/submission_systems/local.py\", line 84, in submit_to_queue\n",
      "    print(process)\n",
      "UnboundLocalError: local variable 'process' referenced before assignment\n",
      "\n",
      "The above exception was the direct cause of the following exception:\n",
      "\n",
      "Traceback (most recent call last):\n",
      "  File \"/home/mlehner/PyGromosTools/pygromos/simulations/modules/general_simulation_modules.py\", line 208, in simulation\n",
      "    last_jobID = simulation_scheduler.do(**MD_job_vars)\n",
      "  File \"/home/mlehner/PyGromosTools/pygromos/simulations/hpc_queuing/job_scheduling/schedulers/simulation_scheduler.py\", line 234, in do\n",
      "    raise IOError(\"ERROR in SUBMISSION!\") from err\n",
      "OSError: ERROR in SUBMISSION!\n"
     ]
    },
    {
     "ename": "Exception",
     "evalue": "Could not submit the commands\n\tERROR in SUBMISSION!",
     "output_type": "error",
     "traceback": [
      "\u001b[0;31m---------------------------------------------------------------------------\u001b[0m",
      "\u001b[0;31mChildProcessError\u001b[0m                         Traceback (most recent call last)",
      "\u001b[0;32m~/PyGromosTools/pygromos/simulations/hpc_queuing/submission_systems/local.py\u001b[0m in \u001b[0;36msubmit_to_queue\u001b[0;34m(self, sub_job)\u001b[0m\n\u001b[1;32m     70\u001b[0m             \u001b[0;32mtry\u001b[0m\u001b[0;34m:\u001b[0m\u001b[0;34m\u001b[0m\u001b[0;34m\u001b[0m\u001b[0m\n\u001b[0;32m---> 71\u001b[0;31m                 \u001b[0mprocess\u001b[0m \u001b[0;34m=\u001b[0m \u001b[0mbash\u001b[0m\u001b[0;34m.\u001b[0m\u001b[0mexecute\u001b[0m\u001b[0;34m(\u001b[0m\u001b[0mcommand\u001b[0m\u001b[0;34m=\u001b[0m\u001b[0mcommand\u001b[0m\u001b[0;34m,\u001b[0m \u001b[0mcatch_STD\u001b[0m\u001b[0;34m=\u001b[0m\u001b[0;32mTrue\u001b[0m\u001b[0;34m,\u001b[0m \u001b[0menv\u001b[0m\u001b[0;34m=\u001b[0m\u001b[0mself\u001b[0m\u001b[0;34m.\u001b[0m\u001b[0menvironment\u001b[0m\u001b[0;34m)\u001b[0m\u001b[0;34m\u001b[0m\u001b[0;34m\u001b[0m\u001b[0m\n\u001b[0m\u001b[1;32m     72\u001b[0m                 \u001b[0mstd_out_buff\u001b[0m \u001b[0;34m=\u001b[0m \u001b[0mmap\u001b[0m\u001b[0;34m(\u001b[0m\u001b[0mstr\u001b[0m\u001b[0;34m,\u001b[0m \u001b[0mprocess\u001b[0m\u001b[0;34m.\u001b[0m\u001b[0mstdout\u001b[0m\u001b[0;34m.\u001b[0m\u001b[0mreadlines\u001b[0m\u001b[0;34m(\u001b[0m\u001b[0;34m)\u001b[0m\u001b[0;34m)\u001b[0m\u001b[0;34m\u001b[0m\u001b[0;34m\u001b[0m\u001b[0m\n",
      "\u001b[0;32m~/PyGromosTools/pygromos/utils/bash.py\u001b[0m in \u001b[0;36mexecute\u001b[0;34m(command, verbose, catch_STD, env)\u001b[0m\n\u001b[1;32m    934\u001b[0m ):\n\u001b[0;32m--> 935\u001b[0;31m     \u001b[0;32mreturn\u001b[0m \u001b[0mexecute_subprocess\u001b[0m\u001b[0;34m(\u001b[0m\u001b[0mcommand\u001b[0m\u001b[0;34m=\u001b[0m\u001b[0mcommand\u001b[0m\u001b[0;34m,\u001b[0m \u001b[0mverbose\u001b[0m\u001b[0;34m=\u001b[0m\u001b[0mverbose\u001b[0m\u001b[0;34m,\u001b[0m \u001b[0mcatch_STD\u001b[0m\u001b[0;34m=\u001b[0m\u001b[0mcatch_STD\u001b[0m\u001b[0;34m,\u001b[0m \u001b[0menv\u001b[0m\u001b[0;34m=\u001b[0m\u001b[0menv\u001b[0m\u001b[0;34m)\u001b[0m\u001b[0;34m\u001b[0m\u001b[0;34m\u001b[0m\u001b[0m\n\u001b[0m\u001b[1;32m    936\u001b[0m \u001b[0;34m\u001b[0m\u001b[0m\n",
      "\u001b[0;32m~/PyGromosTools/pygromos/utils/bash.py\u001b[0m in \u001b[0;36mexecute_subprocess\u001b[0;34m(command, catch_STD, env, verbose)\u001b[0m\n\u001b[1;32m    828\u001b[0m         \u001b[0mmsg\u001b[0m \u001b[0;34m+=\u001b[0m \u001b[0;34m\"NONE\"\u001b[0m \u001b[0;32mif\u001b[0m \u001b[0;34m(\u001b[0m\u001b[0mp\u001b[0m\u001b[0;34m.\u001b[0m\u001b[0mstdout\u001b[0m \u001b[0;32mis\u001b[0m \u001b[0;32mNone\u001b[0m\u001b[0;34m)\u001b[0m \u001b[0;32melse\u001b[0m \u001b[0;34m\"\\n\\t\"\u001b[0m\u001b[0;34m.\u001b[0m\u001b[0mjoin\u001b[0m\u001b[0;34m(\u001b[0m\u001b[0mmap\u001b[0m\u001b[0;34m(\u001b[0m\u001b[0mstr\u001b[0m\u001b[0;34m,\u001b[0m \u001b[0mp\u001b[0m\u001b[0;34m.\u001b[0m\u001b[0mstderr\u001b[0m\u001b[0;34m.\u001b[0m\u001b[0mreadlines\u001b[0m\u001b[0;34m(\u001b[0m\u001b[0;34m)\u001b[0m\u001b[0;34m)\u001b[0m\u001b[0;34m)\u001b[0m\u001b[0;34m\u001b[0m\u001b[0;34m\u001b[0m\u001b[0m\n\u001b[0;32m--> 829\u001b[0;31m         \u001b[0;32mraise\u001b[0m \u001b[0mChildProcessError\u001b[0m\u001b[0;34m(\u001b[0m\u001b[0mmsg\u001b[0m\u001b[0;34m)\u001b[0m\u001b[0;34m\u001b[0m\u001b[0;34m\u001b[0m\u001b[0m\n\u001b[0m\u001b[1;32m    830\u001b[0m     \u001b[0;32mif\u001b[0m \u001b[0mverbose\u001b[0m\u001b[0;34m:\u001b[0m\u001b[0;34m\u001b[0m\u001b[0;34m\u001b[0m\u001b[0m\n",
      "\u001b[0;31mChildProcessError\u001b[0m: SubProcess Failed due to returncode: 1\n COMMAND: \n\t/home/mlehner/PyGromosTools/examples/example_files/Tutorial_System/b_emin_vacuum/simulation/b_emin_vacuum_1/job_b_emin_vacuum_1.sh\nSTDOUT:\n\tb'Could not find TMPDIR!\\n'\n\tb' Switched to outdir for work\\n'\n\tb'workDIR: /home/mlehner/PyGromosTools/examples/example_files/Tutorial_System/b_emin_vacuum/simulation/b_emin_vacuum_1\\n'\n\tb\"input:  <class 'str'> /home/bschroed/Documents/projects/gromosXX/gromosXX/build/bin/\\n\"\n\tb\"gromosXX._bin:  <class 'str'> /home/bschroed/Documents/projects/gromosXX/gromosXX/build/bin/\\n\"\n\tb\"gromosXX.bin:  <class 'str'> /home/bschroed/Documents/projects/gromosXX/gromosXX/build/bin/\\n\"\n\tb'________________________________________\\n'\n\tb'\\n'\n\tb' start MD b_emin_vacuum_1.imd\\n'\n\tb'\\n'\n\tb'COMMAND:  export OMP_NUM_THREADS=1  &&  /home/bschroed/Documents/projects/gromosXX/gromosXX/build/bin/md @topo /home/mlehner/PyGromosTools/examples/example_files/Tutorial_System/b_emin_vacuum/input/b_emin_vacuum.top @conf /home/mlehner/PyGromosTools/examples/example_files/Tutorial_System/b_emin_vacuum/input/b_emin_vacuum.cnf @input /home/mlehner/PyGromosTools/examples/example_files/Tutorial_System/b_emin_vacuum/simulation/b_emin_vacuum_1/b_emin_vacuum_1.imd @fin b_emin_vacuum_1.cnf @trc b_emin_vacuum_1.trc @tre b_emin_vacuum_1.tre > b_emin_vacuum_1.omd\\n'\n\tb'\\n'\n\tb'Failed! process returned: \\n'\n\tb' Err: \\n'\n\tb'SubProcess Failed due to returncode: 127\\n'\n\tb' COMMAND: \\n'\n\tb'\\texport OMP_NUM_THREADS=1  &&  /home/bschroed/Documents/projects/gromosXX/gromosXX/build/bin/md @topo /home/mlehner/PyGromosTools/examples/example_files/Tutorial_System/b_emin_vacuum/input/b_emin_vacuum.top @conf /home/mlehner/PyGromosTools/examples/example_files/Tutorial_System/b_emin_vacuum/input/b_emin_vacuum.cnf @input /home/mlehner/PyGromosTools/examples/example_files/Tutorial_System/b_emin_vacuum/simulation/b_emin_vacuum_1/b_emin_vacuum_1.imd @fin b_emin_vacuum_1.cnf @trc b_emin_vacuum_1.trc @tre b_emin_vacuum_1.tre > b_emin_vacuum_1.omd\\n'\n\tb'\\n'\n\tb'STDOUT:\\n'\n\tb'\\t\\n'\n\tb'STDERR:\\n'\n\tb\"\\tb'/bin/sh: 1: /home/bschroed/Documents/projects/gromosXX/gromosXX/build/bin/md: not found\\\\n'\\n\"\n\tb'GROMOS OUTPUT:\\n'\nSTDERR:\n\tb'Traceback (most recent call last):\\n'\n\tb'  File \"/home/mlehner/PyGromosTools/pygromos/simulations/hpc_queuing/job_scheduling/workers/simulation_workers/simulation_run_worker.py\", line 202, in work\\n'\n\tb'    omd_file_path = gromosXX.md_run(\\n'\n\tb'  File \"/home/mlehner/PyGromosTools/pygromos/gromos/_gromosClass.py\", line 78, in convert_pyGromos_types\\n'\n\tb'    return func(self, *nargs, **kwargs)\\n'\n\tb'  File \"/home/mlehner/PyGromosTools/pygromos/gromos/gromosXX.py\", line 215, in md_run\\n'\n\tb'    process = bash.execute(command_text)\\n'\n\tb'  File \"/home/mlehner/PyGromosTools/pygromos/utils/bash.py\", line 935, in execute\\n'\n\tb'    return execute_subprocess(command=command, verbose=verbose, catch_STD=catch_STD, env=env)\\n'\n\tb'  File \"/home/mlehner/PyGromosTools/pygromos/utils/bash.py\", line 829, in execute_subprocess\\n'\n\tb'    raise ChildProcessError(msg)\\n'\n\tb'ChildProcessError: SubProcess Failed due to returncode: 127\\n'\n\tb' COMMAND: \\n'\n\tb'\\texport OMP_NUM_THREADS=1  &&  /home/bschroed/Documents/projects/gromosXX/gromosXX/build/bin/md @topo /home/mlehner/PyGromosTools/examples/example_files/Tutorial_System/b_emin_vacuum/input/b_emin_vacuum.top @conf /home/mlehner/PyGromosTools/examples/example_files/Tutorial_System/b_emin_vacuum/input/b_emin_vacuum.cnf @input /home/mlehner/PyGromosTools/examples/example_files/Tutorial_System/b_emin_vacuum/simulation/b_emin_vacuum_1/b_emin_vacuum_1.imd @fin b_emin_vacuum_1.cnf @trc b_emin_vacuum_1.trc @tre b_emin_vacuum_1.tre > b_emin_vacuum_1.omd\\n'\n\tb'\\n'\n\tb'STDOUT:\\n'\n\tb'\\t\\n'\n\tb'STDERR:\\n'\n\tb\"\\tb'/bin/sh: 1: /home/bschroed/Documents/projects/gromosXX/gromosXX/build/bin/md: not found\\\\n'\\n\"\n\tb'\\n'\n\tb'Failed during simulations: \\n'\n\tb\"<class 'ChildProcessError'>\\n\"\n\tb'(\"SubProcess Failed due to returncode: 127\\\\n COMMAND: \\\\n\\\\texport OMP_NUM_THREADS=1  &&  /home/bschroed/Documents/projects/gromosXX/gromosXX/build/bin/md @topo /home/mlehner/PyGromosTools/examples/example_files/Tutorial_System/b_emin_vacuum/input/b_emin_vacuum.top @conf /home/mlehner/PyGromosTools/examples/example_files/Tutorial_System/b_emin_vacuum/input/b_emin_vacuum.cnf @input /home/mlehner/PyGromosTools/examples/example_files/Tutorial_System/b_emin_vacuum/simulation/b_emin_vacuum_1/b_emin_vacuum_1.imd @fin b_emin_vacuum_1.cnf @trc b_emin_vacuum_1.trc @tre b_emin_vacuum_1.tre > b_emin_vacuum_1.omd\\\\n\\\\nSTDOUT:\\\\n\\\\t\\\\nSTDERR:\\\\n\\\\tb\\'/bin/sh: 1: /home/bschroed/Documents/projects/gromosXX/gromosXX/build/bin/md: not found\\\\\\\\n\\'\",)\\n'",
      "\nDuring handling of the above exception, another exception occurred:\n",
      "\u001b[0;31mUnboundLocalError\u001b[0m                         Traceback (most recent call last)",
      "\u001b[0;32m~/PyGromosTools/pygromos/simulations/hpc_queuing/job_scheduling/schedulers/simulation_scheduler.py\u001b[0m in \u001b[0;36mdo\u001b[0;34m(in_simSystem, out_dir_path, simulation_run_num, equilibration_run_num, initialize_first_run, reinitialize_every_run, analysis_script_path, submission_system, previous_job_ID, _no_double_submit_check, _work_dir, verbose, verbose_lvl)\u001b[0m\n\u001b[1;32m    187\u001b[0m         \u001b[0mprevious_job_ID\u001b[0m \u001b[0;34m=\u001b[0m \u001b[0mprevious_job_ID\u001b[0m \u001b[0;32mif\u001b[0m \u001b[0;34m(\u001b[0m\u001b[0meq_job_id\u001b[0m \u001b[0;32mis\u001b[0m \u001b[0;32mNone\u001b[0m\u001b[0;34m)\u001b[0m \u001b[0;32melse\u001b[0m \u001b[0meq_job_id\u001b[0m\u001b[0;34m\u001b[0m\u001b[0;34m\u001b[0m\u001b[0m\n\u001b[0;32m--> 188\u001b[0;31m         previous_job_ID, tmp_jobname, in_simSystem = chain_submission(\n\u001b[0m\u001b[1;32m    189\u001b[0m             \u001b[0msimSystem\u001b[0m\u001b[0;34m=\u001b[0m\u001b[0min_simSystem\u001b[0m\u001b[0;34m,\u001b[0m\u001b[0;34m\u001b[0m\u001b[0;34m\u001b[0m\u001b[0m\n",
      "\u001b[0;32m~/PyGromosTools/pygromos/simulations/hpc_queuing/job_scheduling/schedulers/scheduler_functions.py\u001b[0m in \u001b[0;36mchain_submission\u001b[0;34m(simSystem, out_dir_path, out_prefix, chain_job_repetitions, worker_script, job_submission_system, jobname, run_analysis_script_every_x_runs, in_analysis_script_path, start_run_index, prefix_command, previous_job_ID, work_dir, initialize_first_run, reinitialize_every_run, verbose, verbose_lvl)\u001b[0m\n\u001b[1;32m    307\u001b[0m                 )\n\u001b[0;32m--> 308\u001b[0;31m                 \u001b[0mprevious_job_ID\u001b[0m \u001b[0;34m=\u001b[0m \u001b[0mjob_submission_system\u001b[0m\u001b[0;34m.\u001b[0m\u001b[0msubmit_to_queue\u001b[0m\u001b[0;34m(\u001b[0m\u001b[0msub_job\u001b[0m\u001b[0;34m)\u001b[0m\u001b[0;34m\u001b[0m\u001b[0;34m\u001b[0m\u001b[0m\n\u001b[0m\u001b[1;32m    309\u001b[0m                 \u001b[0;32mif\u001b[0m \u001b[0mverbose\u001b[0m\u001b[0;34m:\u001b[0m\u001b[0;34m\u001b[0m\u001b[0;34m\u001b[0m\u001b[0m\n",
      "\u001b[0;32m~/PyGromosTools/pygromos/simulations/hpc_queuing/submission_systems/local.py\u001b[0m in \u001b[0;36msubmit_to_queue\u001b[0;34m(self, sub_job)\u001b[0m\n\u001b[1;32m     83\u001b[0m                 \u001b[0;32mtry\u001b[0m\u001b[0;34m:\u001b[0m\u001b[0;34m\u001b[0m\u001b[0;34m\u001b[0m\u001b[0m\n\u001b[0;32m---> 84\u001b[0;31m                     \u001b[0mprint\u001b[0m\u001b[0;34m(\u001b[0m\u001b[0mprocess\u001b[0m\u001b[0;34m)\u001b[0m\u001b[0;34m\u001b[0m\u001b[0;34m\u001b[0m\u001b[0m\n\u001b[0m\u001b[1;32m     85\u001b[0m                 \u001b[0;32mexcept\u001b[0m \u001b[0mChildProcessError\u001b[0m\u001b[0;34m:\u001b[0m\u001b[0;34m\u001b[0m\u001b[0;34m\u001b[0m\u001b[0m\n",
      "\u001b[0;31mUnboundLocalError\u001b[0m: local variable 'process' referenced before assignment",
      "\nThe above exception was the direct cause of the following exception:\n",
      "\u001b[0;31mOSError\u001b[0m                                   Traceback (most recent call last)",
      "\u001b[0;32m~/PyGromosTools/pygromos/simulations/modules/general_simulation_modules.py\u001b[0m in \u001b[0;36msimulation\u001b[0;34m(in_gromos_simulation_system, override_project_dir, step_name, in_imd_path, submission_system, simulation_runs, equilibration_runs, previous_simulation_run, force_simulation, initialize_first_run, reinitialize_every_run, analysis_script, analysis_control_dict, _no_double_submit_check, _work_dir, verbose, verbose_lvl, _template_imd_path)\u001b[0m\n\u001b[1;32m    207\u001b[0m         \u001b[0;32melse\u001b[0m\u001b[0;34m:\u001b[0m\u001b[0;34m\u001b[0m\u001b[0;34m\u001b[0m\u001b[0m\n\u001b[0;32m--> 208\u001b[0;31m             \u001b[0mlast_jobID\u001b[0m \u001b[0;34m=\u001b[0m \u001b[0msimulation_scheduler\u001b[0m\u001b[0;34m.\u001b[0m\u001b[0mdo\u001b[0m\u001b[0;34m(\u001b[0m\u001b[0;34m**\u001b[0m\u001b[0mMD_job_vars\u001b[0m\u001b[0;34m)\u001b[0m\u001b[0;34m\u001b[0m\u001b[0;34m\u001b[0m\u001b[0m\n\u001b[0m\u001b[1;32m    209\u001b[0m     \u001b[0;32mexcept\u001b[0m \u001b[0mException\u001b[0m \u001b[0;32mas\u001b[0m \u001b[0merr\u001b[0m\u001b[0;34m:\u001b[0m\u001b[0;34m\u001b[0m\u001b[0;34m\u001b[0m\u001b[0m\n",
      "\u001b[0;32m~/PyGromosTools/pygromos/simulations/hpc_queuing/job_scheduling/schedulers/simulation_scheduler.py\u001b[0m in \u001b[0;36mdo\u001b[0;34m(in_simSystem, out_dir_path, simulation_run_num, equilibration_run_num, initialize_first_run, reinitialize_every_run, analysis_script_path, submission_system, previous_job_ID, _no_double_submit_check, _work_dir, verbose, verbose_lvl)\u001b[0m\n\u001b[1;32m    233\u001b[0m         \u001b[0mtraceback\u001b[0m\u001b[0;34m.\u001b[0m\u001b[0mprint_exception\u001b[0m\u001b[0;34m(\u001b[0m\u001b[0;34m*\u001b[0m\u001b[0msys\u001b[0m\u001b[0;34m.\u001b[0m\u001b[0mexc_info\u001b[0m\u001b[0;34m(\u001b[0m\u001b[0;34m)\u001b[0m\u001b[0;34m)\u001b[0m\u001b[0;34m\u001b[0m\u001b[0;34m\u001b[0m\u001b[0m\n\u001b[0;32m--> 234\u001b[0;31m         \u001b[0;32mraise\u001b[0m \u001b[0mIOError\u001b[0m\u001b[0;34m(\u001b[0m\u001b[0;34m\"ERROR in SUBMISSION!\"\u001b[0m\u001b[0;34m)\u001b[0m \u001b[0;32mfrom\u001b[0m \u001b[0merr\u001b[0m\u001b[0;34m\u001b[0m\u001b[0;34m\u001b[0m\u001b[0m\n\u001b[0m\u001b[1;32m    235\u001b[0m \u001b[0;34m\u001b[0m\u001b[0m\n",
      "\u001b[0;31mOSError\u001b[0m: ERROR in SUBMISSION!",
      "\nDuring handling of the above exception, another exception occurred:\n",
      "\u001b[0;31mException\u001b[0m                                 Traceback (most recent call last)",
      "\u001b[0;32m/tmp/ipykernel_32503/1356800820.py\u001b[0m in \u001b[0;36m<module>\u001b[0;34m\u001b[0m\n\u001b[0;32m----> 1\u001b[0;31m out_emin_system = emin(in_gromos_system=in_emin_system,\n\u001b[0m\u001b[1;32m      2\u001b[0m                        step_name=\"b_\"+out_prefix)\n",
      "\u001b[0;32m~/PyGromosTools/pygromos/simulations/modules/preset_simulation_modules.py\u001b[0m in \u001b[0;36memin\u001b[0;34m(in_gromos_system, step_name, override_project_dir, in_imd_path, submission_system, simulation_runs, equilibration_runs, previous_simulation_run, _template_imd_path, _no_double_submit_check, initialize_first_run, analysis_script, verbose)\u001b[0m\n\u001b[1;32m     42\u001b[0m             \u001b[0mtemplate_emin_control_dict\u001b[0m\u001b[0;34m[\u001b[0m\u001b[0;34m\"concat\"\u001b[0m\u001b[0;34m]\u001b[0m\u001b[0;34m[\u001b[0m\u001b[0;34m\"cat_trg\"\u001b[0m\u001b[0;34m]\u001b[0m \u001b[0;34m=\u001b[0m \u001b[0;32mFalse\u001b[0m\u001b[0;34m\u001b[0m\u001b[0;34m\u001b[0m\u001b[0m\n\u001b[1;32m     43\u001b[0m \u001b[0;34m\u001b[0m\u001b[0m\n\u001b[0;32m---> 44\u001b[0;31m     return simulation(\n\u001b[0m\u001b[1;32m     45\u001b[0m         \u001b[0min_gromos_simulation_system\u001b[0m\u001b[0;34m=\u001b[0m\u001b[0min_gromos_system\u001b[0m\u001b[0;34m,\u001b[0m\u001b[0;34m\u001b[0m\u001b[0;34m\u001b[0m\u001b[0m\n\u001b[1;32m     46\u001b[0m         \u001b[0moverride_project_dir\u001b[0m\u001b[0;34m=\u001b[0m\u001b[0moverride_project_dir\u001b[0m\u001b[0;34m,\u001b[0m\u001b[0;34m\u001b[0m\u001b[0;34m\u001b[0m\u001b[0m\n",
      "\u001b[0;32m~/PyGromosTools/pygromos/simulations/modules/general_simulation_modules.py\u001b[0m in \u001b[0;36msimulation\u001b[0;34m(in_gromos_simulation_system, override_project_dir, step_name, in_imd_path, submission_system, simulation_runs, equilibration_runs, previous_simulation_run, force_simulation, initialize_first_run, reinitialize_every_run, analysis_script, analysis_control_dict, _no_double_submit_check, _work_dir, verbose, verbose_lvl, _template_imd_path)\u001b[0m\n\u001b[1;32m    209\u001b[0m     \u001b[0;32mexcept\u001b[0m \u001b[0mException\u001b[0m \u001b[0;32mas\u001b[0m \u001b[0merr\u001b[0m\u001b[0;34m:\u001b[0m\u001b[0;34m\u001b[0m\u001b[0;34m\u001b[0m\u001b[0m\n\u001b[1;32m    210\u001b[0m         \u001b[0mtraceback\u001b[0m\u001b[0;34m.\u001b[0m\u001b[0mprint_exception\u001b[0m\u001b[0;34m(\u001b[0m\u001b[0;34m*\u001b[0m\u001b[0msys\u001b[0m\u001b[0;34m.\u001b[0m\u001b[0mexc_info\u001b[0m\u001b[0;34m(\u001b[0m\u001b[0;34m)\u001b[0m\u001b[0;34m)\u001b[0m\u001b[0;34m\u001b[0m\u001b[0;34m\u001b[0m\u001b[0m\n\u001b[0;32m--> 211\u001b[0;31m         \u001b[0;32mraise\u001b[0m \u001b[0mException\u001b[0m\u001b[0;34m(\u001b[0m\u001b[0;34m\"Could not submit the commands\\n\\t\"\u001b[0m \u001b[0;34m+\u001b[0m \u001b[0;34m\"\\n\\t\"\u001b[0m\u001b[0;34m.\u001b[0m\u001b[0mjoin\u001b[0m\u001b[0;34m(\u001b[0m\u001b[0mmap\u001b[0m\u001b[0;34m(\u001b[0m\u001b[0mstr\u001b[0m\u001b[0;34m,\u001b[0m \u001b[0merr\u001b[0m\u001b[0;34m.\u001b[0m\u001b[0margs\u001b[0m\u001b[0;34m)\u001b[0m\u001b[0;34m)\u001b[0m\u001b[0;34m)\u001b[0m\u001b[0;34m\u001b[0m\u001b[0;34m\u001b[0m\u001b[0m\n\u001b[0m\u001b[1;32m    212\u001b[0m \u001b[0;34m\u001b[0m\u001b[0m\n\u001b[1;32m    213\u001b[0m     \u001b[0mtime\u001b[0m\u001b[0;34m.\u001b[0m\u001b[0msleep\u001b[0m\u001b[0;34m(\u001b[0m\u001b[0mtime_wait_s_for_filesystem\u001b[0m\u001b[0;34m)\u001b[0m\u001b[0;34m\u001b[0m\u001b[0;34m\u001b[0m\u001b[0m\n",
      "\u001b[0;31mException\u001b[0m: Could not submit the commands\n\tERROR in SUBMISSION!"
     ]
    }
   ],
   "source": [
    "out_emin_system = emin(in_gromos_system=in_emin_system,\n",
    "                       step_name=\"b_\"+out_prefix)"
   ]
  },
  {
   "cell_type": "markdown",
   "metadata": {},
   "source": [
    "#### Analysis \n",
    "Once the energy minimisation is finished, the file with the minimized coordinates, peptide min.cnf, and the general output file, em peptide.omd, that reports the progress of the minimisation, will be written out.\n",
    "Have a look at both files and check if the minimisation has finished successfully. \n",
    "\n"
   ]
  },
  {
   "cell_type": "code",
   "execution_count": 33,
   "metadata": {
    "execution": {
     "iopub.execute_input": "2022-03-31T19:27:12.206553Z",
     "iopub.status.busy": "2022-03-31T19:27:12.205949Z",
     "iopub.status.idle": "2022-03-31T19:27:12.219203Z",
     "shell.execute_reply": "2022-03-31T19:27:12.217845Z"
    }
   },
   "outputs": [
    {
     "ename": "NameError",
     "evalue": "name 'out_emin_system' is not defined",
     "output_type": "error",
     "traceback": [
      "\u001b[0;31m---------------------------------------------------------------------------\u001b[0m",
      "\u001b[0;31mNameError\u001b[0m                                 Traceback (most recent call last)",
      "\u001b[0;32m/tmp/ipykernel_32503/3999014210.py\u001b[0m in \u001b[0;36m<module>\u001b[0;34m\u001b[0m\n\u001b[0;32m----> 1\u001b[0;31m \u001b[0mout_emin_system\u001b[0m\u001b[0;34m.\u001b[0m\u001b[0mcnf\u001b[0m\u001b[0;34m.\u001b[0m\u001b[0mview\u001b[0m\u001b[0;34m\u001b[0m\u001b[0;34m\u001b[0m\u001b[0m\n\u001b[0m",
      "\u001b[0;31mNameError\u001b[0m: name 'out_emin_system' is not defined"
     ]
    }
   ],
   "source": [
    "out_emin_system.cnf.view"
   ]
  },
  {
   "cell_type": "markdown",
   "metadata": {},
   "source": [
    "This is nice, but how do we actually get to this structure! In the next cell the development of the total Potential  energy over the energyminimization steps is shown. As you can see, the Potential energy of the whole system is decreasing, which indicates a relaxatio of the peptide structure and an optimization of the different forcefield terms. Ergo finding a minimal total potential system energy as possible is desirable in energyminimizations."
   ]
  },
  {
   "cell_type": "code",
   "execution_count": 34,
   "metadata": {
    "execution": {
     "iopub.execute_input": "2022-03-31T19:27:12.226234Z",
     "iopub.status.busy": "2022-03-31T19:27:12.225117Z",
     "iopub.status.idle": "2022-03-31T19:27:12.239057Z",
     "shell.execute_reply": "2022-03-31T19:27:12.237555Z"
    }
   },
   "outputs": [
    {
     "ename": "NameError",
     "evalue": "name 'out_emin_system' is not defined",
     "output_type": "error",
     "traceback": [
      "\u001b[0;31m---------------------------------------------------------------------------\u001b[0m",
      "\u001b[0;31mNameError\u001b[0m                                 Traceback (most recent call last)",
      "\u001b[0;32m/tmp/ipykernel_32503/3301154550.py\u001b[0m in \u001b[0;36m<module>\u001b[0;34m\u001b[0m\n\u001b[0;32m----> 1\u001b[0;31m \u001b[0mout_emin_system\u001b[0m\u001b[0;34m.\u001b[0m\u001b[0mtre\u001b[0m\u001b[0;34m.\u001b[0m\u001b[0mget_totals\u001b[0m\u001b[0;34m(\u001b[0m\u001b[0;34m)\u001b[0m\u001b[0;34m.\u001b[0m\u001b[0mtotene\u001b[0m\u001b[0;34m.\u001b[0m\u001b[0mplot\u001b[0m\u001b[0;34m(\u001b[0m\u001b[0mxlabel\u001b[0m\u001b[0;34m=\u001b[0m\u001b[0;34m\"steps\"\u001b[0m\u001b[0;34m,\u001b[0m \u001b[0mylabel\u001b[0m\u001b[0;34m=\u001b[0m\u001b[0;34m\"$V_{tot}~[kJ/mol]$\"\u001b[0m\u001b[0;34m)\u001b[0m\u001b[0;34m\u001b[0m\u001b[0;34m\u001b[0m\u001b[0m\n\u001b[0m",
      "\u001b[0;31mNameError\u001b[0m: name 'out_emin_system' is not defined"
     ]
    }
   ],
   "source": [
    "out_emin_system.tre.get_totals().totene.plot(xlabel=\"steps\", ylabel=\"$V_{tot}~[kJ/mol]$\")\n"
   ]
  },
  {
   "cell_type": "markdown",
   "metadata": {},
   "source": [
    "The effect seend in the total potential energy can also be observed of course in the peptide molecue coordinats."
   ]
  },
  {
   "cell_type": "code",
   "execution_count": 35,
   "metadata": {
    "execution": {
     "iopub.execute_input": "2022-03-31T19:27:12.243343Z",
     "iopub.status.busy": "2022-03-31T19:27:12.242543Z",
     "iopub.status.idle": "2022-03-31T19:27:12.256192Z",
     "shell.execute_reply": "2022-03-31T19:27:12.254945Z"
    }
   },
   "outputs": [
    {
     "ename": "NameError",
     "evalue": "name 'out_emin_system' is not defined",
     "output_type": "error",
     "traceback": [
      "\u001b[0;31m---------------------------------------------------------------------------\u001b[0m",
      "\u001b[0;31mNameError\u001b[0m                                 Traceback (most recent call last)",
      "\u001b[0;32m/tmp/ipykernel_32503/1080557569.py\u001b[0m in \u001b[0;36m<module>\u001b[0;34m\u001b[0m\n\u001b[0;32m----> 1\u001b[0;31m \u001b[0mview\u001b[0m \u001b[0;34m=\u001b[0m \u001b[0mout_emin_system\u001b[0m\u001b[0;34m.\u001b[0m\u001b[0mtrc\u001b[0m\u001b[0;34m.\u001b[0m\u001b[0mview\u001b[0m\u001b[0;34m\u001b[0m\u001b[0;34m\u001b[0m\u001b[0m\n\u001b[0m\u001b[1;32m      2\u001b[0m \u001b[0mview\u001b[0m\u001b[0;34m\u001b[0m\u001b[0;34m\u001b[0m\u001b[0m\n",
      "\u001b[0;31mNameError\u001b[0m: name 'out_emin_system' is not defined"
     ]
    }
   ],
   "source": [
    "view = out_emin_system.trc.view\n",
    "view"
   ]
  },
  {
   "cell_type": "markdown",
   "metadata": {},
   "source": [
    "Finally we wan to store our energy minimization results as a python pickle obj."
   ]
  },
  {
   "cell_type": "code",
   "execution_count": 36,
   "metadata": {
    "execution": {
     "iopub.execute_input": "2022-03-31T19:27:12.259996Z",
     "iopub.status.busy": "2022-03-31T19:27:12.259705Z",
     "iopub.status.idle": "2022-03-31T19:27:12.276176Z",
     "shell.execute_reply": "2022-03-31T19:27:12.274994Z"
    }
   },
   "outputs": [
    {
     "ename": "NameError",
     "evalue": "name 'out_emin_system' is not defined",
     "output_type": "error",
     "traceback": [
      "\u001b[0;31m---------------------------------------------------------------------------\u001b[0m",
      "\u001b[0;31mNameError\u001b[0m                                 Traceback (most recent call last)",
      "\u001b[0;32m/tmp/ipykernel_32503/3081055068.py\u001b[0m in \u001b[0;36m<module>\u001b[0;34m\u001b[0m\n\u001b[0;32m----> 1\u001b[0;31m \u001b[0mout_emin_system_path\u001b[0m \u001b[0;34m=\u001b[0m \u001b[0mout_emin_system\u001b[0m\u001b[0;34m.\u001b[0m\u001b[0msave\u001b[0m\u001b[0;34m(\u001b[0m\u001b[0mout_emin_system\u001b[0m\u001b[0;34m.\u001b[0m\u001b[0mwork_folder\u001b[0m\u001b[0;34m+\u001b[0m\u001b[0;34m\"/emin_vac_result.obj\"\u001b[0m\u001b[0;34m)\u001b[0m\u001b[0;34m\u001b[0m\u001b[0;34m\u001b[0m\u001b[0m\n\u001b[0m",
      "\u001b[0;31mNameError\u001b[0m: name 'out_emin_system' is not defined"
     ]
    }
   ],
   "source": [
    "out_emin_system_path = out_emin_system.save(out_emin_system.work_folder+\"/emin_vac_result.obj\")\n"
   ]
  },
  {
   "cell_type": "code",
   "execution_count": 37,
   "metadata": {
    "execution": {
     "iopub.execute_input": "2022-03-31T19:27:12.281177Z",
     "iopub.status.busy": "2022-03-31T19:27:12.280531Z",
     "iopub.status.idle": "2022-03-31T19:27:12.286659Z",
     "shell.execute_reply": "2022-03-31T19:27:12.284793Z"
    }
   },
   "outputs": [],
   "source": [
    "#if you want to load the file:\n",
    "#out_emin_system = Gromos_System.load(out_emin_system.work_folder+\"/emin_vac_result.obj\")"
   ]
  },
  {
   "cell_type": "markdown",
   "metadata": {
    "pycharm": {
     "name": "#%% md\n"
    }
   },
   "source": [
    "## Solvatistation and Solvent Energy Minimization\n",
    "\n",
    "Now you can put the energy minimized penta-peptide in a box of solvent to simulate an aequos environment. This can be done with the *sim_box* function of the gromosSyste, which can solvate the solute in a pre-equilibrated box of solvent molecules. As input for the function *sim_box* you have to specify the following input arguments:\n",
    "* **periodic_boundary_condition**: the resulting box shape under the argument (r - rectangular, t - truncated octahedron, c - triclinic)\n",
    "* **in_solvent_cnf_file_path**: the coordinate file of the pre-equilibrated box of solvent molecules under the argument (we are using a template $H_2O$ of the SPC model provided in pygromos.data.solvent_coordinates)\n",
    "* **minwall**: minimum solute-to-wall distance in $nm$\n",
    "* **threshold**: the minimum solute-to-solvent distance ins $nm$\n",
    "* **rotate**: If you are using a rectangular box (@pbc r) it is recommended to use an additional argument. With this additional argument the solute can be rotated (before solvating) such that the largest distance between any two solute atoms is directed along the z-axis, and the largest atom-atom distance in the xy-plane lies in the y-direction. An input file sim box peptide.arg is already prepared. \n"
   ]
  },
  {
   "cell_type": "code",
   "execution_count": 38,
   "metadata": {
    "execution": {
     "iopub.execute_input": "2022-03-31T19:27:12.293596Z",
     "iopub.status.busy": "2022-03-31T19:27:12.292623Z",
     "iopub.status.idle": "2022-03-31T19:27:12.309682Z",
     "shell.execute_reply": "2022-03-31T19:27:12.308393Z"
    }
   },
   "outputs": [
    {
     "ename": "NameError",
     "evalue": "name 'out_emin_system' is not defined",
     "output_type": "error",
     "traceback": [
      "\u001b[0;31m---------------------------------------------------------------------------\u001b[0m",
      "\u001b[0;31mNameError\u001b[0m                                 Traceback (most recent call last)",
      "\u001b[0;32m/tmp/ipykernel_32503/1955939196.py\u001b[0m in \u001b[0;36m<module>\u001b[0;34m\u001b[0m\n\u001b[0;32m----> 1\u001b[0;31m \u001b[0mhelp\u001b[0m\u001b[0;34m(\u001b[0m\u001b[0mout_emin_system\u001b[0m\u001b[0;34m.\u001b[0m\u001b[0msim_box\u001b[0m\u001b[0;34m)\u001b[0m\u001b[0;34m\u001b[0m\u001b[0;34m\u001b[0m\u001b[0m\n\u001b[0m",
      "\u001b[0;31mNameError\u001b[0m: name 'out_emin_system' is not defined"
     ]
    }
   ],
   "source": [
    "help(out_emin_system.sim_box)"
   ]
  },
  {
   "cell_type": "code",
   "execution_count": 39,
   "metadata": {
    "execution": {
     "iopub.execute_input": "2022-03-31T19:27:12.314864Z",
     "iopub.status.busy": "2022-03-31T19:27:12.313817Z",
     "iopub.status.idle": "2022-03-31T19:27:12.331301Z",
     "shell.execute_reply": "2022-03-31T19:27:12.330204Z"
    }
   },
   "outputs": [
    {
     "ename": "NameError",
     "evalue": "name 'out_emin_system' is not defined",
     "output_type": "error",
     "traceback": [
      "\u001b[0;31m---------------------------------------------------------------------------\u001b[0m",
      "\u001b[0;31mNameError\u001b[0m                                 Traceback (most recent call last)",
      "\u001b[0;32m/tmp/ipykernel_32503/838425567.py\u001b[0m in \u001b[0;36m<module>\u001b[0;34m\u001b[0m\n\u001b[0;32m----> 1\u001b[0;31m \u001b[0mvars\u001b[0m\u001b[0;34m(\u001b[0m\u001b[0mout_emin_system\u001b[0m\u001b[0;34m.\u001b[0m\u001b[0mtrc\u001b[0m\u001b[0;34m)\u001b[0m\u001b[0;34m.\u001b[0m\u001b[0mkeys\u001b[0m\u001b[0;34m(\u001b[0m\u001b[0;34m)\u001b[0m\u001b[0;34m\u001b[0m\u001b[0;34m\u001b[0m\u001b[0m\n\u001b[0m",
      "\u001b[0;31mNameError\u001b[0m: name 'out_emin_system' is not defined"
     ]
    }
   ],
   "source": [
    "vars(out_emin_system.trc).keys()"
   ]
  },
  {
   "cell_type": "markdown",
   "metadata": {},
   "source": [
    "### build box system\n",
    "To put the solvent box around the penta-peptide use following commands:\n"
   ]
  },
  {
   "cell_type": "code",
   "execution_count": 40,
   "metadata": {
    "execution": {
     "iopub.execute_input": "2022-03-31T19:27:12.335882Z",
     "iopub.status.busy": "2022-03-31T19:27:12.335362Z",
     "iopub.status.idle": "2022-03-31T19:27:12.359006Z",
     "shell.execute_reply": "2022-03-31T19:27:12.356949Z"
    }
   },
   "outputs": [
    {
     "ename": "NameError",
     "evalue": "name 'out_emin_system' is not defined",
     "output_type": "error",
     "traceback": [
      "\u001b[0;31m---------------------------------------------------------------------------\u001b[0m",
      "\u001b[0;31mNameError\u001b[0m                                 Traceback (most recent call last)",
      "\u001b[0;32m/tmp/ipykernel_32503/2018787445.py\u001b[0m in \u001b[0;36m<module>\u001b[0;34m\u001b[0m\n\u001b[1;32m      2\u001b[0m \u001b[0;34m\u001b[0m\u001b[0m\n\u001b[1;32m      3\u001b[0m \u001b[0;31m#setup a fresh gromos System:\u001b[0m\u001b[0;34m\u001b[0m\u001b[0;34m\u001b[0m\u001b[0m\n\u001b[0;32m----> 4\u001b[0;31m \u001b[0mbox_system\u001b[0m \u001b[0;34m=\u001b[0m \u001b[0mout_emin_system\u001b[0m\u001b[0;34m.\u001b[0m\u001b[0mcopy\u001b[0m\u001b[0;34m(\u001b[0m\u001b[0;34m)\u001b[0m\u001b[0;34m\u001b[0m\u001b[0;34m\u001b[0m\u001b[0m\n\u001b[0m\u001b[1;32m      5\u001b[0m \u001b[0;31m#box_system = gromos_system.Gromos_System.load(out_emin_system_path) #if you do this step after a break, you could also decide to load the serialized obj from before.\u001b[0m\u001b[0;34m\u001b[0m\u001b[0;34m\u001b[0m\u001b[0m\n\u001b[1;32m      6\u001b[0m \u001b[0;34m\u001b[0m\u001b[0m\n",
      "\u001b[0;31mNameError\u001b[0m: name 'out_emin_system' is not defined"
     ]
    }
   ],
   "source": [
    "from pygromos.data.solvent_coordinates import spc\n",
    "\n",
    "#setup a fresh gromos System:\n",
    "box_system = out_emin_system.copy()\n",
    "#box_system = gromos_system.Gromos_System.load(out_emin_system_path) #if you do this step after a break, you could also decide to load the serialized obj from before.\n",
    "\n",
    "box_system.imd = None\n",
    "box_system.name = \"solvate_box\"\n",
    "box_system.work_folder = bash.make_folder(project_dir+\"/c_\"+box_system.name)\n",
    "\n",
    "\n",
    "## set box and solvate the system\n",
    "box_system.cnf.add_empty_box()\n",
    "box_system.sim_box(in_solvent_cnf_file_path=spc,\n",
    "                 periodic_boundary_condition=\"r\",\n",
    "                 minwall=0.8,\n",
    "                 threshold=0.23,\n",
    "                 rotate=False)\n",
    "\n",
    "#box_system.cnf\n",
    "box_system.rebase_files() #write out the files (optional) - so you can check them in the folder\n",
    "box_system.cnf.view #show the results"
   ]
  },
  {
   "cell_type": "markdown",
   "metadata": {
    "pycharm": {
     "name": "#%% md\n"
    }
   },
   "source": [
    "### Add Ions\n",
    "After solvating the system, two $Cl-$ ions shall be added to the box as counter charges for the two positive peptide residues (Arginine and Lysine).\n",
    "\n",
    "To add the ions, we need to know the name of the building block in Gromos54A7. We can checkout the names of the Atomtype names in the topology of our system: "
   ]
  },
  {
   "cell_type": "code",
   "execution_count": 41,
   "metadata": {
    "execution": {
     "iopub.execute_input": "2022-03-31T19:27:12.364528Z",
     "iopub.status.busy": "2022-03-31T19:27:12.363824Z",
     "iopub.status.idle": "2022-03-31T19:27:12.377974Z",
     "shell.execute_reply": "2022-03-31T19:27:12.376319Z"
    }
   },
   "outputs": [
    {
     "ename": "NameError",
     "evalue": "name 'box_system' is not defined",
     "output_type": "error",
     "traceback": [
      "\u001b[0;31m---------------------------------------------------------------------------\u001b[0m",
      "\u001b[0;31mNameError\u001b[0m                                 Traceback (most recent call last)",
      "\u001b[0;32m/tmp/ipykernel_32503/2889188333.py\u001b[0m in \u001b[0;36m<module>\u001b[0;34m\u001b[0m\n\u001b[0;32m----> 1\u001b[0;31m \u001b[0mprint\u001b[0m\u001b[0;34m(\u001b[0m\u001b[0;34m[\u001b[0m \u001b[0ma\u001b[0m \u001b[0;32mfor\u001b[0m \u001b[0ma\u001b[0m \u001b[0;32min\u001b[0m \u001b[0mbox_system\u001b[0m\u001b[0;34m.\u001b[0m\u001b[0mtop\u001b[0m\u001b[0;34m.\u001b[0m\u001b[0mATOMTYPENAME\u001b[0m\u001b[0;34m]\u001b[0m\u001b[0;34m)\u001b[0m\u001b[0;34m\u001b[0m\u001b[0;34m\u001b[0m\u001b[0m\n\u001b[0m",
      "\u001b[0;31mNameError\u001b[0m: name 'box_system' is not defined"
     ]
    }
   ],
   "source": [
    "print([ a for a in box_system.top.ATOMTYPENAME])"
   ]
  },
  {
   "cell_type": "markdown",
   "metadata": {},
   "source": [
    "After finding the atomtype name (hint: 'CL-'), we next can use it to add two of these ions to our system with the ion function."
   ]
  },
  {
   "cell_type": "code",
   "execution_count": 42,
   "metadata": {
    "execution": {
     "iopub.execute_input": "2022-03-31T19:27:12.382989Z",
     "iopub.status.busy": "2022-03-31T19:27:12.381918Z",
     "iopub.status.idle": "2022-03-31T19:27:12.398866Z",
     "shell.execute_reply": "2022-03-31T19:27:12.397432Z"
    }
   },
   "outputs": [
    {
     "ename": "NameError",
     "evalue": "name 'box_system' is not defined",
     "output_type": "error",
     "traceback": [
      "\u001b[0;31m---------------------------------------------------------------------------\u001b[0m",
      "\u001b[0;31mNameError\u001b[0m                                 Traceback (most recent call last)",
      "\u001b[0;32m/tmp/ipykernel_32503/560721524.py\u001b[0m in \u001b[0;36m<module>\u001b[0;34m\u001b[0m\n\u001b[0;32m----> 1\u001b[0;31m \u001b[0mhelp\u001b[0m\u001b[0;34m(\u001b[0m\u001b[0mbox_system\u001b[0m\u001b[0;34m.\u001b[0m\u001b[0mion\u001b[0m\u001b[0;34m)\u001b[0m\u001b[0;34m\u001b[0m\u001b[0;34m\u001b[0m\u001b[0m\n\u001b[0m",
      "\u001b[0;31mNameError\u001b[0m: name 'box_system' is not defined"
     ]
    }
   ],
   "source": [
    "help(box_system.ion)"
   ]
  },
  {
   "cell_type": "code",
   "execution_count": 43,
   "metadata": {
    "execution": {
     "iopub.execute_input": "2022-03-31T19:27:12.403089Z",
     "iopub.status.busy": "2022-03-31T19:27:12.402469Z",
     "iopub.status.idle": "2022-03-31T19:27:12.419467Z",
     "shell.execute_reply": "2022-03-31T19:27:12.416960Z"
    }
   },
   "outputs": [
    {
     "ename": "NameError",
     "evalue": "name 'box_system' is not defined",
     "output_type": "error",
     "traceback": [
      "\u001b[0;31m---------------------------------------------------------------------------\u001b[0m",
      "\u001b[0;31mNameError\u001b[0m                                 Traceback (most recent call last)",
      "\u001b[0;32m/tmp/ipykernel_32503/54869407.py\u001b[0m in \u001b[0;36m<module>\u001b[0;34m\u001b[0m\n\u001b[1;32m      2\u001b[0m \u001b[0;34m\u001b[0m\u001b[0m\n\u001b[1;32m      3\u001b[0m \u001b[0;31m## Build directory and setup a fresh Gromos System\u001b[0m\u001b[0;34m\u001b[0m\u001b[0;34m\u001b[0m\u001b[0m\n\u001b[0;32m----> 4\u001b[0;31m \u001b[0mion_system\u001b[0m \u001b[0;34m=\u001b[0m \u001b[0mbox_system\u001b[0m\u001b[0;34m.\u001b[0m\u001b[0mcopy\u001b[0m\u001b[0;34m(\u001b[0m\u001b[0;34m)\u001b[0m\u001b[0;34m\u001b[0m\u001b[0;34m\u001b[0m\u001b[0m\n\u001b[0m\u001b[1;32m      5\u001b[0m \u001b[0mion_system\u001b[0m\u001b[0;34m.\u001b[0m\u001b[0mname\u001b[0m \u001b[0;34m=\u001b[0m \u001b[0;34m\"ion\"\u001b[0m\u001b[0;34m\u001b[0m\u001b[0;34m\u001b[0m\u001b[0m\n\u001b[1;32m      6\u001b[0m \u001b[0mion_system\u001b[0m\u001b[0;34m.\u001b[0m\u001b[0mwork_folder\u001b[0m \u001b[0;34m=\u001b[0m \u001b[0mbash\u001b[0m\u001b[0;34m.\u001b[0m\u001b[0mmake_folder\u001b[0m\u001b[0;34m(\u001b[0m\u001b[0mproject_dir\u001b[0m\u001b[0;34m+\u001b[0m\u001b[0;34m\"/d_\"\u001b[0m\u001b[0;34m+\u001b[0m\u001b[0mion_system\u001b[0m\u001b[0;34m.\u001b[0m\u001b[0mname\u001b[0m\u001b[0;34m)\u001b[0m\u001b[0;34m\u001b[0m\u001b[0;34m\u001b[0m\u001b[0m\n",
      "\u001b[0;31mNameError\u001b[0m: name 'box_system' is not defined"
     ]
    }
   ],
   "source": [
    "from pygromos.data.solvent_coordinates import spc\n",
    "\n",
    "## Build directory and setup a fresh Gromos System\n",
    "ion_system = box_system.copy() \n",
    "ion_system.name = \"ion\"\n",
    "ion_system.work_folder = bash.make_folder(project_dir+\"/d_\"+ion_system.name)\n",
    "\n",
    "#Add the ions to the System\n",
    "ion_system.ion(negative=[2, \"CL-\"])\n",
    "\n",
    "\n",
    "ion_system.rebase_files()   #write out the files, so you can check them (optional)\n",
    "ion_system.cnf.view  #show the results."
   ]
  },
  {
   "cell_type": "markdown",
   "metadata": {
    "pycharm": {
     "name": "#%% md\n"
    }
   },
   "source": [
    "### Energy Minimization BOX\n",
    "\n",
    "In order to relax the unfavorable atom-atom contacts between the solute and the solvent, energy minimization of the solvent should be performed while keeping the solute positionally restrained (i.e. connecting the atom to a reference position by a spring). In order to do that two additional files, in which the positionally restrained atoms and the reference coordinates are specified, have to be generated from the coordinate file in our gromos system. Afterwards, we are going to run the second energy minimization"
   ]
  },
  {
   "cell_type": "markdown",
   "metadata": {},
   "source": [
    "#### build posistion restraints\n",
    "To apply position restraints to our simulation for the peptide, we first need to generate a selection of residues, that shall not be modified by the energyminimization. This translates to the residues of the peptide. After this the function generate_posres can be used to generate two files.\n",
    "* **position restraints - posres(.por)**\n",
    "    This file defines the selection of atoms, that shall be restrained during the simulation.\n",
    "* **reference position - refpos (.rpf)**\n",
    "    This files defines a reference position for the system. Gromos will restrain the selected atoms in the posres file to the reference position file. So if the atom position during the simulation deviates from the refpos file, the program will restrain the atom, such it moves towards the reference position.\n"
   ]
  },
  {
   "cell_type": "code",
   "execution_count": 44,
   "metadata": {
    "execution": {
     "iopub.execute_input": "2022-03-31T19:27:12.426103Z",
     "iopub.status.busy": "2022-03-31T19:27:12.425426Z",
     "iopub.status.idle": "2022-03-31T19:27:12.441170Z",
     "shell.execute_reply": "2022-03-31T19:27:12.440005Z"
    }
   },
   "outputs": [
    {
     "ename": "NameError",
     "evalue": "name 'ion_system' is not defined",
     "output_type": "error",
     "traceback": [
      "\u001b[0;31m---------------------------------------------------------------------------\u001b[0m",
      "\u001b[0;31mNameError\u001b[0m                                 Traceback (most recent call last)",
      "\u001b[0;32m/tmp/ipykernel_32503/682416482.py\u001b[0m in \u001b[0;36m<module>\u001b[0;34m\u001b[0m\n\u001b[1;32m      3\u001b[0m \u001b[0;34m\u001b[0m\u001b[0m\n\u001b[1;32m      4\u001b[0m \u001b[0;31m# Preparing emin gromos system\u001b[0m\u001b[0;34m\u001b[0m\u001b[0;34m\u001b[0m\u001b[0m\n\u001b[0;32m----> 5\u001b[0;31m \u001b[0min_eminBox_system\u001b[0m \u001b[0;34m=\u001b[0m \u001b[0mion_system\u001b[0m\u001b[0;34m.\u001b[0m\u001b[0mcopy\u001b[0m\u001b[0;34m(\u001b[0m\u001b[0;34m)\u001b[0m\u001b[0;34m\u001b[0m\u001b[0;34m\u001b[0m\u001b[0m\n\u001b[0m\u001b[1;32m      6\u001b[0m \u001b[0min_eminBox_system\u001b[0m\u001b[0;34m.\u001b[0m\u001b[0mname\u001b[0m \u001b[0;34m=\u001b[0m \u001b[0;34m\"emin_solvBox\"\u001b[0m\u001b[0;34m\u001b[0m\u001b[0;34m\u001b[0m\u001b[0m\n\u001b[1;32m      7\u001b[0m \u001b[0min_eminBox_system\u001b[0m\u001b[0;34m.\u001b[0m\u001b[0mwork_folder\u001b[0m \u001b[0;34m=\u001b[0m \u001b[0mproject_dir\u001b[0m\u001b[0;34m\u001b[0m\u001b[0;34m\u001b[0m\u001b[0m\n",
      "\u001b[0;31mNameError\u001b[0m: name 'ion_system' is not defined"
     ]
    }
   ],
   "source": [
    "\n",
    "from pygromos.simulations.modules.preset_simulation_modules import emin\n",
    "from pygromos.data.simulation_parameters_templates import template_emin\n",
    "\n",
    "# Preparing emin gromos system\n",
    "in_eminBox_system = ion_system.copy()\n",
    "in_eminBox_system.name = \"emin_solvBox\"\n",
    "in_eminBox_system.work_folder = project_dir\n",
    "\n",
    "# Build position restraints\n",
    "## Build selection for residues\n",
    "restrain_res = [k for k in in_eminBox_system.cnf.residues if(not k in (\"CL-\", \"SOLV\"))]\n",
    "print(\"Selection of residues: \", restrain_res)\n",
    "## Build the restrain files\n",
    "in_eminBox_system.generate_posres(residues=restrain_res)\n",
    "\n",
    "# Check simulation params\n",
    "in_eminBox_system.imd = template_emin   #Here we use template simulation parameters, The blocks are the same as above in the vacuum case with slight deviations.\n",
    "in_eminBox_system.imd.INITIALISE.NTISHI = 1\n",
    "\n",
    "in_eminBox_system.prepare_for_simulation()\n",
    "\n",
    "in_eminBox_system"
   ]
  },
  {
   "cell_type": "markdown",
   "metadata": {},
   "source": [
    "In the ouptut of the in_eminBox_system two new files appeared the posres and refpos file:\n"
   ]
  },
  {
   "cell_type": "code",
   "execution_count": 45,
   "metadata": {
    "execution": {
     "iopub.execute_input": "2022-03-31T19:27:12.446533Z",
     "iopub.status.busy": "2022-03-31T19:27:12.445786Z",
     "iopub.status.idle": "2022-03-31T19:27:12.464874Z",
     "shell.execute_reply": "2022-03-31T19:27:12.463684Z"
    }
   },
   "outputs": [
    {
     "ename": "NameError",
     "evalue": "name 'in_eminBox_system' is not defined",
     "output_type": "error",
     "traceback": [
      "\u001b[0;31m---------------------------------------------------------------------------\u001b[0m",
      "\u001b[0;31mNameError\u001b[0m                                 Traceback (most recent call last)",
      "\u001b[0;32m/tmp/ipykernel_32503/3933610349.py\u001b[0m in \u001b[0;36m<module>\u001b[0;34m\u001b[0m\n\u001b[0;32m----> 1\u001b[0;31m \u001b[0mprint\u001b[0m\u001b[0;34m(\u001b[0m\u001b[0min_eminBox_system\u001b[0m\u001b[0;34m.\u001b[0m\u001b[0mposres\u001b[0m\u001b[0;34m)\u001b[0m\u001b[0;34m\u001b[0m\u001b[0;34m\u001b[0m\u001b[0m\n\u001b[0m",
      "\u001b[0;31mNameError\u001b[0m: name 'in_eminBox_system' is not defined"
     ]
    }
   ],
   "source": [
    "print(in_eminBox_system.posres)"
   ]
  },
  {
   "cell_type": "code",
   "execution_count": 46,
   "metadata": {
    "execution": {
     "iopub.execute_input": "2022-03-31T19:27:12.468949Z",
     "iopub.status.busy": "2022-03-31T19:27:12.468334Z",
     "iopub.status.idle": "2022-03-31T19:27:12.482056Z",
     "shell.execute_reply": "2022-03-31T19:27:12.480813Z"
    }
   },
   "outputs": [
    {
     "ename": "NameError",
     "evalue": "name 'in_eminBox_system' is not defined",
     "output_type": "error",
     "traceback": [
      "\u001b[0;31m---------------------------------------------------------------------------\u001b[0m",
      "\u001b[0;31mNameError\u001b[0m                                 Traceback (most recent call last)",
      "\u001b[0;32m/tmp/ipykernel_32503/1470707088.py\u001b[0m in \u001b[0;36m<module>\u001b[0;34m\u001b[0m\n\u001b[0;32m----> 1\u001b[0;31m \u001b[0min_eminBox_system\u001b[0m\u001b[0;34m.\u001b[0m\u001b[0mrefpos\u001b[0m\u001b[0;34m\u001b[0m\u001b[0;34m\u001b[0m\u001b[0m\n\u001b[0m",
      "\u001b[0;31mNameError\u001b[0m: name 'in_eminBox_system' is not defined"
     ]
    }
   ],
   "source": [
    "in_eminBox_system.refpos "
   ]
  },
  {
   "cell_type": "markdown",
   "metadata": {},
   "source": [
    "#### Perform Emin\n",
    "Now we will perform the solvent box energy minimization with the restrained peptide."
   ]
  },
  {
   "cell_type": "code",
   "execution_count": 47,
   "metadata": {
    "execution": {
     "iopub.execute_input": "2022-03-31T19:27:12.488831Z",
     "iopub.status.busy": "2022-03-31T19:27:12.487688Z",
     "iopub.status.idle": "2022-03-31T19:27:12.504996Z",
     "shell.execute_reply": "2022-03-31T19:27:12.503241Z"
    }
   },
   "outputs": [
    {
     "ename": "NameError",
     "evalue": "name 'in_eminBox_system' is not defined",
     "output_type": "error",
     "traceback": [
      "\u001b[0;31m---------------------------------------------------------------------------\u001b[0m",
      "\u001b[0;31mNameError\u001b[0m                                 Traceback (most recent call last)",
      "\u001b[0;32m/tmp/ipykernel_32503/1280377867.py\u001b[0m in \u001b[0;36m<module>\u001b[0;34m\u001b[0m\n\u001b[1;32m      1\u001b[0m \u001b[0;31m# run emin\u001b[0m\u001b[0;34m\u001b[0m\u001b[0;34m\u001b[0m\u001b[0m\n\u001b[0;32m----> 2\u001b[0;31m out_eminBox_system = emin(in_gromos_system=in_eminBox_system, \n\u001b[0m\u001b[1;32m      3\u001b[0m                           step_name=\"e_\"+in_eminBox_system.name)\n\u001b[1;32m      4\u001b[0m \u001b[0;34m\u001b[0m\u001b[0m\n",
      "\u001b[0;31mNameError\u001b[0m: name 'in_eminBox_system' is not defined"
     ]
    }
   ],
   "source": [
    "# run emin\n",
    "out_eminBox_system = emin(in_gromos_system=in_eminBox_system, \n",
    "                          step_name=\"e_\"+in_eminBox_system.name)\n",
    "\n"
   ]
  },
  {
   "cell_type": "markdown",
   "metadata": {},
   "source": [
    "Whoops what happened here? What you see is the effect of the periodic box and the  peptide placed directly at the corners of the box. \n",
    "This is absolutely ok and there is nothing to worry about. We can recenter the peptide and then we see the expected same configuration like from the vacuum emin."
   ]
  },
  {
   "cell_type": "code",
   "execution_count": 48,
   "metadata": {
    "execution": {
     "iopub.execute_input": "2022-03-31T19:27:12.509462Z",
     "iopub.status.busy": "2022-03-31T19:27:12.508918Z",
     "iopub.status.idle": "2022-03-31T19:27:12.523246Z",
     "shell.execute_reply": "2022-03-31T19:27:12.521428Z"
    }
   },
   "outputs": [
    {
     "ename": "NameError",
     "evalue": "name 'out_eminBox_system' is not defined",
     "output_type": "error",
     "traceback": [
      "\u001b[0;31m---------------------------------------------------------------------------\u001b[0m",
      "\u001b[0;31mNameError\u001b[0m                                 Traceback (most recent call last)",
      "\u001b[0;32m/tmp/ipykernel_32503/3841672548.py\u001b[0m in \u001b[0;36m<module>\u001b[0;34m\u001b[0m\n\u001b[1;32m      1\u001b[0m \u001b[0;31m#show resulting coordinates\u001b[0m\u001b[0;34m\u001b[0m\u001b[0;34m\u001b[0m\u001b[0m\n\u001b[0;32m----> 2\u001b[0;31m \u001b[0mview\u001b[0m \u001b[0;34m=\u001b[0m \u001b[0mout_eminBox_system\u001b[0m\u001b[0;34m.\u001b[0m\u001b[0mcnf\u001b[0m\u001b[0;34m.\u001b[0m\u001b[0mview\u001b[0m\u001b[0;34m\u001b[0m\u001b[0;34m\u001b[0m\u001b[0m\n\u001b[0m\u001b[1;32m      3\u001b[0m \u001b[0mview\u001b[0m\u001b[0;34m\u001b[0m\u001b[0;34m\u001b[0m\u001b[0m\n",
      "\u001b[0;31mNameError\u001b[0m: name 'out_eminBox_system' is not defined"
     ]
    }
   ],
   "source": [
    "#show resulting coordinates\n",
    "view = out_eminBox_system.cnf.view\n",
    "view"
   ]
  },
  {
   "cell_type": "markdown",
   "metadata": {},
   "source": [
    "Now lets fix that!"
   ]
  },
  {
   "cell_type": "code",
   "execution_count": 49,
   "metadata": {
    "execution": {
     "iopub.execute_input": "2022-03-31T19:27:12.528666Z",
     "iopub.status.busy": "2022-03-31T19:27:12.528045Z",
     "iopub.status.idle": "2022-03-31T19:27:12.540940Z",
     "shell.execute_reply": "2022-03-31T19:27:12.539809Z"
    }
   },
   "outputs": [
    {
     "ename": "NameError",
     "evalue": "name 'out_eminBox_system' is not defined",
     "output_type": "error",
     "traceback": [
      "\u001b[0;31m---------------------------------------------------------------------------\u001b[0m",
      "\u001b[0;31mNameError\u001b[0m                                 Traceback (most recent call last)",
      "\u001b[0;32m/tmp/ipykernel_32503/1370968844.py\u001b[0m in \u001b[0;36m<module>\u001b[0;34m\u001b[0m\n\u001b[1;32m      1\u001b[0m \u001b[0;31m#out_eminBox_system.cnf.recenter_pbc()\u001b[0m\u001b[0;34m\u001b[0m\u001b[0;34m\u001b[0m\u001b[0m\n\u001b[1;32m      2\u001b[0m \u001b[0;34m\u001b[0m\u001b[0m\n\u001b[0;32m----> 3\u001b[0;31m \u001b[0mout_eminBox_system\u001b[0m\u001b[0;34m.\u001b[0m\u001b[0mcnf\u001b[0m\u001b[0;34m.\u001b[0m\u001b[0mrecreate_view\u001b[0m\u001b[0;34m(\u001b[0m\u001b[0;34m)\u001b[0m\u001b[0;34m\u001b[0m\u001b[0;34m\u001b[0m\u001b[0m\n\u001b[0m\u001b[1;32m      4\u001b[0m \u001b[0mrecentered_view\u001b[0m \u001b[0;34m=\u001b[0m \u001b[0mout_eminBox_system\u001b[0m\u001b[0;34m.\u001b[0m\u001b[0mcnf\u001b[0m\u001b[0;34m.\u001b[0m\u001b[0mview\u001b[0m\u001b[0;34m\u001b[0m\u001b[0;34m\u001b[0m\u001b[0m\n\u001b[1;32m      5\u001b[0m \u001b[0mrecentered_view\u001b[0m\u001b[0;34m\u001b[0m\u001b[0;34m\u001b[0m\u001b[0m\n",
      "\u001b[0;31mNameError\u001b[0m: name 'out_eminBox_system' is not defined"
     ]
    }
   ],
   "source": [
    "#out_eminBox_system.cnf.recenter_pbc()\n",
    "\n",
    "out_eminBox_system.cnf.recreate_view()\n",
    "recentered_view = out_eminBox_system.cnf.view\n",
    "recentered_view"
   ]
  },
  {
   "cell_type": "code",
   "execution_count": 50,
   "metadata": {
    "execution": {
     "iopub.execute_input": "2022-03-31T19:27:12.545393Z",
     "iopub.status.busy": "2022-03-31T19:27:12.544820Z",
     "iopub.status.idle": "2022-03-31T19:27:12.562601Z",
     "shell.execute_reply": "2022-03-31T19:27:12.561424Z"
    }
   },
   "outputs": [
    {
     "ename": "NameError",
     "evalue": "name 'out_eminBox_system' is not defined",
     "output_type": "error",
     "traceback": [
      "\u001b[0;31m---------------------------------------------------------------------------\u001b[0m",
      "\u001b[0;31mNameError\u001b[0m                                 Traceback (most recent call last)",
      "\u001b[0;32m/tmp/ipykernel_32503/1182860247.py\u001b[0m in \u001b[0;36m<module>\u001b[0;34m\u001b[0m\n\u001b[0;32m----> 1\u001b[0;31m \u001b[0mout_eminBox_system_path\u001b[0m \u001b[0;34m=\u001b[0m \u001b[0mout_eminBox_system\u001b[0m\u001b[0;34m.\u001b[0m\u001b[0msave\u001b[0m\u001b[0;34m(\u001b[0m\u001b[0mout_eminBox_system\u001b[0m\u001b[0;34m.\u001b[0m\u001b[0mwork_folder\u001b[0m\u001b[0;34m+\u001b[0m\u001b[0;34m\"/emin_box_result.obj\"\u001b[0m\u001b[0;34m)\u001b[0m\u001b[0;34m\u001b[0m\u001b[0;34m\u001b[0m\u001b[0m\n\u001b[0m",
      "\u001b[0;31mNameError\u001b[0m: name 'out_eminBox_system' is not defined"
     ]
    }
   ],
   "source": [
    "out_eminBox_system_path = out_eminBox_system.save(out_eminBox_system.work_folder+\"/emin_box_result.obj\")"
   ]
  },
  {
   "cell_type": "markdown",
   "metadata": {
    "pycharm": {
     "name": "#%% md\n"
    }
   },
   "source": [
    "## Thermalisation and equilibration.\n",
    "\n",
    "In the previous steps you have generated a topology and initial coordinates of your system. At this point,\n",
    "you have to generate initial velocities. In the process of thermalisation and equilibration, initial velocities\n",
    "are sampled from a Maxwell-Boltzmann distribution at a low temperature and the system is slowly heated\n",
    "up to the final production simulation temperature. The atoms of the solute are again positionally restrained and\n",
    "these restraints are loosened while heating up. With the help of these restraints you make sure that the\n",
    "random initial velocities do not disrupt the initial conformation too much.\n",
    "\n",
    "### Simulation Paramters\n",
    "To performe the described equilibration we require additional Simulation Parameter blocks that will be described in the following. First we will load a simulation parameter template for MD simulations."
   ]
  },
  {
   "cell_type": "code",
   "execution_count": 51,
   "metadata": {
    "execution": {
     "iopub.execute_input": "2022-03-31T19:27:12.567842Z",
     "iopub.status.busy": "2022-03-31T19:27:12.567222Z",
     "iopub.status.idle": "2022-03-31T19:27:12.576801Z",
     "shell.execute_reply": "2022-03-31T19:27:12.575263Z"
    }
   },
   "outputs": [],
   "source": [
    "from pygromos.data.simulation_parameters_templates import template_md_tut as template_md\n",
    "from pygromos.files.simulation_parameters import imd\n",
    "\n",
    "\n",
    "md_imd_file = imd.Imd(template_md) #in_eq_system.imd\n"
   ]
  },
  {
   "cell_type": "markdown",
   "metadata": {},
   "source": [
    "#### Initialise Block\n",
    "In the INITIALISE block the NTIVEL tells GROMOS whether it should generate the initial velocities or\n",
    "read them from the configuration file. NTISHK is used to restore bond length constraints (SHAKE). NTINHT\n",
    "and NTINHB are only used for Nose-Hoover thermo- and barostats and can be ignored in our case. Every\n",
    "time an atom is leaving the periodic box and entering it from the opposite site this incident is recorded in\n",
    "the so-called lattice shift vectors. Using NTISHI we want to make sure that these vectors are initialised to\n",
    "zero. As you don’t want to use roto-translational constraints NTIRTC can be ignored. NTICOM is used for\n",
    "initial removal of centre of mass motion. NTISTI is used to reset the stochastic integrals used in stochastic\n",
    "dynamics (SD) simulations. IG is the random number generator seed and TEMPI the initial temperature used\n",
    "to generate the Maxwell-Boltzmann distribution for generation of initial velocities. See also 4-94 for more\n",
    "information."
   ]
  },
  {
   "cell_type": "code",
   "execution_count": 52,
   "metadata": {
    "execution": {
     "iopub.execute_input": "2022-03-31T19:27:12.581791Z",
     "iopub.status.busy": "2022-03-31T19:27:12.581141Z",
     "iopub.status.idle": "2022-03-31T19:27:12.593785Z",
     "shell.execute_reply": "2022-03-31T19:27:12.591969Z"
    }
   },
   "outputs": [
    {
     "name": "stdout",
     "output_type": "stream",
     "text": [
      "Help on INITIALISE in module pygromos.files.blocks.imd_blocks object:\n",
      "\n",
      "class INITIALISE(_generic_imd_block)\n",
      " |  INITIALISE(NTIVEL: bool = False, NTISHK: int = 0, NTINHT: bool = False, NTINHB: bool = False, NTISHI: bool = False, NTIRTC: bool = False, NTICOM: int = 0, NTISTI: bool = False, IG: int = 0, TEMPI: float = 0, content: List[str] = None)\n",
      " |  \n",
      " |  INITIALISE block\n",
      " |  \n",
      " |      This block controls the Initialisation of a simulation.\n",
      " |  \n",
      " |  Attributes\n",
      " |  ----------\n",
      " |  NTIVEL: bool\n",
      " |      0,1 controls generation of initial velocities\n",
      " |      0: read from configuration (default)\n",
      " |      1: generate from Maxell distribution at temperature TEMPI\n",
      " |  NTISHK: int\n",
      " |      0..3 controls shaking of initial configuration\n",
      " |      0: no intial SHAKE (default)\n",
      " |      1: initial SHAKE on coordinates only\n",
      " |      2: initial SHAKE on velocities only\n",
      " |      3: initial SHAKE on coordinates and velocities\n",
      " |  NTINHT: bool\n",
      " |      0,1 controls generation of initial Nose-Hoover chain variables\n",
      " |      0: read from configuration (default)\n",
      " |      1: reset variables to zero.\n",
      " |  NTINHB: bool\n",
      " |      0,1 controls generation of initial Nose-Hoover (chain) barostat variables\n",
      " |      0: read from strartup file (if applicable) (default)\n",
      " |      1: reset variables to zero\n",
      " |  NTISHI: bool\n",
      " |      0,1 controls initial setting for lattice shift vectors\n",
      " |      0: read from configuration (default)\n",
      " |      1: reset shifts to zero.\n",
      " |  NTIRTC: bool\n",
      " |      0,1 controls initial setting of positions and orientations for roto-translational constraints\n",
      " |      0: read from configuration (default)\n",
      " |      1: reset based on initial configuraion of startup file\n",
      " |  NTICOM: int\n",
      " |      0,1,2 controls initial removal of COM motion\n",
      " |      0: no initial system COM motion removal (default)\n",
      " |      1: initial COM translation is removed\n",
      " |      2: initial COM rotation is removed\n",
      " |  NTISTI: bool\n",
      " |      0,1 controls generation of stochastic integrals\n",
      " |      0: read stochastic integrals and IG from configuration (default)\n",
      " |      1: set stochastic integrals to zero and use IG from here.\n",
      " |  IG: int\n",
      " |      random number generator seed\n",
      " |  TEMPI:  float\n",
      " |      initial temperature\n",
      " |  \n",
      " |  Method resolution order:\n",
      " |      INITIALISE\n",
      " |      _generic_imd_block\n",
      " |      pygromos.files.blocks._general_blocks._generic_gromos_block\n",
      " |      builtins.object\n",
      " |  \n",
      " |  Methods defined here:\n",
      " |  \n",
      " |  __init__(self, NTIVEL: bool = False, NTISHK: int = 0, NTINHT: bool = False, NTINHB: bool = False, NTISHI: bool = False, NTIRTC: bool = False, NTICOM: int = 0, NTISTI: bool = False, IG: int = 0, TEMPI: float = 0, content: List[str] = None)\n",
      " |      Args:\n",
      " |          NTIVEL:\n",
      " |          NTISHK:\n",
      " |          NTINHT:\n",
      " |          NTINHB:\n",
      " |          NTISHI:\n",
      " |          NTIRTC:\n",
      " |          NTICOM:\n",
      " |          NTISTI:\n",
      " |          IG:\n",
      " |          TEMPI:\n",
      " |  \n",
      " |  ----------------------------------------------------------------------\n",
      " |  Data and other attributes defined here:\n",
      " |  \n",
      " |  __annotations__ = {'IG': <class 'int'>, 'NTICOM': <class 'int'>, 'NTIN...\n",
      " |  \n",
      " |  name = 'INITIALISE'\n",
      " |  \n",
      " |  ----------------------------------------------------------------------\n",
      " |  Methods inherited from _generic_imd_block:\n",
      " |  \n",
      " |  block_to_string(self) -> str\n",
      " |  \n",
      " |  read_content_from_str(self, content: List[str])\n",
      " |  \n",
      " |  ----------------------------------------------------------------------\n",
      " |  Methods inherited from pygromos.files.blocks._general_blocks._generic_gromos_block:\n",
      " |  \n",
      " |  __copy__(self)\n",
      " |  \n",
      " |  __deepcopy__(self, memo)\n",
      " |  \n",
      " |  __eq__(self, _generic_gromos_block__o: object) -> bool\n",
      " |      Return self==value.\n",
      " |  \n",
      " |  __iter__(self)\n",
      " |  \n",
      " |  __repr__(self)\n",
      " |      Return repr(self).\n",
      " |  \n",
      " |  __str__(self)\n",
      " |      Return str(self).\n",
      " |  \n",
      " |  get_name(self)\n",
      " |  \n",
      " |  ----------------------------------------------------------------------\n",
      " |  Data descriptors inherited from pygromos.files.blocks._general_blocks._generic_gromos_block:\n",
      " |  \n",
      " |  __dict__\n",
      " |      dictionary for instance variables (if defined)\n",
      " |  \n",
      " |  __weakref__\n",
      " |      list of weak references to the object (if defined)\n",
      " |  \n",
      " |  ----------------------------------------------------------------------\n",
      " |  Data and other attributes inherited from pygromos.files.blocks._general_blocks._generic_gromos_block:\n",
      " |  \n",
      " |  __hash__ = None\n",
      "\n"
     ]
    }
   ],
   "source": [
    "help(md_imd_file.INITIALISE)"
   ]
  },
  {
   "cell_type": "markdown",
   "metadata": {},
   "source": [
    "And now we will check the set options in our template:"
   ]
  },
  {
   "cell_type": "code",
   "execution_count": 53,
   "metadata": {
    "execution": {
     "iopub.execute_input": "2022-03-31T19:27:12.600969Z",
     "iopub.status.busy": "2022-03-31T19:27:12.600054Z",
     "iopub.status.idle": "2022-03-31T19:27:12.610462Z",
     "shell.execute_reply": "2022-03-31T19:27:12.608643Z"
    }
   },
   "outputs": [
    {
     "data": {
      "text/plain": [
       "INITIALISE\n",
       "# \t NTIVEL \t NTISHK \t NTINHT \t NTINHB\n",
       " \t 1 \t 0 \t 0 \t 0 \t \n",
       "# \t NTISHI \t NTIRTC \t NTICOM\n",
       " \t 1 \t 0 \t 1 \t \n",
       "# \t NTISTI\n",
       " \t 0 \t \n",
       "# \t IG \t TEMPI\n",
       " \t 12416 \t 300.000000 \t \n",
       "END"
      ]
     },
     "execution_count": 53,
     "metadata": {},
     "output_type": "execute_result"
    }
   ],
   "source": [
    "md_imd_file.INITIALISE"
   ]
  },
  {
   "cell_type": "markdown",
   "metadata": {},
   "source": [
    "### System Block\n",
    "In the SYSTEM block you would need to replace NSM with the number of solvent molecules in your system, but the *prepare_simulation* function takes care of that for you. \n"
   ]
  },
  {
   "cell_type": "code",
   "execution_count": 54,
   "metadata": {
    "execution": {
     "iopub.execute_input": "2022-03-31T19:27:12.615311Z",
     "iopub.status.busy": "2022-03-31T19:27:12.614671Z",
     "iopub.status.idle": "2022-03-31T19:27:12.631675Z",
     "shell.execute_reply": "2022-03-31T19:27:12.630136Z"
    }
   },
   "outputs": [
    {
     "ename": "NameError",
     "evalue": "name 'out_eminBox_system' is not defined",
     "output_type": "error",
     "traceback": [
      "\u001b[0;31m---------------------------------------------------------------------------\u001b[0m",
      "\u001b[0;31mNameError\u001b[0m                                 Traceback (most recent call last)",
      "\u001b[0;32m/tmp/ipykernel_32503/3553747723.py\u001b[0m in \u001b[0;36m<module>\u001b[0;34m\u001b[0m\n\u001b[1;32m      1\u001b[0m \u001b[0;31m#The last SOLV molecule can be found out like this:\u001b[0m\u001b[0;34m\u001b[0m\u001b[0;34m\u001b[0m\u001b[0m\n\u001b[0;32m----> 2\u001b[0;31m \u001b[0mstr\u001b[0m\u001b[0;34m(\u001b[0m\u001b[0mout_eminBox_system\u001b[0m\u001b[0;34m.\u001b[0m\u001b[0mcnf\u001b[0m\u001b[0;34m.\u001b[0m\u001b[0mPOSITION\u001b[0m\u001b[0;34m[\u001b[0m\u001b[0;34m-\u001b[0m\u001b[0;36m1\u001b[0m\u001b[0;34m]\u001b[0m\u001b[0;34m)\u001b[0m\u001b[0;34m\u001b[0m\u001b[0;34m\u001b[0m\u001b[0m\n\u001b[0m",
      "\u001b[0;31mNameError\u001b[0m: name 'out_eminBox_system' is not defined"
     ]
    }
   ],
   "source": [
    "#The last SOLV molecule can be found out like this:\n",
    "str(out_eminBox_system.cnf.POSITION[-1])"
   ]
  },
  {
   "cell_type": "code",
   "execution_count": 55,
   "metadata": {
    "execution": {
     "iopub.execute_input": "2022-03-31T19:27:12.636039Z",
     "iopub.status.busy": "2022-03-31T19:27:12.635399Z",
     "iopub.status.idle": "2022-03-31T19:27:12.643190Z",
     "shell.execute_reply": "2022-03-31T19:27:12.642049Z"
    }
   },
   "outputs": [
    {
     "data": {
      "text/plain": [
       "SYSTEM\n",
       "# \t NPM \t NSM\n",
       " \t 1 \t 5 \t \n",
       "END"
      ]
     },
     "execution_count": 55,
     "metadata": {},
     "output_type": "execute_result"
    }
   ],
   "source": [
    "#the template currently contains these values - note NSM is 1172, which is wrong!\n",
    "md_imd_file.SYSTEM"
   ]
  },
  {
   "cell_type": "markdown",
   "metadata": {},
   "source": [
    "#### STEP Block\n",
    "In the STEP block you specify how many steps you want to simulate (NSTLIM), at what time your simulation\n",
    "starts (T) and how big the integration time step (DT) is. In this case you want to start at time 0 and you\n",
    "want to carry out a 20 ps simulation, because the time unit happens to be ps."
   ]
  },
  {
   "cell_type": "code",
   "execution_count": 56,
   "metadata": {
    "execution": {
     "iopub.execute_input": "2022-03-31T19:27:12.649091Z",
     "iopub.status.busy": "2022-03-31T19:27:12.648400Z",
     "iopub.status.idle": "2022-03-31T19:27:12.662281Z",
     "shell.execute_reply": "2022-03-31T19:27:12.660786Z"
    }
   },
   "outputs": [
    {
     "name": "stdout",
     "output_type": "stream",
     "text": [
      "Help on STEP in module pygromos.files.blocks.imd_blocks object:\n",
      "\n",
      "class STEP(_generic_imd_block)\n",
      " |  STEP(NSTLIM: int = 0, T: float = 0, DT: float = 0, content: List[str] = None)\n",
      " |  \n",
      " |  Step Block\n",
      " |  \n",
      " |      This Block gives the number of simulation steps,\n",
      " |  \n",
      " |  Attributes\n",
      " |  -----------\n",
      " |  NSTLIM: int\n",
      " |      number of simulations Step till terminating.\n",
      " |  T:  float\n",
      " |      Starting Time\n",
      " |  DT: float\n",
      " |      time step [fs]\n",
      " |  \n",
      " |  Method resolution order:\n",
      " |      STEP\n",
      " |      _generic_imd_block\n",
      " |      pygromos.files.blocks._general_blocks._generic_gromos_block\n",
      " |      builtins.object\n",
      " |  \n",
      " |  Methods defined here:\n",
      " |  \n",
      " |  __init__(self, NSTLIM: int = 0, T: float = 0, DT: float = 0, content: List[str] = None)\n",
      " |      Initialize self.  See help(type(self)) for accurate signature.\n",
      " |  \n",
      " |  ----------------------------------------------------------------------\n",
      " |  Data and other attributes defined here:\n",
      " |  \n",
      " |  __annotations__ = {'DT': <class 'float'>, 'NSTLIM': <class 'int'>, 'T'...\n",
      " |  \n",
      " |  name = 'STEP'\n",
      " |  \n",
      " |  ----------------------------------------------------------------------\n",
      " |  Methods inherited from _generic_imd_block:\n",
      " |  \n",
      " |  block_to_string(self) -> str\n",
      " |  \n",
      " |  read_content_from_str(self, content: List[str])\n",
      " |  \n",
      " |  ----------------------------------------------------------------------\n",
      " |  Methods inherited from pygromos.files.blocks._general_blocks._generic_gromos_block:\n",
      " |  \n",
      " |  __copy__(self)\n",
      " |  \n",
      " |  __deepcopy__(self, memo)\n",
      " |  \n",
      " |  __eq__(self, _generic_gromos_block__o: object) -> bool\n",
      " |      Return self==value.\n",
      " |  \n",
      " |  __iter__(self)\n",
      " |  \n",
      " |  __repr__(self)\n",
      " |      Return repr(self).\n",
      " |  \n",
      " |  __str__(self)\n",
      " |      Return str(self).\n",
      " |  \n",
      " |  get_name(self)\n",
      " |  \n",
      " |  ----------------------------------------------------------------------\n",
      " |  Data descriptors inherited from pygromos.files.blocks._general_blocks._generic_gromos_block:\n",
      " |  \n",
      " |  __dict__\n",
      " |      dictionary for instance variables (if defined)\n",
      " |  \n",
      " |  __weakref__\n",
      " |      list of weak references to the object (if defined)\n",
      " |  \n",
      " |  ----------------------------------------------------------------------\n",
      " |  Data and other attributes inherited from pygromos.files.blocks._general_blocks._generic_gromos_block:\n",
      " |  \n",
      " |  __hash__ = None\n",
      "\n"
     ]
    }
   ],
   "source": [
    "help(md_imd_file.STEP)"
   ]
  },
  {
   "cell_type": "code",
   "execution_count": 57,
   "metadata": {
    "execution": {
     "iopub.execute_input": "2022-03-31T19:27:12.666571Z",
     "iopub.status.busy": "2022-03-31T19:27:12.665969Z",
     "iopub.status.idle": "2022-03-31T19:27:12.674858Z",
     "shell.execute_reply": "2022-03-31T19:27:12.673317Z"
    }
   },
   "outputs": [
    {
     "data": {
      "text/plain": [
       "STEP\n",
       "# \t NSTLIM \t T \t DT\n",
       " \t 1000 \t 0.000000 \t 0.002000 \t \n",
       "END"
      ]
     },
     "execution_count": 57,
     "metadata": {},
     "output_type": "execute_result"
    }
   ],
   "source": [
    "md_imd_file.STEP"
   ]
  },
  {
   "cell_type": "markdown",
   "metadata": {},
   "source": [
    "#### BOUNDCOND Block\n",
    "As previously described, with the BOUNDCOND block you specify which PBC you will use. With NTB=1 you\n",
    "specify rectangular PBC."
   ]
  },
  {
   "cell_type": "code",
   "execution_count": 58,
   "metadata": {
    "execution": {
     "iopub.execute_input": "2022-03-31T19:27:12.681629Z",
     "iopub.status.busy": "2022-03-31T19:27:12.680954Z",
     "iopub.status.idle": "2022-03-31T19:27:12.695879Z",
     "shell.execute_reply": "2022-03-31T19:27:12.694118Z"
    }
   },
   "outputs": [
    {
     "name": "stdout",
     "output_type": "stream",
     "text": [
      "Help on BOUNDCOND in module pygromos.files.blocks.imd_blocks object:\n",
      "\n",
      "class BOUNDCOND(_generic_imd_block)\n",
      " |  BOUNDCOND(NTB: int = 0, NDFMIN: int = 0, content: List[str] = None)\n",
      " |  \n",
      " |  Boundary Condition Block\n",
      " |  \n",
      " |      This block describes the boundary condition of the coordinate system.\n",
      " |  \n",
      " |  Attributes\n",
      " |  ----------\n",
      " |      NTB : int, optional\n",
      " |          Boundary conditions, by default 0\n",
      " |          -1 : truncated octahedral\n",
      " |           0 : vacuum\n",
      " |           1 : rectangular\n",
      " |           2 : triclinic\n",
      " |      NDFMIN : int, optional\n",
      " |          number of degrees of freedom subtracted for temperature, by default 0\n",
      " |  \n",
      " |  Method resolution order:\n",
      " |      BOUNDCOND\n",
      " |      _generic_imd_block\n",
      " |      pygromos.files.blocks._general_blocks._generic_gromos_block\n",
      " |      builtins.object\n",
      " |  \n",
      " |  Methods defined here:\n",
      " |  \n",
      " |  __init__(self, NTB: int = 0, NDFMIN: int = 0, content: List[str] = None)\n",
      " |      Initialize self.  See help(type(self)) for accurate signature.\n",
      " |  \n",
      " |  ----------------------------------------------------------------------\n",
      " |  Data and other attributes defined here:\n",
      " |  \n",
      " |  __annotations__ = {'NDFMIN': <class 'int'>, 'NTB': <class 'int'>, 'nam...\n",
      " |  \n",
      " |  name = 'BOUNDCOND'\n",
      " |  \n",
      " |  ----------------------------------------------------------------------\n",
      " |  Methods inherited from _generic_imd_block:\n",
      " |  \n",
      " |  block_to_string(self) -> str\n",
      " |  \n",
      " |  read_content_from_str(self, content: List[str])\n",
      " |  \n",
      " |  ----------------------------------------------------------------------\n",
      " |  Methods inherited from pygromos.files.blocks._general_blocks._generic_gromos_block:\n",
      " |  \n",
      " |  __copy__(self)\n",
      " |  \n",
      " |  __deepcopy__(self, memo)\n",
      " |  \n",
      " |  __eq__(self, _generic_gromos_block__o: object) -> bool\n",
      " |      Return self==value.\n",
      " |  \n",
      " |  __iter__(self)\n",
      " |  \n",
      " |  __repr__(self)\n",
      " |      Return repr(self).\n",
      " |  \n",
      " |  __str__(self)\n",
      " |      Return str(self).\n",
      " |  \n",
      " |  get_name(self)\n",
      " |  \n",
      " |  ----------------------------------------------------------------------\n",
      " |  Data descriptors inherited from pygromos.files.blocks._general_blocks._generic_gromos_block:\n",
      " |  \n",
      " |  __dict__\n",
      " |      dictionary for instance variables (if defined)\n",
      " |  \n",
      " |  __weakref__\n",
      " |      list of weak references to the object (if defined)\n",
      " |  \n",
      " |  ----------------------------------------------------------------------\n",
      " |  Data and other attributes inherited from pygromos.files.blocks._general_blocks._generic_gromos_block:\n",
      " |  \n",
      " |  __hash__ = None\n",
      "\n"
     ]
    }
   ],
   "source": [
    "help(md_imd_file.BOUNDCOND)"
   ]
  },
  {
   "cell_type": "code",
   "execution_count": 59,
   "metadata": {
    "execution": {
     "iopub.execute_input": "2022-03-31T19:27:12.700323Z",
     "iopub.status.busy": "2022-03-31T19:27:12.699627Z",
     "iopub.status.idle": "2022-03-31T19:27:12.707832Z",
     "shell.execute_reply": "2022-03-31T19:27:12.706227Z"
    }
   },
   "outputs": [
    {
     "data": {
      "text/plain": [
       "BOUNDCOND\n",
       "# \t NTB \t NDFMIN\n",
       " \t 1 \t 3 \t \n",
       "END"
      ]
     },
     "execution_count": 59,
     "metadata": {},
     "output_type": "execute_result"
    }
   ],
   "source": [
    "md_imd_file.BOUNDCOND"
   ]
  },
  {
   "cell_type": "markdown",
   "metadata": {},
   "source": [
    "#### MULTIBATH Block\n",
    "\n",
    "In our case we want to run the simulation at constant temperature. For this purpose, we have to add the\n",
    "MULTIBATH input block (see 4-96). First we specify which algorithm we will use. In this case we will use\n",
    "the weak-coupling scheme (ALGORITHM=0). How many temperature baths we want to couple to the system\n",
    "is specified by NBATHS. You can specify the temperature using the TEMP0 parameter. TAUT is the coupling\n",
    "time used in the weak-coupling method for this bath. DOFSET specifies the number of distiguishable sets\n",
    "of degrees of freedom. LAST is pointing to the last atom for the set of degrees of freedom; thus, you put\n",
    "the number of last atom of your system instead of LSTATM. COMBATH is the temperature bath to which we\n",
    "want to couple the centre of mass motion of this set of degrees of freedom IRBATH is the temperature bath\n",
    "to which the internal and rotational degrees of freedom of this set of degrees of freedom are coupled."
   ]
  },
  {
   "cell_type": "code",
   "execution_count": 60,
   "metadata": {
    "execution": {
     "iopub.execute_input": "2022-03-31T19:27:12.713602Z",
     "iopub.status.busy": "2022-03-31T19:27:12.712518Z",
     "iopub.status.idle": "2022-03-31T19:27:12.726838Z",
     "shell.execute_reply": "2022-03-31T19:27:12.724317Z"
    }
   },
   "outputs": [
    {
     "name": "stdout",
     "output_type": "stream",
     "text": [
      "Help on MULTIBATH in module pygromos.files.blocks.imd_blocks object:\n",
      "\n",
      "class MULTIBATH(_generic_imd_block)\n",
      " |  MULTIBATH(ALGORITHM: int = 0, NBATHS: int = 0, TEMP0: List[float] = [], TAU: List[float] = [], DOFSET: int = 0, LAST: List[int] = [], COMBATH: List[int] = [], IRBATH: List[int] = [], NUM: int = None, content: List[str] = None)\n",
      " |  \n",
      " |  MULTIBATH Block\n",
      " |  \n",
      " |      This block controls the Thermostat of a simulation. Multiple temperature baths can be coupled.\n",
      " |  \n",
      " |  Attributes\n",
      " |  ----------\n",
      " |  ALGORITHM:  int\n",
      " |      temperature coupling algorithm\n",
      " |      weak-coupling(0)\n",
      " |      nose-hoover(1)\n",
      " |      nose-hoover-chains(2)   num\n",
      " |      (where num is the number of chains to use)\n",
      " |  NUM: int, optional\n",
      " |      Mumber of chains in Nosé Hoover chains scheme [only specify when needed]\n",
      " |  NBATHS: int\n",
      " |      Number of temperature baths\n",
      " |  TEMP0:  List[float]\n",
      " |      temperature of each bath (list len == NBATHS)\n",
      " |  TAU:    List[float]\n",
      " |          coupling of the temperaturebath to the system  (list len == NBATHS)\n",
      " |  DOFSET: int\n",
      " |      Number of set of Degrees of freedom.\n",
      " |  LAST:   List[int]   (list len == DOFSET)\n",
      " |      Last atoms of each DOFSet\n",
      " |  COMBATH:    List[int]   (list len == DOFSET)\n",
      " |      Index of the temperature baths\n",
      " |  IRBATH: List[int]   (list len == DOFSET)\n",
      " |      IRBAHT?\n",
      " |  \n",
      " |  See Also\n",
      " |  --------\n",
      " |      _generic_imd_block, _generic_gromos_block\n",
      " |  \n",
      " |  Method resolution order:\n",
      " |      MULTIBATH\n",
      " |      _generic_imd_block\n",
      " |      pygromos.files.blocks._general_blocks._generic_gromos_block\n",
      " |      builtins.object\n",
      " |  \n",
      " |  Methods defined here:\n",
      " |  \n",
      " |  __init__(self, ALGORITHM: int = 0, NBATHS: int = 0, TEMP0: List[float] = [], TAU: List[float] = [], DOFSET: int = 0, LAST: List[int] = [], COMBATH: List[int] = [], IRBATH: List[int] = [], NUM: int = None, content: List[str] = None)\n",
      " |      Initialize self.  See help(type(self)) for accurate signature.\n",
      " |  \n",
      " |  adapt_multibath(self, last_atoms_bath: Dict[int, int], algorithm: int = None, num: int = None, T: Union[float, List[float]] = None, TAU: float = None) -> None\n",
      " |      adapt_multibath\n",
      " |              This function is adding each atom set into a single multibath.\n",
      " |              #TODO implementation not correct with com_bath and irbath! Works for super simple cases though\n",
      " |      \n",
      " |      Parameters\n",
      " |      ----------\n",
      " |      last_atoms_bath :   Dict[int,int]\n",
      " |          lastatom:bath\n",
      " |      algorithm : int\n",
      " |          int code for algorihtm\n",
      " |      T : float,List[float], optional\n",
      " |          temperature value\n",
      " |      TAU :   float, optional\n",
      " |          coupling var\n",
      " |      \n",
      " |      Returns\n",
      " |      -------\n",
      " |      None\n",
      " |  \n",
      " |  block_to_string(self) -> str\n",
      " |  \n",
      " |  read_content_from_str(self, content: List[str])\n",
      " |  \n",
      " |  ----------------------------------------------------------------------\n",
      " |  Data and other attributes defined here:\n",
      " |  \n",
      " |  __annotations__ = {'ALGORITHM': <class 'int'>, 'COMBATH': typing.List[...\n",
      " |  \n",
      " |  name = 'MULTIBATH'\n",
      " |  \n",
      " |  ----------------------------------------------------------------------\n",
      " |  Methods inherited from pygromos.files.blocks._general_blocks._generic_gromos_block:\n",
      " |  \n",
      " |  __copy__(self)\n",
      " |  \n",
      " |  __deepcopy__(self, memo)\n",
      " |  \n",
      " |  __eq__(self, _generic_gromos_block__o: object) -> bool\n",
      " |      Return self==value.\n",
      " |  \n",
      " |  __iter__(self)\n",
      " |  \n",
      " |  __repr__(self)\n",
      " |      Return repr(self).\n",
      " |  \n",
      " |  __str__(self)\n",
      " |      Return str(self).\n",
      " |  \n",
      " |  get_name(self)\n",
      " |  \n",
      " |  ----------------------------------------------------------------------\n",
      " |  Data descriptors inherited from pygromos.files.blocks._general_blocks._generic_gromos_block:\n",
      " |  \n",
      " |  __dict__\n",
      " |      dictionary for instance variables (if defined)\n",
      " |  \n",
      " |  __weakref__\n",
      " |      list of weak references to the object (if defined)\n",
      " |  \n",
      " |  ----------------------------------------------------------------------\n",
      " |  Data and other attributes inherited from pygromos.files.blocks._general_blocks._generic_gromos_block:\n",
      " |  \n",
      " |  __hash__ = None\n",
      "\n"
     ]
    }
   ],
   "source": [
    "help(md_imd_file.MULTIBATH)"
   ]
  },
  {
   "cell_type": "code",
   "execution_count": 61,
   "metadata": {
    "execution": {
     "iopub.execute_input": "2022-03-31T19:27:12.731111Z",
     "iopub.status.busy": "2022-03-31T19:27:12.730498Z",
     "iopub.status.idle": "2022-03-31T19:27:12.739394Z",
     "shell.execute_reply": "2022-03-31T19:27:12.737044Z"
    }
   },
   "outputs": [
    {
     "data": {
      "text/plain": [
       "MULTIBATH\n",
       "# ALGORITHM\n",
       "  0\n",
       "# NBATHS\n",
       "  2\n",
       "# TEMP0(1 ... NBATHS) \t TAU(1 ... NBATHS)\n",
       "  300.0 \t 0.1\n",
       "  300.0 \t 0.1\n",
       "# DOFSET\n",
       "  2\n",
       "# LAST(1 ... DOFSET) \t COMBATH(1 ... DOFSET) \t IRBATH(1 ... DOFSET)\n",
       "  73 \t 1 \t 1\n",
       "  2863 \t 2 \t 2\n",
       "END"
      ]
     },
     "execution_count": 61,
     "metadata": {},
     "output_type": "execute_result"
    }
   ],
   "source": [
    "md_imd_file.MULTIBATH"
   ]
  },
  {
   "cell_type": "markdown",
   "metadata": {},
   "source": [
    "### COMTRANSROT Block\n",
    "This block is needed to remove the centre of mass motion (translation and rotation). Without this block it\n",
    "can happen that all the kinetic energy is converted to centre of mass translation (flying ice cube problem).\n",
    "With *NSCM* we specify how often the center-of-mass (COM) motion is removed. If *NSCM* is $< 0$ translation\n",
    "and rotation motion are removed every $|$ *NSCM* $|$ th step. If *NSCM* is $> 0$ only translation motion is removed\n",
    "every *NSCM*th step."
   ]
  },
  {
   "cell_type": "code",
   "execution_count": 62,
   "metadata": {
    "execution": {
     "iopub.execute_input": "2022-03-31T19:27:12.743505Z",
     "iopub.status.busy": "2022-03-31T19:27:12.742864Z",
     "iopub.status.idle": "2022-03-31T19:27:12.753491Z",
     "shell.execute_reply": "2022-03-31T19:27:12.751858Z"
    }
   },
   "outputs": [
    {
     "name": "stdout",
     "output_type": "stream",
     "text": [
      "Help on COMTRANSROT in module pygromos.files.blocks.imd_blocks object:\n",
      "\n",
      "class COMTRANSROT(_generic_imd_block)\n",
      " |  COMTRANSROT(NSCM: int = 0, content: List[str] = None)\n",
      " |  \n",
      " |  COMTRANSROT block\n",
      " |  \n",
      " |  This block controls the center of mass translation and rotation removal. (flying ice cube problem)\n",
      " |  \n",
      " |  Attributes\n",
      " |  ----------\n",
      " |  \n",
      " |  NSCM : int\n",
      " |      controls system centre-of-mass (com) motion removal\n",
      " |      0: no com motion removal (default)\n",
      " |      < 0: com translation and rotation are removed every abs(NSCM) steps.\n",
      " |      > 0: com translation is removed every NSCM steps.\n",
      " |  \n",
      " |  Method resolution order:\n",
      " |      COMTRANSROT\n",
      " |      _generic_imd_block\n",
      " |      pygromos.files.blocks._general_blocks._generic_gromos_block\n",
      " |      builtins.object\n",
      " |  \n",
      " |  Methods defined here:\n",
      " |  \n",
      " |  __init__(self, NSCM: int = 0, content: List[str] = None)\n",
      " |      Initialize self.  See help(type(self)) for accurate signature.\n",
      " |  \n",
      " |  ----------------------------------------------------------------------\n",
      " |  Data and other attributes defined here:\n",
      " |  \n",
      " |  __annotations__ = {'NSCM': <class 'int'>, 'name': <class 'str'>}\n",
      " |  \n",
      " |  name = 'COMTRANSROT'\n",
      " |  \n",
      " |  ----------------------------------------------------------------------\n",
      " |  Methods inherited from _generic_imd_block:\n",
      " |  \n",
      " |  block_to_string(self) -> str\n",
      " |  \n",
      " |  read_content_from_str(self, content: List[str])\n",
      " |  \n",
      " |  ----------------------------------------------------------------------\n",
      " |  Methods inherited from pygromos.files.blocks._general_blocks._generic_gromos_block:\n",
      " |  \n",
      " |  __copy__(self)\n",
      " |  \n",
      " |  __deepcopy__(self, memo)\n",
      " |  \n",
      " |  __eq__(self, _generic_gromos_block__o: object) -> bool\n",
      " |      Return self==value.\n",
      " |  \n",
      " |  __iter__(self)\n",
      " |  \n",
      " |  __repr__(self)\n",
      " |      Return repr(self).\n",
      " |  \n",
      " |  __str__(self)\n",
      " |      Return str(self).\n",
      " |  \n",
      " |  get_name(self)\n",
      " |  \n",
      " |  ----------------------------------------------------------------------\n",
      " |  Data descriptors inherited from pygromos.files.blocks._general_blocks._generic_gromos_block:\n",
      " |  \n",
      " |  __dict__\n",
      " |      dictionary for instance variables (if defined)\n",
      " |  \n",
      " |  __weakref__\n",
      " |      list of weak references to the object (if defined)\n",
      " |  \n",
      " |  ----------------------------------------------------------------------\n",
      " |  Data and other attributes inherited from pygromos.files.blocks._general_blocks._generic_gromos_block:\n",
      " |  \n",
      " |  __hash__ = None\n",
      "\n"
     ]
    }
   ],
   "source": [
    "help(md_imd_file.COMTRANSROT)"
   ]
  },
  {
   "cell_type": "code",
   "execution_count": 63,
   "metadata": {
    "execution": {
     "iopub.execute_input": "2022-03-31T19:27:12.761048Z",
     "iopub.status.busy": "2022-03-31T19:27:12.760712Z",
     "iopub.status.idle": "2022-03-31T19:27:12.768398Z",
     "shell.execute_reply": "2022-03-31T19:27:12.767108Z"
    }
   },
   "outputs": [
    {
     "data": {
      "text/plain": [
       "COMTRANSROT\n",
       "# \t NSCM\n",
       " \t 1000 \t \n",
       "END"
      ]
     },
     "execution_count": 63,
     "metadata": {},
     "output_type": "execute_result"
    }
   ],
   "source": [
    "md_imd_file.COMTRANSROT"
   ]
  },
  {
   "cell_type": "markdown",
   "metadata": {},
   "source": [
    "### COVALENTFORM Block\n",
    "This block is needed to define which functional form we will use for bond-stretching (NTBBH), bond-angle\n",
    "bending (NTBAH) and for torsional dihedral (NTBDN). We just use the default options for all functional forms."
   ]
  },
  {
   "cell_type": "code",
   "execution_count": 64,
   "metadata": {
    "execution": {
     "iopub.execute_input": "2022-03-31T19:27:12.773082Z",
     "iopub.status.busy": "2022-03-31T19:27:12.772494Z",
     "iopub.status.idle": "2022-03-31T19:27:12.782621Z",
     "shell.execute_reply": "2022-03-31T19:27:12.781251Z"
    }
   },
   "outputs": [
    {
     "name": "stdout",
     "output_type": "stream",
     "text": [
      "Help on COVALENTFORM in module pygromos.files.blocks.imd_blocks object:\n",
      "\n",
      "class COVALENTFORM(_generic_imd_block)\n",
      " |  COVALENTFORM(NTBBH: int = 0, NTBAH: int = 0, NTBDN: int = 0, content: List[str] = None)\n",
      " |  \n",
      " |  COVALENTFORM Block\n",
      " |  \n",
      " |      The COVALENTFORM Block manages the functional form of the Bonded contributions to the force field.\n",
      " |      It is optional in an imd file to define the block.\n",
      " |  \n",
      " |  Attributes\n",
      " |  ----------\n",
      " |  NTBBH:  int\n",
      " |      0,1 controls bond-stretching potential\n",
      " |      0: quartic form (default)\n",
      " |      1: harmonic form\n",
      " |  NTBAH:  int\n",
      " |      0,1 controls bond-angle bending potential\n",
      " |      0: cosine-harmonic (default)\n",
      " |      1: harmonic\n",
      " |  NTBDN:  int\n",
      " |      0,1 controls torsional dihedral potential\n",
      " |      0: arbitrary phase shifts (default)\n",
      " |      1: phase shifts limited to 0 and 180 degrees.\n",
      " |  \n",
      " |  Method resolution order:\n",
      " |      COVALENTFORM\n",
      " |      _generic_imd_block\n",
      " |      pygromos.files.blocks._general_blocks._generic_gromos_block\n",
      " |      builtins.object\n",
      " |  \n",
      " |  Methods defined here:\n",
      " |  \n",
      " |  __init__(self, NTBBH: int = 0, NTBAH: int = 0, NTBDN: int = 0, content: List[str] = None)\n",
      " |      Initialize self.  See help(type(self)) for accurate signature.\n",
      " |  \n",
      " |  ----------------------------------------------------------------------\n",
      " |  Data and other attributes defined here:\n",
      " |  \n",
      " |  __annotations__ = {'NTBAH': <class 'int'>, 'NTBBH': <class 'int'>, 'NT...\n",
      " |  \n",
      " |  name = 'COVALENTFORM'\n",
      " |  \n",
      " |  ----------------------------------------------------------------------\n",
      " |  Methods inherited from _generic_imd_block:\n",
      " |  \n",
      " |  block_to_string(self) -> str\n",
      " |  \n",
      " |  read_content_from_str(self, content: List[str])\n",
      " |  \n",
      " |  ----------------------------------------------------------------------\n",
      " |  Methods inherited from pygromos.files.blocks._general_blocks._generic_gromos_block:\n",
      " |  \n",
      " |  __copy__(self)\n",
      " |  \n",
      " |  __deepcopy__(self, memo)\n",
      " |  \n",
      " |  __eq__(self, _generic_gromos_block__o: object) -> bool\n",
      " |      Return self==value.\n",
      " |  \n",
      " |  __iter__(self)\n",
      " |  \n",
      " |  __repr__(self)\n",
      " |      Return repr(self).\n",
      " |  \n",
      " |  __str__(self)\n",
      " |      Return str(self).\n",
      " |  \n",
      " |  get_name(self)\n",
      " |  \n",
      " |  ----------------------------------------------------------------------\n",
      " |  Data descriptors inherited from pygromos.files.blocks._general_blocks._generic_gromos_block:\n",
      " |  \n",
      " |  __dict__\n",
      " |      dictionary for instance variables (if defined)\n",
      " |  \n",
      " |  __weakref__\n",
      " |      list of weak references to the object (if defined)\n",
      " |  \n",
      " |  ----------------------------------------------------------------------\n",
      " |  Data and other attributes inherited from pygromos.files.blocks._general_blocks._generic_gromos_block:\n",
      " |  \n",
      " |  __hash__ = None\n",
      "\n"
     ]
    }
   ],
   "source": [
    "help(md_imd_file.COVALENTFORM)"
   ]
  },
  {
   "cell_type": "code",
   "execution_count": 65,
   "metadata": {
    "execution": {
     "iopub.execute_input": "2022-03-31T19:27:12.788538Z",
     "iopub.status.busy": "2022-03-31T19:27:12.787884Z",
     "iopub.status.idle": "2022-03-31T19:27:12.796822Z",
     "shell.execute_reply": "2022-03-31T19:27:12.795573Z"
    }
   },
   "outputs": [
    {
     "data": {
      "text/plain": [
       "COVALENTFORM\n",
       "# \t NTBBH \t NTBAH \t NTBDN\n",
       " \t 0 \t 0 \t 0 \t \n",
       "END"
      ]
     },
     "execution_count": 65,
     "metadata": {},
     "output_type": "execute_result"
    }
   ],
   "source": [
    "md_imd_file.COVALENTFORM"
   ]
  },
  {
   "cell_type": "markdown",
   "metadata": {},
   "source": [
    "### WRITETRAJ Block\n",
    "Gromos MD simulations produce a massive amount of data and it is impossible to store all the data it produces. The\n",
    "WRITETRAJ block meets this demand: Here you specify how often the coordinate trajectory (*NTWX*), the\n",
    "velocity trajectory (*NTWV*), the force trajectory (*NTWF*), the energy trajectory (*NTWE*), the free energy trajectory\n",
    "(*NTWG*) and the block averaged energy trajectory (*NTWB*) are written out. In the present case, we are only\n",
    "interested in the coordinates (*NTWX*) and energies (*NTWE*) and we write them every 100th step. The second\n",
    "switch (*NTWSE*) defines selection criterion for trajectories: if NTWSE = 0 the normal coordinate trajectory will\n",
    "be written, or if *NTWSE* $> 0$ a minimum energy trajectory will be written.\n",
    "\n",
    "***\n",
    "\n",
    "**Warning**: It makes no sense to write out configurations too often. First, it needs a lot of disk space. Second,\n",
    "the data is highly correlated and so no additional information is gained from it\n",
    "***"
   ]
  },
  {
   "cell_type": "code",
   "execution_count": 66,
   "metadata": {
    "execution": {
     "iopub.execute_input": "2022-03-31T19:27:12.801163Z",
     "iopub.status.busy": "2022-03-31T19:27:12.800571Z",
     "iopub.status.idle": "2022-03-31T19:27:12.810762Z",
     "shell.execute_reply": "2022-03-31T19:27:12.809342Z"
    }
   },
   "outputs": [
    {
     "name": "stdout",
     "output_type": "stream",
     "text": [
      "Help on WRITETRAJ in module pygromos.files.blocks.imd_blocks object:\n",
      "\n",
      "class WRITETRAJ(_generic_imd_block)\n",
      " |  WRITETRAJ(NTWX: int = 0, NTWSE: int = 0, NTWV: int = 0, NTWF: int = 0, NTWE: int = 0, NTWG: int = 0, NTWB: int = 0, content: List[str] = None)\n",
      " |  \n",
      " |  WRITETRAJ\n",
      " |  \n",
      " |      The WRITETRAJ Block manages the output frequency of GROMOS. Here you can determine how often a file should be written.\n",
      " |  \n",
      " |  Attributes\n",
      " |  ----------\n",
      " |  NTWX:   int\n",
      " |      controls writing of coordinate trajectory\n",
      " |      0: no coordinate trajectory is written (default)\n",
      " |      >0: write solute and solvent coordinates every NTWX steps\n",
      " |      <0: write solute coordinates every |NTWX| steps\n",
      " |  NTWSE:   int\n",
      " |      >= 0 selection criteria for coordinate trajectory writing\n",
      " |      0: write normal coordinate trajectory\n",
      " |      >0: write minimum-energy coordinate and energy trajectory (based on the\n",
      " |      energy entry selected by NTWSE and as blocks of length NTWX)\n",
      " |      (see configuration/energy.cc or ene_ana library for indices)\n",
      " |  NTWV:   int\n",
      " |      controls writing of velocity trajectory\n",
      " |      0: no velocity trajectory is written (default)\n",
      " |      >0: write solute and solvent velocities every NTWV steps\n",
      " |      <0: write solute velocities every |NTWV| steps\n",
      " |  NTWF:   int\n",
      " |      controls writing of force trajectory\n",
      " |      0: no force trajectory is written (default)\n",
      " |      >0: write solute and solvent forces every NTWF steps\n",
      " |      <0: write solute forces every |NTWF| steps\n",
      " |  NTWE:   int\n",
      " |      >= 0 controls writing of energy trajectory\n",
      " |      0: no energy trajectory is written (default)\n",
      " |      >0: write energy trajectory every NTWE steps\n",
      " |  NTWG:   int\n",
      " |      >= 0 controls writing of free energy trajectory\n",
      " |      0: no free energy trajectory is written (default)\n",
      " |      >0: write free energy trajectory every NTWG steps\n",
      " |  NTWB:   int\n",
      " |      >= 0 controls writing of block-averaged energy trajectory\n",
      " |      0: no block averaged energy trajectory is written (default)\n",
      " |      >0: write block-averaged energy variables every |NTWB| steps\n",
      " |          (and free energies if NTWG > 0) trajectory\n",
      " |  \n",
      " |  Method resolution order:\n",
      " |      WRITETRAJ\n",
      " |      _generic_imd_block\n",
      " |      pygromos.files.blocks._general_blocks._generic_gromos_block\n",
      " |      builtins.object\n",
      " |  \n",
      " |  Methods defined here:\n",
      " |  \n",
      " |  __init__(self, NTWX: int = 0, NTWSE: int = 0, NTWV: int = 0, NTWF: int = 0, NTWE: int = 0, NTWG: int = 0, NTWB: int = 0, content: List[str] = None)\n",
      " |      Args:\n",
      " |          NTWX:\n",
      " |          NTWSE:\n",
      " |          NTWV:\n",
      " |          NTWF:\n",
      " |          NTWE:\n",
      " |          NTWG:\n",
      " |          NTWB:\n",
      " |  \n",
      " |  ----------------------------------------------------------------------\n",
      " |  Data and other attributes defined here:\n",
      " |  \n",
      " |  __annotations__ = {'NTWB': <class 'int'>, 'NTWE': <class 'int'>, 'NTWF...\n",
      " |  \n",
      " |  name = 'WRITETRAJ'\n",
      " |  \n",
      " |  ----------------------------------------------------------------------\n",
      " |  Methods inherited from _generic_imd_block:\n",
      " |  \n",
      " |  block_to_string(self) -> str\n",
      " |  \n",
      " |  read_content_from_str(self, content: List[str])\n",
      " |  \n",
      " |  ----------------------------------------------------------------------\n",
      " |  Methods inherited from pygromos.files.blocks._general_blocks._generic_gromos_block:\n",
      " |  \n",
      " |  __copy__(self)\n",
      " |  \n",
      " |  __deepcopy__(self, memo)\n",
      " |  \n",
      " |  __eq__(self, _generic_gromos_block__o: object) -> bool\n",
      " |      Return self==value.\n",
      " |  \n",
      " |  __iter__(self)\n",
      " |  \n",
      " |  __repr__(self)\n",
      " |      Return repr(self).\n",
      " |  \n",
      " |  __str__(self)\n",
      " |      Return str(self).\n",
      " |  \n",
      " |  get_name(self)\n",
      " |  \n",
      " |  ----------------------------------------------------------------------\n",
      " |  Data descriptors inherited from pygromos.files.blocks._general_blocks._generic_gromos_block:\n",
      " |  \n",
      " |  __dict__\n",
      " |      dictionary for instance variables (if defined)\n",
      " |  \n",
      " |  __weakref__\n",
      " |      list of weak references to the object (if defined)\n",
      " |  \n",
      " |  ----------------------------------------------------------------------\n",
      " |  Data and other attributes inherited from pygromos.files.blocks._general_blocks._generic_gromos_block:\n",
      " |  \n",
      " |  __hash__ = None\n",
      "\n"
     ]
    }
   ],
   "source": [
    "help(md_imd_file.WRITETRAJ)"
   ]
  },
  {
   "cell_type": "code",
   "execution_count": 67,
   "metadata": {
    "execution": {
     "iopub.execute_input": "2022-03-31T19:27:12.816111Z",
     "iopub.status.busy": "2022-03-31T19:27:12.815525Z",
     "iopub.status.idle": "2022-03-31T19:27:12.825674Z",
     "shell.execute_reply": "2022-03-31T19:27:12.824024Z"
    }
   },
   "outputs": [
    {
     "data": {
      "text/plain": [
       "WRITETRAJ\n",
       "# \t NTWX \t NTWSE \t NTWV \t NTWF \t NTWE \t NTWG \t NTWB\n",
       " \t 10 \t 0 \t 0 \t 0 \t 10 \t 0 \t 0 \t \n",
       "END"
      ]
     },
     "execution_count": 67,
     "metadata": {},
     "output_type": "execute_result"
    }
   ],
   "source": [
    "md_imd_file.WRITETRAJ"
   ]
  },
  {
   "cell_type": "markdown",
   "metadata": {},
   "source": [
    "### PRINTOUT Block\n",
    "This block is very similar to the *WRITETRAJ* block but the information about the energies (*NTPR*) is printed\n",
    "to the output file (.omd). By giving *NTPP*, dihedral angle transitions are written to the special trajectory (.trs).\n"
   ]
  },
  {
   "cell_type": "code",
   "execution_count": 68,
   "metadata": {
    "execution": {
     "iopub.execute_input": "2022-03-31T19:27:12.829672Z",
     "iopub.status.busy": "2022-03-31T19:27:12.829145Z",
     "iopub.status.idle": "2022-03-31T19:27:12.839008Z",
     "shell.execute_reply": "2022-03-31T19:27:12.837648Z"
    }
   },
   "outputs": [
    {
     "name": "stdout",
     "output_type": "stream",
     "text": [
      "Help on PRINTOUT in module pygromos.files.blocks.imd_blocks object:\n",
      "\n",
      "class PRINTOUT(_generic_imd_block)\n",
      " |  PRINTOUT(NTPR: int = 0, NTPP: int = 0, content: List[str] = None)\n",
      " |  \n",
      " |  PRINTOUT block\n",
      " |  \n",
      " |      This Block manages the output frequency into the .omd/std-out file.\n",
      " |  \n",
      " |  Attributes\n",
      " |  ----------\n",
      " |  NTPR: int\n",
      " |      print out energies, etc. every NTPR steps\n",
      " |  NTPP: int\n",
      " |      =1 perform dihedral angle transition monitoring\n",
      " |  \n",
      " |  Method resolution order:\n",
      " |      PRINTOUT\n",
      " |      _generic_imd_block\n",
      " |      pygromos.files.blocks._general_blocks._generic_gromos_block\n",
      " |      builtins.object\n",
      " |  \n",
      " |  Methods defined here:\n",
      " |  \n",
      " |  __init__(self, NTPR: int = 0, NTPP: int = 0, content: List[str] = None)\n",
      " |      Initialize self.  See help(type(self)) for accurate signature.\n",
      " |  \n",
      " |  ----------------------------------------------------------------------\n",
      " |  Data and other attributes defined here:\n",
      " |  \n",
      " |  __annotations__ = {'NTPP': <class 'int'>, 'NTPR': <class 'int'>, 'name...\n",
      " |  \n",
      " |  name = 'PRINTOUT'\n",
      " |  \n",
      " |  ----------------------------------------------------------------------\n",
      " |  Methods inherited from _generic_imd_block:\n",
      " |  \n",
      " |  block_to_string(self) -> str\n",
      " |  \n",
      " |  read_content_from_str(self, content: List[str])\n",
      " |  \n",
      " |  ----------------------------------------------------------------------\n",
      " |  Methods inherited from pygromos.files.blocks._general_blocks._generic_gromos_block:\n",
      " |  \n",
      " |  __copy__(self)\n",
      " |  \n",
      " |  __deepcopy__(self, memo)\n",
      " |  \n",
      " |  __eq__(self, _generic_gromos_block__o: object) -> bool\n",
      " |      Return self==value.\n",
      " |  \n",
      " |  __iter__(self)\n",
      " |  \n",
      " |  __repr__(self)\n",
      " |      Return repr(self).\n",
      " |  \n",
      " |  __str__(self)\n",
      " |      Return str(self).\n",
      " |  \n",
      " |  get_name(self)\n",
      " |  \n",
      " |  ----------------------------------------------------------------------\n",
      " |  Data descriptors inherited from pygromos.files.blocks._general_blocks._generic_gromos_block:\n",
      " |  \n",
      " |  __dict__\n",
      " |      dictionary for instance variables (if defined)\n",
      " |  \n",
      " |  __weakref__\n",
      " |      list of weak references to the object (if defined)\n",
      " |  \n",
      " |  ----------------------------------------------------------------------\n",
      " |  Data and other attributes inherited from pygromos.files.blocks._general_blocks._generic_gromos_block:\n",
      " |  \n",
      " |  __hash__ = None\n",
      "\n"
     ]
    }
   ],
   "source": [
    "help(md_imd_file.PRINTOUT)"
   ]
  },
  {
   "cell_type": "code",
   "execution_count": 69,
   "metadata": {
    "execution": {
     "iopub.execute_input": "2022-03-31T19:27:12.842990Z",
     "iopub.status.busy": "2022-03-31T19:27:12.842378Z",
     "iopub.status.idle": "2022-03-31T19:27:12.851749Z",
     "shell.execute_reply": "2022-03-31T19:27:12.849998Z"
    }
   },
   "outputs": [
    {
     "data": {
      "text/plain": [
       "PRINTOUT\n",
       "# \t NTPR \t NTPP\n",
       " \t 250 \t 0 \t \n",
       "END"
      ]
     },
     "execution_count": 69,
     "metadata": {},
     "output_type": "execute_result"
    }
   ],
   "source": [
    "md_imd_file.PRINTOUT"
   ]
  },
  {
   "cell_type": "markdown",
   "metadata": {},
   "source": [
    "### PAIRLIST Block\n",
    "MD++ knows different algorithms for the generation of the pairlist, a list containing the atoms interacting\n",
    "with each other. Here, we use a grid based pairlist generation: \n",
    "the space is discretized into grid cells and only the neighboring cells are searched for interacting partners. \n",
    "The use of this algorithm results in a\n",
    "The pairlist is generated every 5th (*NSNB*) step. \n",
    "*RCUTP* and *RCUTL* are the cutoffs for the pairlist construction for the short-range and the long-range interactions.\n",
    "The pairlist is generated every 5th (*NSNB*) step. *RCUTP* and *RCUTL* are the cutoffs for the pairlist construction for\n",
    "the short-range and the long-range interactions."
   ]
  },
  {
   "cell_type": "code",
   "execution_count": 70,
   "metadata": {
    "execution": {
     "iopub.execute_input": "2022-03-31T19:27:12.858387Z",
     "iopub.status.busy": "2022-03-31T19:27:12.857930Z",
     "iopub.status.idle": "2022-03-31T19:27:12.868526Z",
     "shell.execute_reply": "2022-03-31T19:27:12.867117Z"
    }
   },
   "outputs": [
    {
     "name": "stdout",
     "output_type": "stream",
     "text": [
      "Help on PAIRLIST in module pygromos.files.blocks.imd_blocks object:\n",
      "\n",
      "class PAIRLIST(_generic_imd_block)\n",
      " |  PAIRLIST(ALGORITHM: int = 0, NSNB: int = 0, RCUTP: float = 0, RCUTL: float = 0, SIZE: Union[str, float] = 0, TYPE: Union[str, bool] = False, content: List[str] = None)\n",
      " |  \n",
      " |  PAIRLIST Block\n",
      " |  \n",
      " |          This block is controlling the pairlist control.\n",
      " |  \n",
      " |  Attributes\n",
      " |  ----------\n",
      " |  ALGORITHM: int\n",
      " |      standard(0) (gromos96 like pairlist)\n",
      " |      grid(1) (md++ grid pairlist)\n",
      " |      grid_cell(2) (creates a mask)\n",
      " |  NSNB:   int\n",
      " |      frequency (number of steps) a pairlist is constructed\n",
      " |  RCUTPL: float\n",
      " |      short-range cut-off in twin-range\n",
      " |  RCUTL:  float\n",
      " |      intermediate-range cut-off in twin-range\n",
      " |  SIZE:   str, float\n",
      " |      grid cell size (or auto = 0.5 * RCUTP)\n",
      " |  TYPE:   str, bool\n",
      " |      chargegoup(0) (chargegroup based cutoff)\n",
      " |      atomic(1)     (atom based cutoff)\n",
      " |  \n",
      " |  Method resolution order:\n",
      " |      PAIRLIST\n",
      " |      _generic_imd_block\n",
      " |      pygromos.files.blocks._general_blocks._generic_gromos_block\n",
      " |      builtins.object\n",
      " |  \n",
      " |  Methods defined here:\n",
      " |  \n",
      " |  __init__(self, ALGORITHM: int = 0, NSNB: int = 0, RCUTP: float = 0, RCUTL: float = 0, SIZE: Union[str, float] = 0, TYPE: Union[str, bool] = False, content: List[str] = None)\n",
      " |      Args:\n",
      " |          ALGORITHM:\n",
      " |          NSNB:\n",
      " |          RCUTP:\n",
      " |          RCUTL:\n",
      " |          SIZE:\n",
      " |          TYPE:\n",
      " |  \n",
      " |  ----------------------------------------------------------------------\n",
      " |  Data and other attributes defined here:\n",
      " |  \n",
      " |  __annotations__ = {'ALGORITHM': <class 'int'>, 'NSNB': <class 'int'>, ...\n",
      " |  \n",
      " |  name = 'PAIRLIST'\n",
      " |  \n",
      " |  ----------------------------------------------------------------------\n",
      " |  Methods inherited from _generic_imd_block:\n",
      " |  \n",
      " |  block_to_string(self) -> str\n",
      " |  \n",
      " |  read_content_from_str(self, content: List[str])\n",
      " |  \n",
      " |  ----------------------------------------------------------------------\n",
      " |  Methods inherited from pygromos.files.blocks._general_blocks._generic_gromos_block:\n",
      " |  \n",
      " |  __copy__(self)\n",
      " |  \n",
      " |  __deepcopy__(self, memo)\n",
      " |  \n",
      " |  __eq__(self, _generic_gromos_block__o: object) -> bool\n",
      " |      Return self==value.\n",
      " |  \n",
      " |  __iter__(self)\n",
      " |  \n",
      " |  __repr__(self)\n",
      " |      Return repr(self).\n",
      " |  \n",
      " |  __str__(self)\n",
      " |      Return str(self).\n",
      " |  \n",
      " |  get_name(self)\n",
      " |  \n",
      " |  ----------------------------------------------------------------------\n",
      " |  Data descriptors inherited from pygromos.files.blocks._general_blocks._generic_gromos_block:\n",
      " |  \n",
      " |  __dict__\n",
      " |      dictionary for instance variables (if defined)\n",
      " |  \n",
      " |  __weakref__\n",
      " |      list of weak references to the object (if defined)\n",
      " |  \n",
      " |  ----------------------------------------------------------------------\n",
      " |  Data and other attributes inherited from pygromos.files.blocks._general_blocks._generic_gromos_block:\n",
      " |  \n",
      " |  __hash__ = None\n",
      "\n"
     ]
    }
   ],
   "source": [
    "help(md_imd_file.PAIRLIST)"
   ]
  },
  {
   "cell_type": "code",
   "execution_count": 71,
   "metadata": {
    "execution": {
     "iopub.execute_input": "2022-03-31T19:27:12.873623Z",
     "iopub.status.busy": "2022-03-31T19:27:12.872775Z",
     "iopub.status.idle": "2022-03-31T19:27:12.881403Z",
     "shell.execute_reply": "2022-03-31T19:27:12.880283Z"
    }
   },
   "outputs": [
    {
     "data": {
      "text/plain": [
       "PAIRLIST\n",
       "# \t ALGORITHM \t NSNB \t RCUTP \t RCUTL \t SIZE \t TYPE\n",
       " \t 1 \t 5 \t 0.800000 \t 1.400000 \t 0.4 \t 0 \t \n",
       "END"
      ]
     },
     "execution_count": 71,
     "metadata": {},
     "output_type": "execute_result"
    }
   ],
   "source": [
    "md_imd_file.PAIRLIST"
   ]
  },
  {
   "cell_type": "markdown",
   "metadata": {},
   "source": [
    "### POSITIONRES Block\n",
    "Finally, we want to restrain the position of our solute. The restraining is achieved by a harmonic special\n",
    "force term with a force constant of *CPOR*."
   ]
  },
  {
   "cell_type": "code",
   "execution_count": 72,
   "metadata": {
    "execution": {
     "iopub.execute_input": "2022-03-31T19:27:12.886483Z",
     "iopub.status.busy": "2022-03-31T19:27:12.885554Z",
     "iopub.status.idle": "2022-03-31T19:27:12.897631Z",
     "shell.execute_reply": "2022-03-31T19:27:12.896449Z"
    }
   },
   "outputs": [
    {
     "name": "stdout",
     "output_type": "stream",
     "text": [
      "Help on class POSITIONRES in module pygromos.files.blocks.imd_blocks:\n",
      "\n",
      "class POSITIONRES(_generic_imd_block)\n",
      " |  POSITIONRES(NTPOR: int = 0, NTPORB: int = 0, NTPORS: int = 0, CPOR: int = 0, content: List[str] = None)\n",
      " |  \n",
      " |  POSITIONRES block\n",
      " |  \n",
      " |      This block allows the managment of the Position Restraints during the Simulation.\n",
      " |  \n",
      " |  Attributes\n",
      " |  ----------\n",
      " |  NTPOR:\n",
      " |      0..3 controls atom positions re(con)straining.\n",
      " |      0: no position re(con)straints (default)\n",
      " |      1: restraining with force constant CPOR\n",
      " |      2: restraining with force constant CPOR weighted by atomic B-factors\n",
      " |      3: constraining\n",
      " |  NTPORB:\n",
      " |      0,1 controls reading of reference positions and B-factors\n",
      " |      0: read reference positions from startup file.\n",
      " |      1: read reference positions and B-factors from special file\n",
      " |  NTPORS:\n",
      " |      0,1 controls scaling of reference positions upon pressure scaling\n",
      " |      0: do not scale reference positions\n",
      " |      1: scale reference positions\n",
      " |  CPOR:\n",
      " |      >= 0 position restraining force constant\n",
      " |  \n",
      " |  Method resolution order:\n",
      " |      POSITIONRES\n",
      " |      _generic_imd_block\n",
      " |      pygromos.files.blocks._general_blocks._generic_gromos_block\n",
      " |      builtins.object\n",
      " |  \n",
      " |  Methods defined here:\n",
      " |  \n",
      " |  __init__(self, NTPOR: int = 0, NTPORB: int = 0, NTPORS: int = 0, CPOR: int = 0, content: List[str] = None)\n",
      " |      Initialize self.  See help(type(self)) for accurate signature.\n",
      " |  \n",
      " |  ----------------------------------------------------------------------\n",
      " |  Data and other attributes defined here:\n",
      " |  \n",
      " |  __annotations__ = {'CPOR': <class 'int'>, 'NTPOR': <class 'int'>, 'NTP...\n",
      " |  \n",
      " |  name = 'POSITIONRES'\n",
      " |  \n",
      " |  ----------------------------------------------------------------------\n",
      " |  Methods inherited from _generic_imd_block:\n",
      " |  \n",
      " |  block_to_string(self) -> str\n",
      " |  \n",
      " |  read_content_from_str(self, content: List[str])\n",
      " |  \n",
      " |  ----------------------------------------------------------------------\n",
      " |  Methods inherited from pygromos.files.blocks._general_blocks._generic_gromos_block:\n",
      " |  \n",
      " |  __copy__(self)\n",
      " |  \n",
      " |  __deepcopy__(self, memo)\n",
      " |  \n",
      " |  __eq__(self, _generic_gromos_block__o: object) -> bool\n",
      " |      Return self==value.\n",
      " |  \n",
      " |  __iter__(self)\n",
      " |  \n",
      " |  __repr__(self)\n",
      " |      Return repr(self).\n",
      " |  \n",
      " |  __str__(self)\n",
      " |      Return str(self).\n",
      " |  \n",
      " |  get_name(self)\n",
      " |  \n",
      " |  ----------------------------------------------------------------------\n",
      " |  Data descriptors inherited from pygromos.files.blocks._general_blocks._generic_gromos_block:\n",
      " |  \n",
      " |  __dict__\n",
      " |      dictionary for instance variables (if defined)\n",
      " |  \n",
      " |  __weakref__\n",
      " |      list of weak references to the object (if defined)\n",
      " |  \n",
      " |  ----------------------------------------------------------------------\n",
      " |  Data and other attributes inherited from pygromos.files.blocks._general_blocks._generic_gromos_block:\n",
      " |  \n",
      " |  __hash__ = None\n",
      "\n"
     ]
    }
   ],
   "source": [
    "from pygromos.files.blocks.imd_blocks import POSITIONRES\n",
    "\n",
    "help(POSITIONRES)"
   ]
  },
  {
   "cell_type": "code",
   "execution_count": 73,
   "metadata": {
    "execution": {
     "iopub.execute_input": "2022-03-31T19:27:12.902599Z",
     "iopub.status.busy": "2022-03-31T19:27:12.901803Z",
     "iopub.status.idle": "2022-03-31T19:27:12.910785Z",
     "shell.execute_reply": "2022-03-31T19:27:12.909315Z"
    }
   },
   "outputs": [
    {
     "data": {
      "text/plain": [
       "POSITIONRES\n",
       "# \t NTPOR \t NTPORB \t NTPORS \t CPOR\n",
       " \t 1 \t 1 \t 0 \t 25000 \t \n",
       "END"
      ]
     },
     "execution_count": 73,
     "metadata": {},
     "output_type": "execute_result"
    }
   ],
   "source": [
    "md_imd_file.add_block(block=POSITIONRES(NTPOR=1, NTPORB=1, CPOR=25000))\n",
    "\n",
    "md_imd_file.POSITIONRES"
   ]
  },
  {
   "cell_type": "markdown",
   "metadata": {},
   "source": [
    "Now you should know the main blocks of the Gromos input files.\n"
   ]
  },
  {
   "cell_type": "markdown",
   "metadata": {
    "tags": []
   },
   "source": [
    "### Perform Thermalisation\n",
    "Next we will run multiple simulations, which will slowly heat up the simulation system. This can easily be done by modifying parameters on the run. First we will setup a gromos system and prepare it. Next we will perform the simulations.\n",
    "\n",
    "***\n",
    "**Warning**: Depending on your system’s speed this will take up to five hours. As we are using the simulation\n",
    "directory as the working directory there will be an error message after every job which can be ignored.\n",
    "***\n",
    "\n",
    "***\n",
    " *Hint* : Have a look at all the output files eq peptide *.omd. If anything goes wrong, a message will be\n",
    "printed to the output file.\n",
    "***"
   ]
  },
  {
   "cell_type": "code",
   "execution_count": 74,
   "metadata": {
    "execution": {
     "iopub.execute_input": "2022-03-31T19:27:12.915113Z",
     "iopub.status.busy": "2022-03-31T19:27:12.914584Z",
     "iopub.status.idle": "2022-03-31T19:27:12.934289Z",
     "shell.execute_reply": "2022-03-31T19:27:12.931845Z"
    }
   },
   "outputs": [
    {
     "ename": "NameError",
     "evalue": "name 'out_eminBox_system' is not defined",
     "output_type": "error",
     "traceback": [
      "\u001b[0;31m---------------------------------------------------------------------------\u001b[0m",
      "\u001b[0;31mNameError\u001b[0m                                 Traceback (most recent call last)",
      "\u001b[0;32m/tmp/ipykernel_32503/464153645.py\u001b[0m in \u001b[0;36m<module>\u001b[0;34m\u001b[0m\n\u001b[1;32m      2\u001b[0m \u001b[0;34m\u001b[0m\u001b[0m\n\u001b[1;32m      3\u001b[0m \u001b[0;31m## Preparing emin gromos system\u001b[0m\u001b[0;34m\u001b[0m\u001b[0;34m\u001b[0m\u001b[0m\n\u001b[0;32m----> 4\u001b[0;31m \u001b[0min_eq_system\u001b[0m \u001b[0;34m=\u001b[0m \u001b[0mout_eminBox_system\u001b[0m\u001b[0;34m.\u001b[0m\u001b[0mcopy\u001b[0m\u001b[0;34m(\u001b[0m\u001b[0;34m)\u001b[0m\u001b[0;34m\u001b[0m\u001b[0;34m\u001b[0m\u001b[0m\n\u001b[0m\u001b[1;32m      5\u001b[0m \u001b[0min_eq_system\u001b[0m\u001b[0;34m.\u001b[0m\u001b[0mname\u001b[0m \u001b[0;34m=\u001b[0m \u001b[0;34m\"eq_thermalisation\"\u001b[0m\u001b[0;34m\u001b[0m\u001b[0;34m\u001b[0m\u001b[0m\n\u001b[1;32m      6\u001b[0m \u001b[0min_eq_system\u001b[0m\u001b[0;34m.\u001b[0m\u001b[0mwork_folder\u001b[0m \u001b[0;34m=\u001b[0m \u001b[0mproject_dir\u001b[0m\u001b[0;34m\u001b[0m\u001b[0;34m\u001b[0m\u001b[0m\n",
      "\u001b[0;31mNameError\u001b[0m: name 'out_eminBox_system' is not defined"
     ]
    }
   ],
   "source": [
    "from pygromos.simulations.modules.preset_simulation_modules import md\n",
    "\n",
    "## Preparing emin gromos system\n",
    "in_eq_system = out_eminBox_system.copy()\n",
    "in_eq_system.name = \"eq_thermalisation\"\n",
    "in_eq_system.work_folder = project_dir\n",
    "\n",
    "### Build position restraints\n",
    "restrain_res = [k for k in in_eq_system.cnf.residues if(not k in (\"CL-\", \"SOLV\"))]\n",
    "in_eq_system.generate_posres(residues=restrain_res)\n",
    "\n",
    "### Check simulation params\n",
    "in_eq_system.imd = md_imd_file\n",
    "\n",
    "### Set simulation lengths: \n",
    "in_eq_system.imd.STEP.NSTLIM = 1000 # each temperature will do 1000 steps, this might take some time!\n",
    "\n",
    "in_eq_system.prepare_for_simulation(not_ligand_residues=[\"CL-\"])\n",
    "sys_same = in_eq_system.name\n",
    "\n",
    "in_eq_system"
   ]
  },
  {
   "cell_type": "markdown",
   "metadata": {},
   "source": [
    "After preparing the system we can now start simulating."
   ]
  },
  {
   "cell_type": "code",
   "execution_count": 75,
   "metadata": {
    "execution": {
     "iopub.execute_input": "2022-03-31T19:27:12.939538Z",
     "iopub.status.busy": "2022-03-31T19:27:12.938752Z",
     "iopub.status.idle": "2022-03-31T19:27:12.964529Z",
     "shell.execute_reply": "2022-03-31T19:27:12.962791Z"
    }
   },
   "outputs": [
    {
     "name": "stdout",
     "output_type": "stream",
     "text": [
      "Heating upt to: \t60\t"
     ]
    },
    {
     "ename": "NameError",
     "evalue": "name 'in_eq_system' is not defined",
     "output_type": "error",
     "traceback": [
      "\u001b[0;31m---------------------------------------------------------------------------\u001b[0m",
      "\u001b[0;31mNameError\u001b[0m                                 Traceback (most recent call last)",
      "\u001b[0;32m/tmp/ipykernel_32503/788546794.py\u001b[0m in \u001b[0;36m<module>\u001b[0;34m\u001b[0m\n\u001b[1;32m      9\u001b[0m \u001b[0;34m\u001b[0m\u001b[0m\n\u001b[1;32m     10\u001b[0m     \u001b[0;31m#adapt temperature\u001b[0m\u001b[0;34m\u001b[0m\u001b[0;34m\u001b[0m\u001b[0m\n\u001b[0;32m---> 11\u001b[0;31m     \u001b[0min_eq_system\u001b[0m\u001b[0;34m.\u001b[0m\u001b[0mimd\u001b[0m\u001b[0;34m.\u001b[0m\u001b[0mMULTIBATH\u001b[0m\u001b[0;34m.\u001b[0m\u001b[0mTEMP0\u001b[0m \u001b[0;34m=\u001b[0m \u001b[0;34m[\u001b[0m\u001b[0mtemperature\u001b[0m \u001b[0;32mfor\u001b[0m \u001b[0mx\u001b[0m \u001b[0;32min\u001b[0m \u001b[0mrange\u001b[0m\u001b[0;34m(\u001b[0m\u001b[0min_eq_system\u001b[0m\u001b[0;34m.\u001b[0m\u001b[0mimd\u001b[0m\u001b[0;34m.\u001b[0m\u001b[0mMULTIBATH\u001b[0m\u001b[0;34m.\u001b[0m\u001b[0mNBATHS\u001b[0m\u001b[0;34m)\u001b[0m\u001b[0;34m]\u001b[0m\u001b[0;34m\u001b[0m\u001b[0;34m\u001b[0m\u001b[0m\n\u001b[0m\u001b[1;32m     12\u001b[0m \u001b[0;34m\u001b[0m\u001b[0m\n\u001b[1;32m     13\u001b[0m     \u001b[0;31m#turn off the posres for the last run.\u001b[0m\u001b[0;34m\u001b[0m\u001b[0;34m\u001b[0m\u001b[0m\n",
      "\u001b[0;31mNameError\u001b[0m: name 'in_eq_system' is not defined"
     ]
    }
   ],
   "source": [
    "## run Thermalisation.\n",
    "from pygromos.simulations.modules.preset_simulation_modules import simulation\n",
    "\n",
    "temperatures = [60, 120, 180, 240, 300] #the temperatures we want to simulate.\n",
    "\n",
    "print(\"Heating upt to: \", end=\"\\t\")\n",
    "for runID, temperature in enumerate(temperatures):\n",
    "    print(temperature, end=\"\\t\")\n",
    "    \n",
    "    #adapt temperature\n",
    "    in_eq_system.imd.MULTIBATH.TEMP0 = [temperature for x in range(in_eq_system.imd.MULTIBATH.NBATHS)]\n",
    "\n",
    "    #turn off the posres for the last run.\n",
    "    if(runID+1 == len(temperatures)): #Last Run\n",
    "        in_eq_system.imd.POSITIONRES.NTPOR = 0\n",
    "        in_eq_system.imd.POSITIONRES.CPOR = 0\n",
    "\n",
    "        out_eq_system = simulation(in_gromos_simulation_system=in_eq_system,\n",
    "                                   step_name=\"f_\"+sys_same,\n",
    "                                   simulation_runs=runID+1)\n",
    "        break\n",
    "    else:\n",
    "        out_eq_system = simulation(in_gromos_simulation_system=in_eq_system,\n",
    "                                   step_name=\"f_\"+sys_same,\n",
    "                                   simulation_runs=runID+1,\n",
    "                                   analysis_script=None,\n",
    "                                   verbose=False)\n",
    "    \n",
    "    in_eq_system = out_eq_system\n",
    "\n",
    "    \n",
    "print(\"done\")"
   ]
  },
  {
   "cell_type": "code",
   "execution_count": 76,
   "metadata": {
    "execution": {
     "iopub.execute_input": "2022-03-31T19:27:12.968978Z",
     "iopub.status.busy": "2022-03-31T19:27:12.968408Z",
     "iopub.status.idle": "2022-03-31T19:27:12.982444Z",
     "shell.execute_reply": "2022-03-31T19:27:12.981268Z"
    }
   },
   "outputs": [
    {
     "ename": "NameError",
     "evalue": "name 'out_eq_system' is not defined",
     "output_type": "error",
     "traceback": [
      "\u001b[0;31m---------------------------------------------------------------------------\u001b[0m",
      "\u001b[0;31mNameError\u001b[0m                                 Traceback (most recent call last)",
      "\u001b[0;32m/tmp/ipykernel_32503/2176658082.py\u001b[0m in \u001b[0;36m<module>\u001b[0;34m\u001b[0m\n\u001b[1;32m      1\u001b[0m \u001b[0;31m#This took some time, so lets store it! So we can use it later again.\u001b[0m\u001b[0;34m\u001b[0m\u001b[0;34m\u001b[0m\u001b[0m\n\u001b[0;32m----> 2\u001b[0;31m \u001b[0mout_eq_therm_system_path\u001b[0m \u001b[0;34m=\u001b[0m \u001b[0mout_eq_system\u001b[0m\u001b[0;34m.\u001b[0m\u001b[0msave\u001b[0m\u001b[0;34m(\u001b[0m\u001b[0mout_eq_system\u001b[0m\u001b[0;34m.\u001b[0m\u001b[0mwork_folder\u001b[0m\u001b[0;34m+\u001b[0m\u001b[0;34m\"/eq_therm_result2.obj\"\u001b[0m\u001b[0;34m)\u001b[0m\u001b[0;34m\u001b[0m\u001b[0;34m\u001b[0m\u001b[0m\n\u001b[0m",
      "\u001b[0;31mNameError\u001b[0m: name 'out_eq_system' is not defined"
     ]
    }
   ],
   "source": [
    "#This took some time, so lets store it! So we can use it later again.\n",
    "out_eq_therm_system_path = out_eq_system.save(out_eq_system.work_folder+\"/eq_therm_result2.obj\")\n"
   ]
  },
  {
   "cell_type": "markdown",
   "metadata": {},
   "source": [
    "### Analysis of Thermalisation:\n",
    "Next we want to check the results of our Thermalisation. We will have a look at the coordinate trajectory and the temperatures of the system."
   ]
  },
  {
   "cell_type": "markdown",
   "metadata": {},
   "source": [
    "#### Check the coordinate traj\n",
    "First we will check the trajectory of the termalisation. Again we first need to shift the coordinates, so we can se the fully connected peptide."
   ]
  },
  {
   "cell_type": "code",
   "execution_count": 77,
   "metadata": {
    "execution": {
     "iopub.execute_input": "2022-03-31T19:27:12.988070Z",
     "iopub.status.busy": "2022-03-31T19:27:12.987109Z",
     "iopub.status.idle": "2022-03-31T19:27:13.002692Z",
     "shell.execute_reply": "2022-03-31T19:27:13.001542Z"
    }
   },
   "outputs": [
    {
     "ename": "NameError",
     "evalue": "name 'out_eq_system' is not defined",
     "output_type": "error",
     "traceback": [
      "\u001b[0;31m---------------------------------------------------------------------------\u001b[0m",
      "\u001b[0;31mNameError\u001b[0m                                 Traceback (most recent call last)",
      "\u001b[0;32m/tmp/ipykernel_32503/673463103.py\u001b[0m in \u001b[0;36m<module>\u001b[0;34m\u001b[0m\n\u001b[0;32m----> 1\u001b[0;31m \u001b[0mcoordinate_traj\u001b[0m \u001b[0;34m=\u001b[0m \u001b[0mout_eq_system\u001b[0m\u001b[0;34m.\u001b[0m\u001b[0mtrc\u001b[0m\u001b[0;34m\u001b[0m\u001b[0;34m\u001b[0m\u001b[0m\n\u001b[0m\u001b[1;32m      2\u001b[0m \u001b[0mcoordinate_traj\u001b[0m\u001b[0;34m.\u001b[0m\u001b[0mimage_molecules\u001b[0m\u001b[0;34m(\u001b[0m\u001b[0;34m)\u001b[0m\u001b[0;34m\u001b[0m\u001b[0;34m\u001b[0m\u001b[0m\n\u001b[1;32m      3\u001b[0m \u001b[0mview\u001b[0m \u001b[0;34m=\u001b[0m \u001b[0mcoordinate_traj\u001b[0m\u001b[0;34m.\u001b[0m\u001b[0mview\u001b[0m\u001b[0;34m\u001b[0m\u001b[0;34m\u001b[0m\u001b[0m\n\u001b[1;32m      4\u001b[0m \u001b[0mview\u001b[0m\u001b[0;34m\u001b[0m\u001b[0;34m\u001b[0m\u001b[0m\n",
      "\u001b[0;31mNameError\u001b[0m: name 'out_eq_system' is not defined"
     ]
    }
   ],
   "source": [
    "coordinate_traj = out_eq_system.trc\n",
    "coordinate_traj.image_molecules()\n",
    "view = coordinate_traj.view\n",
    "view"
   ]
  },
  {
   "cell_type": "markdown",
   "metadata": {},
   "source": [
    "#### Check the temperature\n",
    "After this, we would like to see the temperature development. \n",
    "First lets collect all temperature calculations from the simulation:"
   ]
  },
  {
   "cell_type": "code",
   "execution_count": 78,
   "metadata": {
    "execution": {
     "iopub.execute_input": "2022-03-31T19:27:13.008587Z",
     "iopub.status.busy": "2022-03-31T19:27:13.007250Z",
     "iopub.status.idle": "2022-03-31T19:27:13.027073Z",
     "shell.execute_reply": "2022-03-31T19:27:13.024648Z"
    }
   },
   "outputs": [
    {
     "ename": "NameError",
     "evalue": "name 'out_eq_system' is not defined",
     "output_type": "error",
     "traceback": [
      "\u001b[0;31m---------------------------------------------------------------------------\u001b[0m",
      "\u001b[0;31mNameError\u001b[0m                                 Traceback (most recent call last)",
      "\u001b[0;32m/tmp/ipykernel_32503/965721347.py\u001b[0m in \u001b[0;36m<module>\u001b[0;34m\u001b[0m\n\u001b[0;32m----> 1\u001b[0;31m \u001b[0menergy_traj\u001b[0m \u001b[0;34m=\u001b[0m \u001b[0mout_eq_system\u001b[0m\u001b[0;34m.\u001b[0m\u001b[0mtre\u001b[0m\u001b[0;34m\u001b[0m\u001b[0;34m\u001b[0m\u001b[0m\n\u001b[0m\u001b[1;32m      2\u001b[0m \u001b[0mtemperatures\u001b[0m\u001b[0;34m=\u001b[0m \u001b[0menergy_traj\u001b[0m\u001b[0;34m.\u001b[0m\u001b[0mget_temperature\u001b[0m\u001b[0;34m(\u001b[0m\u001b[0;34m)\u001b[0m\u001b[0;34m\u001b[0m\u001b[0;34m\u001b[0m\u001b[0m\n\u001b[1;32m      3\u001b[0m \u001b[0mtemperatures\u001b[0m\u001b[0;34m\u001b[0m\u001b[0;34m\u001b[0m\u001b[0m\n",
      "\u001b[0;31mNameError\u001b[0m: name 'out_eq_system' is not defined"
     ]
    }
   ],
   "source": [
    "energy_traj = out_eq_system.tre\n",
    "temperatures= energy_traj.get_temperature()\n",
    "temperatures"
   ]
  },
  {
   "cell_type": "markdown",
   "metadata": {},
   "source": [
    "Next we want to visualize the data to get an impresstionof what happened. \n",
    "Can you see how the Temperature was constantly raised per simulation and started to equilibrate forming plateus?"
   ]
  },
  {
   "cell_type": "code",
   "execution_count": 79,
   "metadata": {
    "execution": {
     "iopub.execute_input": "2022-03-31T19:27:13.032179Z",
     "iopub.status.busy": "2022-03-31T19:27:13.031643Z",
     "iopub.status.idle": "2022-03-31T19:27:14.099587Z",
     "shell.execute_reply": "2022-03-31T19:27:14.098449Z"
    }
   },
   "outputs": [
    {
     "ename": "AttributeError",
     "evalue": "'list' object has no attribute 'bath1'",
     "output_type": "error",
     "traceback": [
      "\u001b[0;31m---------------------------------------------------------------------------\u001b[0m",
      "\u001b[0;31mAttributeError\u001b[0m                            Traceback (most recent call last)",
      "\u001b[0;32m/tmp/ipykernel_32503/2602914951.py\u001b[0m in \u001b[0;36m<module>\u001b[0;34m\u001b[0m\n\u001b[1;32m      1\u001b[0m \u001b[0;32mfrom\u001b[0m \u001b[0mmatplotlib\u001b[0m \u001b[0;32mimport\u001b[0m \u001b[0mpyplot\u001b[0m \u001b[0;32mas\u001b[0m \u001b[0mplt\u001b[0m\u001b[0;34m\u001b[0m\u001b[0;34m\u001b[0m\u001b[0m\n\u001b[1;32m      2\u001b[0m \u001b[0;34m\u001b[0m\u001b[0m\n\u001b[0;32m----> 3\u001b[0;31m \u001b[0mplt\u001b[0m\u001b[0;34m.\u001b[0m\u001b[0mplot\u001b[0m\u001b[0;34m(\u001b[0m\u001b[0mtemperatures\u001b[0m\u001b[0;34m.\u001b[0m\u001b[0mbath1\u001b[0m\u001b[0;34m,\u001b[0m \u001b[0mlabel\u001b[0m\u001b[0;34m=\u001b[0m\u001b[0;34m\"TBath1\"\u001b[0m\u001b[0;34m)\u001b[0m\u001b[0;34m\u001b[0m\u001b[0;34m\u001b[0m\u001b[0m\n\u001b[0m\u001b[1;32m      4\u001b[0m \u001b[0mplt\u001b[0m\u001b[0;34m.\u001b[0m\u001b[0mplot\u001b[0m\u001b[0;34m(\u001b[0m\u001b[0mtemperatures\u001b[0m\u001b[0;34m.\u001b[0m\u001b[0mbath2\u001b[0m\u001b[0;34m,\u001b[0m \u001b[0mlabel\u001b[0m\u001b[0;34m=\u001b[0m\u001b[0;34m\"TBath2\"\u001b[0m\u001b[0;34m)\u001b[0m\u001b[0;34m\u001b[0m\u001b[0;34m\u001b[0m\u001b[0m\n\u001b[1;32m      5\u001b[0m \u001b[0;34m\u001b[0m\u001b[0m\n",
      "\u001b[0;31mAttributeError\u001b[0m: 'list' object has no attribute 'bath1'"
     ]
    }
   ],
   "source": [
    "from matplotlib import pyplot as plt\n",
    "\n",
    "plt.plot(temperatures.bath1, label=\"TBath1\")\n",
    "plt.plot(temperatures.bath2, label=\"TBath2\")\n",
    "\n",
    "plt.legend()\n",
    "plt.ylabel(\"$T~[K]$\")\n",
    "plt.xlabel(\"$t~[ps]$\")"
   ]
  },
  {
   "cell_type": "markdown",
   "metadata": {},
   "source": [
    "## Molecular dynamics sampling simulation.\n",
    "The equilibration period already produced a short simulation at constant temperature and volume. At\n",
    "this point we want to elongate the simulation to a nanosecond under constant temperature and pressure.\n",
    "\n",
    "### Simulation Paramters\n",
    "First, we don’t use position restraining anymore and so, the POSITIONRES block in the next step.\n",
    "Next we want to simulate under constant pressure rather than constant volume (NVT-> NPT). For this purpose we have to add\n",
    "an additional block:\n",
    "\n"
   ]
  },
  {
   "cell_type": "code",
   "execution_count": 80,
   "metadata": {
    "execution": {
     "iopub.execute_input": "2022-03-31T19:27:14.104791Z",
     "iopub.status.busy": "2022-03-31T19:27:14.103908Z",
     "iopub.status.idle": "2022-03-31T19:27:14.122802Z",
     "shell.execute_reply": "2022-03-31T19:27:14.120357Z"
    }
   },
   "outputs": [
    {
     "name": "stdout",
     "output_type": "stream",
     "text": [
      "Help on PRESSURESCALE in module pygromos.files.blocks.imd_blocks object:\n",
      "\n",
      "class PRESSURESCALE(_generic_imd_block)\n",
      " |  PRESSURESCALE(COUPLE: int = 0, SCALE: int = 0, COMP: float = 0, TAUP: float = 0, VIRIAL: int = 0, SEMIANISOTROPIC: List[int] = [], PRES0: List[List[float]] = [[0, 0, 0], [0, 0, 0], [0, 0, 0]], content: List[str] = None)\n",
      " |  \n",
      " |  PRESSURESCALE Block\n",
      " |  This block controls the barostat of the simulation\n",
      " |  \n",
      " |  Attributes\n",
      " |  -----------\n",
      " |  COUPLE: int\n",
      " |      off(0), calc(1), scale(2)\n",
      " |  SCALE:  int\n",
      " |      off(0), iso(1), aniso(2), full(3), semianiso(4)\n",
      " |  COMP:   float\n",
      " |      compessibility\n",
      " |  TAUP:   float\n",
      " |      coupling strength\n",
      " |  VIRIAL: int\n",
      " |      none(0), atomic(1), group(2)\n",
      " |  SEMIANISOTROPIC:    List[int]\n",
      " |      (semianisotropic couplings: X, Y, Z)\n",
      " |      e.g. 1 1 2: x and y jointly coupled and z separately coupled\n",
      " |      e.g. 0 0 1: constant area (xy-plane) and z coupled to a bath\n",
      " |  PRES0:  List[List[float]]\n",
      " |      reference pressure\n",
      " |  \n",
      " |  Method resolution order:\n",
      " |      PRESSURESCALE\n",
      " |      _generic_imd_block\n",
      " |      pygromos.files.blocks._general_blocks._generic_gromos_block\n",
      " |      builtins.object\n",
      " |  \n",
      " |  Methods defined here:\n",
      " |  \n",
      " |  __init__(self, COUPLE: int = 0, SCALE: int = 0, COMP: float = 0, TAUP: float = 0, VIRIAL: int = 0, SEMIANISOTROPIC: List[int] = [], PRES0: List[List[float]] = [[0, 0, 0], [0, 0, 0], [0, 0, 0]], content: List[str] = None)\n",
      " |      Initialize self.  See help(type(self)) for accurate signature.\n",
      " |  \n",
      " |  read_content_from_str(self, content: List[str])\n",
      " |  \n",
      " |  ----------------------------------------------------------------------\n",
      " |  Data and other attributes defined here:\n",
      " |  \n",
      " |  __annotations__ = {'COMP': <class 'float'>, 'COUPLE': <class 'int'>, '...\n",
      " |  \n",
      " |  name = 'PRESSURESCALE'\n",
      " |  \n",
      " |  ----------------------------------------------------------------------\n",
      " |  Methods inherited from _generic_imd_block:\n",
      " |  \n",
      " |  block_to_string(self) -> str\n",
      " |  \n",
      " |  ----------------------------------------------------------------------\n",
      " |  Methods inherited from pygromos.files.blocks._general_blocks._generic_gromos_block:\n",
      " |  \n",
      " |  __copy__(self)\n",
      " |  \n",
      " |  __deepcopy__(self, memo)\n",
      " |  \n",
      " |  __eq__(self, _generic_gromos_block__o: object) -> bool\n",
      " |      Return self==value.\n",
      " |  \n",
      " |  __iter__(self)\n",
      " |  \n",
      " |  __repr__(self)\n",
      " |      Return repr(self).\n",
      " |  \n",
      " |  __str__(self)\n",
      " |      Return str(self).\n",
      " |  \n",
      " |  get_name(self)\n",
      " |  \n",
      " |  ----------------------------------------------------------------------\n",
      " |  Data descriptors inherited from pygromos.files.blocks._general_blocks._generic_gromos_block:\n",
      " |  \n",
      " |  __dict__\n",
      " |      dictionary for instance variables (if defined)\n",
      " |  \n",
      " |  __weakref__\n",
      " |      list of weak references to the object (if defined)\n",
      " |  \n",
      " |  ----------------------------------------------------------------------\n",
      " |  Data and other attributes inherited from pygromos.files.blocks._general_blocks._generic_gromos_block:\n",
      " |  \n",
      " |  __hash__ = None\n",
      "\n"
     ]
    }
   ],
   "source": [
    "from pygromos.data.simulation_parameters_templates import template_md_tut as template_md\n",
    "from pygromos.files.simulation_parameters.imd import Imd\n",
    "\n",
    "imd_file = Imd(template_md)\n",
    "\n",
    "help(imd_file.PRESSURESCALE)"
   ]
  },
  {
   "cell_type": "markdown",
   "metadata": {},
   "source": [
    "In the PRESSURESCALE block we tell Gromos to calculate and scale the pressure by setting *COUPLE* to $2$. As\n",
    "the box should be isotropically scaled we set *SCALE* equal to $1$. The weak-coupling method (Sec. 2-12.2.2)\n",
    "uses two additional parameters: *COMP* is the isothermal compressibility and *TAUP* is the coupling time. We\n",
    "are calculating the molecular virial (*VIRIAL* is equal to $2$), so intramolecular forces don’t contribute to the\n",
    "pressure. The next line is only used for semi-anisotropic pressure coupling and can be ignored in our case.\n",
    "Finally, we have to specify the reference pressure in a tensor form\n"
   ]
  },
  {
   "cell_type": "code",
   "execution_count": 81,
   "metadata": {
    "execution": {
     "iopub.execute_input": "2022-03-31T19:27:14.129985Z",
     "iopub.status.busy": "2022-03-31T19:27:14.129337Z",
     "iopub.status.idle": "2022-03-31T19:27:14.138187Z",
     "shell.execute_reply": "2022-03-31T19:27:14.136670Z"
    }
   },
   "outputs": [
    {
     "data": {
      "text/plain": [
       "PRESSURESCALE\n",
       "# \t COUPLE \t SCALE \t COMP \t TAUP \t VIRIAL\n",
       " \t 2 \t 1 \t 0.000458 \t 0.500000 \t 2 \t \n",
       "# \t SEMIANISOTROPIC COUPLINGS(X, Y, Z)\n",
       " \t 1 \t 1 \t 1 \t \n",
       "# \t PRES0(1...3,1...3)\n",
       " \t 0.06102 \t 0.0 \t 0.0\n",
       " \t 0.0 \t 0.06102 \t 0.0\n",
       " \t 0.0 \t 0.0 \t 0.06102 \t \n",
       "END"
      ]
     },
     "execution_count": 81,
     "metadata": {},
     "output_type": "execute_result"
    }
   ],
   "source": [
    "imd_file.PRESSURESCALE"
   ]
  },
  {
   "cell_type": "markdown",
   "metadata": {},
   "source": [
    "### Perform MD - Production\n",
    "In the other blocks only minor things have changed: the temperature was set to 300K and the trajectories\n",
    "are written out less often (every 250th step only). Next we are going to set up the Gromos System. We will remove the position restraints and the old trajectories."
   ]
  },
  {
   "cell_type": "code",
   "execution_count": 82,
   "metadata": {
    "execution": {
     "iopub.execute_input": "2022-03-31T19:27:14.144820Z",
     "iopub.status.busy": "2022-03-31T19:27:14.143701Z",
     "iopub.status.idle": "2022-03-31T19:27:14.163192Z",
     "shell.execute_reply": "2022-03-31T19:27:14.161751Z"
    }
   },
   "outputs": [
    {
     "ename": "NameError",
     "evalue": "name 'out_eq_system' is not defined",
     "output_type": "error",
     "traceback": [
      "\u001b[0;31m---------------------------------------------------------------------------\u001b[0m",
      "\u001b[0;31mNameError\u001b[0m                                 Traceback (most recent call last)",
      "\u001b[0;32m/tmp/ipykernel_32503/3190364862.py\u001b[0m in \u001b[0;36m<module>\u001b[0;34m\u001b[0m\n\u001b[1;32m      1\u001b[0m \u001b[0;32mfrom\u001b[0m \u001b[0mpygromos\u001b[0m\u001b[0;34m.\u001b[0m\u001b[0msimulations\u001b[0m\u001b[0;34m.\u001b[0m\u001b[0mmodules\u001b[0m\u001b[0;34m.\u001b[0m\u001b[0mpreset_simulation_modules\u001b[0m \u001b[0;32mimport\u001b[0m \u001b[0mmd\u001b[0m\u001b[0;34m\u001b[0m\u001b[0;34m\u001b[0m\u001b[0m\n\u001b[1;32m      2\u001b[0m \u001b[0;34m\u001b[0m\u001b[0m\n\u001b[0;32m----> 3\u001b[0;31m \u001b[0min_md_system\u001b[0m \u001b[0;34m=\u001b[0m \u001b[0mout_eq_system\u001b[0m\u001b[0;34m.\u001b[0m\u001b[0mcopy\u001b[0m\u001b[0;34m(\u001b[0m\u001b[0;34m)\u001b[0m\u001b[0;34m\u001b[0m\u001b[0;34m\u001b[0m\u001b[0m\n\u001b[0m\u001b[1;32m      4\u001b[0m \u001b[0;34m\u001b[0m\u001b[0m\n\u001b[1;32m      5\u001b[0m \u001b[0min_md_system\u001b[0m\u001b[0;34m.\u001b[0m\u001b[0mwork_folder\u001b[0m \u001b[0;34m=\u001b[0m \u001b[0mproject_dir\u001b[0m\u001b[0;34m\u001b[0m\u001b[0;34m\u001b[0m\u001b[0m\n",
      "\u001b[0;31mNameError\u001b[0m: name 'out_eq_system' is not defined"
     ]
    }
   ],
   "source": [
    "from pygromos.simulations.modules.preset_simulation_modules import md\n",
    "\n",
    "in_md_system = out_eq_system.copy()\n",
    "\n",
    "in_md_system.work_folder = project_dir\n",
    "in_md_system.name = \"md\"\n",
    "\n",
    "### Check simulation params\n",
    "in_md_system.imd = imd_file \n",
    "\n",
    "## imd parameters\n",
    "in_md_system.imd.STEP.NSTLIM = 1000\n",
    "in_md_system.imd.WRITETRAJ.NTWX = 10\n",
    "in_md_system.imd.WRITETRAJ.NTWE = 10\n",
    "in_md_system.imd.INITIALISE.NTIVEL = 0\n",
    "\n",
    "in_md_system.prepare_for_simulation()\n",
    "\n",
    "in_md_system"
   ]
  },
  {
   "cell_type": "code",
   "execution_count": 83,
   "metadata": {
    "execution": {
     "iopub.execute_input": "2022-03-31T19:27:14.168060Z",
     "iopub.status.busy": "2022-03-31T19:27:14.167430Z",
     "iopub.status.idle": "2022-03-31T19:27:14.183316Z",
     "shell.execute_reply": "2022-03-31T19:27:14.181756Z"
    }
   },
   "outputs": [
    {
     "ename": "NameError",
     "evalue": "name 'in_md_system' is not defined",
     "output_type": "error",
     "traceback": [
      "\u001b[0;31m---------------------------------------------------------------------------\u001b[0m",
      "\u001b[0;31mNameError\u001b[0m                                 Traceback (most recent call last)",
      "\u001b[0;32m/tmp/ipykernel_32503/432426042.py\u001b[0m in \u001b[0;36m<module>\u001b[0;34m\u001b[0m\n\u001b[0;32m----> 1\u001b[0;31m out_md_system = md(in_gromos_system=in_md_system,\n\u001b[0m\u001b[1;32m      2\u001b[0m                    \u001b[0mstep_name\u001b[0m\u001b[0;34m=\u001b[0m\u001b[0;34m\"g_\"\u001b[0m\u001b[0;34m+\u001b[0m\u001b[0min_md_system\u001b[0m\u001b[0;34m.\u001b[0m\u001b[0mname\u001b[0m\u001b[0;34m,\u001b[0m\u001b[0;34m\u001b[0m\u001b[0;34m\u001b[0m\u001b[0m\n\u001b[1;32m      3\u001b[0m                    simulation_runs=3)\n\u001b[1;32m      4\u001b[0m \u001b[0mout_md_system\u001b[0m\u001b[0;34m\u001b[0m\u001b[0;34m\u001b[0m\u001b[0m\n",
      "\u001b[0;31mNameError\u001b[0m: name 'in_md_system' is not defined"
     ]
    }
   ],
   "source": [
    "out_md_system = md(in_gromos_system=in_md_system,\n",
    "                   step_name=\"g_\"+in_md_system.name,\n",
    "                   simulation_runs=3)\n",
    "out_md_system"
   ]
  },
  {
   "cell_type": "code",
   "execution_count": 84,
   "metadata": {
    "execution": {
     "iopub.execute_input": "2022-03-31T19:27:14.190439Z",
     "iopub.status.busy": "2022-03-31T19:27:14.189118Z",
     "iopub.status.idle": "2022-03-31T19:27:14.203261Z",
     "shell.execute_reply": "2022-03-31T19:27:14.202050Z"
    }
   },
   "outputs": [
    {
     "ename": "NameError",
     "evalue": "name 'out_md_system' is not defined",
     "output_type": "error",
     "traceback": [
      "\u001b[0;31m---------------------------------------------------------------------------\u001b[0m",
      "\u001b[0;31mNameError\u001b[0m                                 Traceback (most recent call last)",
      "\u001b[0;32m/tmp/ipykernel_32503/2064924672.py\u001b[0m in \u001b[0;36m<module>\u001b[0;34m\u001b[0m\n\u001b[0;32m----> 1\u001b[0;31m \u001b[0mout_md_system_path\u001b[0m \u001b[0;34m=\u001b[0m \u001b[0mout_md_system\u001b[0m\u001b[0;34m.\u001b[0m\u001b[0msave\u001b[0m\u001b[0;34m(\u001b[0m\u001b[0mout_md_system\u001b[0m\u001b[0;34m.\u001b[0m\u001b[0mwork_folder\u001b[0m\u001b[0;34m+\u001b[0m\u001b[0;34m\"/md_result.obj\"\u001b[0m\u001b[0;34m)\u001b[0m\u001b[0;34m\u001b[0m\u001b[0;34m\u001b[0m\u001b[0m\n\u001b[0m",
      "\u001b[0;31mNameError\u001b[0m: name 'out_md_system' is not defined"
     ]
    }
   ],
   "source": [
    "out_md_system_path = out_md_system.save(out_md_system.work_folder+\"/md_result.obj\")\n"
   ]
  },
  {
   "cell_type": "markdown",
   "metadata": {},
   "source": [
    "After all the jobs are finished, you should start to analyse the trajectories.\n"
   ]
  },
  {
   "cell_type": "markdown",
   "metadata": {},
   "source": [
    "### Analysis\n",
    "\n",
    "#### First Look Analysis\n",
    "Let's first have a look on the final coordinates."
   ]
  },
  {
   "cell_type": "code",
   "execution_count": 85,
   "metadata": {
    "execution": {
     "iopub.execute_input": "2022-03-31T19:27:14.208923Z",
     "iopub.status.busy": "2022-03-31T19:27:14.208330Z",
     "iopub.status.idle": "2022-03-31T19:27:14.227287Z",
     "shell.execute_reply": "2022-03-31T19:27:14.225620Z"
    }
   },
   "outputs": [
    {
     "ename": "NameError",
     "evalue": "name 'out_md_system' is not defined",
     "output_type": "error",
     "traceback": [
      "\u001b[0;31m---------------------------------------------------------------------------\u001b[0m",
      "\u001b[0;31mNameError\u001b[0m                                 Traceback (most recent call last)",
      "\u001b[0;32m/tmp/ipykernel_32503/2399734183.py\u001b[0m in \u001b[0;36m<module>\u001b[0;34m\u001b[0m\n\u001b[0;32m----> 1\u001b[0;31m \u001b[0mout_md_system\u001b[0m\u001b[0;34m.\u001b[0m\u001b[0mcnf\u001b[0m\u001b[0;34m.\u001b[0m\u001b[0mshift_periodic_boundary\u001b[0m\u001b[0;34m(\u001b[0m\u001b[0;34m)\u001b[0m\u001b[0;34m\u001b[0m\u001b[0;34m\u001b[0m\u001b[0m\n\u001b[0m\u001b[1;32m      2\u001b[0m \u001b[0mout_md_system\u001b[0m\u001b[0;34m.\u001b[0m\u001b[0mcnf\u001b[0m\u001b[0;34m.\u001b[0m\u001b[0mrecenter_pbc\u001b[0m\u001b[0;34m(\u001b[0m\u001b[0;34m)\u001b[0m\u001b[0;34m\u001b[0m\u001b[0;34m\u001b[0m\u001b[0m\n\u001b[1;32m      3\u001b[0m \u001b[0mout_md_system\u001b[0m\u001b[0;34m.\u001b[0m\u001b[0mcnf\u001b[0m\u001b[0;34m.\u001b[0m\u001b[0mrecreate_view\u001b[0m\u001b[0;34m(\u001b[0m\u001b[0;34m)\u001b[0m\u001b[0;34m\u001b[0m\u001b[0;34m\u001b[0m\u001b[0m\n\u001b[1;32m      4\u001b[0m \u001b[0mout_md_system\u001b[0m\u001b[0;34m.\u001b[0m\u001b[0mcnf\u001b[0m\u001b[0;34m.\u001b[0m\u001b[0mview\u001b[0m\u001b[0;34m\u001b[0m\u001b[0;34m\u001b[0m\u001b[0m\n",
      "\u001b[0;31mNameError\u001b[0m: name 'out_md_system' is not defined"
     ]
    }
   ],
   "source": [
    "out_md_system.cnf.shift_periodic_boundary()\n",
    "out_md_system.cnf.recenter_pbc()\n",
    "out_md_system.cnf.recreate_view()\n",
    "out_md_system.cnf.view"
   ]
  },
  {
   "cell_type": "code",
   "execution_count": 86,
   "metadata": {
    "execution": {
     "iopub.execute_input": "2022-03-31T19:27:14.231589Z",
     "iopub.status.busy": "2022-03-31T19:27:14.230976Z",
     "iopub.status.idle": "2022-03-31T19:27:14.246460Z",
     "shell.execute_reply": "2022-03-31T19:27:14.245080Z"
    }
   },
   "outputs": [
    {
     "ename": "NameError",
     "evalue": "name 'out_md_system' is not defined",
     "output_type": "error",
     "traceback": [
      "\u001b[0;31m---------------------------------------------------------------------------\u001b[0m",
      "\u001b[0;31mNameError\u001b[0m                                 Traceback (most recent call last)",
      "\u001b[0;32m/tmp/ipykernel_32503/3818948884.py\u001b[0m in \u001b[0;36m<module>\u001b[0;34m\u001b[0m\n\u001b[0;32m----> 1\u001b[0;31m \u001b[0mcoordinate_traj\u001b[0m \u001b[0;34m=\u001b[0m \u001b[0mout_md_system\u001b[0m\u001b[0;34m.\u001b[0m\u001b[0mtrc\u001b[0m\u001b[0;34m\u001b[0m\u001b[0;34m\u001b[0m\u001b[0m\n\u001b[0m\u001b[1;32m      2\u001b[0m \u001b[0;34m\u001b[0m\u001b[0m\n\u001b[1;32m      3\u001b[0m \u001b[0mcoordinate_traj\u001b[0m\u001b[0;34m.\u001b[0m\u001b[0mimage_molecules\u001b[0m\u001b[0;34m(\u001b[0m\u001b[0;34m)\u001b[0m\u001b[0;34m\u001b[0m\u001b[0;34m\u001b[0m\u001b[0m\n\u001b[1;32m      4\u001b[0m \u001b[0mcoordinate_traj\u001b[0m\u001b[0;34m.\u001b[0m\u001b[0mrecreate_view\u001b[0m\u001b[0;34m(\u001b[0m\u001b[0;34m)\u001b[0m\u001b[0;34m\u001b[0m\u001b[0;34m\u001b[0m\u001b[0m\n\u001b[1;32m      5\u001b[0m \u001b[0mview\u001b[0m \u001b[0;34m=\u001b[0m \u001b[0mcoordinate_traj\u001b[0m\u001b[0;34m.\u001b[0m\u001b[0mview\u001b[0m\u001b[0;34m\u001b[0m\u001b[0;34m\u001b[0m\u001b[0m\n",
      "\u001b[0;31mNameError\u001b[0m: name 'out_md_system' is not defined"
     ]
    }
   ],
   "source": [
    "coordinate_traj = out_md_system.trc\n",
    "\n",
    "coordinate_traj.image_molecules()\n",
    "coordinate_traj.recreate_view()\n",
    "view = coordinate_traj.view\n",
    "view"
   ]
  },
  {
   "cell_type": "markdown",
   "metadata": {
    "pycharm": {
     "name": "#%% md\n"
    }
   },
   "source": [
    "\n",
    "#### Energy Analysis\n",
    "The program calculates the average of the specified properties as well as the root-mean-square deviations\n",
    "(rmsd) and a statistical error estimate (error est.). The error estimate is calculated from block averages\n",
    "of growing sizes extrapolating to infinite block size1\n",
    "\n",
    "***\n",
    "**Warning:** Sometimes the error estimates are NaN (not a number), which is due to the fact that we do not\n",
    "have enough values to calculate a meaningful error estimate.\n",
    "***"
   ]
  },
  {
   "cell_type": "code",
   "execution_count": 87,
   "metadata": {
    "execution": {
     "iopub.execute_input": "2022-03-31T19:27:14.250655Z",
     "iopub.status.busy": "2022-03-31T19:27:14.250063Z",
     "iopub.status.idle": "2022-03-31T19:27:14.269396Z",
     "shell.execute_reply": "2022-03-31T19:27:14.267679Z"
    }
   },
   "outputs": [
    {
     "ename": "NameError",
     "evalue": "name 'out_md_system' is not defined",
     "output_type": "error",
     "traceback": [
      "\u001b[0;31m---------------------------------------------------------------------------\u001b[0m",
      "\u001b[0;31mNameError\u001b[0m                                 Traceback (most recent call last)",
      "\u001b[0;32m/tmp/ipykernel_32503/782681520.py\u001b[0m in \u001b[0;36m<module>\u001b[0;34m\u001b[0m\n\u001b[0;32m----> 1\u001b[0;31m \u001b[0menergy_traj\u001b[0m \u001b[0;34m=\u001b[0m \u001b[0mout_md_system\u001b[0m\u001b[0;34m.\u001b[0m\u001b[0mtre\u001b[0m\u001b[0;34m\u001b[0m\u001b[0;34m\u001b[0m\u001b[0m\n\u001b[0m\u001b[1;32m      2\u001b[0m \u001b[0mtotal_energies\u001b[0m \u001b[0;34m=\u001b[0m \u001b[0menergy_traj\u001b[0m\u001b[0;34m.\u001b[0m\u001b[0mget_totals\u001b[0m\u001b[0;34m(\u001b[0m\u001b[0;34m)\u001b[0m\u001b[0;34m\u001b[0m\u001b[0;34m\u001b[0m\u001b[0m\n\u001b[1;32m      3\u001b[0m \u001b[0mtotal_energies\u001b[0m\u001b[0;34m\u001b[0m\u001b[0;34m\u001b[0m\u001b[0m\n",
      "\u001b[0;31mNameError\u001b[0m: name 'out_md_system' is not defined"
     ]
    }
   ],
   "source": [
    "energy_traj = out_md_system.tre\n",
    "total_energies = energy_traj.get_totals()\n",
    "total_energies"
   ]
  },
  {
   "cell_type": "code",
   "execution_count": 88,
   "metadata": {
    "execution": {
     "iopub.execute_input": "2022-03-31T19:27:14.275677Z",
     "iopub.status.busy": "2022-03-31T19:27:14.274705Z",
     "iopub.status.idle": "2022-03-31T19:27:14.293262Z",
     "shell.execute_reply": "2022-03-31T19:27:14.291252Z"
    }
   },
   "outputs": [
    {
     "ename": "NameError",
     "evalue": "name 'energy_traj' is not defined",
     "output_type": "error",
     "traceback": [
      "\u001b[0;31m---------------------------------------------------------------------------\u001b[0m",
      "\u001b[0;31mNameError\u001b[0m                                 Traceback (most recent call last)",
      "\u001b[0;32m/tmp/ipykernel_32503/1783350399.py\u001b[0m in \u001b[0;36m<module>\u001b[0;34m\u001b[0m\n\u001b[1;32m      1\u001b[0m \u001b[0;31m#Next we plot some data of the energies to se their development.\u001b[0m\u001b[0;34m\u001b[0m\u001b[0;34m\u001b[0m\u001b[0m\n\u001b[1;32m      2\u001b[0m \u001b[0;34m\u001b[0m\u001b[0m\n\u001b[0;32m----> 3\u001b[0;31m \u001b[0mtime_axis\u001b[0m \u001b[0;34m=\u001b[0m \u001b[0menergy_traj\u001b[0m\u001b[0;34m.\u001b[0m\u001b[0mtime\u001b[0m\u001b[0;34m\u001b[0m\u001b[0;34m\u001b[0m\u001b[0m\n\u001b[0m\u001b[1;32m      4\u001b[0m \u001b[0mtotal_energies\u001b[0m\u001b[0;34m.\u001b[0m\u001b[0mtotpot\u001b[0m\u001b[0;34m.\u001b[0m\u001b[0mplot\u001b[0m\u001b[0;34m(\u001b[0m\u001b[0mlegend\u001b[0m\u001b[0;34m=\u001b[0m\u001b[0;32mTrue\u001b[0m\u001b[0;34m)\u001b[0m\u001b[0;34m\u001b[0m\u001b[0;34m\u001b[0m\u001b[0m\n\u001b[1;32m      5\u001b[0m \u001b[0mtotal_energies\u001b[0m\u001b[0;34m.\u001b[0m\u001b[0mtotkin\u001b[0m\u001b[0;34m.\u001b[0m\u001b[0mplot\u001b[0m\u001b[0;34m(\u001b[0m\u001b[0mlegend\u001b[0m\u001b[0;34m=\u001b[0m\u001b[0;32mTrue\u001b[0m\u001b[0;34m)\u001b[0m\u001b[0;34m\u001b[0m\u001b[0;34m\u001b[0m\u001b[0m\n",
      "\u001b[0;31mNameError\u001b[0m: name 'energy_traj' is not defined"
     ]
    }
   ],
   "source": [
    "#Next we plot some data of the energies to se their development.\n",
    "\n",
    "time_axis = energy_traj.time\n",
    "total_energies.totpot.plot(legend=True)\n",
    "total_energies.totkin.plot(legend=True)\n",
    "total_energies.totene.plot(xlabel=\"t [ps]\", ylabel=\"V [kJ/mol]\", title=\"Simulation Data\", legend=True)\n"
   ]
  },
  {
   "cell_type": "markdown",
   "metadata": {},
   "source": [
    "In the Following we want to see the different contributions of the molecules with their VdW and Culomb interaxtions.\n",
    " we add up the van der Waals and Coulomb energies of the peptide-peptide interactions.\n",
    "\n",
    "Now we want to look at two variables:\n",
    "* peptide_water_nonbonded\n",
    "* peptide_Cl_nonbonded\n",
    "\n",
    "The information about the nonbondeds can be retrieved from the ForceGroup Nonbonded contributions.\n",
    "If you check the used imd file, you reckognize three Force groups in the FORCEGROUP block. These are limited by the last atom of the group and you can check the group atoms in the topology or coordinate file. \n",
    "They should correspond here to:\n",
    "1. Peptide\n",
    "2. 2 Cl- ions\n",
    "3. Water molecules\n",
    "\n",
    "The interactions of these forcegroups are stored in the following pattern, which can be adapted to any force group number (PseudoCode: for i in range(1+nFroceGroups) for j in range(i, nFroceGroups)):\n",
    "\n",
    "1. ForceGroup - 1. ForceGroup: intra force group nonbondeds (peptide - peptide)\n",
    "1. ForceGroup - 2. ForceGroup: inter force group nonbondeds between force group 1 and 2 (peptide - Cl-)\n",
    "1. ForceGroup - 3. ForceGroup: inter force group nonbondeds between force group 1 and 3 (peptide - Water)\n",
    "2. ForceGroup - 2. ForceGroup: intra force group nonbondeds (Cl- - Cl-)\n",
    "3. ForceGroup - 3. ForceGroup: inter force group nonbondeds between force group 2 and 3 (Cl- - Water)\n",
    "4. ForceGroup - 3. ForceGroup: intra force group nonbondeds (Water - Water)"
   ]
  },
  {
   "cell_type": "code",
   "execution_count": 89,
   "metadata": {
    "execution": {
     "iopub.execute_input": "2022-03-31T19:27:14.299363Z",
     "iopub.status.busy": "2022-03-31T19:27:14.298730Z",
     "iopub.status.idle": "2022-03-31T19:27:14.314781Z",
     "shell.execute_reply": "2022-03-31T19:27:14.313445Z"
    }
   },
   "outputs": [
    {
     "ename": "NameError",
     "evalue": "name 'energy_traj' is not defined",
     "output_type": "error",
     "traceback": [
      "\u001b[0;31m---------------------------------------------------------------------------\u001b[0m",
      "\u001b[0;31mNameError\u001b[0m                                 Traceback (most recent call last)",
      "\u001b[0;32m/tmp/ipykernel_32503/2615102029.py\u001b[0m in \u001b[0;36m<module>\u001b[0;34m\u001b[0m\n\u001b[1;32m      1\u001b[0m \u001b[0;31m#First lets get the Force Group Energy contributions:\u001b[0m\u001b[0;34m\u001b[0m\u001b[0;34m\u001b[0m\u001b[0m\n\u001b[0;32m----> 2\u001b[0;31m \u001b[0mforceGroupNonbondedContributions\u001b[0m \u001b[0;34m=\u001b[0m \u001b[0menergy_traj\u001b[0m\u001b[0;34m.\u001b[0m\u001b[0mget_nonbondedContributions\u001b[0m\u001b[0;34m(\u001b[0m\u001b[0;34m)\u001b[0m\u001b[0;34m\u001b[0m\u001b[0;34m\u001b[0m\u001b[0m\n\u001b[0m\u001b[1;32m      3\u001b[0m \u001b[0;34m\u001b[0m\u001b[0m\n\u001b[1;32m      4\u001b[0m \u001b[0;31m#Here we give each Force Group contribution category nice names:\u001b[0m\u001b[0;34m\u001b[0m\u001b[0;34m\u001b[0m\u001b[0m\n\u001b[1;32m      5\u001b[0m \u001b[0mpeptide_peptide_nonbonded\u001b[0m \u001b[0;34m=\u001b[0m \u001b[0mforceGroupNonbondedContributions\u001b[0m\u001b[0;34m[\u001b[0m\u001b[0;36m1\u001b[0m\u001b[0;34m]\u001b[0m\u001b[0;34m[\u001b[0m\u001b[0;36m1\u001b[0m\u001b[0;34m]\u001b[0m\u001b[0;34m\u001b[0m\u001b[0;34m\u001b[0m\u001b[0m\n",
      "\u001b[0;31mNameError\u001b[0m: name 'energy_traj' is not defined"
     ]
    }
   ],
   "source": [
    "#First lets get the Force Group Energy contributions:\n",
    "forceGroupNonbondedContributions = energy_traj.get_nonbondedContributions()\n",
    "\n",
    "#Here we give each Force Group contribution category nice names:\n",
    "peptide_peptide_nonbonded = forceGroupNonbondedContributions[1][1]\n",
    "peptide_Cl_nonbonded = forceGroupNonbondedContributions[1][2]\n",
    "peptide_water_nonbonded = forceGroupNonbondedContributions[1][3]\n",
    "\n",
    "Cl_Cl_nonbonded = forceGroupNonbondedContributions[2][2]\n",
    "Cl_water_nonbonded = forceGroupNonbondedContributions[2][3]\n",
    "\n",
    "water_water_nonbonded = forceGroupNonbondedContributions[3][3]"
   ]
  },
  {
   "cell_type": "code",
   "execution_count": 90,
   "metadata": {
    "execution": {
     "iopub.execute_input": "2022-03-31T19:27:14.321688Z",
     "iopub.status.busy": "2022-03-31T19:27:14.320044Z",
     "iopub.status.idle": "2022-03-31T19:27:14.338199Z",
     "shell.execute_reply": "2022-03-31T19:27:14.336321Z"
    }
   },
   "outputs": [
    {
     "ename": "NameError",
     "evalue": "name 'peptide_peptide_nonbonded' is not defined",
     "output_type": "error",
     "traceback": [
      "\u001b[0;31m---------------------------------------------------------------------------\u001b[0m",
      "\u001b[0;31mNameError\u001b[0m                                 Traceback (most recent call last)",
      "\u001b[0;32m/tmp/ipykernel_32503/2680003299.py\u001b[0m in \u001b[0;36m<module>\u001b[0;34m\u001b[0m\n\u001b[1;32m      1\u001b[0m \u001b[0;31m#Here we look at the different Nonbonded contributions of each\u001b[0m\u001b[0;34m\u001b[0m\u001b[0;34m\u001b[0m\u001b[0m\n\u001b[0;32m----> 2\u001b[0;31m \u001b[0mpeptide_peptide_nonbonded\u001b[0m\u001b[0;34m.\u001b[0m\u001b[0mplot\u001b[0m\u001b[0;34m(\u001b[0m\u001b[0mtitle\u001b[0m\u001b[0;34m=\u001b[0m\u001b[0;34m\"Peptide_intra_Nonbondeds\"\u001b[0m\u001b[0;34m,\u001b[0m \u001b[0mylabel\u001b[0m\u001b[0;34m=\u001b[0m\u001b[0;34m\"V [kJ/mol]\"\u001b[0m\u001b[0;34m,\u001b[0m \u001b[0mxlabel\u001b[0m\u001b[0;34m=\u001b[0m\u001b[0;34m\"writeOuts\"\u001b[0m\u001b[0;34m,\u001b[0m \u001b[0msubplots\u001b[0m\u001b[0;34m=\u001b[0m\u001b[0;32mTrue\u001b[0m\u001b[0;34m)\u001b[0m\u001b[0;34m\u001b[0m\u001b[0;34m\u001b[0m\u001b[0m\n\u001b[0m\u001b[1;32m      3\u001b[0m \u001b[0mCl_Cl_nonbonded\u001b[0m\u001b[0;34m.\u001b[0m\u001b[0mplot\u001b[0m\u001b[0;34m(\u001b[0m\u001b[0mtitle\u001b[0m\u001b[0;34m=\u001b[0m\u001b[0;34m\"CL_intra_Nonbondeds\"\u001b[0m\u001b[0;34m,\u001b[0m \u001b[0mylabel\u001b[0m\u001b[0;34m=\u001b[0m\u001b[0;34m\"V [kJ/mol]\"\u001b[0m\u001b[0;34m,\u001b[0m \u001b[0mxlabel\u001b[0m\u001b[0;34m=\u001b[0m\u001b[0;34m\"writeOuts\"\u001b[0m\u001b[0;34m,\u001b[0m \u001b[0msubplots\u001b[0m\u001b[0;34m=\u001b[0m\u001b[0;32mTrue\u001b[0m\u001b[0;34m)\u001b[0m\u001b[0;34m\u001b[0m\u001b[0;34m\u001b[0m\u001b[0m\n\u001b[1;32m      4\u001b[0m \u001b[0mwater_water_nonbonded\u001b[0m\u001b[0;34m.\u001b[0m\u001b[0mplot\u001b[0m\u001b[0;34m(\u001b[0m\u001b[0mtitle\u001b[0m\u001b[0;34m=\u001b[0m\u001b[0;34m\"Water_intra_Nonbondeds\"\u001b[0m\u001b[0;34m,\u001b[0m \u001b[0mylabel\u001b[0m\u001b[0;34m=\u001b[0m\u001b[0;34m\"V [kJ/mol]\"\u001b[0m\u001b[0;34m,\u001b[0m \u001b[0mxlabel\u001b[0m\u001b[0;34m=\u001b[0m\u001b[0;34m\"writeOuts\"\u001b[0m\u001b[0;34m,\u001b[0m \u001b[0msubplots\u001b[0m\u001b[0;34m=\u001b[0m\u001b[0;32mTrue\u001b[0m\u001b[0;34m)\u001b[0m\u001b[0;34m\u001b[0m\u001b[0;34m\u001b[0m\u001b[0m\n",
      "\u001b[0;31mNameError\u001b[0m: name 'peptide_peptide_nonbonded' is not defined"
     ]
    }
   ],
   "source": [
    "#Here we look at the different Nonbonded contributions of each \n",
    "peptide_peptide_nonbonded.plot(title=\"Peptide_intra_Nonbondeds\", ylabel=\"V [kJ/mol]\", xlabel=\"writeOuts\", subplots=True)\n",
    "Cl_Cl_nonbonded.plot(title=\"CL_intra_Nonbondeds\", ylabel=\"V [kJ/mol]\", xlabel=\"writeOuts\", subplots=True)\n",
    "water_water_nonbonded.plot(title=\"Water_intra_Nonbondeds\", ylabel=\"V [kJ/mol]\", xlabel=\"writeOuts\", subplots=True)"
   ]
  },
  {
   "cell_type": "code",
   "execution_count": 91,
   "metadata": {
    "execution": {
     "iopub.execute_input": "2022-03-31T19:27:14.342724Z",
     "iopub.status.busy": "2022-03-31T19:27:14.341998Z",
     "iopub.status.idle": "2022-03-31T19:27:14.361013Z",
     "shell.execute_reply": "2022-03-31T19:27:14.359744Z"
    }
   },
   "outputs": [
    {
     "ename": "NameError",
     "evalue": "name 'peptide_peptide_nonbonded' is not defined",
     "output_type": "error",
     "traceback": [
      "\u001b[0;31m---------------------------------------------------------------------------\u001b[0m",
      "\u001b[0;31mNameError\u001b[0m                                 Traceback (most recent call last)",
      "\u001b[0;32m/tmp/ipykernel_32503/3181684095.py\u001b[0m in \u001b[0;36m<module>\u001b[0;34m\u001b[0m\n\u001b[1;32m      1\u001b[0m \u001b[0;31m#Next we calculate the sum of all contributions\u001b[0m\u001b[0;34m\u001b[0m\u001b[0;34m\u001b[0m\u001b[0m\n\u001b[1;32m      2\u001b[0m \u001b[0;31m#The sum over the axis 1 sums up all contribution types for a timestep t.\u001b[0m\u001b[0;34m\u001b[0m\u001b[0;34m\u001b[0m\u001b[0m\n\u001b[0;32m----> 3\u001b[0;31m \u001b[0mpeptide_peptide_nonbonded\u001b[0m\u001b[0;34m.\u001b[0m\u001b[0msum\u001b[0m\u001b[0;34m(\u001b[0m\u001b[0maxis\u001b[0m\u001b[0;34m=\u001b[0m\u001b[0;36m1\u001b[0m\u001b[0;34m)\u001b[0m\u001b[0;34m.\u001b[0m\u001b[0mplot\u001b[0m\u001b[0;34m(\u001b[0m\u001b[0mlabel\u001b[0m\u001b[0;34m=\u001b[0m\u001b[0;34m\"peptide - peptide\"\u001b[0m\u001b[0;34m,\u001b[0m \u001b[0mlegend\u001b[0m\u001b[0;34m=\u001b[0m\u001b[0;32mTrue\u001b[0m\u001b[0;34m)\u001b[0m\u001b[0;34m\u001b[0m\u001b[0;34m\u001b[0m\u001b[0m\n\u001b[0m\u001b[1;32m      4\u001b[0m \u001b[0mpeptide_Cl_nonbonded\u001b[0m\u001b[0;34m.\u001b[0m\u001b[0msum\u001b[0m\u001b[0;34m(\u001b[0m\u001b[0maxis\u001b[0m\u001b[0;34m=\u001b[0m\u001b[0;36m1\u001b[0m\u001b[0;34m)\u001b[0m\u001b[0;34m.\u001b[0m\u001b[0mplot\u001b[0m\u001b[0;34m(\u001b[0m\u001b[0mlabel\u001b[0m\u001b[0;34m=\u001b[0m\u001b[0;34m\"peptide - Cl-\"\u001b[0m\u001b[0;34m,\u001b[0m \u001b[0mlegend\u001b[0m\u001b[0;34m=\u001b[0m\u001b[0;32mTrue\u001b[0m\u001b[0;34m)\u001b[0m\u001b[0;34m\u001b[0m\u001b[0;34m\u001b[0m\u001b[0m\n\u001b[1;32m      5\u001b[0m \u001b[0mpeptide_water_nonbonded\u001b[0m\u001b[0;34m.\u001b[0m\u001b[0msum\u001b[0m\u001b[0;34m(\u001b[0m\u001b[0maxis\u001b[0m\u001b[0;34m=\u001b[0m\u001b[0;36m1\u001b[0m\u001b[0;34m)\u001b[0m\u001b[0;34m.\u001b[0m\u001b[0mplot\u001b[0m\u001b[0;34m(\u001b[0m\u001b[0mlabel\u001b[0m\u001b[0;34m=\u001b[0m\u001b[0;34m\"peptide - Water\"\u001b[0m\u001b[0;34m,\u001b[0m \u001b[0mylabel\u001b[0m\u001b[0;34m=\u001b[0m\u001b[0;34m\"V [kJ/mol]\"\u001b[0m\u001b[0;34m,\u001b[0m \u001b[0mxlabel\u001b[0m\u001b[0;34m=\u001b[0m\u001b[0;34m\"writeOuts\"\u001b[0m\u001b[0;34m,\u001b[0m \u001b[0mtitle\u001b[0m\u001b[0;34m=\u001b[0m\u001b[0;34m\"Peptide Nonbondeds\"\u001b[0m\u001b[0;34m,\u001b[0m \u001b[0mlegend\u001b[0m\u001b[0;34m=\u001b[0m\u001b[0;32mTrue\u001b[0m\u001b[0;34m)\u001b[0m\u001b[0;34m\u001b[0m\u001b[0;34m\u001b[0m\u001b[0m\n",
      "\u001b[0;31mNameError\u001b[0m: name 'peptide_peptide_nonbonded' is not defined"
     ]
    }
   ],
   "source": [
    "#Next we calculate the sum of all contributions\n",
    "#The sum over the axis 1 sums up all contribution types for a timestep t.\n",
    "peptide_peptide_nonbonded.sum(axis=1).plot(label=\"peptide - peptide\", legend=True)\n",
    "peptide_Cl_nonbonded.sum(axis=1).plot(label=\"peptide - Cl-\", legend=True)\n",
    "peptide_water_nonbonded.sum(axis=1).plot(label=\"peptide - Water\", ylabel=\"V [kJ/mol]\", xlabel=\"writeOuts\", title=\"Peptide Nonbondeds\", legend=True)"
   ]
  },
  {
   "cell_type": "code",
   "execution_count": 92,
   "metadata": {
    "execution": {
     "iopub.execute_input": "2022-03-31T19:27:14.365766Z",
     "iopub.status.busy": "2022-03-31T19:27:14.364843Z",
     "iopub.status.idle": "2022-03-31T19:27:14.382639Z",
     "shell.execute_reply": "2022-03-31T19:27:14.380873Z"
    }
   },
   "outputs": [
    {
     "ename": "NameError",
     "evalue": "name 'peptide_peptide_nonbonded' is not defined",
     "output_type": "error",
     "traceback": [
      "\u001b[0;31m---------------------------------------------------------------------------\u001b[0m",
      "\u001b[0;31mNameError\u001b[0m                                 Traceback (most recent call last)",
      "\u001b[0;32m/tmp/ipykernel_32503/3405475826.py\u001b[0m in \u001b[0;36m<module>\u001b[0;34m\u001b[0m\n\u001b[1;32m      1\u001b[0m \u001b[0;31m# Here we look at the total nonbonded Contributions of the peptide\u001b[0m\u001b[0;34m\u001b[0m\u001b[0;34m\u001b[0m\u001b[0m\n\u001b[0;32m----> 2\u001b[0;31m \u001b[0mpeptide_nonbonded\u001b[0m \u001b[0;34m=\u001b[0m \u001b[0mpeptide_peptide_nonbonded\u001b[0m\u001b[0;34m+\u001b[0m\u001b[0mpeptide_Cl_nonbonded\u001b[0m\u001b[0;34m+\u001b[0m\u001b[0mpeptide_water_nonbonded\u001b[0m\u001b[0;34m\u001b[0m\u001b[0;34m\u001b[0m\u001b[0m\n\u001b[0m\u001b[1;32m      3\u001b[0m \u001b[0;31m#The sum over the axis 1 sums up all contribution types for a timestep t.\u001b[0m\u001b[0;34m\u001b[0m\u001b[0;34m\u001b[0m\u001b[0m\n\u001b[1;32m      4\u001b[0m \u001b[0mpeptide_nonbonded\u001b[0m\u001b[0;34m.\u001b[0m\u001b[0msum\u001b[0m\u001b[0;34m(\u001b[0m\u001b[0maxis\u001b[0m\u001b[0;34m=\u001b[0m\u001b[0;36m1\u001b[0m\u001b[0;34m)\u001b[0m\u001b[0;34m.\u001b[0m\u001b[0mplot\u001b[0m\u001b[0;34m(\u001b[0m \u001b[0mlabel\u001b[0m\u001b[0;34m=\u001b[0m\u001b[0;34m\"peptide\"\u001b[0m\u001b[0;34m,\u001b[0m \u001b[0mylabel\u001b[0m\u001b[0;34m=\u001b[0m\u001b[0;34m\"V [kJ/mol]\"\u001b[0m\u001b[0;34m,\u001b[0m \u001b[0mxlabel\u001b[0m\u001b[0;34m=\u001b[0m\u001b[0;34m\"steps\"\u001b[0m\u001b[0;34m,\u001b[0m \u001b[0mtitle\u001b[0m\u001b[0;34m=\u001b[0m\u001b[0;34m\"Total Nonbonded Contributions of peptide\"\u001b[0m\u001b[0;34m,\u001b[0m \u001b[0mlegend\u001b[0m\u001b[0;34m=\u001b[0m\u001b[0;32mTrue\u001b[0m\u001b[0;34m)\u001b[0m\u001b[0;34m\u001b[0m\u001b[0;34m\u001b[0m\u001b[0m\n",
      "\u001b[0;31mNameError\u001b[0m: name 'peptide_peptide_nonbonded' is not defined"
     ]
    }
   ],
   "source": [
    "# Here we look at the total nonbonded Contributions of the peptide \n",
    "peptide_nonbonded = peptide_peptide_nonbonded+peptide_Cl_nonbonded+peptide_water_nonbonded\n",
    "#The sum over the axis 1 sums up all contribution types for a timestep t.\n",
    "peptide_nonbonded.sum(axis=1).plot( label=\"peptide\", ylabel=\"V [kJ/mol]\", xlabel=\"steps\", title=\"Total Nonbonded Contributions of peptide\", legend=True)\n"
   ]
  },
  {
   "cell_type": "markdown",
   "metadata": {
    "pycharm": {
     "name": "#%%\n"
    }
   },
   "source": [
    "#### Coordinate Analysis\n",
    "In the next step, we want to have a look at the coordinates of our simulation.\n",
    "first we will dcalculate the rmsd, second we will analyse the distance of the CL- to the positive charged atoms in the peptide. \n",
    "\n",
    "\n",
    "\n",
    "***\n",
    "**Warning**: Under Development ;)\n",
    "***"
   ]
  },
  {
   "cell_type": "code",
   "execution_count": 93,
   "metadata": {
    "execution": {
     "iopub.execute_input": "2022-03-31T19:27:14.389431Z",
     "iopub.status.busy": "2022-03-31T19:27:14.388936Z",
     "iopub.status.idle": "2022-03-31T19:27:14.406647Z",
     "shell.execute_reply": "2022-03-31T19:27:14.404619Z"
    }
   },
   "outputs": [
    {
     "ename": "NameError",
     "evalue": "name 'out_md_system' is not defined",
     "output_type": "error",
     "traceback": [
      "\u001b[0;31m---------------------------------------------------------------------------\u001b[0m",
      "\u001b[0;31mNameError\u001b[0m                                 Traceback (most recent call last)",
      "\u001b[0;32m/tmp/ipykernel_32503/3848250193.py\u001b[0m in \u001b[0;36m<module>\u001b[0;34m\u001b[0m\n\u001b[0;32m----> 1\u001b[0;31m \u001b[0mfinal_coordinate\u001b[0m \u001b[0;34m=\u001b[0m \u001b[0mout_md_system\u001b[0m\u001b[0;34m.\u001b[0m\u001b[0mcnf\u001b[0m\u001b[0;34m\u001b[0m\u001b[0;34m\u001b[0m\u001b[0m\n\u001b[0m\u001b[1;32m      2\u001b[0m \u001b[0mcoordinate_traj\u001b[0m \u001b[0;34m=\u001b[0m \u001b[0mout_md_system\u001b[0m\u001b[0;34m.\u001b[0m\u001b[0mtrc\u001b[0m\u001b[0;34m\u001b[0m\u001b[0;34m\u001b[0m\u001b[0m\n",
      "\u001b[0;31mNameError\u001b[0m: name 'out_md_system' is not defined"
     ]
    }
   ],
   "source": [
    "final_coordinate = out_md_system.cnf\n",
    "coordinate_traj = out_md_system.trc\n"
   ]
  },
  {
   "cell_type": "code",
   "execution_count": 94,
   "metadata": {
    "execution": {
     "iopub.execute_input": "2022-03-31T19:27:14.411852Z",
     "iopub.status.busy": "2022-03-31T19:27:14.410983Z",
     "iopub.status.idle": "2022-03-31T19:27:14.429317Z",
     "shell.execute_reply": "2022-03-31T19:27:14.428010Z"
    }
   },
   "outputs": [
    {
     "ename": "NameError",
     "evalue": "name 'coordinate_traj' is not defined",
     "output_type": "error",
     "traceback": [
      "\u001b[0;31m---------------------------------------------------------------------------\u001b[0m",
      "\u001b[0;31mNameError\u001b[0m                                 Traceback (most recent call last)",
      "\u001b[0;32m/tmp/ipykernel_32503/1569724467.py\u001b[0m in \u001b[0;36m<module>\u001b[0;34m\u001b[0m\n\u001b[0;32m----> 1\u001b[0;31m \u001b[0mcoordinate_traj\u001b[0m\u001b[0;34m.\u001b[0m\u001b[0mrmsd\u001b[0m\u001b[0;34m(\u001b[0m\u001b[0;36m1\u001b[0m\u001b[0;34m)\u001b[0m\u001b[0;34m.\u001b[0m\u001b[0msum\u001b[0m\u001b[0;34m(\u001b[0m\u001b[0maxis\u001b[0m\u001b[0;34m=\u001b[0m\u001b[0;36m1\u001b[0m\u001b[0;34m)\u001b[0m\u001b[0;34m.\u001b[0m\u001b[0mplot\u001b[0m\u001b[0;34m(\u001b[0m\u001b[0mylabel\u001b[0m\u001b[0;34m=\u001b[0m\u001b[0;34m\"RMSD\"\u001b[0m\u001b[0;34m,\u001b[0m \u001b[0mxlabel\u001b[0m\u001b[0;34m=\u001b[0m\u001b[0;34m\"t [ps]\"\u001b[0m\u001b[0;34m)\u001b[0m\u001b[0;34m\u001b[0m\u001b[0;34m\u001b[0m\u001b[0m\n\u001b[0m",
      "\u001b[0;31mNameError\u001b[0m: name 'coordinate_traj' is not defined"
     ]
    }
   ],
   "source": [
    "coordinate_traj.rmsd(1).sum(axis=1).plot(ylabel=\"RMSD\", xlabel=\"t [ps]\")"
   ]
  },
  {
   "cell_type": "markdown",
   "metadata": {},
   "source": [
    "#### Distance CL- to the peptide"
   ]
  },
  {
   "cell_type": "markdown",
   "metadata": {},
   "source": [
    "#"
   ]
  },
  {
   "cell_type": "code",
   "execution_count": 95,
   "metadata": {
    "execution": {
     "iopub.execute_input": "2022-03-31T19:27:14.433461Z",
     "iopub.status.busy": "2022-03-31T19:27:14.433040Z",
     "iopub.status.idle": "2022-03-31T19:27:14.453596Z",
     "shell.execute_reply": "2022-03-31T19:27:14.451814Z"
    }
   },
   "outputs": [
    {
     "ename": "NameError",
     "evalue": "name 'final_coordinate' is not defined",
     "output_type": "error",
     "traceback": [
      "\u001b[0;31m---------------------------------------------------------------------------\u001b[0m",
      "\u001b[0;31mNameError\u001b[0m                                 Traceback (most recent call last)",
      "\u001b[0;32m/tmp/ipykernel_32503/1045973654.py\u001b[0m in \u001b[0;36m<module>\u001b[0;34m\u001b[0m\n\u001b[0;32m----> 1\u001b[0;31m \u001b[0mprint\u001b[0m\u001b[0;34m(\u001b[0m\u001b[0;34m\"CL- atoms:\"\u001b[0m\u001b[0;34m,\u001b[0m \u001b[0;34m[\u001b[0m\u001b[0;34m(\u001b[0m\u001b[0map\u001b[0m\u001b[0;34m.\u001b[0m\u001b[0matomType\u001b[0m\u001b[0;34m,\u001b[0m \u001b[0map\u001b[0m\u001b[0;34m.\u001b[0m\u001b[0matomID\u001b[0m\u001b[0;34m)\u001b[0m \u001b[0;32mfor\u001b[0m \u001b[0map\u001b[0m \u001b[0;32min\u001b[0m \u001b[0mfinal_coordinate\u001b[0m\u001b[0;34m.\u001b[0m\u001b[0mPOSITION\u001b[0m \u001b[0;32mif\u001b[0m\u001b[0;34m(\u001b[0m\u001b[0map\u001b[0m\u001b[0;34m.\u001b[0m\u001b[0mresName\u001b[0m \u001b[0;34m==\u001b[0m \u001b[0;34m\"CL-\"\u001b[0m\u001b[0;34m)\u001b[0m\u001b[0;34m]\u001b[0m\u001b[0;34m)\u001b[0m\u001b[0;34m\u001b[0m\u001b[0;34m\u001b[0m\u001b[0m\n\u001b[0m\u001b[1;32m      2\u001b[0m \u001b[0mprint\u001b[0m\u001b[0;34m(\u001b[0m\u001b[0;34m\"ARG atoms:\"\u001b[0m\u001b[0;34m,\u001b[0m \u001b[0;34m[\u001b[0m\u001b[0;34m(\u001b[0m\u001b[0map\u001b[0m\u001b[0;34m.\u001b[0m\u001b[0matomType\u001b[0m\u001b[0;34m,\u001b[0m \u001b[0map\u001b[0m\u001b[0;34m.\u001b[0m\u001b[0matomID\u001b[0m\u001b[0;34m)\u001b[0m \u001b[0;32mfor\u001b[0m \u001b[0map\u001b[0m \u001b[0;32min\u001b[0m \u001b[0mfinal_coordinate\u001b[0m\u001b[0;34m.\u001b[0m\u001b[0mPOSITION\u001b[0m \u001b[0;32mif\u001b[0m\u001b[0;34m(\u001b[0m\u001b[0map\u001b[0m\u001b[0;34m.\u001b[0m\u001b[0mresName\u001b[0m \u001b[0;34m==\u001b[0m \u001b[0;34m\"ARG\"\u001b[0m\u001b[0;34m)\u001b[0m\u001b[0;34m]\u001b[0m\u001b[0;34m)\u001b[0m\u001b[0;34m\u001b[0m\u001b[0;34m\u001b[0m\u001b[0m\n\u001b[1;32m      3\u001b[0m \u001b[0mprint\u001b[0m\u001b[0;34m(\u001b[0m\u001b[0;34m\"LYSH atoms:\"\u001b[0m\u001b[0;34m,\u001b[0m \u001b[0;34m[\u001b[0m\u001b[0;34m(\u001b[0m\u001b[0map\u001b[0m\u001b[0;34m.\u001b[0m\u001b[0matomType\u001b[0m\u001b[0;34m,\u001b[0m \u001b[0map\u001b[0m\u001b[0;34m.\u001b[0m\u001b[0matomID\u001b[0m\u001b[0;34m)\u001b[0m \u001b[0;32mfor\u001b[0m \u001b[0map\u001b[0m \u001b[0;32min\u001b[0m \u001b[0mfinal_coordinate\u001b[0m\u001b[0;34m.\u001b[0m\u001b[0mPOSITION\u001b[0m \u001b[0;32mif\u001b[0m\u001b[0;34m(\u001b[0m\u001b[0map\u001b[0m\u001b[0;34m.\u001b[0m\u001b[0mresName\u001b[0m \u001b[0;34m==\u001b[0m \u001b[0;34m\"LYSH\"\u001b[0m\u001b[0;34m)\u001b[0m\u001b[0;34m]\u001b[0m\u001b[0;34m)\u001b[0m\u001b[0;34m\u001b[0m\u001b[0;34m\u001b[0m\u001b[0m\n\u001b[1;32m      4\u001b[0m \u001b[0mprint\u001b[0m\u001b[0;34m(\u001b[0m\u001b[0;34m\"NTERM atoms:\"\u001b[0m\u001b[0;34m,\u001b[0m \u001b[0;34m[\u001b[0m\u001b[0;34m(\u001b[0m\u001b[0map\u001b[0m\u001b[0;34m.\u001b[0m\u001b[0matomType\u001b[0m\u001b[0;34m,\u001b[0m \u001b[0map\u001b[0m\u001b[0;34m.\u001b[0m\u001b[0matomID\u001b[0m\u001b[0;34m)\u001b[0m \u001b[0;32mfor\u001b[0m \u001b[0map\u001b[0m \u001b[0;32min\u001b[0m \u001b[0mfinal_coordinate\u001b[0m\u001b[0;34m.\u001b[0m\u001b[0mPOSITION\u001b[0m \u001b[0;32mif\u001b[0m\u001b[0;34m(\u001b[0m\u001b[0map\u001b[0m\u001b[0;34m.\u001b[0m\u001b[0mresName\u001b[0m \u001b[0;34m==\u001b[0m \u001b[0;34m\"VAL\"\u001b[0m\u001b[0;34m)\u001b[0m\u001b[0;34m]\u001b[0m\u001b[0;34m)\u001b[0m\u001b[0;34m\u001b[0m\u001b[0;34m\u001b[0m\u001b[0m\n",
      "\u001b[0;31mNameError\u001b[0m: name 'final_coordinate' is not defined"
     ]
    }
   ],
   "source": [
    "print(\"CL- atoms:\", [(ap.atomType, ap.atomID) for ap in final_coordinate.POSITION if(ap.resName == \"CL-\")])\n",
    "print(\"ARG atoms:\", [(ap.atomType, ap.atomID) for ap in final_coordinate.POSITION if(ap.resName == \"ARG\")])\n",
    "print(\"LYSH atoms:\", [(ap.atomType, ap.atomID) for ap in final_coordinate.POSITION if(ap.resName == \"LYSH\")])\n",
    "print(\"NTERM atoms:\", [(ap.atomType, ap.atomID) for ap in final_coordinate.POSITION if(ap.resName == \"VAL\")])"
   ]
  },
  {
   "cell_type": "markdown",
   "metadata": {},
   "source": [
    "Calculate the distances now to the different CL- ions."
   ]
  },
  {
   "cell_type": "code",
   "execution_count": 96,
   "metadata": {
    "execution": {
     "iopub.execute_input": "2022-03-31T19:27:14.461831Z",
     "iopub.status.busy": "2022-03-31T19:27:14.460602Z",
     "iopub.status.idle": "2022-03-31T19:27:14.478544Z",
     "shell.execute_reply": "2022-03-31T19:27:14.476534Z"
    }
   },
   "outputs": [
    {
     "ename": "NameError",
     "evalue": "name 'coordinate_traj' is not defined",
     "output_type": "error",
     "traceback": [
      "\u001b[0;31m---------------------------------------------------------------------------\u001b[0m",
      "\u001b[0;31mNameError\u001b[0m                                 Traceback (most recent call last)",
      "\u001b[0;32m/tmp/ipykernel_32503/2849644629.py\u001b[0m in \u001b[0;36m<module>\u001b[0;34m\u001b[0m\n\u001b[0;32m----> 1\u001b[0;31m \u001b[0mcoordinate_traj\u001b[0m\u001b[0;34m.\u001b[0m\u001b[0mdistances\u001b[0m\u001b[0;34m(\u001b[0m\u001b[0matom_pairs\u001b[0m\u001b[0;34m=\u001b[0m\u001b[0;34m[\u001b[0m\u001b[0;34m[\u001b[0m\u001b[0;36m72\u001b[0m\u001b[0;34m,\u001b[0m \u001b[0;36m37\u001b[0m\u001b[0;34m]\u001b[0m\u001b[0;34m,\u001b[0m \u001b[0;34m[\u001b[0m\u001b[0;36m73\u001b[0m\u001b[0;34m,\u001b[0m \u001b[0;36m37\u001b[0m\u001b[0;34m]\u001b[0m\u001b[0;34m]\u001b[0m\u001b[0;34m)\u001b[0m\u001b[0;34m.\u001b[0m\u001b[0mplot\u001b[0m\u001b[0;34m(\u001b[0m\u001b[0mlabel\u001b[0m\u001b[0;34m=\u001b[0m\u001b[0;34m\"CL-1/2 - ARG-CZ\"\u001b[0m\u001b[0;34m,\u001b[0m \u001b[0mlegend\u001b[0m\u001b[0;34m=\u001b[0m\u001b[0;32mTrue\u001b[0m\u001b[0;34m,\u001b[0m \u001b[0mxlabel\u001b[0m\u001b[0;34m=\u001b[0m\u001b[0;34m\"t [ps]\"\u001b[0m\u001b[0;34m,\u001b[0m \u001b[0mylabel\u001b[0m\u001b[0;34m=\u001b[0m\u001b[0;34m\"r [nm]\"\u001b[0m\u001b[0;34m)\u001b[0m\u001b[0;34m\u001b[0m\u001b[0;34m\u001b[0m\u001b[0m\n\u001b[0m",
      "\u001b[0;31mNameError\u001b[0m: name 'coordinate_traj' is not defined"
     ]
    }
   ],
   "source": [
    "coordinate_traj.distances(atom_pairs=[[72, 37], [73, 37]]).plot(label=\"CL-1/2 - ARG-CZ\", legend=True, xlabel=\"t [ps]\", ylabel=\"r [nm]\")"
   ]
  },
  {
   "cell_type": "code",
   "execution_count": 97,
   "metadata": {
    "execution": {
     "iopub.execute_input": "2022-03-31T19:27:14.483550Z",
     "iopub.status.busy": "2022-03-31T19:27:14.482349Z",
     "iopub.status.idle": "2022-03-31T19:27:14.500373Z",
     "shell.execute_reply": "2022-03-31T19:27:14.498590Z"
    }
   },
   "outputs": [
    {
     "ename": "NameError",
     "evalue": "name 'coordinate_traj' is not defined",
     "output_type": "error",
     "traceback": [
      "\u001b[0;31m---------------------------------------------------------------------------\u001b[0m",
      "\u001b[0;31mNameError\u001b[0m                                 Traceback (most recent call last)",
      "\u001b[0;32m/tmp/ipykernel_32503/3432102820.py\u001b[0m in \u001b[0;36m<module>\u001b[0;34m\u001b[0m\n\u001b[0;32m----> 1\u001b[0;31m \u001b[0mcoordinate_traj\u001b[0m\u001b[0;34m.\u001b[0m\u001b[0mdistances\u001b[0m\u001b[0;34m(\u001b[0m\u001b[0matom_pairs\u001b[0m\u001b[0;34m=\u001b[0m\u001b[0;34m[\u001b[0m\u001b[0;34m[\u001b[0m\u001b[0;36m72\u001b[0m\u001b[0;34m,\u001b[0m \u001b[0;36m53\u001b[0m\u001b[0;34m]\u001b[0m\u001b[0;34m,\u001b[0m \u001b[0;34m[\u001b[0m\u001b[0;36m73\u001b[0m\u001b[0;34m,\u001b[0m \u001b[0;36m53\u001b[0m\u001b[0;34m]\u001b[0m\u001b[0;34m]\u001b[0m\u001b[0;34m)\u001b[0m\u001b[0;34m.\u001b[0m\u001b[0mplot\u001b[0m\u001b[0;34m(\u001b[0m\u001b[0mlabel\u001b[0m\u001b[0;34m=\u001b[0m\u001b[0;34m\"CL-1/2 - LYSH-NZ\"\u001b[0m\u001b[0;34m,\u001b[0m \u001b[0mlegend\u001b[0m\u001b[0;34m=\u001b[0m\u001b[0;32mTrue\u001b[0m\u001b[0;34m,\u001b[0m \u001b[0mxlabel\u001b[0m\u001b[0;34m=\u001b[0m\u001b[0;34m\"t [ps]\"\u001b[0m\u001b[0;34m,\u001b[0m \u001b[0mylabel\u001b[0m\u001b[0;34m=\u001b[0m\u001b[0;34m\"r [nm]\"\u001b[0m\u001b[0;34m)\u001b[0m\u001b[0;34m\u001b[0m\u001b[0;34m\u001b[0m\u001b[0m\n\u001b[0m",
      "\u001b[0;31mNameError\u001b[0m: name 'coordinate_traj' is not defined"
     ]
    }
   ],
   "source": [
    "coordinate_traj.distances(atom_pairs=[[72, 53], [73, 53]]).plot(label=\"CL-1/2 - LYSH-NZ\", legend=True, xlabel=\"t [ps]\", ylabel=\"r [nm]\")"
   ]
  },
  {
   "cell_type": "code",
   "execution_count": 98,
   "metadata": {
    "execution": {
     "iopub.execute_input": "2022-03-31T19:27:14.505933Z",
     "iopub.status.busy": "2022-03-31T19:27:14.504691Z",
     "iopub.status.idle": "2022-03-31T19:27:14.522194Z",
     "shell.execute_reply": "2022-03-31T19:27:14.520029Z"
    }
   },
   "outputs": [
    {
     "ename": "NameError",
     "evalue": "name 'coordinate_traj' is not defined",
     "output_type": "error",
     "traceback": [
      "\u001b[0;31m---------------------------------------------------------------------------\u001b[0m",
      "\u001b[0;31mNameError\u001b[0m                                 Traceback (most recent call last)",
      "\u001b[0;32m/tmp/ipykernel_32503/5725001.py\u001b[0m in \u001b[0;36m<module>\u001b[0;34m\u001b[0m\n\u001b[0;32m----> 1\u001b[0;31m \u001b[0mcoordinate_traj\u001b[0m\u001b[0;34m.\u001b[0m\u001b[0mdistances\u001b[0m\u001b[0;34m(\u001b[0m\u001b[0matom_pairs\u001b[0m\u001b[0;34m=\u001b[0m\u001b[0;34m[\u001b[0m\u001b[0;34m[\u001b[0m\u001b[0;36m72\u001b[0m\u001b[0;34m,\u001b[0m \u001b[0;36m3\u001b[0m\u001b[0;34m]\u001b[0m\u001b[0;34m,\u001b[0m \u001b[0;34m[\u001b[0m\u001b[0;36m73\u001b[0m\u001b[0;34m,\u001b[0m \u001b[0;36m3\u001b[0m\u001b[0;34m]\u001b[0m\u001b[0;34m]\u001b[0m\u001b[0;34m)\u001b[0m\u001b[0;34m.\u001b[0m\u001b[0mplot\u001b[0m\u001b[0;34m(\u001b[0m\u001b[0mlabel\u001b[0m\u001b[0;34m=\u001b[0m\u001b[0;34m\"CL-1/2 - N-TERM\"\u001b[0m\u001b[0;34m,\u001b[0m \u001b[0mlegend\u001b[0m\u001b[0;34m=\u001b[0m\u001b[0;32mTrue\u001b[0m\u001b[0;34m,\u001b[0m \u001b[0mxlabel\u001b[0m\u001b[0;34m=\u001b[0m\u001b[0;34m\"t [ps]\"\u001b[0m\u001b[0;34m,\u001b[0m \u001b[0mylabel\u001b[0m\u001b[0;34m=\u001b[0m\u001b[0;34m\"r [nm]\"\u001b[0m\u001b[0;34m)\u001b[0m\u001b[0;34m\u001b[0m\u001b[0;34m\u001b[0m\u001b[0m\n\u001b[0m",
      "\u001b[0;31mNameError\u001b[0m: name 'coordinate_traj' is not defined"
     ]
    }
   ],
   "source": [
    "coordinate_traj.distances(atom_pairs=[[72, 3], [73, 3]]).plot(label=\"CL-1/2 - N-TERM\", legend=True, xlabel=\"t [ps]\", ylabel=\"r [nm]\")"
   ]
  },
  {
   "cell_type": "code",
   "execution_count": null,
   "metadata": {},
   "outputs": [],
   "source": []
  }
 ],
 "metadata": {
  "interpreter": {
   "hash": "e7d5b70120806d05daeaf98b799438b40f063b8cf99696cad03a40d92a237582"
  },
  "kernelspec": {
   "display_name": "Python 3.9.10 ('pygromosDev')",
   "language": "python",
   "name": "python3"
  },
  "language_info": {
   "codemirror_mode": {
    "name": "ipython",
    "version": 3
   },
   "file_extension": ".py",
   "mimetype": "text/x-python",
   "name": "python",
   "nbconvert_exporter": "python",
   "pygments_lexer": "ipython3",
   "version": "3.9.7"
  },
  "widgets": {
   "application/vnd.jupyter.widget-state+json": {
    "state": {
     "0510be9c94334d1db60232e2545d4e9a": {
      "model_module": "nglview-js-widgets",
      "model_module_version": "3.0.1",
      "model_name": "ColormakerRegistryModel",
      "state": {
       "_dom_classes": [],
       "_model_module": "nglview-js-widgets",
       "_model_module_version": "3.0.1",
       "_model_name": "ColormakerRegistryModel",
       "_msg_ar": [],
       "_msg_q": [],
       "_ready": false,
       "_view_count": null,
       "_view_module": "nglview-js-widgets",
       "_view_module_version": "3.0.1",
       "_view_name": "ColormakerRegistryView",
       "layout": "IPY_MODEL_ef5b63ac2221400eb26f5a757ddeb918"
      }
     },
     "054e6cc74f4d4447bd07340495460839": {
      "model_module": "@jupyter-widgets/base",
      "model_module_version": "1.2.0",
      "model_name": "LayoutModel",
      "state": {
       "_model_module": "@jupyter-widgets/base",
       "_model_module_version": "1.2.0",
       "_model_name": "LayoutModel",
       "_view_count": null,
       "_view_module": "@jupyter-widgets/base",
       "_view_module_version": "1.2.0",
       "_view_name": "LayoutView",
       "align_content": null,
       "align_items": null,
       "align_self": null,
       "border": null,
       "bottom": null,
       "display": null,
       "flex": null,
       "flex_flow": null,
       "grid_area": null,
       "grid_auto_columns": null,
       "grid_auto_flow": null,
       "grid_auto_rows": null,
       "grid_column": null,
       "grid_gap": null,
       "grid_row": null,
       "grid_template_areas": null,
       "grid_template_columns": null,
       "grid_template_rows": null,
       "height": null,
       "justify_content": null,
       "justify_items": null,
       "left": null,
       "margin": null,
       "max_height": null,
       "max_width": null,
       "min_height": null,
       "min_width": null,
       "object_fit": null,
       "object_position": null,
       "order": null,
       "overflow": null,
       "overflow_x": null,
       "overflow_y": null,
       "padding": null,
       "right": null,
       "top": null,
       "visibility": null,
       "width": null
      }
     },
     "094574451ab74a0fb038b53384a80aaf": {
      "model_module": "@jupyter-widgets/controls",
      "model_module_version": "1.5.0",
      "model_name": "DescriptionStyleModel",
      "state": {
       "_model_module": "@jupyter-widgets/controls",
       "_model_module_version": "1.5.0",
       "_model_name": "DescriptionStyleModel",
       "_view_count": null,
       "_view_module": "@jupyter-widgets/base",
       "_view_module_version": "1.2.0",
       "_view_name": "StyleView",
       "description_width": ""
      }
     },
     "144b766967f14c2fa514a09e6658089e": {
      "model_module": "@jupyter-widgets/controls",
      "model_module_version": "1.5.0",
      "model_name": "ButtonModel",
      "state": {
       "_dom_classes": [],
       "_model_module": "@jupyter-widgets/controls",
       "_model_module_version": "1.5.0",
       "_model_name": "ButtonModel",
       "_view_count": null,
       "_view_module": "@jupyter-widgets/controls",
       "_view_module_version": "1.5.0",
       "_view_name": "ButtonView",
       "button_style": "",
       "description": "",
       "disabled": false,
       "icon": "compress",
       "layout": "IPY_MODEL_260adfee5aa74267982a56c3b66259f8",
       "style": "IPY_MODEL_298b107fb2264149846066934a0ad218",
       "tooltip": ""
      }
     },
     "15247cab89fd4d8897986dd47440a3d0": {
      "model_module": "@jupyter-widgets/base",
      "model_module_version": "1.2.0",
      "model_name": "LayoutModel",
      "state": {
       "_model_module": "@jupyter-widgets/base",
       "_model_module_version": "1.2.0",
       "_model_name": "LayoutModel",
       "_view_count": null,
       "_view_module": "@jupyter-widgets/base",
       "_view_module_version": "1.2.0",
       "_view_name": "LayoutView",
       "align_content": null,
       "align_items": null,
       "align_self": null,
       "border": null,
       "bottom": null,
       "display": null,
       "flex": null,
       "flex_flow": null,
       "grid_area": null,
       "grid_auto_columns": null,
       "grid_auto_flow": null,
       "grid_auto_rows": null,
       "grid_column": null,
       "grid_gap": null,
       "grid_row": null,
       "grid_template_areas": null,
       "grid_template_columns": null,
       "grid_template_rows": null,
       "height": null,
       "justify_content": null,
       "justify_items": null,
       "left": null,
       "margin": null,
       "max_height": null,
       "max_width": null,
       "min_height": null,
       "min_width": null,
       "object_fit": null,
       "object_position": null,
       "order": null,
       "overflow": null,
       "overflow_x": null,
       "overflow_y": null,
       "padding": null,
       "right": null,
       "top": null,
       "visibility": null,
       "width": null
      }
     },
     "23c5a1d524834805b0da3cf07f944f1f": {
      "model_module": "@jupyter-widgets/controls",
      "model_module_version": "1.5.0",
      "model_name": "SliderStyleModel",
      "state": {
       "_model_module": "@jupyter-widgets/controls",
       "_model_module_version": "1.5.0",
       "_model_name": "SliderStyleModel",
       "_view_count": null,
       "_view_module": "@jupyter-widgets/base",
       "_view_module_version": "1.2.0",
       "_view_name": "StyleView",
       "description_width": "",
       "handle_color": null
      }
     },
     "260adfee5aa74267982a56c3b66259f8": {
      "model_module": "@jupyter-widgets/base",
      "model_module_version": "1.2.0",
      "model_name": "LayoutModel",
      "state": {
       "_model_module": "@jupyter-widgets/base",
       "_model_module_version": "1.2.0",
       "_model_name": "LayoutModel",
       "_view_count": null,
       "_view_module": "@jupyter-widgets/base",
       "_view_module_version": "1.2.0",
       "_view_name": "LayoutView",
       "align_content": null,
       "align_items": null,
       "align_self": null,
       "border": null,
       "bottom": null,
       "display": null,
       "flex": null,
       "flex_flow": null,
       "grid_area": null,
       "grid_auto_columns": null,
       "grid_auto_flow": null,
       "grid_auto_rows": null,
       "grid_column": null,
       "grid_gap": null,
       "grid_row": null,
       "grid_template_areas": null,
       "grid_template_columns": null,
       "grid_template_rows": null,
       "height": null,
       "justify_content": null,
       "justify_items": null,
       "left": null,
       "margin": null,
       "max_height": null,
       "max_width": null,
       "min_height": null,
       "min_width": null,
       "object_fit": null,
       "object_position": null,
       "order": null,
       "overflow": null,
       "overflow_x": null,
       "overflow_y": null,
       "padding": null,
       "right": null,
       "top": null,
       "visibility": null,
       "width": "34px"
      }
     },
     "283e425ddcd84d698cc5c6aa6632c659": {
      "model_module": "@jupyter-widgets/controls",
      "model_module_version": "1.5.0",
      "model_name": "LinkModel",
      "state": {
       "_model_module": "@jupyter-widgets/controls",
       "_model_module_version": "1.5.0",
       "_model_name": "LinkModel",
       "_view_count": null,
       "_view_module": "@jupyter-widgets/controls",
       "_view_module_version": "1.5.0",
       "_view_name": null,
       "source": [
        "IPY_MODEL_daad4855d90f41ea8d7076518665e724",
        "max"
       ],
       "target": [
        "IPY_MODEL_2eb3167caf424bfa8a829e101be1a6e3",
        "max_frame"
       ]
      }
     },
     "298b107fb2264149846066934a0ad218": {
      "model_module": "@jupyter-widgets/controls",
      "model_module_version": "1.5.0",
      "model_name": "ButtonStyleModel",
      "state": {
       "_model_module": "@jupyter-widgets/controls",
       "_model_module_version": "1.5.0",
       "_model_name": "ButtonStyleModel",
       "_view_count": null,
       "_view_module": "@jupyter-widgets/base",
       "_view_module_version": "1.2.0",
       "_view_name": "StyleView",
       "button_color": null,
       "font_weight": ""
      }
     },
     "2eb3167caf424bfa8a829e101be1a6e3": {
      "model_module": "nglview-js-widgets",
      "model_module_version": "3.0.1",
      "model_name": "NGLModel",
      "state": {
       "_camera_orientation": [],
       "_camera_str": "orthographic",
       "_dom_classes": [],
       "_gui_theme": null,
       "_ibtn_fullscreen": "IPY_MODEL_144b766967f14c2fa514a09e6658089e",
       "_igui": null,
       "_iplayer": "IPY_MODEL_547091ec4f8f4d4fa896aa1e768de37d",
       "_model_module": "nglview-js-widgets",
       "_model_module_version": "3.0.1",
       "_model_name": "NGLModel",
       "_ngl_color_dict": {},
       "_ngl_coordinate_resource": {},
       "_ngl_full_stage_parameters": {},
       "_ngl_msg_archive": [
        {
         "args": [
          {
           "binary": false,
           "data": "REMARK   1 CREATED WITH MDTraj 1.9.7, 2022-03-31\nCRYST1    0.000    0.000    0.000   0.00   0.00   0.00 P 1           1 \nMODEL        0\nATOM      1  H   VAL A   1      12.418  15.016  15.183  1.00  0.00      0    H  \nATOM      2  H2  VAL A   1      12.216  13.739  16.181  1.00  0.00      0    H  \nATOM      3  N   VAL A   1      11.962  14.133  15.298  1.00  0.00      0    N  \nATOM      4  H3  VAL A   1      10.971  14.262  15.266  1.00  0.00      0    H  \nATOM      5  CA  VAL A   1      12.373  13.224  14.219  1.00  0.00      0    C  \nATOM      6  CB  VAL A   1      11.161  12.687  13.454  1.00  0.00      0    C  \nATOM      7  CG1 VAL A   1      10.417  13.695  12.576  1.00  0.00      0    C  \nATOM      8  CG2 VAL A   1      11.578  11.481  12.611  1.00  0.00      0    C  \nATOM      9  C   VAL A   1      13.357  13.933  13.286  1.00  0.00      0    C  \nATOM     10  O   VAL A   1      14.478  13.442  13.166  1.00  0.00      0    O  \nATOM     11  N   TYR A   2      12.978  15.143  12.885  1.00  0.00      0    N  \nATOM     12  H   TYR A   2      12.106  15.515  13.203  1.00  0.00      0    H  \nATOM     13  CA  TYR A   2      13.818  15.944  11.983  1.00  0.00      0    C  \nATOM     14  CB  TYR A   2      13.208  17.313  11.677  1.00  0.00      0    C  \nATOM     15  CG  TYR A   2      13.167  18.287  12.855  1.00  0.00      0    C  \nATOM     16  CD1 TYR A   2      12.093  18.237  13.736  1.00  0.00      0    C  \nATOM     17  HD1 TYR A   2      11.303  17.498  13.603  1.00  0.00      0    H  \nATOM     18  CD2 TYR A   2      14.204  19.196  13.030  1.00  0.00      0    C  \nATOM     19  HD2 TYR A   2      15.050  19.201  12.343  1.00  0.00      0    H  \nATOM     20  CE1 TYR A   2      12.041  19.143  14.789  1.00  0.00      0    C  \nATOM     21  HE1 TYR A   2      11.203  19.127  15.486  1.00  0.00      0    H  \nATOM     22  CE2 TYR A   2      14.157  20.099  14.086  1.00  0.00      0    C  \nATOM     23  HE2 TYR A   2      14.962  20.818  14.237  1.00  0.00      0    H  \nATOM     24  CZ  TYR A   2      13.065  20.069  14.946  1.00  0.00      0    C  \nATOM     25  OH  TYR A   2      13.030  21.037  15.900  1.00  0.00      0    O  \nATOM     26  HH  TYR A   2      13.859  21.593  15.842  1.00  0.00      0    H  \nATOM     27  C   TYR A   2      15.179  16.177  12.642  1.00  0.00      0    C  \nATOM     28  O   TYR A   2      16.249  15.861  12.124  1.00  0.00      0    O  \nATOM     29  N   ARG A   3      15.144  16.571  13.911  1.00  0.00      0    N  \nATOM     30  H   ARG A   3      14.274  16.707  14.384  1.00  0.00      0    H  \nATOM     31  CA  ARG A   3      16.424  16.800  14.597  1.00  0.00      0    C  \nATOM     32  CB  ARG A   3      16.170  17.211  16.048  1.00  0.00      0    C  \nATOM     33  CG  ARG A   3      15.399  16.173  16.865  1.00  0.00      0    C  \nATOM     34  CD  ARG A   3      16.089  16.060  18.225  1.00  0.00      0    C  \nATOM     35  NE  ARG A   3      15.274  15.255  19.147  1.00  0.00      0    N  \nATOM     36  HE  ARG A   3      14.381  14.938  18.828  1.00  0.00      0    H  \nATOM     37  CZ  ARG A   3      15.653  14.920  20.388  1.00  0.00      0    C  \nATOM     38  NH1 ARG A   3      16.864  15.257  20.851  1.00  0.00      0    N  \nATOM     39 HH11 ARG A   3      17.134  15.000  21.779  1.00  0.00      0    H  \nATOM     40 HH12 ARG A   3      17.498  15.765  20.268  1.00  0.00      0    H  \nATOM     41  NH2 ARG A   3      14.852  14.186  21.172  1.00  0.00      0    N  \nATOM     42 HH21 ARG A   3      15.145  13.942  22.096  1.00  0.00      0    H  \nATOM     43 HH22 ARG A   3      13.962  13.883  20.833  1.00  0.00      0    H  \nATOM     44  C   ARG A   3      17.299  15.545  14.571  1.00  0.00      0    C  \nATOM     45  O   ARG A   3      18.454  15.595  14.150  1.00  0.00      0    O  \nATOM     46  N   LYS A   4      16.682  14.436  14.970  1.00  0.00      0    N  \nATOM     47  H   LYS A   4      15.719  14.479  15.236  1.00  0.00      0    H  \nATOM     48  CA  LYS A   4      17.388  13.148  15.027  1.00  0.00      0    C  \nATOM     49  CB  LYS A   4      16.465  11.968  15.338  1.00  0.00      0    C  \nATOM     50  CG  LYS A   4      15.723  12.130  16.667  1.00  0.00      0    C  \nATOM     51  CD  LYS A   4      14.971  10.821  16.914  1.00  0.00      0    C  \nATOM     52  CE  LYS A   4      13.965  10.972  18.056  1.00  0.00      0    C  \nATOM     53  NZ  LYS A   4      13.210   9.745  18.347  1.00  0.00      0    N  \nATOM     54  HZ1 LYS A   4      13.503   9.018  17.726  1.00  0.00      0    H  \nATOM     55  HZ2 LYS A   4      12.233   9.917  18.223  1.00  0.00      0    H  \nATOM     56  HZ3 LYS A   4      13.379   9.465  19.292  1.00  0.00      0    H  \nATOM     57  C   LYS A   4      17.983  12.876  13.644  1.00  0.00      0    C  \nATOM     58  O   LYS A   4      19.175  12.581  13.590  1.00  0.00      0    O  \nATOM     59  N   GLN A   5      17.161  12.936  12.600  1.00  0.00      0    N  \nATOM     60  H   GLN A   5      16.185  13.106  12.738  1.00  0.00      0    H  \nATOM     61  CA  GLN A   5      17.694  12.751  11.243  1.00  0.00      0    C  \nATOM     62  CB  GLN A   5      16.567  13.002  10.238  1.00  0.00      0    C  \nATOM     63  CG  GLN A   5      16.270  14.468   9.917  1.00  0.00      0    C  \nATOM     64  CD  GLN A   5      15.231  14.735   8.827  1.00  0.00      0    C  \nATOM     65  OE1 GLN A   5      15.015  13.909   7.942  1.00  0.00      0    O  \nATOM     66  NE2 GLN A   5      14.603  15.905   8.912  1.00  0.00      0    N  \nATOM     67 HE21 GLN A   5      13.910  16.151   8.235  1.00  0.00      0    H  \nATOM     68 HE22 GLN A   5      14.824  16.539   9.653  1.00  0.00      0    H  \nATOM     69  C   GLN A   5      18.929  13.599  10.933  1.00  0.00      0    C  \nATOM     70  O   GLN A   5      19.919  12.968  10.503  1.00  0.00      0    O  \nATOM     71  OXT GLN A   5      18.851  14.826  11.160  1.00  0.00      0    O  \nTER      72      GLN A   5\nENDMDL\nCONECT   57   59\nCONECT   59   57\nEND\n",
           "type": "blob"
          }
         ],
         "kwargs": {
          "defaultRepresentation": false,
          "ext": "pdb",
          "name": "nglview.adaptor.MDTrajTrajectory"
         },
         "methodName": "loadFile",
         "reconstruc_color_scheme": false,
         "target": "Stage",
         "type": "call_method"
        },
        {
         "args": [],
         "component_index": 0,
         "kwargs": {},
         "methodName": "removeAllRepresentations",
         "reconstruc_color_scheme": false,
         "target": "compList",
         "type": "call_method"
        },
        {
         "args": [
          "cartoon"
         ],
         "component_index": 0,
         "kwargs": {
          "color": "residueindex",
          "sele": "1 2 3 4 5"
         },
         "methodName": "addRepresentation",
         "reconstruc_color_scheme": false,
         "target": "compList",
         "type": "call_method"
        },
        {
         "args": [
          "cartoon"
         ],
         "component_index": 0,
         "kwargs": {
          "color": "residueindex",
          "sele": "ARG GLN VAL TYR LYS"
         },
         "methodName": "addRepresentation",
         "reconstruc_color_scheme": false,
         "target": "compList",
         "type": "call_method"
        },
        {
         "args": [
          "hyperball"
         ],
         "component_index": 0,
         "kwargs": {
          "sele": "ARG GLN VAL TYR LYS"
         },
         "methodName": "addRepresentation",
         "reconstruc_color_scheme": false,
         "target": "compList",
         "type": "call_method"
        }
       ],
       "_ngl_original_stage_parameters": {},
       "_ngl_repr_dict": {},
       "_ngl_serialize": false,
       "_ngl_version": "",
       "_ngl_view_id": [],
       "_player_dict": {},
       "_scene_position": {},
       "_scene_rotation": {},
       "_synced_model_ids": [],
       "_synced_repr_model_ids": [],
       "_view_count": null,
       "_view_height": "",
       "_view_module": "nglview-js-widgets",
       "_view_module_version": "3.0.1",
       "_view_name": "NGLView",
       "_view_width": "",
       "background": "white",
       "frame": 0,
       "gui_style": null,
       "layout": "IPY_MODEL_15247cab89fd4d8897986dd47440a3d0",
       "max_frame": 0,
       "n_components": 0,
       "picked": {}
      }
     },
     "3f309ae1f7374cd3b0ad61281ec45550": {
      "model_module": "@jupyter-widgets/base",
      "model_module_version": "1.2.0",
      "model_name": "LayoutModel",
      "state": {
       "_model_module": "@jupyter-widgets/base",
       "_model_module_version": "1.2.0",
       "_model_name": "LayoutModel",
       "_view_count": null,
       "_view_module": "@jupyter-widgets/base",
       "_view_module_version": "1.2.0",
       "_view_name": "LayoutView",
       "align_content": null,
       "align_items": null,
       "align_self": null,
       "border": null,
       "bottom": null,
       "display": null,
       "flex": null,
       "flex_flow": null,
       "grid_area": null,
       "grid_auto_columns": null,
       "grid_auto_flow": null,
       "grid_auto_rows": null,
       "grid_column": null,
       "grid_gap": null,
       "grid_row": null,
       "grid_template_areas": null,
       "grid_template_columns": null,
       "grid_template_rows": null,
       "height": null,
       "justify_content": null,
       "justify_items": null,
       "left": null,
       "margin": null,
       "max_height": null,
       "max_width": null,
       "min_height": null,
       "min_width": null,
       "object_fit": null,
       "object_position": null,
       "order": null,
       "overflow": null,
       "overflow_x": null,
       "overflow_y": null,
       "padding": null,
       "right": null,
       "top": null,
       "visibility": null,
       "width": null
      }
     },
     "4468d158ec8a4301b367447af7c99c39": {
      "model_module": "@jupyter-widgets/controls",
      "model_module_version": "1.5.0",
      "model_name": "LinkModel",
      "state": {
       "_model_module": "@jupyter-widgets/controls",
       "_model_module_version": "1.5.0",
       "_model_name": "LinkModel",
       "_view_count": null,
       "_view_module": "@jupyter-widgets/controls",
       "_view_module_version": "1.5.0",
       "_view_name": null,
       "source": [
        "IPY_MODEL_7206372c10e442238d8dfa7d2ebc9486",
        "value"
       ],
       "target": [
        "IPY_MODEL_ddfa8573606e4e0e9b14d29ea3130984",
        "frame"
       ]
      }
     },
     "5244dbb6ce4d4a03ba283134aa2d65bc": {
      "model_module": "@jupyter-widgets/controls",
      "model_module_version": "1.5.0",
      "model_name": "LinkModel",
      "state": {
       "_model_module": "@jupyter-widgets/controls",
       "_model_module_version": "1.5.0",
       "_model_name": "LinkModel",
       "_view_count": null,
       "_view_module": "@jupyter-widgets/controls",
       "_view_module_version": "1.5.0",
       "_view_name": null,
       "source": [
        "IPY_MODEL_94eb1535b76e44d68af83bc654b9edf6",
        "max"
       ],
       "target": [
        "IPY_MODEL_2eb3167caf424bfa8a829e101be1a6e3",
        "max_frame"
       ]
      }
     },
     "547091ec4f8f4d4fa896aa1e768de37d": {
      "model_module": "@jupyter-widgets/controls",
      "model_module_version": "1.5.0",
      "model_name": "HBoxModel",
      "state": {
       "_dom_classes": [],
       "_model_module": "@jupyter-widgets/controls",
       "_model_module_version": "1.5.0",
       "_model_name": "HBoxModel",
       "_view_count": null,
       "_view_module": "@jupyter-widgets/controls",
       "_view_module_version": "1.5.0",
       "_view_name": "HBoxView",
       "box_style": "",
       "children": [
        "IPY_MODEL_daad4855d90f41ea8d7076518665e724",
        "IPY_MODEL_94eb1535b76e44d68af83bc654b9edf6"
       ],
       "layout": "IPY_MODEL_d3a193bbf5e84947bd2899dc1ee994b0"
      }
     },
     "54ab859052254339bae2d50b2e387ff1": {
      "model_module": "@jupyter-widgets/base",
      "model_module_version": "1.2.0",
      "model_name": "LayoutModel",
      "state": {
       "_model_module": "@jupyter-widgets/base",
       "_model_module_version": "1.2.0",
       "_model_name": "LayoutModel",
       "_view_count": null,
       "_view_module": "@jupyter-widgets/base",
       "_view_module_version": "1.2.0",
       "_view_name": "LayoutView",
       "align_content": null,
       "align_items": null,
       "align_self": null,
       "border": null,
       "bottom": null,
       "display": null,
       "flex": null,
       "flex_flow": null,
       "grid_area": null,
       "grid_auto_columns": null,
       "grid_auto_flow": null,
       "grid_auto_rows": null,
       "grid_column": null,
       "grid_gap": null,
       "grid_row": null,
       "grid_template_areas": null,
       "grid_template_columns": null,
       "grid_template_rows": null,
       "height": null,
       "justify_content": null,
       "justify_items": null,
       "left": null,
       "margin": null,
       "max_height": null,
       "max_width": null,
       "min_height": null,
       "min_width": null,
       "object_fit": null,
       "object_position": null,
       "order": null,
       "overflow": null,
       "overflow_x": null,
       "overflow_y": null,
       "padding": null,
       "right": null,
       "top": null,
       "visibility": null,
       "width": null
      }
     },
     "6fa1c8bdc03a4781b663b89d99028431": {
      "model_module": "@jupyter-widgets/controls",
      "model_module_version": "1.5.0",
      "model_name": "ButtonModel",
      "state": {
       "_dom_classes": [],
       "_model_module": "@jupyter-widgets/controls",
       "_model_module_version": "1.5.0",
       "_model_name": "ButtonModel",
       "_view_count": null,
       "_view_module": "@jupyter-widgets/controls",
       "_view_module_version": "1.5.0",
       "_view_name": "ButtonView",
       "button_style": "",
       "description": "",
       "disabled": false,
       "icon": "compress",
       "layout": "IPY_MODEL_c90614f9ade040328c395095593911d7",
       "style": "IPY_MODEL_da295905be4f43919c4ccfb08debee36",
       "tooltip": ""
      }
     },
     "7206372c10e442238d8dfa7d2ebc9486": {
      "model_module": "@jupyter-widgets/controls",
      "model_module_version": "1.5.0",
      "model_name": "PlayModel",
      "state": {
       "_dom_classes": [],
       "_model_module": "@jupyter-widgets/controls",
       "_model_module_version": "1.5.0",
       "_model_name": "PlayModel",
       "_playing": false,
       "_repeat": false,
       "_view_count": null,
       "_view_module": "@jupyter-widgets/controls",
       "_view_module_version": "1.5.0",
       "_view_name": "PlayView",
       "description": "",
       "description_tooltip": null,
       "disabled": false,
       "interval": 100,
       "layout": "IPY_MODEL_54ab859052254339bae2d50b2e387ff1",
       "max": 0,
       "min": 0,
       "show_repeat": true,
       "step": 1,
       "style": "IPY_MODEL_b14adc6584b14074beac9e59167289f8",
       "value": 0
      }
     },
     "80c71eef5ff14c4a947ff225049a7ed1": {
      "model_module": "@jupyter-widgets/controls",
      "model_module_version": "1.5.0",
      "model_name": "IntSliderModel",
      "state": {
       "_dom_classes": [],
       "_model_module": "@jupyter-widgets/controls",
       "_model_module_version": "1.5.0",
       "_model_name": "IntSliderModel",
       "_view_count": null,
       "_view_module": "@jupyter-widgets/controls",
       "_view_module_version": "1.5.0",
       "_view_name": "IntSliderView",
       "continuous_update": true,
       "description": "",
       "description_tooltip": null,
       "disabled": false,
       "layout": "IPY_MODEL_e7bf6e20fddd4c98a27460cd40a3ce40",
       "max": 0,
       "min": 0,
       "orientation": "horizontal",
       "readout": true,
       "readout_format": "d",
       "step": 1,
       "style": "IPY_MODEL_23c5a1d524834805b0da3cf07f944f1f",
       "value": 0
      }
     },
     "8c2472f04f074010a332b298c65b8187": {
      "model_module": "@jupyter-widgets/controls",
      "model_module_version": "1.5.0",
      "model_name": "LinkModel",
      "state": {
       "_model_module": "@jupyter-widgets/controls",
       "_model_module_version": "1.5.0",
       "_model_name": "LinkModel",
       "_view_count": null,
       "_view_module": "@jupyter-widgets/controls",
       "_view_module_version": "1.5.0",
       "_view_name": null,
       "source": [
        "IPY_MODEL_7206372c10e442238d8dfa7d2ebc9486",
        "value"
       ],
       "target": [
        "IPY_MODEL_80c71eef5ff14c4a947ff225049a7ed1",
        "value"
       ]
      }
     },
     "94eb1535b76e44d68af83bc654b9edf6": {
      "model_module": "@jupyter-widgets/controls",
      "model_module_version": "1.5.0",
      "model_name": "IntSliderModel",
      "state": {
       "_dom_classes": [],
       "_model_module": "@jupyter-widgets/controls",
       "_model_module_version": "1.5.0",
       "_model_name": "IntSliderModel",
       "_view_count": null,
       "_view_module": "@jupyter-widgets/controls",
       "_view_module_version": "1.5.0",
       "_view_name": "IntSliderView",
       "continuous_update": true,
       "description": "",
       "description_tooltip": null,
       "disabled": false,
       "layout": "IPY_MODEL_9ee67891b09f4664a3dae2cac00de2e8",
       "max": 0,
       "min": 0,
       "orientation": "horizontal",
       "readout": true,
       "readout_format": "d",
       "step": 1,
       "style": "IPY_MODEL_b5463a8c697042b986483dc7865c9573",
       "value": 0
      }
     },
     "9576726f4016427d89c0ae3cdeac10be": {
      "buffers": [
       {
        "data": "",
        "encoding": "base64",
        "path": [
         "value"
        ]
       }
      ],
      "model_module": "@jupyter-widgets/controls",
      "model_module_version": "1.5.0",
      "model_name": "ImageModel",
      "state": {
       "_dom_classes": [],
       "_model_module": "@jupyter-widgets/controls",
       "_model_module_version": "1.5.0",
       "_model_name": "ImageModel",
       "_view_count": null,
       "_view_module": "@jupyter-widgets/controls",
       "_view_module_version": "1.5.0",
       "_view_name": "ImageView",
       "format": "png",
       "height": "",
       "layout": "IPY_MODEL_97369831b3374f5c8149583ed02e0916",
       "width": "900.0"
      }
     },
     "97369831b3374f5c8149583ed02e0916": {
      "model_module": "@jupyter-widgets/base",
      "model_module_version": "1.2.0",
      "model_name": "LayoutModel",
      "state": {
       "_model_module": "@jupyter-widgets/base",
       "_model_module_version": "1.2.0",
       "_model_name": "LayoutModel",
       "_view_count": null,
       "_view_module": "@jupyter-widgets/base",
       "_view_module_version": "1.2.0",
       "_view_name": "LayoutView",
       "align_content": null,
       "align_items": null,
       "align_self": null,
       "border": null,
       "bottom": null,
       "display": null,
       "flex": null,
       "flex_flow": null,
       "grid_area": null,
       "grid_auto_columns": null,
       "grid_auto_flow": null,
       "grid_auto_rows": null,
       "grid_column": null,
       "grid_gap": null,
       "grid_row": null,
       "grid_template_areas": null,
       "grid_template_columns": null,
       "grid_template_rows": null,
       "height": null,
       "justify_content": null,
       "justify_items": null,
       "left": null,
       "margin": null,
       "max_height": null,
       "max_width": null,
       "min_height": null,
       "min_width": null,
       "object_fit": null,
       "object_position": null,
       "order": null,
       "overflow": null,
       "overflow_x": null,
       "overflow_y": null,
       "padding": null,
       "right": null,
       "top": null,
       "visibility": null,
       "width": null
      }
     },
     "9ee67891b09f4664a3dae2cac00de2e8": {
      "model_module": "@jupyter-widgets/base",
      "model_module_version": "1.2.0",
      "model_name": "LayoutModel",
      "state": {
       "_model_module": "@jupyter-widgets/base",
       "_model_module_version": "1.2.0",
       "_model_name": "LayoutModel",
       "_view_count": null,
       "_view_module": "@jupyter-widgets/base",
       "_view_module_version": "1.2.0",
       "_view_name": "LayoutView",
       "align_content": null,
       "align_items": null,
       "align_self": null,
       "border": null,
       "bottom": null,
       "display": null,
       "flex": null,
       "flex_flow": null,
       "grid_area": null,
       "grid_auto_columns": null,
       "grid_auto_flow": null,
       "grid_auto_rows": null,
       "grid_column": null,
       "grid_gap": null,
       "grid_row": null,
       "grid_template_areas": null,
       "grid_template_columns": null,
       "grid_template_rows": null,
       "height": null,
       "justify_content": null,
       "justify_items": null,
       "left": null,
       "margin": null,
       "max_height": null,
       "max_width": null,
       "min_height": null,
       "min_width": null,
       "object_fit": null,
       "object_position": null,
       "order": null,
       "overflow": null,
       "overflow_x": null,
       "overflow_y": null,
       "padding": null,
       "right": null,
       "top": null,
       "visibility": null,
       "width": null
      }
     },
     "a98c0b92870548d1acbf28400fb92495": {
      "model_module": "@jupyter-widgets/controls",
      "model_module_version": "1.5.0",
      "model_name": "LinkModel",
      "state": {
       "_model_module": "@jupyter-widgets/controls",
       "_model_module_version": "1.5.0",
       "_model_name": "LinkModel",
       "_view_count": null,
       "_view_module": "@jupyter-widgets/controls",
       "_view_module_version": "1.5.0",
       "_view_name": null,
       "source": [
        "IPY_MODEL_80c71eef5ff14c4a947ff225049a7ed1",
        "max"
       ],
       "target": [
        "IPY_MODEL_ddfa8573606e4e0e9b14d29ea3130984",
        "max_frame"
       ]
      }
     },
     "ab38310ee0a2418b940080d9fd70f7ba": {
      "model_module": "@jupyter-widgets/controls",
      "model_module_version": "1.5.0",
      "model_name": "HBoxModel",
      "state": {
       "_dom_classes": [],
       "_model_module": "@jupyter-widgets/controls",
       "_model_module_version": "1.5.0",
       "_model_name": "HBoxModel",
       "_view_count": null,
       "_view_module": "@jupyter-widgets/controls",
       "_view_module_version": "1.5.0",
       "_view_name": "HBoxView",
       "box_style": "",
       "children": [
        "IPY_MODEL_7206372c10e442238d8dfa7d2ebc9486",
        "IPY_MODEL_80c71eef5ff14c4a947ff225049a7ed1"
       ],
       "layout": "IPY_MODEL_054e6cc74f4d4447bd07340495460839"
      }
     },
     "b14adc6584b14074beac9e59167289f8": {
      "model_module": "@jupyter-widgets/controls",
      "model_module_version": "1.5.0",
      "model_name": "DescriptionStyleModel",
      "state": {
       "_model_module": "@jupyter-widgets/controls",
       "_model_module_version": "1.5.0",
       "_model_name": "DescriptionStyleModel",
       "_view_count": null,
       "_view_module": "@jupyter-widgets/base",
       "_view_module_version": "1.2.0",
       "_view_name": "StyleView",
       "description_width": ""
      }
     },
     "b5463a8c697042b986483dc7865c9573": {
      "model_module": "@jupyter-widgets/controls",
      "model_module_version": "1.5.0",
      "model_name": "SliderStyleModel",
      "state": {
       "_model_module": "@jupyter-widgets/controls",
       "_model_module_version": "1.5.0",
       "_model_name": "SliderStyleModel",
       "_view_count": null,
       "_view_module": "@jupyter-widgets/base",
       "_view_module_version": "1.2.0",
       "_view_name": "StyleView",
       "description_width": "",
       "handle_color": null
      }
     },
     "c90614f9ade040328c395095593911d7": {
      "model_module": "@jupyter-widgets/base",
      "model_module_version": "1.2.0",
      "model_name": "LayoutModel",
      "state": {
       "_model_module": "@jupyter-widgets/base",
       "_model_module_version": "1.2.0",
       "_model_name": "LayoutModel",
       "_view_count": null,
       "_view_module": "@jupyter-widgets/base",
       "_view_module_version": "1.2.0",
       "_view_name": "LayoutView",
       "align_content": null,
       "align_items": null,
       "align_self": null,
       "border": null,
       "bottom": null,
       "display": null,
       "flex": null,
       "flex_flow": null,
       "grid_area": null,
       "grid_auto_columns": null,
       "grid_auto_flow": null,
       "grid_auto_rows": null,
       "grid_column": null,
       "grid_gap": null,
       "grid_row": null,
       "grid_template_areas": null,
       "grid_template_columns": null,
       "grid_template_rows": null,
       "height": null,
       "justify_content": null,
       "justify_items": null,
       "left": null,
       "margin": null,
       "max_height": null,
       "max_width": null,
       "min_height": null,
       "min_width": null,
       "object_fit": null,
       "object_position": null,
       "order": null,
       "overflow": null,
       "overflow_x": null,
       "overflow_y": null,
       "padding": null,
       "right": null,
       "top": null,
       "visibility": null,
       "width": "34px"
      }
     },
     "d3a193bbf5e84947bd2899dc1ee994b0": {
      "model_module": "@jupyter-widgets/base",
      "model_module_version": "1.2.0",
      "model_name": "LayoutModel",
      "state": {
       "_model_module": "@jupyter-widgets/base",
       "_model_module_version": "1.2.0",
       "_model_name": "LayoutModel",
       "_view_count": null,
       "_view_module": "@jupyter-widgets/base",
       "_view_module_version": "1.2.0",
       "_view_name": "LayoutView",
       "align_content": null,
       "align_items": null,
       "align_self": null,
       "border": null,
       "bottom": null,
       "display": null,
       "flex": null,
       "flex_flow": null,
       "grid_area": null,
       "grid_auto_columns": null,
       "grid_auto_flow": null,
       "grid_auto_rows": null,
       "grid_column": null,
       "grid_gap": null,
       "grid_row": null,
       "grid_template_areas": null,
       "grid_template_columns": null,
       "grid_template_rows": null,
       "height": null,
       "justify_content": null,
       "justify_items": null,
       "left": null,
       "margin": null,
       "max_height": null,
       "max_width": null,
       "min_height": null,
       "min_width": null,
       "object_fit": null,
       "object_position": null,
       "order": null,
       "overflow": null,
       "overflow_x": null,
       "overflow_y": null,
       "padding": null,
       "right": null,
       "top": null,
       "visibility": null,
       "width": null
      }
     },
     "da295905be4f43919c4ccfb08debee36": {
      "model_module": "@jupyter-widgets/controls",
      "model_module_version": "1.5.0",
      "model_name": "ButtonStyleModel",
      "state": {
       "_model_module": "@jupyter-widgets/controls",
       "_model_module_version": "1.5.0",
       "_model_name": "ButtonStyleModel",
       "_view_count": null,
       "_view_module": "@jupyter-widgets/base",
       "_view_module_version": "1.2.0",
       "_view_name": "StyleView",
       "button_color": null,
       "font_weight": ""
      }
     },
     "daad4855d90f41ea8d7076518665e724": {
      "model_module": "@jupyter-widgets/controls",
      "model_module_version": "1.5.0",
      "model_name": "PlayModel",
      "state": {
       "_dom_classes": [],
       "_model_module": "@jupyter-widgets/controls",
       "_model_module_version": "1.5.0",
       "_model_name": "PlayModel",
       "_playing": false,
       "_repeat": false,
       "_view_count": null,
       "_view_module": "@jupyter-widgets/controls",
       "_view_module_version": "1.5.0",
       "_view_name": "PlayView",
       "description": "",
       "description_tooltip": null,
       "disabled": false,
       "interval": 100,
       "layout": "IPY_MODEL_e16efc55438142cb9802b35b7348f1e5",
       "max": 0,
       "min": 0,
       "show_repeat": true,
       "step": 1,
       "style": "IPY_MODEL_094574451ab74a0fb038b53384a80aaf",
       "value": 0
      }
     },
     "ddfa8573606e4e0e9b14d29ea3130984": {
      "model_module": "nglview-js-widgets",
      "model_module_version": "3.0.1",
      "model_name": "NGLModel",
      "state": {
       "_camera_orientation": [],
       "_camera_str": "orthographic",
       "_dom_classes": [],
       "_gui_theme": null,
       "_ibtn_fullscreen": "IPY_MODEL_6fa1c8bdc03a4781b663b89d99028431",
       "_igui": null,
       "_iplayer": "IPY_MODEL_ab38310ee0a2418b940080d9fd70f7ba",
       "_model_module": "nglview-js-widgets",
       "_model_module_version": "3.0.1",
       "_model_name": "NGLModel",
       "_ngl_color_dict": {},
       "_ngl_coordinate_resource": {},
       "_ngl_full_stage_parameters": {},
       "_ngl_msg_archive": [
        {
         "args": [
          {
           "binary": false,
           "data": "REMARK   1 CREATED WITH MDTraj 1.9.7, 2022-03-31\nCRYST1    0.000    0.000    0.000   0.00   0.00   0.00 P 1           1 \nMODEL        0\nATOM      1  H   VAL A   1       0.000   0.000   0.000  1.00  0.00      0    H  \nATOM      2  H2  VAL A   1       0.000   0.000   0.000  1.00  0.00      0    H  \nATOM      3  N   VAL A   1      11.962  14.133  15.298  1.00  0.00      0    N  \nATOM      4  H3  VAL A   1       0.000   0.000   0.000  1.00  0.00      0    H  \nATOM      5  CA  VAL A   1      12.373  13.224  14.219  1.00  0.00      0    C  \nATOM      6  CB  VAL A   1      11.161  12.687  13.454  1.00  0.00      0    C  \nATOM      7  CG1 VAL A   1      10.417  13.695  12.576  1.00  0.00      0    C  \nATOM      8  CG2 VAL A   1      11.578  11.481  12.611  1.00  0.00      0    C  \nATOM      9  C   VAL A   1      13.357  13.933  13.286  1.00  0.00      0    C  \nATOM     10  O   VAL A   1      14.478  13.442  13.166  1.00  0.00      0    O  \nATOM     11  N   TYR A   2      12.978  15.143  12.885  1.00  0.00      0    N  \nATOM     12  H   TYR A   2       0.000   0.000   0.000  1.00  0.00      0    H  \nATOM     13  CA  TYR A   2      13.818  15.944  11.983  1.00  0.00      0    C  \nATOM     14  CB  TYR A   2      13.208  17.313  11.677  1.00  0.00      0    C  \nATOM     15  CG  TYR A   2      13.167  18.287  12.855  1.00  0.00      0    C  \nATOM     16  CD1 TYR A   2      12.093  18.237  13.736  1.00  0.00      0    C  \nATOM     17  HD1 TYR A   2       0.000   0.000   0.000  1.00  0.00      0    H  \nATOM     18  CD2 TYR A   2      14.204  19.196  13.030  1.00  0.00      0    C  \nATOM     19  HD2 TYR A   2       0.000   0.000   0.000  1.00  0.00      0    H  \nATOM     20  CE1 TYR A   2      12.041  19.143  14.789  1.00  0.00      0    C  \nATOM     21  HE1 TYR A   2       0.000   0.000   0.000  1.00  0.00      0    H  \nATOM     22  CE2 TYR A   2      14.157  20.099  14.086  1.00  0.00      0    C  \nATOM     23  HE2 TYR A   2       0.000   0.000   0.000  1.00  0.00      0    H  \nATOM     24  CZ  TYR A   2      13.065  20.069  14.946  1.00  0.00      0    C  \nATOM     25  OH  TYR A   2      13.030  21.037  15.900  1.00  0.00      0    O  \nATOM     26  HH  TYR A   2       0.000   0.000   0.000  1.00  0.00      0    H  \nATOM     27  C   TYR A   2      15.179  16.177  12.642  1.00  0.00      0    C  \nATOM     28  O   TYR A   2      16.249  15.861  12.124  1.00  0.00      0    O  \nATOM     29  N   ARG A   3      15.144  16.571  13.911  1.00  0.00      0    N  \nATOM     30  H   ARG A   3       0.000   0.000   0.000  1.00  0.00      0    H  \nATOM     31  CA  ARG A   3      16.424  16.800  14.597  1.00  0.00      0    C  \nATOM     32  CB  ARG A   3      16.170  17.211  16.048  1.00  0.00      0    C  \nATOM     33  CG  ARG A   3      15.399  16.173  16.865  1.00  0.00      0    C  \nATOM     34  CD  ARG A   3      16.089  16.060  18.225  1.00  0.00      0    C  \nATOM     35  NE  ARG A   3      15.274  15.255  19.147  1.00  0.00      0    N  \nATOM     36  HE  ARG A   3       0.000   0.000   0.000  1.00  0.00      0    H  \nATOM     37  CZ  ARG A   3      15.653  14.920  20.388  1.00  0.00      0    C  \nATOM     38  NH1 ARG A   3      16.864  15.257  20.851  1.00  0.00      0    N  \nATOM     39 HH11 ARG A   3       0.000   0.000   0.000  1.00  0.00      0    H  \nATOM     40 HH12 ARG A   3       0.000   0.000   0.000  1.00  0.00      0    H  \nATOM     41  NH2 ARG A   3      14.852  14.186  21.172  1.00  0.00      0    N  \nATOM     42 HH21 ARG A   3       0.000   0.000   0.000  1.00  0.00      0    H  \nATOM     43 HH22 ARG A   3       0.000   0.000   0.000  1.00  0.00      0    H  \nATOM     44  C   ARG A   3      17.299  15.545  14.571  1.00  0.00      0    C  \nATOM     45  O   ARG A   3      18.454  15.595  14.150  1.00  0.00      0    O  \nATOM     46  N   LYS A   4      16.682  14.436  14.970  1.00  0.00      0    N  \nATOM     47  H   LYS A   4       0.000   0.000   0.000  1.00  0.00      0    H  \nATOM     48  CA  LYS A   4      17.388  13.148  15.027  1.00  0.00      0    C  \nATOM     49  CB  LYS A   4      16.465  11.968  15.338  1.00  0.00      0    C  \nATOM     50  CG  LYS A   4      15.723  12.130  16.667  1.00  0.00      0    C  \nATOM     51  CD  LYS A   4      14.971  10.821  16.914  1.00  0.00      0    C  \nATOM     52  CE  LYS A   4      13.965  10.972  18.056  1.00  0.00      0    C  \nATOM     53  NZ  LYS A   4      13.210   9.745  18.347  1.00  0.00      0    N  \nATOM     54  HZ1 LYS A   4       0.000   0.000   0.000  1.00  0.00      0    H  \nATOM     55  HZ2 LYS A   4       0.000   0.000   0.000  1.00  0.00      0    H  \nATOM     56  HZ3 LYS A   4       0.000   0.000   0.000  1.00  0.00      0    H  \nATOM     57  C   LYS A   4      17.983  12.876  13.644  1.00  0.00      0    C  \nATOM     58  O   LYS A   4      19.175  12.581  13.590  1.00  0.00      0    O  \nATOM     59  N   GLN A   5      17.161  12.936  12.600  1.00  0.00      0    N  \nATOM     60  H   GLN A   5       0.000   0.000   0.000  1.00  0.00      0    H  \nATOM     61  CA  GLN A   5      17.694  12.751  11.243  1.00  0.00      0    C  \nATOM     62  CB  GLN A   5      16.567  13.002  10.238  1.00  0.00      0    C  \nATOM     63  CG  GLN A   5      16.270  14.468   9.917  1.00  0.00      0    C  \nATOM     64  CD  GLN A   5      15.231  14.735   8.827  1.00  0.00      0    C  \nATOM     65  OE1 GLN A   5      15.015  13.909   7.942  1.00  0.00      0    O  \nATOM     66  NE2 GLN A   5      14.603  15.905   8.912  1.00  0.00      0    N  \nATOM     67 HE21 GLN A   5       0.000   0.000   0.000  1.00  0.00      0    H  \nATOM     68 HE22 GLN A   5       0.000   0.000   0.000  1.00  0.00      0    H  \nATOM     69  C   GLN A   5      18.929  13.599  10.933  1.00  0.00      0    C  \nATOM     70  O   GLN A   5      19.919  12.968  10.503  1.00  0.00      0    O  \nATOM     71  OXT GLN A   5      18.851  14.826  11.160  1.00  0.00      0    O  \nTER      72      GLN A   5\nENDMDL\nCONECT   57   59\nCONECT   59   57\nEND\n",
           "type": "blob"
          }
         ],
         "kwargs": {
          "defaultRepresentation": false,
          "ext": "pdb",
          "name": "nglview.adaptor.MDTrajTrajectory"
         },
         "methodName": "loadFile",
         "reconstruc_color_scheme": false,
         "target": "Stage",
         "type": "call_method"
        },
        {
         "args": [],
         "component_index": 0,
         "kwargs": {},
         "methodName": "removeAllRepresentations",
         "reconstruc_color_scheme": false,
         "target": "compList",
         "type": "call_method"
        },
        {
         "args": [
          "cartoon"
         ],
         "component_index": 0,
         "kwargs": {
          "color": "residueindex",
          "sele": "1 2 3 4 5"
         },
         "methodName": "addRepresentation",
         "reconstruc_color_scheme": false,
         "target": "compList",
         "type": "call_method"
        },
        {
         "args": [
          "cartoon"
         ],
         "component_index": 0,
         "kwargs": {
          "color": "residueindex",
          "sele": "ARG GLN VAL TYR LYS"
         },
         "methodName": "addRepresentation",
         "reconstruc_color_scheme": false,
         "target": "compList",
         "type": "call_method"
        },
        {
         "args": [
          "hyperball"
         ],
         "component_index": 0,
         "kwargs": {
          "sele": "ARG GLN VAL TYR LYS"
         },
         "methodName": "addRepresentation",
         "reconstruc_color_scheme": false,
         "target": "compList",
         "type": "call_method"
        }
       ],
       "_ngl_original_stage_parameters": {},
       "_ngl_repr_dict": {},
       "_ngl_serialize": false,
       "_ngl_version": "",
       "_ngl_view_id": [],
       "_player_dict": {},
       "_scene_position": {},
       "_scene_rotation": {},
       "_synced_model_ids": [],
       "_synced_repr_model_ids": [],
       "_view_count": null,
       "_view_height": "",
       "_view_module": "nglview-js-widgets",
       "_view_module_version": "3.0.1",
       "_view_name": "NGLView",
       "_view_width": "",
       "background": "white",
       "frame": 0,
       "gui_style": null,
       "layout": "IPY_MODEL_e6bd327f1914475fa07705522900407c",
       "max_frame": 0,
       "n_components": 0,
       "picked": {}
      }
     },
     "e16efc55438142cb9802b35b7348f1e5": {
      "model_module": "@jupyter-widgets/base",
      "model_module_version": "1.2.0",
      "model_name": "LayoutModel",
      "state": {
       "_model_module": "@jupyter-widgets/base",
       "_model_module_version": "1.2.0",
       "_model_name": "LayoutModel",
       "_view_count": null,
       "_view_module": "@jupyter-widgets/base",
       "_view_module_version": "1.2.0",
       "_view_name": "LayoutView",
       "align_content": null,
       "align_items": null,
       "align_self": null,
       "border": null,
       "bottom": null,
       "display": null,
       "flex": null,
       "flex_flow": null,
       "grid_area": null,
       "grid_auto_columns": null,
       "grid_auto_flow": null,
       "grid_auto_rows": null,
       "grid_column": null,
       "grid_gap": null,
       "grid_row": null,
       "grid_template_areas": null,
       "grid_template_columns": null,
       "grid_template_rows": null,
       "height": null,
       "justify_content": null,
       "justify_items": null,
       "left": null,
       "margin": null,
       "max_height": null,
       "max_width": null,
       "min_height": null,
       "min_width": null,
       "object_fit": null,
       "object_position": null,
       "order": null,
       "overflow": null,
       "overflow_x": null,
       "overflow_y": null,
       "padding": null,
       "right": null,
       "top": null,
       "visibility": null,
       "width": null
      }
     },
     "e204a385cd4e49b5af84af4112792f62": {
      "buffers": [
       {
        "data": "",
        "encoding": "base64",
        "path": [
         "value"
        ]
       }
      ],
      "model_module": "@jupyter-widgets/controls",
      "model_module_version": "1.5.0",
      "model_name": "ImageModel",
      "state": {
       "_dom_classes": [],
       "_model_module": "@jupyter-widgets/controls",
       "_model_module_version": "1.5.0",
       "_model_name": "ImageModel",
       "_view_count": null,
       "_view_module": "@jupyter-widgets/controls",
       "_view_module_version": "1.5.0",
       "_view_name": "ImageView",
       "format": "png",
       "height": "",
       "layout": "IPY_MODEL_3f309ae1f7374cd3b0ad61281ec45550",
       "width": "900.0"
      }
     },
     "e32e17de44044227bdeb01d2c00a4c05": {
      "model_module": "@jupyter-widgets/controls",
      "model_module_version": "1.5.0",
      "model_name": "LinkModel",
      "state": {
       "_model_module": "@jupyter-widgets/controls",
       "_model_module_version": "1.5.0",
       "_model_name": "LinkModel",
       "_view_count": null,
       "_view_module": "@jupyter-widgets/controls",
       "_view_module_version": "1.5.0",
       "_view_name": null,
       "source": [
        "IPY_MODEL_daad4855d90f41ea8d7076518665e724",
        "value"
       ],
       "target": [
        "IPY_MODEL_94eb1535b76e44d68af83bc654b9edf6",
        "value"
       ]
      }
     },
     "e6bd327f1914475fa07705522900407c": {
      "model_module": "@jupyter-widgets/base",
      "model_module_version": "1.2.0",
      "model_name": "LayoutModel",
      "state": {
       "_model_module": "@jupyter-widgets/base",
       "_model_module_version": "1.2.0",
       "_model_name": "LayoutModel",
       "_view_count": null,
       "_view_module": "@jupyter-widgets/base",
       "_view_module_version": "1.2.0",
       "_view_name": "LayoutView",
       "align_content": null,
       "align_items": null,
       "align_self": null,
       "border": null,
       "bottom": null,
       "display": null,
       "flex": null,
       "flex_flow": null,
       "grid_area": null,
       "grid_auto_columns": null,
       "grid_auto_flow": null,
       "grid_auto_rows": null,
       "grid_column": null,
       "grid_gap": null,
       "grid_row": null,
       "grid_template_areas": null,
       "grid_template_columns": null,
       "grid_template_rows": null,
       "height": null,
       "justify_content": null,
       "justify_items": null,
       "left": null,
       "margin": null,
       "max_height": null,
       "max_width": null,
       "min_height": null,
       "min_width": null,
       "object_fit": null,
       "object_position": null,
       "order": null,
       "overflow": null,
       "overflow_x": null,
       "overflow_y": null,
       "padding": null,
       "right": null,
       "top": null,
       "visibility": null,
       "width": null
      }
     },
     "e7bf6e20fddd4c98a27460cd40a3ce40": {
      "model_module": "@jupyter-widgets/base",
      "model_module_version": "1.2.0",
      "model_name": "LayoutModel",
      "state": {
       "_model_module": "@jupyter-widgets/base",
       "_model_module_version": "1.2.0",
       "_model_name": "LayoutModel",
       "_view_count": null,
       "_view_module": "@jupyter-widgets/base",
       "_view_module_version": "1.2.0",
       "_view_name": "LayoutView",
       "align_content": null,
       "align_items": null,
       "align_self": null,
       "border": null,
       "bottom": null,
       "display": null,
       "flex": null,
       "flex_flow": null,
       "grid_area": null,
       "grid_auto_columns": null,
       "grid_auto_flow": null,
       "grid_auto_rows": null,
       "grid_column": null,
       "grid_gap": null,
       "grid_row": null,
       "grid_template_areas": null,
       "grid_template_columns": null,
       "grid_template_rows": null,
       "height": null,
       "justify_content": null,
       "justify_items": null,
       "left": null,
       "margin": null,
       "max_height": null,
       "max_width": null,
       "min_height": null,
       "min_width": null,
       "object_fit": null,
       "object_position": null,
       "order": null,
       "overflow": null,
       "overflow_x": null,
       "overflow_y": null,
       "padding": null,
       "right": null,
       "top": null,
       "visibility": null,
       "width": null
      }
     },
     "ed65091ade3d480382ca87827eaeb65b": {
      "model_module": "@jupyter-widgets/controls",
      "model_module_version": "1.5.0",
      "model_name": "LinkModel",
      "state": {
       "_model_module": "@jupyter-widgets/controls",
       "_model_module_version": "1.5.0",
       "_model_name": "LinkModel",
       "_view_count": null,
       "_view_module": "@jupyter-widgets/controls",
       "_view_module_version": "1.5.0",
       "_view_name": null,
       "source": [
        "IPY_MODEL_7206372c10e442238d8dfa7d2ebc9486",
        "max"
       ],
       "target": [
        "IPY_MODEL_ddfa8573606e4e0e9b14d29ea3130984",
        "max_frame"
       ]
      }
     },
     "ee5827c81d084d65b1fb668cf06b574b": {
      "model_module": "@jupyter-widgets/controls",
      "model_module_version": "1.5.0",
      "model_name": "LinkModel",
      "state": {
       "_model_module": "@jupyter-widgets/controls",
       "_model_module_version": "1.5.0",
       "_model_name": "LinkModel",
       "_view_count": null,
       "_view_module": "@jupyter-widgets/controls",
       "_view_module_version": "1.5.0",
       "_view_name": null,
       "source": [
        "IPY_MODEL_daad4855d90f41ea8d7076518665e724",
        "value"
       ],
       "target": [
        "IPY_MODEL_2eb3167caf424bfa8a829e101be1a6e3",
        "frame"
       ]
      }
     },
     "ef5b63ac2221400eb26f5a757ddeb918": {
      "model_module": "@jupyter-widgets/base",
      "model_module_version": "1.2.0",
      "model_name": "LayoutModel",
      "state": {
       "_model_module": "@jupyter-widgets/base",
       "_model_module_version": "1.2.0",
       "_model_name": "LayoutModel",
       "_view_count": null,
       "_view_module": "@jupyter-widgets/base",
       "_view_module_version": "1.2.0",
       "_view_name": "LayoutView",
       "align_content": null,
       "align_items": null,
       "align_self": null,
       "border": null,
       "bottom": null,
       "display": null,
       "flex": null,
       "flex_flow": null,
       "grid_area": null,
       "grid_auto_columns": null,
       "grid_auto_flow": null,
       "grid_auto_rows": null,
       "grid_column": null,
       "grid_gap": null,
       "grid_row": null,
       "grid_template_areas": null,
       "grid_template_columns": null,
       "grid_template_rows": null,
       "height": null,
       "justify_content": null,
       "justify_items": null,
       "left": null,
       "margin": null,
       "max_height": null,
       "max_width": null,
       "min_height": null,
       "min_width": null,
       "object_fit": null,
       "object_position": null,
       "order": null,
       "overflow": null,
       "overflow_x": null,
       "overflow_y": null,
       "padding": null,
       "right": null,
       "top": null,
       "visibility": null,
       "width": null
      }
     }
    },
    "version_major": 2,
    "version_minor": 0
   }
  }
 },
 "nbformat": 4,
 "nbformat_minor": 4
}
